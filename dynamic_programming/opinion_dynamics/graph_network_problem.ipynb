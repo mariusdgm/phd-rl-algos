{
 "cells": [
  {
   "cell_type": "code",
   "execution_count": 4,
   "metadata": {},
   "outputs": [
    {
     "data": {
      "text/plain": [
       "array([0.        , 0.07142857, 0.14285714, 0.21428571, 0.28571429,\n",
       "       0.35714286, 0.42857143, 0.5       , 0.57142857, 0.64285714,\n",
       "       0.71428571, 0.78571429, 0.85714286, 0.92857143, 1.        ])"
      ]
     },
     "execution_count": 4,
     "metadata": {},
     "output_type": "execute_result"
    }
   ],
   "source": [
    "import numpy as np\n",
    "from rl_envs_forge.envs.network_graph.network_graph import NetworkGraph\n",
    "\n",
    "connectivity_matrix = np.array(\n",
    "    [\n",
    "        # 1  2  3  4  5  6  7  8  9 10 11 12 13 14 15\n",
    "        [0, 0, 1, 0, 1, 1, 1, 0, 0, 0, 0, 0, 0, 0, 0],  # 1\n",
    "        [0, 0, 0, 1, 0, 0, 0, 0, 1, 0, 0, 0, 0, 0, 0],  # 2\n",
    "        [1, 1, 0, 0, 0, 0, 0, 0, 0, 0, 0, 0, 0, 0, 0],  # 3\n",
    "        [1, 0, 0, 0, 0, 0, 0, 0, 0, 0, 0, 0, 0, 0, 0],  # 4\n",
    "        [1, 0, 0, 0, 0, 1, 0, 0, 0, 0, 0, 0, 0, 0, 0],  # 5\n",
    "        [0, 0, 0, 0, 1, 0, 0, 0, 0, 0, 1, 0, 0, 0, 0],  # 6\n",
    "        [0, 0, 0, 0, 1, 0, 0, 0, 0, 1, 0, 1, 0, 0, 0],  # 7\n",
    "        [0, 0, 0, 0, 0, 1, 0, 0, 1, 0, 0, 0, 0, 0, 0],  # 8\n",
    "        [0, 1, 0, 0, 0, 0, 0, 0, 0, 0, 0, 0, 0, 0, 0],  # 9\n",
    "        [0, 0, 0, 0, 0, 0, 1, 0, 0, 0, 0, 0, 1, 0, 0],  # 10\n",
    "        [0, 0, 0, 0, 0, 1, 0, 1, 0, 0, 0, 0, 0, 1, 0],  # 11\n",
    "        [0, 0, 0, 0, 0, 1, 1, 0, 0, 0, 0, 0, 0, 0, 1],  # 12\n",
    "        [0, 0, 0, 0, 0, 0, 0, 0, 1, 0, 0, 0, 0, 0, 0],  # 13\n",
    "        [0, 0, 0, 0, 0, 1, 0, 0, 0, 0, 0, 1, 0, 0, 0],  # 14\n",
    "        [0, 0, 0, 0, 0, 1, 0, 0, 0, 0, 0, 1, 0, 0, 0],  # 15\n",
    "    ]\n",
    ")\n",
    "\n",
    "desired_centrality = np.array(\n",
    "    [0.08, # 1\n",
    "    0.06, # 2\n",
    "    0.14, # 3\n",
    "    0.08, # 4\n",
    "    0.04, # 5\n",
    "    0.02, # 6\n",
    "    0.06, # 7\n",
    "    0.03, # 8\n",
    "    0.04, # 9\n",
    "    0.08, # 10\n",
    "    0.13, # 11\n",
    "    0.06, # 12\n",
    "    0.04, # 13\n",
    "    0.07, # 14\n",
    "    0.07] # 15\n",
    ")  # Example centrality\n",
    "\n",
    "initial_opinions = np.linspace(0, 1, len(desired_centrality))\n",
    "\n",
    "env = NetworkGraph(\n",
    "    connectivity_matrix=connectivity_matrix,\n",
    "    desired_centrality=desired_centrality,\n",
    "    initial_opinions=initial_opinions,\n",
    "    max_u=0.1,\n",
    "    budget=10.0,\n",
    "    desired_opinion=1.0,\n",
    "    tau=1.0,\n",
    "    max_steps=100\n",
    ")\n",
    "\n",
    "# env.render(mode=\"matplotlib\")\n",
    "env.reset()"
   ]
  },
  {
   "cell_type": "code",
   "execution_count": 2,
   "metadata": {},
   "outputs": [
    {
     "data": {
      "text/plain": [
       "'5.0.0'"
      ]
     },
     "execution_count": 2,
     "metadata": {},
     "output_type": "execute_result"
    }
   ],
   "source": []
  }
 ],
 "metadata": {
  "kernelspec": {
   "display_name": "phd-env",
   "language": "python",
   "name": "python3"
  },
  "language_info": {
   "codemirror_mode": {
    "name": "ipython",
    "version": 3
   },
   "file_extension": ".py",
   "mimetype": "text/x-python",
   "name": "python",
   "nbconvert_exporter": "python",
   "pygments_lexer": "ipython3",
   "version": "3.10.14"
  }
 },
 "nbformat": 4,
 "nbformat_minor": 2
}
