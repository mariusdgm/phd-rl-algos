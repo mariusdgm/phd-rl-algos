{
 "cells": [
  {
   "cell_type": "code",
   "execution_count": 1,
   "metadata": {},
   "outputs": [],
   "source": [
    "import torch\n",
    "import torch.nn as nn\n",
    "import torch.nn.functional as F\n",
    "from torchviz import make_dot\n",
    "import hiddenlayer as hl"
   ]
  },
  {
   "cell_type": "code",
   "execution_count": 2,
   "metadata": {},
   "outputs": [],
   "source": [
    "class Conv1DNet(nn.Module):\n",
    "    def __init__(self, \n",
    "                 input_channels=1,    # Number of input channels (1 for a single \"row\" input)\n",
    "                 hidden_channels=32,  # Number of hidden channels\n",
    "                 kernel_size=3):\n",
    "        super(Conv1DNet, self).__init__()\n",
    "        \n",
    "        self.conv1 = nn.Conv1d(in_channels=input_channels,\n",
    "                               out_channels=hidden_channels,\n",
    "                               kernel_size=kernel_size,\n",
    "                               padding=(kernel_size // 2))\n",
    "        self.conv2 = nn.Conv1d(in_channels=hidden_channels,\n",
    "                               out_channels=hidden_channels,\n",
    "                               kernel_size=kernel_size,\n",
    "                               padding=(kernel_size // 2))\n",
    "        # Final layer outputs back to 1 channel\n",
    "        self.conv3 = nn.Conv1d(in_channels=hidden_channels,\n",
    "                               out_channels=input_channels,\n",
    "                               kernel_size=kernel_size,\n",
    "                               padding=(kernel_size // 2))\n",
    "\n",
    "    def forward(self, x):\n",
    "        \"\"\"\n",
    "        x shape: (batch_size, 1, N)\n",
    "        \"\"\"\n",
    "        x = F.relu(self.conv1(x))\n",
    "        x = F.relu(self.conv2(x))\n",
    "        # No activation on final layer if you want raw output of size (batch_size, 1, N)\n",
    "        x = self.conv3(x)  \n",
    "        return x"
   ]
  },
  {
   "cell_type": "code",
   "execution_count": 3,
   "metadata": {},
   "outputs": [],
   "source": [
    "model = Conv1DNet()\n",
    "dummy_input = torch.randn(1, 1, 100)\n",
    "\n",
    "# Export to ONNX\n",
    "torch.onnx.export(\n",
    "    model, \n",
    "    dummy_input, \n",
    "    \"conv1d_model.onnx\",\n",
    "    input_names=[\"input\"],\n",
    "    output_names=[\"output\"],\n",
    "    opset_version=11\n",
    ")"
   ]
  },
  {
   "cell_type": "code",
   "execution_count": null,
   "metadata": {},
   "outputs": [],
   "source": []
  }
 ],
 "metadata": {
  "kernelspec": {
   "display_name": "phd_rl_algos",
   "language": "python",
   "name": "python3"
  },
  "language_info": {
   "codemirror_mode": {
    "name": "ipython",
    "version": 3
   },
   "file_extension": ".py",
   "mimetype": "text/x-python",
   "name": "python",
   "nbconvert_exporter": "python",
   "pygments_lexer": "ipython3",
   "version": "3.11.5"
  }
 },
 "nbformat": 4,
 "nbformat_minor": 2
}
