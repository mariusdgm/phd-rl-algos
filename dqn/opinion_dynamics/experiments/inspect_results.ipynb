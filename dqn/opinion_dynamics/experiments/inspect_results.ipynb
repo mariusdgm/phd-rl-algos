{
 "cells": [
  {
   "cell_type": "code",
   "execution_count": 22,
   "metadata": {},
   "outputs": [
    {
     "name": "stdout",
     "output_type": "stream",
     "text": [
      "The autoreload extension is already loaded. To reload it, use:\n",
      "  %reload_ext autoreload\n"
     ]
    }
   ],
   "source": [
    "%load_ext autoreload\n",
    "%autoreload 2"
   ]
  },
  {
   "cell_type": "code",
   "execution_count": 23,
   "metadata": {},
   "outputs": [],
   "source": [
    "import os, sys\n",
    "\n",
    "def get_dir_n_levels_up(path, n):\n",
    "    # Go up n levels from the given path\n",
    "    for _ in range(n):\n",
    "        path = os.path.dirname(path)\n",
    "    return path\n",
    "\n",
    "proj_root = get_dir_n_levels_up(os.path.abspath(\"__file__\"), 4)\n",
    "sys.path.append(proj_root)\n",
    "\n",
    "import warnings\n",
    "import numpy as np\n",
    "\n",
    "import seaborn as sns\n",
    "import matplotlib.pyplot as plt\n",
    "sns.set_theme()\n",
    "\n",
    "warnings.filterwarnings(\"ignore\")\n",
    "\n",
    "from dqn.opinion_dynamics.utils.experiment import process_experiment\n"
   ]
  },
  {
   "cell_type": "code",
   "execution_count": 24,
   "metadata": {},
   "outputs": [],
   "source": [
    "# experiment_sub_dir = \"2025May02-101004_configs\" # excellent run\n",
    "# experiment_sub_dir = \"2025Jul09-171538_configs\" # good latest run\n",
    "# experiment_sub_dir = \"2025Sep15-090310_configs\" paper run 1 finite h\n",
    "\n",
    "# experiment_sub_dir = \"2025Oct15-095412_configs\" \n",
    "# experiment_sub_dir = \"2025Oct16-023909_configs\" # linear term state\n",
    "# experiment_sub_dir = \"2025Oct16-100935_configs\" # coca no term state\n",
    "# experiment_sub_dir = \"2025Oct17-101225_configs\" # coca no term state higher lr\n",
    "experiment_sub_dir = \"2025Oct17-154612_configs\" # coca no term state higher lr more epochs\n",
    "\n",
    " \n",
    "\n",
    "\n",
    "\n",
    "\n",
    "exp_path = os.path.join(os.path.abspath(\".\"), \"results\", experiment_sub_dir)\n",
    "df = process_experiment(\n",
    "    exp_path\n",
    ")\n",
    "# df.columns\n"
   ]
  },
  {
   "cell_type": "code",
   "execution_count": 25,
   "metadata": {},
   "outputs": [],
   "source": [
    "# df"
   ]
  },
  {
   "cell_type": "code",
   "execution_count": 26,
   "metadata": {},
   "outputs": [],
   "source": [
    "# df[df['epoch_type'] == 'validation']\n",
    "# df[df['epoch_type'] == 'training']"
   ]
  },
  {
   "cell_type": "code",
   "execution_count": 27,
   "metadata": {},
   "outputs": [
    {
     "name": "stdout",
     "output_type": "stream",
     "text": [
      "Best hyperparameters:\n",
      "sub_exp_cfg_optim.args_.lr                            5e-05\n",
      "sub_exp_cfg_agent_params.args_.target_soft_tau       0.0005\n",
      "sub_exp_cfg_experiment                            fixed_res\n",
      "Name: 2, dtype: object\n",
      "Best mean reward: -20.88097666399672\n"
     ]
    }
   ],
   "source": [
    "# Define hyperparameter columns\n",
    "hyperparam_columns = [col for col in df.columns if \"sub_exp_cfg\" in col]\n",
    "\n",
    "# Group by hyperparameter values and compute mean episode_rewards_mean\n",
    "averaged_results = df.groupby(hyperparam_columns, as_index=False).agg({\n",
    "    'episode_rewards_mean': 'mean',  # Averaging the performance metric\n",
    "    'sub_experiment_path': 'first'   # Keep a reference to an experiment path\n",
    "})\n",
    "\n",
    "# Find the best hyperparameter set based on the highest mean reward\n",
    "best_row = averaged_results.loc[averaged_results['episode_rewards_mean'].idxmax()]\n",
    "\n",
    "# Print the best experiment path and hyperparameters\n",
    "print(f\"Best hyperparameters:\\n{best_row[hyperparam_columns]}\")\n",
    "print(f\"Best mean reward: {best_row['episode_rewards_mean']}\")"
   ]
  },
  {
   "cell_type": "code",
   "execution_count": 28,
   "metadata": {},
   "outputs": [
    {
     "data": {
      "text/html": [
       "<div>\n",
       "<style scoped>\n",
       "    .dataframe tbody tr th:only-of-type {\n",
       "        vertical-align: middle;\n",
       "    }\n",
       "\n",
       "    .dataframe tbody tr th {\n",
       "        vertical-align: top;\n",
       "    }\n",
       "\n",
       "    .dataframe thead th {\n",
       "        text-align: right;\n",
       "    }\n",
       "</style>\n",
       "<table border=\"1\" class=\"dataframe\">\n",
       "  <thead>\n",
       "    <tr style=\"text-align: right;\">\n",
       "      <th></th>\n",
       "      <th>sub_exp_cfg_optim.args_.lr</th>\n",
       "      <th>sub_exp_cfg_agent_params.args_.target_soft_tau</th>\n",
       "      <th>sub_exp_cfg_experiment</th>\n",
       "      <th>episode_rewards_mean</th>\n",
       "      <th>sub_experiment_path</th>\n",
       "    </tr>\n",
       "  </thead>\n",
       "  <tbody>\n",
       "    <tr>\n",
       "      <th>0</th>\n",
       "      <td>0.0001</td>\n",
       "      <td>0.0005</td>\n",
       "      <td>fixed_res</td>\n",
       "      <td>-45.871653</td>\n",
       "      <td>d:\\Work\\repos\\RL\\phd-rl-algos\\dqn\\opinion_dyna...</td>\n",
       "    </tr>\n",
       "    <tr>\n",
       "      <th>1</th>\n",
       "      <td>0.0001</td>\n",
       "      <td>0.0007</td>\n",
       "      <td>fixed_res</td>\n",
       "      <td>-46.003966</td>\n",
       "      <td>d:\\Work\\repos\\RL\\phd-rl-algos\\dqn\\opinion_dyna...</td>\n",
       "    </tr>\n",
       "    <tr>\n",
       "      <th>2</th>\n",
       "      <td>5e-05</td>\n",
       "      <td>0.0005</td>\n",
       "      <td>fixed_res</td>\n",
       "      <td>-20.880977</td>\n",
       "      <td>d:\\Work\\repos\\RL\\phd-rl-algos\\dqn\\opinion_dyna...</td>\n",
       "    </tr>\n",
       "    <tr>\n",
       "      <th>3</th>\n",
       "      <td>5e-05</td>\n",
       "      <td>0.0007</td>\n",
       "      <td>fixed_res</td>\n",
       "      <td>-23.565705</td>\n",
       "      <td>d:\\Work\\repos\\RL\\phd-rl-algos\\dqn\\opinion_dyna...</td>\n",
       "    </tr>\n",
       "  </tbody>\n",
       "</table>\n",
       "</div>"
      ],
      "text/plain": [
       "  sub_exp_cfg_optim.args_.lr sub_exp_cfg_agent_params.args_.target_soft_tau  \\\n",
       "0                     0.0001                                         0.0005   \n",
       "1                     0.0001                                         0.0007   \n",
       "2                      5e-05                                         0.0005   \n",
       "3                      5e-05                                         0.0007   \n",
       "\n",
       "  sub_exp_cfg_experiment  episode_rewards_mean  \\\n",
       "0              fixed_res            -45.871653   \n",
       "1              fixed_res            -46.003966   \n",
       "2              fixed_res            -20.880977   \n",
       "3              fixed_res            -23.565705   \n",
       "\n",
       "                                 sub_experiment_path  \n",
       "0  d:\\Work\\repos\\RL\\phd-rl-algos\\dqn\\opinion_dyna...  \n",
       "1  d:\\Work\\repos\\RL\\phd-rl-algos\\dqn\\opinion_dyna...  \n",
       "2  d:\\Work\\repos\\RL\\phd-rl-algos\\dqn\\opinion_dyna...  \n",
       "3  d:\\Work\\repos\\RL\\phd-rl-algos\\dqn\\opinion_dyna...  "
      ]
     },
     "execution_count": 28,
     "metadata": {},
     "output_type": "execute_result"
    }
   ],
   "source": [
    "averaged_results"
   ]
  },
  {
   "cell_type": "code",
   "execution_count": 29,
   "metadata": {},
   "outputs": [],
   "source": [
    "# selected_metric = 'episode_rewards_mean'\n",
    "# hue_col = \"sub_exp_cfg_agent_params.args_.action_w_noise_amplitude\"\n",
    "\n",
    "# # Filter for validation episodes\n",
    "# validation_df = df[df['epoch_type'] == 'validation']\n",
    "\n",
    "# # Get the unique sorted frame_stamp values\n",
    "# unique_frames = np.sort(validation_df['frame_stamp'].unique())\n",
    "# N = 1\n",
    "# # Get all frame_stamp values after the first N unique ones\n",
    "# filtered_frames = unique_frames[N:]\n",
    "\n",
    "# # Filter the DataFrame to only include rows with these frame_stamp values\n",
    "# filtered_df = validation_df[validation_df['frame_stamp'].isin(filtered_frames)]\n",
    "\n",
    "# plt.figure(figsize=(10, 6))\n",
    "# sns.lineplot(data=filtered_df, x='frame_stamp', y=selected_metric, hue=hue_col)\n",
    "# plt.ylabel(selected_metric)\n",
    "# plt.xlabel('Frame Stamp')\n",
    "# plt.show()"
   ]
  },
  {
   "cell_type": "code",
   "execution_count": 30,
   "metadata": {},
   "outputs": [
    {
     "data": {
      "image/png": "[encoded data removed]",
      "text/plain": [
       "<Figure size 1000x600 with 1 Axes>"
      ]
     },
     "metadata": {},
     "output_type": "display_data"
    }
   ],
   "source": [
    "\n",
    "selected_metric = 'episode_discounted_rewards_mean'\n",
    "# hue_col = \"sub_exp_cfg_agent_params.args_.action_w_noise_amplitude\"\n",
    "hue_col = \"experiment_name\"\n",
    "\n",
    "validation_df = df[df['epoch_type'] == 'validation']\n",
    "# validation_df = df[df['epoch_type'] == 'training']\n",
    "\n",
    "\n",
    "# Create a new figure for each environment\n",
    "plt.figure(figsize=(10, 6))\n",
    "# sns.lineplot(data=df, x='frame_stamp', y=selected_metric, hue='model')\n",
    "sns.lineplot(data=validation_df, \n",
    "             x='frame_stamp', \n",
    "             y=selected_metric, \n",
    "             hue=hue_col,\n",
    "            #  units='seed', # Comment this to see mean + cf\n",
    "            #  estimator=None, # Comment this to see mean + cf\n",
    "             )\n",
    "\n",
    "plt.ylabel(selected_metric)\n",
    "plt.xlabel('Frame Stamp')\n",
    "\n",
    "# Place the legend outside the plot\n",
    "plt.legend(loc='center left', bbox_to_anchor=(1.0, 0.5), title='Parameters')\n",
    "plt.show()"
   ]
  },
  {
   "cell_type": "code",
   "execution_count": 31,
   "metadata": {},
   "outputs": [
    {
     "data": {
      "text/plain": [
       "Index(['epoch_type', 'frame_stamp', 'greedy_epsilon', 'episode_rewards_min',\n",
       "       'episode_rewards_max', 'episode_rewards_mean', 'episode_rewards_median',\n",
       "       'episode_rewards_std', 'episode_discounted_rewards_min',\n",
       "       'episode_discounted_rewards_max', 'episode_discounted_rewards_mean',\n",
       "       'episode_discounted_rewards_median', 'episode_discounted_rewards_std',\n",
       "       'episode_frames_min', 'episode_frames_max', 'episode_frames_mean',\n",
       "       'episode_frames_median', 'episode_frames_std', 'episode_losses_min',\n",
       "       'episode_losses_max', 'episode_losses_mean', 'episode_losses_median',\n",
       "       'episode_losses_std', 'episode_max_qs_min', 'episode_max_qs_max',\n",
       "       'episode_max_qs_mean', 'episode_max_qs_median', 'episode_max_qs_std',\n",
       "       'policy_trained_times', 'target_trained_times', 'epoch_time',\n",
       "       'sub_exp_cfg_optim.args_.lr',\n",
       "       'sub_exp_cfg_agent_params.args_.target_soft_tau',\n",
       "       'sub_exp_cfg_experiment', 'sub_experiment_path', 'seed',\n",
       "       'experiment_name'],\n",
       "      dtype='object')"
      ]
     },
     "execution_count": 31,
     "metadata": {},
     "output_type": "execute_result"
    }
   ],
   "source": [
    "df.columns"
   ]
  },
  {
   "cell_type": "markdown",
   "metadata": {},
   "source": []
  },
  {
   "cell_type": "code",
   "execution_count": 32,
   "metadata": {},
   "outputs": [
    {
     "data": {
      "image/png": "[encoded data removed]",
      "text/plain": [
       "<Figure size 1000x600 with 1 Axes>"
      ]
     },
     "metadata": {},
     "output_type": "display_data"
    }
   ],
   "source": [
    "import matplotlib.pyplot as plt\n",
    "import seaborn as sns\n",
    "\n",
    "selected_metric = 'episode_frames_mean'\n",
    "hue_col = \"experiment_name\"  # or another distinguishing column like \"sub_experiment_path\"\n",
    "\n",
    "validation_df = df[df['epoch_type'] == 'validation']\n",
    "\n",
    "# Plot individual lines for each run\n",
    "plt.figure(figsize=(10, 6))\n",
    "sns.lineplot(\n",
    "    data=validation_df,\n",
    "    x='frame_stamp',\n",
    "    y=selected_metric,\n",
    "    hue=hue_col,\n",
    "    estimator=None,  # ← disables aggregation\n",
    "    units='sub_experiment_path',  # ← groups lines by unique run\n",
    "    lw=1,  # line width\n",
    "    alpha=0.7  # transparency\n",
    ")\n",
    "\n",
    "plt.ylabel(selected_metric)\n",
    "plt.xlabel('Frame Stamp')\n",
    "plt.title('Validation Reward Trajectories (Per Run)')\n",
    "\n",
    "# Move legend outside the plot\n",
    "plt.legend(loc='center left', bbox_to_anchor=(1.0, 0.5), title='Experiment')\n",
    "plt.tight_layout()\n",
    "plt.show()\n"
   ]
  },
  {
   "cell_type": "code",
   "execution_count": 33,
   "metadata": {},
   "outputs": [
    {
     "data": {
      "text/html": [
       "<div>\n",
       "<style scoped>\n",
       "    .dataframe tbody tr th:only-of-type {\n",
       "        vertical-align: middle;\n",
       "    }\n",
       "\n",
       "    .dataframe tbody tr th {\n",
       "        vertical-align: top;\n",
       "    }\n",
       "\n",
       "    .dataframe thead th {\n",
       "        text-align: right;\n",
       "    }\n",
       "</style>\n",
       "<table border=\"1\" class=\"dataframe\">\n",
       "  <thead>\n",
       "    <tr style=\"text-align: right;\">\n",
       "      <th></th>\n",
       "      <th>epoch_type</th>\n",
       "      <th>frame_stamp</th>\n",
       "      <th>episode_rewards_mean</th>\n",
       "      <th>episode_frames_mean</th>\n",
       "      <th>episode_discounted_rewards_mean</th>\n",
       "      <th>policy_trained_times</th>\n",
       "      <th>target_trained_times</th>\n",
       "      <th>epoch_time</th>\n",
       "      <th>seed</th>\n",
       "      <th>experiment_name</th>\n",
       "      <th>sub_experiment_path</th>\n",
       "      <th>sub_exp_cfg_optim.args_.lr</th>\n",
       "      <th>sub_exp_cfg_agent_params.args_.target_soft_tau</th>\n",
       "      <th>sub_exp_cfg_experiment</th>\n",
       "    </tr>\n",
       "  </thead>\n",
       "  <tbody>\n",
       "    <tr>\n",
       "      <th>69</th>\n",
       "      <td>validation</td>\n",
       "      <td>7000000</td>\n",
       "      <td>-9.784598</td>\n",
       "      <td>100.0</td>\n",
       "      <td>-8.182591</td>\n",
       "      <td>NaN</td>\n",
       "      <td>NaN</td>\n",
       "      <td>0 days 00:00:08.872691</td>\n",
       "      <td>0</td>\n",
       "      <td>0000_optim.args_.lr_5e-05__agent_params.args_....</td>\n",
       "      <td>d:\\Work\\repos\\RL\\phd-rl-algos\\dqn\\opinion_dyna...</td>\n",
       "      <td>5e-05</td>\n",
       "      <td>0.0005</td>\n",
       "      <td>fixed_res</td>\n",
       "    </tr>\n",
       "    <tr>\n",
       "      <th>139</th>\n",
       "      <td>validation</td>\n",
       "      <td>7000000</td>\n",
       "      <td>-65.125255</td>\n",
       "      <td>100.0</td>\n",
       "      <td>-41.235341</td>\n",
       "      <td>NaN</td>\n",
       "      <td>NaN</td>\n",
       "      <td>0 days 00:00:08.014672</td>\n",
       "      <td>1</td>\n",
       "      <td>0000_optim.args_.lr_5e-05__agent_params.args_....</td>\n",
       "      <td>d:\\Work\\repos\\RL\\phd-rl-algos\\dqn\\opinion_dyna...</td>\n",
       "      <td>5e-05</td>\n",
       "      <td>0.0005</td>\n",
       "      <td>fixed_res</td>\n",
       "    </tr>\n",
       "    <tr>\n",
       "      <th>209</th>\n",
       "      <td>validation</td>\n",
       "      <td>7000000</td>\n",
       "      <td>-11.552818</td>\n",
       "      <td>100.0</td>\n",
       "      <td>-9.265891</td>\n",
       "      <td>NaN</td>\n",
       "      <td>NaN</td>\n",
       "      <td>0 days 00:00:10.248677</td>\n",
       "      <td>0</td>\n",
       "      <td>0001_optim.args_.lr_5e-05__agent_params.args_....</td>\n",
       "      <td>d:\\Work\\repos\\RL\\phd-rl-algos\\dqn\\opinion_dyna...</td>\n",
       "      <td>5e-05</td>\n",
       "      <td>0.0007</td>\n",
       "      <td>fixed_res</td>\n",
       "    </tr>\n",
       "    <tr>\n",
       "      <th>279</th>\n",
       "      <td>validation</td>\n",
       "      <td>7000000</td>\n",
       "      <td>-65.125255</td>\n",
       "      <td>100.0</td>\n",
       "      <td>-41.235341</td>\n",
       "      <td>NaN</td>\n",
       "      <td>NaN</td>\n",
       "      <td>0 days 00:00:09.129462</td>\n",
       "      <td>1</td>\n",
       "      <td>0001_optim.args_.lr_5e-05__agent_params.args_....</td>\n",
       "      <td>d:\\Work\\repos\\RL\\phd-rl-algos\\dqn\\opinion_dyna...</td>\n",
       "      <td>5e-05</td>\n",
       "      <td>0.0007</td>\n",
       "      <td>fixed_res</td>\n",
       "    </tr>\n",
       "    <tr>\n",
       "      <th>349</th>\n",
       "      <td>validation</td>\n",
       "      <td>7000000</td>\n",
       "      <td>-65.125255</td>\n",
       "      <td>100.0</td>\n",
       "      <td>-41.235341</td>\n",
       "      <td>NaN</td>\n",
       "      <td>NaN</td>\n",
       "      <td>0 days 00:00:07.758870</td>\n",
       "      <td>0</td>\n",
       "      <td>0002_optim.args_.lr_0.0001__agent_params.args_...</td>\n",
       "      <td>d:\\Work\\repos\\RL\\phd-rl-algos\\dqn\\opinion_dyna...</td>\n",
       "      <td>0.0001</td>\n",
       "      <td>0.0005</td>\n",
       "      <td>fixed_res</td>\n",
       "    </tr>\n",
       "    <tr>\n",
       "      <th>419</th>\n",
       "      <td>validation</td>\n",
       "      <td>7000000</td>\n",
       "      <td>-65.125255</td>\n",
       "      <td>100.0</td>\n",
       "      <td>-41.235341</td>\n",
       "      <td>NaN</td>\n",
       "      <td>NaN</td>\n",
       "      <td>0 days 00:00:08.296816</td>\n",
       "      <td>1</td>\n",
       "      <td>0002_optim.args_.lr_0.0001__agent_params.args_...</td>\n",
       "      <td>d:\\Work\\repos\\RL\\phd-rl-algos\\dqn\\opinion_dyna...</td>\n",
       "      <td>0.0001</td>\n",
       "      <td>0.0005</td>\n",
       "      <td>fixed_res</td>\n",
       "    </tr>\n",
       "    <tr>\n",
       "      <th>489</th>\n",
       "      <td>validation</td>\n",
       "      <td>7000000</td>\n",
       "      <td>-65.125255</td>\n",
       "      <td>100.0</td>\n",
       "      <td>-41.235341</td>\n",
       "      <td>NaN</td>\n",
       "      <td>NaN</td>\n",
       "      <td>0 days 00:00:07.686029</td>\n",
       "      <td>0</td>\n",
       "      <td>0003_optim.args_.lr_0.0001__agent_params.args_...</td>\n",
       "      <td>d:\\Work\\repos\\RL\\phd-rl-algos\\dqn\\opinion_dyna...</td>\n",
       "      <td>0.0001</td>\n",
       "      <td>0.0007</td>\n",
       "      <td>fixed_res</td>\n",
       "    </tr>\n",
       "    <tr>\n",
       "      <th>559</th>\n",
       "      <td>validation</td>\n",
       "      <td>7000000</td>\n",
       "      <td>-65.125255</td>\n",
       "      <td>100.0</td>\n",
       "      <td>-41.235341</td>\n",
       "      <td>NaN</td>\n",
       "      <td>NaN</td>\n",
       "      <td>0 days 00:00:07.894773</td>\n",
       "      <td>1</td>\n",
       "      <td>0003_optim.args_.lr_0.0001__agent_params.args_...</td>\n",
       "      <td>d:\\Work\\repos\\RL\\phd-rl-algos\\dqn\\opinion_dyna...</td>\n",
       "      <td>0.0001</td>\n",
       "      <td>0.0007</td>\n",
       "      <td>fixed_res</td>\n",
       "    </tr>\n",
       "  </tbody>\n",
       "</table>\n",
       "</div>"
      ],
      "text/plain": [
       "     epoch_type  frame_stamp  episode_rewards_mean  episode_frames_mean  \\\n",
       "69   validation      7000000             -9.784598                100.0   \n",
       "139  validation      7000000            -65.125255                100.0   \n",
       "209  validation      7000000            -11.552818                100.0   \n",
       "279  validation      7000000            -65.125255                100.0   \n",
       "349  validation      7000000            -65.125255                100.0   \n",
       "419  validation      7000000            -65.125255                100.0   \n",
       "489  validation      7000000            -65.125255                100.0   \n",
       "559  validation      7000000            -65.125255                100.0   \n",
       "\n",
       "     episode_discounted_rewards_mean  policy_trained_times  \\\n",
       "69                         -8.182591                   NaN   \n",
       "139                       -41.235341                   NaN   \n",
       "209                        -9.265891                   NaN   \n",
       "279                       -41.235341                   NaN   \n",
       "349                       -41.235341                   NaN   \n",
       "419                       -41.235341                   NaN   \n",
       "489                       -41.235341                   NaN   \n",
       "559                       -41.235341                   NaN   \n",
       "\n",
       "     target_trained_times             epoch_time seed  \\\n",
       "69                    NaN 0 days 00:00:08.872691    0   \n",
       "139                   NaN 0 days 00:00:08.014672    1   \n",
       "209                   NaN 0 days 00:00:10.248677    0   \n",
       "279                   NaN 0 days 00:00:09.129462    1   \n",
       "349                   NaN 0 days 00:00:07.758870    0   \n",
       "419                   NaN 0 days 00:00:08.296816    1   \n",
       "489                   NaN 0 days 00:00:07.686029    0   \n",
       "559                   NaN 0 days 00:00:07.894773    1   \n",
       "\n",
       "                                       experiment_name  \\\n",
       "69   0000_optim.args_.lr_5e-05__agent_params.args_....   \n",
       "139  0000_optim.args_.lr_5e-05__agent_params.args_....   \n",
       "209  0001_optim.args_.lr_5e-05__agent_params.args_....   \n",
       "279  0001_optim.args_.lr_5e-05__agent_params.args_....   \n",
       "349  0002_optim.args_.lr_0.0001__agent_params.args_...   \n",
       "419  0002_optim.args_.lr_0.0001__agent_params.args_...   \n",
       "489  0003_optim.args_.lr_0.0001__agent_params.args_...   \n",
       "559  0003_optim.args_.lr_0.0001__agent_params.args_...   \n",
       "\n",
       "                                   sub_experiment_path  \\\n",
       "69   d:\\Work\\repos\\RL\\phd-rl-algos\\dqn\\opinion_dyna...   \n",
       "139  d:\\Work\\repos\\RL\\phd-rl-algos\\dqn\\opinion_dyna...   \n",
       "209  d:\\Work\\repos\\RL\\phd-rl-algos\\dqn\\opinion_dyna...   \n",
       "279  d:\\Work\\repos\\RL\\phd-rl-algos\\dqn\\opinion_dyna...   \n",
       "349  d:\\Work\\repos\\RL\\phd-rl-algos\\dqn\\opinion_dyna...   \n",
       "419  d:\\Work\\repos\\RL\\phd-rl-algos\\dqn\\opinion_dyna...   \n",
       "489  d:\\Work\\repos\\RL\\phd-rl-algos\\dqn\\opinion_dyna...   \n",
       "559  d:\\Work\\repos\\RL\\phd-rl-algos\\dqn\\opinion_dyna...   \n",
       "\n",
       "    sub_exp_cfg_optim.args_.lr sub_exp_cfg_agent_params.args_.target_soft_tau  \\\n",
       "69                       5e-05                                         0.0005   \n",
       "139                      5e-05                                         0.0005   \n",
       "209                      5e-05                                         0.0007   \n",
       "279                      5e-05                                         0.0007   \n",
       "349                     0.0001                                         0.0005   \n",
       "419                     0.0001                                         0.0005   \n",
       "489                     0.0001                                         0.0007   \n",
       "559                     0.0001                                         0.0007   \n",
       "\n",
       "    sub_exp_cfg_experiment  \n",
       "69               fixed_res  \n",
       "139              fixed_res  \n",
       "209              fixed_res  \n",
       "279              fixed_res  \n",
       "349              fixed_res  \n",
       "419              fixed_res  \n",
       "489              fixed_res  \n",
       "559              fixed_res  "
      ]
     },
     "execution_count": 33,
     "metadata": {},
     "output_type": "execute_result"
    }
   ],
   "source": [
    "### Select data\n",
    "\n",
    "experiment_columns = [\n",
    "    'epoch_type', 'frame_stamp',\n",
    "    'episode_rewards_mean', 'episode_frames_mean', \n",
    "    'episode_discounted_rewards_mean',\n",
    "    'policy_trained_times', 'target_trained_times', 'epoch_time', \n",
    "       'seed', 'experiment_name', \"sub_experiment_path\"\n",
    "]\n",
    "hyperparam_columns = [\n",
    "   col for col in df.columns if \"sub_exp_cfg\" in col\n",
    "]\n",
    "\n",
    "cols_of_interest = experiment_columns + hyperparam_columns\n",
    "\n",
    "sub_df = df[cols_of_interest]\n",
    "sub_df = sub_df[sub_df['epoch_type'] == 'validation']\n",
    "sub_df = sub_df[sub_df['frame_stamp'] == sub_df['frame_stamp'].max()]\n",
    "\n",
    "sub_df \n"
   ]
  },
  {
   "cell_type": "code",
   "execution_count": 34,
   "metadata": {},
   "outputs": [
    {
     "data": {
      "text/html": [
       "<div>\n",
       "<style scoped>\n",
       "    .dataframe tbody tr th:only-of-type {\n",
       "        vertical-align: middle;\n",
       "    }\n",
       "\n",
       "    .dataframe tbody tr th {\n",
       "        vertical-align: top;\n",
       "    }\n",
       "\n",
       "    .dataframe thead th {\n",
       "        text-align: right;\n",
       "    }\n",
       "</style>\n",
       "<table border=\"1\" class=\"dataframe\">\n",
       "  <thead>\n",
       "    <tr style=\"text-align: right;\">\n",
       "      <th></th>\n",
       "      <th>sub_exp_cfg_optim.args_.lr</th>\n",
       "      <th>sub_exp_cfg_agent_params.args_.target_soft_tau</th>\n",
       "      <th>sub_exp_cfg_experiment</th>\n",
       "      <th>episode_discounted_rewards_mean</th>\n",
       "    </tr>\n",
       "  </thead>\n",
       "  <tbody>\n",
       "    <tr>\n",
       "      <th>0</th>\n",
       "      <td>0.0001</td>\n",
       "      <td>0.0005</td>\n",
       "      <td>fixed_res</td>\n",
       "      <td>-41.235341</td>\n",
       "    </tr>\n",
       "    <tr>\n",
       "      <th>1</th>\n",
       "      <td>0.0001</td>\n",
       "      <td>0.0007</td>\n",
       "      <td>fixed_res</td>\n",
       "      <td>-41.235341</td>\n",
       "    </tr>\n",
       "    <tr>\n",
       "      <th>2</th>\n",
       "      <td>5e-05</td>\n",
       "      <td>0.0005</td>\n",
       "      <td>fixed_res</td>\n",
       "      <td>-24.708966</td>\n",
       "    </tr>\n",
       "    <tr>\n",
       "      <th>3</th>\n",
       "      <td>5e-05</td>\n",
       "      <td>0.0007</td>\n",
       "      <td>fixed_res</td>\n",
       "      <td>-25.250616</td>\n",
       "    </tr>\n",
       "  </tbody>\n",
       "</table>\n",
       "</div>"
      ],
      "text/plain": [
       "  sub_exp_cfg_optim.args_.lr sub_exp_cfg_agent_params.args_.target_soft_tau  \\\n",
       "0                     0.0001                                         0.0005   \n",
       "1                     0.0001                                         0.0007   \n",
       "2                      5e-05                                         0.0005   \n",
       "3                      5e-05                                         0.0007   \n",
       "\n",
       "  sub_exp_cfg_experiment  episode_discounted_rewards_mean  \n",
       "0              fixed_res                       -41.235341  \n",
       "1              fixed_res                       -41.235341  \n",
       "2              fixed_res                       -24.708966  \n",
       "3              fixed_res                       -25.250616  "
      ]
     },
     "execution_count": 34,
     "metadata": {},
     "output_type": "execute_result"
    }
   ],
   "source": [
    "agg_cols = [col for col in sub_df.columns if \"sub_exp_cfg\" in col]\n",
    "aggregated_df = (\n",
    "    sub_df.groupby(agg_cols)\n",
    "    .agg(episode_discounted_rewards_mean=(\"episode_discounted_rewards_mean\", \"mean\"))\n",
    "    .reset_index()\n",
    ")\n",
    "aggregated_df"
   ]
  },
  {
   "cell_type": "code",
   "execution_count": 35,
   "metadata": {},
   "outputs": [
    {
     "data": {
      "text/plain": [
       "Index(['epoch_type', 'frame_stamp', 'episode_rewards_mean',\n",
       "       'episode_frames_mean', 'episode_discounted_rewards_mean',\n",
       "       'policy_trained_times', 'target_trained_times', 'epoch_time', 'seed',\n",
       "       'experiment_name', 'sub_experiment_path', 'sub_exp_cfg_optim.args_.lr',\n",
       "       'sub_exp_cfg_agent_params.args_.target_soft_tau',\n",
       "       'sub_exp_cfg_experiment'],\n",
       "      dtype='object')"
      ]
     },
     "execution_count": 35,
     "metadata": {},
     "output_type": "execute_result"
    }
   ],
   "source": [
    "sub_df.columns"
   ]
  },
  {
   "cell_type": "code",
   "execution_count": 36,
   "metadata": {},
   "outputs": [
    {
     "name": "stdout",
     "output_type": "stream",
     "text": [
      "d:\\Work\\repos\\RL\\phd-rl-algos\\dqn\\opinion_dynamics\\experiments\\results\\2025Oct17-154612_configs\\0000_optim.args_.lr_5e-05__agent_params.args_.target_soft_tau_0.0005__experiment_fixed_res\\0\n"
     ]
    }
   ],
   "source": [
    "print(sub_df[sub_df['episode_rewards_mean'] == sub_df['episode_rewards_mean'].max()]['sub_experiment_path'].values[0])\n"
   ]
  },
  {
   "cell_type": "code",
   "execution_count": 37,
   "metadata": {},
   "outputs": [
    {
     "data": {
      "text/html": [
       "<div>\n",
       "<style scoped>\n",
       "    .dataframe tbody tr th:only-of-type {\n",
       "        vertical-align: middle;\n",
       "    }\n",
       "\n",
       "    .dataframe tbody tr th {\n",
       "        vertical-align: top;\n",
       "    }\n",
       "\n",
       "    .dataframe thead th {\n",
       "        text-align: right;\n",
       "    }\n",
       "</style>\n",
       "<table border=\"1\" class=\"dataframe\">\n",
       "  <thead>\n",
       "    <tr style=\"text-align: right;\">\n",
       "      <th></th>\n",
       "      <th>epoch_type</th>\n",
       "      <th>frame_stamp</th>\n",
       "      <th>episode_rewards_mean</th>\n",
       "      <th>episode_frames_mean</th>\n",
       "      <th>episode_discounted_rewards_mean</th>\n",
       "      <th>policy_trained_times</th>\n",
       "      <th>target_trained_times</th>\n",
       "      <th>epoch_time</th>\n",
       "      <th>seed</th>\n",
       "      <th>experiment_name</th>\n",
       "      <th>sub_experiment_path</th>\n",
       "      <th>sub_exp_cfg_optim.args_.lr</th>\n",
       "      <th>sub_exp_cfg_agent_params.args_.target_soft_tau</th>\n",
       "      <th>sub_exp_cfg_experiment</th>\n",
       "    </tr>\n",
       "  </thead>\n",
       "  <tbody>\n",
       "    <tr>\n",
       "      <th>69</th>\n",
       "      <td>validation</td>\n",
       "      <td>7000000</td>\n",
       "      <td>-9.784598</td>\n",
       "      <td>100.0</td>\n",
       "      <td>-8.182591</td>\n",
       "      <td>NaN</td>\n",
       "      <td>NaN</td>\n",
       "      <td>0 days 00:00:08.872691</td>\n",
       "      <td>0</td>\n",
       "      <td>0000_optim.args_.lr_5e-05__agent_params.args_....</td>\n",
       "      <td>d:\\Work\\repos\\RL\\phd-rl-algos\\dqn\\opinion_dyna...</td>\n",
       "      <td>5e-05</td>\n",
       "      <td>0.0005</td>\n",
       "      <td>fixed_res</td>\n",
       "    </tr>\n",
       "  </tbody>\n",
       "</table>\n",
       "</div>"
      ],
      "text/plain": [
       "    epoch_type  frame_stamp  episode_rewards_mean  episode_frames_mean  \\\n",
       "69  validation      7000000             -9.784598                100.0   \n",
       "\n",
       "    episode_discounted_rewards_mean  policy_trained_times  \\\n",
       "69                        -8.182591                   NaN   \n",
       "\n",
       "    target_trained_times             epoch_time seed  \\\n",
       "69                   NaN 0 days 00:00:08.872691    0   \n",
       "\n",
       "                                      experiment_name  \\\n",
       "69  0000_optim.args_.lr_5e-05__agent_params.args_....   \n",
       "\n",
       "                                  sub_experiment_path  \\\n",
       "69  d:\\Work\\repos\\RL\\phd-rl-algos\\dqn\\opinion_dyna...   \n",
       "\n",
       "   sub_exp_cfg_optim.args_.lr sub_exp_cfg_agent_params.args_.target_soft_tau  \\\n",
       "69                      5e-05                                         0.0005   \n",
       "\n",
       "   sub_exp_cfg_experiment  \n",
       "69              fixed_res  "
      ]
     },
     "execution_count": 37,
     "metadata": {},
     "output_type": "execute_result"
    }
   ],
   "source": [
    "sub_df[sub_df['episode_rewards_mean'] == sub_df['episode_rewards_mean'].max()]\n"
   ]
  },
  {
   "cell_type": "code",
   "execution_count": 38,
   "metadata": {},
   "outputs": [
    {
     "data": {
      "image/png": "[encoded data removed]",
      "text/plain": [
       "<Figure size 1000x600 with 1 Axes>"
      ]
     },
     "metadata": {},
     "output_type": "display_data"
    }
   ],
   "source": [
    "selected_metric = 'episode_rewards_mean'\n",
    "hue_col = 'experiment_name'\n",
    "\n",
    "val_df = df[df['epoch_type'] == 'validation'].copy()\n",
    "\n",
    "# 1) Last global frame\n",
    "last_frame = val_df['frame_stamp'].max()\n",
    "last_df = val_df[val_df['frame_stamp'] == last_frame]\n",
    "\n",
    "# 2) Best experiment by mean at LAST frame (averaged across seeds)\n",
    "best_experiment = last_df.groupby(hue_col)[selected_metric].mean().idxmax()\n",
    "\n",
    "# 3) Within that experiment, the best seed at LAST frame\n",
    "best_seed = (last_df[last_df[hue_col] == best_experiment]\n",
    "             .groupby('seed')[selected_metric].mean()\n",
    "             .idxmax())\n",
    "\n",
    "# 4) Plot the whole curve for that experiment+seed (not just the final point)\n",
    "best_seed_df = val_df[(val_df[hue_col] == best_experiment) & (val_df['seed'] == best_seed)]\n",
    "\n",
    "plt.figure(figsize=(10, 6))\n",
    "sns.lineplot(\n",
    "    data=best_seed_df,\n",
    "    x='frame_stamp',\n",
    "    y=selected_metric,\n",
    "    lw=2,\n",
    "    label=f\"Seed {best_seed}\"\n",
    ")\n",
    "plt.title(f\"Best seed ({best_seed}) at last frame {last_frame} from best experiment: {best_experiment}\")\n",
    "plt.ylabel(selected_metric)\n",
    "plt.xlabel('Frame Stamp')\n",
    "plt.legend()\n",
    "plt.tight_layout()\n",
    "plt.show()"
   ]
  },
  {
   "cell_type": "code",
   "execution_count": 39,
   "metadata": {},
   "outputs": [
    {
     "data": {
      "image/png": "[encoded data removed]",
      "text/plain": [
       "<Figure size 800x270 with 2 Axes>"
      ]
     },
     "metadata": {},
     "output_type": "display_data"
    }
   ],
   "source": [
    "import shap\n",
    "import xgboost\n",
    "import pandas as pd\n",
    "\n",
    "\n",
    "# Define the target metric and hyperparameter columns\n",
    "target_metric = \"episode_rewards_mean\"  # Replace with actual metric column name\n",
    "# Replace with actual hyperparameter column names\n",
    "\n",
    "# Prepare data\n",
    "X = sub_df[hyperparam_columns].apply(pd.to_numeric, errors='coerce')\n",
    "y = sub_df[target_metric].fillna(3 * sub_df[target_metric].min())\n",
    "\n",
    "# Train an XGBoost model to analyze feature importance\n",
    "model = xgboost.XGBRegressor(objective=\"reg:squarederror\", n_estimators=100, random_state=42)\n",
    "model.fit(X, y)\n",
    "\n",
    "# SHAP analysis\n",
    "explainer = shap.Explainer(model)\n",
    "shap_values = explainer(X)\n",
    "\n",
    "# Summary plot (feature importance)\n",
    "shap.summary_plot(shap_values, X)"
   ]
  },
  {
   "cell_type": "code",
   "execution_count": 40,
   "metadata": {},
   "outputs": [
    {
     "name": "stdout",
     "output_type": "stream",
     "text": [
      "# --- shap_global.csv ---\n",
      "feature,mean_abs_shap,corr_sign,corr_value\n",
      "sub_exp_cfg_optim.args_.lr,13.613769,-1.0,-0.9999671535227479\n",
      "sub_exp_cfg_agent_params.args_.target_soft_tau,0.22068714,-1.0,-0.8944271940195764\n",
      "sub_exp_cfg_experiment,0.0,,\n",
      "\n",
      "# --- shap_values_top10.csv ---\n",
      ",sub_exp_cfg_optim.args_.lr,sub_exp_cfg_agent_params.args_.target_soft_tau,sub_exp_cfg_experiment\n",
      "69,13.7241125,0.3310307,0.0\n",
      "139,13.7241125,0.3310307,0.0\n",
      "209,13.503425,-0.3310307,0.0\n",
      "279,13.503425,-0.3310307,0.0\n",
      "349,-13.7241125,0.11034357,0.0\n",
      "419,-13.7241125,0.11034357,0.0\n",
      "489,-13.503425,-0.11034357,0.0\n",
      "559,-13.503425,-0.11034357,0.0\n",
      "\n",
      "# --- shap_meta.csv ---\n",
      ",prediction,episode_rewards_mean\n",
      "69,-37.455967,-9.784597863178721\n",
      "139,-37.455967,-65.12525465745016\n",
      "209,-38.338703,-11.552818282393407\n",
      "279,-38.338703,-65.12525465745016\n",
      "349,-65.12491,-65.12525465745016\n",
      "419,-65.12491,-65.12525465745016\n",
      "489,-65.12491,-65.12525465745016\n",
      "559,-65.12491,-65.12525465745016\n",
      "\n"
     ]
    }
   ],
   "source": [
    "# Minimal cell to PRINT compact SHAP data you can paste back here\n",
    "\n",
    "import numpy as np\n",
    "import pandas as pd\n",
    "\n",
    "# Use the same X and shap_values from your previous cell\n",
    "X_num = X.apply(pd.to_numeric, errors=\"coerce\").fillna(X.median(numeric_only=True))\n",
    "\n",
    "# Global importance = mean(|SHAP|) per feature\n",
    "sv = shap_values\n",
    "vals = sv.values if hasattr(sv, \"values\") else sv  # support both SHAP objects & raw arrays\n",
    "mean_abs = np.mean(np.abs(vals), axis=0)\n",
    "\n",
    "# Direction: correlation between SHAP value and raw feature (helps read summary plot colors)\n",
    "corrs = []\n",
    "for i, col in enumerate(X_num.columns):\n",
    "    xcol = X_num.iloc[:, i].to_numpy()\n",
    "    sval = vals[:, i]\n",
    "    # robust correlation: handle constant columns or NaNs\n",
    "    if np.allclose(xcol, xcol[0]) or np.all(np.isnan(xcol)):\n",
    "        corrs.append(np.nan)\n",
    "    else:\n",
    "        c = np.corrcoef(xcol, sval)[0, 1]\n",
    "        corrs.append(c)\n",
    "\n",
    "global_df = pd.DataFrame({\n",
    "    \"feature\": X_num.columns,\n",
    "    \"mean_abs_shap\": mean_abs,\n",
    "    \"corr_sign\": np.sign(corrs),   # +1 ≈ higher feature -> higher prediction; -1 opposite\n",
    "    \"corr_value\": corrs\n",
    "}).sort_values(\"mean_abs_shap\", ascending=False)\n",
    "\n",
    "# Keep per-row SHAP small: only top-10 features\n",
    "topk = 10 if len(global_df) > 10 else len(global_df)\n",
    "top_feats = global_df[\"feature\"].head(topk).tolist()\n",
    "top_idx = [X_num.columns.get_loc(f) for f in top_feats]\n",
    "perrow_df = pd.DataFrame(vals[:, top_idx], columns=top_feats, index=sub_df.index)\n",
    "\n",
    "# Also handy context\n",
    "meta_df = pd.DataFrame({\n",
    "    \"prediction\": model.predict(X_num),\n",
    "    target_metric: sub_df[target_metric].values\n",
    "}, index=sub_df.index)\n",
    "\n",
    "# ---- PRINT CSV blocks you can paste here ----\n",
    "print(\"# --- shap_global.csv ---\")\n",
    "print(global_df.to_csv(index=False))\n",
    "\n",
    "print(\"# --- shap_values_top10.csv ---\")\n",
    "print(perrow_df.to_csv())\n",
    "\n",
    "print(\"# --- shap_meta.csv ---\")\n",
    "print(meta_df.to_csv())\n"
   ]
  },
  {
   "cell_type": "code",
   "execution_count": 41,
   "metadata": {},
   "outputs": [
    {
     "data": {
      "text/plain": [
       "['sub_exp_cfg_optim.args_.lr',\n",
       " 'sub_exp_cfg_agent_params.args_.target_soft_tau',\n",
       " 'sub_exp_cfg_experiment']"
      ]
     },
     "execution_count": 41,
     "metadata": {},
     "output_type": "execute_result"
    }
   ],
   "source": [
    "hyperparam_columns"
   ]
  },
  {
   "cell_type": "code",
   "execution_count": 42,
   "metadata": {},
   "outputs": [
    {
     "data": {
      "application/vnd.plotly.v1+json": {
       "config": {
        "plotlyServerURL": "https://plot.ly"
       },
       "data": [
        {
         "customdata": [
          [
           "0.0005",
           "fixed_res"
          ],
          [
           "0.0005",
           "fixed_res"
          ]
         ],
         "hovertemplate": "experiment_name=0000_optim.args_.lr_5e-05__agent_params.args_.target_soft_tau_0.0005__experiment_fixed_res<br>sub_exp_cfg_optim.args_.lr=%{x}<br>episode_rewards_mean=%{y}<br>sub_exp_cfg_agent_params.args_.target_soft_tau=%{customdata[0]}<br>sub_exp_cfg_experiment=%{customdata[1]}<extra></extra>",
         "legendgroup": "0000_optim.args_.lr_5e-05__agent_params.args_.target_soft_tau_0.0005__experiment_fixed_res",
         "marker": {
          "color": "#636efa",
          "opacity": 0.8,
          "size": 8,
          "symbol": "circle"
         },
         "mode": "markers",
         "name": "0000_optim.args_.lr_5e-05__agent_params.args_.target_soft_tau_0.0005__experiment_fixed_res",
         "orientation": "v",
         "showlegend": true,
         "type": "scatter",
         "x": [
          "5e-05",
          "5e-05"
         ],
         "xaxis": "x",
         "y": [
          -9.784597863178721,
          -65.12525465745016
         ],
         "yaxis": "y"
        },
        {
         "customdata": [
          [
           "0.0007",
           "fixed_res"
          ],
          [
           "0.0007",
           "fixed_res"
          ]
         ],
         "hovertemplate": "experiment_name=0001_optim.args_.lr_5e-05__agent_params.args_.target_soft_tau_0.0007__experiment_fixed_res<br>sub_exp_cfg_optim.args_.lr=%{x}<br>episode_rewards_mean=%{y}<br>sub_exp_cfg_agent_params.args_.target_soft_tau=%{customdata[0]}<br>sub_exp_cfg_experiment=%{customdata[1]}<extra></extra>",
         "legendgroup": "0001_optim.args_.lr_5e-05__agent_params.args_.target_soft_tau_0.0007__experiment_fixed_res",
         "marker": {
          "color": "#EF553B",
          "opacity": 0.8,
          "size": 8,
          "symbol": "circle"
         },
         "mode": "markers",
         "name": "0001_optim.args_.lr_5e-05__agent_params.args_.target_soft_tau_0.0007__experiment_fixed_res",
         "orientation": "v",
         "showlegend": true,
         "type": "scatter",
         "x": [
          "5e-05",
          "5e-05"
         ],
         "xaxis": "x",
         "y": [
          -11.552818282393407,
          -65.12525465745016
         ],
         "yaxis": "y"
        },
        {
         "customdata": [
          [
           "0.0005",
           "fixed_res"
          ],
          [
           "0.0005",
           "fixed_res"
          ]
         ],
         "hovertemplate": "experiment_name=0002_optim.args_.lr_0.0001__agent_params.args_.target_soft_tau_0.0005__experiment_fixed_res<br>sub_exp_cfg_optim.args_.lr=%{x}<br>episode_rewards_mean=%{y}<br>sub_exp_cfg_agent_params.args_.target_soft_tau=%{customdata[0]}<br>sub_exp_cfg_experiment=%{customdata[1]}<extra></extra>",
         "legendgroup": "0002_optim.args_.lr_0.0001__agent_params.args_.target_soft_tau_0.0005__experiment_fixed_res",
         "marker": {
          "color": "#00cc96",
          "opacity": 0.8,
          "size": 8,
          "symbol": "circle"
         },
         "mode": "markers",
         "name": "0002_optim.args_.lr_0.0001__agent_params.args_.target_soft_tau_0.0005__experiment_fixed_res",
         "orientation": "v",
         "showlegend": true,
         "type": "scatter",
         "x": [
          "0.0001",
          "0.0001"
         ],
         "xaxis": "x",
         "y": [
          -65.12525465745016,
          -65.12525465745016
         ],
         "yaxis": "y"
        },
        {
         "customdata": [
          [
           "0.0007",
           "fixed_res"
          ],
          [
           "0.0007",
           "fixed_res"
          ]
         ],
         "hovertemplate": "experiment_name=0003_optim.args_.lr_0.0001__agent_params.args_.target_soft_tau_0.0007__experiment_fixed_res<br>sub_exp_cfg_optim.args_.lr=%{x}<br>episode_rewards_mean=%{y}<br>sub_exp_cfg_agent_params.args_.target_soft_tau=%{customdata[0]}<br>sub_exp_cfg_experiment=%{customdata[1]}<extra></extra>",
         "legendgroup": "0003_optim.args_.lr_0.0001__agent_params.args_.target_soft_tau_0.0007__experiment_fixed_res",
         "marker": {
          "color": "#ab63fa",
          "opacity": 0.8,
          "size": 8,
          "symbol": "circle"
         },
         "mode": "markers",
         "name": "0003_optim.args_.lr_0.0001__agent_params.args_.target_soft_tau_0.0007__experiment_fixed_res",
         "orientation": "v",
         "showlegend": true,
         "type": "scatter",
         "x": [
          "0.0001",
          "0.0001"
         ],
         "xaxis": "x",
         "y": [
          -65.12525465745016,
          -65.12525465745016
         ],
         "yaxis": "y"
        }
       ],
       "layout": {
        "height": 500,
        "legend": {
         "title": {
          "text": "experiment_name"
         },
         "tracegroupgap": 0
        },
        "showlegend": false,
        "template": {
         "data": {
          "bar": [
           {
            "error_x": {
             "color": "#2a3f5f"
            },
            "error_y": {
             "color": "#2a3f5f"
            },
            "marker": {
             "line": {
              "color": "#E5ECF6",
              "width": 0.5
             },
             "pattern": {
              "fillmode": "overlay",
              "size": 10,
              "solidity": 0.2
             }
            },
            "type": "bar"
           }
          ],
          "barpolar": [
           {
            "marker": {
             "line": {
              "color": "#E5ECF6",
              "width": 0.5
             },
             "pattern": {
              "fillmode": "overlay",
              "size": 10,
              "solidity": 0.2
             }
            },
            "type": "barpolar"
           }
          ],
          "carpet": [
           {
            "aaxis": {
             "endlinecolor": "#2a3f5f",
             "gridcolor": "white",
             "linecolor": "white",
             "minorgridcolor": "white",
             "startlinecolor": "#2a3f5f"
            },
            "baxis": {
             "endlinecolor": "#2a3f5f",
             "gridcolor": "white",
             "linecolor": "white",
             "minorgridcolor": "white",
             "startlinecolor": "#2a3f5f"
            },
            "type": "carpet"
           }
          ],
          "choropleth": [
           {
            "colorbar": {
             "outlinewidth": 0,
             "ticks": ""
            },
            "type": "choropleth"
           }
          ],
          "contour": [
           {
            "colorbar": {
             "outlinewidth": 0,
             "ticks": ""
            },
            "colorscale": [
             [
              0,
              "#0d0887"
             ],
             [
              0.1111111111111111,
              "#46039f"
             ],
             [
              0.2222222222222222,
              "#7201a8"
             ],
             [
              0.3333333333333333,
              "#9c179e"
             ],
             [
              0.4444444444444444,
              "#bd3786"
             ],
             [
              0.5555555555555556,
              "#d8576b"
             ],
             [
              0.6666666666666666,
              "#ed7953"
             ],
             [
              0.7777777777777778,
              "#fb9f3a"
             ],
             [
              0.8888888888888888,
              "#fdca26"
             ],
             [
              1,
              "#f0f921"
             ]
            ],
            "type": "contour"
           }
          ],
          "contourcarpet": [
           {
            "colorbar": {
             "outlinewidth": 0,
             "ticks": ""
            },
            "type": "contourcarpet"
           }
          ],
          "heatmap": [
           {
            "colorbar": {
             "outlinewidth": 0,
             "ticks": ""
            },
            "colorscale": [
             [
              0,
              "#0d0887"
             ],
             [
              0.1111111111111111,
              "#46039f"
             ],
             [
              0.2222222222222222,
              "#7201a8"
             ],
             [
              0.3333333333333333,
              "#9c179e"
             ],
             [
              0.4444444444444444,
              "#bd3786"
             ],
             [
              0.5555555555555556,
              "#d8576b"
             ],
             [
              0.6666666666666666,
              "#ed7953"
             ],
             [
              0.7777777777777778,
              "#fb9f3a"
             ],
             [
              0.8888888888888888,
              "#fdca26"
             ],
             [
              1,
              "#f0f921"
             ]
            ],
            "type": "heatmap"
           }
          ],
          "heatmapgl": [
           {
            "colorbar": {
             "outlinewidth": 0,
             "ticks": ""
            },
            "colorscale": [
             [
              0,
              "#0d0887"
             ],
             [
              0.1111111111111111,
              "#46039f"
             ],
             [
              0.2222222222222222,
              "#7201a8"
             ],
             [
              0.3333333333333333,
              "#9c179e"
             ],
             [
              0.4444444444444444,
              "#bd3786"
             ],
             [
              0.5555555555555556,
              "#d8576b"
             ],
             [
              0.6666666666666666,
              "#ed7953"
             ],
             [
              0.7777777777777778,
              "#fb9f3a"
             ],
             [
              0.8888888888888888,
              "#fdca26"
             ],
             [
              1,
              "#f0f921"
             ]
            ],
            "type": "heatmapgl"
           }
          ],
          "histogram": [
           {
            "marker": {
             "pattern": {
              "fillmode": "overlay",
              "size": 10,
              "solidity": 0.2
             }
            },
            "type": "histogram"
           }
          ],
          "histogram2d": [
           {
            "colorbar": {
             "outlinewidth": 0,
             "ticks": ""
            },
            "colorscale": [
             [
              0,
              "#0d0887"
             ],
             [
              0.1111111111111111,
              "#46039f"
             ],
             [
              0.2222222222222222,
              "#7201a8"
             ],
             [
              0.3333333333333333,
              "#9c179e"
             ],
             [
              0.4444444444444444,
              "#bd3786"
             ],
             [
              0.5555555555555556,
              "#d8576b"
             ],
             [
              0.6666666666666666,
              "#ed7953"
             ],
             [
              0.7777777777777778,
              "#fb9f3a"
             ],
             [
              0.8888888888888888,
              "#fdca26"
             ],
             [
              1,
              "#f0f921"
             ]
            ],
            "type": "histogram2d"
           }
          ],
          "histogram2dcontour": [
           {
            "colorbar": {
             "outlinewidth": 0,
             "ticks": ""
            },
            "colorscale": [
             [
              0,
              "#0d0887"
             ],
             [
              0.1111111111111111,
              "#46039f"
             ],
             [
              0.2222222222222222,
              "#7201a8"
             ],
             [
              0.3333333333333333,
              "#9c179e"
             ],
             [
              0.4444444444444444,
              "#bd3786"
             ],
             [
              0.5555555555555556,
              "#d8576b"
             ],
             [
              0.6666666666666666,
              "#ed7953"
             ],
             [
              0.7777777777777778,
              "#fb9f3a"
             ],
             [
              0.8888888888888888,
              "#fdca26"
             ],
             [
              1,
              "#f0f921"
             ]
            ],
            "type": "histogram2dcontour"
           }
          ],
          "mesh3d": [
           {
            "colorbar": {
             "outlinewidth": 0,
             "ticks": ""
            },
            "type": "mesh3d"
           }
          ],
          "parcoords": [
           {
            "line": {
             "colorbar": {
              "outlinewidth": 0,
              "ticks": ""
             }
            },
            "type": "parcoords"
           }
          ],
          "pie": [
           {
            "automargin": true,
            "type": "pie"
           }
          ],
          "scatter": [
           {
            "fillpattern": {
             "fillmode": "overlay",
             "size": 10,
             "solidity": 0.2
            },
            "type": "scatter"
           }
          ],
          "scatter3d": [
           {
            "line": {
             "colorbar": {
              "outlinewidth": 0,
              "ticks": ""
             }
            },
            "marker": {
             "colorbar": {
              "outlinewidth": 0,
              "ticks": ""
             }
            },
            "type": "scatter3d"
           }
          ],
          "scattercarpet": [
           {
            "marker": {
             "colorbar": {
              "outlinewidth": 0,
              "ticks": ""
             }
            },
            "type": "scattercarpet"
           }
          ],
          "scattergeo": [
           {
            "marker": {
             "colorbar": {
              "outlinewidth": 0,
              "ticks": ""
             }
            },
            "type": "scattergeo"
           }
          ],
          "scattergl": [
           {
            "marker": {
             "colorbar": {
              "outlinewidth": 0,
              "ticks": ""
             }
            },
            "type": "scattergl"
           }
          ],
          "scattermapbox": [
           {
            "marker": {
             "colorbar": {
              "outlinewidth": 0,
              "ticks": ""
             }
            },
            "type": "scattermapbox"
           }
          ],
          "scatterpolar": [
           {
            "marker": {
             "colorbar": {
              "outlinewidth": 0,
              "ticks": ""
             }
            },
            "type": "scatterpolar"
           }
          ],
          "scatterpolargl": [
           {
            "marker": {
             "colorbar": {
              "outlinewidth": 0,
              "ticks": ""
             }
            },
            "type": "scatterpolargl"
           }
          ],
          "scatterternary": [
           {
            "marker": {
             "colorbar": {
              "outlinewidth": 0,
              "ticks": ""
             }
            },
            "type": "scatterternary"
           }
          ],
          "surface": [
           {
            "colorbar": {
             "outlinewidth": 0,
             "ticks": ""
            },
            "colorscale": [
             [
              0,
              "#0d0887"
             ],
             [
              0.1111111111111111,
              "#46039f"
             ],
             [
              0.2222222222222222,
              "#7201a8"
             ],
             [
              0.3333333333333333,
              "#9c179e"
             ],
             [
              0.4444444444444444,
              "#bd3786"
             ],
             [
              0.5555555555555556,
              "#d8576b"
             ],
             [
              0.6666666666666666,
              "#ed7953"
             ],
             [
              0.7777777777777778,
              "#fb9f3a"
             ],
             [
              0.8888888888888888,
              "#fdca26"
             ],
             [
              1,
              "#f0f921"
             ]
            ],
            "type": "surface"
           }
          ],
          "table": [
           {
            "cells": {
             "fill": {
              "color": "#EBF0F8"
             },
             "line": {
              "color": "white"
             }
            },
            "header": {
             "fill": {
              "color": "#C8D4E3"
             },
             "line": {
              "color": "white"
             }
            },
            "type": "table"
           }
          ]
         },
         "layout": {
          "annotationdefaults": {
           "arrowcolor": "#2a3f5f",
           "arrowhead": 0,
           "arrowwidth": 1
          },
          "autotypenumbers": "strict",
          "coloraxis": {
           "colorbar": {
            "outlinewidth": 0,
            "ticks": ""
           }
          },
          "colorscale": {
           "diverging": [
            [
             0,
             "#8e0152"
            ],
            [
             0.1,
             "#c51b7d"
            ],
            [
             0.2,
             "#de77ae"
            ],
            [
             0.3,
             "#f1b6da"
            ],
            [
             0.4,
             "#fde0ef"
            ],
            [
             0.5,
             "#f7f7f7"
            ],
            [
             0.6,
             "#e6f5d0"
            ],
            [
             0.7,
             "#b8e186"
            ],
            [
             0.8,
             "#7fbc41"
            ],
            [
             0.9,
             "#4d9221"
            ],
            [
             1,
             "#276419"
            ]
           ],
           "sequential": [
            [
             0,
             "#0d0887"
            ],
            [
             0.1111111111111111,
             "#46039f"
            ],
            [
             0.2222222222222222,
             "#7201a8"
            ],
            [
             0.3333333333333333,
             "#9c179e"
            ],
            [
             0.4444444444444444,
             "#bd3786"
            ],
            [
             0.5555555555555556,
             "#d8576b"
            ],
            [
             0.6666666666666666,
             "#ed7953"
            ],
            [
             0.7777777777777778,
             "#fb9f3a"
            ],
            [
             0.8888888888888888,
             "#fdca26"
            ],
            [
             1,
             "#f0f921"
            ]
           ],
           "sequentialminus": [
            [
             0,
             "#0d0887"
            ],
            [
             0.1111111111111111,
             "#46039f"
            ],
            [
             0.2222222222222222,
             "#7201a8"
            ],
            [
             0.3333333333333333,
             "#9c179e"
            ],
            [
             0.4444444444444444,
             "#bd3786"
            ],
            [
             0.5555555555555556,
             "#d8576b"
            ],
            [
             0.6666666666666666,
             "#ed7953"
            ],
            [
             0.7777777777777778,
             "#fb9f3a"
            ],
            [
             0.8888888888888888,
             "#fdca26"
            ],
            [
             1,
             "#f0f921"
            ]
           ]
          },
          "colorway": [
           "#636efa",
           "#EF553B",
           "#00cc96",
           "#ab63fa",
           "#FFA15A",
           "#19d3f3",
           "#FF6692",
           "#B6E880",
           "#FF97FF",
           "#FECB52"
          ],
          "font": {
           "color": "#2a3f5f"
          },
          "geo": {
           "bgcolor": "white",
           "lakecolor": "white",
           "landcolor": "#E5ECF6",
           "showlakes": true,
           "showland": true,
           "subunitcolor": "white"
          },
          "hoverlabel": {
           "align": "left"
          },
          "hovermode": "closest",
          "mapbox": {
           "style": "light"
          },
          "paper_bgcolor": "white",
          "plot_bgcolor": "#E5ECF6",
          "polar": {
           "angularaxis": {
            "gridcolor": "white",
            "linecolor": "white",
            "ticks": ""
           },
           "bgcolor": "#E5ECF6",
           "radialaxis": {
            "gridcolor": "white",
            "linecolor": "white",
            "ticks": ""
           }
          },
          "scene": {
           "xaxis": {
            "backgroundcolor": "#E5ECF6",
            "gridcolor": "white",
            "gridwidth": 2,
            "linecolor": "white",
            "showbackground": true,
            "ticks": "",
            "zerolinecolor": "white"
           },
           "yaxis": {
            "backgroundcolor": "#E5ECF6",
            "gridcolor": "white",
            "gridwidth": 2,
            "linecolor": "white",
            "showbackground": true,
            "ticks": "",
            "zerolinecolor": "white"
           },
           "zaxis": {
            "backgroundcolor": "#E5ECF6",
            "gridcolor": "white",
            "gridwidth": 2,
            "linecolor": "white",
            "showbackground": true,
            "ticks": "",
            "zerolinecolor": "white"
           }
          },
          "shapedefaults": {
           "line": {
            "color": "#2a3f5f"
           }
          },
          "ternary": {
           "aaxis": {
            "gridcolor": "white",
            "linecolor": "white",
            "ticks": ""
           },
           "baxis": {
            "gridcolor": "white",
            "linecolor": "white",
            "ticks": ""
           },
           "bgcolor": "#E5ECF6",
           "caxis": {
            "gridcolor": "white",
            "linecolor": "white",
            "ticks": ""
           }
          },
          "title": {
           "x": 0.05
          },
          "xaxis": {
           "automargin": true,
           "gridcolor": "white",
           "linecolor": "white",
           "ticks": "",
           "title": {
            "standoff": 15
           },
           "zerolinecolor": "white",
           "zerolinewidth": 2
          },
          "yaxis": {
           "automargin": true,
           "gridcolor": "white",
           "linecolor": "white",
           "ticks": "",
           "title": {
            "standoff": 15
           },
           "zerolinecolor": "white",
           "zerolinewidth": 2
          }
         }
        },
        "title": {
         "text": "episode_rewards_mean vs sub_exp_cfg_optim.args_.lr (varying: 2)"
        },
        "xaxis": {
         "anchor": "y",
         "domain": [
          0,
          1
         ],
         "title": {
          "text": "sub_exp_cfg_optim.args_.lr"
         }
        },
        "yaxis": {
         "anchor": "x",
         "domain": [
          0,
          1
         ],
         "title": {
          "text": "episode_rewards_mean"
         }
        }
       }
      }
     },
     "metadata": {},
     "output_type": "display_data"
    },
    {
     "data": {
      "application/vnd.plotly.v1+json": {
       "config": {
        "plotlyServerURL": "https://plot.ly"
       },
       "data": [
        {
         "customdata": [
          [
           "5e-05",
           "fixed_res"
          ],
          [
           "5e-05",
           "fixed_res"
          ]
         ],
         "hovertemplate": "experiment_name=0000_optim.args_.lr_5e-05__agent_params.args_.target_soft_tau_0.0005__experiment_fixed_res<br>sub_exp_cfg_agent_params.args_.target_soft_tau=%{x}<br>episode_rewards_mean=%{y}<br>sub_exp_cfg_optim.args_.lr=%{customdata[0]}<br>sub_exp_cfg_experiment=%{customdata[1]}<extra></extra>",
         "legendgroup": "0000_optim.args_.lr_5e-05__agent_params.args_.target_soft_tau_0.0005__experiment_fixed_res",
         "marker": {
          "color": "#636efa",
          "opacity": 0.8,
          "size": 8,
          "symbol": "circle"
         },
         "mode": "markers",
         "name": "0000_optim.args_.lr_5e-05__agent_params.args_.target_soft_tau_0.0005__experiment_fixed_res",
         "orientation": "v",
         "showlegend": true,
         "type": "scatter",
         "x": [
          "0.0005",
          "0.0005"
         ],
         "xaxis": "x",
         "y": [
          -9.784597863178721,
          -65.12525465745016
         ],
         "yaxis": "y"
        },
        {
         "customdata": [
          [
           "5e-05",
           "fixed_res"
          ],
          [
           "5e-05",
           "fixed_res"
          ]
         ],
         "hovertemplate": "experiment_name=0001_optim.args_.lr_5e-05__agent_params.args_.target_soft_tau_0.0007__experiment_fixed_res<br>sub_exp_cfg_agent_params.args_.target_soft_tau=%{x}<br>episode_rewards_mean=%{y}<br>sub_exp_cfg_optim.args_.lr=%{customdata[0]}<br>sub_exp_cfg_experiment=%{customdata[1]}<extra></extra>",
         "legendgroup": "0001_optim.args_.lr_5e-05__agent_params.args_.target_soft_tau_0.0007__experiment_fixed_res",
         "marker": {
          "color": "#EF553B",
          "opacity": 0.8,
          "size": 8,
          "symbol": "circle"
         },
         "mode": "markers",
         "name": "0001_optim.args_.lr_5e-05__agent_params.args_.target_soft_tau_0.0007__experiment_fixed_res",
         "orientation": "v",
         "showlegend": true,
         "type": "scatter",
         "x": [
          "0.0007",
          "0.0007"
         ],
         "xaxis": "x",
         "y": [
          -11.552818282393407,
          -65.12525465745016
         ],
         "yaxis": "y"
        },
        {
         "customdata": [
          [
           "0.0001",
           "fixed_res"
          ],
          [
           "0.0001",
           "fixed_res"
          ]
         ],
         "hovertemplate": "experiment_name=0002_optim.args_.lr_0.0001__agent_params.args_.target_soft_tau_0.0005__experiment_fixed_res<br>sub_exp_cfg_agent_params.args_.target_soft_tau=%{x}<br>episode_rewards_mean=%{y}<br>sub_exp_cfg_optim.args_.lr=%{customdata[0]}<br>sub_exp_cfg_experiment=%{customdata[1]}<extra></extra>",
         "legendgroup": "0002_optim.args_.lr_0.0001__agent_params.args_.target_soft_tau_0.0005__experiment_fixed_res",
         "marker": {
          "color": "#00cc96",
          "opacity": 0.8,
          "size": 8,
          "symbol": "circle"
         },
         "mode": "markers",
         "name": "0002_optim.args_.lr_0.0001__agent_params.args_.target_soft_tau_0.0005__experiment_fixed_res",
         "orientation": "v",
         "showlegend": true,
         "type": "scatter",
         "x": [
          "0.0005",
          "0.0005"
         ],
         "xaxis": "x",
         "y": [
          -65.12525465745016,
          -65.12525465745016
         ],
         "yaxis": "y"
        },
        {
         "customdata": [
          [
           "0.0001",
           "fixed_res"
          ],
          [
           "0.0001",
           "fixed_res"
          ]
         ],
         "hovertemplate": "experiment_name=0003_optim.args_.lr_0.0001__agent_params.args_.target_soft_tau_0.0007__experiment_fixed_res<br>sub_exp_cfg_agent_params.args_.target_soft_tau=%{x}<br>episode_rewards_mean=%{y}<br>sub_exp_cfg_optim.args_.lr=%{customdata[0]}<br>sub_exp_cfg_experiment=%{customdata[1]}<extra></extra>",
         "legendgroup": "0003_optim.args_.lr_0.0001__agent_params.args_.target_soft_tau_0.0007__experiment_fixed_res",
         "marker": {
          "color": "#ab63fa",
          "opacity": 0.8,
          "size": 8,
          "symbol": "circle"
         },
         "mode": "markers",
         "name": "0003_optim.args_.lr_0.0001__agent_params.args_.target_soft_tau_0.0007__experiment_fixed_res",
         "orientation": "v",
         "showlegend": true,
         "type": "scatter",
         "x": [
          "0.0007",
          "0.0007"
         ],
         "xaxis": "x",
         "y": [
          -65.12525465745016,
          -65.12525465745016
         ],
         "yaxis": "y"
        }
       ],
       "layout": {
        "height": 500,
        "legend": {
         "title": {
          "text": "experiment_name"
         },
         "tracegroupgap": 0
        },
        "showlegend": false,
        "template": {
         "data": {
          "bar": [
           {
            "error_x": {
             "color": "#2a3f5f"
            },
            "error_y": {
             "color": "#2a3f5f"
            },
            "marker": {
             "line": {
              "color": "#E5ECF6",
              "width": 0.5
             },
             "pattern": {
              "fillmode": "overlay",
              "size": 10,
              "solidity": 0.2
             }
            },
            "type": "bar"
           }
          ],
          "barpolar": [
           {
            "marker": {
             "line": {
              "color": "#E5ECF6",
              "width": 0.5
             },
             "pattern": {
              "fillmode": "overlay",
              "size": 10,
              "solidity": 0.2
             }
            },
            "type": "barpolar"
           }
          ],
          "carpet": [
           {
            "aaxis": {
             "endlinecolor": "#2a3f5f",
             "gridcolor": "white",
             "linecolor": "white",
             "minorgridcolor": "white",
             "startlinecolor": "#2a3f5f"
            },
            "baxis": {
             "endlinecolor": "#2a3f5f",
             "gridcolor": "white",
             "linecolor": "white",
             "minorgridcolor": "white",
             "startlinecolor": "#2a3f5f"
            },
            "type": "carpet"
           }
          ],
          "choropleth": [
           {
            "colorbar": {
             "outlinewidth": 0,
             "ticks": ""
            },
            "type": "choropleth"
           }
          ],
          "contour": [
           {
            "colorbar": {
             "outlinewidth": 0,
             "ticks": ""
            },
            "colorscale": [
             [
              0,
              "#0d0887"
             ],
             [
              0.1111111111111111,
              "#46039f"
             ],
             [
              0.2222222222222222,
              "#7201a8"
             ],
             [
              0.3333333333333333,
              "#9c179e"
             ],
             [
              0.4444444444444444,
              "#bd3786"
             ],
             [
              0.5555555555555556,
              "#d8576b"
             ],
             [
              0.6666666666666666,
              "#ed7953"
             ],
             [
              0.7777777777777778,
              "#fb9f3a"
             ],
             [
              0.8888888888888888,
              "#fdca26"
             ],
             [
              1,
              "#f0f921"
             ]
            ],
            "type": "contour"
           }
          ],
          "contourcarpet": [
           {
            "colorbar": {
             "outlinewidth": 0,
             "ticks": ""
            },
            "type": "contourcarpet"
           }
          ],
          "heatmap": [
           {
            "colorbar": {
             "outlinewidth": 0,
             "ticks": ""
            },
            "colorscale": [
             [
              0,
              "#0d0887"
             ],
             [
              0.1111111111111111,
              "#46039f"
             ],
             [
              0.2222222222222222,
              "#7201a8"
             ],
             [
              0.3333333333333333,
              "#9c179e"
             ],
             [
              0.4444444444444444,
              "#bd3786"
             ],
             [
              0.5555555555555556,
              "#d8576b"
             ],
             [
              0.6666666666666666,
              "#ed7953"
             ],
             [
              0.7777777777777778,
              "#fb9f3a"
             ],
             [
              0.8888888888888888,
              "#fdca26"
             ],
             [
              1,
              "#f0f921"
             ]
            ],
            "type": "heatmap"
           }
          ],
          "heatmapgl": [
           {
            "colorbar": {
             "outlinewidth": 0,
             "ticks": ""
            },
            "colorscale": [
             [
              0,
              "#0d0887"
             ],
             [
              0.1111111111111111,
              "#46039f"
             ],
             [
              0.2222222222222222,
              "#7201a8"
             ],
             [
              0.3333333333333333,
              "#9c179e"
             ],
             [
              0.4444444444444444,
              "#bd3786"
             ],
             [
              0.5555555555555556,
              "#d8576b"
             ],
             [
              0.6666666666666666,
              "#ed7953"
             ],
             [
              0.7777777777777778,
              "#fb9f3a"
             ],
             [
              0.8888888888888888,
              "#fdca26"
             ],
             [
              1,
              "#f0f921"
             ]
            ],
            "type": "heatmapgl"
           }
          ],
          "histogram": [
           {
            "marker": {
             "pattern": {
              "fillmode": "overlay",
              "size": 10,
              "solidity": 0.2
             }
            },
            "type": "histogram"
           }
          ],
          "histogram2d": [
           {
            "colorbar": {
             "outlinewidth": 0,
             "ticks": ""
            },
            "colorscale": [
             [
              0,
              "#0d0887"
             ],
             [
              0.1111111111111111,
              "#46039f"
             ],
             [
              0.2222222222222222,
              "#7201a8"
             ],
             [
              0.3333333333333333,
              "#9c179e"
             ],
             [
              0.4444444444444444,
              "#bd3786"
             ],
             [
              0.5555555555555556,
              "#d8576b"
             ],
             [
              0.6666666666666666,
              "#ed7953"
             ],
             [
              0.7777777777777778,
              "#fb9f3a"
             ],
             [
              0.8888888888888888,
              "#fdca26"
             ],
             [
              1,
              "#f0f921"
             ]
            ],
            "type": "histogram2d"
           }
          ],
          "histogram2dcontour": [
           {
            "colorbar": {
             "outlinewidth": 0,
             "ticks": ""
            },
            "colorscale": [
             [
              0,
              "#0d0887"
             ],
             [
              0.1111111111111111,
              "#46039f"
             ],
             [
              0.2222222222222222,
              "#7201a8"
             ],
             [
              0.3333333333333333,
              "#9c179e"
             ],
             [
              0.4444444444444444,
              "#bd3786"
             ],
             [
              0.5555555555555556,
              "#d8576b"
             ],
             [
              0.6666666666666666,
              "#ed7953"
             ],
             [
              0.7777777777777778,
              "#fb9f3a"
             ],
             [
              0.8888888888888888,
              "#fdca26"
             ],
             [
              1,
              "#f0f921"
             ]
            ],
            "type": "histogram2dcontour"
           }
          ],
          "mesh3d": [
           {
            "colorbar": {
             "outlinewidth": 0,
             "ticks": ""
            },
            "type": "mesh3d"
           }
          ],
          "parcoords": [
           {
            "line": {
             "colorbar": {
              "outlinewidth": 0,
              "ticks": ""
             }
            },
            "type": "parcoords"
           }
          ],
          "pie": [
           {
            "automargin": true,
            "type": "pie"
           }
          ],
          "scatter": [
           {
            "fillpattern": {
             "fillmode": "overlay",
             "size": 10,
             "solidity": 0.2
            },
            "type": "scatter"
           }
          ],
          "scatter3d": [
           {
            "line": {
             "colorbar": {
              "outlinewidth": 0,
              "ticks": ""
             }
            },
            "marker": {
             "colorbar": {
              "outlinewidth": 0,
              "ticks": ""
             }
            },
            "type": "scatter3d"
           }
          ],
          "scattercarpet": [
           {
            "marker": {
             "colorbar": {
              "outlinewidth": 0,
              "ticks": ""
             }
            },
            "type": "scattercarpet"
           }
          ],
          "scattergeo": [
           {
            "marker": {
             "colorbar": {
              "outlinewidth": 0,
              "ticks": ""
             }
            },
            "type": "scattergeo"
           }
          ],
          "scattergl": [
           {
            "marker": {
             "colorbar": {
              "outlinewidth": 0,
              "ticks": ""
             }
            },
            "type": "scattergl"
           }
          ],
          "scattermapbox": [
           {
            "marker": {
             "colorbar": {
              "outlinewidth": 0,
              "ticks": ""
             }
            },
            "type": "scattermapbox"
           }
          ],
          "scatterpolar": [
           {
            "marker": {
             "colorbar": {
              "outlinewidth": 0,
              "ticks": ""
             }
            },
            "type": "scatterpolar"
           }
          ],
          "scatterpolargl": [
           {
            "marker": {
             "colorbar": {
              "outlinewidth": 0,
              "ticks": ""
             }
            },
            "type": "scatterpolargl"
           }
          ],
          "scatterternary": [
           {
            "marker": {
             "colorbar": {
              "outlinewidth": 0,
              "ticks": ""
             }
            },
            "type": "scatterternary"
           }
          ],
          "surface": [
           {
            "colorbar": {
             "outlinewidth": 0,
             "ticks": ""
            },
            "colorscale": [
             [
              0,
              "#0d0887"
             ],
             [
              0.1111111111111111,
              "#46039f"
             ],
             [
              0.2222222222222222,
              "#7201a8"
             ],
             [
              0.3333333333333333,
              "#9c179e"
             ],
             [
              0.4444444444444444,
              "#bd3786"
             ],
             [
              0.5555555555555556,
              "#d8576b"
             ],
             [
              0.6666666666666666,
              "#ed7953"
             ],
             [
              0.7777777777777778,
              "#fb9f3a"
             ],
             [
              0.8888888888888888,
              "#fdca26"
             ],
             [
              1,
              "#f0f921"
             ]
            ],
            "type": "surface"
           }
          ],
          "table": [
           {
            "cells": {
             "fill": {
              "color": "#EBF0F8"
             },
             "line": {
              "color": "white"
             }
            },
            "header": {
             "fill": {
              "color": "#C8D4E3"
             },
             "line": {
              "color": "white"
             }
            },
            "type": "table"
           }
          ]
         },
         "layout": {
          "annotationdefaults": {
           "arrowcolor": "#2a3f5f",
           "arrowhead": 0,
           "arrowwidth": 1
          },
          "autotypenumbers": "strict",
          "coloraxis": {
           "colorbar": {
            "outlinewidth": 0,
            "ticks": ""
           }
          },
          "colorscale": {
           "diverging": [
            [
             0,
             "#8e0152"
            ],
            [
             0.1,
             "#c51b7d"
            ],
            [
             0.2,
             "#de77ae"
            ],
            [
             0.3,
             "#f1b6da"
            ],
            [
             0.4,
             "#fde0ef"
            ],
            [
             0.5,
             "#f7f7f7"
            ],
            [
             0.6,
             "#e6f5d0"
            ],
            [
             0.7,
             "#b8e186"
            ],
            [
             0.8,
             "#7fbc41"
            ],
            [
             0.9,
             "#4d9221"
            ],
            [
             1,
             "#276419"
            ]
           ],
           "sequential": [
            [
             0,
             "#0d0887"
            ],
            [
             0.1111111111111111,
             "#46039f"
            ],
            [
             0.2222222222222222,
             "#7201a8"
            ],
            [
             0.3333333333333333,
             "#9c179e"
            ],
            [
             0.4444444444444444,
             "#bd3786"
            ],
            [
             0.5555555555555556,
             "#d8576b"
            ],
            [
             0.6666666666666666,
             "#ed7953"
            ],
            [
             0.7777777777777778,
             "#fb9f3a"
            ],
            [
             0.8888888888888888,
             "#fdca26"
            ],
            [
             1,
             "#f0f921"
            ]
           ],
           "sequentialminus": [
            [
             0,
             "#0d0887"
            ],
            [
             0.1111111111111111,
             "#46039f"
            ],
            [
             0.2222222222222222,
             "#7201a8"
            ],
            [
             0.3333333333333333,
             "#9c179e"
            ],
            [
             0.4444444444444444,
             "#bd3786"
            ],
            [
             0.5555555555555556,
             "#d8576b"
            ],
            [
             0.6666666666666666,
             "#ed7953"
            ],
            [
             0.7777777777777778,
             "#fb9f3a"
            ],
            [
             0.8888888888888888,
             "#fdca26"
            ],
            [
             1,
             "#f0f921"
            ]
           ]
          },
          "colorway": [
           "#636efa",
           "#EF553B",
           "#00cc96",
           "#ab63fa",
           "#FFA15A",
           "#19d3f3",
           "#FF6692",
           "#B6E880",
           "#FF97FF",
           "#FECB52"
          ],
          "font": {
           "color": "#2a3f5f"
          },
          "geo": {
           "bgcolor": "white",
           "lakecolor": "white",
           "landcolor": "#E5ECF6",
           "showlakes": true,
           "showland": true,
           "subunitcolor": "white"
          },
          "hoverlabel": {
           "align": "left"
          },
          "hovermode": "closest",
          "mapbox": {
           "style": "light"
          },
          "paper_bgcolor": "white",
          "plot_bgcolor": "#E5ECF6",
          "polar": {
           "angularaxis": {
            "gridcolor": "white",
            "linecolor": "white",
            "ticks": ""
           },
           "bgcolor": "#E5ECF6",
           "radialaxis": {
            "gridcolor": "white",
            "linecolor": "white",
            "ticks": ""
           }
          },
          "scene": {
           "xaxis": {
            "backgroundcolor": "#E5ECF6",
            "gridcolor": "white",
            "gridwidth": 2,
            "linecolor": "white",
            "showbackground": true,
            "ticks": "",
            "zerolinecolor": "white"
           },
           "yaxis": {
            "backgroundcolor": "#E5ECF6",
            "gridcolor": "white",
            "gridwidth": 2,
            "linecolor": "white",
            "showbackground": true,
            "ticks": "",
            "zerolinecolor": "white"
           },
           "zaxis": {
            "backgroundcolor": "#E5ECF6",
            "gridcolor": "white",
            "gridwidth": 2,
            "linecolor": "white",
            "showbackground": true,
            "ticks": "",
            "zerolinecolor": "white"
           }
          },
          "shapedefaults": {
           "line": {
            "color": "#2a3f5f"
           }
          },
          "ternary": {
           "aaxis": {
            "gridcolor": "white",
            "linecolor": "white",
            "ticks": ""
           },
           "baxis": {
            "gridcolor": "white",
            "linecolor": "white",
            "ticks": ""
           },
           "bgcolor": "#E5ECF6",
           "caxis": {
            "gridcolor": "white",
            "linecolor": "white",
            "ticks": ""
           }
          },
          "title": {
           "x": 0.05
          },
          "xaxis": {
           "automargin": true,
           "gridcolor": "white",
           "linecolor": "white",
           "ticks": "",
           "title": {
            "standoff": 15
           },
           "zerolinecolor": "white",
           "zerolinewidth": 2
          },
          "yaxis": {
           "automargin": true,
           "gridcolor": "white",
           "linecolor": "white",
           "ticks": "",
           "title": {
            "standoff": 15
           },
           "zerolinecolor": "white",
           "zerolinewidth": 2
          }
         }
        },
        "title": {
         "text": "episode_rewards_mean vs sub_exp_cfg_agent_params.args_.target_soft_tau (varying: 2)"
        },
        "xaxis": {
         "anchor": "y",
         "domain": [
          0,
          1
         ],
         "title": {
          "text": "sub_exp_cfg_agent_params.args_.target_soft_tau"
         }
        },
        "yaxis": {
         "anchor": "x",
         "domain": [
          0,
          1
         ],
         "title": {
          "text": "episode_rewards_mean"
         }
        }
       }
      }
     },
     "metadata": {},
     "output_type": "display_data"
    }
   ],
   "source": [
    "import plotly.express as px\n",
    "\n",
    "# --- config ---\n",
    "target_col = \"episode_rewards_mean\"          # your target metric\n",
    "color_col  = \"experiment_name\"               # optional color grouping\n",
    "readable_names = {\n",
    "    # optional friendly names; falls back to raw column name if missing\n",
    "    # \"hp_raw_name\": \"Pretty Name\",\n",
    "}\n",
    "\n",
    "# --- build plots ---\n",
    "varying_hps = [hp for hp in hyperparam_columns if sub_df[hp].nunique(dropna=False) > 1]\n",
    "\n",
    "if not varying_hps:\n",
    "    print(\"No hyperparameters with more than one unique value — nothing to plot.\")\n",
    "else:\n",
    "    for hp in varying_hps:\n",
    "        # Rename only the current x column (leave others as-is for hover)\n",
    "        x_name = readable_names.get(hp, hp)\n",
    "        plot_df = sub_df.rename(columns={hp: x_name})\n",
    "\n",
    "        fig = px.scatter(\n",
    "            plot_df,\n",
    "            x=x_name,\n",
    "            y=target_col,\n",
    "            color=color_col if color_col in plot_df.columns else None,\n",
    "            hover_data=hyperparam_columns,  # handy to inspect full config per point\n",
    "            title=f\"{target_col} vs {x_name} (varying: {sub_df[hp].nunique(dropna=False)})\",\n",
    "            height=500\n",
    "        )\n",
    "        fig.update_traces(mode=\"markers\", marker=dict(size=8, opacity=0.8))\n",
    "        fig.update_layout(showlegend=False)\n",
    "        fig.show()"
   ]
  },
  {
   "cell_type": "code",
   "execution_count": null,
   "metadata": {},
   "outputs": [],
   "source": []
  }
 ],
 "metadata": {
  "kernelspec": {
   "display_name": "phd_rl_algos",
   "language": "python",
   "name": "python3"
  },
  "language_info": {
   "codemirror_mode": {
    "name": "ipython",
    "version": 3
   },
   "file_extension": ".py",
   "mimetype": "text/x-python",
   "name": "python",
   "nbconvert_exporter": "python",
   "pygments_lexer": "ipython3",
   "version": "3.11.5"
  }
 },
 "nbformat": 4,
 "nbformat_minor": 2
}
