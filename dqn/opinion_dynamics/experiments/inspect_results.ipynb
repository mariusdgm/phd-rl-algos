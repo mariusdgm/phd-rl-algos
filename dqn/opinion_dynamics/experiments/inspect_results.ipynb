{
 "cells": [
  {
   "cell_type": "code",
   "execution_count": 1,
   "metadata": {},
   "outputs": [
    {
     "name": "stderr",
     "output_type": "stream",
     "text": [
      "C:\\Users\\Chainsword\\AppData\\Local\\Temp\\ipykernel_27992\\2700633988.py:12: DeprecationWarning: \n",
      "Pyarrow will become a required dependency of pandas in the next major release of pandas (pandas 3.0),\n",
      "(to allow more performant data types, such as the Arrow string type, and better interoperability with other libraries)\n",
      "but was not found to be installed on your system.\n",
      "If this would cause problems for you,\n",
      "please provide us feedback at https://github.com/pandas-dev/pandas/issues/54466\n",
      "        \n",
      "  import pandas as pd\n"
     ]
    }
   ],
   "source": [
    "import os, sys\n",
    "\n",
    "def get_dir_n_levels_up(path, n):\n",
    "    # Go up n levels from the given path\n",
    "    for _ in range(n):\n",
    "        path = os.path.dirname(path)\n",
    "    return path\n",
    "\n",
    "proj_root = get_dir_n_levels_up(os.path.abspath(\"__file__\"), 4)\n",
    "sys.path.append(proj_root)\n",
    "\n",
    "import pandas as pd\n",
    "import yaml\n",
    "import torch\n",
    "import collections\n",
    "\n",
    "import warnings\n",
    "import numpy as np\n",
    "\n",
    "import seaborn as sns\n",
    "import matplotlib.pyplot as plt\n",
    "sns.set_theme()\n",
    "\n",
    "warnings.filterwarnings(\"ignore\")\n",
    "\n",
    "from dqn.opinion_dynamics.utils.experiment import process_experiment\n"
   ]
  },
  {
   "cell_type": "code",
   "execution_count": 2,
   "metadata": {},
   "outputs": [
    {
     "data": {
      "text/plain": [
       "Index(['epoch_type', 'frame_stamp', 'greedy_epsilon', 'episode_rewards_min',\n",
       "       'episode_rewards_max', 'episode_rewards_mean', 'episode_rewards_median',\n",
       "       'episode_rewards_std', 'episode_discounted_rewards_min',\n",
       "       'episode_discounted_rewards_max', 'episode_discounted_rewards_mean',\n",
       "       'episode_discounted_rewards_median', 'episode_discounted_rewards_std',\n",
       "       'episode_frames_min', 'episode_frames_max', 'episode_frames_mean',\n",
       "       'episode_frames_median', 'episode_frames_std', 'episode_losses_min',\n",
       "       'episode_losses_max', 'episode_losses_mean', 'episode_losses_median',\n",
       "       'episode_losses_std', 'episode_max_qs_min', 'episode_max_qs_max',\n",
       "       'episode_max_qs_mean', 'episode_max_qs_median', 'episode_max_qs_std',\n",
       "       'policy_trained_times', 'target_trained_times', 'epoch_time',\n",
       "       'sub_exp_cfg_agent_params.args_.action_w_noise_amplitude',\n",
       "       'sub_exp_cfg_experiment_run_name', 'sub_experiment_path', 'seed',\n",
       "       'experiment_name'],\n",
       "      dtype='object')"
      ]
     },
     "execution_count": 2,
     "metadata": {},
     "output_type": "execute_result"
    }
   ],
   "source": [
    "# experiment_sub_dir = \"2025May02-101004_configs\" # excellent run\n",
    "experiment_sub_dir = \"2025May15-000132_configs\"\n",
    "\n",
    "exp_path = os.path.join(r\"D:\\Work\\repos\\RL\\phd-rl-algos\\dqn\\opinion_dynamics\\experiments\\results\", experiment_sub_dir)\n",
    "df = process_experiment(\n",
    "    exp_path\n",
    ")\n",
    "df.columns\n"
   ]
  },
  {
   "cell_type": "code",
   "execution_count": 3,
   "metadata": {},
   "outputs": [
    {
     "data": {
      "text/html": [
       "<div>\n",
       "<style scoped>\n",
       "    .dataframe tbody tr th:only-of-type {\n",
       "        vertical-align: middle;\n",
       "    }\n",
       "\n",
       "    .dataframe tbody tr th {\n",
       "        vertical-align: top;\n",
       "    }\n",
       "\n",
       "    .dataframe thead th {\n",
       "        text-align: right;\n",
       "    }\n",
       "</style>\n",
       "<table border=\"1\" class=\"dataframe\">\n",
       "  <thead>\n",
       "    <tr style=\"text-align: right;\">\n",
       "      <th></th>\n",
       "      <th>epoch_type</th>\n",
       "      <th>frame_stamp</th>\n",
       "      <th>greedy_epsilon</th>\n",
       "      <th>episode_rewards_min</th>\n",
       "      <th>episode_rewards_max</th>\n",
       "      <th>episode_rewards_mean</th>\n",
       "      <th>episode_rewards_median</th>\n",
       "      <th>episode_rewards_std</th>\n",
       "      <th>episode_discounted_rewards_min</th>\n",
       "      <th>episode_discounted_rewards_max</th>\n",
       "      <th>...</th>\n",
       "      <th>episode_max_qs_median</th>\n",
       "      <th>episode_max_qs_std</th>\n",
       "      <th>policy_trained_times</th>\n",
       "      <th>target_trained_times</th>\n",
       "      <th>epoch_time</th>\n",
       "      <th>sub_exp_cfg_agent_params.args_.action_w_noise_amplitude</th>\n",
       "      <th>sub_exp_cfg_experiment_run_name</th>\n",
       "      <th>sub_experiment_path</th>\n",
       "      <th>seed</th>\n",
       "      <th>experiment_name</th>\n",
       "    </tr>\n",
       "  </thead>\n",
       "  <tbody>\n",
       "    <tr>\n",
       "      <th>0</th>\n",
       "      <td>training</td>\n",
       "      <td>200000</td>\n",
       "      <td>0.9571</td>\n",
       "      <td>-12794.711927</td>\n",
       "      <td>-5.101987</td>\n",
       "      <td>-14.449954</td>\n",
       "      <td>-7.476635</td>\n",
       "      <td>146.358996</td>\n",
       "      <td>-6261.036054</td>\n",
       "      <td>-3.717650</td>\n",
       "      <td>...</td>\n",
       "      <td>0.157203</td>\n",
       "      <td>0.041949</td>\n",
       "      <td>48749.0</td>\n",
       "      <td>48.0</td>\n",
       "      <td>0 days 00:04:30.419292</td>\n",
       "      <td>0.3</td>\n",
       "      <td>best_params</td>\n",
       "      <td>D:\\Work\\repos\\RL\\phd-rl-algos\\dqn\\opinion_dyna...</td>\n",
       "      <td>0</td>\n",
       "      <td>0000_agent_params.args_.action_w_noise_amplitu...</td>\n",
       "    </tr>\n",
       "    <tr>\n",
       "      <th>1</th>\n",
       "      <td>training</td>\n",
       "      <td>400000</td>\n",
       "      <td>0.9131</td>\n",
       "      <td>-2407.437573</td>\n",
       "      <td>-5.230071</td>\n",
       "      <td>-11.538669</td>\n",
       "      <td>-7.413083</td>\n",
       "      <td>35.500605</td>\n",
       "      <td>-2405.698947</td>\n",
       "      <td>-3.796952</td>\n",
       "      <td>...</td>\n",
       "      <td>0.259462</td>\n",
       "      <td>0.033372</td>\n",
       "      <td>50000.0</td>\n",
       "      <td>48.0</td>\n",
       "      <td>0 days 00:04:56.898910</td>\n",
       "      <td>0.3</td>\n",
       "      <td>best_params</td>\n",
       "      <td>D:\\Work\\repos\\RL\\phd-rl-algos\\dqn\\opinion_dyna...</td>\n",
       "      <td>0</td>\n",
       "      <td>0000_agent_params.args_.action_w_noise_amplitu...</td>\n",
       "    </tr>\n",
       "    <tr>\n",
       "      <th>2</th>\n",
       "      <td>training</td>\n",
       "      <td>600000</td>\n",
       "      <td>0.8691</td>\n",
       "      <td>-16311.572107</td>\n",
       "      <td>-5.253712</td>\n",
       "      <td>-14.896672</td>\n",
       "      <td>-7.347484</td>\n",
       "      <td>196.006642</td>\n",
       "      <td>-14679.112093</td>\n",
       "      <td>-3.753167</td>\n",
       "      <td>...</td>\n",
       "      <td>0.348280</td>\n",
       "      <td>0.048194</td>\n",
       "      <td>50000.0</td>\n",
       "      <td>52.0</td>\n",
       "      <td>0 days 00:05:11.289726</td>\n",
       "      <td>0.3</td>\n",
       "      <td>best_params</td>\n",
       "      <td>D:\\Work\\repos\\RL\\phd-rl-algos\\dqn\\opinion_dyna...</td>\n",
       "      <td>0</td>\n",
       "      <td>0000_agent_params.args_.action_w_noise_amplitu...</td>\n",
       "    </tr>\n",
       "    <tr>\n",
       "      <th>3</th>\n",
       "      <td>training</td>\n",
       "      <td>800000</td>\n",
       "      <td>0.8251</td>\n",
       "      <td>-81435.327835</td>\n",
       "      <td>-5.141499</td>\n",
       "      <td>-19.356220</td>\n",
       "      <td>-7.301740</td>\n",
       "      <td>726.927205</td>\n",
       "      <td>-25558.014841</td>\n",
       "      <td>-3.697148</td>\n",
       "      <td>...</td>\n",
       "      <td>0.453471</td>\n",
       "      <td>0.058538</td>\n",
       "      <td>50000.0</td>\n",
       "      <td>48.0</td>\n",
       "      <td>0 days 00:05:07.762349</td>\n",
       "      <td>0.3</td>\n",
       "      <td>best_params</td>\n",
       "      <td>D:\\Work\\repos\\RL\\phd-rl-algos\\dqn\\opinion_dyna...</td>\n",
       "      <td>0</td>\n",
       "      <td>0000_agent_params.args_.action_w_noise_amplitu...</td>\n",
       "    </tr>\n",
       "    <tr>\n",
       "      <th>4</th>\n",
       "      <td>training</td>\n",
       "      <td>1000000</td>\n",
       "      <td>0.7811</td>\n",
       "      <td>-6338.762346</td>\n",
       "      <td>-5.304350</td>\n",
       "      <td>-12.129339</td>\n",
       "      <td>-7.224180</td>\n",
       "      <td>80.243145</td>\n",
       "      <td>-4363.982349</td>\n",
       "      <td>-3.773134</td>\n",
       "      <td>...</td>\n",
       "      <td>0.530237</td>\n",
       "      <td>0.065589</td>\n",
       "      <td>50000.0</td>\n",
       "      <td>52.0</td>\n",
       "      <td>0 days 00:06:00.448436</td>\n",
       "      <td>0.3</td>\n",
       "      <td>best_params</td>\n",
       "      <td>D:\\Work\\repos\\RL\\phd-rl-algos\\dqn\\opinion_dyna...</td>\n",
       "      <td>0</td>\n",
       "      <td>0000_agent_params.args_.action_w_noise_amplitu...</td>\n",
       "    </tr>\n",
       "    <tr>\n",
       "      <th>...</th>\n",
       "      <td>...</td>\n",
       "      <td>...</td>\n",
       "      <td>...</td>\n",
       "      <td>...</td>\n",
       "      <td>...</td>\n",
       "      <td>...</td>\n",
       "      <td>...</td>\n",
       "      <td>...</td>\n",
       "      <td>...</td>\n",
       "      <td>...</td>\n",
       "      <td>...</td>\n",
       "      <td>...</td>\n",
       "      <td>...</td>\n",
       "      <td>...</td>\n",
       "      <td>...</td>\n",
       "      <td>...</td>\n",
       "      <td>...</td>\n",
       "      <td>...</td>\n",
       "      <td>...</td>\n",
       "      <td>...</td>\n",
       "      <td>...</td>\n",
       "    </tr>\n",
       "    <tr>\n",
       "      <th>595</th>\n",
       "      <td>validation</td>\n",
       "      <td>5200000</td>\n",
       "      <td>NaN</td>\n",
       "      <td>-9.586835</td>\n",
       "      <td>-9.578817</td>\n",
       "      <td>-9.583337</td>\n",
       "      <td>-9.583477</td>\n",
       "      <td>0.001476</td>\n",
       "      <td>-5.093721</td>\n",
       "      <td>-5.090901</td>\n",
       "      <td>...</td>\n",
       "      <td>-1.139930</td>\n",
       "      <td>9.058579</td>\n",
       "      <td>NaN</td>\n",
       "      <td>NaN</td>\n",
       "      <td>0 days 00:00:00.563684</td>\n",
       "      <td>0.8</td>\n",
       "      <td>best_params</td>\n",
       "      <td>D:\\Work\\repos\\RL\\phd-rl-algos\\dqn\\opinion_dyna...</td>\n",
       "      <td>4</td>\n",
       "      <td>0001_agent_params.args_.action_w_noise_amplitu...</td>\n",
       "    </tr>\n",
       "    <tr>\n",
       "      <th>596</th>\n",
       "      <td>validation</td>\n",
       "      <td>5400000</td>\n",
       "      <td>NaN</td>\n",
       "      <td>-9.757960</td>\n",
       "      <td>-9.753363</td>\n",
       "      <td>-9.755768</td>\n",
       "      <td>-9.755829</td>\n",
       "      <td>0.001465</td>\n",
       "      <td>-5.142443</td>\n",
       "      <td>-5.140784</td>\n",
       "      <td>...</td>\n",
       "      <td>-1.205826</td>\n",
       "      <td>2.886188</td>\n",
       "      <td>NaN</td>\n",
       "      <td>NaN</td>\n",
       "      <td>0 days 00:00:00.583504</td>\n",
       "      <td>0.8</td>\n",
       "      <td>best_params</td>\n",
       "      <td>D:\\Work\\repos\\RL\\phd-rl-algos\\dqn\\opinion_dyna...</td>\n",
       "      <td>4</td>\n",
       "      <td>0001_agent_params.args_.action_w_noise_amplitu...</td>\n",
       "    </tr>\n",
       "    <tr>\n",
       "      <th>597</th>\n",
       "      <td>validation</td>\n",
       "      <td>5600000</td>\n",
       "      <td>NaN</td>\n",
       "      <td>-10.401149</td>\n",
       "      <td>-10.395211</td>\n",
       "      <td>-10.398272</td>\n",
       "      <td>-10.398302</td>\n",
       "      <td>0.001613</td>\n",
       "      <td>-5.254223</td>\n",
       "      <td>-5.252383</td>\n",
       "      <td>...</td>\n",
       "      <td>-1.463918</td>\n",
       "      <td>3.229685</td>\n",
       "      <td>NaN</td>\n",
       "      <td>NaN</td>\n",
       "      <td>0 days 00:00:00.568415</td>\n",
       "      <td>0.8</td>\n",
       "      <td>best_params</td>\n",
       "      <td>D:\\Work\\repos\\RL\\phd-rl-algos\\dqn\\opinion_dyna...</td>\n",
       "      <td>4</td>\n",
       "      <td>0001_agent_params.args_.action_w_noise_amplitu...</td>\n",
       "    </tr>\n",
       "    <tr>\n",
       "      <th>598</th>\n",
       "      <td>validation</td>\n",
       "      <td>5800000</td>\n",
       "      <td>NaN</td>\n",
       "      <td>-10.456859</td>\n",
       "      <td>-10.448226</td>\n",
       "      <td>-10.453213</td>\n",
       "      <td>-10.453237</td>\n",
       "      <td>0.001917</td>\n",
       "      <td>-5.252506</td>\n",
       "      <td>-5.249899</td>\n",
       "      <td>...</td>\n",
       "      <td>-1.583897</td>\n",
       "      <td>1.250963</td>\n",
       "      <td>NaN</td>\n",
       "      <td>NaN</td>\n",
       "      <td>0 days 00:00:00.540569</td>\n",
       "      <td>0.8</td>\n",
       "      <td>best_params</td>\n",
       "      <td>D:\\Work\\repos\\RL\\phd-rl-algos\\dqn\\opinion_dyna...</td>\n",
       "      <td>4</td>\n",
       "      <td>0001_agent_params.args_.action_w_noise_amplitu...</td>\n",
       "    </tr>\n",
       "    <tr>\n",
       "      <th>599</th>\n",
       "      <td>validation</td>\n",
       "      <td>6000000</td>\n",
       "      <td>NaN</td>\n",
       "      <td>-10.438771</td>\n",
       "      <td>-10.430695</td>\n",
       "      <td>-10.435231</td>\n",
       "      <td>-10.435029</td>\n",
       "      <td>0.001948</td>\n",
       "      <td>-5.233138</td>\n",
       "      <td>-5.230722</td>\n",
       "      <td>...</td>\n",
       "      <td>-1.773055</td>\n",
       "      <td>1.517904</td>\n",
       "      <td>NaN</td>\n",
       "      <td>NaN</td>\n",
       "      <td>0 days 00:00:00.482961</td>\n",
       "      <td>0.8</td>\n",
       "      <td>best_params</td>\n",
       "      <td>D:\\Work\\repos\\RL\\phd-rl-algos\\dqn\\opinion_dyna...</td>\n",
       "      <td>4</td>\n",
       "      <td>0001_agent_params.args_.action_w_noise_amplitu...</td>\n",
       "    </tr>\n",
       "  </tbody>\n",
       "</table>\n",
       "<p>600 rows × 36 columns</p>\n",
       "</div>"
      ],
      "text/plain": [
       "     epoch_type  frame_stamp  greedy_epsilon  episode_rewards_min  \\\n",
       "0      training       200000          0.9571        -12794.711927   \n",
       "1      training       400000          0.9131         -2407.437573   \n",
       "2      training       600000          0.8691        -16311.572107   \n",
       "3      training       800000          0.8251        -81435.327835   \n",
       "4      training      1000000          0.7811         -6338.762346   \n",
       "..          ...          ...             ...                  ...   \n",
       "595  validation      5200000             NaN            -9.586835   \n",
       "596  validation      5400000             NaN            -9.757960   \n",
       "597  validation      5600000             NaN           -10.401149   \n",
       "598  validation      5800000             NaN           -10.456859   \n",
       "599  validation      6000000             NaN           -10.438771   \n",
       "\n",
       "     episode_rewards_max  episode_rewards_mean  episode_rewards_median  \\\n",
       "0              -5.101987            -14.449954               -7.476635   \n",
       "1              -5.230071            -11.538669               -7.413083   \n",
       "2              -5.253712            -14.896672               -7.347484   \n",
       "3              -5.141499            -19.356220               -7.301740   \n",
       "4              -5.304350            -12.129339               -7.224180   \n",
       "..                   ...                   ...                     ...   \n",
       "595            -9.578817             -9.583337               -9.583477   \n",
       "596            -9.753363             -9.755768               -9.755829   \n",
       "597           -10.395211            -10.398272              -10.398302   \n",
       "598           -10.448226            -10.453213              -10.453237   \n",
       "599           -10.430695            -10.435231              -10.435029   \n",
       "\n",
       "     episode_rewards_std  episode_discounted_rewards_min  \\\n",
       "0             146.358996                    -6261.036054   \n",
       "1              35.500605                    -2405.698947   \n",
       "2             196.006642                   -14679.112093   \n",
       "3             726.927205                   -25558.014841   \n",
       "4              80.243145                    -4363.982349   \n",
       "..                   ...                             ...   \n",
       "595             0.001476                       -5.093721   \n",
       "596             0.001465                       -5.142443   \n",
       "597             0.001613                       -5.254223   \n",
       "598             0.001917                       -5.252506   \n",
       "599             0.001948                       -5.233138   \n",
       "\n",
       "     episode_discounted_rewards_max  ...  episode_max_qs_median  \\\n",
       "0                         -3.717650  ...               0.157203   \n",
       "1                         -3.796952  ...               0.259462   \n",
       "2                         -3.753167  ...               0.348280   \n",
       "3                         -3.697148  ...               0.453471   \n",
       "4                         -3.773134  ...               0.530237   \n",
       "..                              ...  ...                    ...   \n",
       "595                       -5.090901  ...              -1.139930   \n",
       "596                       -5.140784  ...              -1.205826   \n",
       "597                       -5.252383  ...              -1.463918   \n",
       "598                       -5.249899  ...              -1.583897   \n",
       "599                       -5.230722  ...              -1.773055   \n",
       "\n",
       "     episode_max_qs_std  policy_trained_times  target_trained_times  \\\n",
       "0              0.041949               48749.0                  48.0   \n",
       "1              0.033372               50000.0                  48.0   \n",
       "2              0.048194               50000.0                  52.0   \n",
       "3              0.058538               50000.0                  48.0   \n",
       "4              0.065589               50000.0                  52.0   \n",
       "..                  ...                   ...                   ...   \n",
       "595            9.058579                   NaN                   NaN   \n",
       "596            2.886188                   NaN                   NaN   \n",
       "597            3.229685                   NaN                   NaN   \n",
       "598            1.250963                   NaN                   NaN   \n",
       "599            1.517904                   NaN                   NaN   \n",
       "\n",
       "                epoch_time  \\\n",
       "0   0 days 00:04:30.419292   \n",
       "1   0 days 00:04:56.898910   \n",
       "2   0 days 00:05:11.289726   \n",
       "3   0 days 00:05:07.762349   \n",
       "4   0 days 00:06:00.448436   \n",
       "..                     ...   \n",
       "595 0 days 00:00:00.563684   \n",
       "596 0 days 00:00:00.583504   \n",
       "597 0 days 00:00:00.568415   \n",
       "598 0 days 00:00:00.540569   \n",
       "599 0 days 00:00:00.482961   \n",
       "\n",
       "     sub_exp_cfg_agent_params.args_.action_w_noise_amplitude  \\\n",
       "0                                                  0.3         \n",
       "1                                                  0.3         \n",
       "2                                                  0.3         \n",
       "3                                                  0.3         \n",
       "4                                                  0.3         \n",
       "..                                                 ...         \n",
       "595                                                0.8         \n",
       "596                                                0.8         \n",
       "597                                                0.8         \n",
       "598                                                0.8         \n",
       "599                                                0.8         \n",
       "\n",
       "     sub_exp_cfg_experiment_run_name  \\\n",
       "0                        best_params   \n",
       "1                        best_params   \n",
       "2                        best_params   \n",
       "3                        best_params   \n",
       "4                        best_params   \n",
       "..                               ...   \n",
       "595                      best_params   \n",
       "596                      best_params   \n",
       "597                      best_params   \n",
       "598                      best_params   \n",
       "599                      best_params   \n",
       "\n",
       "                                   sub_experiment_path  seed  \\\n",
       "0    D:\\Work\\repos\\RL\\phd-rl-algos\\dqn\\opinion_dyna...     0   \n",
       "1    D:\\Work\\repos\\RL\\phd-rl-algos\\dqn\\opinion_dyna...     0   \n",
       "2    D:\\Work\\repos\\RL\\phd-rl-algos\\dqn\\opinion_dyna...     0   \n",
       "3    D:\\Work\\repos\\RL\\phd-rl-algos\\dqn\\opinion_dyna...     0   \n",
       "4    D:\\Work\\repos\\RL\\phd-rl-algos\\dqn\\opinion_dyna...     0   \n",
       "..                                                 ...   ...   \n",
       "595  D:\\Work\\repos\\RL\\phd-rl-algos\\dqn\\opinion_dyna...     4   \n",
       "596  D:\\Work\\repos\\RL\\phd-rl-algos\\dqn\\opinion_dyna...     4   \n",
       "597  D:\\Work\\repos\\RL\\phd-rl-algos\\dqn\\opinion_dyna...     4   \n",
       "598  D:\\Work\\repos\\RL\\phd-rl-algos\\dqn\\opinion_dyna...     4   \n",
       "599  D:\\Work\\repos\\RL\\phd-rl-algos\\dqn\\opinion_dyna...     4   \n",
       "\n",
       "                                       experiment_name  \n",
       "0    0000_agent_params.args_.action_w_noise_amplitu...  \n",
       "1    0000_agent_params.args_.action_w_noise_amplitu...  \n",
       "2    0000_agent_params.args_.action_w_noise_amplitu...  \n",
       "3    0000_agent_params.args_.action_w_noise_amplitu...  \n",
       "4    0000_agent_params.args_.action_w_noise_amplitu...  \n",
       "..                                                 ...  \n",
       "595  0001_agent_params.args_.action_w_noise_amplitu...  \n",
       "596  0001_agent_params.args_.action_w_noise_amplitu...  \n",
       "597  0001_agent_params.args_.action_w_noise_amplitu...  \n",
       "598  0001_agent_params.args_.action_w_noise_amplitu...  \n",
       "599  0001_agent_params.args_.action_w_noise_amplitu...  \n",
       "\n",
       "[600 rows x 36 columns]"
      ]
     },
     "execution_count": 3,
     "metadata": {},
     "output_type": "execute_result"
    }
   ],
   "source": [
    "df"
   ]
  },
  {
   "cell_type": "code",
   "execution_count": 4,
   "metadata": {},
   "outputs": [
    {
     "data": {
      "text/html": [
       "<div>\n",
       "<style scoped>\n",
       "    .dataframe tbody tr th:only-of-type {\n",
       "        vertical-align: middle;\n",
       "    }\n",
       "\n",
       "    .dataframe tbody tr th {\n",
       "        vertical-align: top;\n",
       "    }\n",
       "\n",
       "    .dataframe thead th {\n",
       "        text-align: right;\n",
       "    }\n",
       "</style>\n",
       "<table border=\"1\" class=\"dataframe\">\n",
       "  <thead>\n",
       "    <tr style=\"text-align: right;\">\n",
       "      <th></th>\n",
       "      <th>epoch_type</th>\n",
       "      <th>frame_stamp</th>\n",
       "      <th>greedy_epsilon</th>\n",
       "      <th>episode_rewards_min</th>\n",
       "      <th>episode_rewards_max</th>\n",
       "      <th>episode_rewards_mean</th>\n",
       "      <th>episode_rewards_median</th>\n",
       "      <th>episode_rewards_std</th>\n",
       "      <th>episode_discounted_rewards_min</th>\n",
       "      <th>episode_discounted_rewards_max</th>\n",
       "      <th>...</th>\n",
       "      <th>episode_max_qs_median</th>\n",
       "      <th>episode_max_qs_std</th>\n",
       "      <th>policy_trained_times</th>\n",
       "      <th>target_trained_times</th>\n",
       "      <th>epoch_time</th>\n",
       "      <th>sub_exp_cfg_agent_params.args_.action_w_noise_amplitude</th>\n",
       "      <th>sub_exp_cfg_experiment_run_name</th>\n",
       "      <th>sub_experiment_path</th>\n",
       "      <th>seed</th>\n",
       "      <th>experiment_name</th>\n",
       "    </tr>\n",
       "  </thead>\n",
       "  <tbody>\n",
       "    <tr>\n",
       "      <th>30</th>\n",
       "      <td>validation</td>\n",
       "      <td>200000</td>\n",
       "      <td>NaN</td>\n",
       "      <td>-8.857231</td>\n",
       "      <td>-8.852881</td>\n",
       "      <td>-8.854820</td>\n",
       "      <td>-8.854756</td>\n",
       "      <td>0.001134</td>\n",
       "      <td>-4.774449</td>\n",
       "      <td>-4.773068</td>\n",
       "      <td>...</td>\n",
       "      <td>0.220845</td>\n",
       "      <td>0.017126</td>\n",
       "      <td>NaN</td>\n",
       "      <td>NaN</td>\n",
       "      <td>0 days 00:00:00.730326</td>\n",
       "      <td>0.3</td>\n",
       "      <td>best_params</td>\n",
       "      <td>D:\\Work\\repos\\RL\\phd-rl-algos\\dqn\\opinion_dyna...</td>\n",
       "      <td>0</td>\n",
       "      <td>0000_agent_params.args_.action_w_noise_amplitu...</td>\n",
       "    </tr>\n",
       "    <tr>\n",
       "      <th>31</th>\n",
       "      <td>validation</td>\n",
       "      <td>400000</td>\n",
       "      <td>NaN</td>\n",
       "      <td>-8.784141</td>\n",
       "      <td>-8.779631</td>\n",
       "      <td>-8.781392</td>\n",
       "      <td>-8.781327</td>\n",
       "      <td>0.000844</td>\n",
       "      <td>-4.758798</td>\n",
       "      <td>-4.757618</td>\n",
       "      <td>...</td>\n",
       "      <td>0.310646</td>\n",
       "      <td>0.028280</td>\n",
       "      <td>NaN</td>\n",
       "      <td>NaN</td>\n",
       "      <td>0 days 00:00:00.681290</td>\n",
       "      <td>0.3</td>\n",
       "      <td>best_params</td>\n",
       "      <td>D:\\Work\\repos\\RL\\phd-rl-algos\\dqn\\opinion_dyna...</td>\n",
       "      <td>0</td>\n",
       "      <td>0000_agent_params.args_.action_w_noise_amplitu...</td>\n",
       "    </tr>\n",
       "    <tr>\n",
       "      <th>32</th>\n",
       "      <td>validation</td>\n",
       "      <td>600000</td>\n",
       "      <td>NaN</td>\n",
       "      <td>-8.635195</td>\n",
       "      <td>-8.631834</td>\n",
       "      <td>-8.633469</td>\n",
       "      <td>-8.633392</td>\n",
       "      <td>0.000762</td>\n",
       "      <td>-4.738327</td>\n",
       "      <td>-4.737345</td>\n",
       "      <td>...</td>\n",
       "      <td>0.414419</td>\n",
       "      <td>0.043047</td>\n",
       "      <td>NaN</td>\n",
       "      <td>NaN</td>\n",
       "      <td>0 days 00:00:00.643673</td>\n",
       "      <td>0.3</td>\n",
       "      <td>best_params</td>\n",
       "      <td>D:\\Work\\repos\\RL\\phd-rl-algos\\dqn\\opinion_dyna...</td>\n",
       "      <td>0</td>\n",
       "      <td>0000_agent_params.args_.action_w_noise_amplitu...</td>\n",
       "    </tr>\n",
       "    <tr>\n",
       "      <th>33</th>\n",
       "      <td>validation</td>\n",
       "      <td>800000</td>\n",
       "      <td>NaN</td>\n",
       "      <td>-8.592041</td>\n",
       "      <td>-8.588427</td>\n",
       "      <td>-8.590191</td>\n",
       "      <td>-8.590300</td>\n",
       "      <td>0.000783</td>\n",
       "      <td>-4.728863</td>\n",
       "      <td>-4.727701</td>\n",
       "      <td>...</td>\n",
       "      <td>0.506545</td>\n",
       "      <td>0.057765</td>\n",
       "      <td>NaN</td>\n",
       "      <td>NaN</td>\n",
       "      <td>0 days 00:00:00.685854</td>\n",
       "      <td>0.3</td>\n",
       "      <td>best_params</td>\n",
       "      <td>D:\\Work\\repos\\RL\\phd-rl-algos\\dqn\\opinion_dyna...</td>\n",
       "      <td>0</td>\n",
       "      <td>0000_agent_params.args_.action_w_noise_amplitu...</td>\n",
       "    </tr>\n",
       "    <tr>\n",
       "      <th>34</th>\n",
       "      <td>validation</td>\n",
       "      <td>1000000</td>\n",
       "      <td>NaN</td>\n",
       "      <td>-8.563705</td>\n",
       "      <td>-8.560802</td>\n",
       "      <td>-8.562064</td>\n",
       "      <td>-8.562027</td>\n",
       "      <td>0.000715</td>\n",
       "      <td>-4.722614</td>\n",
       "      <td>-4.721662</td>\n",
       "      <td>...</td>\n",
       "      <td>0.563839</td>\n",
       "      <td>0.065475</td>\n",
       "      <td>NaN</td>\n",
       "      <td>NaN</td>\n",
       "      <td>0 days 00:00:00.794242</td>\n",
       "      <td>0.3</td>\n",
       "      <td>best_params</td>\n",
       "      <td>D:\\Work\\repos\\RL\\phd-rl-algos\\dqn\\opinion_dyna...</td>\n",
       "      <td>0</td>\n",
       "      <td>0000_agent_params.args_.action_w_noise_amplitu...</td>\n",
       "    </tr>\n",
       "    <tr>\n",
       "      <th>...</th>\n",
       "      <td>...</td>\n",
       "      <td>...</td>\n",
       "      <td>...</td>\n",
       "      <td>...</td>\n",
       "      <td>...</td>\n",
       "      <td>...</td>\n",
       "      <td>...</td>\n",
       "      <td>...</td>\n",
       "      <td>...</td>\n",
       "      <td>...</td>\n",
       "      <td>...</td>\n",
       "      <td>...</td>\n",
       "      <td>...</td>\n",
       "      <td>...</td>\n",
       "      <td>...</td>\n",
       "      <td>...</td>\n",
       "      <td>...</td>\n",
       "      <td>...</td>\n",
       "      <td>...</td>\n",
       "      <td>...</td>\n",
       "      <td>...</td>\n",
       "    </tr>\n",
       "    <tr>\n",
       "      <th>595</th>\n",
       "      <td>validation</td>\n",
       "      <td>5200000</td>\n",
       "      <td>NaN</td>\n",
       "      <td>-9.586835</td>\n",
       "      <td>-9.578817</td>\n",
       "      <td>-9.583337</td>\n",
       "      <td>-9.583477</td>\n",
       "      <td>0.001476</td>\n",
       "      <td>-5.093721</td>\n",
       "      <td>-5.090901</td>\n",
       "      <td>...</td>\n",
       "      <td>-1.139930</td>\n",
       "      <td>9.058579</td>\n",
       "      <td>NaN</td>\n",
       "      <td>NaN</td>\n",
       "      <td>0 days 00:00:00.563684</td>\n",
       "      <td>0.8</td>\n",
       "      <td>best_params</td>\n",
       "      <td>D:\\Work\\repos\\RL\\phd-rl-algos\\dqn\\opinion_dyna...</td>\n",
       "      <td>4</td>\n",
       "      <td>0001_agent_params.args_.action_w_noise_amplitu...</td>\n",
       "    </tr>\n",
       "    <tr>\n",
       "      <th>596</th>\n",
       "      <td>validation</td>\n",
       "      <td>5400000</td>\n",
       "      <td>NaN</td>\n",
       "      <td>-9.757960</td>\n",
       "      <td>-9.753363</td>\n",
       "      <td>-9.755768</td>\n",
       "      <td>-9.755829</td>\n",
       "      <td>0.001465</td>\n",
       "      <td>-5.142443</td>\n",
       "      <td>-5.140784</td>\n",
       "      <td>...</td>\n",
       "      <td>-1.205826</td>\n",
       "      <td>2.886188</td>\n",
       "      <td>NaN</td>\n",
       "      <td>NaN</td>\n",
       "      <td>0 days 00:00:00.583504</td>\n",
       "      <td>0.8</td>\n",
       "      <td>best_params</td>\n",
       "      <td>D:\\Work\\repos\\RL\\phd-rl-algos\\dqn\\opinion_dyna...</td>\n",
       "      <td>4</td>\n",
       "      <td>0001_agent_params.args_.action_w_noise_amplitu...</td>\n",
       "    </tr>\n",
       "    <tr>\n",
       "      <th>597</th>\n",
       "      <td>validation</td>\n",
       "      <td>5600000</td>\n",
       "      <td>NaN</td>\n",
       "      <td>-10.401149</td>\n",
       "      <td>-10.395211</td>\n",
       "      <td>-10.398272</td>\n",
       "      <td>-10.398302</td>\n",
       "      <td>0.001613</td>\n",
       "      <td>-5.254223</td>\n",
       "      <td>-5.252383</td>\n",
       "      <td>...</td>\n",
       "      <td>-1.463918</td>\n",
       "      <td>3.229685</td>\n",
       "      <td>NaN</td>\n",
       "      <td>NaN</td>\n",
       "      <td>0 days 00:00:00.568415</td>\n",
       "      <td>0.8</td>\n",
       "      <td>best_params</td>\n",
       "      <td>D:\\Work\\repos\\RL\\phd-rl-algos\\dqn\\opinion_dyna...</td>\n",
       "      <td>4</td>\n",
       "      <td>0001_agent_params.args_.action_w_noise_amplitu...</td>\n",
       "    </tr>\n",
       "    <tr>\n",
       "      <th>598</th>\n",
       "      <td>validation</td>\n",
       "      <td>5800000</td>\n",
       "      <td>NaN</td>\n",
       "      <td>-10.456859</td>\n",
       "      <td>-10.448226</td>\n",
       "      <td>-10.453213</td>\n",
       "      <td>-10.453237</td>\n",
       "      <td>0.001917</td>\n",
       "      <td>-5.252506</td>\n",
       "      <td>-5.249899</td>\n",
       "      <td>...</td>\n",
       "      <td>-1.583897</td>\n",
       "      <td>1.250963</td>\n",
       "      <td>NaN</td>\n",
       "      <td>NaN</td>\n",
       "      <td>0 days 00:00:00.540569</td>\n",
       "      <td>0.8</td>\n",
       "      <td>best_params</td>\n",
       "      <td>D:\\Work\\repos\\RL\\phd-rl-algos\\dqn\\opinion_dyna...</td>\n",
       "      <td>4</td>\n",
       "      <td>0001_agent_params.args_.action_w_noise_amplitu...</td>\n",
       "    </tr>\n",
       "    <tr>\n",
       "      <th>599</th>\n",
       "      <td>validation</td>\n",
       "      <td>6000000</td>\n",
       "      <td>NaN</td>\n",
       "      <td>-10.438771</td>\n",
       "      <td>-10.430695</td>\n",
       "      <td>-10.435231</td>\n",
       "      <td>-10.435029</td>\n",
       "      <td>0.001948</td>\n",
       "      <td>-5.233138</td>\n",
       "      <td>-5.230722</td>\n",
       "      <td>...</td>\n",
       "      <td>-1.773055</td>\n",
       "      <td>1.517904</td>\n",
       "      <td>NaN</td>\n",
       "      <td>NaN</td>\n",
       "      <td>0 days 00:00:00.482961</td>\n",
       "      <td>0.8</td>\n",
       "      <td>best_params</td>\n",
       "      <td>D:\\Work\\repos\\RL\\phd-rl-algos\\dqn\\opinion_dyna...</td>\n",
       "      <td>4</td>\n",
       "      <td>0001_agent_params.args_.action_w_noise_amplitu...</td>\n",
       "    </tr>\n",
       "  </tbody>\n",
       "</table>\n",
       "<p>300 rows × 36 columns</p>\n",
       "</div>"
      ],
      "text/plain": [
       "     epoch_type  frame_stamp  greedy_epsilon  episode_rewards_min  \\\n",
       "30   validation       200000             NaN            -8.857231   \n",
       "31   validation       400000             NaN            -8.784141   \n",
       "32   validation       600000             NaN            -8.635195   \n",
       "33   validation       800000             NaN            -8.592041   \n",
       "34   validation      1000000             NaN            -8.563705   \n",
       "..          ...          ...             ...                  ...   \n",
       "595  validation      5200000             NaN            -9.586835   \n",
       "596  validation      5400000             NaN            -9.757960   \n",
       "597  validation      5600000             NaN           -10.401149   \n",
       "598  validation      5800000             NaN           -10.456859   \n",
       "599  validation      6000000             NaN           -10.438771   \n",
       "\n",
       "     episode_rewards_max  episode_rewards_mean  episode_rewards_median  \\\n",
       "30             -8.852881             -8.854820               -8.854756   \n",
       "31             -8.779631             -8.781392               -8.781327   \n",
       "32             -8.631834             -8.633469               -8.633392   \n",
       "33             -8.588427             -8.590191               -8.590300   \n",
       "34             -8.560802             -8.562064               -8.562027   \n",
       "..                   ...                   ...                     ...   \n",
       "595            -9.578817             -9.583337               -9.583477   \n",
       "596            -9.753363             -9.755768               -9.755829   \n",
       "597           -10.395211            -10.398272              -10.398302   \n",
       "598           -10.448226            -10.453213              -10.453237   \n",
       "599           -10.430695            -10.435231              -10.435029   \n",
       "\n",
       "     episode_rewards_std  episode_discounted_rewards_min  \\\n",
       "30              0.001134                       -4.774449   \n",
       "31              0.000844                       -4.758798   \n",
       "32              0.000762                       -4.738327   \n",
       "33              0.000783                       -4.728863   \n",
       "34              0.000715                       -4.722614   \n",
       "..                   ...                             ...   \n",
       "595             0.001476                       -5.093721   \n",
       "596             0.001465                       -5.142443   \n",
       "597             0.001613                       -5.254223   \n",
       "598             0.001917                       -5.252506   \n",
       "599             0.001948                       -5.233138   \n",
       "\n",
       "     episode_discounted_rewards_max  ...  episode_max_qs_median  \\\n",
       "30                        -4.773068  ...               0.220845   \n",
       "31                        -4.757618  ...               0.310646   \n",
       "32                        -4.737345  ...               0.414419   \n",
       "33                        -4.727701  ...               0.506545   \n",
       "34                        -4.721662  ...               0.563839   \n",
       "..                              ...  ...                    ...   \n",
       "595                       -5.090901  ...              -1.139930   \n",
       "596                       -5.140784  ...              -1.205826   \n",
       "597                       -5.252383  ...              -1.463918   \n",
       "598                       -5.249899  ...              -1.583897   \n",
       "599                       -5.230722  ...              -1.773055   \n",
       "\n",
       "     episode_max_qs_std  policy_trained_times  target_trained_times  \\\n",
       "30             0.017126                   NaN                   NaN   \n",
       "31             0.028280                   NaN                   NaN   \n",
       "32             0.043047                   NaN                   NaN   \n",
       "33             0.057765                   NaN                   NaN   \n",
       "34             0.065475                   NaN                   NaN   \n",
       "..                  ...                   ...                   ...   \n",
       "595            9.058579                   NaN                   NaN   \n",
       "596            2.886188                   NaN                   NaN   \n",
       "597            3.229685                   NaN                   NaN   \n",
       "598            1.250963                   NaN                   NaN   \n",
       "599            1.517904                   NaN                   NaN   \n",
       "\n",
       "                epoch_time  \\\n",
       "30  0 days 00:00:00.730326   \n",
       "31  0 days 00:00:00.681290   \n",
       "32  0 days 00:00:00.643673   \n",
       "33  0 days 00:00:00.685854   \n",
       "34  0 days 00:00:00.794242   \n",
       "..                     ...   \n",
       "595 0 days 00:00:00.563684   \n",
       "596 0 days 00:00:00.583504   \n",
       "597 0 days 00:00:00.568415   \n",
       "598 0 days 00:00:00.540569   \n",
       "599 0 days 00:00:00.482961   \n",
       "\n",
       "     sub_exp_cfg_agent_params.args_.action_w_noise_amplitude  \\\n",
       "30                                                 0.3         \n",
       "31                                                 0.3         \n",
       "32                                                 0.3         \n",
       "33                                                 0.3         \n",
       "34                                                 0.3         \n",
       "..                                                 ...         \n",
       "595                                                0.8         \n",
       "596                                                0.8         \n",
       "597                                                0.8         \n",
       "598                                                0.8         \n",
       "599                                                0.8         \n",
       "\n",
       "     sub_exp_cfg_experiment_run_name  \\\n",
       "30                       best_params   \n",
       "31                       best_params   \n",
       "32                       best_params   \n",
       "33                       best_params   \n",
       "34                       best_params   \n",
       "..                               ...   \n",
       "595                      best_params   \n",
       "596                      best_params   \n",
       "597                      best_params   \n",
       "598                      best_params   \n",
       "599                      best_params   \n",
       "\n",
       "                                   sub_experiment_path  seed  \\\n",
       "30   D:\\Work\\repos\\RL\\phd-rl-algos\\dqn\\opinion_dyna...     0   \n",
       "31   D:\\Work\\repos\\RL\\phd-rl-algos\\dqn\\opinion_dyna...     0   \n",
       "32   D:\\Work\\repos\\RL\\phd-rl-algos\\dqn\\opinion_dyna...     0   \n",
       "33   D:\\Work\\repos\\RL\\phd-rl-algos\\dqn\\opinion_dyna...     0   \n",
       "34   D:\\Work\\repos\\RL\\phd-rl-algos\\dqn\\opinion_dyna...     0   \n",
       "..                                                 ...   ...   \n",
       "595  D:\\Work\\repos\\RL\\phd-rl-algos\\dqn\\opinion_dyna...     4   \n",
       "596  D:\\Work\\repos\\RL\\phd-rl-algos\\dqn\\opinion_dyna...     4   \n",
       "597  D:\\Work\\repos\\RL\\phd-rl-algos\\dqn\\opinion_dyna...     4   \n",
       "598  D:\\Work\\repos\\RL\\phd-rl-algos\\dqn\\opinion_dyna...     4   \n",
       "599  D:\\Work\\repos\\RL\\phd-rl-algos\\dqn\\opinion_dyna...     4   \n",
       "\n",
       "                                       experiment_name  \n",
       "30   0000_agent_params.args_.action_w_noise_amplitu...  \n",
       "31   0000_agent_params.args_.action_w_noise_amplitu...  \n",
       "32   0000_agent_params.args_.action_w_noise_amplitu...  \n",
       "33   0000_agent_params.args_.action_w_noise_amplitu...  \n",
       "34   0000_agent_params.args_.action_w_noise_amplitu...  \n",
       "..                                                 ...  \n",
       "595  0001_agent_params.args_.action_w_noise_amplitu...  \n",
       "596  0001_agent_params.args_.action_w_noise_amplitu...  \n",
       "597  0001_agent_params.args_.action_w_noise_amplitu...  \n",
       "598  0001_agent_params.args_.action_w_noise_amplitu...  \n",
       "599  0001_agent_params.args_.action_w_noise_amplitu...  \n",
       "\n",
       "[300 rows x 36 columns]"
      ]
     },
     "execution_count": 4,
     "metadata": {},
     "output_type": "execute_result"
    }
   ],
   "source": [
    "df[df['epoch_type'] == 'validation']"
   ]
  },
  {
   "cell_type": "code",
   "execution_count": 5,
   "metadata": {},
   "outputs": [
    {
     "name": "stdout",
     "output_type": "stream",
     "text": [
      "Best hyperparameters:\n",
      "sub_exp_cfg_agent_params.args_.action_w_noise_amplitude            0.3\n",
      "sub_exp_cfg_experiment_run_name                            best_params\n",
      "Name: 0, dtype: object\n",
      "Best mean reward: -9.523607309626852\n"
     ]
    }
   ],
   "source": [
    "# Define hyperparameter columns\n",
    "hyperparam_columns = [col for col in df.columns if \"sub_exp_cfg\" in col]\n",
    "\n",
    "# Group by hyperparameter values and compute mean episode_rewards_mean\n",
    "averaged_results = df.groupby(hyperparam_columns, as_index=False).agg({\n",
    "    'episode_rewards_mean': 'mean',  # Averaging the performance metric\n",
    "    'sub_experiment_path': 'first'   # Keep a reference to an experiment path\n",
    "})\n",
    "\n",
    "# Find the best hyperparameter set based on the highest mean reward\n",
    "best_row = averaged_results.loc[averaged_results['episode_rewards_mean'].idxmax()]\n",
    "\n",
    "# Print the best experiment path and hyperparameters\n",
    "print(f\"Best hyperparameters:\\n{best_row[hyperparam_columns]}\")\n",
    "print(f\"Best mean reward: {best_row['episode_rewards_mean']}\")"
   ]
  },
  {
   "cell_type": "code",
   "execution_count": 6,
   "metadata": {},
   "outputs": [
    {
     "data": {
      "text/html": [
       "<div>\n",
       "<style scoped>\n",
       "    .dataframe tbody tr th:only-of-type {\n",
       "        vertical-align: middle;\n",
       "    }\n",
       "\n",
       "    .dataframe tbody tr th {\n",
       "        vertical-align: top;\n",
       "    }\n",
       "\n",
       "    .dataframe thead th {\n",
       "        text-align: right;\n",
       "    }\n",
       "</style>\n",
       "<table border=\"1\" class=\"dataframe\">\n",
       "  <thead>\n",
       "    <tr style=\"text-align: right;\">\n",
       "      <th></th>\n",
       "      <th>sub_exp_cfg_agent_params.args_.action_w_noise_amplitude</th>\n",
       "      <th>sub_exp_cfg_experiment_run_name</th>\n",
       "      <th>episode_rewards_mean</th>\n",
       "      <th>sub_experiment_path</th>\n",
       "    </tr>\n",
       "  </thead>\n",
       "  <tbody>\n",
       "    <tr>\n",
       "      <th>0</th>\n",
       "      <td>0.3</td>\n",
       "      <td>best_params</td>\n",
       "      <td>-9.523607</td>\n",
       "      <td>D:\\Work\\repos\\RL\\phd-rl-algos\\dqn\\opinion_dyna...</td>\n",
       "    </tr>\n",
       "    <tr>\n",
       "      <th>1</th>\n",
       "      <td>0.8</td>\n",
       "      <td>best_params</td>\n",
       "      <td>-10.967872</td>\n",
       "      <td>D:\\Work\\repos\\RL\\phd-rl-algos\\dqn\\opinion_dyna...</td>\n",
       "    </tr>\n",
       "  </tbody>\n",
       "</table>\n",
       "</div>"
      ],
      "text/plain": [
       "  sub_exp_cfg_agent_params.args_.action_w_noise_amplitude  \\\n",
       "0                                                0.3        \n",
       "1                                                0.8        \n",
       "\n",
       "  sub_exp_cfg_experiment_run_name  episode_rewards_mean  \\\n",
       "0                     best_params             -9.523607   \n",
       "1                     best_params            -10.967872   \n",
       "\n",
       "                                 sub_experiment_path  \n",
       "0  D:\\Work\\repos\\RL\\phd-rl-algos\\dqn\\opinion_dyna...  \n",
       "1  D:\\Work\\repos\\RL\\phd-rl-algos\\dqn\\opinion_dyna...  "
      ]
     },
     "execution_count": 6,
     "metadata": {},
     "output_type": "execute_result"
    }
   ],
   "source": [
    "averaged_results"
   ]
  },
  {
   "cell_type": "code",
   "execution_count": 7,
   "metadata": {},
   "outputs": [],
   "source": [
    "# selected_metric = 'episode_rewards_mean'\n",
    "# hue_col = \"sub_exp_cfg_agent_params.args_.action_w_noise_amplitude\"\n",
    "\n",
    "# # Filter for validation episodes\n",
    "# validation_df = df[df['epoch_type'] == 'validation']\n",
    "\n",
    "# # Get the unique sorted frame_stamp values\n",
    "# unique_frames = np.sort(validation_df['frame_stamp'].unique())\n",
    "# N = 1\n",
    "# # Get all frame_stamp values after the first N unique ones\n",
    "# filtered_frames = unique_frames[N:]\n",
    "\n",
    "# # Filter the DataFrame to only include rows with these frame_stamp values\n",
    "# filtered_df = validation_df[validation_df['frame_stamp'].isin(filtered_frames)]\n",
    "\n",
    "# plt.figure(figsize=(10, 6))\n",
    "# sns.lineplot(data=filtered_df, x='frame_stamp', y=selected_metric, hue=hue_col)\n",
    "# plt.ylabel(selected_metric)\n",
    "# plt.xlabel('Frame Stamp')\n",
    "# plt.show()"
   ]
  },
  {
   "cell_type": "code",
   "execution_count": 8,
   "metadata": {},
   "outputs": [
    {
     "data": {
      "image/png": "[encoded data removed]",
      "text/plain": [
       "<Figure size 1000x600 with 1 Axes>"
      ]
     },
     "metadata": {},
     "output_type": "display_data"
    }
   ],
   "source": [
    "\n",
    "selected_metric = 'episode_discounted_rewards_mean'\n",
    "# hue_col = \"sub_exp_cfg_agent_params.args_.action_w_noise_amplitude\"\n",
    "hue_col = \"experiment_name\"\n",
    "\n",
    "validation_df = df[df['epoch_type'] == 'validation']\n",
    "\n",
    "\n",
    "# Create a new figure for each environment\n",
    "plt.figure(figsize=(10, 6))\n",
    "# sns.lineplot(data=df, x='frame_stamp', y=selected_metric, hue='model')\n",
    "sns.lineplot(data=validation_df, x='frame_stamp', y=selected_metric, hue=hue_col)\n",
    "\n",
    "plt.ylabel(selected_metric)\n",
    "plt.xlabel('Frame Stamp')\n",
    "\n",
    "# Place the legend outside the plot\n",
    "plt.legend(loc='center left', bbox_to_anchor=(1.0, 0.5), title='Parameters')\n",
    "plt.show()"
   ]
  },
  {
   "cell_type": "code",
   "execution_count": 9,
   "metadata": {},
   "outputs": [
    {
     "data": {
      "text/plain": [
       "Index(['epoch_type', 'frame_stamp', 'greedy_epsilon', 'episode_rewards_min',\n",
       "       'episode_rewards_max', 'episode_rewards_mean', 'episode_rewards_median',\n",
       "       'episode_rewards_std', 'episode_discounted_rewards_min',\n",
       "       'episode_discounted_rewards_max', 'episode_discounted_rewards_mean',\n",
       "       'episode_discounted_rewards_median', 'episode_discounted_rewards_std',\n",
       "       'episode_frames_min', 'episode_frames_max', 'episode_frames_mean',\n",
       "       'episode_frames_median', 'episode_frames_std', 'episode_losses_min',\n",
       "       'episode_losses_max', 'episode_losses_mean', 'episode_losses_median',\n",
       "       'episode_losses_std', 'episode_max_qs_min', 'episode_max_qs_max',\n",
       "       'episode_max_qs_mean', 'episode_max_qs_median', 'episode_max_qs_std',\n",
       "       'policy_trained_times', 'target_trained_times', 'epoch_time',\n",
       "       'sub_exp_cfg_agent_params.args_.action_w_noise_amplitude',\n",
       "       'sub_exp_cfg_experiment_run_name', 'sub_experiment_path', 'seed',\n",
       "       'experiment_name'],\n",
       "      dtype='object')"
      ]
     },
     "execution_count": 9,
     "metadata": {},
     "output_type": "execute_result"
    }
   ],
   "source": [
    "df.columns"
   ]
  },
  {
   "cell_type": "code",
   "execution_count": 10,
   "metadata": {},
   "outputs": [
    {
     "data": {
      "image/png": "[encoded data removed]",
      "text/plain": [
       "<Figure size 1000x600 with 1 Axes>"
      ]
     },
     "metadata": {},
     "output_type": "display_data"
    }
   ],
   "source": [
    "import matplotlib.pyplot as plt\n",
    "import seaborn as sns\n",
    "\n",
    "selected_metric = 'episode_frames_mean'\n",
    "hue_col = \"experiment_name\"  # or another distinguishing column like \"sub_experiment_path\"\n",
    "\n",
    "validation_df = df[df['epoch_type'] == 'validation']\n",
    "\n",
    "# Plot individual lines for each run\n",
    "plt.figure(figsize=(10, 6))\n",
    "sns.lineplot(\n",
    "    data=validation_df,\n",
    "    x='frame_stamp',\n",
    "    y=selected_metric,\n",
    "    hue=hue_col,\n",
    "    estimator=None,  # ← disables aggregation\n",
    "    units='sub_experiment_path',  # ← groups lines by unique run\n",
    "    lw=1,  # line width\n",
    "    alpha=0.7  # transparency\n",
    ")\n",
    "\n",
    "plt.ylabel(selected_metric)\n",
    "plt.xlabel('Frame Stamp')\n",
    "plt.title('Validation Reward Trajectories (Per Run)')\n",
    "\n",
    "# Move legend outside the plot\n",
    "plt.legend(loc='center left', bbox_to_anchor=(1.0, 0.5), title='Experiment')\n",
    "plt.tight_layout()\n",
    "plt.show()\n"
   ]
  },
  {
   "cell_type": "code",
   "execution_count": 11,
   "metadata": {},
   "outputs": [
    {
     "data": {
      "text/html": [
       "<div>\n",
       "<style scoped>\n",
       "    .dataframe tbody tr th:only-of-type {\n",
       "        vertical-align: middle;\n",
       "    }\n",
       "\n",
       "    .dataframe tbody tr th {\n",
       "        vertical-align: top;\n",
       "    }\n",
       "\n",
       "    .dataframe thead th {\n",
       "        text-align: right;\n",
       "    }\n",
       "</style>\n",
       "<table border=\"1\" class=\"dataframe\">\n",
       "  <thead>\n",
       "    <tr style=\"text-align: right;\">\n",
       "      <th></th>\n",
       "      <th>epoch_type</th>\n",
       "      <th>frame_stamp</th>\n",
       "      <th>episode_rewards_mean</th>\n",
       "      <th>episode_frames_mean</th>\n",
       "      <th>episode_discounted_rewards_mean</th>\n",
       "      <th>policy_trained_times</th>\n",
       "      <th>target_trained_times</th>\n",
       "      <th>epoch_time</th>\n",
       "      <th>seed</th>\n",
       "      <th>experiment_name</th>\n",
       "      <th>sub_experiment_path</th>\n",
       "      <th>sub_exp_cfg_agent_params.args_.action_w_noise_amplitude</th>\n",
       "      <th>sub_exp_cfg_experiment_run_name</th>\n",
       "    </tr>\n",
       "  </thead>\n",
       "  <tbody>\n",
       "    <tr>\n",
       "      <th>59</th>\n",
       "      <td>validation</td>\n",
       "      <td>6000000</td>\n",
       "      <td>-10.254692</td>\n",
       "      <td>33.0</td>\n",
       "      <td>-5.129414</td>\n",
       "      <td>NaN</td>\n",
       "      <td>NaN</td>\n",
       "      <td>0 days 00:00:00.517144</td>\n",
       "      <td>0</td>\n",
       "      <td>0000_agent_params.args_.action_w_noise_amplitu...</td>\n",
       "      <td>D:\\Work\\repos\\RL\\phd-rl-algos\\dqn\\opinion_dyna...</td>\n",
       "      <td>0.3</td>\n",
       "      <td>best_params</td>\n",
       "    </tr>\n",
       "    <tr>\n",
       "      <th>119</th>\n",
       "      <td>validation</td>\n",
       "      <td>6000000</td>\n",
       "      <td>-8.551891</td>\n",
       "      <td>27.0</td>\n",
       "      <td>-4.792265</td>\n",
       "      <td>NaN</td>\n",
       "      <td>NaN</td>\n",
       "      <td>0 days 00:00:00.581745</td>\n",
       "      <td>1</td>\n",
       "      <td>0000_agent_params.args_.action_w_noise_amplitu...</td>\n",
       "      <td>D:\\Work\\repos\\RL\\phd-rl-algos\\dqn\\opinion_dyna...</td>\n",
       "      <td>0.3</td>\n",
       "      <td>best_params</td>\n",
       "    </tr>\n",
       "    <tr>\n",
       "      <th>179</th>\n",
       "      <td>validation</td>\n",
       "      <td>6000000</td>\n",
       "      <td>-9.754341</td>\n",
       "      <td>31.0</td>\n",
       "      <td>-5.046114</td>\n",
       "      <td>NaN</td>\n",
       "      <td>NaN</td>\n",
       "      <td>0 days 00:00:00.576494</td>\n",
       "      <td>2</td>\n",
       "      <td>0000_agent_params.args_.action_w_noise_amplitu...</td>\n",
       "      <td>D:\\Work\\repos\\RL\\phd-rl-algos\\dqn\\opinion_dyna...</td>\n",
       "      <td>0.3</td>\n",
       "      <td>best_params</td>\n",
       "    </tr>\n",
       "    <tr>\n",
       "      <th>239</th>\n",
       "      <td>validation</td>\n",
       "      <td>6000000</td>\n",
       "      <td>-11.625494</td>\n",
       "      <td>41.0</td>\n",
       "      <td>-5.210731</td>\n",
       "      <td>NaN</td>\n",
       "      <td>NaN</td>\n",
       "      <td>0 days 00:00:00.600058</td>\n",
       "      <td>3</td>\n",
       "      <td>0000_agent_params.args_.action_w_noise_amplitu...</td>\n",
       "      <td>D:\\Work\\repos\\RL\\phd-rl-algos\\dqn\\opinion_dyna...</td>\n",
       "      <td>0.3</td>\n",
       "      <td>best_params</td>\n",
       "    </tr>\n",
       "    <tr>\n",
       "      <th>299</th>\n",
       "      <td>validation</td>\n",
       "      <td>6000000</td>\n",
       "      <td>-9.682139</td>\n",
       "      <td>31.0</td>\n",
       "      <td>-5.023045</td>\n",
       "      <td>NaN</td>\n",
       "      <td>NaN</td>\n",
       "      <td>0 days 00:00:00.607255</td>\n",
       "      <td>4</td>\n",
       "      <td>0000_agent_params.args_.action_w_noise_amplitu...</td>\n",
       "      <td>D:\\Work\\repos\\RL\\phd-rl-algos\\dqn\\opinion_dyna...</td>\n",
       "      <td>0.3</td>\n",
       "      <td>best_params</td>\n",
       "    </tr>\n",
       "    <tr>\n",
       "      <th>359</th>\n",
       "      <td>validation</td>\n",
       "      <td>6000000</td>\n",
       "      <td>-9.793698</td>\n",
       "      <td>30.0</td>\n",
       "      <td>-5.085707</td>\n",
       "      <td>NaN</td>\n",
       "      <td>NaN</td>\n",
       "      <td>0 days 00:00:00.553144</td>\n",
       "      <td>0</td>\n",
       "      <td>0001_agent_params.args_.action_w_noise_amplitu...</td>\n",
       "      <td>D:\\Work\\repos\\RL\\phd-rl-algos\\dqn\\opinion_dyna...</td>\n",
       "      <td>0.8</td>\n",
       "      <td>best_params</td>\n",
       "    </tr>\n",
       "    <tr>\n",
       "      <th>419</th>\n",
       "      <td>validation</td>\n",
       "      <td>6000000</td>\n",
       "      <td>-10.323217</td>\n",
       "      <td>32.0</td>\n",
       "      <td>-5.164117</td>\n",
       "      <td>NaN</td>\n",
       "      <td>NaN</td>\n",
       "      <td>0 days 00:00:00.490249</td>\n",
       "      <td>1</td>\n",
       "      <td>0001_agent_params.args_.action_w_noise_amplitu...</td>\n",
       "      <td>D:\\Work\\repos\\RL\\phd-rl-algos\\dqn\\opinion_dyna...</td>\n",
       "      <td>0.8</td>\n",
       "      <td>best_params</td>\n",
       "    </tr>\n",
       "    <tr>\n",
       "      <th>479</th>\n",
       "      <td>validation</td>\n",
       "      <td>6000000</td>\n",
       "      <td>-8.958045</td>\n",
       "      <td>29.0</td>\n",
       "      <td>-4.866389</td>\n",
       "      <td>NaN</td>\n",
       "      <td>NaN</td>\n",
       "      <td>0 days 00:00:00.519287</td>\n",
       "      <td>2</td>\n",
       "      <td>0001_agent_params.args_.action_w_noise_amplitu...</td>\n",
       "      <td>D:\\Work\\repos\\RL\\phd-rl-algos\\dqn\\opinion_dyna...</td>\n",
       "      <td>0.8</td>\n",
       "      <td>best_params</td>\n",
       "    </tr>\n",
       "    <tr>\n",
       "      <th>539</th>\n",
       "      <td>validation</td>\n",
       "      <td>6000000</td>\n",
       "      <td>-9.963467</td>\n",
       "      <td>32.0</td>\n",
       "      <td>-5.076877</td>\n",
       "      <td>NaN</td>\n",
       "      <td>NaN</td>\n",
       "      <td>0 days 00:00:00.503419</td>\n",
       "      <td>3</td>\n",
       "      <td>0001_agent_params.args_.action_w_noise_amplitu...</td>\n",
       "      <td>D:\\Work\\repos\\RL\\phd-rl-algos\\dqn\\opinion_dyna...</td>\n",
       "      <td>0.8</td>\n",
       "      <td>best_params</td>\n",
       "    </tr>\n",
       "    <tr>\n",
       "      <th>599</th>\n",
       "      <td>validation</td>\n",
       "      <td>6000000</td>\n",
       "      <td>-10.435231</td>\n",
       "      <td>32.0</td>\n",
       "      <td>-5.232038</td>\n",
       "      <td>NaN</td>\n",
       "      <td>NaN</td>\n",
       "      <td>0 days 00:00:00.482961</td>\n",
       "      <td>4</td>\n",
       "      <td>0001_agent_params.args_.action_w_noise_amplitu...</td>\n",
       "      <td>D:\\Work\\repos\\RL\\phd-rl-algos\\dqn\\opinion_dyna...</td>\n",
       "      <td>0.8</td>\n",
       "      <td>best_params</td>\n",
       "    </tr>\n",
       "  </tbody>\n",
       "</table>\n",
       "</div>"
      ],
      "text/plain": [
       "     epoch_type  frame_stamp  episode_rewards_mean  episode_frames_mean  \\\n",
       "59   validation      6000000            -10.254692                 33.0   \n",
       "119  validation      6000000             -8.551891                 27.0   \n",
       "179  validation      6000000             -9.754341                 31.0   \n",
       "239  validation      6000000            -11.625494                 41.0   \n",
       "299  validation      6000000             -9.682139                 31.0   \n",
       "359  validation      6000000             -9.793698                 30.0   \n",
       "419  validation      6000000            -10.323217                 32.0   \n",
       "479  validation      6000000             -8.958045                 29.0   \n",
       "539  validation      6000000             -9.963467                 32.0   \n",
       "599  validation      6000000            -10.435231                 32.0   \n",
       "\n",
       "     episode_discounted_rewards_mean  policy_trained_times  \\\n",
       "59                         -5.129414                   NaN   \n",
       "119                        -4.792265                   NaN   \n",
       "179                        -5.046114                   NaN   \n",
       "239                        -5.210731                   NaN   \n",
       "299                        -5.023045                   NaN   \n",
       "359                        -5.085707                   NaN   \n",
       "419                        -5.164117                   NaN   \n",
       "479                        -4.866389                   NaN   \n",
       "539                        -5.076877                   NaN   \n",
       "599                        -5.232038                   NaN   \n",
       "\n",
       "     target_trained_times             epoch_time seed  \\\n",
       "59                    NaN 0 days 00:00:00.517144    0   \n",
       "119                   NaN 0 days 00:00:00.581745    1   \n",
       "179                   NaN 0 days 00:00:00.576494    2   \n",
       "239                   NaN 0 days 00:00:00.600058    3   \n",
       "299                   NaN 0 days 00:00:00.607255    4   \n",
       "359                   NaN 0 days 00:00:00.553144    0   \n",
       "419                   NaN 0 days 00:00:00.490249    1   \n",
       "479                   NaN 0 days 00:00:00.519287    2   \n",
       "539                   NaN 0 days 00:00:00.503419    3   \n",
       "599                   NaN 0 days 00:00:00.482961    4   \n",
       "\n",
       "                                       experiment_name  \\\n",
       "59   0000_agent_params.args_.action_w_noise_amplitu...   \n",
       "119  0000_agent_params.args_.action_w_noise_amplitu...   \n",
       "179  0000_agent_params.args_.action_w_noise_amplitu...   \n",
       "239  0000_agent_params.args_.action_w_noise_amplitu...   \n",
       "299  0000_agent_params.args_.action_w_noise_amplitu...   \n",
       "359  0001_agent_params.args_.action_w_noise_amplitu...   \n",
       "419  0001_agent_params.args_.action_w_noise_amplitu...   \n",
       "479  0001_agent_params.args_.action_w_noise_amplitu...   \n",
       "539  0001_agent_params.args_.action_w_noise_amplitu...   \n",
       "599  0001_agent_params.args_.action_w_noise_amplitu...   \n",
       "\n",
       "                                   sub_experiment_path  \\\n",
       "59   D:\\Work\\repos\\RL\\phd-rl-algos\\dqn\\opinion_dyna...   \n",
       "119  D:\\Work\\repos\\RL\\phd-rl-algos\\dqn\\opinion_dyna...   \n",
       "179  D:\\Work\\repos\\RL\\phd-rl-algos\\dqn\\opinion_dyna...   \n",
       "239  D:\\Work\\repos\\RL\\phd-rl-algos\\dqn\\opinion_dyna...   \n",
       "299  D:\\Work\\repos\\RL\\phd-rl-algos\\dqn\\opinion_dyna...   \n",
       "359  D:\\Work\\repos\\RL\\phd-rl-algos\\dqn\\opinion_dyna...   \n",
       "419  D:\\Work\\repos\\RL\\phd-rl-algos\\dqn\\opinion_dyna...   \n",
       "479  D:\\Work\\repos\\RL\\phd-rl-algos\\dqn\\opinion_dyna...   \n",
       "539  D:\\Work\\repos\\RL\\phd-rl-algos\\dqn\\opinion_dyna...   \n",
       "599  D:\\Work\\repos\\RL\\phd-rl-algos\\dqn\\opinion_dyna...   \n",
       "\n",
       "    sub_exp_cfg_agent_params.args_.action_w_noise_amplitude  \\\n",
       "59                                                 0.3        \n",
       "119                                                0.3        \n",
       "179                                                0.3        \n",
       "239                                                0.3        \n",
       "299                                                0.3        \n",
       "359                                                0.8        \n",
       "419                                                0.8        \n",
       "479                                                0.8        \n",
       "539                                                0.8        \n",
       "599                                                0.8        \n",
       "\n",
       "    sub_exp_cfg_experiment_run_name  \n",
       "59                      best_params  \n",
       "119                     best_params  \n",
       "179                     best_params  \n",
       "239                     best_params  \n",
       "299                     best_params  \n",
       "359                     best_params  \n",
       "419                     best_params  \n",
       "479                     best_params  \n",
       "539                     best_params  \n",
       "599                     best_params  "
      ]
     },
     "execution_count": 11,
     "metadata": {},
     "output_type": "execute_result"
    }
   ],
   "source": [
    "### Select data\n",
    "\n",
    "experiment_columns = [\n",
    "    'epoch_type', 'frame_stamp',\n",
    "    'episode_rewards_mean', 'episode_frames_mean', \n",
    "    'episode_discounted_rewards_mean',\n",
    "    'policy_trained_times', 'target_trained_times', 'epoch_time', \n",
    "       'seed', 'experiment_name', \"sub_experiment_path\"\n",
    "]\n",
    "hyperparam_columns = [\n",
    "   col for col in df.columns if \"sub_exp_cfg\" in col\n",
    "]\n",
    "\n",
    "cols_of_interest = experiment_columns + hyperparam_columns\n",
    "\n",
    "sub_df = df[cols_of_interest]\n",
    "sub_df = sub_df[sub_df['epoch_type'] == 'validation']\n",
    "sub_df = sub_df[sub_df['frame_stamp'] == sub_df['frame_stamp'].max()]\n",
    "\n",
    "sub_df \n"
   ]
  },
  {
   "cell_type": "code",
   "execution_count": 12,
   "metadata": {},
   "outputs": [],
   "source": [
    "# agg_cols = [col for col in sub_df.columns if \"sub_exp_cfg_agent_params\" in col]\n",
    "# aggregated_df = (\n",
    "#     sub_df.groupby(agg_cols)\n",
    "#     .agg(episode_discounted_rewards_mean=(\"episode_discounted_rewards_mean\", \"mean\"))\n",
    "#     .reset_index()\n",
    "# )\n",
    "# aggregated_df"
   ]
  },
  {
   "cell_type": "code",
   "execution_count": 13,
   "metadata": {},
   "outputs": [
    {
     "data": {
      "text/plain": [
       "Index(['epoch_type', 'frame_stamp', 'episode_rewards_mean',\n",
       "       'episode_frames_mean', 'episode_discounted_rewards_mean',\n",
       "       'policy_trained_times', 'target_trained_times', 'epoch_time', 'seed',\n",
       "       'experiment_name', 'sub_experiment_path',\n",
       "       'sub_exp_cfg_agent_params.args_.action_w_noise_amplitude',\n",
       "       'sub_exp_cfg_experiment_run_name'],\n",
       "      dtype='object')"
      ]
     },
     "execution_count": 13,
     "metadata": {},
     "output_type": "execute_result"
    }
   ],
   "source": [
    "sub_df.columns"
   ]
  },
  {
   "cell_type": "code",
   "execution_count": 14,
   "metadata": {},
   "outputs": [],
   "source": [
    "# sub_df[[\n",
    "#     \"episode_discounted_rewards_mean\", \"episode_frames_mean\",\n",
    "#     \"seed\", \"sub_exp_cfg_agent_params.args_.action_w_noise_amplitude\"]\n",
    "# ]"
   ]
  },
  {
   "cell_type": "code",
   "execution_count": 15,
   "metadata": {},
   "outputs": [],
   "source": [
    "# sub_df[\n",
    "#     (sub_df[\"sub_exp_cfg_agent_params.args_.action_w_noise_amplitude\"] == \"0.3\") \n",
    "# ]"
   ]
  },
  {
   "cell_type": "code",
   "execution_count": 16,
   "metadata": {},
   "outputs": [
    {
     "name": "stdout",
     "output_type": "stream",
     "text": [
      "D:\\Work\\repos\\RL\\phd-rl-algos\\dqn\\opinion_dynamics\\experiments\\results\\2025May15-000132_configs\\0000_agent_params.args_.action_w_noise_amplitude_0.3__experiment_run_name_best_params\\1\n"
     ]
    }
   ],
   "source": [
    "# Print the experiment_name of the row with the highest episode_rewards_mean \n",
    "print(sub_df[sub_df['episode_rewards_mean'] == sub_df['episode_rewards_mean'].max()]['sub_experiment_path'].values[0])\n",
    "# print(sub_df[sub_df['episode_rewards_mean'] == sub_df['episode_rewards_mean'].max()]['experiment_name'].values[0])\n",
    "# print(sub_df[sub_df['episode_rewards_mean'] == sub_df['episode_rewards_mean'].max()]['episode_rewards_mean'].values[0])\n"
   ]
  },
  {
   "cell_type": "code",
   "execution_count": 17,
   "metadata": {},
   "outputs": [
    {
     "data": {
      "image/png": "[encoded data removed]",
      "text/plain": [
       "<Figure size 800x230 with 2 Axes>"
      ]
     },
     "metadata": {},
     "output_type": "display_data"
    }
   ],
   "source": [
    "import shap\n",
    "import xgboost\n",
    "import pandas as pd\n",
    "\n",
    "\n",
    "# Define the target metric and hyperparameter columns\n",
    "target_metric = \"episode_rewards_mean\"  # Replace with actual metric column name\n",
    "# Replace with actual hyperparameter column names\n",
    "\n",
    "# Prepare data\n",
    "X = sub_df[hyperparam_columns].apply(pd.to_numeric, errors='coerce')\n",
    "y = sub_df[target_metric].fillna(3 * sub_df[target_metric].min())\n",
    "\n",
    "# Train an XGBoost model to analyze feature importance\n",
    "model = xgboost.XGBRegressor(objective=\"reg:squarederror\", n_estimators=100, random_state=42)\n",
    "model.fit(X, y)\n",
    "\n",
    "# SHAP analysis\n",
    "explainer = shap.Explainer(model)\n",
    "shap_values = explainer(X)\n",
    "\n",
    "# Summary plot (feature importance)\n",
    "shap.summary_plot(shap_values, X)"
   ]
  },
  {
   "cell_type": "code",
   "execution_count": 18,
   "metadata": {},
   "outputs": [
    {
     "data": {
      "text/plain": [
       "['sub_exp_cfg_agent_params.args_.action_w_noise_amplitude',\n",
       " 'sub_exp_cfg_experiment_run_name']"
      ]
     },
     "execution_count": 18,
     "metadata": {},
     "output_type": "execute_result"
    }
   ],
   "source": [
    "hyperparam_columns"
   ]
  },
  {
   "cell_type": "code",
   "execution_count": 19,
   "metadata": {},
   "outputs": [
    {
     "data": {
      "application/vnd.plotly.v1+json": {
       "config": {
        "plotlyServerURL": "https://plot.ly"
       },
       "data": [
        {
         "hovertemplate": "experiment_name=0000_agent_params.args_.action_w_noise_amplitude_0.3__experiment_run_name_best_params<br>size=best_params<br>noise=%{x}<br>episode_rewards_mean=%{y}<extra></extra>",
         "legendgroup": "0000_agent_params.args_.action_w_noise_amplitude_0.3__experiment_run_name_best_params",
         "marker": {
          "color": "#636efa",
          "symbol": "circle"
         },
         "mode": "markers",
         "name": "0000_agent_params.args_.action_w_noise_amplitude_0.3__experiment_run_name_best_params",
         "orientation": "v",
         "showlegend": true,
         "type": "scatter",
         "x": [
          "0.3",
          "0.3",
          "0.3",
          "0.3",
          "0.3"
         ],
         "xaxis": "x",
         "y": [
          -10.254692451759789,
          -8.551890698001401,
          -9.754340709265215,
          -11.625493541610757,
          -9.682139476152662
         ],
         "yaxis": "y"
        },
        {
         "hovertemplate": "experiment_name=0001_agent_params.args_.action_w_noise_amplitude_0.8__experiment_run_name_best_params<br>size=best_params<br>noise=%{x}<br>episode_rewards_mean=%{y}<extra></extra>",
         "legendgroup": "0001_agent_params.args_.action_w_noise_amplitude_0.8__experiment_run_name_best_params",
         "marker": {
          "color": "#EF553B",
          "symbol": "circle"
         },
         "mode": "markers",
         "name": "0001_agent_params.args_.action_w_noise_amplitude_0.8__experiment_run_name_best_params",
         "orientation": "v",
         "showlegend": true,
         "type": "scatter",
         "x": [
          "0.8",
          "0.8",
          "0.8",
          "0.8",
          "0.8"
         ],
         "xaxis": "x",
         "y": [
          -9.793698043921445,
          -10.323216673032473,
          -8.958044573399606,
          -9.963466699601112,
          -10.435230859273137
         ],
         "yaxis": "y"
        }
       ],
       "layout": {
        "annotations": [
         {
          "font": {},
          "showarrow": false,
          "text": "size=best_params",
          "x": 0.5,
          "xanchor": "center",
          "xref": "paper",
          "y": 1,
          "yanchor": "bottom",
          "yref": "paper"
         }
        ],
        "height": 600,
        "legend": {
         "title": {
          "text": "experiment_name"
         },
         "tracegroupgap": 0
        },
        "showlegend": false,
        "template": {
         "data": {
          "bar": [
           {
            "error_x": {
             "color": "#2a3f5f"
            },
            "error_y": {
             "color": "#2a3f5f"
            },
            "marker": {
             "line": {
              "color": "#E5ECF6",
              "width": 0.5
             },
             "pattern": {
              "fillmode": "overlay",
              "size": 10,
              "solidity": 0.2
             }
            },
            "type": "bar"
           }
          ],
          "barpolar": [
           {
            "marker": {
             "line": {
              "color": "#E5ECF6",
              "width": 0.5
             },
             "pattern": {
              "fillmode": "overlay",
              "size": 10,
              "solidity": 0.2
             }
            },
            "type": "barpolar"
           }
          ],
          "carpet": [
           {
            "aaxis": {
             "endlinecolor": "#2a3f5f",
             "gridcolor": "white",
             "linecolor": "white",
             "minorgridcolor": "white",
             "startlinecolor": "#2a3f5f"
            },
            "baxis": {
             "endlinecolor": "#2a3f5f",
             "gridcolor": "white",
             "linecolor": "white",
             "minorgridcolor": "white",
             "startlinecolor": "#2a3f5f"
            },
            "type": "carpet"
           }
          ],
          "choropleth": [
           {
            "colorbar": {
             "outlinewidth": 0,
             "ticks": ""
            },
            "type": "choropleth"
           }
          ],
          "contour": [
           {
            "colorbar": {
             "outlinewidth": 0,
             "ticks": ""
            },
            "colorscale": [
             [
              0,
              "#0d0887"
             ],
             [
              0.1111111111111111,
              "#46039f"
             ],
             [
              0.2222222222222222,
              "#7201a8"
             ],
             [
              0.3333333333333333,
              "#9c179e"
             ],
             [
              0.4444444444444444,
              "#bd3786"
             ],
             [
              0.5555555555555556,
              "#d8576b"
             ],
             [
              0.6666666666666666,
              "#ed7953"
             ],
             [
              0.7777777777777778,
              "#fb9f3a"
             ],
             [
              0.8888888888888888,
              "#fdca26"
             ],
             [
              1,
              "#f0f921"
             ]
            ],
            "type": "contour"
           }
          ],
          "contourcarpet": [
           {
            "colorbar": {
             "outlinewidth": 0,
             "ticks": ""
            },
            "type": "contourcarpet"
           }
          ],
          "heatmap": [
           {
            "colorbar": {
             "outlinewidth": 0,
             "ticks": ""
            },
            "colorscale": [
             [
              0,
              "#0d0887"
             ],
             [
              0.1111111111111111,
              "#46039f"
             ],
             [
              0.2222222222222222,
              "#7201a8"
             ],
             [
              0.3333333333333333,
              "#9c179e"
             ],
             [
              0.4444444444444444,
              "#bd3786"
             ],
             [
              0.5555555555555556,
              "#d8576b"
             ],
             [
              0.6666666666666666,
              "#ed7953"
             ],
             [
              0.7777777777777778,
              "#fb9f3a"
             ],
             [
              0.8888888888888888,
              "#fdca26"
             ],
             [
              1,
              "#f0f921"
             ]
            ],
            "type": "heatmap"
           }
          ],
          "heatmapgl": [
           {
            "colorbar": {
             "outlinewidth": 0,
             "ticks": ""
            },
            "colorscale": [
             [
              0,
              "#0d0887"
             ],
             [
              0.1111111111111111,
              "#46039f"
             ],
             [
              0.2222222222222222,
              "#7201a8"
             ],
             [
              0.3333333333333333,
              "#9c179e"
             ],
             [
              0.4444444444444444,
              "#bd3786"
             ],
             [
              0.5555555555555556,
              "#d8576b"
             ],
             [
              0.6666666666666666,
              "#ed7953"
             ],
             [
              0.7777777777777778,
              "#fb9f3a"
             ],
             [
              0.8888888888888888,
              "#fdca26"
             ],
             [
              1,
              "#f0f921"
             ]
            ],
            "type": "heatmapgl"
           }
          ],
          "histogram": [
           {
            "marker": {
             "pattern": {
              "fillmode": "overlay",
              "size": 10,
              "solidity": 0.2
             }
            },
            "type": "histogram"
           }
          ],
          "histogram2d": [
           {
            "colorbar": {
             "outlinewidth": 0,
             "ticks": ""
            },
            "colorscale": [
             [
              0,
              "#0d0887"
             ],
             [
              0.1111111111111111,
              "#46039f"
             ],
             [
              0.2222222222222222,
              "#7201a8"
             ],
             [
              0.3333333333333333,
              "#9c179e"
             ],
             [
              0.4444444444444444,
              "#bd3786"
             ],
             [
              0.5555555555555556,
              "#d8576b"
             ],
             [
              0.6666666666666666,
              "#ed7953"
             ],
             [
              0.7777777777777778,
              "#fb9f3a"
             ],
             [
              0.8888888888888888,
              "#fdca26"
             ],
             [
              1,
              "#f0f921"
             ]
            ],
            "type": "histogram2d"
           }
          ],
          "histogram2dcontour": [
           {
            "colorbar": {
             "outlinewidth": 0,
             "ticks": ""
            },
            "colorscale": [
             [
              0,
              "#0d0887"
             ],
             [
              0.1111111111111111,
              "#46039f"
             ],
             [
              0.2222222222222222,
              "#7201a8"
             ],
             [
              0.3333333333333333,
              "#9c179e"
             ],
             [
              0.4444444444444444,
              "#bd3786"
             ],
             [
              0.5555555555555556,
              "#d8576b"
             ],
             [
              0.6666666666666666,
              "#ed7953"
             ],
             [
              0.7777777777777778,
              "#fb9f3a"
             ],
             [
              0.8888888888888888,
              "#fdca26"
             ],
             [
              1,
              "#f0f921"
             ]
            ],
            "type": "histogram2dcontour"
           }
          ],
          "mesh3d": [
           {
            "colorbar": {
             "outlinewidth": 0,
             "ticks": ""
            },
            "type": "mesh3d"
           }
          ],
          "parcoords": [
           {
            "line": {
             "colorbar": {
              "outlinewidth": 0,
              "ticks": ""
             }
            },
            "type": "parcoords"
           }
          ],
          "pie": [
           {
            "automargin": true,
            "type": "pie"
           }
          ],
          "scatter": [
           {
            "fillpattern": {
             "fillmode": "overlay",
             "size": 10,
             "solidity": 0.2
            },
            "type": "scatter"
           }
          ],
          "scatter3d": [
           {
            "line": {
             "colorbar": {
              "outlinewidth": 0,
              "ticks": ""
             }
            },
            "marker": {
             "colorbar": {
              "outlinewidth": 0,
              "ticks": ""
             }
            },
            "type": "scatter3d"
           }
          ],
          "scattercarpet": [
           {
            "marker": {
             "colorbar": {
              "outlinewidth": 0,
              "ticks": ""
             }
            },
            "type": "scattercarpet"
           }
          ],
          "scattergeo": [
           {
            "marker": {
             "colorbar": {
              "outlinewidth": 0,
              "ticks": ""
             }
            },
            "type": "scattergeo"
           }
          ],
          "scattergl": [
           {
            "marker": {
             "colorbar": {
              "outlinewidth": 0,
              "ticks": ""
             }
            },
            "type": "scattergl"
           }
          ],
          "scattermapbox": [
           {
            "marker": {
             "colorbar": {
              "outlinewidth": 0,
              "ticks": ""
             }
            },
            "type": "scattermapbox"
           }
          ],
          "scatterpolar": [
           {
            "marker": {
             "colorbar": {
              "outlinewidth": 0,
              "ticks": ""
             }
            },
            "type": "scatterpolar"
           }
          ],
          "scatterpolargl": [
           {
            "marker": {
             "colorbar": {
              "outlinewidth": 0,
              "ticks": ""
             }
            },
            "type": "scatterpolargl"
           }
          ],
          "scatterternary": [
           {
            "marker": {
             "colorbar": {
              "outlinewidth": 0,
              "ticks": ""
             }
            },
            "type": "scatterternary"
           }
          ],
          "surface": [
           {
            "colorbar": {
             "outlinewidth": 0,
             "ticks": ""
            },
            "colorscale": [
             [
              0,
              "#0d0887"
             ],
             [
              0.1111111111111111,
              "#46039f"
             ],
             [
              0.2222222222222222,
              "#7201a8"
             ],
             [
              0.3333333333333333,
              "#9c179e"
             ],
             [
              0.4444444444444444,
              "#bd3786"
             ],
             [
              0.5555555555555556,
              "#d8576b"
             ],
             [
              0.6666666666666666,
              "#ed7953"
             ],
             [
              0.7777777777777778,
              "#fb9f3a"
             ],
             [
              0.8888888888888888,
              "#fdca26"
             ],
             [
              1,
              "#f0f921"
             ]
            ],
            "type": "surface"
           }
          ],
          "table": [
           {
            "cells": {
             "fill": {
              "color": "#EBF0F8"
             },
             "line": {
              "color": "white"
             }
            },
            "header": {
             "fill": {
              "color": "#C8D4E3"
             },
             "line": {
              "color": "white"
             }
            },
            "type": "table"
           }
          ]
         },
         "layout": {
          "annotationdefaults": {
           "arrowcolor": "#2a3f5f",
           "arrowhead": 0,
           "arrowwidth": 1
          },
          "autotypenumbers": "strict",
          "coloraxis": {
           "colorbar": {
            "outlinewidth": 0,
            "ticks": ""
           }
          },
          "colorscale": {
           "diverging": [
            [
             0,
             "#8e0152"
            ],
            [
             0.1,
             "#c51b7d"
            ],
            [
             0.2,
             "#de77ae"
            ],
            [
             0.3,
             "#f1b6da"
            ],
            [
             0.4,
             "#fde0ef"
            ],
            [
             0.5,
             "#f7f7f7"
            ],
            [
             0.6,
             "#e6f5d0"
            ],
            [
             0.7,
             "#b8e186"
            ],
            [
             0.8,
             "#7fbc41"
            ],
            [
             0.9,
             "#4d9221"
            ],
            [
             1,
             "#276419"
            ]
           ],
           "sequential": [
            [
             0,
             "#0d0887"
            ],
            [
             0.1111111111111111,
             "#46039f"
            ],
            [
             0.2222222222222222,
             "#7201a8"
            ],
            [
             0.3333333333333333,
             "#9c179e"
            ],
            [
             0.4444444444444444,
             "#bd3786"
            ],
            [
             0.5555555555555556,
             "#d8576b"
            ],
            [
             0.6666666666666666,
             "#ed7953"
            ],
            [
             0.7777777777777778,
             "#fb9f3a"
            ],
            [
             0.8888888888888888,
             "#fdca26"
            ],
            [
             1,
             "#f0f921"
            ]
           ],
           "sequentialminus": [
            [
             0,
             "#0d0887"
            ],
            [
             0.1111111111111111,
             "#46039f"
            ],
            [
             0.2222222222222222,
             "#7201a8"
            ],
            [
             0.3333333333333333,
             "#9c179e"
            ],
            [
             0.4444444444444444,
             "#bd3786"
            ],
            [
             0.5555555555555556,
             "#d8576b"
            ],
            [
             0.6666666666666666,
             "#ed7953"
            ],
            [
             0.7777777777777778,
             "#fb9f3a"
            ],
            [
             0.8888888888888888,
             "#fdca26"
            ],
            [
             1,
             "#f0f921"
            ]
           ]
          },
          "colorway": [
           "#636efa",
           "#EF553B",
           "#00cc96",
           "#ab63fa",
           "#FFA15A",
           "#19d3f3",
           "#FF6692",
           "#B6E880",
           "#FF97FF",
           "#FECB52"
          ],
          "font": {
           "color": "#2a3f5f"
          },
          "geo": {
           "bgcolor": "white",
           "lakecolor": "white",
           "landcolor": "#E5ECF6",
           "showlakes": true,
           "showland": true,
           "subunitcolor": "white"
          },
          "hoverlabel": {
           "align": "left"
          },
          "hovermode": "closest",
          "mapbox": {
           "style": "light"
          },
          "paper_bgcolor": "white",
          "plot_bgcolor": "#E5ECF6",
          "polar": {
           "angularaxis": {
            "gridcolor": "white",
            "linecolor": "white",
            "ticks": ""
           },
           "bgcolor": "#E5ECF6",
           "radialaxis": {
            "gridcolor": "white",
            "linecolor": "white",
            "ticks": ""
           }
          },
          "scene": {
           "xaxis": {
            "backgroundcolor": "#E5ECF6",
            "gridcolor": "white",
            "gridwidth": 2,
            "linecolor": "white",
            "showbackground": true,
            "ticks": "",
            "zerolinecolor": "white"
           },
           "yaxis": {
            "backgroundcolor": "#E5ECF6",
            "gridcolor": "white",
            "gridwidth": 2,
            "linecolor": "white",
            "showbackground": true,
            "ticks": "",
            "zerolinecolor": "white"
           },
           "zaxis": {
            "backgroundcolor": "#E5ECF6",
            "gridcolor": "white",
            "gridwidth": 2,
            "linecolor": "white",
            "showbackground": true,
            "ticks": "",
            "zerolinecolor": "white"
           }
          },
          "shapedefaults": {
           "line": {
            "color": "#2a3f5f"
           }
          },
          "ternary": {
           "aaxis": {
            "gridcolor": "white",
            "linecolor": "white",
            "ticks": ""
           },
           "baxis": {
            "gridcolor": "white",
            "linecolor": "white",
            "ticks": ""
           },
           "bgcolor": "#E5ECF6",
           "caxis": {
            "gridcolor": "white",
            "linecolor": "white",
            "ticks": ""
           }
          },
          "title": {
           "x": 0.05
          },
          "xaxis": {
           "automargin": true,
           "gridcolor": "white",
           "linecolor": "white",
           "ticks": "",
           "title": {
            "standoff": 15
           },
           "zerolinecolor": "white",
           "zerolinewidth": 2
          },
          "yaxis": {
           "automargin": true,
           "gridcolor": "white",
           "linecolor": "white",
           "ticks": "",
           "title": {
            "standoff": 15
           },
           "zerolinecolor": "white",
           "zerolinewidth": 2
          }
         }
        },
        "title": {
         "text": "Episode Rewards vs. Noise Faceted by Size"
        },
        "xaxis": {
         "anchor": "y",
         "domain": [
          0,
          1
         ],
         "title": {
          "text": "noise"
         }
        },
        "yaxis": {
         "anchor": "x",
         "domain": [
          0,
          1
         ],
         "title": {
          "text": "episode_rewards_mean"
         }
        }
       }
      }
     },
     "metadata": {},
     "output_type": "display_data"
    }
   ],
   "source": [
    "import plotly.express as px\n",
    "\n",
    "# Define readable names for selected hyperparams\n",
    "readable_names = {\n",
    "    hyperparam_columns[0]: \"noise\",\n",
    "    hyperparam_columns[1]: \"size\"\n",
    "}\n",
    "\n",
    "# Rename columns in a copy of the dataframe\n",
    "plot_df = sub_df.rename(columns=readable_names)\n",
    "\n",
    "# Assign new column names\n",
    "x_col = \"noise\"\n",
    "y_col = \"episode_rewards_mean\"\n",
    "facet_col = \"size\"\n",
    "\n",
    "# Plot\n",
    "fig = px.scatter(\n",
    "    plot_df,\n",
    "    x=x_col,\n",
    "    y=y_col,\n",
    "    color=\"experiment_name\",  # Optional: color by experiment\n",
    "    facet_col=facet_col,\n",
    "    title=\"Episode Rewards vs. Noise Faceted by Size\",\n",
    "    height=600\n",
    ")\n",
    "\n",
    "fig.update_layout(showlegend=False)\n",
    "fig.show()\n"
   ]
  },
  {
   "cell_type": "code",
   "execution_count": null,
   "metadata": {},
   "outputs": [],
   "source": []
  }
 ],
 "metadata": {
  "kernelspec": {
   "display_name": "phd_rl_algos",
   "language": "python",
   "name": "python3"
  },
  "language_info": {
   "codemirror_mode": {
    "name": "ipython",
    "version": 3
   },
   "file_extension": ".py",
   "mimetype": "text/x-python",
   "name": "python",
   "nbconvert_exporter": "python",
   "pygments_lexer": "ipython3",
   "version": "3.11.5"
  }
 },
 "nbformat": 4,
 "nbformat_minor": 2
}
