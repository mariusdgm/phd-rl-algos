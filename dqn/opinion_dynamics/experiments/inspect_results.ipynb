{
 "cells": [
  {
   "cell_type": "code",
   "execution_count": 40,
   "metadata": {},
   "outputs": [
    {
     "name": "stdout",
     "output_type": "stream",
     "text": [
      "The autoreload extension is already loaded. To reload it, use:\n",
      "  %reload_ext autoreload\n"
     ]
    }
   ],
   "source": [
    "%load_ext autoreload\n",
    "%autoreload 2"
   ]
  },
  {
   "cell_type": "code",
   "execution_count": 41,
   "metadata": {},
   "outputs": [],
   "source": [
    "import os, sys\n",
    "\n",
    "def get_dir_n_levels_up(path, n):\n",
    "    # Go up n levels from the given path\n",
    "    for _ in range(n):\n",
    "        path = os.path.dirname(path)\n",
    "    return path\n",
    "\n",
    "proj_root = get_dir_n_levels_up(os.path.abspath(\"__file__\"), 4)\n",
    "sys.path.append(proj_root)\n",
    "\n",
    "import pandas as pd\n",
    "import yaml\n",
    "import torch\n",
    "import collections\n",
    "\n",
    "import warnings\n",
    "import numpy as np\n",
    "\n",
    "import seaborn as sns\n",
    "import matplotlib.pyplot as plt\n",
    "sns.set_theme()\n",
    "\n",
    "warnings.filterwarnings(\"ignore\")\n",
    "\n",
    "from dqn.opinion_dynamics.utils.experiment import process_experiment\n"
   ]
  },
  {
   "cell_type": "code",
   "execution_count": 42,
   "metadata": {},
   "outputs": [
    {
     "data": {
      "text/plain": [
       "Index(['epoch_type', 'frame_stamp', 'greedy_epsilon', 'episode_rewards_min',\n",
       "       'episode_rewards_max', 'episode_rewards_mean', 'episode_rewards_median',\n",
       "       'episode_rewards_std', 'episode_discounted_rewards_min',\n",
       "       'episode_discounted_rewards_max', 'episode_discounted_rewards_mean',\n",
       "       'episode_discounted_rewards_median', 'episode_discounted_rewards_std',\n",
       "       'episode_frames_min', 'episode_frames_max', 'episode_frames_mean',\n",
       "       'episode_frames_median', 'episode_frames_std', 'episode_losses_min',\n",
       "       'episode_losses_max', 'episode_losses_mean', 'episode_losses_median',\n",
       "       'episode_losses_std', 'episode_max_qs_min', 'episode_max_qs_max',\n",
       "       'episode_max_qs_mean', 'episode_max_qs_median', 'episode_max_qs_std',\n",
       "       'policy_trained_times', 'target_trained_times', 'epoch_time',\n",
       "       'sub_exp_cfg_optim.args_.eps', 'sub_exp_cfg_optim.args_.lr',\n",
       "       'sub_exp_cfg_agent_params.args_.betas',\n",
       "       'sub_exp_cfg_agent_params.model', 'sub_experiment_path', 'seed',\n",
       "       'experiment_name'],\n",
       "      dtype='object')"
      ]
     },
     "execution_count": 42,
     "metadata": {},
     "output_type": "execute_result"
    }
   ],
   "source": [
    "# experiment_sub_dir = \"2025May02-101004_configs\" # excellent run\n",
    "# experiment_sub_dir = \"2025Jul09-171538_configs\" # good latest run\n",
    "\n",
    "experiment_sub_dir = \"2025Aug26-163426_configs\" \n",
    "\n",
    "exp_path = os.path.join(os.path.abspath(\".\"), \"results\", experiment_sub_dir)\n",
    "df = process_experiment(\n",
    "    exp_path\n",
    ")\n",
    "df.columns\n"
   ]
  },
  {
   "cell_type": "code",
   "execution_count": 43,
   "metadata": {},
   "outputs": [
    {
     "data": {
      "text/html": [
       "<div>\n",
       "<style scoped>\n",
       "    .dataframe tbody tr th:only-of-type {\n",
       "        vertical-align: middle;\n",
       "    }\n",
       "\n",
       "    .dataframe tbody tr th {\n",
       "        vertical-align: top;\n",
       "    }\n",
       "\n",
       "    .dataframe thead th {\n",
       "        text-align: right;\n",
       "    }\n",
       "</style>\n",
       "<table border=\"1\" class=\"dataframe\">\n",
       "  <thead>\n",
       "    <tr style=\"text-align: right;\">\n",
       "      <th></th>\n",
       "      <th>epoch_type</th>\n",
       "      <th>frame_stamp</th>\n",
       "      <th>greedy_epsilon</th>\n",
       "      <th>episode_rewards_min</th>\n",
       "      <th>episode_rewards_max</th>\n",
       "      <th>episode_rewards_mean</th>\n",
       "      <th>episode_rewards_median</th>\n",
       "      <th>episode_rewards_std</th>\n",
       "      <th>episode_discounted_rewards_min</th>\n",
       "      <th>episode_discounted_rewards_max</th>\n",
       "      <th>...</th>\n",
       "      <th>policy_trained_times</th>\n",
       "      <th>target_trained_times</th>\n",
       "      <th>epoch_time</th>\n",
       "      <th>sub_exp_cfg_optim.args_.eps</th>\n",
       "      <th>sub_exp_cfg_optim.args_.lr</th>\n",
       "      <th>sub_exp_cfg_agent_params.args_.betas</th>\n",
       "      <th>sub_exp_cfg_agent_params.model</th>\n",
       "      <th>sub_experiment_path</th>\n",
       "      <th>seed</th>\n",
       "      <th>experiment_name</th>\n",
       "    </tr>\n",
       "  </thead>\n",
       "  <tbody>\n",
       "    <tr>\n",
       "      <th>0</th>\n",
       "      <td>training</td>\n",
       "      <td>200000</td>\n",
       "      <td>0.969125</td>\n",
       "      <td>-20.418243</td>\n",
       "      <td>-2.084745</td>\n",
       "      <td>-8.875907</td>\n",
       "      <td>-8.655937</td>\n",
       "      <td>2.398100</td>\n",
       "      <td>-16.869079</td>\n",
       "      <td>-2.011823</td>\n",
       "      <td>...</td>\n",
       "      <td>48749.0</td>\n",
       "      <td>192.0</td>\n",
       "      <td>0 days 00:08:45.104266</td>\n",
       "      <td>1e-09</td>\n",
       "      <td>1e-06</td>\n",
       "      <td>[0, 1, 2]</td>\n",
       "      <td>OpinionNetFixedW</td>\n",
       "      <td>d:\\Work\\repos\\RL\\phd-rl-algos\\dqn\\opinion_dyna...</td>\n",
       "      <td>0</td>\n",
       "      <td>0000_optim.args_.eps_1e-09__optim.args_.lr_1e-...</td>\n",
       "    </tr>\n",
       "    <tr>\n",
       "      <th>1</th>\n",
       "      <td>training</td>\n",
       "      <td>400000</td>\n",
       "      <td>0.937458</td>\n",
       "      <td>-21.833099</td>\n",
       "      <td>-2.556997</td>\n",
       "      <td>-9.234172</td>\n",
       "      <td>-9.032632</td>\n",
       "      <td>2.562519</td>\n",
       "      <td>-17.944433</td>\n",
       "      <td>-2.425282</td>\n",
       "      <td>...</td>\n",
       "      <td>50000.0</td>\n",
       "      <td>200.0</td>\n",
       "      <td>0 days 00:09:09.103095</td>\n",
       "      <td>1e-09</td>\n",
       "      <td>1e-06</td>\n",
       "      <td>[0, 1, 2]</td>\n",
       "      <td>OpinionNetFixedW</td>\n",
       "      <td>d:\\Work\\repos\\RL\\phd-rl-algos\\dqn\\opinion_dyna...</td>\n",
       "      <td>0</td>\n",
       "      <td>0000_optim.args_.eps_1e-09__optim.args_.lr_1e-...</td>\n",
       "    </tr>\n",
       "    <tr>\n",
       "      <th>2</th>\n",
       "      <td>training</td>\n",
       "      <td>600000</td>\n",
       "      <td>0.905792</td>\n",
       "      <td>-21.939770</td>\n",
       "      <td>-2.412524</td>\n",
       "      <td>-9.328381</td>\n",
       "      <td>-9.130741</td>\n",
       "      <td>2.576254</td>\n",
       "      <td>-17.993550</td>\n",
       "      <td>-2.307400</td>\n",
       "      <td>...</td>\n",
       "      <td>50000.0</td>\n",
       "      <td>200.0</td>\n",
       "      <td>0 days 00:09:18.199381</td>\n",
       "      <td>1e-09</td>\n",
       "      <td>1e-06</td>\n",
       "      <td>[0, 1, 2]</td>\n",
       "      <td>OpinionNetFixedW</td>\n",
       "      <td>d:\\Work\\repos\\RL\\phd-rl-algos\\dqn\\opinion_dyna...</td>\n",
       "      <td>0</td>\n",
       "      <td>0000_optim.args_.eps_1e-09__optim.args_.lr_1e-...</td>\n",
       "    </tr>\n",
       "    <tr>\n",
       "      <th>3</th>\n",
       "      <td>training</td>\n",
       "      <td>800000</td>\n",
       "      <td>0.874125</td>\n",
       "      <td>-19.270433</td>\n",
       "      <td>-2.595088</td>\n",
       "      <td>-8.846412</td>\n",
       "      <td>-8.670360</td>\n",
       "      <td>2.295810</td>\n",
       "      <td>-16.243124</td>\n",
       "      <td>-2.475037</td>\n",
       "      <td>...</td>\n",
       "      <td>50000.0</td>\n",
       "      <td>200.0</td>\n",
       "      <td>0 days 00:09:31.533153</td>\n",
       "      <td>1e-09</td>\n",
       "      <td>1e-06</td>\n",
       "      <td>[0, 1, 2]</td>\n",
       "      <td>OpinionNetFixedW</td>\n",
       "      <td>d:\\Work\\repos\\RL\\phd-rl-algos\\dqn\\opinion_dyna...</td>\n",
       "      <td>0</td>\n",
       "      <td>0000_optim.args_.eps_1e-09__optim.args_.lr_1e-...</td>\n",
       "    </tr>\n",
       "    <tr>\n",
       "      <th>4</th>\n",
       "      <td>training</td>\n",
       "      <td>1000000</td>\n",
       "      <td>0.842458</td>\n",
       "      <td>-19.707395</td>\n",
       "      <td>-2.535361</td>\n",
       "      <td>-8.811052</td>\n",
       "      <td>-8.643386</td>\n",
       "      <td>2.269742</td>\n",
       "      <td>-16.376746</td>\n",
       "      <td>-2.394452</td>\n",
       "      <td>...</td>\n",
       "      <td>50000.0</td>\n",
       "      <td>200.0</td>\n",
       "      <td>0 days 00:09:56.692960</td>\n",
       "      <td>1e-09</td>\n",
       "      <td>1e-06</td>\n",
       "      <td>[0, 1, 2]</td>\n",
       "      <td>OpinionNetFixedW</td>\n",
       "      <td>d:\\Work\\repos\\RL\\phd-rl-algos\\dqn\\opinion_dyna...</td>\n",
       "      <td>0</td>\n",
       "      <td>0000_optim.args_.eps_1e-09__optim.args_.lr_1e-...</td>\n",
       "    </tr>\n",
       "    <tr>\n",
       "      <th>...</th>\n",
       "      <td>...</td>\n",
       "      <td>...</td>\n",
       "      <td>...</td>\n",
       "      <td>...</td>\n",
       "      <td>...</td>\n",
       "      <td>...</td>\n",
       "      <td>...</td>\n",
       "      <td>...</td>\n",
       "      <td>...</td>\n",
       "      <td>...</td>\n",
       "      <td>...</td>\n",
       "      <td>...</td>\n",
       "      <td>...</td>\n",
       "      <td>...</td>\n",
       "      <td>...</td>\n",
       "      <td>...</td>\n",
       "      <td>...</td>\n",
       "      <td>...</td>\n",
       "      <td>...</td>\n",
       "      <td>...</td>\n",
       "      <td>...</td>\n",
       "    </tr>\n",
       "    <tr>\n",
       "      <th>235</th>\n",
       "      <td>validation</td>\n",
       "      <td>5200000</td>\n",
       "      <td>NaN</td>\n",
       "      <td>-8.113879</td>\n",
       "      <td>-4.896621</td>\n",
       "      <td>-6.353669</td>\n",
       "      <td>-6.045398</td>\n",
       "      <td>1.330861</td>\n",
       "      <td>-7.579349</td>\n",
       "      <td>-4.621703</td>\n",
       "      <td>...</td>\n",
       "      <td>NaN</td>\n",
       "      <td>NaN</td>\n",
       "      <td>0 days 00:00:02.196879</td>\n",
       "      <td>1e-09</td>\n",
       "      <td>1e-07</td>\n",
       "      <td>[0, 1, 2]</td>\n",
       "      <td>OpinionNetFixedW</td>\n",
       "      <td>d:\\Work\\repos\\RL\\phd-rl-algos\\dqn\\opinion_dyna...</td>\n",
       "      <td>1</td>\n",
       "      <td>0001_optim.args_.eps_1e-09__optim.args_.lr_1e-...</td>\n",
       "    </tr>\n",
       "    <tr>\n",
       "      <th>236</th>\n",
       "      <td>validation</td>\n",
       "      <td>5400000</td>\n",
       "      <td>NaN</td>\n",
       "      <td>-8.113879</td>\n",
       "      <td>-4.896621</td>\n",
       "      <td>-6.354008</td>\n",
       "      <td>-6.045398</td>\n",
       "      <td>1.330803</td>\n",
       "      <td>-7.579349</td>\n",
       "      <td>-4.621703</td>\n",
       "      <td>...</td>\n",
       "      <td>NaN</td>\n",
       "      <td>NaN</td>\n",
       "      <td>0 days 00:00:02.221459</td>\n",
       "      <td>1e-09</td>\n",
       "      <td>1e-07</td>\n",
       "      <td>[0, 1, 2]</td>\n",
       "      <td>OpinionNetFixedW</td>\n",
       "      <td>d:\\Work\\repos\\RL\\phd-rl-algos\\dqn\\opinion_dyna...</td>\n",
       "      <td>1</td>\n",
       "      <td>0001_optim.args_.eps_1e-09__optim.args_.lr_1e-...</td>\n",
       "    </tr>\n",
       "    <tr>\n",
       "      <th>237</th>\n",
       "      <td>validation</td>\n",
       "      <td>5600000</td>\n",
       "      <td>NaN</td>\n",
       "      <td>-8.113879</td>\n",
       "      <td>-4.896621</td>\n",
       "      <td>-6.351966</td>\n",
       "      <td>-6.045398</td>\n",
       "      <td>1.331209</td>\n",
       "      <td>-7.579349</td>\n",
       "      <td>-4.621703</td>\n",
       "      <td>...</td>\n",
       "      <td>NaN</td>\n",
       "      <td>NaN</td>\n",
       "      <td>0 days 00:00:02.294930</td>\n",
       "      <td>1e-09</td>\n",
       "      <td>1e-07</td>\n",
       "      <td>[0, 1, 2]</td>\n",
       "      <td>OpinionNetFixedW</td>\n",
       "      <td>d:\\Work\\repos\\RL\\phd-rl-algos\\dqn\\opinion_dyna...</td>\n",
       "      <td>1</td>\n",
       "      <td>0001_optim.args_.eps_1e-09__optim.args_.lr_1e-...</td>\n",
       "    </tr>\n",
       "    <tr>\n",
       "      <th>238</th>\n",
       "      <td>validation</td>\n",
       "      <td>5800000</td>\n",
       "      <td>NaN</td>\n",
       "      <td>-8.113879</td>\n",
       "      <td>-4.896621</td>\n",
       "      <td>-6.351966</td>\n",
       "      <td>-6.045398</td>\n",
       "      <td>1.331209</td>\n",
       "      <td>-7.579349</td>\n",
       "      <td>-4.621703</td>\n",
       "      <td>...</td>\n",
       "      <td>NaN</td>\n",
       "      <td>NaN</td>\n",
       "      <td>0 days 00:00:02.188034</td>\n",
       "      <td>1e-09</td>\n",
       "      <td>1e-07</td>\n",
       "      <td>[0, 1, 2]</td>\n",
       "      <td>OpinionNetFixedW</td>\n",
       "      <td>d:\\Work\\repos\\RL\\phd-rl-algos\\dqn\\opinion_dyna...</td>\n",
       "      <td>1</td>\n",
       "      <td>0001_optim.args_.eps_1e-09__optim.args_.lr_1e-...</td>\n",
       "    </tr>\n",
       "    <tr>\n",
       "      <th>239</th>\n",
       "      <td>validation</td>\n",
       "      <td>6000000</td>\n",
       "      <td>NaN</td>\n",
       "      <td>-8.113879</td>\n",
       "      <td>-4.896621</td>\n",
       "      <td>-6.351966</td>\n",
       "      <td>-6.045398</td>\n",
       "      <td>1.331209</td>\n",
       "      <td>-7.579349</td>\n",
       "      <td>-4.621703</td>\n",
       "      <td>...</td>\n",
       "      <td>NaN</td>\n",
       "      <td>NaN</td>\n",
       "      <td>0 days 00:00:02.186025</td>\n",
       "      <td>1e-09</td>\n",
       "      <td>1e-07</td>\n",
       "      <td>[0, 1, 2]</td>\n",
       "      <td>OpinionNetFixedW</td>\n",
       "      <td>d:\\Work\\repos\\RL\\phd-rl-algos\\dqn\\opinion_dyna...</td>\n",
       "      <td>1</td>\n",
       "      <td>0001_optim.args_.eps_1e-09__optim.args_.lr_1e-...</td>\n",
       "    </tr>\n",
       "  </tbody>\n",
       "</table>\n",
       "<p>240 rows × 38 columns</p>\n",
       "</div>"
      ],
      "text/plain": [
       "     epoch_type  frame_stamp  greedy_epsilon  episode_rewards_min  \\\n",
       "0      training       200000        0.969125           -20.418243   \n",
       "1      training       400000        0.937458           -21.833099   \n",
       "2      training       600000        0.905792           -21.939770   \n",
       "3      training       800000        0.874125           -19.270433   \n",
       "4      training      1000000        0.842458           -19.707395   \n",
       "..          ...          ...             ...                  ...   \n",
       "235  validation      5200000             NaN            -8.113879   \n",
       "236  validation      5400000             NaN            -8.113879   \n",
       "237  validation      5600000             NaN            -8.113879   \n",
       "238  validation      5800000             NaN            -8.113879   \n",
       "239  validation      6000000             NaN            -8.113879   \n",
       "\n",
       "     episode_rewards_max  episode_rewards_mean  episode_rewards_median  \\\n",
       "0              -2.084745             -8.875907               -8.655937   \n",
       "1              -2.556997             -9.234172               -9.032632   \n",
       "2              -2.412524             -9.328381               -9.130741   \n",
       "3              -2.595088             -8.846412               -8.670360   \n",
       "4              -2.535361             -8.811052               -8.643386   \n",
       "..                   ...                   ...                     ...   \n",
       "235            -4.896621             -6.353669               -6.045398   \n",
       "236            -4.896621             -6.354008               -6.045398   \n",
       "237            -4.896621             -6.351966               -6.045398   \n",
       "238            -4.896621             -6.351966               -6.045398   \n",
       "239            -4.896621             -6.351966               -6.045398   \n",
       "\n",
       "     episode_rewards_std  episode_discounted_rewards_min  \\\n",
       "0               2.398100                      -16.869079   \n",
       "1               2.562519                      -17.944433   \n",
       "2               2.576254                      -17.993550   \n",
       "3               2.295810                      -16.243124   \n",
       "4               2.269742                      -16.376746   \n",
       "..                   ...                             ...   \n",
       "235             1.330861                       -7.579349   \n",
       "236             1.330803                       -7.579349   \n",
       "237             1.331209                       -7.579349   \n",
       "238             1.331209                       -7.579349   \n",
       "239             1.331209                       -7.579349   \n",
       "\n",
       "     episode_discounted_rewards_max  ...  policy_trained_times  \\\n",
       "0                         -2.011823  ...               48749.0   \n",
       "1                         -2.425282  ...               50000.0   \n",
       "2                         -2.307400  ...               50000.0   \n",
       "3                         -2.475037  ...               50000.0   \n",
       "4                         -2.394452  ...               50000.0   \n",
       "..                              ...  ...                   ...   \n",
       "235                       -4.621703  ...                   NaN   \n",
       "236                       -4.621703  ...                   NaN   \n",
       "237                       -4.621703  ...                   NaN   \n",
       "238                       -4.621703  ...                   NaN   \n",
       "239                       -4.621703  ...                   NaN   \n",
       "\n",
       "     target_trained_times             epoch_time  sub_exp_cfg_optim.args_.eps  \\\n",
       "0                   192.0 0 days 00:08:45.104266                        1e-09   \n",
       "1                   200.0 0 days 00:09:09.103095                        1e-09   \n",
       "2                   200.0 0 days 00:09:18.199381                        1e-09   \n",
       "3                   200.0 0 days 00:09:31.533153                        1e-09   \n",
       "4                   200.0 0 days 00:09:56.692960                        1e-09   \n",
       "..                    ...                    ...                          ...   \n",
       "235                   NaN 0 days 00:00:02.196879                        1e-09   \n",
       "236                   NaN 0 days 00:00:02.221459                        1e-09   \n",
       "237                   NaN 0 days 00:00:02.294930                        1e-09   \n",
       "238                   NaN 0 days 00:00:02.188034                        1e-09   \n",
       "239                   NaN 0 days 00:00:02.186025                        1e-09   \n",
       "\n",
       "     sub_exp_cfg_optim.args_.lr  sub_exp_cfg_agent_params.args_.betas  \\\n",
       "0                         1e-06                             [0, 1, 2]   \n",
       "1                         1e-06                             [0, 1, 2]   \n",
       "2                         1e-06                             [0, 1, 2]   \n",
       "3                         1e-06                             [0, 1, 2]   \n",
       "4                         1e-06                             [0, 1, 2]   \n",
       "..                          ...                                   ...   \n",
       "235                       1e-07                             [0, 1, 2]   \n",
       "236                       1e-07                             [0, 1, 2]   \n",
       "237                       1e-07                             [0, 1, 2]   \n",
       "238                       1e-07                             [0, 1, 2]   \n",
       "239                       1e-07                             [0, 1, 2]   \n",
       "\n",
       "     sub_exp_cfg_agent_params.model  \\\n",
       "0                  OpinionNetFixedW   \n",
       "1                  OpinionNetFixedW   \n",
       "2                  OpinionNetFixedW   \n",
       "3                  OpinionNetFixedW   \n",
       "4                  OpinionNetFixedW   \n",
       "..                              ...   \n",
       "235                OpinionNetFixedW   \n",
       "236                OpinionNetFixedW   \n",
       "237                OpinionNetFixedW   \n",
       "238                OpinionNetFixedW   \n",
       "239                OpinionNetFixedW   \n",
       "\n",
       "                                   sub_experiment_path  seed  \\\n",
       "0    d:\\Work\\repos\\RL\\phd-rl-algos\\dqn\\opinion_dyna...     0   \n",
       "1    d:\\Work\\repos\\RL\\phd-rl-algos\\dqn\\opinion_dyna...     0   \n",
       "2    d:\\Work\\repos\\RL\\phd-rl-algos\\dqn\\opinion_dyna...     0   \n",
       "3    d:\\Work\\repos\\RL\\phd-rl-algos\\dqn\\opinion_dyna...     0   \n",
       "4    d:\\Work\\repos\\RL\\phd-rl-algos\\dqn\\opinion_dyna...     0   \n",
       "..                                                 ...   ...   \n",
       "235  d:\\Work\\repos\\RL\\phd-rl-algos\\dqn\\opinion_dyna...     1   \n",
       "236  d:\\Work\\repos\\RL\\phd-rl-algos\\dqn\\opinion_dyna...     1   \n",
       "237  d:\\Work\\repos\\RL\\phd-rl-algos\\dqn\\opinion_dyna...     1   \n",
       "238  d:\\Work\\repos\\RL\\phd-rl-algos\\dqn\\opinion_dyna...     1   \n",
       "239  d:\\Work\\repos\\RL\\phd-rl-algos\\dqn\\opinion_dyna...     1   \n",
       "\n",
       "                                       experiment_name  \n",
       "0    0000_optim.args_.eps_1e-09__optim.args_.lr_1e-...  \n",
       "1    0000_optim.args_.eps_1e-09__optim.args_.lr_1e-...  \n",
       "2    0000_optim.args_.eps_1e-09__optim.args_.lr_1e-...  \n",
       "3    0000_optim.args_.eps_1e-09__optim.args_.lr_1e-...  \n",
       "4    0000_optim.args_.eps_1e-09__optim.args_.lr_1e-...  \n",
       "..                                                 ...  \n",
       "235  0001_optim.args_.eps_1e-09__optim.args_.lr_1e-...  \n",
       "236  0001_optim.args_.eps_1e-09__optim.args_.lr_1e-...  \n",
       "237  0001_optim.args_.eps_1e-09__optim.args_.lr_1e-...  \n",
       "238  0001_optim.args_.eps_1e-09__optim.args_.lr_1e-...  \n",
       "239  0001_optim.args_.eps_1e-09__optim.args_.lr_1e-...  \n",
       "\n",
       "[240 rows x 38 columns]"
      ]
     },
     "execution_count": 43,
     "metadata": {},
     "output_type": "execute_result"
    }
   ],
   "source": [
    "df"
   ]
  },
  {
   "cell_type": "code",
   "execution_count": 44,
   "metadata": {},
   "outputs": [
    {
     "data": {
      "text/html": [
       "<div>\n",
       "<style scoped>\n",
       "    .dataframe tbody tr th:only-of-type {\n",
       "        vertical-align: middle;\n",
       "    }\n",
       "\n",
       "    .dataframe tbody tr th {\n",
       "        vertical-align: top;\n",
       "    }\n",
       "\n",
       "    .dataframe thead th {\n",
       "        text-align: right;\n",
       "    }\n",
       "</style>\n",
       "<table border=\"1\" class=\"dataframe\">\n",
       "  <thead>\n",
       "    <tr style=\"text-align: right;\">\n",
       "      <th></th>\n",
       "      <th>epoch_type</th>\n",
       "      <th>frame_stamp</th>\n",
       "      <th>greedy_epsilon</th>\n",
       "      <th>episode_rewards_min</th>\n",
       "      <th>episode_rewards_max</th>\n",
       "      <th>episode_rewards_mean</th>\n",
       "      <th>episode_rewards_median</th>\n",
       "      <th>episode_rewards_std</th>\n",
       "      <th>episode_discounted_rewards_min</th>\n",
       "      <th>episode_discounted_rewards_max</th>\n",
       "      <th>...</th>\n",
       "      <th>policy_trained_times</th>\n",
       "      <th>target_trained_times</th>\n",
       "      <th>epoch_time</th>\n",
       "      <th>sub_exp_cfg_optim.args_.eps</th>\n",
       "      <th>sub_exp_cfg_optim.args_.lr</th>\n",
       "      <th>sub_exp_cfg_agent_params.args_.betas</th>\n",
       "      <th>sub_exp_cfg_agent_params.model</th>\n",
       "      <th>sub_experiment_path</th>\n",
       "      <th>seed</th>\n",
       "      <th>experiment_name</th>\n",
       "    </tr>\n",
       "  </thead>\n",
       "  <tbody>\n",
       "    <tr>\n",
       "      <th>30</th>\n",
       "      <td>validation</td>\n",
       "      <td>200000</td>\n",
       "      <td>NaN</td>\n",
       "      <td>-98.709271</td>\n",
       "      <td>-75.524652</td>\n",
       "      <td>-86.538941</td>\n",
       "      <td>-90.631777</td>\n",
       "      <td>9.873739</td>\n",
       "      <td>-51.658821</td>\n",
       "      <td>-39.241593</td>\n",
       "      <td>...</td>\n",
       "      <td>NaN</td>\n",
       "      <td>NaN</td>\n",
       "      <td>0 days 00:00:01.526440</td>\n",
       "      <td>1e-09</td>\n",
       "      <td>1e-06</td>\n",
       "      <td>[0, 1, 2]</td>\n",
       "      <td>OpinionNetFixedW</td>\n",
       "      <td>d:\\Work\\repos\\RL\\phd-rl-algos\\dqn\\opinion_dyna...</td>\n",
       "      <td>0</td>\n",
       "      <td>0000_optim.args_.eps_1e-09__optim.args_.lr_1e-...</td>\n",
       "    </tr>\n",
       "    <tr>\n",
       "      <th>31</th>\n",
       "      <td>validation</td>\n",
       "      <td>400000</td>\n",
       "      <td>NaN</td>\n",
       "      <td>-120.577934</td>\n",
       "      <td>-75.782920</td>\n",
       "      <td>-97.700363</td>\n",
       "      <td>-97.060278</td>\n",
       "      <td>16.939996</td>\n",
       "      <td>-62.593173</td>\n",
       "      <td>-39.302082</td>\n",
       "      <td>...</td>\n",
       "      <td>NaN</td>\n",
       "      <td>NaN</td>\n",
       "      <td>0 days 00:00:01.532031</td>\n",
       "      <td>1e-09</td>\n",
       "      <td>1e-06</td>\n",
       "      <td>[0, 1, 2]</td>\n",
       "      <td>OpinionNetFixedW</td>\n",
       "      <td>d:\\Work\\repos\\RL\\phd-rl-algos\\dqn\\opinion_dyna...</td>\n",
       "      <td>0</td>\n",
       "      <td>0000_optim.args_.eps_1e-09__optim.args_.lr_1e-...</td>\n",
       "    </tr>\n",
       "    <tr>\n",
       "      <th>32</th>\n",
       "      <td>validation</td>\n",
       "      <td>600000</td>\n",
       "      <td>NaN</td>\n",
       "      <td>-15.659566</td>\n",
       "      <td>-9.059582</td>\n",
       "      <td>-12.359369</td>\n",
       "      <td>-11.901892</td>\n",
       "      <td>2.616029</td>\n",
       "      <td>-13.555535</td>\n",
       "      <td>-8.002699</td>\n",
       "      <td>...</td>\n",
       "      <td>NaN</td>\n",
       "      <td>NaN</td>\n",
       "      <td>0 days 00:00:01.494296</td>\n",
       "      <td>1e-09</td>\n",
       "      <td>1e-06</td>\n",
       "      <td>[0, 1, 2]</td>\n",
       "      <td>OpinionNetFixedW</td>\n",
       "      <td>d:\\Work\\repos\\RL\\phd-rl-algos\\dqn\\opinion_dyna...</td>\n",
       "      <td>0</td>\n",
       "      <td>0000_optim.args_.eps_1e-09__optim.args_.lr_1e-...</td>\n",
       "    </tr>\n",
       "    <tr>\n",
       "      <th>33</th>\n",
       "      <td>validation</td>\n",
       "      <td>800000</td>\n",
       "      <td>NaN</td>\n",
       "      <td>-15.659566</td>\n",
       "      <td>-9.516581</td>\n",
       "      <td>-12.485830</td>\n",
       "      <td>-11.901892</td>\n",
       "      <td>2.489021</td>\n",
       "      <td>-13.555535</td>\n",
       "      <td>-8.359757</td>\n",
       "      <td>...</td>\n",
       "      <td>NaN</td>\n",
       "      <td>NaN</td>\n",
       "      <td>0 days 00:00:01.985043</td>\n",
       "      <td>1e-09</td>\n",
       "      <td>1e-06</td>\n",
       "      <td>[0, 1, 2]</td>\n",
       "      <td>OpinionNetFixedW</td>\n",
       "      <td>d:\\Work\\repos\\RL\\phd-rl-algos\\dqn\\opinion_dyna...</td>\n",
       "      <td>0</td>\n",
       "      <td>0000_optim.args_.eps_1e-09__optim.args_.lr_1e-...</td>\n",
       "    </tr>\n",
       "    <tr>\n",
       "      <th>34</th>\n",
       "      <td>validation</td>\n",
       "      <td>1000000</td>\n",
       "      <td>NaN</td>\n",
       "      <td>-15.659566</td>\n",
       "      <td>-9.516581</td>\n",
       "      <td>-12.194335</td>\n",
       "      <td>-11.901892</td>\n",
       "      <td>2.478288</td>\n",
       "      <td>-13.555535</td>\n",
       "      <td>-8.359757</td>\n",
       "      <td>...</td>\n",
       "      <td>NaN</td>\n",
       "      <td>NaN</td>\n",
       "      <td>0 days 00:00:02.159334</td>\n",
       "      <td>1e-09</td>\n",
       "      <td>1e-06</td>\n",
       "      <td>[0, 1, 2]</td>\n",
       "      <td>OpinionNetFixedW</td>\n",
       "      <td>d:\\Work\\repos\\RL\\phd-rl-algos\\dqn\\opinion_dyna...</td>\n",
       "      <td>0</td>\n",
       "      <td>0000_optim.args_.eps_1e-09__optim.args_.lr_1e-...</td>\n",
       "    </tr>\n",
       "    <tr>\n",
       "      <th>...</th>\n",
       "      <td>...</td>\n",
       "      <td>...</td>\n",
       "      <td>...</td>\n",
       "      <td>...</td>\n",
       "      <td>...</td>\n",
       "      <td>...</td>\n",
       "      <td>...</td>\n",
       "      <td>...</td>\n",
       "      <td>...</td>\n",
       "      <td>...</td>\n",
       "      <td>...</td>\n",
       "      <td>...</td>\n",
       "      <td>...</td>\n",
       "      <td>...</td>\n",
       "      <td>...</td>\n",
       "      <td>...</td>\n",
       "      <td>...</td>\n",
       "      <td>...</td>\n",
       "      <td>...</td>\n",
       "      <td>...</td>\n",
       "      <td>...</td>\n",
       "    </tr>\n",
       "    <tr>\n",
       "      <th>235</th>\n",
       "      <td>validation</td>\n",
       "      <td>5200000</td>\n",
       "      <td>NaN</td>\n",
       "      <td>-8.113879</td>\n",
       "      <td>-4.896621</td>\n",
       "      <td>-6.353669</td>\n",
       "      <td>-6.045398</td>\n",
       "      <td>1.330861</td>\n",
       "      <td>-7.579349</td>\n",
       "      <td>-4.621703</td>\n",
       "      <td>...</td>\n",
       "      <td>NaN</td>\n",
       "      <td>NaN</td>\n",
       "      <td>0 days 00:00:02.196879</td>\n",
       "      <td>1e-09</td>\n",
       "      <td>1e-07</td>\n",
       "      <td>[0, 1, 2]</td>\n",
       "      <td>OpinionNetFixedW</td>\n",
       "      <td>d:\\Work\\repos\\RL\\phd-rl-algos\\dqn\\opinion_dyna...</td>\n",
       "      <td>1</td>\n",
       "      <td>0001_optim.args_.eps_1e-09__optim.args_.lr_1e-...</td>\n",
       "    </tr>\n",
       "    <tr>\n",
       "      <th>236</th>\n",
       "      <td>validation</td>\n",
       "      <td>5400000</td>\n",
       "      <td>NaN</td>\n",
       "      <td>-8.113879</td>\n",
       "      <td>-4.896621</td>\n",
       "      <td>-6.354008</td>\n",
       "      <td>-6.045398</td>\n",
       "      <td>1.330803</td>\n",
       "      <td>-7.579349</td>\n",
       "      <td>-4.621703</td>\n",
       "      <td>...</td>\n",
       "      <td>NaN</td>\n",
       "      <td>NaN</td>\n",
       "      <td>0 days 00:00:02.221459</td>\n",
       "      <td>1e-09</td>\n",
       "      <td>1e-07</td>\n",
       "      <td>[0, 1, 2]</td>\n",
       "      <td>OpinionNetFixedW</td>\n",
       "      <td>d:\\Work\\repos\\RL\\phd-rl-algos\\dqn\\opinion_dyna...</td>\n",
       "      <td>1</td>\n",
       "      <td>0001_optim.args_.eps_1e-09__optim.args_.lr_1e-...</td>\n",
       "    </tr>\n",
       "    <tr>\n",
       "      <th>237</th>\n",
       "      <td>validation</td>\n",
       "      <td>5600000</td>\n",
       "      <td>NaN</td>\n",
       "      <td>-8.113879</td>\n",
       "      <td>-4.896621</td>\n",
       "      <td>-6.351966</td>\n",
       "      <td>-6.045398</td>\n",
       "      <td>1.331209</td>\n",
       "      <td>-7.579349</td>\n",
       "      <td>-4.621703</td>\n",
       "      <td>...</td>\n",
       "      <td>NaN</td>\n",
       "      <td>NaN</td>\n",
       "      <td>0 days 00:00:02.294930</td>\n",
       "      <td>1e-09</td>\n",
       "      <td>1e-07</td>\n",
       "      <td>[0, 1, 2]</td>\n",
       "      <td>OpinionNetFixedW</td>\n",
       "      <td>d:\\Work\\repos\\RL\\phd-rl-algos\\dqn\\opinion_dyna...</td>\n",
       "      <td>1</td>\n",
       "      <td>0001_optim.args_.eps_1e-09__optim.args_.lr_1e-...</td>\n",
       "    </tr>\n",
       "    <tr>\n",
       "      <th>238</th>\n",
       "      <td>validation</td>\n",
       "      <td>5800000</td>\n",
       "      <td>NaN</td>\n",
       "      <td>-8.113879</td>\n",
       "      <td>-4.896621</td>\n",
       "      <td>-6.351966</td>\n",
       "      <td>-6.045398</td>\n",
       "      <td>1.331209</td>\n",
       "      <td>-7.579349</td>\n",
       "      <td>-4.621703</td>\n",
       "      <td>...</td>\n",
       "      <td>NaN</td>\n",
       "      <td>NaN</td>\n",
       "      <td>0 days 00:00:02.188034</td>\n",
       "      <td>1e-09</td>\n",
       "      <td>1e-07</td>\n",
       "      <td>[0, 1, 2]</td>\n",
       "      <td>OpinionNetFixedW</td>\n",
       "      <td>d:\\Work\\repos\\RL\\phd-rl-algos\\dqn\\opinion_dyna...</td>\n",
       "      <td>1</td>\n",
       "      <td>0001_optim.args_.eps_1e-09__optim.args_.lr_1e-...</td>\n",
       "    </tr>\n",
       "    <tr>\n",
       "      <th>239</th>\n",
       "      <td>validation</td>\n",
       "      <td>6000000</td>\n",
       "      <td>NaN</td>\n",
       "      <td>-8.113879</td>\n",
       "      <td>-4.896621</td>\n",
       "      <td>-6.351966</td>\n",
       "      <td>-6.045398</td>\n",
       "      <td>1.331209</td>\n",
       "      <td>-7.579349</td>\n",
       "      <td>-4.621703</td>\n",
       "      <td>...</td>\n",
       "      <td>NaN</td>\n",
       "      <td>NaN</td>\n",
       "      <td>0 days 00:00:02.186025</td>\n",
       "      <td>1e-09</td>\n",
       "      <td>1e-07</td>\n",
       "      <td>[0, 1, 2]</td>\n",
       "      <td>OpinionNetFixedW</td>\n",
       "      <td>d:\\Work\\repos\\RL\\phd-rl-algos\\dqn\\opinion_dyna...</td>\n",
       "      <td>1</td>\n",
       "      <td>0001_optim.args_.eps_1e-09__optim.args_.lr_1e-...</td>\n",
       "    </tr>\n",
       "  </tbody>\n",
       "</table>\n",
       "<p>120 rows × 38 columns</p>\n",
       "</div>"
      ],
      "text/plain": [
       "     epoch_type  frame_stamp  greedy_epsilon  episode_rewards_min  \\\n",
       "30   validation       200000             NaN           -98.709271   \n",
       "31   validation       400000             NaN          -120.577934   \n",
       "32   validation       600000             NaN           -15.659566   \n",
       "33   validation       800000             NaN           -15.659566   \n",
       "34   validation      1000000             NaN           -15.659566   \n",
       "..          ...          ...             ...                  ...   \n",
       "235  validation      5200000             NaN            -8.113879   \n",
       "236  validation      5400000             NaN            -8.113879   \n",
       "237  validation      5600000             NaN            -8.113879   \n",
       "238  validation      5800000             NaN            -8.113879   \n",
       "239  validation      6000000             NaN            -8.113879   \n",
       "\n",
       "     episode_rewards_max  episode_rewards_mean  episode_rewards_median  \\\n",
       "30            -75.524652            -86.538941              -90.631777   \n",
       "31            -75.782920            -97.700363              -97.060278   \n",
       "32             -9.059582            -12.359369              -11.901892   \n",
       "33             -9.516581            -12.485830              -11.901892   \n",
       "34             -9.516581            -12.194335              -11.901892   \n",
       "..                   ...                   ...                     ...   \n",
       "235            -4.896621             -6.353669               -6.045398   \n",
       "236            -4.896621             -6.354008               -6.045398   \n",
       "237            -4.896621             -6.351966               -6.045398   \n",
       "238            -4.896621             -6.351966               -6.045398   \n",
       "239            -4.896621             -6.351966               -6.045398   \n",
       "\n",
       "     episode_rewards_std  episode_discounted_rewards_min  \\\n",
       "30              9.873739                      -51.658821   \n",
       "31             16.939996                      -62.593173   \n",
       "32              2.616029                      -13.555535   \n",
       "33              2.489021                      -13.555535   \n",
       "34              2.478288                      -13.555535   \n",
       "..                   ...                             ...   \n",
       "235             1.330861                       -7.579349   \n",
       "236             1.330803                       -7.579349   \n",
       "237             1.331209                       -7.579349   \n",
       "238             1.331209                       -7.579349   \n",
       "239             1.331209                       -7.579349   \n",
       "\n",
       "     episode_discounted_rewards_max  ...  policy_trained_times  \\\n",
       "30                       -39.241593  ...                   NaN   \n",
       "31                       -39.302082  ...                   NaN   \n",
       "32                        -8.002699  ...                   NaN   \n",
       "33                        -8.359757  ...                   NaN   \n",
       "34                        -8.359757  ...                   NaN   \n",
       "..                              ...  ...                   ...   \n",
       "235                       -4.621703  ...                   NaN   \n",
       "236                       -4.621703  ...                   NaN   \n",
       "237                       -4.621703  ...                   NaN   \n",
       "238                       -4.621703  ...                   NaN   \n",
       "239                       -4.621703  ...                   NaN   \n",
       "\n",
       "     target_trained_times             epoch_time  sub_exp_cfg_optim.args_.eps  \\\n",
       "30                    NaN 0 days 00:00:01.526440                        1e-09   \n",
       "31                    NaN 0 days 00:00:01.532031                        1e-09   \n",
       "32                    NaN 0 days 00:00:01.494296                        1e-09   \n",
       "33                    NaN 0 days 00:00:01.985043                        1e-09   \n",
       "34                    NaN 0 days 00:00:02.159334                        1e-09   \n",
       "..                    ...                    ...                          ...   \n",
       "235                   NaN 0 days 00:00:02.196879                        1e-09   \n",
       "236                   NaN 0 days 00:00:02.221459                        1e-09   \n",
       "237                   NaN 0 days 00:00:02.294930                        1e-09   \n",
       "238                   NaN 0 days 00:00:02.188034                        1e-09   \n",
       "239                   NaN 0 days 00:00:02.186025                        1e-09   \n",
       "\n",
       "     sub_exp_cfg_optim.args_.lr  sub_exp_cfg_agent_params.args_.betas  \\\n",
       "30                        1e-06                             [0, 1, 2]   \n",
       "31                        1e-06                             [0, 1, 2]   \n",
       "32                        1e-06                             [0, 1, 2]   \n",
       "33                        1e-06                             [0, 1, 2]   \n",
       "34                        1e-06                             [0, 1, 2]   \n",
       "..                          ...                                   ...   \n",
       "235                       1e-07                             [0, 1, 2]   \n",
       "236                       1e-07                             [0, 1, 2]   \n",
       "237                       1e-07                             [0, 1, 2]   \n",
       "238                       1e-07                             [0, 1, 2]   \n",
       "239                       1e-07                             [0, 1, 2]   \n",
       "\n",
       "     sub_exp_cfg_agent_params.model  \\\n",
       "30                 OpinionNetFixedW   \n",
       "31                 OpinionNetFixedW   \n",
       "32                 OpinionNetFixedW   \n",
       "33                 OpinionNetFixedW   \n",
       "34                 OpinionNetFixedW   \n",
       "..                              ...   \n",
       "235                OpinionNetFixedW   \n",
       "236                OpinionNetFixedW   \n",
       "237                OpinionNetFixedW   \n",
       "238                OpinionNetFixedW   \n",
       "239                OpinionNetFixedW   \n",
       "\n",
       "                                   sub_experiment_path  seed  \\\n",
       "30   d:\\Work\\repos\\RL\\phd-rl-algos\\dqn\\opinion_dyna...     0   \n",
       "31   d:\\Work\\repos\\RL\\phd-rl-algos\\dqn\\opinion_dyna...     0   \n",
       "32   d:\\Work\\repos\\RL\\phd-rl-algos\\dqn\\opinion_dyna...     0   \n",
       "33   d:\\Work\\repos\\RL\\phd-rl-algos\\dqn\\opinion_dyna...     0   \n",
       "34   d:\\Work\\repos\\RL\\phd-rl-algos\\dqn\\opinion_dyna...     0   \n",
       "..                                                 ...   ...   \n",
       "235  d:\\Work\\repos\\RL\\phd-rl-algos\\dqn\\opinion_dyna...     1   \n",
       "236  d:\\Work\\repos\\RL\\phd-rl-algos\\dqn\\opinion_dyna...     1   \n",
       "237  d:\\Work\\repos\\RL\\phd-rl-algos\\dqn\\opinion_dyna...     1   \n",
       "238  d:\\Work\\repos\\RL\\phd-rl-algos\\dqn\\opinion_dyna...     1   \n",
       "239  d:\\Work\\repos\\RL\\phd-rl-algos\\dqn\\opinion_dyna...     1   \n",
       "\n",
       "                                       experiment_name  \n",
       "30   0000_optim.args_.eps_1e-09__optim.args_.lr_1e-...  \n",
       "31   0000_optim.args_.eps_1e-09__optim.args_.lr_1e-...  \n",
       "32   0000_optim.args_.eps_1e-09__optim.args_.lr_1e-...  \n",
       "33   0000_optim.args_.eps_1e-09__optim.args_.lr_1e-...  \n",
       "34   0000_optim.args_.eps_1e-09__optim.args_.lr_1e-...  \n",
       "..                                                 ...  \n",
       "235  0001_optim.args_.eps_1e-09__optim.args_.lr_1e-...  \n",
       "236  0001_optim.args_.eps_1e-09__optim.args_.lr_1e-...  \n",
       "237  0001_optim.args_.eps_1e-09__optim.args_.lr_1e-...  \n",
       "238  0001_optim.args_.eps_1e-09__optim.args_.lr_1e-...  \n",
       "239  0001_optim.args_.eps_1e-09__optim.args_.lr_1e-...  \n",
       "\n",
       "[120 rows x 38 columns]"
      ]
     },
     "execution_count": 44,
     "metadata": {},
     "output_type": "execute_result"
    }
   ],
   "source": [
    "df[df['epoch_type'] == 'validation']\n",
    "# df[df['epoch_type'] == 'training']\n"
   ]
  },
  {
   "cell_type": "code",
   "execution_count": 45,
   "metadata": {},
   "outputs": [
    {
     "name": "stdout",
     "output_type": "stream",
     "text": [
      "Best hyperparameters:\n",
      "sub_exp_cfg_optim.args_.eps                        1e-09\n",
      "sub_exp_cfg_optim.args_.lr                         1e-06\n",
      "sub_exp_cfg_agent_params.args_.betas           [0, 1, 2]\n",
      "sub_exp_cfg_agent_params.model          OpinionNetFixedW\n",
      "Name: 0, dtype: object\n",
      "Best mean reward: -12.439790221551755\n"
     ]
    }
   ],
   "source": [
    "# Define hyperparameter columns\n",
    "hyperparam_columns = [col for col in df.columns if \"sub_exp_cfg\" in col]\n",
    "\n",
    "# Group by hyperparameter values and compute mean episode_rewards_mean\n",
    "averaged_results = df.groupby(hyperparam_columns, as_index=False).agg({\n",
    "    'episode_rewards_mean': 'mean',  # Averaging the performance metric\n",
    "    'sub_experiment_path': 'first'   # Keep a reference to an experiment path\n",
    "})\n",
    "\n",
    "# Find the best hyperparameter set based on the highest mean reward\n",
    "best_row = averaged_results.loc[averaged_results['episode_rewards_mean'].idxmax()]\n",
    "\n",
    "# Print the best experiment path and hyperparameters\n",
    "print(f\"Best hyperparameters:\\n{best_row[hyperparam_columns]}\")\n",
    "print(f\"Best mean reward: {best_row['episode_rewards_mean']}\")"
   ]
  },
  {
   "cell_type": "code",
   "execution_count": 46,
   "metadata": {},
   "outputs": [
    {
     "data": {
      "text/html": [
       "<div>\n",
       "<style scoped>\n",
       "    .dataframe tbody tr th:only-of-type {\n",
       "        vertical-align: middle;\n",
       "    }\n",
       "\n",
       "    .dataframe tbody tr th {\n",
       "        vertical-align: top;\n",
       "    }\n",
       "\n",
       "    .dataframe thead th {\n",
       "        text-align: right;\n",
       "    }\n",
       "</style>\n",
       "<table border=\"1\" class=\"dataframe\">\n",
       "  <thead>\n",
       "    <tr style=\"text-align: right;\">\n",
       "      <th></th>\n",
       "      <th>sub_exp_cfg_optim.args_.eps</th>\n",
       "      <th>sub_exp_cfg_optim.args_.lr</th>\n",
       "      <th>sub_exp_cfg_agent_params.args_.betas</th>\n",
       "      <th>sub_exp_cfg_agent_params.model</th>\n",
       "      <th>episode_rewards_mean</th>\n",
       "      <th>sub_experiment_path</th>\n",
       "    </tr>\n",
       "  </thead>\n",
       "  <tbody>\n",
       "    <tr>\n",
       "      <th>0</th>\n",
       "      <td>1e-09</td>\n",
       "      <td>1e-06</td>\n",
       "      <td>[0, 1, 2]</td>\n",
       "      <td>OpinionNetFixedW</td>\n",
       "      <td>-12.439790</td>\n",
       "      <td>d:\\Work\\repos\\RL\\phd-rl-algos\\dqn\\opinion_dyna...</td>\n",
       "    </tr>\n",
       "    <tr>\n",
       "      <th>1</th>\n",
       "      <td>1e-09</td>\n",
       "      <td>1e-07</td>\n",
       "      <td>[0, 1, 2]</td>\n",
       "      <td>OpinionNetFixedW</td>\n",
       "      <td>-32.391152</td>\n",
       "      <td>d:\\Work\\repos\\RL\\phd-rl-algos\\dqn\\opinion_dyna...</td>\n",
       "    </tr>\n",
       "  </tbody>\n",
       "</table>\n",
       "</div>"
      ],
      "text/plain": [
       "  sub_exp_cfg_optim.args_.eps sub_exp_cfg_optim.args_.lr  \\\n",
       "0                       1e-09                      1e-06   \n",
       "1                       1e-09                      1e-07   \n",
       "\n",
       "  sub_exp_cfg_agent_params.args_.betas sub_exp_cfg_agent_params.model  \\\n",
       "0                            [0, 1, 2]               OpinionNetFixedW   \n",
       "1                            [0, 1, 2]               OpinionNetFixedW   \n",
       "\n",
       "   episode_rewards_mean                                sub_experiment_path  \n",
       "0            -12.439790  d:\\Work\\repos\\RL\\phd-rl-algos\\dqn\\opinion_dyna...  \n",
       "1            -32.391152  d:\\Work\\repos\\RL\\phd-rl-algos\\dqn\\opinion_dyna...  "
      ]
     },
     "execution_count": 46,
     "metadata": {},
     "output_type": "execute_result"
    }
   ],
   "source": [
    "averaged_results"
   ]
  },
  {
   "cell_type": "code",
   "execution_count": 47,
   "metadata": {},
   "outputs": [],
   "source": [
    "# selected_metric = 'episode_rewards_mean'\n",
    "# hue_col = \"sub_exp_cfg_agent_params.args_.action_w_noise_amplitude\"\n",
    "\n",
    "# # Filter for validation episodes\n",
    "# validation_df = df[df['epoch_type'] == 'validation']\n",
    "\n",
    "# # Get the unique sorted frame_stamp values\n",
    "# unique_frames = np.sort(validation_df['frame_stamp'].unique())\n",
    "# N = 1\n",
    "# # Get all frame_stamp values after the first N unique ones\n",
    "# filtered_frames = unique_frames[N:]\n",
    "\n",
    "# # Filter the DataFrame to only include rows with these frame_stamp values\n",
    "# filtered_df = validation_df[validation_df['frame_stamp'].isin(filtered_frames)]\n",
    "\n",
    "# plt.figure(figsize=(10, 6))\n",
    "# sns.lineplot(data=filtered_df, x='frame_stamp', y=selected_metric, hue=hue_col)\n",
    "# plt.ylabel(selected_metric)\n",
    "# plt.xlabel('Frame Stamp')\n",
    "# plt.show()"
   ]
  },
  {
   "cell_type": "code",
   "execution_count": 48,
   "metadata": {},
   "outputs": [
    {
     "data": {
      "image/png": "[encoded data removed]",
      "text/plain": [
       "<Figure size 1000x600 with 1 Axes>"
      ]
     },
     "metadata": {},
     "output_type": "display_data"
    }
   ],
   "source": [
    "\n",
    "selected_metric = 'episode_discounted_rewards_mean'\n",
    "# hue_col = \"sub_exp_cfg_agent_params.args_.action_w_noise_amplitude\"\n",
    "hue_col = \"experiment_name\"\n",
    "\n",
    "validation_df = df[df['epoch_type'] == 'validation']\n",
    "# validation_df = df[df['epoch_type'] == 'training']\n",
    "\n",
    "\n",
    "# Create a new figure for each environment\n",
    "plt.figure(figsize=(10, 6))\n",
    "# sns.lineplot(data=df, x='frame_stamp', y=selected_metric, hue='model')\n",
    "sns.lineplot(data=validation_df, \n",
    "             x='frame_stamp', \n",
    "             y=selected_metric, \n",
    "             hue=hue_col,\n",
    "            #  units='seed', # Comment this to see mean + cf\n",
    "            #  estimator=None, # Comment this to see mean + cf\n",
    "             )\n",
    "\n",
    "plt.ylabel(selected_metric)\n",
    "plt.xlabel('Frame Stamp')\n",
    "\n",
    "# Place the legend outside the plot\n",
    "plt.legend(loc='center left', bbox_to_anchor=(1.0, 0.5), title='Parameters')\n",
    "plt.show()"
   ]
  },
  {
   "cell_type": "code",
   "execution_count": 49,
   "metadata": {},
   "outputs": [
    {
     "data": {
      "text/plain": [
       "Index(['epoch_type', 'frame_stamp', 'greedy_epsilon', 'episode_rewards_min',\n",
       "       'episode_rewards_max', 'episode_rewards_mean', 'episode_rewards_median',\n",
       "       'episode_rewards_std', 'episode_discounted_rewards_min',\n",
       "       'episode_discounted_rewards_max', 'episode_discounted_rewards_mean',\n",
       "       'episode_discounted_rewards_median', 'episode_discounted_rewards_std',\n",
       "       'episode_frames_min', 'episode_frames_max', 'episode_frames_mean',\n",
       "       'episode_frames_median', 'episode_frames_std', 'episode_losses_min',\n",
       "       'episode_losses_max', 'episode_losses_mean', 'episode_losses_median',\n",
       "       'episode_losses_std', 'episode_max_qs_min', 'episode_max_qs_max',\n",
       "       'episode_max_qs_mean', 'episode_max_qs_median', 'episode_max_qs_std',\n",
       "       'policy_trained_times', 'target_trained_times', 'epoch_time',\n",
       "       'sub_exp_cfg_optim.args_.eps', 'sub_exp_cfg_optim.args_.lr',\n",
       "       'sub_exp_cfg_agent_params.args_.betas',\n",
       "       'sub_exp_cfg_agent_params.model', 'sub_experiment_path', 'seed',\n",
       "       'experiment_name'],\n",
       "      dtype='object')"
      ]
     },
     "execution_count": 49,
     "metadata": {},
     "output_type": "execute_result"
    }
   ],
   "source": [
    "df.columns"
   ]
  },
  {
   "cell_type": "markdown",
   "metadata": {},
   "source": []
  },
  {
   "cell_type": "code",
   "execution_count": 50,
   "metadata": {},
   "outputs": [
    {
     "data": {
      "image/png": "[encoded data removed]",
      "text/plain": [
       "<Figure size 1000x600 with 1 Axes>"
      ]
     },
     "metadata": {},
     "output_type": "display_data"
    }
   ],
   "source": [
    "import matplotlib.pyplot as plt\n",
    "import seaborn as sns\n",
    "\n",
    "selected_metric = 'episode_frames_mean'\n",
    "hue_col = \"experiment_name\"  # or another distinguishing column like \"sub_experiment_path\"\n",
    "\n",
    "validation_df = df[df['epoch_type'] == 'validation']\n",
    "\n",
    "# Plot individual lines for each run\n",
    "plt.figure(figsize=(10, 6))\n",
    "sns.lineplot(\n",
    "    data=validation_df,\n",
    "    x='frame_stamp',\n",
    "    y=selected_metric,\n",
    "    hue=hue_col,\n",
    "    estimator=None,  # ← disables aggregation\n",
    "    units='sub_experiment_path',  # ← groups lines by unique run\n",
    "    lw=1,  # line width\n",
    "    alpha=0.7  # transparency\n",
    ")\n",
    "\n",
    "plt.ylabel(selected_metric)\n",
    "plt.xlabel('Frame Stamp')\n",
    "plt.title('Validation Reward Trajectories (Per Run)')\n",
    "\n",
    "# Move legend outside the plot\n",
    "plt.legend(loc='center left', bbox_to_anchor=(1.0, 0.5), title='Experiment')\n",
    "plt.tight_layout()\n",
    "plt.show()\n"
   ]
  },
  {
   "cell_type": "code",
   "execution_count": 51,
   "metadata": {},
   "outputs": [
    {
     "data": {
      "text/html": [
       "<div>\n",
       "<style scoped>\n",
       "    .dataframe tbody tr th:only-of-type {\n",
       "        vertical-align: middle;\n",
       "    }\n",
       "\n",
       "    .dataframe tbody tr th {\n",
       "        vertical-align: top;\n",
       "    }\n",
       "\n",
       "    .dataframe thead th {\n",
       "        text-align: right;\n",
       "    }\n",
       "</style>\n",
       "<table border=\"1\" class=\"dataframe\">\n",
       "  <thead>\n",
       "    <tr style=\"text-align: right;\">\n",
       "      <th></th>\n",
       "      <th>epoch_type</th>\n",
       "      <th>frame_stamp</th>\n",
       "      <th>episode_rewards_mean</th>\n",
       "      <th>episode_frames_mean</th>\n",
       "      <th>episode_discounted_rewards_mean</th>\n",
       "      <th>policy_trained_times</th>\n",
       "      <th>target_trained_times</th>\n",
       "      <th>epoch_time</th>\n",
       "      <th>seed</th>\n",
       "      <th>experiment_name</th>\n",
       "      <th>sub_experiment_path</th>\n",
       "      <th>sub_exp_cfg_optim.args_.eps</th>\n",
       "      <th>sub_exp_cfg_optim.args_.lr</th>\n",
       "      <th>sub_exp_cfg_agent_params.args_.betas</th>\n",
       "      <th>sub_exp_cfg_agent_params.model</th>\n",
       "    </tr>\n",
       "  </thead>\n",
       "  <tbody>\n",
       "    <tr>\n",
       "      <th>59</th>\n",
       "      <td>validation</td>\n",
       "      <td>6000000</td>\n",
       "      <td>-6.351966</td>\n",
       "      <td>24.333333</td>\n",
       "      <td>-5.959739</td>\n",
       "      <td>NaN</td>\n",
       "      <td>NaN</td>\n",
       "      <td>0 days 00:00:02.222298</td>\n",
       "      <td>0</td>\n",
       "      <td>0000_optim.args_.eps_1e-09__optim.args_.lr_1e-...</td>\n",
       "      <td>d:\\Work\\repos\\RL\\phd-rl-algos\\dqn\\opinion_dyna...</td>\n",
       "      <td>1e-09</td>\n",
       "      <td>1e-06</td>\n",
       "      <td>[0, 1, 2]</td>\n",
       "      <td>OpinionNetFixedW</td>\n",
       "    </tr>\n",
       "    <tr>\n",
       "      <th>119</th>\n",
       "      <td>validation</td>\n",
       "      <td>6000000</td>\n",
       "      <td>-12.501484</td>\n",
       "      <td>50.550000</td>\n",
       "      <td>-10.881972</td>\n",
       "      <td>NaN</td>\n",
       "      <td>NaN</td>\n",
       "      <td>0 days 00:00:01.725640</td>\n",
       "      <td>1</td>\n",
       "      <td>0000_optim.args_.eps_1e-09__optim.args_.lr_1e-...</td>\n",
       "      <td>d:\\Work\\repos\\RL\\phd-rl-algos\\dqn\\opinion_dyna...</td>\n",
       "      <td>1e-09</td>\n",
       "      <td>1e-06</td>\n",
       "      <td>[0, 1, 2]</td>\n",
       "      <td>OpinionNetFixedW</td>\n",
       "    </tr>\n",
       "    <tr>\n",
       "      <th>179</th>\n",
       "      <td>validation</td>\n",
       "      <td>6000000</td>\n",
       "      <td>-101.048903</td>\n",
       "      <td>150.000000</td>\n",
       "      <td>-52.378576</td>\n",
       "      <td>NaN</td>\n",
       "      <td>NaN</td>\n",
       "      <td>0 days 00:00:01.670152</td>\n",
       "      <td>0</td>\n",
       "      <td>0001_optim.args_.eps_1e-09__optim.args_.lr_1e-...</td>\n",
       "      <td>d:\\Work\\repos\\RL\\phd-rl-algos\\dqn\\opinion_dyna...</td>\n",
       "      <td>1e-09</td>\n",
       "      <td>1e-07</td>\n",
       "      <td>[0, 1, 2]</td>\n",
       "      <td>OpinionNetFixedW</td>\n",
       "    </tr>\n",
       "    <tr>\n",
       "      <th>239</th>\n",
       "      <td>validation</td>\n",
       "      <td>6000000</td>\n",
       "      <td>-6.351966</td>\n",
       "      <td>24.333333</td>\n",
       "      <td>-5.959739</td>\n",
       "      <td>NaN</td>\n",
       "      <td>NaN</td>\n",
       "      <td>0 days 00:00:02.186025</td>\n",
       "      <td>1</td>\n",
       "      <td>0001_optim.args_.eps_1e-09__optim.args_.lr_1e-...</td>\n",
       "      <td>d:\\Work\\repos\\RL\\phd-rl-algos\\dqn\\opinion_dyna...</td>\n",
       "      <td>1e-09</td>\n",
       "      <td>1e-07</td>\n",
       "      <td>[0, 1, 2]</td>\n",
       "      <td>OpinionNetFixedW</td>\n",
       "    </tr>\n",
       "  </tbody>\n",
       "</table>\n",
       "</div>"
      ],
      "text/plain": [
       "     epoch_type  frame_stamp  episode_rewards_mean  episode_frames_mean  \\\n",
       "59   validation      6000000             -6.351966            24.333333   \n",
       "119  validation      6000000            -12.501484            50.550000   \n",
       "179  validation      6000000           -101.048903           150.000000   \n",
       "239  validation      6000000             -6.351966            24.333333   \n",
       "\n",
       "     episode_discounted_rewards_mean  policy_trained_times  \\\n",
       "59                         -5.959739                   NaN   \n",
       "119                       -10.881972                   NaN   \n",
       "179                       -52.378576                   NaN   \n",
       "239                        -5.959739                   NaN   \n",
       "\n",
       "     target_trained_times             epoch_time seed  \\\n",
       "59                    NaN 0 days 00:00:02.222298    0   \n",
       "119                   NaN 0 days 00:00:01.725640    1   \n",
       "179                   NaN 0 days 00:00:01.670152    0   \n",
       "239                   NaN 0 days 00:00:02.186025    1   \n",
       "\n",
       "                                       experiment_name  \\\n",
       "59   0000_optim.args_.eps_1e-09__optim.args_.lr_1e-...   \n",
       "119  0000_optim.args_.eps_1e-09__optim.args_.lr_1e-...   \n",
       "179  0001_optim.args_.eps_1e-09__optim.args_.lr_1e-...   \n",
       "239  0001_optim.args_.eps_1e-09__optim.args_.lr_1e-...   \n",
       "\n",
       "                                   sub_experiment_path  \\\n",
       "59   d:\\Work\\repos\\RL\\phd-rl-algos\\dqn\\opinion_dyna...   \n",
       "119  d:\\Work\\repos\\RL\\phd-rl-algos\\dqn\\opinion_dyna...   \n",
       "179  d:\\Work\\repos\\RL\\phd-rl-algos\\dqn\\opinion_dyna...   \n",
       "239  d:\\Work\\repos\\RL\\phd-rl-algos\\dqn\\opinion_dyna...   \n",
       "\n",
       "    sub_exp_cfg_optim.args_.eps sub_exp_cfg_optim.args_.lr  \\\n",
       "59                        1e-09                      1e-06   \n",
       "119                       1e-09                      1e-06   \n",
       "179                       1e-09                      1e-07   \n",
       "239                       1e-09                      1e-07   \n",
       "\n",
       "    sub_exp_cfg_agent_params.args_.betas sub_exp_cfg_agent_params.model  \n",
       "59                             [0, 1, 2]               OpinionNetFixedW  \n",
       "119                            [0, 1, 2]               OpinionNetFixedW  \n",
       "179                            [0, 1, 2]               OpinionNetFixedW  \n",
       "239                            [0, 1, 2]               OpinionNetFixedW  "
      ]
     },
     "execution_count": 51,
     "metadata": {},
     "output_type": "execute_result"
    }
   ],
   "source": [
    "### Select data\n",
    "\n",
    "experiment_columns = [\n",
    "    'epoch_type', 'frame_stamp',\n",
    "    'episode_rewards_mean', 'episode_frames_mean', \n",
    "    'episode_discounted_rewards_mean',\n",
    "    'policy_trained_times', 'target_trained_times', 'epoch_time', \n",
    "       'seed', 'experiment_name', \"sub_experiment_path\"\n",
    "]\n",
    "hyperparam_columns = [\n",
    "   col for col in df.columns if \"sub_exp_cfg\" in col\n",
    "]\n",
    "\n",
    "cols_of_interest = experiment_columns + hyperparam_columns\n",
    "\n",
    "sub_df = df[cols_of_interest]\n",
    "sub_df = sub_df[sub_df['epoch_type'] == 'validation']\n",
    "sub_df = sub_df[sub_df['frame_stamp'] == sub_df['frame_stamp'].max()]\n",
    "\n",
    "sub_df \n"
   ]
  },
  {
   "cell_type": "code",
   "execution_count": 52,
   "metadata": {},
   "outputs": [
    {
     "data": {
      "text/html": [
       "<div>\n",
       "<style scoped>\n",
       "    .dataframe tbody tr th:only-of-type {\n",
       "        vertical-align: middle;\n",
       "    }\n",
       "\n",
       "    .dataframe tbody tr th {\n",
       "        vertical-align: top;\n",
       "    }\n",
       "\n",
       "    .dataframe thead th {\n",
       "        text-align: right;\n",
       "    }\n",
       "</style>\n",
       "<table border=\"1\" class=\"dataframe\">\n",
       "  <thead>\n",
       "    <tr style=\"text-align: right;\">\n",
       "      <th></th>\n",
       "      <th>sub_exp_cfg_optim.args_.eps</th>\n",
       "      <th>sub_exp_cfg_optim.args_.lr</th>\n",
       "      <th>sub_exp_cfg_agent_params.args_.betas</th>\n",
       "      <th>sub_exp_cfg_agent_params.model</th>\n",
       "      <th>episode_discounted_rewards_mean</th>\n",
       "    </tr>\n",
       "  </thead>\n",
       "  <tbody>\n",
       "    <tr>\n",
       "      <th>0</th>\n",
       "      <td>1e-09</td>\n",
       "      <td>1e-06</td>\n",
       "      <td>[0, 1, 2]</td>\n",
       "      <td>OpinionNetFixedW</td>\n",
       "      <td>-8.420855</td>\n",
       "    </tr>\n",
       "    <tr>\n",
       "      <th>1</th>\n",
       "      <td>1e-09</td>\n",
       "      <td>1e-07</td>\n",
       "      <td>[0, 1, 2]</td>\n",
       "      <td>OpinionNetFixedW</td>\n",
       "      <td>-29.169157</td>\n",
       "    </tr>\n",
       "  </tbody>\n",
       "</table>\n",
       "</div>"
      ],
      "text/plain": [
       "  sub_exp_cfg_optim.args_.eps sub_exp_cfg_optim.args_.lr  \\\n",
       "0                       1e-09                      1e-06   \n",
       "1                       1e-09                      1e-07   \n",
       "\n",
       "  sub_exp_cfg_agent_params.args_.betas sub_exp_cfg_agent_params.model  \\\n",
       "0                            [0, 1, 2]               OpinionNetFixedW   \n",
       "1                            [0, 1, 2]               OpinionNetFixedW   \n",
       "\n",
       "   episode_discounted_rewards_mean  \n",
       "0                        -8.420855  \n",
       "1                       -29.169157  "
      ]
     },
     "execution_count": 52,
     "metadata": {},
     "output_type": "execute_result"
    }
   ],
   "source": [
    "agg_cols = [col for col in sub_df.columns if \"sub_exp_cfg\" in col]\n",
    "aggregated_df = (\n",
    "    sub_df.groupby(agg_cols)\n",
    "    .agg(episode_discounted_rewards_mean=(\"episode_discounted_rewards_mean\", \"mean\"))\n",
    "    .reset_index()\n",
    ")\n",
    "aggregated_df"
   ]
  },
  {
   "cell_type": "code",
   "execution_count": 53,
   "metadata": {},
   "outputs": [
    {
     "data": {
      "text/plain": [
       "Index(['epoch_type', 'frame_stamp', 'episode_rewards_mean',\n",
       "       'episode_frames_mean', 'episode_discounted_rewards_mean',\n",
       "       'policy_trained_times', 'target_trained_times', 'epoch_time', 'seed',\n",
       "       'experiment_name', 'sub_experiment_path', 'sub_exp_cfg_optim.args_.eps',\n",
       "       'sub_exp_cfg_optim.args_.lr', 'sub_exp_cfg_agent_params.args_.betas',\n",
       "       'sub_exp_cfg_agent_params.model'],\n",
       "      dtype='object')"
      ]
     },
     "execution_count": 53,
     "metadata": {},
     "output_type": "execute_result"
    }
   ],
   "source": [
    "sub_df.columns"
   ]
  },
  {
   "cell_type": "code",
   "execution_count": 54,
   "metadata": {},
   "outputs": [
    {
     "name": "stdout",
     "output_type": "stream",
     "text": [
      "d:\\Work\\repos\\RL\\phd-rl-algos\\dqn\\opinion_dynamics\\experiments\\results\\2025Aug26-163426_configs\\0000_optim.args_.eps_1e-09__optim.args_.lr_1e-06__agent_params.args_.betas__0__1__2___agent_params.model_OpinionNetFixedW\\0\n"
     ]
    }
   ],
   "source": [
    "print(sub_df[sub_df['episode_rewards_mean'] == sub_df['episode_rewards_mean'].max()]['sub_experiment_path'].values[0])\n",
    "\n"
   ]
  },
  {
   "cell_type": "code",
   "execution_count": 55,
   "metadata": {},
   "outputs": [
    {
     "data": {
      "image/png": "[encoded data removed]",
      "text/plain": [
       "<Figure size 1000x600 with 1 Axes>"
      ]
     },
     "metadata": {},
     "output_type": "display_data"
    }
   ],
   "source": [
    "selected_metric = 'episode_rewards_mean'\n",
    "hue_col = \"experiment_name\"\n",
    "\n",
    "# Filter for training data only\n",
    "# training_df = df[df['epoch_type'] == 'training']\n",
    "training_df = df[df['epoch_type'] == 'validation']\n",
    "\n",
    "# Step 1: Find best experiment\n",
    "experiment_means = training_df.groupby(hue_col)[selected_metric].mean()\n",
    "best_experiment = experiment_means.idxmax()\n",
    "\n",
    "# Step 2: Filter to that experiment\n",
    "best_exp_df = training_df[training_df[hue_col] == best_experiment]\n",
    "\n",
    "# Step 3: Find best seed within best experiment\n",
    "best_seed = (\n",
    "    best_exp_df.groupby('seed')[selected_metric]\n",
    "    .mean()\n",
    "    .idxmax()\n",
    ")\n",
    "\n",
    "# Step 4: Filter to best seed\n",
    "best_seed_df = best_exp_df[best_exp_df['seed'] == best_seed]\n",
    "\n",
    "# Step 5: Plot\n",
    "plt.figure(figsize=(10, 6))\n",
    "sns.lineplot(\n",
    "    data=best_seed_df,\n",
    "    x='frame_stamp',\n",
    "    y=selected_metric,\n",
    "    lw=2,\n",
    "    label=f\"Seed {best_seed}\"\n",
    ")\n",
    "\n",
    "plt.title(f\"Best seed ({best_seed}) from best experiment: {best_experiment}\")\n",
    "plt.ylabel(selected_metric)\n",
    "plt.xlabel('Frame Stamp')\n",
    "plt.legend()\n",
    "plt.tight_layout()\n",
    "plt.show()"
   ]
  },
  {
   "cell_type": "code",
   "execution_count": 56,
   "metadata": {},
   "outputs": [
    {
     "data": {
      "image/png": "[encoded data removed]",
      "text/plain": [
       "<Figure size 800x310 with 2 Axes>"
      ]
     },
     "metadata": {},
     "output_type": "display_data"
    }
   ],
   "source": [
    "import shap\n",
    "import xgboost\n",
    "import pandas as pd\n",
    "\n",
    "\n",
    "# Define the target metric and hyperparameter columns\n",
    "target_metric = \"episode_rewards_mean\"  # Replace with actual metric column name\n",
    "# Replace with actual hyperparameter column names\n",
    "\n",
    "# Prepare data\n",
    "X = sub_df[hyperparam_columns].apply(pd.to_numeric, errors='coerce')\n",
    "y = sub_df[target_metric].fillna(3 * sub_df[target_metric].min())\n",
    "\n",
    "# Train an XGBoost model to analyze feature importance\n",
    "model = xgboost.XGBRegressor(objective=\"reg:squarederror\", n_estimators=100, random_state=42)\n",
    "model.fit(X, y)\n",
    "\n",
    "# SHAP analysis\n",
    "explainer = shap.Explainer(model)\n",
    "shap_values = explainer(X)\n",
    "\n",
    "# Summary plot (feature importance)\n",
    "shap.summary_plot(shap_values, X)"
   ]
  },
  {
   "cell_type": "code",
   "execution_count": 57,
   "metadata": {},
   "outputs": [
    {
     "data": {
      "text/plain": [
       "['sub_exp_cfg_optim.args_.eps',\n",
       " 'sub_exp_cfg_optim.args_.lr',\n",
       " 'sub_exp_cfg_agent_params.args_.betas',\n",
       " 'sub_exp_cfg_agent_params.model']"
      ]
     },
     "execution_count": 57,
     "metadata": {},
     "output_type": "execute_result"
    }
   ],
   "source": [
    "hyperparam_columns"
   ]
  },
  {
   "cell_type": "code",
   "execution_count": 58,
   "metadata": {},
   "outputs": [
    {
     "data": {
      "application/vnd.plotly.v1+json": {
       "config": {
        "plotlyServerURL": "https://plot.ly"
       },
       "data": [
        {
         "hovertemplate": "experiment_name=0000_optim.args_.eps_1e-09__optim.args_.lr_1e-06__agent_params.args_.betas__0__1__2___agent_params.model_OpinionNetFixedW<br>size=1e-06<br>noise=%{x}<br>episode_rewards_mean=%{y}<extra></extra>",
         "legendgroup": "0000_optim.args_.eps_1e-09__optim.args_.lr_1e-06__agent_params.args_.betas__0__1__2___agent_params.model_OpinionNetFixedW",
         "marker": {
          "color": "#636efa",
          "symbol": "circle"
         },
         "mode": "markers",
         "name": "0000_optim.args_.eps_1e-09__optim.args_.lr_1e-06__agent_params.args_.betas__0__1__2___agent_params.model_OpinionNetFixedW",
         "orientation": "v",
         "showlegend": true,
         "type": "scatter",
         "x": [
          "1e-09",
          "1e-09"
         ],
         "xaxis": "x",
         "y": [
          -6.351965951485458,
          -12.501484435314676
         ],
         "yaxis": "y"
        },
        {
         "hovertemplate": "experiment_name=0001_optim.args_.eps_1e-09__optim.args_.lr_1e-07__agent_params.args_.betas__0__1__2___agent_params.model_OpinionNetFixedW<br>size=1e-07<br>noise=%{x}<br>episode_rewards_mean=%{y}<extra></extra>",
         "legendgroup": "0001_optim.args_.eps_1e-09__optim.args_.lr_1e-07__agent_params.args_.betas__0__1__2___agent_params.model_OpinionNetFixedW",
         "marker": {
          "color": "#EF553B",
          "symbol": "circle"
         },
         "mode": "markers",
         "name": "0001_optim.args_.eps_1e-09__optim.args_.lr_1e-07__agent_params.args_.betas__0__1__2___agent_params.model_OpinionNetFixedW",
         "orientation": "v",
         "showlegend": true,
         "type": "scatter",
         "x": [
          "1e-09",
          "1e-09"
         ],
         "xaxis": "x2",
         "y": [
          -101.04890256191064,
          -6.351965951485458
         ],
         "yaxis": "y2"
        }
       ],
       "layout": {
        "annotations": [
         {
          "font": {},
          "showarrow": false,
          "text": "size=1e-06",
          "x": 0.245,
          "xanchor": "center",
          "xref": "paper",
          "y": 1,
          "yanchor": "bottom",
          "yref": "paper"
         },
         {
          "font": {},
          "showarrow": false,
          "text": "size=1e-07",
          "x": 0.755,
          "xanchor": "center",
          "xref": "paper",
          "y": 1,
          "yanchor": "bottom",
          "yref": "paper"
         }
        ],
        "height": 600,
        "legend": {
         "title": {
          "text": "experiment_name"
         },
         "tracegroupgap": 0
        },
        "showlegend": false,
        "template": {
         "data": {
          "bar": [
           {
            "error_x": {
             "color": "#2a3f5f"
            },
            "error_y": {
             "color": "#2a3f5f"
            },
            "marker": {
             "line": {
              "color": "#E5ECF6",
              "width": 0.5
             },
             "pattern": {
              "fillmode": "overlay",
              "size": 10,
              "solidity": 0.2
             }
            },
            "type": "bar"
           }
          ],
          "barpolar": [
           {
            "marker": {
             "line": {
              "color": "#E5ECF6",
              "width": 0.5
             },
             "pattern": {
              "fillmode": "overlay",
              "size": 10,
              "solidity": 0.2
             }
            },
            "type": "barpolar"
           }
          ],
          "carpet": [
           {
            "aaxis": {
             "endlinecolor": "#2a3f5f",
             "gridcolor": "white",
             "linecolor": "white",
             "minorgridcolor": "white",
             "startlinecolor": "#2a3f5f"
            },
            "baxis": {
             "endlinecolor": "#2a3f5f",
             "gridcolor": "white",
             "linecolor": "white",
             "minorgridcolor": "white",
             "startlinecolor": "#2a3f5f"
            },
            "type": "carpet"
           }
          ],
          "choropleth": [
           {
            "colorbar": {
             "outlinewidth": 0,
             "ticks": ""
            },
            "type": "choropleth"
           }
          ],
          "contour": [
           {
            "colorbar": {
             "outlinewidth": 0,
             "ticks": ""
            },
            "colorscale": [
             [
              0,
              "#0d0887"
             ],
             [
              0.1111111111111111,
              "#46039f"
             ],
             [
              0.2222222222222222,
              "#7201a8"
             ],
             [
              0.3333333333333333,
              "#9c179e"
             ],
             [
              0.4444444444444444,
              "#bd3786"
             ],
             [
              0.5555555555555556,
              "#d8576b"
             ],
             [
              0.6666666666666666,
              "#ed7953"
             ],
             [
              0.7777777777777778,
              "#fb9f3a"
             ],
             [
              0.8888888888888888,
              "#fdca26"
             ],
             [
              1,
              "#f0f921"
             ]
            ],
            "type": "contour"
           }
          ],
          "contourcarpet": [
           {
            "colorbar": {
             "outlinewidth": 0,
             "ticks": ""
            },
            "type": "contourcarpet"
           }
          ],
          "heatmap": [
           {
            "colorbar": {
             "outlinewidth": 0,
             "ticks": ""
            },
            "colorscale": [
             [
              0,
              "#0d0887"
             ],
             [
              0.1111111111111111,
              "#46039f"
             ],
             [
              0.2222222222222222,
              "#7201a8"
             ],
             [
              0.3333333333333333,
              "#9c179e"
             ],
             [
              0.4444444444444444,
              "#bd3786"
             ],
             [
              0.5555555555555556,
              "#d8576b"
             ],
             [
              0.6666666666666666,
              "#ed7953"
             ],
             [
              0.7777777777777778,
              "#fb9f3a"
             ],
             [
              0.8888888888888888,
              "#fdca26"
             ],
             [
              1,
              "#f0f921"
             ]
            ],
            "type": "heatmap"
           }
          ],
          "heatmapgl": [
           {
            "colorbar": {
             "outlinewidth": 0,
             "ticks": ""
            },
            "colorscale": [
             [
              0,
              "#0d0887"
             ],
             [
              0.1111111111111111,
              "#46039f"
             ],
             [
              0.2222222222222222,
              "#7201a8"
             ],
             [
              0.3333333333333333,
              "#9c179e"
             ],
             [
              0.4444444444444444,
              "#bd3786"
             ],
             [
              0.5555555555555556,
              "#d8576b"
             ],
             [
              0.6666666666666666,
              "#ed7953"
             ],
             [
              0.7777777777777778,
              "#fb9f3a"
             ],
             [
              0.8888888888888888,
              "#fdca26"
             ],
             [
              1,
              "#f0f921"
             ]
            ],
            "type": "heatmapgl"
           }
          ],
          "histogram": [
           {
            "marker": {
             "pattern": {
              "fillmode": "overlay",
              "size": 10,
              "solidity": 0.2
             }
            },
            "type": "histogram"
           }
          ],
          "histogram2d": [
           {
            "colorbar": {
             "outlinewidth": 0,
             "ticks": ""
            },
            "colorscale": [
             [
              0,
              "#0d0887"
             ],
             [
              0.1111111111111111,
              "#46039f"
             ],
             [
              0.2222222222222222,
              "#7201a8"
             ],
             [
              0.3333333333333333,
              "#9c179e"
             ],
             [
              0.4444444444444444,
              "#bd3786"
             ],
             [
              0.5555555555555556,
              "#d8576b"
             ],
             [
              0.6666666666666666,
              "#ed7953"
             ],
             [
              0.7777777777777778,
              "#fb9f3a"
             ],
             [
              0.8888888888888888,
              "#fdca26"
             ],
             [
              1,
              "#f0f921"
             ]
            ],
            "type": "histogram2d"
           }
          ],
          "histogram2dcontour": [
           {
            "colorbar": {
             "outlinewidth": 0,
             "ticks": ""
            },
            "colorscale": [
             [
              0,
              "#0d0887"
             ],
             [
              0.1111111111111111,
              "#46039f"
             ],
             [
              0.2222222222222222,
              "#7201a8"
             ],
             [
              0.3333333333333333,
              "#9c179e"
             ],
             [
              0.4444444444444444,
              "#bd3786"
             ],
             [
              0.5555555555555556,
              "#d8576b"
             ],
             [
              0.6666666666666666,
              "#ed7953"
             ],
             [
              0.7777777777777778,
              "#fb9f3a"
             ],
             [
              0.8888888888888888,
              "#fdca26"
             ],
             [
              1,
              "#f0f921"
             ]
            ],
            "type": "histogram2dcontour"
           }
          ],
          "mesh3d": [
           {
            "colorbar": {
             "outlinewidth": 0,
             "ticks": ""
            },
            "type": "mesh3d"
           }
          ],
          "parcoords": [
           {
            "line": {
             "colorbar": {
              "outlinewidth": 0,
              "ticks": ""
             }
            },
            "type": "parcoords"
           }
          ],
          "pie": [
           {
            "automargin": true,
            "type": "pie"
           }
          ],
          "scatter": [
           {
            "fillpattern": {
             "fillmode": "overlay",
             "size": 10,
             "solidity": 0.2
            },
            "type": "scatter"
           }
          ],
          "scatter3d": [
           {
            "line": {
             "colorbar": {
              "outlinewidth": 0,
              "ticks": ""
             }
            },
            "marker": {
             "colorbar": {
              "outlinewidth": 0,
              "ticks": ""
             }
            },
            "type": "scatter3d"
           }
          ],
          "scattercarpet": [
           {
            "marker": {
             "colorbar": {
              "outlinewidth": 0,
              "ticks": ""
             }
            },
            "type": "scattercarpet"
           }
          ],
          "scattergeo": [
           {
            "marker": {
             "colorbar": {
              "outlinewidth": 0,
              "ticks": ""
             }
            },
            "type": "scattergeo"
           }
          ],
          "scattergl": [
           {
            "marker": {
             "colorbar": {
              "outlinewidth": 0,
              "ticks": ""
             }
            },
            "type": "scattergl"
           }
          ],
          "scattermapbox": [
           {
            "marker": {
             "colorbar": {
              "outlinewidth": 0,
              "ticks": ""
             }
            },
            "type": "scattermapbox"
           }
          ],
          "scatterpolar": [
           {
            "marker": {
             "colorbar": {
              "outlinewidth": 0,
              "ticks": ""
             }
            },
            "type": "scatterpolar"
           }
          ],
          "scatterpolargl": [
           {
            "marker": {
             "colorbar": {
              "outlinewidth": 0,
              "ticks": ""
             }
            },
            "type": "scatterpolargl"
           }
          ],
          "scatterternary": [
           {
            "marker": {
             "colorbar": {
              "outlinewidth": 0,
              "ticks": ""
             }
            },
            "type": "scatterternary"
           }
          ],
          "surface": [
           {
            "colorbar": {
             "outlinewidth": 0,
             "ticks": ""
            },
            "colorscale": [
             [
              0,
              "#0d0887"
             ],
             [
              0.1111111111111111,
              "#46039f"
             ],
             [
              0.2222222222222222,
              "#7201a8"
             ],
             [
              0.3333333333333333,
              "#9c179e"
             ],
             [
              0.4444444444444444,
              "#bd3786"
             ],
             [
              0.5555555555555556,
              "#d8576b"
             ],
             [
              0.6666666666666666,
              "#ed7953"
             ],
             [
              0.7777777777777778,
              "#fb9f3a"
             ],
             [
              0.8888888888888888,
              "#fdca26"
             ],
             [
              1,
              "#f0f921"
             ]
            ],
            "type": "surface"
           }
          ],
          "table": [
           {
            "cells": {
             "fill": {
              "color": "#EBF0F8"
             },
             "line": {
              "color": "white"
             }
            },
            "header": {
             "fill": {
              "color": "#C8D4E3"
             },
             "line": {
              "color": "white"
             }
            },
            "type": "table"
           }
          ]
         },
         "layout": {
          "annotationdefaults": {
           "arrowcolor": "#2a3f5f",
           "arrowhead": 0,
           "arrowwidth": 1
          },
          "autotypenumbers": "strict",
          "coloraxis": {
           "colorbar": {
            "outlinewidth": 0,
            "ticks": ""
           }
          },
          "colorscale": {
           "diverging": [
            [
             0,
             "#8e0152"
            ],
            [
             0.1,
             "#c51b7d"
            ],
            [
             0.2,
             "#de77ae"
            ],
            [
             0.3,
             "#f1b6da"
            ],
            [
             0.4,
             "#fde0ef"
            ],
            [
             0.5,
             "#f7f7f7"
            ],
            [
             0.6,
             "#e6f5d0"
            ],
            [
             0.7,
             "#b8e186"
            ],
            [
             0.8,
             "#7fbc41"
            ],
            [
             0.9,
             "#4d9221"
            ],
            [
             1,
             "#276419"
            ]
           ],
           "sequential": [
            [
             0,
             "#0d0887"
            ],
            [
             0.1111111111111111,
             "#46039f"
            ],
            [
             0.2222222222222222,
             "#7201a8"
            ],
            [
             0.3333333333333333,
             "#9c179e"
            ],
            [
             0.4444444444444444,
             "#bd3786"
            ],
            [
             0.5555555555555556,
             "#d8576b"
            ],
            [
             0.6666666666666666,
             "#ed7953"
            ],
            [
             0.7777777777777778,
             "#fb9f3a"
            ],
            [
             0.8888888888888888,
             "#fdca26"
            ],
            [
             1,
             "#f0f921"
            ]
           ],
           "sequentialminus": [
            [
             0,
             "#0d0887"
            ],
            [
             0.1111111111111111,
             "#46039f"
            ],
            [
             0.2222222222222222,
             "#7201a8"
            ],
            [
             0.3333333333333333,
             "#9c179e"
            ],
            [
             0.4444444444444444,
             "#bd3786"
            ],
            [
             0.5555555555555556,
             "#d8576b"
            ],
            [
             0.6666666666666666,
             "#ed7953"
            ],
            [
             0.7777777777777778,
             "#fb9f3a"
            ],
            [
             0.8888888888888888,
             "#fdca26"
            ],
            [
             1,
             "#f0f921"
            ]
           ]
          },
          "colorway": [
           "#636efa",
           "#EF553B",
           "#00cc96",
           "#ab63fa",
           "#FFA15A",
           "#19d3f3",
           "#FF6692",
           "#B6E880",
           "#FF97FF",
           "#FECB52"
          ],
          "font": {
           "color": "#2a3f5f"
          },
          "geo": {
           "bgcolor": "white",
           "lakecolor": "white",
           "landcolor": "#E5ECF6",
           "showlakes": true,
           "showland": true,
           "subunitcolor": "white"
          },
          "hoverlabel": {
           "align": "left"
          },
          "hovermode": "closest",
          "mapbox": {
           "style": "light"
          },
          "paper_bgcolor": "white",
          "plot_bgcolor": "#E5ECF6",
          "polar": {
           "angularaxis": {
            "gridcolor": "white",
            "linecolor": "white",
            "ticks": ""
           },
           "bgcolor": "#E5ECF6",
           "radialaxis": {
            "gridcolor": "white",
            "linecolor": "white",
            "ticks": ""
           }
          },
          "scene": {
           "xaxis": {
            "backgroundcolor": "#E5ECF6",
            "gridcolor": "white",
            "gridwidth": 2,
            "linecolor": "white",
            "showbackground": true,
            "ticks": "",
            "zerolinecolor": "white"
           },
           "yaxis": {
            "backgroundcolor": "#E5ECF6",
            "gridcolor": "white",
            "gridwidth": 2,
            "linecolor": "white",
            "showbackground": true,
            "ticks": "",
            "zerolinecolor": "white"
           },
           "zaxis": {
            "backgroundcolor": "#E5ECF6",
            "gridcolor": "white",
            "gridwidth": 2,
            "linecolor": "white",
            "showbackground": true,
            "ticks": "",
            "zerolinecolor": "white"
           }
          },
          "shapedefaults": {
           "line": {
            "color": "#2a3f5f"
           }
          },
          "ternary": {
           "aaxis": {
            "gridcolor": "white",
            "linecolor": "white",
            "ticks": ""
           },
           "baxis": {
            "gridcolor": "white",
            "linecolor": "white",
            "ticks": ""
           },
           "bgcolor": "#E5ECF6",
           "caxis": {
            "gridcolor": "white",
            "linecolor": "white",
            "ticks": ""
           }
          },
          "title": {
           "x": 0.05
          },
          "xaxis": {
           "automargin": true,
           "gridcolor": "white",
           "linecolor": "white",
           "ticks": "",
           "title": {
            "standoff": 15
           },
           "zerolinecolor": "white",
           "zerolinewidth": 2
          },
          "yaxis": {
           "automargin": true,
           "gridcolor": "white",
           "linecolor": "white",
           "ticks": "",
           "title": {
            "standoff": 15
           },
           "zerolinecolor": "white",
           "zerolinewidth": 2
          }
         }
        },
        "title": {
         "text": "Episode Rewards vs. Noise Faceted by Size"
        },
        "xaxis": {
         "anchor": "y",
         "domain": [
          0,
          0.49
         ],
         "title": {
          "text": "noise"
         }
        },
        "xaxis2": {
         "anchor": "y2",
         "domain": [
          0.51,
          1
         ],
         "matches": "x",
         "title": {
          "text": "noise"
         }
        },
        "yaxis": {
         "anchor": "x",
         "domain": [
          0,
          1
         ],
         "title": {
          "text": "episode_rewards_mean"
         }
        },
        "yaxis2": {
         "anchor": "x2",
         "domain": [
          0,
          1
         ],
         "matches": "y",
         "showticklabels": false
        }
       }
      }
     },
     "metadata": {},
     "output_type": "display_data"
    }
   ],
   "source": [
    "import plotly.express as px\n",
    "\n",
    "# Define readable names for selected hyperparams\n",
    "readable_names = {\n",
    "    hyperparam_columns[0]: \"noise\",\n",
    "    hyperparam_columns[1]: \"size\"\n",
    "}\n",
    "\n",
    "# Rename columns in a copy of the dataframe\n",
    "plot_df = sub_df.rename(columns=readable_names)\n",
    "\n",
    "# Assign new column names\n",
    "x_col = \"noise\"\n",
    "y_col = \"episode_rewards_mean\"\n",
    "facet_col = \"size\"\n",
    "\n",
    "# Plot\n",
    "fig = px.scatter(\n",
    "    plot_df,\n",
    "    x=x_col,\n",
    "    y=y_col,\n",
    "    color=\"experiment_name\",  # Optional: color by experiment\n",
    "    facet_col=facet_col,\n",
    "    title=\"Episode Rewards vs. Noise Faceted by Size\",\n",
    "    height=600\n",
    ")\n",
    "\n",
    "fig.update_layout(showlegend=False)\n",
    "fig.show()\n"
   ]
  },
  {
   "cell_type": "code",
   "execution_count": null,
   "metadata": {},
   "outputs": [],
   "source": []
  }
 ],
 "metadata": {
  "kernelspec": {
   "display_name": "phd_rl_algos",
   "language": "python",
   "name": "python3"
  },
  "language_info": {
   "codemirror_mode": {
    "name": "ipython",
    "version": 3
   },
   "file_extension": ".py",
   "mimetype": "text/x-python",
   "name": "python",
   "nbconvert_exporter": "python",
   "pygments_lexer": "ipython3",
   "version": "3.11.5"
  }
 },
 "nbformat": 4,
 "nbformat_minor": 2
}
