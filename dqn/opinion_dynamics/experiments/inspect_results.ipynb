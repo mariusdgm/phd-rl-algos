{
 "cells": [
  {
   "cell_type": "code",
   "execution_count": 4,
   "metadata": {},
   "outputs": [
    {
     "name": "stdout",
     "output_type": "stream",
     "text": [
      "The autoreload extension is already loaded. To reload it, use:\n",
      "  %reload_ext autoreload\n"
     ]
    }
   ],
   "source": [
    "%load_ext autoreload\n",
    "%autoreload 2"
   ]
  },
  {
   "cell_type": "code",
   "execution_count": 5,
   "metadata": {},
   "outputs": [],
   "source": [
    "import os, sys\n",
    "\n",
    "def get_dir_n_levels_up(path, n):\n",
    "    # Go up n levels from the given path\n",
    "    for _ in range(n):\n",
    "        path = os.path.dirname(path)\n",
    "    return path\n",
    "\n",
    "proj_root = get_dir_n_levels_up(os.path.abspath(\"__file__\"), 4)\n",
    "sys.path.append(proj_root)\n",
    "\n",
    "import pandas as pd\n",
    "import yaml\n",
    "import torch\n",
    "import collections\n",
    "\n",
    "import warnings\n",
    "import numpy as np\n",
    "\n",
    "import seaborn as sns\n",
    "import matplotlib.pyplot as plt\n",
    "sns.set_theme()\n",
    "\n",
    "warnings.filterwarnings(\"ignore\")\n",
    "\n",
    "from dqn.opinion_dynamics.utils.experiment import process_experiment\n"
   ]
  },
  {
   "cell_type": "code",
   "execution_count": 6,
   "metadata": {},
   "outputs": [
    {
     "data": {
      "text/plain": [
       "Index(['epoch_type', 'frame_stamp', 'greedy_epsilon', 'episode_rewards_min',\n",
       "       'episode_rewards_max', 'episode_rewards_mean', 'episode_rewards_median',\n",
       "       'episode_rewards_std', 'episode_discounted_rewards_min',\n",
       "       'episode_discounted_rewards_max', 'episode_discounted_rewards_mean',\n",
       "       'episode_discounted_rewards_median', 'episode_discounted_rewards_std',\n",
       "       'episode_frames_min', 'episode_frames_max', 'episode_frames_mean',\n",
       "       'episode_frames_median', 'episode_frames_std', 'episode_losses_min',\n",
       "       'episode_losses_max', 'episode_losses_mean', 'episode_losses_median',\n",
       "       'episode_losses_std', 'episode_max_qs_min', 'episode_max_qs_max',\n",
       "       'episode_max_qs_mean', 'episode_max_qs_median', 'episode_max_qs_std',\n",
       "       'policy_trained_times', 'target_trained_times', 'epoch_time',\n",
       "       'sub_exp_cfg_optim.args_.lr',\n",
       "       'sub_exp_cfg_agent_params.args_.action_w_noise_amplitude',\n",
       "       'sub_exp_cfg_agent_params.args_.target_model_update_freq',\n",
       "       'sub_experiment_path', 'seed', 'experiment_name'],\n",
       "      dtype='object')"
      ]
     },
     "execution_count": 6,
     "metadata": {},
     "output_type": "execute_result"
    }
   ],
   "source": [
    "# experiment_sub_dir = \"2025May02-101004_configs\" # excellent run\n",
    "experiment_sub_dir = \"2025May29-012929_configs\"\n",
    "\n",
    "exp_path = os.path.join(r\"D:\\Work\\repos\\RL\\phd-rl-algos\\dqn\\opinion_dynamics\\experiments\\results\", experiment_sub_dir)\n",
    "df = process_experiment(\n",
    "    exp_path\n",
    ")\n",
    "df.columns\n"
   ]
  },
  {
   "cell_type": "code",
   "execution_count": 7,
   "metadata": {},
   "outputs": [
    {
     "data": {
      "text/html": [
       "<div>\n",
       "<style scoped>\n",
       "    .dataframe tbody tr th:only-of-type {\n",
       "        vertical-align: middle;\n",
       "    }\n",
       "\n",
       "    .dataframe tbody tr th {\n",
       "        vertical-align: top;\n",
       "    }\n",
       "\n",
       "    .dataframe thead th {\n",
       "        text-align: right;\n",
       "    }\n",
       "</style>\n",
       "<table border=\"1\" class=\"dataframe\">\n",
       "  <thead>\n",
       "    <tr style=\"text-align: right;\">\n",
       "      <th></th>\n",
       "      <th>epoch_type</th>\n",
       "      <th>frame_stamp</th>\n",
       "      <th>greedy_epsilon</th>\n",
       "      <th>episode_rewards_min</th>\n",
       "      <th>episode_rewards_max</th>\n",
       "      <th>episode_rewards_mean</th>\n",
       "      <th>episode_rewards_median</th>\n",
       "      <th>episode_rewards_std</th>\n",
       "      <th>episode_discounted_rewards_min</th>\n",
       "      <th>episode_discounted_rewards_max</th>\n",
       "      <th>...</th>\n",
       "      <th>episode_max_qs_std</th>\n",
       "      <th>policy_trained_times</th>\n",
       "      <th>target_trained_times</th>\n",
       "      <th>epoch_time</th>\n",
       "      <th>sub_exp_cfg_optim.args_.lr</th>\n",
       "      <th>sub_exp_cfg_agent_params.args_.action_w_noise_amplitude</th>\n",
       "      <th>sub_exp_cfg_agent_params.args_.target_model_update_freq</th>\n",
       "      <th>sub_experiment_path</th>\n",
       "      <th>seed</th>\n",
       "      <th>experiment_name</th>\n",
       "    </tr>\n",
       "  </thead>\n",
       "  <tbody>\n",
       "    <tr>\n",
       "      <th>0</th>\n",
       "      <td>training</td>\n",
       "      <td>200000</td>\n",
       "      <td>0.9649</td>\n",
       "      <td>-9.323903</td>\n",
       "      <td>-8.391152</td>\n",
       "      <td>-8.830932</td>\n",
       "      <td>-8.825327</td>\n",
       "      <td>0.131821</td>\n",
       "      <td>-8.649833</td>\n",
       "      <td>-7.843408</td>\n",
       "      <td>...</td>\n",
       "      <td>3.935315</td>\n",
       "      <td>48749.0</td>\n",
       "      <td>192.0</td>\n",
       "      <td>0 days 00:06:00.366451</td>\n",
       "      <td>1e-05</td>\n",
       "      <td>0.5</td>\n",
       "      <td>1000</td>\n",
       "      <td>D:\\Work\\repos\\RL\\phd-rl-algos\\dqn\\opinion_dyna...</td>\n",
       "      <td>0</td>\n",
       "      <td>0000_optim.args_.lr_1e-05__agent_params.args_....</td>\n",
       "    </tr>\n",
       "    <tr>\n",
       "      <th>1</th>\n",
       "      <td>training</td>\n",
       "      <td>400000</td>\n",
       "      <td>0.9289</td>\n",
       "      <td>-9.504916</td>\n",
       "      <td>-8.572043</td>\n",
       "      <td>-8.943522</td>\n",
       "      <td>-8.935107</td>\n",
       "      <td>0.163850</td>\n",
       "      <td>-8.816131</td>\n",
       "      <td>-7.992411</td>\n",
       "      <td>...</td>\n",
       "      <td>3.965489</td>\n",
       "      <td>50000.0</td>\n",
       "      <td>200.0</td>\n",
       "      <td>0 days 00:06:20.629564</td>\n",
       "      <td>1e-05</td>\n",
       "      <td>0.5</td>\n",
       "      <td>1000</td>\n",
       "      <td>D:\\Work\\repos\\RL\\phd-rl-algos\\dqn\\opinion_dyna...</td>\n",
       "      <td>0</td>\n",
       "      <td>0000_optim.args_.lr_1e-05__agent_params.args_....</td>\n",
       "    </tr>\n",
       "    <tr>\n",
       "      <th>2</th>\n",
       "      <td>training</td>\n",
       "      <td>600000</td>\n",
       "      <td>0.8929</td>\n",
       "      <td>-9.885930</td>\n",
       "      <td>-8.347685</td>\n",
       "      <td>-8.778527</td>\n",
       "      <td>-8.733297</td>\n",
       "      <td>0.217326</td>\n",
       "      <td>-9.159032</td>\n",
       "      <td>-7.804157</td>\n",
       "      <td>...</td>\n",
       "      <td>1.831790</td>\n",
       "      <td>50000.0</td>\n",
       "      <td>200.0</td>\n",
       "      <td>0 days 00:06:38.610355</td>\n",
       "      <td>1e-05</td>\n",
       "      <td>0.5</td>\n",
       "      <td>1000</td>\n",
       "      <td>D:\\Work\\repos\\RL\\phd-rl-algos\\dqn\\opinion_dyna...</td>\n",
       "      <td>0</td>\n",
       "      <td>0000_optim.args_.lr_1e-05__agent_params.args_....</td>\n",
       "    </tr>\n",
       "    <tr>\n",
       "      <th>3</th>\n",
       "      <td>training</td>\n",
       "      <td>800000</td>\n",
       "      <td>0.8569</td>\n",
       "      <td>-9.149546</td>\n",
       "      <td>-8.102560</td>\n",
       "      <td>-8.447098</td>\n",
       "      <td>-8.424231</td>\n",
       "      <td>0.118248</td>\n",
       "      <td>-8.515202</td>\n",
       "      <td>-7.595205</td>\n",
       "      <td>...</td>\n",
       "      <td>2.181449</td>\n",
       "      <td>50000.0</td>\n",
       "      <td>200.0</td>\n",
       "      <td>0 days 00:06:40.811132</td>\n",
       "      <td>1e-05</td>\n",
       "      <td>0.5</td>\n",
       "      <td>1000</td>\n",
       "      <td>D:\\Work\\repos\\RL\\phd-rl-algos\\dqn\\opinion_dyna...</td>\n",
       "      <td>0</td>\n",
       "      <td>0000_optim.args_.lr_1e-05__agent_params.args_....</td>\n",
       "    </tr>\n",
       "    <tr>\n",
       "      <th>4</th>\n",
       "      <td>training</td>\n",
       "      <td>1000000</td>\n",
       "      <td>0.8209</td>\n",
       "      <td>-9.260078</td>\n",
       "      <td>-8.079938</td>\n",
       "      <td>-8.400558</td>\n",
       "      <td>-8.394744</td>\n",
       "      <td>0.113910</td>\n",
       "      <td>-8.572045</td>\n",
       "      <td>-7.574247</td>\n",
       "      <td>...</td>\n",
       "      <td>2.212247</td>\n",
       "      <td>50000.0</td>\n",
       "      <td>200.0</td>\n",
       "      <td>0 days 00:06:42.548716</td>\n",
       "      <td>1e-05</td>\n",
       "      <td>0.5</td>\n",
       "      <td>1000</td>\n",
       "      <td>D:\\Work\\repos\\RL\\phd-rl-algos\\dqn\\opinion_dyna...</td>\n",
       "      <td>0</td>\n",
       "      <td>0000_optim.args_.lr_1e-05__agent_params.args_....</td>\n",
       "    </tr>\n",
       "    <tr>\n",
       "      <th>...</th>\n",
       "      <td>...</td>\n",
       "      <td>...</td>\n",
       "      <td>...</td>\n",
       "      <td>...</td>\n",
       "      <td>...</td>\n",
       "      <td>...</td>\n",
       "      <td>...</td>\n",
       "      <td>...</td>\n",
       "      <td>...</td>\n",
       "      <td>...</td>\n",
       "      <td>...</td>\n",
       "      <td>...</td>\n",
       "      <td>...</td>\n",
       "      <td>...</td>\n",
       "      <td>...</td>\n",
       "      <td>...</td>\n",
       "      <td>...</td>\n",
       "      <td>...</td>\n",
       "      <td>...</td>\n",
       "      <td>...</td>\n",
       "      <td>...</td>\n",
       "    </tr>\n",
       "    <tr>\n",
       "      <th>635</th>\n",
       "      <td>validation</td>\n",
       "      <td>7200000</td>\n",
       "      <td>NaN</td>\n",
       "      <td>-9.246622</td>\n",
       "      <td>-9.246015</td>\n",
       "      <td>-9.246383</td>\n",
       "      <td>-9.246393</td>\n",
       "      <td>0.000133</td>\n",
       "      <td>-8.551601</td>\n",
       "      <td>-8.551073</td>\n",
       "      <td>...</td>\n",
       "      <td>2.512257</td>\n",
       "      <td>NaN</td>\n",
       "      <td>NaN</td>\n",
       "      <td>0 days 00:00:00.692810</td>\n",
       "      <td>1e-06</td>\n",
       "      <td>0.5</td>\n",
       "      <td>1000</td>\n",
       "      <td>D:\\Work\\repos\\RL\\phd-rl-algos\\dqn\\opinion_dyna...</td>\n",
       "      <td>3</td>\n",
       "      <td>0001_optim.args_.lr_1e-06__agent_params.args_....</td>\n",
       "    </tr>\n",
       "    <tr>\n",
       "      <th>636</th>\n",
       "      <td>validation</td>\n",
       "      <td>7400000</td>\n",
       "      <td>NaN</td>\n",
       "      <td>-9.084847</td>\n",
       "      <td>-9.084632</td>\n",
       "      <td>-9.084729</td>\n",
       "      <td>-9.084722</td>\n",
       "      <td>0.000059</td>\n",
       "      <td>-8.421275</td>\n",
       "      <td>-8.421091</td>\n",
       "      <td>...</td>\n",
       "      <td>2.503589</td>\n",
       "      <td>NaN</td>\n",
       "      <td>NaN</td>\n",
       "      <td>0 days 00:00:00.665032</td>\n",
       "      <td>1e-06</td>\n",
       "      <td>0.5</td>\n",
       "      <td>1000</td>\n",
       "      <td>D:\\Work\\repos\\RL\\phd-rl-algos\\dqn\\opinion_dyna...</td>\n",
       "      <td>3</td>\n",
       "      <td>0001_optim.args_.lr_1e-06__agent_params.args_....</td>\n",
       "    </tr>\n",
       "    <tr>\n",
       "      <th>637</th>\n",
       "      <td>validation</td>\n",
       "      <td>7600000</td>\n",
       "      <td>NaN</td>\n",
       "      <td>-9.272192</td>\n",
       "      <td>-9.271665</td>\n",
       "      <td>-9.271946</td>\n",
       "      <td>-9.271958</td>\n",
       "      <td>0.000138</td>\n",
       "      <td>-8.575289</td>\n",
       "      <td>-8.574835</td>\n",
       "      <td>...</td>\n",
       "      <td>2.493340</td>\n",
       "      <td>NaN</td>\n",
       "      <td>NaN</td>\n",
       "      <td>0 days 00:00:00.666710</td>\n",
       "      <td>1e-06</td>\n",
       "      <td>0.5</td>\n",
       "      <td>1000</td>\n",
       "      <td>D:\\Work\\repos\\RL\\phd-rl-algos\\dqn\\opinion_dyna...</td>\n",
       "      <td>3</td>\n",
       "      <td>0001_optim.args_.lr_1e-06__agent_params.args_....</td>\n",
       "    </tr>\n",
       "    <tr>\n",
       "      <th>638</th>\n",
       "      <td>validation</td>\n",
       "      <td>7800000</td>\n",
       "      <td>NaN</td>\n",
       "      <td>-9.115045</td>\n",
       "      <td>-9.114744</td>\n",
       "      <td>-9.114898</td>\n",
       "      <td>-9.114898</td>\n",
       "      <td>0.000066</td>\n",
       "      <td>-8.446769</td>\n",
       "      <td>-8.446508</td>\n",
       "      <td>...</td>\n",
       "      <td>2.505024</td>\n",
       "      <td>NaN</td>\n",
       "      <td>NaN</td>\n",
       "      <td>0 days 00:00:00.672010</td>\n",
       "      <td>1e-06</td>\n",
       "      <td>0.5</td>\n",
       "      <td>1000</td>\n",
       "      <td>D:\\Work\\repos\\RL\\phd-rl-algos\\dqn\\opinion_dyna...</td>\n",
       "      <td>3</td>\n",
       "      <td>0001_optim.args_.lr_1e-06__agent_params.args_....</td>\n",
       "    </tr>\n",
       "    <tr>\n",
       "      <th>639</th>\n",
       "      <td>validation</td>\n",
       "      <td>8000000</td>\n",
       "      <td>NaN</td>\n",
       "      <td>-9.289221</td>\n",
       "      <td>-9.288533</td>\n",
       "      <td>-9.288827</td>\n",
       "      <td>-9.288811</td>\n",
       "      <td>0.000137</td>\n",
       "      <td>-8.589609</td>\n",
       "      <td>-8.589021</td>\n",
       "      <td>...</td>\n",
       "      <td>2.507733</td>\n",
       "      <td>NaN</td>\n",
       "      <td>NaN</td>\n",
       "      <td>0 days 00:00:00.541124</td>\n",
       "      <td>1e-06</td>\n",
       "      <td>0.5</td>\n",
       "      <td>1000</td>\n",
       "      <td>D:\\Work\\repos\\RL\\phd-rl-algos\\dqn\\opinion_dyna...</td>\n",
       "      <td>3</td>\n",
       "      <td>0001_optim.args_.lr_1e-06__agent_params.args_....</td>\n",
       "    </tr>\n",
       "  </tbody>\n",
       "</table>\n",
       "<p>640 rows × 37 columns</p>\n",
       "</div>"
      ],
      "text/plain": [
       "     epoch_type  frame_stamp  greedy_epsilon  episode_rewards_min  \\\n",
       "0      training       200000          0.9649            -9.323903   \n",
       "1      training       400000          0.9289            -9.504916   \n",
       "2      training       600000          0.8929            -9.885930   \n",
       "3      training       800000          0.8569            -9.149546   \n",
       "4      training      1000000          0.8209            -9.260078   \n",
       "..          ...          ...             ...                  ...   \n",
       "635  validation      7200000             NaN            -9.246622   \n",
       "636  validation      7400000             NaN            -9.084847   \n",
       "637  validation      7600000             NaN            -9.272192   \n",
       "638  validation      7800000             NaN            -9.115045   \n",
       "639  validation      8000000             NaN            -9.289221   \n",
       "\n",
       "     episode_rewards_max  episode_rewards_mean  episode_rewards_median  \\\n",
       "0              -8.391152             -8.830932               -8.825327   \n",
       "1              -8.572043             -8.943522               -8.935107   \n",
       "2              -8.347685             -8.778527               -8.733297   \n",
       "3              -8.102560             -8.447098               -8.424231   \n",
       "4              -8.079938             -8.400558               -8.394744   \n",
       "..                   ...                   ...                     ...   \n",
       "635            -9.246015             -9.246383               -9.246393   \n",
       "636            -9.084632             -9.084729               -9.084722   \n",
       "637            -9.271665             -9.271946               -9.271958   \n",
       "638            -9.114744             -9.114898               -9.114898   \n",
       "639            -9.288533             -9.288827               -9.288811   \n",
       "\n",
       "     episode_rewards_std  episode_discounted_rewards_min  \\\n",
       "0               0.131821                       -8.649833   \n",
       "1               0.163850                       -8.816131   \n",
       "2               0.217326                       -9.159032   \n",
       "3               0.118248                       -8.515202   \n",
       "4               0.113910                       -8.572045   \n",
       "..                   ...                             ...   \n",
       "635             0.000133                       -8.551601   \n",
       "636             0.000059                       -8.421275   \n",
       "637             0.000138                       -8.575289   \n",
       "638             0.000066                       -8.446769   \n",
       "639             0.000137                       -8.589609   \n",
       "\n",
       "     episode_discounted_rewards_max  ...  episode_max_qs_std  \\\n",
       "0                         -7.843408  ...            3.935315   \n",
       "1                         -7.992411  ...            3.965489   \n",
       "2                         -7.804157  ...            1.831790   \n",
       "3                         -7.595205  ...            2.181449   \n",
       "4                         -7.574247  ...            2.212247   \n",
       "..                              ...  ...                 ...   \n",
       "635                       -8.551073  ...            2.512257   \n",
       "636                       -8.421091  ...            2.503589   \n",
       "637                       -8.574835  ...            2.493340   \n",
       "638                       -8.446508  ...            2.505024   \n",
       "639                       -8.589021  ...            2.507733   \n",
       "\n",
       "     policy_trained_times  target_trained_times             epoch_time  \\\n",
       "0                 48749.0                 192.0 0 days 00:06:00.366451   \n",
       "1                 50000.0                 200.0 0 days 00:06:20.629564   \n",
       "2                 50000.0                 200.0 0 days 00:06:38.610355   \n",
       "3                 50000.0                 200.0 0 days 00:06:40.811132   \n",
       "4                 50000.0                 200.0 0 days 00:06:42.548716   \n",
       "..                    ...                   ...                    ...   \n",
       "635                   NaN                   NaN 0 days 00:00:00.692810   \n",
       "636                   NaN                   NaN 0 days 00:00:00.665032   \n",
       "637                   NaN                   NaN 0 days 00:00:00.666710   \n",
       "638                   NaN                   NaN 0 days 00:00:00.672010   \n",
       "639                   NaN                   NaN 0 days 00:00:00.541124   \n",
       "\n",
       "     sub_exp_cfg_optim.args_.lr  \\\n",
       "0                         1e-05   \n",
       "1                         1e-05   \n",
       "2                         1e-05   \n",
       "3                         1e-05   \n",
       "4                         1e-05   \n",
       "..                          ...   \n",
       "635                       1e-06   \n",
       "636                       1e-06   \n",
       "637                       1e-06   \n",
       "638                       1e-06   \n",
       "639                       1e-06   \n",
       "\n",
       "     sub_exp_cfg_agent_params.args_.action_w_noise_amplitude  \\\n",
       "0                                                  0.5         \n",
       "1                                                  0.5         \n",
       "2                                                  0.5         \n",
       "3                                                  0.5         \n",
       "4                                                  0.5         \n",
       "..                                                 ...         \n",
       "635                                                0.5         \n",
       "636                                                0.5         \n",
       "637                                                0.5         \n",
       "638                                                0.5         \n",
       "639                                                0.5         \n",
       "\n",
       "     sub_exp_cfg_agent_params.args_.target_model_update_freq  \\\n",
       "0                                                 1000         \n",
       "1                                                 1000         \n",
       "2                                                 1000         \n",
       "3                                                 1000         \n",
       "4                                                 1000         \n",
       "..                                                 ...         \n",
       "635                                               1000         \n",
       "636                                               1000         \n",
       "637                                               1000         \n",
       "638                                               1000         \n",
       "639                                               1000         \n",
       "\n",
       "                                   sub_experiment_path  seed  \\\n",
       "0    D:\\Work\\repos\\RL\\phd-rl-algos\\dqn\\opinion_dyna...     0   \n",
       "1    D:\\Work\\repos\\RL\\phd-rl-algos\\dqn\\opinion_dyna...     0   \n",
       "2    D:\\Work\\repos\\RL\\phd-rl-algos\\dqn\\opinion_dyna...     0   \n",
       "3    D:\\Work\\repos\\RL\\phd-rl-algos\\dqn\\opinion_dyna...     0   \n",
       "4    D:\\Work\\repos\\RL\\phd-rl-algos\\dqn\\opinion_dyna...     0   \n",
       "..                                                 ...   ...   \n",
       "635  D:\\Work\\repos\\RL\\phd-rl-algos\\dqn\\opinion_dyna...     3   \n",
       "636  D:\\Work\\repos\\RL\\phd-rl-algos\\dqn\\opinion_dyna...     3   \n",
       "637  D:\\Work\\repos\\RL\\phd-rl-algos\\dqn\\opinion_dyna...     3   \n",
       "638  D:\\Work\\repos\\RL\\phd-rl-algos\\dqn\\opinion_dyna...     3   \n",
       "639  D:\\Work\\repos\\RL\\phd-rl-algos\\dqn\\opinion_dyna...     3   \n",
       "\n",
       "                                       experiment_name  \n",
       "0    0000_optim.args_.lr_1e-05__agent_params.args_....  \n",
       "1    0000_optim.args_.lr_1e-05__agent_params.args_....  \n",
       "2    0000_optim.args_.lr_1e-05__agent_params.args_....  \n",
       "3    0000_optim.args_.lr_1e-05__agent_params.args_....  \n",
       "4    0000_optim.args_.lr_1e-05__agent_params.args_....  \n",
       "..                                                 ...  \n",
       "635  0001_optim.args_.lr_1e-06__agent_params.args_....  \n",
       "636  0001_optim.args_.lr_1e-06__agent_params.args_....  \n",
       "637  0001_optim.args_.lr_1e-06__agent_params.args_....  \n",
       "638  0001_optim.args_.lr_1e-06__agent_params.args_....  \n",
       "639  0001_optim.args_.lr_1e-06__agent_params.args_....  \n",
       "\n",
       "[640 rows x 37 columns]"
      ]
     },
     "execution_count": 7,
     "metadata": {},
     "output_type": "execute_result"
    }
   ],
   "source": [
    "df"
   ]
  },
  {
   "cell_type": "code",
   "execution_count": 8,
   "metadata": {},
   "outputs": [
    {
     "data": {
      "text/html": [
       "<div>\n",
       "<style scoped>\n",
       "    .dataframe tbody tr th:only-of-type {\n",
       "        vertical-align: middle;\n",
       "    }\n",
       "\n",
       "    .dataframe tbody tr th {\n",
       "        vertical-align: top;\n",
       "    }\n",
       "\n",
       "    .dataframe thead th {\n",
       "        text-align: right;\n",
       "    }\n",
       "</style>\n",
       "<table border=\"1\" class=\"dataframe\">\n",
       "  <thead>\n",
       "    <tr style=\"text-align: right;\">\n",
       "      <th></th>\n",
       "      <th>epoch_type</th>\n",
       "      <th>frame_stamp</th>\n",
       "      <th>greedy_epsilon</th>\n",
       "      <th>episode_rewards_min</th>\n",
       "      <th>episode_rewards_max</th>\n",
       "      <th>episode_rewards_mean</th>\n",
       "      <th>episode_rewards_median</th>\n",
       "      <th>episode_rewards_std</th>\n",
       "      <th>episode_discounted_rewards_min</th>\n",
       "      <th>episode_discounted_rewards_max</th>\n",
       "      <th>...</th>\n",
       "      <th>episode_max_qs_std</th>\n",
       "      <th>policy_trained_times</th>\n",
       "      <th>target_trained_times</th>\n",
       "      <th>epoch_time</th>\n",
       "      <th>sub_exp_cfg_optim.args_.lr</th>\n",
       "      <th>sub_exp_cfg_agent_params.args_.action_w_noise_amplitude</th>\n",
       "      <th>sub_exp_cfg_agent_params.args_.target_model_update_freq</th>\n",
       "      <th>sub_experiment_path</th>\n",
       "      <th>seed</th>\n",
       "      <th>experiment_name</th>\n",
       "    </tr>\n",
       "  </thead>\n",
       "  <tbody>\n",
       "    <tr>\n",
       "      <th>40</th>\n",
       "      <td>validation</td>\n",
       "      <td>200000</td>\n",
       "      <td>NaN</td>\n",
       "      <td>-9.099152</td>\n",
       "      <td>-9.098858</td>\n",
       "      <td>-9.098970</td>\n",
       "      <td>-9.098968</td>\n",
       "      <td>0.000058</td>\n",
       "      <td>-8.452794</td>\n",
       "      <td>-8.452534</td>\n",
       "      <td>...</td>\n",
       "      <td>3.242303</td>\n",
       "      <td>NaN</td>\n",
       "      <td>NaN</td>\n",
       "      <td>0 days 00:00:00.638529</td>\n",
       "      <td>1e-05</td>\n",
       "      <td>0.5</td>\n",
       "      <td>1000</td>\n",
       "      <td>D:\\Work\\repos\\RL\\phd-rl-algos\\dqn\\opinion_dyna...</td>\n",
       "      <td>0</td>\n",
       "      <td>0000_optim.args_.lr_1e-05__agent_params.args_....</td>\n",
       "    </tr>\n",
       "    <tr>\n",
       "      <th>41</th>\n",
       "      <td>validation</td>\n",
       "      <td>400000</td>\n",
       "      <td>NaN</td>\n",
       "      <td>-8.917514</td>\n",
       "      <td>-8.917047</td>\n",
       "      <td>-8.917266</td>\n",
       "      <td>-8.917273</td>\n",
       "      <td>0.000097</td>\n",
       "      <td>-8.286195</td>\n",
       "      <td>-8.285773</td>\n",
       "      <td>...</td>\n",
       "      <td>0.346519</td>\n",
       "      <td>NaN</td>\n",
       "      <td>NaN</td>\n",
       "      <td>0 days 00:00:00.650206</td>\n",
       "      <td>1e-05</td>\n",
       "      <td>0.5</td>\n",
       "      <td>1000</td>\n",
       "      <td>D:\\Work\\repos\\RL\\phd-rl-algos\\dqn\\opinion_dyna...</td>\n",
       "      <td>0</td>\n",
       "      <td>0000_optim.args_.lr_1e-05__agent_params.args_....</td>\n",
       "    </tr>\n",
       "    <tr>\n",
       "      <th>42</th>\n",
       "      <td>validation</td>\n",
       "      <td>600000</td>\n",
       "      <td>NaN</td>\n",
       "      <td>-8.690708</td>\n",
       "      <td>-8.690305</td>\n",
       "      <td>-8.690480</td>\n",
       "      <td>-8.690464</td>\n",
       "      <td>0.000085</td>\n",
       "      <td>-8.103514</td>\n",
       "      <td>-8.103153</td>\n",
       "      <td>...</td>\n",
       "      <td>2.122870</td>\n",
       "      <td>NaN</td>\n",
       "      <td>NaN</td>\n",
       "      <td>0 days 00:00:00.656299</td>\n",
       "      <td>1e-05</td>\n",
       "      <td>0.5</td>\n",
       "      <td>1000</td>\n",
       "      <td>D:\\Work\\repos\\RL\\phd-rl-algos\\dqn\\opinion_dyna...</td>\n",
       "      <td>0</td>\n",
       "      <td>0000_optim.args_.lr_1e-05__agent_params.args_....</td>\n",
       "    </tr>\n",
       "    <tr>\n",
       "      <th>43</th>\n",
       "      <td>validation</td>\n",
       "      <td>800000</td>\n",
       "      <td>NaN</td>\n",
       "      <td>-8.435255</td>\n",
       "      <td>-8.434969</td>\n",
       "      <td>-8.435128</td>\n",
       "      <td>-8.435122</td>\n",
       "      <td>0.000065</td>\n",
       "      <td>-7.872484</td>\n",
       "      <td>-7.872224</td>\n",
       "      <td>...</td>\n",
       "      <td>2.198242</td>\n",
       "      <td>NaN</td>\n",
       "      <td>NaN</td>\n",
       "      <td>0 days 00:00:00.675093</td>\n",
       "      <td>1e-05</td>\n",
       "      <td>0.5</td>\n",
       "      <td>1000</td>\n",
       "      <td>D:\\Work\\repos\\RL\\phd-rl-algos\\dqn\\opinion_dyna...</td>\n",
       "      <td>0</td>\n",
       "      <td>0000_optim.args_.lr_1e-05__agent_params.args_....</td>\n",
       "    </tr>\n",
       "    <tr>\n",
       "      <th>44</th>\n",
       "      <td>validation</td>\n",
       "      <td>1000000</td>\n",
       "      <td>NaN</td>\n",
       "      <td>-8.221305</td>\n",
       "      <td>-8.220849</td>\n",
       "      <td>-8.221097</td>\n",
       "      <td>-8.221082</td>\n",
       "      <td>0.000104</td>\n",
       "      <td>-7.691052</td>\n",
       "      <td>-7.690646</td>\n",
       "      <td>...</td>\n",
       "      <td>2.191314</td>\n",
       "      <td>NaN</td>\n",
       "      <td>NaN</td>\n",
       "      <td>0 days 00:00:00.651156</td>\n",
       "      <td>1e-05</td>\n",
       "      <td>0.5</td>\n",
       "      <td>1000</td>\n",
       "      <td>D:\\Work\\repos\\RL\\phd-rl-algos\\dqn\\opinion_dyna...</td>\n",
       "      <td>0</td>\n",
       "      <td>0000_optim.args_.lr_1e-05__agent_params.args_....</td>\n",
       "    </tr>\n",
       "    <tr>\n",
       "      <th>...</th>\n",
       "      <td>...</td>\n",
       "      <td>...</td>\n",
       "      <td>...</td>\n",
       "      <td>...</td>\n",
       "      <td>...</td>\n",
       "      <td>...</td>\n",
       "      <td>...</td>\n",
       "      <td>...</td>\n",
       "      <td>...</td>\n",
       "      <td>...</td>\n",
       "      <td>...</td>\n",
       "      <td>...</td>\n",
       "      <td>...</td>\n",
       "      <td>...</td>\n",
       "      <td>...</td>\n",
       "      <td>...</td>\n",
       "      <td>...</td>\n",
       "      <td>...</td>\n",
       "      <td>...</td>\n",
       "      <td>...</td>\n",
       "      <td>...</td>\n",
       "    </tr>\n",
       "    <tr>\n",
       "      <th>635</th>\n",
       "      <td>validation</td>\n",
       "      <td>7200000</td>\n",
       "      <td>NaN</td>\n",
       "      <td>-9.246622</td>\n",
       "      <td>-9.246015</td>\n",
       "      <td>-9.246383</td>\n",
       "      <td>-9.246393</td>\n",
       "      <td>0.000133</td>\n",
       "      <td>-8.551601</td>\n",
       "      <td>-8.551073</td>\n",
       "      <td>...</td>\n",
       "      <td>2.512257</td>\n",
       "      <td>NaN</td>\n",
       "      <td>NaN</td>\n",
       "      <td>0 days 00:00:00.692810</td>\n",
       "      <td>1e-06</td>\n",
       "      <td>0.5</td>\n",
       "      <td>1000</td>\n",
       "      <td>D:\\Work\\repos\\RL\\phd-rl-algos\\dqn\\opinion_dyna...</td>\n",
       "      <td>3</td>\n",
       "      <td>0001_optim.args_.lr_1e-06__agent_params.args_....</td>\n",
       "    </tr>\n",
       "    <tr>\n",
       "      <th>636</th>\n",
       "      <td>validation</td>\n",
       "      <td>7400000</td>\n",
       "      <td>NaN</td>\n",
       "      <td>-9.084847</td>\n",
       "      <td>-9.084632</td>\n",
       "      <td>-9.084729</td>\n",
       "      <td>-9.084722</td>\n",
       "      <td>0.000059</td>\n",
       "      <td>-8.421275</td>\n",
       "      <td>-8.421091</td>\n",
       "      <td>...</td>\n",
       "      <td>2.503589</td>\n",
       "      <td>NaN</td>\n",
       "      <td>NaN</td>\n",
       "      <td>0 days 00:00:00.665032</td>\n",
       "      <td>1e-06</td>\n",
       "      <td>0.5</td>\n",
       "      <td>1000</td>\n",
       "      <td>D:\\Work\\repos\\RL\\phd-rl-algos\\dqn\\opinion_dyna...</td>\n",
       "      <td>3</td>\n",
       "      <td>0001_optim.args_.lr_1e-06__agent_params.args_....</td>\n",
       "    </tr>\n",
       "    <tr>\n",
       "      <th>637</th>\n",
       "      <td>validation</td>\n",
       "      <td>7600000</td>\n",
       "      <td>NaN</td>\n",
       "      <td>-9.272192</td>\n",
       "      <td>-9.271665</td>\n",
       "      <td>-9.271946</td>\n",
       "      <td>-9.271958</td>\n",
       "      <td>0.000138</td>\n",
       "      <td>-8.575289</td>\n",
       "      <td>-8.574835</td>\n",
       "      <td>...</td>\n",
       "      <td>2.493340</td>\n",
       "      <td>NaN</td>\n",
       "      <td>NaN</td>\n",
       "      <td>0 days 00:00:00.666710</td>\n",
       "      <td>1e-06</td>\n",
       "      <td>0.5</td>\n",
       "      <td>1000</td>\n",
       "      <td>D:\\Work\\repos\\RL\\phd-rl-algos\\dqn\\opinion_dyna...</td>\n",
       "      <td>3</td>\n",
       "      <td>0001_optim.args_.lr_1e-06__agent_params.args_....</td>\n",
       "    </tr>\n",
       "    <tr>\n",
       "      <th>638</th>\n",
       "      <td>validation</td>\n",
       "      <td>7800000</td>\n",
       "      <td>NaN</td>\n",
       "      <td>-9.115045</td>\n",
       "      <td>-9.114744</td>\n",
       "      <td>-9.114898</td>\n",
       "      <td>-9.114898</td>\n",
       "      <td>0.000066</td>\n",
       "      <td>-8.446769</td>\n",
       "      <td>-8.446508</td>\n",
       "      <td>...</td>\n",
       "      <td>2.505024</td>\n",
       "      <td>NaN</td>\n",
       "      <td>NaN</td>\n",
       "      <td>0 days 00:00:00.672010</td>\n",
       "      <td>1e-06</td>\n",
       "      <td>0.5</td>\n",
       "      <td>1000</td>\n",
       "      <td>D:\\Work\\repos\\RL\\phd-rl-algos\\dqn\\opinion_dyna...</td>\n",
       "      <td>3</td>\n",
       "      <td>0001_optim.args_.lr_1e-06__agent_params.args_....</td>\n",
       "    </tr>\n",
       "    <tr>\n",
       "      <th>639</th>\n",
       "      <td>validation</td>\n",
       "      <td>8000000</td>\n",
       "      <td>NaN</td>\n",
       "      <td>-9.289221</td>\n",
       "      <td>-9.288533</td>\n",
       "      <td>-9.288827</td>\n",
       "      <td>-9.288811</td>\n",
       "      <td>0.000137</td>\n",
       "      <td>-8.589609</td>\n",
       "      <td>-8.589021</td>\n",
       "      <td>...</td>\n",
       "      <td>2.507733</td>\n",
       "      <td>NaN</td>\n",
       "      <td>NaN</td>\n",
       "      <td>0 days 00:00:00.541124</td>\n",
       "      <td>1e-06</td>\n",
       "      <td>0.5</td>\n",
       "      <td>1000</td>\n",
       "      <td>D:\\Work\\repos\\RL\\phd-rl-algos\\dqn\\opinion_dyna...</td>\n",
       "      <td>3</td>\n",
       "      <td>0001_optim.args_.lr_1e-06__agent_params.args_....</td>\n",
       "    </tr>\n",
       "  </tbody>\n",
       "</table>\n",
       "<p>320 rows × 37 columns</p>\n",
       "</div>"
      ],
      "text/plain": [
       "     epoch_type  frame_stamp  greedy_epsilon  episode_rewards_min  \\\n",
       "40   validation       200000             NaN            -9.099152   \n",
       "41   validation       400000             NaN            -8.917514   \n",
       "42   validation       600000             NaN            -8.690708   \n",
       "43   validation       800000             NaN            -8.435255   \n",
       "44   validation      1000000             NaN            -8.221305   \n",
       "..          ...          ...             ...                  ...   \n",
       "635  validation      7200000             NaN            -9.246622   \n",
       "636  validation      7400000             NaN            -9.084847   \n",
       "637  validation      7600000             NaN            -9.272192   \n",
       "638  validation      7800000             NaN            -9.115045   \n",
       "639  validation      8000000             NaN            -9.289221   \n",
       "\n",
       "     episode_rewards_max  episode_rewards_mean  episode_rewards_median  \\\n",
       "40             -9.098858             -9.098970               -9.098968   \n",
       "41             -8.917047             -8.917266               -8.917273   \n",
       "42             -8.690305             -8.690480               -8.690464   \n",
       "43             -8.434969             -8.435128               -8.435122   \n",
       "44             -8.220849             -8.221097               -8.221082   \n",
       "..                   ...                   ...                     ...   \n",
       "635            -9.246015             -9.246383               -9.246393   \n",
       "636            -9.084632             -9.084729               -9.084722   \n",
       "637            -9.271665             -9.271946               -9.271958   \n",
       "638            -9.114744             -9.114898               -9.114898   \n",
       "639            -9.288533             -9.288827               -9.288811   \n",
       "\n",
       "     episode_rewards_std  episode_discounted_rewards_min  \\\n",
       "40              0.000058                       -8.452794   \n",
       "41              0.000097                       -8.286195   \n",
       "42              0.000085                       -8.103514   \n",
       "43              0.000065                       -7.872484   \n",
       "44              0.000104                       -7.691052   \n",
       "..                   ...                             ...   \n",
       "635             0.000133                       -8.551601   \n",
       "636             0.000059                       -8.421275   \n",
       "637             0.000138                       -8.575289   \n",
       "638             0.000066                       -8.446769   \n",
       "639             0.000137                       -8.589609   \n",
       "\n",
       "     episode_discounted_rewards_max  ...  episode_max_qs_std  \\\n",
       "40                        -8.452534  ...            3.242303   \n",
       "41                        -8.285773  ...            0.346519   \n",
       "42                        -8.103153  ...            2.122870   \n",
       "43                        -7.872224  ...            2.198242   \n",
       "44                        -7.690646  ...            2.191314   \n",
       "..                              ...  ...                 ...   \n",
       "635                       -8.551073  ...            2.512257   \n",
       "636                       -8.421091  ...            2.503589   \n",
       "637                       -8.574835  ...            2.493340   \n",
       "638                       -8.446508  ...            2.505024   \n",
       "639                       -8.589021  ...            2.507733   \n",
       "\n",
       "     policy_trained_times  target_trained_times             epoch_time  \\\n",
       "40                    NaN                   NaN 0 days 00:00:00.638529   \n",
       "41                    NaN                   NaN 0 days 00:00:00.650206   \n",
       "42                    NaN                   NaN 0 days 00:00:00.656299   \n",
       "43                    NaN                   NaN 0 days 00:00:00.675093   \n",
       "44                    NaN                   NaN 0 days 00:00:00.651156   \n",
       "..                    ...                   ...                    ...   \n",
       "635                   NaN                   NaN 0 days 00:00:00.692810   \n",
       "636                   NaN                   NaN 0 days 00:00:00.665032   \n",
       "637                   NaN                   NaN 0 days 00:00:00.666710   \n",
       "638                   NaN                   NaN 0 days 00:00:00.672010   \n",
       "639                   NaN                   NaN 0 days 00:00:00.541124   \n",
       "\n",
       "     sub_exp_cfg_optim.args_.lr  \\\n",
       "40                        1e-05   \n",
       "41                        1e-05   \n",
       "42                        1e-05   \n",
       "43                        1e-05   \n",
       "44                        1e-05   \n",
       "..                          ...   \n",
       "635                       1e-06   \n",
       "636                       1e-06   \n",
       "637                       1e-06   \n",
       "638                       1e-06   \n",
       "639                       1e-06   \n",
       "\n",
       "     sub_exp_cfg_agent_params.args_.action_w_noise_amplitude  \\\n",
       "40                                                 0.5         \n",
       "41                                                 0.5         \n",
       "42                                                 0.5         \n",
       "43                                                 0.5         \n",
       "44                                                 0.5         \n",
       "..                                                 ...         \n",
       "635                                                0.5         \n",
       "636                                                0.5         \n",
       "637                                                0.5         \n",
       "638                                                0.5         \n",
       "639                                                0.5         \n",
       "\n",
       "     sub_exp_cfg_agent_params.args_.target_model_update_freq  \\\n",
       "40                                                1000         \n",
       "41                                                1000         \n",
       "42                                                1000         \n",
       "43                                                1000         \n",
       "44                                                1000         \n",
       "..                                                 ...         \n",
       "635                                               1000         \n",
       "636                                               1000         \n",
       "637                                               1000         \n",
       "638                                               1000         \n",
       "639                                               1000         \n",
       "\n",
       "                                   sub_experiment_path  seed  \\\n",
       "40   D:\\Work\\repos\\RL\\phd-rl-algos\\dqn\\opinion_dyna...     0   \n",
       "41   D:\\Work\\repos\\RL\\phd-rl-algos\\dqn\\opinion_dyna...     0   \n",
       "42   D:\\Work\\repos\\RL\\phd-rl-algos\\dqn\\opinion_dyna...     0   \n",
       "43   D:\\Work\\repos\\RL\\phd-rl-algos\\dqn\\opinion_dyna...     0   \n",
       "44   D:\\Work\\repos\\RL\\phd-rl-algos\\dqn\\opinion_dyna...     0   \n",
       "..                                                 ...   ...   \n",
       "635  D:\\Work\\repos\\RL\\phd-rl-algos\\dqn\\opinion_dyna...     3   \n",
       "636  D:\\Work\\repos\\RL\\phd-rl-algos\\dqn\\opinion_dyna...     3   \n",
       "637  D:\\Work\\repos\\RL\\phd-rl-algos\\dqn\\opinion_dyna...     3   \n",
       "638  D:\\Work\\repos\\RL\\phd-rl-algos\\dqn\\opinion_dyna...     3   \n",
       "639  D:\\Work\\repos\\RL\\phd-rl-algos\\dqn\\opinion_dyna...     3   \n",
       "\n",
       "                                       experiment_name  \n",
       "40   0000_optim.args_.lr_1e-05__agent_params.args_....  \n",
       "41   0000_optim.args_.lr_1e-05__agent_params.args_....  \n",
       "42   0000_optim.args_.lr_1e-05__agent_params.args_....  \n",
       "43   0000_optim.args_.lr_1e-05__agent_params.args_....  \n",
       "44   0000_optim.args_.lr_1e-05__agent_params.args_....  \n",
       "..                                                 ...  \n",
       "635  0001_optim.args_.lr_1e-06__agent_params.args_....  \n",
       "636  0001_optim.args_.lr_1e-06__agent_params.args_....  \n",
       "637  0001_optim.args_.lr_1e-06__agent_params.args_....  \n",
       "638  0001_optim.args_.lr_1e-06__agent_params.args_....  \n",
       "639  0001_optim.args_.lr_1e-06__agent_params.args_....  \n",
       "\n",
       "[320 rows x 37 columns]"
      ]
     },
     "execution_count": 8,
     "metadata": {},
     "output_type": "execute_result"
    }
   ],
   "source": [
    "df[df['epoch_type'] == 'validation']"
   ]
  },
  {
   "cell_type": "code",
   "execution_count": 9,
   "metadata": {},
   "outputs": [
    {
     "name": "stdout",
     "output_type": "stream",
     "text": [
      "Best hyperparameters:\n",
      "sub_exp_cfg_optim.args_.lr                                 1e-05\n",
      "sub_exp_cfg_agent_params.args_.action_w_noise_amplitude      0.5\n",
      "sub_exp_cfg_agent_params.args_.target_model_update_freq     1000\n",
      "Name: 0, dtype: object\n",
      "Best mean reward: -8.100987329633215\n"
     ]
    }
   ],
   "source": [
    "# Define hyperparameter columns\n",
    "hyperparam_columns = [col for col in df.columns if \"sub_exp_cfg\" in col]\n",
    "\n",
    "# Group by hyperparameter values and compute mean episode_rewards_mean\n",
    "averaged_results = df.groupby(hyperparam_columns, as_index=False).agg({\n",
    "    'episode_rewards_mean': 'mean',  # Averaging the performance metric\n",
    "    'sub_experiment_path': 'first'   # Keep a reference to an experiment path\n",
    "})\n",
    "\n",
    "# Find the best hyperparameter set based on the highest mean reward\n",
    "best_row = averaged_results.loc[averaged_results['episode_rewards_mean'].idxmax()]\n",
    "\n",
    "# Print the best experiment path and hyperparameters\n",
    "print(f\"Best hyperparameters:\\n{best_row[hyperparam_columns]}\")\n",
    "print(f\"Best mean reward: {best_row['episode_rewards_mean']}\")"
   ]
  },
  {
   "cell_type": "code",
   "execution_count": 10,
   "metadata": {},
   "outputs": [
    {
     "data": {
      "text/html": [
       "<div>\n",
       "<style scoped>\n",
       "    .dataframe tbody tr th:only-of-type {\n",
       "        vertical-align: middle;\n",
       "    }\n",
       "\n",
       "    .dataframe tbody tr th {\n",
       "        vertical-align: top;\n",
       "    }\n",
       "\n",
       "    .dataframe thead th {\n",
       "        text-align: right;\n",
       "    }\n",
       "</style>\n",
       "<table border=\"1\" class=\"dataframe\">\n",
       "  <thead>\n",
       "    <tr style=\"text-align: right;\">\n",
       "      <th></th>\n",
       "      <th>sub_exp_cfg_optim.args_.lr</th>\n",
       "      <th>sub_exp_cfg_agent_params.args_.action_w_noise_amplitude</th>\n",
       "      <th>sub_exp_cfg_agent_params.args_.target_model_update_freq</th>\n",
       "      <th>episode_rewards_mean</th>\n",
       "      <th>sub_experiment_path</th>\n",
       "    </tr>\n",
       "  </thead>\n",
       "  <tbody>\n",
       "    <tr>\n",
       "      <th>0</th>\n",
       "      <td>1e-05</td>\n",
       "      <td>0.5</td>\n",
       "      <td>1000</td>\n",
       "      <td>-8.100987</td>\n",
       "      <td>D:\\Work\\repos\\RL\\phd-rl-algos\\dqn\\opinion_dyna...</td>\n",
       "    </tr>\n",
       "    <tr>\n",
       "      <th>1</th>\n",
       "      <td>1e-06</td>\n",
       "      <td>0.5</td>\n",
       "      <td>1000</td>\n",
       "      <td>-8.945156</td>\n",
       "      <td>D:\\Work\\repos\\RL\\phd-rl-algos\\dqn\\opinion_dyna...</td>\n",
       "    </tr>\n",
       "  </tbody>\n",
       "</table>\n",
       "</div>"
      ],
      "text/plain": [
       "  sub_exp_cfg_optim.args_.lr  \\\n",
       "0                      1e-05   \n",
       "1                      1e-06   \n",
       "\n",
       "  sub_exp_cfg_agent_params.args_.action_w_noise_amplitude  \\\n",
       "0                                                0.5        \n",
       "1                                                0.5        \n",
       "\n",
       "  sub_exp_cfg_agent_params.args_.target_model_update_freq  \\\n",
       "0                                               1000        \n",
       "1                                               1000        \n",
       "\n",
       "   episode_rewards_mean                                sub_experiment_path  \n",
       "0             -8.100987  D:\\Work\\repos\\RL\\phd-rl-algos\\dqn\\opinion_dyna...  \n",
       "1             -8.945156  D:\\Work\\repos\\RL\\phd-rl-algos\\dqn\\opinion_dyna...  "
      ]
     },
     "execution_count": 10,
     "metadata": {},
     "output_type": "execute_result"
    }
   ],
   "source": [
    "averaged_results"
   ]
  },
  {
   "cell_type": "code",
   "execution_count": 11,
   "metadata": {},
   "outputs": [],
   "source": [
    "# selected_metric = 'episode_rewards_mean'\n",
    "# hue_col = \"sub_exp_cfg_agent_params.args_.action_w_noise_amplitude\"\n",
    "\n",
    "# # Filter for validation episodes\n",
    "# validation_df = df[df['epoch_type'] == 'validation']\n",
    "\n",
    "# # Get the unique sorted frame_stamp values\n",
    "# unique_frames = np.sort(validation_df['frame_stamp'].unique())\n",
    "# N = 1\n",
    "# # Get all frame_stamp values after the first N unique ones\n",
    "# filtered_frames = unique_frames[N:]\n",
    "\n",
    "# # Filter the DataFrame to only include rows with these frame_stamp values\n",
    "# filtered_df = validation_df[validation_df['frame_stamp'].isin(filtered_frames)]\n",
    "\n",
    "# plt.figure(figsize=(10, 6))\n",
    "# sns.lineplot(data=filtered_df, x='frame_stamp', y=selected_metric, hue=hue_col)\n",
    "# plt.ylabel(selected_metric)\n",
    "# plt.xlabel('Frame Stamp')\n",
    "# plt.show()"
   ]
  },
  {
   "cell_type": "code",
   "execution_count": 12,
   "metadata": {},
   "outputs": [
    {
     "data": {
      "image/png": "[encoded data removed]",
      "text/plain": [
       "<Figure size 1000x600 with 1 Axes>"
      ]
     },
     "metadata": {},
     "output_type": "display_data"
    }
   ],
   "source": [
    "\n",
    "selected_metric = 'episode_discounted_rewards_mean'\n",
    "# hue_col = \"sub_exp_cfg_agent_params.args_.action_w_noise_amplitude\"\n",
    "hue_col = \"experiment_name\"\n",
    "\n",
    "validation_df = df[df['epoch_type'] == 'validation']\n",
    "\n",
    "\n",
    "# Create a new figure for each environment\n",
    "plt.figure(figsize=(10, 6))\n",
    "# sns.lineplot(data=df, x='frame_stamp', y=selected_metric, hue='model')\n",
    "sns.lineplot(data=validation_df, x='frame_stamp', y=selected_metric, hue=hue_col)\n",
    "\n",
    "plt.ylabel(selected_metric)\n",
    "plt.xlabel('Frame Stamp')\n",
    "\n",
    "# Place the legend outside the plot\n",
    "plt.legend(loc='center left', bbox_to_anchor=(1.0, 0.5), title='Parameters')\n",
    "plt.show()"
   ]
  },
  {
   "cell_type": "code",
   "execution_count": 13,
   "metadata": {},
   "outputs": [
    {
     "data": {
      "text/plain": [
       "Index(['epoch_type', 'frame_stamp', 'greedy_epsilon', 'episode_rewards_min',\n",
       "       'episode_rewards_max', 'episode_rewards_mean', 'episode_rewards_median',\n",
       "       'episode_rewards_std', 'episode_discounted_rewards_min',\n",
       "       'episode_discounted_rewards_max', 'episode_discounted_rewards_mean',\n",
       "       'episode_discounted_rewards_median', 'episode_discounted_rewards_std',\n",
       "       'episode_frames_min', 'episode_frames_max', 'episode_frames_mean',\n",
       "       'episode_frames_median', 'episode_frames_std', 'episode_losses_min',\n",
       "       'episode_losses_max', 'episode_losses_mean', 'episode_losses_median',\n",
       "       'episode_losses_std', 'episode_max_qs_min', 'episode_max_qs_max',\n",
       "       'episode_max_qs_mean', 'episode_max_qs_median', 'episode_max_qs_std',\n",
       "       'policy_trained_times', 'target_trained_times', 'epoch_time',\n",
       "       'sub_exp_cfg_optim.args_.lr',\n",
       "       'sub_exp_cfg_agent_params.args_.action_w_noise_amplitude',\n",
       "       'sub_exp_cfg_agent_params.args_.target_model_update_freq',\n",
       "       'sub_experiment_path', 'seed', 'experiment_name'],\n",
       "      dtype='object')"
      ]
     },
     "execution_count": 13,
     "metadata": {},
     "output_type": "execute_result"
    }
   ],
   "source": [
    "df.columns"
   ]
  },
  {
   "cell_type": "code",
   "execution_count": 14,
   "metadata": {},
   "outputs": [
    {
     "data": {
      "image/png": "[encoded data removed]",
      "text/plain": [
       "<Figure size 1000x600 with 1 Axes>"
      ]
     },
     "metadata": {},
     "output_type": "display_data"
    }
   ],
   "source": [
    "import matplotlib.pyplot as plt\n",
    "import seaborn as sns\n",
    "\n",
    "selected_metric = 'episode_frames_mean'\n",
    "hue_col = \"experiment_name\"  # or another distinguishing column like \"sub_experiment_path\"\n",
    "\n",
    "validation_df = df[df['epoch_type'] == 'validation']\n",
    "\n",
    "# Plot individual lines for each run\n",
    "plt.figure(figsize=(10, 6))\n",
    "sns.lineplot(\n",
    "    data=validation_df,\n",
    "    x='frame_stamp',\n",
    "    y=selected_metric,\n",
    "    hue=hue_col,\n",
    "    estimator=None,  # ← disables aggregation\n",
    "    units='sub_experiment_path',  # ← groups lines by unique run\n",
    "    lw=1,  # line width\n",
    "    alpha=0.7  # transparency\n",
    ")\n",
    "\n",
    "plt.ylabel(selected_metric)\n",
    "plt.xlabel('Frame Stamp')\n",
    "plt.title('Validation Reward Trajectories (Per Run)')\n",
    "\n",
    "# Move legend outside the plot\n",
    "plt.legend(loc='center left', bbox_to_anchor=(1.0, 0.5), title='Experiment')\n",
    "plt.tight_layout()\n",
    "plt.show()\n"
   ]
  },
  {
   "cell_type": "code",
   "execution_count": 15,
   "metadata": {},
   "outputs": [
    {
     "data": {
      "text/html": [
       "<div>\n",
       "<style scoped>\n",
       "    .dataframe tbody tr th:only-of-type {\n",
       "        vertical-align: middle;\n",
       "    }\n",
       "\n",
       "    .dataframe tbody tr th {\n",
       "        vertical-align: top;\n",
       "    }\n",
       "\n",
       "    .dataframe thead th {\n",
       "        text-align: right;\n",
       "    }\n",
       "</style>\n",
       "<table border=\"1\" class=\"dataframe\">\n",
       "  <thead>\n",
       "    <tr style=\"text-align: right;\">\n",
       "      <th></th>\n",
       "      <th>epoch_type</th>\n",
       "      <th>frame_stamp</th>\n",
       "      <th>episode_rewards_mean</th>\n",
       "      <th>episode_frames_mean</th>\n",
       "      <th>episode_discounted_rewards_mean</th>\n",
       "      <th>policy_trained_times</th>\n",
       "      <th>target_trained_times</th>\n",
       "      <th>epoch_time</th>\n",
       "      <th>seed</th>\n",
       "      <th>experiment_name</th>\n",
       "      <th>sub_experiment_path</th>\n",
       "      <th>sub_exp_cfg_optim.args_.lr</th>\n",
       "      <th>sub_exp_cfg_agent_params.args_.action_w_noise_amplitude</th>\n",
       "      <th>sub_exp_cfg_agent_params.args_.target_model_update_freq</th>\n",
       "    </tr>\n",
       "  </thead>\n",
       "  <tbody>\n",
       "    <tr>\n",
       "      <th>79</th>\n",
       "      <td>validation</td>\n",
       "      <td>8000000</td>\n",
       "      <td>-7.879201</td>\n",
       "      <td>27.0</td>\n",
       "      <td>-7.384217</td>\n",
       "      <td>NaN</td>\n",
       "      <td>NaN</td>\n",
       "      <td>0 days 00:00:00.678516</td>\n",
       "      <td>0</td>\n",
       "      <td>0000_optim.args_.lr_1e-05__agent_params.args_....</td>\n",
       "      <td>D:\\Work\\repos\\RL\\phd-rl-algos\\dqn\\opinion_dyna...</td>\n",
       "      <td>1e-05</td>\n",
       "      <td>0.5</td>\n",
       "      <td>1000</td>\n",
       "    </tr>\n",
       "    <tr>\n",
       "      <th>159</th>\n",
       "      <td>validation</td>\n",
       "      <td>8000000</td>\n",
       "      <td>-7.803319</td>\n",
       "      <td>26.0</td>\n",
       "      <td>-7.323933</td>\n",
       "      <td>NaN</td>\n",
       "      <td>NaN</td>\n",
       "      <td>0 days 00:00:00.486809</td>\n",
       "      <td>1</td>\n",
       "      <td>0000_optim.args_.lr_1e-05__agent_params.args_....</td>\n",
       "      <td>D:\\Work\\repos\\RL\\phd-rl-algos\\dqn\\opinion_dyna...</td>\n",
       "      <td>1e-05</td>\n",
       "      <td>0.5</td>\n",
       "      <td>1000</td>\n",
       "    </tr>\n",
       "    <tr>\n",
       "      <th>239</th>\n",
       "      <td>validation</td>\n",
       "      <td>8000000</td>\n",
       "      <td>-7.924494</td>\n",
       "      <td>27.0</td>\n",
       "      <td>-7.421535</td>\n",
       "      <td>NaN</td>\n",
       "      <td>NaN</td>\n",
       "      <td>0 days 00:00:00.602164</td>\n",
       "      <td>2</td>\n",
       "      <td>0000_optim.args_.lr_1e-05__agent_params.args_....</td>\n",
       "      <td>D:\\Work\\repos\\RL\\phd-rl-algos\\dqn\\opinion_dyna...</td>\n",
       "      <td>1e-05</td>\n",
       "      <td>0.5</td>\n",
       "      <td>1000</td>\n",
       "    </tr>\n",
       "    <tr>\n",
       "      <th>319</th>\n",
       "      <td>validation</td>\n",
       "      <td>8000000</td>\n",
       "      <td>-8.075945</td>\n",
       "      <td>27.0</td>\n",
       "      <td>-7.559504</td>\n",
       "      <td>NaN</td>\n",
       "      <td>NaN</td>\n",
       "      <td>0 days 00:00:00.478102</td>\n",
       "      <td>3</td>\n",
       "      <td>0000_optim.args_.lr_1e-05__agent_params.args_....</td>\n",
       "      <td>D:\\Work\\repos\\RL\\phd-rl-algos\\dqn\\opinion_dyna...</td>\n",
       "      <td>1e-05</td>\n",
       "      <td>0.5</td>\n",
       "      <td>1000</td>\n",
       "    </tr>\n",
       "    <tr>\n",
       "      <th>399</th>\n",
       "      <td>validation</td>\n",
       "      <td>8000000</td>\n",
       "      <td>-8.813936</td>\n",
       "      <td>28.0</td>\n",
       "      <td>-8.206549</td>\n",
       "      <td>NaN</td>\n",
       "      <td>NaN</td>\n",
       "      <td>0 days 00:00:00.418096</td>\n",
       "      <td>0</td>\n",
       "      <td>0001_optim.args_.lr_1e-06__agent_params.args_....</td>\n",
       "      <td>D:\\Work\\repos\\RL\\phd-rl-algos\\dqn\\opinion_dyna...</td>\n",
       "      <td>1e-06</td>\n",
       "      <td>0.5</td>\n",
       "      <td>1000</td>\n",
       "    </tr>\n",
       "    <tr>\n",
       "      <th>479</th>\n",
       "      <td>validation</td>\n",
       "      <td>8000000</td>\n",
       "      <td>-9.173133</td>\n",
       "      <td>31.0</td>\n",
       "      <td>-8.485054</td>\n",
       "      <td>NaN</td>\n",
       "      <td>NaN</td>\n",
       "      <td>0 days 00:00:00.491165</td>\n",
       "      <td>1</td>\n",
       "      <td>0001_optim.args_.lr_1e-06__agent_params.args_....</td>\n",
       "      <td>D:\\Work\\repos\\RL\\phd-rl-algos\\dqn\\opinion_dyna...</td>\n",
       "      <td>1e-06</td>\n",
       "      <td>0.5</td>\n",
       "      <td>1000</td>\n",
       "    </tr>\n",
       "    <tr>\n",
       "      <th>559</th>\n",
       "      <td>validation</td>\n",
       "      <td>8000000</td>\n",
       "      <td>-8.912328</td>\n",
       "      <td>29.0</td>\n",
       "      <td>-8.278309</td>\n",
       "      <td>NaN</td>\n",
       "      <td>NaN</td>\n",
       "      <td>0 days 00:00:00.626361</td>\n",
       "      <td>2</td>\n",
       "      <td>0001_optim.args_.lr_1e-06__agent_params.args_....</td>\n",
       "      <td>D:\\Work\\repos\\RL\\phd-rl-algos\\dqn\\opinion_dyna...</td>\n",
       "      <td>1e-06</td>\n",
       "      <td>0.5</td>\n",
       "      <td>1000</td>\n",
       "    </tr>\n",
       "    <tr>\n",
       "      <th>639</th>\n",
       "      <td>validation</td>\n",
       "      <td>8000000</td>\n",
       "      <td>-9.288827</td>\n",
       "      <td>31.0</td>\n",
       "      <td>-8.589270</td>\n",
       "      <td>NaN</td>\n",
       "      <td>NaN</td>\n",
       "      <td>0 days 00:00:00.541124</td>\n",
       "      <td>3</td>\n",
       "      <td>0001_optim.args_.lr_1e-06__agent_params.args_....</td>\n",
       "      <td>D:\\Work\\repos\\RL\\phd-rl-algos\\dqn\\opinion_dyna...</td>\n",
       "      <td>1e-06</td>\n",
       "      <td>0.5</td>\n",
       "      <td>1000</td>\n",
       "    </tr>\n",
       "  </tbody>\n",
       "</table>\n",
       "</div>"
      ],
      "text/plain": [
       "     epoch_type  frame_stamp  episode_rewards_mean  episode_frames_mean  \\\n",
       "79   validation      8000000             -7.879201                 27.0   \n",
       "159  validation      8000000             -7.803319                 26.0   \n",
       "239  validation      8000000             -7.924494                 27.0   \n",
       "319  validation      8000000             -8.075945                 27.0   \n",
       "399  validation      8000000             -8.813936                 28.0   \n",
       "479  validation      8000000             -9.173133                 31.0   \n",
       "559  validation      8000000             -8.912328                 29.0   \n",
       "639  validation      8000000             -9.288827                 31.0   \n",
       "\n",
       "     episode_discounted_rewards_mean  policy_trained_times  \\\n",
       "79                         -7.384217                   NaN   \n",
       "159                        -7.323933                   NaN   \n",
       "239                        -7.421535                   NaN   \n",
       "319                        -7.559504                   NaN   \n",
       "399                        -8.206549                   NaN   \n",
       "479                        -8.485054                   NaN   \n",
       "559                        -8.278309                   NaN   \n",
       "639                        -8.589270                   NaN   \n",
       "\n",
       "     target_trained_times             epoch_time seed  \\\n",
       "79                    NaN 0 days 00:00:00.678516    0   \n",
       "159                   NaN 0 days 00:00:00.486809    1   \n",
       "239                   NaN 0 days 00:00:00.602164    2   \n",
       "319                   NaN 0 days 00:00:00.478102    3   \n",
       "399                   NaN 0 days 00:00:00.418096    0   \n",
       "479                   NaN 0 days 00:00:00.491165    1   \n",
       "559                   NaN 0 days 00:00:00.626361    2   \n",
       "639                   NaN 0 days 00:00:00.541124    3   \n",
       "\n",
       "                                       experiment_name  \\\n",
       "79   0000_optim.args_.lr_1e-05__agent_params.args_....   \n",
       "159  0000_optim.args_.lr_1e-05__agent_params.args_....   \n",
       "239  0000_optim.args_.lr_1e-05__agent_params.args_....   \n",
       "319  0000_optim.args_.lr_1e-05__agent_params.args_....   \n",
       "399  0001_optim.args_.lr_1e-06__agent_params.args_....   \n",
       "479  0001_optim.args_.lr_1e-06__agent_params.args_....   \n",
       "559  0001_optim.args_.lr_1e-06__agent_params.args_....   \n",
       "639  0001_optim.args_.lr_1e-06__agent_params.args_....   \n",
       "\n",
       "                                   sub_experiment_path  \\\n",
       "79   D:\\Work\\repos\\RL\\phd-rl-algos\\dqn\\opinion_dyna...   \n",
       "159  D:\\Work\\repos\\RL\\phd-rl-algos\\dqn\\opinion_dyna...   \n",
       "239  D:\\Work\\repos\\RL\\phd-rl-algos\\dqn\\opinion_dyna...   \n",
       "319  D:\\Work\\repos\\RL\\phd-rl-algos\\dqn\\opinion_dyna...   \n",
       "399  D:\\Work\\repos\\RL\\phd-rl-algos\\dqn\\opinion_dyna...   \n",
       "479  D:\\Work\\repos\\RL\\phd-rl-algos\\dqn\\opinion_dyna...   \n",
       "559  D:\\Work\\repos\\RL\\phd-rl-algos\\dqn\\opinion_dyna...   \n",
       "639  D:\\Work\\repos\\RL\\phd-rl-algos\\dqn\\opinion_dyna...   \n",
       "\n",
       "    sub_exp_cfg_optim.args_.lr  \\\n",
       "79                       1e-05   \n",
       "159                      1e-05   \n",
       "239                      1e-05   \n",
       "319                      1e-05   \n",
       "399                      1e-06   \n",
       "479                      1e-06   \n",
       "559                      1e-06   \n",
       "639                      1e-06   \n",
       "\n",
       "    sub_exp_cfg_agent_params.args_.action_w_noise_amplitude  \\\n",
       "79                                                 0.5        \n",
       "159                                                0.5        \n",
       "239                                                0.5        \n",
       "319                                                0.5        \n",
       "399                                                0.5        \n",
       "479                                                0.5        \n",
       "559                                                0.5        \n",
       "639                                                0.5        \n",
       "\n",
       "    sub_exp_cfg_agent_params.args_.target_model_update_freq  \n",
       "79                                                1000       \n",
       "159                                               1000       \n",
       "239                                               1000       \n",
       "319                                               1000       \n",
       "399                                               1000       \n",
       "479                                               1000       \n",
       "559                                               1000       \n",
       "639                                               1000       "
      ]
     },
     "execution_count": 15,
     "metadata": {},
     "output_type": "execute_result"
    }
   ],
   "source": [
    "### Select data\n",
    "\n",
    "experiment_columns = [\n",
    "    'epoch_type', 'frame_stamp',\n",
    "    'episode_rewards_mean', 'episode_frames_mean', \n",
    "    'episode_discounted_rewards_mean',\n",
    "    'policy_trained_times', 'target_trained_times', 'epoch_time', \n",
    "       'seed', 'experiment_name', \"sub_experiment_path\"\n",
    "]\n",
    "hyperparam_columns = [\n",
    "   col for col in df.columns if \"sub_exp_cfg\" in col\n",
    "]\n",
    "\n",
    "cols_of_interest = experiment_columns + hyperparam_columns\n",
    "\n",
    "sub_df = df[cols_of_interest]\n",
    "sub_df = sub_df[sub_df['epoch_type'] == 'validation']\n",
    "sub_df = sub_df[sub_df['frame_stamp'] == sub_df['frame_stamp'].max()]\n",
    "\n",
    "sub_df \n"
   ]
  },
  {
   "cell_type": "code",
   "execution_count": 16,
   "metadata": {},
   "outputs": [],
   "source": [
    "# agg_cols = [col for col in sub_df.columns if \"sub_exp_cfg_agent_params\" in col]\n",
    "# aggregated_df = (\n",
    "#     sub_df.groupby(agg_cols)\n",
    "#     .agg(episode_discounted_rewards_mean=(\"episode_discounted_rewards_mean\", \"mean\"))\n",
    "#     .reset_index()\n",
    "# )\n",
    "# aggregated_df"
   ]
  },
  {
   "cell_type": "code",
   "execution_count": 17,
   "metadata": {},
   "outputs": [
    {
     "data": {
      "text/plain": [
       "Index(['epoch_type', 'frame_stamp', 'episode_rewards_mean',\n",
       "       'episode_frames_mean', 'episode_discounted_rewards_mean',\n",
       "       'policy_trained_times', 'target_trained_times', 'epoch_time', 'seed',\n",
       "       'experiment_name', 'sub_experiment_path', 'sub_exp_cfg_optim.args_.lr',\n",
       "       'sub_exp_cfg_agent_params.args_.action_w_noise_amplitude',\n",
       "       'sub_exp_cfg_agent_params.args_.target_model_update_freq'],\n",
       "      dtype='object')"
      ]
     },
     "execution_count": 17,
     "metadata": {},
     "output_type": "execute_result"
    }
   ],
   "source": [
    "sub_df.columns"
   ]
  },
  {
   "cell_type": "code",
   "execution_count": 18,
   "metadata": {},
   "outputs": [],
   "source": [
    "# sub_df[[\n",
    "#     \"episode_discounted_rewards_mean\", \"episode_frames_mean\",\n",
    "#     \"seed\", \"sub_exp_cfg_agent_params.args_.action_w_noise_amplitude\"]\n",
    "# ]"
   ]
  },
  {
   "cell_type": "code",
   "execution_count": 19,
   "metadata": {},
   "outputs": [],
   "source": [
    "# sub_df[\n",
    "#     (sub_df[\"sub_exp_cfg_agent_params.args_.action_w_noise_amplitude\"] == \"0.3\") \n",
    "# ]"
   ]
  },
  {
   "cell_type": "code",
   "execution_count": 20,
   "metadata": {},
   "outputs": [
    {
     "name": "stdout",
     "output_type": "stream",
     "text": [
      "D:\\Work\\repos\\RL\\phd-rl-algos\\dqn\\opinion_dynamics\\experiments\\results\\2025May29-012929_configs\\0000_optim.args_.lr_1e-05__agent_params.args_.action_w_noise_amplitude_0.5__agent_params.args_.target_model_update_freq_1000\\1\n"
     ]
    }
   ],
   "source": [
    "# Print the experiment_name of the row with the highest episode_rewards_mean \n",
    "print(sub_df[sub_df['episode_rewards_mean'] == sub_df['episode_rewards_mean'].max()]['sub_experiment_path'].values[0])\n",
    "# print(sub_df[sub_df['episode_rewards_mean'] == sub_df['episode_rewards_mean'].max()]['experiment_name'].values[0])\n",
    "# print(sub_df[sub_df['episode_rewards_mean'] == sub_df['episode_rewards_mean'].max()]['episode_rewards_mean'].values[0])\n"
   ]
  },
  {
   "cell_type": "code",
   "execution_count": 21,
   "metadata": {},
   "outputs": [
    {
     "data": {
      "image/png": "[encoded data removed]",
      "text/plain": [
       "<Figure size 800x270 with 2 Axes>"
      ]
     },
     "metadata": {},
     "output_type": "display_data"
    }
   ],
   "source": [
    "import shap\n",
    "import xgboost\n",
    "import pandas as pd\n",
    "\n",
    "\n",
    "# Define the target metric and hyperparameter columns\n",
    "target_metric = \"episode_rewards_mean\"  # Replace with actual metric column name\n",
    "# Replace with actual hyperparameter column names\n",
    "\n",
    "# Prepare data\n",
    "X = sub_df[hyperparam_columns].apply(pd.to_numeric, errors='coerce')\n",
    "y = sub_df[target_metric].fillna(3 * sub_df[target_metric].min())\n",
    "\n",
    "# Train an XGBoost model to analyze feature importance\n",
    "model = xgboost.XGBRegressor(objective=\"reg:squarederror\", n_estimators=100, random_state=42)\n",
    "model.fit(X, y)\n",
    "\n",
    "# SHAP analysis\n",
    "explainer = shap.Explainer(model)\n",
    "shap_values = explainer(X)\n",
    "\n",
    "# Summary plot (feature importance)\n",
    "shap.summary_plot(shap_values, X)"
   ]
  },
  {
   "cell_type": "code",
   "execution_count": 22,
   "metadata": {},
   "outputs": [
    {
     "data": {
      "text/plain": [
       "['sub_exp_cfg_optim.args_.lr',\n",
       " 'sub_exp_cfg_agent_params.args_.action_w_noise_amplitude',\n",
       " 'sub_exp_cfg_agent_params.args_.target_model_update_freq']"
      ]
     },
     "execution_count": 22,
     "metadata": {},
     "output_type": "execute_result"
    }
   ],
   "source": [
    "hyperparam_columns"
   ]
  },
  {
   "cell_type": "code",
   "execution_count": 23,
   "metadata": {},
   "outputs": [
    {
     "data": {
      "application/vnd.plotly.v1+json": {
       "config": {
        "plotlyServerURL": "https://plot.ly"
       },
       "data": [
        {
         "hovertemplate": "experiment_name=0000_optim.args_.lr_1e-05__agent_params.args_.action_w_noise_amplitude_0.5__agent_params.args_.target_model_update_freq_1000<br>size=0.5<br>noise=%{x}<br>episode_rewards_mean=%{y}<extra></extra>",
         "legendgroup": "0000_optim.args_.lr_1e-05__agent_params.args_.action_w_noise_amplitude_0.5__agent_params.args_.target_model_update_freq_1000",
         "marker": {
          "color": "#636efa",
          "symbol": "circle"
         },
         "mode": "markers",
         "name": "0000_optim.args_.lr_1e-05__agent_params.args_.action_w_noise_amplitude_0.5__agent_params.args_.target_model_update_freq_1000",
         "orientation": "v",
         "showlegend": true,
         "type": "scatter",
         "x": [
          "1e-05",
          "1e-05",
          "1e-05",
          "1e-05"
         ],
         "xaxis": "x",
         "y": [
          -7.879200949764481,
          -7.803319034168519,
          -7.9244940017674255,
          -8.07594538233495
         ],
         "yaxis": "y"
        },
        {
         "hovertemplate": "experiment_name=0001_optim.args_.lr_1e-06__agent_params.args_.action_w_noise_amplitude_0.5__agent_params.args_.target_model_update_freq_1000<br>size=0.5<br>noise=%{x}<br>episode_rewards_mean=%{y}<extra></extra>",
         "legendgroup": "0001_optim.args_.lr_1e-06__agent_params.args_.action_w_noise_amplitude_0.5__agent_params.args_.target_model_update_freq_1000",
         "marker": {
          "color": "#EF553B",
          "symbol": "circle"
         },
         "mode": "markers",
         "name": "0001_optim.args_.lr_1e-06__agent_params.args_.action_w_noise_amplitude_0.5__agent_params.args_.target_model_update_freq_1000",
         "orientation": "v",
         "showlegend": true,
         "type": "scatter",
         "x": [
          "1e-06",
          "1e-06",
          "1e-06",
          "1e-06"
         ],
         "xaxis": "x",
         "y": [
          -8.81393639059084,
          -9.173132954050951,
          -8.912327516326354,
          -9.288826855311616
         ],
         "yaxis": "y"
        }
       ],
       "layout": {
        "annotations": [
         {
          "font": {},
          "showarrow": false,
          "text": "size=0.5",
          "x": 0.5,
          "xanchor": "center",
          "xref": "paper",
          "y": 1,
          "yanchor": "bottom",
          "yref": "paper"
         }
        ],
        "height": 600,
        "legend": {
         "title": {
          "text": "experiment_name"
         },
         "tracegroupgap": 0
        },
        "showlegend": false,
        "template": {
         "data": {
          "bar": [
           {
            "error_x": {
             "color": "#2a3f5f"
            },
            "error_y": {
             "color": "#2a3f5f"
            },
            "marker": {
             "line": {
              "color": "#E5ECF6",
              "width": 0.5
             },
             "pattern": {
              "fillmode": "overlay",
              "size": 10,
              "solidity": 0.2
             }
            },
            "type": "bar"
           }
          ],
          "barpolar": [
           {
            "marker": {
             "line": {
              "color": "#E5ECF6",
              "width": 0.5
             },
             "pattern": {
              "fillmode": "overlay",
              "size": 10,
              "solidity": 0.2
             }
            },
            "type": "barpolar"
           }
          ],
          "carpet": [
           {
            "aaxis": {
             "endlinecolor": "#2a3f5f",
             "gridcolor": "white",
             "linecolor": "white",
             "minorgridcolor": "white",
             "startlinecolor": "#2a3f5f"
            },
            "baxis": {
             "endlinecolor": "#2a3f5f",
             "gridcolor": "white",
             "linecolor": "white",
             "minorgridcolor": "white",
             "startlinecolor": "#2a3f5f"
            },
            "type": "carpet"
           }
          ],
          "choropleth": [
           {
            "colorbar": {
             "outlinewidth": 0,
             "ticks": ""
            },
            "type": "choropleth"
           }
          ],
          "contour": [
           {
            "colorbar": {
             "outlinewidth": 0,
             "ticks": ""
            },
            "colorscale": [
             [
              0,
              "#0d0887"
             ],
             [
              0.1111111111111111,
              "#46039f"
             ],
             [
              0.2222222222222222,
              "#7201a8"
             ],
             [
              0.3333333333333333,
              "#9c179e"
             ],
             [
              0.4444444444444444,
              "#bd3786"
             ],
             [
              0.5555555555555556,
              "#d8576b"
             ],
             [
              0.6666666666666666,
              "#ed7953"
             ],
             [
              0.7777777777777778,
              "#fb9f3a"
             ],
             [
              0.8888888888888888,
              "#fdca26"
             ],
             [
              1,
              "#f0f921"
             ]
            ],
            "type": "contour"
           }
          ],
          "contourcarpet": [
           {
            "colorbar": {
             "outlinewidth": 0,
             "ticks": ""
            },
            "type": "contourcarpet"
           }
          ],
          "heatmap": [
           {
            "colorbar": {
             "outlinewidth": 0,
             "ticks": ""
            },
            "colorscale": [
             [
              0,
              "#0d0887"
             ],
             [
              0.1111111111111111,
              "#46039f"
             ],
             [
              0.2222222222222222,
              "#7201a8"
             ],
             [
              0.3333333333333333,
              "#9c179e"
             ],
             [
              0.4444444444444444,
              "#bd3786"
             ],
             [
              0.5555555555555556,
              "#d8576b"
             ],
             [
              0.6666666666666666,
              "#ed7953"
             ],
             [
              0.7777777777777778,
              "#fb9f3a"
             ],
             [
              0.8888888888888888,
              "#fdca26"
             ],
             [
              1,
              "#f0f921"
             ]
            ],
            "type": "heatmap"
           }
          ],
          "heatmapgl": [
           {
            "colorbar": {
             "outlinewidth": 0,
             "ticks": ""
            },
            "colorscale": [
             [
              0,
              "#0d0887"
             ],
             [
              0.1111111111111111,
              "#46039f"
             ],
             [
              0.2222222222222222,
              "#7201a8"
             ],
             [
              0.3333333333333333,
              "#9c179e"
             ],
             [
              0.4444444444444444,
              "#bd3786"
             ],
             [
              0.5555555555555556,
              "#d8576b"
             ],
             [
              0.6666666666666666,
              "#ed7953"
             ],
             [
              0.7777777777777778,
              "#fb9f3a"
             ],
             [
              0.8888888888888888,
              "#fdca26"
             ],
             [
              1,
              "#f0f921"
             ]
            ],
            "type": "heatmapgl"
           }
          ],
          "histogram": [
           {
            "marker": {
             "pattern": {
              "fillmode": "overlay",
              "size": 10,
              "solidity": 0.2
             }
            },
            "type": "histogram"
           }
          ],
          "histogram2d": [
           {
            "colorbar": {
             "outlinewidth": 0,
             "ticks": ""
            },
            "colorscale": [
             [
              0,
              "#0d0887"
             ],
             [
              0.1111111111111111,
              "#46039f"
             ],
             [
              0.2222222222222222,
              "#7201a8"
             ],
             [
              0.3333333333333333,
              "#9c179e"
             ],
             [
              0.4444444444444444,
              "#bd3786"
             ],
             [
              0.5555555555555556,
              "#d8576b"
             ],
             [
              0.6666666666666666,
              "#ed7953"
             ],
             [
              0.7777777777777778,
              "#fb9f3a"
             ],
             [
              0.8888888888888888,
              "#fdca26"
             ],
             [
              1,
              "#f0f921"
             ]
            ],
            "type": "histogram2d"
           }
          ],
          "histogram2dcontour": [
           {
            "colorbar": {
             "outlinewidth": 0,
             "ticks": ""
            },
            "colorscale": [
             [
              0,
              "#0d0887"
             ],
             [
              0.1111111111111111,
              "#46039f"
             ],
             [
              0.2222222222222222,
              "#7201a8"
             ],
             [
              0.3333333333333333,
              "#9c179e"
             ],
             [
              0.4444444444444444,
              "#bd3786"
             ],
             [
              0.5555555555555556,
              "#d8576b"
             ],
             [
              0.6666666666666666,
              "#ed7953"
             ],
             [
              0.7777777777777778,
              "#fb9f3a"
             ],
             [
              0.8888888888888888,
              "#fdca26"
             ],
             [
              1,
              "#f0f921"
             ]
            ],
            "type": "histogram2dcontour"
           }
          ],
          "mesh3d": [
           {
            "colorbar": {
             "outlinewidth": 0,
             "ticks": ""
            },
            "type": "mesh3d"
           }
          ],
          "parcoords": [
           {
            "line": {
             "colorbar": {
              "outlinewidth": 0,
              "ticks": ""
             }
            },
            "type": "parcoords"
           }
          ],
          "pie": [
           {
            "automargin": true,
            "type": "pie"
           }
          ],
          "scatter": [
           {
            "fillpattern": {
             "fillmode": "overlay",
             "size": 10,
             "solidity": 0.2
            },
            "type": "scatter"
           }
          ],
          "scatter3d": [
           {
            "line": {
             "colorbar": {
              "outlinewidth": 0,
              "ticks": ""
             }
            },
            "marker": {
             "colorbar": {
              "outlinewidth": 0,
              "ticks": ""
             }
            },
            "type": "scatter3d"
           }
          ],
          "scattercarpet": [
           {
            "marker": {
             "colorbar": {
              "outlinewidth": 0,
              "ticks": ""
             }
            },
            "type": "scattercarpet"
           }
          ],
          "scattergeo": [
           {
            "marker": {
             "colorbar": {
              "outlinewidth": 0,
              "ticks": ""
             }
            },
            "type": "scattergeo"
           }
          ],
          "scattergl": [
           {
            "marker": {
             "colorbar": {
              "outlinewidth": 0,
              "ticks": ""
             }
            },
            "type": "scattergl"
           }
          ],
          "scattermapbox": [
           {
            "marker": {
             "colorbar": {
              "outlinewidth": 0,
              "ticks": ""
             }
            },
            "type": "scattermapbox"
           }
          ],
          "scatterpolar": [
           {
            "marker": {
             "colorbar": {
              "outlinewidth": 0,
              "ticks": ""
             }
            },
            "type": "scatterpolar"
           }
          ],
          "scatterpolargl": [
           {
            "marker": {
             "colorbar": {
              "outlinewidth": 0,
              "ticks": ""
             }
            },
            "type": "scatterpolargl"
           }
          ],
          "scatterternary": [
           {
            "marker": {
             "colorbar": {
              "outlinewidth": 0,
              "ticks": ""
             }
            },
            "type": "scatterternary"
           }
          ],
          "surface": [
           {
            "colorbar": {
             "outlinewidth": 0,
             "ticks": ""
            },
            "colorscale": [
             [
              0,
              "#0d0887"
             ],
             [
              0.1111111111111111,
              "#46039f"
             ],
             [
              0.2222222222222222,
              "#7201a8"
             ],
             [
              0.3333333333333333,
              "#9c179e"
             ],
             [
              0.4444444444444444,
              "#bd3786"
             ],
             [
              0.5555555555555556,
              "#d8576b"
             ],
             [
              0.6666666666666666,
              "#ed7953"
             ],
             [
              0.7777777777777778,
              "#fb9f3a"
             ],
             [
              0.8888888888888888,
              "#fdca26"
             ],
             [
              1,
              "#f0f921"
             ]
            ],
            "type": "surface"
           }
          ],
          "table": [
           {
            "cells": {
             "fill": {
              "color": "#EBF0F8"
             },
             "line": {
              "color": "white"
             }
            },
            "header": {
             "fill": {
              "color": "#C8D4E3"
             },
             "line": {
              "color": "white"
             }
            },
            "type": "table"
           }
          ]
         },
         "layout": {
          "annotationdefaults": {
           "arrowcolor": "#2a3f5f",
           "arrowhead": 0,
           "arrowwidth": 1
          },
          "autotypenumbers": "strict",
          "coloraxis": {
           "colorbar": {
            "outlinewidth": 0,
            "ticks": ""
           }
          },
          "colorscale": {
           "diverging": [
            [
             0,
             "#8e0152"
            ],
            [
             0.1,
             "#c51b7d"
            ],
            [
             0.2,
             "#de77ae"
            ],
            [
             0.3,
             "#f1b6da"
            ],
            [
             0.4,
             "#fde0ef"
            ],
            [
             0.5,
             "#f7f7f7"
            ],
            [
             0.6,
             "#e6f5d0"
            ],
            [
             0.7,
             "#b8e186"
            ],
            [
             0.8,
             "#7fbc41"
            ],
            [
             0.9,
             "#4d9221"
            ],
            [
             1,
             "#276419"
            ]
           ],
           "sequential": [
            [
             0,
             "#0d0887"
            ],
            [
             0.1111111111111111,
             "#46039f"
            ],
            [
             0.2222222222222222,
             "#7201a8"
            ],
            [
             0.3333333333333333,
             "#9c179e"
            ],
            [
             0.4444444444444444,
             "#bd3786"
            ],
            [
             0.5555555555555556,
             "#d8576b"
            ],
            [
             0.6666666666666666,
             "#ed7953"
            ],
            [
             0.7777777777777778,
             "#fb9f3a"
            ],
            [
             0.8888888888888888,
             "#fdca26"
            ],
            [
             1,
             "#f0f921"
            ]
           ],
           "sequentialminus": [
            [
             0,
             "#0d0887"
            ],
            [
             0.1111111111111111,
             "#46039f"
            ],
            [
             0.2222222222222222,
             "#7201a8"
            ],
            [
             0.3333333333333333,
             "#9c179e"
            ],
            [
             0.4444444444444444,
             "#bd3786"
            ],
            [
             0.5555555555555556,
             "#d8576b"
            ],
            [
             0.6666666666666666,
             "#ed7953"
            ],
            [
             0.7777777777777778,
             "#fb9f3a"
            ],
            [
             0.8888888888888888,
             "#fdca26"
            ],
            [
             1,
             "#f0f921"
            ]
           ]
          },
          "colorway": [
           "#636efa",
           "#EF553B",
           "#00cc96",
           "#ab63fa",
           "#FFA15A",
           "#19d3f3",
           "#FF6692",
           "#B6E880",
           "#FF97FF",
           "#FECB52"
          ],
          "font": {
           "color": "#2a3f5f"
          },
          "geo": {
           "bgcolor": "white",
           "lakecolor": "white",
           "landcolor": "#E5ECF6",
           "showlakes": true,
           "showland": true,
           "subunitcolor": "white"
          },
          "hoverlabel": {
           "align": "left"
          },
          "hovermode": "closest",
          "mapbox": {
           "style": "light"
          },
          "paper_bgcolor": "white",
          "plot_bgcolor": "#E5ECF6",
          "polar": {
           "angularaxis": {
            "gridcolor": "white",
            "linecolor": "white",
            "ticks": ""
           },
           "bgcolor": "#E5ECF6",
           "radialaxis": {
            "gridcolor": "white",
            "linecolor": "white",
            "ticks": ""
           }
          },
          "scene": {
           "xaxis": {
            "backgroundcolor": "#E5ECF6",
            "gridcolor": "white",
            "gridwidth": 2,
            "linecolor": "white",
            "showbackground": true,
            "ticks": "",
            "zerolinecolor": "white"
           },
           "yaxis": {
            "backgroundcolor": "#E5ECF6",
            "gridcolor": "white",
            "gridwidth": 2,
            "linecolor": "white",
            "showbackground": true,
            "ticks": "",
            "zerolinecolor": "white"
           },
           "zaxis": {
            "backgroundcolor": "#E5ECF6",
            "gridcolor": "white",
            "gridwidth": 2,
            "linecolor": "white",
            "showbackground": true,
            "ticks": "",
            "zerolinecolor": "white"
           }
          },
          "shapedefaults": {
           "line": {
            "color": "#2a3f5f"
           }
          },
          "ternary": {
           "aaxis": {
            "gridcolor": "white",
            "linecolor": "white",
            "ticks": ""
           },
           "baxis": {
            "gridcolor": "white",
            "linecolor": "white",
            "ticks": ""
           },
           "bgcolor": "#E5ECF6",
           "caxis": {
            "gridcolor": "white",
            "linecolor": "white",
            "ticks": ""
           }
          },
          "title": {
           "x": 0.05
          },
          "xaxis": {
           "automargin": true,
           "gridcolor": "white",
           "linecolor": "white",
           "ticks": "",
           "title": {
            "standoff": 15
           },
           "zerolinecolor": "white",
           "zerolinewidth": 2
          },
          "yaxis": {
           "automargin": true,
           "gridcolor": "white",
           "linecolor": "white",
           "ticks": "",
           "title": {
            "standoff": 15
           },
           "zerolinecolor": "white",
           "zerolinewidth": 2
          }
         }
        },
        "title": {
         "text": "Episode Rewards vs. Noise Faceted by Size"
        },
        "xaxis": {
         "anchor": "y",
         "domain": [
          0,
          1
         ],
         "title": {
          "text": "noise"
         }
        },
        "yaxis": {
         "anchor": "x",
         "domain": [
          0,
          1
         ],
         "title": {
          "text": "episode_rewards_mean"
         }
        }
       }
      }
     },
     "metadata": {},
     "output_type": "display_data"
    }
   ],
   "source": [
    "import plotly.express as px\n",
    "\n",
    "# Define readable names for selected hyperparams\n",
    "readable_names = {\n",
    "    hyperparam_columns[0]: \"noise\",\n",
    "    hyperparam_columns[1]: \"size\"\n",
    "}\n",
    "\n",
    "# Rename columns in a copy of the dataframe\n",
    "plot_df = sub_df.rename(columns=readable_names)\n",
    "\n",
    "# Assign new column names\n",
    "x_col = \"noise\"\n",
    "y_col = \"episode_rewards_mean\"\n",
    "facet_col = \"size\"\n",
    "\n",
    "# Plot\n",
    "fig = px.scatter(\n",
    "    plot_df,\n",
    "    x=x_col,\n",
    "    y=y_col,\n",
    "    color=\"experiment_name\",  # Optional: color by experiment\n",
    "    facet_col=facet_col,\n",
    "    title=\"Episode Rewards vs. Noise Faceted by Size\",\n",
    "    height=600\n",
    ")\n",
    "\n",
    "fig.update_layout(showlegend=False)\n",
    "fig.show()\n"
   ]
  },
  {
   "cell_type": "code",
   "execution_count": null,
   "metadata": {},
   "outputs": [],
   "source": []
  }
 ],
 "metadata": {
  "kernelspec": {
   "display_name": "phd_rl_algos",
   "language": "python",
   "name": "python3"
  },
  "language_info": {
   "codemirror_mode": {
    "name": "ipython",
    "version": 3
   },
   "file_extension": ".py",
   "mimetype": "text/x-python",
   "name": "python",
   "nbconvert_exporter": "python",
   "pygments_lexer": "ipython3",
   "version": "3.11.5"
  }
 },
 "nbformat": 4,
 "nbformat_minor": 2
}
