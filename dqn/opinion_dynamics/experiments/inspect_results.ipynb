{
 "cells": [
  {
   "cell_type": "code",
   "execution_count": 20,
   "metadata": {},
   "outputs": [],
   "source": [
    "import os, sys\n",
    "\n",
    "def get_dir_n_levels_up(path, n):\n",
    "    # Go up n levels from the given path\n",
    "    for _ in range(n):\n",
    "        path = os.path.dirname(path)\n",
    "    return path\n",
    "\n",
    "proj_root = get_dir_n_levels_up(os.path.abspath(\"__file__\"), 4)\n",
    "sys.path.append(proj_root)\n",
    "\n",
    "import pandas as pd\n",
    "import yaml\n",
    "import torch\n",
    "import collections\n",
    "\n",
    "import warnings\n",
    "import numpy as np\n",
    "\n",
    "import seaborn as sns\n",
    "import matplotlib.pyplot as plt\n",
    "sns.set_theme()\n",
    "\n",
    "warnings.filterwarnings(\"ignore\")\n",
    "\n",
    "from dqn.opinion_dynamics.utils.experiment import process_experiment\n"
   ]
  },
  {
   "cell_type": "code",
   "execution_count": 21,
   "metadata": {},
   "outputs": [
    {
     "data": {
      "text/plain": [
       "Index(['epoch_type', 'frame_stamp', 'greedy_epsilon', 'episode_rewards_min',\n",
       "       'episode_rewards_max', 'episode_rewards_mean', 'episode_rewards_median',\n",
       "       'episode_rewards_std', 'episode_discounted_rewards_min',\n",
       "       'episode_discounted_rewards_max', 'episode_discounted_rewards_mean',\n",
       "       'episode_discounted_rewards_median', 'episode_discounted_rewards_std',\n",
       "       'episode_frames_min', 'episode_frames_max', 'episode_frames_mean',\n",
       "       'episode_frames_median', 'episode_frames_std', 'episode_losses_min',\n",
       "       'episode_losses_max', 'episode_losses_mean', 'episode_losses_median',\n",
       "       'episode_losses_std', 'episode_max_qs_min', 'episode_max_qs_max',\n",
       "       'episode_max_qs_mean', 'episode_max_qs_median', 'episode_max_qs_std',\n",
       "       'policy_trained_times', 'target_trained_times', 'epoch_time',\n",
       "       'sub_exp_cfg_agent_params.args_.action_w_noise_amplitude',\n",
       "       'sub_exp_cfg_experiment_run_name', 'sub_experiment_path', 'seed',\n",
       "       'experiment_name'],\n",
       "      dtype='object')"
      ]
     },
     "execution_count": 21,
     "metadata": {},
     "output_type": "execute_result"
    }
   ],
   "source": [
    "# experiment_sub_dir = \"2025May02-101004_configs\" # excellent run\n",
    "experiment_sub_dir = \"2025May15-235344_configs\"\n",
    "\n",
    "exp_path = os.path.join(r\"D:\\Work\\repos\\RL\\phd-rl-algos\\dqn\\opinion_dynamics\\experiments\\results\", experiment_sub_dir)\n",
    "df = process_experiment(\n",
    "    exp_path\n",
    ")\n",
    "df.columns\n"
   ]
  },
  {
   "cell_type": "code",
   "execution_count": 22,
   "metadata": {},
   "outputs": [
    {
     "data": {
      "text/html": [
       "<div>\n",
       "<style scoped>\n",
       "    .dataframe tbody tr th:only-of-type {\n",
       "        vertical-align: middle;\n",
       "    }\n",
       "\n",
       "    .dataframe tbody tr th {\n",
       "        vertical-align: top;\n",
       "    }\n",
       "\n",
       "    .dataframe thead th {\n",
       "        text-align: right;\n",
       "    }\n",
       "</style>\n",
       "<table border=\"1\" class=\"dataframe\">\n",
       "  <thead>\n",
       "    <tr style=\"text-align: right;\">\n",
       "      <th></th>\n",
       "      <th>epoch_type</th>\n",
       "      <th>frame_stamp</th>\n",
       "      <th>greedy_epsilon</th>\n",
       "      <th>episode_rewards_min</th>\n",
       "      <th>episode_rewards_max</th>\n",
       "      <th>episode_rewards_mean</th>\n",
       "      <th>episode_rewards_median</th>\n",
       "      <th>episode_rewards_std</th>\n",
       "      <th>episode_discounted_rewards_min</th>\n",
       "      <th>episode_discounted_rewards_max</th>\n",
       "      <th>...</th>\n",
       "      <th>episode_max_qs_median</th>\n",
       "      <th>episode_max_qs_std</th>\n",
       "      <th>policy_trained_times</th>\n",
       "      <th>target_trained_times</th>\n",
       "      <th>epoch_time</th>\n",
       "      <th>sub_exp_cfg_agent_params.args_.action_w_noise_amplitude</th>\n",
       "      <th>sub_exp_cfg_experiment_run_name</th>\n",
       "      <th>sub_experiment_path</th>\n",
       "      <th>seed</th>\n",
       "      <th>experiment_name</th>\n",
       "    </tr>\n",
       "  </thead>\n",
       "  <tbody>\n",
       "    <tr>\n",
       "      <th>0</th>\n",
       "      <td>training</td>\n",
       "      <td>200000</td>\n",
       "      <td>0.9571</td>\n",
       "      <td>-59.425863</td>\n",
       "      <td>-56.423675</td>\n",
       "      <td>-58.534439</td>\n",
       "      <td>-58.649611</td>\n",
       "      <td>4.341050e-01</td>\n",
       "      <td>-7.721721</td>\n",
       "      <td>-7.651570</td>\n",
       "      <td>...</td>\n",
       "      <td>8.974988e+02</td>\n",
       "      <td>3.185420e+03</td>\n",
       "      <td>48749.0</td>\n",
       "      <td>48.0</td>\n",
       "      <td>0 days 00:04:23.270727</td>\n",
       "      <td>0.3</td>\n",
       "      <td>best_params</td>\n",
       "      <td>D:\\Work\\repos\\RL\\phd-rl-algos\\dqn\\opinion_dyna...</td>\n",
       "      <td>0</td>\n",
       "      <td>0000_agent_params.args_.action_w_noise_amplitu...</td>\n",
       "    </tr>\n",
       "    <tr>\n",
       "      <th>1</th>\n",
       "      <td>training</td>\n",
       "      <td>400000</td>\n",
       "      <td>0.9131</td>\n",
       "      <td>-59.907434</td>\n",
       "      <td>-55.997911</td>\n",
       "      <td>-58.081587</td>\n",
       "      <td>-57.448025</td>\n",
       "      <td>1.160923e+00</td>\n",
       "      <td>-7.730830</td>\n",
       "      <td>-7.591592</td>\n",
       "      <td>...</td>\n",
       "      <td>7.952298e+02</td>\n",
       "      <td>3.841268e+03</td>\n",
       "      <td>50000.0</td>\n",
       "      <td>48.0</td>\n",
       "      <td>0 days 00:05:05.956890</td>\n",
       "      <td>0.3</td>\n",
       "      <td>best_params</td>\n",
       "      <td>D:\\Work\\repos\\RL\\phd-rl-algos\\dqn\\opinion_dyna...</td>\n",
       "      <td>0</td>\n",
       "      <td>0000_agent_params.args_.action_w_noise_amplitu...</td>\n",
       "    </tr>\n",
       "    <tr>\n",
       "      <th>2</th>\n",
       "      <td>training</td>\n",
       "      <td>600000</td>\n",
       "      <td>0.8691</td>\n",
       "      <td>-60.705978</td>\n",
       "      <td>-59.097221</td>\n",
       "      <td>-59.986678</td>\n",
       "      <td>-59.948196</td>\n",
       "      <td>3.512267e-01</td>\n",
       "      <td>-7.733963</td>\n",
       "      <td>-7.706053</td>\n",
       "      <td>...</td>\n",
       "      <td>7.509506e+02</td>\n",
       "      <td>3.839663e+03</td>\n",
       "      <td>50000.0</td>\n",
       "      <td>52.0</td>\n",
       "      <td>0 days 00:05:13.908062</td>\n",
       "      <td>0.3</td>\n",
       "      <td>best_params</td>\n",
       "      <td>D:\\Work\\repos\\RL\\phd-rl-algos\\dqn\\opinion_dyna...</td>\n",
       "      <td>0</td>\n",
       "      <td>0000_agent_params.args_.action_w_noise_amplitu...</td>\n",
       "    </tr>\n",
       "    <tr>\n",
       "      <th>3</th>\n",
       "      <td>training</td>\n",
       "      <td>800000</td>\n",
       "      <td>0.8251</td>\n",
       "      <td>-61.814907</td>\n",
       "      <td>-59.855408</td>\n",
       "      <td>-60.900272</td>\n",
       "      <td>-60.902264</td>\n",
       "      <td>3.717206e-01</td>\n",
       "      <td>-7.736012</td>\n",
       "      <td>-7.714422</td>\n",
       "      <td>...</td>\n",
       "      <td>6.629226e+02</td>\n",
       "      <td>2.970255e+03</td>\n",
       "      <td>50000.0</td>\n",
       "      <td>48.0</td>\n",
       "      <td>0 days 00:05:06.564855</td>\n",
       "      <td>0.3</td>\n",
       "      <td>best_params</td>\n",
       "      <td>D:\\Work\\repos\\RL\\phd-rl-algos\\dqn\\opinion_dyna...</td>\n",
       "      <td>0</td>\n",
       "      <td>0000_agent_params.args_.action_w_noise_amplitu...</td>\n",
       "    </tr>\n",
       "    <tr>\n",
       "      <th>4</th>\n",
       "      <td>training</td>\n",
       "      <td>1000000</td>\n",
       "      <td>0.7811</td>\n",
       "      <td>-61.988426</td>\n",
       "      <td>-60.485816</td>\n",
       "      <td>-61.394583</td>\n",
       "      <td>-61.396612</td>\n",
       "      <td>3.002265e-01</td>\n",
       "      <td>-7.736179</td>\n",
       "      <td>-7.709586</td>\n",
       "      <td>...</td>\n",
       "      <td>5.032853e+02</td>\n",
       "      <td>2.215015e+03</td>\n",
       "      <td>50000.0</td>\n",
       "      <td>52.0</td>\n",
       "      <td>0 days 00:05:11.752375</td>\n",
       "      <td>0.3</td>\n",
       "      <td>best_params</td>\n",
       "      <td>D:\\Work\\repos\\RL\\phd-rl-algos\\dqn\\opinion_dyna...</td>\n",
       "      <td>0</td>\n",
       "      <td>0000_agent_params.args_.action_w_noise_amplitu...</td>\n",
       "    </tr>\n",
       "    <tr>\n",
       "      <th>...</th>\n",
       "      <td>...</td>\n",
       "      <td>...</td>\n",
       "      <td>...</td>\n",
       "      <td>...</td>\n",
       "      <td>...</td>\n",
       "      <td>...</td>\n",
       "      <td>...</td>\n",
       "      <td>...</td>\n",
       "      <td>...</td>\n",
       "      <td>...</td>\n",
       "      <td>...</td>\n",
       "      <td>...</td>\n",
       "      <td>...</td>\n",
       "      <td>...</td>\n",
       "      <td>...</td>\n",
       "      <td>...</td>\n",
       "      <td>...</td>\n",
       "      <td>...</td>\n",
       "      <td>...</td>\n",
       "      <td>...</td>\n",
       "      <td>...</td>\n",
       "    </tr>\n",
       "    <tr>\n",
       "      <th>355</th>\n",
       "      <td>validation</td>\n",
       "      <td>5200000</td>\n",
       "      <td>NaN</td>\n",
       "      <td>-59.626840</td>\n",
       "      <td>-59.626840</td>\n",
       "      <td>-59.626840</td>\n",
       "      <td>-59.626840</td>\n",
       "      <td>7.105427e-15</td>\n",
       "      <td>-8.022435</td>\n",
       "      <td>-8.022435</td>\n",
       "      <td>...</td>\n",
       "      <td>6.399556e+06</td>\n",
       "      <td>4.344584e+06</td>\n",
       "      <td>NaN</td>\n",
       "      <td>NaN</td>\n",
       "      <td>0 days 00:00:00.651817</td>\n",
       "      <td>0.8</td>\n",
       "      <td>best_params</td>\n",
       "      <td>D:\\Work\\repos\\RL\\phd-rl-algos\\dqn\\opinion_dyna...</td>\n",
       "      <td>2</td>\n",
       "      <td>0001_agent_params.args_.action_w_noise_amplitu...</td>\n",
       "    </tr>\n",
       "    <tr>\n",
       "      <th>356</th>\n",
       "      <td>validation</td>\n",
       "      <td>5400000</td>\n",
       "      <td>NaN</td>\n",
       "      <td>-58.894808</td>\n",
       "      <td>-58.894808</td>\n",
       "      <td>-58.894808</td>\n",
       "      <td>-58.894808</td>\n",
       "      <td>0.000000e+00</td>\n",
       "      <td>-8.061083</td>\n",
       "      <td>-8.061083</td>\n",
       "      <td>...</td>\n",
       "      <td>7.723262e+06</td>\n",
       "      <td>4.557544e+06</td>\n",
       "      <td>NaN</td>\n",
       "      <td>NaN</td>\n",
       "      <td>0 days 00:00:00.622448</td>\n",
       "      <td>0.8</td>\n",
       "      <td>best_params</td>\n",
       "      <td>D:\\Work\\repos\\RL\\phd-rl-algos\\dqn\\opinion_dyna...</td>\n",
       "      <td>2</td>\n",
       "      <td>0001_agent_params.args_.action_w_noise_amplitu...</td>\n",
       "    </tr>\n",
       "    <tr>\n",
       "      <th>357</th>\n",
       "      <td>validation</td>\n",
       "      <td>5600000</td>\n",
       "      <td>NaN</td>\n",
       "      <td>-60.142229</td>\n",
       "      <td>-60.142229</td>\n",
       "      <td>-60.142229</td>\n",
       "      <td>-60.142229</td>\n",
       "      <td>7.105427e-15</td>\n",
       "      <td>-8.044090</td>\n",
       "      <td>-8.044090</td>\n",
       "      <td>...</td>\n",
       "      <td>1.020371e+07</td>\n",
       "      <td>3.340978e+06</td>\n",
       "      <td>NaN</td>\n",
       "      <td>NaN</td>\n",
       "      <td>0 days 00:00:00.651916</td>\n",
       "      <td>0.8</td>\n",
       "      <td>best_params</td>\n",
       "      <td>D:\\Work\\repos\\RL\\phd-rl-algos\\dqn\\opinion_dyna...</td>\n",
       "      <td>2</td>\n",
       "      <td>0001_agent_params.args_.action_w_noise_amplitu...</td>\n",
       "    </tr>\n",
       "    <tr>\n",
       "      <th>358</th>\n",
       "      <td>validation</td>\n",
       "      <td>5800000</td>\n",
       "      <td>NaN</td>\n",
       "      <td>-60.358756</td>\n",
       "      <td>-60.358756</td>\n",
       "      <td>-60.358756</td>\n",
       "      <td>-60.358756</td>\n",
       "      <td>0.000000e+00</td>\n",
       "      <td>-8.052621</td>\n",
       "      <td>-8.052621</td>\n",
       "      <td>...</td>\n",
       "      <td>1.095454e+07</td>\n",
       "      <td>3.108932e+06</td>\n",
       "      <td>NaN</td>\n",
       "      <td>NaN</td>\n",
       "      <td>0 days 00:00:00.648534</td>\n",
       "      <td>0.8</td>\n",
       "      <td>best_params</td>\n",
       "      <td>D:\\Work\\repos\\RL\\phd-rl-algos\\dqn\\opinion_dyna...</td>\n",
       "      <td>2</td>\n",
       "      <td>0001_agent_params.args_.action_w_noise_amplitu...</td>\n",
       "    </tr>\n",
       "    <tr>\n",
       "      <th>359</th>\n",
       "      <td>validation</td>\n",
       "      <td>6000000</td>\n",
       "      <td>NaN</td>\n",
       "      <td>-59.714581</td>\n",
       "      <td>-59.714581</td>\n",
       "      <td>-59.714581</td>\n",
       "      <td>-59.714581</td>\n",
       "      <td>1.421085e-14</td>\n",
       "      <td>-8.001900</td>\n",
       "      <td>-8.001900</td>\n",
       "      <td>...</td>\n",
       "      <td>1.005138e+07</td>\n",
       "      <td>4.317770e+06</td>\n",
       "      <td>NaN</td>\n",
       "      <td>NaN</td>\n",
       "      <td>0 days 00:00:00.461043</td>\n",
       "      <td>0.8</td>\n",
       "      <td>best_params</td>\n",
       "      <td>D:\\Work\\repos\\RL\\phd-rl-algos\\dqn\\opinion_dyna...</td>\n",
       "      <td>2</td>\n",
       "      <td>0001_agent_params.args_.action_w_noise_amplitu...</td>\n",
       "    </tr>\n",
       "  </tbody>\n",
       "</table>\n",
       "<p>360 rows × 36 columns</p>\n",
       "</div>"
      ],
      "text/plain": [
       "     epoch_type  frame_stamp  greedy_epsilon  episode_rewards_min  \\\n",
       "0      training       200000          0.9571           -59.425863   \n",
       "1      training       400000          0.9131           -59.907434   \n",
       "2      training       600000          0.8691           -60.705978   \n",
       "3      training       800000          0.8251           -61.814907   \n",
       "4      training      1000000          0.7811           -61.988426   \n",
       "..          ...          ...             ...                  ...   \n",
       "355  validation      5200000             NaN           -59.626840   \n",
       "356  validation      5400000             NaN           -58.894808   \n",
       "357  validation      5600000             NaN           -60.142229   \n",
       "358  validation      5800000             NaN           -60.358756   \n",
       "359  validation      6000000             NaN           -59.714581   \n",
       "\n",
       "     episode_rewards_max  episode_rewards_mean  episode_rewards_median  \\\n",
       "0             -56.423675            -58.534439              -58.649611   \n",
       "1             -55.997911            -58.081587              -57.448025   \n",
       "2             -59.097221            -59.986678              -59.948196   \n",
       "3             -59.855408            -60.900272              -60.902264   \n",
       "4             -60.485816            -61.394583              -61.396612   \n",
       "..                   ...                   ...                     ...   \n",
       "355           -59.626840            -59.626840              -59.626840   \n",
       "356           -58.894808            -58.894808              -58.894808   \n",
       "357           -60.142229            -60.142229              -60.142229   \n",
       "358           -60.358756            -60.358756              -60.358756   \n",
       "359           -59.714581            -59.714581              -59.714581   \n",
       "\n",
       "     episode_rewards_std  episode_discounted_rewards_min  \\\n",
       "0           4.341050e-01                       -7.721721   \n",
       "1           1.160923e+00                       -7.730830   \n",
       "2           3.512267e-01                       -7.733963   \n",
       "3           3.717206e-01                       -7.736012   \n",
       "4           3.002265e-01                       -7.736179   \n",
       "..                   ...                             ...   \n",
       "355         7.105427e-15                       -8.022435   \n",
       "356         0.000000e+00                       -8.061083   \n",
       "357         7.105427e-15                       -8.044090   \n",
       "358         0.000000e+00                       -8.052621   \n",
       "359         1.421085e-14                       -8.001900   \n",
       "\n",
       "     episode_discounted_rewards_max  ...  episode_max_qs_median  \\\n",
       "0                         -7.651570  ...           8.974988e+02   \n",
       "1                         -7.591592  ...           7.952298e+02   \n",
       "2                         -7.706053  ...           7.509506e+02   \n",
       "3                         -7.714422  ...           6.629226e+02   \n",
       "4                         -7.709586  ...           5.032853e+02   \n",
       "..                              ...  ...                    ...   \n",
       "355                       -8.022435  ...           6.399556e+06   \n",
       "356                       -8.061083  ...           7.723262e+06   \n",
       "357                       -8.044090  ...           1.020371e+07   \n",
       "358                       -8.052621  ...           1.095454e+07   \n",
       "359                       -8.001900  ...           1.005138e+07   \n",
       "\n",
       "     episode_max_qs_std  policy_trained_times  target_trained_times  \\\n",
       "0          3.185420e+03               48749.0                  48.0   \n",
       "1          3.841268e+03               50000.0                  48.0   \n",
       "2          3.839663e+03               50000.0                  52.0   \n",
       "3          2.970255e+03               50000.0                  48.0   \n",
       "4          2.215015e+03               50000.0                  52.0   \n",
       "..                  ...                   ...                   ...   \n",
       "355        4.344584e+06                   NaN                   NaN   \n",
       "356        4.557544e+06                   NaN                   NaN   \n",
       "357        3.340978e+06                   NaN                   NaN   \n",
       "358        3.108932e+06                   NaN                   NaN   \n",
       "359        4.317770e+06                   NaN                   NaN   \n",
       "\n",
       "                epoch_time  \\\n",
       "0   0 days 00:04:23.270727   \n",
       "1   0 days 00:05:05.956890   \n",
       "2   0 days 00:05:13.908062   \n",
       "3   0 days 00:05:06.564855   \n",
       "4   0 days 00:05:11.752375   \n",
       "..                     ...   \n",
       "355 0 days 00:00:00.651817   \n",
       "356 0 days 00:00:00.622448   \n",
       "357 0 days 00:00:00.651916   \n",
       "358 0 days 00:00:00.648534   \n",
       "359 0 days 00:00:00.461043   \n",
       "\n",
       "     sub_exp_cfg_agent_params.args_.action_w_noise_amplitude  \\\n",
       "0                                                  0.3         \n",
       "1                                                  0.3         \n",
       "2                                                  0.3         \n",
       "3                                                  0.3         \n",
       "4                                                  0.3         \n",
       "..                                                 ...         \n",
       "355                                                0.8         \n",
       "356                                                0.8         \n",
       "357                                                0.8         \n",
       "358                                                0.8         \n",
       "359                                                0.8         \n",
       "\n",
       "     sub_exp_cfg_experiment_run_name  \\\n",
       "0                        best_params   \n",
       "1                        best_params   \n",
       "2                        best_params   \n",
       "3                        best_params   \n",
       "4                        best_params   \n",
       "..                               ...   \n",
       "355                      best_params   \n",
       "356                      best_params   \n",
       "357                      best_params   \n",
       "358                      best_params   \n",
       "359                      best_params   \n",
       "\n",
       "                                   sub_experiment_path  seed  \\\n",
       "0    D:\\Work\\repos\\RL\\phd-rl-algos\\dqn\\opinion_dyna...     0   \n",
       "1    D:\\Work\\repos\\RL\\phd-rl-algos\\dqn\\opinion_dyna...     0   \n",
       "2    D:\\Work\\repos\\RL\\phd-rl-algos\\dqn\\opinion_dyna...     0   \n",
       "3    D:\\Work\\repos\\RL\\phd-rl-algos\\dqn\\opinion_dyna...     0   \n",
       "4    D:\\Work\\repos\\RL\\phd-rl-algos\\dqn\\opinion_dyna...     0   \n",
       "..                                                 ...   ...   \n",
       "355  D:\\Work\\repos\\RL\\phd-rl-algos\\dqn\\opinion_dyna...     2   \n",
       "356  D:\\Work\\repos\\RL\\phd-rl-algos\\dqn\\opinion_dyna...     2   \n",
       "357  D:\\Work\\repos\\RL\\phd-rl-algos\\dqn\\opinion_dyna...     2   \n",
       "358  D:\\Work\\repos\\RL\\phd-rl-algos\\dqn\\opinion_dyna...     2   \n",
       "359  D:\\Work\\repos\\RL\\phd-rl-algos\\dqn\\opinion_dyna...     2   \n",
       "\n",
       "                                       experiment_name  \n",
       "0    0000_agent_params.args_.action_w_noise_amplitu...  \n",
       "1    0000_agent_params.args_.action_w_noise_amplitu...  \n",
       "2    0000_agent_params.args_.action_w_noise_amplitu...  \n",
       "3    0000_agent_params.args_.action_w_noise_amplitu...  \n",
       "4    0000_agent_params.args_.action_w_noise_amplitu...  \n",
       "..                                                 ...  \n",
       "355  0001_agent_params.args_.action_w_noise_amplitu...  \n",
       "356  0001_agent_params.args_.action_w_noise_amplitu...  \n",
       "357  0001_agent_params.args_.action_w_noise_amplitu...  \n",
       "358  0001_agent_params.args_.action_w_noise_amplitu...  \n",
       "359  0001_agent_params.args_.action_w_noise_amplitu...  \n",
       "\n",
       "[360 rows x 36 columns]"
      ]
     },
     "execution_count": 22,
     "metadata": {},
     "output_type": "execute_result"
    }
   ],
   "source": [
    "df"
   ]
  },
  {
   "cell_type": "code",
   "execution_count": 23,
   "metadata": {},
   "outputs": [
    {
     "data": {
      "text/html": [
       "<div>\n",
       "<style scoped>\n",
       "    .dataframe tbody tr th:only-of-type {\n",
       "        vertical-align: middle;\n",
       "    }\n",
       "\n",
       "    .dataframe tbody tr th {\n",
       "        vertical-align: top;\n",
       "    }\n",
       "\n",
       "    .dataframe thead th {\n",
       "        text-align: right;\n",
       "    }\n",
       "</style>\n",
       "<table border=\"1\" class=\"dataframe\">\n",
       "  <thead>\n",
       "    <tr style=\"text-align: right;\">\n",
       "      <th></th>\n",
       "      <th>epoch_type</th>\n",
       "      <th>frame_stamp</th>\n",
       "      <th>greedy_epsilon</th>\n",
       "      <th>episode_rewards_min</th>\n",
       "      <th>episode_rewards_max</th>\n",
       "      <th>episode_rewards_mean</th>\n",
       "      <th>episode_rewards_median</th>\n",
       "      <th>episode_rewards_std</th>\n",
       "      <th>episode_discounted_rewards_min</th>\n",
       "      <th>episode_discounted_rewards_max</th>\n",
       "      <th>...</th>\n",
       "      <th>episode_max_qs_median</th>\n",
       "      <th>episode_max_qs_std</th>\n",
       "      <th>policy_trained_times</th>\n",
       "      <th>target_trained_times</th>\n",
       "      <th>epoch_time</th>\n",
       "      <th>sub_exp_cfg_agent_params.args_.action_w_noise_amplitude</th>\n",
       "      <th>sub_exp_cfg_experiment_run_name</th>\n",
       "      <th>sub_experiment_path</th>\n",
       "      <th>seed</th>\n",
       "      <th>experiment_name</th>\n",
       "    </tr>\n",
       "  </thead>\n",
       "  <tbody>\n",
       "    <tr>\n",
       "      <th>30</th>\n",
       "      <td>validation</td>\n",
       "      <td>200000</td>\n",
       "      <td>NaN</td>\n",
       "      <td>-57.107157</td>\n",
       "      <td>-57.107155</td>\n",
       "      <td>-57.107156</td>\n",
       "      <td>-57.107156</td>\n",
       "      <td>7.733048e-07</td>\n",
       "      <td>-7.663146</td>\n",
       "      <td>-7.663146</td>\n",
       "      <td>...</td>\n",
       "      <td>8.416898e+02</td>\n",
       "      <td>3.576675e+03</td>\n",
       "      <td>NaN</td>\n",
       "      <td>NaN</td>\n",
       "      <td>0 days 00:00:00.622508</td>\n",
       "      <td>0.3</td>\n",
       "      <td>best_params</td>\n",
       "      <td>D:\\Work\\repos\\RL\\phd-rl-algos\\dqn\\opinion_dyna...</td>\n",
       "      <td>0</td>\n",
       "      <td>0000_agent_params.args_.action_w_noise_amplitu...</td>\n",
       "    </tr>\n",
       "    <tr>\n",
       "      <th>31</th>\n",
       "      <td>validation</td>\n",
       "      <td>400000</td>\n",
       "      <td>NaN</td>\n",
       "      <td>-59.516756</td>\n",
       "      <td>-59.516654</td>\n",
       "      <td>-59.516691</td>\n",
       "      <td>-59.516685</td>\n",
       "      <td>3.460234e-05</td>\n",
       "      <td>-7.724893</td>\n",
       "      <td>-7.724892</td>\n",
       "      <td>...</td>\n",
       "      <td>7.767235e+02</td>\n",
       "      <td>4.221925e+03</td>\n",
       "      <td>NaN</td>\n",
       "      <td>NaN</td>\n",
       "      <td>0 days 00:00:00.688570</td>\n",
       "      <td>0.3</td>\n",
       "      <td>best_params</td>\n",
       "      <td>D:\\Work\\repos\\RL\\phd-rl-algos\\dqn\\opinion_dyna...</td>\n",
       "      <td>0</td>\n",
       "      <td>0000_agent_params.args_.action_w_noise_amplitu...</td>\n",
       "    </tr>\n",
       "    <tr>\n",
       "      <th>32</th>\n",
       "      <td>validation</td>\n",
       "      <td>600000</td>\n",
       "      <td>NaN</td>\n",
       "      <td>-60.525463</td>\n",
       "      <td>-60.525324</td>\n",
       "      <td>-60.525411</td>\n",
       "      <td>-60.525408</td>\n",
       "      <td>4.424222e-05</td>\n",
       "      <td>-7.733724</td>\n",
       "      <td>-7.733724</td>\n",
       "      <td>...</td>\n",
       "      <td>7.209328e+02</td>\n",
       "      <td>3.333473e+03</td>\n",
       "      <td>NaN</td>\n",
       "      <td>NaN</td>\n",
       "      <td>0 days 00:00:00.620916</td>\n",
       "      <td>0.3</td>\n",
       "      <td>best_params</td>\n",
       "      <td>D:\\Work\\repos\\RL\\phd-rl-algos\\dqn\\opinion_dyna...</td>\n",
       "      <td>0</td>\n",
       "      <td>0000_agent_params.args_.action_w_noise_amplitu...</td>\n",
       "    </tr>\n",
       "    <tr>\n",
       "      <th>33</th>\n",
       "      <td>validation</td>\n",
       "      <td>800000</td>\n",
       "      <td>NaN</td>\n",
       "      <td>-61.449545</td>\n",
       "      <td>-61.449481</td>\n",
       "      <td>-61.449521</td>\n",
       "      <td>-61.449523</td>\n",
       "      <td>1.989512e-05</td>\n",
       "      <td>-7.730426</td>\n",
       "      <td>-7.730426</td>\n",
       "      <td>...</td>\n",
       "      <td>5.687392e+02</td>\n",
       "      <td>2.481341e+03</td>\n",
       "      <td>NaN</td>\n",
       "      <td>NaN</td>\n",
       "      <td>0 days 00:00:00.632127</td>\n",
       "      <td>0.3</td>\n",
       "      <td>best_params</td>\n",
       "      <td>D:\\Work\\repos\\RL\\phd-rl-algos\\dqn\\opinion_dyna...</td>\n",
       "      <td>0</td>\n",
       "      <td>0000_agent_params.args_.action_w_noise_amplitu...</td>\n",
       "    </tr>\n",
       "    <tr>\n",
       "      <th>34</th>\n",
       "      <td>validation</td>\n",
       "      <td>1000000</td>\n",
       "      <td>NaN</td>\n",
       "      <td>-61.320114</td>\n",
       "      <td>-61.320114</td>\n",
       "      <td>-61.320114</td>\n",
       "      <td>-61.320114</td>\n",
       "      <td>9.783611e-08</td>\n",
       "      <td>-7.735334</td>\n",
       "      <td>-7.735334</td>\n",
       "      <td>...</td>\n",
       "      <td>4.284825e+02</td>\n",
       "      <td>1.983449e+03</td>\n",
       "      <td>NaN</td>\n",
       "      <td>NaN</td>\n",
       "      <td>0 days 00:00:00.662639</td>\n",
       "      <td>0.3</td>\n",
       "      <td>best_params</td>\n",
       "      <td>D:\\Work\\repos\\RL\\phd-rl-algos\\dqn\\opinion_dyna...</td>\n",
       "      <td>0</td>\n",
       "      <td>0000_agent_params.args_.action_w_noise_amplitu...</td>\n",
       "    </tr>\n",
       "    <tr>\n",
       "      <th>...</th>\n",
       "      <td>...</td>\n",
       "      <td>...</td>\n",
       "      <td>...</td>\n",
       "      <td>...</td>\n",
       "      <td>...</td>\n",
       "      <td>...</td>\n",
       "      <td>...</td>\n",
       "      <td>...</td>\n",
       "      <td>...</td>\n",
       "      <td>...</td>\n",
       "      <td>...</td>\n",
       "      <td>...</td>\n",
       "      <td>...</td>\n",
       "      <td>...</td>\n",
       "      <td>...</td>\n",
       "      <td>...</td>\n",
       "      <td>...</td>\n",
       "      <td>...</td>\n",
       "      <td>...</td>\n",
       "      <td>...</td>\n",
       "      <td>...</td>\n",
       "    </tr>\n",
       "    <tr>\n",
       "      <th>355</th>\n",
       "      <td>validation</td>\n",
       "      <td>5200000</td>\n",
       "      <td>NaN</td>\n",
       "      <td>-59.626840</td>\n",
       "      <td>-59.626840</td>\n",
       "      <td>-59.626840</td>\n",
       "      <td>-59.626840</td>\n",
       "      <td>7.105427e-15</td>\n",
       "      <td>-8.022435</td>\n",
       "      <td>-8.022435</td>\n",
       "      <td>...</td>\n",
       "      <td>6.399556e+06</td>\n",
       "      <td>4.344584e+06</td>\n",
       "      <td>NaN</td>\n",
       "      <td>NaN</td>\n",
       "      <td>0 days 00:00:00.651817</td>\n",
       "      <td>0.8</td>\n",
       "      <td>best_params</td>\n",
       "      <td>D:\\Work\\repos\\RL\\phd-rl-algos\\dqn\\opinion_dyna...</td>\n",
       "      <td>2</td>\n",
       "      <td>0001_agent_params.args_.action_w_noise_amplitu...</td>\n",
       "    </tr>\n",
       "    <tr>\n",
       "      <th>356</th>\n",
       "      <td>validation</td>\n",
       "      <td>5400000</td>\n",
       "      <td>NaN</td>\n",
       "      <td>-58.894808</td>\n",
       "      <td>-58.894808</td>\n",
       "      <td>-58.894808</td>\n",
       "      <td>-58.894808</td>\n",
       "      <td>0.000000e+00</td>\n",
       "      <td>-8.061083</td>\n",
       "      <td>-8.061083</td>\n",
       "      <td>...</td>\n",
       "      <td>7.723262e+06</td>\n",
       "      <td>4.557544e+06</td>\n",
       "      <td>NaN</td>\n",
       "      <td>NaN</td>\n",
       "      <td>0 days 00:00:00.622448</td>\n",
       "      <td>0.8</td>\n",
       "      <td>best_params</td>\n",
       "      <td>D:\\Work\\repos\\RL\\phd-rl-algos\\dqn\\opinion_dyna...</td>\n",
       "      <td>2</td>\n",
       "      <td>0001_agent_params.args_.action_w_noise_amplitu...</td>\n",
       "    </tr>\n",
       "    <tr>\n",
       "      <th>357</th>\n",
       "      <td>validation</td>\n",
       "      <td>5600000</td>\n",
       "      <td>NaN</td>\n",
       "      <td>-60.142229</td>\n",
       "      <td>-60.142229</td>\n",
       "      <td>-60.142229</td>\n",
       "      <td>-60.142229</td>\n",
       "      <td>7.105427e-15</td>\n",
       "      <td>-8.044090</td>\n",
       "      <td>-8.044090</td>\n",
       "      <td>...</td>\n",
       "      <td>1.020371e+07</td>\n",
       "      <td>3.340978e+06</td>\n",
       "      <td>NaN</td>\n",
       "      <td>NaN</td>\n",
       "      <td>0 days 00:00:00.651916</td>\n",
       "      <td>0.8</td>\n",
       "      <td>best_params</td>\n",
       "      <td>D:\\Work\\repos\\RL\\phd-rl-algos\\dqn\\opinion_dyna...</td>\n",
       "      <td>2</td>\n",
       "      <td>0001_agent_params.args_.action_w_noise_amplitu...</td>\n",
       "    </tr>\n",
       "    <tr>\n",
       "      <th>358</th>\n",
       "      <td>validation</td>\n",
       "      <td>5800000</td>\n",
       "      <td>NaN</td>\n",
       "      <td>-60.358756</td>\n",
       "      <td>-60.358756</td>\n",
       "      <td>-60.358756</td>\n",
       "      <td>-60.358756</td>\n",
       "      <td>0.000000e+00</td>\n",
       "      <td>-8.052621</td>\n",
       "      <td>-8.052621</td>\n",
       "      <td>...</td>\n",
       "      <td>1.095454e+07</td>\n",
       "      <td>3.108932e+06</td>\n",
       "      <td>NaN</td>\n",
       "      <td>NaN</td>\n",
       "      <td>0 days 00:00:00.648534</td>\n",
       "      <td>0.8</td>\n",
       "      <td>best_params</td>\n",
       "      <td>D:\\Work\\repos\\RL\\phd-rl-algos\\dqn\\opinion_dyna...</td>\n",
       "      <td>2</td>\n",
       "      <td>0001_agent_params.args_.action_w_noise_amplitu...</td>\n",
       "    </tr>\n",
       "    <tr>\n",
       "      <th>359</th>\n",
       "      <td>validation</td>\n",
       "      <td>6000000</td>\n",
       "      <td>NaN</td>\n",
       "      <td>-59.714581</td>\n",
       "      <td>-59.714581</td>\n",
       "      <td>-59.714581</td>\n",
       "      <td>-59.714581</td>\n",
       "      <td>1.421085e-14</td>\n",
       "      <td>-8.001900</td>\n",
       "      <td>-8.001900</td>\n",
       "      <td>...</td>\n",
       "      <td>1.005138e+07</td>\n",
       "      <td>4.317770e+06</td>\n",
       "      <td>NaN</td>\n",
       "      <td>NaN</td>\n",
       "      <td>0 days 00:00:00.461043</td>\n",
       "      <td>0.8</td>\n",
       "      <td>best_params</td>\n",
       "      <td>D:\\Work\\repos\\RL\\phd-rl-algos\\dqn\\opinion_dyna...</td>\n",
       "      <td>2</td>\n",
       "      <td>0001_agent_params.args_.action_w_noise_amplitu...</td>\n",
       "    </tr>\n",
       "  </tbody>\n",
       "</table>\n",
       "<p>180 rows × 36 columns</p>\n",
       "</div>"
      ],
      "text/plain": [
       "     epoch_type  frame_stamp  greedy_epsilon  episode_rewards_min  \\\n",
       "30   validation       200000             NaN           -57.107157   \n",
       "31   validation       400000             NaN           -59.516756   \n",
       "32   validation       600000             NaN           -60.525463   \n",
       "33   validation       800000             NaN           -61.449545   \n",
       "34   validation      1000000             NaN           -61.320114   \n",
       "..          ...          ...             ...                  ...   \n",
       "355  validation      5200000             NaN           -59.626840   \n",
       "356  validation      5400000             NaN           -58.894808   \n",
       "357  validation      5600000             NaN           -60.142229   \n",
       "358  validation      5800000             NaN           -60.358756   \n",
       "359  validation      6000000             NaN           -59.714581   \n",
       "\n",
       "     episode_rewards_max  episode_rewards_mean  episode_rewards_median  \\\n",
       "30            -57.107155            -57.107156              -57.107156   \n",
       "31            -59.516654            -59.516691              -59.516685   \n",
       "32            -60.525324            -60.525411              -60.525408   \n",
       "33            -61.449481            -61.449521              -61.449523   \n",
       "34            -61.320114            -61.320114              -61.320114   \n",
       "..                   ...                   ...                     ...   \n",
       "355           -59.626840            -59.626840              -59.626840   \n",
       "356           -58.894808            -58.894808              -58.894808   \n",
       "357           -60.142229            -60.142229              -60.142229   \n",
       "358           -60.358756            -60.358756              -60.358756   \n",
       "359           -59.714581            -59.714581              -59.714581   \n",
       "\n",
       "     episode_rewards_std  episode_discounted_rewards_min  \\\n",
       "30          7.733048e-07                       -7.663146   \n",
       "31          3.460234e-05                       -7.724893   \n",
       "32          4.424222e-05                       -7.733724   \n",
       "33          1.989512e-05                       -7.730426   \n",
       "34          9.783611e-08                       -7.735334   \n",
       "..                   ...                             ...   \n",
       "355         7.105427e-15                       -8.022435   \n",
       "356         0.000000e+00                       -8.061083   \n",
       "357         7.105427e-15                       -8.044090   \n",
       "358         0.000000e+00                       -8.052621   \n",
       "359         1.421085e-14                       -8.001900   \n",
       "\n",
       "     episode_discounted_rewards_max  ...  episode_max_qs_median  \\\n",
       "30                        -7.663146  ...           8.416898e+02   \n",
       "31                        -7.724892  ...           7.767235e+02   \n",
       "32                        -7.733724  ...           7.209328e+02   \n",
       "33                        -7.730426  ...           5.687392e+02   \n",
       "34                        -7.735334  ...           4.284825e+02   \n",
       "..                              ...  ...                    ...   \n",
       "355                       -8.022435  ...           6.399556e+06   \n",
       "356                       -8.061083  ...           7.723262e+06   \n",
       "357                       -8.044090  ...           1.020371e+07   \n",
       "358                       -8.052621  ...           1.095454e+07   \n",
       "359                       -8.001900  ...           1.005138e+07   \n",
       "\n",
       "     episode_max_qs_std  policy_trained_times  target_trained_times  \\\n",
       "30         3.576675e+03                   NaN                   NaN   \n",
       "31         4.221925e+03                   NaN                   NaN   \n",
       "32         3.333473e+03                   NaN                   NaN   \n",
       "33         2.481341e+03                   NaN                   NaN   \n",
       "34         1.983449e+03                   NaN                   NaN   \n",
       "..                  ...                   ...                   ...   \n",
       "355        4.344584e+06                   NaN                   NaN   \n",
       "356        4.557544e+06                   NaN                   NaN   \n",
       "357        3.340978e+06                   NaN                   NaN   \n",
       "358        3.108932e+06                   NaN                   NaN   \n",
       "359        4.317770e+06                   NaN                   NaN   \n",
       "\n",
       "                epoch_time  \\\n",
       "30  0 days 00:00:00.622508   \n",
       "31  0 days 00:00:00.688570   \n",
       "32  0 days 00:00:00.620916   \n",
       "33  0 days 00:00:00.632127   \n",
       "34  0 days 00:00:00.662639   \n",
       "..                     ...   \n",
       "355 0 days 00:00:00.651817   \n",
       "356 0 days 00:00:00.622448   \n",
       "357 0 days 00:00:00.651916   \n",
       "358 0 days 00:00:00.648534   \n",
       "359 0 days 00:00:00.461043   \n",
       "\n",
       "     sub_exp_cfg_agent_params.args_.action_w_noise_amplitude  \\\n",
       "30                                                 0.3         \n",
       "31                                                 0.3         \n",
       "32                                                 0.3         \n",
       "33                                                 0.3         \n",
       "34                                                 0.3         \n",
       "..                                                 ...         \n",
       "355                                                0.8         \n",
       "356                                                0.8         \n",
       "357                                                0.8         \n",
       "358                                                0.8         \n",
       "359                                                0.8         \n",
       "\n",
       "     sub_exp_cfg_experiment_run_name  \\\n",
       "30                       best_params   \n",
       "31                       best_params   \n",
       "32                       best_params   \n",
       "33                       best_params   \n",
       "34                       best_params   \n",
       "..                               ...   \n",
       "355                      best_params   \n",
       "356                      best_params   \n",
       "357                      best_params   \n",
       "358                      best_params   \n",
       "359                      best_params   \n",
       "\n",
       "                                   sub_experiment_path  seed  \\\n",
       "30   D:\\Work\\repos\\RL\\phd-rl-algos\\dqn\\opinion_dyna...     0   \n",
       "31   D:\\Work\\repos\\RL\\phd-rl-algos\\dqn\\opinion_dyna...     0   \n",
       "32   D:\\Work\\repos\\RL\\phd-rl-algos\\dqn\\opinion_dyna...     0   \n",
       "33   D:\\Work\\repos\\RL\\phd-rl-algos\\dqn\\opinion_dyna...     0   \n",
       "34   D:\\Work\\repos\\RL\\phd-rl-algos\\dqn\\opinion_dyna...     0   \n",
       "..                                                 ...   ...   \n",
       "355  D:\\Work\\repos\\RL\\phd-rl-algos\\dqn\\opinion_dyna...     2   \n",
       "356  D:\\Work\\repos\\RL\\phd-rl-algos\\dqn\\opinion_dyna...     2   \n",
       "357  D:\\Work\\repos\\RL\\phd-rl-algos\\dqn\\opinion_dyna...     2   \n",
       "358  D:\\Work\\repos\\RL\\phd-rl-algos\\dqn\\opinion_dyna...     2   \n",
       "359  D:\\Work\\repos\\RL\\phd-rl-algos\\dqn\\opinion_dyna...     2   \n",
       "\n",
       "                                       experiment_name  \n",
       "30   0000_agent_params.args_.action_w_noise_amplitu...  \n",
       "31   0000_agent_params.args_.action_w_noise_amplitu...  \n",
       "32   0000_agent_params.args_.action_w_noise_amplitu...  \n",
       "33   0000_agent_params.args_.action_w_noise_amplitu...  \n",
       "34   0000_agent_params.args_.action_w_noise_amplitu...  \n",
       "..                                                 ...  \n",
       "355  0001_agent_params.args_.action_w_noise_amplitu...  \n",
       "356  0001_agent_params.args_.action_w_noise_amplitu...  \n",
       "357  0001_agent_params.args_.action_w_noise_amplitu...  \n",
       "358  0001_agent_params.args_.action_w_noise_amplitu...  \n",
       "359  0001_agent_params.args_.action_w_noise_amplitu...  \n",
       "\n",
       "[180 rows x 36 columns]"
      ]
     },
     "execution_count": 23,
     "metadata": {},
     "output_type": "execute_result"
    }
   ],
   "source": [
    "df[df['epoch_type'] == 'validation']"
   ]
  },
  {
   "cell_type": "code",
   "execution_count": 24,
   "metadata": {},
   "outputs": [
    {
     "name": "stdout",
     "output_type": "stream",
     "text": [
      "Best hyperparameters:\n",
      "sub_exp_cfg_agent_params.args_.action_w_noise_amplitude            0.3\n",
      "sub_exp_cfg_experiment_run_name                            best_params\n",
      "Name: 0, dtype: object\n",
      "Best mean reward: -57.39711617554985\n"
     ]
    }
   ],
   "source": [
    "# Define hyperparameter columns\n",
    "hyperparam_columns = [col for col in df.columns if \"sub_exp_cfg\" in col]\n",
    "\n",
    "# Group by hyperparameter values and compute mean episode_rewards_mean\n",
    "averaged_results = df.groupby(hyperparam_columns, as_index=False).agg({\n",
    "    'episode_rewards_mean': 'mean',  # Averaging the performance metric\n",
    "    'sub_experiment_path': 'first'   # Keep a reference to an experiment path\n",
    "})\n",
    "\n",
    "# Find the best hyperparameter set based on the highest mean reward\n",
    "best_row = averaged_results.loc[averaged_results['episode_rewards_mean'].idxmax()]\n",
    "\n",
    "# Print the best experiment path and hyperparameters\n",
    "print(f\"Best hyperparameters:\\n{best_row[hyperparam_columns]}\")\n",
    "print(f\"Best mean reward: {best_row['episode_rewards_mean']}\")"
   ]
  },
  {
   "cell_type": "code",
   "execution_count": 25,
   "metadata": {},
   "outputs": [
    {
     "data": {
      "text/html": [
       "<div>\n",
       "<style scoped>\n",
       "    .dataframe tbody tr th:only-of-type {\n",
       "        vertical-align: middle;\n",
       "    }\n",
       "\n",
       "    .dataframe tbody tr th {\n",
       "        vertical-align: top;\n",
       "    }\n",
       "\n",
       "    .dataframe thead th {\n",
       "        text-align: right;\n",
       "    }\n",
       "</style>\n",
       "<table border=\"1\" class=\"dataframe\">\n",
       "  <thead>\n",
       "    <tr style=\"text-align: right;\">\n",
       "      <th></th>\n",
       "      <th>sub_exp_cfg_agent_params.args_.action_w_noise_amplitude</th>\n",
       "      <th>sub_exp_cfg_experiment_run_name</th>\n",
       "      <th>episode_rewards_mean</th>\n",
       "      <th>sub_experiment_path</th>\n",
       "    </tr>\n",
       "  </thead>\n",
       "  <tbody>\n",
       "    <tr>\n",
       "      <th>0</th>\n",
       "      <td>0.3</td>\n",
       "      <td>best_params</td>\n",
       "      <td>-57.397116</td>\n",
       "      <td>D:\\Work\\repos\\RL\\phd-rl-algos\\dqn\\opinion_dyna...</td>\n",
       "    </tr>\n",
       "    <tr>\n",
       "      <th>1</th>\n",
       "      <td>0.8</td>\n",
       "      <td>best_params</td>\n",
       "      <td>-57.614827</td>\n",
       "      <td>D:\\Work\\repos\\RL\\phd-rl-algos\\dqn\\opinion_dyna...</td>\n",
       "    </tr>\n",
       "  </tbody>\n",
       "</table>\n",
       "</div>"
      ],
      "text/plain": [
       "  sub_exp_cfg_agent_params.args_.action_w_noise_amplitude  \\\n",
       "0                                                0.3        \n",
       "1                                                0.8        \n",
       "\n",
       "  sub_exp_cfg_experiment_run_name  episode_rewards_mean  \\\n",
       "0                     best_params            -57.397116   \n",
       "1                     best_params            -57.614827   \n",
       "\n",
       "                                 sub_experiment_path  \n",
       "0  D:\\Work\\repos\\RL\\phd-rl-algos\\dqn\\opinion_dyna...  \n",
       "1  D:\\Work\\repos\\RL\\phd-rl-algos\\dqn\\opinion_dyna...  "
      ]
     },
     "execution_count": 25,
     "metadata": {},
     "output_type": "execute_result"
    }
   ],
   "source": [
    "averaged_results"
   ]
  },
  {
   "cell_type": "code",
   "execution_count": 26,
   "metadata": {},
   "outputs": [],
   "source": [
    "# selected_metric = 'episode_rewards_mean'\n",
    "# hue_col = \"sub_exp_cfg_agent_params.args_.action_w_noise_amplitude\"\n",
    "\n",
    "# # Filter for validation episodes\n",
    "# validation_df = df[df['epoch_type'] == 'validation']\n",
    "\n",
    "# # Get the unique sorted frame_stamp values\n",
    "# unique_frames = np.sort(validation_df['frame_stamp'].unique())\n",
    "# N = 1\n",
    "# # Get all frame_stamp values after the first N unique ones\n",
    "# filtered_frames = unique_frames[N:]\n",
    "\n",
    "# # Filter the DataFrame to only include rows with these frame_stamp values\n",
    "# filtered_df = validation_df[validation_df['frame_stamp'].isin(filtered_frames)]\n",
    "\n",
    "# plt.figure(figsize=(10, 6))\n",
    "# sns.lineplot(data=filtered_df, x='frame_stamp', y=selected_metric, hue=hue_col)\n",
    "# plt.ylabel(selected_metric)\n",
    "# plt.xlabel('Frame Stamp')\n",
    "# plt.show()"
   ]
  },
  {
   "cell_type": "code",
   "execution_count": 27,
   "metadata": {},
   "outputs": [
    {
     "data": {
      "image/png": "[encoded data removed]",
      "text/plain": [
       "<Figure size 1000x600 with 1 Axes>"
      ]
     },
     "metadata": {},
     "output_type": "display_data"
    }
   ],
   "source": [
    "\n",
    "selected_metric = 'episode_discounted_rewards_mean'\n",
    "# hue_col = \"sub_exp_cfg_agent_params.args_.action_w_noise_amplitude\"\n",
    "hue_col = \"experiment_name\"\n",
    "\n",
    "validation_df = df[df['epoch_type'] == 'validation']\n",
    "\n",
    "\n",
    "# Create a new figure for each environment\n",
    "plt.figure(figsize=(10, 6))\n",
    "# sns.lineplot(data=df, x='frame_stamp', y=selected_metric, hue='model')\n",
    "sns.lineplot(data=validation_df, x='frame_stamp', y=selected_metric, hue=hue_col)\n",
    "\n",
    "plt.ylabel(selected_metric)\n",
    "plt.xlabel('Frame Stamp')\n",
    "\n",
    "# Place the legend outside the plot\n",
    "plt.legend(loc='center left', bbox_to_anchor=(1.0, 0.5), title='Parameters')\n",
    "plt.show()"
   ]
  },
  {
   "cell_type": "code",
   "execution_count": 28,
   "metadata": {},
   "outputs": [
    {
     "data": {
      "text/plain": [
       "Index(['epoch_type', 'frame_stamp', 'greedy_epsilon', 'episode_rewards_min',\n",
       "       'episode_rewards_max', 'episode_rewards_mean', 'episode_rewards_median',\n",
       "       'episode_rewards_std', 'episode_discounted_rewards_min',\n",
       "       'episode_discounted_rewards_max', 'episode_discounted_rewards_mean',\n",
       "       'episode_discounted_rewards_median', 'episode_discounted_rewards_std',\n",
       "       'episode_frames_min', 'episode_frames_max', 'episode_frames_mean',\n",
       "       'episode_frames_median', 'episode_frames_std', 'episode_losses_min',\n",
       "       'episode_losses_max', 'episode_losses_mean', 'episode_losses_median',\n",
       "       'episode_losses_std', 'episode_max_qs_min', 'episode_max_qs_max',\n",
       "       'episode_max_qs_mean', 'episode_max_qs_median', 'episode_max_qs_std',\n",
       "       'policy_trained_times', 'target_trained_times', 'epoch_time',\n",
       "       'sub_exp_cfg_agent_params.args_.action_w_noise_amplitude',\n",
       "       'sub_exp_cfg_experiment_run_name', 'sub_experiment_path', 'seed',\n",
       "       'experiment_name'],\n",
       "      dtype='object')"
      ]
     },
     "execution_count": 28,
     "metadata": {},
     "output_type": "execute_result"
    }
   ],
   "source": [
    "df.columns"
   ]
  },
  {
   "cell_type": "code",
   "execution_count": 29,
   "metadata": {},
   "outputs": [
    {
     "data": {
      "image/png": "[encoded data removed]",
      "text/plain": [
       "<Figure size 1000x600 with 1 Axes>"
      ]
     },
     "metadata": {},
     "output_type": "display_data"
    }
   ],
   "source": [
    "import matplotlib.pyplot as plt\n",
    "import seaborn as sns\n",
    "\n",
    "selected_metric = 'episode_frames_mean'\n",
    "hue_col = \"experiment_name\"  # or another distinguishing column like \"sub_experiment_path\"\n",
    "\n",
    "validation_df = df[df['epoch_type'] == 'validation']\n",
    "\n",
    "# Plot individual lines for each run\n",
    "plt.figure(figsize=(10, 6))\n",
    "sns.lineplot(\n",
    "    data=validation_df,\n",
    "    x='frame_stamp',\n",
    "    y=selected_metric,\n",
    "    hue=hue_col,\n",
    "    estimator=None,  # ← disables aggregation\n",
    "    units='sub_experiment_path',  # ← groups lines by unique run\n",
    "    lw=1,  # line width\n",
    "    alpha=0.7  # transparency\n",
    ")\n",
    "\n",
    "plt.ylabel(selected_metric)\n",
    "plt.xlabel('Frame Stamp')\n",
    "plt.title('Validation Reward Trajectories (Per Run)')\n",
    "\n",
    "# Move legend outside the plot\n",
    "plt.legend(loc='center left', bbox_to_anchor=(1.0, 0.5), title='Experiment')\n",
    "plt.tight_layout()\n",
    "plt.show()\n"
   ]
  },
  {
   "cell_type": "code",
   "execution_count": 30,
   "metadata": {},
   "outputs": [
    {
     "data": {
      "text/html": [
       "<div>\n",
       "<style scoped>\n",
       "    .dataframe tbody tr th:only-of-type {\n",
       "        vertical-align: middle;\n",
       "    }\n",
       "\n",
       "    .dataframe tbody tr th {\n",
       "        vertical-align: top;\n",
       "    }\n",
       "\n",
       "    .dataframe thead th {\n",
       "        text-align: right;\n",
       "    }\n",
       "</style>\n",
       "<table border=\"1\" class=\"dataframe\">\n",
       "  <thead>\n",
       "    <tr style=\"text-align: right;\">\n",
       "      <th></th>\n",
       "      <th>epoch_type</th>\n",
       "      <th>frame_stamp</th>\n",
       "      <th>episode_rewards_mean</th>\n",
       "      <th>episode_frames_mean</th>\n",
       "      <th>episode_discounted_rewards_mean</th>\n",
       "      <th>policy_trained_times</th>\n",
       "      <th>target_trained_times</th>\n",
       "      <th>epoch_time</th>\n",
       "      <th>seed</th>\n",
       "      <th>experiment_name</th>\n",
       "      <th>sub_experiment_path</th>\n",
       "      <th>sub_exp_cfg_agent_params.args_.action_w_noise_amplitude</th>\n",
       "      <th>sub_exp_cfg_experiment_run_name</th>\n",
       "    </tr>\n",
       "  </thead>\n",
       "  <tbody>\n",
       "    <tr>\n",
       "      <th>59</th>\n",
       "      <td>validation</td>\n",
       "      <td>6000000</td>\n",
       "      <td>-57.226076</td>\n",
       "      <td>150.0</td>\n",
       "      <td>-7.680134</td>\n",
       "      <td>NaN</td>\n",
       "      <td>NaN</td>\n",
       "      <td>0 days 00:00:00.554627</td>\n",
       "      <td>0</td>\n",
       "      <td>0000_agent_params.args_.action_w_noise_amplitu...</td>\n",
       "      <td>D:\\Work\\repos\\RL\\phd-rl-algos\\dqn\\opinion_dyna...</td>\n",
       "      <td>0.3</td>\n",
       "      <td>best_params</td>\n",
       "    </tr>\n",
       "    <tr>\n",
       "      <th>119</th>\n",
       "      <td>validation</td>\n",
       "      <td>6000000</td>\n",
       "      <td>-59.343040</td>\n",
       "      <td>150.0</td>\n",
       "      <td>-7.860213</td>\n",
       "      <td>NaN</td>\n",
       "      <td>NaN</td>\n",
       "      <td>0 days 00:00:00.496603</td>\n",
       "      <td>1</td>\n",
       "      <td>0000_agent_params.args_.action_w_noise_amplitu...</td>\n",
       "      <td>D:\\Work\\repos\\RL\\phd-rl-algos\\dqn\\opinion_dyna...</td>\n",
       "      <td>0.3</td>\n",
       "      <td>best_params</td>\n",
       "    </tr>\n",
       "    <tr>\n",
       "      <th>179</th>\n",
       "      <td>validation</td>\n",
       "      <td>6000000</td>\n",
       "      <td>-52.361504</td>\n",
       "      <td>150.0</td>\n",
       "      <td>-7.755543</td>\n",
       "      <td>NaN</td>\n",
       "      <td>NaN</td>\n",
       "      <td>0 days 00:00:00.448103</td>\n",
       "      <td>2</td>\n",
       "      <td>0000_agent_params.args_.action_w_noise_amplitu...</td>\n",
       "      <td>D:\\Work\\repos\\RL\\phd-rl-algos\\dqn\\opinion_dyna...</td>\n",
       "      <td>0.3</td>\n",
       "      <td>best_params</td>\n",
       "    </tr>\n",
       "    <tr>\n",
       "      <th>239</th>\n",
       "      <td>validation</td>\n",
       "      <td>6000000</td>\n",
       "      <td>-59.787000</td>\n",
       "      <td>150.0</td>\n",
       "      <td>-7.854788</td>\n",
       "      <td>NaN</td>\n",
       "      <td>NaN</td>\n",
       "      <td>0 days 00:00:00.654085</td>\n",
       "      <td>0</td>\n",
       "      <td>0001_agent_params.args_.action_w_noise_amplitu...</td>\n",
       "      <td>D:\\Work\\repos\\RL\\phd-rl-algos\\dqn\\opinion_dyna...</td>\n",
       "      <td>0.8</td>\n",
       "      <td>best_params</td>\n",
       "    </tr>\n",
       "    <tr>\n",
       "      <th>299</th>\n",
       "      <td>validation</td>\n",
       "      <td>6000000</td>\n",
       "      <td>-56.509390</td>\n",
       "      <td>150.0</td>\n",
       "      <td>-7.834920</td>\n",
       "      <td>NaN</td>\n",
       "      <td>NaN</td>\n",
       "      <td>0 days 00:00:00.535058</td>\n",
       "      <td>1</td>\n",
       "      <td>0001_agent_params.args_.action_w_noise_amplitu...</td>\n",
       "      <td>D:\\Work\\repos\\RL\\phd-rl-algos\\dqn\\opinion_dyna...</td>\n",
       "      <td>0.8</td>\n",
       "      <td>best_params</td>\n",
       "    </tr>\n",
       "    <tr>\n",
       "      <th>359</th>\n",
       "      <td>validation</td>\n",
       "      <td>6000000</td>\n",
       "      <td>-59.714581</td>\n",
       "      <td>150.0</td>\n",
       "      <td>-8.001900</td>\n",
       "      <td>NaN</td>\n",
       "      <td>NaN</td>\n",
       "      <td>0 days 00:00:00.461043</td>\n",
       "      <td>2</td>\n",
       "      <td>0001_agent_params.args_.action_w_noise_amplitu...</td>\n",
       "      <td>D:\\Work\\repos\\RL\\phd-rl-algos\\dqn\\opinion_dyna...</td>\n",
       "      <td>0.8</td>\n",
       "      <td>best_params</td>\n",
       "    </tr>\n",
       "  </tbody>\n",
       "</table>\n",
       "</div>"
      ],
      "text/plain": [
       "     epoch_type  frame_stamp  episode_rewards_mean  episode_frames_mean  \\\n",
       "59   validation      6000000            -57.226076                150.0   \n",
       "119  validation      6000000            -59.343040                150.0   \n",
       "179  validation      6000000            -52.361504                150.0   \n",
       "239  validation      6000000            -59.787000                150.0   \n",
       "299  validation      6000000            -56.509390                150.0   \n",
       "359  validation      6000000            -59.714581                150.0   \n",
       "\n",
       "     episode_discounted_rewards_mean  policy_trained_times  \\\n",
       "59                         -7.680134                   NaN   \n",
       "119                        -7.860213                   NaN   \n",
       "179                        -7.755543                   NaN   \n",
       "239                        -7.854788                   NaN   \n",
       "299                        -7.834920                   NaN   \n",
       "359                        -8.001900                   NaN   \n",
       "\n",
       "     target_trained_times             epoch_time seed  \\\n",
       "59                    NaN 0 days 00:00:00.554627    0   \n",
       "119                   NaN 0 days 00:00:00.496603    1   \n",
       "179                   NaN 0 days 00:00:00.448103    2   \n",
       "239                   NaN 0 days 00:00:00.654085    0   \n",
       "299                   NaN 0 days 00:00:00.535058    1   \n",
       "359                   NaN 0 days 00:00:00.461043    2   \n",
       "\n",
       "                                       experiment_name  \\\n",
       "59   0000_agent_params.args_.action_w_noise_amplitu...   \n",
       "119  0000_agent_params.args_.action_w_noise_amplitu...   \n",
       "179  0000_agent_params.args_.action_w_noise_amplitu...   \n",
       "239  0001_agent_params.args_.action_w_noise_amplitu...   \n",
       "299  0001_agent_params.args_.action_w_noise_amplitu...   \n",
       "359  0001_agent_params.args_.action_w_noise_amplitu...   \n",
       "\n",
       "                                   sub_experiment_path  \\\n",
       "59   D:\\Work\\repos\\RL\\phd-rl-algos\\dqn\\opinion_dyna...   \n",
       "119  D:\\Work\\repos\\RL\\phd-rl-algos\\dqn\\opinion_dyna...   \n",
       "179  D:\\Work\\repos\\RL\\phd-rl-algos\\dqn\\opinion_dyna...   \n",
       "239  D:\\Work\\repos\\RL\\phd-rl-algos\\dqn\\opinion_dyna...   \n",
       "299  D:\\Work\\repos\\RL\\phd-rl-algos\\dqn\\opinion_dyna...   \n",
       "359  D:\\Work\\repos\\RL\\phd-rl-algos\\dqn\\opinion_dyna...   \n",
       "\n",
       "    sub_exp_cfg_agent_params.args_.action_w_noise_amplitude  \\\n",
       "59                                                 0.3        \n",
       "119                                                0.3        \n",
       "179                                                0.3        \n",
       "239                                                0.8        \n",
       "299                                                0.8        \n",
       "359                                                0.8        \n",
       "\n",
       "    sub_exp_cfg_experiment_run_name  \n",
       "59                      best_params  \n",
       "119                     best_params  \n",
       "179                     best_params  \n",
       "239                     best_params  \n",
       "299                     best_params  \n",
       "359                     best_params  "
      ]
     },
     "execution_count": 30,
     "metadata": {},
     "output_type": "execute_result"
    }
   ],
   "source": [
    "### Select data\n",
    "\n",
    "experiment_columns = [\n",
    "    'epoch_type', 'frame_stamp',\n",
    "    'episode_rewards_mean', 'episode_frames_mean', \n",
    "    'episode_discounted_rewards_mean',\n",
    "    'policy_trained_times', 'target_trained_times', 'epoch_time', \n",
    "       'seed', 'experiment_name', \"sub_experiment_path\"\n",
    "]\n",
    "hyperparam_columns = [\n",
    "   col for col in df.columns if \"sub_exp_cfg\" in col\n",
    "]\n",
    "\n",
    "cols_of_interest = experiment_columns + hyperparam_columns\n",
    "\n",
    "sub_df = df[cols_of_interest]\n",
    "sub_df = sub_df[sub_df['epoch_type'] == 'validation']\n",
    "sub_df = sub_df[sub_df['frame_stamp'] == sub_df['frame_stamp'].max()]\n",
    "\n",
    "sub_df \n"
   ]
  },
  {
   "cell_type": "code",
   "execution_count": 31,
   "metadata": {},
   "outputs": [],
   "source": [
    "# agg_cols = [col for col in sub_df.columns if \"sub_exp_cfg_agent_params\" in col]\n",
    "# aggregated_df = (\n",
    "#     sub_df.groupby(agg_cols)\n",
    "#     .agg(episode_discounted_rewards_mean=(\"episode_discounted_rewards_mean\", \"mean\"))\n",
    "#     .reset_index()\n",
    "# )\n",
    "# aggregated_df"
   ]
  },
  {
   "cell_type": "code",
   "execution_count": 32,
   "metadata": {},
   "outputs": [
    {
     "data": {
      "text/plain": [
       "Index(['epoch_type', 'frame_stamp', 'episode_rewards_mean',\n",
       "       'episode_frames_mean', 'episode_discounted_rewards_mean',\n",
       "       'policy_trained_times', 'target_trained_times', 'epoch_time', 'seed',\n",
       "       'experiment_name', 'sub_experiment_path',\n",
       "       'sub_exp_cfg_agent_params.args_.action_w_noise_amplitude',\n",
       "       'sub_exp_cfg_experiment_run_name'],\n",
       "      dtype='object')"
      ]
     },
     "execution_count": 32,
     "metadata": {},
     "output_type": "execute_result"
    }
   ],
   "source": [
    "sub_df.columns"
   ]
  },
  {
   "cell_type": "code",
   "execution_count": 33,
   "metadata": {},
   "outputs": [],
   "source": [
    "# sub_df[[\n",
    "#     \"episode_discounted_rewards_mean\", \"episode_frames_mean\",\n",
    "#     \"seed\", \"sub_exp_cfg_agent_params.args_.action_w_noise_amplitude\"]\n",
    "# ]"
   ]
  },
  {
   "cell_type": "code",
   "execution_count": 34,
   "metadata": {},
   "outputs": [],
   "source": [
    "# sub_df[\n",
    "#     (sub_df[\"sub_exp_cfg_agent_params.args_.action_w_noise_amplitude\"] == \"0.3\") \n",
    "# ]"
   ]
  },
  {
   "cell_type": "code",
   "execution_count": 35,
   "metadata": {},
   "outputs": [
    {
     "name": "stdout",
     "output_type": "stream",
     "text": [
      "D:\\Work\\repos\\RL\\phd-rl-algos\\dqn\\opinion_dynamics\\experiments\\results\\2025May15-235344_configs\\0000_agent_params.args_.action_w_noise_amplitude_0.3__experiment_run_name_best_params\\2\n"
     ]
    }
   ],
   "source": [
    "# Print the experiment_name of the row with the highest episode_rewards_mean \n",
    "print(sub_df[sub_df['episode_rewards_mean'] == sub_df['episode_rewards_mean'].max()]['sub_experiment_path'].values[0])\n",
    "# print(sub_df[sub_df['episode_rewards_mean'] == sub_df['episode_rewards_mean'].max()]['experiment_name'].values[0])\n",
    "# print(sub_df[sub_df['episode_rewards_mean'] == sub_df['episode_rewards_mean'].max()]['episode_rewards_mean'].values[0])\n"
   ]
  },
  {
   "cell_type": "code",
   "execution_count": 36,
   "metadata": {},
   "outputs": [
    {
     "data": {
      "image/png": "[encoded data removed]",
      "text/plain": [
       "<Figure size 800x230 with 2 Axes>"
      ]
     },
     "metadata": {},
     "output_type": "display_data"
    }
   ],
   "source": [
    "import shap\n",
    "import xgboost\n",
    "import pandas as pd\n",
    "\n",
    "\n",
    "# Define the target metric and hyperparameter columns\n",
    "target_metric = \"episode_rewards_mean\"  # Replace with actual metric column name\n",
    "# Replace with actual hyperparameter column names\n",
    "\n",
    "# Prepare data\n",
    "X = sub_df[hyperparam_columns].apply(pd.to_numeric, errors='coerce')\n",
    "y = sub_df[target_metric].fillna(3 * sub_df[target_metric].min())\n",
    "\n",
    "# Train an XGBoost model to analyze feature importance\n",
    "model = xgboost.XGBRegressor(objective=\"reg:squarederror\", n_estimators=100, random_state=42)\n",
    "model.fit(X, y)\n",
    "\n",
    "# SHAP analysis\n",
    "explainer = shap.Explainer(model)\n",
    "shap_values = explainer(X)\n",
    "\n",
    "# Summary plot (feature importance)\n",
    "shap.summary_plot(shap_values, X)"
   ]
  },
  {
   "cell_type": "code",
   "execution_count": 37,
   "metadata": {},
   "outputs": [
    {
     "data": {
      "text/plain": [
       "['sub_exp_cfg_agent_params.args_.action_w_noise_amplitude',\n",
       " 'sub_exp_cfg_experiment_run_name']"
      ]
     },
     "execution_count": 37,
     "metadata": {},
     "output_type": "execute_result"
    }
   ],
   "source": [
    "hyperparam_columns"
   ]
  },
  {
   "cell_type": "code",
   "execution_count": 38,
   "metadata": {},
   "outputs": [
    {
     "data": {
      "application/vnd.plotly.v1+json": {
       "config": {
        "plotlyServerURL": "https://plot.ly"
       },
       "data": [
        {
         "hovertemplate": "experiment_name=0000_agent_params.args_.action_w_noise_amplitude_0.3__experiment_run_name_best_params<br>size=best_params<br>noise=%{x}<br>episode_rewards_mean=%{y}<extra></extra>",
         "legendgroup": "0000_agent_params.args_.action_w_noise_amplitude_0.3__experiment_run_name_best_params",
         "marker": {
          "color": "#636efa",
          "symbol": "circle"
         },
         "mode": "markers",
         "name": "0000_agent_params.args_.action_w_noise_amplitude_0.3__experiment_run_name_best_params",
         "orientation": "v",
         "showlegend": true,
         "type": "scatter",
         "x": [
          "0.3",
          "0.3",
          "0.3"
         ],
         "xaxis": "x",
         "y": [
          -57.22607580448361,
          -59.3430398511489,
          -52.361503995702684
         ],
         "yaxis": "y"
        },
        {
         "hovertemplate": "experiment_name=0001_agent_params.args_.action_w_noise_amplitude_0.8__experiment_run_name_best_params<br>size=best_params<br>noise=%{x}<br>episode_rewards_mean=%{y}<extra></extra>",
         "legendgroup": "0001_agent_params.args_.action_w_noise_amplitude_0.8__experiment_run_name_best_params",
         "marker": {
          "color": "#EF553B",
          "symbol": "circle"
         },
         "mode": "markers",
         "name": "0001_agent_params.args_.action_w_noise_amplitude_0.8__experiment_run_name_best_params",
         "orientation": "v",
         "showlegend": true,
         "type": "scatter",
         "x": [
          "0.8",
          "0.8",
          "0.8"
         ],
         "xaxis": "x",
         "y": [
          -59.78700032186266,
          -56.509389979477795,
          -59.714580562081
         ],
         "yaxis": "y"
        }
       ],
       "layout": {
        "annotations": [
         {
          "font": {},
          "showarrow": false,
          "text": "size=best_params",
          "x": 0.5,
          "xanchor": "center",
          "xref": "paper",
          "y": 1,
          "yanchor": "bottom",
          "yref": "paper"
         }
        ],
        "height": 600,
        "legend": {
         "title": {
          "text": "experiment_name"
         },
         "tracegroupgap": 0
        },
        "showlegend": false,
        "template": {
         "data": {
          "bar": [
           {
            "error_x": {
             "color": "#2a3f5f"
            },
            "error_y": {
             "color": "#2a3f5f"
            },
            "marker": {
             "line": {
              "color": "#E5ECF6",
              "width": 0.5
             },
             "pattern": {
              "fillmode": "overlay",
              "size": 10,
              "solidity": 0.2
             }
            },
            "type": "bar"
           }
          ],
          "barpolar": [
           {
            "marker": {
             "line": {
              "color": "#E5ECF6",
              "width": 0.5
             },
             "pattern": {
              "fillmode": "overlay",
              "size": 10,
              "solidity": 0.2
             }
            },
            "type": "barpolar"
           }
          ],
          "carpet": [
           {
            "aaxis": {
             "endlinecolor": "#2a3f5f",
             "gridcolor": "white",
             "linecolor": "white",
             "minorgridcolor": "white",
             "startlinecolor": "#2a3f5f"
            },
            "baxis": {
             "endlinecolor": "#2a3f5f",
             "gridcolor": "white",
             "linecolor": "white",
             "minorgridcolor": "white",
             "startlinecolor": "#2a3f5f"
            },
            "type": "carpet"
           }
          ],
          "choropleth": [
           {
            "colorbar": {
             "outlinewidth": 0,
             "ticks": ""
            },
            "type": "choropleth"
           }
          ],
          "contour": [
           {
            "colorbar": {
             "outlinewidth": 0,
             "ticks": ""
            },
            "colorscale": [
             [
              0,
              "#0d0887"
             ],
             [
              0.1111111111111111,
              "#46039f"
             ],
             [
              0.2222222222222222,
              "#7201a8"
             ],
             [
              0.3333333333333333,
              "#9c179e"
             ],
             [
              0.4444444444444444,
              "#bd3786"
             ],
             [
              0.5555555555555556,
              "#d8576b"
             ],
             [
              0.6666666666666666,
              "#ed7953"
             ],
             [
              0.7777777777777778,
              "#fb9f3a"
             ],
             [
              0.8888888888888888,
              "#fdca26"
             ],
             [
              1,
              "#f0f921"
             ]
            ],
            "type": "contour"
           }
          ],
          "contourcarpet": [
           {
            "colorbar": {
             "outlinewidth": 0,
             "ticks": ""
            },
            "type": "contourcarpet"
           }
          ],
          "heatmap": [
           {
            "colorbar": {
             "outlinewidth": 0,
             "ticks": ""
            },
            "colorscale": [
             [
              0,
              "#0d0887"
             ],
             [
              0.1111111111111111,
              "#46039f"
             ],
             [
              0.2222222222222222,
              "#7201a8"
             ],
             [
              0.3333333333333333,
              "#9c179e"
             ],
             [
              0.4444444444444444,
              "#bd3786"
             ],
             [
              0.5555555555555556,
              "#d8576b"
             ],
             [
              0.6666666666666666,
              "#ed7953"
             ],
             [
              0.7777777777777778,
              "#fb9f3a"
             ],
             [
              0.8888888888888888,
              "#fdca26"
             ],
             [
              1,
              "#f0f921"
             ]
            ],
            "type": "heatmap"
           }
          ],
          "heatmapgl": [
           {
            "colorbar": {
             "outlinewidth": 0,
             "ticks": ""
            },
            "colorscale": [
             [
              0,
              "#0d0887"
             ],
             [
              0.1111111111111111,
              "#46039f"
             ],
             [
              0.2222222222222222,
              "#7201a8"
             ],
             [
              0.3333333333333333,
              "#9c179e"
             ],
             [
              0.4444444444444444,
              "#bd3786"
             ],
             [
              0.5555555555555556,
              "#d8576b"
             ],
             [
              0.6666666666666666,
              "#ed7953"
             ],
             [
              0.7777777777777778,
              "#fb9f3a"
             ],
             [
              0.8888888888888888,
              "#fdca26"
             ],
             [
              1,
              "#f0f921"
             ]
            ],
            "type": "heatmapgl"
           }
          ],
          "histogram": [
           {
            "marker": {
             "pattern": {
              "fillmode": "overlay",
              "size": 10,
              "solidity": 0.2
             }
            },
            "type": "histogram"
           }
          ],
          "histogram2d": [
           {
            "colorbar": {
             "outlinewidth": 0,
             "ticks": ""
            },
            "colorscale": [
             [
              0,
              "#0d0887"
             ],
             [
              0.1111111111111111,
              "#46039f"
             ],
             [
              0.2222222222222222,
              "#7201a8"
             ],
             [
              0.3333333333333333,
              "#9c179e"
             ],
             [
              0.4444444444444444,
              "#bd3786"
             ],
             [
              0.5555555555555556,
              "#d8576b"
             ],
             [
              0.6666666666666666,
              "#ed7953"
             ],
             [
              0.7777777777777778,
              "#fb9f3a"
             ],
             [
              0.8888888888888888,
              "#fdca26"
             ],
             [
              1,
              "#f0f921"
             ]
            ],
            "type": "histogram2d"
           }
          ],
          "histogram2dcontour": [
           {
            "colorbar": {
             "outlinewidth": 0,
             "ticks": ""
            },
            "colorscale": [
             [
              0,
              "#0d0887"
             ],
             [
              0.1111111111111111,
              "#46039f"
             ],
             [
              0.2222222222222222,
              "#7201a8"
             ],
             [
              0.3333333333333333,
              "#9c179e"
             ],
             [
              0.4444444444444444,
              "#bd3786"
             ],
             [
              0.5555555555555556,
              "#d8576b"
             ],
             [
              0.6666666666666666,
              "#ed7953"
             ],
             [
              0.7777777777777778,
              "#fb9f3a"
             ],
             [
              0.8888888888888888,
              "#fdca26"
             ],
             [
              1,
              "#f0f921"
             ]
            ],
            "type": "histogram2dcontour"
           }
          ],
          "mesh3d": [
           {
            "colorbar": {
             "outlinewidth": 0,
             "ticks": ""
            },
            "type": "mesh3d"
           }
          ],
          "parcoords": [
           {
            "line": {
             "colorbar": {
              "outlinewidth": 0,
              "ticks": ""
             }
            },
            "type": "parcoords"
           }
          ],
          "pie": [
           {
            "automargin": true,
            "type": "pie"
           }
          ],
          "scatter": [
           {
            "fillpattern": {
             "fillmode": "overlay",
             "size": 10,
             "solidity": 0.2
            },
            "type": "scatter"
           }
          ],
          "scatter3d": [
           {
            "line": {
             "colorbar": {
              "outlinewidth": 0,
              "ticks": ""
             }
            },
            "marker": {
             "colorbar": {
              "outlinewidth": 0,
              "ticks": ""
             }
            },
            "type": "scatter3d"
           }
          ],
          "scattercarpet": [
           {
            "marker": {
             "colorbar": {
              "outlinewidth": 0,
              "ticks": ""
             }
            },
            "type": "scattercarpet"
           }
          ],
          "scattergeo": [
           {
            "marker": {
             "colorbar": {
              "outlinewidth": 0,
              "ticks": ""
             }
            },
            "type": "scattergeo"
           }
          ],
          "scattergl": [
           {
            "marker": {
             "colorbar": {
              "outlinewidth": 0,
              "ticks": ""
             }
            },
            "type": "scattergl"
           }
          ],
          "scattermapbox": [
           {
            "marker": {
             "colorbar": {
              "outlinewidth": 0,
              "ticks": ""
             }
            },
            "type": "scattermapbox"
           }
          ],
          "scatterpolar": [
           {
            "marker": {
             "colorbar": {
              "outlinewidth": 0,
              "ticks": ""
             }
            },
            "type": "scatterpolar"
           }
          ],
          "scatterpolargl": [
           {
            "marker": {
             "colorbar": {
              "outlinewidth": 0,
              "ticks": ""
             }
            },
            "type": "scatterpolargl"
           }
          ],
          "scatterternary": [
           {
            "marker": {
             "colorbar": {
              "outlinewidth": 0,
              "ticks": ""
             }
            },
            "type": "scatterternary"
           }
          ],
          "surface": [
           {
            "colorbar": {
             "outlinewidth": 0,
             "ticks": ""
            },
            "colorscale": [
             [
              0,
              "#0d0887"
             ],
             [
              0.1111111111111111,
              "#46039f"
             ],
             [
              0.2222222222222222,
              "#7201a8"
             ],
             [
              0.3333333333333333,
              "#9c179e"
             ],
             [
              0.4444444444444444,
              "#bd3786"
             ],
             [
              0.5555555555555556,
              "#d8576b"
             ],
             [
              0.6666666666666666,
              "#ed7953"
             ],
             [
              0.7777777777777778,
              "#fb9f3a"
             ],
             [
              0.8888888888888888,
              "#fdca26"
             ],
             [
              1,
              "#f0f921"
             ]
            ],
            "type": "surface"
           }
          ],
          "table": [
           {
            "cells": {
             "fill": {
              "color": "#EBF0F8"
             },
             "line": {
              "color": "white"
             }
            },
            "header": {
             "fill": {
              "color": "#C8D4E3"
             },
             "line": {
              "color": "white"
             }
            },
            "type": "table"
           }
          ]
         },
         "layout": {
          "annotationdefaults": {
           "arrowcolor": "#2a3f5f",
           "arrowhead": 0,
           "arrowwidth": 1
          },
          "autotypenumbers": "strict",
          "coloraxis": {
           "colorbar": {
            "outlinewidth": 0,
            "ticks": ""
           }
          },
          "colorscale": {
           "diverging": [
            [
             0,
             "#8e0152"
            ],
            [
             0.1,
             "#c51b7d"
            ],
            [
             0.2,
             "#de77ae"
            ],
            [
             0.3,
             "#f1b6da"
            ],
            [
             0.4,
             "#fde0ef"
            ],
            [
             0.5,
             "#f7f7f7"
            ],
            [
             0.6,
             "#e6f5d0"
            ],
            [
             0.7,
             "#b8e186"
            ],
            [
             0.8,
             "#7fbc41"
            ],
            [
             0.9,
             "#4d9221"
            ],
            [
             1,
             "#276419"
            ]
           ],
           "sequential": [
            [
             0,
             "#0d0887"
            ],
            [
             0.1111111111111111,
             "#46039f"
            ],
            [
             0.2222222222222222,
             "#7201a8"
            ],
            [
             0.3333333333333333,
             "#9c179e"
            ],
            [
             0.4444444444444444,
             "#bd3786"
            ],
            [
             0.5555555555555556,
             "#d8576b"
            ],
            [
             0.6666666666666666,
             "#ed7953"
            ],
            [
             0.7777777777777778,
             "#fb9f3a"
            ],
            [
             0.8888888888888888,
             "#fdca26"
            ],
            [
             1,
             "#f0f921"
            ]
           ],
           "sequentialminus": [
            [
             0,
             "#0d0887"
            ],
            [
             0.1111111111111111,
             "#46039f"
            ],
            [
             0.2222222222222222,
             "#7201a8"
            ],
            [
             0.3333333333333333,
             "#9c179e"
            ],
            [
             0.4444444444444444,
             "#bd3786"
            ],
            [
             0.5555555555555556,
             "#d8576b"
            ],
            [
             0.6666666666666666,
             "#ed7953"
            ],
            [
             0.7777777777777778,
             "#fb9f3a"
            ],
            [
             0.8888888888888888,
             "#fdca26"
            ],
            [
             1,
             "#f0f921"
            ]
           ]
          },
          "colorway": [
           "#636efa",
           "#EF553B",
           "#00cc96",
           "#ab63fa",
           "#FFA15A",
           "#19d3f3",
           "#FF6692",
           "#B6E880",
           "#FF97FF",
           "#FECB52"
          ],
          "font": {
           "color": "#2a3f5f"
          },
          "geo": {
           "bgcolor": "white",
           "lakecolor": "white",
           "landcolor": "#E5ECF6",
           "showlakes": true,
           "showland": true,
           "subunitcolor": "white"
          },
          "hoverlabel": {
           "align": "left"
          },
          "hovermode": "closest",
          "mapbox": {
           "style": "light"
          },
          "paper_bgcolor": "white",
          "plot_bgcolor": "#E5ECF6",
          "polar": {
           "angularaxis": {
            "gridcolor": "white",
            "linecolor": "white",
            "ticks": ""
           },
           "bgcolor": "#E5ECF6",
           "radialaxis": {
            "gridcolor": "white",
            "linecolor": "white",
            "ticks": ""
           }
          },
          "scene": {
           "xaxis": {
            "backgroundcolor": "#E5ECF6",
            "gridcolor": "white",
            "gridwidth": 2,
            "linecolor": "white",
            "showbackground": true,
            "ticks": "",
            "zerolinecolor": "white"
           },
           "yaxis": {
            "backgroundcolor": "#E5ECF6",
            "gridcolor": "white",
            "gridwidth": 2,
            "linecolor": "white",
            "showbackground": true,
            "ticks": "",
            "zerolinecolor": "white"
           },
           "zaxis": {
            "backgroundcolor": "#E5ECF6",
            "gridcolor": "white",
            "gridwidth": 2,
            "linecolor": "white",
            "showbackground": true,
            "ticks": "",
            "zerolinecolor": "white"
           }
          },
          "shapedefaults": {
           "line": {
            "color": "#2a3f5f"
           }
          },
          "ternary": {
           "aaxis": {
            "gridcolor": "white",
            "linecolor": "white",
            "ticks": ""
           },
           "baxis": {
            "gridcolor": "white",
            "linecolor": "white",
            "ticks": ""
           },
           "bgcolor": "#E5ECF6",
           "caxis": {
            "gridcolor": "white",
            "linecolor": "white",
            "ticks": ""
           }
          },
          "title": {
           "x": 0.05
          },
          "xaxis": {
           "automargin": true,
           "gridcolor": "white",
           "linecolor": "white",
           "ticks": "",
           "title": {
            "standoff": 15
           },
           "zerolinecolor": "white",
           "zerolinewidth": 2
          },
          "yaxis": {
           "automargin": true,
           "gridcolor": "white",
           "linecolor": "white",
           "ticks": "",
           "title": {
            "standoff": 15
           },
           "zerolinecolor": "white",
           "zerolinewidth": 2
          }
         }
        },
        "title": {
         "text": "Episode Rewards vs. Noise Faceted by Size"
        },
        "xaxis": {
         "anchor": "y",
         "domain": [
          0,
          1
         ],
         "title": {
          "text": "noise"
         }
        },
        "yaxis": {
         "anchor": "x",
         "domain": [
          0,
          1
         ],
         "title": {
          "text": "episode_rewards_mean"
         }
        }
       }
      }
     },
     "metadata": {},
     "output_type": "display_data"
    }
   ],
   "source": [
    "import plotly.express as px\n",
    "\n",
    "# Define readable names for selected hyperparams\n",
    "readable_names = {\n",
    "    hyperparam_columns[0]: \"noise\",\n",
    "    hyperparam_columns[1]: \"size\"\n",
    "}\n",
    "\n",
    "# Rename columns in a copy of the dataframe\n",
    "plot_df = sub_df.rename(columns=readable_names)\n",
    "\n",
    "# Assign new column names\n",
    "x_col = \"noise\"\n",
    "y_col = \"episode_rewards_mean\"\n",
    "facet_col = \"size\"\n",
    "\n",
    "# Plot\n",
    "fig = px.scatter(\n",
    "    plot_df,\n",
    "    x=x_col,\n",
    "    y=y_col,\n",
    "    color=\"experiment_name\",  # Optional: color by experiment\n",
    "    facet_col=facet_col,\n",
    "    title=\"Episode Rewards vs. Noise Faceted by Size\",\n",
    "    height=600\n",
    ")\n",
    "\n",
    "fig.update_layout(showlegend=False)\n",
    "fig.show()\n"
   ]
  },
  {
   "cell_type": "code",
   "execution_count": null,
   "metadata": {},
   "outputs": [],
   "source": []
  }
 ],
 "metadata": {
  "kernelspec": {
   "display_name": "phd_rl_algos",
   "language": "python",
   "name": "python3"
  },
  "language_info": {
   "codemirror_mode": {
    "name": "ipython",
    "version": 3
   },
   "file_extension": ".py",
   "mimetype": "text/x-python",
   "name": "python",
   "nbconvert_exporter": "python",
   "pygments_lexer": "ipython3",
   "version": "3.11.5"
  }
 },
 "nbformat": 4,
 "nbformat_minor": 2
}
