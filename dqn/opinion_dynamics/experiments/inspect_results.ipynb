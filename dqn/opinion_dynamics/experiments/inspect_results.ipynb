{
 "cells": [
  {
   "cell_type": "code",
   "execution_count": 58,
   "metadata": {},
   "outputs": [
    {
     "name": "stdout",
     "output_type": "stream",
     "text": [
      "The autoreload extension is already loaded. To reload it, use:\n",
      "  %reload_ext autoreload\n"
     ]
    }
   ],
   "source": [
    "%load_ext autoreload\n",
    "%autoreload 2"
   ]
  },
  {
   "cell_type": "code",
   "execution_count": 59,
   "metadata": {},
   "outputs": [],
   "source": [
    "import os, sys\n",
    "\n",
    "def get_dir_n_levels_up(path, n):\n",
    "    # Go up n levels from the given path\n",
    "    for _ in range(n):\n",
    "        path = os.path.dirname(path)\n",
    "    return path\n",
    "\n",
    "proj_root = get_dir_n_levels_up(os.path.abspath(\"__file__\"), 4)\n",
    "sys.path.append(proj_root)\n",
    "\n",
    "import pandas as pd\n",
    "import yaml\n",
    "import torch\n",
    "import collections\n",
    "\n",
    "import warnings\n",
    "import numpy as np\n",
    "\n",
    "import seaborn as sns\n",
    "import matplotlib.pyplot as plt\n",
    "sns.set_theme()\n",
    "\n",
    "warnings.filterwarnings(\"ignore\")\n",
    "\n",
    "from dqn.opinion_dynamics.utils.experiment import process_experiment\n"
   ]
  },
  {
   "cell_type": "code",
   "execution_count": 60,
   "metadata": {},
   "outputs": [
    {
     "data": {
      "text/plain": [
       "Index(['epoch_type', 'frame_stamp', 'greedy_epsilon', 'episode_rewards_min',\n",
       "       'episode_rewards_max', 'episode_rewards_mean', 'episode_rewards_median',\n",
       "       'episode_rewards_std', 'episode_discounted_rewards_min',\n",
       "       'episode_discounted_rewards_max', 'episode_discounted_rewards_mean',\n",
       "       'episode_discounted_rewards_median', 'episode_discounted_rewards_std',\n",
       "       'episode_frames_min', 'episode_frames_max', 'episode_frames_mean',\n",
       "       'episode_frames_median', 'episode_frames_std', 'episode_losses_min',\n",
       "       'episode_losses_max', 'episode_losses_mean', 'episode_losses_median',\n",
       "       'episode_losses_std', 'episode_max_qs_min', 'episode_max_qs_max',\n",
       "       'episode_max_qs_mean', 'episode_max_qs_median', 'episode_max_qs_std',\n",
       "       'policy_trained_times', 'target_trained_times', 'epoch_time',\n",
       "       'sub_exp_cfg_agent_params.args_.target_model_update_freq',\n",
       "       'sub_exp_cfg_agent_params.args_.training_freq', 'sub_experiment_path',\n",
       "       'seed', 'experiment_name'],\n",
       "      dtype='object')"
      ]
     },
     "execution_count": 60,
     "metadata": {},
     "output_type": "execute_result"
    }
   ],
   "source": [
    "# experiment_sub_dir = \"2025May02-101004_configs\" # excellent run\n",
    "experiment_sub_dir = \"2025Jul01-141613_configs\"\n",
    "\n",
    "exp_path = os.path.join(os.path.abspath(\".\"), \"results\", experiment_sub_dir)\n",
    "df = process_experiment(\n",
    "    exp_path\n",
    ")\n",
    "df.columns\n"
   ]
  },
  {
   "cell_type": "code",
   "execution_count": 61,
   "metadata": {},
   "outputs": [
    {
     "data": {
      "text/html": [
       "<div>\n",
       "<style scoped>\n",
       "    .dataframe tbody tr th:only-of-type {\n",
       "        vertical-align: middle;\n",
       "    }\n",
       "\n",
       "    .dataframe tbody tr th {\n",
       "        vertical-align: top;\n",
       "    }\n",
       "\n",
       "    .dataframe thead th {\n",
       "        text-align: right;\n",
       "    }\n",
       "</style>\n",
       "<table border=\"1\" class=\"dataframe\">\n",
       "  <thead>\n",
       "    <tr style=\"text-align: right;\">\n",
       "      <th></th>\n",
       "      <th>epoch_type</th>\n",
       "      <th>frame_stamp</th>\n",
       "      <th>greedy_epsilon</th>\n",
       "      <th>episode_rewards_min</th>\n",
       "      <th>episode_rewards_max</th>\n",
       "      <th>episode_rewards_mean</th>\n",
       "      <th>episode_rewards_median</th>\n",
       "      <th>episode_rewards_std</th>\n",
       "      <th>episode_discounted_rewards_min</th>\n",
       "      <th>episode_discounted_rewards_max</th>\n",
       "      <th>...</th>\n",
       "      <th>episode_max_qs_median</th>\n",
       "      <th>episode_max_qs_std</th>\n",
       "      <th>policy_trained_times</th>\n",
       "      <th>target_trained_times</th>\n",
       "      <th>epoch_time</th>\n",
       "      <th>sub_exp_cfg_agent_params.args_.target_model_update_freq</th>\n",
       "      <th>sub_exp_cfg_agent_params.args_.training_freq</th>\n",
       "      <th>sub_experiment_path</th>\n",
       "      <th>seed</th>\n",
       "      <th>experiment_name</th>\n",
       "    </tr>\n",
       "  </thead>\n",
       "  <tbody>\n",
       "    <tr>\n",
       "      <th>0</th>\n",
       "      <td>training</td>\n",
       "      <td>200000</td>\n",
       "      <td>0.983159</td>\n",
       "      <td>-7.380671</td>\n",
       "      <td>-1.442521</td>\n",
       "      <td>-4.442603</td>\n",
       "      <td>-4.431700</td>\n",
       "      <td>0.837026</td>\n",
       "      <td>-6.902676</td>\n",
       "      <td>-1.414784</td>\n",
       "      <td>...</td>\n",
       "      <td>0.890582</td>\n",
       "      <td>0.627427</td>\n",
       "      <td>48749.0</td>\n",
       "      <td>96.0</td>\n",
       "      <td>0 days 00:07:03.206267</td>\n",
       "      <td>2000</td>\n",
       "      <td>4</td>\n",
       "      <td>d:\\Work\\repos\\RL\\phd-rl-algos\\dqn\\opinion_dyna...</td>\n",
       "      <td>0</td>\n",
       "      <td>0000_agent_params.args_.target_model_update_fr...</td>\n",
       "    </tr>\n",
       "    <tr>\n",
       "      <th>1</th>\n",
       "      <td>training</td>\n",
       "      <td>400000</td>\n",
       "      <td>0.965886</td>\n",
       "      <td>-7.792339</td>\n",
       "      <td>-1.746956</td>\n",
       "      <td>-4.474000</td>\n",
       "      <td>-4.449678</td>\n",
       "      <td>0.839831</td>\n",
       "      <td>-7.275731</td>\n",
       "      <td>-1.705441</td>\n",
       "      <td>...</td>\n",
       "      <td>-0.329339</td>\n",
       "      <td>0.836134</td>\n",
       "      <td>50000.0</td>\n",
       "      <td>100.0</td>\n",
       "      <td>0 days 00:07:28.672905</td>\n",
       "      <td>2000</td>\n",
       "      <td>4</td>\n",
       "      <td>d:\\Work\\repos\\RL\\phd-rl-algos\\dqn\\opinion_dyna...</td>\n",
       "      <td>0</td>\n",
       "      <td>0000_agent_params.args_.target_model_update_fr...</td>\n",
       "    </tr>\n",
       "    <tr>\n",
       "      <th>2</th>\n",
       "      <td>training</td>\n",
       "      <td>600000</td>\n",
       "      <td>0.948614</td>\n",
       "      <td>-7.580369</td>\n",
       "      <td>-1.516737</td>\n",
       "      <td>-4.446692</td>\n",
       "      <td>-4.416772</td>\n",
       "      <td>0.824773</td>\n",
       "      <td>-7.090354</td>\n",
       "      <td>-1.488443</td>\n",
       "      <td>...</td>\n",
       "      <td>-0.634564</td>\n",
       "      <td>1.129782</td>\n",
       "      <td>50000.0</td>\n",
       "      <td>100.0</td>\n",
       "      <td>0 days 00:07:56.100692</td>\n",
       "      <td>2000</td>\n",
       "      <td>4</td>\n",
       "      <td>d:\\Work\\repos\\RL\\phd-rl-algos\\dqn\\opinion_dyna...</td>\n",
       "      <td>0</td>\n",
       "      <td>0000_agent_params.args_.target_model_update_fr...</td>\n",
       "    </tr>\n",
       "    <tr>\n",
       "      <th>3</th>\n",
       "      <td>training</td>\n",
       "      <td>800000</td>\n",
       "      <td>0.931341</td>\n",
       "      <td>-7.507868</td>\n",
       "      <td>-1.738659</td>\n",
       "      <td>-4.415485</td>\n",
       "      <td>-4.389950</td>\n",
       "      <td>0.825498</td>\n",
       "      <td>-7.013405</td>\n",
       "      <td>-1.696734</td>\n",
       "      <td>...</td>\n",
       "      <td>-0.725239</td>\n",
       "      <td>1.235835</td>\n",
       "      <td>50000.0</td>\n",
       "      <td>100.0</td>\n",
       "      <td>0 days 00:07:54.319024</td>\n",
       "      <td>2000</td>\n",
       "      <td>4</td>\n",
       "      <td>d:\\Work\\repos\\RL\\phd-rl-algos\\dqn\\opinion_dyna...</td>\n",
       "      <td>0</td>\n",
       "      <td>0000_agent_params.args_.target_model_update_fr...</td>\n",
       "    </tr>\n",
       "    <tr>\n",
       "      <th>4</th>\n",
       "      <td>training</td>\n",
       "      <td>1000000</td>\n",
       "      <td>0.914068</td>\n",
       "      <td>-7.513511</td>\n",
       "      <td>-1.637147</td>\n",
       "      <td>-4.362384</td>\n",
       "      <td>-4.343620</td>\n",
       "      <td>0.817857</td>\n",
       "      <td>-7.027796</td>\n",
       "      <td>-1.603746</td>\n",
       "      <td>...</td>\n",
       "      <td>-0.746177</td>\n",
       "      <td>1.260025</td>\n",
       "      <td>50000.0</td>\n",
       "      <td>100.0</td>\n",
       "      <td>0 days 00:07:53.069239</td>\n",
       "      <td>2000</td>\n",
       "      <td>4</td>\n",
       "      <td>d:\\Work\\repos\\RL\\phd-rl-algos\\dqn\\opinion_dyna...</td>\n",
       "      <td>0</td>\n",
       "      <td>0000_agent_params.args_.target_model_update_fr...</td>\n",
       "    </tr>\n",
       "    <tr>\n",
       "      <th>...</th>\n",
       "      <td>...</td>\n",
       "      <td>...</td>\n",
       "      <td>...</td>\n",
       "      <td>...</td>\n",
       "      <td>...</td>\n",
       "      <td>...</td>\n",
       "      <td>...</td>\n",
       "      <td>...</td>\n",
       "      <td>...</td>\n",
       "      <td>...</td>\n",
       "      <td>...</td>\n",
       "      <td>...</td>\n",
       "      <td>...</td>\n",
       "      <td>...</td>\n",
       "      <td>...</td>\n",
       "      <td>...</td>\n",
       "      <td>...</td>\n",
       "      <td>...</td>\n",
       "      <td>...</td>\n",
       "      <td>...</td>\n",
       "      <td>...</td>\n",
       "    </tr>\n",
       "    <tr>\n",
       "      <th>1435</th>\n",
       "      <td>validation</td>\n",
       "      <td>11200000</td>\n",
       "      <td>NaN</td>\n",
       "      <td>-7.785173</td>\n",
       "      <td>-7.785126</td>\n",
       "      <td>-7.785152</td>\n",
       "      <td>-7.785153</td>\n",
       "      <td>0.000010</td>\n",
       "      <td>-7.298100</td>\n",
       "      <td>-7.298057</td>\n",
       "      <td>...</td>\n",
       "      <td>-1.413169</td>\n",
       "      <td>2.183112</td>\n",
       "      <td>NaN</td>\n",
       "      <td>NaN</td>\n",
       "      <td>0 days 00:00:00.710745</td>\n",
       "      <td>5000</td>\n",
       "      <td>8</td>\n",
       "      <td>d:\\Work\\repos\\RL\\phd-rl-algos\\dqn\\opinion_dyna...</td>\n",
       "      <td>2</td>\n",
       "      <td>0003_agent_params.args_.target_model_update_fr...</td>\n",
       "    </tr>\n",
       "    <tr>\n",
       "      <th>1436</th>\n",
       "      <td>validation</td>\n",
       "      <td>11400000</td>\n",
       "      <td>NaN</td>\n",
       "      <td>-7.881024</td>\n",
       "      <td>-7.880983</td>\n",
       "      <td>-7.881005</td>\n",
       "      <td>-7.881005</td>\n",
       "      <td>0.000010</td>\n",
       "      <td>-7.375956</td>\n",
       "      <td>-7.375918</td>\n",
       "      <td>...</td>\n",
       "      <td>-1.303822</td>\n",
       "      <td>2.192605</td>\n",
       "      <td>NaN</td>\n",
       "      <td>NaN</td>\n",
       "      <td>0 days 00:00:00.686618</td>\n",
       "      <td>5000</td>\n",
       "      <td>8</td>\n",
       "      <td>d:\\Work\\repos\\RL\\phd-rl-algos\\dqn\\opinion_dyna...</td>\n",
       "      <td>2</td>\n",
       "      <td>0003_agent_params.args_.target_model_update_fr...</td>\n",
       "    </tr>\n",
       "    <tr>\n",
       "      <th>1437</th>\n",
       "      <td>validation</td>\n",
       "      <td>11600000</td>\n",
       "      <td>NaN</td>\n",
       "      <td>-7.791441</td>\n",
       "      <td>-7.791382</td>\n",
       "      <td>-7.791408</td>\n",
       "      <td>-7.791409</td>\n",
       "      <td>0.000012</td>\n",
       "      <td>-7.303085</td>\n",
       "      <td>-7.303032</td>\n",
       "      <td>...</td>\n",
       "      <td>-1.441153</td>\n",
       "      <td>2.189411</td>\n",
       "      <td>NaN</td>\n",
       "      <td>NaN</td>\n",
       "      <td>0 days 00:00:00.704880</td>\n",
       "      <td>5000</td>\n",
       "      <td>8</td>\n",
       "      <td>d:\\Work\\repos\\RL\\phd-rl-algos\\dqn\\opinion_dyna...</td>\n",
       "      <td>2</td>\n",
       "      <td>0003_agent_params.args_.target_model_update_fr...</td>\n",
       "    </tr>\n",
       "    <tr>\n",
       "      <th>1438</th>\n",
       "      <td>validation</td>\n",
       "      <td>11800000</td>\n",
       "      <td>NaN</td>\n",
       "      <td>-7.791475</td>\n",
       "      <td>-7.791427</td>\n",
       "      <td>-7.791450</td>\n",
       "      <td>-7.791450</td>\n",
       "      <td>0.000012</td>\n",
       "      <td>-7.303253</td>\n",
       "      <td>-7.303211</td>\n",
       "      <td>...</td>\n",
       "      <td>-1.422806</td>\n",
       "      <td>2.194503</td>\n",
       "      <td>NaN</td>\n",
       "      <td>NaN</td>\n",
       "      <td>0 days 00:00:00.723586</td>\n",
       "      <td>5000</td>\n",
       "      <td>8</td>\n",
       "      <td>d:\\Work\\repos\\RL\\phd-rl-algos\\dqn\\opinion_dyna...</td>\n",
       "      <td>2</td>\n",
       "      <td>0003_agent_params.args_.target_model_update_fr...</td>\n",
       "    </tr>\n",
       "    <tr>\n",
       "      <th>1439</th>\n",
       "      <td>validation</td>\n",
       "      <td>12000000</td>\n",
       "      <td>NaN</td>\n",
       "      <td>-7.785032</td>\n",
       "      <td>-7.784986</td>\n",
       "      <td>-7.785008</td>\n",
       "      <td>-7.785007</td>\n",
       "      <td>0.000011</td>\n",
       "      <td>-7.298050</td>\n",
       "      <td>-7.298009</td>\n",
       "      <td>...</td>\n",
       "      <td>-1.432225</td>\n",
       "      <td>2.194117</td>\n",
       "      <td>NaN</td>\n",
       "      <td>NaN</td>\n",
       "      <td>0 days 00:00:00.723905</td>\n",
       "      <td>5000</td>\n",
       "      <td>8</td>\n",
       "      <td>d:\\Work\\repos\\RL\\phd-rl-algos\\dqn\\opinion_dyna...</td>\n",
       "      <td>2</td>\n",
       "      <td>0003_agent_params.args_.target_model_update_fr...</td>\n",
       "    </tr>\n",
       "  </tbody>\n",
       "</table>\n",
       "<p>1440 rows × 36 columns</p>\n",
       "</div>"
      ],
      "text/plain": [
       "      epoch_type  frame_stamp  greedy_epsilon  episode_rewards_min  \\\n",
       "0       training       200000        0.983159            -7.380671   \n",
       "1       training       400000        0.965886            -7.792339   \n",
       "2       training       600000        0.948614            -7.580369   \n",
       "3       training       800000        0.931341            -7.507868   \n",
       "4       training      1000000        0.914068            -7.513511   \n",
       "...          ...          ...             ...                  ...   \n",
       "1435  validation     11200000             NaN            -7.785173   \n",
       "1436  validation     11400000             NaN            -7.881024   \n",
       "1437  validation     11600000             NaN            -7.791441   \n",
       "1438  validation     11800000             NaN            -7.791475   \n",
       "1439  validation     12000000             NaN            -7.785032   \n",
       "\n",
       "      episode_rewards_max  episode_rewards_mean  episode_rewards_median  \\\n",
       "0               -1.442521             -4.442603               -4.431700   \n",
       "1               -1.746956             -4.474000               -4.449678   \n",
       "2               -1.516737             -4.446692               -4.416772   \n",
       "3               -1.738659             -4.415485               -4.389950   \n",
       "4               -1.637147             -4.362384               -4.343620   \n",
       "...                   ...                   ...                     ...   \n",
       "1435            -7.785126             -7.785152               -7.785153   \n",
       "1436            -7.880983             -7.881005               -7.881005   \n",
       "1437            -7.791382             -7.791408               -7.791409   \n",
       "1438            -7.791427             -7.791450               -7.791450   \n",
       "1439            -7.784986             -7.785008               -7.785007   \n",
       "\n",
       "      episode_rewards_std  episode_discounted_rewards_min  \\\n",
       "0                0.837026                       -6.902676   \n",
       "1                0.839831                       -7.275731   \n",
       "2                0.824773                       -7.090354   \n",
       "3                0.825498                       -7.013405   \n",
       "4                0.817857                       -7.027796   \n",
       "...                   ...                             ...   \n",
       "1435             0.000010                       -7.298100   \n",
       "1436             0.000010                       -7.375956   \n",
       "1437             0.000012                       -7.303085   \n",
       "1438             0.000012                       -7.303253   \n",
       "1439             0.000011                       -7.298050   \n",
       "\n",
       "      episode_discounted_rewards_max  ...  episode_max_qs_median  \\\n",
       "0                          -1.414784  ...               0.890582   \n",
       "1                          -1.705441  ...              -0.329339   \n",
       "2                          -1.488443  ...              -0.634564   \n",
       "3                          -1.696734  ...              -0.725239   \n",
       "4                          -1.603746  ...              -0.746177   \n",
       "...                              ...  ...                    ...   \n",
       "1435                       -7.298057  ...              -1.413169   \n",
       "1436                       -7.375918  ...              -1.303822   \n",
       "1437                       -7.303032  ...              -1.441153   \n",
       "1438                       -7.303211  ...              -1.422806   \n",
       "1439                       -7.298009  ...              -1.432225   \n",
       "\n",
       "      episode_max_qs_std  policy_trained_times  target_trained_times  \\\n",
       "0               0.627427               48749.0                  96.0   \n",
       "1               0.836134               50000.0                 100.0   \n",
       "2               1.129782               50000.0                 100.0   \n",
       "3               1.235835               50000.0                 100.0   \n",
       "4               1.260025               50000.0                 100.0   \n",
       "...                  ...                   ...                   ...   \n",
       "1435            2.183112                   NaN                   NaN   \n",
       "1436            2.192605                   NaN                   NaN   \n",
       "1437            2.189411                   NaN                   NaN   \n",
       "1438            2.194503                   NaN                   NaN   \n",
       "1439            2.194117                   NaN                   NaN   \n",
       "\n",
       "                 epoch_time  \\\n",
       "0    0 days 00:07:03.206267   \n",
       "1    0 days 00:07:28.672905   \n",
       "2    0 days 00:07:56.100692   \n",
       "3    0 days 00:07:54.319024   \n",
       "4    0 days 00:07:53.069239   \n",
       "...                     ...   \n",
       "1435 0 days 00:00:00.710745   \n",
       "1436 0 days 00:00:00.686618   \n",
       "1437 0 days 00:00:00.704880   \n",
       "1438 0 days 00:00:00.723586   \n",
       "1439 0 days 00:00:00.723905   \n",
       "\n",
       "      sub_exp_cfg_agent_params.args_.target_model_update_freq  \\\n",
       "0                                                  2000         \n",
       "1                                                  2000         \n",
       "2                                                  2000         \n",
       "3                                                  2000         \n",
       "4                                                  2000         \n",
       "...                                                 ...         \n",
       "1435                                               5000         \n",
       "1436                                               5000         \n",
       "1437                                               5000         \n",
       "1438                                               5000         \n",
       "1439                                               5000         \n",
       "\n",
       "      sub_exp_cfg_agent_params.args_.training_freq  \\\n",
       "0                                                4   \n",
       "1                                                4   \n",
       "2                                                4   \n",
       "3                                                4   \n",
       "4                                                4   \n",
       "...                                            ...   \n",
       "1435                                             8   \n",
       "1436                                             8   \n",
       "1437                                             8   \n",
       "1438                                             8   \n",
       "1439                                             8   \n",
       "\n",
       "                                    sub_experiment_path  seed  \\\n",
       "0     d:\\Work\\repos\\RL\\phd-rl-algos\\dqn\\opinion_dyna...     0   \n",
       "1     d:\\Work\\repos\\RL\\phd-rl-algos\\dqn\\opinion_dyna...     0   \n",
       "2     d:\\Work\\repos\\RL\\phd-rl-algos\\dqn\\opinion_dyna...     0   \n",
       "3     d:\\Work\\repos\\RL\\phd-rl-algos\\dqn\\opinion_dyna...     0   \n",
       "4     d:\\Work\\repos\\RL\\phd-rl-algos\\dqn\\opinion_dyna...     0   \n",
       "...                                                 ...   ...   \n",
       "1435  d:\\Work\\repos\\RL\\phd-rl-algos\\dqn\\opinion_dyna...     2   \n",
       "1436  d:\\Work\\repos\\RL\\phd-rl-algos\\dqn\\opinion_dyna...     2   \n",
       "1437  d:\\Work\\repos\\RL\\phd-rl-algos\\dqn\\opinion_dyna...     2   \n",
       "1438  d:\\Work\\repos\\RL\\phd-rl-algos\\dqn\\opinion_dyna...     2   \n",
       "1439  d:\\Work\\repos\\RL\\phd-rl-algos\\dqn\\opinion_dyna...     2   \n",
       "\n",
       "                                        experiment_name  \n",
       "0     0000_agent_params.args_.target_model_update_fr...  \n",
       "1     0000_agent_params.args_.target_model_update_fr...  \n",
       "2     0000_agent_params.args_.target_model_update_fr...  \n",
       "3     0000_agent_params.args_.target_model_update_fr...  \n",
       "4     0000_agent_params.args_.target_model_update_fr...  \n",
       "...                                                 ...  \n",
       "1435  0003_agent_params.args_.target_model_update_fr...  \n",
       "1436  0003_agent_params.args_.target_model_update_fr...  \n",
       "1437  0003_agent_params.args_.target_model_update_fr...  \n",
       "1438  0003_agent_params.args_.target_model_update_fr...  \n",
       "1439  0003_agent_params.args_.target_model_update_fr...  \n",
       "\n",
       "[1440 rows x 36 columns]"
      ]
     },
     "execution_count": 61,
     "metadata": {},
     "output_type": "execute_result"
    }
   ],
   "source": [
    "df"
   ]
  },
  {
   "cell_type": "code",
   "execution_count": 62,
   "metadata": {},
   "outputs": [
    {
     "data": {
      "text/html": [
       "<div>\n",
       "<style scoped>\n",
       "    .dataframe tbody tr th:only-of-type {\n",
       "        vertical-align: middle;\n",
       "    }\n",
       "\n",
       "    .dataframe tbody tr th {\n",
       "        vertical-align: top;\n",
       "    }\n",
       "\n",
       "    .dataframe thead th {\n",
       "        text-align: right;\n",
       "    }\n",
       "</style>\n",
       "<table border=\"1\" class=\"dataframe\">\n",
       "  <thead>\n",
       "    <tr style=\"text-align: right;\">\n",
       "      <th></th>\n",
       "      <th>epoch_type</th>\n",
       "      <th>frame_stamp</th>\n",
       "      <th>greedy_epsilon</th>\n",
       "      <th>episode_rewards_min</th>\n",
       "      <th>episode_rewards_max</th>\n",
       "      <th>episode_rewards_mean</th>\n",
       "      <th>episode_rewards_median</th>\n",
       "      <th>episode_rewards_std</th>\n",
       "      <th>episode_discounted_rewards_min</th>\n",
       "      <th>episode_discounted_rewards_max</th>\n",
       "      <th>...</th>\n",
       "      <th>episode_max_qs_median</th>\n",
       "      <th>episode_max_qs_std</th>\n",
       "      <th>policy_trained_times</th>\n",
       "      <th>target_trained_times</th>\n",
       "      <th>epoch_time</th>\n",
       "      <th>sub_exp_cfg_agent_params.args_.target_model_update_freq</th>\n",
       "      <th>sub_exp_cfg_agent_params.args_.training_freq</th>\n",
       "      <th>sub_experiment_path</th>\n",
       "      <th>seed</th>\n",
       "      <th>experiment_name</th>\n",
       "    </tr>\n",
       "  </thead>\n",
       "  <tbody>\n",
       "    <tr>\n",
       "      <th>0</th>\n",
       "      <td>training</td>\n",
       "      <td>200000</td>\n",
       "      <td>0.983159</td>\n",
       "      <td>-7.380671</td>\n",
       "      <td>-1.442521</td>\n",
       "      <td>-4.442603</td>\n",
       "      <td>-4.431700</td>\n",
       "      <td>0.837026</td>\n",
       "      <td>-6.902676</td>\n",
       "      <td>-1.414784</td>\n",
       "      <td>...</td>\n",
       "      <td>0.890582</td>\n",
       "      <td>0.627427</td>\n",
       "      <td>48749.0</td>\n",
       "      <td>96.0</td>\n",
       "      <td>0 days 00:07:03.206267</td>\n",
       "      <td>2000</td>\n",
       "      <td>4</td>\n",
       "      <td>d:\\Work\\repos\\RL\\phd-rl-algos\\dqn\\opinion_dyna...</td>\n",
       "      <td>0</td>\n",
       "      <td>0000_agent_params.args_.target_model_update_fr...</td>\n",
       "    </tr>\n",
       "    <tr>\n",
       "      <th>1</th>\n",
       "      <td>training</td>\n",
       "      <td>400000</td>\n",
       "      <td>0.965886</td>\n",
       "      <td>-7.792339</td>\n",
       "      <td>-1.746956</td>\n",
       "      <td>-4.474000</td>\n",
       "      <td>-4.449678</td>\n",
       "      <td>0.839831</td>\n",
       "      <td>-7.275731</td>\n",
       "      <td>-1.705441</td>\n",
       "      <td>...</td>\n",
       "      <td>-0.329339</td>\n",
       "      <td>0.836134</td>\n",
       "      <td>50000.0</td>\n",
       "      <td>100.0</td>\n",
       "      <td>0 days 00:07:28.672905</td>\n",
       "      <td>2000</td>\n",
       "      <td>4</td>\n",
       "      <td>d:\\Work\\repos\\RL\\phd-rl-algos\\dqn\\opinion_dyna...</td>\n",
       "      <td>0</td>\n",
       "      <td>0000_agent_params.args_.target_model_update_fr...</td>\n",
       "    </tr>\n",
       "    <tr>\n",
       "      <th>2</th>\n",
       "      <td>training</td>\n",
       "      <td>600000</td>\n",
       "      <td>0.948614</td>\n",
       "      <td>-7.580369</td>\n",
       "      <td>-1.516737</td>\n",
       "      <td>-4.446692</td>\n",
       "      <td>-4.416772</td>\n",
       "      <td>0.824773</td>\n",
       "      <td>-7.090354</td>\n",
       "      <td>-1.488443</td>\n",
       "      <td>...</td>\n",
       "      <td>-0.634564</td>\n",
       "      <td>1.129782</td>\n",
       "      <td>50000.0</td>\n",
       "      <td>100.0</td>\n",
       "      <td>0 days 00:07:56.100692</td>\n",
       "      <td>2000</td>\n",
       "      <td>4</td>\n",
       "      <td>d:\\Work\\repos\\RL\\phd-rl-algos\\dqn\\opinion_dyna...</td>\n",
       "      <td>0</td>\n",
       "      <td>0000_agent_params.args_.target_model_update_fr...</td>\n",
       "    </tr>\n",
       "    <tr>\n",
       "      <th>3</th>\n",
       "      <td>training</td>\n",
       "      <td>800000</td>\n",
       "      <td>0.931341</td>\n",
       "      <td>-7.507868</td>\n",
       "      <td>-1.738659</td>\n",
       "      <td>-4.415485</td>\n",
       "      <td>-4.389950</td>\n",
       "      <td>0.825498</td>\n",
       "      <td>-7.013405</td>\n",
       "      <td>-1.696734</td>\n",
       "      <td>...</td>\n",
       "      <td>-0.725239</td>\n",
       "      <td>1.235835</td>\n",
       "      <td>50000.0</td>\n",
       "      <td>100.0</td>\n",
       "      <td>0 days 00:07:54.319024</td>\n",
       "      <td>2000</td>\n",
       "      <td>4</td>\n",
       "      <td>d:\\Work\\repos\\RL\\phd-rl-algos\\dqn\\opinion_dyna...</td>\n",
       "      <td>0</td>\n",
       "      <td>0000_agent_params.args_.target_model_update_fr...</td>\n",
       "    </tr>\n",
       "    <tr>\n",
       "      <th>4</th>\n",
       "      <td>training</td>\n",
       "      <td>1000000</td>\n",
       "      <td>0.914068</td>\n",
       "      <td>-7.513511</td>\n",
       "      <td>-1.637147</td>\n",
       "      <td>-4.362384</td>\n",
       "      <td>-4.343620</td>\n",
       "      <td>0.817857</td>\n",
       "      <td>-7.027796</td>\n",
       "      <td>-1.603746</td>\n",
       "      <td>...</td>\n",
       "      <td>-0.746177</td>\n",
       "      <td>1.260025</td>\n",
       "      <td>50000.0</td>\n",
       "      <td>100.0</td>\n",
       "      <td>0 days 00:07:53.069239</td>\n",
       "      <td>2000</td>\n",
       "      <td>4</td>\n",
       "      <td>d:\\Work\\repos\\RL\\phd-rl-algos\\dqn\\opinion_dyna...</td>\n",
       "      <td>0</td>\n",
       "      <td>0000_agent_params.args_.target_model_update_fr...</td>\n",
       "    </tr>\n",
       "    <tr>\n",
       "      <th>...</th>\n",
       "      <td>...</td>\n",
       "      <td>...</td>\n",
       "      <td>...</td>\n",
       "      <td>...</td>\n",
       "      <td>...</td>\n",
       "      <td>...</td>\n",
       "      <td>...</td>\n",
       "      <td>...</td>\n",
       "      <td>...</td>\n",
       "      <td>...</td>\n",
       "      <td>...</td>\n",
       "      <td>...</td>\n",
       "      <td>...</td>\n",
       "      <td>...</td>\n",
       "      <td>...</td>\n",
       "      <td>...</td>\n",
       "      <td>...</td>\n",
       "      <td>...</td>\n",
       "      <td>...</td>\n",
       "      <td>...</td>\n",
       "      <td>...</td>\n",
       "    </tr>\n",
       "    <tr>\n",
       "      <th>1375</th>\n",
       "      <td>training</td>\n",
       "      <td>11200000</td>\n",
       "      <td>0.050000</td>\n",
       "      <td>-7.223725</td>\n",
       "      <td>-1.347040</td>\n",
       "      <td>-4.233254</td>\n",
       "      <td>-4.223620</td>\n",
       "      <td>0.790709</td>\n",
       "      <td>-6.770643</td>\n",
       "      <td>-1.326363</td>\n",
       "      <td>...</td>\n",
       "      <td>-0.813192</td>\n",
       "      <td>1.313619</td>\n",
       "      <td>25000.0</td>\n",
       "      <td>40.0</td>\n",
       "      <td>0 days 00:04:51.154915</td>\n",
       "      <td>5000</td>\n",
       "      <td>8</td>\n",
       "      <td>d:\\Work\\repos\\RL\\phd-rl-algos\\dqn\\opinion_dyna...</td>\n",
       "      <td>2</td>\n",
       "      <td>0003_agent_params.args_.target_model_update_fr...</td>\n",
       "    </tr>\n",
       "    <tr>\n",
       "      <th>1376</th>\n",
       "      <td>training</td>\n",
       "      <td>11400000</td>\n",
       "      <td>0.050000</td>\n",
       "      <td>-7.264882</td>\n",
       "      <td>-1.377880</td>\n",
       "      <td>-4.221180</td>\n",
       "      <td>-4.207111</td>\n",
       "      <td>0.786699</td>\n",
       "      <td>-6.810081</td>\n",
       "      <td>-1.357674</td>\n",
       "      <td>...</td>\n",
       "      <td>-0.813357</td>\n",
       "      <td>1.309819</td>\n",
       "      <td>25000.0</td>\n",
       "      <td>40.0</td>\n",
       "      <td>0 days 00:04:52.502225</td>\n",
       "      <td>5000</td>\n",
       "      <td>8</td>\n",
       "      <td>d:\\Work\\repos\\RL\\phd-rl-algos\\dqn\\opinion_dyna...</td>\n",
       "      <td>2</td>\n",
       "      <td>0003_agent_params.args_.target_model_update_fr...</td>\n",
       "    </tr>\n",
       "    <tr>\n",
       "      <th>1377</th>\n",
       "      <td>training</td>\n",
       "      <td>11600000</td>\n",
       "      <td>0.050000</td>\n",
       "      <td>-7.370778</td>\n",
       "      <td>-1.840971</td>\n",
       "      <td>-4.240644</td>\n",
       "      <td>-4.232538</td>\n",
       "      <td>0.802034</td>\n",
       "      <td>-6.912416</td>\n",
       "      <td>-1.792725</td>\n",
       "      <td>...</td>\n",
       "      <td>-0.818687</td>\n",
       "      <td>1.317144</td>\n",
       "      <td>25000.0</td>\n",
       "      <td>40.0</td>\n",
       "      <td>0 days 00:04:48.492889</td>\n",
       "      <td>5000</td>\n",
       "      <td>8</td>\n",
       "      <td>d:\\Work\\repos\\RL\\phd-rl-algos\\dqn\\opinion_dyna...</td>\n",
       "      <td>2</td>\n",
       "      <td>0003_agent_params.args_.target_model_update_fr...</td>\n",
       "    </tr>\n",
       "    <tr>\n",
       "      <th>1378</th>\n",
       "      <td>training</td>\n",
       "      <td>11800000</td>\n",
       "      <td>0.050000</td>\n",
       "      <td>-7.264693</td>\n",
       "      <td>-1.318739</td>\n",
       "      <td>-4.223942</td>\n",
       "      <td>-4.209791</td>\n",
       "      <td>0.799273</td>\n",
       "      <td>-6.810185</td>\n",
       "      <td>-1.294134</td>\n",
       "      <td>...</td>\n",
       "      <td>-0.805787</td>\n",
       "      <td>1.311914</td>\n",
       "      <td>25000.0</td>\n",
       "      <td>40.0</td>\n",
       "      <td>0 days 00:04:42.885772</td>\n",
       "      <td>5000</td>\n",
       "      <td>8</td>\n",
       "      <td>d:\\Work\\repos\\RL\\phd-rl-algos\\dqn\\opinion_dyna...</td>\n",
       "      <td>2</td>\n",
       "      <td>0003_agent_params.args_.target_model_update_fr...</td>\n",
       "    </tr>\n",
       "    <tr>\n",
       "      <th>1379</th>\n",
       "      <td>training</td>\n",
       "      <td>12000000</td>\n",
       "      <td>0.050000</td>\n",
       "      <td>-7.544547</td>\n",
       "      <td>-1.392936</td>\n",
       "      <td>-4.234533</td>\n",
       "      <td>-4.217320</td>\n",
       "      <td>0.784751</td>\n",
       "      <td>-7.072544</td>\n",
       "      <td>-1.366894</td>\n",
       "      <td>...</td>\n",
       "      <td>-0.812835</td>\n",
       "      <td>1.313517</td>\n",
       "      <td>25000.0</td>\n",
       "      <td>40.0</td>\n",
       "      <td>0 days 00:04:41.388670</td>\n",
       "      <td>5000</td>\n",
       "      <td>8</td>\n",
       "      <td>d:\\Work\\repos\\RL\\phd-rl-algos\\dqn\\opinion_dyna...</td>\n",
       "      <td>2</td>\n",
       "      <td>0003_agent_params.args_.target_model_update_fr...</td>\n",
       "    </tr>\n",
       "  </tbody>\n",
       "</table>\n",
       "<p>720 rows × 36 columns</p>\n",
       "</div>"
      ],
      "text/plain": [
       "     epoch_type  frame_stamp  greedy_epsilon  episode_rewards_min  \\\n",
       "0      training       200000        0.983159            -7.380671   \n",
       "1      training       400000        0.965886            -7.792339   \n",
       "2      training       600000        0.948614            -7.580369   \n",
       "3      training       800000        0.931341            -7.507868   \n",
       "4      training      1000000        0.914068            -7.513511   \n",
       "...         ...          ...             ...                  ...   \n",
       "1375   training     11200000        0.050000            -7.223725   \n",
       "1376   training     11400000        0.050000            -7.264882   \n",
       "1377   training     11600000        0.050000            -7.370778   \n",
       "1378   training     11800000        0.050000            -7.264693   \n",
       "1379   training     12000000        0.050000            -7.544547   \n",
       "\n",
       "      episode_rewards_max  episode_rewards_mean  episode_rewards_median  \\\n",
       "0               -1.442521             -4.442603               -4.431700   \n",
       "1               -1.746956             -4.474000               -4.449678   \n",
       "2               -1.516737             -4.446692               -4.416772   \n",
       "3               -1.738659             -4.415485               -4.389950   \n",
       "4               -1.637147             -4.362384               -4.343620   \n",
       "...                   ...                   ...                     ...   \n",
       "1375            -1.347040             -4.233254               -4.223620   \n",
       "1376            -1.377880             -4.221180               -4.207111   \n",
       "1377            -1.840971             -4.240644               -4.232538   \n",
       "1378            -1.318739             -4.223942               -4.209791   \n",
       "1379            -1.392936             -4.234533               -4.217320   \n",
       "\n",
       "      episode_rewards_std  episode_discounted_rewards_min  \\\n",
       "0                0.837026                       -6.902676   \n",
       "1                0.839831                       -7.275731   \n",
       "2                0.824773                       -7.090354   \n",
       "3                0.825498                       -7.013405   \n",
       "4                0.817857                       -7.027796   \n",
       "...                   ...                             ...   \n",
       "1375             0.790709                       -6.770643   \n",
       "1376             0.786699                       -6.810081   \n",
       "1377             0.802034                       -6.912416   \n",
       "1378             0.799273                       -6.810185   \n",
       "1379             0.784751                       -7.072544   \n",
       "\n",
       "      episode_discounted_rewards_max  ...  episode_max_qs_median  \\\n",
       "0                          -1.414784  ...               0.890582   \n",
       "1                          -1.705441  ...              -0.329339   \n",
       "2                          -1.488443  ...              -0.634564   \n",
       "3                          -1.696734  ...              -0.725239   \n",
       "4                          -1.603746  ...              -0.746177   \n",
       "...                              ...  ...                    ...   \n",
       "1375                       -1.326363  ...              -0.813192   \n",
       "1376                       -1.357674  ...              -0.813357   \n",
       "1377                       -1.792725  ...              -0.818687   \n",
       "1378                       -1.294134  ...              -0.805787   \n",
       "1379                       -1.366894  ...              -0.812835   \n",
       "\n",
       "      episode_max_qs_std  policy_trained_times  target_trained_times  \\\n",
       "0               0.627427               48749.0                  96.0   \n",
       "1               0.836134               50000.0                 100.0   \n",
       "2               1.129782               50000.0                 100.0   \n",
       "3               1.235835               50000.0                 100.0   \n",
       "4               1.260025               50000.0                 100.0   \n",
       "...                  ...                   ...                   ...   \n",
       "1375            1.313619               25000.0                  40.0   \n",
       "1376            1.309819               25000.0                  40.0   \n",
       "1377            1.317144               25000.0                  40.0   \n",
       "1378            1.311914               25000.0                  40.0   \n",
       "1379            1.313517               25000.0                  40.0   \n",
       "\n",
       "                 epoch_time  \\\n",
       "0    0 days 00:07:03.206267   \n",
       "1    0 days 00:07:28.672905   \n",
       "2    0 days 00:07:56.100692   \n",
       "3    0 days 00:07:54.319024   \n",
       "4    0 days 00:07:53.069239   \n",
       "...                     ...   \n",
       "1375 0 days 00:04:51.154915   \n",
       "1376 0 days 00:04:52.502225   \n",
       "1377 0 days 00:04:48.492889   \n",
       "1378 0 days 00:04:42.885772   \n",
       "1379 0 days 00:04:41.388670   \n",
       "\n",
       "      sub_exp_cfg_agent_params.args_.target_model_update_freq  \\\n",
       "0                                                  2000         \n",
       "1                                                  2000         \n",
       "2                                                  2000         \n",
       "3                                                  2000         \n",
       "4                                                  2000         \n",
       "...                                                 ...         \n",
       "1375                                               5000         \n",
       "1376                                               5000         \n",
       "1377                                               5000         \n",
       "1378                                               5000         \n",
       "1379                                               5000         \n",
       "\n",
       "      sub_exp_cfg_agent_params.args_.training_freq  \\\n",
       "0                                                4   \n",
       "1                                                4   \n",
       "2                                                4   \n",
       "3                                                4   \n",
       "4                                                4   \n",
       "...                                            ...   \n",
       "1375                                             8   \n",
       "1376                                             8   \n",
       "1377                                             8   \n",
       "1378                                             8   \n",
       "1379                                             8   \n",
       "\n",
       "                                    sub_experiment_path  seed  \\\n",
       "0     d:\\Work\\repos\\RL\\phd-rl-algos\\dqn\\opinion_dyna...     0   \n",
       "1     d:\\Work\\repos\\RL\\phd-rl-algos\\dqn\\opinion_dyna...     0   \n",
       "2     d:\\Work\\repos\\RL\\phd-rl-algos\\dqn\\opinion_dyna...     0   \n",
       "3     d:\\Work\\repos\\RL\\phd-rl-algos\\dqn\\opinion_dyna...     0   \n",
       "4     d:\\Work\\repos\\RL\\phd-rl-algos\\dqn\\opinion_dyna...     0   \n",
       "...                                                 ...   ...   \n",
       "1375  d:\\Work\\repos\\RL\\phd-rl-algos\\dqn\\opinion_dyna...     2   \n",
       "1376  d:\\Work\\repos\\RL\\phd-rl-algos\\dqn\\opinion_dyna...     2   \n",
       "1377  d:\\Work\\repos\\RL\\phd-rl-algos\\dqn\\opinion_dyna...     2   \n",
       "1378  d:\\Work\\repos\\RL\\phd-rl-algos\\dqn\\opinion_dyna...     2   \n",
       "1379  d:\\Work\\repos\\RL\\phd-rl-algos\\dqn\\opinion_dyna...     2   \n",
       "\n",
       "                                        experiment_name  \n",
       "0     0000_agent_params.args_.target_model_update_fr...  \n",
       "1     0000_agent_params.args_.target_model_update_fr...  \n",
       "2     0000_agent_params.args_.target_model_update_fr...  \n",
       "3     0000_agent_params.args_.target_model_update_fr...  \n",
       "4     0000_agent_params.args_.target_model_update_fr...  \n",
       "...                                                 ...  \n",
       "1375  0003_agent_params.args_.target_model_update_fr...  \n",
       "1376  0003_agent_params.args_.target_model_update_fr...  \n",
       "1377  0003_agent_params.args_.target_model_update_fr...  \n",
       "1378  0003_agent_params.args_.target_model_update_fr...  \n",
       "1379  0003_agent_params.args_.target_model_update_fr...  \n",
       "\n",
       "[720 rows x 36 columns]"
      ]
     },
     "execution_count": 62,
     "metadata": {},
     "output_type": "execute_result"
    }
   ],
   "source": [
    "# df[df['epoch_type'] == 'validation']\n",
    "df[df['epoch_type'] == 'training']\n"
   ]
  },
  {
   "cell_type": "code",
   "execution_count": 63,
   "metadata": {},
   "outputs": [
    {
     "name": "stdout",
     "output_type": "stream",
     "text": [
      "Best hyperparameters:\n",
      "sub_exp_cfg_agent_params.args_.target_model_update_freq    5000\n",
      "sub_exp_cfg_agent_params.args_.training_freq                  4\n",
      "Name: 2, dtype: object\n",
      "Best mean reward: -6.074335882802436\n"
     ]
    }
   ],
   "source": [
    "# Define hyperparameter columns\n",
    "hyperparam_columns = [col for col in df.columns if \"sub_exp_cfg\" in col]\n",
    "\n",
    "# Group by hyperparameter values and compute mean episode_rewards_mean\n",
    "averaged_results = df.groupby(hyperparam_columns, as_index=False).agg({\n",
    "    'episode_rewards_mean': 'mean',  # Averaging the performance metric\n",
    "    'sub_experiment_path': 'first'   # Keep a reference to an experiment path\n",
    "})\n",
    "\n",
    "# Find the best hyperparameter set based on the highest mean reward\n",
    "best_row = averaged_results.loc[averaged_results['episode_rewards_mean'].idxmax()]\n",
    "\n",
    "# Print the best experiment path and hyperparameters\n",
    "print(f\"Best hyperparameters:\\n{best_row[hyperparam_columns]}\")\n",
    "print(f\"Best mean reward: {best_row['episode_rewards_mean']}\")"
   ]
  },
  {
   "cell_type": "code",
   "execution_count": 64,
   "metadata": {},
   "outputs": [
    {
     "data": {
      "text/html": [
       "<div>\n",
       "<style scoped>\n",
       "    .dataframe tbody tr th:only-of-type {\n",
       "        vertical-align: middle;\n",
       "    }\n",
       "\n",
       "    .dataframe tbody tr th {\n",
       "        vertical-align: top;\n",
       "    }\n",
       "\n",
       "    .dataframe thead th {\n",
       "        text-align: right;\n",
       "    }\n",
       "</style>\n",
       "<table border=\"1\" class=\"dataframe\">\n",
       "  <thead>\n",
       "    <tr style=\"text-align: right;\">\n",
       "      <th></th>\n",
       "      <th>sub_exp_cfg_agent_params.args_.target_model_update_freq</th>\n",
       "      <th>sub_exp_cfg_agent_params.args_.training_freq</th>\n",
       "      <th>episode_rewards_mean</th>\n",
       "      <th>sub_experiment_path</th>\n",
       "    </tr>\n",
       "  </thead>\n",
       "  <tbody>\n",
       "    <tr>\n",
       "      <th>0</th>\n",
       "      <td>2000</td>\n",
       "      <td>4</td>\n",
       "      <td>-6.091053</td>\n",
       "      <td>d:\\Work\\repos\\RL\\phd-rl-algos\\dqn\\opinion_dyna...</td>\n",
       "    </tr>\n",
       "    <tr>\n",
       "      <th>1</th>\n",
       "      <td>2000</td>\n",
       "      <td>8</td>\n",
       "      <td>-6.179972</td>\n",
       "      <td>d:\\Work\\repos\\RL\\phd-rl-algos\\dqn\\opinion_dyna...</td>\n",
       "    </tr>\n",
       "    <tr>\n",
       "      <th>2</th>\n",
       "      <td>5000</td>\n",
       "      <td>4</td>\n",
       "      <td>-6.074336</td>\n",
       "      <td>d:\\Work\\repos\\RL\\phd-rl-algos\\dqn\\opinion_dyna...</td>\n",
       "    </tr>\n",
       "    <tr>\n",
       "      <th>3</th>\n",
       "      <td>5000</td>\n",
       "      <td>8</td>\n",
       "      <td>-6.155086</td>\n",
       "      <td>d:\\Work\\repos\\RL\\phd-rl-algos\\dqn\\opinion_dyna...</td>\n",
       "    </tr>\n",
       "  </tbody>\n",
       "</table>\n",
       "</div>"
      ],
      "text/plain": [
       "  sub_exp_cfg_agent_params.args_.target_model_update_freq  \\\n",
       "0                                               2000        \n",
       "1                                               2000        \n",
       "2                                               5000        \n",
       "3                                               5000        \n",
       "\n",
       "  sub_exp_cfg_agent_params.args_.training_freq  episode_rewards_mean  \\\n",
       "0                                            4             -6.091053   \n",
       "1                                            8             -6.179972   \n",
       "2                                            4             -6.074336   \n",
       "3                                            8             -6.155086   \n",
       "\n",
       "                                 sub_experiment_path  \n",
       "0  d:\\Work\\repos\\RL\\phd-rl-algos\\dqn\\opinion_dyna...  \n",
       "1  d:\\Work\\repos\\RL\\phd-rl-algos\\dqn\\opinion_dyna...  \n",
       "2  d:\\Work\\repos\\RL\\phd-rl-algos\\dqn\\opinion_dyna...  \n",
       "3  d:\\Work\\repos\\RL\\phd-rl-algos\\dqn\\opinion_dyna...  "
      ]
     },
     "execution_count": 64,
     "metadata": {},
     "output_type": "execute_result"
    }
   ],
   "source": [
    "averaged_results"
   ]
  },
  {
   "cell_type": "code",
   "execution_count": 65,
   "metadata": {},
   "outputs": [],
   "source": [
    "# selected_metric = 'episode_rewards_mean'\n",
    "# hue_col = \"sub_exp_cfg_agent_params.args_.action_w_noise_amplitude\"\n",
    "\n",
    "# # Filter for validation episodes\n",
    "# validation_df = df[df['epoch_type'] == 'validation']\n",
    "\n",
    "# # Get the unique sorted frame_stamp values\n",
    "# unique_frames = np.sort(validation_df['frame_stamp'].unique())\n",
    "# N = 1\n",
    "# # Get all frame_stamp values after the first N unique ones\n",
    "# filtered_frames = unique_frames[N:]\n",
    "\n",
    "# # Filter the DataFrame to only include rows with these frame_stamp values\n",
    "# filtered_df = validation_df[validation_df['frame_stamp'].isin(filtered_frames)]\n",
    "\n",
    "# plt.figure(figsize=(10, 6))\n",
    "# sns.lineplot(data=filtered_df, x='frame_stamp', y=selected_metric, hue=hue_col)\n",
    "# plt.ylabel(selected_metric)\n",
    "# plt.xlabel('Frame Stamp')\n",
    "# plt.show()"
   ]
  },
  {
   "cell_type": "code",
   "execution_count": 66,
   "metadata": {},
   "outputs": [
    {
     "data": {
      "image/png": "[encoded data removed]",
      "text/plain": [
       "<Figure size 1000x600 with 1 Axes>"
      ]
     },
     "metadata": {},
     "output_type": "display_data"
    }
   ],
   "source": [
    "\n",
    "selected_metric = 'episode_discounted_rewards_mean'\n",
    "# hue_col = \"sub_exp_cfg_agent_params.args_.action_w_noise_amplitude\"\n",
    "hue_col = \"experiment_name\"\n",
    "\n",
    "# validation_df = df[df['epoch_type'] == 'validation']\n",
    "validation_df = df[df['epoch_type'] == 'training']\n",
    "\n",
    "\n",
    "# Create a new figure for each environment\n",
    "plt.figure(figsize=(10, 6))\n",
    "# sns.lineplot(data=df, x='frame_stamp', y=selected_metric, hue='model')\n",
    "sns.lineplot(data=validation_df, \n",
    "             x='frame_stamp', \n",
    "             y=selected_metric, \n",
    "             hue=hue_col,\n",
    "            #  units='seed', # Comment this to see mean + cf\n",
    "            #  estimator=None, # Comment this to see mean + cf\n",
    "             )\n",
    "\n",
    "plt.ylabel(selected_metric)\n",
    "plt.xlabel('Frame Stamp')\n",
    "\n",
    "# Place the legend outside the plot\n",
    "plt.legend(loc='center left', bbox_to_anchor=(1.0, 0.5), title='Parameters')\n",
    "plt.show()"
   ]
  },
  {
   "cell_type": "code",
   "execution_count": 67,
   "metadata": {},
   "outputs": [
    {
     "data": {
      "text/plain": [
       "Index(['epoch_type', 'frame_stamp', 'greedy_epsilon', 'episode_rewards_min',\n",
       "       'episode_rewards_max', 'episode_rewards_mean', 'episode_rewards_median',\n",
       "       'episode_rewards_std', 'episode_discounted_rewards_min',\n",
       "       'episode_discounted_rewards_max', 'episode_discounted_rewards_mean',\n",
       "       'episode_discounted_rewards_median', 'episode_discounted_rewards_std',\n",
       "       'episode_frames_min', 'episode_frames_max', 'episode_frames_mean',\n",
       "       'episode_frames_median', 'episode_frames_std', 'episode_losses_min',\n",
       "       'episode_losses_max', 'episode_losses_mean', 'episode_losses_median',\n",
       "       'episode_losses_std', 'episode_max_qs_min', 'episode_max_qs_max',\n",
       "       'episode_max_qs_mean', 'episode_max_qs_median', 'episode_max_qs_std',\n",
       "       'policy_trained_times', 'target_trained_times', 'epoch_time',\n",
       "       'sub_exp_cfg_agent_params.args_.target_model_update_freq',\n",
       "       'sub_exp_cfg_agent_params.args_.training_freq', 'sub_experiment_path',\n",
       "       'seed', 'experiment_name'],\n",
       "      dtype='object')"
      ]
     },
     "execution_count": 67,
     "metadata": {},
     "output_type": "execute_result"
    }
   ],
   "source": [
    "df.columns"
   ]
  },
  {
   "cell_type": "code",
   "execution_count": 68,
   "metadata": {},
   "outputs": [
    {
     "data": {
      "image/png": "[encoded data removed]",
      "text/plain": [
       "<Figure size 1000x600 with 1 Axes>"
      ]
     },
     "metadata": {},
     "output_type": "display_data"
    }
   ],
   "source": [
    "import matplotlib.pyplot as plt\n",
    "import seaborn as sns\n",
    "\n",
    "selected_metric = 'episode_frames_mean'\n",
    "hue_col = \"experiment_name\"  # or another distinguishing column like \"sub_experiment_path\"\n",
    "\n",
    "validation_df = df[df['epoch_type'] == 'validation']\n",
    "\n",
    "# Plot individual lines for each run\n",
    "plt.figure(figsize=(10, 6))\n",
    "sns.lineplot(\n",
    "    data=validation_df,\n",
    "    x='frame_stamp',\n",
    "    y=selected_metric,\n",
    "    hue=hue_col,\n",
    "    estimator=None,  # ← disables aggregation\n",
    "    units='sub_experiment_path',  # ← groups lines by unique run\n",
    "    lw=1,  # line width\n",
    "    alpha=0.7  # transparency\n",
    ")\n",
    "\n",
    "plt.ylabel(selected_metric)\n",
    "plt.xlabel('Frame Stamp')\n",
    "plt.title('Validation Reward Trajectories (Per Run)')\n",
    "\n",
    "# Move legend outside the plot\n",
    "plt.legend(loc='center left', bbox_to_anchor=(1.0, 0.5), title='Experiment')\n",
    "plt.tight_layout()\n",
    "plt.show()\n"
   ]
  },
  {
   "cell_type": "code",
   "execution_count": 69,
   "metadata": {},
   "outputs": [
    {
     "data": {
      "text/html": [
       "<div>\n",
       "<style scoped>\n",
       "    .dataframe tbody tr th:only-of-type {\n",
       "        vertical-align: middle;\n",
       "    }\n",
       "\n",
       "    .dataframe tbody tr th {\n",
       "        vertical-align: top;\n",
       "    }\n",
       "\n",
       "    .dataframe thead th {\n",
       "        text-align: right;\n",
       "    }\n",
       "</style>\n",
       "<table border=\"1\" class=\"dataframe\">\n",
       "  <thead>\n",
       "    <tr style=\"text-align: right;\">\n",
       "      <th></th>\n",
       "      <th>epoch_type</th>\n",
       "      <th>frame_stamp</th>\n",
       "      <th>episode_rewards_mean</th>\n",
       "      <th>episode_frames_mean</th>\n",
       "      <th>episode_discounted_rewards_mean</th>\n",
       "      <th>policy_trained_times</th>\n",
       "      <th>target_trained_times</th>\n",
       "      <th>epoch_time</th>\n",
       "      <th>seed</th>\n",
       "      <th>experiment_name</th>\n",
       "      <th>sub_experiment_path</th>\n",
       "      <th>sub_exp_cfg_agent_params.args_.target_model_update_freq</th>\n",
       "      <th>sub_exp_cfg_agent_params.args_.training_freq</th>\n",
       "    </tr>\n",
       "  </thead>\n",
       "  <tbody>\n",
       "    <tr>\n",
       "      <th>119</th>\n",
       "      <td>validation</td>\n",
       "      <td>12000000</td>\n",
       "      <td>-8.114614</td>\n",
       "      <td>27.0</td>\n",
       "      <td>-7.591214</td>\n",
       "      <td>NaN</td>\n",
       "      <td>NaN</td>\n",
       "      <td>0 days 00:00:00.475353</td>\n",
       "      <td>0</td>\n",
       "      <td>0000_agent_params.args_.target_model_update_fr...</td>\n",
       "      <td>d:\\Work\\repos\\RL\\phd-rl-algos\\dqn\\opinion_dyna...</td>\n",
       "      <td>2000</td>\n",
       "      <td>4</td>\n",
       "    </tr>\n",
       "    <tr>\n",
       "      <th>239</th>\n",
       "      <td>validation</td>\n",
       "      <td>12000000</td>\n",
       "      <td>-8.188712</td>\n",
       "      <td>27.0</td>\n",
       "      <td>-7.654937</td>\n",
       "      <td>NaN</td>\n",
       "      <td>NaN</td>\n",
       "      <td>0 days 00:00:00.432011</td>\n",
       "      <td>1</td>\n",
       "      <td>0000_agent_params.args_.target_model_update_fr...</td>\n",
       "      <td>d:\\Work\\repos\\RL\\phd-rl-algos\\dqn\\opinion_dyna...</td>\n",
       "      <td>2000</td>\n",
       "      <td>4</td>\n",
       "    </tr>\n",
       "    <tr>\n",
       "      <th>359</th>\n",
       "      <td>validation</td>\n",
       "      <td>12000000</td>\n",
       "      <td>-7.808028</td>\n",
       "      <td>26.0</td>\n",
       "      <td>-7.321584</td>\n",
       "      <td>NaN</td>\n",
       "      <td>NaN</td>\n",
       "      <td>0 days 00:00:00.387244</td>\n",
       "      <td>2</td>\n",
       "      <td>0000_agent_params.args_.target_model_update_fr...</td>\n",
       "      <td>d:\\Work\\repos\\RL\\phd-rl-algos\\dqn\\opinion_dyna...</td>\n",
       "      <td>2000</td>\n",
       "      <td>4</td>\n",
       "    </tr>\n",
       "    <tr>\n",
       "      <th>479</th>\n",
       "      <td>validation</td>\n",
       "      <td>12000000</td>\n",
       "      <td>-8.016468</td>\n",
       "      <td>27.0</td>\n",
       "      <td>-7.496867</td>\n",
       "      <td>NaN</td>\n",
       "      <td>NaN</td>\n",
       "      <td>0 days 00:00:00.563522</td>\n",
       "      <td>0</td>\n",
       "      <td>0001_agent_params.args_.target_model_update_fr...</td>\n",
       "      <td>d:\\Work\\repos\\RL\\phd-rl-algos\\dqn\\opinion_dyna...</td>\n",
       "      <td>2000</td>\n",
       "      <td>8</td>\n",
       "    </tr>\n",
       "    <tr>\n",
       "      <th>599</th>\n",
       "      <td>validation</td>\n",
       "      <td>12000000</td>\n",
       "      <td>-8.099614</td>\n",
       "      <td>28.0</td>\n",
       "      <td>-7.561260</td>\n",
       "      <td>NaN</td>\n",
       "      <td>NaN</td>\n",
       "      <td>0 days 00:00:00.570419</td>\n",
       "      <td>1</td>\n",
       "      <td>0001_agent_params.args_.target_model_update_fr...</td>\n",
       "      <td>d:\\Work\\repos\\RL\\phd-rl-algos\\dqn\\opinion_dyna...</td>\n",
       "      <td>2000</td>\n",
       "      <td>8</td>\n",
       "    </tr>\n",
       "    <tr>\n",
       "      <th>719</th>\n",
       "      <td>validation</td>\n",
       "      <td>12000000</td>\n",
       "      <td>-7.949601</td>\n",
       "      <td>27.0</td>\n",
       "      <td>-7.437405</td>\n",
       "      <td>NaN</td>\n",
       "      <td>NaN</td>\n",
       "      <td>0 days 00:00:00.616852</td>\n",
       "      <td>2</td>\n",
       "      <td>0001_agent_params.args_.target_model_update_fr...</td>\n",
       "      <td>d:\\Work\\repos\\RL\\phd-rl-algos\\dqn\\opinion_dyna...</td>\n",
       "      <td>2000</td>\n",
       "      <td>8</td>\n",
       "    </tr>\n",
       "    <tr>\n",
       "      <th>839</th>\n",
       "      <td>validation</td>\n",
       "      <td>12000000</td>\n",
       "      <td>-7.925164</td>\n",
       "      <td>26.0</td>\n",
       "      <td>-7.423651</td>\n",
       "      <td>NaN</td>\n",
       "      <td>NaN</td>\n",
       "      <td>0 days 00:00:00.387102</td>\n",
       "      <td>0</td>\n",
       "      <td>0002_agent_params.args_.target_model_update_fr...</td>\n",
       "      <td>d:\\Work\\repos\\RL\\phd-rl-algos\\dqn\\opinion_dyna...</td>\n",
       "      <td>5000</td>\n",
       "      <td>4</td>\n",
       "    </tr>\n",
       "    <tr>\n",
       "      <th>959</th>\n",
       "      <td>validation</td>\n",
       "      <td>12000000</td>\n",
       "      <td>-8.034893</td>\n",
       "      <td>27.0</td>\n",
       "      <td>-7.515459</td>\n",
       "      <td>NaN</td>\n",
       "      <td>NaN</td>\n",
       "      <td>0 days 00:00:00.352683</td>\n",
       "      <td>1</td>\n",
       "      <td>0002_agent_params.args_.target_model_update_fr...</td>\n",
       "      <td>d:\\Work\\repos\\RL\\phd-rl-algos\\dqn\\opinion_dyna...</td>\n",
       "      <td>5000</td>\n",
       "      <td>4</td>\n",
       "    </tr>\n",
       "    <tr>\n",
       "      <th>1079</th>\n",
       "      <td>validation</td>\n",
       "      <td>12000000</td>\n",
       "      <td>-7.835209</td>\n",
       "      <td>26.0</td>\n",
       "      <td>-7.344922</td>\n",
       "      <td>NaN</td>\n",
       "      <td>NaN</td>\n",
       "      <td>0 days 00:00:00.403705</td>\n",
       "      <td>2</td>\n",
       "      <td>0002_agent_params.args_.target_model_update_fr...</td>\n",
       "      <td>d:\\Work\\repos\\RL\\phd-rl-algos\\dqn\\opinion_dyna...</td>\n",
       "      <td>5000</td>\n",
       "      <td>4</td>\n",
       "    </tr>\n",
       "    <tr>\n",
       "      <th>1199</th>\n",
       "      <td>validation</td>\n",
       "      <td>12000000</td>\n",
       "      <td>-7.910270</td>\n",
       "      <td>26.0</td>\n",
       "      <td>-7.410844</td>\n",
       "      <td>NaN</td>\n",
       "      <td>NaN</td>\n",
       "      <td>0 days 00:00:00.545880</td>\n",
       "      <td>0</td>\n",
       "      <td>0003_agent_params.args_.target_model_update_fr...</td>\n",
       "      <td>d:\\Work\\repos\\RL\\phd-rl-algos\\dqn\\opinion_dyna...</td>\n",
       "      <td>5000</td>\n",
       "      <td>8</td>\n",
       "    </tr>\n",
       "    <tr>\n",
       "      <th>1319</th>\n",
       "      <td>validation</td>\n",
       "      <td>12000000</td>\n",
       "      <td>-8.148229</td>\n",
       "      <td>28.0</td>\n",
       "      <td>-7.602271</td>\n",
       "      <td>NaN</td>\n",
       "      <td>NaN</td>\n",
       "      <td>0 days 00:00:00.710520</td>\n",
       "      <td>1</td>\n",
       "      <td>0003_agent_params.args_.target_model_update_fr...</td>\n",
       "      <td>d:\\Work\\repos\\RL\\phd-rl-algos\\dqn\\opinion_dyna...</td>\n",
       "      <td>5000</td>\n",
       "      <td>8</td>\n",
       "    </tr>\n",
       "    <tr>\n",
       "      <th>1439</th>\n",
       "      <td>validation</td>\n",
       "      <td>12000000</td>\n",
       "      <td>-7.785008</td>\n",
       "      <td>26.0</td>\n",
       "      <td>-7.298029</td>\n",
       "      <td>NaN</td>\n",
       "      <td>NaN</td>\n",
       "      <td>0 days 00:00:00.723905</td>\n",
       "      <td>2</td>\n",
       "      <td>0003_agent_params.args_.target_model_update_fr...</td>\n",
       "      <td>d:\\Work\\repos\\RL\\phd-rl-algos\\dqn\\opinion_dyna...</td>\n",
       "      <td>5000</td>\n",
       "      <td>8</td>\n",
       "    </tr>\n",
       "  </tbody>\n",
       "</table>\n",
       "</div>"
      ],
      "text/plain": [
       "      epoch_type  frame_stamp  episode_rewards_mean  episode_frames_mean  \\\n",
       "119   validation     12000000             -8.114614                 27.0   \n",
       "239   validation     12000000             -8.188712                 27.0   \n",
       "359   validation     12000000             -7.808028                 26.0   \n",
       "479   validation     12000000             -8.016468                 27.0   \n",
       "599   validation     12000000             -8.099614                 28.0   \n",
       "719   validation     12000000             -7.949601                 27.0   \n",
       "839   validation     12000000             -7.925164                 26.0   \n",
       "959   validation     12000000             -8.034893                 27.0   \n",
       "1079  validation     12000000             -7.835209                 26.0   \n",
       "1199  validation     12000000             -7.910270                 26.0   \n",
       "1319  validation     12000000             -8.148229                 28.0   \n",
       "1439  validation     12000000             -7.785008                 26.0   \n",
       "\n",
       "      episode_discounted_rewards_mean  policy_trained_times  \\\n",
       "119                         -7.591214                   NaN   \n",
       "239                         -7.654937                   NaN   \n",
       "359                         -7.321584                   NaN   \n",
       "479                         -7.496867                   NaN   \n",
       "599                         -7.561260                   NaN   \n",
       "719                         -7.437405                   NaN   \n",
       "839                         -7.423651                   NaN   \n",
       "959                         -7.515459                   NaN   \n",
       "1079                        -7.344922                   NaN   \n",
       "1199                        -7.410844                   NaN   \n",
       "1319                        -7.602271                   NaN   \n",
       "1439                        -7.298029                   NaN   \n",
       "\n",
       "      target_trained_times             epoch_time seed  \\\n",
       "119                    NaN 0 days 00:00:00.475353    0   \n",
       "239                    NaN 0 days 00:00:00.432011    1   \n",
       "359                    NaN 0 days 00:00:00.387244    2   \n",
       "479                    NaN 0 days 00:00:00.563522    0   \n",
       "599                    NaN 0 days 00:00:00.570419    1   \n",
       "719                    NaN 0 days 00:00:00.616852    2   \n",
       "839                    NaN 0 days 00:00:00.387102    0   \n",
       "959                    NaN 0 days 00:00:00.352683    1   \n",
       "1079                   NaN 0 days 00:00:00.403705    2   \n",
       "1199                   NaN 0 days 00:00:00.545880    0   \n",
       "1319                   NaN 0 days 00:00:00.710520    1   \n",
       "1439                   NaN 0 days 00:00:00.723905    2   \n",
       "\n",
       "                                        experiment_name  \\\n",
       "119   0000_agent_params.args_.target_model_update_fr...   \n",
       "239   0000_agent_params.args_.target_model_update_fr...   \n",
       "359   0000_agent_params.args_.target_model_update_fr...   \n",
       "479   0001_agent_params.args_.target_model_update_fr...   \n",
       "599   0001_agent_params.args_.target_model_update_fr...   \n",
       "719   0001_agent_params.args_.target_model_update_fr...   \n",
       "839   0002_agent_params.args_.target_model_update_fr...   \n",
       "959   0002_agent_params.args_.target_model_update_fr...   \n",
       "1079  0002_agent_params.args_.target_model_update_fr...   \n",
       "1199  0003_agent_params.args_.target_model_update_fr...   \n",
       "1319  0003_agent_params.args_.target_model_update_fr...   \n",
       "1439  0003_agent_params.args_.target_model_update_fr...   \n",
       "\n",
       "                                    sub_experiment_path  \\\n",
       "119   d:\\Work\\repos\\RL\\phd-rl-algos\\dqn\\opinion_dyna...   \n",
       "239   d:\\Work\\repos\\RL\\phd-rl-algos\\dqn\\opinion_dyna...   \n",
       "359   d:\\Work\\repos\\RL\\phd-rl-algos\\dqn\\opinion_dyna...   \n",
       "479   d:\\Work\\repos\\RL\\phd-rl-algos\\dqn\\opinion_dyna...   \n",
       "599   d:\\Work\\repos\\RL\\phd-rl-algos\\dqn\\opinion_dyna...   \n",
       "719   d:\\Work\\repos\\RL\\phd-rl-algos\\dqn\\opinion_dyna...   \n",
       "839   d:\\Work\\repos\\RL\\phd-rl-algos\\dqn\\opinion_dyna...   \n",
       "959   d:\\Work\\repos\\RL\\phd-rl-algos\\dqn\\opinion_dyna...   \n",
       "1079  d:\\Work\\repos\\RL\\phd-rl-algos\\dqn\\opinion_dyna...   \n",
       "1199  d:\\Work\\repos\\RL\\phd-rl-algos\\dqn\\opinion_dyna...   \n",
       "1319  d:\\Work\\repos\\RL\\phd-rl-algos\\dqn\\opinion_dyna...   \n",
       "1439  d:\\Work\\repos\\RL\\phd-rl-algos\\dqn\\opinion_dyna...   \n",
       "\n",
       "     sub_exp_cfg_agent_params.args_.target_model_update_freq  \\\n",
       "119                                                2000        \n",
       "239                                                2000        \n",
       "359                                                2000        \n",
       "479                                                2000        \n",
       "599                                                2000        \n",
       "719                                                2000        \n",
       "839                                                5000        \n",
       "959                                                5000        \n",
       "1079                                               5000        \n",
       "1199                                               5000        \n",
       "1319                                               5000        \n",
       "1439                                               5000        \n",
       "\n",
       "     sub_exp_cfg_agent_params.args_.training_freq  \n",
       "119                                             4  \n",
       "239                                             4  \n",
       "359                                             4  \n",
       "479                                             8  \n",
       "599                                             8  \n",
       "719                                             8  \n",
       "839                                             4  \n",
       "959                                             4  \n",
       "1079                                            4  \n",
       "1199                                            8  \n",
       "1319                                            8  \n",
       "1439                                            8  "
      ]
     },
     "execution_count": 69,
     "metadata": {},
     "output_type": "execute_result"
    }
   ],
   "source": [
    "### Select data\n",
    "\n",
    "experiment_columns = [\n",
    "    'epoch_type', 'frame_stamp',\n",
    "    'episode_rewards_mean', 'episode_frames_mean', \n",
    "    'episode_discounted_rewards_mean',\n",
    "    'policy_trained_times', 'target_trained_times', 'epoch_time', \n",
    "       'seed', 'experiment_name', \"sub_experiment_path\"\n",
    "]\n",
    "hyperparam_columns = [\n",
    "   col for col in df.columns if \"sub_exp_cfg\" in col\n",
    "]\n",
    "\n",
    "cols_of_interest = experiment_columns + hyperparam_columns\n",
    "\n",
    "sub_df = df[cols_of_interest]\n",
    "sub_df = sub_df[sub_df['epoch_type'] == 'validation']\n",
    "sub_df = sub_df[sub_df['frame_stamp'] == sub_df['frame_stamp'].max()]\n",
    "\n",
    "sub_df \n"
   ]
  },
  {
   "cell_type": "code",
   "execution_count": 70,
   "metadata": {},
   "outputs": [
    {
     "data": {
      "text/html": [
       "<div>\n",
       "<style scoped>\n",
       "    .dataframe tbody tr th:only-of-type {\n",
       "        vertical-align: middle;\n",
       "    }\n",
       "\n",
       "    .dataframe tbody tr th {\n",
       "        vertical-align: top;\n",
       "    }\n",
       "\n",
       "    .dataframe thead th {\n",
       "        text-align: right;\n",
       "    }\n",
       "</style>\n",
       "<table border=\"1\" class=\"dataframe\">\n",
       "  <thead>\n",
       "    <tr style=\"text-align: right;\">\n",
       "      <th></th>\n",
       "      <th>sub_exp_cfg_agent_params.args_.target_model_update_freq</th>\n",
       "      <th>sub_exp_cfg_agent_params.args_.training_freq</th>\n",
       "      <th>episode_discounted_rewards_mean</th>\n",
       "    </tr>\n",
       "  </thead>\n",
       "  <tbody>\n",
       "    <tr>\n",
       "      <th>0</th>\n",
       "      <td>2000</td>\n",
       "      <td>4</td>\n",
       "      <td>-7.522578</td>\n",
       "    </tr>\n",
       "    <tr>\n",
       "      <th>1</th>\n",
       "      <td>2000</td>\n",
       "      <td>8</td>\n",
       "      <td>-7.498511</td>\n",
       "    </tr>\n",
       "    <tr>\n",
       "      <th>2</th>\n",
       "      <td>5000</td>\n",
       "      <td>4</td>\n",
       "      <td>-7.428011</td>\n",
       "    </tr>\n",
       "    <tr>\n",
       "      <th>3</th>\n",
       "      <td>5000</td>\n",
       "      <td>8</td>\n",
       "      <td>-7.437048</td>\n",
       "    </tr>\n",
       "  </tbody>\n",
       "</table>\n",
       "</div>"
      ],
      "text/plain": [
       "  sub_exp_cfg_agent_params.args_.target_model_update_freq  \\\n",
       "0                                               2000        \n",
       "1                                               2000        \n",
       "2                                               5000        \n",
       "3                                               5000        \n",
       "\n",
       "  sub_exp_cfg_agent_params.args_.training_freq  \\\n",
       "0                                            4   \n",
       "1                                            8   \n",
       "2                                            4   \n",
       "3                                            8   \n",
       "\n",
       "   episode_discounted_rewards_mean  \n",
       "0                        -7.522578  \n",
       "1                        -7.498511  \n",
       "2                        -7.428011  \n",
       "3                        -7.437048  "
      ]
     },
     "execution_count": 70,
     "metadata": {},
     "output_type": "execute_result"
    }
   ],
   "source": [
    "agg_cols = [col for col in sub_df.columns if \"sub_exp_cfg\" in col]\n",
    "aggregated_df = (\n",
    "    sub_df.groupby(agg_cols)\n",
    "    .agg(episode_discounted_rewards_mean=(\"episode_discounted_rewards_mean\", \"mean\"))\n",
    "    .reset_index()\n",
    ")\n",
    "aggregated_df"
   ]
  },
  {
   "cell_type": "code",
   "execution_count": 71,
   "metadata": {},
   "outputs": [
    {
     "data": {
      "text/plain": [
       "Index(['epoch_type', 'frame_stamp', 'episode_rewards_mean',\n",
       "       'episode_frames_mean', 'episode_discounted_rewards_mean',\n",
       "       'policy_trained_times', 'target_trained_times', 'epoch_time', 'seed',\n",
       "       'experiment_name', 'sub_experiment_path',\n",
       "       'sub_exp_cfg_agent_params.args_.target_model_update_freq',\n",
       "       'sub_exp_cfg_agent_params.args_.training_freq'],\n",
       "      dtype='object')"
      ]
     },
     "execution_count": 71,
     "metadata": {},
     "output_type": "execute_result"
    }
   ],
   "source": [
    "sub_df.columns"
   ]
  },
  {
   "cell_type": "code",
   "execution_count": 72,
   "metadata": {},
   "outputs": [
    {
     "name": "stdout",
     "output_type": "stream",
     "text": [
      "d:\\Work\\repos\\RL\\phd-rl-algos\\dqn\\opinion_dynamics\\experiments\\results\\2025Jul01-141613_configs\\0003_agent_params.args_.target_model_update_freq_5000__agent_params.args_.training_freq_8\\2\n"
     ]
    }
   ],
   "source": [
    "print(sub_df[sub_df['episode_rewards_mean'] == sub_df['episode_rewards_mean'].max()]['sub_experiment_path'].values[0])\n",
    "\n"
   ]
  },
  {
   "cell_type": "code",
   "execution_count": 73,
   "metadata": {},
   "outputs": [
    {
     "data": {
      "image/png": "[encoded data removed]",
      "text/plain": [
       "<Figure size 1000x600 with 1 Axes>"
      ]
     },
     "metadata": {},
     "output_type": "display_data"
    }
   ],
   "source": [
    "selected_metric = 'episode_discounted_rewards_mean'\n",
    "hue_col = \"experiment_name\"\n",
    "\n",
    "# Filter for training data only\n",
    "training_df = df[df['epoch_type'] == 'training']\n",
    "# training_df = df[df['epoch_type'] == 'validation']\n",
    "\n",
    "# Step 1: Find best experiment\n",
    "experiment_means = training_df.groupby(hue_col)[selected_metric].mean()\n",
    "best_experiment = experiment_means.idxmax()\n",
    "\n",
    "# Step 2: Filter to that experiment\n",
    "best_exp_df = training_df[training_df[hue_col] == best_experiment]\n",
    "\n",
    "# Step 3: Find best seed within best experiment\n",
    "best_seed = (\n",
    "    best_exp_df.groupby('seed')[selected_metric]\n",
    "    .mean()\n",
    "    .idxmax()\n",
    ")\n",
    "\n",
    "# Step 4: Filter to best seed\n",
    "best_seed_df = best_exp_df[best_exp_df['seed'] == best_seed]\n",
    "\n",
    "# Step 5: Plot\n",
    "plt.figure(figsize=(10, 6))\n",
    "sns.lineplot(\n",
    "    data=best_seed_df,\n",
    "    x='frame_stamp',\n",
    "    y=selected_metric,\n",
    "    lw=2,\n",
    "    label=f\"Seed {best_seed}\"\n",
    ")\n",
    "\n",
    "plt.title(f\"Best seed ({best_seed}) from best experiment: {best_experiment}\")\n",
    "plt.ylabel(selected_metric)\n",
    "plt.xlabel('Frame Stamp')\n",
    "plt.legend()\n",
    "plt.tight_layout()\n",
    "plt.show()"
   ]
  },
  {
   "cell_type": "code",
   "execution_count": 74,
   "metadata": {},
   "outputs": [
    {
     "data": {
      "image/png": "[encoded data removed]",
      "text/plain": [
       "<Figure size 800x230 with 2 Axes>"
      ]
     },
     "metadata": {},
     "output_type": "display_data"
    }
   ],
   "source": [
    "import shap\n",
    "import xgboost\n",
    "import pandas as pd\n",
    "\n",
    "\n",
    "# Define the target metric and hyperparameter columns\n",
    "target_metric = \"episode_rewards_mean\"  # Replace with actual metric column name\n",
    "# Replace with actual hyperparameter column names\n",
    "\n",
    "# Prepare data\n",
    "X = sub_df[hyperparam_columns].apply(pd.to_numeric, errors='coerce')\n",
    "y = sub_df[target_metric].fillna(3 * sub_df[target_metric].min())\n",
    "\n",
    "# Train an XGBoost model to analyze feature importance\n",
    "model = xgboost.XGBRegressor(objective=\"reg:squarederror\", n_estimators=100, random_state=42)\n",
    "model.fit(X, y)\n",
    "\n",
    "# SHAP analysis\n",
    "explainer = shap.Explainer(model)\n",
    "shap_values = explainer(X)\n",
    "\n",
    "# Summary plot (feature importance)\n",
    "shap.summary_plot(shap_values, X)"
   ]
  },
  {
   "cell_type": "code",
   "execution_count": 75,
   "metadata": {},
   "outputs": [
    {
     "data": {
      "text/plain": [
       "['sub_exp_cfg_agent_params.args_.target_model_update_freq',\n",
       " 'sub_exp_cfg_agent_params.args_.training_freq']"
      ]
     },
     "execution_count": 75,
     "metadata": {},
     "output_type": "execute_result"
    }
   ],
   "source": [
    "hyperparam_columns"
   ]
  },
  {
   "cell_type": "code",
   "execution_count": 76,
   "metadata": {},
   "outputs": [
    {
     "data": {
      "application/vnd.plotly.v1+json": {
       "config": {
        "plotlyServerURL": "https://plot.ly"
       },
       "data": [
        {
         "hovertemplate": "experiment_name=0000_agent_params.args_.target_model_update_freq_2000__agent_params.args_.training_freq_4<br>size=4<br>noise=%{x}<br>episode_rewards_mean=%{y}<extra></extra>",
         "legendgroup": "0000_agent_params.args_.target_model_update_freq_2000__agent_params.args_.training_freq_4",
         "marker": {
          "color": "#636efa",
          "symbol": "circle"
         },
         "mode": "markers",
         "name": "0000_agent_params.args_.target_model_update_freq_2000__agent_params.args_.training_freq_4",
         "orientation": "v",
         "showlegend": true,
         "type": "scatter",
         "x": [
          "2000",
          "2000",
          "2000"
         ],
         "xaxis": "x",
         "y": [
          -8.11461428687283,
          -8.188711505843735,
          -7.808028300071987
         ],
         "yaxis": "y"
        },
        {
         "hovertemplate": "experiment_name=0001_agent_params.args_.target_model_update_freq_2000__agent_params.args_.training_freq_8<br>size=8<br>noise=%{x}<br>episode_rewards_mean=%{y}<extra></extra>",
         "legendgroup": "0001_agent_params.args_.target_model_update_freq_2000__agent_params.args_.training_freq_8",
         "marker": {
          "color": "#EF553B",
          "symbol": "circle"
         },
         "mode": "markers",
         "name": "0001_agent_params.args_.target_model_update_freq_2000__agent_params.args_.training_freq_8",
         "orientation": "v",
         "showlegend": true,
         "type": "scatter",
         "x": [
          "2000",
          "2000",
          "2000"
         ],
         "xaxis": "x2",
         "y": [
          -8.016467784916305,
          -8.099613759880521,
          -7.94960137585317
         ],
         "yaxis": "y2"
        },
        {
         "hovertemplate": "experiment_name=0002_agent_params.args_.target_model_update_freq_5000__agent_params.args_.training_freq_4<br>size=4<br>noise=%{x}<br>episode_rewards_mean=%{y}<extra></extra>",
         "legendgroup": "0002_agent_params.args_.target_model_update_freq_5000__agent_params.args_.training_freq_4",
         "marker": {
          "color": "#00cc96",
          "symbol": "circle"
         },
         "mode": "markers",
         "name": "0002_agent_params.args_.target_model_update_freq_5000__agent_params.args_.training_freq_4",
         "orientation": "v",
         "showlegend": true,
         "type": "scatter",
         "x": [
          "5000",
          "5000",
          "5000"
         ],
         "xaxis": "x",
         "y": [
          -7.925164311934529,
          -8.03489264691479,
          -7.835209482990408
         ],
         "yaxis": "y"
        },
        {
         "hovertemplate": "experiment_name=0003_agent_params.args_.target_model_update_freq_5000__agent_params.args_.training_freq_8<br>size=8<br>noise=%{x}<br>episode_rewards_mean=%{y}<extra></extra>",
         "legendgroup": "0003_agent_params.args_.target_model_update_freq_5000__agent_params.args_.training_freq_8",
         "marker": {
          "color": "#ab63fa",
          "symbol": "circle"
         },
         "mode": "markers",
         "name": "0003_agent_params.args_.target_model_update_freq_5000__agent_params.args_.training_freq_8",
         "orientation": "v",
         "showlegend": true,
         "type": "scatter",
         "x": [
          "5000",
          "5000",
          "5000"
         ],
         "xaxis": "x2",
         "y": [
          -7.91026990529208,
          -8.148229100872237,
          -7.785007941412855
         ],
         "yaxis": "y2"
        }
       ],
       "layout": {
        "annotations": [
         {
          "font": {},
          "showarrow": false,
          "text": "size=4",
          "x": 0.245,
          "xanchor": "center",
          "xref": "paper",
          "y": 1,
          "yanchor": "bottom",
          "yref": "paper"
         },
         {
          "font": {},
          "showarrow": false,
          "text": "size=8",
          "x": 0.755,
          "xanchor": "center",
          "xref": "paper",
          "y": 1,
          "yanchor": "bottom",
          "yref": "paper"
         }
        ],
        "height": 600,
        "legend": {
         "title": {
          "text": "experiment_name"
         },
         "tracegroupgap": 0
        },
        "showlegend": false,
        "template": {
         "data": {
          "bar": [
           {
            "error_x": {
             "color": "#2a3f5f"
            },
            "error_y": {
             "color": "#2a3f5f"
            },
            "marker": {
             "line": {
              "color": "#E5ECF6",
              "width": 0.5
             },
             "pattern": {
              "fillmode": "overlay",
              "size": 10,
              "solidity": 0.2
             }
            },
            "type": "bar"
           }
          ],
          "barpolar": [
           {
            "marker": {
             "line": {
              "color": "#E5ECF6",
              "width": 0.5
             },
             "pattern": {
              "fillmode": "overlay",
              "size": 10,
              "solidity": 0.2
             }
            },
            "type": "barpolar"
           }
          ],
          "carpet": [
           {
            "aaxis": {
             "endlinecolor": "#2a3f5f",
             "gridcolor": "white",
             "linecolor": "white",
             "minorgridcolor": "white",
             "startlinecolor": "#2a3f5f"
            },
            "baxis": {
             "endlinecolor": "#2a3f5f",
             "gridcolor": "white",
             "linecolor": "white",
             "minorgridcolor": "white",
             "startlinecolor": "#2a3f5f"
            },
            "type": "carpet"
           }
          ],
          "choropleth": [
           {
            "colorbar": {
             "outlinewidth": 0,
             "ticks": ""
            },
            "type": "choropleth"
           }
          ],
          "contour": [
           {
            "colorbar": {
             "outlinewidth": 0,
             "ticks": ""
            },
            "colorscale": [
             [
              0,
              "#0d0887"
             ],
             [
              0.1111111111111111,
              "#46039f"
             ],
             [
              0.2222222222222222,
              "#7201a8"
             ],
             [
              0.3333333333333333,
              "#9c179e"
             ],
             [
              0.4444444444444444,
              "#bd3786"
             ],
             [
              0.5555555555555556,
              "#d8576b"
             ],
             [
              0.6666666666666666,
              "#ed7953"
             ],
             [
              0.7777777777777778,
              "#fb9f3a"
             ],
             [
              0.8888888888888888,
              "#fdca26"
             ],
             [
              1,
              "#f0f921"
             ]
            ],
            "type": "contour"
           }
          ],
          "contourcarpet": [
           {
            "colorbar": {
             "outlinewidth": 0,
             "ticks": ""
            },
            "type": "contourcarpet"
           }
          ],
          "heatmap": [
           {
            "colorbar": {
             "outlinewidth": 0,
             "ticks": ""
            },
            "colorscale": [
             [
              0,
              "#0d0887"
             ],
             [
              0.1111111111111111,
              "#46039f"
             ],
             [
              0.2222222222222222,
              "#7201a8"
             ],
             [
              0.3333333333333333,
              "#9c179e"
             ],
             [
              0.4444444444444444,
              "#bd3786"
             ],
             [
              0.5555555555555556,
              "#d8576b"
             ],
             [
              0.6666666666666666,
              "#ed7953"
             ],
             [
              0.7777777777777778,
              "#fb9f3a"
             ],
             [
              0.8888888888888888,
              "#fdca26"
             ],
             [
              1,
              "#f0f921"
             ]
            ],
            "type": "heatmap"
           }
          ],
          "heatmapgl": [
           {
            "colorbar": {
             "outlinewidth": 0,
             "ticks": ""
            },
            "colorscale": [
             [
              0,
              "#0d0887"
             ],
             [
              0.1111111111111111,
              "#46039f"
             ],
             [
              0.2222222222222222,
              "#7201a8"
             ],
             [
              0.3333333333333333,
              "#9c179e"
             ],
             [
              0.4444444444444444,
              "#bd3786"
             ],
             [
              0.5555555555555556,
              "#d8576b"
             ],
             [
              0.6666666666666666,
              "#ed7953"
             ],
             [
              0.7777777777777778,
              "#fb9f3a"
             ],
             [
              0.8888888888888888,
              "#fdca26"
             ],
             [
              1,
              "#f0f921"
             ]
            ],
            "type": "heatmapgl"
           }
          ],
          "histogram": [
           {
            "marker": {
             "pattern": {
              "fillmode": "overlay",
              "size": 10,
              "solidity": 0.2
             }
            },
            "type": "histogram"
           }
          ],
          "histogram2d": [
           {
            "colorbar": {
             "outlinewidth": 0,
             "ticks": ""
            },
            "colorscale": [
             [
              0,
              "#0d0887"
             ],
             [
              0.1111111111111111,
              "#46039f"
             ],
             [
              0.2222222222222222,
              "#7201a8"
             ],
             [
              0.3333333333333333,
              "#9c179e"
             ],
             [
              0.4444444444444444,
              "#bd3786"
             ],
             [
              0.5555555555555556,
              "#d8576b"
             ],
             [
              0.6666666666666666,
              "#ed7953"
             ],
             [
              0.7777777777777778,
              "#fb9f3a"
             ],
             [
              0.8888888888888888,
              "#fdca26"
             ],
             [
              1,
              "#f0f921"
             ]
            ],
            "type": "histogram2d"
           }
          ],
          "histogram2dcontour": [
           {
            "colorbar": {
             "outlinewidth": 0,
             "ticks": ""
            },
            "colorscale": [
             [
              0,
              "#0d0887"
             ],
             [
              0.1111111111111111,
              "#46039f"
             ],
             [
              0.2222222222222222,
              "#7201a8"
             ],
             [
              0.3333333333333333,
              "#9c179e"
             ],
             [
              0.4444444444444444,
              "#bd3786"
             ],
             [
              0.5555555555555556,
              "#d8576b"
             ],
             [
              0.6666666666666666,
              "#ed7953"
             ],
             [
              0.7777777777777778,
              "#fb9f3a"
             ],
             [
              0.8888888888888888,
              "#fdca26"
             ],
             [
              1,
              "#f0f921"
             ]
            ],
            "type": "histogram2dcontour"
           }
          ],
          "mesh3d": [
           {
            "colorbar": {
             "outlinewidth": 0,
             "ticks": ""
            },
            "type": "mesh3d"
           }
          ],
          "parcoords": [
           {
            "line": {
             "colorbar": {
              "outlinewidth": 0,
              "ticks": ""
             }
            },
            "type": "parcoords"
           }
          ],
          "pie": [
           {
            "automargin": true,
            "type": "pie"
           }
          ],
          "scatter": [
           {
            "fillpattern": {
             "fillmode": "overlay",
             "size": 10,
             "solidity": 0.2
            },
            "type": "scatter"
           }
          ],
          "scatter3d": [
           {
            "line": {
             "colorbar": {
              "outlinewidth": 0,
              "ticks": ""
             }
            },
            "marker": {
             "colorbar": {
              "outlinewidth": 0,
              "ticks": ""
             }
            },
            "type": "scatter3d"
           }
          ],
          "scattercarpet": [
           {
            "marker": {
             "colorbar": {
              "outlinewidth": 0,
              "ticks": ""
             }
            },
            "type": "scattercarpet"
           }
          ],
          "scattergeo": [
           {
            "marker": {
             "colorbar": {
              "outlinewidth": 0,
              "ticks": ""
             }
            },
            "type": "scattergeo"
           }
          ],
          "scattergl": [
           {
            "marker": {
             "colorbar": {
              "outlinewidth": 0,
              "ticks": ""
             }
            },
            "type": "scattergl"
           }
          ],
          "scattermapbox": [
           {
            "marker": {
             "colorbar": {
              "outlinewidth": 0,
              "ticks": ""
             }
            },
            "type": "scattermapbox"
           }
          ],
          "scatterpolar": [
           {
            "marker": {
             "colorbar": {
              "outlinewidth": 0,
              "ticks": ""
             }
            },
            "type": "scatterpolar"
           }
          ],
          "scatterpolargl": [
           {
            "marker": {
             "colorbar": {
              "outlinewidth": 0,
              "ticks": ""
             }
            },
            "type": "scatterpolargl"
           }
          ],
          "scatterternary": [
           {
            "marker": {
             "colorbar": {
              "outlinewidth": 0,
              "ticks": ""
             }
            },
            "type": "scatterternary"
           }
          ],
          "surface": [
           {
            "colorbar": {
             "outlinewidth": 0,
             "ticks": ""
            },
            "colorscale": [
             [
              0,
              "#0d0887"
             ],
             [
              0.1111111111111111,
              "#46039f"
             ],
             [
              0.2222222222222222,
              "#7201a8"
             ],
             [
              0.3333333333333333,
              "#9c179e"
             ],
             [
              0.4444444444444444,
              "#bd3786"
             ],
             [
              0.5555555555555556,
              "#d8576b"
             ],
             [
              0.6666666666666666,
              "#ed7953"
             ],
             [
              0.7777777777777778,
              "#fb9f3a"
             ],
             [
              0.8888888888888888,
              "#fdca26"
             ],
             [
              1,
              "#f0f921"
             ]
            ],
            "type": "surface"
           }
          ],
          "table": [
           {
            "cells": {
             "fill": {
              "color": "#EBF0F8"
             },
             "line": {
              "color": "white"
             }
            },
            "header": {
             "fill": {
              "color": "#C8D4E3"
             },
             "line": {
              "color": "white"
             }
            },
            "type": "table"
           }
          ]
         },
         "layout": {
          "annotationdefaults": {
           "arrowcolor": "#2a3f5f",
           "arrowhead": 0,
           "arrowwidth": 1
          },
          "autotypenumbers": "strict",
          "coloraxis": {
           "colorbar": {
            "outlinewidth": 0,
            "ticks": ""
           }
          },
          "colorscale": {
           "diverging": [
            [
             0,
             "#8e0152"
            ],
            [
             0.1,
             "#c51b7d"
            ],
            [
             0.2,
             "#de77ae"
            ],
            [
             0.3,
             "#f1b6da"
            ],
            [
             0.4,
             "#fde0ef"
            ],
            [
             0.5,
             "#f7f7f7"
            ],
            [
             0.6,
             "#e6f5d0"
            ],
            [
             0.7,
             "#b8e186"
            ],
            [
             0.8,
             "#7fbc41"
            ],
            [
             0.9,
             "#4d9221"
            ],
            [
             1,
             "#276419"
            ]
           ],
           "sequential": [
            [
             0,
             "#0d0887"
            ],
            [
             0.1111111111111111,
             "#46039f"
            ],
            [
             0.2222222222222222,
             "#7201a8"
            ],
            [
             0.3333333333333333,
             "#9c179e"
            ],
            [
             0.4444444444444444,
             "#bd3786"
            ],
            [
             0.5555555555555556,
             "#d8576b"
            ],
            [
             0.6666666666666666,
             "#ed7953"
            ],
            [
             0.7777777777777778,
             "#fb9f3a"
            ],
            [
             0.8888888888888888,
             "#fdca26"
            ],
            [
             1,
             "#f0f921"
            ]
           ],
           "sequentialminus": [
            [
             0,
             "#0d0887"
            ],
            [
             0.1111111111111111,
             "#46039f"
            ],
            [
             0.2222222222222222,
             "#7201a8"
            ],
            [
             0.3333333333333333,
             "#9c179e"
            ],
            [
             0.4444444444444444,
             "#bd3786"
            ],
            [
             0.5555555555555556,
             "#d8576b"
            ],
            [
             0.6666666666666666,
             "#ed7953"
            ],
            [
             0.7777777777777778,
             "#fb9f3a"
            ],
            [
             0.8888888888888888,
             "#fdca26"
            ],
            [
             1,
             "#f0f921"
            ]
           ]
          },
          "colorway": [
           "#636efa",
           "#EF553B",
           "#00cc96",
           "#ab63fa",
           "#FFA15A",
           "#19d3f3",
           "#FF6692",
           "#B6E880",
           "#FF97FF",
           "#FECB52"
          ],
          "font": {
           "color": "#2a3f5f"
          },
          "geo": {
           "bgcolor": "white",
           "lakecolor": "white",
           "landcolor": "#E5ECF6",
           "showlakes": true,
           "showland": true,
           "subunitcolor": "white"
          },
          "hoverlabel": {
           "align": "left"
          },
          "hovermode": "closest",
          "mapbox": {
           "style": "light"
          },
          "paper_bgcolor": "white",
          "plot_bgcolor": "#E5ECF6",
          "polar": {
           "angularaxis": {
            "gridcolor": "white",
            "linecolor": "white",
            "ticks": ""
           },
           "bgcolor": "#E5ECF6",
           "radialaxis": {
            "gridcolor": "white",
            "linecolor": "white",
            "ticks": ""
           }
          },
          "scene": {
           "xaxis": {
            "backgroundcolor": "#E5ECF6",
            "gridcolor": "white",
            "gridwidth": 2,
            "linecolor": "white",
            "showbackground": true,
            "ticks": "",
            "zerolinecolor": "white"
           },
           "yaxis": {
            "backgroundcolor": "#E5ECF6",
            "gridcolor": "white",
            "gridwidth": 2,
            "linecolor": "white",
            "showbackground": true,
            "ticks": "",
            "zerolinecolor": "white"
           },
           "zaxis": {
            "backgroundcolor": "#E5ECF6",
            "gridcolor": "white",
            "gridwidth": 2,
            "linecolor": "white",
            "showbackground": true,
            "ticks": "",
            "zerolinecolor": "white"
           }
          },
          "shapedefaults": {
           "line": {
            "color": "#2a3f5f"
           }
          },
          "ternary": {
           "aaxis": {
            "gridcolor": "white",
            "linecolor": "white",
            "ticks": ""
           },
           "baxis": {
            "gridcolor": "white",
            "linecolor": "white",
            "ticks": ""
           },
           "bgcolor": "#E5ECF6",
           "caxis": {
            "gridcolor": "white",
            "linecolor": "white",
            "ticks": ""
           }
          },
          "title": {
           "x": 0.05
          },
          "xaxis": {
           "automargin": true,
           "gridcolor": "white",
           "linecolor": "white",
           "ticks": "",
           "title": {
            "standoff": 15
           },
           "zerolinecolor": "white",
           "zerolinewidth": 2
          },
          "yaxis": {
           "automargin": true,
           "gridcolor": "white",
           "linecolor": "white",
           "ticks": "",
           "title": {
            "standoff": 15
           },
           "zerolinecolor": "white",
           "zerolinewidth": 2
          }
         }
        },
        "title": {
         "text": "Episode Rewards vs. Noise Faceted by Size"
        },
        "xaxis": {
         "anchor": "y",
         "domain": [
          0,
          0.49
         ],
         "title": {
          "text": "noise"
         }
        },
        "xaxis2": {
         "anchor": "y2",
         "domain": [
          0.51,
          1
         ],
         "matches": "x",
         "title": {
          "text": "noise"
         }
        },
        "yaxis": {
         "anchor": "x",
         "domain": [
          0,
          1
         ],
         "title": {
          "text": "episode_rewards_mean"
         }
        },
        "yaxis2": {
         "anchor": "x2",
         "domain": [
          0,
          1
         ],
         "matches": "y",
         "showticklabels": false
        }
       }
      }
     },
     "metadata": {},
     "output_type": "display_data"
    }
   ],
   "source": [
    "import plotly.express as px\n",
    "\n",
    "# Define readable names for selected hyperparams\n",
    "readable_names = {\n",
    "    hyperparam_columns[0]: \"noise\",\n",
    "    hyperparam_columns[1]: \"size\"\n",
    "}\n",
    "\n",
    "# Rename columns in a copy of the dataframe\n",
    "plot_df = sub_df.rename(columns=readable_names)\n",
    "\n",
    "# Assign new column names\n",
    "x_col = \"noise\"\n",
    "y_col = \"episode_rewards_mean\"\n",
    "facet_col = \"size\"\n",
    "\n",
    "# Plot\n",
    "fig = px.scatter(\n",
    "    plot_df,\n",
    "    x=x_col,\n",
    "    y=y_col,\n",
    "    color=\"experiment_name\",  # Optional: color by experiment\n",
    "    facet_col=facet_col,\n",
    "    title=\"Episode Rewards vs. Noise Faceted by Size\",\n",
    "    height=600\n",
    ")\n",
    "\n",
    "fig.update_layout(showlegend=False)\n",
    "fig.show()\n"
   ]
  },
  {
   "cell_type": "code",
   "execution_count": null,
   "metadata": {},
   "outputs": [],
   "source": []
  }
 ],
 "metadata": {
  "kernelspec": {
   "display_name": "phd_rl_algos",
   "language": "python",
   "name": "python3"
  },
  "language_info": {
   "codemirror_mode": {
    "name": "ipython",
    "version": 3
   },
   "file_extension": ".py",
   "mimetype": "text/x-python",
   "name": "python",
   "nbconvert_exporter": "python",
   "pygments_lexer": "ipython3",
   "version": "3.11.5"
  }
 },
 "nbformat": 4,
 "nbformat_minor": 2
}
