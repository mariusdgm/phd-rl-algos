{
 "cells": [
  {
   "cell_type": "code",
   "execution_count": 20,
   "metadata": {},
   "outputs": [
    {
     "name": "stdout",
     "output_type": "stream",
     "text": [
      "The autoreload extension is already loaded. To reload it, use:\n",
      "  %reload_ext autoreload\n"
     ]
    }
   ],
   "source": [
    "%load_ext autoreload\n",
    "%autoreload 2"
   ]
  },
  {
   "cell_type": "code",
   "execution_count": 21,
   "metadata": {},
   "outputs": [],
   "source": [
    "import os, sys\n",
    "\n",
    "def get_dir_n_levels_up(path, n):\n",
    "    # Go up n levels from the given path\n",
    "    for _ in range(n):\n",
    "        path = os.path.dirname(path)\n",
    "    return path\n",
    "\n",
    "proj_root = get_dir_n_levels_up(os.path.abspath(\"__file__\"), 4)\n",
    "sys.path.append(proj_root)\n",
    "\n",
    "import pandas as pd\n",
    "import yaml\n",
    "import torch\n",
    "import collections\n",
    "\n",
    "import warnings\n",
    "import numpy as np\n",
    "\n",
    "import seaborn as sns\n",
    "import matplotlib.pyplot as plt\n",
    "sns.set_theme()\n",
    "\n",
    "warnings.filterwarnings(\"ignore\")\n",
    "\n",
    "from dqn.opinion_dynamics.utils.experiment import process_experiment\n"
   ]
  },
  {
   "cell_type": "code",
   "execution_count": 22,
   "metadata": {},
   "outputs": [
    {
     "data": {
      "text/plain": [
       "Index(['epoch_type', 'frame_stamp', 'greedy_epsilon', 'episode_rewards_min',\n",
       "       'episode_rewards_max', 'episode_rewards_mean', 'episode_rewards_median',\n",
       "       'episode_rewards_std', 'episode_discounted_rewards_min',\n",
       "       'episode_discounted_rewards_max', 'episode_discounted_rewards_mean',\n",
       "       'episode_discounted_rewards_median', 'episode_discounted_rewards_std',\n",
       "       'episode_frames_min', 'episode_frames_max', 'episode_frames_mean',\n",
       "       'episode_frames_median', 'episode_frames_std', 'episode_losses_min',\n",
       "       'episode_losses_max', 'episode_losses_mean', 'episode_losses_median',\n",
       "       'episode_losses_std', 'episode_max_qs_min', 'episode_max_qs_max',\n",
       "       'episode_max_qs_mean', 'episode_max_qs_median', 'episode_max_qs_std',\n",
       "       'policy_trained_times', 'target_trained_times', 'epoch_time',\n",
       "       'sub_exp_cfg_agent_params.args_.target_model_update_freq',\n",
       "       'sub_exp_cfg_agent_params.args_.training_freq', 'sub_experiment_path',\n",
       "       'seed', 'experiment_name'],\n",
       "      dtype='object')"
      ]
     },
     "execution_count": 22,
     "metadata": {},
     "output_type": "execute_result"
    }
   ],
   "source": [
    "# experiment_sub_dir = \"2025May02-101004_configs\" # excellent run\n",
    "experiment_sub_dir = \"2025Jul03-020044_configs\"\n",
    "\n",
    "exp_path = os.path.join(os.path.abspath(\".\"), \"results\", experiment_sub_dir)\n",
    "df = process_experiment(\n",
    "    exp_path\n",
    ")\n",
    "df.columns\n"
   ]
  },
  {
   "cell_type": "code",
   "execution_count": 23,
   "metadata": {},
   "outputs": [
    {
     "data": {
      "text/html": [
       "<div>\n",
       "<style scoped>\n",
       "    .dataframe tbody tr th:only-of-type {\n",
       "        vertical-align: middle;\n",
       "    }\n",
       "\n",
       "    .dataframe tbody tr th {\n",
       "        vertical-align: top;\n",
       "    }\n",
       "\n",
       "    .dataframe thead th {\n",
       "        text-align: right;\n",
       "    }\n",
       "</style>\n",
       "<table border=\"1\" class=\"dataframe\">\n",
       "  <thead>\n",
       "    <tr style=\"text-align: right;\">\n",
       "      <th></th>\n",
       "      <th>epoch_type</th>\n",
       "      <th>frame_stamp</th>\n",
       "      <th>greedy_epsilon</th>\n",
       "      <th>episode_rewards_min</th>\n",
       "      <th>episode_rewards_max</th>\n",
       "      <th>episode_rewards_mean</th>\n",
       "      <th>episode_rewards_median</th>\n",
       "      <th>episode_rewards_std</th>\n",
       "      <th>episode_discounted_rewards_min</th>\n",
       "      <th>episode_discounted_rewards_max</th>\n",
       "      <th>...</th>\n",
       "      <th>episode_max_qs_median</th>\n",
       "      <th>episode_max_qs_std</th>\n",
       "      <th>policy_trained_times</th>\n",
       "      <th>target_trained_times</th>\n",
       "      <th>epoch_time</th>\n",
       "      <th>sub_exp_cfg_agent_params.args_.target_model_update_freq</th>\n",
       "      <th>sub_exp_cfg_agent_params.args_.training_freq</th>\n",
       "      <th>sub_experiment_path</th>\n",
       "      <th>seed</th>\n",
       "      <th>experiment_name</th>\n",
       "    </tr>\n",
       "  </thead>\n",
       "  <tbody>\n",
       "    <tr>\n",
       "      <th>0</th>\n",
       "      <td>training</td>\n",
       "      <td>200000</td>\n",
       "      <td>0.983159</td>\n",
       "      <td>-7.376262</td>\n",
       "      <td>-1.427960</td>\n",
       "      <td>-4.436073</td>\n",
       "      <td>-4.423594</td>\n",
       "      <td>0.835455</td>\n",
       "      <td>-6.899529</td>\n",
       "      <td>-1.400937</td>\n",
       "      <td>...</td>\n",
       "      <td>0.714885</td>\n",
       "      <td>0.250226</td>\n",
       "      <td>19499.0</td>\n",
       "      <td>30.0</td>\n",
       "      <td>0 days 00:03:58.777723</td>\n",
       "      <td>5000</td>\n",
       "      <td>10</td>\n",
       "      <td>d:\\Work\\repos\\RL\\phd-rl-algos\\dqn\\opinion_dyna...</td>\n",
       "      <td>0</td>\n",
       "      <td>0000_agent_params.args_.target_model_update_fr...</td>\n",
       "    </tr>\n",
       "    <tr>\n",
       "      <th>1</th>\n",
       "      <td>training</td>\n",
       "      <td>400000</td>\n",
       "      <td>0.965886</td>\n",
       "      <td>-7.730604</td>\n",
       "      <td>-1.737595</td>\n",
       "      <td>-4.473984</td>\n",
       "      <td>-4.444247</td>\n",
       "      <td>0.836482</td>\n",
       "      <td>-7.220015</td>\n",
       "      <td>-1.696587</td>\n",
       "      <td>...</td>\n",
       "      <td>0.446219</td>\n",
       "      <td>0.360741</td>\n",
       "      <td>20000.0</td>\n",
       "      <td>40.0</td>\n",
       "      <td>0 days 00:04:20.299515</td>\n",
       "      <td>5000</td>\n",
       "      <td>10</td>\n",
       "      <td>d:\\Work\\repos\\RL\\phd-rl-algos\\dqn\\opinion_dyna...</td>\n",
       "      <td>0</td>\n",
       "      <td>0000_agent_params.args_.target_model_update_fr...</td>\n",
       "    </tr>\n",
       "    <tr>\n",
       "      <th>2</th>\n",
       "      <td>training</td>\n",
       "      <td>600000</td>\n",
       "      <td>0.948614</td>\n",
       "      <td>-7.681805</td>\n",
       "      <td>-1.544932</td>\n",
       "      <td>-4.516469</td>\n",
       "      <td>-4.502351</td>\n",
       "      <td>0.829816</td>\n",
       "      <td>-7.173061</td>\n",
       "      <td>-1.515666</td>\n",
       "      <td>...</td>\n",
       "      <td>0.030183</td>\n",
       "      <td>0.519268</td>\n",
       "      <td>20000.0</td>\n",
       "      <td>40.0</td>\n",
       "      <td>0 days 00:04:29.610101</td>\n",
       "      <td>5000</td>\n",
       "      <td>10</td>\n",
       "      <td>d:\\Work\\repos\\RL\\phd-rl-algos\\dqn\\opinion_dyna...</td>\n",
       "      <td>0</td>\n",
       "      <td>0000_agent_params.args_.target_model_update_fr...</td>\n",
       "    </tr>\n",
       "    <tr>\n",
       "      <th>3</th>\n",
       "      <td>training</td>\n",
       "      <td>800000</td>\n",
       "      <td>0.931341</td>\n",
       "      <td>-7.545669</td>\n",
       "      <td>-1.688213</td>\n",
       "      <td>-4.522131</td>\n",
       "      <td>-4.516816</td>\n",
       "      <td>0.843671</td>\n",
       "      <td>-7.047326</td>\n",
       "      <td>-1.648509</td>\n",
       "      <td>...</td>\n",
       "      <td>-0.274629</td>\n",
       "      <td>0.704980</td>\n",
       "      <td>20000.0</td>\n",
       "      <td>40.0</td>\n",
       "      <td>0 days 00:04:25.524240</td>\n",
       "      <td>5000</td>\n",
       "      <td>10</td>\n",
       "      <td>d:\\Work\\repos\\RL\\phd-rl-algos\\dqn\\opinion_dyna...</td>\n",
       "      <td>0</td>\n",
       "      <td>0000_agent_params.args_.target_model_update_fr...</td>\n",
       "    </tr>\n",
       "    <tr>\n",
       "      <th>4</th>\n",
       "      <td>training</td>\n",
       "      <td>1000000</td>\n",
       "      <td>0.914068</td>\n",
       "      <td>-7.660520</td>\n",
       "      <td>-1.624703</td>\n",
       "      <td>-4.506266</td>\n",
       "      <td>-4.502947</td>\n",
       "      <td>0.843123</td>\n",
       "      <td>-7.148797</td>\n",
       "      <td>-1.592218</td>\n",
       "      <td>...</td>\n",
       "      <td>-0.441426</td>\n",
       "      <td>0.873677</td>\n",
       "      <td>20000.0</td>\n",
       "      <td>40.0</td>\n",
       "      <td>0 days 00:04:25.218278</td>\n",
       "      <td>5000</td>\n",
       "      <td>10</td>\n",
       "      <td>d:\\Work\\repos\\RL\\phd-rl-algos\\dqn\\opinion_dyna...</td>\n",
       "      <td>0</td>\n",
       "      <td>0000_agent_params.args_.target_model_update_fr...</td>\n",
       "    </tr>\n",
       "    <tr>\n",
       "      <th>...</th>\n",
       "      <td>...</td>\n",
       "      <td>...</td>\n",
       "      <td>...</td>\n",
       "      <td>...</td>\n",
       "      <td>...</td>\n",
       "      <td>...</td>\n",
       "      <td>...</td>\n",
       "      <td>...</td>\n",
       "      <td>...</td>\n",
       "      <td>...</td>\n",
       "      <td>...</td>\n",
       "      <td>...</td>\n",
       "      <td>...</td>\n",
       "      <td>...</td>\n",
       "      <td>...</td>\n",
       "      <td>...</td>\n",
       "      <td>...</td>\n",
       "      <td>...</td>\n",
       "      <td>...</td>\n",
       "      <td>...</td>\n",
       "      <td>...</td>\n",
       "    </tr>\n",
       "    <tr>\n",
       "      <th>1435</th>\n",
       "      <td>validation</td>\n",
       "      <td>11200000</td>\n",
       "      <td>NaN</td>\n",
       "      <td>-8.041873</td>\n",
       "      <td>-8.041796</td>\n",
       "      <td>-8.041828</td>\n",
       "      <td>-8.041830</td>\n",
       "      <td>0.000015</td>\n",
       "      <td>-7.518972</td>\n",
       "      <td>-7.518902</td>\n",
       "      <td>...</td>\n",
       "      <td>-1.380852</td>\n",
       "      <td>2.172761</td>\n",
       "      <td>NaN</td>\n",
       "      <td>NaN</td>\n",
       "      <td>0 days 00:00:00.717173</td>\n",
       "      <td>6500</td>\n",
       "      <td>12</td>\n",
       "      <td>d:\\Work\\repos\\RL\\phd-rl-algos\\dqn\\opinion_dyna...</td>\n",
       "      <td>2</td>\n",
       "      <td>0003_agent_params.args_.target_model_update_fr...</td>\n",
       "    </tr>\n",
       "    <tr>\n",
       "      <th>1436</th>\n",
       "      <td>validation</td>\n",
       "      <td>11400000</td>\n",
       "      <td>NaN</td>\n",
       "      <td>-8.032943</td>\n",
       "      <td>-8.032895</td>\n",
       "      <td>-8.032919</td>\n",
       "      <td>-8.032919</td>\n",
       "      <td>0.000012</td>\n",
       "      <td>-7.510528</td>\n",
       "      <td>-7.510483</td>\n",
       "      <td>...</td>\n",
       "      <td>-1.376637</td>\n",
       "      <td>2.172659</td>\n",
       "      <td>NaN</td>\n",
       "      <td>NaN</td>\n",
       "      <td>0 days 00:00:00.734108</td>\n",
       "      <td>6500</td>\n",
       "      <td>12</td>\n",
       "      <td>d:\\Work\\repos\\RL\\phd-rl-algos\\dqn\\opinion_dyna...</td>\n",
       "      <td>2</td>\n",
       "      <td>0003_agent_params.args_.target_model_update_fr...</td>\n",
       "    </tr>\n",
       "    <tr>\n",
       "      <th>1437</th>\n",
       "      <td>validation</td>\n",
       "      <td>11600000</td>\n",
       "      <td>NaN</td>\n",
       "      <td>-8.048314</td>\n",
       "      <td>-8.048235</td>\n",
       "      <td>-8.048266</td>\n",
       "      <td>-8.048266</td>\n",
       "      <td>0.000019</td>\n",
       "      <td>-7.525157</td>\n",
       "      <td>-7.525086</td>\n",
       "      <td>...</td>\n",
       "      <td>-1.372921</td>\n",
       "      <td>2.179679</td>\n",
       "      <td>NaN</td>\n",
       "      <td>NaN</td>\n",
       "      <td>0 days 00:00:00.697953</td>\n",
       "      <td>6500</td>\n",
       "      <td>12</td>\n",
       "      <td>d:\\Work\\repos\\RL\\phd-rl-algos\\dqn\\opinion_dyna...</td>\n",
       "      <td>2</td>\n",
       "      <td>0003_agent_params.args_.target_model_update_fr...</td>\n",
       "    </tr>\n",
       "    <tr>\n",
       "      <th>1438</th>\n",
       "      <td>validation</td>\n",
       "      <td>11800000</td>\n",
       "      <td>NaN</td>\n",
       "      <td>-8.048978</td>\n",
       "      <td>-8.048918</td>\n",
       "      <td>-8.048954</td>\n",
       "      <td>-8.048954</td>\n",
       "      <td>0.000013</td>\n",
       "      <td>-7.525925</td>\n",
       "      <td>-7.525870</td>\n",
       "      <td>...</td>\n",
       "      <td>-1.367558</td>\n",
       "      <td>2.183916</td>\n",
       "      <td>NaN</td>\n",
       "      <td>NaN</td>\n",
       "      <td>0 days 00:00:00.670234</td>\n",
       "      <td>6500</td>\n",
       "      <td>12</td>\n",
       "      <td>d:\\Work\\repos\\RL\\phd-rl-algos\\dqn\\opinion_dyna...</td>\n",
       "      <td>2</td>\n",
       "      <td>0003_agent_params.args_.target_model_update_fr...</td>\n",
       "    </tr>\n",
       "    <tr>\n",
       "      <th>1439</th>\n",
       "      <td>validation</td>\n",
       "      <td>12000000</td>\n",
       "      <td>NaN</td>\n",
       "      <td>-8.046767</td>\n",
       "      <td>-8.046699</td>\n",
       "      <td>-8.046742</td>\n",
       "      <td>-8.046743</td>\n",
       "      <td>0.000017</td>\n",
       "      <td>-7.524227</td>\n",
       "      <td>-7.524165</td>\n",
       "      <td>...</td>\n",
       "      <td>-1.366556</td>\n",
       "      <td>2.183935</td>\n",
       "      <td>NaN</td>\n",
       "      <td>NaN</td>\n",
       "      <td>0 days 00:00:00.648404</td>\n",
       "      <td>6500</td>\n",
       "      <td>12</td>\n",
       "      <td>d:\\Work\\repos\\RL\\phd-rl-algos\\dqn\\opinion_dyna...</td>\n",
       "      <td>2</td>\n",
       "      <td>0003_agent_params.args_.target_model_update_fr...</td>\n",
       "    </tr>\n",
       "  </tbody>\n",
       "</table>\n",
       "<p>1440 rows × 36 columns</p>\n",
       "</div>"
      ],
      "text/plain": [
       "      epoch_type  frame_stamp  greedy_epsilon  episode_rewards_min  \\\n",
       "0       training       200000        0.983159            -7.376262   \n",
       "1       training       400000        0.965886            -7.730604   \n",
       "2       training       600000        0.948614            -7.681805   \n",
       "3       training       800000        0.931341            -7.545669   \n",
       "4       training      1000000        0.914068            -7.660520   \n",
       "...          ...          ...             ...                  ...   \n",
       "1435  validation     11200000             NaN            -8.041873   \n",
       "1436  validation     11400000             NaN            -8.032943   \n",
       "1437  validation     11600000             NaN            -8.048314   \n",
       "1438  validation     11800000             NaN            -8.048978   \n",
       "1439  validation     12000000             NaN            -8.046767   \n",
       "\n",
       "      episode_rewards_max  episode_rewards_mean  episode_rewards_median  \\\n",
       "0               -1.427960             -4.436073               -4.423594   \n",
       "1               -1.737595             -4.473984               -4.444247   \n",
       "2               -1.544932             -4.516469               -4.502351   \n",
       "3               -1.688213             -4.522131               -4.516816   \n",
       "4               -1.624703             -4.506266               -4.502947   \n",
       "...                   ...                   ...                     ...   \n",
       "1435            -8.041796             -8.041828               -8.041830   \n",
       "1436            -8.032895             -8.032919               -8.032919   \n",
       "1437            -8.048235             -8.048266               -8.048266   \n",
       "1438            -8.048918             -8.048954               -8.048954   \n",
       "1439            -8.046699             -8.046742               -8.046743   \n",
       "\n",
       "      episode_rewards_std  episode_discounted_rewards_min  \\\n",
       "0                0.835455                       -6.899529   \n",
       "1                0.836482                       -7.220015   \n",
       "2                0.829816                       -7.173061   \n",
       "3                0.843671                       -7.047326   \n",
       "4                0.843123                       -7.148797   \n",
       "...                   ...                             ...   \n",
       "1435             0.000015                       -7.518972   \n",
       "1436             0.000012                       -7.510528   \n",
       "1437             0.000019                       -7.525157   \n",
       "1438             0.000013                       -7.525925   \n",
       "1439             0.000017                       -7.524227   \n",
       "\n",
       "      episode_discounted_rewards_max  ...  episode_max_qs_median  \\\n",
       "0                          -1.400937  ...               0.714885   \n",
       "1                          -1.696587  ...               0.446219   \n",
       "2                          -1.515666  ...               0.030183   \n",
       "3                          -1.648509  ...              -0.274629   \n",
       "4                          -1.592218  ...              -0.441426   \n",
       "...                              ...  ...                    ...   \n",
       "1435                       -7.518902  ...              -1.380852   \n",
       "1436                       -7.510483  ...              -1.376637   \n",
       "1437                       -7.525086  ...              -1.372921   \n",
       "1438                       -7.525870  ...              -1.367558   \n",
       "1439                       -7.524165  ...              -1.366556   \n",
       "\n",
       "      episode_max_qs_std  policy_trained_times  target_trained_times  \\\n",
       "0               0.250226               19499.0                  30.0   \n",
       "1               0.360741               20000.0                  40.0   \n",
       "2               0.519268               20000.0                  40.0   \n",
       "3               0.704980               20000.0                  40.0   \n",
       "4               0.873677               20000.0                  40.0   \n",
       "...                  ...                   ...                   ...   \n",
       "1435            2.172761                   NaN                   NaN   \n",
       "1436            2.172659                   NaN                   NaN   \n",
       "1437            2.179679                   NaN                   NaN   \n",
       "1438            2.183916                   NaN                   NaN   \n",
       "1439            2.183935                   NaN                   NaN   \n",
       "\n",
       "                 epoch_time  \\\n",
       "0    0 days 00:03:58.777723   \n",
       "1    0 days 00:04:20.299515   \n",
       "2    0 days 00:04:29.610101   \n",
       "3    0 days 00:04:25.524240   \n",
       "4    0 days 00:04:25.218278   \n",
       "...                     ...   \n",
       "1435 0 days 00:00:00.717173   \n",
       "1436 0 days 00:00:00.734108   \n",
       "1437 0 days 00:00:00.697953   \n",
       "1438 0 days 00:00:00.670234   \n",
       "1439 0 days 00:00:00.648404   \n",
       "\n",
       "      sub_exp_cfg_agent_params.args_.target_model_update_freq  \\\n",
       "0                                                  5000         \n",
       "1                                                  5000         \n",
       "2                                                  5000         \n",
       "3                                                  5000         \n",
       "4                                                  5000         \n",
       "...                                                 ...         \n",
       "1435                                               6500         \n",
       "1436                                               6500         \n",
       "1437                                               6500         \n",
       "1438                                               6500         \n",
       "1439                                               6500         \n",
       "\n",
       "      sub_exp_cfg_agent_params.args_.training_freq  \\\n",
       "0                                               10   \n",
       "1                                               10   \n",
       "2                                               10   \n",
       "3                                               10   \n",
       "4                                               10   \n",
       "...                                            ...   \n",
       "1435                                            12   \n",
       "1436                                            12   \n",
       "1437                                            12   \n",
       "1438                                            12   \n",
       "1439                                            12   \n",
       "\n",
       "                                    sub_experiment_path  seed  \\\n",
       "0     d:\\Work\\repos\\RL\\phd-rl-algos\\dqn\\opinion_dyna...     0   \n",
       "1     d:\\Work\\repos\\RL\\phd-rl-algos\\dqn\\opinion_dyna...     0   \n",
       "2     d:\\Work\\repos\\RL\\phd-rl-algos\\dqn\\opinion_dyna...     0   \n",
       "3     d:\\Work\\repos\\RL\\phd-rl-algos\\dqn\\opinion_dyna...     0   \n",
       "4     d:\\Work\\repos\\RL\\phd-rl-algos\\dqn\\opinion_dyna...     0   \n",
       "...                                                 ...   ...   \n",
       "1435  d:\\Work\\repos\\RL\\phd-rl-algos\\dqn\\opinion_dyna...     2   \n",
       "1436  d:\\Work\\repos\\RL\\phd-rl-algos\\dqn\\opinion_dyna...     2   \n",
       "1437  d:\\Work\\repos\\RL\\phd-rl-algos\\dqn\\opinion_dyna...     2   \n",
       "1438  d:\\Work\\repos\\RL\\phd-rl-algos\\dqn\\opinion_dyna...     2   \n",
       "1439  d:\\Work\\repos\\RL\\phd-rl-algos\\dqn\\opinion_dyna...     2   \n",
       "\n",
       "                                        experiment_name  \n",
       "0     0000_agent_params.args_.target_model_update_fr...  \n",
       "1     0000_agent_params.args_.target_model_update_fr...  \n",
       "2     0000_agent_params.args_.target_model_update_fr...  \n",
       "3     0000_agent_params.args_.target_model_update_fr...  \n",
       "4     0000_agent_params.args_.target_model_update_fr...  \n",
       "...                                                 ...  \n",
       "1435  0003_agent_params.args_.target_model_update_fr...  \n",
       "1436  0003_agent_params.args_.target_model_update_fr...  \n",
       "1437  0003_agent_params.args_.target_model_update_fr...  \n",
       "1438  0003_agent_params.args_.target_model_update_fr...  \n",
       "1439  0003_agent_params.args_.target_model_update_fr...  \n",
       "\n",
       "[1440 rows x 36 columns]"
      ]
     },
     "execution_count": 23,
     "metadata": {},
     "output_type": "execute_result"
    }
   ],
   "source": [
    "df"
   ]
  },
  {
   "cell_type": "code",
   "execution_count": 24,
   "metadata": {},
   "outputs": [
    {
     "data": {
      "text/html": [
       "<div>\n",
       "<style scoped>\n",
       "    .dataframe tbody tr th:only-of-type {\n",
       "        vertical-align: middle;\n",
       "    }\n",
       "\n",
       "    .dataframe tbody tr th {\n",
       "        vertical-align: top;\n",
       "    }\n",
       "\n",
       "    .dataframe thead th {\n",
       "        text-align: right;\n",
       "    }\n",
       "</style>\n",
       "<table border=\"1\" class=\"dataframe\">\n",
       "  <thead>\n",
       "    <tr style=\"text-align: right;\">\n",
       "      <th></th>\n",
       "      <th>epoch_type</th>\n",
       "      <th>frame_stamp</th>\n",
       "      <th>greedy_epsilon</th>\n",
       "      <th>episode_rewards_min</th>\n",
       "      <th>episode_rewards_max</th>\n",
       "      <th>episode_rewards_mean</th>\n",
       "      <th>episode_rewards_median</th>\n",
       "      <th>episode_rewards_std</th>\n",
       "      <th>episode_discounted_rewards_min</th>\n",
       "      <th>episode_discounted_rewards_max</th>\n",
       "      <th>...</th>\n",
       "      <th>episode_max_qs_median</th>\n",
       "      <th>episode_max_qs_std</th>\n",
       "      <th>policy_trained_times</th>\n",
       "      <th>target_trained_times</th>\n",
       "      <th>epoch_time</th>\n",
       "      <th>sub_exp_cfg_agent_params.args_.target_model_update_freq</th>\n",
       "      <th>sub_exp_cfg_agent_params.args_.training_freq</th>\n",
       "      <th>sub_experiment_path</th>\n",
       "      <th>seed</th>\n",
       "      <th>experiment_name</th>\n",
       "    </tr>\n",
       "  </thead>\n",
       "  <tbody>\n",
       "    <tr>\n",
       "      <th>0</th>\n",
       "      <td>training</td>\n",
       "      <td>200000</td>\n",
       "      <td>0.983159</td>\n",
       "      <td>-7.376262</td>\n",
       "      <td>-1.427960</td>\n",
       "      <td>-4.436073</td>\n",
       "      <td>-4.423594</td>\n",
       "      <td>0.835455</td>\n",
       "      <td>-6.899529</td>\n",
       "      <td>-1.400937</td>\n",
       "      <td>...</td>\n",
       "      <td>0.714885</td>\n",
       "      <td>0.250226</td>\n",
       "      <td>19499.0</td>\n",
       "      <td>30.0</td>\n",
       "      <td>0 days 00:03:58.777723</td>\n",
       "      <td>5000</td>\n",
       "      <td>10</td>\n",
       "      <td>d:\\Work\\repos\\RL\\phd-rl-algos\\dqn\\opinion_dyna...</td>\n",
       "      <td>0</td>\n",
       "      <td>0000_agent_params.args_.target_model_update_fr...</td>\n",
       "    </tr>\n",
       "    <tr>\n",
       "      <th>1</th>\n",
       "      <td>training</td>\n",
       "      <td>400000</td>\n",
       "      <td>0.965886</td>\n",
       "      <td>-7.730604</td>\n",
       "      <td>-1.737595</td>\n",
       "      <td>-4.473984</td>\n",
       "      <td>-4.444247</td>\n",
       "      <td>0.836482</td>\n",
       "      <td>-7.220015</td>\n",
       "      <td>-1.696587</td>\n",
       "      <td>...</td>\n",
       "      <td>0.446219</td>\n",
       "      <td>0.360741</td>\n",
       "      <td>20000.0</td>\n",
       "      <td>40.0</td>\n",
       "      <td>0 days 00:04:20.299515</td>\n",
       "      <td>5000</td>\n",
       "      <td>10</td>\n",
       "      <td>d:\\Work\\repos\\RL\\phd-rl-algos\\dqn\\opinion_dyna...</td>\n",
       "      <td>0</td>\n",
       "      <td>0000_agent_params.args_.target_model_update_fr...</td>\n",
       "    </tr>\n",
       "    <tr>\n",
       "      <th>2</th>\n",
       "      <td>training</td>\n",
       "      <td>600000</td>\n",
       "      <td>0.948614</td>\n",
       "      <td>-7.681805</td>\n",
       "      <td>-1.544932</td>\n",
       "      <td>-4.516469</td>\n",
       "      <td>-4.502351</td>\n",
       "      <td>0.829816</td>\n",
       "      <td>-7.173061</td>\n",
       "      <td>-1.515666</td>\n",
       "      <td>...</td>\n",
       "      <td>0.030183</td>\n",
       "      <td>0.519268</td>\n",
       "      <td>20000.0</td>\n",
       "      <td>40.0</td>\n",
       "      <td>0 days 00:04:29.610101</td>\n",
       "      <td>5000</td>\n",
       "      <td>10</td>\n",
       "      <td>d:\\Work\\repos\\RL\\phd-rl-algos\\dqn\\opinion_dyna...</td>\n",
       "      <td>0</td>\n",
       "      <td>0000_agent_params.args_.target_model_update_fr...</td>\n",
       "    </tr>\n",
       "    <tr>\n",
       "      <th>3</th>\n",
       "      <td>training</td>\n",
       "      <td>800000</td>\n",
       "      <td>0.931341</td>\n",
       "      <td>-7.545669</td>\n",
       "      <td>-1.688213</td>\n",
       "      <td>-4.522131</td>\n",
       "      <td>-4.516816</td>\n",
       "      <td>0.843671</td>\n",
       "      <td>-7.047326</td>\n",
       "      <td>-1.648509</td>\n",
       "      <td>...</td>\n",
       "      <td>-0.274629</td>\n",
       "      <td>0.704980</td>\n",
       "      <td>20000.0</td>\n",
       "      <td>40.0</td>\n",
       "      <td>0 days 00:04:25.524240</td>\n",
       "      <td>5000</td>\n",
       "      <td>10</td>\n",
       "      <td>d:\\Work\\repos\\RL\\phd-rl-algos\\dqn\\opinion_dyna...</td>\n",
       "      <td>0</td>\n",
       "      <td>0000_agent_params.args_.target_model_update_fr...</td>\n",
       "    </tr>\n",
       "    <tr>\n",
       "      <th>4</th>\n",
       "      <td>training</td>\n",
       "      <td>1000000</td>\n",
       "      <td>0.914068</td>\n",
       "      <td>-7.660520</td>\n",
       "      <td>-1.624703</td>\n",
       "      <td>-4.506266</td>\n",
       "      <td>-4.502947</td>\n",
       "      <td>0.843123</td>\n",
       "      <td>-7.148797</td>\n",
       "      <td>-1.592218</td>\n",
       "      <td>...</td>\n",
       "      <td>-0.441426</td>\n",
       "      <td>0.873677</td>\n",
       "      <td>20000.0</td>\n",
       "      <td>40.0</td>\n",
       "      <td>0 days 00:04:25.218278</td>\n",
       "      <td>5000</td>\n",
       "      <td>10</td>\n",
       "      <td>d:\\Work\\repos\\RL\\phd-rl-algos\\dqn\\opinion_dyna...</td>\n",
       "      <td>0</td>\n",
       "      <td>0000_agent_params.args_.target_model_update_fr...</td>\n",
       "    </tr>\n",
       "    <tr>\n",
       "      <th>...</th>\n",
       "      <td>...</td>\n",
       "      <td>...</td>\n",
       "      <td>...</td>\n",
       "      <td>...</td>\n",
       "      <td>...</td>\n",
       "      <td>...</td>\n",
       "      <td>...</td>\n",
       "      <td>...</td>\n",
       "      <td>...</td>\n",
       "      <td>...</td>\n",
       "      <td>...</td>\n",
       "      <td>...</td>\n",
       "      <td>...</td>\n",
       "      <td>...</td>\n",
       "      <td>...</td>\n",
       "      <td>...</td>\n",
       "      <td>...</td>\n",
       "      <td>...</td>\n",
       "      <td>...</td>\n",
       "      <td>...</td>\n",
       "      <td>...</td>\n",
       "    </tr>\n",
       "    <tr>\n",
       "      <th>1375</th>\n",
       "      <td>training</td>\n",
       "      <td>11200000</td>\n",
       "      <td>0.050000</td>\n",
       "      <td>-7.241558</td>\n",
       "      <td>-1.597896</td>\n",
       "      <td>-4.300360</td>\n",
       "      <td>-4.252966</td>\n",
       "      <td>0.789731</td>\n",
       "      <td>-6.782948</td>\n",
       "      <td>-1.561150</td>\n",
       "      <td>...</td>\n",
       "      <td>-0.768603</td>\n",
       "      <td>1.313272</td>\n",
       "      <td>16667.0</td>\n",
       "      <td>36.0</td>\n",
       "      <td>0 days 00:04:06.034754</td>\n",
       "      <td>6500</td>\n",
       "      <td>12</td>\n",
       "      <td>d:\\Work\\repos\\RL\\phd-rl-algos\\dqn\\opinion_dyna...</td>\n",
       "      <td>2</td>\n",
       "      <td>0003_agent_params.args_.target_model_update_fr...</td>\n",
       "    </tr>\n",
       "    <tr>\n",
       "      <th>1376</th>\n",
       "      <td>training</td>\n",
       "      <td>11400000</td>\n",
       "      <td>0.050000</td>\n",
       "      <td>-7.280516</td>\n",
       "      <td>-1.360909</td>\n",
       "      <td>-4.321666</td>\n",
       "      <td>-4.292034</td>\n",
       "      <td>0.793141</td>\n",
       "      <td>-6.819898</td>\n",
       "      <td>-1.335223</td>\n",
       "      <td>...</td>\n",
       "      <td>-0.770916</td>\n",
       "      <td>1.315826</td>\n",
       "      <td>16666.0</td>\n",
       "      <td>36.0</td>\n",
       "      <td>0 days 00:04:05.653730</td>\n",
       "      <td>6500</td>\n",
       "      <td>12</td>\n",
       "      <td>d:\\Work\\repos\\RL\\phd-rl-algos\\dqn\\opinion_dyna...</td>\n",
       "      <td>2</td>\n",
       "      <td>0003_agent_params.args_.target_model_update_fr...</td>\n",
       "    </tr>\n",
       "    <tr>\n",
       "      <th>1377</th>\n",
       "      <td>training</td>\n",
       "      <td>11600000</td>\n",
       "      <td>0.050000</td>\n",
       "      <td>-7.440056</td>\n",
       "      <td>-1.908551</td>\n",
       "      <td>-4.328893</td>\n",
       "      <td>-4.298816</td>\n",
       "      <td>0.788373</td>\n",
       "      <td>-6.971930</td>\n",
       "      <td>-1.856022</td>\n",
       "      <td>...</td>\n",
       "      <td>-0.770776</td>\n",
       "      <td>1.314522</td>\n",
       "      <td>16667.0</td>\n",
       "      <td>24.0</td>\n",
       "      <td>0 days 00:04:05.427432</td>\n",
       "      <td>6500</td>\n",
       "      <td>12</td>\n",
       "      <td>d:\\Work\\repos\\RL\\phd-rl-algos\\dqn\\opinion_dyna...</td>\n",
       "      <td>2</td>\n",
       "      <td>0003_agent_params.args_.target_model_update_fr...</td>\n",
       "    </tr>\n",
       "    <tr>\n",
       "      <th>1378</th>\n",
       "      <td>training</td>\n",
       "      <td>11800000</td>\n",
       "      <td>0.050000</td>\n",
       "      <td>-7.527768</td>\n",
       "      <td>-1.945335</td>\n",
       "      <td>-4.305680</td>\n",
       "      <td>-4.271453</td>\n",
       "      <td>0.805385</td>\n",
       "      <td>-7.038141</td>\n",
       "      <td>-1.892096</td>\n",
       "      <td>...</td>\n",
       "      <td>-0.767325</td>\n",
       "      <td>1.312695</td>\n",
       "      <td>16667.0</td>\n",
       "      <td>36.0</td>\n",
       "      <td>0 days 00:04:05.135475</td>\n",
       "      <td>6500</td>\n",
       "      <td>12</td>\n",
       "      <td>d:\\Work\\repos\\RL\\phd-rl-algos\\dqn\\opinion_dyna...</td>\n",
       "      <td>2</td>\n",
       "      <td>0003_agent_params.args_.target_model_update_fr...</td>\n",
       "    </tr>\n",
       "    <tr>\n",
       "      <th>1379</th>\n",
       "      <td>training</td>\n",
       "      <td>12000000</td>\n",
       "      <td>0.050000</td>\n",
       "      <td>-7.626912</td>\n",
       "      <td>-1.455791</td>\n",
       "      <td>-4.312866</td>\n",
       "      <td>-4.288305</td>\n",
       "      <td>0.795107</td>\n",
       "      <td>-7.135038</td>\n",
       "      <td>-1.421947</td>\n",
       "      <td>...</td>\n",
       "      <td>-0.761051</td>\n",
       "      <td>1.309121</td>\n",
       "      <td>16666.0</td>\n",
       "      <td>24.0</td>\n",
       "      <td>0 days 00:04:02.577538</td>\n",
       "      <td>6500</td>\n",
       "      <td>12</td>\n",
       "      <td>d:\\Work\\repos\\RL\\phd-rl-algos\\dqn\\opinion_dyna...</td>\n",
       "      <td>2</td>\n",
       "      <td>0003_agent_params.args_.target_model_update_fr...</td>\n",
       "    </tr>\n",
       "  </tbody>\n",
       "</table>\n",
       "<p>720 rows × 36 columns</p>\n",
       "</div>"
      ],
      "text/plain": [
       "     epoch_type  frame_stamp  greedy_epsilon  episode_rewards_min  \\\n",
       "0      training       200000        0.983159            -7.376262   \n",
       "1      training       400000        0.965886            -7.730604   \n",
       "2      training       600000        0.948614            -7.681805   \n",
       "3      training       800000        0.931341            -7.545669   \n",
       "4      training      1000000        0.914068            -7.660520   \n",
       "...         ...          ...             ...                  ...   \n",
       "1375   training     11200000        0.050000            -7.241558   \n",
       "1376   training     11400000        0.050000            -7.280516   \n",
       "1377   training     11600000        0.050000            -7.440056   \n",
       "1378   training     11800000        0.050000            -7.527768   \n",
       "1379   training     12000000        0.050000            -7.626912   \n",
       "\n",
       "      episode_rewards_max  episode_rewards_mean  episode_rewards_median  \\\n",
       "0               -1.427960             -4.436073               -4.423594   \n",
       "1               -1.737595             -4.473984               -4.444247   \n",
       "2               -1.544932             -4.516469               -4.502351   \n",
       "3               -1.688213             -4.522131               -4.516816   \n",
       "4               -1.624703             -4.506266               -4.502947   \n",
       "...                   ...                   ...                     ...   \n",
       "1375            -1.597896             -4.300360               -4.252966   \n",
       "1376            -1.360909             -4.321666               -4.292034   \n",
       "1377            -1.908551             -4.328893               -4.298816   \n",
       "1378            -1.945335             -4.305680               -4.271453   \n",
       "1379            -1.455791             -4.312866               -4.288305   \n",
       "\n",
       "      episode_rewards_std  episode_discounted_rewards_min  \\\n",
       "0                0.835455                       -6.899529   \n",
       "1                0.836482                       -7.220015   \n",
       "2                0.829816                       -7.173061   \n",
       "3                0.843671                       -7.047326   \n",
       "4                0.843123                       -7.148797   \n",
       "...                   ...                             ...   \n",
       "1375             0.789731                       -6.782948   \n",
       "1376             0.793141                       -6.819898   \n",
       "1377             0.788373                       -6.971930   \n",
       "1378             0.805385                       -7.038141   \n",
       "1379             0.795107                       -7.135038   \n",
       "\n",
       "      episode_discounted_rewards_max  ...  episode_max_qs_median  \\\n",
       "0                          -1.400937  ...               0.714885   \n",
       "1                          -1.696587  ...               0.446219   \n",
       "2                          -1.515666  ...               0.030183   \n",
       "3                          -1.648509  ...              -0.274629   \n",
       "4                          -1.592218  ...              -0.441426   \n",
       "...                              ...  ...                    ...   \n",
       "1375                       -1.561150  ...              -0.768603   \n",
       "1376                       -1.335223  ...              -0.770916   \n",
       "1377                       -1.856022  ...              -0.770776   \n",
       "1378                       -1.892096  ...              -0.767325   \n",
       "1379                       -1.421947  ...              -0.761051   \n",
       "\n",
       "      episode_max_qs_std  policy_trained_times  target_trained_times  \\\n",
       "0               0.250226               19499.0                  30.0   \n",
       "1               0.360741               20000.0                  40.0   \n",
       "2               0.519268               20000.0                  40.0   \n",
       "3               0.704980               20000.0                  40.0   \n",
       "4               0.873677               20000.0                  40.0   \n",
       "...                  ...                   ...                   ...   \n",
       "1375            1.313272               16667.0                  36.0   \n",
       "1376            1.315826               16666.0                  36.0   \n",
       "1377            1.314522               16667.0                  24.0   \n",
       "1378            1.312695               16667.0                  36.0   \n",
       "1379            1.309121               16666.0                  24.0   \n",
       "\n",
       "                 epoch_time  \\\n",
       "0    0 days 00:03:58.777723   \n",
       "1    0 days 00:04:20.299515   \n",
       "2    0 days 00:04:29.610101   \n",
       "3    0 days 00:04:25.524240   \n",
       "4    0 days 00:04:25.218278   \n",
       "...                     ...   \n",
       "1375 0 days 00:04:06.034754   \n",
       "1376 0 days 00:04:05.653730   \n",
       "1377 0 days 00:04:05.427432   \n",
       "1378 0 days 00:04:05.135475   \n",
       "1379 0 days 00:04:02.577538   \n",
       "\n",
       "      sub_exp_cfg_agent_params.args_.target_model_update_freq  \\\n",
       "0                                                  5000         \n",
       "1                                                  5000         \n",
       "2                                                  5000         \n",
       "3                                                  5000         \n",
       "4                                                  5000         \n",
       "...                                                 ...         \n",
       "1375                                               6500         \n",
       "1376                                               6500         \n",
       "1377                                               6500         \n",
       "1378                                               6500         \n",
       "1379                                               6500         \n",
       "\n",
       "      sub_exp_cfg_agent_params.args_.training_freq  \\\n",
       "0                                               10   \n",
       "1                                               10   \n",
       "2                                               10   \n",
       "3                                               10   \n",
       "4                                               10   \n",
       "...                                            ...   \n",
       "1375                                            12   \n",
       "1376                                            12   \n",
       "1377                                            12   \n",
       "1378                                            12   \n",
       "1379                                            12   \n",
       "\n",
       "                                    sub_experiment_path  seed  \\\n",
       "0     d:\\Work\\repos\\RL\\phd-rl-algos\\dqn\\opinion_dyna...     0   \n",
       "1     d:\\Work\\repos\\RL\\phd-rl-algos\\dqn\\opinion_dyna...     0   \n",
       "2     d:\\Work\\repos\\RL\\phd-rl-algos\\dqn\\opinion_dyna...     0   \n",
       "3     d:\\Work\\repos\\RL\\phd-rl-algos\\dqn\\opinion_dyna...     0   \n",
       "4     d:\\Work\\repos\\RL\\phd-rl-algos\\dqn\\opinion_dyna...     0   \n",
       "...                                                 ...   ...   \n",
       "1375  d:\\Work\\repos\\RL\\phd-rl-algos\\dqn\\opinion_dyna...     2   \n",
       "1376  d:\\Work\\repos\\RL\\phd-rl-algos\\dqn\\opinion_dyna...     2   \n",
       "1377  d:\\Work\\repos\\RL\\phd-rl-algos\\dqn\\opinion_dyna...     2   \n",
       "1378  d:\\Work\\repos\\RL\\phd-rl-algos\\dqn\\opinion_dyna...     2   \n",
       "1379  d:\\Work\\repos\\RL\\phd-rl-algos\\dqn\\opinion_dyna...     2   \n",
       "\n",
       "                                        experiment_name  \n",
       "0     0000_agent_params.args_.target_model_update_fr...  \n",
       "1     0000_agent_params.args_.target_model_update_fr...  \n",
       "2     0000_agent_params.args_.target_model_update_fr...  \n",
       "3     0000_agent_params.args_.target_model_update_fr...  \n",
       "4     0000_agent_params.args_.target_model_update_fr...  \n",
       "...                                                 ...  \n",
       "1375  0003_agent_params.args_.target_model_update_fr...  \n",
       "1376  0003_agent_params.args_.target_model_update_fr...  \n",
       "1377  0003_agent_params.args_.target_model_update_fr...  \n",
       "1378  0003_agent_params.args_.target_model_update_fr...  \n",
       "1379  0003_agent_params.args_.target_model_update_fr...  \n",
       "\n",
       "[720 rows x 36 columns]"
      ]
     },
     "execution_count": 24,
     "metadata": {},
     "output_type": "execute_result"
    }
   ],
   "source": [
    "# df[df['epoch_type'] == 'validation']\n",
    "df[df['epoch_type'] == 'training']\n"
   ]
  },
  {
   "cell_type": "code",
   "execution_count": 25,
   "metadata": {},
   "outputs": [
    {
     "name": "stdout",
     "output_type": "stream",
     "text": [
      "Best hyperparameters:\n",
      "sub_exp_cfg_agent_params.args_.target_model_update_freq    5000\n",
      "sub_exp_cfg_agent_params.args_.training_freq                 10\n",
      "Name: 0, dtype: object\n",
      "Best mean reward: -6.169994073451489\n"
     ]
    }
   ],
   "source": [
    "# Define hyperparameter columns\n",
    "hyperparam_columns = [col for col in df.columns if \"sub_exp_cfg\" in col]\n",
    "\n",
    "# Group by hyperparameter values and compute mean episode_rewards_mean\n",
    "averaged_results = df.groupby(hyperparam_columns, as_index=False).agg({\n",
    "    'episode_rewards_mean': 'mean',  # Averaging the performance metric\n",
    "    'sub_experiment_path': 'first'   # Keep a reference to an experiment path\n",
    "})\n",
    "\n",
    "# Find the best hyperparameter set based on the highest mean reward\n",
    "best_row = averaged_results.loc[averaged_results['episode_rewards_mean'].idxmax()]\n",
    "\n",
    "# Print the best experiment path and hyperparameters\n",
    "print(f\"Best hyperparameters:\\n{best_row[hyperparam_columns]}\")\n",
    "print(f\"Best mean reward: {best_row['episode_rewards_mean']}\")"
   ]
  },
  {
   "cell_type": "code",
   "execution_count": 26,
   "metadata": {},
   "outputs": [
    {
     "data": {
      "text/html": [
       "<div>\n",
       "<style scoped>\n",
       "    .dataframe tbody tr th:only-of-type {\n",
       "        vertical-align: middle;\n",
       "    }\n",
       "\n",
       "    .dataframe tbody tr th {\n",
       "        vertical-align: top;\n",
       "    }\n",
       "\n",
       "    .dataframe thead th {\n",
       "        text-align: right;\n",
       "    }\n",
       "</style>\n",
       "<table border=\"1\" class=\"dataframe\">\n",
       "  <thead>\n",
       "    <tr style=\"text-align: right;\">\n",
       "      <th></th>\n",
       "      <th>sub_exp_cfg_agent_params.args_.target_model_update_freq</th>\n",
       "      <th>sub_exp_cfg_agent_params.args_.training_freq</th>\n",
       "      <th>episode_rewards_mean</th>\n",
       "      <th>sub_experiment_path</th>\n",
       "    </tr>\n",
       "  </thead>\n",
       "  <tbody>\n",
       "    <tr>\n",
       "      <th>0</th>\n",
       "      <td>5000</td>\n",
       "      <td>10</td>\n",
       "      <td>-6.169994</td>\n",
       "      <td>d:\\Work\\repos\\RL\\phd-rl-algos\\dqn\\opinion_dyna...</td>\n",
       "    </tr>\n",
       "    <tr>\n",
       "      <th>1</th>\n",
       "      <td>5000</td>\n",
       "      <td>12</td>\n",
       "      <td>-6.278429</td>\n",
       "      <td>d:\\Work\\repos\\RL\\phd-rl-algos\\dqn\\opinion_dyna...</td>\n",
       "    </tr>\n",
       "    <tr>\n",
       "      <th>2</th>\n",
       "      <td>6500</td>\n",
       "      <td>10</td>\n",
       "      <td>-6.289439</td>\n",
       "      <td>d:\\Work\\repos\\RL\\phd-rl-algos\\dqn\\opinion_dyna...</td>\n",
       "    </tr>\n",
       "    <tr>\n",
       "      <th>3</th>\n",
       "      <td>6500</td>\n",
       "      <td>12</td>\n",
       "      <td>-6.257509</td>\n",
       "      <td>d:\\Work\\repos\\RL\\phd-rl-algos\\dqn\\opinion_dyna...</td>\n",
       "    </tr>\n",
       "  </tbody>\n",
       "</table>\n",
       "</div>"
      ],
      "text/plain": [
       "  sub_exp_cfg_agent_params.args_.target_model_update_freq  \\\n",
       "0                                               5000        \n",
       "1                                               5000        \n",
       "2                                               6500        \n",
       "3                                               6500        \n",
       "\n",
       "  sub_exp_cfg_agent_params.args_.training_freq  episode_rewards_mean  \\\n",
       "0                                           10             -6.169994   \n",
       "1                                           12             -6.278429   \n",
       "2                                           10             -6.289439   \n",
       "3                                           12             -6.257509   \n",
       "\n",
       "                                 sub_experiment_path  \n",
       "0  d:\\Work\\repos\\RL\\phd-rl-algos\\dqn\\opinion_dyna...  \n",
       "1  d:\\Work\\repos\\RL\\phd-rl-algos\\dqn\\opinion_dyna...  \n",
       "2  d:\\Work\\repos\\RL\\phd-rl-algos\\dqn\\opinion_dyna...  \n",
       "3  d:\\Work\\repos\\RL\\phd-rl-algos\\dqn\\opinion_dyna...  "
      ]
     },
     "execution_count": 26,
     "metadata": {},
     "output_type": "execute_result"
    }
   ],
   "source": [
    "averaged_results"
   ]
  },
  {
   "cell_type": "code",
   "execution_count": 27,
   "metadata": {},
   "outputs": [],
   "source": [
    "# selected_metric = 'episode_rewards_mean'\n",
    "# hue_col = \"sub_exp_cfg_agent_params.args_.action_w_noise_amplitude\"\n",
    "\n",
    "# # Filter for validation episodes\n",
    "# validation_df = df[df['epoch_type'] == 'validation']\n",
    "\n",
    "# # Get the unique sorted frame_stamp values\n",
    "# unique_frames = np.sort(validation_df['frame_stamp'].unique())\n",
    "# N = 1\n",
    "# # Get all frame_stamp values after the first N unique ones\n",
    "# filtered_frames = unique_frames[N:]\n",
    "\n",
    "# # Filter the DataFrame to only include rows with these frame_stamp values\n",
    "# filtered_df = validation_df[validation_df['frame_stamp'].isin(filtered_frames)]\n",
    "\n",
    "# plt.figure(figsize=(10, 6))\n",
    "# sns.lineplot(data=filtered_df, x='frame_stamp', y=selected_metric, hue=hue_col)\n",
    "# plt.ylabel(selected_metric)\n",
    "# plt.xlabel('Frame Stamp')\n",
    "# plt.show()"
   ]
  },
  {
   "cell_type": "code",
   "execution_count": 28,
   "metadata": {},
   "outputs": [
    {
     "data": {
      "image/png": "[encoded data removed]",
      "text/plain": [
       "<Figure size 1000x600 with 1 Axes>"
      ]
     },
     "metadata": {},
     "output_type": "display_data"
    }
   ],
   "source": [
    "\n",
    "selected_metric = 'episode_discounted_rewards_mean'\n",
    "# hue_col = \"sub_exp_cfg_agent_params.args_.action_w_noise_amplitude\"\n",
    "hue_col = \"experiment_name\"\n",
    "\n",
    "# validation_df = df[df['epoch_type'] == 'validation']\n",
    "validation_df = df[df['epoch_type'] == 'training']\n",
    "\n",
    "\n",
    "# Create a new figure for each environment\n",
    "plt.figure(figsize=(10, 6))\n",
    "# sns.lineplot(data=df, x='frame_stamp', y=selected_metric, hue='model')\n",
    "sns.lineplot(data=validation_df, \n",
    "             x='frame_stamp', \n",
    "             y=selected_metric, \n",
    "             hue=hue_col,\n",
    "            #  units='seed', # Comment this to see mean + cf\n",
    "            #  estimator=None, # Comment this to see mean + cf\n",
    "             )\n",
    "\n",
    "plt.ylabel(selected_metric)\n",
    "plt.xlabel('Frame Stamp')\n",
    "\n",
    "# Place the legend outside the plot\n",
    "plt.legend(loc='center left', bbox_to_anchor=(1.0, 0.5), title='Parameters')\n",
    "plt.show()"
   ]
  },
  {
   "cell_type": "code",
   "execution_count": 29,
   "metadata": {},
   "outputs": [
    {
     "data": {
      "text/plain": [
       "Index(['epoch_type', 'frame_stamp', 'greedy_epsilon', 'episode_rewards_min',\n",
       "       'episode_rewards_max', 'episode_rewards_mean', 'episode_rewards_median',\n",
       "       'episode_rewards_std', 'episode_discounted_rewards_min',\n",
       "       'episode_discounted_rewards_max', 'episode_discounted_rewards_mean',\n",
       "       'episode_discounted_rewards_median', 'episode_discounted_rewards_std',\n",
       "       'episode_frames_min', 'episode_frames_max', 'episode_frames_mean',\n",
       "       'episode_frames_median', 'episode_frames_std', 'episode_losses_min',\n",
       "       'episode_losses_max', 'episode_losses_mean', 'episode_losses_median',\n",
       "       'episode_losses_std', 'episode_max_qs_min', 'episode_max_qs_max',\n",
       "       'episode_max_qs_mean', 'episode_max_qs_median', 'episode_max_qs_std',\n",
       "       'policy_trained_times', 'target_trained_times', 'epoch_time',\n",
       "       'sub_exp_cfg_agent_params.args_.target_model_update_freq',\n",
       "       'sub_exp_cfg_agent_params.args_.training_freq', 'sub_experiment_path',\n",
       "       'seed', 'experiment_name'],\n",
       "      dtype='object')"
      ]
     },
     "execution_count": 29,
     "metadata": {},
     "output_type": "execute_result"
    }
   ],
   "source": [
    "df.columns"
   ]
  },
  {
   "cell_type": "code",
   "execution_count": 30,
   "metadata": {},
   "outputs": [
    {
     "data": {
      "image/png": "[encoded data removed]",
      "text/plain": [
       "<Figure size 1000x600 with 1 Axes>"
      ]
     },
     "metadata": {},
     "output_type": "display_data"
    }
   ],
   "source": [
    "import matplotlib.pyplot as plt\n",
    "import seaborn as sns\n",
    "\n",
    "selected_metric = 'episode_frames_mean'\n",
    "hue_col = \"experiment_name\"  # or another distinguishing column like \"sub_experiment_path\"\n",
    "\n",
    "validation_df = df[df['epoch_type'] == 'validation']\n",
    "\n",
    "# Plot individual lines for each run\n",
    "plt.figure(figsize=(10, 6))\n",
    "sns.lineplot(\n",
    "    data=validation_df,\n",
    "    x='frame_stamp',\n",
    "    y=selected_metric,\n",
    "    hue=hue_col,\n",
    "    estimator=None,  # ← disables aggregation\n",
    "    units='sub_experiment_path',  # ← groups lines by unique run\n",
    "    lw=1,  # line width\n",
    "    alpha=0.7  # transparency\n",
    ")\n",
    "\n",
    "plt.ylabel(selected_metric)\n",
    "plt.xlabel('Frame Stamp')\n",
    "plt.title('Validation Reward Trajectories (Per Run)')\n",
    "\n",
    "# Move legend outside the plot\n",
    "plt.legend(loc='center left', bbox_to_anchor=(1.0, 0.5), title='Experiment')\n",
    "plt.tight_layout()\n",
    "plt.show()\n"
   ]
  },
  {
   "cell_type": "code",
   "execution_count": 31,
   "metadata": {},
   "outputs": [
    {
     "data": {
      "text/html": [
       "<div>\n",
       "<style scoped>\n",
       "    .dataframe tbody tr th:only-of-type {\n",
       "        vertical-align: middle;\n",
       "    }\n",
       "\n",
       "    .dataframe tbody tr th {\n",
       "        vertical-align: top;\n",
       "    }\n",
       "\n",
       "    .dataframe thead th {\n",
       "        text-align: right;\n",
       "    }\n",
       "</style>\n",
       "<table border=\"1\" class=\"dataframe\">\n",
       "  <thead>\n",
       "    <tr style=\"text-align: right;\">\n",
       "      <th></th>\n",
       "      <th>epoch_type</th>\n",
       "      <th>frame_stamp</th>\n",
       "      <th>episode_rewards_mean</th>\n",
       "      <th>episode_frames_mean</th>\n",
       "      <th>episode_discounted_rewards_mean</th>\n",
       "      <th>policy_trained_times</th>\n",
       "      <th>target_trained_times</th>\n",
       "      <th>epoch_time</th>\n",
       "      <th>seed</th>\n",
       "      <th>experiment_name</th>\n",
       "      <th>sub_experiment_path</th>\n",
       "      <th>sub_exp_cfg_agent_params.args_.target_model_update_freq</th>\n",
       "      <th>sub_exp_cfg_agent_params.args_.training_freq</th>\n",
       "    </tr>\n",
       "  </thead>\n",
       "  <tbody>\n",
       "    <tr>\n",
       "      <th>119</th>\n",
       "      <td>validation</td>\n",
       "      <td>12000000</td>\n",
       "      <td>-7.871424</td>\n",
       "      <td>26.0</td>\n",
       "      <td>-7.376258</td>\n",
       "      <td>NaN</td>\n",
       "      <td>NaN</td>\n",
       "      <td>0 days 00:00:00.526142</td>\n",
       "      <td>0</td>\n",
       "      <td>0000_agent_params.args_.target_model_update_fr...</td>\n",
       "      <td>d:\\Work\\repos\\RL\\phd-rl-algos\\dqn\\opinion_dyna...</td>\n",
       "      <td>5000</td>\n",
       "      <td>10</td>\n",
       "    </tr>\n",
       "    <tr>\n",
       "      <th>239</th>\n",
       "      <td>validation</td>\n",
       "      <td>12000000</td>\n",
       "      <td>-8.012848</td>\n",
       "      <td>27.0</td>\n",
       "      <td>-7.493020</td>\n",
       "      <td>NaN</td>\n",
       "      <td>NaN</td>\n",
       "      <td>0 days 00:00:00.489469</td>\n",
       "      <td>1</td>\n",
       "      <td>0000_agent_params.args_.target_model_update_fr...</td>\n",
       "      <td>d:\\Work\\repos\\RL\\phd-rl-algos\\dqn\\opinion_dyna...</td>\n",
       "      <td>5000</td>\n",
       "      <td>10</td>\n",
       "    </tr>\n",
       "    <tr>\n",
       "      <th>359</th>\n",
       "      <td>validation</td>\n",
       "      <td>12000000</td>\n",
       "      <td>-7.910150</td>\n",
       "      <td>26.0</td>\n",
       "      <td>-7.408742</td>\n",
       "      <td>NaN</td>\n",
       "      <td>NaN</td>\n",
       "      <td>0 days 00:00:00.379686</td>\n",
       "      <td>2</td>\n",
       "      <td>0000_agent_params.args_.target_model_update_fr...</td>\n",
       "      <td>d:\\Work\\repos\\RL\\phd-rl-algos\\dqn\\opinion_dyna...</td>\n",
       "      <td>5000</td>\n",
       "      <td>10</td>\n",
       "    </tr>\n",
       "    <tr>\n",
       "      <th>479</th>\n",
       "      <td>validation</td>\n",
       "      <td>12000000</td>\n",
       "      <td>-8.224323</td>\n",
       "      <td>29.0</td>\n",
       "      <td>-7.662357</td>\n",
       "      <td>NaN</td>\n",
       "      <td>NaN</td>\n",
       "      <td>0 days 00:00:00.663886</td>\n",
       "      <td>0</td>\n",
       "      <td>0001_agent_params.args_.target_model_update_fr...</td>\n",
       "      <td>d:\\Work\\repos\\RL\\phd-rl-algos\\dqn\\opinion_dyna...</td>\n",
       "      <td>5000</td>\n",
       "      <td>12</td>\n",
       "    </tr>\n",
       "    <tr>\n",
       "      <th>599</th>\n",
       "      <td>validation</td>\n",
       "      <td>12000000</td>\n",
       "      <td>-8.346666</td>\n",
       "      <td>29.0</td>\n",
       "      <td>-7.768675</td>\n",
       "      <td>NaN</td>\n",
       "      <td>NaN</td>\n",
       "      <td>0 days 00:00:00.650359</td>\n",
       "      <td>1</td>\n",
       "      <td>0001_agent_params.args_.target_model_update_fr...</td>\n",
       "      <td>d:\\Work\\repos\\RL\\phd-rl-algos\\dqn\\opinion_dyna...</td>\n",
       "      <td>5000</td>\n",
       "      <td>12</td>\n",
       "    </tr>\n",
       "    <tr>\n",
       "      <th>719</th>\n",
       "      <td>validation</td>\n",
       "      <td>12000000</td>\n",
       "      <td>-7.943291</td>\n",
       "      <td>27.0</td>\n",
       "      <td>-7.431662</td>\n",
       "      <td>NaN</td>\n",
       "      <td>NaN</td>\n",
       "      <td>0 days 00:00:00.550027</td>\n",
       "      <td>2</td>\n",
       "      <td>0001_agent_params.args_.target_model_update_fr...</td>\n",
       "      <td>d:\\Work\\repos\\RL\\phd-rl-algos\\dqn\\opinion_dyna...</td>\n",
       "      <td>5000</td>\n",
       "      <td>12</td>\n",
       "    </tr>\n",
       "    <tr>\n",
       "      <th>839</th>\n",
       "      <td>validation</td>\n",
       "      <td>12000000</td>\n",
       "      <td>-8.209332</td>\n",
       "      <td>29.0</td>\n",
       "      <td>-7.651763</td>\n",
       "      <td>NaN</td>\n",
       "      <td>NaN</td>\n",
       "      <td>0 days 00:00:00.445909</td>\n",
       "      <td>0</td>\n",
       "      <td>0002_agent_params.args_.target_model_update_fr...</td>\n",
       "      <td>d:\\Work\\repos\\RL\\phd-rl-algos\\dqn\\opinion_dyna...</td>\n",
       "      <td>6500</td>\n",
       "      <td>10</td>\n",
       "    </tr>\n",
       "    <tr>\n",
       "      <th>959</th>\n",
       "      <td>validation</td>\n",
       "      <td>12000000</td>\n",
       "      <td>-8.395696</td>\n",
       "      <td>30.0</td>\n",
       "      <td>-7.802051</td>\n",
       "      <td>NaN</td>\n",
       "      <td>NaN</td>\n",
       "      <td>0 days 00:00:00.409816</td>\n",
       "      <td>1</td>\n",
       "      <td>0002_agent_params.args_.target_model_update_fr...</td>\n",
       "      <td>d:\\Work\\repos\\RL\\phd-rl-algos\\dqn\\opinion_dyna...</td>\n",
       "      <td>6500</td>\n",
       "      <td>10</td>\n",
       "    </tr>\n",
       "    <tr>\n",
       "      <th>1079</th>\n",
       "      <td>validation</td>\n",
       "      <td>12000000</td>\n",
       "      <td>-8.009673</td>\n",
       "      <td>27.0</td>\n",
       "      <td>-7.489797</td>\n",
       "      <td>NaN</td>\n",
       "      <td>NaN</td>\n",
       "      <td>0 days 00:00:00.386624</td>\n",
       "      <td>2</td>\n",
       "      <td>0002_agent_params.args_.target_model_update_fr...</td>\n",
       "      <td>d:\\Work\\repos\\RL\\phd-rl-algos\\dqn\\opinion_dyna...</td>\n",
       "      <td>6500</td>\n",
       "      <td>10</td>\n",
       "    </tr>\n",
       "    <tr>\n",
       "      <th>1199</th>\n",
       "      <td>validation</td>\n",
       "      <td>12000000</td>\n",
       "      <td>-7.902051</td>\n",
       "      <td>26.0</td>\n",
       "      <td>-7.403219</td>\n",
       "      <td>NaN</td>\n",
       "      <td>NaN</td>\n",
       "      <td>0 days 00:00:00.547488</td>\n",
       "      <td>0</td>\n",
       "      <td>0003_agent_params.args_.target_model_update_fr...</td>\n",
       "      <td>d:\\Work\\repos\\RL\\phd-rl-algos\\dqn\\opinion_dyna...</td>\n",
       "      <td>6500</td>\n",
       "      <td>12</td>\n",
       "    </tr>\n",
       "    <tr>\n",
       "      <th>1319</th>\n",
       "      <td>validation</td>\n",
       "      <td>12000000</td>\n",
       "      <td>-8.357643</td>\n",
       "      <td>29.0</td>\n",
       "      <td>-7.779048</td>\n",
       "      <td>NaN</td>\n",
       "      <td>NaN</td>\n",
       "      <td>0 days 00:00:00.730560</td>\n",
       "      <td>1</td>\n",
       "      <td>0003_agent_params.args_.target_model_update_fr...</td>\n",
       "      <td>d:\\Work\\repos\\RL\\phd-rl-algos\\dqn\\opinion_dyna...</td>\n",
       "      <td>6500</td>\n",
       "      <td>12</td>\n",
       "    </tr>\n",
       "    <tr>\n",
       "      <th>1439</th>\n",
       "      <td>validation</td>\n",
       "      <td>12000000</td>\n",
       "      <td>-8.046742</td>\n",
       "      <td>27.0</td>\n",
       "      <td>-7.524205</td>\n",
       "      <td>NaN</td>\n",
       "      <td>NaN</td>\n",
       "      <td>0 days 00:00:00.648404</td>\n",
       "      <td>2</td>\n",
       "      <td>0003_agent_params.args_.target_model_update_fr...</td>\n",
       "      <td>d:\\Work\\repos\\RL\\phd-rl-algos\\dqn\\opinion_dyna...</td>\n",
       "      <td>6500</td>\n",
       "      <td>12</td>\n",
       "    </tr>\n",
       "  </tbody>\n",
       "</table>\n",
       "</div>"
      ],
      "text/plain": [
       "      epoch_type  frame_stamp  episode_rewards_mean  episode_frames_mean  \\\n",
       "119   validation     12000000             -7.871424                 26.0   \n",
       "239   validation     12000000             -8.012848                 27.0   \n",
       "359   validation     12000000             -7.910150                 26.0   \n",
       "479   validation     12000000             -8.224323                 29.0   \n",
       "599   validation     12000000             -8.346666                 29.0   \n",
       "719   validation     12000000             -7.943291                 27.0   \n",
       "839   validation     12000000             -8.209332                 29.0   \n",
       "959   validation     12000000             -8.395696                 30.0   \n",
       "1079  validation     12000000             -8.009673                 27.0   \n",
       "1199  validation     12000000             -7.902051                 26.0   \n",
       "1319  validation     12000000             -8.357643                 29.0   \n",
       "1439  validation     12000000             -8.046742                 27.0   \n",
       "\n",
       "      episode_discounted_rewards_mean  policy_trained_times  \\\n",
       "119                         -7.376258                   NaN   \n",
       "239                         -7.493020                   NaN   \n",
       "359                         -7.408742                   NaN   \n",
       "479                         -7.662357                   NaN   \n",
       "599                         -7.768675                   NaN   \n",
       "719                         -7.431662                   NaN   \n",
       "839                         -7.651763                   NaN   \n",
       "959                         -7.802051                   NaN   \n",
       "1079                        -7.489797                   NaN   \n",
       "1199                        -7.403219                   NaN   \n",
       "1319                        -7.779048                   NaN   \n",
       "1439                        -7.524205                   NaN   \n",
       "\n",
       "      target_trained_times             epoch_time seed  \\\n",
       "119                    NaN 0 days 00:00:00.526142    0   \n",
       "239                    NaN 0 days 00:00:00.489469    1   \n",
       "359                    NaN 0 days 00:00:00.379686    2   \n",
       "479                    NaN 0 days 00:00:00.663886    0   \n",
       "599                    NaN 0 days 00:00:00.650359    1   \n",
       "719                    NaN 0 days 00:00:00.550027    2   \n",
       "839                    NaN 0 days 00:00:00.445909    0   \n",
       "959                    NaN 0 days 00:00:00.409816    1   \n",
       "1079                   NaN 0 days 00:00:00.386624    2   \n",
       "1199                   NaN 0 days 00:00:00.547488    0   \n",
       "1319                   NaN 0 days 00:00:00.730560    1   \n",
       "1439                   NaN 0 days 00:00:00.648404    2   \n",
       "\n",
       "                                        experiment_name  \\\n",
       "119   0000_agent_params.args_.target_model_update_fr...   \n",
       "239   0000_agent_params.args_.target_model_update_fr...   \n",
       "359   0000_agent_params.args_.target_model_update_fr...   \n",
       "479   0001_agent_params.args_.target_model_update_fr...   \n",
       "599   0001_agent_params.args_.target_model_update_fr...   \n",
       "719   0001_agent_params.args_.target_model_update_fr...   \n",
       "839   0002_agent_params.args_.target_model_update_fr...   \n",
       "959   0002_agent_params.args_.target_model_update_fr...   \n",
       "1079  0002_agent_params.args_.target_model_update_fr...   \n",
       "1199  0003_agent_params.args_.target_model_update_fr...   \n",
       "1319  0003_agent_params.args_.target_model_update_fr...   \n",
       "1439  0003_agent_params.args_.target_model_update_fr...   \n",
       "\n",
       "                                    sub_experiment_path  \\\n",
       "119   d:\\Work\\repos\\RL\\phd-rl-algos\\dqn\\opinion_dyna...   \n",
       "239   d:\\Work\\repos\\RL\\phd-rl-algos\\dqn\\opinion_dyna...   \n",
       "359   d:\\Work\\repos\\RL\\phd-rl-algos\\dqn\\opinion_dyna...   \n",
       "479   d:\\Work\\repos\\RL\\phd-rl-algos\\dqn\\opinion_dyna...   \n",
       "599   d:\\Work\\repos\\RL\\phd-rl-algos\\dqn\\opinion_dyna...   \n",
       "719   d:\\Work\\repos\\RL\\phd-rl-algos\\dqn\\opinion_dyna...   \n",
       "839   d:\\Work\\repos\\RL\\phd-rl-algos\\dqn\\opinion_dyna...   \n",
       "959   d:\\Work\\repos\\RL\\phd-rl-algos\\dqn\\opinion_dyna...   \n",
       "1079  d:\\Work\\repos\\RL\\phd-rl-algos\\dqn\\opinion_dyna...   \n",
       "1199  d:\\Work\\repos\\RL\\phd-rl-algos\\dqn\\opinion_dyna...   \n",
       "1319  d:\\Work\\repos\\RL\\phd-rl-algos\\dqn\\opinion_dyna...   \n",
       "1439  d:\\Work\\repos\\RL\\phd-rl-algos\\dqn\\opinion_dyna...   \n",
       "\n",
       "     sub_exp_cfg_agent_params.args_.target_model_update_freq  \\\n",
       "119                                                5000        \n",
       "239                                                5000        \n",
       "359                                                5000        \n",
       "479                                                5000        \n",
       "599                                                5000        \n",
       "719                                                5000        \n",
       "839                                                6500        \n",
       "959                                                6500        \n",
       "1079                                               6500        \n",
       "1199                                               6500        \n",
       "1319                                               6500        \n",
       "1439                                               6500        \n",
       "\n",
       "     sub_exp_cfg_agent_params.args_.training_freq  \n",
       "119                                            10  \n",
       "239                                            10  \n",
       "359                                            10  \n",
       "479                                            12  \n",
       "599                                            12  \n",
       "719                                            12  \n",
       "839                                            10  \n",
       "959                                            10  \n",
       "1079                                           10  \n",
       "1199                                           12  \n",
       "1319                                           12  \n",
       "1439                                           12  "
      ]
     },
     "execution_count": 31,
     "metadata": {},
     "output_type": "execute_result"
    }
   ],
   "source": [
    "### Select data\n",
    "\n",
    "experiment_columns = [\n",
    "    'epoch_type', 'frame_stamp',\n",
    "    'episode_rewards_mean', 'episode_frames_mean', \n",
    "    'episode_discounted_rewards_mean',\n",
    "    'policy_trained_times', 'target_trained_times', 'epoch_time', \n",
    "       'seed', 'experiment_name', \"sub_experiment_path\"\n",
    "]\n",
    "hyperparam_columns = [\n",
    "   col for col in df.columns if \"sub_exp_cfg\" in col\n",
    "]\n",
    "\n",
    "cols_of_interest = experiment_columns + hyperparam_columns\n",
    "\n",
    "sub_df = df[cols_of_interest]\n",
    "sub_df = sub_df[sub_df['epoch_type'] == 'validation']\n",
    "sub_df = sub_df[sub_df['frame_stamp'] == sub_df['frame_stamp'].max()]\n",
    "\n",
    "sub_df \n"
   ]
  },
  {
   "cell_type": "code",
   "execution_count": 32,
   "metadata": {},
   "outputs": [
    {
     "data": {
      "text/html": [
       "<div>\n",
       "<style scoped>\n",
       "    .dataframe tbody tr th:only-of-type {\n",
       "        vertical-align: middle;\n",
       "    }\n",
       "\n",
       "    .dataframe tbody tr th {\n",
       "        vertical-align: top;\n",
       "    }\n",
       "\n",
       "    .dataframe thead th {\n",
       "        text-align: right;\n",
       "    }\n",
       "</style>\n",
       "<table border=\"1\" class=\"dataframe\">\n",
       "  <thead>\n",
       "    <tr style=\"text-align: right;\">\n",
       "      <th></th>\n",
       "      <th>sub_exp_cfg_agent_params.args_.target_model_update_freq</th>\n",
       "      <th>sub_exp_cfg_agent_params.args_.training_freq</th>\n",
       "      <th>episode_discounted_rewards_mean</th>\n",
       "    </tr>\n",
       "  </thead>\n",
       "  <tbody>\n",
       "    <tr>\n",
       "      <th>0</th>\n",
       "      <td>5000</td>\n",
       "      <td>10</td>\n",
       "      <td>-7.426007</td>\n",
       "    </tr>\n",
       "    <tr>\n",
       "      <th>1</th>\n",
       "      <td>5000</td>\n",
       "      <td>12</td>\n",
       "      <td>-7.620898</td>\n",
       "    </tr>\n",
       "    <tr>\n",
       "      <th>2</th>\n",
       "      <td>6500</td>\n",
       "      <td>10</td>\n",
       "      <td>-7.647870</td>\n",
       "    </tr>\n",
       "    <tr>\n",
       "      <th>3</th>\n",
       "      <td>6500</td>\n",
       "      <td>12</td>\n",
       "      <td>-7.568824</td>\n",
       "    </tr>\n",
       "  </tbody>\n",
       "</table>\n",
       "</div>"
      ],
      "text/plain": [
       "  sub_exp_cfg_agent_params.args_.target_model_update_freq  \\\n",
       "0                                               5000        \n",
       "1                                               5000        \n",
       "2                                               6500        \n",
       "3                                               6500        \n",
       "\n",
       "  sub_exp_cfg_agent_params.args_.training_freq  \\\n",
       "0                                           10   \n",
       "1                                           12   \n",
       "2                                           10   \n",
       "3                                           12   \n",
       "\n",
       "   episode_discounted_rewards_mean  \n",
       "0                        -7.426007  \n",
       "1                        -7.620898  \n",
       "2                        -7.647870  \n",
       "3                        -7.568824  "
      ]
     },
     "execution_count": 32,
     "metadata": {},
     "output_type": "execute_result"
    }
   ],
   "source": [
    "agg_cols = [col for col in sub_df.columns if \"sub_exp_cfg\" in col]\n",
    "aggregated_df = (\n",
    "    sub_df.groupby(agg_cols)\n",
    "    .agg(episode_discounted_rewards_mean=(\"episode_discounted_rewards_mean\", \"mean\"))\n",
    "    .reset_index()\n",
    ")\n",
    "aggregated_df"
   ]
  },
  {
   "cell_type": "code",
   "execution_count": 33,
   "metadata": {},
   "outputs": [
    {
     "data": {
      "text/plain": [
       "Index(['epoch_type', 'frame_stamp', 'episode_rewards_mean',\n",
       "       'episode_frames_mean', 'episode_discounted_rewards_mean',\n",
       "       'policy_trained_times', 'target_trained_times', 'epoch_time', 'seed',\n",
       "       'experiment_name', 'sub_experiment_path',\n",
       "       'sub_exp_cfg_agent_params.args_.target_model_update_freq',\n",
       "       'sub_exp_cfg_agent_params.args_.training_freq'],\n",
       "      dtype='object')"
      ]
     },
     "execution_count": 33,
     "metadata": {},
     "output_type": "execute_result"
    }
   ],
   "source": [
    "sub_df.columns"
   ]
  },
  {
   "cell_type": "code",
   "execution_count": 34,
   "metadata": {},
   "outputs": [
    {
     "name": "stdout",
     "output_type": "stream",
     "text": [
      "d:\\Work\\repos\\RL\\phd-rl-algos\\dqn\\opinion_dynamics\\experiments\\results\\2025Jul03-020044_configs\\0000_agent_params.args_.target_model_update_freq_5000__agent_params.args_.training_freq_10\\0\n"
     ]
    }
   ],
   "source": [
    "print(sub_df[sub_df['episode_rewards_mean'] == sub_df['episode_rewards_mean'].max()]['sub_experiment_path'].values[0])\n",
    "\n"
   ]
  },
  {
   "cell_type": "code",
   "execution_count": 35,
   "metadata": {},
   "outputs": [
    {
     "data": {
      "image/png": "[encoded data removed]",
      "text/plain": [
       "<Figure size 1000x600 with 1 Axes>"
      ]
     },
     "metadata": {},
     "output_type": "display_data"
    }
   ],
   "source": [
    "selected_metric = 'episode_discounted_rewards_mean'\n",
    "hue_col = \"experiment_name\"\n",
    "\n",
    "# Filter for training data only\n",
    "training_df = df[df['epoch_type'] == 'training']\n",
    "# training_df = df[df['epoch_type'] == 'validation']\n",
    "\n",
    "# Step 1: Find best experiment\n",
    "experiment_means = training_df.groupby(hue_col)[selected_metric].mean()\n",
    "best_experiment = experiment_means.idxmax()\n",
    "\n",
    "# Step 2: Filter to that experiment\n",
    "best_exp_df = training_df[training_df[hue_col] == best_experiment]\n",
    "\n",
    "# Step 3: Find best seed within best experiment\n",
    "best_seed = (\n",
    "    best_exp_df.groupby('seed')[selected_metric]\n",
    "    .mean()\n",
    "    .idxmax()\n",
    ")\n",
    "\n",
    "# Step 4: Filter to best seed\n",
    "best_seed_df = best_exp_df[best_exp_df['seed'] == best_seed]\n",
    "\n",
    "# Step 5: Plot\n",
    "plt.figure(figsize=(10, 6))\n",
    "sns.lineplot(\n",
    "    data=best_seed_df,\n",
    "    x='frame_stamp',\n",
    "    y=selected_metric,\n",
    "    lw=2,\n",
    "    label=f\"Seed {best_seed}\"\n",
    ")\n",
    "\n",
    "plt.title(f\"Best seed ({best_seed}) from best experiment: {best_experiment}\")\n",
    "plt.ylabel(selected_metric)\n",
    "plt.xlabel('Frame Stamp')\n",
    "plt.legend()\n",
    "plt.tight_layout()\n",
    "plt.show()"
   ]
  },
  {
   "cell_type": "code",
   "execution_count": 36,
   "metadata": {},
   "outputs": [
    {
     "data": {
      "image/png": "[encoded data removed]",
      "text/plain": [
       "<Figure size 800x230 with 2 Axes>"
      ]
     },
     "metadata": {},
     "output_type": "display_data"
    }
   ],
   "source": [
    "import shap\n",
    "import xgboost\n",
    "import pandas as pd\n",
    "\n",
    "\n",
    "# Define the target metric and hyperparameter columns\n",
    "target_metric = \"episode_rewards_mean\"  # Replace with actual metric column name\n",
    "# Replace with actual hyperparameter column names\n",
    "\n",
    "# Prepare data\n",
    "X = sub_df[hyperparam_columns].apply(pd.to_numeric, errors='coerce')\n",
    "y = sub_df[target_metric].fillna(3 * sub_df[target_metric].min())\n",
    "\n",
    "# Train an XGBoost model to analyze feature importance\n",
    "model = xgboost.XGBRegressor(objective=\"reg:squarederror\", n_estimators=100, random_state=42)\n",
    "model.fit(X, y)\n",
    "\n",
    "# SHAP analysis\n",
    "explainer = shap.Explainer(model)\n",
    "shap_values = explainer(X)\n",
    "\n",
    "# Summary plot (feature importance)\n",
    "shap.summary_plot(shap_values, X)"
   ]
  },
  {
   "cell_type": "code",
   "execution_count": 37,
   "metadata": {},
   "outputs": [
    {
     "data": {
      "text/plain": [
       "['sub_exp_cfg_agent_params.args_.target_model_update_freq',\n",
       " 'sub_exp_cfg_agent_params.args_.training_freq']"
      ]
     },
     "execution_count": 37,
     "metadata": {},
     "output_type": "execute_result"
    }
   ],
   "source": [
    "hyperparam_columns"
   ]
  },
  {
   "cell_type": "code",
   "execution_count": 38,
   "metadata": {},
   "outputs": [
    {
     "data": {
      "application/vnd.plotly.v1+json": {
       "config": {
        "plotlyServerURL": "https://plot.ly"
       },
       "data": [
        {
         "hovertemplate": "experiment_name=0000_agent_params.args_.target_model_update_freq_5000__agent_params.args_.training_freq_10<br>size=10<br>noise=%{x}<br>episode_rewards_mean=%{y}<extra></extra>",
         "legendgroup": "0000_agent_params.args_.target_model_update_freq_5000__agent_params.args_.training_freq_10",
         "marker": {
          "color": "#636efa",
          "symbol": "circle"
         },
         "mode": "markers",
         "name": "0000_agent_params.args_.target_model_update_freq_5000__agent_params.args_.training_freq_10",
         "orientation": "v",
         "showlegend": true,
         "type": "scatter",
         "x": [
          "5000",
          "5000",
          "5000"
         ],
         "xaxis": "x",
         "y": [
          -7.871424166457486,
          -8.01284783521623,
          -7.9101504682793164
         ],
         "yaxis": "y"
        },
        {
         "hovertemplate": "experiment_name=0001_agent_params.args_.target_model_update_freq_5000__agent_params.args_.training_freq_12<br>size=12<br>noise=%{x}<br>episode_rewards_mean=%{y}<extra></extra>",
         "legendgroup": "0001_agent_params.args_.target_model_update_freq_5000__agent_params.args_.training_freq_12",
         "marker": {
          "color": "#EF553B",
          "symbol": "circle"
         },
         "mode": "markers",
         "name": "0001_agent_params.args_.target_model_update_freq_5000__agent_params.args_.training_freq_12",
         "orientation": "v",
         "showlegend": true,
         "type": "scatter",
         "x": [
          "5000",
          "5000",
          "5000"
         ],
         "xaxis": "x2",
         "y": [
          -8.224323012931311,
          -8.346666309942995,
          -7.943290739836007
         ],
         "yaxis": "y2"
        },
        {
         "hovertemplate": "experiment_name=0002_agent_params.args_.target_model_update_freq_6500__agent_params.args_.training_freq_10<br>size=10<br>noise=%{x}<br>episode_rewards_mean=%{y}<extra></extra>",
         "legendgroup": "0002_agent_params.args_.target_model_update_freq_6500__agent_params.args_.training_freq_10",
         "marker": {
          "color": "#00cc96",
          "symbol": "circle"
         },
         "mode": "markers",
         "name": "0002_agent_params.args_.target_model_update_freq_6500__agent_params.args_.training_freq_10",
         "orientation": "v",
         "showlegend": true,
         "type": "scatter",
         "x": [
          "6500",
          "6500",
          "6500"
         ],
         "xaxis": "x",
         "y": [
          -8.209332364316944,
          -8.395696160186201,
          -8.00967328597666
         ],
         "yaxis": "y"
        },
        {
         "hovertemplate": "experiment_name=0003_agent_params.args_.target_model_update_freq_6500__agent_params.args_.training_freq_12<br>size=12<br>noise=%{x}<br>episode_rewards_mean=%{y}<extra></extra>",
         "legendgroup": "0003_agent_params.args_.target_model_update_freq_6500__agent_params.args_.training_freq_12",
         "marker": {
          "color": "#ab63fa",
          "symbol": "circle"
         },
         "mode": "markers",
         "name": "0003_agent_params.args_.target_model_update_freq_6500__agent_params.args_.training_freq_12",
         "orientation": "v",
         "showlegend": true,
         "type": "scatter",
         "x": [
          "6500",
          "6500",
          "6500"
         ],
         "xaxis": "x2",
         "y": [
          -7.90205139367694,
          -8.35764295162259,
          -8.046741761344503
         ],
         "yaxis": "y2"
        }
       ],
       "layout": {
        "annotations": [
         {
          "font": {},
          "showarrow": false,
          "text": "size=10",
          "x": 0.245,
          "xanchor": "center",
          "xref": "paper",
          "y": 1,
          "yanchor": "bottom",
          "yref": "paper"
         },
         {
          "font": {},
          "showarrow": false,
          "text": "size=12",
          "x": 0.755,
          "xanchor": "center",
          "xref": "paper",
          "y": 1,
          "yanchor": "bottom",
          "yref": "paper"
         }
        ],
        "height": 600,
        "legend": {
         "title": {
          "text": "experiment_name"
         },
         "tracegroupgap": 0
        },
        "showlegend": false,
        "template": {
         "data": {
          "bar": [
           {
            "error_x": {
             "color": "#2a3f5f"
            },
            "error_y": {
             "color": "#2a3f5f"
            },
            "marker": {
             "line": {
              "color": "#E5ECF6",
              "width": 0.5
             },
             "pattern": {
              "fillmode": "overlay",
              "size": 10,
              "solidity": 0.2
             }
            },
            "type": "bar"
           }
          ],
          "barpolar": [
           {
            "marker": {
             "line": {
              "color": "#E5ECF6",
              "width": 0.5
             },
             "pattern": {
              "fillmode": "overlay",
              "size": 10,
              "solidity": 0.2
             }
            },
            "type": "barpolar"
           }
          ],
          "carpet": [
           {
            "aaxis": {
             "endlinecolor": "#2a3f5f",
             "gridcolor": "white",
             "linecolor": "white",
             "minorgridcolor": "white",
             "startlinecolor": "#2a3f5f"
            },
            "baxis": {
             "endlinecolor": "#2a3f5f",
             "gridcolor": "white",
             "linecolor": "white",
             "minorgridcolor": "white",
             "startlinecolor": "#2a3f5f"
            },
            "type": "carpet"
           }
          ],
          "choropleth": [
           {
            "colorbar": {
             "outlinewidth": 0,
             "ticks": ""
            },
            "type": "choropleth"
           }
          ],
          "contour": [
           {
            "colorbar": {
             "outlinewidth": 0,
             "ticks": ""
            },
            "colorscale": [
             [
              0,
              "#0d0887"
             ],
             [
              0.1111111111111111,
              "#46039f"
             ],
             [
              0.2222222222222222,
              "#7201a8"
             ],
             [
              0.3333333333333333,
              "#9c179e"
             ],
             [
              0.4444444444444444,
              "#bd3786"
             ],
             [
              0.5555555555555556,
              "#d8576b"
             ],
             [
              0.6666666666666666,
              "#ed7953"
             ],
             [
              0.7777777777777778,
              "#fb9f3a"
             ],
             [
              0.8888888888888888,
              "#fdca26"
             ],
             [
              1,
              "#f0f921"
             ]
            ],
            "type": "contour"
           }
          ],
          "contourcarpet": [
           {
            "colorbar": {
             "outlinewidth": 0,
             "ticks": ""
            },
            "type": "contourcarpet"
           }
          ],
          "heatmap": [
           {
            "colorbar": {
             "outlinewidth": 0,
             "ticks": ""
            },
            "colorscale": [
             [
              0,
              "#0d0887"
             ],
             [
              0.1111111111111111,
              "#46039f"
             ],
             [
              0.2222222222222222,
              "#7201a8"
             ],
             [
              0.3333333333333333,
              "#9c179e"
             ],
             [
              0.4444444444444444,
              "#bd3786"
             ],
             [
              0.5555555555555556,
              "#d8576b"
             ],
             [
              0.6666666666666666,
              "#ed7953"
             ],
             [
              0.7777777777777778,
              "#fb9f3a"
             ],
             [
              0.8888888888888888,
              "#fdca26"
             ],
             [
              1,
              "#f0f921"
             ]
            ],
            "type": "heatmap"
           }
          ],
          "heatmapgl": [
           {
            "colorbar": {
             "outlinewidth": 0,
             "ticks": ""
            },
            "colorscale": [
             [
              0,
              "#0d0887"
             ],
             [
              0.1111111111111111,
              "#46039f"
             ],
             [
              0.2222222222222222,
              "#7201a8"
             ],
             [
              0.3333333333333333,
              "#9c179e"
             ],
             [
              0.4444444444444444,
              "#bd3786"
             ],
             [
              0.5555555555555556,
              "#d8576b"
             ],
             [
              0.6666666666666666,
              "#ed7953"
             ],
             [
              0.7777777777777778,
              "#fb9f3a"
             ],
             [
              0.8888888888888888,
              "#fdca26"
             ],
             [
              1,
              "#f0f921"
             ]
            ],
            "type": "heatmapgl"
           }
          ],
          "histogram": [
           {
            "marker": {
             "pattern": {
              "fillmode": "overlay",
              "size": 10,
              "solidity": 0.2
             }
            },
            "type": "histogram"
           }
          ],
          "histogram2d": [
           {
            "colorbar": {
             "outlinewidth": 0,
             "ticks": ""
            },
            "colorscale": [
             [
              0,
              "#0d0887"
             ],
             [
              0.1111111111111111,
              "#46039f"
             ],
             [
              0.2222222222222222,
              "#7201a8"
             ],
             [
              0.3333333333333333,
              "#9c179e"
             ],
             [
              0.4444444444444444,
              "#bd3786"
             ],
             [
              0.5555555555555556,
              "#d8576b"
             ],
             [
              0.6666666666666666,
              "#ed7953"
             ],
             [
              0.7777777777777778,
              "#fb9f3a"
             ],
             [
              0.8888888888888888,
              "#fdca26"
             ],
             [
              1,
              "#f0f921"
             ]
            ],
            "type": "histogram2d"
           }
          ],
          "histogram2dcontour": [
           {
            "colorbar": {
             "outlinewidth": 0,
             "ticks": ""
            },
            "colorscale": [
             [
              0,
              "#0d0887"
             ],
             [
              0.1111111111111111,
              "#46039f"
             ],
             [
              0.2222222222222222,
              "#7201a8"
             ],
             [
              0.3333333333333333,
              "#9c179e"
             ],
             [
              0.4444444444444444,
              "#bd3786"
             ],
             [
              0.5555555555555556,
              "#d8576b"
             ],
             [
              0.6666666666666666,
              "#ed7953"
             ],
             [
              0.7777777777777778,
              "#fb9f3a"
             ],
             [
              0.8888888888888888,
              "#fdca26"
             ],
             [
              1,
              "#f0f921"
             ]
            ],
            "type": "histogram2dcontour"
           }
          ],
          "mesh3d": [
           {
            "colorbar": {
             "outlinewidth": 0,
             "ticks": ""
            },
            "type": "mesh3d"
           }
          ],
          "parcoords": [
           {
            "line": {
             "colorbar": {
              "outlinewidth": 0,
              "ticks": ""
             }
            },
            "type": "parcoords"
           }
          ],
          "pie": [
           {
            "automargin": true,
            "type": "pie"
           }
          ],
          "scatter": [
           {
            "fillpattern": {
             "fillmode": "overlay",
             "size": 10,
             "solidity": 0.2
            },
            "type": "scatter"
           }
          ],
          "scatter3d": [
           {
            "line": {
             "colorbar": {
              "outlinewidth": 0,
              "ticks": ""
             }
            },
            "marker": {
             "colorbar": {
              "outlinewidth": 0,
              "ticks": ""
             }
            },
            "type": "scatter3d"
           }
          ],
          "scattercarpet": [
           {
            "marker": {
             "colorbar": {
              "outlinewidth": 0,
              "ticks": ""
             }
            },
            "type": "scattercarpet"
           }
          ],
          "scattergeo": [
           {
            "marker": {
             "colorbar": {
              "outlinewidth": 0,
              "ticks": ""
             }
            },
            "type": "scattergeo"
           }
          ],
          "scattergl": [
           {
            "marker": {
             "colorbar": {
              "outlinewidth": 0,
              "ticks": ""
             }
            },
            "type": "scattergl"
           }
          ],
          "scattermapbox": [
           {
            "marker": {
             "colorbar": {
              "outlinewidth": 0,
              "ticks": ""
             }
            },
            "type": "scattermapbox"
           }
          ],
          "scatterpolar": [
           {
            "marker": {
             "colorbar": {
              "outlinewidth": 0,
              "ticks": ""
             }
            },
            "type": "scatterpolar"
           }
          ],
          "scatterpolargl": [
           {
            "marker": {
             "colorbar": {
              "outlinewidth": 0,
              "ticks": ""
             }
            },
            "type": "scatterpolargl"
           }
          ],
          "scatterternary": [
           {
            "marker": {
             "colorbar": {
              "outlinewidth": 0,
              "ticks": ""
             }
            },
            "type": "scatterternary"
           }
          ],
          "surface": [
           {
            "colorbar": {
             "outlinewidth": 0,
             "ticks": ""
            },
            "colorscale": [
             [
              0,
              "#0d0887"
             ],
             [
              0.1111111111111111,
              "#46039f"
             ],
             [
              0.2222222222222222,
              "#7201a8"
             ],
             [
              0.3333333333333333,
              "#9c179e"
             ],
             [
              0.4444444444444444,
              "#bd3786"
             ],
             [
              0.5555555555555556,
              "#d8576b"
             ],
             [
              0.6666666666666666,
              "#ed7953"
             ],
             [
              0.7777777777777778,
              "#fb9f3a"
             ],
             [
              0.8888888888888888,
              "#fdca26"
             ],
             [
              1,
              "#f0f921"
             ]
            ],
            "type": "surface"
           }
          ],
          "table": [
           {
            "cells": {
             "fill": {
              "color": "#EBF0F8"
             },
             "line": {
              "color": "white"
             }
            },
            "header": {
             "fill": {
              "color": "#C8D4E3"
             },
             "line": {
              "color": "white"
             }
            },
            "type": "table"
           }
          ]
         },
         "layout": {
          "annotationdefaults": {
           "arrowcolor": "#2a3f5f",
           "arrowhead": 0,
           "arrowwidth": 1
          },
          "autotypenumbers": "strict",
          "coloraxis": {
           "colorbar": {
            "outlinewidth": 0,
            "ticks": ""
           }
          },
          "colorscale": {
           "diverging": [
            [
             0,
             "#8e0152"
            ],
            [
             0.1,
             "#c51b7d"
            ],
            [
             0.2,
             "#de77ae"
            ],
            [
             0.3,
             "#f1b6da"
            ],
            [
             0.4,
             "#fde0ef"
            ],
            [
             0.5,
             "#f7f7f7"
            ],
            [
             0.6,
             "#e6f5d0"
            ],
            [
             0.7,
             "#b8e186"
            ],
            [
             0.8,
             "#7fbc41"
            ],
            [
             0.9,
             "#4d9221"
            ],
            [
             1,
             "#276419"
            ]
           ],
           "sequential": [
            [
             0,
             "#0d0887"
            ],
            [
             0.1111111111111111,
             "#46039f"
            ],
            [
             0.2222222222222222,
             "#7201a8"
            ],
            [
             0.3333333333333333,
             "#9c179e"
            ],
            [
             0.4444444444444444,
             "#bd3786"
            ],
            [
             0.5555555555555556,
             "#d8576b"
            ],
            [
             0.6666666666666666,
             "#ed7953"
            ],
            [
             0.7777777777777778,
             "#fb9f3a"
            ],
            [
             0.8888888888888888,
             "#fdca26"
            ],
            [
             1,
             "#f0f921"
            ]
           ],
           "sequentialminus": [
            [
             0,
             "#0d0887"
            ],
            [
             0.1111111111111111,
             "#46039f"
            ],
            [
             0.2222222222222222,
             "#7201a8"
            ],
            [
             0.3333333333333333,
             "#9c179e"
            ],
            [
             0.4444444444444444,
             "#bd3786"
            ],
            [
             0.5555555555555556,
             "#d8576b"
            ],
            [
             0.6666666666666666,
             "#ed7953"
            ],
            [
             0.7777777777777778,
             "#fb9f3a"
            ],
            [
             0.8888888888888888,
             "#fdca26"
            ],
            [
             1,
             "#f0f921"
            ]
           ]
          },
          "colorway": [
           "#636efa",
           "#EF553B",
           "#00cc96",
           "#ab63fa",
           "#FFA15A",
           "#19d3f3",
           "#FF6692",
           "#B6E880",
           "#FF97FF",
           "#FECB52"
          ],
          "font": {
           "color": "#2a3f5f"
          },
          "geo": {
           "bgcolor": "white",
           "lakecolor": "white",
           "landcolor": "#E5ECF6",
           "showlakes": true,
           "showland": true,
           "subunitcolor": "white"
          },
          "hoverlabel": {
           "align": "left"
          },
          "hovermode": "closest",
          "mapbox": {
           "style": "light"
          },
          "paper_bgcolor": "white",
          "plot_bgcolor": "#E5ECF6",
          "polar": {
           "angularaxis": {
            "gridcolor": "white",
            "linecolor": "white",
            "ticks": ""
           },
           "bgcolor": "#E5ECF6",
           "radialaxis": {
            "gridcolor": "white",
            "linecolor": "white",
            "ticks": ""
           }
          },
          "scene": {
           "xaxis": {
            "backgroundcolor": "#E5ECF6",
            "gridcolor": "white",
            "gridwidth": 2,
            "linecolor": "white",
            "showbackground": true,
            "ticks": "",
            "zerolinecolor": "white"
           },
           "yaxis": {
            "backgroundcolor": "#E5ECF6",
            "gridcolor": "white",
            "gridwidth": 2,
            "linecolor": "white",
            "showbackground": true,
            "ticks": "",
            "zerolinecolor": "white"
           },
           "zaxis": {
            "backgroundcolor": "#E5ECF6",
            "gridcolor": "white",
            "gridwidth": 2,
            "linecolor": "white",
            "showbackground": true,
            "ticks": "",
            "zerolinecolor": "white"
           }
          },
          "shapedefaults": {
           "line": {
            "color": "#2a3f5f"
           }
          },
          "ternary": {
           "aaxis": {
            "gridcolor": "white",
            "linecolor": "white",
            "ticks": ""
           },
           "baxis": {
            "gridcolor": "white",
            "linecolor": "white",
            "ticks": ""
           },
           "bgcolor": "#E5ECF6",
           "caxis": {
            "gridcolor": "white",
            "linecolor": "white",
            "ticks": ""
           }
          },
          "title": {
           "x": 0.05
          },
          "xaxis": {
           "automargin": true,
           "gridcolor": "white",
           "linecolor": "white",
           "ticks": "",
           "title": {
            "standoff": 15
           },
           "zerolinecolor": "white",
           "zerolinewidth": 2
          },
          "yaxis": {
           "automargin": true,
           "gridcolor": "white",
           "linecolor": "white",
           "ticks": "",
           "title": {
            "standoff": 15
           },
           "zerolinecolor": "white",
           "zerolinewidth": 2
          }
         }
        },
        "title": {
         "text": "Episode Rewards vs. Noise Faceted by Size"
        },
        "xaxis": {
         "anchor": "y",
         "domain": [
          0,
          0.49
         ],
         "title": {
          "text": "noise"
         }
        },
        "xaxis2": {
         "anchor": "y2",
         "domain": [
          0.51,
          1
         ],
         "matches": "x",
         "title": {
          "text": "noise"
         }
        },
        "yaxis": {
         "anchor": "x",
         "domain": [
          0,
          1
         ],
         "title": {
          "text": "episode_rewards_mean"
         }
        },
        "yaxis2": {
         "anchor": "x2",
         "domain": [
          0,
          1
         ],
         "matches": "y",
         "showticklabels": false
        }
       }
      }
     },
     "metadata": {},
     "output_type": "display_data"
    }
   ],
   "source": [
    "import plotly.express as px\n",
    "\n",
    "# Define readable names for selected hyperparams\n",
    "readable_names = {\n",
    "    hyperparam_columns[0]: \"noise\",\n",
    "    hyperparam_columns[1]: \"size\"\n",
    "}\n",
    "\n",
    "# Rename columns in a copy of the dataframe\n",
    "plot_df = sub_df.rename(columns=readable_names)\n",
    "\n",
    "# Assign new column names\n",
    "x_col = \"noise\"\n",
    "y_col = \"episode_rewards_mean\"\n",
    "facet_col = \"size\"\n",
    "\n",
    "# Plot\n",
    "fig = px.scatter(\n",
    "    plot_df,\n",
    "    x=x_col,\n",
    "    y=y_col,\n",
    "    color=\"experiment_name\",  # Optional: color by experiment\n",
    "    facet_col=facet_col,\n",
    "    title=\"Episode Rewards vs. Noise Faceted by Size\",\n",
    "    height=600\n",
    ")\n",
    "\n",
    "fig.update_layout(showlegend=False)\n",
    "fig.show()\n"
   ]
  },
  {
   "cell_type": "code",
   "execution_count": null,
   "metadata": {},
   "outputs": [],
   "source": []
  }
 ],
 "metadata": {
  "kernelspec": {
   "display_name": "phd_rl_algos",
   "language": "python",
   "name": "python3"
  },
  "language_info": {
   "codemirror_mode": {
    "name": "ipython",
    "version": 3
   },
   "file_extension": ".py",
   "mimetype": "text/x-python",
   "name": "python",
   "nbconvert_exporter": "python",
   "pygments_lexer": "ipython3",
   "version": "3.11.5"
  }
 },
 "nbformat": 4,
 "nbformat_minor": 2
}
