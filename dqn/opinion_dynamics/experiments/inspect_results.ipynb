{
 "cells": [
  {
   "cell_type": "code",
   "execution_count": 78,
   "metadata": {},
   "outputs": [
    {
     "name": "stdout",
     "output_type": "stream",
     "text": [
      "The autoreload extension is already loaded. To reload it, use:\n",
      "  %reload_ext autoreload\n"
     ]
    }
   ],
   "source": [
    "%load_ext autoreload\n",
    "%autoreload 2"
   ]
  },
  {
   "cell_type": "code",
   "execution_count": null,
   "metadata": {},
   "outputs": [],
   "source": [
    "import os, sys\n",
    "\n",
    "def get_dir_n_levels_up(path, n):\n",
    "    # Go up n levels from the given path\n",
    "    for _ in range(n):\n",
    "        path = os.path.dirname(path)\n",
    "    return path\n",
    "\n",
    "proj_root = get_dir_n_levels_up(os.path.abspath(\"__file__\"), 4)\n",
    "sys.path.append(proj_root)\n",
    "\n",
    "import warnings\n",
    "import numpy as np\n",
    "\n",
    "import seaborn as sns\n",
    "import matplotlib.pyplot as plt\n",
    "sns.set_theme()\n",
    "\n",
    "warnings.filterwarnings(\"ignore\")\n",
    "\n",
    "from dqn.opinion_dynamics.utils.experiment import process_experiment\n"
   ]
  },
  {
   "cell_type": "code",
   "execution_count": 80,
   "metadata": {},
   "outputs": [
    {
     "data": {
      "text/plain": [
       "Index(['epoch_type', 'frame_stamp', 'greedy_epsilon', 'episode_rewards_min',\n",
       "       'episode_rewards_max', 'episode_rewards_mean', 'episode_rewards_median',\n",
       "       'episode_rewards_std', 'episode_discounted_rewards_min',\n",
       "       'episode_discounted_rewards_max', 'episode_discounted_rewards_mean',\n",
       "       'episode_discounted_rewards_median', 'episode_discounted_rewards_std',\n",
       "       'episode_frames_min', 'episode_frames_max', 'episode_frames_mean',\n",
       "       'episode_frames_median', 'episode_frames_std', 'episode_losses_min',\n",
       "       'episode_losses_max', 'episode_losses_mean', 'episode_losses_median',\n",
       "       'episode_losses_std', 'episode_max_qs_min', 'episode_max_qs_max',\n",
       "       'episode_max_qs_mean', 'episode_max_qs_median', 'episode_max_qs_std',\n",
       "       'policy_trained_times', 'target_trained_times', 'epoch_time',\n",
       "       'sub_exp_cfg_optim.args_.eps', 'sub_exp_cfg_optim.args_.lr',\n",
       "       'sub_exp_cfg_agent_params.args_.betas',\n",
       "       'sub_exp_cfg_agent_params.model', 'sub_experiment_path', 'seed',\n",
       "       'experiment_name'],\n",
       "      dtype='object')"
      ]
     },
     "execution_count": 80,
     "metadata": {},
     "output_type": "execute_result"
    }
   ],
   "source": [
    "# experiment_sub_dir = \"2025May02-101004_configs\" # excellent run\n",
    "# experiment_sub_dir = \"2025Jul09-171538_configs\" # good latest run\n",
    "\n",
    "experiment_sub_dir = \"2025Aug28-014153_configs\" \n",
    "\n",
    "exp_path = os.path.join(os.path.abspath(\".\"), \"results\", experiment_sub_dir)\n",
    "df = process_experiment(\n",
    "    exp_path\n",
    ")\n",
    "df.columns\n"
   ]
  },
  {
   "cell_type": "code",
   "execution_count": 81,
   "metadata": {},
   "outputs": [
    {
     "data": {
      "text/html": [
       "<div>\n",
       "<style scoped>\n",
       "    .dataframe tbody tr th:only-of-type {\n",
       "        vertical-align: middle;\n",
       "    }\n",
       "\n",
       "    .dataframe tbody tr th {\n",
       "        vertical-align: top;\n",
       "    }\n",
       "\n",
       "    .dataframe thead th {\n",
       "        text-align: right;\n",
       "    }\n",
       "</style>\n",
       "<table border=\"1\" class=\"dataframe\">\n",
       "  <thead>\n",
       "    <tr style=\"text-align: right;\">\n",
       "      <th></th>\n",
       "      <th>epoch_type</th>\n",
       "      <th>frame_stamp</th>\n",
       "      <th>greedy_epsilon</th>\n",
       "      <th>episode_rewards_min</th>\n",
       "      <th>episode_rewards_max</th>\n",
       "      <th>episode_rewards_mean</th>\n",
       "      <th>episode_rewards_median</th>\n",
       "      <th>episode_rewards_std</th>\n",
       "      <th>episode_discounted_rewards_min</th>\n",
       "      <th>episode_discounted_rewards_max</th>\n",
       "      <th>...</th>\n",
       "      <th>policy_trained_times</th>\n",
       "      <th>target_trained_times</th>\n",
       "      <th>epoch_time</th>\n",
       "      <th>sub_exp_cfg_optim.args_.eps</th>\n",
       "      <th>sub_exp_cfg_optim.args_.lr</th>\n",
       "      <th>sub_exp_cfg_agent_params.args_.betas</th>\n",
       "      <th>sub_exp_cfg_agent_params.model</th>\n",
       "      <th>sub_experiment_path</th>\n",
       "      <th>seed</th>\n",
       "      <th>experiment_name</th>\n",
       "    </tr>\n",
       "  </thead>\n",
       "  <tbody>\n",
       "    <tr>\n",
       "      <th>0</th>\n",
       "      <td>training</td>\n",
       "      <td>200000</td>\n",
       "      <td>0.953688</td>\n",
       "      <td>-20.228578</td>\n",
       "      <td>-2.823232</td>\n",
       "      <td>-8.941559</td>\n",
       "      <td>-8.711646</td>\n",
       "      <td>2.443190</td>\n",
       "      <td>-16.713334</td>\n",
       "      <td>-2.703325</td>\n",
       "      <td>...</td>\n",
       "      <td>48749.0</td>\n",
       "      <td>192.0</td>\n",
       "      <td>0 days 00:11:51.992449</td>\n",
       "      <td>1e-09</td>\n",
       "      <td>1e-06</td>\n",
       "      <td>[0, 1, 2]</td>\n",
       "      <td>OpinionNetFixedW</td>\n",
       "      <td>d:\\Work\\repos\\RL\\phd-rl-algos\\dqn\\opinion_dyna...</td>\n",
       "      <td>0</td>\n",
       "      <td>0000_optim.args_.eps_1e-09__optim.args_.lr_1e-...</td>\n",
       "    </tr>\n",
       "    <tr>\n",
       "      <th>1</th>\n",
       "      <td>training</td>\n",
       "      <td>400000</td>\n",
       "      <td>0.906188</td>\n",
       "      <td>-23.200560</td>\n",
       "      <td>-2.496598</td>\n",
       "      <td>-9.427130</td>\n",
       "      <td>-9.192205</td>\n",
       "      <td>2.585996</td>\n",
       "      <td>-18.033414</td>\n",
       "      <td>-2.392303</td>\n",
       "      <td>...</td>\n",
       "      <td>50000.0</td>\n",
       "      <td>200.0</td>\n",
       "      <td>0 days 00:12:17.499163</td>\n",
       "      <td>1e-09</td>\n",
       "      <td>1e-06</td>\n",
       "      <td>[0, 1, 2]</td>\n",
       "      <td>OpinionNetFixedW</td>\n",
       "      <td>d:\\Work\\repos\\RL\\phd-rl-algos\\dqn\\opinion_dyna...</td>\n",
       "      <td>0</td>\n",
       "      <td>0000_optim.args_.eps_1e-09__optim.args_.lr_1e-...</td>\n",
       "    </tr>\n",
       "    <tr>\n",
       "      <th>2</th>\n",
       "      <td>training</td>\n",
       "      <td>600000</td>\n",
       "      <td>0.858688</td>\n",
       "      <td>-23.901671</td>\n",
       "      <td>-2.726500</td>\n",
       "      <td>-9.162025</td>\n",
       "      <td>-8.918144</td>\n",
       "      <td>2.526498</td>\n",
       "      <td>-18.906923</td>\n",
       "      <td>-2.582925</td>\n",
       "      <td>...</td>\n",
       "      <td>50000.0</td>\n",
       "      <td>200.0</td>\n",
       "      <td>0 days 00:13:01.298282</td>\n",
       "      <td>1e-09</td>\n",
       "      <td>1e-06</td>\n",
       "      <td>[0, 1, 2]</td>\n",
       "      <td>OpinionNetFixedW</td>\n",
       "      <td>d:\\Work\\repos\\RL\\phd-rl-algos\\dqn\\opinion_dyna...</td>\n",
       "      <td>0</td>\n",
       "      <td>0000_optim.args_.eps_1e-09__optim.args_.lr_1e-...</td>\n",
       "    </tr>\n",
       "    <tr>\n",
       "      <th>3</th>\n",
       "      <td>training</td>\n",
       "      <td>800000</td>\n",
       "      <td>0.811187</td>\n",
       "      <td>-19.098889</td>\n",
       "      <td>-2.542268</td>\n",
       "      <td>-8.843233</td>\n",
       "      <td>-8.688733</td>\n",
       "      <td>2.281880</td>\n",
       "      <td>-15.903976</td>\n",
       "      <td>-2.394204</td>\n",
       "      <td>...</td>\n",
       "      <td>50000.0</td>\n",
       "      <td>200.0</td>\n",
       "      <td>0 days 00:13:19.342404</td>\n",
       "      <td>1e-09</td>\n",
       "      <td>1e-06</td>\n",
       "      <td>[0, 1, 2]</td>\n",
       "      <td>OpinionNetFixedW</td>\n",
       "      <td>d:\\Work\\repos\\RL\\phd-rl-algos\\dqn\\opinion_dyna...</td>\n",
       "      <td>0</td>\n",
       "      <td>0000_optim.args_.eps_1e-09__optim.args_.lr_1e-...</td>\n",
       "    </tr>\n",
       "    <tr>\n",
       "      <th>4</th>\n",
       "      <td>training</td>\n",
       "      <td>1000000</td>\n",
       "      <td>0.763688</td>\n",
       "      <td>-17.646389</td>\n",
       "      <td>-2.328808</td>\n",
       "      <td>-8.800342</td>\n",
       "      <td>-8.658975</td>\n",
       "      <td>2.262451</td>\n",
       "      <td>-15.015498</td>\n",
       "      <td>-2.208998</td>\n",
       "      <td>...</td>\n",
       "      <td>50000.0</td>\n",
       "      <td>200.0</td>\n",
       "      <td>0 days 00:13:38.293358</td>\n",
       "      <td>1e-09</td>\n",
       "      <td>1e-06</td>\n",
       "      <td>[0, 1, 2]</td>\n",
       "      <td>OpinionNetFixedW</td>\n",
       "      <td>d:\\Work\\repos\\RL\\phd-rl-algos\\dqn\\opinion_dyna...</td>\n",
       "      <td>0</td>\n",
       "      <td>0000_optim.args_.eps_1e-09__optim.args_.lr_1e-...</td>\n",
       "    </tr>\n",
       "    <tr>\n",
       "      <th>...</th>\n",
       "      <td>...</td>\n",
       "      <td>...</td>\n",
       "      <td>...</td>\n",
       "      <td>...</td>\n",
       "      <td>...</td>\n",
       "      <td>...</td>\n",
       "      <td>...</td>\n",
       "      <td>...</td>\n",
       "      <td>...</td>\n",
       "      <td>...</td>\n",
       "      <td>...</td>\n",
       "      <td>...</td>\n",
       "      <td>...</td>\n",
       "      <td>...</td>\n",
       "      <td>...</td>\n",
       "      <td>...</td>\n",
       "      <td>...</td>\n",
       "      <td>...</td>\n",
       "      <td>...</td>\n",
       "      <td>...</td>\n",
       "      <td>...</td>\n",
       "    </tr>\n",
       "    <tr>\n",
       "      <th>315</th>\n",
       "      <td>validation</td>\n",
       "      <td>3200000</td>\n",
       "      <td>NaN</td>\n",
       "      <td>-120.577934</td>\n",
       "      <td>-71.805774</td>\n",
       "      <td>-94.092577</td>\n",
       "      <td>-97.060278</td>\n",
       "      <td>19.227033</td>\n",
       "      <td>-62.593173</td>\n",
       "      <td>-38.125183</td>\n",
       "      <td>...</td>\n",
       "      <td>NaN</td>\n",
       "      <td>NaN</td>\n",
       "      <td>0 days 00:00:04.336751</td>\n",
       "      <td>1e-10</td>\n",
       "      <td>5e-05</td>\n",
       "      <td>[0, 1, 2]</td>\n",
       "      <td>OpinionNetFixedW</td>\n",
       "      <td>d:\\Work\\repos\\RL\\phd-rl-algos\\dqn\\opinion_dyna...</td>\n",
       "      <td>1</td>\n",
       "      <td>0003_optim.args_.eps_1e-10__optim.args_.lr_5e-...</td>\n",
       "    </tr>\n",
       "    <tr>\n",
       "      <th>316</th>\n",
       "      <td>validation</td>\n",
       "      <td>3400000</td>\n",
       "      <td>NaN</td>\n",
       "      <td>-120.115803</td>\n",
       "      <td>-75.782920</td>\n",
       "      <td>-96.823940</td>\n",
       "      <td>-97.060278</td>\n",
       "      <td>15.834213</td>\n",
       "      <td>-62.484175</td>\n",
       "      <td>-39.302082</td>\n",
       "      <td>...</td>\n",
       "      <td>NaN</td>\n",
       "      <td>NaN</td>\n",
       "      <td>0 days 00:00:04.405585</td>\n",
       "      <td>1e-10</td>\n",
       "      <td>5e-05</td>\n",
       "      <td>[0, 1, 2]</td>\n",
       "      <td>OpinionNetFixedW</td>\n",
       "      <td>d:\\Work\\repos\\RL\\phd-rl-algos\\dqn\\opinion_dyna...</td>\n",
       "      <td>1</td>\n",
       "      <td>0003_optim.args_.eps_1e-10__optim.args_.lr_5e-...</td>\n",
       "    </tr>\n",
       "    <tr>\n",
       "      <th>317</th>\n",
       "      <td>validation</td>\n",
       "      <td>3600000</td>\n",
       "      <td>NaN</td>\n",
       "      <td>-120.577934</td>\n",
       "      <td>-75.782920</td>\n",
       "      <td>-100.944571</td>\n",
       "      <td>-97.060278</td>\n",
       "      <td>18.745405</td>\n",
       "      <td>-62.593173</td>\n",
       "      <td>-39.302082</td>\n",
       "      <td>...</td>\n",
       "      <td>NaN</td>\n",
       "      <td>NaN</td>\n",
       "      <td>0 days 00:00:04.924188</td>\n",
       "      <td>1e-10</td>\n",
       "      <td>5e-05</td>\n",
       "      <td>[0, 1, 2]</td>\n",
       "      <td>OpinionNetFixedW</td>\n",
       "      <td>d:\\Work\\repos\\RL\\phd-rl-algos\\dqn\\opinion_dyna...</td>\n",
       "      <td>1</td>\n",
       "      <td>0003_optim.args_.eps_1e-10__optim.args_.lr_5e-...</td>\n",
       "    </tr>\n",
       "    <tr>\n",
       "      <th>318</th>\n",
       "      <td>validation</td>\n",
       "      <td>3800000</td>\n",
       "      <td>NaN</td>\n",
       "      <td>-120.577934</td>\n",
       "      <td>-72.819288</td>\n",
       "      <td>-93.794049</td>\n",
       "      <td>-93.957071</td>\n",
       "      <td>19.027011</td>\n",
       "      <td>-62.593173</td>\n",
       "      <td>-38.043786</td>\n",
       "      <td>...</td>\n",
       "      <td>NaN</td>\n",
       "      <td>NaN</td>\n",
       "      <td>0 days 00:00:04.376814</td>\n",
       "      <td>1e-10</td>\n",
       "      <td>5e-05</td>\n",
       "      <td>[0, 1, 2]</td>\n",
       "      <td>OpinionNetFixedW</td>\n",
       "      <td>d:\\Work\\repos\\RL\\phd-rl-algos\\dqn\\opinion_dyna...</td>\n",
       "      <td>1</td>\n",
       "      <td>0003_optim.args_.eps_1e-10__optim.args_.lr_5e-...</td>\n",
       "    </tr>\n",
       "    <tr>\n",
       "      <th>319</th>\n",
       "      <td>validation</td>\n",
       "      <td>4000000</td>\n",
       "      <td>NaN</td>\n",
       "      <td>-120.577934</td>\n",
       "      <td>-75.782920</td>\n",
       "      <td>-97.700363</td>\n",
       "      <td>-97.060278</td>\n",
       "      <td>16.939996</td>\n",
       "      <td>-62.593173</td>\n",
       "      <td>-39.302082</td>\n",
       "      <td>...</td>\n",
       "      <td>NaN</td>\n",
       "      <td>NaN</td>\n",
       "      <td>0 days 00:00:03.071003</td>\n",
       "      <td>1e-10</td>\n",
       "      <td>5e-05</td>\n",
       "      <td>[0, 1, 2]</td>\n",
       "      <td>OpinionNetFixedW</td>\n",
       "      <td>d:\\Work\\repos\\RL\\phd-rl-algos\\dqn\\opinion_dyna...</td>\n",
       "      <td>1</td>\n",
       "      <td>0003_optim.args_.eps_1e-10__optim.args_.lr_5e-...</td>\n",
       "    </tr>\n",
       "  </tbody>\n",
       "</table>\n",
       "<p>320 rows × 38 columns</p>\n",
       "</div>"
      ],
      "text/plain": [
       "     epoch_type  frame_stamp  greedy_epsilon  episode_rewards_min  \\\n",
       "0      training       200000        0.953688           -20.228578   \n",
       "1      training       400000        0.906188           -23.200560   \n",
       "2      training       600000        0.858688           -23.901671   \n",
       "3      training       800000        0.811187           -19.098889   \n",
       "4      training      1000000        0.763688           -17.646389   \n",
       "..          ...          ...             ...                  ...   \n",
       "315  validation      3200000             NaN          -120.577934   \n",
       "316  validation      3400000             NaN          -120.115803   \n",
       "317  validation      3600000             NaN          -120.577934   \n",
       "318  validation      3800000             NaN          -120.577934   \n",
       "319  validation      4000000             NaN          -120.577934   \n",
       "\n",
       "     episode_rewards_max  episode_rewards_mean  episode_rewards_median  \\\n",
       "0              -2.823232             -8.941559               -8.711646   \n",
       "1              -2.496598             -9.427130               -9.192205   \n",
       "2              -2.726500             -9.162025               -8.918144   \n",
       "3              -2.542268             -8.843233               -8.688733   \n",
       "4              -2.328808             -8.800342               -8.658975   \n",
       "..                   ...                   ...                     ...   \n",
       "315           -71.805774            -94.092577              -97.060278   \n",
       "316           -75.782920            -96.823940              -97.060278   \n",
       "317           -75.782920           -100.944571              -97.060278   \n",
       "318           -72.819288            -93.794049              -93.957071   \n",
       "319           -75.782920            -97.700363              -97.060278   \n",
       "\n",
       "     episode_rewards_std  episode_discounted_rewards_min  \\\n",
       "0               2.443190                      -16.713334   \n",
       "1               2.585996                      -18.033414   \n",
       "2               2.526498                      -18.906923   \n",
       "3               2.281880                      -15.903976   \n",
       "4               2.262451                      -15.015498   \n",
       "..                   ...                             ...   \n",
       "315            19.227033                      -62.593173   \n",
       "316            15.834213                      -62.484175   \n",
       "317            18.745405                      -62.593173   \n",
       "318            19.027011                      -62.593173   \n",
       "319            16.939996                      -62.593173   \n",
       "\n",
       "     episode_discounted_rewards_max  ...  policy_trained_times  \\\n",
       "0                         -2.703325  ...               48749.0   \n",
       "1                         -2.392303  ...               50000.0   \n",
       "2                         -2.582925  ...               50000.0   \n",
       "3                         -2.394204  ...               50000.0   \n",
       "4                         -2.208998  ...               50000.0   \n",
       "..                              ...  ...                   ...   \n",
       "315                      -38.125183  ...                   NaN   \n",
       "316                      -39.302082  ...                   NaN   \n",
       "317                      -39.302082  ...                   NaN   \n",
       "318                      -38.043786  ...                   NaN   \n",
       "319                      -39.302082  ...                   NaN   \n",
       "\n",
       "     target_trained_times             epoch_time  sub_exp_cfg_optim.args_.eps  \\\n",
       "0                   192.0 0 days 00:11:51.992449                        1e-09   \n",
       "1                   200.0 0 days 00:12:17.499163                        1e-09   \n",
       "2                   200.0 0 days 00:13:01.298282                        1e-09   \n",
       "3                   200.0 0 days 00:13:19.342404                        1e-09   \n",
       "4                   200.0 0 days 00:13:38.293358                        1e-09   \n",
       "..                    ...                    ...                          ...   \n",
       "315                   NaN 0 days 00:00:04.336751                        1e-10   \n",
       "316                   NaN 0 days 00:00:04.405585                        1e-10   \n",
       "317                   NaN 0 days 00:00:04.924188                        1e-10   \n",
       "318                   NaN 0 days 00:00:04.376814                        1e-10   \n",
       "319                   NaN 0 days 00:00:03.071003                        1e-10   \n",
       "\n",
       "     sub_exp_cfg_optim.args_.lr  sub_exp_cfg_agent_params.args_.betas  \\\n",
       "0                         1e-06                             [0, 1, 2]   \n",
       "1                         1e-06                             [0, 1, 2]   \n",
       "2                         1e-06                             [0, 1, 2]   \n",
       "3                         1e-06                             [0, 1, 2]   \n",
       "4                         1e-06                             [0, 1, 2]   \n",
       "..                          ...                                   ...   \n",
       "315                       5e-05                             [0, 1, 2]   \n",
       "316                       5e-05                             [0, 1, 2]   \n",
       "317                       5e-05                             [0, 1, 2]   \n",
       "318                       5e-05                             [0, 1, 2]   \n",
       "319                       5e-05                             [0, 1, 2]   \n",
       "\n",
       "     sub_exp_cfg_agent_params.model  \\\n",
       "0                  OpinionNetFixedW   \n",
       "1                  OpinionNetFixedW   \n",
       "2                  OpinionNetFixedW   \n",
       "3                  OpinionNetFixedW   \n",
       "4                  OpinionNetFixedW   \n",
       "..                              ...   \n",
       "315                OpinionNetFixedW   \n",
       "316                OpinionNetFixedW   \n",
       "317                OpinionNetFixedW   \n",
       "318                OpinionNetFixedW   \n",
       "319                OpinionNetFixedW   \n",
       "\n",
       "                                   sub_experiment_path  seed  \\\n",
       "0    d:\\Work\\repos\\RL\\phd-rl-algos\\dqn\\opinion_dyna...     0   \n",
       "1    d:\\Work\\repos\\RL\\phd-rl-algos\\dqn\\opinion_dyna...     0   \n",
       "2    d:\\Work\\repos\\RL\\phd-rl-algos\\dqn\\opinion_dyna...     0   \n",
       "3    d:\\Work\\repos\\RL\\phd-rl-algos\\dqn\\opinion_dyna...     0   \n",
       "4    d:\\Work\\repos\\RL\\phd-rl-algos\\dqn\\opinion_dyna...     0   \n",
       "..                                                 ...   ...   \n",
       "315  d:\\Work\\repos\\RL\\phd-rl-algos\\dqn\\opinion_dyna...     1   \n",
       "316  d:\\Work\\repos\\RL\\phd-rl-algos\\dqn\\opinion_dyna...     1   \n",
       "317  d:\\Work\\repos\\RL\\phd-rl-algos\\dqn\\opinion_dyna...     1   \n",
       "318  d:\\Work\\repos\\RL\\phd-rl-algos\\dqn\\opinion_dyna...     1   \n",
       "319  d:\\Work\\repos\\RL\\phd-rl-algos\\dqn\\opinion_dyna...     1   \n",
       "\n",
       "                                       experiment_name  \n",
       "0    0000_optim.args_.eps_1e-09__optim.args_.lr_1e-...  \n",
       "1    0000_optim.args_.eps_1e-09__optim.args_.lr_1e-...  \n",
       "2    0000_optim.args_.eps_1e-09__optim.args_.lr_1e-...  \n",
       "3    0000_optim.args_.eps_1e-09__optim.args_.lr_1e-...  \n",
       "4    0000_optim.args_.eps_1e-09__optim.args_.lr_1e-...  \n",
       "..                                                 ...  \n",
       "315  0003_optim.args_.eps_1e-10__optim.args_.lr_5e-...  \n",
       "316  0003_optim.args_.eps_1e-10__optim.args_.lr_5e-...  \n",
       "317  0003_optim.args_.eps_1e-10__optim.args_.lr_5e-...  \n",
       "318  0003_optim.args_.eps_1e-10__optim.args_.lr_5e-...  \n",
       "319  0003_optim.args_.eps_1e-10__optim.args_.lr_5e-...  \n",
       "\n",
       "[320 rows x 38 columns]"
      ]
     },
     "execution_count": 81,
     "metadata": {},
     "output_type": "execute_result"
    }
   ],
   "source": [
    "df"
   ]
  },
  {
   "cell_type": "code",
   "execution_count": 82,
   "metadata": {},
   "outputs": [
    {
     "data": {
      "text/html": [
       "<div>\n",
       "<style scoped>\n",
       "    .dataframe tbody tr th:only-of-type {\n",
       "        vertical-align: middle;\n",
       "    }\n",
       "\n",
       "    .dataframe tbody tr th {\n",
       "        vertical-align: top;\n",
       "    }\n",
       "\n",
       "    .dataframe thead th {\n",
       "        text-align: right;\n",
       "    }\n",
       "</style>\n",
       "<table border=\"1\" class=\"dataframe\">\n",
       "  <thead>\n",
       "    <tr style=\"text-align: right;\">\n",
       "      <th></th>\n",
       "      <th>epoch_type</th>\n",
       "      <th>frame_stamp</th>\n",
       "      <th>greedy_epsilon</th>\n",
       "      <th>episode_rewards_min</th>\n",
       "      <th>episode_rewards_max</th>\n",
       "      <th>episode_rewards_mean</th>\n",
       "      <th>episode_rewards_median</th>\n",
       "      <th>episode_rewards_std</th>\n",
       "      <th>episode_discounted_rewards_min</th>\n",
       "      <th>episode_discounted_rewards_max</th>\n",
       "      <th>...</th>\n",
       "      <th>policy_trained_times</th>\n",
       "      <th>target_trained_times</th>\n",
       "      <th>epoch_time</th>\n",
       "      <th>sub_exp_cfg_optim.args_.eps</th>\n",
       "      <th>sub_exp_cfg_optim.args_.lr</th>\n",
       "      <th>sub_exp_cfg_agent_params.args_.betas</th>\n",
       "      <th>sub_exp_cfg_agent_params.model</th>\n",
       "      <th>sub_experiment_path</th>\n",
       "      <th>seed</th>\n",
       "      <th>experiment_name</th>\n",
       "    </tr>\n",
       "  </thead>\n",
       "  <tbody>\n",
       "    <tr>\n",
       "      <th>20</th>\n",
       "      <td>validation</td>\n",
       "      <td>200000</td>\n",
       "      <td>NaN</td>\n",
       "      <td>-98.327823</td>\n",
       "      <td>-75.782920</td>\n",
       "      <td>-85.037950</td>\n",
       "      <td>-85.630623</td>\n",
       "      <td>9.342000</td>\n",
       "      <td>-51.330502</td>\n",
       "      <td>-39.302082</td>\n",
       "      <td>...</td>\n",
       "      <td>NaN</td>\n",
       "      <td>NaN</td>\n",
       "      <td>0 days 00:00:04.358316</td>\n",
       "      <td>1e-09</td>\n",
       "      <td>1e-06</td>\n",
       "      <td>[0, 1, 2]</td>\n",
       "      <td>OpinionNetFixedW</td>\n",
       "      <td>d:\\Work\\repos\\RL\\phd-rl-algos\\dqn\\opinion_dyna...</td>\n",
       "      <td>0</td>\n",
       "      <td>0000_optim.args_.eps_1e-09__optim.args_.lr_1e-...</td>\n",
       "    </tr>\n",
       "    <tr>\n",
       "      <th>21</th>\n",
       "      <td>validation</td>\n",
       "      <td>400000</td>\n",
       "      <td>NaN</td>\n",
       "      <td>-120.577934</td>\n",
       "      <td>-75.782920</td>\n",
       "      <td>-97.700363</td>\n",
       "      <td>-97.060278</td>\n",
       "      <td>16.939996</td>\n",
       "      <td>-62.593173</td>\n",
       "      <td>-39.302082</td>\n",
       "      <td>...</td>\n",
       "      <td>NaN</td>\n",
       "      <td>NaN</td>\n",
       "      <td>0 days 00:00:04.176975</td>\n",
       "      <td>1e-09</td>\n",
       "      <td>1e-06</td>\n",
       "      <td>[0, 1, 2]</td>\n",
       "      <td>OpinionNetFixedW</td>\n",
       "      <td>d:\\Work\\repos\\RL\\phd-rl-algos\\dqn\\opinion_dyna...</td>\n",
       "      <td>0</td>\n",
       "      <td>0000_optim.args_.eps_1e-09__optim.args_.lr_1e-...</td>\n",
       "    </tr>\n",
       "    <tr>\n",
       "      <th>22</th>\n",
       "      <td>validation</td>\n",
       "      <td>600000</td>\n",
       "      <td>NaN</td>\n",
       "      <td>-15.659566</td>\n",
       "      <td>-9.516581</td>\n",
       "      <td>-12.401706</td>\n",
       "      <td>-11.901892</td>\n",
       "      <td>2.568707</td>\n",
       "      <td>-13.555535</td>\n",
       "      <td>-8.359757</td>\n",
       "      <td>...</td>\n",
       "      <td>NaN</td>\n",
       "      <td>NaN</td>\n",
       "      <td>0 days 00:00:04.266965</td>\n",
       "      <td>1e-09</td>\n",
       "      <td>1e-06</td>\n",
       "      <td>[0, 1, 2]</td>\n",
       "      <td>OpinionNetFixedW</td>\n",
       "      <td>d:\\Work\\repos\\RL\\phd-rl-algos\\dqn\\opinion_dyna...</td>\n",
       "      <td>0</td>\n",
       "      <td>0000_optim.args_.eps_1e-09__optim.args_.lr_1e-...</td>\n",
       "    </tr>\n",
       "    <tr>\n",
       "      <th>23</th>\n",
       "      <td>validation</td>\n",
       "      <td>800000</td>\n",
       "      <td>NaN</td>\n",
       "      <td>-15.659566</td>\n",
       "      <td>-9.516581</td>\n",
       "      <td>-12.501484</td>\n",
       "      <td>-11.901892</td>\n",
       "      <td>2.507876</td>\n",
       "      <td>-13.555535</td>\n",
       "      <td>-8.359757</td>\n",
       "      <td>...</td>\n",
       "      <td>NaN</td>\n",
       "      <td>NaN</td>\n",
       "      <td>0 days 00:00:04.357986</td>\n",
       "      <td>1e-09</td>\n",
       "      <td>1e-06</td>\n",
       "      <td>[0, 1, 2]</td>\n",
       "      <td>OpinionNetFixedW</td>\n",
       "      <td>d:\\Work\\repos\\RL\\phd-rl-algos\\dqn\\opinion_dyna...</td>\n",
       "      <td>0</td>\n",
       "      <td>0000_optim.args_.eps_1e-09__optim.args_.lr_1e-...</td>\n",
       "    </tr>\n",
       "    <tr>\n",
       "      <th>24</th>\n",
       "      <td>validation</td>\n",
       "      <td>1000000</td>\n",
       "      <td>NaN</td>\n",
       "      <td>-15.718010</td>\n",
       "      <td>-9.516581</td>\n",
       "      <td>-12.197257</td>\n",
       "      <td>-11.901892</td>\n",
       "      <td>2.482403</td>\n",
       "      <td>-13.591694</td>\n",
       "      <td>-8.359757</td>\n",
       "      <td>...</td>\n",
       "      <td>NaN</td>\n",
       "      <td>NaN</td>\n",
       "      <td>0 days 00:00:04.157769</td>\n",
       "      <td>1e-09</td>\n",
       "      <td>1e-06</td>\n",
       "      <td>[0, 1, 2]</td>\n",
       "      <td>OpinionNetFixedW</td>\n",
       "      <td>d:\\Work\\repos\\RL\\phd-rl-algos\\dqn\\opinion_dyna...</td>\n",
       "      <td>0</td>\n",
       "      <td>0000_optim.args_.eps_1e-09__optim.args_.lr_1e-...</td>\n",
       "    </tr>\n",
       "    <tr>\n",
       "      <th>...</th>\n",
       "      <td>...</td>\n",
       "      <td>...</td>\n",
       "      <td>...</td>\n",
       "      <td>...</td>\n",
       "      <td>...</td>\n",
       "      <td>...</td>\n",
       "      <td>...</td>\n",
       "      <td>...</td>\n",
       "      <td>...</td>\n",
       "      <td>...</td>\n",
       "      <td>...</td>\n",
       "      <td>...</td>\n",
       "      <td>...</td>\n",
       "      <td>...</td>\n",
       "      <td>...</td>\n",
       "      <td>...</td>\n",
       "      <td>...</td>\n",
       "      <td>...</td>\n",
       "      <td>...</td>\n",
       "      <td>...</td>\n",
       "      <td>...</td>\n",
       "    </tr>\n",
       "    <tr>\n",
       "      <th>315</th>\n",
       "      <td>validation</td>\n",
       "      <td>3200000</td>\n",
       "      <td>NaN</td>\n",
       "      <td>-120.577934</td>\n",
       "      <td>-71.805774</td>\n",
       "      <td>-94.092577</td>\n",
       "      <td>-97.060278</td>\n",
       "      <td>19.227033</td>\n",
       "      <td>-62.593173</td>\n",
       "      <td>-38.125183</td>\n",
       "      <td>...</td>\n",
       "      <td>NaN</td>\n",
       "      <td>NaN</td>\n",
       "      <td>0 days 00:00:04.336751</td>\n",
       "      <td>1e-10</td>\n",
       "      <td>5e-05</td>\n",
       "      <td>[0, 1, 2]</td>\n",
       "      <td>OpinionNetFixedW</td>\n",
       "      <td>d:\\Work\\repos\\RL\\phd-rl-algos\\dqn\\opinion_dyna...</td>\n",
       "      <td>1</td>\n",
       "      <td>0003_optim.args_.eps_1e-10__optim.args_.lr_5e-...</td>\n",
       "    </tr>\n",
       "    <tr>\n",
       "      <th>316</th>\n",
       "      <td>validation</td>\n",
       "      <td>3400000</td>\n",
       "      <td>NaN</td>\n",
       "      <td>-120.115803</td>\n",
       "      <td>-75.782920</td>\n",
       "      <td>-96.823940</td>\n",
       "      <td>-97.060278</td>\n",
       "      <td>15.834213</td>\n",
       "      <td>-62.484175</td>\n",
       "      <td>-39.302082</td>\n",
       "      <td>...</td>\n",
       "      <td>NaN</td>\n",
       "      <td>NaN</td>\n",
       "      <td>0 days 00:00:04.405585</td>\n",
       "      <td>1e-10</td>\n",
       "      <td>5e-05</td>\n",
       "      <td>[0, 1, 2]</td>\n",
       "      <td>OpinionNetFixedW</td>\n",
       "      <td>d:\\Work\\repos\\RL\\phd-rl-algos\\dqn\\opinion_dyna...</td>\n",
       "      <td>1</td>\n",
       "      <td>0003_optim.args_.eps_1e-10__optim.args_.lr_5e-...</td>\n",
       "    </tr>\n",
       "    <tr>\n",
       "      <th>317</th>\n",
       "      <td>validation</td>\n",
       "      <td>3600000</td>\n",
       "      <td>NaN</td>\n",
       "      <td>-120.577934</td>\n",
       "      <td>-75.782920</td>\n",
       "      <td>-100.944571</td>\n",
       "      <td>-97.060278</td>\n",
       "      <td>18.745405</td>\n",
       "      <td>-62.593173</td>\n",
       "      <td>-39.302082</td>\n",
       "      <td>...</td>\n",
       "      <td>NaN</td>\n",
       "      <td>NaN</td>\n",
       "      <td>0 days 00:00:04.924188</td>\n",
       "      <td>1e-10</td>\n",
       "      <td>5e-05</td>\n",
       "      <td>[0, 1, 2]</td>\n",
       "      <td>OpinionNetFixedW</td>\n",
       "      <td>d:\\Work\\repos\\RL\\phd-rl-algos\\dqn\\opinion_dyna...</td>\n",
       "      <td>1</td>\n",
       "      <td>0003_optim.args_.eps_1e-10__optim.args_.lr_5e-...</td>\n",
       "    </tr>\n",
       "    <tr>\n",
       "      <th>318</th>\n",
       "      <td>validation</td>\n",
       "      <td>3800000</td>\n",
       "      <td>NaN</td>\n",
       "      <td>-120.577934</td>\n",
       "      <td>-72.819288</td>\n",
       "      <td>-93.794049</td>\n",
       "      <td>-93.957071</td>\n",
       "      <td>19.027011</td>\n",
       "      <td>-62.593173</td>\n",
       "      <td>-38.043786</td>\n",
       "      <td>...</td>\n",
       "      <td>NaN</td>\n",
       "      <td>NaN</td>\n",
       "      <td>0 days 00:00:04.376814</td>\n",
       "      <td>1e-10</td>\n",
       "      <td>5e-05</td>\n",
       "      <td>[0, 1, 2]</td>\n",
       "      <td>OpinionNetFixedW</td>\n",
       "      <td>d:\\Work\\repos\\RL\\phd-rl-algos\\dqn\\opinion_dyna...</td>\n",
       "      <td>1</td>\n",
       "      <td>0003_optim.args_.eps_1e-10__optim.args_.lr_5e-...</td>\n",
       "    </tr>\n",
       "    <tr>\n",
       "      <th>319</th>\n",
       "      <td>validation</td>\n",
       "      <td>4000000</td>\n",
       "      <td>NaN</td>\n",
       "      <td>-120.577934</td>\n",
       "      <td>-75.782920</td>\n",
       "      <td>-97.700363</td>\n",
       "      <td>-97.060278</td>\n",
       "      <td>16.939996</td>\n",
       "      <td>-62.593173</td>\n",
       "      <td>-39.302082</td>\n",
       "      <td>...</td>\n",
       "      <td>NaN</td>\n",
       "      <td>NaN</td>\n",
       "      <td>0 days 00:00:03.071003</td>\n",
       "      <td>1e-10</td>\n",
       "      <td>5e-05</td>\n",
       "      <td>[0, 1, 2]</td>\n",
       "      <td>OpinionNetFixedW</td>\n",
       "      <td>d:\\Work\\repos\\RL\\phd-rl-algos\\dqn\\opinion_dyna...</td>\n",
       "      <td>1</td>\n",
       "      <td>0003_optim.args_.eps_1e-10__optim.args_.lr_5e-...</td>\n",
       "    </tr>\n",
       "  </tbody>\n",
       "</table>\n",
       "<p>160 rows × 38 columns</p>\n",
       "</div>"
      ],
      "text/plain": [
       "     epoch_type  frame_stamp  greedy_epsilon  episode_rewards_min  \\\n",
       "20   validation       200000             NaN           -98.327823   \n",
       "21   validation       400000             NaN          -120.577934   \n",
       "22   validation       600000             NaN           -15.659566   \n",
       "23   validation       800000             NaN           -15.659566   \n",
       "24   validation      1000000             NaN           -15.718010   \n",
       "..          ...          ...             ...                  ...   \n",
       "315  validation      3200000             NaN          -120.577934   \n",
       "316  validation      3400000             NaN          -120.115803   \n",
       "317  validation      3600000             NaN          -120.577934   \n",
       "318  validation      3800000             NaN          -120.577934   \n",
       "319  validation      4000000             NaN          -120.577934   \n",
       "\n",
       "     episode_rewards_max  episode_rewards_mean  episode_rewards_median  \\\n",
       "20            -75.782920            -85.037950              -85.630623   \n",
       "21            -75.782920            -97.700363              -97.060278   \n",
       "22             -9.516581            -12.401706              -11.901892   \n",
       "23             -9.516581            -12.501484              -11.901892   \n",
       "24             -9.516581            -12.197257              -11.901892   \n",
       "..                   ...                   ...                     ...   \n",
       "315           -71.805774            -94.092577              -97.060278   \n",
       "316           -75.782920            -96.823940              -97.060278   \n",
       "317           -75.782920           -100.944571              -97.060278   \n",
       "318           -72.819288            -93.794049              -93.957071   \n",
       "319           -75.782920            -97.700363              -97.060278   \n",
       "\n",
       "     episode_rewards_std  episode_discounted_rewards_min  \\\n",
       "20              9.342000                      -51.330502   \n",
       "21             16.939996                      -62.593173   \n",
       "22              2.568707                      -13.555535   \n",
       "23              2.507876                      -13.555535   \n",
       "24              2.482403                      -13.591694   \n",
       "..                   ...                             ...   \n",
       "315            19.227033                      -62.593173   \n",
       "316            15.834213                      -62.484175   \n",
       "317            18.745405                      -62.593173   \n",
       "318            19.027011                      -62.593173   \n",
       "319            16.939996                      -62.593173   \n",
       "\n",
       "     episode_discounted_rewards_max  ...  policy_trained_times  \\\n",
       "20                       -39.302082  ...                   NaN   \n",
       "21                       -39.302082  ...                   NaN   \n",
       "22                        -8.359757  ...                   NaN   \n",
       "23                        -8.359757  ...                   NaN   \n",
       "24                        -8.359757  ...                   NaN   \n",
       "..                              ...  ...                   ...   \n",
       "315                      -38.125183  ...                   NaN   \n",
       "316                      -39.302082  ...                   NaN   \n",
       "317                      -39.302082  ...                   NaN   \n",
       "318                      -38.043786  ...                   NaN   \n",
       "319                      -39.302082  ...                   NaN   \n",
       "\n",
       "     target_trained_times             epoch_time  sub_exp_cfg_optim.args_.eps  \\\n",
       "20                    NaN 0 days 00:00:04.358316                        1e-09   \n",
       "21                    NaN 0 days 00:00:04.176975                        1e-09   \n",
       "22                    NaN 0 days 00:00:04.266965                        1e-09   \n",
       "23                    NaN 0 days 00:00:04.357986                        1e-09   \n",
       "24                    NaN 0 days 00:00:04.157769                        1e-09   \n",
       "..                    ...                    ...                          ...   \n",
       "315                   NaN 0 days 00:00:04.336751                        1e-10   \n",
       "316                   NaN 0 days 00:00:04.405585                        1e-10   \n",
       "317                   NaN 0 days 00:00:04.924188                        1e-10   \n",
       "318                   NaN 0 days 00:00:04.376814                        1e-10   \n",
       "319                   NaN 0 days 00:00:03.071003                        1e-10   \n",
       "\n",
       "     sub_exp_cfg_optim.args_.lr  sub_exp_cfg_agent_params.args_.betas  \\\n",
       "20                        1e-06                             [0, 1, 2]   \n",
       "21                        1e-06                             [0, 1, 2]   \n",
       "22                        1e-06                             [0, 1, 2]   \n",
       "23                        1e-06                             [0, 1, 2]   \n",
       "24                        1e-06                             [0, 1, 2]   \n",
       "..                          ...                                   ...   \n",
       "315                       5e-05                             [0, 1, 2]   \n",
       "316                       5e-05                             [0, 1, 2]   \n",
       "317                       5e-05                             [0, 1, 2]   \n",
       "318                       5e-05                             [0, 1, 2]   \n",
       "319                       5e-05                             [0, 1, 2]   \n",
       "\n",
       "     sub_exp_cfg_agent_params.model  \\\n",
       "20                 OpinionNetFixedW   \n",
       "21                 OpinionNetFixedW   \n",
       "22                 OpinionNetFixedW   \n",
       "23                 OpinionNetFixedW   \n",
       "24                 OpinionNetFixedW   \n",
       "..                              ...   \n",
       "315                OpinionNetFixedW   \n",
       "316                OpinionNetFixedW   \n",
       "317                OpinionNetFixedW   \n",
       "318                OpinionNetFixedW   \n",
       "319                OpinionNetFixedW   \n",
       "\n",
       "                                   sub_experiment_path  seed  \\\n",
       "20   d:\\Work\\repos\\RL\\phd-rl-algos\\dqn\\opinion_dyna...     0   \n",
       "21   d:\\Work\\repos\\RL\\phd-rl-algos\\dqn\\opinion_dyna...     0   \n",
       "22   d:\\Work\\repos\\RL\\phd-rl-algos\\dqn\\opinion_dyna...     0   \n",
       "23   d:\\Work\\repos\\RL\\phd-rl-algos\\dqn\\opinion_dyna...     0   \n",
       "24   d:\\Work\\repos\\RL\\phd-rl-algos\\dqn\\opinion_dyna...     0   \n",
       "..                                                 ...   ...   \n",
       "315  d:\\Work\\repos\\RL\\phd-rl-algos\\dqn\\opinion_dyna...     1   \n",
       "316  d:\\Work\\repos\\RL\\phd-rl-algos\\dqn\\opinion_dyna...     1   \n",
       "317  d:\\Work\\repos\\RL\\phd-rl-algos\\dqn\\opinion_dyna...     1   \n",
       "318  d:\\Work\\repos\\RL\\phd-rl-algos\\dqn\\opinion_dyna...     1   \n",
       "319  d:\\Work\\repos\\RL\\phd-rl-algos\\dqn\\opinion_dyna...     1   \n",
       "\n",
       "                                       experiment_name  \n",
       "20   0000_optim.args_.eps_1e-09__optim.args_.lr_1e-...  \n",
       "21   0000_optim.args_.eps_1e-09__optim.args_.lr_1e-...  \n",
       "22   0000_optim.args_.eps_1e-09__optim.args_.lr_1e-...  \n",
       "23   0000_optim.args_.eps_1e-09__optim.args_.lr_1e-...  \n",
       "24   0000_optim.args_.eps_1e-09__optim.args_.lr_1e-...  \n",
       "..                                                 ...  \n",
       "315  0003_optim.args_.eps_1e-10__optim.args_.lr_5e-...  \n",
       "316  0003_optim.args_.eps_1e-10__optim.args_.lr_5e-...  \n",
       "317  0003_optim.args_.eps_1e-10__optim.args_.lr_5e-...  \n",
       "318  0003_optim.args_.eps_1e-10__optim.args_.lr_5e-...  \n",
       "319  0003_optim.args_.eps_1e-10__optim.args_.lr_5e-...  \n",
       "\n",
       "[160 rows x 38 columns]"
      ]
     },
     "execution_count": 82,
     "metadata": {},
     "output_type": "execute_result"
    }
   ],
   "source": [
    "df[df['epoch_type'] == 'validation']\n",
    "# df[df['epoch_type'] == 'training']\n"
   ]
  },
  {
   "cell_type": "code",
   "execution_count": 83,
   "metadata": {},
   "outputs": [
    {
     "name": "stdout",
     "output_type": "stream",
     "text": [
      "Best hyperparameters:\n",
      "sub_exp_cfg_optim.args_.eps                        1e-09\n",
      "sub_exp_cfg_optim.args_.lr                         1e-06\n",
      "sub_exp_cfg_agent_params.args_.betas           [0, 1, 2]\n",
      "sub_exp_cfg_agent_params.model          OpinionNetFixedW\n",
      "Name: 0, dtype: object\n",
      "Best mean reward: -10.427869901255166\n"
     ]
    }
   ],
   "source": [
    "# Define hyperparameter columns\n",
    "hyperparam_columns = [col for col in df.columns if \"sub_exp_cfg\" in col]\n",
    "\n",
    "# Group by hyperparameter values and compute mean episode_rewards_mean\n",
    "averaged_results = df.groupby(hyperparam_columns, as_index=False).agg({\n",
    "    'episode_rewards_mean': 'mean',  # Averaging the performance metric\n",
    "    'sub_experiment_path': 'first'   # Keep a reference to an experiment path\n",
    "})\n",
    "\n",
    "# Find the best hyperparameter set based on the highest mean reward\n",
    "best_row = averaged_results.loc[averaged_results['episode_rewards_mean'].idxmax()]\n",
    "\n",
    "# Print the best experiment path and hyperparameters\n",
    "print(f\"Best hyperparameters:\\n{best_row[hyperparam_columns]}\")\n",
    "print(f\"Best mean reward: {best_row['episode_rewards_mean']}\")"
   ]
  },
  {
   "cell_type": "code",
   "execution_count": 84,
   "metadata": {},
   "outputs": [
    {
     "data": {
      "text/html": [
       "<div>\n",
       "<style scoped>\n",
       "    .dataframe tbody tr th:only-of-type {\n",
       "        vertical-align: middle;\n",
       "    }\n",
       "\n",
       "    .dataframe tbody tr th {\n",
       "        vertical-align: top;\n",
       "    }\n",
       "\n",
       "    .dataframe thead th {\n",
       "        text-align: right;\n",
       "    }\n",
       "</style>\n",
       "<table border=\"1\" class=\"dataframe\">\n",
       "  <thead>\n",
       "    <tr style=\"text-align: right;\">\n",
       "      <th></th>\n",
       "      <th>sub_exp_cfg_optim.args_.eps</th>\n",
       "      <th>sub_exp_cfg_optim.args_.lr</th>\n",
       "      <th>sub_exp_cfg_agent_params.args_.betas</th>\n",
       "      <th>sub_exp_cfg_agent_params.model</th>\n",
       "      <th>episode_rewards_mean</th>\n",
       "      <th>sub_experiment_path</th>\n",
       "    </tr>\n",
       "  </thead>\n",
       "  <tbody>\n",
       "    <tr>\n",
       "      <th>0</th>\n",
       "      <td>1e-09</td>\n",
       "      <td>1e-06</td>\n",
       "      <td>[0, 1, 2]</td>\n",
       "      <td>OpinionNetFixedW</td>\n",
       "      <td>-10.427870</td>\n",
       "      <td>d:\\Work\\repos\\RL\\phd-rl-algos\\dqn\\opinion_dyna...</td>\n",
       "    </tr>\n",
       "    <tr>\n",
       "      <th>1</th>\n",
       "      <td>1e-09</td>\n",
       "      <td>5e-05</td>\n",
       "      <td>[0, 1, 2]</td>\n",
       "      <td>OpinionNetFixedW</td>\n",
       "      <td>-35.156921</td>\n",
       "      <td>d:\\Work\\repos\\RL\\phd-rl-algos\\dqn\\opinion_dyna...</td>\n",
       "    </tr>\n",
       "    <tr>\n",
       "      <th>2</th>\n",
       "      <td>1e-10</td>\n",
       "      <td>1e-06</td>\n",
       "      <td>[0, 1, 2]</td>\n",
       "      <td>OpinionNetFixedW</td>\n",
       "      <td>-10.428918</td>\n",
       "      <td>d:\\Work\\repos\\RL\\phd-rl-algos\\dqn\\opinion_dyna...</td>\n",
       "    </tr>\n",
       "    <tr>\n",
       "      <th>3</th>\n",
       "      <td>1e-10</td>\n",
       "      <td>5e-05</td>\n",
       "      <td>[0, 1, 2]</td>\n",
       "      <td>OpinionNetFixedW</td>\n",
       "      <td>-35.156776</td>\n",
       "      <td>d:\\Work\\repos\\RL\\phd-rl-algos\\dqn\\opinion_dyna...</td>\n",
       "    </tr>\n",
       "  </tbody>\n",
       "</table>\n",
       "</div>"
      ],
      "text/plain": [
       "  sub_exp_cfg_optim.args_.eps sub_exp_cfg_optim.args_.lr  \\\n",
       "0                       1e-09                      1e-06   \n",
       "1                       1e-09                      5e-05   \n",
       "2                       1e-10                      1e-06   \n",
       "3                       1e-10                      5e-05   \n",
       "\n",
       "  sub_exp_cfg_agent_params.args_.betas sub_exp_cfg_agent_params.model  \\\n",
       "0                            [0, 1, 2]               OpinionNetFixedW   \n",
       "1                            [0, 1, 2]               OpinionNetFixedW   \n",
       "2                            [0, 1, 2]               OpinionNetFixedW   \n",
       "3                            [0, 1, 2]               OpinionNetFixedW   \n",
       "\n",
       "   episode_rewards_mean                                sub_experiment_path  \n",
       "0            -10.427870  d:\\Work\\repos\\RL\\phd-rl-algos\\dqn\\opinion_dyna...  \n",
       "1            -35.156921  d:\\Work\\repos\\RL\\phd-rl-algos\\dqn\\opinion_dyna...  \n",
       "2            -10.428918  d:\\Work\\repos\\RL\\phd-rl-algos\\dqn\\opinion_dyna...  \n",
       "3            -35.156776  d:\\Work\\repos\\RL\\phd-rl-algos\\dqn\\opinion_dyna...  "
      ]
     },
     "execution_count": 84,
     "metadata": {},
     "output_type": "execute_result"
    }
   ],
   "source": [
    "averaged_results"
   ]
  },
  {
   "cell_type": "code",
   "execution_count": 85,
   "metadata": {},
   "outputs": [],
   "source": [
    "# selected_metric = 'episode_rewards_mean'\n",
    "# hue_col = \"sub_exp_cfg_agent_params.args_.action_w_noise_amplitude\"\n",
    "\n",
    "# # Filter for validation episodes\n",
    "# validation_df = df[df['epoch_type'] == 'validation']\n",
    "\n",
    "# # Get the unique sorted frame_stamp values\n",
    "# unique_frames = np.sort(validation_df['frame_stamp'].unique())\n",
    "# N = 1\n",
    "# # Get all frame_stamp values after the first N unique ones\n",
    "# filtered_frames = unique_frames[N:]\n",
    "\n",
    "# # Filter the DataFrame to only include rows with these frame_stamp values\n",
    "# filtered_df = validation_df[validation_df['frame_stamp'].isin(filtered_frames)]\n",
    "\n",
    "# plt.figure(figsize=(10, 6))\n",
    "# sns.lineplot(data=filtered_df, x='frame_stamp', y=selected_metric, hue=hue_col)\n",
    "# plt.ylabel(selected_metric)\n",
    "# plt.xlabel('Frame Stamp')\n",
    "# plt.show()"
   ]
  },
  {
   "cell_type": "code",
   "execution_count": 86,
   "metadata": {},
   "outputs": [
    {
     "data": {
      "image/png": "[encoded data removed]",
      "text/plain": [
       "<Figure size 1000x600 with 1 Axes>"
      ]
     },
     "metadata": {},
     "output_type": "display_data"
    }
   ],
   "source": [
    "\n",
    "selected_metric = 'episode_discounted_rewards_mean'\n",
    "# hue_col = \"sub_exp_cfg_agent_params.args_.action_w_noise_amplitude\"\n",
    "hue_col = \"experiment_name\"\n",
    "\n",
    "validation_df = df[df['epoch_type'] == 'validation']\n",
    "# validation_df = df[df['epoch_type'] == 'training']\n",
    "\n",
    "\n",
    "# Create a new figure for each environment\n",
    "plt.figure(figsize=(10, 6))\n",
    "# sns.lineplot(data=df, x='frame_stamp', y=selected_metric, hue='model')\n",
    "sns.lineplot(data=validation_df, \n",
    "             x='frame_stamp', \n",
    "             y=selected_metric, \n",
    "             hue=hue_col,\n",
    "            #  units='seed', # Comment this to see mean + cf\n",
    "            #  estimator=None, # Comment this to see mean + cf\n",
    "             )\n",
    "\n",
    "plt.ylabel(selected_metric)\n",
    "plt.xlabel('Frame Stamp')\n",
    "\n",
    "# Place the legend outside the plot\n",
    "plt.legend(loc='center left', bbox_to_anchor=(1.0, 0.5), title='Parameters')\n",
    "plt.show()"
   ]
  },
  {
   "cell_type": "code",
   "execution_count": 87,
   "metadata": {},
   "outputs": [
    {
     "data": {
      "text/plain": [
       "Index(['epoch_type', 'frame_stamp', 'greedy_epsilon', 'episode_rewards_min',\n",
       "       'episode_rewards_max', 'episode_rewards_mean', 'episode_rewards_median',\n",
       "       'episode_rewards_std', 'episode_discounted_rewards_min',\n",
       "       'episode_discounted_rewards_max', 'episode_discounted_rewards_mean',\n",
       "       'episode_discounted_rewards_median', 'episode_discounted_rewards_std',\n",
       "       'episode_frames_min', 'episode_frames_max', 'episode_frames_mean',\n",
       "       'episode_frames_median', 'episode_frames_std', 'episode_losses_min',\n",
       "       'episode_losses_max', 'episode_losses_mean', 'episode_losses_median',\n",
       "       'episode_losses_std', 'episode_max_qs_min', 'episode_max_qs_max',\n",
       "       'episode_max_qs_mean', 'episode_max_qs_median', 'episode_max_qs_std',\n",
       "       'policy_trained_times', 'target_trained_times', 'epoch_time',\n",
       "       'sub_exp_cfg_optim.args_.eps', 'sub_exp_cfg_optim.args_.lr',\n",
       "       'sub_exp_cfg_agent_params.args_.betas',\n",
       "       'sub_exp_cfg_agent_params.model', 'sub_experiment_path', 'seed',\n",
       "       'experiment_name'],\n",
       "      dtype='object')"
      ]
     },
     "execution_count": 87,
     "metadata": {},
     "output_type": "execute_result"
    }
   ],
   "source": [
    "df.columns"
   ]
  },
  {
   "cell_type": "markdown",
   "metadata": {},
   "source": []
  },
  {
   "cell_type": "code",
   "execution_count": 88,
   "metadata": {},
   "outputs": [
    {
     "data": {
      "image/png": "[encoded data removed]",
      "text/plain": [
       "<Figure size 1000x600 with 1 Axes>"
      ]
     },
     "metadata": {},
     "output_type": "display_data"
    }
   ],
   "source": [
    "import matplotlib.pyplot as plt\n",
    "import seaborn as sns\n",
    "\n",
    "selected_metric = 'episode_frames_mean'\n",
    "hue_col = \"experiment_name\"  # or another distinguishing column like \"sub_experiment_path\"\n",
    "\n",
    "validation_df = df[df['epoch_type'] == 'validation']\n",
    "\n",
    "# Plot individual lines for each run\n",
    "plt.figure(figsize=(10, 6))\n",
    "sns.lineplot(\n",
    "    data=validation_df,\n",
    "    x='frame_stamp',\n",
    "    y=selected_metric,\n",
    "    hue=hue_col,\n",
    "    estimator=None,  # ← disables aggregation\n",
    "    units='sub_experiment_path',  # ← groups lines by unique run\n",
    "    lw=1,  # line width\n",
    "    alpha=0.7  # transparency\n",
    ")\n",
    "\n",
    "plt.ylabel(selected_metric)\n",
    "plt.xlabel('Frame Stamp')\n",
    "plt.title('Validation Reward Trajectories (Per Run)')\n",
    "\n",
    "# Move legend outside the plot\n",
    "plt.legend(loc='center left', bbox_to_anchor=(1.0, 0.5), title='Experiment')\n",
    "plt.tight_layout()\n",
    "plt.show()\n"
   ]
  },
  {
   "cell_type": "code",
   "execution_count": 89,
   "metadata": {},
   "outputs": [
    {
     "data": {
      "text/html": [
       "<div>\n",
       "<style scoped>\n",
       "    .dataframe tbody tr th:only-of-type {\n",
       "        vertical-align: middle;\n",
       "    }\n",
       "\n",
       "    .dataframe tbody tr th {\n",
       "        vertical-align: top;\n",
       "    }\n",
       "\n",
       "    .dataframe thead th {\n",
       "        text-align: right;\n",
       "    }\n",
       "</style>\n",
       "<table border=\"1\" class=\"dataframe\">\n",
       "  <thead>\n",
       "    <tr style=\"text-align: right;\">\n",
       "      <th></th>\n",
       "      <th>epoch_type</th>\n",
       "      <th>frame_stamp</th>\n",
       "      <th>episode_rewards_mean</th>\n",
       "      <th>episode_frames_mean</th>\n",
       "      <th>episode_discounted_rewards_mean</th>\n",
       "      <th>policy_trained_times</th>\n",
       "      <th>target_trained_times</th>\n",
       "      <th>epoch_time</th>\n",
       "      <th>seed</th>\n",
       "      <th>experiment_name</th>\n",
       "      <th>sub_experiment_path</th>\n",
       "      <th>sub_exp_cfg_optim.args_.eps</th>\n",
       "      <th>sub_exp_cfg_optim.args_.lr</th>\n",
       "      <th>sub_exp_cfg_agent_params.args_.betas</th>\n",
       "      <th>sub_exp_cfg_agent_params.model</th>\n",
       "    </tr>\n",
       "  </thead>\n",
       "  <tbody>\n",
       "    <tr>\n",
       "      <th>39</th>\n",
       "      <td>validation</td>\n",
       "      <td>4000000</td>\n",
       "      <td>-12.194335</td>\n",
       "      <td>50.100000</td>\n",
       "      <td>-10.622183</td>\n",
       "      <td>NaN</td>\n",
       "      <td>NaN</td>\n",
       "      <td>0 days 00:00:03.963677</td>\n",
       "      <td>0</td>\n",
       "      <td>0000_optim.args_.eps_1e-09__optim.args_.lr_1e-...</td>\n",
       "      <td>d:\\Work\\repos\\RL\\phd-rl-algos\\dqn\\opinion_dyna...</td>\n",
       "      <td>1e-09</td>\n",
       "      <td>1e-06</td>\n",
       "      <td>[0, 1, 2]</td>\n",
       "      <td>OpinionNetFixedW</td>\n",
       "    </tr>\n",
       "    <tr>\n",
       "      <th>79</th>\n",
       "      <td>validation</td>\n",
       "      <td>4000000</td>\n",
       "      <td>-6.351966</td>\n",
       "      <td>24.333333</td>\n",
       "      <td>-5.959739</td>\n",
       "      <td>NaN</td>\n",
       "      <td>NaN</td>\n",
       "      <td>0 days 00:00:03.944957</td>\n",
       "      <td>1</td>\n",
       "      <td>0000_optim.args_.eps_1e-09__optim.args_.lr_1e-...</td>\n",
       "      <td>d:\\Work\\repos\\RL\\phd-rl-algos\\dqn\\opinion_dyna...</td>\n",
       "      <td>1e-09</td>\n",
       "      <td>1e-06</td>\n",
       "      <td>[0, 1, 2]</td>\n",
       "      <td>OpinionNetFixedW</td>\n",
       "    </tr>\n",
       "    <tr>\n",
       "      <th>119</th>\n",
       "      <td>validation</td>\n",
       "      <td>4000000</td>\n",
       "      <td>-12.194335</td>\n",
       "      <td>50.100000</td>\n",
       "      <td>-10.622183</td>\n",
       "      <td>NaN</td>\n",
       "      <td>NaN</td>\n",
       "      <td>0 days 00:00:02.891830</td>\n",
       "      <td>0</td>\n",
       "      <td>0001_optim.args_.eps_1e-09__optim.args_.lr_5e-...</td>\n",
       "      <td>d:\\Work\\repos\\RL\\phd-rl-algos\\dqn\\opinion_dyna...</td>\n",
       "      <td>1e-09</td>\n",
       "      <td>5e-05</td>\n",
       "      <td>[0, 1, 2]</td>\n",
       "      <td>OpinionNetFixedW</td>\n",
       "    </tr>\n",
       "    <tr>\n",
       "      <th>159</th>\n",
       "      <td>validation</td>\n",
       "      <td>4000000</td>\n",
       "      <td>-97.700363</td>\n",
       "      <td>150.000000</td>\n",
       "      <td>-50.602327</td>\n",
       "      <td>NaN</td>\n",
       "      <td>NaN</td>\n",
       "      <td>0 days 00:00:03.100511</td>\n",
       "      <td>1</td>\n",
       "      <td>0001_optim.args_.eps_1e-09__optim.args_.lr_5e-...</td>\n",
       "      <td>d:\\Work\\repos\\RL\\phd-rl-algos\\dqn\\opinion_dyna...</td>\n",
       "      <td>1e-09</td>\n",
       "      <td>5e-05</td>\n",
       "      <td>[0, 1, 2]</td>\n",
       "      <td>OpinionNetFixedW</td>\n",
       "    </tr>\n",
       "    <tr>\n",
       "      <th>199</th>\n",
       "      <td>validation</td>\n",
       "      <td>4000000</td>\n",
       "      <td>-12.194335</td>\n",
       "      <td>50.100000</td>\n",
       "      <td>-10.622183</td>\n",
       "      <td>NaN</td>\n",
       "      <td>NaN</td>\n",
       "      <td>0 days 00:00:04.263795</td>\n",
       "      <td>0</td>\n",
       "      <td>0002_optim.args_.eps_1e-10__optim.args_.lr_1e-...</td>\n",
       "      <td>d:\\Work\\repos\\RL\\phd-rl-algos\\dqn\\opinion_dyna...</td>\n",
       "      <td>1e-10</td>\n",
       "      <td>1e-06</td>\n",
       "      <td>[0, 1, 2]</td>\n",
       "      <td>OpinionNetFixedW</td>\n",
       "    </tr>\n",
       "    <tr>\n",
       "      <th>239</th>\n",
       "      <td>validation</td>\n",
       "      <td>4000000</td>\n",
       "      <td>-6.351966</td>\n",
       "      <td>24.333333</td>\n",
       "      <td>-5.959739</td>\n",
       "      <td>NaN</td>\n",
       "      <td>NaN</td>\n",
       "      <td>0 days 00:00:04.364858</td>\n",
       "      <td>1</td>\n",
       "      <td>0002_optim.args_.eps_1e-10__optim.args_.lr_1e-...</td>\n",
       "      <td>d:\\Work\\repos\\RL\\phd-rl-algos\\dqn\\opinion_dyna...</td>\n",
       "      <td>1e-10</td>\n",
       "      <td>1e-06</td>\n",
       "      <td>[0, 1, 2]</td>\n",
       "      <td>OpinionNetFixedW</td>\n",
       "    </tr>\n",
       "    <tr>\n",
       "      <th>279</th>\n",
       "      <td>validation</td>\n",
       "      <td>4000000</td>\n",
       "      <td>-12.194335</td>\n",
       "      <td>50.100000</td>\n",
       "      <td>-10.622183</td>\n",
       "      <td>NaN</td>\n",
       "      <td>NaN</td>\n",
       "      <td>0 days 00:00:03.059030</td>\n",
       "      <td>0</td>\n",
       "      <td>0003_optim.args_.eps_1e-10__optim.args_.lr_5e-...</td>\n",
       "      <td>d:\\Work\\repos\\RL\\phd-rl-algos\\dqn\\opinion_dyna...</td>\n",
       "      <td>1e-10</td>\n",
       "      <td>5e-05</td>\n",
       "      <td>[0, 1, 2]</td>\n",
       "      <td>OpinionNetFixedW</td>\n",
       "    </tr>\n",
       "    <tr>\n",
       "      <th>319</th>\n",
       "      <td>validation</td>\n",
       "      <td>4000000</td>\n",
       "      <td>-97.700363</td>\n",
       "      <td>150.000000</td>\n",
       "      <td>-50.602327</td>\n",
       "      <td>NaN</td>\n",
       "      <td>NaN</td>\n",
       "      <td>0 days 00:00:03.071003</td>\n",
       "      <td>1</td>\n",
       "      <td>0003_optim.args_.eps_1e-10__optim.args_.lr_5e-...</td>\n",
       "      <td>d:\\Work\\repos\\RL\\phd-rl-algos\\dqn\\opinion_dyna...</td>\n",
       "      <td>1e-10</td>\n",
       "      <td>5e-05</td>\n",
       "      <td>[0, 1, 2]</td>\n",
       "      <td>OpinionNetFixedW</td>\n",
       "    </tr>\n",
       "  </tbody>\n",
       "</table>\n",
       "</div>"
      ],
      "text/plain": [
       "     epoch_type  frame_stamp  episode_rewards_mean  episode_frames_mean  \\\n",
       "39   validation      4000000            -12.194335            50.100000   \n",
       "79   validation      4000000             -6.351966            24.333333   \n",
       "119  validation      4000000            -12.194335            50.100000   \n",
       "159  validation      4000000            -97.700363           150.000000   \n",
       "199  validation      4000000            -12.194335            50.100000   \n",
       "239  validation      4000000             -6.351966            24.333333   \n",
       "279  validation      4000000            -12.194335            50.100000   \n",
       "319  validation      4000000            -97.700363           150.000000   \n",
       "\n",
       "     episode_discounted_rewards_mean  policy_trained_times  \\\n",
       "39                        -10.622183                   NaN   \n",
       "79                         -5.959739                   NaN   \n",
       "119                       -10.622183                   NaN   \n",
       "159                       -50.602327                   NaN   \n",
       "199                       -10.622183                   NaN   \n",
       "239                        -5.959739                   NaN   \n",
       "279                       -10.622183                   NaN   \n",
       "319                       -50.602327                   NaN   \n",
       "\n",
       "     target_trained_times             epoch_time seed  \\\n",
       "39                    NaN 0 days 00:00:03.963677    0   \n",
       "79                    NaN 0 days 00:00:03.944957    1   \n",
       "119                   NaN 0 days 00:00:02.891830    0   \n",
       "159                   NaN 0 days 00:00:03.100511    1   \n",
       "199                   NaN 0 days 00:00:04.263795    0   \n",
       "239                   NaN 0 days 00:00:04.364858    1   \n",
       "279                   NaN 0 days 00:00:03.059030    0   \n",
       "319                   NaN 0 days 00:00:03.071003    1   \n",
       "\n",
       "                                       experiment_name  \\\n",
       "39   0000_optim.args_.eps_1e-09__optim.args_.lr_1e-...   \n",
       "79   0000_optim.args_.eps_1e-09__optim.args_.lr_1e-...   \n",
       "119  0001_optim.args_.eps_1e-09__optim.args_.lr_5e-...   \n",
       "159  0001_optim.args_.eps_1e-09__optim.args_.lr_5e-...   \n",
       "199  0002_optim.args_.eps_1e-10__optim.args_.lr_1e-...   \n",
       "239  0002_optim.args_.eps_1e-10__optim.args_.lr_1e-...   \n",
       "279  0003_optim.args_.eps_1e-10__optim.args_.lr_5e-...   \n",
       "319  0003_optim.args_.eps_1e-10__optim.args_.lr_5e-...   \n",
       "\n",
       "                                   sub_experiment_path  \\\n",
       "39   d:\\Work\\repos\\RL\\phd-rl-algos\\dqn\\opinion_dyna...   \n",
       "79   d:\\Work\\repos\\RL\\phd-rl-algos\\dqn\\opinion_dyna...   \n",
       "119  d:\\Work\\repos\\RL\\phd-rl-algos\\dqn\\opinion_dyna...   \n",
       "159  d:\\Work\\repos\\RL\\phd-rl-algos\\dqn\\opinion_dyna...   \n",
       "199  d:\\Work\\repos\\RL\\phd-rl-algos\\dqn\\opinion_dyna...   \n",
       "239  d:\\Work\\repos\\RL\\phd-rl-algos\\dqn\\opinion_dyna...   \n",
       "279  d:\\Work\\repos\\RL\\phd-rl-algos\\dqn\\opinion_dyna...   \n",
       "319  d:\\Work\\repos\\RL\\phd-rl-algos\\dqn\\opinion_dyna...   \n",
       "\n",
       "    sub_exp_cfg_optim.args_.eps sub_exp_cfg_optim.args_.lr  \\\n",
       "39                        1e-09                      1e-06   \n",
       "79                        1e-09                      1e-06   \n",
       "119                       1e-09                      5e-05   \n",
       "159                       1e-09                      5e-05   \n",
       "199                       1e-10                      1e-06   \n",
       "239                       1e-10                      1e-06   \n",
       "279                       1e-10                      5e-05   \n",
       "319                       1e-10                      5e-05   \n",
       "\n",
       "    sub_exp_cfg_agent_params.args_.betas sub_exp_cfg_agent_params.model  \n",
       "39                             [0, 1, 2]               OpinionNetFixedW  \n",
       "79                             [0, 1, 2]               OpinionNetFixedW  \n",
       "119                            [0, 1, 2]               OpinionNetFixedW  \n",
       "159                            [0, 1, 2]               OpinionNetFixedW  \n",
       "199                            [0, 1, 2]               OpinionNetFixedW  \n",
       "239                            [0, 1, 2]               OpinionNetFixedW  \n",
       "279                            [0, 1, 2]               OpinionNetFixedW  \n",
       "319                            [0, 1, 2]               OpinionNetFixedW  "
      ]
     },
     "execution_count": 89,
     "metadata": {},
     "output_type": "execute_result"
    }
   ],
   "source": [
    "### Select data\n",
    "\n",
    "experiment_columns = [\n",
    "    'epoch_type', 'frame_stamp',\n",
    "    'episode_rewards_mean', 'episode_frames_mean', \n",
    "    'episode_discounted_rewards_mean',\n",
    "    'policy_trained_times', 'target_trained_times', 'epoch_time', \n",
    "       'seed', 'experiment_name', \"sub_experiment_path\"\n",
    "]\n",
    "hyperparam_columns = [\n",
    "   col for col in df.columns if \"sub_exp_cfg\" in col\n",
    "]\n",
    "\n",
    "cols_of_interest = experiment_columns + hyperparam_columns\n",
    "\n",
    "sub_df = df[cols_of_interest]\n",
    "sub_df = sub_df[sub_df['epoch_type'] == 'validation']\n",
    "sub_df = sub_df[sub_df['frame_stamp'] == sub_df['frame_stamp'].max()]\n",
    "\n",
    "sub_df \n"
   ]
  },
  {
   "cell_type": "code",
   "execution_count": 90,
   "metadata": {},
   "outputs": [
    {
     "data": {
      "text/html": [
       "<div>\n",
       "<style scoped>\n",
       "    .dataframe tbody tr th:only-of-type {\n",
       "        vertical-align: middle;\n",
       "    }\n",
       "\n",
       "    .dataframe tbody tr th {\n",
       "        vertical-align: top;\n",
       "    }\n",
       "\n",
       "    .dataframe thead th {\n",
       "        text-align: right;\n",
       "    }\n",
       "</style>\n",
       "<table border=\"1\" class=\"dataframe\">\n",
       "  <thead>\n",
       "    <tr style=\"text-align: right;\">\n",
       "      <th></th>\n",
       "      <th>sub_exp_cfg_optim.args_.eps</th>\n",
       "      <th>sub_exp_cfg_optim.args_.lr</th>\n",
       "      <th>sub_exp_cfg_agent_params.args_.betas</th>\n",
       "      <th>sub_exp_cfg_agent_params.model</th>\n",
       "      <th>episode_discounted_rewards_mean</th>\n",
       "    </tr>\n",
       "  </thead>\n",
       "  <tbody>\n",
       "    <tr>\n",
       "      <th>0</th>\n",
       "      <td>1e-09</td>\n",
       "      <td>1e-06</td>\n",
       "      <td>[0, 1, 2]</td>\n",
       "      <td>OpinionNetFixedW</td>\n",
       "      <td>-8.290961</td>\n",
       "    </tr>\n",
       "    <tr>\n",
       "      <th>1</th>\n",
       "      <td>1e-09</td>\n",
       "      <td>5e-05</td>\n",
       "      <td>[0, 1, 2]</td>\n",
       "      <td>OpinionNetFixedW</td>\n",
       "      <td>-30.612255</td>\n",
       "    </tr>\n",
       "    <tr>\n",
       "      <th>2</th>\n",
       "      <td>1e-10</td>\n",
       "      <td>1e-06</td>\n",
       "      <td>[0, 1, 2]</td>\n",
       "      <td>OpinionNetFixedW</td>\n",
       "      <td>-8.290961</td>\n",
       "    </tr>\n",
       "    <tr>\n",
       "      <th>3</th>\n",
       "      <td>1e-10</td>\n",
       "      <td>5e-05</td>\n",
       "      <td>[0, 1, 2]</td>\n",
       "      <td>OpinionNetFixedW</td>\n",
       "      <td>-30.612255</td>\n",
       "    </tr>\n",
       "  </tbody>\n",
       "</table>\n",
       "</div>"
      ],
      "text/plain": [
       "  sub_exp_cfg_optim.args_.eps sub_exp_cfg_optim.args_.lr  \\\n",
       "0                       1e-09                      1e-06   \n",
       "1                       1e-09                      5e-05   \n",
       "2                       1e-10                      1e-06   \n",
       "3                       1e-10                      5e-05   \n",
       "\n",
       "  sub_exp_cfg_agent_params.args_.betas sub_exp_cfg_agent_params.model  \\\n",
       "0                            [0, 1, 2]               OpinionNetFixedW   \n",
       "1                            [0, 1, 2]               OpinionNetFixedW   \n",
       "2                            [0, 1, 2]               OpinionNetFixedW   \n",
       "3                            [0, 1, 2]               OpinionNetFixedW   \n",
       "\n",
       "   episode_discounted_rewards_mean  \n",
       "0                        -8.290961  \n",
       "1                       -30.612255  \n",
       "2                        -8.290961  \n",
       "3                       -30.612255  "
      ]
     },
     "execution_count": 90,
     "metadata": {},
     "output_type": "execute_result"
    }
   ],
   "source": [
    "agg_cols = [col for col in sub_df.columns if \"sub_exp_cfg\" in col]\n",
    "aggregated_df = (\n",
    "    sub_df.groupby(agg_cols)\n",
    "    .agg(episode_discounted_rewards_mean=(\"episode_discounted_rewards_mean\", \"mean\"))\n",
    "    .reset_index()\n",
    ")\n",
    "aggregated_df"
   ]
  },
  {
   "cell_type": "code",
   "execution_count": 91,
   "metadata": {},
   "outputs": [
    {
     "data": {
      "text/plain": [
       "Index(['epoch_type', 'frame_stamp', 'episode_rewards_mean',\n",
       "       'episode_frames_mean', 'episode_discounted_rewards_mean',\n",
       "       'policy_trained_times', 'target_trained_times', 'epoch_time', 'seed',\n",
       "       'experiment_name', 'sub_experiment_path', 'sub_exp_cfg_optim.args_.eps',\n",
       "       'sub_exp_cfg_optim.args_.lr', 'sub_exp_cfg_agent_params.args_.betas',\n",
       "       'sub_exp_cfg_agent_params.model'],\n",
       "      dtype='object')"
      ]
     },
     "execution_count": 91,
     "metadata": {},
     "output_type": "execute_result"
    }
   ],
   "source": [
    "sub_df.columns"
   ]
  },
  {
   "cell_type": "code",
   "execution_count": 92,
   "metadata": {},
   "outputs": [
    {
     "name": "stdout",
     "output_type": "stream",
     "text": [
      "d:\\Work\\repos\\RL\\phd-rl-algos\\dqn\\opinion_dynamics\\experiments\\results\\2025Aug28-014153_configs\\0000_optim.args_.eps_1e-09__optim.args_.lr_1e-06__agent_params.args_.betas__0__1__2___agent_params.model_OpinionNetFixedW\\1\n"
     ]
    }
   ],
   "source": [
    "print(sub_df[sub_df['episode_rewards_mean'] == sub_df['episode_rewards_mean'].max()]['sub_experiment_path'].values[0])\n",
    "\n"
   ]
  },
  {
   "cell_type": "code",
   "execution_count": 93,
   "metadata": {},
   "outputs": [
    {
     "data": {
      "image/png": "[encoded data removed]",
      "text/plain": [
       "<Figure size 1000x600 with 1 Axes>"
      ]
     },
     "metadata": {},
     "output_type": "display_data"
    }
   ],
   "source": [
    "selected_metric = 'episode_rewards_mean'\n",
    "hue_col = \"experiment_name\"\n",
    "\n",
    "# Filter for training data only\n",
    "# training_df = df[df['epoch_type'] == 'training']\n",
    "training_df = df[df['epoch_type'] == 'validation']\n",
    "\n",
    "# Step 1: Find best experiment\n",
    "experiment_means = training_df.groupby(hue_col)[selected_metric].mean()\n",
    "best_experiment = experiment_means.idxmax()\n",
    "\n",
    "# Step 2: Filter to that experiment\n",
    "best_exp_df = training_df[training_df[hue_col] == best_experiment]\n",
    "\n",
    "# Step 3: Find best seed within best experiment\n",
    "best_seed = (\n",
    "    best_exp_df.groupby('seed')[selected_metric]\n",
    "    .mean()\n",
    "    .idxmax()\n",
    ")\n",
    "\n",
    "# Step 4: Filter to best seed\n",
    "best_seed_df = best_exp_df[best_exp_df['seed'] == best_seed]\n",
    "\n",
    "# Step 5: Plot\n",
    "plt.figure(figsize=(10, 6))\n",
    "sns.lineplot(\n",
    "    data=best_seed_df,\n",
    "    x='frame_stamp',\n",
    "    y=selected_metric,\n",
    "    lw=2,\n",
    "    label=f\"Seed {best_seed}\"\n",
    ")\n",
    "\n",
    "plt.title(f\"Best seed ({best_seed}) from best experiment: {best_experiment}\")\n",
    "plt.ylabel(selected_metric)\n",
    "plt.xlabel('Frame Stamp')\n",
    "plt.legend()\n",
    "plt.tight_layout()\n",
    "plt.show()"
   ]
  },
  {
   "cell_type": "code",
   "execution_count": 94,
   "metadata": {},
   "outputs": [
    {
     "data": {
      "image/png": "[encoded data removed]",
      "text/plain": [
       "<Figure size 800x310 with 2 Axes>"
      ]
     },
     "metadata": {},
     "output_type": "display_data"
    }
   ],
   "source": [
    "import shap\n",
    "import xgboost\n",
    "import pandas as pd\n",
    "\n",
    "\n",
    "# Define the target metric and hyperparameter columns\n",
    "target_metric = \"episode_rewards_mean\"  # Replace with actual metric column name\n",
    "# Replace with actual hyperparameter column names\n",
    "\n",
    "# Prepare data\n",
    "X = sub_df[hyperparam_columns].apply(pd.to_numeric, errors='coerce')\n",
    "y = sub_df[target_metric].fillna(3 * sub_df[target_metric].min())\n",
    "\n",
    "# Train an XGBoost model to analyze feature importance\n",
    "model = xgboost.XGBRegressor(objective=\"reg:squarederror\", n_estimators=100, random_state=42)\n",
    "model.fit(X, y)\n",
    "\n",
    "# SHAP analysis\n",
    "explainer = shap.Explainer(model)\n",
    "shap_values = explainer(X)\n",
    "\n",
    "# Summary plot (feature importance)\n",
    "shap.summary_plot(shap_values, X)"
   ]
  },
  {
   "cell_type": "code",
   "execution_count": 95,
   "metadata": {},
   "outputs": [
    {
     "data": {
      "text/plain": [
       "['sub_exp_cfg_optim.args_.eps',\n",
       " 'sub_exp_cfg_optim.args_.lr',\n",
       " 'sub_exp_cfg_agent_params.args_.betas',\n",
       " 'sub_exp_cfg_agent_params.model']"
      ]
     },
     "execution_count": 95,
     "metadata": {},
     "output_type": "execute_result"
    }
   ],
   "source": [
    "hyperparam_columns"
   ]
  },
  {
   "cell_type": "code",
   "execution_count": 96,
   "metadata": {},
   "outputs": [
    {
     "data": {
      "application/vnd.plotly.v1+json": {
       "config": {
        "plotlyServerURL": "https://plot.ly"
       },
       "data": [
        {
         "hovertemplate": "experiment_name=0000_optim.args_.eps_1e-09__optim.args_.lr_1e-06__agent_params.args_.betas__0__1__2___agent_params.model_OpinionNetFixedW<br>size=1e-06<br>noise=%{x}<br>episode_rewards_mean=%{y}<extra></extra>",
         "legendgroup": "0000_optim.args_.eps_1e-09__optim.args_.lr_1e-06__agent_params.args_.betas__0__1__2___agent_params.model_OpinionNetFixedW",
         "marker": {
          "color": "#636efa",
          "symbol": "circle"
         },
         "mode": "markers",
         "name": "0000_optim.args_.eps_1e-09__optim.args_.lr_1e-06__agent_params.args_.betas__0__1__2___agent_params.model_OpinionNetFixedW",
         "orientation": "v",
         "showlegend": true,
         "type": "scatter",
         "x": [
          "1e-09",
          "1e-09"
         ],
         "xaxis": "x",
         "y": [
          -12.194335140607768,
          -6.351965951485458
         ],
         "yaxis": "y"
        },
        {
         "hovertemplate": "experiment_name=0001_optim.args_.eps_1e-09__optim.args_.lr_5e-05__agent_params.args_.betas__0__1__2___agent_params.model_OpinionNetFixedW<br>size=5e-05<br>noise=%{x}<br>episode_rewards_mean=%{y}<extra></extra>",
         "legendgroup": "0001_optim.args_.eps_1e-09__optim.args_.lr_5e-05__agent_params.args_.betas__0__1__2___agent_params.model_OpinionNetFixedW",
         "marker": {
          "color": "#EF553B",
          "symbol": "circle"
         },
         "mode": "markers",
         "name": "0001_optim.args_.eps_1e-09__optim.args_.lr_5e-05__agent_params.args_.betas__0__1__2___agent_params.model_OpinionNetFixedW",
         "orientation": "v",
         "showlegend": true,
         "type": "scatter",
         "x": [
          "1e-09",
          "1e-09"
         ],
         "xaxis": "x2",
         "y": [
          -12.194335140607768,
          -97.70036301160995
         ],
         "yaxis": "y2"
        },
        {
         "hovertemplate": "experiment_name=0002_optim.args_.eps_1e-10__optim.args_.lr_1e-06__agent_params.args_.betas__0__1__2___agent_params.model_OpinionNetFixedW<br>size=1e-06<br>noise=%{x}<br>episode_rewards_mean=%{y}<extra></extra>",
         "legendgroup": "0002_optim.args_.eps_1e-10__optim.args_.lr_1e-06__agent_params.args_.betas__0__1__2___agent_params.model_OpinionNetFixedW",
         "marker": {
          "color": "#00cc96",
          "symbol": "circle"
         },
         "mode": "markers",
         "name": "0002_optim.args_.eps_1e-10__optim.args_.lr_1e-06__agent_params.args_.betas__0__1__2___agent_params.model_OpinionNetFixedW",
         "orientation": "v",
         "showlegend": true,
         "type": "scatter",
         "x": [
          "1e-10",
          "1e-10"
         ],
         "xaxis": "x",
         "y": [
          -12.194335140607768,
          -6.351965951485458
         ],
         "yaxis": "y"
        },
        {
         "hovertemplate": "experiment_name=0003_optim.args_.eps_1e-10__optim.args_.lr_5e-05__agent_params.args_.betas__0__1__2___agent_params.model_OpinionNetFixedW<br>size=5e-05<br>noise=%{x}<br>episode_rewards_mean=%{y}<extra></extra>",
         "legendgroup": "0003_optim.args_.eps_1e-10__optim.args_.lr_5e-05__agent_params.args_.betas__0__1__2___agent_params.model_OpinionNetFixedW",
         "marker": {
          "color": "#ab63fa",
          "symbol": "circle"
         },
         "mode": "markers",
         "name": "0003_optim.args_.eps_1e-10__optim.args_.lr_5e-05__agent_params.args_.betas__0__1__2___agent_params.model_OpinionNetFixedW",
         "orientation": "v",
         "showlegend": true,
         "type": "scatter",
         "x": [
          "1e-10",
          "1e-10"
         ],
         "xaxis": "x2",
         "y": [
          -12.194335140607768,
          -97.70036301160995
         ],
         "yaxis": "y2"
        }
       ],
       "layout": {
        "annotations": [
         {
          "font": {},
          "showarrow": false,
          "text": "size=1e-06",
          "x": 0.245,
          "xanchor": "center",
          "xref": "paper",
          "y": 1,
          "yanchor": "bottom",
          "yref": "paper"
         },
         {
          "font": {},
          "showarrow": false,
          "text": "size=5e-05",
          "x": 0.755,
          "xanchor": "center",
          "xref": "paper",
          "y": 1,
          "yanchor": "bottom",
          "yref": "paper"
         }
        ],
        "height": 600,
        "legend": {
         "title": {
          "text": "experiment_name"
         },
         "tracegroupgap": 0
        },
        "showlegend": false,
        "template": {
         "data": {
          "bar": [
           {
            "error_x": {
             "color": "#2a3f5f"
            },
            "error_y": {
             "color": "#2a3f5f"
            },
            "marker": {
             "line": {
              "color": "#E5ECF6",
              "width": 0.5
             },
             "pattern": {
              "fillmode": "overlay",
              "size": 10,
              "solidity": 0.2
             }
            },
            "type": "bar"
           }
          ],
          "barpolar": [
           {
            "marker": {
             "line": {
              "color": "#E5ECF6",
              "width": 0.5
             },
             "pattern": {
              "fillmode": "overlay",
              "size": 10,
              "solidity": 0.2
             }
            },
            "type": "barpolar"
           }
          ],
          "carpet": [
           {
            "aaxis": {
             "endlinecolor": "#2a3f5f",
             "gridcolor": "white",
             "linecolor": "white",
             "minorgridcolor": "white",
             "startlinecolor": "#2a3f5f"
            },
            "baxis": {
             "endlinecolor": "#2a3f5f",
             "gridcolor": "white",
             "linecolor": "white",
             "minorgridcolor": "white",
             "startlinecolor": "#2a3f5f"
            },
            "type": "carpet"
           }
          ],
          "choropleth": [
           {
            "colorbar": {
             "outlinewidth": 0,
             "ticks": ""
            },
            "type": "choropleth"
           }
          ],
          "contour": [
           {
            "colorbar": {
             "outlinewidth": 0,
             "ticks": ""
            },
            "colorscale": [
             [
              0,
              "#0d0887"
             ],
             [
              0.1111111111111111,
              "#46039f"
             ],
             [
              0.2222222222222222,
              "#7201a8"
             ],
             [
              0.3333333333333333,
              "#9c179e"
             ],
             [
              0.4444444444444444,
              "#bd3786"
             ],
             [
              0.5555555555555556,
              "#d8576b"
             ],
             [
              0.6666666666666666,
              "#ed7953"
             ],
             [
              0.7777777777777778,
              "#fb9f3a"
             ],
             [
              0.8888888888888888,
              "#fdca26"
             ],
             [
              1,
              "#f0f921"
             ]
            ],
            "type": "contour"
           }
          ],
          "contourcarpet": [
           {
            "colorbar": {
             "outlinewidth": 0,
             "ticks": ""
            },
            "type": "contourcarpet"
           }
          ],
          "heatmap": [
           {
            "colorbar": {
             "outlinewidth": 0,
             "ticks": ""
            },
            "colorscale": [
             [
              0,
              "#0d0887"
             ],
             [
              0.1111111111111111,
              "#46039f"
             ],
             [
              0.2222222222222222,
              "#7201a8"
             ],
             [
              0.3333333333333333,
              "#9c179e"
             ],
             [
              0.4444444444444444,
              "#bd3786"
             ],
             [
              0.5555555555555556,
              "#d8576b"
             ],
             [
              0.6666666666666666,
              "#ed7953"
             ],
             [
              0.7777777777777778,
              "#fb9f3a"
             ],
             [
              0.8888888888888888,
              "#fdca26"
             ],
             [
              1,
              "#f0f921"
             ]
            ],
            "type": "heatmap"
           }
          ],
          "heatmapgl": [
           {
            "colorbar": {
             "outlinewidth": 0,
             "ticks": ""
            },
            "colorscale": [
             [
              0,
              "#0d0887"
             ],
             [
              0.1111111111111111,
              "#46039f"
             ],
             [
              0.2222222222222222,
              "#7201a8"
             ],
             [
              0.3333333333333333,
              "#9c179e"
             ],
             [
              0.4444444444444444,
              "#bd3786"
             ],
             [
              0.5555555555555556,
              "#d8576b"
             ],
             [
              0.6666666666666666,
              "#ed7953"
             ],
             [
              0.7777777777777778,
              "#fb9f3a"
             ],
             [
              0.8888888888888888,
              "#fdca26"
             ],
             [
              1,
              "#f0f921"
             ]
            ],
            "type": "heatmapgl"
           }
          ],
          "histogram": [
           {
            "marker": {
             "pattern": {
              "fillmode": "overlay",
              "size": 10,
              "solidity": 0.2
             }
            },
            "type": "histogram"
           }
          ],
          "histogram2d": [
           {
            "colorbar": {
             "outlinewidth": 0,
             "ticks": ""
            },
            "colorscale": [
             [
              0,
              "#0d0887"
             ],
             [
              0.1111111111111111,
              "#46039f"
             ],
             [
              0.2222222222222222,
              "#7201a8"
             ],
             [
              0.3333333333333333,
              "#9c179e"
             ],
             [
              0.4444444444444444,
              "#bd3786"
             ],
             [
              0.5555555555555556,
              "#d8576b"
             ],
             [
              0.6666666666666666,
              "#ed7953"
             ],
             [
              0.7777777777777778,
              "#fb9f3a"
             ],
             [
              0.8888888888888888,
              "#fdca26"
             ],
             [
              1,
              "#f0f921"
             ]
            ],
            "type": "histogram2d"
           }
          ],
          "histogram2dcontour": [
           {
            "colorbar": {
             "outlinewidth": 0,
             "ticks": ""
            },
            "colorscale": [
             [
              0,
              "#0d0887"
             ],
             [
              0.1111111111111111,
              "#46039f"
             ],
             [
              0.2222222222222222,
              "#7201a8"
             ],
             [
              0.3333333333333333,
              "#9c179e"
             ],
             [
              0.4444444444444444,
              "#bd3786"
             ],
             [
              0.5555555555555556,
              "#d8576b"
             ],
             [
              0.6666666666666666,
              "#ed7953"
             ],
             [
              0.7777777777777778,
              "#fb9f3a"
             ],
             [
              0.8888888888888888,
              "#fdca26"
             ],
             [
              1,
              "#f0f921"
             ]
            ],
            "type": "histogram2dcontour"
           }
          ],
          "mesh3d": [
           {
            "colorbar": {
             "outlinewidth": 0,
             "ticks": ""
            },
            "type": "mesh3d"
           }
          ],
          "parcoords": [
           {
            "line": {
             "colorbar": {
              "outlinewidth": 0,
              "ticks": ""
             }
            },
            "type": "parcoords"
           }
          ],
          "pie": [
           {
            "automargin": true,
            "type": "pie"
           }
          ],
          "scatter": [
           {
            "fillpattern": {
             "fillmode": "overlay",
             "size": 10,
             "solidity": 0.2
            },
            "type": "scatter"
           }
          ],
          "scatter3d": [
           {
            "line": {
             "colorbar": {
              "outlinewidth": 0,
              "ticks": ""
             }
            },
            "marker": {
             "colorbar": {
              "outlinewidth": 0,
              "ticks": ""
             }
            },
            "type": "scatter3d"
           }
          ],
          "scattercarpet": [
           {
            "marker": {
             "colorbar": {
              "outlinewidth": 0,
              "ticks": ""
             }
            },
            "type": "scattercarpet"
           }
          ],
          "scattergeo": [
           {
            "marker": {
             "colorbar": {
              "outlinewidth": 0,
              "ticks": ""
             }
            },
            "type": "scattergeo"
           }
          ],
          "scattergl": [
           {
            "marker": {
             "colorbar": {
              "outlinewidth": 0,
              "ticks": ""
             }
            },
            "type": "scattergl"
           }
          ],
          "scattermapbox": [
           {
            "marker": {
             "colorbar": {
              "outlinewidth": 0,
              "ticks": ""
             }
            },
            "type": "scattermapbox"
           }
          ],
          "scatterpolar": [
           {
            "marker": {
             "colorbar": {
              "outlinewidth": 0,
              "ticks": ""
             }
            },
            "type": "scatterpolar"
           }
          ],
          "scatterpolargl": [
           {
            "marker": {
             "colorbar": {
              "outlinewidth": 0,
              "ticks": ""
             }
            },
            "type": "scatterpolargl"
           }
          ],
          "scatterternary": [
           {
            "marker": {
             "colorbar": {
              "outlinewidth": 0,
              "ticks": ""
             }
            },
            "type": "scatterternary"
           }
          ],
          "surface": [
           {
            "colorbar": {
             "outlinewidth": 0,
             "ticks": ""
            },
            "colorscale": [
             [
              0,
              "#0d0887"
             ],
             [
              0.1111111111111111,
              "#46039f"
             ],
             [
              0.2222222222222222,
              "#7201a8"
             ],
             [
              0.3333333333333333,
              "#9c179e"
             ],
             [
              0.4444444444444444,
              "#bd3786"
             ],
             [
              0.5555555555555556,
              "#d8576b"
             ],
             [
              0.6666666666666666,
              "#ed7953"
             ],
             [
              0.7777777777777778,
              "#fb9f3a"
             ],
             [
              0.8888888888888888,
              "#fdca26"
             ],
             [
              1,
              "#f0f921"
             ]
            ],
            "type": "surface"
           }
          ],
          "table": [
           {
            "cells": {
             "fill": {
              "color": "#EBF0F8"
             },
             "line": {
              "color": "white"
             }
            },
            "header": {
             "fill": {
              "color": "#C8D4E3"
             },
             "line": {
              "color": "white"
             }
            },
            "type": "table"
           }
          ]
         },
         "layout": {
          "annotationdefaults": {
           "arrowcolor": "#2a3f5f",
           "arrowhead": 0,
           "arrowwidth": 1
          },
          "autotypenumbers": "strict",
          "coloraxis": {
           "colorbar": {
            "outlinewidth": 0,
            "ticks": ""
           }
          },
          "colorscale": {
           "diverging": [
            [
             0,
             "#8e0152"
            ],
            [
             0.1,
             "#c51b7d"
            ],
            [
             0.2,
             "#de77ae"
            ],
            [
             0.3,
             "#f1b6da"
            ],
            [
             0.4,
             "#fde0ef"
            ],
            [
             0.5,
             "#f7f7f7"
            ],
            [
             0.6,
             "#e6f5d0"
            ],
            [
             0.7,
             "#b8e186"
            ],
            [
             0.8,
             "#7fbc41"
            ],
            [
             0.9,
             "#4d9221"
            ],
            [
             1,
             "#276419"
            ]
           ],
           "sequential": [
            [
             0,
             "#0d0887"
            ],
            [
             0.1111111111111111,
             "#46039f"
            ],
            [
             0.2222222222222222,
             "#7201a8"
            ],
            [
             0.3333333333333333,
             "#9c179e"
            ],
            [
             0.4444444444444444,
             "#bd3786"
            ],
            [
             0.5555555555555556,
             "#d8576b"
            ],
            [
             0.6666666666666666,
             "#ed7953"
            ],
            [
             0.7777777777777778,
             "#fb9f3a"
            ],
            [
             0.8888888888888888,
             "#fdca26"
            ],
            [
             1,
             "#f0f921"
            ]
           ],
           "sequentialminus": [
            [
             0,
             "#0d0887"
            ],
            [
             0.1111111111111111,
             "#46039f"
            ],
            [
             0.2222222222222222,
             "#7201a8"
            ],
            [
             0.3333333333333333,
             "#9c179e"
            ],
            [
             0.4444444444444444,
             "#bd3786"
            ],
            [
             0.5555555555555556,
             "#d8576b"
            ],
            [
             0.6666666666666666,
             "#ed7953"
            ],
            [
             0.7777777777777778,
             "#fb9f3a"
            ],
            [
             0.8888888888888888,
             "#fdca26"
            ],
            [
             1,
             "#f0f921"
            ]
           ]
          },
          "colorway": [
           "#636efa",
           "#EF553B",
           "#00cc96",
           "#ab63fa",
           "#FFA15A",
           "#19d3f3",
           "#FF6692",
           "#B6E880",
           "#FF97FF",
           "#FECB52"
          ],
          "font": {
           "color": "#2a3f5f"
          },
          "geo": {
           "bgcolor": "white",
           "lakecolor": "white",
           "landcolor": "#E5ECF6",
           "showlakes": true,
           "showland": true,
           "subunitcolor": "white"
          },
          "hoverlabel": {
           "align": "left"
          },
          "hovermode": "closest",
          "mapbox": {
           "style": "light"
          },
          "paper_bgcolor": "white",
          "plot_bgcolor": "#E5ECF6",
          "polar": {
           "angularaxis": {
            "gridcolor": "white",
            "linecolor": "white",
            "ticks": ""
           },
           "bgcolor": "#E5ECF6",
           "radialaxis": {
            "gridcolor": "white",
            "linecolor": "white",
            "ticks": ""
           }
          },
          "scene": {
           "xaxis": {
            "backgroundcolor": "#E5ECF6",
            "gridcolor": "white",
            "gridwidth": 2,
            "linecolor": "white",
            "showbackground": true,
            "ticks": "",
            "zerolinecolor": "white"
           },
           "yaxis": {
            "backgroundcolor": "#E5ECF6",
            "gridcolor": "white",
            "gridwidth": 2,
            "linecolor": "white",
            "showbackground": true,
            "ticks": "",
            "zerolinecolor": "white"
           },
           "zaxis": {
            "backgroundcolor": "#E5ECF6",
            "gridcolor": "white",
            "gridwidth": 2,
            "linecolor": "white",
            "showbackground": true,
            "ticks": "",
            "zerolinecolor": "white"
           }
          },
          "shapedefaults": {
           "line": {
            "color": "#2a3f5f"
           }
          },
          "ternary": {
           "aaxis": {
            "gridcolor": "white",
            "linecolor": "white",
            "ticks": ""
           },
           "baxis": {
            "gridcolor": "white",
            "linecolor": "white",
            "ticks": ""
           },
           "bgcolor": "#E5ECF6",
           "caxis": {
            "gridcolor": "white",
            "linecolor": "white",
            "ticks": ""
           }
          },
          "title": {
           "x": 0.05
          },
          "xaxis": {
           "automargin": true,
           "gridcolor": "white",
           "linecolor": "white",
           "ticks": "",
           "title": {
            "standoff": 15
           },
           "zerolinecolor": "white",
           "zerolinewidth": 2
          },
          "yaxis": {
           "automargin": true,
           "gridcolor": "white",
           "linecolor": "white",
           "ticks": "",
           "title": {
            "standoff": 15
           },
           "zerolinecolor": "white",
           "zerolinewidth": 2
          }
         }
        },
        "title": {
         "text": "Episode Rewards vs. Noise Faceted by Size"
        },
        "xaxis": {
         "anchor": "y",
         "domain": [
          0,
          0.49
         ],
         "title": {
          "text": "noise"
         }
        },
        "xaxis2": {
         "anchor": "y2",
         "domain": [
          0.51,
          1
         ],
         "matches": "x",
         "title": {
          "text": "noise"
         }
        },
        "yaxis": {
         "anchor": "x",
         "domain": [
          0,
          1
         ],
         "title": {
          "text": "episode_rewards_mean"
         }
        },
        "yaxis2": {
         "anchor": "x2",
         "domain": [
          0,
          1
         ],
         "matches": "y",
         "showticklabels": false
        }
       }
      }
     },
     "metadata": {},
     "output_type": "display_data"
    }
   ],
   "source": [
    "import plotly.express as px\n",
    "\n",
    "# Define readable names for selected hyperparams\n",
    "readable_names = {\n",
    "    hyperparam_columns[0]: \"noise\",\n",
    "    hyperparam_columns[1]: \"size\"\n",
    "}\n",
    "\n",
    "# Rename columns in a copy of the dataframe\n",
    "plot_df = sub_df.rename(columns=readable_names)\n",
    "\n",
    "# Assign new column names\n",
    "x_col = \"noise\"\n",
    "y_col = \"episode_rewards_mean\"\n",
    "facet_col = \"size\"\n",
    "\n",
    "# Plot\n",
    "fig = px.scatter(\n",
    "    plot_df,\n",
    "    x=x_col,\n",
    "    y=y_col,\n",
    "    color=\"experiment_name\",  # Optional: color by experiment\n",
    "    facet_col=facet_col,\n",
    "    title=\"Episode Rewards vs. Noise Faceted by Size\",\n",
    "    height=600\n",
    ")\n",
    "\n",
    "fig.update_layout(showlegend=False)\n",
    "fig.show()\n"
   ]
  },
  {
   "cell_type": "code",
   "execution_count": null,
   "metadata": {},
   "outputs": [],
   "source": []
  }
 ],
 "metadata": {
  "kernelspec": {
   "display_name": "phd_rl_algos",
   "language": "python",
   "name": "python3"
  },
  "language_info": {
   "codemirror_mode": {
    "name": "ipython",
    "version": 3
   },
   "file_extension": ".py",
   "mimetype": "text/x-python",
   "name": "python",
   "nbconvert_exporter": "python",
   "pygments_lexer": "ipython3",
   "version": "3.11.5"
  }
 },
 "nbformat": 4,
 "nbformat_minor": 2
}
