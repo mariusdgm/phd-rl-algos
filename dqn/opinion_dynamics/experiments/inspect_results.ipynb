{
 "cells": [
  {
   "cell_type": "code",
   "execution_count": 27,
   "metadata": {},
   "outputs": [],
   "source": [
    "import os\n",
    "import pandas as pd\n",
    "import yaml\n",
    "import torch\n",
    "import collections\n",
    "\n",
    "import warnings\n",
    "import numpy as np\n",
    "\n",
    "import seaborn as sns\n",
    "import matplotlib.pyplot as plt\n",
    "sns.set_theme()\n",
    "\n",
    "warnings.filterwarnings(\"ignore\")"
   ]
  },
  {
   "cell_type": "code",
   "execution_count": 28,
   "metadata": {},
   "outputs": [],
   "source": [
    "def process_experiment(root_dir):\n",
    "    rows = []\n",
    "\n",
    "    for name in os.listdir(root_dir):\n",
    "        experiment_path = os.path.join(root_dir, name)\n",
    "        if os.path.isdir(experiment_path):\n",
    "            for seed_name in os.listdir(experiment_path):\n",
    "                seed_path = os.path.join(experiment_path, seed_name)\n",
    "                if os.path.isdir(seed_path):\n",
    "                    row_data = process_subexperiment(\n",
    "                        seed_path, os.path.basename(root_dir)\n",
    "                    )\n",
    "                    for data in row_data:\n",
    "                        data[\"seed\"] = seed_name\n",
    "                        data[\"experiment_name\"] = name\n",
    "                        data[\"sub_experiment_path\"] = seed_path\n",
    "                    rows.extend(row_data)  \n",
    "\n",
    "    # Create a DataFrame from the rows\n",
    "    df = pd.DataFrame(rows)\n",
    "    return df\n",
    "\n",
    "\n",
    "def process_subexperiment(seed_folder_path, experiment_name):\n",
    "    cfg_data = read_config(os.path.join(seed_folder_path, \"cfg.yaml\"), experiment_name)\n",
    "    cfg_data[\"sub_experiment_path\"] = seed_folder_path \n",
    "    train_stats_file = find_train_stats_file(seed_folder_path)\n",
    "    if train_stats_file:\n",
    "        experiment_results = process_training_stats(\n",
    "            train_stats_file, cfg_data\n",
    "        )\n",
    "        return experiment_results\n",
    "    else:\n",
    "        return []  # Return an empty list if no train stats file is found\n",
    "\n",
    "\n",
    "def read_config(cfg_path, experiment_name):\n",
    "    with open(cfg_path, \"r\") as file:\n",
    "        config = yaml.safe_load(file)\n",
    "        full_title = config.get(\"full_title\", \"\")\n",
    "        variable_part = remove_experiment_name(full_title, experiment_name)\n",
    "        return parse_config_variables(variable_part)\n",
    "\n",
    "\n",
    "def remove_experiment_name(full_title, experiment_name):\n",
    "    to_remove = experiment_name + \"_\"\n",
    "    return (\n",
    "        full_title[len(to_remove) :].strip()\n",
    "        if full_title.startswith(to_remove)\n",
    "        else full_title\n",
    "    )\n",
    "\n",
    "\n",
    "def parse_config_variables(variable_str):\n",
    "    variables = {}\n",
    "    for part in variable_str.split(\";\"):\n",
    "        if \"=\" in part:\n",
    "            key, value = part.split(\"=\", 1)\n",
    "            key = f\"sub_exp_cfg_{key.strip()}\"  # Add prefix\n",
    "            variables[key] = value.strip()\n",
    "    return variables\n",
    "\n",
    "\n",
    "def find_train_stats_file(folder_path):\n",
    "    for file in os.listdir(folder_path):\n",
    "        if file.endswith(\"_train_stats\"):\n",
    "            return os.path.join(folder_path, file)\n",
    "    return None\n",
    "\n",
    "\n",
    "def process_training_stats(train_stats_file, cfg_data):\n",
    "    checkpoint = torch.load(train_stats_file)\n",
    "\n",
    "    training_stats = checkpoint.get(\"training_stats\", [])\n",
    "    validation_stats = checkpoint.get(\"validation_stats\", [])\n",
    "    redo_stats = checkpoint.get(\"redo_scores\", [])\n",
    "\n",
    "    stats_records = process_stats(training_stats, cfg_data, \"training\") + process_stats(\n",
    "        validation_stats, cfg_data, \"validation\"\n",
    "    )\n",
    "\n",
    "    # Combine stats records with redo scores\n",
    "    combined_records = []\n",
    "    for record in stats_records:\n",
    "        combined_record = record.copy()  # Copy the stats record\n",
    "        combined_records.append(combined_record)\n",
    "\n",
    "    return combined_records\n",
    "\n",
    "\n",
    "def process_stats(stats, cfg_data, stats_type):\n",
    "    records = []\n",
    "    for epoch_stats in stats:\n",
    "        record = {\"epoch_type\": stats_type}\n",
    "        record.update(flatten(epoch_stats))  # Flatten the epoch_stats if it's nested\n",
    "        record.update(cfg_data)  # Add configuration data\n",
    "        records.append(record)\n",
    "    return records\n",
    "\n",
    "\n",
    "def flatten(d, parent_key=\"\", sep=\"_\"):\n",
    "    items = []\n",
    "    for k, v in d.items():\n",
    "        new_key = parent_key + sep + k if parent_key else k\n",
    "        if isinstance(v, collections.abc.MutableMapping):\n",
    "            items.extend(flatten(v, new_key, sep=sep).items())\n",
    "        else:\n",
    "            items.append((new_key, v))\n",
    "    return dict(items)"
   ]
  },
  {
   "cell_type": "code",
   "execution_count": 29,
   "metadata": {},
   "outputs": [
    {
     "data": {
      "text/plain": [
       "Index(['epoch_type', 'frame_stamp', 'episode_rewards_min',\n",
       "       'episode_rewards_max', 'episode_rewards_mean', 'episode_rewards_median',\n",
       "       'episode_rewards_std', 'episode_discounted_rewards_min',\n",
       "       'episode_discounted_rewards_max', 'episode_discounted_rewards_mean',\n",
       "       'episode_discounted_rewards_median', 'episode_discounted_rewards_std',\n",
       "       'episode_frames_min', 'episode_frames_max', 'episode_frames_mean',\n",
       "       'episode_frames_median', 'episode_frames_std', 'episode_losses_min',\n",
       "       'episode_losses_max', 'episode_losses_mean', 'episode_losses_median',\n",
       "       'episode_losses_std', 'episode_max_qs_min', 'episode_max_qs_max',\n",
       "       'episode_max_qs_mean', 'episode_max_qs_median', 'episode_max_qs_std',\n",
       "       'policy_trained_times', 'target_trained_times', 'epoch_time',\n",
       "       'sub_exp_cfg_agent_params.args_.action_w_noise_amplitude',\n",
       "       'sub_exp_cfg_estimator.args_.lin_hidden_out_size',\n",
       "       'sub_experiment_path', 'seed', 'experiment_name'],\n",
       "      dtype='object')"
      ]
     },
     "execution_count": 29,
     "metadata": {},
     "output_type": "execute_result"
    }
   ],
   "source": [
    "experiment_sub_dir = \"2025Mar21-013722_configs\"\n",
    "exp_path = os.path.join(r\"D:\\Work\\repos\\RL\\phd-rl-algos\\dqn\\opinion_dynamics\\experiments\\results\", experiment_sub_dir)\n",
    "df = process_experiment(\n",
    "    exp_path\n",
    ")\n",
    "df.columns\n"
   ]
  },
  {
   "cell_type": "code",
   "execution_count": 30,
   "metadata": {},
   "outputs": [
    {
     "data": {
      "text/html": [
       "<div>\n",
       "<style scoped>\n",
       "    .dataframe tbody tr th:only-of-type {\n",
       "        vertical-align: middle;\n",
       "    }\n",
       "\n",
       "    .dataframe tbody tr th {\n",
       "        vertical-align: top;\n",
       "    }\n",
       "\n",
       "    .dataframe thead th {\n",
       "        text-align: right;\n",
       "    }\n",
       "</style>\n",
       "<table border=\"1\" class=\"dataframe\">\n",
       "  <thead>\n",
       "    <tr style=\"text-align: right;\">\n",
       "      <th></th>\n",
       "      <th>epoch_type</th>\n",
       "      <th>frame_stamp</th>\n",
       "      <th>episode_rewards_min</th>\n",
       "      <th>episode_rewards_max</th>\n",
       "      <th>episode_rewards_mean</th>\n",
       "      <th>episode_rewards_median</th>\n",
       "      <th>episode_rewards_std</th>\n",
       "      <th>episode_discounted_rewards_min</th>\n",
       "      <th>episode_discounted_rewards_max</th>\n",
       "      <th>episode_discounted_rewards_mean</th>\n",
       "      <th>...</th>\n",
       "      <th>episode_max_qs_median</th>\n",
       "      <th>episode_max_qs_std</th>\n",
       "      <th>policy_trained_times</th>\n",
       "      <th>target_trained_times</th>\n",
       "      <th>epoch_time</th>\n",
       "      <th>sub_exp_cfg_agent_params.args_.action_w_noise_amplitude</th>\n",
       "      <th>sub_exp_cfg_estimator.args_.lin_hidden_out_size</th>\n",
       "      <th>sub_experiment_path</th>\n",
       "      <th>seed</th>\n",
       "      <th>experiment_name</th>\n",
       "    </tr>\n",
       "  </thead>\n",
       "  <tbody>\n",
       "    <tr>\n",
       "      <th>0</th>\n",
       "      <td>training</td>\n",
       "      <td>200000</td>\n",
       "      <td>-146.195934</td>\n",
       "      <td>-81.986693</td>\n",
       "      <td>-104.159923</td>\n",
       "      <td>-103.561686</td>\n",
       "      <td>8.500378</td>\n",
       "      <td>-29.485750</td>\n",
       "      <td>-23.107818</td>\n",
       "      <td>-25.809291</td>\n",
       "      <td>...</td>\n",
       "      <td>-0.455308</td>\n",
       "      <td>0.702751</td>\n",
       "      <td>24374.0</td>\n",
       "      <td>48.0</td>\n",
       "      <td>0 days 00:02:15.329742</td>\n",
       "      <td>0</td>\n",
       "      <td>16</td>\n",
       "      <td>D:\\Work\\repos\\RL\\phd-rl-algos\\dqn\\opinion_dyna...</td>\n",
       "      <td>0</td>\n",
       "      <td>0000_agent_params.args_.action_w_noise_amplitu...</td>\n",
       "    </tr>\n",
       "    <tr>\n",
       "      <th>1</th>\n",
       "      <td>training</td>\n",
       "      <td>400000</td>\n",
       "      <td>-129.667809</td>\n",
       "      <td>-77.353660</td>\n",
       "      <td>-98.875521</td>\n",
       "      <td>-98.529376</td>\n",
       "      <td>8.156908</td>\n",
       "      <td>-28.494253</td>\n",
       "      <td>-23.062935</td>\n",
       "      <td>-25.293241</td>\n",
       "      <td>...</td>\n",
       "      <td>-1.018806</td>\n",
       "      <td>1.151297</td>\n",
       "      <td>25000.0</td>\n",
       "      <td>48.0</td>\n",
       "      <td>0 days 00:02:24.415925</td>\n",
       "      <td>0</td>\n",
       "      <td>16</td>\n",
       "      <td>D:\\Work\\repos\\RL\\phd-rl-algos\\dqn\\opinion_dyna...</td>\n",
       "      <td>0</td>\n",
       "      <td>0000_agent_params.args_.action_w_noise_amplitu...</td>\n",
       "    </tr>\n",
       "    <tr>\n",
       "      <th>2</th>\n",
       "      <td>training</td>\n",
       "      <td>600000</td>\n",
       "      <td>-121.056406</td>\n",
       "      <td>-71.765361</td>\n",
       "      <td>-90.001096</td>\n",
       "      <td>-89.615238</td>\n",
       "      <td>6.338127</td>\n",
       "      <td>-27.973676</td>\n",
       "      <td>-23.018708</td>\n",
       "      <td>-25.113045</td>\n",
       "      <td>...</td>\n",
       "      <td>-1.317625</td>\n",
       "      <td>1.386895</td>\n",
       "      <td>25000.0</td>\n",
       "      <td>48.0</td>\n",
       "      <td>0 days 00:02:32.442129</td>\n",
       "      <td>0</td>\n",
       "      <td>16</td>\n",
       "      <td>D:\\Work\\repos\\RL\\phd-rl-algos\\dqn\\opinion_dyna...</td>\n",
       "      <td>0</td>\n",
       "      <td>0000_agent_params.args_.action_w_noise_amplitu...</td>\n",
       "    </tr>\n",
       "    <tr>\n",
       "      <th>3</th>\n",
       "      <td>training</td>\n",
       "      <td>800000</td>\n",
       "      <td>-118.161978</td>\n",
       "      <td>-72.851136</td>\n",
       "      <td>-91.298945</td>\n",
       "      <td>-90.776600</td>\n",
       "      <td>6.208961</td>\n",
       "      <td>-28.633705</td>\n",
       "      <td>-23.385392</td>\n",
       "      <td>-25.784686</td>\n",
       "      <td>...</td>\n",
       "      <td>-1.427309</td>\n",
       "      <td>1.533950</td>\n",
       "      <td>25000.0</td>\n",
       "      <td>48.0</td>\n",
       "      <td>0 days 00:02:35.716994</td>\n",
       "      <td>0</td>\n",
       "      <td>16</td>\n",
       "      <td>D:\\Work\\repos\\RL\\phd-rl-algos\\dqn\\opinion_dyna...</td>\n",
       "      <td>0</td>\n",
       "      <td>0000_agent_params.args_.action_w_noise_amplitu...</td>\n",
       "    </tr>\n",
       "    <tr>\n",
       "      <th>4</th>\n",
       "      <td>training</td>\n",
       "      <td>1000000</td>\n",
       "      <td>-113.590191</td>\n",
       "      <td>-75.451454</td>\n",
       "      <td>-91.203545</td>\n",
       "      <td>-90.878816</td>\n",
       "      <td>5.803210</td>\n",
       "      <td>-28.676569</td>\n",
       "      <td>-23.551611</td>\n",
       "      <td>-25.843768</td>\n",
       "      <td>...</td>\n",
       "      <td>-1.409024</td>\n",
       "      <td>1.610076</td>\n",
       "      <td>25000.0</td>\n",
       "      <td>56.0</td>\n",
       "      <td>0 days 00:02:39.052639</td>\n",
       "      <td>0</td>\n",
       "      <td>16</td>\n",
       "      <td>D:\\Work\\repos\\RL\\phd-rl-algos\\dqn\\opinion_dyna...</td>\n",
       "      <td>0</td>\n",
       "      <td>0000_agent_params.args_.action_w_noise_amplitu...</td>\n",
       "    </tr>\n",
       "    <tr>\n",
       "      <th>...</th>\n",
       "      <td>...</td>\n",
       "      <td>...</td>\n",
       "      <td>...</td>\n",
       "      <td>...</td>\n",
       "      <td>...</td>\n",
       "      <td>...</td>\n",
       "      <td>...</td>\n",
       "      <td>...</td>\n",
       "      <td>...</td>\n",
       "      <td>...</td>\n",
       "      <td>...</td>\n",
       "      <td>...</td>\n",
       "      <td>...</td>\n",
       "      <td>...</td>\n",
       "      <td>...</td>\n",
       "      <td>...</td>\n",
       "      <td>...</td>\n",
       "      <td>...</td>\n",
       "      <td>...</td>\n",
       "      <td>...</td>\n",
       "      <td>...</td>\n",
       "    </tr>\n",
       "    <tr>\n",
       "      <th>1595</th>\n",
       "      <td>validation</td>\n",
       "      <td>3200000</td>\n",
       "      <td>-94.122750</td>\n",
       "      <td>-94.059427</td>\n",
       "      <td>-94.099644</td>\n",
       "      <td>-94.100537</td>\n",
       "      <td>0.015993</td>\n",
       "      <td>-25.588859</td>\n",
       "      <td>-25.581861</td>\n",
       "      <td>-25.586243</td>\n",
       "      <td>...</td>\n",
       "      <td>-1.572913</td>\n",
       "      <td>1.671208</td>\n",
       "      <td>NaN</td>\n",
       "      <td>NaN</td>\n",
       "      <td>0 days 00:00:00.499858</td>\n",
       "      <td>1</td>\n",
       "      <td>128</td>\n",
       "      <td>D:\\Work\\repos\\RL\\phd-rl-algos\\dqn\\opinion_dyna...</td>\n",
       "      <td>1</td>\n",
       "      <td>0019_agent_params.args_.action_w_noise_amplitu...</td>\n",
       "    </tr>\n",
       "    <tr>\n",
       "      <th>1596</th>\n",
       "      <td>validation</td>\n",
       "      <td>3400000</td>\n",
       "      <td>-93.889748</td>\n",
       "      <td>-93.460575</td>\n",
       "      <td>-93.551938</td>\n",
       "      <td>-93.511606</td>\n",
       "      <td>0.118686</td>\n",
       "      <td>-25.589312</td>\n",
       "      <td>-25.582349</td>\n",
       "      <td>-25.586407</td>\n",
       "      <td>...</td>\n",
       "      <td>-1.617073</td>\n",
       "      <td>1.685330</td>\n",
       "      <td>NaN</td>\n",
       "      <td>NaN</td>\n",
       "      <td>0 days 00:00:00.484908</td>\n",
       "      <td>1</td>\n",
       "      <td>128</td>\n",
       "      <td>D:\\Work\\repos\\RL\\phd-rl-algos\\dqn\\opinion_dyna...</td>\n",
       "      <td>1</td>\n",
       "      <td>0019_agent_params.args_.action_w_noise_amplitu...</td>\n",
       "    </tr>\n",
       "    <tr>\n",
       "      <th>1597</th>\n",
       "      <td>validation</td>\n",
       "      <td>3600000</td>\n",
       "      <td>-95.665381</td>\n",
       "      <td>-95.627584</td>\n",
       "      <td>-95.643589</td>\n",
       "      <td>-95.643908</td>\n",
       "      <td>0.010410</td>\n",
       "      <td>-25.588543</td>\n",
       "      <td>-25.582453</td>\n",
       "      <td>-25.584947</td>\n",
       "      <td>...</td>\n",
       "      <td>-1.451329</td>\n",
       "      <td>1.667534</td>\n",
       "      <td>NaN</td>\n",
       "      <td>NaN</td>\n",
       "      <td>0 days 00:00:00.470534</td>\n",
       "      <td>1</td>\n",
       "      <td>128</td>\n",
       "      <td>D:\\Work\\repos\\RL\\phd-rl-algos\\dqn\\opinion_dyna...</td>\n",
       "      <td>1</td>\n",
       "      <td>0019_agent_params.args_.action_w_noise_amplitu...</td>\n",
       "    </tr>\n",
       "    <tr>\n",
       "      <th>1598</th>\n",
       "      <td>validation</td>\n",
       "      <td>3800000</td>\n",
       "      <td>-95.089942</td>\n",
       "      <td>-93.480700</td>\n",
       "      <td>-93.649358</td>\n",
       "      <td>-93.509930</td>\n",
       "      <td>0.422264</td>\n",
       "      <td>-25.678779</td>\n",
       "      <td>-25.579268</td>\n",
       "      <td>-25.592248</td>\n",
       "      <td>...</td>\n",
       "      <td>-1.630150</td>\n",
       "      <td>1.686755</td>\n",
       "      <td>NaN</td>\n",
       "      <td>NaN</td>\n",
       "      <td>0 days 00:00:00.488648</td>\n",
       "      <td>1</td>\n",
       "      <td>128</td>\n",
       "      <td>D:\\Work\\repos\\RL\\phd-rl-algos\\dqn\\opinion_dyna...</td>\n",
       "      <td>1</td>\n",
       "      <td>0019_agent_params.args_.action_w_noise_amplitu...</td>\n",
       "    </tr>\n",
       "    <tr>\n",
       "      <th>1599</th>\n",
       "      <td>validation</td>\n",
       "      <td>4000000</td>\n",
       "      <td>-93.522538</td>\n",
       "      <td>-93.454959</td>\n",
       "      <td>-93.493550</td>\n",
       "      <td>-93.497246</td>\n",
       "      <td>0.019122</td>\n",
       "      <td>-25.587845</td>\n",
       "      <td>-25.578347</td>\n",
       "      <td>-25.584752</td>\n",
       "      <td>...</td>\n",
       "      <td>-1.627737</td>\n",
       "      <td>1.686903</td>\n",
       "      <td>NaN</td>\n",
       "      <td>NaN</td>\n",
       "      <td>0 days 00:00:00.477308</td>\n",
       "      <td>1</td>\n",
       "      <td>128</td>\n",
       "      <td>D:\\Work\\repos\\RL\\phd-rl-algos\\dqn\\opinion_dyna...</td>\n",
       "      <td>1</td>\n",
       "      <td>0019_agent_params.args_.action_w_noise_amplitu...</td>\n",
       "    </tr>\n",
       "  </tbody>\n",
       "</table>\n",
       "<p>1600 rows × 35 columns</p>\n",
       "</div>"
      ],
      "text/plain": [
       "      epoch_type  frame_stamp  episode_rewards_min  episode_rewards_max  \\\n",
       "0       training       200000          -146.195934           -81.986693   \n",
       "1       training       400000          -129.667809           -77.353660   \n",
       "2       training       600000          -121.056406           -71.765361   \n",
       "3       training       800000          -118.161978           -72.851136   \n",
       "4       training      1000000          -113.590191           -75.451454   \n",
       "...          ...          ...                  ...                  ...   \n",
       "1595  validation      3200000           -94.122750           -94.059427   \n",
       "1596  validation      3400000           -93.889748           -93.460575   \n",
       "1597  validation      3600000           -95.665381           -95.627584   \n",
       "1598  validation      3800000           -95.089942           -93.480700   \n",
       "1599  validation      4000000           -93.522538           -93.454959   \n",
       "\n",
       "      episode_rewards_mean  episode_rewards_median  episode_rewards_std  \\\n",
       "0              -104.159923             -103.561686             8.500378   \n",
       "1               -98.875521              -98.529376             8.156908   \n",
       "2               -90.001096              -89.615238             6.338127   \n",
       "3               -91.298945              -90.776600             6.208961   \n",
       "4               -91.203545              -90.878816             5.803210   \n",
       "...                    ...                     ...                  ...   \n",
       "1595            -94.099644              -94.100537             0.015993   \n",
       "1596            -93.551938              -93.511606             0.118686   \n",
       "1597            -95.643589              -95.643908             0.010410   \n",
       "1598            -93.649358              -93.509930             0.422264   \n",
       "1599            -93.493550              -93.497246             0.019122   \n",
       "\n",
       "      episode_discounted_rewards_min  episode_discounted_rewards_max  \\\n",
       "0                         -29.485750                      -23.107818   \n",
       "1                         -28.494253                      -23.062935   \n",
       "2                         -27.973676                      -23.018708   \n",
       "3                         -28.633705                      -23.385392   \n",
       "4                         -28.676569                      -23.551611   \n",
       "...                              ...                             ...   \n",
       "1595                      -25.588859                      -25.581861   \n",
       "1596                      -25.589312                      -25.582349   \n",
       "1597                      -25.588543                      -25.582453   \n",
       "1598                      -25.678779                      -25.579268   \n",
       "1599                      -25.587845                      -25.578347   \n",
       "\n",
       "      episode_discounted_rewards_mean  ...  episode_max_qs_median  \\\n",
       "0                          -25.809291  ...              -0.455308   \n",
       "1                          -25.293241  ...              -1.018806   \n",
       "2                          -25.113045  ...              -1.317625   \n",
       "3                          -25.784686  ...              -1.427309   \n",
       "4                          -25.843768  ...              -1.409024   \n",
       "...                               ...  ...                    ...   \n",
       "1595                       -25.586243  ...              -1.572913   \n",
       "1596                       -25.586407  ...              -1.617073   \n",
       "1597                       -25.584947  ...              -1.451329   \n",
       "1598                       -25.592248  ...              -1.630150   \n",
       "1599                       -25.584752  ...              -1.627737   \n",
       "\n",
       "      episode_max_qs_std  policy_trained_times  target_trained_times  \\\n",
       "0               0.702751               24374.0                  48.0   \n",
       "1               1.151297               25000.0                  48.0   \n",
       "2               1.386895               25000.0                  48.0   \n",
       "3               1.533950               25000.0                  48.0   \n",
       "4               1.610076               25000.0                  56.0   \n",
       "...                  ...                   ...                   ...   \n",
       "1595            1.671208                   NaN                   NaN   \n",
       "1596            1.685330                   NaN                   NaN   \n",
       "1597            1.667534                   NaN                   NaN   \n",
       "1598            1.686755                   NaN                   NaN   \n",
       "1599            1.686903                   NaN                   NaN   \n",
       "\n",
       "                 epoch_time  \\\n",
       "0    0 days 00:02:15.329742   \n",
       "1    0 days 00:02:24.415925   \n",
       "2    0 days 00:02:32.442129   \n",
       "3    0 days 00:02:35.716994   \n",
       "4    0 days 00:02:39.052639   \n",
       "...                     ...   \n",
       "1595 0 days 00:00:00.499858   \n",
       "1596 0 days 00:00:00.484908   \n",
       "1597 0 days 00:00:00.470534   \n",
       "1598 0 days 00:00:00.488648   \n",
       "1599 0 days 00:00:00.477308   \n",
       "\n",
       "      sub_exp_cfg_agent_params.args_.action_w_noise_amplitude  \\\n",
       "0                                                     0         \n",
       "1                                                     0         \n",
       "2                                                     0         \n",
       "3                                                     0         \n",
       "4                                                     0         \n",
       "...                                                 ...         \n",
       "1595                                                  1         \n",
       "1596                                                  1         \n",
       "1597                                                  1         \n",
       "1598                                                  1         \n",
       "1599                                                  1         \n",
       "\n",
       "      sub_exp_cfg_estimator.args_.lin_hidden_out_size  \\\n",
       "0                                                  16   \n",
       "1                                                  16   \n",
       "2                                                  16   \n",
       "3                                                  16   \n",
       "4                                                  16   \n",
       "...                                               ...   \n",
       "1595                                              128   \n",
       "1596                                              128   \n",
       "1597                                              128   \n",
       "1598                                              128   \n",
       "1599                                              128   \n",
       "\n",
       "                                    sub_experiment_path  seed  \\\n",
       "0     D:\\Work\\repos\\RL\\phd-rl-algos\\dqn\\opinion_dyna...     0   \n",
       "1     D:\\Work\\repos\\RL\\phd-rl-algos\\dqn\\opinion_dyna...     0   \n",
       "2     D:\\Work\\repos\\RL\\phd-rl-algos\\dqn\\opinion_dyna...     0   \n",
       "3     D:\\Work\\repos\\RL\\phd-rl-algos\\dqn\\opinion_dyna...     0   \n",
       "4     D:\\Work\\repos\\RL\\phd-rl-algos\\dqn\\opinion_dyna...     0   \n",
       "...                                                 ...   ...   \n",
       "1595  D:\\Work\\repos\\RL\\phd-rl-algos\\dqn\\opinion_dyna...     1   \n",
       "1596  D:\\Work\\repos\\RL\\phd-rl-algos\\dqn\\opinion_dyna...     1   \n",
       "1597  D:\\Work\\repos\\RL\\phd-rl-algos\\dqn\\opinion_dyna...     1   \n",
       "1598  D:\\Work\\repos\\RL\\phd-rl-algos\\dqn\\opinion_dyna...     1   \n",
       "1599  D:\\Work\\repos\\RL\\phd-rl-algos\\dqn\\opinion_dyna...     1   \n",
       "\n",
       "                                        experiment_name  \n",
       "0     0000_agent_params.args_.action_w_noise_amplitu...  \n",
       "1     0000_agent_params.args_.action_w_noise_amplitu...  \n",
       "2     0000_agent_params.args_.action_w_noise_amplitu...  \n",
       "3     0000_agent_params.args_.action_w_noise_amplitu...  \n",
       "4     0000_agent_params.args_.action_w_noise_amplitu...  \n",
       "...                                                 ...  \n",
       "1595  0019_agent_params.args_.action_w_noise_amplitu...  \n",
       "1596  0019_agent_params.args_.action_w_noise_amplitu...  \n",
       "1597  0019_agent_params.args_.action_w_noise_amplitu...  \n",
       "1598  0019_agent_params.args_.action_w_noise_amplitu...  \n",
       "1599  0019_agent_params.args_.action_w_noise_amplitu...  \n",
       "\n",
       "[1600 rows x 35 columns]"
      ]
     },
     "execution_count": 30,
     "metadata": {},
     "output_type": "execute_result"
    }
   ],
   "source": [
    "df"
   ]
  },
  {
   "cell_type": "code",
   "execution_count": 31,
   "metadata": {},
   "outputs": [],
   "source": [
    "# normalize rewards?"
   ]
  },
  {
   "cell_type": "code",
   "execution_count": 32,
   "metadata": {},
   "outputs": [
    {
     "data": {
      "text/html": [
       "<div>\n",
       "<style scoped>\n",
       "    .dataframe tbody tr th:only-of-type {\n",
       "        vertical-align: middle;\n",
       "    }\n",
       "\n",
       "    .dataframe tbody tr th {\n",
       "        vertical-align: top;\n",
       "    }\n",
       "\n",
       "    .dataframe thead th {\n",
       "        text-align: right;\n",
       "    }\n",
       "</style>\n",
       "<table border=\"1\" class=\"dataframe\">\n",
       "  <thead>\n",
       "    <tr style=\"text-align: right;\">\n",
       "      <th></th>\n",
       "      <th>epoch_type</th>\n",
       "      <th>frame_stamp</th>\n",
       "      <th>episode_rewards_min</th>\n",
       "      <th>episode_rewards_max</th>\n",
       "      <th>episode_rewards_mean</th>\n",
       "      <th>episode_rewards_median</th>\n",
       "      <th>episode_rewards_std</th>\n",
       "      <th>episode_discounted_rewards_min</th>\n",
       "      <th>episode_discounted_rewards_max</th>\n",
       "      <th>episode_discounted_rewards_mean</th>\n",
       "      <th>...</th>\n",
       "      <th>episode_max_qs_median</th>\n",
       "      <th>episode_max_qs_std</th>\n",
       "      <th>policy_trained_times</th>\n",
       "      <th>target_trained_times</th>\n",
       "      <th>epoch_time</th>\n",
       "      <th>sub_exp_cfg_agent_params.args_.action_w_noise_amplitude</th>\n",
       "      <th>sub_exp_cfg_estimator.args_.lin_hidden_out_size</th>\n",
       "      <th>sub_experiment_path</th>\n",
       "      <th>seed</th>\n",
       "      <th>experiment_name</th>\n",
       "    </tr>\n",
       "  </thead>\n",
       "  <tbody>\n",
       "    <tr>\n",
       "      <th>20</th>\n",
       "      <td>validation</td>\n",
       "      <td>200000</td>\n",
       "      <td>-75.920775</td>\n",
       "      <td>-75.655758</td>\n",
       "      <td>-75.900389</td>\n",
       "      <td>-75.920775</td>\n",
       "      <td>7.061903e-02</td>\n",
       "      <td>-23.764147</td>\n",
       "      <td>-23.763683</td>\n",
       "      <td>-23.763719</td>\n",
       "      <td>...</td>\n",
       "      <td>-0.591342</td>\n",
       "      <td>0.975965</td>\n",
       "      <td>NaN</td>\n",
       "      <td>NaN</td>\n",
       "      <td>0 days 00:00:00.635180</td>\n",
       "      <td>0</td>\n",
       "      <td>16</td>\n",
       "      <td>D:\\Work\\repos\\RL\\phd-rl-algos\\dqn\\opinion_dyna...</td>\n",
       "      <td>0</td>\n",
       "      <td>0000_agent_params.args_.action_w_noise_amplitu...</td>\n",
       "    </tr>\n",
       "    <tr>\n",
       "      <th>21</th>\n",
       "      <td>validation</td>\n",
       "      <td>400000</td>\n",
       "      <td>-73.216426</td>\n",
       "      <td>-73.216426</td>\n",
       "      <td>-73.216426</td>\n",
       "      <td>-73.216426</td>\n",
       "      <td>1.421085e-14</td>\n",
       "      <td>-22.689784</td>\n",
       "      <td>-22.689784</td>\n",
       "      <td>-22.689784</td>\n",
       "      <td>...</td>\n",
       "      <td>-0.439080</td>\n",
       "      <td>1.208492</td>\n",
       "      <td>NaN</td>\n",
       "      <td>NaN</td>\n",
       "      <td>0 days 00:00:00.595345</td>\n",
       "      <td>0</td>\n",
       "      <td>16</td>\n",
       "      <td>D:\\Work\\repos\\RL\\phd-rl-algos\\dqn\\opinion_dyna...</td>\n",
       "      <td>0</td>\n",
       "      <td>0000_agent_params.args_.action_w_noise_amplitu...</td>\n",
       "    </tr>\n",
       "    <tr>\n",
       "      <th>22</th>\n",
       "      <td>validation</td>\n",
       "      <td>600000</td>\n",
       "      <td>-68.841799</td>\n",
       "      <td>-68.210669</td>\n",
       "      <td>-68.245959</td>\n",
       "      <td>-68.210669</td>\n",
       "      <td>1.445156e-01</td>\n",
       "      <td>-23.925732</td>\n",
       "      <td>-23.825629</td>\n",
       "      <td>-23.831221</td>\n",
       "      <td>...</td>\n",
       "      <td>-1.408106</td>\n",
       "      <td>1.475032</td>\n",
       "      <td>NaN</td>\n",
       "      <td>NaN</td>\n",
       "      <td>0 days 00:00:00.629179</td>\n",
       "      <td>0</td>\n",
       "      <td>16</td>\n",
       "      <td>D:\\Work\\repos\\RL\\phd-rl-algos\\dqn\\opinion_dyna...</td>\n",
       "      <td>0</td>\n",
       "      <td>0000_agent_params.args_.action_w_noise_amplitu...</td>\n",
       "    </tr>\n",
       "    <tr>\n",
       "      <th>23</th>\n",
       "      <td>validation</td>\n",
       "      <td>800000</td>\n",
       "      <td>-73.079244</td>\n",
       "      <td>-72.126236</td>\n",
       "      <td>-72.182295</td>\n",
       "      <td>-72.126236</td>\n",
       "      <td>2.242372e-01</td>\n",
       "      <td>-24.620858</td>\n",
       "      <td>-24.505794</td>\n",
       "      <td>-24.512562</td>\n",
       "      <td>...</td>\n",
       "      <td>-1.376539</td>\n",
       "      <td>1.593984</td>\n",
       "      <td>NaN</td>\n",
       "      <td>NaN</td>\n",
       "      <td>0 days 00:00:00.626467</td>\n",
       "      <td>0</td>\n",
       "      <td>16</td>\n",
       "      <td>D:\\Work\\repos\\RL\\phd-rl-algos\\dqn\\opinion_dyna...</td>\n",
       "      <td>0</td>\n",
       "      <td>0000_agent_params.args_.action_w_noise_amplitu...</td>\n",
       "    </tr>\n",
       "    <tr>\n",
       "      <th>24</th>\n",
       "      <td>validation</td>\n",
       "      <td>1000000</td>\n",
       "      <td>-74.267532</td>\n",
       "      <td>-73.860360</td>\n",
       "      <td>-73.884311</td>\n",
       "      <td>-73.860360</td>\n",
       "      <td>9.580529e-02</td>\n",
       "      <td>-24.717597</td>\n",
       "      <td>-24.716520</td>\n",
       "      <td>-24.716583</td>\n",
       "      <td>...</td>\n",
       "      <td>-1.573386</td>\n",
       "      <td>1.640070</td>\n",
       "      <td>NaN</td>\n",
       "      <td>NaN</td>\n",
       "      <td>0 days 00:00:00.593383</td>\n",
       "      <td>0</td>\n",
       "      <td>16</td>\n",
       "      <td>D:\\Work\\repos\\RL\\phd-rl-algos\\dqn\\opinion_dyna...</td>\n",
       "      <td>0</td>\n",
       "      <td>0000_agent_params.args_.action_w_noise_amplitu...</td>\n",
       "    </tr>\n",
       "    <tr>\n",
       "      <th>...</th>\n",
       "      <td>...</td>\n",
       "      <td>...</td>\n",
       "      <td>...</td>\n",
       "      <td>...</td>\n",
       "      <td>...</td>\n",
       "      <td>...</td>\n",
       "      <td>...</td>\n",
       "      <td>...</td>\n",
       "      <td>...</td>\n",
       "      <td>...</td>\n",
       "      <td>...</td>\n",
       "      <td>...</td>\n",
       "      <td>...</td>\n",
       "      <td>...</td>\n",
       "      <td>...</td>\n",
       "      <td>...</td>\n",
       "      <td>...</td>\n",
       "      <td>...</td>\n",
       "      <td>...</td>\n",
       "      <td>...</td>\n",
       "      <td>...</td>\n",
       "    </tr>\n",
       "    <tr>\n",
       "      <th>1595</th>\n",
       "      <td>validation</td>\n",
       "      <td>3200000</td>\n",
       "      <td>-94.122750</td>\n",
       "      <td>-94.059427</td>\n",
       "      <td>-94.099644</td>\n",
       "      <td>-94.100537</td>\n",
       "      <td>1.599288e-02</td>\n",
       "      <td>-25.588859</td>\n",
       "      <td>-25.581861</td>\n",
       "      <td>-25.586243</td>\n",
       "      <td>...</td>\n",
       "      <td>-1.572913</td>\n",
       "      <td>1.671208</td>\n",
       "      <td>NaN</td>\n",
       "      <td>NaN</td>\n",
       "      <td>0 days 00:00:00.499858</td>\n",
       "      <td>1</td>\n",
       "      <td>128</td>\n",
       "      <td>D:\\Work\\repos\\RL\\phd-rl-algos\\dqn\\opinion_dyna...</td>\n",
       "      <td>1</td>\n",
       "      <td>0019_agent_params.args_.action_w_noise_amplitu...</td>\n",
       "    </tr>\n",
       "    <tr>\n",
       "      <th>1596</th>\n",
       "      <td>validation</td>\n",
       "      <td>3400000</td>\n",
       "      <td>-93.889748</td>\n",
       "      <td>-93.460575</td>\n",
       "      <td>-93.551938</td>\n",
       "      <td>-93.511606</td>\n",
       "      <td>1.186859e-01</td>\n",
       "      <td>-25.589312</td>\n",
       "      <td>-25.582349</td>\n",
       "      <td>-25.586407</td>\n",
       "      <td>...</td>\n",
       "      <td>-1.617073</td>\n",
       "      <td>1.685330</td>\n",
       "      <td>NaN</td>\n",
       "      <td>NaN</td>\n",
       "      <td>0 days 00:00:00.484908</td>\n",
       "      <td>1</td>\n",
       "      <td>128</td>\n",
       "      <td>D:\\Work\\repos\\RL\\phd-rl-algos\\dqn\\opinion_dyna...</td>\n",
       "      <td>1</td>\n",
       "      <td>0019_agent_params.args_.action_w_noise_amplitu...</td>\n",
       "    </tr>\n",
       "    <tr>\n",
       "      <th>1597</th>\n",
       "      <td>validation</td>\n",
       "      <td>3600000</td>\n",
       "      <td>-95.665381</td>\n",
       "      <td>-95.627584</td>\n",
       "      <td>-95.643589</td>\n",
       "      <td>-95.643908</td>\n",
       "      <td>1.040951e-02</td>\n",
       "      <td>-25.588543</td>\n",
       "      <td>-25.582453</td>\n",
       "      <td>-25.584947</td>\n",
       "      <td>...</td>\n",
       "      <td>-1.451329</td>\n",
       "      <td>1.667534</td>\n",
       "      <td>NaN</td>\n",
       "      <td>NaN</td>\n",
       "      <td>0 days 00:00:00.470534</td>\n",
       "      <td>1</td>\n",
       "      <td>128</td>\n",
       "      <td>D:\\Work\\repos\\RL\\phd-rl-algos\\dqn\\opinion_dyna...</td>\n",
       "      <td>1</td>\n",
       "      <td>0019_agent_params.args_.action_w_noise_amplitu...</td>\n",
       "    </tr>\n",
       "    <tr>\n",
       "      <th>1598</th>\n",
       "      <td>validation</td>\n",
       "      <td>3800000</td>\n",
       "      <td>-95.089942</td>\n",
       "      <td>-93.480700</td>\n",
       "      <td>-93.649358</td>\n",
       "      <td>-93.509930</td>\n",
       "      <td>4.222637e-01</td>\n",
       "      <td>-25.678779</td>\n",
       "      <td>-25.579268</td>\n",
       "      <td>-25.592248</td>\n",
       "      <td>...</td>\n",
       "      <td>-1.630150</td>\n",
       "      <td>1.686755</td>\n",
       "      <td>NaN</td>\n",
       "      <td>NaN</td>\n",
       "      <td>0 days 00:00:00.488648</td>\n",
       "      <td>1</td>\n",
       "      <td>128</td>\n",
       "      <td>D:\\Work\\repos\\RL\\phd-rl-algos\\dqn\\opinion_dyna...</td>\n",
       "      <td>1</td>\n",
       "      <td>0019_agent_params.args_.action_w_noise_amplitu...</td>\n",
       "    </tr>\n",
       "    <tr>\n",
       "      <th>1599</th>\n",
       "      <td>validation</td>\n",
       "      <td>4000000</td>\n",
       "      <td>-93.522538</td>\n",
       "      <td>-93.454959</td>\n",
       "      <td>-93.493550</td>\n",
       "      <td>-93.497246</td>\n",
       "      <td>1.912192e-02</td>\n",
       "      <td>-25.587845</td>\n",
       "      <td>-25.578347</td>\n",
       "      <td>-25.584752</td>\n",
       "      <td>...</td>\n",
       "      <td>-1.627737</td>\n",
       "      <td>1.686903</td>\n",
       "      <td>NaN</td>\n",
       "      <td>NaN</td>\n",
       "      <td>0 days 00:00:00.477308</td>\n",
       "      <td>1</td>\n",
       "      <td>128</td>\n",
       "      <td>D:\\Work\\repos\\RL\\phd-rl-algos\\dqn\\opinion_dyna...</td>\n",
       "      <td>1</td>\n",
       "      <td>0019_agent_params.args_.action_w_noise_amplitu...</td>\n",
       "    </tr>\n",
       "  </tbody>\n",
       "</table>\n",
       "<p>800 rows × 35 columns</p>\n",
       "</div>"
      ],
      "text/plain": [
       "      epoch_type  frame_stamp  episode_rewards_min  episode_rewards_max  \\\n",
       "20    validation       200000           -75.920775           -75.655758   \n",
       "21    validation       400000           -73.216426           -73.216426   \n",
       "22    validation       600000           -68.841799           -68.210669   \n",
       "23    validation       800000           -73.079244           -72.126236   \n",
       "24    validation      1000000           -74.267532           -73.860360   \n",
       "...          ...          ...                  ...                  ...   \n",
       "1595  validation      3200000           -94.122750           -94.059427   \n",
       "1596  validation      3400000           -93.889748           -93.460575   \n",
       "1597  validation      3600000           -95.665381           -95.627584   \n",
       "1598  validation      3800000           -95.089942           -93.480700   \n",
       "1599  validation      4000000           -93.522538           -93.454959   \n",
       "\n",
       "      episode_rewards_mean  episode_rewards_median  episode_rewards_std  \\\n",
       "20              -75.900389              -75.920775         7.061903e-02   \n",
       "21              -73.216426              -73.216426         1.421085e-14   \n",
       "22              -68.245959              -68.210669         1.445156e-01   \n",
       "23              -72.182295              -72.126236         2.242372e-01   \n",
       "24              -73.884311              -73.860360         9.580529e-02   \n",
       "...                    ...                     ...                  ...   \n",
       "1595            -94.099644              -94.100537         1.599288e-02   \n",
       "1596            -93.551938              -93.511606         1.186859e-01   \n",
       "1597            -95.643589              -95.643908         1.040951e-02   \n",
       "1598            -93.649358              -93.509930         4.222637e-01   \n",
       "1599            -93.493550              -93.497246         1.912192e-02   \n",
       "\n",
       "      episode_discounted_rewards_min  episode_discounted_rewards_max  \\\n",
       "20                        -23.764147                      -23.763683   \n",
       "21                        -22.689784                      -22.689784   \n",
       "22                        -23.925732                      -23.825629   \n",
       "23                        -24.620858                      -24.505794   \n",
       "24                        -24.717597                      -24.716520   \n",
       "...                              ...                             ...   \n",
       "1595                      -25.588859                      -25.581861   \n",
       "1596                      -25.589312                      -25.582349   \n",
       "1597                      -25.588543                      -25.582453   \n",
       "1598                      -25.678779                      -25.579268   \n",
       "1599                      -25.587845                      -25.578347   \n",
       "\n",
       "      episode_discounted_rewards_mean  ...  episode_max_qs_median  \\\n",
       "20                         -23.763719  ...              -0.591342   \n",
       "21                         -22.689784  ...              -0.439080   \n",
       "22                         -23.831221  ...              -1.408106   \n",
       "23                         -24.512562  ...              -1.376539   \n",
       "24                         -24.716583  ...              -1.573386   \n",
       "...                               ...  ...                    ...   \n",
       "1595                       -25.586243  ...              -1.572913   \n",
       "1596                       -25.586407  ...              -1.617073   \n",
       "1597                       -25.584947  ...              -1.451329   \n",
       "1598                       -25.592248  ...              -1.630150   \n",
       "1599                       -25.584752  ...              -1.627737   \n",
       "\n",
       "      episode_max_qs_std  policy_trained_times  target_trained_times  \\\n",
       "20              0.975965                   NaN                   NaN   \n",
       "21              1.208492                   NaN                   NaN   \n",
       "22              1.475032                   NaN                   NaN   \n",
       "23              1.593984                   NaN                   NaN   \n",
       "24              1.640070                   NaN                   NaN   \n",
       "...                  ...                   ...                   ...   \n",
       "1595            1.671208                   NaN                   NaN   \n",
       "1596            1.685330                   NaN                   NaN   \n",
       "1597            1.667534                   NaN                   NaN   \n",
       "1598            1.686755                   NaN                   NaN   \n",
       "1599            1.686903                   NaN                   NaN   \n",
       "\n",
       "                 epoch_time  \\\n",
       "20   0 days 00:00:00.635180   \n",
       "21   0 days 00:00:00.595345   \n",
       "22   0 days 00:00:00.629179   \n",
       "23   0 days 00:00:00.626467   \n",
       "24   0 days 00:00:00.593383   \n",
       "...                     ...   \n",
       "1595 0 days 00:00:00.499858   \n",
       "1596 0 days 00:00:00.484908   \n",
       "1597 0 days 00:00:00.470534   \n",
       "1598 0 days 00:00:00.488648   \n",
       "1599 0 days 00:00:00.477308   \n",
       "\n",
       "      sub_exp_cfg_agent_params.args_.action_w_noise_amplitude  \\\n",
       "20                                                    0         \n",
       "21                                                    0         \n",
       "22                                                    0         \n",
       "23                                                    0         \n",
       "24                                                    0         \n",
       "...                                                 ...         \n",
       "1595                                                  1         \n",
       "1596                                                  1         \n",
       "1597                                                  1         \n",
       "1598                                                  1         \n",
       "1599                                                  1         \n",
       "\n",
       "      sub_exp_cfg_estimator.args_.lin_hidden_out_size  \\\n",
       "20                                                 16   \n",
       "21                                                 16   \n",
       "22                                                 16   \n",
       "23                                                 16   \n",
       "24                                                 16   \n",
       "...                                               ...   \n",
       "1595                                              128   \n",
       "1596                                              128   \n",
       "1597                                              128   \n",
       "1598                                              128   \n",
       "1599                                              128   \n",
       "\n",
       "                                    sub_experiment_path  seed  \\\n",
       "20    D:\\Work\\repos\\RL\\phd-rl-algos\\dqn\\opinion_dyna...     0   \n",
       "21    D:\\Work\\repos\\RL\\phd-rl-algos\\dqn\\opinion_dyna...     0   \n",
       "22    D:\\Work\\repos\\RL\\phd-rl-algos\\dqn\\opinion_dyna...     0   \n",
       "23    D:\\Work\\repos\\RL\\phd-rl-algos\\dqn\\opinion_dyna...     0   \n",
       "24    D:\\Work\\repos\\RL\\phd-rl-algos\\dqn\\opinion_dyna...     0   \n",
       "...                                                 ...   ...   \n",
       "1595  D:\\Work\\repos\\RL\\phd-rl-algos\\dqn\\opinion_dyna...     1   \n",
       "1596  D:\\Work\\repos\\RL\\phd-rl-algos\\dqn\\opinion_dyna...     1   \n",
       "1597  D:\\Work\\repos\\RL\\phd-rl-algos\\dqn\\opinion_dyna...     1   \n",
       "1598  D:\\Work\\repos\\RL\\phd-rl-algos\\dqn\\opinion_dyna...     1   \n",
       "1599  D:\\Work\\repos\\RL\\phd-rl-algos\\dqn\\opinion_dyna...     1   \n",
       "\n",
       "                                        experiment_name  \n",
       "20    0000_agent_params.args_.action_w_noise_amplitu...  \n",
       "21    0000_agent_params.args_.action_w_noise_amplitu...  \n",
       "22    0000_agent_params.args_.action_w_noise_amplitu...  \n",
       "23    0000_agent_params.args_.action_w_noise_amplitu...  \n",
       "24    0000_agent_params.args_.action_w_noise_amplitu...  \n",
       "...                                                 ...  \n",
       "1595  0019_agent_params.args_.action_w_noise_amplitu...  \n",
       "1596  0019_agent_params.args_.action_w_noise_amplitu...  \n",
       "1597  0019_agent_params.args_.action_w_noise_amplitu...  \n",
       "1598  0019_agent_params.args_.action_w_noise_amplitu...  \n",
       "1599  0019_agent_params.args_.action_w_noise_amplitu...  \n",
       "\n",
       "[800 rows x 35 columns]"
      ]
     },
     "execution_count": 32,
     "metadata": {},
     "output_type": "execute_result"
    }
   ],
   "source": [
    "df[df['epoch_type'] == 'validation']"
   ]
  },
  {
   "cell_type": "code",
   "execution_count": 33,
   "metadata": {},
   "outputs": [
    {
     "name": "stdout",
     "output_type": "stream",
     "text": [
      "Best hyperparameters:\n",
      "sub_exp_cfg_agent_params.args_.action_w_noise_amplitude     0\n",
      "sub_exp_cfg_estimator.args_.lin_hidden_out_size            64\n",
      "Name: 3, dtype: object\n",
      "Best mean reward: -62.50014409007654\n"
     ]
    }
   ],
   "source": [
    "# Define hyperparameter columns\n",
    "hyperparam_columns = [col for col in df.columns if \"sub_exp_cfg\" in col]\n",
    "\n",
    "# Group by hyperparameter values and compute mean episode_rewards_mean\n",
    "averaged_results = df.groupby(hyperparam_columns, as_index=False).agg({\n",
    "    'episode_rewards_mean': 'mean',  # Averaging the performance metric\n",
    "    'sub_experiment_path': 'first'   # Keep a reference to an experiment path\n",
    "})\n",
    "\n",
    "# Find the best hyperparameter set based on the highest mean reward\n",
    "best_row = averaged_results.loc[averaged_results['episode_rewards_mean'].idxmax()]\n",
    "\n",
    "# Print the best experiment path and hyperparameters\n",
    "print(f\"Best hyperparameters:\\n{best_row[hyperparam_columns]}\")\n",
    "print(f\"Best mean reward: {best_row['episode_rewards_mean']}\")"
   ]
  },
  {
   "cell_type": "code",
   "execution_count": 34,
   "metadata": {},
   "outputs": [
    {
     "data": {
      "text/html": [
       "<div>\n",
       "<style scoped>\n",
       "    .dataframe tbody tr th:only-of-type {\n",
       "        vertical-align: middle;\n",
       "    }\n",
       "\n",
       "    .dataframe tbody tr th {\n",
       "        vertical-align: top;\n",
       "    }\n",
       "\n",
       "    .dataframe thead th {\n",
       "        text-align: right;\n",
       "    }\n",
       "</style>\n",
       "<table border=\"1\" class=\"dataframe\">\n",
       "  <thead>\n",
       "    <tr style=\"text-align: right;\">\n",
       "      <th></th>\n",
       "      <th>sub_exp_cfg_agent_params.args_.action_w_noise_amplitude</th>\n",
       "      <th>sub_exp_cfg_estimator.args_.lin_hidden_out_size</th>\n",
       "      <th>episode_rewards_mean</th>\n",
       "      <th>sub_experiment_path</th>\n",
       "    </tr>\n",
       "  </thead>\n",
       "  <tbody>\n",
       "    <tr>\n",
       "      <th>0</th>\n",
       "      <td>0</td>\n",
       "      <td>128</td>\n",
       "      <td>-101.294198</td>\n",
       "      <td>D:\\Work\\repos\\RL\\phd-rl-algos\\dqn\\opinion_dyna...</td>\n",
       "    </tr>\n",
       "    <tr>\n",
       "      <th>1</th>\n",
       "      <td>0</td>\n",
       "      <td>16</td>\n",
       "      <td>-77.406674</td>\n",
       "      <td>D:\\Work\\repos\\RL\\phd-rl-algos\\dqn\\opinion_dyna...</td>\n",
       "    </tr>\n",
       "    <tr>\n",
       "      <th>2</th>\n",
       "      <td>0</td>\n",
       "      <td>32</td>\n",
       "      <td>-93.232674</td>\n",
       "      <td>D:\\Work\\repos\\RL\\phd-rl-algos\\dqn\\opinion_dyna...</td>\n",
       "    </tr>\n",
       "    <tr>\n",
       "      <th>3</th>\n",
       "      <td>0</td>\n",
       "      <td>64</td>\n",
       "      <td>-62.500144</td>\n",
       "      <td>D:\\Work\\repos\\RL\\phd-rl-algos\\dqn\\opinion_dyna...</td>\n",
       "    </tr>\n",
       "    <tr>\n",
       "      <th>4</th>\n",
       "      <td>0.1</td>\n",
       "      <td>128</td>\n",
       "      <td>-97.472414</td>\n",
       "      <td>D:\\Work\\repos\\RL\\phd-rl-algos\\dqn\\opinion_dyna...</td>\n",
       "    </tr>\n",
       "    <tr>\n",
       "      <th>5</th>\n",
       "      <td>0.1</td>\n",
       "      <td>16</td>\n",
       "      <td>-92.223170</td>\n",
       "      <td>D:\\Work\\repos\\RL\\phd-rl-algos\\dqn\\opinion_dyna...</td>\n",
       "    </tr>\n",
       "    <tr>\n",
       "      <th>6</th>\n",
       "      <td>0.1</td>\n",
       "      <td>32</td>\n",
       "      <td>-113.730182</td>\n",
       "      <td>D:\\Work\\repos\\RL\\phd-rl-algos\\dqn\\opinion_dyna...</td>\n",
       "    </tr>\n",
       "    <tr>\n",
       "      <th>7</th>\n",
       "      <td>0.1</td>\n",
       "      <td>64</td>\n",
       "      <td>-133.064298</td>\n",
       "      <td>D:\\Work\\repos\\RL\\phd-rl-algos\\dqn\\opinion_dyna...</td>\n",
       "    </tr>\n",
       "    <tr>\n",
       "      <th>8</th>\n",
       "      <td>0.3</td>\n",
       "      <td>128</td>\n",
       "      <td>-85.668521</td>\n",
       "      <td>D:\\Work\\repos\\RL\\phd-rl-algos\\dqn\\opinion_dyna...</td>\n",
       "    </tr>\n",
       "    <tr>\n",
       "      <th>9</th>\n",
       "      <td>0.3</td>\n",
       "      <td>16</td>\n",
       "      <td>-82.129774</td>\n",
       "      <td>D:\\Work\\repos\\RL\\phd-rl-algos\\dqn\\opinion_dyna...</td>\n",
       "    </tr>\n",
       "    <tr>\n",
       "      <th>10</th>\n",
       "      <td>0.3</td>\n",
       "      <td>32</td>\n",
       "      <td>-104.219632</td>\n",
       "      <td>D:\\Work\\repos\\RL\\phd-rl-algos\\dqn\\opinion_dyna...</td>\n",
       "    </tr>\n",
       "    <tr>\n",
       "      <th>11</th>\n",
       "      <td>0.3</td>\n",
       "      <td>64</td>\n",
       "      <td>-89.002092</td>\n",
       "      <td>D:\\Work\\repos\\RL\\phd-rl-algos\\dqn\\opinion_dyna...</td>\n",
       "    </tr>\n",
       "    <tr>\n",
       "      <th>12</th>\n",
       "      <td>0.6</td>\n",
       "      <td>128</td>\n",
       "      <td>-79.501342</td>\n",
       "      <td>D:\\Work\\repos\\RL\\phd-rl-algos\\dqn\\opinion_dyna...</td>\n",
       "    </tr>\n",
       "    <tr>\n",
       "      <th>13</th>\n",
       "      <td>0.6</td>\n",
       "      <td>16</td>\n",
       "      <td>-82.955280</td>\n",
       "      <td>D:\\Work\\repos\\RL\\phd-rl-algos\\dqn\\opinion_dyna...</td>\n",
       "    </tr>\n",
       "    <tr>\n",
       "      <th>14</th>\n",
       "      <td>0.6</td>\n",
       "      <td>32</td>\n",
       "      <td>-105.196124</td>\n",
       "      <td>D:\\Work\\repos\\RL\\phd-rl-algos\\dqn\\opinion_dyna...</td>\n",
       "    </tr>\n",
       "    <tr>\n",
       "      <th>15</th>\n",
       "      <td>0.6</td>\n",
       "      <td>64</td>\n",
       "      <td>-106.570938</td>\n",
       "      <td>D:\\Work\\repos\\RL\\phd-rl-algos\\dqn\\opinion_dyna...</td>\n",
       "    </tr>\n",
       "    <tr>\n",
       "      <th>16</th>\n",
       "      <td>1</td>\n",
       "      <td>128</td>\n",
       "      <td>-88.954931</td>\n",
       "      <td>D:\\Work\\repos\\RL\\phd-rl-algos\\dqn\\opinion_dyna...</td>\n",
       "    </tr>\n",
       "    <tr>\n",
       "      <th>17</th>\n",
       "      <td>1</td>\n",
       "      <td>16</td>\n",
       "      <td>-89.092357</td>\n",
       "      <td>D:\\Work\\repos\\RL\\phd-rl-algos\\dqn\\opinion_dyna...</td>\n",
       "    </tr>\n",
       "    <tr>\n",
       "      <th>18</th>\n",
       "      <td>1</td>\n",
       "      <td>32</td>\n",
       "      <td>-104.250046</td>\n",
       "      <td>D:\\Work\\repos\\RL\\phd-rl-algos\\dqn\\opinion_dyna...</td>\n",
       "    </tr>\n",
       "    <tr>\n",
       "      <th>19</th>\n",
       "      <td>1</td>\n",
       "      <td>64</td>\n",
       "      <td>-120.386678</td>\n",
       "      <td>D:\\Work\\repos\\RL\\phd-rl-algos\\dqn\\opinion_dyna...</td>\n",
       "    </tr>\n",
       "  </tbody>\n",
       "</table>\n",
       "</div>"
      ],
      "text/plain": [
       "   sub_exp_cfg_agent_params.args_.action_w_noise_amplitude  \\\n",
       "0                                                   0        \n",
       "1                                                   0        \n",
       "2                                                   0        \n",
       "3                                                   0        \n",
       "4                                                 0.1        \n",
       "5                                                 0.1        \n",
       "6                                                 0.1        \n",
       "7                                                 0.1        \n",
       "8                                                 0.3        \n",
       "9                                                 0.3        \n",
       "10                                                0.3        \n",
       "11                                                0.3        \n",
       "12                                                0.6        \n",
       "13                                                0.6        \n",
       "14                                                0.6        \n",
       "15                                                0.6        \n",
       "16                                                  1        \n",
       "17                                                  1        \n",
       "18                                                  1        \n",
       "19                                                  1        \n",
       "\n",
       "   sub_exp_cfg_estimator.args_.lin_hidden_out_size  episode_rewards_mean  \\\n",
       "0                                              128           -101.294198   \n",
       "1                                               16            -77.406674   \n",
       "2                                               32            -93.232674   \n",
       "3                                               64            -62.500144   \n",
       "4                                              128            -97.472414   \n",
       "5                                               16            -92.223170   \n",
       "6                                               32           -113.730182   \n",
       "7                                               64           -133.064298   \n",
       "8                                              128            -85.668521   \n",
       "9                                               16            -82.129774   \n",
       "10                                              32           -104.219632   \n",
       "11                                              64            -89.002092   \n",
       "12                                             128            -79.501342   \n",
       "13                                              16            -82.955280   \n",
       "14                                              32           -105.196124   \n",
       "15                                              64           -106.570938   \n",
       "16                                             128            -88.954931   \n",
       "17                                              16            -89.092357   \n",
       "18                                              32           -104.250046   \n",
       "19                                              64           -120.386678   \n",
       "\n",
       "                                  sub_experiment_path  \n",
       "0   D:\\Work\\repos\\RL\\phd-rl-algos\\dqn\\opinion_dyna...  \n",
       "1   D:\\Work\\repos\\RL\\phd-rl-algos\\dqn\\opinion_dyna...  \n",
       "2   D:\\Work\\repos\\RL\\phd-rl-algos\\dqn\\opinion_dyna...  \n",
       "3   D:\\Work\\repos\\RL\\phd-rl-algos\\dqn\\opinion_dyna...  \n",
       "4   D:\\Work\\repos\\RL\\phd-rl-algos\\dqn\\opinion_dyna...  \n",
       "5   D:\\Work\\repos\\RL\\phd-rl-algos\\dqn\\opinion_dyna...  \n",
       "6   D:\\Work\\repos\\RL\\phd-rl-algos\\dqn\\opinion_dyna...  \n",
       "7   D:\\Work\\repos\\RL\\phd-rl-algos\\dqn\\opinion_dyna...  \n",
       "8   D:\\Work\\repos\\RL\\phd-rl-algos\\dqn\\opinion_dyna...  \n",
       "9   D:\\Work\\repos\\RL\\phd-rl-algos\\dqn\\opinion_dyna...  \n",
       "10  D:\\Work\\repos\\RL\\phd-rl-algos\\dqn\\opinion_dyna...  \n",
       "11  D:\\Work\\repos\\RL\\phd-rl-algos\\dqn\\opinion_dyna...  \n",
       "12  D:\\Work\\repos\\RL\\phd-rl-algos\\dqn\\opinion_dyna...  \n",
       "13  D:\\Work\\repos\\RL\\phd-rl-algos\\dqn\\opinion_dyna...  \n",
       "14  D:\\Work\\repos\\RL\\phd-rl-algos\\dqn\\opinion_dyna...  \n",
       "15  D:\\Work\\repos\\RL\\phd-rl-algos\\dqn\\opinion_dyna...  \n",
       "16  D:\\Work\\repos\\RL\\phd-rl-algos\\dqn\\opinion_dyna...  \n",
       "17  D:\\Work\\repos\\RL\\phd-rl-algos\\dqn\\opinion_dyna...  \n",
       "18  D:\\Work\\repos\\RL\\phd-rl-algos\\dqn\\opinion_dyna...  \n",
       "19  D:\\Work\\repos\\RL\\phd-rl-algos\\dqn\\opinion_dyna...  "
      ]
     },
     "execution_count": 34,
     "metadata": {},
     "output_type": "execute_result"
    }
   ],
   "source": [
    "averaged_results"
   ]
  },
  {
   "cell_type": "code",
   "execution_count": 35,
   "metadata": {},
   "outputs": [
    {
     "data": {
      "image/png": "[encoded data removed]",
      "text/plain": [
       "<Figure size 1000x600 with 1 Axes>"
      ]
     },
     "metadata": {},
     "output_type": "display_data"
    }
   ],
   "source": [
    "selected_metric = 'episode_rewards_mean'\n",
    "# Filter for validation episodes\n",
    "validation_df = df[df['epoch_type'] == 'validation']\n",
    "\n",
    "# Get the unique sorted frame_stamp values\n",
    "unique_frames = np.sort(validation_df['frame_stamp'].unique())\n",
    "N = 1\n",
    "# Get all frame_stamp values after the first N unique ones\n",
    "filtered_frames = unique_frames[N:]\n",
    "\n",
    "# Filter the DataFrame to only include rows with these frame_stamp values\n",
    "filtered_df = validation_df[validation_df['frame_stamp'].isin(filtered_frames)]\n",
    "\n",
    "plt.figure(figsize=(10, 6))\n",
    "sns.lineplot(data=filtered_df, x='frame_stamp', y=selected_metric)\n",
    "plt.ylabel(selected_metric)\n",
    "plt.xlabel('Frame Stamp')\n",
    "plt.show()"
   ]
  },
  {
   "cell_type": "code",
   "execution_count": 36,
   "metadata": {},
   "outputs": [
    {
     "data": {
      "image/png": "[encoded data removed]",
      "text/plain": [
       "<Figure size 1000x600 with 1 Axes>"
      ]
     },
     "metadata": {},
     "output_type": "display_data"
    }
   ],
   "source": [
    "\n",
    "selected_metric = 'episode_discounted_rewards_mean'\n",
    "\n",
    "validation_df = df[df['epoch_type'] == 'validation']\n",
    "\n",
    "\n",
    "# Create a new figure for each environment\n",
    "plt.figure(figsize=(10, 6))\n",
    "# sns.lineplot(data=df, x='frame_stamp', y=selected_metric, hue='model')\n",
    "sns.lineplot(data=df, x='frame_stamp', y=selected_metric)\n",
    "\n",
    "plt.ylabel(selected_metric)\n",
    "plt.xlabel('Frame Stamp')\n",
    "\n",
    "# Place the legend outside the plot\n",
    "# plt.legend(loc='center left', bbox_to_anchor=(1.0, 0.5), title='Parameters')\n",
    "plt.show()"
   ]
  },
  {
   "cell_type": "code",
   "execution_count": 37,
   "metadata": {},
   "outputs": [
    {
     "data": {
      "text/html": [
       "<div>\n",
       "<style scoped>\n",
       "    .dataframe tbody tr th:only-of-type {\n",
       "        vertical-align: middle;\n",
       "    }\n",
       "\n",
       "    .dataframe tbody tr th {\n",
       "        vertical-align: top;\n",
       "    }\n",
       "\n",
       "    .dataframe thead th {\n",
       "        text-align: right;\n",
       "    }\n",
       "</style>\n",
       "<table border=\"1\" class=\"dataframe\">\n",
       "  <thead>\n",
       "    <tr style=\"text-align: right;\">\n",
       "      <th></th>\n",
       "      <th>epoch_type</th>\n",
       "      <th>frame_stamp</th>\n",
       "      <th>episode_rewards_mean</th>\n",
       "      <th>episode_frames_mean</th>\n",
       "      <th>episode_discounted_rewards_mean</th>\n",
       "      <th>policy_trained_times</th>\n",
       "      <th>target_trained_times</th>\n",
       "      <th>epoch_time</th>\n",
       "      <th>seed</th>\n",
       "      <th>experiment_name</th>\n",
       "      <th>sub_experiment_path</th>\n",
       "      <th>sub_exp_cfg_agent_params.args_.action_w_noise_amplitude</th>\n",
       "      <th>sub_exp_cfg_estimator.args_.lin_hidden_out_size</th>\n",
       "    </tr>\n",
       "  </thead>\n",
       "  <tbody>\n",
       "    <tr>\n",
       "      <th>39</th>\n",
       "      <td>validation</td>\n",
       "      <td>4000000</td>\n",
       "      <td>-69.696657</td>\n",
       "      <td>63.000000</td>\n",
       "      <td>-23.602519</td>\n",
       "      <td>NaN</td>\n",
       "      <td>NaN</td>\n",
       "      <td>0 days 00:00:00.591853</td>\n",
       "      <td>0</td>\n",
       "      <td>0000_agent_params.args_.action_w_noise_amplitu...</td>\n",
       "      <td>D:\\Work\\repos\\RL\\phd-rl-algos\\dqn\\opinion_dyna...</td>\n",
       "      <td>0</td>\n",
       "      <td>16</td>\n",
       "    </tr>\n",
       "    <tr>\n",
       "      <th>79</th>\n",
       "      <td>validation</td>\n",
       "      <td>4000000</td>\n",
       "      <td>-52.509505</td>\n",
       "      <td>63.000000</td>\n",
       "      <td>-18.048636</td>\n",
       "      <td>NaN</td>\n",
       "      <td>NaN</td>\n",
       "      <td>0 days 00:00:00.579609</td>\n",
       "      <td>1</td>\n",
       "      <td>0000_agent_params.args_.action_w_noise_amplitu...</td>\n",
       "      <td>D:\\Work\\repos\\RL\\phd-rl-algos\\dqn\\opinion_dyna...</td>\n",
       "      <td>0</td>\n",
       "      <td>16</td>\n",
       "    </tr>\n",
       "    <tr>\n",
       "      <th>119</th>\n",
       "      <td>validation</td>\n",
       "      <td>4000000</td>\n",
       "      <td>-69.719425</td>\n",
       "      <td>71.000000</td>\n",
       "      <td>-22.141988</td>\n",
       "      <td>NaN</td>\n",
       "      <td>NaN</td>\n",
       "      <td>0 days 00:00:00.634253</td>\n",
       "      <td>0</td>\n",
       "      <td>0001_agent_params.args_.action_w_noise_amplitu...</td>\n",
       "      <td>D:\\Work\\repos\\RL\\phd-rl-algos\\dqn\\opinion_dyna...</td>\n",
       "      <td>0</td>\n",
       "      <td>32</td>\n",
       "    </tr>\n",
       "    <tr>\n",
       "      <th>159</th>\n",
       "      <td>validation</td>\n",
       "      <td>4000000</td>\n",
       "      <td>-79.132658</td>\n",
       "      <td>74.000000</td>\n",
       "      <td>-24.087420</td>\n",
       "      <td>NaN</td>\n",
       "      <td>NaN</td>\n",
       "      <td>0 days 00:00:00.653010</td>\n",
       "      <td>1</td>\n",
       "      <td>0001_agent_params.args_.action_w_noise_amplitu...</td>\n",
       "      <td>D:\\Work\\repos\\RL\\phd-rl-algos\\dqn\\opinion_dyna...</td>\n",
       "      <td>0</td>\n",
       "      <td>32</td>\n",
       "    </tr>\n",
       "    <tr>\n",
       "      <th>199</th>\n",
       "      <td>validation</td>\n",
       "      <td>4000000</td>\n",
       "      <td>-60.168262</td>\n",
       "      <td>65.000000</td>\n",
       "      <td>-20.576862</td>\n",
       "      <td>NaN</td>\n",
       "      <td>NaN</td>\n",
       "      <td>0 days 00:00:00.615137</td>\n",
       "      <td>0</td>\n",
       "      <td>0002_agent_params.args_.action_w_noise_amplitu...</td>\n",
       "      <td>D:\\Work\\repos\\RL\\phd-rl-algos\\dqn\\opinion_dyna...</td>\n",
       "      <td>0</td>\n",
       "      <td>64</td>\n",
       "    </tr>\n",
       "    <tr>\n",
       "      <th>239</th>\n",
       "      <td>validation</td>\n",
       "      <td>4000000</td>\n",
       "      <td>-31.844159</td>\n",
       "      <td>27.000000</td>\n",
       "      <td>-16.993054</td>\n",
       "      <td>NaN</td>\n",
       "      <td>NaN</td>\n",
       "      <td>0 days 00:00:00.746398</td>\n",
       "      <td>1</td>\n",
       "      <td>0002_agent_params.args_.action_w_noise_amplitu...</td>\n",
       "      <td>D:\\Work\\repos\\RL\\phd-rl-algos\\dqn\\opinion_dyna...</td>\n",
       "      <td>0</td>\n",
       "      <td>64</td>\n",
       "    </tr>\n",
       "    <tr>\n",
       "      <th>279</th>\n",
       "      <td>validation</td>\n",
       "      <td>4000000</td>\n",
       "      <td>-94.424289</td>\n",
       "      <td>82.076923</td>\n",
       "      <td>-25.645749</td>\n",
       "      <td>NaN</td>\n",
       "      <td>NaN</td>\n",
       "      <td>0 days 00:00:00.733765</td>\n",
       "      <td>0</td>\n",
       "      <td>0003_agent_params.args_.action_w_noise_amplitu...</td>\n",
       "      <td>D:\\Work\\repos\\RL\\phd-rl-algos\\dqn\\opinion_dyna...</td>\n",
       "      <td>0</td>\n",
       "      <td>128</td>\n",
       "    </tr>\n",
       "    <tr>\n",
       "      <th>319</th>\n",
       "      <td>validation</td>\n",
       "      <td>4000000</td>\n",
       "      <td>-94.415634</td>\n",
       "      <td>83.000000</td>\n",
       "      <td>-25.592027</td>\n",
       "      <td>NaN</td>\n",
       "      <td>NaN</td>\n",
       "      <td>0 days 00:00:00.711304</td>\n",
       "      <td>1</td>\n",
       "      <td>0003_agent_params.args_.action_w_noise_amplitu...</td>\n",
       "      <td>D:\\Work\\repos\\RL\\phd-rl-algos\\dqn\\opinion_dyna...</td>\n",
       "      <td>0</td>\n",
       "      <td>128</td>\n",
       "    </tr>\n",
       "    <tr>\n",
       "      <th>359</th>\n",
       "      <td>validation</td>\n",
       "      <td>4000000</td>\n",
       "      <td>-95.506483</td>\n",
       "      <td>86.000000</td>\n",
       "      <td>-25.594393</td>\n",
       "      <td>NaN</td>\n",
       "      <td>NaN</td>\n",
       "      <td>0 days 00:00:00.631811</td>\n",
       "      <td>0</td>\n",
       "      <td>0004_agent_params.args_.action_w_noise_amplitu...</td>\n",
       "      <td>D:\\Work\\repos\\RL\\phd-rl-algos\\dqn\\opinion_dyna...</td>\n",
       "      <td>0.1</td>\n",
       "      <td>16</td>\n",
       "    </tr>\n",
       "    <tr>\n",
       "      <th>399</th>\n",
       "      <td>validation</td>\n",
       "      <td>4000000</td>\n",
       "      <td>-96.797639</td>\n",
       "      <td>97.000000</td>\n",
       "      <td>-25.590707</td>\n",
       "      <td>NaN</td>\n",
       "      <td>NaN</td>\n",
       "      <td>0 days 00:00:00.646198</td>\n",
       "      <td>1</td>\n",
       "      <td>0004_agent_params.args_.action_w_noise_amplitu...</td>\n",
       "      <td>D:\\Work\\repos\\RL\\phd-rl-algos\\dqn\\opinion_dyna...</td>\n",
       "      <td>0.1</td>\n",
       "      <td>16</td>\n",
       "    </tr>\n",
       "    <tr>\n",
       "      <th>439</th>\n",
       "      <td>validation</td>\n",
       "      <td>4000000</td>\n",
       "      <td>-134.763521</td>\n",
       "      <td>100.000000</td>\n",
       "      <td>-26.526751</td>\n",
       "      <td>NaN</td>\n",
       "      <td>NaN</td>\n",
       "      <td>0 days 00:00:00.618936</td>\n",
       "      <td>0</td>\n",
       "      <td>0005_agent_params.args_.action_w_noise_amplitu...</td>\n",
       "      <td>D:\\Work\\repos\\RL\\phd-rl-algos\\dqn\\opinion_dyna...</td>\n",
       "      <td>0.1</td>\n",
       "      <td>32</td>\n",
       "    </tr>\n",
       "    <tr>\n",
       "      <th>479</th>\n",
       "      <td>validation</td>\n",
       "      <td>4000000</td>\n",
       "      <td>-66.707561</td>\n",
       "      <td>69.000000</td>\n",
       "      <td>-21.755579</td>\n",
       "      <td>NaN</td>\n",
       "      <td>NaN</td>\n",
       "      <td>0 days 00:00:00.629110</td>\n",
       "      <td>1</td>\n",
       "      <td>0005_agent_params.args_.action_w_noise_amplitu...</td>\n",
       "      <td>D:\\Work\\repos\\RL\\phd-rl-algos\\dqn\\opinion_dyna...</td>\n",
       "      <td>0.1</td>\n",
       "      <td>32</td>\n",
       "    </tr>\n",
       "    <tr>\n",
       "      <th>519</th>\n",
       "      <td>validation</td>\n",
       "      <td>4000000</td>\n",
       "      <td>-134.855134</td>\n",
       "      <td>100.000000</td>\n",
       "      <td>-26.526773</td>\n",
       "      <td>NaN</td>\n",
       "      <td>NaN</td>\n",
       "      <td>0 days 00:00:00.604674</td>\n",
       "      <td>0</td>\n",
       "      <td>0006_agent_params.args_.action_w_noise_amplitu...</td>\n",
       "      <td>D:\\Work\\repos\\RL\\phd-rl-algos\\dqn\\opinion_dyna...</td>\n",
       "      <td>0.1</td>\n",
       "      <td>64</td>\n",
       "    </tr>\n",
       "    <tr>\n",
       "      <th>559</th>\n",
       "      <td>validation</td>\n",
       "      <td>4000000</td>\n",
       "      <td>-143.081337</td>\n",
       "      <td>100.000000</td>\n",
       "      <td>-29.264717</td>\n",
       "      <td>NaN</td>\n",
       "      <td>NaN</td>\n",
       "      <td>0 days 00:00:00.612461</td>\n",
       "      <td>1</td>\n",
       "      <td>0006_agent_params.args_.action_w_noise_amplitu...</td>\n",
       "      <td>D:\\Work\\repos\\RL\\phd-rl-algos\\dqn\\opinion_dyna...</td>\n",
       "      <td>0.1</td>\n",
       "      <td>64</td>\n",
       "    </tr>\n",
       "    <tr>\n",
       "      <th>599</th>\n",
       "      <td>validation</td>\n",
       "      <td>4000000</td>\n",
       "      <td>-94.292681</td>\n",
       "      <td>82.000000</td>\n",
       "      <td>-25.639170</td>\n",
       "      <td>NaN</td>\n",
       "      <td>NaN</td>\n",
       "      <td>0 days 00:00:00.695563</td>\n",
       "      <td>0</td>\n",
       "      <td>0007_agent_params.args_.action_w_noise_amplitu...</td>\n",
       "      <td>D:\\Work\\repos\\RL\\phd-rl-algos\\dqn\\opinion_dyna...</td>\n",
       "      <td>0.1</td>\n",
       "      <td>128</td>\n",
       "    </tr>\n",
       "    <tr>\n",
       "      <th>639</th>\n",
       "      <td>validation</td>\n",
       "      <td>4000000</td>\n",
       "      <td>-94.087968</td>\n",
       "      <td>82.000000</td>\n",
       "      <td>-25.597466</td>\n",
       "      <td>NaN</td>\n",
       "      <td>NaN</td>\n",
       "      <td>0 days 00:00:00.676983</td>\n",
       "      <td>1</td>\n",
       "      <td>0007_agent_params.args_.action_w_noise_amplitu...</td>\n",
       "      <td>D:\\Work\\repos\\RL\\phd-rl-algos\\dqn\\opinion_dyna...</td>\n",
       "      <td>0.1</td>\n",
       "      <td>128</td>\n",
       "    </tr>\n",
       "    <tr>\n",
       "      <th>679</th>\n",
       "      <td>validation</td>\n",
       "      <td>4000000</td>\n",
       "      <td>-72.081927</td>\n",
       "      <td>65.000000</td>\n",
       "      <td>-23.780621</td>\n",
       "      <td>NaN</td>\n",
       "      <td>NaN</td>\n",
       "      <td>0 days 00:00:00.613406</td>\n",
       "      <td>0</td>\n",
       "      <td>0008_agent_params.args_.action_w_noise_amplitu...</td>\n",
       "      <td>D:\\Work\\repos\\RL\\phd-rl-algos\\dqn\\opinion_dyna...</td>\n",
       "      <td>0.3</td>\n",
       "      <td>16</td>\n",
       "    </tr>\n",
       "    <tr>\n",
       "      <th>719</th>\n",
       "      <td>validation</td>\n",
       "      <td>4000000</td>\n",
       "      <td>-93.595480</td>\n",
       "      <td>81.000000</td>\n",
       "      <td>-25.608864</td>\n",
       "      <td>NaN</td>\n",
       "      <td>NaN</td>\n",
       "      <td>0 days 00:00:00.638749</td>\n",
       "      <td>1</td>\n",
       "      <td>0008_agent_params.args_.action_w_noise_amplitu...</td>\n",
       "      <td>D:\\Work\\repos\\RL\\phd-rl-algos\\dqn\\opinion_dyna...</td>\n",
       "      <td>0.3</td>\n",
       "      <td>16</td>\n",
       "    </tr>\n",
       "    <tr>\n",
       "      <th>759</th>\n",
       "      <td>validation</td>\n",
       "      <td>4000000</td>\n",
       "      <td>-57.837439</td>\n",
       "      <td>80.000000</td>\n",
       "      <td>-18.505522</td>\n",
       "      <td>NaN</td>\n",
       "      <td>NaN</td>\n",
       "      <td>0 days 00:00:00.644842</td>\n",
       "      <td>0</td>\n",
       "      <td>0009_agent_params.args_.action_w_noise_amplitu...</td>\n",
       "      <td>D:\\Work\\repos\\RL\\phd-rl-algos\\dqn\\opinion_dyna...</td>\n",
       "      <td>0.3</td>\n",
       "      <td>32</td>\n",
       "    </tr>\n",
       "    <tr>\n",
       "      <th>799</th>\n",
       "      <td>validation</td>\n",
       "      <td>4000000</td>\n",
       "      <td>-93.902974</td>\n",
       "      <td>82.000000</td>\n",
       "      <td>-25.590020</td>\n",
       "      <td>NaN</td>\n",
       "      <td>NaN</td>\n",
       "      <td>0 days 00:00:00.691190</td>\n",
       "      <td>1</td>\n",
       "      <td>0009_agent_params.args_.action_w_noise_amplitu...</td>\n",
       "      <td>D:\\Work\\repos\\RL\\phd-rl-algos\\dqn\\opinion_dyna...</td>\n",
       "      <td>0.3</td>\n",
       "      <td>32</td>\n",
       "    </tr>\n",
       "    <tr>\n",
       "      <th>839</th>\n",
       "      <td>validation</td>\n",
       "      <td>4000000</td>\n",
       "      <td>-90.788212</td>\n",
       "      <td>100.000000</td>\n",
       "      <td>-23.098365</td>\n",
       "      <td>NaN</td>\n",
       "      <td>NaN</td>\n",
       "      <td>0 days 00:00:00.599029</td>\n",
       "      <td>0</td>\n",
       "      <td>0010_agent_params.args_.action_w_noise_amplitu...</td>\n",
       "      <td>D:\\Work\\repos\\RL\\phd-rl-algos\\dqn\\opinion_dyna...</td>\n",
       "      <td>0.3</td>\n",
       "      <td>64</td>\n",
       "    </tr>\n",
       "    <tr>\n",
       "      <th>879</th>\n",
       "      <td>validation</td>\n",
       "      <td>4000000</td>\n",
       "      <td>-44.920196</td>\n",
       "      <td>50.000000</td>\n",
       "      <td>-19.073813</td>\n",
       "      <td>NaN</td>\n",
       "      <td>NaN</td>\n",
       "      <td>0 days 00:00:00.592377</td>\n",
       "      <td>1</td>\n",
       "      <td>0010_agent_params.args_.action_w_noise_amplitu...</td>\n",
       "      <td>D:\\Work\\repos\\RL\\phd-rl-algos\\dqn\\opinion_dyna...</td>\n",
       "      <td>0.3</td>\n",
       "      <td>64</td>\n",
       "    </tr>\n",
       "    <tr>\n",
       "      <th>919</th>\n",
       "      <td>validation</td>\n",
       "      <td>4000000</td>\n",
       "      <td>-57.132063</td>\n",
       "      <td>51.000000</td>\n",
       "      <td>-21.423401</td>\n",
       "      <td>NaN</td>\n",
       "      <td>NaN</td>\n",
       "      <td>0 days 00:00:00.650348</td>\n",
       "      <td>0</td>\n",
       "      <td>0011_agent_params.args_.action_w_noise_amplitu...</td>\n",
       "      <td>D:\\Work\\repos\\RL\\phd-rl-algos\\dqn\\opinion_dyna...</td>\n",
       "      <td>0.3</td>\n",
       "      <td>128</td>\n",
       "    </tr>\n",
       "    <tr>\n",
       "      <th>959</th>\n",
       "      <td>validation</td>\n",
       "      <td>4000000</td>\n",
       "      <td>-94.682074</td>\n",
       "      <td>83.000000</td>\n",
       "      <td>-25.644971</td>\n",
       "      <td>NaN</td>\n",
       "      <td>NaN</td>\n",
       "      <td>0 days 00:00:00.681730</td>\n",
       "      <td>1</td>\n",
       "      <td>0011_agent_params.args_.action_w_noise_amplitu...</td>\n",
       "      <td>D:\\Work\\repos\\RL\\phd-rl-algos\\dqn\\opinion_dyna...</td>\n",
       "      <td>0.3</td>\n",
       "      <td>128</td>\n",
       "    </tr>\n",
       "    <tr>\n",
       "      <th>999</th>\n",
       "      <td>validation</td>\n",
       "      <td>4000000</td>\n",
       "      <td>-66.783549</td>\n",
       "      <td>69.666667</td>\n",
       "      <td>-22.535560</td>\n",
       "      <td>NaN</td>\n",
       "      <td>NaN</td>\n",
       "      <td>0 days 00:00:00.621196</td>\n",
       "      <td>0</td>\n",
       "      <td>0012_agent_params.args_.action_w_noise_amplitu...</td>\n",
       "      <td>D:\\Work\\repos\\RL\\phd-rl-algos\\dqn\\opinion_dyna...</td>\n",
       "      <td>0.6</td>\n",
       "      <td>16</td>\n",
       "    </tr>\n",
       "    <tr>\n",
       "      <th>1039</th>\n",
       "      <td>validation</td>\n",
       "      <td>4000000</td>\n",
       "      <td>-93.572329</td>\n",
       "      <td>81.000000</td>\n",
       "      <td>-25.588871</td>\n",
       "      <td>NaN</td>\n",
       "      <td>NaN</td>\n",
       "      <td>0 days 00:00:00.661269</td>\n",
       "      <td>1</td>\n",
       "      <td>0012_agent_params.args_.action_w_noise_amplitu...</td>\n",
       "      <td>D:\\Work\\repos\\RL\\phd-rl-algos\\dqn\\opinion_dyna...</td>\n",
       "      <td>0.6</td>\n",
       "      <td>16</td>\n",
       "    </tr>\n",
       "    <tr>\n",
       "      <th>1079</th>\n",
       "      <td>validation</td>\n",
       "      <td>4000000</td>\n",
       "      <td>-134.884487</td>\n",
       "      <td>100.000000</td>\n",
       "      <td>-26.525813</td>\n",
       "      <td>NaN</td>\n",
       "      <td>NaN</td>\n",
       "      <td>0 days 00:00:00.628191</td>\n",
       "      <td>0</td>\n",
       "      <td>0013_agent_params.args_.action_w_noise_amplitu...</td>\n",
       "      <td>D:\\Work\\repos\\RL\\phd-rl-algos\\dqn\\opinion_dyna...</td>\n",
       "      <td>0.6</td>\n",
       "      <td>32</td>\n",
       "    </tr>\n",
       "    <tr>\n",
       "      <th>1119</th>\n",
       "      <td>validation</td>\n",
       "      <td>4000000</td>\n",
       "      <td>-94.204912</td>\n",
       "      <td>82.000000</td>\n",
       "      <td>-25.590158</td>\n",
       "      <td>NaN</td>\n",
       "      <td>NaN</td>\n",
       "      <td>0 days 00:00:00.692309</td>\n",
       "      <td>1</td>\n",
       "      <td>0013_agent_params.args_.action_w_noise_amplitu...</td>\n",
       "      <td>D:\\Work\\repos\\RL\\phd-rl-algos\\dqn\\opinion_dyna...</td>\n",
       "      <td>0.6</td>\n",
       "      <td>32</td>\n",
       "    </tr>\n",
       "    <tr>\n",
       "      <th>1159</th>\n",
       "      <td>validation</td>\n",
       "      <td>4000000</td>\n",
       "      <td>-41.217540</td>\n",
       "      <td>37.037037</td>\n",
       "      <td>-19.094304</td>\n",
       "      <td>NaN</td>\n",
       "      <td>NaN</td>\n",
       "      <td>0 days 00:00:00.599619</td>\n",
       "      <td>0</td>\n",
       "      <td>0014_agent_params.args_.action_w_noise_amplitu...</td>\n",
       "      <td>D:\\Work\\repos\\RL\\phd-rl-algos\\dqn\\opinion_dyna...</td>\n",
       "      <td>0.6</td>\n",
       "      <td>64</td>\n",
       "    </tr>\n",
       "    <tr>\n",
       "      <th>1199</th>\n",
       "      <td>validation</td>\n",
       "      <td>4000000</td>\n",
       "      <td>-134.737332</td>\n",
       "      <td>100.000000</td>\n",
       "      <td>-26.525967</td>\n",
       "      <td>NaN</td>\n",
       "      <td>NaN</td>\n",
       "      <td>0 days 00:00:00.586322</td>\n",
       "      <td>1</td>\n",
       "      <td>0014_agent_params.args_.action_w_noise_amplitu...</td>\n",
       "      <td>D:\\Work\\repos\\RL\\phd-rl-algos\\dqn\\opinion_dyna...</td>\n",
       "      <td>0.6</td>\n",
       "      <td>64</td>\n",
       "    </tr>\n",
       "    <tr>\n",
       "      <th>1239</th>\n",
       "      <td>validation</td>\n",
       "      <td>4000000</td>\n",
       "      <td>-92.868036</td>\n",
       "      <td>77.153846</td>\n",
       "      <td>-25.590455</td>\n",
       "      <td>NaN</td>\n",
       "      <td>NaN</td>\n",
       "      <td>0 days 00:00:00.555548</td>\n",
       "      <td>0</td>\n",
       "      <td>0015_agent_params.args_.action_w_noise_amplitu...</td>\n",
       "      <td>D:\\Work\\repos\\RL\\phd-rl-algos\\dqn\\opinion_dyna...</td>\n",
       "      <td>0.6</td>\n",
       "      <td>128</td>\n",
       "    </tr>\n",
       "    <tr>\n",
       "      <th>1279</th>\n",
       "      <td>validation</td>\n",
       "      <td>4000000</td>\n",
       "      <td>-93.210268</td>\n",
       "      <td>81.000000</td>\n",
       "      <td>-25.496525</td>\n",
       "      <td>NaN</td>\n",
       "      <td>NaN</td>\n",
       "      <td>0 days 00:00:00.583436</td>\n",
       "      <td>1</td>\n",
       "      <td>0015_agent_params.args_.action_w_noise_amplitu...</td>\n",
       "      <td>D:\\Work\\repos\\RL\\phd-rl-algos\\dqn\\opinion_dyna...</td>\n",
       "      <td>0.6</td>\n",
       "      <td>128</td>\n",
       "    </tr>\n",
       "    <tr>\n",
       "      <th>1319</th>\n",
       "      <td>validation</td>\n",
       "      <td>4000000</td>\n",
       "      <td>-93.392282</td>\n",
       "      <td>81.000000</td>\n",
       "      <td>-25.584500</td>\n",
       "      <td>NaN</td>\n",
       "      <td>NaN</td>\n",
       "      <td>0 days 00:00:00.641088</td>\n",
       "      <td>0</td>\n",
       "      <td>0016_agent_params.args_.action_w_noise_amplitu...</td>\n",
       "      <td>D:\\Work\\repos\\RL\\phd-rl-algos\\dqn\\opinion_dyna...</td>\n",
       "      <td>1</td>\n",
       "      <td>16</td>\n",
       "    </tr>\n",
       "    <tr>\n",
       "      <th>1359</th>\n",
       "      <td>validation</td>\n",
       "      <td>4000000</td>\n",
       "      <td>-93.585311</td>\n",
       "      <td>81.000000</td>\n",
       "      <td>-25.585882</td>\n",
       "      <td>NaN</td>\n",
       "      <td>NaN</td>\n",
       "      <td>0 days 00:00:00.669878</td>\n",
       "      <td>1</td>\n",
       "      <td>0016_agent_params.args_.action_w_noise_amplitu...</td>\n",
       "      <td>D:\\Work\\repos\\RL\\phd-rl-algos\\dqn\\opinion_dyna...</td>\n",
       "      <td>1</td>\n",
       "      <td>16</td>\n",
       "    </tr>\n",
       "    <tr>\n",
       "      <th>1399</th>\n",
       "      <td>validation</td>\n",
       "      <td>4000000</td>\n",
       "      <td>-134.615237</td>\n",
       "      <td>100.000000</td>\n",
       "      <td>-26.520770</td>\n",
       "      <td>NaN</td>\n",
       "      <td>NaN</td>\n",
       "      <td>0 days 00:00:00.616743</td>\n",
       "      <td>0</td>\n",
       "      <td>0017_agent_params.args_.action_w_noise_amplitu...</td>\n",
       "      <td>D:\\Work\\repos\\RL\\phd-rl-algos\\dqn\\opinion_dyna...</td>\n",
       "      <td>1</td>\n",
       "      <td>32</td>\n",
       "    </tr>\n",
       "    <tr>\n",
       "      <th>1439</th>\n",
       "      <td>validation</td>\n",
       "      <td>4000000</td>\n",
       "      <td>-92.105796</td>\n",
       "      <td>77.846154</td>\n",
       "      <td>-25.581502</td>\n",
       "      <td>NaN</td>\n",
       "      <td>NaN</td>\n",
       "      <td>0 days 00:00:00.633452</td>\n",
       "      <td>1</td>\n",
       "      <td>0017_agent_params.args_.action_w_noise_amplitu...</td>\n",
       "      <td>D:\\Work\\repos\\RL\\phd-rl-algos\\dqn\\opinion_dyna...</td>\n",
       "      <td>1</td>\n",
       "      <td>32</td>\n",
       "    </tr>\n",
       "    <tr>\n",
       "      <th>1479</th>\n",
       "      <td>validation</td>\n",
       "      <td>4000000</td>\n",
       "      <td>-133.441035</td>\n",
       "      <td>100.000000</td>\n",
       "      <td>-26.520688</td>\n",
       "      <td>NaN</td>\n",
       "      <td>NaN</td>\n",
       "      <td>0 days 00:00:00.455338</td>\n",
       "      <td>0</td>\n",
       "      <td>0018_agent_params.args_.action_w_noise_amplitu...</td>\n",
       "      <td>D:\\Work\\repos\\RL\\phd-rl-algos\\dqn\\opinion_dyna...</td>\n",
       "      <td>1</td>\n",
       "      <td>64</td>\n",
       "    </tr>\n",
       "    <tr>\n",
       "      <th>1519</th>\n",
       "      <td>validation</td>\n",
       "      <td>4000000</td>\n",
       "      <td>-134.616371</td>\n",
       "      <td>100.000000</td>\n",
       "      <td>-26.520591</td>\n",
       "      <td>NaN</td>\n",
       "      <td>NaN</td>\n",
       "      <td>0 days 00:00:00.445292</td>\n",
       "      <td>1</td>\n",
       "      <td>0018_agent_params.args_.action_w_noise_amplitu...</td>\n",
       "      <td>D:\\Work\\repos\\RL\\phd-rl-algos\\dqn\\opinion_dyna...</td>\n",
       "      <td>1</td>\n",
       "      <td>64</td>\n",
       "    </tr>\n",
       "    <tr>\n",
       "      <th>1559</th>\n",
       "      <td>validation</td>\n",
       "      <td>4000000</td>\n",
       "      <td>-100.114689</td>\n",
       "      <td>100.000000</td>\n",
       "      <td>-25.585749</td>\n",
       "      <td>NaN</td>\n",
       "      <td>NaN</td>\n",
       "      <td>0 days 00:00:00.466141</td>\n",
       "      <td>0</td>\n",
       "      <td>0019_agent_params.args_.action_w_noise_amplitu...</td>\n",
       "      <td>D:\\Work\\repos\\RL\\phd-rl-algos\\dqn\\opinion_dyna...</td>\n",
       "      <td>1</td>\n",
       "      <td>128</td>\n",
       "    </tr>\n",
       "    <tr>\n",
       "      <th>1599</th>\n",
       "      <td>validation</td>\n",
       "      <td>4000000</td>\n",
       "      <td>-93.493550</td>\n",
       "      <td>81.000000</td>\n",
       "      <td>-25.584752</td>\n",
       "      <td>NaN</td>\n",
       "      <td>NaN</td>\n",
       "      <td>0 days 00:00:00.477308</td>\n",
       "      <td>1</td>\n",
       "      <td>0019_agent_params.args_.action_w_noise_amplitu...</td>\n",
       "      <td>D:\\Work\\repos\\RL\\phd-rl-algos\\dqn\\opinion_dyna...</td>\n",
       "      <td>1</td>\n",
       "      <td>128</td>\n",
       "    </tr>\n",
       "  </tbody>\n",
       "</table>\n",
       "</div>"
      ],
      "text/plain": [
       "      epoch_type  frame_stamp  episode_rewards_mean  episode_frames_mean  \\\n",
       "39    validation      4000000            -69.696657            63.000000   \n",
       "79    validation      4000000            -52.509505            63.000000   \n",
       "119   validation      4000000            -69.719425            71.000000   \n",
       "159   validation      4000000            -79.132658            74.000000   \n",
       "199   validation      4000000            -60.168262            65.000000   \n",
       "239   validation      4000000            -31.844159            27.000000   \n",
       "279   validation      4000000            -94.424289            82.076923   \n",
       "319   validation      4000000            -94.415634            83.000000   \n",
       "359   validation      4000000            -95.506483            86.000000   \n",
       "399   validation      4000000            -96.797639            97.000000   \n",
       "439   validation      4000000           -134.763521           100.000000   \n",
       "479   validation      4000000            -66.707561            69.000000   \n",
       "519   validation      4000000           -134.855134           100.000000   \n",
       "559   validation      4000000           -143.081337           100.000000   \n",
       "599   validation      4000000            -94.292681            82.000000   \n",
       "639   validation      4000000            -94.087968            82.000000   \n",
       "679   validation      4000000            -72.081927            65.000000   \n",
       "719   validation      4000000            -93.595480            81.000000   \n",
       "759   validation      4000000            -57.837439            80.000000   \n",
       "799   validation      4000000            -93.902974            82.000000   \n",
       "839   validation      4000000            -90.788212           100.000000   \n",
       "879   validation      4000000            -44.920196            50.000000   \n",
       "919   validation      4000000            -57.132063            51.000000   \n",
       "959   validation      4000000            -94.682074            83.000000   \n",
       "999   validation      4000000            -66.783549            69.666667   \n",
       "1039  validation      4000000            -93.572329            81.000000   \n",
       "1079  validation      4000000           -134.884487           100.000000   \n",
       "1119  validation      4000000            -94.204912            82.000000   \n",
       "1159  validation      4000000            -41.217540            37.037037   \n",
       "1199  validation      4000000           -134.737332           100.000000   \n",
       "1239  validation      4000000            -92.868036            77.153846   \n",
       "1279  validation      4000000            -93.210268            81.000000   \n",
       "1319  validation      4000000            -93.392282            81.000000   \n",
       "1359  validation      4000000            -93.585311            81.000000   \n",
       "1399  validation      4000000           -134.615237           100.000000   \n",
       "1439  validation      4000000            -92.105796            77.846154   \n",
       "1479  validation      4000000           -133.441035           100.000000   \n",
       "1519  validation      4000000           -134.616371           100.000000   \n",
       "1559  validation      4000000           -100.114689           100.000000   \n",
       "1599  validation      4000000            -93.493550            81.000000   \n",
       "\n",
       "      episode_discounted_rewards_mean  policy_trained_times  \\\n",
       "39                         -23.602519                   NaN   \n",
       "79                         -18.048636                   NaN   \n",
       "119                        -22.141988                   NaN   \n",
       "159                        -24.087420                   NaN   \n",
       "199                        -20.576862                   NaN   \n",
       "239                        -16.993054                   NaN   \n",
       "279                        -25.645749                   NaN   \n",
       "319                        -25.592027                   NaN   \n",
       "359                        -25.594393                   NaN   \n",
       "399                        -25.590707                   NaN   \n",
       "439                        -26.526751                   NaN   \n",
       "479                        -21.755579                   NaN   \n",
       "519                        -26.526773                   NaN   \n",
       "559                        -29.264717                   NaN   \n",
       "599                        -25.639170                   NaN   \n",
       "639                        -25.597466                   NaN   \n",
       "679                        -23.780621                   NaN   \n",
       "719                        -25.608864                   NaN   \n",
       "759                        -18.505522                   NaN   \n",
       "799                        -25.590020                   NaN   \n",
       "839                        -23.098365                   NaN   \n",
       "879                        -19.073813                   NaN   \n",
       "919                        -21.423401                   NaN   \n",
       "959                        -25.644971                   NaN   \n",
       "999                        -22.535560                   NaN   \n",
       "1039                       -25.588871                   NaN   \n",
       "1079                       -26.525813                   NaN   \n",
       "1119                       -25.590158                   NaN   \n",
       "1159                       -19.094304                   NaN   \n",
       "1199                       -26.525967                   NaN   \n",
       "1239                       -25.590455                   NaN   \n",
       "1279                       -25.496525                   NaN   \n",
       "1319                       -25.584500                   NaN   \n",
       "1359                       -25.585882                   NaN   \n",
       "1399                       -26.520770                   NaN   \n",
       "1439                       -25.581502                   NaN   \n",
       "1479                       -26.520688                   NaN   \n",
       "1519                       -26.520591                   NaN   \n",
       "1559                       -25.585749                   NaN   \n",
       "1599                       -25.584752                   NaN   \n",
       "\n",
       "      target_trained_times             epoch_time seed  \\\n",
       "39                     NaN 0 days 00:00:00.591853    0   \n",
       "79                     NaN 0 days 00:00:00.579609    1   \n",
       "119                    NaN 0 days 00:00:00.634253    0   \n",
       "159                    NaN 0 days 00:00:00.653010    1   \n",
       "199                    NaN 0 days 00:00:00.615137    0   \n",
       "239                    NaN 0 days 00:00:00.746398    1   \n",
       "279                    NaN 0 days 00:00:00.733765    0   \n",
       "319                    NaN 0 days 00:00:00.711304    1   \n",
       "359                    NaN 0 days 00:00:00.631811    0   \n",
       "399                    NaN 0 days 00:00:00.646198    1   \n",
       "439                    NaN 0 days 00:00:00.618936    0   \n",
       "479                    NaN 0 days 00:00:00.629110    1   \n",
       "519                    NaN 0 days 00:00:00.604674    0   \n",
       "559                    NaN 0 days 00:00:00.612461    1   \n",
       "599                    NaN 0 days 00:00:00.695563    0   \n",
       "639                    NaN 0 days 00:00:00.676983    1   \n",
       "679                    NaN 0 days 00:00:00.613406    0   \n",
       "719                    NaN 0 days 00:00:00.638749    1   \n",
       "759                    NaN 0 days 00:00:00.644842    0   \n",
       "799                    NaN 0 days 00:00:00.691190    1   \n",
       "839                    NaN 0 days 00:00:00.599029    0   \n",
       "879                    NaN 0 days 00:00:00.592377    1   \n",
       "919                    NaN 0 days 00:00:00.650348    0   \n",
       "959                    NaN 0 days 00:00:00.681730    1   \n",
       "999                    NaN 0 days 00:00:00.621196    0   \n",
       "1039                   NaN 0 days 00:00:00.661269    1   \n",
       "1079                   NaN 0 days 00:00:00.628191    0   \n",
       "1119                   NaN 0 days 00:00:00.692309    1   \n",
       "1159                   NaN 0 days 00:00:00.599619    0   \n",
       "1199                   NaN 0 days 00:00:00.586322    1   \n",
       "1239                   NaN 0 days 00:00:00.555548    0   \n",
       "1279                   NaN 0 days 00:00:00.583436    1   \n",
       "1319                   NaN 0 days 00:00:00.641088    0   \n",
       "1359                   NaN 0 days 00:00:00.669878    1   \n",
       "1399                   NaN 0 days 00:00:00.616743    0   \n",
       "1439                   NaN 0 days 00:00:00.633452    1   \n",
       "1479                   NaN 0 days 00:00:00.455338    0   \n",
       "1519                   NaN 0 days 00:00:00.445292    1   \n",
       "1559                   NaN 0 days 00:00:00.466141    0   \n",
       "1599                   NaN 0 days 00:00:00.477308    1   \n",
       "\n",
       "                                        experiment_name  \\\n",
       "39    0000_agent_params.args_.action_w_noise_amplitu...   \n",
       "79    0000_agent_params.args_.action_w_noise_amplitu...   \n",
       "119   0001_agent_params.args_.action_w_noise_amplitu...   \n",
       "159   0001_agent_params.args_.action_w_noise_amplitu...   \n",
       "199   0002_agent_params.args_.action_w_noise_amplitu...   \n",
       "239   0002_agent_params.args_.action_w_noise_amplitu...   \n",
       "279   0003_agent_params.args_.action_w_noise_amplitu...   \n",
       "319   0003_agent_params.args_.action_w_noise_amplitu...   \n",
       "359   0004_agent_params.args_.action_w_noise_amplitu...   \n",
       "399   0004_agent_params.args_.action_w_noise_amplitu...   \n",
       "439   0005_agent_params.args_.action_w_noise_amplitu...   \n",
       "479   0005_agent_params.args_.action_w_noise_amplitu...   \n",
       "519   0006_agent_params.args_.action_w_noise_amplitu...   \n",
       "559   0006_agent_params.args_.action_w_noise_amplitu...   \n",
       "599   0007_agent_params.args_.action_w_noise_amplitu...   \n",
       "639   0007_agent_params.args_.action_w_noise_amplitu...   \n",
       "679   0008_agent_params.args_.action_w_noise_amplitu...   \n",
       "719   0008_agent_params.args_.action_w_noise_amplitu...   \n",
       "759   0009_agent_params.args_.action_w_noise_amplitu...   \n",
       "799   0009_agent_params.args_.action_w_noise_amplitu...   \n",
       "839   0010_agent_params.args_.action_w_noise_amplitu...   \n",
       "879   0010_agent_params.args_.action_w_noise_amplitu...   \n",
       "919   0011_agent_params.args_.action_w_noise_amplitu...   \n",
       "959   0011_agent_params.args_.action_w_noise_amplitu...   \n",
       "999   0012_agent_params.args_.action_w_noise_amplitu...   \n",
       "1039  0012_agent_params.args_.action_w_noise_amplitu...   \n",
       "1079  0013_agent_params.args_.action_w_noise_amplitu...   \n",
       "1119  0013_agent_params.args_.action_w_noise_amplitu...   \n",
       "1159  0014_agent_params.args_.action_w_noise_amplitu...   \n",
       "1199  0014_agent_params.args_.action_w_noise_amplitu...   \n",
       "1239  0015_agent_params.args_.action_w_noise_amplitu...   \n",
       "1279  0015_agent_params.args_.action_w_noise_amplitu...   \n",
       "1319  0016_agent_params.args_.action_w_noise_amplitu...   \n",
       "1359  0016_agent_params.args_.action_w_noise_amplitu...   \n",
       "1399  0017_agent_params.args_.action_w_noise_amplitu...   \n",
       "1439  0017_agent_params.args_.action_w_noise_amplitu...   \n",
       "1479  0018_agent_params.args_.action_w_noise_amplitu...   \n",
       "1519  0018_agent_params.args_.action_w_noise_amplitu...   \n",
       "1559  0019_agent_params.args_.action_w_noise_amplitu...   \n",
       "1599  0019_agent_params.args_.action_w_noise_amplitu...   \n",
       "\n",
       "                                    sub_experiment_path  \\\n",
       "39    D:\\Work\\repos\\RL\\phd-rl-algos\\dqn\\opinion_dyna...   \n",
       "79    D:\\Work\\repos\\RL\\phd-rl-algos\\dqn\\opinion_dyna...   \n",
       "119   D:\\Work\\repos\\RL\\phd-rl-algos\\dqn\\opinion_dyna...   \n",
       "159   D:\\Work\\repos\\RL\\phd-rl-algos\\dqn\\opinion_dyna...   \n",
       "199   D:\\Work\\repos\\RL\\phd-rl-algos\\dqn\\opinion_dyna...   \n",
       "239   D:\\Work\\repos\\RL\\phd-rl-algos\\dqn\\opinion_dyna...   \n",
       "279   D:\\Work\\repos\\RL\\phd-rl-algos\\dqn\\opinion_dyna...   \n",
       "319   D:\\Work\\repos\\RL\\phd-rl-algos\\dqn\\opinion_dyna...   \n",
       "359   D:\\Work\\repos\\RL\\phd-rl-algos\\dqn\\opinion_dyna...   \n",
       "399   D:\\Work\\repos\\RL\\phd-rl-algos\\dqn\\opinion_dyna...   \n",
       "439   D:\\Work\\repos\\RL\\phd-rl-algos\\dqn\\opinion_dyna...   \n",
       "479   D:\\Work\\repos\\RL\\phd-rl-algos\\dqn\\opinion_dyna...   \n",
       "519   D:\\Work\\repos\\RL\\phd-rl-algos\\dqn\\opinion_dyna...   \n",
       "559   D:\\Work\\repos\\RL\\phd-rl-algos\\dqn\\opinion_dyna...   \n",
       "599   D:\\Work\\repos\\RL\\phd-rl-algos\\dqn\\opinion_dyna...   \n",
       "639   D:\\Work\\repos\\RL\\phd-rl-algos\\dqn\\opinion_dyna...   \n",
       "679   D:\\Work\\repos\\RL\\phd-rl-algos\\dqn\\opinion_dyna...   \n",
       "719   D:\\Work\\repos\\RL\\phd-rl-algos\\dqn\\opinion_dyna...   \n",
       "759   D:\\Work\\repos\\RL\\phd-rl-algos\\dqn\\opinion_dyna...   \n",
       "799   D:\\Work\\repos\\RL\\phd-rl-algos\\dqn\\opinion_dyna...   \n",
       "839   D:\\Work\\repos\\RL\\phd-rl-algos\\dqn\\opinion_dyna...   \n",
       "879   D:\\Work\\repos\\RL\\phd-rl-algos\\dqn\\opinion_dyna...   \n",
       "919   D:\\Work\\repos\\RL\\phd-rl-algos\\dqn\\opinion_dyna...   \n",
       "959   D:\\Work\\repos\\RL\\phd-rl-algos\\dqn\\opinion_dyna...   \n",
       "999   D:\\Work\\repos\\RL\\phd-rl-algos\\dqn\\opinion_dyna...   \n",
       "1039  D:\\Work\\repos\\RL\\phd-rl-algos\\dqn\\opinion_dyna...   \n",
       "1079  D:\\Work\\repos\\RL\\phd-rl-algos\\dqn\\opinion_dyna...   \n",
       "1119  D:\\Work\\repos\\RL\\phd-rl-algos\\dqn\\opinion_dyna...   \n",
       "1159  D:\\Work\\repos\\RL\\phd-rl-algos\\dqn\\opinion_dyna...   \n",
       "1199  D:\\Work\\repos\\RL\\phd-rl-algos\\dqn\\opinion_dyna...   \n",
       "1239  D:\\Work\\repos\\RL\\phd-rl-algos\\dqn\\opinion_dyna...   \n",
       "1279  D:\\Work\\repos\\RL\\phd-rl-algos\\dqn\\opinion_dyna...   \n",
       "1319  D:\\Work\\repos\\RL\\phd-rl-algos\\dqn\\opinion_dyna...   \n",
       "1359  D:\\Work\\repos\\RL\\phd-rl-algos\\dqn\\opinion_dyna...   \n",
       "1399  D:\\Work\\repos\\RL\\phd-rl-algos\\dqn\\opinion_dyna...   \n",
       "1439  D:\\Work\\repos\\RL\\phd-rl-algos\\dqn\\opinion_dyna...   \n",
       "1479  D:\\Work\\repos\\RL\\phd-rl-algos\\dqn\\opinion_dyna...   \n",
       "1519  D:\\Work\\repos\\RL\\phd-rl-algos\\dqn\\opinion_dyna...   \n",
       "1559  D:\\Work\\repos\\RL\\phd-rl-algos\\dqn\\opinion_dyna...   \n",
       "1599  D:\\Work\\repos\\RL\\phd-rl-algos\\dqn\\opinion_dyna...   \n",
       "\n",
       "     sub_exp_cfg_agent_params.args_.action_w_noise_amplitude  \\\n",
       "39                                                    0        \n",
       "79                                                    0        \n",
       "119                                                   0        \n",
       "159                                                   0        \n",
       "199                                                   0        \n",
       "239                                                   0        \n",
       "279                                                   0        \n",
       "319                                                   0        \n",
       "359                                                 0.1        \n",
       "399                                                 0.1        \n",
       "439                                                 0.1        \n",
       "479                                                 0.1        \n",
       "519                                                 0.1        \n",
       "559                                                 0.1        \n",
       "599                                                 0.1        \n",
       "639                                                 0.1        \n",
       "679                                                 0.3        \n",
       "719                                                 0.3        \n",
       "759                                                 0.3        \n",
       "799                                                 0.3        \n",
       "839                                                 0.3        \n",
       "879                                                 0.3        \n",
       "919                                                 0.3        \n",
       "959                                                 0.3        \n",
       "999                                                 0.6        \n",
       "1039                                                0.6        \n",
       "1079                                                0.6        \n",
       "1119                                                0.6        \n",
       "1159                                                0.6        \n",
       "1199                                                0.6        \n",
       "1239                                                0.6        \n",
       "1279                                                0.6        \n",
       "1319                                                  1        \n",
       "1359                                                  1        \n",
       "1399                                                  1        \n",
       "1439                                                  1        \n",
       "1479                                                  1        \n",
       "1519                                                  1        \n",
       "1559                                                  1        \n",
       "1599                                                  1        \n",
       "\n",
       "     sub_exp_cfg_estimator.args_.lin_hidden_out_size  \n",
       "39                                                16  \n",
       "79                                                16  \n",
       "119                                               32  \n",
       "159                                               32  \n",
       "199                                               64  \n",
       "239                                               64  \n",
       "279                                              128  \n",
       "319                                              128  \n",
       "359                                               16  \n",
       "399                                               16  \n",
       "439                                               32  \n",
       "479                                               32  \n",
       "519                                               64  \n",
       "559                                               64  \n",
       "599                                              128  \n",
       "639                                              128  \n",
       "679                                               16  \n",
       "719                                               16  \n",
       "759                                               32  \n",
       "799                                               32  \n",
       "839                                               64  \n",
       "879                                               64  \n",
       "919                                              128  \n",
       "959                                              128  \n",
       "999                                               16  \n",
       "1039                                              16  \n",
       "1079                                              32  \n",
       "1119                                              32  \n",
       "1159                                              64  \n",
       "1199                                              64  \n",
       "1239                                             128  \n",
       "1279                                             128  \n",
       "1319                                              16  \n",
       "1359                                              16  \n",
       "1399                                              32  \n",
       "1439                                              32  \n",
       "1479                                              64  \n",
       "1519                                              64  \n",
       "1559                                             128  \n",
       "1599                                             128  "
      ]
     },
     "execution_count": 37,
     "metadata": {},
     "output_type": "execute_result"
    }
   ],
   "source": [
    "### Select data\n",
    "\n",
    "experiment_columns = [\n",
    "    'epoch_type', 'frame_stamp',\n",
    "    'episode_rewards_mean', 'episode_frames_mean', \n",
    "    'episode_discounted_rewards_mean',\n",
    "    'policy_trained_times', 'target_trained_times', 'epoch_time', \n",
    "       'seed', 'experiment_name', \"sub_experiment_path\"\n",
    "]\n",
    "hyperparam_columns = [\n",
    "   col for col in df.columns if \"sub_exp_cfg\" in col\n",
    "]\n",
    "\n",
    "cols_of_interest = experiment_columns + hyperparam_columns\n",
    "\n",
    "sub_df = df[cols_of_interest]\n",
    "sub_df = sub_df[sub_df['epoch_type'] == 'validation']\n",
    "sub_df = sub_df[sub_df['frame_stamp'] == sub_df['frame_stamp'].max()]\n",
    "\n",
    "sub_df \n"
   ]
  },
  {
   "cell_type": "code",
   "execution_count": 38,
   "metadata": {},
   "outputs": [
    {
     "name": "stdout",
     "output_type": "stream",
     "text": [
      "D:\\Work\\repos\\RL\\phd-rl-algos\\dqn\\opinion_dynamics\\experiments\\results\\2025Mar21-013722_configs\\0002_agent_params.args_.action_w_noise_amplitude_0__estimator.args_.lin_hidden_out_size_64\\1\n"
     ]
    }
   ],
   "source": [
    "# Print the experiment_name of the row with the highest episode_rewards_mean \n",
    "print(sub_df[sub_df['episode_rewards_mean'] == sub_df['episode_rewards_mean'].max()]['sub_experiment_path'].values[0])\n",
    "# print(sub_df[sub_df['episode_rewards_mean'] == sub_df['episode_rewards_mean'].max()]['experiment_name'].values[0])\n",
    "# print(sub_df[sub_df['episode_rewards_mean'] == sub_df['episode_rewards_mean'].max()]['episode_rewards_mean'].values[0])\n"
   ]
  },
  {
   "cell_type": "code",
   "execution_count": 39,
   "metadata": {},
   "outputs": [
    {
     "data": {
      "image/png": "[encoded data removed]",
      "text/plain": [
       "<Figure size 800x230 with 2 Axes>"
      ]
     },
     "metadata": {},
     "output_type": "display_data"
    }
   ],
   "source": [
    "import shap\n",
    "import xgboost\n",
    "import pandas as pd\n",
    "\n",
    "\n",
    "# Define the target metric and hyperparameter columns\n",
    "target_metric = \"episode_rewards_mean\"  # Replace with actual metric column name\n",
    "# Replace with actual hyperparameter column names\n",
    "\n",
    "# Prepare data\n",
    "X = sub_df[hyperparam_columns].apply(pd.to_numeric, errors='coerce')\n",
    "y = sub_df[target_metric].fillna(3 * sub_df[target_metric].min())\n",
    "\n",
    "# Train an XGBoost model to analyze feature importance\n",
    "model = xgboost.XGBRegressor(objective=\"reg:squarederror\", n_estimators=100, random_state=42)\n",
    "model.fit(X, y)\n",
    "\n",
    "# SHAP analysis\n",
    "explainer = shap.Explainer(model)\n",
    "shap_values = explainer(X)\n",
    "\n",
    "# Summary plot (feature importance)\n",
    "shap.summary_plot(shap_values, X)"
   ]
  },
  {
   "cell_type": "code",
   "execution_count": 41,
   "metadata": {},
   "outputs": [
    {
     "data": {
      "text/plain": [
       "['sub_exp_cfg_agent_params.args_.action_w_noise_amplitude',\n",
       " 'sub_exp_cfg_estimator.args_.lin_hidden_out_size']"
      ]
     },
     "execution_count": 41,
     "metadata": {},
     "output_type": "execute_result"
    }
   ],
   "source": [
    "hyperparam_columns"
   ]
  },
  {
   "cell_type": "code",
   "execution_count": 49,
   "metadata": {},
   "outputs": [
    {
     "data": {
      "application/vnd.plotly.v1+json": {
       "config": {
        "plotlyServerURL": "https://plot.ly"
       },
       "data": [
        {
         "hovertemplate": "experiment_name=0000_agent_params.args_.action_w_noise_amplitude_0__estimator.args_.lin_hidden_out_size_16<br>size=16<br>noise=%{x}<br>episode_rewards_mean=%{y}<extra></extra>",
         "legendgroup": "0000_agent_params.args_.action_w_noise_amplitude_0__estimator.args_.lin_hidden_out_size_16",
         "marker": {
          "color": "#636efa",
          "symbol": "circle"
         },
         "mode": "markers",
         "name": "0000_agent_params.args_.action_w_noise_amplitude_0__estimator.args_.lin_hidden_out_size_16",
         "orientation": "v",
         "showlegend": true,
         "type": "scatter",
         "x": [
          "0",
          "0"
         ],
         "xaxis": "x",
         "y": [
          -69.69665687481141,
          -52.509504780754135
         ],
         "yaxis": "y"
        },
        {
         "hovertemplate": "experiment_name=0001_agent_params.args_.action_w_noise_amplitude_0__estimator.args_.lin_hidden_out_size_32<br>size=32<br>noise=%{x}<br>episode_rewards_mean=%{y}<extra></extra>",
         "legendgroup": "0001_agent_params.args_.action_w_noise_amplitude_0__estimator.args_.lin_hidden_out_size_32",
         "marker": {
          "color": "#EF553B",
          "symbol": "circle"
         },
         "mode": "markers",
         "name": "0001_agent_params.args_.action_w_noise_amplitude_0__estimator.args_.lin_hidden_out_size_32",
         "orientation": "v",
         "showlegend": true,
         "type": "scatter",
         "x": [
          "0",
          "0"
         ],
         "xaxis": "x2",
         "y": [
          -69.71942457845158,
          -79.13265828682724
         ],
         "yaxis": "y2"
        },
        {
         "hovertemplate": "experiment_name=0002_agent_params.args_.action_w_noise_amplitude_0__estimator.args_.lin_hidden_out_size_64<br>size=64<br>noise=%{x}<br>episode_rewards_mean=%{y}<extra></extra>",
         "legendgroup": "0002_agent_params.args_.action_w_noise_amplitude_0__estimator.args_.lin_hidden_out_size_64",
         "marker": {
          "color": "#00cc96",
          "symbol": "circle"
         },
         "mode": "markers",
         "name": "0002_agent_params.args_.action_w_noise_amplitude_0__estimator.args_.lin_hidden_out_size_64",
         "orientation": "v",
         "showlegend": true,
         "type": "scatter",
         "x": [
          "0",
          "0"
         ],
         "xaxis": "x3",
         "y": [
          -60.16826168461989,
          -31.844159489601818
         ],
         "yaxis": "y3"
        },
        {
         "hovertemplate": "experiment_name=0003_agent_params.args_.action_w_noise_amplitude_0__estimator.args_.lin_hidden_out_size_128<br>size=128<br>noise=%{x}<br>episode_rewards_mean=%{y}<extra></extra>",
         "legendgroup": "0003_agent_params.args_.action_w_noise_amplitude_0__estimator.args_.lin_hidden_out_size_128",
         "marker": {
          "color": "#ab63fa",
          "symbol": "circle"
         },
         "mode": "markers",
         "name": "0003_agent_params.args_.action_w_noise_amplitude_0__estimator.args_.lin_hidden_out_size_128",
         "orientation": "v",
         "showlegend": true,
         "type": "scatter",
         "x": [
          "0",
          "0"
         ],
         "xaxis": "x4",
         "y": [
          -94.42428868439536,
          -94.41563391840137
         ],
         "yaxis": "y4"
        },
        {
         "hovertemplate": "experiment_name=0004_agent_params.args_.action_w_noise_amplitude_0.1__estimator.args_.lin_hidden_out_size_16<br>size=16<br>noise=%{x}<br>episode_rewards_mean=%{y}<extra></extra>",
         "legendgroup": "0004_agent_params.args_.action_w_noise_amplitude_0.1__estimator.args_.lin_hidden_out_size_16",
         "marker": {
          "color": "#FFA15A",
          "symbol": "circle"
         },
         "mode": "markers",
         "name": "0004_agent_params.args_.action_w_noise_amplitude_0.1__estimator.args_.lin_hidden_out_size_16",
         "orientation": "v",
         "showlegend": true,
         "type": "scatter",
         "x": [
          "0.1",
          "0.1"
         ],
         "xaxis": "x",
         "y": [
          -95.50648310085931,
          -96.79763864103728
         ],
         "yaxis": "y"
        },
        {
         "hovertemplate": "experiment_name=0005_agent_params.args_.action_w_noise_amplitude_0.1__estimator.args_.lin_hidden_out_size_32<br>size=32<br>noise=%{x}<br>episode_rewards_mean=%{y}<extra></extra>",
         "legendgroup": "0005_agent_params.args_.action_w_noise_amplitude_0.1__estimator.args_.lin_hidden_out_size_32",
         "marker": {
          "color": "#19d3f3",
          "symbol": "circle"
         },
         "mode": "markers",
         "name": "0005_agent_params.args_.action_w_noise_amplitude_0.1__estimator.args_.lin_hidden_out_size_32",
         "orientation": "v",
         "showlegend": true,
         "type": "scatter",
         "x": [
          "0.1",
          "0.1"
         ],
         "xaxis": "x2",
         "y": [
          -134.76352062061918,
          -66.70756138966222
         ],
         "yaxis": "y2"
        },
        {
         "hovertemplate": "experiment_name=0006_agent_params.args_.action_w_noise_amplitude_0.1__estimator.args_.lin_hidden_out_size_64<br>size=64<br>noise=%{x}<br>episode_rewards_mean=%{y}<extra></extra>",
         "legendgroup": "0006_agent_params.args_.action_w_noise_amplitude_0.1__estimator.args_.lin_hidden_out_size_64",
         "marker": {
          "color": "#FF6692",
          "symbol": "circle"
         },
         "mode": "markers",
         "name": "0006_agent_params.args_.action_w_noise_amplitude_0.1__estimator.args_.lin_hidden_out_size_64",
         "orientation": "v",
         "showlegend": true,
         "type": "scatter",
         "x": [
          "0.1",
          "0.1"
         ],
         "xaxis": "x3",
         "y": [
          -134.85513386997326,
          -143.08133684276504
         ],
         "yaxis": "y3"
        },
        {
         "hovertemplate": "experiment_name=0007_agent_params.args_.action_w_noise_amplitude_0.1__estimator.args_.lin_hidden_out_size_128<br>size=128<br>noise=%{x}<br>episode_rewards_mean=%{y}<extra></extra>",
         "legendgroup": "0007_agent_params.args_.action_w_noise_amplitude_0.1__estimator.args_.lin_hidden_out_size_128",
         "marker": {
          "color": "#B6E880",
          "symbol": "circle"
         },
         "mode": "markers",
         "name": "0007_agent_params.args_.action_w_noise_amplitude_0.1__estimator.args_.lin_hidden_out_size_128",
         "orientation": "v",
         "showlegend": true,
         "type": "scatter",
         "x": [
          "0.1",
          "0.1"
         ],
         "xaxis": "x4",
         "y": [
          -94.29268116147388,
          -94.08796770940886
         ],
         "yaxis": "y4"
        },
        {
         "hovertemplate": "experiment_name=0008_agent_params.args_.action_w_noise_amplitude_0.3__estimator.args_.lin_hidden_out_size_16<br>size=16<br>noise=%{x}<br>episode_rewards_mean=%{y}<extra></extra>",
         "legendgroup": "0008_agent_params.args_.action_w_noise_amplitude_0.3__estimator.args_.lin_hidden_out_size_16",
         "marker": {
          "color": "#FF97FF",
          "symbol": "circle"
         },
         "mode": "markers",
         "name": "0008_agent_params.args_.action_w_noise_amplitude_0.3__estimator.args_.lin_hidden_out_size_16",
         "orientation": "v",
         "showlegend": true,
         "type": "scatter",
         "x": [
          "0.3",
          "0.3"
         ],
         "xaxis": "x",
         "y": [
          -72.0819270996279,
          -93.59548020942965
         ],
         "yaxis": "y"
        },
        {
         "hovertemplate": "experiment_name=0009_agent_params.args_.action_w_noise_amplitude_0.3__estimator.args_.lin_hidden_out_size_32<br>size=32<br>noise=%{x}<br>episode_rewards_mean=%{y}<extra></extra>",
         "legendgroup": "0009_agent_params.args_.action_w_noise_amplitude_0.3__estimator.args_.lin_hidden_out_size_32",
         "marker": {
          "color": "#FECB52",
          "symbol": "circle"
         },
         "mode": "markers",
         "name": "0009_agent_params.args_.action_w_noise_amplitude_0.3__estimator.args_.lin_hidden_out_size_32",
         "orientation": "v",
         "showlegend": true,
         "type": "scatter",
         "x": [
          "0.3",
          "0.3"
         ],
         "xaxis": "x2",
         "y": [
          -57.83743906531641,
          -93.90297444636256
         ],
         "yaxis": "y2"
        },
        {
         "hovertemplate": "experiment_name=0010_agent_params.args_.action_w_noise_amplitude_0.3__estimator.args_.lin_hidden_out_size_64<br>size=64<br>noise=%{x}<br>episode_rewards_mean=%{y}<extra></extra>",
         "legendgroup": "0010_agent_params.args_.action_w_noise_amplitude_0.3__estimator.args_.lin_hidden_out_size_64",
         "marker": {
          "color": "#636efa",
          "symbol": "circle"
         },
         "mode": "markers",
         "name": "0010_agent_params.args_.action_w_noise_amplitude_0.3__estimator.args_.lin_hidden_out_size_64",
         "orientation": "v",
         "showlegend": true,
         "type": "scatter",
         "x": [
          "0.3",
          "0.3"
         ],
         "xaxis": "x3",
         "y": [
          -90.7882124097505,
          -44.920195541269976
         ],
         "yaxis": "y3"
        },
        {
         "hovertemplate": "experiment_name=0011_agent_params.args_.action_w_noise_amplitude_0.3__estimator.args_.lin_hidden_out_size_128<br>size=128<br>noise=%{x}<br>episode_rewards_mean=%{y}<extra></extra>",
         "legendgroup": "0011_agent_params.args_.action_w_noise_amplitude_0.3__estimator.args_.lin_hidden_out_size_128",
         "marker": {
          "color": "#EF553B",
          "symbol": "circle"
         },
         "mode": "markers",
         "name": "0011_agent_params.args_.action_w_noise_amplitude_0.3__estimator.args_.lin_hidden_out_size_128",
         "orientation": "v",
         "showlegend": true,
         "type": "scatter",
         "x": [
          "0.3",
          "0.3"
         ],
         "xaxis": "x4",
         "y": [
          -57.13206324123295,
          -94.6820742477774
         ],
         "yaxis": "y4"
        },
        {
         "hovertemplate": "experiment_name=0012_agent_params.args_.action_w_noise_amplitude_0.6__estimator.args_.lin_hidden_out_size_16<br>size=16<br>noise=%{x}<br>episode_rewards_mean=%{y}<extra></extra>",
         "legendgroup": "0012_agent_params.args_.action_w_noise_amplitude_0.6__estimator.args_.lin_hidden_out_size_16",
         "marker": {
          "color": "#00cc96",
          "symbol": "circle"
         },
         "mode": "markers",
         "name": "0012_agent_params.args_.action_w_noise_amplitude_0.6__estimator.args_.lin_hidden_out_size_16",
         "orientation": "v",
         "showlegend": true,
         "type": "scatter",
         "x": [
          "0.6",
          "0.6"
         ],
         "xaxis": "x",
         "y": [
          -66.78354930046376,
          -93.57232916919268
         ],
         "yaxis": "y"
        },
        {
         "hovertemplate": "experiment_name=0013_agent_params.args_.action_w_noise_amplitude_0.6__estimator.args_.lin_hidden_out_size_32<br>size=32<br>noise=%{x}<br>episode_rewards_mean=%{y}<extra></extra>",
         "legendgroup": "0013_agent_params.args_.action_w_noise_amplitude_0.6__estimator.args_.lin_hidden_out_size_32",
         "marker": {
          "color": "#ab63fa",
          "symbol": "circle"
         },
         "mode": "markers",
         "name": "0013_agent_params.args_.action_w_noise_amplitude_0.6__estimator.args_.lin_hidden_out_size_32",
         "orientation": "v",
         "showlegend": true,
         "type": "scatter",
         "x": [
          "0.6",
          "0.6"
         ],
         "xaxis": "x2",
         "y": [
          -134.88448696792085,
          -94.20491191094003
         ],
         "yaxis": "y2"
        },
        {
         "hovertemplate": "experiment_name=0014_agent_params.args_.action_w_noise_amplitude_0.6__estimator.args_.lin_hidden_out_size_64<br>size=64<br>noise=%{x}<br>episode_rewards_mean=%{y}<extra></extra>",
         "legendgroup": "0014_agent_params.args_.action_w_noise_amplitude_0.6__estimator.args_.lin_hidden_out_size_64",
         "marker": {
          "color": "#FFA15A",
          "symbol": "circle"
         },
         "mode": "markers",
         "name": "0014_agent_params.args_.action_w_noise_amplitude_0.6__estimator.args_.lin_hidden_out_size_64",
         "orientation": "v",
         "showlegend": true,
         "type": "scatter",
         "x": [
          "0.6",
          "0.6"
         ],
         "xaxis": "x3",
         "y": [
          -41.217540463949575,
          -134.73733208673514
         ],
         "yaxis": "y3"
        },
        {
         "hovertemplate": "experiment_name=0015_agent_params.args_.action_w_noise_amplitude_0.6__estimator.args_.lin_hidden_out_size_128<br>size=128<br>noise=%{x}<br>episode_rewards_mean=%{y}<extra></extra>",
         "legendgroup": "0015_agent_params.args_.action_w_noise_amplitude_0.6__estimator.args_.lin_hidden_out_size_128",
         "marker": {
          "color": "#19d3f3",
          "symbol": "circle"
         },
         "mode": "markers",
         "name": "0015_agent_params.args_.action_w_noise_amplitude_0.6__estimator.args_.lin_hidden_out_size_128",
         "orientation": "v",
         "showlegend": true,
         "type": "scatter",
         "x": [
          "0.6",
          "0.6"
         ],
         "xaxis": "x4",
         "y": [
          -92.86803631050563,
          -93.21026786913522
         ],
         "yaxis": "y4"
        },
        {
         "hovertemplate": "experiment_name=0016_agent_params.args_.action_w_noise_amplitude_1__estimator.args_.lin_hidden_out_size_16<br>size=16<br>noise=%{x}<br>episode_rewards_mean=%{y}<extra></extra>",
         "legendgroup": "0016_agent_params.args_.action_w_noise_amplitude_1__estimator.args_.lin_hidden_out_size_16",
         "marker": {
          "color": "#FF6692",
          "symbol": "circle"
         },
         "mode": "markers",
         "name": "0016_agent_params.args_.action_w_noise_amplitude_1__estimator.args_.lin_hidden_out_size_16",
         "orientation": "v",
         "showlegend": true,
         "type": "scatter",
         "x": [
          "1",
          "1"
         ],
         "xaxis": "x",
         "y": [
          -93.39228226787539,
          -93.58531094679772
         ],
         "yaxis": "y"
        },
        {
         "hovertemplate": "experiment_name=0017_agent_params.args_.action_w_noise_amplitude_1__estimator.args_.lin_hidden_out_size_32<br>size=32<br>noise=%{x}<br>episode_rewards_mean=%{y}<extra></extra>",
         "legendgroup": "0017_agent_params.args_.action_w_noise_amplitude_1__estimator.args_.lin_hidden_out_size_32",
         "marker": {
          "color": "#B6E880",
          "symbol": "circle"
         },
         "mode": "markers",
         "name": "0017_agent_params.args_.action_w_noise_amplitude_1__estimator.args_.lin_hidden_out_size_32",
         "orientation": "v",
         "showlegend": true,
         "type": "scatter",
         "x": [
          "1",
          "1"
         ],
         "xaxis": "x2",
         "y": [
          -134.6152367048482,
          -92.10579572372416
         ],
         "yaxis": "y2"
        },
        {
         "hovertemplate": "experiment_name=0018_agent_params.args_.action_w_noise_amplitude_1__estimator.args_.lin_hidden_out_size_64<br>size=64<br>noise=%{x}<br>episode_rewards_mean=%{y}<extra></extra>",
         "legendgroup": "0018_agent_params.args_.action_w_noise_amplitude_1__estimator.args_.lin_hidden_out_size_64",
         "marker": {
          "color": "#FF97FF",
          "symbol": "circle"
         },
         "mode": "markers",
         "name": "0018_agent_params.args_.action_w_noise_amplitude_1__estimator.args_.lin_hidden_out_size_64",
         "orientation": "v",
         "showlegend": true,
         "type": "scatter",
         "x": [
          "1",
          "1"
         ],
         "xaxis": "x3",
         "y": [
          -133.44103467440294,
          -134.61637145138207
         ],
         "yaxis": "y3"
        },
        {
         "hovertemplate": "experiment_name=0019_agent_params.args_.action_w_noise_amplitude_1__estimator.args_.lin_hidden_out_size_128<br>size=128<br>noise=%{x}<br>episode_rewards_mean=%{y}<extra></extra>",
         "legendgroup": "0019_agent_params.args_.action_w_noise_amplitude_1__estimator.args_.lin_hidden_out_size_128",
         "marker": {
          "color": "#FECB52",
          "symbol": "circle"
         },
         "mode": "markers",
         "name": "0019_agent_params.args_.action_w_noise_amplitude_1__estimator.args_.lin_hidden_out_size_128",
         "orientation": "v",
         "showlegend": true,
         "type": "scatter",
         "x": [
          "1",
          "1"
         ],
         "xaxis": "x4",
         "y": [
          -100.1146889589556,
          -93.49354950134119
         ],
         "yaxis": "y4"
        }
       ],
       "layout": {
        "annotations": [
         {
          "font": {},
          "showarrow": false,
          "text": "size=16",
          "x": 0.1175,
          "xanchor": "center",
          "xref": "paper",
          "y": 1,
          "yanchor": "bottom",
          "yref": "paper"
         },
         {
          "font": {},
          "showarrow": false,
          "text": "size=32",
          "x": 0.3725,
          "xanchor": "center",
          "xref": "paper",
          "y": 1,
          "yanchor": "bottom",
          "yref": "paper"
         },
         {
          "font": {},
          "showarrow": false,
          "text": "size=64",
          "x": 0.6275,
          "xanchor": "center",
          "xref": "paper",
          "y": 1,
          "yanchor": "bottom",
          "yref": "paper"
         },
         {
          "font": {},
          "showarrow": false,
          "text": "size=128",
          "x": 0.8824999999999998,
          "xanchor": "center",
          "xref": "paper",
          "y": 1,
          "yanchor": "bottom",
          "yref": "paper"
         }
        ],
        "height": 600,
        "legend": {
         "title": {
          "text": "experiment_name"
         },
         "tracegroupgap": 0
        },
        "showlegend": false,
        "template": {
         "data": {
          "bar": [
           {
            "error_x": {
             "color": "#2a3f5f"
            },
            "error_y": {
             "color": "#2a3f5f"
            },
            "marker": {
             "line": {
              "color": "#E5ECF6",
              "width": 0.5
             },
             "pattern": {
              "fillmode": "overlay",
              "size": 10,
              "solidity": 0.2
             }
            },
            "type": "bar"
           }
          ],
          "barpolar": [
           {
            "marker": {
             "line": {
              "color": "#E5ECF6",
              "width": 0.5
             },
             "pattern": {
              "fillmode": "overlay",
              "size": 10,
              "solidity": 0.2
             }
            },
            "type": "barpolar"
           }
          ],
          "carpet": [
           {
            "aaxis": {
             "endlinecolor": "#2a3f5f",
             "gridcolor": "white",
             "linecolor": "white",
             "minorgridcolor": "white",
             "startlinecolor": "#2a3f5f"
            },
            "baxis": {
             "endlinecolor": "#2a3f5f",
             "gridcolor": "white",
             "linecolor": "white",
             "minorgridcolor": "white",
             "startlinecolor": "#2a3f5f"
            },
            "type": "carpet"
           }
          ],
          "choropleth": [
           {
            "colorbar": {
             "outlinewidth": 0,
             "ticks": ""
            },
            "type": "choropleth"
           }
          ],
          "contour": [
           {
            "colorbar": {
             "outlinewidth": 0,
             "ticks": ""
            },
            "colorscale": [
             [
              0,
              "#0d0887"
             ],
             [
              0.1111111111111111,
              "#46039f"
             ],
             [
              0.2222222222222222,
              "#7201a8"
             ],
             [
              0.3333333333333333,
              "#9c179e"
             ],
             [
              0.4444444444444444,
              "#bd3786"
             ],
             [
              0.5555555555555556,
              "#d8576b"
             ],
             [
              0.6666666666666666,
              "#ed7953"
             ],
             [
              0.7777777777777778,
              "#fb9f3a"
             ],
             [
              0.8888888888888888,
              "#fdca26"
             ],
             [
              1,
              "#f0f921"
             ]
            ],
            "type": "contour"
           }
          ],
          "contourcarpet": [
           {
            "colorbar": {
             "outlinewidth": 0,
             "ticks": ""
            },
            "type": "contourcarpet"
           }
          ],
          "heatmap": [
           {
            "colorbar": {
             "outlinewidth": 0,
             "ticks": ""
            },
            "colorscale": [
             [
              0,
              "#0d0887"
             ],
             [
              0.1111111111111111,
              "#46039f"
             ],
             [
              0.2222222222222222,
              "#7201a8"
             ],
             [
              0.3333333333333333,
              "#9c179e"
             ],
             [
              0.4444444444444444,
              "#bd3786"
             ],
             [
              0.5555555555555556,
              "#d8576b"
             ],
             [
              0.6666666666666666,
              "#ed7953"
             ],
             [
              0.7777777777777778,
              "#fb9f3a"
             ],
             [
              0.8888888888888888,
              "#fdca26"
             ],
             [
              1,
              "#f0f921"
             ]
            ],
            "type": "heatmap"
           }
          ],
          "heatmapgl": [
           {
            "colorbar": {
             "outlinewidth": 0,
             "ticks": ""
            },
            "colorscale": [
             [
              0,
              "#0d0887"
             ],
             [
              0.1111111111111111,
              "#46039f"
             ],
             [
              0.2222222222222222,
              "#7201a8"
             ],
             [
              0.3333333333333333,
              "#9c179e"
             ],
             [
              0.4444444444444444,
              "#bd3786"
             ],
             [
              0.5555555555555556,
              "#d8576b"
             ],
             [
              0.6666666666666666,
              "#ed7953"
             ],
             [
              0.7777777777777778,
              "#fb9f3a"
             ],
             [
              0.8888888888888888,
              "#fdca26"
             ],
             [
              1,
              "#f0f921"
             ]
            ],
            "type": "heatmapgl"
           }
          ],
          "histogram": [
           {
            "marker": {
             "pattern": {
              "fillmode": "overlay",
              "size": 10,
              "solidity": 0.2
             }
            },
            "type": "histogram"
           }
          ],
          "histogram2d": [
           {
            "colorbar": {
             "outlinewidth": 0,
             "ticks": ""
            },
            "colorscale": [
             [
              0,
              "#0d0887"
             ],
             [
              0.1111111111111111,
              "#46039f"
             ],
             [
              0.2222222222222222,
              "#7201a8"
             ],
             [
              0.3333333333333333,
              "#9c179e"
             ],
             [
              0.4444444444444444,
              "#bd3786"
             ],
             [
              0.5555555555555556,
              "#d8576b"
             ],
             [
              0.6666666666666666,
              "#ed7953"
             ],
             [
              0.7777777777777778,
              "#fb9f3a"
             ],
             [
              0.8888888888888888,
              "#fdca26"
             ],
             [
              1,
              "#f0f921"
             ]
            ],
            "type": "histogram2d"
           }
          ],
          "histogram2dcontour": [
           {
            "colorbar": {
             "outlinewidth": 0,
             "ticks": ""
            },
            "colorscale": [
             [
              0,
              "#0d0887"
             ],
             [
              0.1111111111111111,
              "#46039f"
             ],
             [
              0.2222222222222222,
              "#7201a8"
             ],
             [
              0.3333333333333333,
              "#9c179e"
             ],
             [
              0.4444444444444444,
              "#bd3786"
             ],
             [
              0.5555555555555556,
              "#d8576b"
             ],
             [
              0.6666666666666666,
              "#ed7953"
             ],
             [
              0.7777777777777778,
              "#fb9f3a"
             ],
             [
              0.8888888888888888,
              "#fdca26"
             ],
             [
              1,
              "#f0f921"
             ]
            ],
            "type": "histogram2dcontour"
           }
          ],
          "mesh3d": [
           {
            "colorbar": {
             "outlinewidth": 0,
             "ticks": ""
            },
            "type": "mesh3d"
           }
          ],
          "parcoords": [
           {
            "line": {
             "colorbar": {
              "outlinewidth": 0,
              "ticks": ""
             }
            },
            "type": "parcoords"
           }
          ],
          "pie": [
           {
            "automargin": true,
            "type": "pie"
           }
          ],
          "scatter": [
           {
            "fillpattern": {
             "fillmode": "overlay",
             "size": 10,
             "solidity": 0.2
            },
            "type": "scatter"
           }
          ],
          "scatter3d": [
           {
            "line": {
             "colorbar": {
              "outlinewidth": 0,
              "ticks": ""
             }
            },
            "marker": {
             "colorbar": {
              "outlinewidth": 0,
              "ticks": ""
             }
            },
            "type": "scatter3d"
           }
          ],
          "scattercarpet": [
           {
            "marker": {
             "colorbar": {
              "outlinewidth": 0,
              "ticks": ""
             }
            },
            "type": "scattercarpet"
           }
          ],
          "scattergeo": [
           {
            "marker": {
             "colorbar": {
              "outlinewidth": 0,
              "ticks": ""
             }
            },
            "type": "scattergeo"
           }
          ],
          "scattergl": [
           {
            "marker": {
             "colorbar": {
              "outlinewidth": 0,
              "ticks": ""
             }
            },
            "type": "scattergl"
           }
          ],
          "scattermapbox": [
           {
            "marker": {
             "colorbar": {
              "outlinewidth": 0,
              "ticks": ""
             }
            },
            "type": "scattermapbox"
           }
          ],
          "scatterpolar": [
           {
            "marker": {
             "colorbar": {
              "outlinewidth": 0,
              "ticks": ""
             }
            },
            "type": "scatterpolar"
           }
          ],
          "scatterpolargl": [
           {
            "marker": {
             "colorbar": {
              "outlinewidth": 0,
              "ticks": ""
             }
            },
            "type": "scatterpolargl"
           }
          ],
          "scatterternary": [
           {
            "marker": {
             "colorbar": {
              "outlinewidth": 0,
              "ticks": ""
             }
            },
            "type": "scatterternary"
           }
          ],
          "surface": [
           {
            "colorbar": {
             "outlinewidth": 0,
             "ticks": ""
            },
            "colorscale": [
             [
              0,
              "#0d0887"
             ],
             [
              0.1111111111111111,
              "#46039f"
             ],
             [
              0.2222222222222222,
              "#7201a8"
             ],
             [
              0.3333333333333333,
              "#9c179e"
             ],
             [
              0.4444444444444444,
              "#bd3786"
             ],
             [
              0.5555555555555556,
              "#d8576b"
             ],
             [
              0.6666666666666666,
              "#ed7953"
             ],
             [
              0.7777777777777778,
              "#fb9f3a"
             ],
             [
              0.8888888888888888,
              "#fdca26"
             ],
             [
              1,
              "#f0f921"
             ]
            ],
            "type": "surface"
           }
          ],
          "table": [
           {
            "cells": {
             "fill": {
              "color": "#EBF0F8"
             },
             "line": {
              "color": "white"
             }
            },
            "header": {
             "fill": {
              "color": "#C8D4E3"
             },
             "line": {
              "color": "white"
             }
            },
            "type": "table"
           }
          ]
         },
         "layout": {
          "annotationdefaults": {
           "arrowcolor": "#2a3f5f",
           "arrowhead": 0,
           "arrowwidth": 1
          },
          "autotypenumbers": "strict",
          "coloraxis": {
           "colorbar": {
            "outlinewidth": 0,
            "ticks": ""
           }
          },
          "colorscale": {
           "diverging": [
            [
             0,
             "#8e0152"
            ],
            [
             0.1,
             "#c51b7d"
            ],
            [
             0.2,
             "#de77ae"
            ],
            [
             0.3,
             "#f1b6da"
            ],
            [
             0.4,
             "#fde0ef"
            ],
            [
             0.5,
             "#f7f7f7"
            ],
            [
             0.6,
             "#e6f5d0"
            ],
            [
             0.7,
             "#b8e186"
            ],
            [
             0.8,
             "#7fbc41"
            ],
            [
             0.9,
             "#4d9221"
            ],
            [
             1,
             "#276419"
            ]
           ],
           "sequential": [
            [
             0,
             "#0d0887"
            ],
            [
             0.1111111111111111,
             "#46039f"
            ],
            [
             0.2222222222222222,
             "#7201a8"
            ],
            [
             0.3333333333333333,
             "#9c179e"
            ],
            [
             0.4444444444444444,
             "#bd3786"
            ],
            [
             0.5555555555555556,
             "#d8576b"
            ],
            [
             0.6666666666666666,
             "#ed7953"
            ],
            [
             0.7777777777777778,
             "#fb9f3a"
            ],
            [
             0.8888888888888888,
             "#fdca26"
            ],
            [
             1,
             "#f0f921"
            ]
           ],
           "sequentialminus": [
            [
             0,
             "#0d0887"
            ],
            [
             0.1111111111111111,
             "#46039f"
            ],
            [
             0.2222222222222222,
             "#7201a8"
            ],
            [
             0.3333333333333333,
             "#9c179e"
            ],
            [
             0.4444444444444444,
             "#bd3786"
            ],
            [
             0.5555555555555556,
             "#d8576b"
            ],
            [
             0.6666666666666666,
             "#ed7953"
            ],
            [
             0.7777777777777778,
             "#fb9f3a"
            ],
            [
             0.8888888888888888,
             "#fdca26"
            ],
            [
             1,
             "#f0f921"
            ]
           ]
          },
          "colorway": [
           "#636efa",
           "#EF553B",
           "#00cc96",
           "#ab63fa",
           "#FFA15A",
           "#19d3f3",
           "#FF6692",
           "#B6E880",
           "#FF97FF",
           "#FECB52"
          ],
          "font": {
           "color": "#2a3f5f"
          },
          "geo": {
           "bgcolor": "white",
           "lakecolor": "white",
           "landcolor": "#E5ECF6",
           "showlakes": true,
           "showland": true,
           "subunitcolor": "white"
          },
          "hoverlabel": {
           "align": "left"
          },
          "hovermode": "closest",
          "mapbox": {
           "style": "light"
          },
          "paper_bgcolor": "white",
          "plot_bgcolor": "#E5ECF6",
          "polar": {
           "angularaxis": {
            "gridcolor": "white",
            "linecolor": "white",
            "ticks": ""
           },
           "bgcolor": "#E5ECF6",
           "radialaxis": {
            "gridcolor": "white",
            "linecolor": "white",
            "ticks": ""
           }
          },
          "scene": {
           "xaxis": {
            "backgroundcolor": "#E5ECF6",
            "gridcolor": "white",
            "gridwidth": 2,
            "linecolor": "white",
            "showbackground": true,
            "ticks": "",
            "zerolinecolor": "white"
           },
           "yaxis": {
            "backgroundcolor": "#E5ECF6",
            "gridcolor": "white",
            "gridwidth": 2,
            "linecolor": "white",
            "showbackground": true,
            "ticks": "",
            "zerolinecolor": "white"
           },
           "zaxis": {
            "backgroundcolor": "#E5ECF6",
            "gridcolor": "white",
            "gridwidth": 2,
            "linecolor": "white",
            "showbackground": true,
            "ticks": "",
            "zerolinecolor": "white"
           }
          },
          "shapedefaults": {
           "line": {
            "color": "#2a3f5f"
           }
          },
          "ternary": {
           "aaxis": {
            "gridcolor": "white",
            "linecolor": "white",
            "ticks": ""
           },
           "baxis": {
            "gridcolor": "white",
            "linecolor": "white",
            "ticks": ""
           },
           "bgcolor": "#E5ECF6",
           "caxis": {
            "gridcolor": "white",
            "linecolor": "white",
            "ticks": ""
           }
          },
          "title": {
           "x": 0.05
          },
          "xaxis": {
           "automargin": true,
           "gridcolor": "white",
           "linecolor": "white",
           "ticks": "",
           "title": {
            "standoff": 15
           },
           "zerolinecolor": "white",
           "zerolinewidth": 2
          },
          "yaxis": {
           "automargin": true,
           "gridcolor": "white",
           "linecolor": "white",
           "ticks": "",
           "title": {
            "standoff": 15
           },
           "zerolinecolor": "white",
           "zerolinewidth": 2
          }
         }
        },
        "title": {
         "text": "Episode Rewards vs. Noise Faceted by Size"
        },
        "xaxis": {
         "anchor": "y",
         "domain": [
          0,
          0.235
         ],
         "title": {
          "text": "noise"
         }
        },
        "xaxis2": {
         "anchor": "y2",
         "domain": [
          0.255,
          0.49
         ],
         "matches": "x",
         "title": {
          "text": "noise"
         }
        },
        "xaxis3": {
         "anchor": "y3",
         "domain": [
          0.51,
          0.745
         ],
         "matches": "x",
         "title": {
          "text": "noise"
         }
        },
        "xaxis4": {
         "anchor": "y4",
         "domain": [
          0.7649999999999999,
          0.9999999999999999
         ],
         "matches": "x",
         "title": {
          "text": "noise"
         }
        },
        "yaxis": {
         "anchor": "x",
         "domain": [
          0,
          1
         ],
         "title": {
          "text": "episode_rewards_mean"
         }
        },
        "yaxis2": {
         "anchor": "x2",
         "domain": [
          0,
          1
         ],
         "matches": "y",
         "showticklabels": false
        },
        "yaxis3": {
         "anchor": "x3",
         "domain": [
          0,
          1
         ],
         "matches": "y",
         "showticklabels": false
        },
        "yaxis4": {
         "anchor": "x4",
         "domain": [
          0,
          1
         ],
         "matches": "y",
         "showticklabels": false
        }
       }
      }
     },
     "metadata": {},
     "output_type": "display_data"
    }
   ],
   "source": [
    "import plotly.express as px\n",
    "\n",
    "# Define readable names for selected hyperparams\n",
    "readable_names = {\n",
    "    hyperparam_columns[0]: \"noise\",\n",
    "    hyperparam_columns[1]: \"size\"\n",
    "}\n",
    "\n",
    "# Rename columns in a copy of the dataframe\n",
    "plot_df = sub_df.rename(columns=readable_names)\n",
    "\n",
    "# Assign new column names\n",
    "x_col = \"noise\"\n",
    "y_col = \"episode_rewards_mean\"\n",
    "facet_col = \"size\"\n",
    "\n",
    "# Plot\n",
    "fig = px.scatter(\n",
    "    plot_df,\n",
    "    x=x_col,\n",
    "    y=y_col,\n",
    "    color=\"experiment_name\",  # Optional: color by experiment\n",
    "    facet_col=facet_col,\n",
    "    title=\"Episode Rewards vs. Noise Faceted by Size\",\n",
    "    height=600\n",
    ")\n",
    "\n",
    "fig.update_layout(showlegend=False)\n",
    "fig.show()\n"
   ]
  },
  {
   "cell_type": "code",
   "execution_count": null,
   "metadata": {},
   "outputs": [],
   "source": []
  }
 ],
 "metadata": {
  "kernelspec": {
   "display_name": "phd_rl_algos",
   "language": "python",
   "name": "python3"
  },
  "language_info": {
   "codemirror_mode": {
    "name": "ipython",
    "version": 3
   },
   "file_extension": ".py",
   "mimetype": "text/x-python",
   "name": "python",
   "nbconvert_exporter": "python",
   "pygments_lexer": "ipython3",
   "version": "3.11.5"
  }
 },
 "nbformat": 4,
 "nbformat_minor": 2
}
