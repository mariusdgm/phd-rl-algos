{
 "cells": [
  {
   "cell_type": "code",
   "execution_count": 553,
   "metadata": {},
   "outputs": [
    {
     "name": "stdout",
     "output_type": "stream",
     "text": [
      "The autoreload extension is already loaded. To reload it, use:\n",
      "  %reload_ext autoreload\n"
     ]
    }
   ],
   "source": [
    "%load_ext autoreload\n",
    "%autoreload 2"
   ]
  },
  {
   "cell_type": "code",
   "execution_count": 554,
   "metadata": {},
   "outputs": [],
   "source": [
    "import os, sys\n",
    "\n",
    "\n",
    "def get_dir_n_levels_up(path, n):\n",
    "    # Go up n levels from the given path\n",
    "    for _ in range(n):\n",
    "        path = os.path.dirname(path)\n",
    "    return path\n",
    "\n",
    "\n",
    "proj_root = get_dir_n_levels_up(os.path.abspath(\"__file__\"), 4)\n",
    "sys.path.append(proj_root)\n",
    "\n",
    "import warnings\n",
    "import numpy as np\n",
    "\n",
    "import seaborn as sns\n",
    "import matplotlib.pyplot as plt\n",
    "\n",
    "sns.set_theme()\n",
    "\n",
    "warnings.filterwarnings(\"ignore\")\n",
    "\n",
    "from dqn.opinion_dynamics.utils.experiment import process_experiment"
   ]
  },
  {
   "cell_type": "code",
   "execution_count": 555,
   "metadata": {},
   "outputs": [],
   "source": [
    "# experiment_sub_dir = \"2025May02-101004_configs\" # excellent run\n",
    "# experiment_sub_dir = \"2025Jul09-171538_configs\" # good latest run\n",
    "# experiment_sub_dir = \"2025Sep15-090310_configs\" paper run 1 finite h\n",
    "\n",
    "# experiment_sub_dir = \"2025Oct15-095412_configs\"\n",
    "# experiment_sub_dir = \"2025Oct16-023909_configs\" # linear term state\n",
    "# experiment_sub_dir = \"2025Oct16-100935_configs\" # coca no term state\n",
    "# experiment_sub_dir = \"2025Oct17-101225_configs\" # coca no term state higher lr\n",
    "# experiment_sub_dir = \"2025Oct17-154612_configs\" # coca no term state higher lr more epochs\n",
    "# experiment_sub_dir = \"2025Oct18-002003_configs\" # coca no term state higher lr new params\n",
    "# experiment_sub_dir = \"2025Oct18-135551_configs\" # coca no term state higher lr new params\n",
    "# experiment_sub_dir = \"2025Oct19-030258_configs\" # coca no term state higher lr even more new params\n",
    "# experiment_sub_dir = \"2025Oct19-182701_configs\" # coca no term state higher lr even more new params\n",
    "# experiment_sub_dir = \"2025Oct27-022212_configs\" # good params!\n",
    "\n",
    "experiment_sub_dir = (\n",
    "    \"2025Oct28-115156_configs\"  # coca no term state higher lr even more new params\n",
    ")\n",
    "\n",
    "\n",
    "exp_path = os.path.join(os.path.abspath(\".\"), \"results\", experiment_sub_dir)\n",
    "df = process_experiment(exp_path)\n",
    "# df.columns"
   ]
  },
  {
   "cell_type": "code",
   "execution_count": 556,
   "metadata": {},
   "outputs": [],
   "source": [
    "# df[df['epoch_type'] == 'training']"
   ]
  },
  {
   "cell_type": "code",
   "execution_count": 557,
   "metadata": {},
   "outputs": [
    {
     "data": {
      "text/plain": [
       "Index(['epoch_type', 'frame_stamp', 'greedy_epsilon', 'episode_rewards_min',\n",
       "       'episode_rewards_max', 'episode_rewards_mean', 'episode_rewards_median',\n",
       "       'episode_rewards_std', 'episode_discounted_rewards_min',\n",
       "       'episode_discounted_rewards_max', 'episode_discounted_rewards_mean',\n",
       "       'episode_discounted_rewards_median', 'episode_discounted_rewards_std',\n",
       "       'episode_frames_min', 'episode_frames_max', 'episode_frames_mean',\n",
       "       'episode_frames_median', 'episode_frames_std', 'episode_losses_min',\n",
       "       'episode_losses_max', 'episode_losses_mean', 'episode_losses_median',\n",
       "       'episode_losses_std', 'episode_max_qs_min', 'episode_max_qs_max',\n",
       "       'episode_max_qs_mean', 'episode_max_qs_median', 'episode_max_qs_std',\n",
       "       'policy_trained_times', 'target_trained_times', 'epoch_time',\n",
       "       'sub_exp_cfg_optim.args_.lr',\n",
       "       'sub_exp_cfg_agent_params.args_.target_soft_tau',\n",
       "       'sub_exp_cfg_experiment', 'sub_experiment_path', 'seed',\n",
       "       'experiment_name'],\n",
       "      dtype='object')"
      ]
     },
     "execution_count": 557,
     "metadata": {},
     "output_type": "execute_result"
    }
   ],
   "source": [
    "df.columns"
   ]
  },
  {
   "cell_type": "code",
   "execution_count": 558,
   "metadata": {},
   "outputs": [
    {
     "name": "stdout",
     "output_type": "stream",
     "text": [
      "Best hyperparameters:\n",
      "sub_exp_cfg_optim.args_.lr                            1e-05\n",
      "sub_exp_cfg_agent_params.args_.target_soft_tau       0.0005\n",
      "sub_exp_cfg_experiment                            fixed_res\n",
      "Name: 1, dtype: object\n",
      "Best mean reward: -8.442268997124547\n"
     ]
    }
   ],
   "source": [
    "df[df['epoch_type'] == 'validation']\n",
    "\n",
    "# Define hyperparameter columns\n",
    "hyperparam_columns = [col for col in df.columns if \"sub_exp_cfg\" in col]\n",
    "\n",
    "# Group by hyperparameter values and compute mean episode_rewards_mean\n",
    "averaged_results = df.groupby(hyperparam_columns, as_index=False).agg(\n",
    "    {\n",
    "        \"episode_rewards_mean\": \"mean\",  # Averaging the performance metric\n",
    "        \"sub_experiment_path\": \"first\",  # Keep a reference to an experiment path\n",
    "    }\n",
    ")\n",
    "\n",
    "# Find the best hyperparameter set based on the highest mean reward\n",
    "best_row = averaged_results.loc[averaged_results[\"episode_rewards_mean\"].idxmax()]\n",
    "\n",
    "# Print the best experiment path and hyperparameters\n",
    "print(f\"Best hyperparameters:\\n{best_row[hyperparam_columns]}\")\n",
    "print(f\"Best mean reward: {best_row['episode_rewards_mean']}\")"
   ]
  },
  {
   "cell_type": "code",
   "execution_count": 559,
   "metadata": {},
   "outputs": [
    {
     "data": {
      "text/html": [
       "<div>\n",
       "<style scoped>\n",
       "    .dataframe tbody tr th:only-of-type {\n",
       "        vertical-align: middle;\n",
       "    }\n",
       "\n",
       "    .dataframe tbody tr th {\n",
       "        vertical-align: top;\n",
       "    }\n",
       "\n",
       "    .dataframe thead th {\n",
       "        text-align: right;\n",
       "    }\n",
       "</style>\n",
       "<table border=\"1\" class=\"dataframe\">\n",
       "  <thead>\n",
       "    <tr style=\"text-align: right;\">\n",
       "      <th></th>\n",
       "      <th>sub_exp_cfg_optim.args_.lr</th>\n",
       "      <th>sub_exp_cfg_agent_params.args_.target_soft_tau</th>\n",
       "      <th>sub_exp_cfg_experiment</th>\n",
       "      <th>episode_rewards_mean</th>\n",
       "      <th>sub_experiment_path</th>\n",
       "    </tr>\n",
       "  </thead>\n",
       "  <tbody>\n",
       "    <tr>\n",
       "      <th>0</th>\n",
       "      <td>1e-05</td>\n",
       "      <td>0.0001</td>\n",
       "      <td>fixed_res</td>\n",
       "      <td>-9.508862</td>\n",
       "      <td>d:\\Work\\repos\\RL\\phd-rl-algos\\dqn\\opinion_dyna...</td>\n",
       "    </tr>\n",
       "    <tr>\n",
       "      <th>1</th>\n",
       "      <td>1e-05</td>\n",
       "      <td>0.0005</td>\n",
       "      <td>fixed_res</td>\n",
       "      <td>-8.442269</td>\n",
       "      <td>d:\\Work\\repos\\RL\\phd-rl-algos\\dqn\\opinion_dyna...</td>\n",
       "    </tr>\n",
       "    <tr>\n",
       "      <th>2</th>\n",
       "      <td>3e-05</td>\n",
       "      <td>0.0001</td>\n",
       "      <td>fixed_res</td>\n",
       "      <td>-8.518361</td>\n",
       "      <td>d:\\Work\\repos\\RL\\phd-rl-algos\\dqn\\opinion_dyna...</td>\n",
       "    </tr>\n",
       "    <tr>\n",
       "      <th>3</th>\n",
       "      <td>3e-05</td>\n",
       "      <td>0.0005</td>\n",
       "      <td>fixed_res</td>\n",
       "      <td>-8.682563</td>\n",
       "      <td>d:\\Work\\repos\\RL\\phd-rl-algos\\dqn\\opinion_dyna...</td>\n",
       "    </tr>\n",
       "  </tbody>\n",
       "</table>\n",
       "</div>"
      ],
      "text/plain": [
       "  sub_exp_cfg_optim.args_.lr sub_exp_cfg_agent_params.args_.target_soft_tau  \\\n",
       "0                      1e-05                                         0.0001   \n",
       "1                      1e-05                                         0.0005   \n",
       "2                      3e-05                                         0.0001   \n",
       "3                      3e-05                                         0.0005   \n",
       "\n",
       "  sub_exp_cfg_experiment  episode_rewards_mean  \\\n",
       "0              fixed_res             -9.508862   \n",
       "1              fixed_res             -8.442269   \n",
       "2              fixed_res             -8.518361   \n",
       "3              fixed_res             -8.682563   \n",
       "\n",
       "                                 sub_experiment_path  \n",
       "0  d:\\Work\\repos\\RL\\phd-rl-algos\\dqn\\opinion_dyna...  \n",
       "1  d:\\Work\\repos\\RL\\phd-rl-algos\\dqn\\opinion_dyna...  \n",
       "2  d:\\Work\\repos\\RL\\phd-rl-algos\\dqn\\opinion_dyna...  \n",
       "3  d:\\Work\\repos\\RL\\phd-rl-algos\\dqn\\opinion_dyna...  "
      ]
     },
     "execution_count": 559,
     "metadata": {},
     "output_type": "execute_result"
    }
   ],
   "source": [
    "averaged_results"
   ]
  },
  {
   "cell_type": "code",
   "execution_count": 560,
   "metadata": {},
   "outputs": [],
   "source": [
    "# selected_metric = 'episode_rewards_mean'\n",
    "# hue_col = \"sub_exp_cfg_agent_params.args_.action_w_noise_amplitude\"\n",
    "\n",
    "# # Filter for validation episodes\n",
    "# validation_df = df[df['epoch_type'] == 'validation']\n",
    "\n",
    "# # Get the unique sorted frame_stamp values\n",
    "# unique_frames = np.sort(validation_df['frame_stamp'].unique())\n",
    "# N = 1\n",
    "# # Get all frame_stamp values after the first N unique ones\n",
    "# filtered_frames = unique_frames[N:]\n",
    "\n",
    "# # Filter the DataFrame to only include rows with these frame_stamp values\n",
    "# filtered_df = validation_df[validation_df['frame_stamp'].isin(filtered_frames)]\n",
    "\n",
    "# plt.figure(figsize=(10, 6))\n",
    "# sns.lineplot(data=filtered_df, x='frame_stamp', y=selected_metric, hue=hue_col)\n",
    "# plt.ylabel(selected_metric)\n",
    "# plt.xlabel('Frame Stamp')\n",
    "# plt.show()"
   ]
  },
  {
   "cell_type": "code",
   "execution_count": 561,
   "metadata": {},
   "outputs": [
    {
     "data": {
      "image/png": "[encoded data removed]",
      "text/plain": [
       "<Figure size 1000x600 with 1 Axes>"
      ]
     },
     "metadata": {},
     "output_type": "display_data"
    }
   ],
   "source": [
    "selected_metric = \"episode_discounted_rewards_mean\"\n",
    "# hue_col = \"sub_exp_cfg_agent_params.args_.action_w_noise_amplitude\"\n",
    "hue_col = \"experiment_name\"\n",
    "\n",
    "validation_df = df[df[\"epoch_type\"] == \"training\"]\n",
    "\n",
    "# Create a new figure for each environment\n",
    "plt.figure(figsize=(10, 6))\n",
    "# sns.lineplot(data=df, x='frame_stamp', y=selected_metric, hue='model')\n",
    "sns.lineplot(\n",
    "    data=validation_df,\n",
    "    x=\"frame_stamp\",\n",
    "    y=selected_metric,\n",
    "    hue=hue_col,\n",
    "    #  units='seed', # Comment this to see mean + cf\n",
    "    #  estimator=None, # Comment this to see mean + cf\n",
    ")\n",
    "\n",
    "plt.ylabel(selected_metric)\n",
    "plt.xlabel(\"Frame Stamp\")\n",
    "plt.title(\"Training\")\n",
    "\n",
    "# Place the legend outside the plot\n",
    "plt.legend(loc=\"center left\", bbox_to_anchor=(1.0, 0.5), title=\"Parameters\")\n",
    "plt.show()"
   ]
  },
  {
   "cell_type": "code",
   "execution_count": 562,
   "metadata": {},
   "outputs": [
    {
     "data": {
      "image/png": "[encoded data removed]",
      "text/plain": [
       "<Figure size 1000x600 with 1 Axes>"
      ]
     },
     "metadata": {},
     "output_type": "display_data"
    }
   ],
   "source": [
    "selected_metric = \"episode_discounted_rewards_mean\"\n",
    "# hue_col = \"sub_exp_cfg_agent_params.args_.action_w_noise_amplitude\"\n",
    "hue_col = \"experiment_name\"\n",
    "\n",
    "validation_df = df[df[\"epoch_type\"] == \"validation\"]\n",
    "# validation_df = df[df['epoch_type'] == 'training']\n",
    "\n",
    "\n",
    "# Create a new figure for each environment\n",
    "plt.figure(figsize=(10, 6))\n",
    "# sns.lineplot(data=df, x='frame_stamp', y=selected_metric, hue='model')\n",
    "sns.lineplot(\n",
    "    data=validation_df,\n",
    "    x=\"frame_stamp\",\n",
    "    y=selected_metric,\n",
    "    hue=hue_col,\n",
    "    #  units='seed', # Comment this to see mean + cf\n",
    "    #  estimator=None, # Comment this to see mean + cf\n",
    ")\n",
    "\n",
    "plt.ylabel(selected_metric)\n",
    "plt.xlabel(\"Frame Stamp\")\n",
    "plt.title(\"Validation\")\n",
    "\n",
    "# Place the legend outside the plot\n",
    "plt.legend(loc=\"center left\", bbox_to_anchor=(1.0, 0.5), title=\"Parameters\")\n",
    "plt.show()"
   ]
  },
  {
   "cell_type": "code",
   "execution_count": 563,
   "metadata": {},
   "outputs": [
    {
     "data": {
      "text/plain": [
       "Index(['epoch_type', 'frame_stamp', 'greedy_epsilon', 'episode_rewards_min',\n",
       "       'episode_rewards_max', 'episode_rewards_mean', 'episode_rewards_median',\n",
       "       'episode_rewards_std', 'episode_discounted_rewards_min',\n",
       "       'episode_discounted_rewards_max', 'episode_discounted_rewards_mean',\n",
       "       'episode_discounted_rewards_median', 'episode_discounted_rewards_std',\n",
       "       'episode_frames_min', 'episode_frames_max', 'episode_frames_mean',\n",
       "       'episode_frames_median', 'episode_frames_std', 'episode_losses_min',\n",
       "       'episode_losses_max', 'episode_losses_mean', 'episode_losses_median',\n",
       "       'episode_losses_std', 'episode_max_qs_min', 'episode_max_qs_max',\n",
       "       'episode_max_qs_mean', 'episode_max_qs_median', 'episode_max_qs_std',\n",
       "       'policy_trained_times', 'target_trained_times', 'epoch_time',\n",
       "       'sub_exp_cfg_optim.args_.lr',\n",
       "       'sub_exp_cfg_agent_params.args_.target_soft_tau',\n",
       "       'sub_exp_cfg_experiment', 'sub_experiment_path', 'seed',\n",
       "       'experiment_name'],\n",
       "      dtype='object')"
      ]
     },
     "execution_count": 563,
     "metadata": {},
     "output_type": "execute_result"
    }
   ],
   "source": [
    "df.columns"
   ]
  },
  {
   "cell_type": "markdown",
   "metadata": {},
   "source": []
  },
  {
   "cell_type": "code",
   "execution_count": 564,
   "metadata": {},
   "outputs": [
    {
     "data": {
      "image/png": "[encoded data removed]",
      "text/plain": [
       "<Figure size 1000x600 with 1 Axes>"
      ]
     },
     "metadata": {},
     "output_type": "display_data"
    }
   ],
   "source": [
    "import matplotlib.pyplot as plt\n",
    "import seaborn as sns\n",
    "\n",
    "selected_metric = \"episode_frames_mean\"\n",
    "hue_col = (\n",
    "    \"experiment_name\"  # or another distinguishing column like \"sub_experiment_path\"\n",
    ")\n",
    "\n",
    "validation_df = df[df[\"epoch_type\"] == \"validation\"]\n",
    "\n",
    "# Plot individual lines for each run\n",
    "plt.figure(figsize=(10, 6))\n",
    "sns.lineplot(\n",
    "    data=validation_df,\n",
    "    x=\"frame_stamp\",\n",
    "    y=selected_metric,\n",
    "    hue=hue_col,\n",
    "    estimator=None,  # ← disables aggregation\n",
    "    units=\"sub_experiment_path\",  # ← groups lines by unique run\n",
    "    lw=1,  # line width\n",
    "    alpha=0.7,  # transparency\n",
    ")\n",
    "\n",
    "plt.ylabel(selected_metric)\n",
    "plt.xlabel(\"Frame Stamp\")\n",
    "plt.title(\"Validation Reward Trajectories (Per Run)\")\n",
    "\n",
    "# Move legend outside the plot\n",
    "plt.legend(loc=\"center left\", bbox_to_anchor=(1.0, 0.5), title=\"Experiment\")\n",
    "plt.tight_layout()\n",
    "plt.show()"
   ]
  },
  {
   "cell_type": "code",
   "execution_count": 565,
   "metadata": {},
   "outputs": [
    {
     "data": {
      "text/html": [
       "<div>\n",
       "<style scoped>\n",
       "    .dataframe tbody tr th:only-of-type {\n",
       "        vertical-align: middle;\n",
       "    }\n",
       "\n",
       "    .dataframe tbody tr th {\n",
       "        vertical-align: top;\n",
       "    }\n",
       "\n",
       "    .dataframe thead th {\n",
       "        text-align: right;\n",
       "    }\n",
       "</style>\n",
       "<table border=\"1\" class=\"dataframe\">\n",
       "  <thead>\n",
       "    <tr style=\"text-align: right;\">\n",
       "      <th></th>\n",
       "      <th>epoch_type</th>\n",
       "      <th>frame_stamp</th>\n",
       "      <th>episode_rewards_mean</th>\n",
       "      <th>episode_frames_mean</th>\n",
       "      <th>episode_discounted_rewards_mean</th>\n",
       "      <th>policy_trained_times</th>\n",
       "      <th>target_trained_times</th>\n",
       "      <th>epoch_time</th>\n",
       "      <th>seed</th>\n",
       "      <th>experiment_name</th>\n",
       "      <th>sub_experiment_path</th>\n",
       "      <th>sub_exp_cfg_optim.args_.lr</th>\n",
       "      <th>sub_exp_cfg_agent_params.args_.target_soft_tau</th>\n",
       "      <th>sub_exp_cfg_experiment</th>\n",
       "    </tr>\n",
       "  </thead>\n",
       "  <tbody>\n",
       "    <tr>\n",
       "      <th>79</th>\n",
       "      <td>validation</td>\n",
       "      <td>8000000</td>\n",
       "      <td>-8.265361</td>\n",
       "      <td>100.0</td>\n",
       "      <td>-6.903580</td>\n",
       "      <td>NaN</td>\n",
       "      <td>NaN</td>\n",
       "      <td>0 days 00:00:10.308355</td>\n",
       "      <td>0</td>\n",
       "      <td>0000_optim.args_.lr_1e-05__agent_params.args_....</td>\n",
       "      <td>d:\\Work\\repos\\RL\\phd-rl-algos\\dqn\\opinion_dyna...</td>\n",
       "      <td>1e-05</td>\n",
       "      <td>0.0001</td>\n",
       "      <td>fixed_res</td>\n",
       "    </tr>\n",
       "    <tr>\n",
       "      <th>159</th>\n",
       "      <td>validation</td>\n",
       "      <td>8000000</td>\n",
       "      <td>-7.999318</td>\n",
       "      <td>100.0</td>\n",
       "      <td>-6.764878</td>\n",
       "      <td>NaN</td>\n",
       "      <td>NaN</td>\n",
       "      <td>0 days 00:00:09.645577</td>\n",
       "      <td>1</td>\n",
       "      <td>0000_optim.args_.lr_1e-05__agent_params.args_....</td>\n",
       "      <td>d:\\Work\\repos\\RL\\phd-rl-algos\\dqn\\opinion_dyna...</td>\n",
       "      <td>1e-05</td>\n",
       "      <td>0.0001</td>\n",
       "      <td>fixed_res</td>\n",
       "    </tr>\n",
       "    <tr>\n",
       "      <th>239</th>\n",
       "      <td>validation</td>\n",
       "      <td>8000000</td>\n",
       "      <td>-8.105728</td>\n",
       "      <td>100.0</td>\n",
       "      <td>-6.879205</td>\n",
       "      <td>NaN</td>\n",
       "      <td>NaN</td>\n",
       "      <td>0 days 00:00:08.207341</td>\n",
       "      <td>0</td>\n",
       "      <td>0001_optim.args_.lr_1e-05__agent_params.args_....</td>\n",
       "      <td>d:\\Work\\repos\\RL\\phd-rl-algos\\dqn\\opinion_dyna...</td>\n",
       "      <td>1e-05</td>\n",
       "      <td>0.0005</td>\n",
       "      <td>fixed_res</td>\n",
       "    </tr>\n",
       "    <tr>\n",
       "      <th>319</th>\n",
       "      <td>validation</td>\n",
       "      <td>8000000</td>\n",
       "      <td>-8.591009</td>\n",
       "      <td>100.0</td>\n",
       "      <td>-7.171684</td>\n",
       "      <td>NaN</td>\n",
       "      <td>NaN</td>\n",
       "      <td>0 days 00:00:09.931322</td>\n",
       "      <td>1</td>\n",
       "      <td>0001_optim.args_.lr_1e-05__agent_params.args_....</td>\n",
       "      <td>d:\\Work\\repos\\RL\\phd-rl-algos\\dqn\\opinion_dyna...</td>\n",
       "      <td>1e-05</td>\n",
       "      <td>0.0005</td>\n",
       "      <td>fixed_res</td>\n",
       "    </tr>\n",
       "    <tr>\n",
       "      <th>399</th>\n",
       "      <td>validation</td>\n",
       "      <td>8000000</td>\n",
       "      <td>-8.546730</td>\n",
       "      <td>100.0</td>\n",
       "      <td>-7.113320</td>\n",
       "      <td>NaN</td>\n",
       "      <td>NaN</td>\n",
       "      <td>0 days 00:00:10.226805</td>\n",
       "      <td>0</td>\n",
       "      <td>0002_optim.args_.lr_3e-05__agent_params.args_....</td>\n",
       "      <td>d:\\Work\\repos\\RL\\phd-rl-algos\\dqn\\opinion_dyna...</td>\n",
       "      <td>3e-05</td>\n",
       "      <td>0.0001</td>\n",
       "      <td>fixed_res</td>\n",
       "    </tr>\n",
       "    <tr>\n",
       "      <th>479</th>\n",
       "      <td>validation</td>\n",
       "      <td>8000000</td>\n",
       "      <td>-9.972037</td>\n",
       "      <td>100.0</td>\n",
       "      <td>-7.875975</td>\n",
       "      <td>NaN</td>\n",
       "      <td>NaN</td>\n",
       "      <td>0 days 00:00:08.271002</td>\n",
       "      <td>1</td>\n",
       "      <td>0002_optim.args_.lr_3e-05__agent_params.args_....</td>\n",
       "      <td>d:\\Work\\repos\\RL\\phd-rl-algos\\dqn\\opinion_dyna...</td>\n",
       "      <td>3e-05</td>\n",
       "      <td>0.0001</td>\n",
       "      <td>fixed_res</td>\n",
       "    </tr>\n",
       "    <tr>\n",
       "      <th>559</th>\n",
       "      <td>validation</td>\n",
       "      <td>8000000</td>\n",
       "      <td>-8.945104</td>\n",
       "      <td>100.0</td>\n",
       "      <td>-7.391949</td>\n",
       "      <td>NaN</td>\n",
       "      <td>NaN</td>\n",
       "      <td>0 days 00:00:11.370256</td>\n",
       "      <td>0</td>\n",
       "      <td>0003_optim.args_.lr_3e-05__agent_params.args_....</td>\n",
       "      <td>d:\\Work\\repos\\RL\\phd-rl-algos\\dqn\\opinion_dyna...</td>\n",
       "      <td>3e-05</td>\n",
       "      <td>0.0005</td>\n",
       "      <td>fixed_res</td>\n",
       "    </tr>\n",
       "    <tr>\n",
       "      <th>639</th>\n",
       "      <td>validation</td>\n",
       "      <td>8000000</td>\n",
       "      <td>-9.652870</td>\n",
       "      <td>100.0</td>\n",
       "      <td>-8.000772</td>\n",
       "      <td>NaN</td>\n",
       "      <td>NaN</td>\n",
       "      <td>0 days 00:00:08.414362</td>\n",
       "      <td>1</td>\n",
       "      <td>0003_optim.args_.lr_3e-05__agent_params.args_....</td>\n",
       "      <td>d:\\Work\\repos\\RL\\phd-rl-algos\\dqn\\opinion_dyna...</td>\n",
       "      <td>3e-05</td>\n",
       "      <td>0.0005</td>\n",
       "      <td>fixed_res</td>\n",
       "    </tr>\n",
       "  </tbody>\n",
       "</table>\n",
       "</div>"
      ],
      "text/plain": [
       "     epoch_type  frame_stamp  episode_rewards_mean  episode_frames_mean  \\\n",
       "79   validation      8000000             -8.265361                100.0   \n",
       "159  validation      8000000             -7.999318                100.0   \n",
       "239  validation      8000000             -8.105728                100.0   \n",
       "319  validation      8000000             -8.591009                100.0   \n",
       "399  validation      8000000             -8.546730                100.0   \n",
       "479  validation      8000000             -9.972037                100.0   \n",
       "559  validation      8000000             -8.945104                100.0   \n",
       "639  validation      8000000             -9.652870                100.0   \n",
       "\n",
       "     episode_discounted_rewards_mean  policy_trained_times  \\\n",
       "79                         -6.903580                   NaN   \n",
       "159                        -6.764878                   NaN   \n",
       "239                        -6.879205                   NaN   \n",
       "319                        -7.171684                   NaN   \n",
       "399                        -7.113320                   NaN   \n",
       "479                        -7.875975                   NaN   \n",
       "559                        -7.391949                   NaN   \n",
       "639                        -8.000772                   NaN   \n",
       "\n",
       "     target_trained_times             epoch_time seed  \\\n",
       "79                    NaN 0 days 00:00:10.308355    0   \n",
       "159                   NaN 0 days 00:00:09.645577    1   \n",
       "239                   NaN 0 days 00:00:08.207341    0   \n",
       "319                   NaN 0 days 00:00:09.931322    1   \n",
       "399                   NaN 0 days 00:00:10.226805    0   \n",
       "479                   NaN 0 days 00:00:08.271002    1   \n",
       "559                   NaN 0 days 00:00:11.370256    0   \n",
       "639                   NaN 0 days 00:00:08.414362    1   \n",
       "\n",
       "                                       experiment_name  \\\n",
       "79   0000_optim.args_.lr_1e-05__agent_params.args_....   \n",
       "159  0000_optim.args_.lr_1e-05__agent_params.args_....   \n",
       "239  0001_optim.args_.lr_1e-05__agent_params.args_....   \n",
       "319  0001_optim.args_.lr_1e-05__agent_params.args_....   \n",
       "399  0002_optim.args_.lr_3e-05__agent_params.args_....   \n",
       "479  0002_optim.args_.lr_3e-05__agent_params.args_....   \n",
       "559  0003_optim.args_.lr_3e-05__agent_params.args_....   \n",
       "639  0003_optim.args_.lr_3e-05__agent_params.args_....   \n",
       "\n",
       "                                   sub_experiment_path  \\\n",
       "79   d:\\Work\\repos\\RL\\phd-rl-algos\\dqn\\opinion_dyna...   \n",
       "159  d:\\Work\\repos\\RL\\phd-rl-algos\\dqn\\opinion_dyna...   \n",
       "239  d:\\Work\\repos\\RL\\phd-rl-algos\\dqn\\opinion_dyna...   \n",
       "319  d:\\Work\\repos\\RL\\phd-rl-algos\\dqn\\opinion_dyna...   \n",
       "399  d:\\Work\\repos\\RL\\phd-rl-algos\\dqn\\opinion_dyna...   \n",
       "479  d:\\Work\\repos\\RL\\phd-rl-algos\\dqn\\opinion_dyna...   \n",
       "559  d:\\Work\\repos\\RL\\phd-rl-algos\\dqn\\opinion_dyna...   \n",
       "639  d:\\Work\\repos\\RL\\phd-rl-algos\\dqn\\opinion_dyna...   \n",
       "\n",
       "    sub_exp_cfg_optim.args_.lr sub_exp_cfg_agent_params.args_.target_soft_tau  \\\n",
       "79                       1e-05                                         0.0001   \n",
       "159                      1e-05                                         0.0001   \n",
       "239                      1e-05                                         0.0005   \n",
       "319                      1e-05                                         0.0005   \n",
       "399                      3e-05                                         0.0001   \n",
       "479                      3e-05                                         0.0001   \n",
       "559                      3e-05                                         0.0005   \n",
       "639                      3e-05                                         0.0005   \n",
       "\n",
       "    sub_exp_cfg_experiment  \n",
       "79               fixed_res  \n",
       "159              fixed_res  \n",
       "239              fixed_res  \n",
       "319              fixed_res  \n",
       "399              fixed_res  \n",
       "479              fixed_res  \n",
       "559              fixed_res  \n",
       "639              fixed_res  "
      ]
     },
     "execution_count": 565,
     "metadata": {},
     "output_type": "execute_result"
    }
   ],
   "source": [
    "### Select data\n",
    "\n",
    "experiment_columns = [\n",
    "    \"epoch_type\",\n",
    "    \"frame_stamp\",\n",
    "    \"episode_rewards_mean\",\n",
    "    \"episode_frames_mean\",\n",
    "    \"episode_discounted_rewards_mean\",\n",
    "    \"policy_trained_times\",\n",
    "    \"target_trained_times\",\n",
    "    \"epoch_time\",\n",
    "    \"seed\",\n",
    "    \"experiment_name\",\n",
    "    \"sub_experiment_path\",\n",
    "]\n",
    "hyperparam_columns = [col for col in df.columns if \"sub_exp_cfg\" in col]\n",
    "\n",
    "cols_of_interest = experiment_columns + hyperparam_columns\n",
    "\n",
    "sub_df = df[cols_of_interest]\n",
    "sub_df = sub_df[sub_df[\"epoch_type\"] == \"validation\"]\n",
    "sub_df = sub_df[sub_df[\"frame_stamp\"] == sub_df[\"frame_stamp\"].max()]\n",
    "\n",
    "sub_df"
   ]
  },
  {
   "cell_type": "code",
   "execution_count": 566,
   "metadata": {},
   "outputs": [
    {
     "data": {
      "text/html": [
       "<div>\n",
       "<style scoped>\n",
       "    .dataframe tbody tr th:only-of-type {\n",
       "        vertical-align: middle;\n",
       "    }\n",
       "\n",
       "    .dataframe tbody tr th {\n",
       "        vertical-align: top;\n",
       "    }\n",
       "\n",
       "    .dataframe thead th {\n",
       "        text-align: right;\n",
       "    }\n",
       "</style>\n",
       "<table border=\"1\" class=\"dataframe\">\n",
       "  <thead>\n",
       "    <tr style=\"text-align: right;\">\n",
       "      <th></th>\n",
       "      <th>sub_exp_cfg_optim.args_.lr</th>\n",
       "      <th>sub_exp_cfg_agent_params.args_.target_soft_tau</th>\n",
       "      <th>sub_exp_cfg_experiment</th>\n",
       "      <th>episode_discounted_rewards_mean</th>\n",
       "    </tr>\n",
       "  </thead>\n",
       "  <tbody>\n",
       "    <tr>\n",
       "      <th>0</th>\n",
       "      <td>1e-05</td>\n",
       "      <td>0.0001</td>\n",
       "      <td>fixed_res</td>\n",
       "      <td>-6.834229</td>\n",
       "    </tr>\n",
       "    <tr>\n",
       "      <th>1</th>\n",
       "      <td>1e-05</td>\n",
       "      <td>0.0005</td>\n",
       "      <td>fixed_res</td>\n",
       "      <td>-7.025445</td>\n",
       "    </tr>\n",
       "    <tr>\n",
       "      <th>2</th>\n",
       "      <td>3e-05</td>\n",
       "      <td>0.0001</td>\n",
       "      <td>fixed_res</td>\n",
       "      <td>-7.494648</td>\n",
       "    </tr>\n",
       "    <tr>\n",
       "      <th>3</th>\n",
       "      <td>3e-05</td>\n",
       "      <td>0.0005</td>\n",
       "      <td>fixed_res</td>\n",
       "      <td>-7.696360</td>\n",
       "    </tr>\n",
       "  </tbody>\n",
       "</table>\n",
       "</div>"
      ],
      "text/plain": [
       "  sub_exp_cfg_optim.args_.lr sub_exp_cfg_agent_params.args_.target_soft_tau  \\\n",
       "0                      1e-05                                         0.0001   \n",
       "1                      1e-05                                         0.0005   \n",
       "2                      3e-05                                         0.0001   \n",
       "3                      3e-05                                         0.0005   \n",
       "\n",
       "  sub_exp_cfg_experiment  episode_discounted_rewards_mean  \n",
       "0              fixed_res                        -6.834229  \n",
       "1              fixed_res                        -7.025445  \n",
       "2              fixed_res                        -7.494648  \n",
       "3              fixed_res                        -7.696360  "
      ]
     },
     "execution_count": 566,
     "metadata": {},
     "output_type": "execute_result"
    }
   ],
   "source": [
    "agg_cols = [col for col in sub_df.columns if \"sub_exp_cfg\" in col]\n",
    "aggregated_df = (\n",
    "    sub_df.groupby(agg_cols)\n",
    "    .agg(episode_discounted_rewards_mean=(\"episode_discounted_rewards_mean\", \"mean\"))\n",
    "    .reset_index()\n",
    ")\n",
    "aggregated_df"
   ]
  },
  {
   "cell_type": "code",
   "execution_count": 567,
   "metadata": {},
   "outputs": [
    {
     "data": {
      "text/plain": [
       "Index(['epoch_type', 'frame_stamp', 'episode_rewards_mean',\n",
       "       'episode_frames_mean', 'episode_discounted_rewards_mean',\n",
       "       'policy_trained_times', 'target_trained_times', 'epoch_time', 'seed',\n",
       "       'experiment_name', 'sub_experiment_path', 'sub_exp_cfg_optim.args_.lr',\n",
       "       'sub_exp_cfg_agent_params.args_.target_soft_tau',\n",
       "       'sub_exp_cfg_experiment'],\n",
       "      dtype='object')"
      ]
     },
     "execution_count": 567,
     "metadata": {},
     "output_type": "execute_result"
    }
   ],
   "source": [
    "sub_df.columns"
   ]
  },
  {
   "cell_type": "markdown",
   "metadata": {},
   "source": [
    "## Best final model"
   ]
  },
  {
   "cell_type": "code",
   "execution_count": 568,
   "metadata": {},
   "outputs": [
    {
     "name": "stdout",
     "output_type": "stream",
     "text": [
      "d:\\Work\\repos\\RL\\phd-rl-algos\\dqn\\opinion_dynamics\\experiments\\results\\2025Oct28-115156_configs\\0000_optim.args_.lr_1e-05__agent_params.args_.target_soft_tau_0.0001__experiment_fixed_res\\1\n"
     ]
    }
   ],
   "source": [
    "print(\n",
    "    sub_df[sub_df[\"episode_rewards_mean\"] == sub_df[\"episode_rewards_mean\"].max()][\n",
    "        \"sub_experiment_path\"\n",
    "    ].values[0]\n",
    ")"
   ]
  },
  {
   "cell_type": "code",
   "execution_count": 569,
   "metadata": {},
   "outputs": [
    {
     "data": {
      "text/html": [
       "<div>\n",
       "<style scoped>\n",
       "    .dataframe tbody tr th:only-of-type {\n",
       "        vertical-align: middle;\n",
       "    }\n",
       "\n",
       "    .dataframe tbody tr th {\n",
       "        vertical-align: top;\n",
       "    }\n",
       "\n",
       "    .dataframe thead th {\n",
       "        text-align: right;\n",
       "    }\n",
       "</style>\n",
       "<table border=\"1\" class=\"dataframe\">\n",
       "  <thead>\n",
       "    <tr style=\"text-align: right;\">\n",
       "      <th></th>\n",
       "      <th>epoch_type</th>\n",
       "      <th>frame_stamp</th>\n",
       "      <th>episode_rewards_mean</th>\n",
       "      <th>episode_frames_mean</th>\n",
       "      <th>episode_discounted_rewards_mean</th>\n",
       "      <th>policy_trained_times</th>\n",
       "      <th>target_trained_times</th>\n",
       "      <th>epoch_time</th>\n",
       "      <th>seed</th>\n",
       "      <th>experiment_name</th>\n",
       "      <th>sub_experiment_path</th>\n",
       "      <th>sub_exp_cfg_optim.args_.lr</th>\n",
       "      <th>sub_exp_cfg_agent_params.args_.target_soft_tau</th>\n",
       "      <th>sub_exp_cfg_experiment</th>\n",
       "    </tr>\n",
       "  </thead>\n",
       "  <tbody>\n",
       "    <tr>\n",
       "      <th>159</th>\n",
       "      <td>validation</td>\n",
       "      <td>8000000</td>\n",
       "      <td>-7.999318</td>\n",
       "      <td>100.0</td>\n",
       "      <td>-6.764878</td>\n",
       "      <td>NaN</td>\n",
       "      <td>NaN</td>\n",
       "      <td>0 days 00:00:09.645577</td>\n",
       "      <td>1</td>\n",
       "      <td>0000_optim.args_.lr_1e-05__agent_params.args_....</td>\n",
       "      <td>d:\\Work\\repos\\RL\\phd-rl-algos\\dqn\\opinion_dyna...</td>\n",
       "      <td>1e-05</td>\n",
       "      <td>0.0001</td>\n",
       "      <td>fixed_res</td>\n",
       "    </tr>\n",
       "  </tbody>\n",
       "</table>\n",
       "</div>"
      ],
      "text/plain": [
       "     epoch_type  frame_stamp  episode_rewards_mean  episode_frames_mean  \\\n",
       "159  validation      8000000             -7.999318                100.0   \n",
       "\n",
       "     episode_discounted_rewards_mean  policy_trained_times  \\\n",
       "159                        -6.764878                   NaN   \n",
       "\n",
       "     target_trained_times             epoch_time seed  \\\n",
       "159                   NaN 0 days 00:00:09.645577    1   \n",
       "\n",
       "                                       experiment_name  \\\n",
       "159  0000_optim.args_.lr_1e-05__agent_params.args_....   \n",
       "\n",
       "                                   sub_experiment_path  \\\n",
       "159  d:\\Work\\repos\\RL\\phd-rl-algos\\dqn\\opinion_dyna...   \n",
       "\n",
       "    sub_exp_cfg_optim.args_.lr sub_exp_cfg_agent_params.args_.target_soft_tau  \\\n",
       "159                      1e-05                                         0.0001   \n",
       "\n",
       "    sub_exp_cfg_experiment  \n",
       "159              fixed_res  "
      ]
     },
     "execution_count": 569,
     "metadata": {},
     "output_type": "execute_result"
    }
   ],
   "source": [
    "sub_df[sub_df[\"episode_rewards_mean\"] == sub_df[\"episode_rewards_mean\"].max()]"
   ]
  },
  {
   "cell_type": "markdown",
   "metadata": {},
   "source": [
    "## Best checkpoint"
   ]
  },
  {
   "cell_type": "code",
   "execution_count": 570,
   "metadata": {},
   "outputs": [
    {
     "name": "stdout",
     "output_type": "stream",
     "text": [
      "=== Best validation checkpoint across all sub-experiments ===\n",
      "Sub-experiment path : d:\\Work\\repos\\RL\\phd-rl-algos\\dqn\\opinion_dynamics\\experiments\\results\\2025Oct28-115156_configs\\0001_optim.args_.lr_1e-05__agent_params.args_.target_soft_tau_0.0005__experiment_fixed_res\\0\n",
      "Checkpoint index     : 27  (frame_stamp=5400000, steps/epoch=200000)\n",
      "Mean reward (val)    : -7.9962\n",
      "\n",
      "Hyperparameters for best run:\n",
      "  sub_exp_cfg_optim.args_.lr: 1e-05\n",
      "  sub_exp_cfg_agent_params.args_.target_soft_tau: 0.0005\n",
      "  sub_exp_cfg_experiment: fixed_res\n",
      "\n",
      "=== Top-5 validation checkpoints (for quick inspection) ===\n",
      "                                                                                                                                                                         sub_experiment_path  frame_stamp  steps_per_epoch  checkpoint_idx  episode_rewards_mean\n",
      "d:\\Work\\repos\\RL\\phd-rl-algos\\dqn\\opinion_dynamics\\experiments\\results\\2025Oct28-115156_configs\\0001_optim.args_.lr_1e-05__agent_params.args_.target_soft_tau_0.0005__experiment_fixed_res\\0      5400000           200000              27             -7.996198\n",
      "d:\\Work\\repos\\RL\\phd-rl-algos\\dqn\\opinion_dynamics\\experiments\\results\\2025Oct28-115156_configs\\0000_optim.args_.lr_1e-05__agent_params.args_.target_soft_tau_0.0001__experiment_fixed_res\\1      8000000           200000              40             -7.999318\n",
      "d:\\Work\\repos\\RL\\phd-rl-algos\\dqn\\opinion_dynamics\\experiments\\results\\2025Oct28-115156_configs\\0001_optim.args_.lr_1e-05__agent_params.args_.target_soft_tau_0.0005__experiment_fixed_res\\0      5200000           200000              26             -8.013389\n",
      "d:\\Work\\repos\\RL\\phd-rl-algos\\dqn\\opinion_dynamics\\experiments\\results\\2025Oct28-115156_configs\\0000_optim.args_.lr_1e-05__agent_params.args_.target_soft_tau_0.0001__experiment_fixed_res\\1      7800000           200000              39             -8.016777\n",
      "d:\\Work\\repos\\RL\\phd-rl-algos\\dqn\\opinion_dynamics\\experiments\\results\\2025Oct28-115156_configs\\0001_optim.args_.lr_1e-05__agent_params.args_.target_soft_tau_0.0005__experiment_fixed_res\\0      6600000           200000              33             -8.017632\n"
     ]
    }
   ],
   "source": [
    "import os, json, ast\n",
    "from typing import Any, Dict, Optional, Union, Tuple\n",
    "import pandas as pd\n",
    "\n",
    "# -----------------------------\n",
    "# Config parse/load helpers\n",
    "# -----------------------------\n",
    "_CFG_CANDIDATES = [\n",
    "    \"cfg.yaml\", \"config.yaml\", \"config.yml\", \"cfg.yml\",\n",
    "    \"config.json\", \"cfg.json\"\n",
    "]\n",
    "\n",
    "def _parse_cfg_str_or_dict(cfg_str_or_dict: Union[str, dict]) -> dict:\n",
    "    if isinstance(cfg_str_or_dict, dict):\n",
    "        return cfg_str_or_dict\n",
    "    text = str(cfg_str_or_dict)\n",
    "    # try YAML\n",
    "    try:\n",
    "        import yaml\n",
    "        cfg = yaml.safe_load(text)\n",
    "        if isinstance(cfg, dict): return cfg\n",
    "    except Exception:\n",
    "        pass\n",
    "    # try JSON\n",
    "    try:\n",
    "        cfg = json.loads(text)\n",
    "        if isinstance(cfg, dict): return cfg\n",
    "    except Exception:\n",
    "        pass\n",
    "    # try Python literal\n",
    "    try:\n",
    "        cfg = ast.literal_eval(text)\n",
    "        if isinstance(cfg, dict): return cfg\n",
    "    except Exception:\n",
    "        pass\n",
    "    raise ValueError(\"Could not parse config string into a dict.\")\n",
    "\n",
    "def _load_cfg_from_path(run_path: str) -> Optional[dict]:\n",
    "    if not isinstance(run_path, str) or not run_path:\n",
    "        return None\n",
    "    # search run_path and a few parents\n",
    "    search_dirs = []\n",
    "    p = os.path.abspath(run_path)\n",
    "    for _ in range(4):  # current + 3 parents\n",
    "        search_dirs.append(p)\n",
    "        new_p = os.path.dirname(p)\n",
    "        if new_p == p: break\n",
    "        p = new_p\n",
    "\n",
    "    for d in search_dirs:\n",
    "        for fname in _CFG_CANDIDATES:\n",
    "            fpath = os.path.join(d, fname)\n",
    "            if os.path.isfile(fpath):\n",
    "                try:\n",
    "                    if fpath.endswith((\".yaml\", \".yml\")):\n",
    "                        import yaml\n",
    "                        with open(fpath, \"r\", encoding=\"utf-8\") as f:\n",
    "                            cfg = yaml.safe_load(f)\n",
    "                    else:\n",
    "                        with open(fpath, \"r\", encoding=\"utf-8\") as f:\n",
    "                            cfg = json.load(f)\n",
    "                    if isinstance(cfg, dict):\n",
    "                        return cfg\n",
    "                except Exception as e:\n",
    "                    print(f\"[WARN] Failed reading {fpath}: {e}\")\n",
    "    return None\n",
    "\n",
    "def _steps_per_epoch_from_cfg(cfg: dict, *, include_validation: bool = False) -> int:\n",
    "    agent_params = cfg.get(\"agent_params\", {}) or {}\n",
    "    args_ = agent_params.get(\"args_\", {}) or {}\n",
    "\n",
    "    train_step_cnt = int(args_.get(\"train_step_cnt\", 0) or 0)\n",
    "    if train_step_cnt <= 0:\n",
    "        raise ValueError(\"train_step_cnt missing/zero; cannot compute steps_per_epoch.\")\n",
    "\n",
    "    if include_validation and bool(args_.get(\"validation_enabled\", False)):\n",
    "        val_cnt = int(args_.get(\"validation_step_cnt\", 0) or 0)\n",
    "        return train_step_cnt + val_cnt\n",
    "\n",
    "    return train_step_cnt\n",
    "\n",
    "# -----------------------------------------\n",
    "# Annotate df with steps_per_epoch & index\n",
    "# -----------------------------------------\n",
    "def annotate_with_checkpoint_idx(\n",
    "    df: pd.DataFrame,\n",
    "    *,\n",
    "    cfg_col_fallback: str = \"sub_exp_cfg_experiment\",\n",
    ") -> pd.DataFrame:\n",
    "    \"\"\"\n",
    "    Adds two columns: 'steps_per_epoch' and 'checkpoint_idx'.\n",
    "    Reads cfg from disk near 'sub_experiment_path'; falls back to parsing cfg_col_fallback if present.\n",
    "    \"\"\"\n",
    "    required = {\"sub_experiment_path\", \"frame_stamp\"}\n",
    "    missing = required - set(df.columns)\n",
    "    if missing:\n",
    "        raise KeyError(f\"Missing required columns: {sorted(missing)}\")\n",
    "\n",
    "    out = df.copy()\n",
    "    spe_cache: Dict[str, Optional[int]] = {}\n",
    "    cfg_col_exists = cfg_col_fallback in out.columns\n",
    "\n",
    "    def _get_spe(path: str, cfg_blob: Any) -> Optional[int]:\n",
    "        if path in spe_cache:\n",
    "            return spe_cache[path]\n",
    "        cfg = _load_cfg_from_path(path)\n",
    "        if cfg is None and cfg_col_exists and pd.notna(cfg_blob):\n",
    "            try:\n",
    "                cfg = _parse_cfg_str_or_dict(cfg_blob)\n",
    "            except Exception:\n",
    "                cfg = None\n",
    "        if cfg is None:\n",
    "            spe_cache[path] = None\n",
    "            return None\n",
    "        try:\n",
    "            spe = _steps_per_epoch_from_cfg(cfg)\n",
    "            spe_cache[path] = int(spe)\n",
    "            return int(spe)\n",
    "        except Exception:\n",
    "            spe_cache[path] = None\n",
    "            return None\n",
    "\n",
    "    steps_per_epoch = []\n",
    "    checkpoint_idx = []\n",
    "    for _, row in out.iterrows():\n",
    "        path = row[\"sub_experiment_path\"]\n",
    "        cfg_blob = row[cfg_col_fallback] if cfg_col_exists else None\n",
    "        spe = _get_spe(path, cfg_blob)\n",
    "        steps_per_epoch.append(spe)\n",
    "        if spe is None:\n",
    "            checkpoint_idx.append(None)\n",
    "        else:\n",
    "            try:\n",
    "                frame = int(row[\"frame_stamp\"])\n",
    "                checkpoint_idx.append(int(round(frame / int(spe))))\n",
    "            except Exception:\n",
    "                checkpoint_idx.append(None)\n",
    "\n",
    "    out[\"steps_per_epoch\"] = steps_per_epoch\n",
    "    out[\"checkpoint_idx\"] = checkpoint_idx\n",
    "    return out\n",
    "\n",
    "# -----------------------------------------\n",
    "# Best checkpoint (keeps your original prints)\n",
    "# -----------------------------------------\n",
    "def find_best_checkpoint_from_logs(\n",
    "    df: pd.DataFrame,\n",
    "    *,\n",
    "    tie_breaker: Optional[str] = \"episode_rewards_median\",\n",
    ") -> Dict[str, Any]:\n",
    "    required = {\"epoch_type\", \"episode_rewards_mean\", \"frame_stamp\", \"sub_experiment_path\"}\n",
    "    missing = required - set(df.columns)\n",
    "    if missing:\n",
    "        raise KeyError(f\"DataFrame is missing required columns: {sorted(missing)}\")\n",
    "\n",
    "    val = df[df[\"epoch_type\"] == \"validation\"].copy()\n",
    "    if val.empty:\n",
    "        raise ValueError(\"No validation rows found in df.\")\n",
    "\n",
    "    sort_cols = [\"episode_rewards_mean\"]\n",
    "    ascending = [False]\n",
    "    if tie_breaker is not None and tie_breaker in val.columns:\n",
    "        sort_cols.append(tie_breaker)\n",
    "        ascending.append(False)\n",
    "\n",
    "    best_per_run = (\n",
    "        val.sort_values(sort_cols, ascending=ascending)\n",
    "           .groupby(\"sub_experiment_path\", as_index=False, sort=False)\n",
    "           .head(1)\n",
    "    )\n",
    "    best_row = best_per_run.sort_values(sort_cols, ascending=ascending).iloc[0]\n",
    "\n",
    "    # We expect 'checkpoint_idx' & 'steps_per_epoch' to already exist (from annotate_with_checkpoint_idx)\n",
    "    checkpoint_idx = best_row.get(\"checkpoint_idx\", None)\n",
    "    steps_per_epoch = best_row.get(\"steps_per_epoch\", None)\n",
    "\n",
    "    hyperparam_columns = [c for c in df.columns if c.startswith(\"sub_exp_cfg\")]\n",
    "    hyperparams = {k: best_row[k] for k in hyperparam_columns if k in best_row.index}\n",
    "\n",
    "    return {\n",
    "        \"sub_experiment_path\": best_row[\"sub_experiment_path\"],\n",
    "        \"checkpoint_idx\": None if pd.isna(checkpoint_idx) else int(checkpoint_idx),\n",
    "        \"frame_stamp\": int(best_row[\"frame_stamp\"]),\n",
    "        \"episode_rewards_mean\": float(best_row[\"episode_rewards_mean\"]),\n",
    "        \"steps_per_epoch\": None if pd.isna(steps_per_epoch) else int(steps_per_epoch),\n",
    "        \"hyperparams\": hyperparams,\n",
    "    }\n",
    "\n",
    "# ======================\n",
    "# === CALL + PRINTS ====\n",
    "# ======================\n",
    "\n",
    "# 1) annotate df with steps_per_epoch + checkpoint_idx\n",
    "df_aug = annotate_with_checkpoint_idx(df)\n",
    "\n",
    "# 2) your original \"best run\" print (preserved)\n",
    "best = find_best_checkpoint_from_logs(df_aug)\n",
    "\n",
    "print(\"=== Best validation checkpoint across all sub-experiments ===\")\n",
    "print(f\"Sub-experiment path : {best['sub_experiment_path']}\")\n",
    "print(f\"Checkpoint index     : {best['checkpoint_idx']}  (frame_stamp={best['frame_stamp']}, steps/epoch={best['steps_per_epoch']})\")\n",
    "print(f\"Mean reward (val)    : {best['episode_rewards_mean']:.4f}\")\n",
    "\n",
    "if best.get(\"hyperparams\"):\n",
    "    print(\"\\nHyperparameters for best run:\")\n",
    "    for k, v in best[\"hyperparams\"].items():\n",
    "        print(f\"  {k}: {v}\")\n",
    "\n",
    "# 3) your original \"top-5 validation checkpoints\" print (preserved)\n",
    "val = df_aug[df_aug[\"epoch_type\"] == \"validation\"].copy()\n",
    "secondary = \"episode_rewards_median\" if \"episode_rewards_median\" in val.columns else \"episode_rewards_mean\"\n",
    "top5 = (\n",
    "    val.sort_values([\"episode_rewards_mean\", secondary], ascending=[False, False])\n",
    "       .loc[:, [\"sub_experiment_path\", \"frame_stamp\", \"steps_per_epoch\", \"checkpoint_idx\", \"episode_rewards_mean\"]]\n",
    "       .head(5)\n",
    ")\n",
    "\n",
    "print(\"\\n=== Top-5 validation checkpoints (for quick inspection) ===\")\n",
    "print(top5.to_string(index=False))\n",
    "\n"
   ]
  },
  {
   "cell_type": "code",
   "execution_count": 571,
   "metadata": {},
   "outputs": [
    {
     "data": {
      "text/html": [
       "<div>\n",
       "<style scoped>\n",
       "    .dataframe tbody tr th:only-of-type {\n",
       "        vertical-align: middle;\n",
       "    }\n",
       "\n",
       "    .dataframe tbody tr th {\n",
       "        vertical-align: top;\n",
       "    }\n",
       "\n",
       "    .dataframe thead th {\n",
       "        text-align: right;\n",
       "    }\n",
       "</style>\n",
       "<table border=\"1\" class=\"dataframe\">\n",
       "  <thead>\n",
       "    <tr style=\"text-align: right;\">\n",
       "      <th></th>\n",
       "      <th>sub_experiment_path</th>\n",
       "      <th>epoch_type</th>\n",
       "      <th>frame_stamp</th>\n",
       "      <th>episode_rewards_mean</th>\n",
       "      <th>episode_rewards_median</th>\n",
       "      <th>episode_rewards_std</th>\n",
       "      <th>greedy_epsilon</th>\n",
       "      <th>policy_trained_times</th>\n",
       "      <th>target_trained_times</th>\n",
       "      <th>sub_exp_cfg_experiment</th>\n",
       "    </tr>\n",
       "  </thead>\n",
       "  <tbody>\n",
       "    <tr>\n",
       "      <th>0</th>\n",
       "      <td>d:\\Work\\repos\\RL\\phd-rl-algos\\dqn\\opinion_dyna...</td>\n",
       "      <td>training</td>\n",
       "      <td>200000</td>\n",
       "      <td>-11.363055</td>\n",
       "      <td>-11.186576</td>\n",
       "      <td>2.000582</td>\n",
       "      <td>0.90975</td>\n",
       "      <td>47499.0</td>\n",
       "      <td>0.0</td>\n",
       "      <td>fixed_res</td>\n",
       "    </tr>\n",
       "    <tr>\n",
       "      <th>1</th>\n",
       "      <td>d:\\Work\\repos\\RL\\phd-rl-algos\\dqn\\opinion_dyna...</td>\n",
       "      <td>training</td>\n",
       "      <td>400000</td>\n",
       "      <td>-10.817092</td>\n",
       "      <td>-10.644067</td>\n",
       "      <td>1.829778</td>\n",
       "      <td>0.81475</td>\n",
       "      <td>50000.0</td>\n",
       "      <td>0.0</td>\n",
       "      <td>fixed_res</td>\n",
       "    </tr>\n",
       "    <tr>\n",
       "      <th>2</th>\n",
       "      <td>d:\\Work\\repos\\RL\\phd-rl-algos\\dqn\\opinion_dyna...</td>\n",
       "      <td>training</td>\n",
       "      <td>600000</td>\n",
       "      <td>-9.985639</td>\n",
       "      <td>-9.895639</td>\n",
       "      <td>1.547925</td>\n",
       "      <td>0.71975</td>\n",
       "      <td>50000.0</td>\n",
       "      <td>0.0</td>\n",
       "      <td>fixed_res</td>\n",
       "    </tr>\n",
       "    <tr>\n",
       "      <th>3</th>\n",
       "      <td>d:\\Work\\repos\\RL\\phd-rl-algos\\dqn\\opinion_dyna...</td>\n",
       "      <td>training</td>\n",
       "      <td>800000</td>\n",
       "      <td>-9.519608</td>\n",
       "      <td>-9.447236</td>\n",
       "      <td>1.380046</td>\n",
       "      <td>0.62475</td>\n",
       "      <td>50000.0</td>\n",
       "      <td>0.0</td>\n",
       "      <td>fixed_res</td>\n",
       "    </tr>\n",
       "    <tr>\n",
       "      <th>4</th>\n",
       "      <td>d:\\Work\\repos\\RL\\phd-rl-algos\\dqn\\opinion_dyna...</td>\n",
       "      <td>training</td>\n",
       "      <td>1000000</td>\n",
       "      <td>-9.049368</td>\n",
       "      <td>-8.956075</td>\n",
       "      <td>1.296069</td>\n",
       "      <td>0.52975</td>\n",
       "      <td>50000.0</td>\n",
       "      <td>0.0</td>\n",
       "      <td>fixed_res</td>\n",
       "    </tr>\n",
       "  </tbody>\n",
       "</table>\n",
       "</div>"
      ],
      "text/plain": [
       "                                 sub_experiment_path epoch_type  frame_stamp  \\\n",
       "0  d:\\Work\\repos\\RL\\phd-rl-algos\\dqn\\opinion_dyna...   training       200000   \n",
       "1  d:\\Work\\repos\\RL\\phd-rl-algos\\dqn\\opinion_dyna...   training       400000   \n",
       "2  d:\\Work\\repos\\RL\\phd-rl-algos\\dqn\\opinion_dyna...   training       600000   \n",
       "3  d:\\Work\\repos\\RL\\phd-rl-algos\\dqn\\opinion_dyna...   training       800000   \n",
       "4  d:\\Work\\repos\\RL\\phd-rl-algos\\dqn\\opinion_dyna...   training      1000000   \n",
       "\n",
       "   episode_rewards_mean  episode_rewards_median  episode_rewards_std  \\\n",
       "0            -11.363055              -11.186576             2.000582   \n",
       "1            -10.817092              -10.644067             1.829778   \n",
       "2             -9.985639               -9.895639             1.547925   \n",
       "3             -9.519608               -9.447236             1.380046   \n",
       "4             -9.049368               -8.956075             1.296069   \n",
       "\n",
       "   greedy_epsilon  policy_trained_times  target_trained_times  \\\n",
       "0         0.90975               47499.0                   0.0   \n",
       "1         0.81475               50000.0                   0.0   \n",
       "2         0.71975               50000.0                   0.0   \n",
       "3         0.62475               50000.0                   0.0   \n",
       "4         0.52975               50000.0                   0.0   \n",
       "\n",
       "  sub_exp_cfg_experiment  \n",
       "0              fixed_res  \n",
       "1              fixed_res  \n",
       "2              fixed_res  \n",
       "3              fixed_res  \n",
       "4              fixed_res  "
      ]
     },
     "execution_count": 571,
     "metadata": {},
     "output_type": "execute_result"
    }
   ],
   "source": [
    "wanted_cols = [\n",
    "    \"sub_experiment_path\",\n",
    "    \"epoch_type\",\n",
    "    \"frame_stamp\",\n",
    "    \"episode_rewards_mean\",\n",
    "    \"episode_rewards_median\",      # may not exist\n",
    "    \"episode_rewards_std\",         # nice to see spread\n",
    "    \"greedy_epsilon\",              # sanity check exploration\n",
    "    \"policy_trained_times\",        # progress markers\n",
    "    \"target_trained_times\",\n",
    "    \"sub_exp_cfg_experiment\",      # raw cfg (string or dict)\n",
    "]\n",
    "\n",
    "# Keep only those that actually exist\n",
    "cols = [c for c in wanted_cols if c in df.columns]\n",
    "df[cols].head()"
   ]
  },
  {
   "cell_type": "code",
   "execution_count": 572,
   "metadata": {},
   "outputs": [
    {
     "data": {
      "image/png": "[encoded data removed]",
      "text/plain": [
       "<Figure size 1000x600 with 1 Axes>"
      ]
     },
     "metadata": {},
     "output_type": "display_data"
    }
   ],
   "source": [
    "selected_metric = \"episode_rewards_mean\"\n",
    "hue_col = \"experiment_name\"\n",
    "\n",
    "val_df = df[df[\"epoch_type\"] == \"validation\"].copy()\n",
    "\n",
    "# 1) Last global frame\n",
    "last_frame = val_df[\"frame_stamp\"].max()\n",
    "last_df = val_df[val_df[\"frame_stamp\"] == last_frame]\n",
    "\n",
    "# 2) Best experiment by mean at LAST frame (averaged across seeds)\n",
    "best_experiment = last_df.groupby(hue_col)[selected_metric].mean().idxmax()\n",
    "\n",
    "# 3) Within that experiment, the best seed at LAST frame\n",
    "best_seed = (\n",
    "    last_df[last_df[hue_col] == best_experiment]\n",
    "    .groupby(\"seed\")[selected_metric]\n",
    "    .mean()\n",
    "    .idxmax()\n",
    ")\n",
    "\n",
    "# 4) Plot the whole curve for that experiment+seed (not just the final point)\n",
    "best_seed_df = val_df[\n",
    "    (val_df[hue_col] == best_experiment) & (val_df[\"seed\"] == best_seed)\n",
    "]\n",
    "\n",
    "plt.figure(figsize=(10, 6))\n",
    "sns.lineplot(\n",
    "    data=best_seed_df,\n",
    "    x=\"frame_stamp\",\n",
    "    y=selected_metric,\n",
    "    lw=2,\n",
    "    label=f\"Seed {best_seed}\",\n",
    ")\n",
    "plt.title(\n",
    "    f\"Best seed ({best_seed}) at last frame {last_frame} from best experiment: {best_experiment}\"\n",
    ")\n",
    "plt.ylabel(selected_metric)\n",
    "plt.xlabel(\"Frame Stamp\")\n",
    "plt.legend()\n",
    "plt.tight_layout()\n",
    "plt.show()"
   ]
  },
  {
   "cell_type": "code",
   "execution_count": 573,
   "metadata": {},
   "outputs": [
    {
     "data": {
      "image/png": "[encoded data removed]",
      "text/plain": [
       "<Figure size 800x270 with 2 Axes>"
      ]
     },
     "metadata": {},
     "output_type": "display_data"
    }
   ],
   "source": [
    "import shap\n",
    "import xgboost\n",
    "import pandas as pd\n",
    "\n",
    "\n",
    "# Define the target metric and hyperparameter columns\n",
    "target_metric = \"episode_rewards_mean\"  # Replace with actual metric column name\n",
    "# Replace with actual hyperparameter column names\n",
    "\n",
    "# Prepare data\n",
    "X = sub_df[hyperparam_columns].apply(pd.to_numeric, errors=\"coerce\")\n",
    "y = sub_df[target_metric].fillna(3 * sub_df[target_metric].min())\n",
    "\n",
    "# Train an XGBoost model to analyze feature importance\n",
    "model = xgboost.XGBRegressor(\n",
    "    objective=\"reg:squarederror\", n_estimators=100, random_state=42\n",
    ")\n",
    "model.fit(X, y)\n",
    "\n",
    "# SHAP analysis\n",
    "explainer = shap.Explainer(model)\n",
    "shap_values = explainer(X)\n",
    "\n",
    "# Summary plot (feature importance)\n",
    "shap.summary_plot(shap_values, X)"
   ]
  },
  {
   "cell_type": "code",
   "execution_count": 574,
   "metadata": {},
   "outputs": [
    {
     "name": "stdout",
     "output_type": "stream",
     "text": [
      "# --- shap_global.csv ---\n",
      "feature,mean_abs_shap,corr_sign,corr_value\n",
      "sub_exp_cfg_optim.args_.lr,0.51903373,-1.0,-0.9991001969133011\n",
      "sub_exp_cfg_agent_params.args_.target_soft_tau,0.063563325,-1.0,-0.944845989011814\n",
      "sub_exp_cfg_experiment,0.0,,\n",
      "\n",
      "# --- shap_values_top10.csv ---\n",
      ",sub_exp_cfg_optim.args_.lr,sub_exp_cfg_agent_params.args_.target_soft_tau,sub_exp_cfg_experiment\n",
      "79,0.54106694,0.08559648,0.0\n",
      "159,0.54106694,0.08559648,0.0\n",
      "239,0.49700055,-0.08559648,0.0\n",
      "319,0.49700055,-0.08559648,0.0\n",
      "399,-0.54106694,0.041530166,0.0\n",
      "479,-0.54106694,0.041530166,0.0\n",
      "559,-0.49700055,-0.041530166,0.0\n",
      "639,-0.49700055,-0.041530166,0.0\n",
      "\n",
      "# --- shap_meta.csv ---\n",
      ",prediction,episode_rewards_mean\n",
      "79,-8.133107,-8.265360638397672\n",
      "159,-8.133107,-7.999317697103687\n",
      "239,-8.348366,-8.105728200650406\n",
      "319,-8.348366,-8.59100915594546\n",
      "399,-9.259309,-8.546729861251624\n",
      "479,-9.259309,-9.97203665652245\n",
      "559,-9.298302,-8.945103999156157\n",
      "639,-9.298302,-9.65287004871617\n",
      "\n"
     ]
    }
   ],
   "source": [
    "# Minimal cell to PRINT compact SHAP data you can paste back here\n",
    "\n",
    "import numpy as np\n",
    "import pandas as pd\n",
    "\n",
    "# Use the same X and shap_values from your previous cell\n",
    "X_num = X.apply(pd.to_numeric, errors=\"coerce\").fillna(X.median(numeric_only=True))\n",
    "\n",
    "# Global importance = mean(|SHAP|) per feature\n",
    "sv = shap_values\n",
    "vals = (\n",
    "    sv.values if hasattr(sv, \"values\") else sv\n",
    ")  # support both SHAP objects & raw arrays\n",
    "mean_abs = np.mean(np.abs(vals), axis=0)\n",
    "\n",
    "# Direction: correlation between SHAP value and raw feature (helps read summary plot colors)\n",
    "corrs = []\n",
    "for i, col in enumerate(X_num.columns):\n",
    "    xcol = X_num.iloc[:, i].to_numpy()\n",
    "    sval = vals[:, i]\n",
    "    # robust correlation: handle constant columns or NaNs\n",
    "    if np.allclose(xcol, xcol[0]) or np.all(np.isnan(xcol)):\n",
    "        corrs.append(np.nan)\n",
    "    else:\n",
    "        c = np.corrcoef(xcol, sval)[0, 1]\n",
    "        corrs.append(c)\n",
    "\n",
    "global_df = pd.DataFrame(\n",
    "    {\n",
    "        \"feature\": X_num.columns,\n",
    "        \"mean_abs_shap\": mean_abs,\n",
    "        \"corr_sign\": np.sign(\n",
    "            corrs\n",
    "        ),  # +1 ≈ higher feature -> higher prediction; -1 opposite\n",
    "        \"corr_value\": corrs,\n",
    "    }\n",
    ").sort_values(\"mean_abs_shap\", ascending=False)\n",
    "\n",
    "# Keep per-row SHAP small: only top-10 features\n",
    "topk = 10 if len(global_df) > 10 else len(global_df)\n",
    "top_feats = global_df[\"feature\"].head(topk).tolist()\n",
    "top_idx = [X_num.columns.get_loc(f) for f in top_feats]\n",
    "perrow_df = pd.DataFrame(vals[:, top_idx], columns=top_feats, index=sub_df.index)\n",
    "\n",
    "# Also handy context\n",
    "meta_df = pd.DataFrame(\n",
    "    {\"prediction\": model.predict(X_num), target_metric: sub_df[target_metric].values},\n",
    "    index=sub_df.index,\n",
    ")\n",
    "\n",
    "# ---- PRINT CSV blocks you can paste here ----\n",
    "print(\"# --- shap_global.csv ---\")\n",
    "print(global_df.to_csv(index=False))\n",
    "\n",
    "print(\"# --- shap_values_top10.csv ---\")\n",
    "print(perrow_df.to_csv())\n",
    "\n",
    "print(\"# --- shap_meta.csv ---\")\n",
    "print(meta_df.to_csv())"
   ]
  },
  {
   "cell_type": "code",
   "execution_count": 575,
   "metadata": {},
   "outputs": [
    {
     "data": {
      "text/plain": [
       "['sub_exp_cfg_optim.args_.lr',\n",
       " 'sub_exp_cfg_agent_params.args_.target_soft_tau',\n",
       " 'sub_exp_cfg_experiment']"
      ]
     },
     "execution_count": 575,
     "metadata": {},
     "output_type": "execute_result"
    }
   ],
   "source": [
    "hyperparam_columns"
   ]
  },
  {
   "cell_type": "code",
   "execution_count": 576,
   "metadata": {},
   "outputs": [
    {
     "data": {
      "application/vnd.plotly.v1+json": {
       "config": {
        "plotlyServerURL": "https://plot.ly"
       },
       "data": [
        {
         "customdata": [
          [
           "0.0001",
           "fixed_res"
          ],
          [
           "0.0001",
           "fixed_res"
          ]
         ],
         "hovertemplate": "experiment_name=0000_optim.args_.lr_1e-05__agent_params.args_.target_soft_tau_0.0001__experiment_fixed_res<br>sub_exp_cfg_optim.args_.lr=%{x}<br>episode_rewards_mean=%{y}<br>sub_exp_cfg_agent_params.args_.target_soft_tau=%{customdata[0]}<br>sub_exp_cfg_experiment=%{customdata[1]}<extra></extra>",
         "legendgroup": "0000_optim.args_.lr_1e-05__agent_params.args_.target_soft_tau_0.0001__experiment_fixed_res",
         "marker": {
          "color": "#636efa",
          "opacity": 0.8,
          "size": 8,
          "symbol": "circle"
         },
         "mode": "markers",
         "name": "0000_optim.args_.lr_1e-05__agent_params.args_.target_soft_tau_0.0001__experiment_fixed_res",
         "orientation": "v",
         "showlegend": true,
         "type": "scatter",
         "x": [
          "1e-05",
          "1e-05"
         ],
         "xaxis": "x",
         "y": [
          -8.265360638397672,
          -7.999317697103687
         ],
         "yaxis": "y"
        },
        {
         "customdata": [
          [
           "0.0005",
           "fixed_res"
          ],
          [
           "0.0005",
           "fixed_res"
          ]
         ],
         "hovertemplate": "experiment_name=0001_optim.args_.lr_1e-05__agent_params.args_.target_soft_tau_0.0005__experiment_fixed_res<br>sub_exp_cfg_optim.args_.lr=%{x}<br>episode_rewards_mean=%{y}<br>sub_exp_cfg_agent_params.args_.target_soft_tau=%{customdata[0]}<br>sub_exp_cfg_experiment=%{customdata[1]}<extra></extra>",
         "legendgroup": "0001_optim.args_.lr_1e-05__agent_params.args_.target_soft_tau_0.0005__experiment_fixed_res",
         "marker": {
          "color": "#EF553B",
          "opacity": 0.8,
          "size": 8,
          "symbol": "circle"
         },
         "mode": "markers",
         "name": "0001_optim.args_.lr_1e-05__agent_params.args_.target_soft_tau_0.0005__experiment_fixed_res",
         "orientation": "v",
         "showlegend": true,
         "type": "scatter",
         "x": [
          "1e-05",
          "1e-05"
         ],
         "xaxis": "x",
         "y": [
          -8.105728200650406,
          -8.59100915594546
         ],
         "yaxis": "y"
        },
        {
         "customdata": [
          [
           "0.0001",
           "fixed_res"
          ],
          [
           "0.0001",
           "fixed_res"
          ]
         ],
         "hovertemplate": "experiment_name=0002_optim.args_.lr_3e-05__agent_params.args_.target_soft_tau_0.0001__experiment_fixed_res<br>sub_exp_cfg_optim.args_.lr=%{x}<br>episode_rewards_mean=%{y}<br>sub_exp_cfg_agent_params.args_.target_soft_tau=%{customdata[0]}<br>sub_exp_cfg_experiment=%{customdata[1]}<extra></extra>",
         "legendgroup": "0002_optim.args_.lr_3e-05__agent_params.args_.target_soft_tau_0.0001__experiment_fixed_res",
         "marker": {
          "color": "#00cc96",
          "opacity": 0.8,
          "size": 8,
          "symbol": "circle"
         },
         "mode": "markers",
         "name": "0002_optim.args_.lr_3e-05__agent_params.args_.target_soft_tau_0.0001__experiment_fixed_res",
         "orientation": "v",
         "showlegend": true,
         "type": "scatter",
         "x": [
          "3e-05",
          "3e-05"
         ],
         "xaxis": "x",
         "y": [
          -8.546729861251624,
          -9.97203665652245
         ],
         "yaxis": "y"
        },
        {
         "customdata": [
          [
           "0.0005",
           "fixed_res"
          ],
          [
           "0.0005",
           "fixed_res"
          ]
         ],
         "hovertemplate": "experiment_name=0003_optim.args_.lr_3e-05__agent_params.args_.target_soft_tau_0.0005__experiment_fixed_res<br>sub_exp_cfg_optim.args_.lr=%{x}<br>episode_rewards_mean=%{y}<br>sub_exp_cfg_agent_params.args_.target_soft_tau=%{customdata[0]}<br>sub_exp_cfg_experiment=%{customdata[1]}<extra></extra>",
         "legendgroup": "0003_optim.args_.lr_3e-05__agent_params.args_.target_soft_tau_0.0005__experiment_fixed_res",
         "marker": {
          "color": "#ab63fa",
          "opacity": 0.8,
          "size": 8,
          "symbol": "circle"
         },
         "mode": "markers",
         "name": "0003_optim.args_.lr_3e-05__agent_params.args_.target_soft_tau_0.0005__experiment_fixed_res",
         "orientation": "v",
         "showlegend": true,
         "type": "scatter",
         "x": [
          "3e-05",
          "3e-05"
         ],
         "xaxis": "x",
         "y": [
          -8.945103999156157,
          -9.65287004871617
         ],
         "yaxis": "y"
        }
       ],
       "layout": {
        "height": 500,
        "legend": {
         "title": {
          "text": "experiment_name"
         },
         "tracegroupgap": 0
        },
        "showlegend": false,
        "template": {
         "data": {
          "bar": [
           {
            "error_x": {
             "color": "#2a3f5f"
            },
            "error_y": {
             "color": "#2a3f5f"
            },
            "marker": {
             "line": {
              "color": "#E5ECF6",
              "width": 0.5
             },
             "pattern": {
              "fillmode": "overlay",
              "size": 10,
              "solidity": 0.2
             }
            },
            "type": "bar"
           }
          ],
          "barpolar": [
           {
            "marker": {
             "line": {
              "color": "#E5ECF6",
              "width": 0.5
             },
             "pattern": {
              "fillmode": "overlay",
              "size": 10,
              "solidity": 0.2
             }
            },
            "type": "barpolar"
           }
          ],
          "carpet": [
           {
            "aaxis": {
             "endlinecolor": "#2a3f5f",
             "gridcolor": "white",
             "linecolor": "white",
             "minorgridcolor": "white",
             "startlinecolor": "#2a3f5f"
            },
            "baxis": {
             "endlinecolor": "#2a3f5f",
             "gridcolor": "white",
             "linecolor": "white",
             "minorgridcolor": "white",
             "startlinecolor": "#2a3f5f"
            },
            "type": "carpet"
           }
          ],
          "choropleth": [
           {
            "colorbar": {
             "outlinewidth": 0,
             "ticks": ""
            },
            "type": "choropleth"
           }
          ],
          "contour": [
           {
            "colorbar": {
             "outlinewidth": 0,
             "ticks": ""
            },
            "colorscale": [
             [
              0,
              "#0d0887"
             ],
             [
              0.1111111111111111,
              "#46039f"
             ],
             [
              0.2222222222222222,
              "#7201a8"
             ],
             [
              0.3333333333333333,
              "#9c179e"
             ],
             [
              0.4444444444444444,
              "#bd3786"
             ],
             [
              0.5555555555555556,
              "#d8576b"
             ],
             [
              0.6666666666666666,
              "#ed7953"
             ],
             [
              0.7777777777777778,
              "#fb9f3a"
             ],
             [
              0.8888888888888888,
              "#fdca26"
             ],
             [
              1,
              "#f0f921"
             ]
            ],
            "type": "contour"
           }
          ],
          "contourcarpet": [
           {
            "colorbar": {
             "outlinewidth": 0,
             "ticks": ""
            },
            "type": "contourcarpet"
           }
          ],
          "heatmap": [
           {
            "colorbar": {
             "outlinewidth": 0,
             "ticks": ""
            },
            "colorscale": [
             [
              0,
              "#0d0887"
             ],
             [
              0.1111111111111111,
              "#46039f"
             ],
             [
              0.2222222222222222,
              "#7201a8"
             ],
             [
              0.3333333333333333,
              "#9c179e"
             ],
             [
              0.4444444444444444,
              "#bd3786"
             ],
             [
              0.5555555555555556,
              "#d8576b"
             ],
             [
              0.6666666666666666,
              "#ed7953"
             ],
             [
              0.7777777777777778,
              "#fb9f3a"
             ],
             [
              0.8888888888888888,
              "#fdca26"
             ],
             [
              1,
              "#f0f921"
             ]
            ],
            "type": "heatmap"
           }
          ],
          "heatmapgl": [
           {
            "colorbar": {
             "outlinewidth": 0,
             "ticks": ""
            },
            "colorscale": [
             [
              0,
              "#0d0887"
             ],
             [
              0.1111111111111111,
              "#46039f"
             ],
             [
              0.2222222222222222,
              "#7201a8"
             ],
             [
              0.3333333333333333,
              "#9c179e"
             ],
             [
              0.4444444444444444,
              "#bd3786"
             ],
             [
              0.5555555555555556,
              "#d8576b"
             ],
             [
              0.6666666666666666,
              "#ed7953"
             ],
             [
              0.7777777777777778,
              "#fb9f3a"
             ],
             [
              0.8888888888888888,
              "#fdca26"
             ],
             [
              1,
              "#f0f921"
             ]
            ],
            "type": "heatmapgl"
           }
          ],
          "histogram": [
           {
            "marker": {
             "pattern": {
              "fillmode": "overlay",
              "size": 10,
              "solidity": 0.2
             }
            },
            "type": "histogram"
           }
          ],
          "histogram2d": [
           {
            "colorbar": {
             "outlinewidth": 0,
             "ticks": ""
            },
            "colorscale": [
             [
              0,
              "#0d0887"
             ],
             [
              0.1111111111111111,
              "#46039f"
             ],
             [
              0.2222222222222222,
              "#7201a8"
             ],
             [
              0.3333333333333333,
              "#9c179e"
             ],
             [
              0.4444444444444444,
              "#bd3786"
             ],
             [
              0.5555555555555556,
              "#d8576b"
             ],
             [
              0.6666666666666666,
              "#ed7953"
             ],
             [
              0.7777777777777778,
              "#fb9f3a"
             ],
             [
              0.8888888888888888,
              "#fdca26"
             ],
             [
              1,
              "#f0f921"
             ]
            ],
            "type": "histogram2d"
           }
          ],
          "histogram2dcontour": [
           {
            "colorbar": {
             "outlinewidth": 0,
             "ticks": ""
            },
            "colorscale": [
             [
              0,
              "#0d0887"
             ],
             [
              0.1111111111111111,
              "#46039f"
             ],
             [
              0.2222222222222222,
              "#7201a8"
             ],
             [
              0.3333333333333333,
              "#9c179e"
             ],
             [
              0.4444444444444444,
              "#bd3786"
             ],
             [
              0.5555555555555556,
              "#d8576b"
             ],
             [
              0.6666666666666666,
              "#ed7953"
             ],
             [
              0.7777777777777778,
              "#fb9f3a"
             ],
             [
              0.8888888888888888,
              "#fdca26"
             ],
             [
              1,
              "#f0f921"
             ]
            ],
            "type": "histogram2dcontour"
           }
          ],
          "mesh3d": [
           {
            "colorbar": {
             "outlinewidth": 0,
             "ticks": ""
            },
            "type": "mesh3d"
           }
          ],
          "parcoords": [
           {
            "line": {
             "colorbar": {
              "outlinewidth": 0,
              "ticks": ""
             }
            },
            "type": "parcoords"
           }
          ],
          "pie": [
           {
            "automargin": true,
            "type": "pie"
           }
          ],
          "scatter": [
           {
            "fillpattern": {
             "fillmode": "overlay",
             "size": 10,
             "solidity": 0.2
            },
            "type": "scatter"
           }
          ],
          "scatter3d": [
           {
            "line": {
             "colorbar": {
              "outlinewidth": 0,
              "ticks": ""
             }
            },
            "marker": {
             "colorbar": {
              "outlinewidth": 0,
              "ticks": ""
             }
            },
            "type": "scatter3d"
           }
          ],
          "scattercarpet": [
           {
            "marker": {
             "colorbar": {
              "outlinewidth": 0,
              "ticks": ""
             }
            },
            "type": "scattercarpet"
           }
          ],
          "scattergeo": [
           {
            "marker": {
             "colorbar": {
              "outlinewidth": 0,
              "ticks": ""
             }
            },
            "type": "scattergeo"
           }
          ],
          "scattergl": [
           {
            "marker": {
             "colorbar": {
              "outlinewidth": 0,
              "ticks": ""
             }
            },
            "type": "scattergl"
           }
          ],
          "scattermapbox": [
           {
            "marker": {
             "colorbar": {
              "outlinewidth": 0,
              "ticks": ""
             }
            },
            "type": "scattermapbox"
           }
          ],
          "scatterpolar": [
           {
            "marker": {
             "colorbar": {
              "outlinewidth": 0,
              "ticks": ""
             }
            },
            "type": "scatterpolar"
           }
          ],
          "scatterpolargl": [
           {
            "marker": {
             "colorbar": {
              "outlinewidth": 0,
              "ticks": ""
             }
            },
            "type": "scatterpolargl"
           }
          ],
          "scatterternary": [
           {
            "marker": {
             "colorbar": {
              "outlinewidth": 0,
              "ticks": ""
             }
            },
            "type": "scatterternary"
           }
          ],
          "surface": [
           {
            "colorbar": {
             "outlinewidth": 0,
             "ticks": ""
            },
            "colorscale": [
             [
              0,
              "#0d0887"
             ],
             [
              0.1111111111111111,
              "#46039f"
             ],
             [
              0.2222222222222222,
              "#7201a8"
             ],
             [
              0.3333333333333333,
              "#9c179e"
             ],
             [
              0.4444444444444444,
              "#bd3786"
             ],
             [
              0.5555555555555556,
              "#d8576b"
             ],
             [
              0.6666666666666666,
              "#ed7953"
             ],
             [
              0.7777777777777778,
              "#fb9f3a"
             ],
             [
              0.8888888888888888,
              "#fdca26"
             ],
             [
              1,
              "#f0f921"
             ]
            ],
            "type": "surface"
           }
          ],
          "table": [
           {
            "cells": {
             "fill": {
              "color": "#EBF0F8"
             },
             "line": {
              "color": "white"
             }
            },
            "header": {
             "fill": {
              "color": "#C8D4E3"
             },
             "line": {
              "color": "white"
             }
            },
            "type": "table"
           }
          ]
         },
         "layout": {
          "annotationdefaults": {
           "arrowcolor": "#2a3f5f",
           "arrowhead": 0,
           "arrowwidth": 1
          },
          "autotypenumbers": "strict",
          "coloraxis": {
           "colorbar": {
            "outlinewidth": 0,
            "ticks": ""
           }
          },
          "colorscale": {
           "diverging": [
            [
             0,
             "#8e0152"
            ],
            [
             0.1,
             "#c51b7d"
            ],
            [
             0.2,
             "#de77ae"
            ],
            [
             0.3,
             "#f1b6da"
            ],
            [
             0.4,
             "#fde0ef"
            ],
            [
             0.5,
             "#f7f7f7"
            ],
            [
             0.6,
             "#e6f5d0"
            ],
            [
             0.7,
             "#b8e186"
            ],
            [
             0.8,
             "#7fbc41"
            ],
            [
             0.9,
             "#4d9221"
            ],
            [
             1,
             "#276419"
            ]
           ],
           "sequential": [
            [
             0,
             "#0d0887"
            ],
            [
             0.1111111111111111,
             "#46039f"
            ],
            [
             0.2222222222222222,
             "#7201a8"
            ],
            [
             0.3333333333333333,
             "#9c179e"
            ],
            [
             0.4444444444444444,
             "#bd3786"
            ],
            [
             0.5555555555555556,
             "#d8576b"
            ],
            [
             0.6666666666666666,
             "#ed7953"
            ],
            [
             0.7777777777777778,
             "#fb9f3a"
            ],
            [
             0.8888888888888888,
             "#fdca26"
            ],
            [
             1,
             "#f0f921"
            ]
           ],
           "sequentialminus": [
            [
             0,
             "#0d0887"
            ],
            [
             0.1111111111111111,
             "#46039f"
            ],
            [
             0.2222222222222222,
             "#7201a8"
            ],
            [
             0.3333333333333333,
             "#9c179e"
            ],
            [
             0.4444444444444444,
             "#bd3786"
            ],
            [
             0.5555555555555556,
             "#d8576b"
            ],
            [
             0.6666666666666666,
             "#ed7953"
            ],
            [
             0.7777777777777778,
             "#fb9f3a"
            ],
            [
             0.8888888888888888,
             "#fdca26"
            ],
            [
             1,
             "#f0f921"
            ]
           ]
          },
          "colorway": [
           "#636efa",
           "#EF553B",
           "#00cc96",
           "#ab63fa",
           "#FFA15A",
           "#19d3f3",
           "#FF6692",
           "#B6E880",
           "#FF97FF",
           "#FECB52"
          ],
          "font": {
           "color": "#2a3f5f"
          },
          "geo": {
           "bgcolor": "white",
           "lakecolor": "white",
           "landcolor": "#E5ECF6",
           "showlakes": true,
           "showland": true,
           "subunitcolor": "white"
          },
          "hoverlabel": {
           "align": "left"
          },
          "hovermode": "closest",
          "mapbox": {
           "style": "light"
          },
          "paper_bgcolor": "white",
          "plot_bgcolor": "#E5ECF6",
          "polar": {
           "angularaxis": {
            "gridcolor": "white",
            "linecolor": "white",
            "ticks": ""
           },
           "bgcolor": "#E5ECF6",
           "radialaxis": {
            "gridcolor": "white",
            "linecolor": "white",
            "ticks": ""
           }
          },
          "scene": {
           "xaxis": {
            "backgroundcolor": "#E5ECF6",
            "gridcolor": "white",
            "gridwidth": 2,
            "linecolor": "white",
            "showbackground": true,
            "ticks": "",
            "zerolinecolor": "white"
           },
           "yaxis": {
            "backgroundcolor": "#E5ECF6",
            "gridcolor": "white",
            "gridwidth": 2,
            "linecolor": "white",
            "showbackground": true,
            "ticks": "",
            "zerolinecolor": "white"
           },
           "zaxis": {
            "backgroundcolor": "#E5ECF6",
            "gridcolor": "white",
            "gridwidth": 2,
            "linecolor": "white",
            "showbackground": true,
            "ticks": "",
            "zerolinecolor": "white"
           }
          },
          "shapedefaults": {
           "line": {
            "color": "#2a3f5f"
           }
          },
          "ternary": {
           "aaxis": {
            "gridcolor": "white",
            "linecolor": "white",
            "ticks": ""
           },
           "baxis": {
            "gridcolor": "white",
            "linecolor": "white",
            "ticks": ""
           },
           "bgcolor": "#E5ECF6",
           "caxis": {
            "gridcolor": "white",
            "linecolor": "white",
            "ticks": ""
           }
          },
          "title": {
           "x": 0.05
          },
          "xaxis": {
           "automargin": true,
           "gridcolor": "white",
           "linecolor": "white",
           "ticks": "",
           "title": {
            "standoff": 15
           },
           "zerolinecolor": "white",
           "zerolinewidth": 2
          },
          "yaxis": {
           "automargin": true,
           "gridcolor": "white",
           "linecolor": "white",
           "ticks": "",
           "title": {
            "standoff": 15
           },
           "zerolinecolor": "white",
           "zerolinewidth": 2
          }
         }
        },
        "title": {
         "text": "episode_rewards_mean vs sub_exp_cfg_optim.args_.lr (varying: 2)"
        },
        "xaxis": {
         "anchor": "y",
         "domain": [
          0,
          1
         ],
         "title": {
          "text": "sub_exp_cfg_optim.args_.lr"
         }
        },
        "yaxis": {
         "anchor": "x",
         "domain": [
          0,
          1
         ],
         "title": {
          "text": "episode_rewards_mean"
         }
        }
       }
      }
     },
     "metadata": {},
     "output_type": "display_data"
    },
    {
     "data": {
      "application/vnd.plotly.v1+json": {
       "config": {
        "plotlyServerURL": "https://plot.ly"
       },
       "data": [
        {
         "customdata": [
          [
           "1e-05",
           "fixed_res"
          ],
          [
           "1e-05",
           "fixed_res"
          ]
         ],
         "hovertemplate": "experiment_name=0000_optim.args_.lr_1e-05__agent_params.args_.target_soft_tau_0.0001__experiment_fixed_res<br>sub_exp_cfg_agent_params.args_.target_soft_tau=%{x}<br>episode_rewards_mean=%{y}<br>sub_exp_cfg_optim.args_.lr=%{customdata[0]}<br>sub_exp_cfg_experiment=%{customdata[1]}<extra></extra>",
         "legendgroup": "0000_optim.args_.lr_1e-05__agent_params.args_.target_soft_tau_0.0001__experiment_fixed_res",
         "marker": {
          "color": "#636efa",
          "opacity": 0.8,
          "size": 8,
          "symbol": "circle"
         },
         "mode": "markers",
         "name": "0000_optim.args_.lr_1e-05__agent_params.args_.target_soft_tau_0.0001__experiment_fixed_res",
         "orientation": "v",
         "showlegend": true,
         "type": "scatter",
         "x": [
          "0.0001",
          "0.0001"
         ],
         "xaxis": "x",
         "y": [
          -8.265360638397672,
          -7.999317697103687
         ],
         "yaxis": "y"
        },
        {
         "customdata": [
          [
           "1e-05",
           "fixed_res"
          ],
          [
           "1e-05",
           "fixed_res"
          ]
         ],
         "hovertemplate": "experiment_name=0001_optim.args_.lr_1e-05__agent_params.args_.target_soft_tau_0.0005__experiment_fixed_res<br>sub_exp_cfg_agent_params.args_.target_soft_tau=%{x}<br>episode_rewards_mean=%{y}<br>sub_exp_cfg_optim.args_.lr=%{customdata[0]}<br>sub_exp_cfg_experiment=%{customdata[1]}<extra></extra>",
         "legendgroup": "0001_optim.args_.lr_1e-05__agent_params.args_.target_soft_tau_0.0005__experiment_fixed_res",
         "marker": {
          "color": "#EF553B",
          "opacity": 0.8,
          "size": 8,
          "symbol": "circle"
         },
         "mode": "markers",
         "name": "0001_optim.args_.lr_1e-05__agent_params.args_.target_soft_tau_0.0005__experiment_fixed_res",
         "orientation": "v",
         "showlegend": true,
         "type": "scatter",
         "x": [
          "0.0005",
          "0.0005"
         ],
         "xaxis": "x",
         "y": [
          -8.105728200650406,
          -8.59100915594546
         ],
         "yaxis": "y"
        },
        {
         "customdata": [
          [
           "3e-05",
           "fixed_res"
          ],
          [
           "3e-05",
           "fixed_res"
          ]
         ],
         "hovertemplate": "experiment_name=0002_optim.args_.lr_3e-05__agent_params.args_.target_soft_tau_0.0001__experiment_fixed_res<br>sub_exp_cfg_agent_params.args_.target_soft_tau=%{x}<br>episode_rewards_mean=%{y}<br>sub_exp_cfg_optim.args_.lr=%{customdata[0]}<br>sub_exp_cfg_experiment=%{customdata[1]}<extra></extra>",
         "legendgroup": "0002_optim.args_.lr_3e-05__agent_params.args_.target_soft_tau_0.0001__experiment_fixed_res",
         "marker": {
          "color": "#00cc96",
          "opacity": 0.8,
          "size": 8,
          "symbol": "circle"
         },
         "mode": "markers",
         "name": "0002_optim.args_.lr_3e-05__agent_params.args_.target_soft_tau_0.0001__experiment_fixed_res",
         "orientation": "v",
         "showlegend": true,
         "type": "scatter",
         "x": [
          "0.0001",
          "0.0001"
         ],
         "xaxis": "x",
         "y": [
          -8.546729861251624,
          -9.97203665652245
         ],
         "yaxis": "y"
        },
        {
         "customdata": [
          [
           "3e-05",
           "fixed_res"
          ],
          [
           "3e-05",
           "fixed_res"
          ]
         ],
         "hovertemplate": "experiment_name=0003_optim.args_.lr_3e-05__agent_params.args_.target_soft_tau_0.0005__experiment_fixed_res<br>sub_exp_cfg_agent_params.args_.target_soft_tau=%{x}<br>episode_rewards_mean=%{y}<br>sub_exp_cfg_optim.args_.lr=%{customdata[0]}<br>sub_exp_cfg_experiment=%{customdata[1]}<extra></extra>",
         "legendgroup": "0003_optim.args_.lr_3e-05__agent_params.args_.target_soft_tau_0.0005__experiment_fixed_res",
         "marker": {
          "color": "#ab63fa",
          "opacity": 0.8,
          "size": 8,
          "symbol": "circle"
         },
         "mode": "markers",
         "name": "0003_optim.args_.lr_3e-05__agent_params.args_.target_soft_tau_0.0005__experiment_fixed_res",
         "orientation": "v",
         "showlegend": true,
         "type": "scatter",
         "x": [
          "0.0005",
          "0.0005"
         ],
         "xaxis": "x",
         "y": [
          -8.945103999156157,
          -9.65287004871617
         ],
         "yaxis": "y"
        }
       ],
       "layout": {
        "height": 500,
        "legend": {
         "title": {
          "text": "experiment_name"
         },
         "tracegroupgap": 0
        },
        "showlegend": false,
        "template": {
         "data": {
          "bar": [
           {
            "error_x": {
             "color": "#2a3f5f"
            },
            "error_y": {
             "color": "#2a3f5f"
            },
            "marker": {
             "line": {
              "color": "#E5ECF6",
              "width": 0.5
             },
             "pattern": {
              "fillmode": "overlay",
              "size": 10,
              "solidity": 0.2
             }
            },
            "type": "bar"
           }
          ],
          "barpolar": [
           {
            "marker": {
             "line": {
              "color": "#E5ECF6",
              "width": 0.5
             },
             "pattern": {
              "fillmode": "overlay",
              "size": 10,
              "solidity": 0.2
             }
            },
            "type": "barpolar"
           }
          ],
          "carpet": [
           {
            "aaxis": {
             "endlinecolor": "#2a3f5f",
             "gridcolor": "white",
             "linecolor": "white",
             "minorgridcolor": "white",
             "startlinecolor": "#2a3f5f"
            },
            "baxis": {
             "endlinecolor": "#2a3f5f",
             "gridcolor": "white",
             "linecolor": "white",
             "minorgridcolor": "white",
             "startlinecolor": "#2a3f5f"
            },
            "type": "carpet"
           }
          ],
          "choropleth": [
           {
            "colorbar": {
             "outlinewidth": 0,
             "ticks": ""
            },
            "type": "choropleth"
           }
          ],
          "contour": [
           {
            "colorbar": {
             "outlinewidth": 0,
             "ticks": ""
            },
            "colorscale": [
             [
              0,
              "#0d0887"
             ],
             [
              0.1111111111111111,
              "#46039f"
             ],
             [
              0.2222222222222222,
              "#7201a8"
             ],
             [
              0.3333333333333333,
              "#9c179e"
             ],
             [
              0.4444444444444444,
              "#bd3786"
             ],
             [
              0.5555555555555556,
              "#d8576b"
             ],
             [
              0.6666666666666666,
              "#ed7953"
             ],
             [
              0.7777777777777778,
              "#fb9f3a"
             ],
             [
              0.8888888888888888,
              "#fdca26"
             ],
             [
              1,
              "#f0f921"
             ]
            ],
            "type": "contour"
           }
          ],
          "contourcarpet": [
           {
            "colorbar": {
             "outlinewidth": 0,
             "ticks": ""
            },
            "type": "contourcarpet"
           }
          ],
          "heatmap": [
           {
            "colorbar": {
             "outlinewidth": 0,
             "ticks": ""
            },
            "colorscale": [
             [
              0,
              "#0d0887"
             ],
             [
              0.1111111111111111,
              "#46039f"
             ],
             [
              0.2222222222222222,
              "#7201a8"
             ],
             [
              0.3333333333333333,
              "#9c179e"
             ],
             [
              0.4444444444444444,
              "#bd3786"
             ],
             [
              0.5555555555555556,
              "#d8576b"
             ],
             [
              0.6666666666666666,
              "#ed7953"
             ],
             [
              0.7777777777777778,
              "#fb9f3a"
             ],
             [
              0.8888888888888888,
              "#fdca26"
             ],
             [
              1,
              "#f0f921"
             ]
            ],
            "type": "heatmap"
           }
          ],
          "heatmapgl": [
           {
            "colorbar": {
             "outlinewidth": 0,
             "ticks": ""
            },
            "colorscale": [
             [
              0,
              "#0d0887"
             ],
             [
              0.1111111111111111,
              "#46039f"
             ],
             [
              0.2222222222222222,
              "#7201a8"
             ],
             [
              0.3333333333333333,
              "#9c179e"
             ],
             [
              0.4444444444444444,
              "#bd3786"
             ],
             [
              0.5555555555555556,
              "#d8576b"
             ],
             [
              0.6666666666666666,
              "#ed7953"
             ],
             [
              0.7777777777777778,
              "#fb9f3a"
             ],
             [
              0.8888888888888888,
              "#fdca26"
             ],
             [
              1,
              "#f0f921"
             ]
            ],
            "type": "heatmapgl"
           }
          ],
          "histogram": [
           {
            "marker": {
             "pattern": {
              "fillmode": "overlay",
              "size": 10,
              "solidity": 0.2
             }
            },
            "type": "histogram"
           }
          ],
          "histogram2d": [
           {
            "colorbar": {
             "outlinewidth": 0,
             "ticks": ""
            },
            "colorscale": [
             [
              0,
              "#0d0887"
             ],
             [
              0.1111111111111111,
              "#46039f"
             ],
             [
              0.2222222222222222,
              "#7201a8"
             ],
             [
              0.3333333333333333,
              "#9c179e"
             ],
             [
              0.4444444444444444,
              "#bd3786"
             ],
             [
              0.5555555555555556,
              "#d8576b"
             ],
             [
              0.6666666666666666,
              "#ed7953"
             ],
             [
              0.7777777777777778,
              "#fb9f3a"
             ],
             [
              0.8888888888888888,
              "#fdca26"
             ],
             [
              1,
              "#f0f921"
             ]
            ],
            "type": "histogram2d"
           }
          ],
          "histogram2dcontour": [
           {
            "colorbar": {
             "outlinewidth": 0,
             "ticks": ""
            },
            "colorscale": [
             [
              0,
              "#0d0887"
             ],
             [
              0.1111111111111111,
              "#46039f"
             ],
             [
              0.2222222222222222,
              "#7201a8"
             ],
             [
              0.3333333333333333,
              "#9c179e"
             ],
             [
              0.4444444444444444,
              "#bd3786"
             ],
             [
              0.5555555555555556,
              "#d8576b"
             ],
             [
              0.6666666666666666,
              "#ed7953"
             ],
             [
              0.7777777777777778,
              "#fb9f3a"
             ],
             [
              0.8888888888888888,
              "#fdca26"
             ],
             [
              1,
              "#f0f921"
             ]
            ],
            "type": "histogram2dcontour"
           }
          ],
          "mesh3d": [
           {
            "colorbar": {
             "outlinewidth": 0,
             "ticks": ""
            },
            "type": "mesh3d"
           }
          ],
          "parcoords": [
           {
            "line": {
             "colorbar": {
              "outlinewidth": 0,
              "ticks": ""
             }
            },
            "type": "parcoords"
           }
          ],
          "pie": [
           {
            "automargin": true,
            "type": "pie"
           }
          ],
          "scatter": [
           {
            "fillpattern": {
             "fillmode": "overlay",
             "size": 10,
             "solidity": 0.2
            },
            "type": "scatter"
           }
          ],
          "scatter3d": [
           {
            "line": {
             "colorbar": {
              "outlinewidth": 0,
              "ticks": ""
             }
            },
            "marker": {
             "colorbar": {
              "outlinewidth": 0,
              "ticks": ""
             }
            },
            "type": "scatter3d"
           }
          ],
          "scattercarpet": [
           {
            "marker": {
             "colorbar": {
              "outlinewidth": 0,
              "ticks": ""
             }
            },
            "type": "scattercarpet"
           }
          ],
          "scattergeo": [
           {
            "marker": {
             "colorbar": {
              "outlinewidth": 0,
              "ticks": ""
             }
            },
            "type": "scattergeo"
           }
          ],
          "scattergl": [
           {
            "marker": {
             "colorbar": {
              "outlinewidth": 0,
              "ticks": ""
             }
            },
            "type": "scattergl"
           }
          ],
          "scattermapbox": [
           {
            "marker": {
             "colorbar": {
              "outlinewidth": 0,
              "ticks": ""
             }
            },
            "type": "scattermapbox"
           }
          ],
          "scatterpolar": [
           {
            "marker": {
             "colorbar": {
              "outlinewidth": 0,
              "ticks": ""
             }
            },
            "type": "scatterpolar"
           }
          ],
          "scatterpolargl": [
           {
            "marker": {
             "colorbar": {
              "outlinewidth": 0,
              "ticks": ""
             }
            },
            "type": "scatterpolargl"
           }
          ],
          "scatterternary": [
           {
            "marker": {
             "colorbar": {
              "outlinewidth": 0,
              "ticks": ""
             }
            },
            "type": "scatterternary"
           }
          ],
          "surface": [
           {
            "colorbar": {
             "outlinewidth": 0,
             "ticks": ""
            },
            "colorscale": [
             [
              0,
              "#0d0887"
             ],
             [
              0.1111111111111111,
              "#46039f"
             ],
             [
              0.2222222222222222,
              "#7201a8"
             ],
             [
              0.3333333333333333,
              "#9c179e"
             ],
             [
              0.4444444444444444,
              "#bd3786"
             ],
             [
              0.5555555555555556,
              "#d8576b"
             ],
             [
              0.6666666666666666,
              "#ed7953"
             ],
             [
              0.7777777777777778,
              "#fb9f3a"
             ],
             [
              0.8888888888888888,
              "#fdca26"
             ],
             [
              1,
              "#f0f921"
             ]
            ],
            "type": "surface"
           }
          ],
          "table": [
           {
            "cells": {
             "fill": {
              "color": "#EBF0F8"
             },
             "line": {
              "color": "white"
             }
            },
            "header": {
             "fill": {
              "color": "#C8D4E3"
             },
             "line": {
              "color": "white"
             }
            },
            "type": "table"
           }
          ]
         },
         "layout": {
          "annotationdefaults": {
           "arrowcolor": "#2a3f5f",
           "arrowhead": 0,
           "arrowwidth": 1
          },
          "autotypenumbers": "strict",
          "coloraxis": {
           "colorbar": {
            "outlinewidth": 0,
            "ticks": ""
           }
          },
          "colorscale": {
           "diverging": [
            [
             0,
             "#8e0152"
            ],
            [
             0.1,
             "#c51b7d"
            ],
            [
             0.2,
             "#de77ae"
            ],
            [
             0.3,
             "#f1b6da"
            ],
            [
             0.4,
             "#fde0ef"
            ],
            [
             0.5,
             "#f7f7f7"
            ],
            [
             0.6,
             "#e6f5d0"
            ],
            [
             0.7,
             "#b8e186"
            ],
            [
             0.8,
             "#7fbc41"
            ],
            [
             0.9,
             "#4d9221"
            ],
            [
             1,
             "#276419"
            ]
           ],
           "sequential": [
            [
             0,
             "#0d0887"
            ],
            [
             0.1111111111111111,
             "#46039f"
            ],
            [
             0.2222222222222222,
             "#7201a8"
            ],
            [
             0.3333333333333333,
             "#9c179e"
            ],
            [
             0.4444444444444444,
             "#bd3786"
            ],
            [
             0.5555555555555556,
             "#d8576b"
            ],
            [
             0.6666666666666666,
             "#ed7953"
            ],
            [
             0.7777777777777778,
             "#fb9f3a"
            ],
            [
             0.8888888888888888,
             "#fdca26"
            ],
            [
             1,
             "#f0f921"
            ]
           ],
           "sequentialminus": [
            [
             0,
             "#0d0887"
            ],
            [
             0.1111111111111111,
             "#46039f"
            ],
            [
             0.2222222222222222,
             "#7201a8"
            ],
            [
             0.3333333333333333,
             "#9c179e"
            ],
            [
             0.4444444444444444,
             "#bd3786"
            ],
            [
             0.5555555555555556,
             "#d8576b"
            ],
            [
             0.6666666666666666,
             "#ed7953"
            ],
            [
             0.7777777777777778,
             "#fb9f3a"
            ],
            [
             0.8888888888888888,
             "#fdca26"
            ],
            [
             1,
             "#f0f921"
            ]
           ]
          },
          "colorway": [
           "#636efa",
           "#EF553B",
           "#00cc96",
           "#ab63fa",
           "#FFA15A",
           "#19d3f3",
           "#FF6692",
           "#B6E880",
           "#FF97FF",
           "#FECB52"
          ],
          "font": {
           "color": "#2a3f5f"
          },
          "geo": {
           "bgcolor": "white",
           "lakecolor": "white",
           "landcolor": "#E5ECF6",
           "showlakes": true,
           "showland": true,
           "subunitcolor": "white"
          },
          "hoverlabel": {
           "align": "left"
          },
          "hovermode": "closest",
          "mapbox": {
           "style": "light"
          },
          "paper_bgcolor": "white",
          "plot_bgcolor": "#E5ECF6",
          "polar": {
           "angularaxis": {
            "gridcolor": "white",
            "linecolor": "white",
            "ticks": ""
           },
           "bgcolor": "#E5ECF6",
           "radialaxis": {
            "gridcolor": "white",
            "linecolor": "white",
            "ticks": ""
           }
          },
          "scene": {
           "xaxis": {
            "backgroundcolor": "#E5ECF6",
            "gridcolor": "white",
            "gridwidth": 2,
            "linecolor": "white",
            "showbackground": true,
            "ticks": "",
            "zerolinecolor": "white"
           },
           "yaxis": {
            "backgroundcolor": "#E5ECF6",
            "gridcolor": "white",
            "gridwidth": 2,
            "linecolor": "white",
            "showbackground": true,
            "ticks": "",
            "zerolinecolor": "white"
           },
           "zaxis": {
            "backgroundcolor": "#E5ECF6",
            "gridcolor": "white",
            "gridwidth": 2,
            "linecolor": "white",
            "showbackground": true,
            "ticks": "",
            "zerolinecolor": "white"
           }
          },
          "shapedefaults": {
           "line": {
            "color": "#2a3f5f"
           }
          },
          "ternary": {
           "aaxis": {
            "gridcolor": "white",
            "linecolor": "white",
            "ticks": ""
           },
           "baxis": {
            "gridcolor": "white",
            "linecolor": "white",
            "ticks": ""
           },
           "bgcolor": "#E5ECF6",
           "caxis": {
            "gridcolor": "white",
            "linecolor": "white",
            "ticks": ""
           }
          },
          "title": {
           "x": 0.05
          },
          "xaxis": {
           "automargin": true,
           "gridcolor": "white",
           "linecolor": "white",
           "ticks": "",
           "title": {
            "standoff": 15
           },
           "zerolinecolor": "white",
           "zerolinewidth": 2
          },
          "yaxis": {
           "automargin": true,
           "gridcolor": "white",
           "linecolor": "white",
           "ticks": "",
           "title": {
            "standoff": 15
           },
           "zerolinecolor": "white",
           "zerolinewidth": 2
          }
         }
        },
        "title": {
         "text": "episode_rewards_mean vs sub_exp_cfg_agent_params.args_.target_soft_tau (varying: 2)"
        },
        "xaxis": {
         "anchor": "y",
         "domain": [
          0,
          1
         ],
         "title": {
          "text": "sub_exp_cfg_agent_params.args_.target_soft_tau"
         }
        },
        "yaxis": {
         "anchor": "x",
         "domain": [
          0,
          1
         ],
         "title": {
          "text": "episode_rewards_mean"
         }
        }
       }
      }
     },
     "metadata": {},
     "output_type": "display_data"
    }
   ],
   "source": [
    "import plotly.express as px\n",
    "\n",
    "# --- config ---\n",
    "target_col = \"episode_rewards_mean\"  # your target metric\n",
    "color_col = \"experiment_name\"  # optional color grouping\n",
    "readable_names = {\n",
    "    # optional friendly names; falls back to raw column name if missing\n",
    "    # \"hp_raw_name\": \"Pretty Name\",\n",
    "}\n",
    "\n",
    "# --- build plots ---\n",
    "varying_hps = [hp for hp in hyperparam_columns if sub_df[hp].nunique(dropna=False) > 1]\n",
    "\n",
    "if not varying_hps:\n",
    "    print(\"No hyperparameters with more than one unique value — nothing to plot.\")\n",
    "else:\n",
    "    for hp in varying_hps:\n",
    "        # Rename only the current x column (leave others as-is for hover)\n",
    "        x_name = readable_names.get(hp, hp)\n",
    "        plot_df = sub_df.rename(columns={hp: x_name})\n",
    "\n",
    "        fig = px.scatter(\n",
    "            plot_df,\n",
    "            x=x_name,\n",
    "            y=target_col,\n",
    "            color=color_col if color_col in plot_df.columns else None,\n",
    "            hover_data=hyperparam_columns,  # handy to inspect full config per point\n",
    "            title=f\"{target_col} vs {x_name} (varying: {sub_df[hp].nunique(dropna=False)})\",\n",
    "            height=500,\n",
    "        )\n",
    "        fig.update_traces(mode=\"markers\", marker=dict(size=8, opacity=0.8))\n",
    "        fig.update_layout(showlegend=False)\n",
    "        fig.show()"
   ]
  },
  {
   "cell_type": "code",
   "execution_count": null,
   "metadata": {},
   "outputs": [],
   "source": []
  }
 ],
 "metadata": {
  "kernelspec": {
   "display_name": "phd_rl_algos",
   "language": "python",
   "name": "python3"
  },
  "language_info": {
   "codemirror_mode": {
    "name": "ipython",
    "version": 3
   },
   "file_extension": ".py",
   "mimetype": "text/x-python",
   "name": "python",
   "nbconvert_exporter": "python",
   "pygments_lexer": "ipython3",
   "version": "3.11.5"
  }
 },
 "nbformat": 4,
 "nbformat_minor": 2
}
