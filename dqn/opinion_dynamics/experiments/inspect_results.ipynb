{
 "cells": [
  {
   "cell_type": "code",
   "execution_count": 39,
   "metadata": {},
   "outputs": [
    {
     "name": "stdout",
     "output_type": "stream",
     "text": [
      "The autoreload extension is already loaded. To reload it, use:\n",
      "  %reload_ext autoreload\n"
     ]
    }
   ],
   "source": [
    "%load_ext autoreload\n",
    "%autoreload 2"
   ]
  },
  {
   "cell_type": "code",
   "execution_count": 40,
   "metadata": {},
   "outputs": [],
   "source": [
    "import os, sys\n",
    "\n",
    "def get_dir_n_levels_up(path, n):\n",
    "    # Go up n levels from the given path\n",
    "    for _ in range(n):\n",
    "        path = os.path.dirname(path)\n",
    "    return path\n",
    "\n",
    "proj_root = get_dir_n_levels_up(os.path.abspath(\"__file__\"), 4)\n",
    "sys.path.append(proj_root)\n",
    "\n",
    "import pandas as pd\n",
    "import yaml\n",
    "import torch\n",
    "import collections\n",
    "\n",
    "import warnings\n",
    "import numpy as np\n",
    "\n",
    "import seaborn as sns\n",
    "import matplotlib.pyplot as plt\n",
    "sns.set_theme()\n",
    "\n",
    "warnings.filterwarnings(\"ignore\")\n",
    "\n",
    "from dqn.opinion_dynamics.utils.experiment import process_experiment\n"
   ]
  },
  {
   "cell_type": "code",
   "execution_count": 41,
   "metadata": {},
   "outputs": [
    {
     "data": {
      "text/plain": [
       "Index(['epoch_type', 'frame_stamp', 'greedy_epsilon', 'episode_rewards_min',\n",
       "       'episode_rewards_max', 'episode_rewards_mean', 'episode_rewards_median',\n",
       "       'episode_rewards_std', 'episode_discounted_rewards_min',\n",
       "       'episode_discounted_rewards_max', 'episode_discounted_rewards_mean',\n",
       "       'episode_discounted_rewards_median', 'episode_discounted_rewards_std',\n",
       "       'episode_frames_min', 'episode_frames_max', 'episode_frames_mean',\n",
       "       'episode_frames_median', 'episode_frames_std', 'episode_losses_min',\n",
       "       'episode_losses_max', 'episode_losses_mean', 'episode_losses_median',\n",
       "       'episode_losses_std', 'episode_max_qs_min', 'episode_max_qs_max',\n",
       "       'episode_max_qs_mean', 'episode_max_qs_median', 'episode_max_qs_std',\n",
       "       'policy_trained_times', 'target_trained_times', 'epoch_time',\n",
       "       'sub_exp_cfg_optim.args_.weight_decay', 'sub_exp_cfg_optim.args_.betas',\n",
       "       'sub_exp_cfg_optim.args_.lr', 'sub_experiment_path', 'seed',\n",
       "       'experiment_name'],\n",
       "      dtype='object')"
      ]
     },
     "execution_count": 41,
     "metadata": {},
     "output_type": "execute_result"
    }
   ],
   "source": [
    "# experiment_sub_dir = \"2025May02-101004_configs\" # excellent run\n",
    "experiment_sub_dir = \"2025Jun23-095316_configs\"\n",
    "\n",
    "exp_path = os.path.join(os.path.abspath(\".\"), \"results\", experiment_sub_dir)\n",
    "df = process_experiment(\n",
    "    exp_path\n",
    ")\n",
    "df.columns\n"
   ]
  },
  {
   "cell_type": "code",
   "execution_count": 42,
   "metadata": {},
   "outputs": [
    {
     "data": {
      "text/html": [
       "<div>\n",
       "<style scoped>\n",
       "    .dataframe tbody tr th:only-of-type {\n",
       "        vertical-align: middle;\n",
       "    }\n",
       "\n",
       "    .dataframe tbody tr th {\n",
       "        vertical-align: top;\n",
       "    }\n",
       "\n",
       "    .dataframe thead th {\n",
       "        text-align: right;\n",
       "    }\n",
       "</style>\n",
       "<table border=\"1\" class=\"dataframe\">\n",
       "  <thead>\n",
       "    <tr style=\"text-align: right;\">\n",
       "      <th></th>\n",
       "      <th>epoch_type</th>\n",
       "      <th>frame_stamp</th>\n",
       "      <th>greedy_epsilon</th>\n",
       "      <th>episode_rewards_min</th>\n",
       "      <th>episode_rewards_max</th>\n",
       "      <th>episode_rewards_mean</th>\n",
       "      <th>episode_rewards_median</th>\n",
       "      <th>episode_rewards_std</th>\n",
       "      <th>episode_discounted_rewards_min</th>\n",
       "      <th>episode_discounted_rewards_max</th>\n",
       "      <th>...</th>\n",
       "      <th>episode_max_qs_std</th>\n",
       "      <th>policy_trained_times</th>\n",
       "      <th>target_trained_times</th>\n",
       "      <th>epoch_time</th>\n",
       "      <th>sub_exp_cfg_optim.args_.weight_decay</th>\n",
       "      <th>sub_exp_cfg_optim.args_.betas</th>\n",
       "      <th>sub_exp_cfg_optim.args_.lr</th>\n",
       "      <th>sub_experiment_path</th>\n",
       "      <th>seed</th>\n",
       "      <th>experiment_name</th>\n",
       "    </tr>\n",
       "  </thead>\n",
       "  <tbody>\n",
       "    <tr>\n",
       "      <th>0</th>\n",
       "      <td>training</td>\n",
       "      <td>200000</td>\n",
       "      <td>0.971500</td>\n",
       "      <td>-7.443088</td>\n",
       "      <td>-1.440048</td>\n",
       "      <td>-4.433644</td>\n",
       "      <td>-4.423410</td>\n",
       "      <td>0.834034</td>\n",
       "      <td>-6.959482</td>\n",
       "      <td>-1.412451</td>\n",
       "      <td>...</td>\n",
       "      <td>0.766596</td>\n",
       "      <td>48749.0</td>\n",
       "      <td>192.0</td>\n",
       "      <td>0 days 00:06:07.684385</td>\n",
       "      <td>0</td>\n",
       "      <td>[0.9, 0.999]</td>\n",
       "      <td>1e-05</td>\n",
       "      <td>d:\\Work\\repos\\RL\\phd-rl-algos\\dqn\\opinion_dyna...</td>\n",
       "      <td>0</td>\n",
       "      <td>0000_optim.args_.weight_decay_0__optim.args_.b...</td>\n",
       "    </tr>\n",
       "    <tr>\n",
       "      <th>1</th>\n",
       "      <td>training</td>\n",
       "      <td>400000</td>\n",
       "      <td>0.942269</td>\n",
       "      <td>-7.603068</td>\n",
       "      <td>-1.734844</td>\n",
       "      <td>-4.476259</td>\n",
       "      <td>-4.444135</td>\n",
       "      <td>0.839277</td>\n",
       "      <td>-7.112953</td>\n",
       "      <td>-1.694157</td>\n",
       "      <td>...</td>\n",
       "      <td>0.818216</td>\n",
       "      <td>50000.0</td>\n",
       "      <td>200.0</td>\n",
       "      <td>0 days 00:06:34.102970</td>\n",
       "      <td>0</td>\n",
       "      <td>[0.9, 0.999]</td>\n",
       "      <td>1e-05</td>\n",
       "      <td>d:\\Work\\repos\\RL\\phd-rl-algos\\dqn\\opinion_dyna...</td>\n",
       "      <td>0</td>\n",
       "      <td>0000_optim.args_.weight_decay_0__optim.args_.b...</td>\n",
       "    </tr>\n",
       "    <tr>\n",
       "      <th>2</th>\n",
       "      <td>training</td>\n",
       "      <td>600000</td>\n",
       "      <td>0.913038</td>\n",
       "      <td>-7.678306</td>\n",
       "      <td>-1.705000</td>\n",
       "      <td>-4.448465</td>\n",
       "      <td>-4.418151</td>\n",
       "      <td>0.827523</td>\n",
       "      <td>-7.169587</td>\n",
       "      <td>-1.666311</td>\n",
       "      <td>...</td>\n",
       "      <td>1.120045</td>\n",
       "      <td>50000.0</td>\n",
       "      <td>200.0</td>\n",
       "      <td>0 days 00:06:51.474828</td>\n",
       "      <td>0</td>\n",
       "      <td>[0.9, 0.999]</td>\n",
       "      <td>1e-05</td>\n",
       "      <td>d:\\Work\\repos\\RL\\phd-rl-algos\\dqn\\opinion_dyna...</td>\n",
       "      <td>0</td>\n",
       "      <td>0000_optim.args_.weight_decay_0__optim.args_.b...</td>\n",
       "    </tr>\n",
       "    <tr>\n",
       "      <th>3</th>\n",
       "      <td>training</td>\n",
       "      <td>800000</td>\n",
       "      <td>0.883808</td>\n",
       "      <td>-7.419000</td>\n",
       "      <td>-1.682625</td>\n",
       "      <td>-4.410860</td>\n",
       "      <td>-4.386707</td>\n",
       "      <td>0.827695</td>\n",
       "      <td>-6.941533</td>\n",
       "      <td>-1.643517</td>\n",
       "      <td>...</td>\n",
       "      <td>1.242104</td>\n",
       "      <td>50000.0</td>\n",
       "      <td>200.0</td>\n",
       "      <td>0 days 00:06:56.508527</td>\n",
       "      <td>0</td>\n",
       "      <td>[0.9, 0.999]</td>\n",
       "      <td>1e-05</td>\n",
       "      <td>d:\\Work\\repos\\RL\\phd-rl-algos\\dqn\\opinion_dyna...</td>\n",
       "      <td>0</td>\n",
       "      <td>0000_optim.args_.weight_decay_0__optim.args_.b...</td>\n",
       "    </tr>\n",
       "    <tr>\n",
       "      <th>4</th>\n",
       "      <td>training</td>\n",
       "      <td>1000000</td>\n",
       "      <td>0.854577</td>\n",
       "      <td>-7.569634</td>\n",
       "      <td>-1.793920</td>\n",
       "      <td>-4.389836</td>\n",
       "      <td>-4.363549</td>\n",
       "      <td>0.819784</td>\n",
       "      <td>-7.069442</td>\n",
       "      <td>-1.750075</td>\n",
       "      <td>...</td>\n",
       "      <td>1.233371</td>\n",
       "      <td>50000.0</td>\n",
       "      <td>200.0</td>\n",
       "      <td>0 days 00:06:55.759999</td>\n",
       "      <td>0</td>\n",
       "      <td>[0.9, 0.999]</td>\n",
       "      <td>1e-05</td>\n",
       "      <td>d:\\Work\\repos\\RL\\phd-rl-algos\\dqn\\opinion_dyna...</td>\n",
       "      <td>0</td>\n",
       "      <td>0000_optim.args_.weight_decay_0__optim.args_.b...</td>\n",
       "    </tr>\n",
       "    <tr>\n",
       "      <th>...</th>\n",
       "      <td>...</td>\n",
       "      <td>...</td>\n",
       "      <td>...</td>\n",
       "      <td>...</td>\n",
       "      <td>...</td>\n",
       "      <td>...</td>\n",
       "      <td>...</td>\n",
       "      <td>...</td>\n",
       "      <td>...</td>\n",
       "      <td>...</td>\n",
       "      <td>...</td>\n",
       "      <td>...</td>\n",
       "      <td>...</td>\n",
       "      <td>...</td>\n",
       "      <td>...</td>\n",
       "      <td>...</td>\n",
       "      <td>...</td>\n",
       "      <td>...</td>\n",
       "      <td>...</td>\n",
       "      <td>...</td>\n",
       "      <td>...</td>\n",
       "    </tr>\n",
       "    <tr>\n",
       "      <th>1435</th>\n",
       "      <td>validation</td>\n",
       "      <td>7200000</td>\n",
       "      <td>NaN</td>\n",
       "      <td>-8.079168</td>\n",
       "      <td>-8.079075</td>\n",
       "      <td>-8.079111</td>\n",
       "      <td>-8.079111</td>\n",
       "      <td>0.000020</td>\n",
       "      <td>-7.547865</td>\n",
       "      <td>-7.547782</td>\n",
       "      <td>...</td>\n",
       "      <td>1.929786</td>\n",
       "      <td>NaN</td>\n",
       "      <td>NaN</td>\n",
       "      <td>0 days 00:00:00.520949</td>\n",
       "      <td>0.001</td>\n",
       "      <td>[0.5, 0.999]</td>\n",
       "      <td>1e-05</td>\n",
       "      <td>d:\\Work\\repos\\RL\\phd-rl-algos\\dqn\\opinion_dyna...</td>\n",
       "      <td>2</td>\n",
       "      <td>0005_optim.args_.weight_decay_0.001__optim.arg...</td>\n",
       "    </tr>\n",
       "    <tr>\n",
       "      <th>1436</th>\n",
       "      <td>validation</td>\n",
       "      <td>7400000</td>\n",
       "      <td>NaN</td>\n",
       "      <td>-8.078218</td>\n",
       "      <td>-8.078115</td>\n",
       "      <td>-8.078156</td>\n",
       "      <td>-8.078154</td>\n",
       "      <td>0.000023</td>\n",
       "      <td>-7.546962</td>\n",
       "      <td>-7.546871</td>\n",
       "      <td>...</td>\n",
       "      <td>1.923930</td>\n",
       "      <td>NaN</td>\n",
       "      <td>NaN</td>\n",
       "      <td>0 days 00:00:00.531078</td>\n",
       "      <td>0.001</td>\n",
       "      <td>[0.5, 0.999]</td>\n",
       "      <td>1e-05</td>\n",
       "      <td>d:\\Work\\repos\\RL\\phd-rl-algos\\dqn\\opinion_dyna...</td>\n",
       "      <td>2</td>\n",
       "      <td>0005_optim.args_.weight_decay_0.001__optim.arg...</td>\n",
       "    </tr>\n",
       "    <tr>\n",
       "      <th>1437</th>\n",
       "      <td>validation</td>\n",
       "      <td>7600000</td>\n",
       "      <td>NaN</td>\n",
       "      <td>-8.079479</td>\n",
       "      <td>-8.079390</td>\n",
       "      <td>-8.079438</td>\n",
       "      <td>-8.079438</td>\n",
       "      <td>0.000016</td>\n",
       "      <td>-7.548043</td>\n",
       "      <td>-7.547964</td>\n",
       "      <td>...</td>\n",
       "      <td>1.926516</td>\n",
       "      <td>NaN</td>\n",
       "      <td>NaN</td>\n",
       "      <td>0 days 00:00:00.403470</td>\n",
       "      <td>0.001</td>\n",
       "      <td>[0.5, 0.999]</td>\n",
       "      <td>1e-05</td>\n",
       "      <td>d:\\Work\\repos\\RL\\phd-rl-algos\\dqn\\opinion_dyna...</td>\n",
       "      <td>2</td>\n",
       "      <td>0005_optim.args_.weight_decay_0.001__optim.arg...</td>\n",
       "    </tr>\n",
       "    <tr>\n",
       "      <th>1438</th>\n",
       "      <td>validation</td>\n",
       "      <td>7800000</td>\n",
       "      <td>NaN</td>\n",
       "      <td>-8.078889</td>\n",
       "      <td>-8.078790</td>\n",
       "      <td>-8.078841</td>\n",
       "      <td>-8.078846</td>\n",
       "      <td>0.000020</td>\n",
       "      <td>-7.547475</td>\n",
       "      <td>-7.547386</td>\n",
       "      <td>...</td>\n",
       "      <td>1.937170</td>\n",
       "      <td>NaN</td>\n",
       "      <td>NaN</td>\n",
       "      <td>0 days 00:00:00.362022</td>\n",
       "      <td>0.001</td>\n",
       "      <td>[0.5, 0.999]</td>\n",
       "      <td>1e-05</td>\n",
       "      <td>d:\\Work\\repos\\RL\\phd-rl-algos\\dqn\\opinion_dyna...</td>\n",
       "      <td>2</td>\n",
       "      <td>0005_optim.args_.weight_decay_0.001__optim.arg...</td>\n",
       "    </tr>\n",
       "    <tr>\n",
       "      <th>1439</th>\n",
       "      <td>validation</td>\n",
       "      <td>8000000</td>\n",
       "      <td>NaN</td>\n",
       "      <td>-8.080895</td>\n",
       "      <td>-8.080815</td>\n",
       "      <td>-8.080863</td>\n",
       "      <td>-8.080866</td>\n",
       "      <td>0.000018</td>\n",
       "      <td>-7.549179</td>\n",
       "      <td>-7.549110</td>\n",
       "      <td>...</td>\n",
       "      <td>1.925467</td>\n",
       "      <td>NaN</td>\n",
       "      <td>NaN</td>\n",
       "      <td>0 days 00:00:00.359205</td>\n",
       "      <td>0.001</td>\n",
       "      <td>[0.5, 0.999]</td>\n",
       "      <td>1e-05</td>\n",
       "      <td>d:\\Work\\repos\\RL\\phd-rl-algos\\dqn\\opinion_dyna...</td>\n",
       "      <td>2</td>\n",
       "      <td>0005_optim.args_.weight_decay_0.001__optim.arg...</td>\n",
       "    </tr>\n",
       "  </tbody>\n",
       "</table>\n",
       "<p>1440 rows × 37 columns</p>\n",
       "</div>"
      ],
      "text/plain": [
       "      epoch_type  frame_stamp  greedy_epsilon  episode_rewards_min  \\\n",
       "0       training       200000        0.971500            -7.443088   \n",
       "1       training       400000        0.942269            -7.603068   \n",
       "2       training       600000        0.913038            -7.678306   \n",
       "3       training       800000        0.883808            -7.419000   \n",
       "4       training      1000000        0.854577            -7.569634   \n",
       "...          ...          ...             ...                  ...   \n",
       "1435  validation      7200000             NaN            -8.079168   \n",
       "1436  validation      7400000             NaN            -8.078218   \n",
       "1437  validation      7600000             NaN            -8.079479   \n",
       "1438  validation      7800000             NaN            -8.078889   \n",
       "1439  validation      8000000             NaN            -8.080895   \n",
       "\n",
       "      episode_rewards_max  episode_rewards_mean  episode_rewards_median  \\\n",
       "0               -1.440048             -4.433644               -4.423410   \n",
       "1               -1.734844             -4.476259               -4.444135   \n",
       "2               -1.705000             -4.448465               -4.418151   \n",
       "3               -1.682625             -4.410860               -4.386707   \n",
       "4               -1.793920             -4.389836               -4.363549   \n",
       "...                   ...                   ...                     ...   \n",
       "1435            -8.079075             -8.079111               -8.079111   \n",
       "1436            -8.078115             -8.078156               -8.078154   \n",
       "1437            -8.079390             -8.079438               -8.079438   \n",
       "1438            -8.078790             -8.078841               -8.078846   \n",
       "1439            -8.080815             -8.080863               -8.080866   \n",
       "\n",
       "      episode_rewards_std  episode_discounted_rewards_min  \\\n",
       "0                0.834034                       -6.959482   \n",
       "1                0.839277                       -7.112953   \n",
       "2                0.827523                       -7.169587   \n",
       "3                0.827695                       -6.941533   \n",
       "4                0.819784                       -7.069442   \n",
       "...                   ...                             ...   \n",
       "1435             0.000020                       -7.547865   \n",
       "1436             0.000023                       -7.546962   \n",
       "1437             0.000016                       -7.548043   \n",
       "1438             0.000020                       -7.547475   \n",
       "1439             0.000018                       -7.549179   \n",
       "\n",
       "      episode_discounted_rewards_max  ...  episode_max_qs_std  \\\n",
       "0                          -1.412451  ...            0.766596   \n",
       "1                          -1.694157  ...            0.818216   \n",
       "2                          -1.666311  ...            1.120045   \n",
       "3                          -1.643517  ...            1.242104   \n",
       "4                          -1.750075  ...            1.233371   \n",
       "...                              ...  ...                 ...   \n",
       "1435                       -7.547782  ...            1.929786   \n",
       "1436                       -7.546871  ...            1.923930   \n",
       "1437                       -7.547964  ...            1.926516   \n",
       "1438                       -7.547386  ...            1.937170   \n",
       "1439                       -7.549110  ...            1.925467   \n",
       "\n",
       "      policy_trained_times  target_trained_times             epoch_time  \\\n",
       "0                  48749.0                 192.0 0 days 00:06:07.684385   \n",
       "1                  50000.0                 200.0 0 days 00:06:34.102970   \n",
       "2                  50000.0                 200.0 0 days 00:06:51.474828   \n",
       "3                  50000.0                 200.0 0 days 00:06:56.508527   \n",
       "4                  50000.0                 200.0 0 days 00:06:55.759999   \n",
       "...                    ...                   ...                    ...   \n",
       "1435                   NaN                   NaN 0 days 00:00:00.520949   \n",
       "1436                   NaN                   NaN 0 days 00:00:00.531078   \n",
       "1437                   NaN                   NaN 0 days 00:00:00.403470   \n",
       "1438                   NaN                   NaN 0 days 00:00:00.362022   \n",
       "1439                   NaN                   NaN 0 days 00:00:00.359205   \n",
       "\n",
       "      sub_exp_cfg_optim.args_.weight_decay  sub_exp_cfg_optim.args_.betas  \\\n",
       "0                                        0                   [0.9, 0.999]   \n",
       "1                                        0                   [0.9, 0.999]   \n",
       "2                                        0                   [0.9, 0.999]   \n",
       "3                                        0                   [0.9, 0.999]   \n",
       "4                                        0                   [0.9, 0.999]   \n",
       "...                                    ...                            ...   \n",
       "1435                                 0.001                   [0.5, 0.999]   \n",
       "1436                                 0.001                   [0.5, 0.999]   \n",
       "1437                                 0.001                   [0.5, 0.999]   \n",
       "1438                                 0.001                   [0.5, 0.999]   \n",
       "1439                                 0.001                   [0.5, 0.999]   \n",
       "\n",
       "      sub_exp_cfg_optim.args_.lr  \\\n",
       "0                          1e-05   \n",
       "1                          1e-05   \n",
       "2                          1e-05   \n",
       "3                          1e-05   \n",
       "4                          1e-05   \n",
       "...                          ...   \n",
       "1435                       1e-05   \n",
       "1436                       1e-05   \n",
       "1437                       1e-05   \n",
       "1438                       1e-05   \n",
       "1439                       1e-05   \n",
       "\n",
       "                                    sub_experiment_path  seed  \\\n",
       "0     d:\\Work\\repos\\RL\\phd-rl-algos\\dqn\\opinion_dyna...     0   \n",
       "1     d:\\Work\\repos\\RL\\phd-rl-algos\\dqn\\opinion_dyna...     0   \n",
       "2     d:\\Work\\repos\\RL\\phd-rl-algos\\dqn\\opinion_dyna...     0   \n",
       "3     d:\\Work\\repos\\RL\\phd-rl-algos\\dqn\\opinion_dyna...     0   \n",
       "4     d:\\Work\\repos\\RL\\phd-rl-algos\\dqn\\opinion_dyna...     0   \n",
       "...                                                 ...   ...   \n",
       "1435  d:\\Work\\repos\\RL\\phd-rl-algos\\dqn\\opinion_dyna...     2   \n",
       "1436  d:\\Work\\repos\\RL\\phd-rl-algos\\dqn\\opinion_dyna...     2   \n",
       "1437  d:\\Work\\repos\\RL\\phd-rl-algos\\dqn\\opinion_dyna...     2   \n",
       "1438  d:\\Work\\repos\\RL\\phd-rl-algos\\dqn\\opinion_dyna...     2   \n",
       "1439  d:\\Work\\repos\\RL\\phd-rl-algos\\dqn\\opinion_dyna...     2   \n",
       "\n",
       "                                        experiment_name  \n",
       "0     0000_optim.args_.weight_decay_0__optim.args_.b...  \n",
       "1     0000_optim.args_.weight_decay_0__optim.args_.b...  \n",
       "2     0000_optim.args_.weight_decay_0__optim.args_.b...  \n",
       "3     0000_optim.args_.weight_decay_0__optim.args_.b...  \n",
       "4     0000_optim.args_.weight_decay_0__optim.args_.b...  \n",
       "...                                                 ...  \n",
       "1435  0005_optim.args_.weight_decay_0.001__optim.arg...  \n",
       "1436  0005_optim.args_.weight_decay_0.001__optim.arg...  \n",
       "1437  0005_optim.args_.weight_decay_0.001__optim.arg...  \n",
       "1438  0005_optim.args_.weight_decay_0.001__optim.arg...  \n",
       "1439  0005_optim.args_.weight_decay_0.001__optim.arg...  \n",
       "\n",
       "[1440 rows x 37 columns]"
      ]
     },
     "execution_count": 42,
     "metadata": {},
     "output_type": "execute_result"
    }
   ],
   "source": [
    "df"
   ]
  },
  {
   "cell_type": "code",
   "execution_count": 43,
   "metadata": {},
   "outputs": [
    {
     "data": {
      "text/html": [
       "<div>\n",
       "<style scoped>\n",
       "    .dataframe tbody tr th:only-of-type {\n",
       "        vertical-align: middle;\n",
       "    }\n",
       "\n",
       "    .dataframe tbody tr th {\n",
       "        vertical-align: top;\n",
       "    }\n",
       "\n",
       "    .dataframe thead th {\n",
       "        text-align: right;\n",
       "    }\n",
       "</style>\n",
       "<table border=\"1\" class=\"dataframe\">\n",
       "  <thead>\n",
       "    <tr style=\"text-align: right;\">\n",
       "      <th></th>\n",
       "      <th>epoch_type</th>\n",
       "      <th>frame_stamp</th>\n",
       "      <th>greedy_epsilon</th>\n",
       "      <th>episode_rewards_min</th>\n",
       "      <th>episode_rewards_max</th>\n",
       "      <th>episode_rewards_mean</th>\n",
       "      <th>episode_rewards_median</th>\n",
       "      <th>episode_rewards_std</th>\n",
       "      <th>episode_discounted_rewards_min</th>\n",
       "      <th>episode_discounted_rewards_max</th>\n",
       "      <th>...</th>\n",
       "      <th>episode_max_qs_std</th>\n",
       "      <th>policy_trained_times</th>\n",
       "      <th>target_trained_times</th>\n",
       "      <th>epoch_time</th>\n",
       "      <th>sub_exp_cfg_optim.args_.weight_decay</th>\n",
       "      <th>sub_exp_cfg_optim.args_.betas</th>\n",
       "      <th>sub_exp_cfg_optim.args_.lr</th>\n",
       "      <th>sub_experiment_path</th>\n",
       "      <th>seed</th>\n",
       "      <th>experiment_name</th>\n",
       "    </tr>\n",
       "  </thead>\n",
       "  <tbody>\n",
       "    <tr>\n",
       "      <th>0</th>\n",
       "      <td>training</td>\n",
       "      <td>200000</td>\n",
       "      <td>0.971500</td>\n",
       "      <td>-7.443088</td>\n",
       "      <td>-1.440048</td>\n",
       "      <td>-4.433644</td>\n",
       "      <td>-4.423410</td>\n",
       "      <td>0.834034</td>\n",
       "      <td>-6.959482</td>\n",
       "      <td>-1.412451</td>\n",
       "      <td>...</td>\n",
       "      <td>0.766596</td>\n",
       "      <td>48749.0</td>\n",
       "      <td>192.0</td>\n",
       "      <td>0 days 00:06:07.684385</td>\n",
       "      <td>0</td>\n",
       "      <td>[0.9, 0.999]</td>\n",
       "      <td>1e-05</td>\n",
       "      <td>d:\\Work\\repos\\RL\\phd-rl-algos\\dqn\\opinion_dyna...</td>\n",
       "      <td>0</td>\n",
       "      <td>0000_optim.args_.weight_decay_0__optim.args_.b...</td>\n",
       "    </tr>\n",
       "    <tr>\n",
       "      <th>1</th>\n",
       "      <td>training</td>\n",
       "      <td>400000</td>\n",
       "      <td>0.942269</td>\n",
       "      <td>-7.603068</td>\n",
       "      <td>-1.734844</td>\n",
       "      <td>-4.476259</td>\n",
       "      <td>-4.444135</td>\n",
       "      <td>0.839277</td>\n",
       "      <td>-7.112953</td>\n",
       "      <td>-1.694157</td>\n",
       "      <td>...</td>\n",
       "      <td>0.818216</td>\n",
       "      <td>50000.0</td>\n",
       "      <td>200.0</td>\n",
       "      <td>0 days 00:06:34.102970</td>\n",
       "      <td>0</td>\n",
       "      <td>[0.9, 0.999]</td>\n",
       "      <td>1e-05</td>\n",
       "      <td>d:\\Work\\repos\\RL\\phd-rl-algos\\dqn\\opinion_dyna...</td>\n",
       "      <td>0</td>\n",
       "      <td>0000_optim.args_.weight_decay_0__optim.args_.b...</td>\n",
       "    </tr>\n",
       "    <tr>\n",
       "      <th>2</th>\n",
       "      <td>training</td>\n",
       "      <td>600000</td>\n",
       "      <td>0.913038</td>\n",
       "      <td>-7.678306</td>\n",
       "      <td>-1.705000</td>\n",
       "      <td>-4.448465</td>\n",
       "      <td>-4.418151</td>\n",
       "      <td>0.827523</td>\n",
       "      <td>-7.169587</td>\n",
       "      <td>-1.666311</td>\n",
       "      <td>...</td>\n",
       "      <td>1.120045</td>\n",
       "      <td>50000.0</td>\n",
       "      <td>200.0</td>\n",
       "      <td>0 days 00:06:51.474828</td>\n",
       "      <td>0</td>\n",
       "      <td>[0.9, 0.999]</td>\n",
       "      <td>1e-05</td>\n",
       "      <td>d:\\Work\\repos\\RL\\phd-rl-algos\\dqn\\opinion_dyna...</td>\n",
       "      <td>0</td>\n",
       "      <td>0000_optim.args_.weight_decay_0__optim.args_.b...</td>\n",
       "    </tr>\n",
       "    <tr>\n",
       "      <th>3</th>\n",
       "      <td>training</td>\n",
       "      <td>800000</td>\n",
       "      <td>0.883808</td>\n",
       "      <td>-7.419000</td>\n",
       "      <td>-1.682625</td>\n",
       "      <td>-4.410860</td>\n",
       "      <td>-4.386707</td>\n",
       "      <td>0.827695</td>\n",
       "      <td>-6.941533</td>\n",
       "      <td>-1.643517</td>\n",
       "      <td>...</td>\n",
       "      <td>1.242104</td>\n",
       "      <td>50000.0</td>\n",
       "      <td>200.0</td>\n",
       "      <td>0 days 00:06:56.508527</td>\n",
       "      <td>0</td>\n",
       "      <td>[0.9, 0.999]</td>\n",
       "      <td>1e-05</td>\n",
       "      <td>d:\\Work\\repos\\RL\\phd-rl-algos\\dqn\\opinion_dyna...</td>\n",
       "      <td>0</td>\n",
       "      <td>0000_optim.args_.weight_decay_0__optim.args_.b...</td>\n",
       "    </tr>\n",
       "    <tr>\n",
       "      <th>4</th>\n",
       "      <td>training</td>\n",
       "      <td>1000000</td>\n",
       "      <td>0.854577</td>\n",
       "      <td>-7.569634</td>\n",
       "      <td>-1.793920</td>\n",
       "      <td>-4.389836</td>\n",
       "      <td>-4.363549</td>\n",
       "      <td>0.819784</td>\n",
       "      <td>-7.069442</td>\n",
       "      <td>-1.750075</td>\n",
       "      <td>...</td>\n",
       "      <td>1.233371</td>\n",
       "      <td>50000.0</td>\n",
       "      <td>200.0</td>\n",
       "      <td>0 days 00:06:55.759999</td>\n",
       "      <td>0</td>\n",
       "      <td>[0.9, 0.999]</td>\n",
       "      <td>1e-05</td>\n",
       "      <td>d:\\Work\\repos\\RL\\phd-rl-algos\\dqn\\opinion_dyna...</td>\n",
       "      <td>0</td>\n",
       "      <td>0000_optim.args_.weight_decay_0__optim.args_.b...</td>\n",
       "    </tr>\n",
       "    <tr>\n",
       "      <th>...</th>\n",
       "      <td>...</td>\n",
       "      <td>...</td>\n",
       "      <td>...</td>\n",
       "      <td>...</td>\n",
       "      <td>...</td>\n",
       "      <td>...</td>\n",
       "      <td>...</td>\n",
       "      <td>...</td>\n",
       "      <td>...</td>\n",
       "      <td>...</td>\n",
       "      <td>...</td>\n",
       "      <td>...</td>\n",
       "      <td>...</td>\n",
       "      <td>...</td>\n",
       "      <td>...</td>\n",
       "      <td>...</td>\n",
       "      <td>...</td>\n",
       "      <td>...</td>\n",
       "      <td>...</td>\n",
       "      <td>...</td>\n",
       "      <td>...</td>\n",
       "    </tr>\n",
       "    <tr>\n",
       "      <th>1395</th>\n",
       "      <td>training</td>\n",
       "      <td>7200000</td>\n",
       "      <td>0.050000</td>\n",
       "      <td>-7.690752</td>\n",
       "      <td>-1.698395</td>\n",
       "      <td>-4.468454</td>\n",
       "      <td>-4.436854</td>\n",
       "      <td>0.828297</td>\n",
       "      <td>-7.182032</td>\n",
       "      <td>-1.659460</td>\n",
       "      <td>...</td>\n",
       "      <td>1.335253</td>\n",
       "      <td>50000.0</td>\n",
       "      <td>200.0</td>\n",
       "      <td>0 days 00:07:56.312066</td>\n",
       "      <td>0.001</td>\n",
       "      <td>[0.5, 0.999]</td>\n",
       "      <td>1e-05</td>\n",
       "      <td>d:\\Work\\repos\\RL\\phd-rl-algos\\dqn\\opinion_dyna...</td>\n",
       "      <td>2</td>\n",
       "      <td>0005_optim.args_.weight_decay_0.001__optim.arg...</td>\n",
       "    </tr>\n",
       "    <tr>\n",
       "      <th>1396</th>\n",
       "      <td>training</td>\n",
       "      <td>7400000</td>\n",
       "      <td>0.050000</td>\n",
       "      <td>-7.538149</td>\n",
       "      <td>-1.388977</td>\n",
       "      <td>-4.465417</td>\n",
       "      <td>-4.435888</td>\n",
       "      <td>0.830033</td>\n",
       "      <td>-7.053967</td>\n",
       "      <td>-1.360879</td>\n",
       "      <td>...</td>\n",
       "      <td>1.337144</td>\n",
       "      <td>50000.0</td>\n",
       "      <td>200.0</td>\n",
       "      <td>0 days 00:07:57.800028</td>\n",
       "      <td>0.001</td>\n",
       "      <td>[0.5, 0.999]</td>\n",
       "      <td>1e-05</td>\n",
       "      <td>d:\\Work\\repos\\RL\\phd-rl-algos\\dqn\\opinion_dyna...</td>\n",
       "      <td>2</td>\n",
       "      <td>0005_optim.args_.weight_decay_0.001__optim.arg...</td>\n",
       "    </tr>\n",
       "    <tr>\n",
       "      <th>1397</th>\n",
       "      <td>training</td>\n",
       "      <td>7600000</td>\n",
       "      <td>0.050000</td>\n",
       "      <td>-7.757856</td>\n",
       "      <td>-1.861754</td>\n",
       "      <td>-4.474244</td>\n",
       "      <td>-4.441249</td>\n",
       "      <td>0.835900</td>\n",
       "      <td>-7.247281</td>\n",
       "      <td>-1.809388</td>\n",
       "      <td>...</td>\n",
       "      <td>1.336633</td>\n",
       "      <td>50000.0</td>\n",
       "      <td>200.0</td>\n",
       "      <td>0 days 00:08:08.321851</td>\n",
       "      <td>0.001</td>\n",
       "      <td>[0.5, 0.999]</td>\n",
       "      <td>1e-05</td>\n",
       "      <td>d:\\Work\\repos\\RL\\phd-rl-algos\\dqn\\opinion_dyna...</td>\n",
       "      <td>2</td>\n",
       "      <td>0005_optim.args_.weight_decay_0.001__optim.arg...</td>\n",
       "    </tr>\n",
       "    <tr>\n",
       "      <th>1398</th>\n",
       "      <td>training</td>\n",
       "      <td>7800000</td>\n",
       "      <td>0.050000</td>\n",
       "      <td>-7.789983</td>\n",
       "      <td>-1.749635</td>\n",
       "      <td>-4.465632</td>\n",
       "      <td>-4.452577</td>\n",
       "      <td>0.833632</td>\n",
       "      <td>-7.278070</td>\n",
       "      <td>-1.707106</td>\n",
       "      <td>...</td>\n",
       "      <td>1.339946</td>\n",
       "      <td>50000.0</td>\n",
       "      <td>200.0</td>\n",
       "      <td>0 days 00:08:01.023997</td>\n",
       "      <td>0.001</td>\n",
       "      <td>[0.5, 0.999]</td>\n",
       "      <td>1e-05</td>\n",
       "      <td>d:\\Work\\repos\\RL\\phd-rl-algos\\dqn\\opinion_dyna...</td>\n",
       "      <td>2</td>\n",
       "      <td>0005_optim.args_.weight_decay_0.001__optim.arg...</td>\n",
       "    </tr>\n",
       "    <tr>\n",
       "      <th>1399</th>\n",
       "      <td>training</td>\n",
       "      <td>8000000</td>\n",
       "      <td>0.050000</td>\n",
       "      <td>-7.416778</td>\n",
       "      <td>-1.682864</td>\n",
       "      <td>-4.471026</td>\n",
       "      <td>-4.467623</td>\n",
       "      <td>0.820692</td>\n",
       "      <td>-6.942453</td>\n",
       "      <td>-1.643724</td>\n",
       "      <td>...</td>\n",
       "      <td>1.334920</td>\n",
       "      <td>50000.0</td>\n",
       "      <td>200.0</td>\n",
       "      <td>0 days 00:06:12.790559</td>\n",
       "      <td>0.001</td>\n",
       "      <td>[0.5, 0.999]</td>\n",
       "      <td>1e-05</td>\n",
       "      <td>d:\\Work\\repos\\RL\\phd-rl-algos\\dqn\\opinion_dyna...</td>\n",
       "      <td>2</td>\n",
       "      <td>0005_optim.args_.weight_decay_0.001__optim.arg...</td>\n",
       "    </tr>\n",
       "  </tbody>\n",
       "</table>\n",
       "<p>720 rows × 37 columns</p>\n",
       "</div>"
      ],
      "text/plain": [
       "     epoch_type  frame_stamp  greedy_epsilon  episode_rewards_min  \\\n",
       "0      training       200000        0.971500            -7.443088   \n",
       "1      training       400000        0.942269            -7.603068   \n",
       "2      training       600000        0.913038            -7.678306   \n",
       "3      training       800000        0.883808            -7.419000   \n",
       "4      training      1000000        0.854577            -7.569634   \n",
       "...         ...          ...             ...                  ...   \n",
       "1395   training      7200000        0.050000            -7.690752   \n",
       "1396   training      7400000        0.050000            -7.538149   \n",
       "1397   training      7600000        0.050000            -7.757856   \n",
       "1398   training      7800000        0.050000            -7.789983   \n",
       "1399   training      8000000        0.050000            -7.416778   \n",
       "\n",
       "      episode_rewards_max  episode_rewards_mean  episode_rewards_median  \\\n",
       "0               -1.440048             -4.433644               -4.423410   \n",
       "1               -1.734844             -4.476259               -4.444135   \n",
       "2               -1.705000             -4.448465               -4.418151   \n",
       "3               -1.682625             -4.410860               -4.386707   \n",
       "4               -1.793920             -4.389836               -4.363549   \n",
       "...                   ...                   ...                     ...   \n",
       "1395            -1.698395             -4.468454               -4.436854   \n",
       "1396            -1.388977             -4.465417               -4.435888   \n",
       "1397            -1.861754             -4.474244               -4.441249   \n",
       "1398            -1.749635             -4.465632               -4.452577   \n",
       "1399            -1.682864             -4.471026               -4.467623   \n",
       "\n",
       "      episode_rewards_std  episode_discounted_rewards_min  \\\n",
       "0                0.834034                       -6.959482   \n",
       "1                0.839277                       -7.112953   \n",
       "2                0.827523                       -7.169587   \n",
       "3                0.827695                       -6.941533   \n",
       "4                0.819784                       -7.069442   \n",
       "...                   ...                             ...   \n",
       "1395             0.828297                       -7.182032   \n",
       "1396             0.830033                       -7.053967   \n",
       "1397             0.835900                       -7.247281   \n",
       "1398             0.833632                       -7.278070   \n",
       "1399             0.820692                       -6.942453   \n",
       "\n",
       "      episode_discounted_rewards_max  ...  episode_max_qs_std  \\\n",
       "0                          -1.412451  ...            0.766596   \n",
       "1                          -1.694157  ...            0.818216   \n",
       "2                          -1.666311  ...            1.120045   \n",
       "3                          -1.643517  ...            1.242104   \n",
       "4                          -1.750075  ...            1.233371   \n",
       "...                              ...  ...                 ...   \n",
       "1395                       -1.659460  ...            1.335253   \n",
       "1396                       -1.360879  ...            1.337144   \n",
       "1397                       -1.809388  ...            1.336633   \n",
       "1398                       -1.707106  ...            1.339946   \n",
       "1399                       -1.643724  ...            1.334920   \n",
       "\n",
       "      policy_trained_times  target_trained_times             epoch_time  \\\n",
       "0                  48749.0                 192.0 0 days 00:06:07.684385   \n",
       "1                  50000.0                 200.0 0 days 00:06:34.102970   \n",
       "2                  50000.0                 200.0 0 days 00:06:51.474828   \n",
       "3                  50000.0                 200.0 0 days 00:06:56.508527   \n",
       "4                  50000.0                 200.0 0 days 00:06:55.759999   \n",
       "...                    ...                   ...                    ...   \n",
       "1395               50000.0                 200.0 0 days 00:07:56.312066   \n",
       "1396               50000.0                 200.0 0 days 00:07:57.800028   \n",
       "1397               50000.0                 200.0 0 days 00:08:08.321851   \n",
       "1398               50000.0                 200.0 0 days 00:08:01.023997   \n",
       "1399               50000.0                 200.0 0 days 00:06:12.790559   \n",
       "\n",
       "      sub_exp_cfg_optim.args_.weight_decay  sub_exp_cfg_optim.args_.betas  \\\n",
       "0                                        0                   [0.9, 0.999]   \n",
       "1                                        0                   [0.9, 0.999]   \n",
       "2                                        0                   [0.9, 0.999]   \n",
       "3                                        0                   [0.9, 0.999]   \n",
       "4                                        0                   [0.9, 0.999]   \n",
       "...                                    ...                            ...   \n",
       "1395                                 0.001                   [0.5, 0.999]   \n",
       "1396                                 0.001                   [0.5, 0.999]   \n",
       "1397                                 0.001                   [0.5, 0.999]   \n",
       "1398                                 0.001                   [0.5, 0.999]   \n",
       "1399                                 0.001                   [0.5, 0.999]   \n",
       "\n",
       "      sub_exp_cfg_optim.args_.lr  \\\n",
       "0                          1e-05   \n",
       "1                          1e-05   \n",
       "2                          1e-05   \n",
       "3                          1e-05   \n",
       "4                          1e-05   \n",
       "...                          ...   \n",
       "1395                       1e-05   \n",
       "1396                       1e-05   \n",
       "1397                       1e-05   \n",
       "1398                       1e-05   \n",
       "1399                       1e-05   \n",
       "\n",
       "                                    sub_experiment_path  seed  \\\n",
       "0     d:\\Work\\repos\\RL\\phd-rl-algos\\dqn\\opinion_dyna...     0   \n",
       "1     d:\\Work\\repos\\RL\\phd-rl-algos\\dqn\\opinion_dyna...     0   \n",
       "2     d:\\Work\\repos\\RL\\phd-rl-algos\\dqn\\opinion_dyna...     0   \n",
       "3     d:\\Work\\repos\\RL\\phd-rl-algos\\dqn\\opinion_dyna...     0   \n",
       "4     d:\\Work\\repos\\RL\\phd-rl-algos\\dqn\\opinion_dyna...     0   \n",
       "...                                                 ...   ...   \n",
       "1395  d:\\Work\\repos\\RL\\phd-rl-algos\\dqn\\opinion_dyna...     2   \n",
       "1396  d:\\Work\\repos\\RL\\phd-rl-algos\\dqn\\opinion_dyna...     2   \n",
       "1397  d:\\Work\\repos\\RL\\phd-rl-algos\\dqn\\opinion_dyna...     2   \n",
       "1398  d:\\Work\\repos\\RL\\phd-rl-algos\\dqn\\opinion_dyna...     2   \n",
       "1399  d:\\Work\\repos\\RL\\phd-rl-algos\\dqn\\opinion_dyna...     2   \n",
       "\n",
       "                                        experiment_name  \n",
       "0     0000_optim.args_.weight_decay_0__optim.args_.b...  \n",
       "1     0000_optim.args_.weight_decay_0__optim.args_.b...  \n",
       "2     0000_optim.args_.weight_decay_0__optim.args_.b...  \n",
       "3     0000_optim.args_.weight_decay_0__optim.args_.b...  \n",
       "4     0000_optim.args_.weight_decay_0__optim.args_.b...  \n",
       "...                                                 ...  \n",
       "1395  0005_optim.args_.weight_decay_0.001__optim.arg...  \n",
       "1396  0005_optim.args_.weight_decay_0.001__optim.arg...  \n",
       "1397  0005_optim.args_.weight_decay_0.001__optim.arg...  \n",
       "1398  0005_optim.args_.weight_decay_0.001__optim.arg...  \n",
       "1399  0005_optim.args_.weight_decay_0.001__optim.arg...  \n",
       "\n",
       "[720 rows x 37 columns]"
      ]
     },
     "execution_count": 43,
     "metadata": {},
     "output_type": "execute_result"
    }
   ],
   "source": [
    "# df[df['epoch_type'] == 'validation']\n",
    "df[df['epoch_type'] == 'training']\n"
   ]
  },
  {
   "cell_type": "code",
   "execution_count": 44,
   "metadata": {},
   "outputs": [
    {
     "name": "stdout",
     "output_type": "stream",
     "text": [
      "Best hyperparameters:\n",
      "sub_exp_cfg_optim.args_.weight_decay               0\n",
      "sub_exp_cfg_optim.args_.betas           [0.5, 0.999]\n",
      "sub_exp_cfg_optim.args_.lr                     1e-05\n",
      "Name: 0, dtype: object\n",
      "Best mean reward: -6.159937467583577\n"
     ]
    }
   ],
   "source": [
    "# Define hyperparameter columns\n",
    "hyperparam_columns = [col for col in df.columns if \"sub_exp_cfg\" in col]\n",
    "\n",
    "# Group by hyperparameter values and compute mean episode_rewards_mean\n",
    "averaged_results = df.groupby(hyperparam_columns, as_index=False).agg({\n",
    "    'episode_rewards_mean': 'mean',  # Averaging the performance metric\n",
    "    'sub_experiment_path': 'first'   # Keep a reference to an experiment path\n",
    "})\n",
    "\n",
    "# Find the best hyperparameter set based on the highest mean reward\n",
    "best_row = averaged_results.loc[averaged_results['episode_rewards_mean'].idxmax()]\n",
    "\n",
    "# Print the best experiment path and hyperparameters\n",
    "print(f\"Best hyperparameters:\\n{best_row[hyperparam_columns]}\")\n",
    "print(f\"Best mean reward: {best_row['episode_rewards_mean']}\")"
   ]
  },
  {
   "cell_type": "code",
   "execution_count": 45,
   "metadata": {},
   "outputs": [
    {
     "data": {
      "text/html": [
       "<div>\n",
       "<style scoped>\n",
       "    .dataframe tbody tr th:only-of-type {\n",
       "        vertical-align: middle;\n",
       "    }\n",
       "\n",
       "    .dataframe tbody tr th {\n",
       "        vertical-align: top;\n",
       "    }\n",
       "\n",
       "    .dataframe thead th {\n",
       "        text-align: right;\n",
       "    }\n",
       "</style>\n",
       "<table border=\"1\" class=\"dataframe\">\n",
       "  <thead>\n",
       "    <tr style=\"text-align: right;\">\n",
       "      <th></th>\n",
       "      <th>sub_exp_cfg_optim.args_.weight_decay</th>\n",
       "      <th>sub_exp_cfg_optim.args_.betas</th>\n",
       "      <th>sub_exp_cfg_optim.args_.lr</th>\n",
       "      <th>episode_rewards_mean</th>\n",
       "      <th>sub_experiment_path</th>\n",
       "    </tr>\n",
       "  </thead>\n",
       "  <tbody>\n",
       "    <tr>\n",
       "      <th>0</th>\n",
       "      <td>0</td>\n",
       "      <td>[0.5, 0.999]</td>\n",
       "      <td>1e-05</td>\n",
       "      <td>-6.159937</td>\n",
       "      <td>d:\\Work\\repos\\RL\\phd-rl-algos\\dqn\\opinion_dyna...</td>\n",
       "    </tr>\n",
       "    <tr>\n",
       "      <th>1</th>\n",
       "      <td>0</td>\n",
       "      <td>[0.9, 0.999]</td>\n",
       "      <td>1e-05</td>\n",
       "      <td>-6.160597</td>\n",
       "      <td>d:\\Work\\repos\\RL\\phd-rl-algos\\dqn\\opinion_dyna...</td>\n",
       "    </tr>\n",
       "    <tr>\n",
       "      <th>2</th>\n",
       "      <td>0</td>\n",
       "      <td>[0.95, 0.9]</td>\n",
       "      <td>1e-05</td>\n",
       "      <td>-6.182401</td>\n",
       "      <td>d:\\Work\\repos\\RL\\phd-rl-algos\\dqn\\opinion_dyna...</td>\n",
       "    </tr>\n",
       "    <tr>\n",
       "      <th>3</th>\n",
       "      <td>0.001</td>\n",
       "      <td>[0.5, 0.999]</td>\n",
       "      <td>1e-05</td>\n",
       "      <td>-6.310075</td>\n",
       "      <td>d:\\Work\\repos\\RL\\phd-rl-algos\\dqn\\opinion_dyna...</td>\n",
       "    </tr>\n",
       "    <tr>\n",
       "      <th>4</th>\n",
       "      <td>0.001</td>\n",
       "      <td>[0.9, 0.999]</td>\n",
       "      <td>1e-05</td>\n",
       "      <td>-6.313970</td>\n",
       "      <td>d:\\Work\\repos\\RL\\phd-rl-algos\\dqn\\opinion_dyna...</td>\n",
       "    </tr>\n",
       "    <tr>\n",
       "      <th>5</th>\n",
       "      <td>0.001</td>\n",
       "      <td>[0.95, 0.9]</td>\n",
       "      <td>1e-05</td>\n",
       "      <td>-6.310811</td>\n",
       "      <td>d:\\Work\\repos\\RL\\phd-rl-algos\\dqn\\opinion_dyna...</td>\n",
       "    </tr>\n",
       "  </tbody>\n",
       "</table>\n",
       "</div>"
      ],
      "text/plain": [
       "  sub_exp_cfg_optim.args_.weight_decay sub_exp_cfg_optim.args_.betas  \\\n",
       "0                                    0                  [0.5, 0.999]   \n",
       "1                                    0                  [0.9, 0.999]   \n",
       "2                                    0                   [0.95, 0.9]   \n",
       "3                                0.001                  [0.5, 0.999]   \n",
       "4                                0.001                  [0.9, 0.999]   \n",
       "5                                0.001                   [0.95, 0.9]   \n",
       "\n",
       "  sub_exp_cfg_optim.args_.lr  episode_rewards_mean  \\\n",
       "0                      1e-05             -6.159937   \n",
       "1                      1e-05             -6.160597   \n",
       "2                      1e-05             -6.182401   \n",
       "3                      1e-05             -6.310075   \n",
       "4                      1e-05             -6.313970   \n",
       "5                      1e-05             -6.310811   \n",
       "\n",
       "                                 sub_experiment_path  \n",
       "0  d:\\Work\\repos\\RL\\phd-rl-algos\\dqn\\opinion_dyna...  \n",
       "1  d:\\Work\\repos\\RL\\phd-rl-algos\\dqn\\opinion_dyna...  \n",
       "2  d:\\Work\\repos\\RL\\phd-rl-algos\\dqn\\opinion_dyna...  \n",
       "3  d:\\Work\\repos\\RL\\phd-rl-algos\\dqn\\opinion_dyna...  \n",
       "4  d:\\Work\\repos\\RL\\phd-rl-algos\\dqn\\opinion_dyna...  \n",
       "5  d:\\Work\\repos\\RL\\phd-rl-algos\\dqn\\opinion_dyna...  "
      ]
     },
     "execution_count": 45,
     "metadata": {},
     "output_type": "execute_result"
    }
   ],
   "source": [
    "averaged_results"
   ]
  },
  {
   "cell_type": "code",
   "execution_count": 46,
   "metadata": {},
   "outputs": [],
   "source": [
    "# selected_metric = 'episode_rewards_mean'\n",
    "# hue_col = \"sub_exp_cfg_agent_params.args_.action_w_noise_amplitude\"\n",
    "\n",
    "# # Filter for validation episodes\n",
    "# validation_df = df[df['epoch_type'] == 'validation']\n",
    "\n",
    "# # Get the unique sorted frame_stamp values\n",
    "# unique_frames = np.sort(validation_df['frame_stamp'].unique())\n",
    "# N = 1\n",
    "# # Get all frame_stamp values after the first N unique ones\n",
    "# filtered_frames = unique_frames[N:]\n",
    "\n",
    "# # Filter the DataFrame to only include rows with these frame_stamp values\n",
    "# filtered_df = validation_df[validation_df['frame_stamp'].isin(filtered_frames)]\n",
    "\n",
    "# plt.figure(figsize=(10, 6))\n",
    "# sns.lineplot(data=filtered_df, x='frame_stamp', y=selected_metric, hue=hue_col)\n",
    "# plt.ylabel(selected_metric)\n",
    "# plt.xlabel('Frame Stamp')\n",
    "# plt.show()"
   ]
  },
  {
   "cell_type": "code",
   "execution_count": 47,
   "metadata": {},
   "outputs": [
    {
     "data": {
      "image/png": "[encoded data removed]",
      "text/plain": [
       "<Figure size 1000x600 with 1 Axes>"
      ]
     },
     "metadata": {},
     "output_type": "display_data"
    }
   ],
   "source": [
    "\n",
    "selected_metric = 'episode_discounted_rewards_mean'\n",
    "# hue_col = \"sub_exp_cfg_agent_params.args_.action_w_noise_amplitude\"\n",
    "hue_col = \"experiment_name\"\n",
    "\n",
    "# validation_df = df[df['epoch_type'] == 'validation']\n",
    "validation_df = df[df['epoch_type'] == 'training']\n",
    "\n",
    "\n",
    "# Create a new figure for each environment\n",
    "plt.figure(figsize=(10, 6))\n",
    "# sns.lineplot(data=df, x='frame_stamp', y=selected_metric, hue='model')\n",
    "sns.lineplot(data=validation_df, \n",
    "             x='frame_stamp', \n",
    "             y=selected_metric, \n",
    "             hue=hue_col,\n",
    "            #  units='seed', # Comment this to see mean + cf\n",
    "            #  estimator=None, # Comment this to see mean + cf\n",
    "             )\n",
    "\n",
    "plt.ylabel(selected_metric)\n",
    "plt.xlabel('Frame Stamp')\n",
    "\n",
    "# Place the legend outside the plot\n",
    "plt.legend(loc='center left', bbox_to_anchor=(1.0, 0.5), title='Parameters')\n",
    "plt.show()"
   ]
  },
  {
   "cell_type": "code",
   "execution_count": 48,
   "metadata": {},
   "outputs": [
    {
     "data": {
      "text/plain": [
       "Index(['epoch_type', 'frame_stamp', 'greedy_epsilon', 'episode_rewards_min',\n",
       "       'episode_rewards_max', 'episode_rewards_mean', 'episode_rewards_median',\n",
       "       'episode_rewards_std', 'episode_discounted_rewards_min',\n",
       "       'episode_discounted_rewards_max', 'episode_discounted_rewards_mean',\n",
       "       'episode_discounted_rewards_median', 'episode_discounted_rewards_std',\n",
       "       'episode_frames_min', 'episode_frames_max', 'episode_frames_mean',\n",
       "       'episode_frames_median', 'episode_frames_std', 'episode_losses_min',\n",
       "       'episode_losses_max', 'episode_losses_mean', 'episode_losses_median',\n",
       "       'episode_losses_std', 'episode_max_qs_min', 'episode_max_qs_max',\n",
       "       'episode_max_qs_mean', 'episode_max_qs_median', 'episode_max_qs_std',\n",
       "       'policy_trained_times', 'target_trained_times', 'epoch_time',\n",
       "       'sub_exp_cfg_optim.args_.weight_decay', 'sub_exp_cfg_optim.args_.betas',\n",
       "       'sub_exp_cfg_optim.args_.lr', 'sub_experiment_path', 'seed',\n",
       "       'experiment_name'],\n",
       "      dtype='object')"
      ]
     },
     "execution_count": 48,
     "metadata": {},
     "output_type": "execute_result"
    }
   ],
   "source": [
    "df.columns"
   ]
  },
  {
   "cell_type": "code",
   "execution_count": 49,
   "metadata": {},
   "outputs": [
    {
     "data": {
      "image/png": "[encoded data removed]",
      "text/plain": [
       "<Figure size 1000x600 with 1 Axes>"
      ]
     },
     "metadata": {},
     "output_type": "display_data"
    }
   ],
   "source": [
    "import matplotlib.pyplot as plt\n",
    "import seaborn as sns\n",
    "\n",
    "selected_metric = 'episode_frames_mean'\n",
    "hue_col = \"experiment_name\"  # or another distinguishing column like \"sub_experiment_path\"\n",
    "\n",
    "validation_df = df[df['epoch_type'] == 'validation']\n",
    "\n",
    "# Plot individual lines for each run\n",
    "plt.figure(figsize=(10, 6))\n",
    "sns.lineplot(\n",
    "    data=validation_df,\n",
    "    x='frame_stamp',\n",
    "    y=selected_metric,\n",
    "    hue=hue_col,\n",
    "    estimator=None,  # ← disables aggregation\n",
    "    units='sub_experiment_path',  # ← groups lines by unique run\n",
    "    lw=1,  # line width\n",
    "    alpha=0.7  # transparency\n",
    ")\n",
    "\n",
    "plt.ylabel(selected_metric)\n",
    "plt.xlabel('Frame Stamp')\n",
    "plt.title('Validation Reward Trajectories (Per Run)')\n",
    "\n",
    "# Move legend outside the plot\n",
    "plt.legend(loc='center left', bbox_to_anchor=(1.0, 0.5), title='Experiment')\n",
    "plt.tight_layout()\n",
    "plt.show()\n"
   ]
  },
  {
   "cell_type": "code",
   "execution_count": 50,
   "metadata": {},
   "outputs": [
    {
     "data": {
      "text/html": [
       "<div>\n",
       "<style scoped>\n",
       "    .dataframe tbody tr th:only-of-type {\n",
       "        vertical-align: middle;\n",
       "    }\n",
       "\n",
       "    .dataframe tbody tr th {\n",
       "        vertical-align: top;\n",
       "    }\n",
       "\n",
       "    .dataframe thead th {\n",
       "        text-align: right;\n",
       "    }\n",
       "</style>\n",
       "<table border=\"1\" class=\"dataframe\">\n",
       "  <thead>\n",
       "    <tr style=\"text-align: right;\">\n",
       "      <th></th>\n",
       "      <th>epoch_type</th>\n",
       "      <th>frame_stamp</th>\n",
       "      <th>episode_rewards_mean</th>\n",
       "      <th>episode_frames_mean</th>\n",
       "      <th>episode_discounted_rewards_mean</th>\n",
       "      <th>policy_trained_times</th>\n",
       "      <th>target_trained_times</th>\n",
       "      <th>epoch_time</th>\n",
       "      <th>seed</th>\n",
       "      <th>experiment_name</th>\n",
       "      <th>sub_experiment_path</th>\n",
       "      <th>sub_exp_cfg_optim.args_.weight_decay</th>\n",
       "      <th>sub_exp_cfg_optim.args_.betas</th>\n",
       "      <th>sub_exp_cfg_optim.args_.lr</th>\n",
       "    </tr>\n",
       "  </thead>\n",
       "  <tbody>\n",
       "    <tr>\n",
       "      <th>79</th>\n",
       "      <td>validation</td>\n",
       "      <td>8000000</td>\n",
       "      <td>-7.916940</td>\n",
       "      <td>26.0</td>\n",
       "      <td>-7.417838</td>\n",
       "      <td>NaN</td>\n",
       "      <td>NaN</td>\n",
       "      <td>0 days 00:00:00.638284</td>\n",
       "      <td>0</td>\n",
       "      <td>0000_optim.args_.weight_decay_0__optim.args_.b...</td>\n",
       "      <td>d:\\Work\\repos\\RL\\phd-rl-algos\\dqn\\opinion_dyna...</td>\n",
       "      <td>0</td>\n",
       "      <td>[0.9, 0.999]</td>\n",
       "      <td>1e-05</td>\n",
       "    </tr>\n",
       "    <tr>\n",
       "      <th>159</th>\n",
       "      <td>validation</td>\n",
       "      <td>8000000</td>\n",
       "      <td>-8.331370</td>\n",
       "      <td>29.0</td>\n",
       "      <td>-7.760959</td>\n",
       "      <td>NaN</td>\n",
       "      <td>NaN</td>\n",
       "      <td>0 days 00:00:00.614515</td>\n",
       "      <td>1</td>\n",
       "      <td>0000_optim.args_.weight_decay_0__optim.args_.b...</td>\n",
       "      <td>d:\\Work\\repos\\RL\\phd-rl-algos\\dqn\\opinion_dyna...</td>\n",
       "      <td>0</td>\n",
       "      <td>[0.9, 0.999]</td>\n",
       "      <td>1e-05</td>\n",
       "    </tr>\n",
       "    <tr>\n",
       "      <th>239</th>\n",
       "      <td>validation</td>\n",
       "      <td>8000000</td>\n",
       "      <td>-7.957895</td>\n",
       "      <td>26.0</td>\n",
       "      <td>-7.459099</td>\n",
       "      <td>NaN</td>\n",
       "      <td>NaN</td>\n",
       "      <td>0 days 00:00:00.659058</td>\n",
       "      <td>2</td>\n",
       "      <td>0000_optim.args_.weight_decay_0__optim.args_.b...</td>\n",
       "      <td>d:\\Work\\repos\\RL\\phd-rl-algos\\dqn\\opinion_dyna...</td>\n",
       "      <td>0</td>\n",
       "      <td>[0.9, 0.999]</td>\n",
       "      <td>1e-05</td>\n",
       "    </tr>\n",
       "    <tr>\n",
       "      <th>319</th>\n",
       "      <td>validation</td>\n",
       "      <td>8000000</td>\n",
       "      <td>-8.110634</td>\n",
       "      <td>27.0</td>\n",
       "      <td>-7.588355</td>\n",
       "      <td>NaN</td>\n",
       "      <td>NaN</td>\n",
       "      <td>0 days 00:00:00.631551</td>\n",
       "      <td>0</td>\n",
       "      <td>0001_optim.args_.weight_decay_0__optim.args_.b...</td>\n",
       "      <td>d:\\Work\\repos\\RL\\phd-rl-algos\\dqn\\opinion_dyna...</td>\n",
       "      <td>0</td>\n",
       "      <td>[0.95, 0.9]</td>\n",
       "      <td>1e-05</td>\n",
       "    </tr>\n",
       "    <tr>\n",
       "      <th>399</th>\n",
       "      <td>validation</td>\n",
       "      <td>8000000</td>\n",
       "      <td>-8.231202</td>\n",
       "      <td>28.0</td>\n",
       "      <td>-7.684212</td>\n",
       "      <td>NaN</td>\n",
       "      <td>NaN</td>\n",
       "      <td>0 days 00:00:00.641676</td>\n",
       "      <td>1</td>\n",
       "      <td>0001_optim.args_.weight_decay_0__optim.args_.b...</td>\n",
       "      <td>d:\\Work\\repos\\RL\\phd-rl-algos\\dqn\\opinion_dyna...</td>\n",
       "      <td>0</td>\n",
       "      <td>[0.95, 0.9]</td>\n",
       "      <td>1e-05</td>\n",
       "    </tr>\n",
       "    <tr>\n",
       "      <th>479</th>\n",
       "      <td>validation</td>\n",
       "      <td>8000000</td>\n",
       "      <td>-7.952939</td>\n",
       "      <td>26.0</td>\n",
       "      <td>-7.450735</td>\n",
       "      <td>NaN</td>\n",
       "      <td>NaN</td>\n",
       "      <td>0 days 00:00:00.693880</td>\n",
       "      <td>2</td>\n",
       "      <td>0001_optim.args_.weight_decay_0__optim.args_.b...</td>\n",
       "      <td>d:\\Work\\repos\\RL\\phd-rl-algos\\dqn\\opinion_dyna...</td>\n",
       "      <td>0</td>\n",
       "      <td>[0.95, 0.9]</td>\n",
       "      <td>1e-05</td>\n",
       "    </tr>\n",
       "    <tr>\n",
       "      <th>559</th>\n",
       "      <td>validation</td>\n",
       "      <td>8000000</td>\n",
       "      <td>-7.869755</td>\n",
       "      <td>26.0</td>\n",
       "      <td>-7.372968</td>\n",
       "      <td>NaN</td>\n",
       "      <td>NaN</td>\n",
       "      <td>0 days 00:00:00.561987</td>\n",
       "      <td>0</td>\n",
       "      <td>0002_optim.args_.weight_decay_0__optim.args_.b...</td>\n",
       "      <td>d:\\Work\\repos\\RL\\phd-rl-algos\\dqn\\opinion_dyna...</td>\n",
       "      <td>0</td>\n",
       "      <td>[0.5, 0.999]</td>\n",
       "      <td>1e-05</td>\n",
       "    </tr>\n",
       "    <tr>\n",
       "      <th>639</th>\n",
       "      <td>validation</td>\n",
       "      <td>8000000</td>\n",
       "      <td>-8.225667</td>\n",
       "      <td>28.0</td>\n",
       "      <td>-7.677092</td>\n",
       "      <td>NaN</td>\n",
       "      <td>NaN</td>\n",
       "      <td>0 days 00:00:00.575653</td>\n",
       "      <td>1</td>\n",
       "      <td>0002_optim.args_.weight_decay_0__optim.args_.b...</td>\n",
       "      <td>d:\\Work\\repos\\RL\\phd-rl-algos\\dqn\\opinion_dyna...</td>\n",
       "      <td>0</td>\n",
       "      <td>[0.5, 0.999]</td>\n",
       "      <td>1e-05</td>\n",
       "    </tr>\n",
       "    <tr>\n",
       "      <th>719</th>\n",
       "      <td>validation</td>\n",
       "      <td>8000000</td>\n",
       "      <td>-7.839556</td>\n",
       "      <td>26.0</td>\n",
       "      <td>-7.348488</td>\n",
       "      <td>NaN</td>\n",
       "      <td>NaN</td>\n",
       "      <td>0 days 00:00:00.645988</td>\n",
       "      <td>2</td>\n",
       "      <td>0002_optim.args_.weight_decay_0__optim.args_.b...</td>\n",
       "      <td>d:\\Work\\repos\\RL\\phd-rl-algos\\dqn\\opinion_dyna...</td>\n",
       "      <td>0</td>\n",
       "      <td>[0.5, 0.999]</td>\n",
       "      <td>1e-05</td>\n",
       "    </tr>\n",
       "    <tr>\n",
       "      <th>799</th>\n",
       "      <td>validation</td>\n",
       "      <td>8000000</td>\n",
       "      <td>-8.061466</td>\n",
       "      <td>27.0</td>\n",
       "      <td>-7.531725</td>\n",
       "      <td>NaN</td>\n",
       "      <td>NaN</td>\n",
       "      <td>0 days 00:00:00.533128</td>\n",
       "      <td>0</td>\n",
       "      <td>0003_optim.args_.weight_decay_0.001__optim.arg...</td>\n",
       "      <td>d:\\Work\\repos\\RL\\phd-rl-algos\\dqn\\opinion_dyna...</td>\n",
       "      <td>0.001</td>\n",
       "      <td>[0.9, 0.999]</td>\n",
       "      <td>1e-05</td>\n",
       "    </tr>\n",
       "    <tr>\n",
       "      <th>879</th>\n",
       "      <td>validation</td>\n",
       "      <td>8000000</td>\n",
       "      <td>-8.371787</td>\n",
       "      <td>29.0</td>\n",
       "      <td>-7.785273</td>\n",
       "      <td>NaN</td>\n",
       "      <td>NaN</td>\n",
       "      <td>0 days 00:00:00.434238</td>\n",
       "      <td>1</td>\n",
       "      <td>0003_optim.args_.weight_decay_0.001__optim.arg...</td>\n",
       "      <td>d:\\Work\\repos\\RL\\phd-rl-algos\\dqn\\opinion_dyna...</td>\n",
       "      <td>0.001</td>\n",
       "      <td>[0.9, 0.999]</td>\n",
       "      <td>1e-05</td>\n",
       "    </tr>\n",
       "    <tr>\n",
       "      <th>959</th>\n",
       "      <td>validation</td>\n",
       "      <td>8000000</td>\n",
       "      <td>-8.082365</td>\n",
       "      <td>27.0</td>\n",
       "      <td>-7.550282</td>\n",
       "      <td>NaN</td>\n",
       "      <td>NaN</td>\n",
       "      <td>0 days 00:00:00.570505</td>\n",
       "      <td>2</td>\n",
       "      <td>0003_optim.args_.weight_decay_0.001__optim.arg...</td>\n",
       "      <td>d:\\Work\\repos\\RL\\phd-rl-algos\\dqn\\opinion_dyna...</td>\n",
       "      <td>0.001</td>\n",
       "      <td>[0.9, 0.999]</td>\n",
       "      <td>1e-05</td>\n",
       "    </tr>\n",
       "    <tr>\n",
       "      <th>1039</th>\n",
       "      <td>validation</td>\n",
       "      <td>8000000</td>\n",
       "      <td>-8.055606</td>\n",
       "      <td>27.0</td>\n",
       "      <td>-7.526560</td>\n",
       "      <td>NaN</td>\n",
       "      <td>NaN</td>\n",
       "      <td>0 days 00:00:00.661716</td>\n",
       "      <td>0</td>\n",
       "      <td>0004_optim.args_.weight_decay_0.001__optim.arg...</td>\n",
       "      <td>d:\\Work\\repos\\RL\\phd-rl-algos\\dqn\\opinion_dyna...</td>\n",
       "      <td>0.001</td>\n",
       "      <td>[0.95, 0.9]</td>\n",
       "      <td>1e-05</td>\n",
       "    </tr>\n",
       "    <tr>\n",
       "      <th>1119</th>\n",
       "      <td>validation</td>\n",
       "      <td>8000000</td>\n",
       "      <td>-8.362087</td>\n",
       "      <td>29.0</td>\n",
       "      <td>-7.777501</td>\n",
       "      <td>NaN</td>\n",
       "      <td>NaN</td>\n",
       "      <td>0 days 00:00:00.759366</td>\n",
       "      <td>1</td>\n",
       "      <td>0004_optim.args_.weight_decay_0.001__optim.arg...</td>\n",
       "      <td>d:\\Work\\repos\\RL\\phd-rl-algos\\dqn\\opinion_dyna...</td>\n",
       "      <td>0.001</td>\n",
       "      <td>[0.95, 0.9]</td>\n",
       "      <td>1e-05</td>\n",
       "    </tr>\n",
       "    <tr>\n",
       "      <th>1199</th>\n",
       "      <td>validation</td>\n",
       "      <td>8000000</td>\n",
       "      <td>-8.089115</td>\n",
       "      <td>27.0</td>\n",
       "      <td>-7.556163</td>\n",
       "      <td>NaN</td>\n",
       "      <td>NaN</td>\n",
       "      <td>0 days 00:00:00.649228</td>\n",
       "      <td>2</td>\n",
       "      <td>0004_optim.args_.weight_decay_0.001__optim.arg...</td>\n",
       "      <td>d:\\Work\\repos\\RL\\phd-rl-algos\\dqn\\opinion_dyna...</td>\n",
       "      <td>0.001</td>\n",
       "      <td>[0.95, 0.9]</td>\n",
       "      <td>1e-05</td>\n",
       "    </tr>\n",
       "    <tr>\n",
       "      <th>1279</th>\n",
       "      <td>validation</td>\n",
       "      <td>8000000</td>\n",
       "      <td>-8.056287</td>\n",
       "      <td>27.0</td>\n",
       "      <td>-7.527267</td>\n",
       "      <td>NaN</td>\n",
       "      <td>NaN</td>\n",
       "      <td>0 days 00:00:00.408065</td>\n",
       "      <td>0</td>\n",
       "      <td>0005_optim.args_.weight_decay_0.001__optim.arg...</td>\n",
       "      <td>d:\\Work\\repos\\RL\\phd-rl-algos\\dqn\\opinion_dyna...</td>\n",
       "      <td>0.001</td>\n",
       "      <td>[0.5, 0.999]</td>\n",
       "      <td>1e-05</td>\n",
       "    </tr>\n",
       "    <tr>\n",
       "      <th>1359</th>\n",
       "      <td>validation</td>\n",
       "      <td>8000000</td>\n",
       "      <td>-8.363781</td>\n",
       "      <td>29.0</td>\n",
       "      <td>-7.778653</td>\n",
       "      <td>NaN</td>\n",
       "      <td>NaN</td>\n",
       "      <td>0 days 00:00:00.583455</td>\n",
       "      <td>1</td>\n",
       "      <td>0005_optim.args_.weight_decay_0.001__optim.arg...</td>\n",
       "      <td>d:\\Work\\repos\\RL\\phd-rl-algos\\dqn\\opinion_dyna...</td>\n",
       "      <td>0.001</td>\n",
       "      <td>[0.5, 0.999]</td>\n",
       "      <td>1e-05</td>\n",
       "    </tr>\n",
       "    <tr>\n",
       "      <th>1439</th>\n",
       "      <td>validation</td>\n",
       "      <td>8000000</td>\n",
       "      <td>-8.080863</td>\n",
       "      <td>27.0</td>\n",
       "      <td>-7.549151</td>\n",
       "      <td>NaN</td>\n",
       "      <td>NaN</td>\n",
       "      <td>0 days 00:00:00.359205</td>\n",
       "      <td>2</td>\n",
       "      <td>0005_optim.args_.weight_decay_0.001__optim.arg...</td>\n",
       "      <td>d:\\Work\\repos\\RL\\phd-rl-algos\\dqn\\opinion_dyna...</td>\n",
       "      <td>0.001</td>\n",
       "      <td>[0.5, 0.999]</td>\n",
       "      <td>1e-05</td>\n",
       "    </tr>\n",
       "  </tbody>\n",
       "</table>\n",
       "</div>"
      ],
      "text/plain": [
       "      epoch_type  frame_stamp  episode_rewards_mean  episode_frames_mean  \\\n",
       "79    validation      8000000             -7.916940                 26.0   \n",
       "159   validation      8000000             -8.331370                 29.0   \n",
       "239   validation      8000000             -7.957895                 26.0   \n",
       "319   validation      8000000             -8.110634                 27.0   \n",
       "399   validation      8000000             -8.231202                 28.0   \n",
       "479   validation      8000000             -7.952939                 26.0   \n",
       "559   validation      8000000             -7.869755                 26.0   \n",
       "639   validation      8000000             -8.225667                 28.0   \n",
       "719   validation      8000000             -7.839556                 26.0   \n",
       "799   validation      8000000             -8.061466                 27.0   \n",
       "879   validation      8000000             -8.371787                 29.0   \n",
       "959   validation      8000000             -8.082365                 27.0   \n",
       "1039  validation      8000000             -8.055606                 27.0   \n",
       "1119  validation      8000000             -8.362087                 29.0   \n",
       "1199  validation      8000000             -8.089115                 27.0   \n",
       "1279  validation      8000000             -8.056287                 27.0   \n",
       "1359  validation      8000000             -8.363781                 29.0   \n",
       "1439  validation      8000000             -8.080863                 27.0   \n",
       "\n",
       "      episode_discounted_rewards_mean  policy_trained_times  \\\n",
       "79                          -7.417838                   NaN   \n",
       "159                         -7.760959                   NaN   \n",
       "239                         -7.459099                   NaN   \n",
       "319                         -7.588355                   NaN   \n",
       "399                         -7.684212                   NaN   \n",
       "479                         -7.450735                   NaN   \n",
       "559                         -7.372968                   NaN   \n",
       "639                         -7.677092                   NaN   \n",
       "719                         -7.348488                   NaN   \n",
       "799                         -7.531725                   NaN   \n",
       "879                         -7.785273                   NaN   \n",
       "959                         -7.550282                   NaN   \n",
       "1039                        -7.526560                   NaN   \n",
       "1119                        -7.777501                   NaN   \n",
       "1199                        -7.556163                   NaN   \n",
       "1279                        -7.527267                   NaN   \n",
       "1359                        -7.778653                   NaN   \n",
       "1439                        -7.549151                   NaN   \n",
       "\n",
       "      target_trained_times             epoch_time seed  \\\n",
       "79                     NaN 0 days 00:00:00.638284    0   \n",
       "159                    NaN 0 days 00:00:00.614515    1   \n",
       "239                    NaN 0 days 00:00:00.659058    2   \n",
       "319                    NaN 0 days 00:00:00.631551    0   \n",
       "399                    NaN 0 days 00:00:00.641676    1   \n",
       "479                    NaN 0 days 00:00:00.693880    2   \n",
       "559                    NaN 0 days 00:00:00.561987    0   \n",
       "639                    NaN 0 days 00:00:00.575653    1   \n",
       "719                    NaN 0 days 00:00:00.645988    2   \n",
       "799                    NaN 0 days 00:00:00.533128    0   \n",
       "879                    NaN 0 days 00:00:00.434238    1   \n",
       "959                    NaN 0 days 00:00:00.570505    2   \n",
       "1039                   NaN 0 days 00:00:00.661716    0   \n",
       "1119                   NaN 0 days 00:00:00.759366    1   \n",
       "1199                   NaN 0 days 00:00:00.649228    2   \n",
       "1279                   NaN 0 days 00:00:00.408065    0   \n",
       "1359                   NaN 0 days 00:00:00.583455    1   \n",
       "1439                   NaN 0 days 00:00:00.359205    2   \n",
       "\n",
       "                                        experiment_name  \\\n",
       "79    0000_optim.args_.weight_decay_0__optim.args_.b...   \n",
       "159   0000_optim.args_.weight_decay_0__optim.args_.b...   \n",
       "239   0000_optim.args_.weight_decay_0__optim.args_.b...   \n",
       "319   0001_optim.args_.weight_decay_0__optim.args_.b...   \n",
       "399   0001_optim.args_.weight_decay_0__optim.args_.b...   \n",
       "479   0001_optim.args_.weight_decay_0__optim.args_.b...   \n",
       "559   0002_optim.args_.weight_decay_0__optim.args_.b...   \n",
       "639   0002_optim.args_.weight_decay_0__optim.args_.b...   \n",
       "719   0002_optim.args_.weight_decay_0__optim.args_.b...   \n",
       "799   0003_optim.args_.weight_decay_0.001__optim.arg...   \n",
       "879   0003_optim.args_.weight_decay_0.001__optim.arg...   \n",
       "959   0003_optim.args_.weight_decay_0.001__optim.arg...   \n",
       "1039  0004_optim.args_.weight_decay_0.001__optim.arg...   \n",
       "1119  0004_optim.args_.weight_decay_0.001__optim.arg...   \n",
       "1199  0004_optim.args_.weight_decay_0.001__optim.arg...   \n",
       "1279  0005_optim.args_.weight_decay_0.001__optim.arg...   \n",
       "1359  0005_optim.args_.weight_decay_0.001__optim.arg...   \n",
       "1439  0005_optim.args_.weight_decay_0.001__optim.arg...   \n",
       "\n",
       "                                    sub_experiment_path  \\\n",
       "79    d:\\Work\\repos\\RL\\phd-rl-algos\\dqn\\opinion_dyna...   \n",
       "159   d:\\Work\\repos\\RL\\phd-rl-algos\\dqn\\opinion_dyna...   \n",
       "239   d:\\Work\\repos\\RL\\phd-rl-algos\\dqn\\opinion_dyna...   \n",
       "319   d:\\Work\\repos\\RL\\phd-rl-algos\\dqn\\opinion_dyna...   \n",
       "399   d:\\Work\\repos\\RL\\phd-rl-algos\\dqn\\opinion_dyna...   \n",
       "479   d:\\Work\\repos\\RL\\phd-rl-algos\\dqn\\opinion_dyna...   \n",
       "559   d:\\Work\\repos\\RL\\phd-rl-algos\\dqn\\opinion_dyna...   \n",
       "639   d:\\Work\\repos\\RL\\phd-rl-algos\\dqn\\opinion_dyna...   \n",
       "719   d:\\Work\\repos\\RL\\phd-rl-algos\\dqn\\opinion_dyna...   \n",
       "799   d:\\Work\\repos\\RL\\phd-rl-algos\\dqn\\opinion_dyna...   \n",
       "879   d:\\Work\\repos\\RL\\phd-rl-algos\\dqn\\opinion_dyna...   \n",
       "959   d:\\Work\\repos\\RL\\phd-rl-algos\\dqn\\opinion_dyna...   \n",
       "1039  d:\\Work\\repos\\RL\\phd-rl-algos\\dqn\\opinion_dyna...   \n",
       "1119  d:\\Work\\repos\\RL\\phd-rl-algos\\dqn\\opinion_dyna...   \n",
       "1199  d:\\Work\\repos\\RL\\phd-rl-algos\\dqn\\opinion_dyna...   \n",
       "1279  d:\\Work\\repos\\RL\\phd-rl-algos\\dqn\\opinion_dyna...   \n",
       "1359  d:\\Work\\repos\\RL\\phd-rl-algos\\dqn\\opinion_dyna...   \n",
       "1439  d:\\Work\\repos\\RL\\phd-rl-algos\\dqn\\opinion_dyna...   \n",
       "\n",
       "     sub_exp_cfg_optim.args_.weight_decay sub_exp_cfg_optim.args_.betas  \\\n",
       "79                                      0                  [0.9, 0.999]   \n",
       "159                                     0                  [0.9, 0.999]   \n",
       "239                                     0                  [0.9, 0.999]   \n",
       "319                                     0                   [0.95, 0.9]   \n",
       "399                                     0                   [0.95, 0.9]   \n",
       "479                                     0                   [0.95, 0.9]   \n",
       "559                                     0                  [0.5, 0.999]   \n",
       "639                                     0                  [0.5, 0.999]   \n",
       "719                                     0                  [0.5, 0.999]   \n",
       "799                                 0.001                  [0.9, 0.999]   \n",
       "879                                 0.001                  [0.9, 0.999]   \n",
       "959                                 0.001                  [0.9, 0.999]   \n",
       "1039                                0.001                   [0.95, 0.9]   \n",
       "1119                                0.001                   [0.95, 0.9]   \n",
       "1199                                0.001                   [0.95, 0.9]   \n",
       "1279                                0.001                  [0.5, 0.999]   \n",
       "1359                                0.001                  [0.5, 0.999]   \n",
       "1439                                0.001                  [0.5, 0.999]   \n",
       "\n",
       "     sub_exp_cfg_optim.args_.lr  \n",
       "79                        1e-05  \n",
       "159                       1e-05  \n",
       "239                       1e-05  \n",
       "319                       1e-05  \n",
       "399                       1e-05  \n",
       "479                       1e-05  \n",
       "559                       1e-05  \n",
       "639                       1e-05  \n",
       "719                       1e-05  \n",
       "799                       1e-05  \n",
       "879                       1e-05  \n",
       "959                       1e-05  \n",
       "1039                      1e-05  \n",
       "1119                      1e-05  \n",
       "1199                      1e-05  \n",
       "1279                      1e-05  \n",
       "1359                      1e-05  \n",
       "1439                      1e-05  "
      ]
     },
     "execution_count": 50,
     "metadata": {},
     "output_type": "execute_result"
    }
   ],
   "source": [
    "### Select data\n",
    "\n",
    "experiment_columns = [\n",
    "    'epoch_type', 'frame_stamp',\n",
    "    'episode_rewards_mean', 'episode_frames_mean', \n",
    "    'episode_discounted_rewards_mean',\n",
    "    'policy_trained_times', 'target_trained_times', 'epoch_time', \n",
    "       'seed', 'experiment_name', \"sub_experiment_path\"\n",
    "]\n",
    "hyperparam_columns = [\n",
    "   col for col in df.columns if \"sub_exp_cfg\" in col\n",
    "]\n",
    "\n",
    "cols_of_interest = experiment_columns + hyperparam_columns\n",
    "\n",
    "sub_df = df[cols_of_interest]\n",
    "sub_df = sub_df[sub_df['epoch_type'] == 'validation']\n",
    "sub_df = sub_df[sub_df['frame_stamp'] == sub_df['frame_stamp'].max()]\n",
    "\n",
    "sub_df \n"
   ]
  },
  {
   "cell_type": "code",
   "execution_count": 51,
   "metadata": {},
   "outputs": [],
   "source": [
    "# agg_cols = [col for col in sub_df.columns if \"sub_exp_cfg_agent_params\" in col]\n",
    "# aggregated_df = (\n",
    "#     sub_df.groupby(agg_cols)\n",
    "#     .agg(episode_discounted_rewards_mean=(\"episode_discounted_rewards_mean\", \"mean\"))\n",
    "#     .reset_index()\n",
    "# )\n",
    "# aggregated_df"
   ]
  },
  {
   "cell_type": "code",
   "execution_count": 52,
   "metadata": {},
   "outputs": [
    {
     "data": {
      "text/plain": [
       "Index(['epoch_type', 'frame_stamp', 'episode_rewards_mean',\n",
       "       'episode_frames_mean', 'episode_discounted_rewards_mean',\n",
       "       'policy_trained_times', 'target_trained_times', 'epoch_time', 'seed',\n",
       "       'experiment_name', 'sub_experiment_path',\n",
       "       'sub_exp_cfg_optim.args_.weight_decay', 'sub_exp_cfg_optim.args_.betas',\n",
       "       'sub_exp_cfg_optim.args_.lr'],\n",
       "      dtype='object')"
      ]
     },
     "execution_count": 52,
     "metadata": {},
     "output_type": "execute_result"
    }
   ],
   "source": [
    "sub_df.columns"
   ]
  },
  {
   "cell_type": "code",
   "execution_count": 53,
   "metadata": {},
   "outputs": [
    {
     "name": "stdout",
     "output_type": "stream",
     "text": [
      "d:\\Work\\repos\\RL\\phd-rl-algos\\dqn\\opinion_dynamics\\experiments\\results\\2025Jun23-095316_configs\\0002_optim.args_.weight_decay_0__optim.args_.betas__0.5__0.999___optim.args_.lr_1e-05\\2\n"
     ]
    }
   ],
   "source": [
    "print(sub_df[sub_df['episode_rewards_mean'] == sub_df['episode_rewards_mean'].max()]['sub_experiment_path'].values[0])\n",
    "\n"
   ]
  },
  {
   "cell_type": "code",
   "execution_count": 54,
   "metadata": {},
   "outputs": [
    {
     "data": {
      "image/png": "[encoded data removed]",
      "text/plain": [
       "<Figure size 1000x600 with 1 Axes>"
      ]
     },
     "metadata": {},
     "output_type": "display_data"
    }
   ],
   "source": [
    "selected_metric = 'episode_discounted_rewards_mean'\n",
    "hue_col = \"experiment_name\"\n",
    "\n",
    "# Filter for training data only\n",
    "training_df = df[df['epoch_type'] == 'training']\n",
    "# training_df = df[df['epoch_type'] == 'validation']\n",
    "\n",
    "# Step 1: Find best experiment\n",
    "experiment_means = training_df.groupby(hue_col)[selected_metric].mean()\n",
    "best_experiment = experiment_means.idxmax()\n",
    "\n",
    "# Step 2: Filter to that experiment\n",
    "best_exp_df = training_df[training_df[hue_col] == best_experiment]\n",
    "\n",
    "# Step 3: Find best seed within best experiment\n",
    "best_seed = (\n",
    "    best_exp_df.groupby('seed')[selected_metric]\n",
    "    .mean()\n",
    "    .idxmax()\n",
    ")\n",
    "\n",
    "# Step 4: Filter to best seed\n",
    "best_seed_df = best_exp_df[best_exp_df['seed'] == best_seed]\n",
    "\n",
    "# Step 5: Plot\n",
    "plt.figure(figsize=(10, 6))\n",
    "sns.lineplot(\n",
    "    data=best_seed_df,\n",
    "    x='frame_stamp',\n",
    "    y=selected_metric,\n",
    "    lw=2,\n",
    "    label=f\"Seed {best_seed}\"\n",
    ")\n",
    "\n",
    "plt.title(f\"Best seed ({best_seed}) from best experiment: {best_experiment}\")\n",
    "plt.ylabel(selected_metric)\n",
    "plt.xlabel('Frame Stamp')\n",
    "plt.legend()\n",
    "plt.tight_layout()\n",
    "plt.show()"
   ]
  },
  {
   "cell_type": "code",
   "execution_count": 55,
   "metadata": {},
   "outputs": [
    {
     "data": {
      "image/png": "[encoded data removed]",
      "text/plain": [
       "<Figure size 800x270 with 2 Axes>"
      ]
     },
     "metadata": {},
     "output_type": "display_data"
    }
   ],
   "source": [
    "import shap\n",
    "import xgboost\n",
    "import pandas as pd\n",
    "\n",
    "\n",
    "# Define the target metric and hyperparameter columns\n",
    "target_metric = \"episode_rewards_mean\"  # Replace with actual metric column name\n",
    "# Replace with actual hyperparameter column names\n",
    "\n",
    "# Prepare data\n",
    "X = sub_df[hyperparam_columns].apply(pd.to_numeric, errors='coerce')\n",
    "y = sub_df[target_metric].fillna(3 * sub_df[target_metric].min())\n",
    "\n",
    "# Train an XGBoost model to analyze feature importance\n",
    "model = xgboost.XGBRegressor(objective=\"reg:squarederror\", n_estimators=100, random_state=42)\n",
    "model.fit(X, y)\n",
    "\n",
    "# SHAP analysis\n",
    "explainer = shap.Explainer(model)\n",
    "shap_values = explainer(X)\n",
    "\n",
    "# Summary plot (feature importance)\n",
    "shap.summary_plot(shap_values, X)"
   ]
  },
  {
   "cell_type": "code",
   "execution_count": 56,
   "metadata": {},
   "outputs": [
    {
     "data": {
      "text/plain": [
       "['sub_exp_cfg_optim.args_.weight_decay',\n",
       " 'sub_exp_cfg_optim.args_.betas',\n",
       " 'sub_exp_cfg_optim.args_.lr']"
      ]
     },
     "execution_count": 56,
     "metadata": {},
     "output_type": "execute_result"
    }
   ],
   "source": [
    "hyperparam_columns"
   ]
  },
  {
   "cell_type": "code",
   "execution_count": 57,
   "metadata": {},
   "outputs": [
    {
     "data": {
      "application/vnd.plotly.v1+json": {
       "config": {
        "plotlyServerURL": "https://plot.ly"
       },
       "data": [
        {
         "hovertemplate": "experiment_name=0000_optim.args_.weight_decay_0__optim.args_.betas__0.9__0.999___optim.args_.lr_1e-05<br>size=[0.9, 0.999]<br>noise=%{x}<br>episode_rewards_mean=%{y}<extra></extra>",
         "legendgroup": "0000_optim.args_.weight_decay_0__optim.args_.betas__0.9__0.999___optim.args_.lr_1e-05",
         "marker": {
          "color": "#636efa",
          "symbol": "circle"
         },
         "mode": "markers",
         "name": "0000_optim.args_.weight_decay_0__optim.args_.betas__0.9__0.999___optim.args_.lr_1e-05",
         "orientation": "v",
         "showlegend": true,
         "type": "scatter",
         "x": [
          "0",
          "0",
          "0"
         ],
         "xaxis": "x",
         "y": [
          -7.916939691658861,
          -8.331370212805998,
          -7.957895131414677
         ],
         "yaxis": "y"
        },
        {
         "hovertemplate": "experiment_name=0001_optim.args_.weight_decay_0__optim.args_.betas__0.95__0.9___optim.args_.lr_1e-05<br>size=[0.95, 0.9]<br>noise=%{x}<br>episode_rewards_mean=%{y}<extra></extra>",
         "legendgroup": "0001_optim.args_.weight_decay_0__optim.args_.betas__0.95__0.9___optim.args_.lr_1e-05",
         "marker": {
          "color": "#EF553B",
          "symbol": "circle"
         },
         "mode": "markers",
         "name": "0001_optim.args_.weight_decay_0__optim.args_.betas__0.95__0.9___optim.args_.lr_1e-05",
         "orientation": "v",
         "showlegend": true,
         "type": "scatter",
         "x": [
          "0",
          "0",
          "0"
         ],
         "xaxis": "x2",
         "y": [
          -8.11063416737359,
          -8.231201722580293,
          -7.952939013319631
         ],
         "yaxis": "y2"
        },
        {
         "hovertemplate": "experiment_name=0002_optim.args_.weight_decay_0__optim.args_.betas__0.5__0.999___optim.args_.lr_1e-05<br>size=[0.5, 0.999]<br>noise=%{x}<br>episode_rewards_mean=%{y}<extra></extra>",
         "legendgroup": "0002_optim.args_.weight_decay_0__optim.args_.betas__0.5__0.999___optim.args_.lr_1e-05",
         "marker": {
          "color": "#00cc96",
          "symbol": "circle"
         },
         "mode": "markers",
         "name": "0002_optim.args_.weight_decay_0__optim.args_.betas__0.5__0.999___optim.args_.lr_1e-05",
         "orientation": "v",
         "showlegend": true,
         "type": "scatter",
         "x": [
          "0",
          "0",
          "0"
         ],
         "xaxis": "x3",
         "y": [
          -7.869754779544548,
          -8.22566662818888,
          -7.839555539386509
         ],
         "yaxis": "y3"
        },
        {
         "hovertemplate": "experiment_name=0003_optim.args_.weight_decay_0.001__optim.args_.betas__0.9__0.999___optim.args_.lr_1e-05<br>size=[0.9, 0.999]<br>noise=%{x}<br>episode_rewards_mean=%{y}<extra></extra>",
         "legendgroup": "0003_optim.args_.weight_decay_0.001__optim.args_.betas__0.9__0.999___optim.args_.lr_1e-05",
         "marker": {
          "color": "#ab63fa",
          "symbol": "circle"
         },
         "mode": "markers",
         "name": "0003_optim.args_.weight_decay_0.001__optim.args_.betas__0.9__0.999___optim.args_.lr_1e-05",
         "orientation": "v",
         "showlegend": true,
         "type": "scatter",
         "x": [
          "0.001",
          "0.001",
          "0.001"
         ],
         "xaxis": "x",
         "y": [
          -8.061466216085613,
          -8.371787260428762,
          -8.082365493707663
         ],
         "yaxis": "y"
        },
        {
         "hovertemplate": "experiment_name=0004_optim.args_.weight_decay_0.001__optim.args_.betas__0.95__0.9___optim.args_.lr_1e-05<br>size=[0.95, 0.9]<br>noise=%{x}<br>episode_rewards_mean=%{y}<extra></extra>",
         "legendgroup": "0004_optim.args_.weight_decay_0.001__optim.args_.betas__0.95__0.9___optim.args_.lr_1e-05",
         "marker": {
          "color": "#FFA15A",
          "symbol": "circle"
         },
         "mode": "markers",
         "name": "0004_optim.args_.weight_decay_0.001__optim.args_.betas__0.95__0.9___optim.args_.lr_1e-05",
         "orientation": "v",
         "showlegend": true,
         "type": "scatter",
         "x": [
          "0.001",
          "0.001",
          "0.001"
         ],
         "xaxis": "x2",
         "y": [
          -8.055606103919082,
          -8.362087351198744,
          -8.089115065643679
         ],
         "yaxis": "y2"
        },
        {
         "hovertemplate": "experiment_name=0005_optim.args_.weight_decay_0.001__optim.args_.betas__0.5__0.999___optim.args_.lr_1e-05<br>size=[0.5, 0.999]<br>noise=%{x}<br>episode_rewards_mean=%{y}<extra></extra>",
         "legendgroup": "0005_optim.args_.weight_decay_0.001__optim.args_.betas__0.5__0.999___optim.args_.lr_1e-05",
         "marker": {
          "color": "#19d3f3",
          "symbol": "circle"
         },
         "mode": "markers",
         "name": "0005_optim.args_.weight_decay_0.001__optim.args_.betas__0.5__0.999___optim.args_.lr_1e-05",
         "orientation": "v",
         "showlegend": true,
         "type": "scatter",
         "x": [
          "0.001",
          "0.001",
          "0.001"
         ],
         "xaxis": "x3",
         "y": [
          -8.056287175892834,
          -8.363780575521687,
          -8.080862659129926
         ],
         "yaxis": "y3"
        }
       ],
       "layout": {
        "annotations": [
         {
          "font": {},
          "showarrow": false,
          "text": "size=[0.9, 0.999]",
          "x": 0.15999999999999998,
          "xanchor": "center",
          "xref": "paper",
          "y": 1,
          "yanchor": "bottom",
          "yref": "paper"
         },
         {
          "font": {},
          "showarrow": false,
          "text": "size=[0.95, 0.9]",
          "x": 0.49999999999999994,
          "xanchor": "center",
          "xref": "paper",
          "y": 1,
          "yanchor": "bottom",
          "yref": "paper"
         },
         {
          "font": {},
          "showarrow": false,
          "text": "size=[0.5, 0.999]",
          "x": 0.8399999999999999,
          "xanchor": "center",
          "xref": "paper",
          "y": 1,
          "yanchor": "bottom",
          "yref": "paper"
         }
        ],
        "height": 600,
        "legend": {
         "title": {
          "text": "experiment_name"
         },
         "tracegroupgap": 0
        },
        "showlegend": false,
        "template": {
         "data": {
          "bar": [
           {
            "error_x": {
             "color": "#2a3f5f"
            },
            "error_y": {
             "color": "#2a3f5f"
            },
            "marker": {
             "line": {
              "color": "#E5ECF6",
              "width": 0.5
             },
             "pattern": {
              "fillmode": "overlay",
              "size": 10,
              "solidity": 0.2
             }
            },
            "type": "bar"
           }
          ],
          "barpolar": [
           {
            "marker": {
             "line": {
              "color": "#E5ECF6",
              "width": 0.5
             },
             "pattern": {
              "fillmode": "overlay",
              "size": 10,
              "solidity": 0.2
             }
            },
            "type": "barpolar"
           }
          ],
          "carpet": [
           {
            "aaxis": {
             "endlinecolor": "#2a3f5f",
             "gridcolor": "white",
             "linecolor": "white",
             "minorgridcolor": "white",
             "startlinecolor": "#2a3f5f"
            },
            "baxis": {
             "endlinecolor": "#2a3f5f",
             "gridcolor": "white",
             "linecolor": "white",
             "minorgridcolor": "white",
             "startlinecolor": "#2a3f5f"
            },
            "type": "carpet"
           }
          ],
          "choropleth": [
           {
            "colorbar": {
             "outlinewidth": 0,
             "ticks": ""
            },
            "type": "choropleth"
           }
          ],
          "contour": [
           {
            "colorbar": {
             "outlinewidth": 0,
             "ticks": ""
            },
            "colorscale": [
             [
              0,
              "#0d0887"
             ],
             [
              0.1111111111111111,
              "#46039f"
             ],
             [
              0.2222222222222222,
              "#7201a8"
             ],
             [
              0.3333333333333333,
              "#9c179e"
             ],
             [
              0.4444444444444444,
              "#bd3786"
             ],
             [
              0.5555555555555556,
              "#d8576b"
             ],
             [
              0.6666666666666666,
              "#ed7953"
             ],
             [
              0.7777777777777778,
              "#fb9f3a"
             ],
             [
              0.8888888888888888,
              "#fdca26"
             ],
             [
              1,
              "#f0f921"
             ]
            ],
            "type": "contour"
           }
          ],
          "contourcarpet": [
           {
            "colorbar": {
             "outlinewidth": 0,
             "ticks": ""
            },
            "type": "contourcarpet"
           }
          ],
          "heatmap": [
           {
            "colorbar": {
             "outlinewidth": 0,
             "ticks": ""
            },
            "colorscale": [
             [
              0,
              "#0d0887"
             ],
             [
              0.1111111111111111,
              "#46039f"
             ],
             [
              0.2222222222222222,
              "#7201a8"
             ],
             [
              0.3333333333333333,
              "#9c179e"
             ],
             [
              0.4444444444444444,
              "#bd3786"
             ],
             [
              0.5555555555555556,
              "#d8576b"
             ],
             [
              0.6666666666666666,
              "#ed7953"
             ],
             [
              0.7777777777777778,
              "#fb9f3a"
             ],
             [
              0.8888888888888888,
              "#fdca26"
             ],
             [
              1,
              "#f0f921"
             ]
            ],
            "type": "heatmap"
           }
          ],
          "heatmapgl": [
           {
            "colorbar": {
             "outlinewidth": 0,
             "ticks": ""
            },
            "colorscale": [
             [
              0,
              "#0d0887"
             ],
             [
              0.1111111111111111,
              "#46039f"
             ],
             [
              0.2222222222222222,
              "#7201a8"
             ],
             [
              0.3333333333333333,
              "#9c179e"
             ],
             [
              0.4444444444444444,
              "#bd3786"
             ],
             [
              0.5555555555555556,
              "#d8576b"
             ],
             [
              0.6666666666666666,
              "#ed7953"
             ],
             [
              0.7777777777777778,
              "#fb9f3a"
             ],
             [
              0.8888888888888888,
              "#fdca26"
             ],
             [
              1,
              "#f0f921"
             ]
            ],
            "type": "heatmapgl"
           }
          ],
          "histogram": [
           {
            "marker": {
             "pattern": {
              "fillmode": "overlay",
              "size": 10,
              "solidity": 0.2
             }
            },
            "type": "histogram"
           }
          ],
          "histogram2d": [
           {
            "colorbar": {
             "outlinewidth": 0,
             "ticks": ""
            },
            "colorscale": [
             [
              0,
              "#0d0887"
             ],
             [
              0.1111111111111111,
              "#46039f"
             ],
             [
              0.2222222222222222,
              "#7201a8"
             ],
             [
              0.3333333333333333,
              "#9c179e"
             ],
             [
              0.4444444444444444,
              "#bd3786"
             ],
             [
              0.5555555555555556,
              "#d8576b"
             ],
             [
              0.6666666666666666,
              "#ed7953"
             ],
             [
              0.7777777777777778,
              "#fb9f3a"
             ],
             [
              0.8888888888888888,
              "#fdca26"
             ],
             [
              1,
              "#f0f921"
             ]
            ],
            "type": "histogram2d"
           }
          ],
          "histogram2dcontour": [
           {
            "colorbar": {
             "outlinewidth": 0,
             "ticks": ""
            },
            "colorscale": [
             [
              0,
              "#0d0887"
             ],
             [
              0.1111111111111111,
              "#46039f"
             ],
             [
              0.2222222222222222,
              "#7201a8"
             ],
             [
              0.3333333333333333,
              "#9c179e"
             ],
             [
              0.4444444444444444,
              "#bd3786"
             ],
             [
              0.5555555555555556,
              "#d8576b"
             ],
             [
              0.6666666666666666,
              "#ed7953"
             ],
             [
              0.7777777777777778,
              "#fb9f3a"
             ],
             [
              0.8888888888888888,
              "#fdca26"
             ],
             [
              1,
              "#f0f921"
             ]
            ],
            "type": "histogram2dcontour"
           }
          ],
          "mesh3d": [
           {
            "colorbar": {
             "outlinewidth": 0,
             "ticks": ""
            },
            "type": "mesh3d"
           }
          ],
          "parcoords": [
           {
            "line": {
             "colorbar": {
              "outlinewidth": 0,
              "ticks": ""
             }
            },
            "type": "parcoords"
           }
          ],
          "pie": [
           {
            "automargin": true,
            "type": "pie"
           }
          ],
          "scatter": [
           {
            "fillpattern": {
             "fillmode": "overlay",
             "size": 10,
             "solidity": 0.2
            },
            "type": "scatter"
           }
          ],
          "scatter3d": [
           {
            "line": {
             "colorbar": {
              "outlinewidth": 0,
              "ticks": ""
             }
            },
            "marker": {
             "colorbar": {
              "outlinewidth": 0,
              "ticks": ""
             }
            },
            "type": "scatter3d"
           }
          ],
          "scattercarpet": [
           {
            "marker": {
             "colorbar": {
              "outlinewidth": 0,
              "ticks": ""
             }
            },
            "type": "scattercarpet"
           }
          ],
          "scattergeo": [
           {
            "marker": {
             "colorbar": {
              "outlinewidth": 0,
              "ticks": ""
             }
            },
            "type": "scattergeo"
           }
          ],
          "scattergl": [
           {
            "marker": {
             "colorbar": {
              "outlinewidth": 0,
              "ticks": ""
             }
            },
            "type": "scattergl"
           }
          ],
          "scattermapbox": [
           {
            "marker": {
             "colorbar": {
              "outlinewidth": 0,
              "ticks": ""
             }
            },
            "type": "scattermapbox"
           }
          ],
          "scatterpolar": [
           {
            "marker": {
             "colorbar": {
              "outlinewidth": 0,
              "ticks": ""
             }
            },
            "type": "scatterpolar"
           }
          ],
          "scatterpolargl": [
           {
            "marker": {
             "colorbar": {
              "outlinewidth": 0,
              "ticks": ""
             }
            },
            "type": "scatterpolargl"
           }
          ],
          "scatterternary": [
           {
            "marker": {
             "colorbar": {
              "outlinewidth": 0,
              "ticks": ""
             }
            },
            "type": "scatterternary"
           }
          ],
          "surface": [
           {
            "colorbar": {
             "outlinewidth": 0,
             "ticks": ""
            },
            "colorscale": [
             [
              0,
              "#0d0887"
             ],
             [
              0.1111111111111111,
              "#46039f"
             ],
             [
              0.2222222222222222,
              "#7201a8"
             ],
             [
              0.3333333333333333,
              "#9c179e"
             ],
             [
              0.4444444444444444,
              "#bd3786"
             ],
             [
              0.5555555555555556,
              "#d8576b"
             ],
             [
              0.6666666666666666,
              "#ed7953"
             ],
             [
              0.7777777777777778,
              "#fb9f3a"
             ],
             [
              0.8888888888888888,
              "#fdca26"
             ],
             [
              1,
              "#f0f921"
             ]
            ],
            "type": "surface"
           }
          ],
          "table": [
           {
            "cells": {
             "fill": {
              "color": "#EBF0F8"
             },
             "line": {
              "color": "white"
             }
            },
            "header": {
             "fill": {
              "color": "#C8D4E3"
             },
             "line": {
              "color": "white"
             }
            },
            "type": "table"
           }
          ]
         },
         "layout": {
          "annotationdefaults": {
           "arrowcolor": "#2a3f5f",
           "arrowhead": 0,
           "arrowwidth": 1
          },
          "autotypenumbers": "strict",
          "coloraxis": {
           "colorbar": {
            "outlinewidth": 0,
            "ticks": ""
           }
          },
          "colorscale": {
           "diverging": [
            [
             0,
             "#8e0152"
            ],
            [
             0.1,
             "#c51b7d"
            ],
            [
             0.2,
             "#de77ae"
            ],
            [
             0.3,
             "#f1b6da"
            ],
            [
             0.4,
             "#fde0ef"
            ],
            [
             0.5,
             "#f7f7f7"
            ],
            [
             0.6,
             "#e6f5d0"
            ],
            [
             0.7,
             "#b8e186"
            ],
            [
             0.8,
             "#7fbc41"
            ],
            [
             0.9,
             "#4d9221"
            ],
            [
             1,
             "#276419"
            ]
           ],
           "sequential": [
            [
             0,
             "#0d0887"
            ],
            [
             0.1111111111111111,
             "#46039f"
            ],
            [
             0.2222222222222222,
             "#7201a8"
            ],
            [
             0.3333333333333333,
             "#9c179e"
            ],
            [
             0.4444444444444444,
             "#bd3786"
            ],
            [
             0.5555555555555556,
             "#d8576b"
            ],
            [
             0.6666666666666666,
             "#ed7953"
            ],
            [
             0.7777777777777778,
             "#fb9f3a"
            ],
            [
             0.8888888888888888,
             "#fdca26"
            ],
            [
             1,
             "#f0f921"
            ]
           ],
           "sequentialminus": [
            [
             0,
             "#0d0887"
            ],
            [
             0.1111111111111111,
             "#46039f"
            ],
            [
             0.2222222222222222,
             "#7201a8"
            ],
            [
             0.3333333333333333,
             "#9c179e"
            ],
            [
             0.4444444444444444,
             "#bd3786"
            ],
            [
             0.5555555555555556,
             "#d8576b"
            ],
            [
             0.6666666666666666,
             "#ed7953"
            ],
            [
             0.7777777777777778,
             "#fb9f3a"
            ],
            [
             0.8888888888888888,
             "#fdca26"
            ],
            [
             1,
             "#f0f921"
            ]
           ]
          },
          "colorway": [
           "#636efa",
           "#EF553B",
           "#00cc96",
           "#ab63fa",
           "#FFA15A",
           "#19d3f3",
           "#FF6692",
           "#B6E880",
           "#FF97FF",
           "#FECB52"
          ],
          "font": {
           "color": "#2a3f5f"
          },
          "geo": {
           "bgcolor": "white",
           "lakecolor": "white",
           "landcolor": "#E5ECF6",
           "showlakes": true,
           "showland": true,
           "subunitcolor": "white"
          },
          "hoverlabel": {
           "align": "left"
          },
          "hovermode": "closest",
          "mapbox": {
           "style": "light"
          },
          "paper_bgcolor": "white",
          "plot_bgcolor": "#E5ECF6",
          "polar": {
           "angularaxis": {
            "gridcolor": "white",
            "linecolor": "white",
            "ticks": ""
           },
           "bgcolor": "#E5ECF6",
           "radialaxis": {
            "gridcolor": "white",
            "linecolor": "white",
            "ticks": ""
           }
          },
          "scene": {
           "xaxis": {
            "backgroundcolor": "#E5ECF6",
            "gridcolor": "white",
            "gridwidth": 2,
            "linecolor": "white",
            "showbackground": true,
            "ticks": "",
            "zerolinecolor": "white"
           },
           "yaxis": {
            "backgroundcolor": "#E5ECF6",
            "gridcolor": "white",
            "gridwidth": 2,
            "linecolor": "white",
            "showbackground": true,
            "ticks": "",
            "zerolinecolor": "white"
           },
           "zaxis": {
            "backgroundcolor": "#E5ECF6",
            "gridcolor": "white",
            "gridwidth": 2,
            "linecolor": "white",
            "showbackground": true,
            "ticks": "",
            "zerolinecolor": "white"
           }
          },
          "shapedefaults": {
           "line": {
            "color": "#2a3f5f"
           }
          },
          "ternary": {
           "aaxis": {
            "gridcolor": "white",
            "linecolor": "white",
            "ticks": ""
           },
           "baxis": {
            "gridcolor": "white",
            "linecolor": "white",
            "ticks": ""
           },
           "bgcolor": "#E5ECF6",
           "caxis": {
            "gridcolor": "white",
            "linecolor": "white",
            "ticks": ""
           }
          },
          "title": {
           "x": 0.05
          },
          "xaxis": {
           "automargin": true,
           "gridcolor": "white",
           "linecolor": "white",
           "ticks": "",
           "title": {
            "standoff": 15
           },
           "zerolinecolor": "white",
           "zerolinewidth": 2
          },
          "yaxis": {
           "automargin": true,
           "gridcolor": "white",
           "linecolor": "white",
           "ticks": "",
           "title": {
            "standoff": 15
           },
           "zerolinecolor": "white",
           "zerolinewidth": 2
          }
         }
        },
        "title": {
         "text": "Episode Rewards vs. Noise Faceted by Size"
        },
        "xaxis": {
         "anchor": "y",
         "domain": [
          0,
          0.31999999999999995
         ],
         "title": {
          "text": "noise"
         }
        },
        "xaxis2": {
         "anchor": "y2",
         "domain": [
          0.33999999999999997,
          0.6599999999999999
         ],
         "matches": "x",
         "title": {
          "text": "noise"
         }
        },
        "xaxis3": {
         "anchor": "y3",
         "domain": [
          0.6799999999999999,
          0.9999999999999999
         ],
         "matches": "x",
         "title": {
          "text": "noise"
         }
        },
        "yaxis": {
         "anchor": "x",
         "domain": [
          0,
          1
         ],
         "title": {
          "text": "episode_rewards_mean"
         }
        },
        "yaxis2": {
         "anchor": "x2",
         "domain": [
          0,
          1
         ],
         "matches": "y",
         "showticklabels": false
        },
        "yaxis3": {
         "anchor": "x3",
         "domain": [
          0,
          1
         ],
         "matches": "y",
         "showticklabels": false
        }
       }
      }
     },
     "metadata": {},
     "output_type": "display_data"
    }
   ],
   "source": [
    "import plotly.express as px\n",
    "\n",
    "# Define readable names for selected hyperparams\n",
    "readable_names = {\n",
    "    hyperparam_columns[0]: \"noise\",\n",
    "    hyperparam_columns[1]: \"size\"\n",
    "}\n",
    "\n",
    "# Rename columns in a copy of the dataframe\n",
    "plot_df = sub_df.rename(columns=readable_names)\n",
    "\n",
    "# Assign new column names\n",
    "x_col = \"noise\"\n",
    "y_col = \"episode_rewards_mean\"\n",
    "facet_col = \"size\"\n",
    "\n",
    "# Plot\n",
    "fig = px.scatter(\n",
    "    plot_df,\n",
    "    x=x_col,\n",
    "    y=y_col,\n",
    "    color=\"experiment_name\",  # Optional: color by experiment\n",
    "    facet_col=facet_col,\n",
    "    title=\"Episode Rewards vs. Noise Faceted by Size\",\n",
    "    height=600\n",
    ")\n",
    "\n",
    "fig.update_layout(showlegend=False)\n",
    "fig.show()\n"
   ]
  },
  {
   "cell_type": "code",
   "execution_count": null,
   "metadata": {},
   "outputs": [],
   "source": []
  }
 ],
 "metadata": {
  "kernelspec": {
   "display_name": "phd_rl_algos",
   "language": "python",
   "name": "python3"
  },
  "language_info": {
   "codemirror_mode": {
    "name": "ipython",
    "version": 3
   },
   "file_extension": ".py",
   "mimetype": "text/x-python",
   "name": "python",
   "nbconvert_exporter": "python",
   "pygments_lexer": "ipython3",
   "version": "3.11.5"
  }
 },
 "nbformat": 4,
 "nbformat_minor": 2
}
