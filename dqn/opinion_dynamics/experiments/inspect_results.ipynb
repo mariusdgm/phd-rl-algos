{
 "cells": [
  {
   "cell_type": "code",
   "execution_count": 139,
   "metadata": {},
   "outputs": [],
   "source": [
    "import os, sys\n",
    "\n",
    "def get_dir_n_levels_up(path, n):\n",
    "    # Go up n levels from the given path\n",
    "    for _ in range(n):\n",
    "        path = os.path.dirname(path)\n",
    "    return path\n",
    "\n",
    "proj_root = get_dir_n_levels_up(os.path.abspath(\"__file__\"), 4)\n",
    "sys.path.append(proj_root)\n",
    "\n",
    "import pandas as pd\n",
    "import yaml\n",
    "import torch\n",
    "import collections\n",
    "\n",
    "import warnings\n",
    "import numpy as np\n",
    "\n",
    "import seaborn as sns\n",
    "import matplotlib.pyplot as plt\n",
    "sns.set_theme()\n",
    "\n",
    "warnings.filterwarnings(\"ignore\")\n",
    "\n",
    "from dqn.opinion_dynamics.utils.experiment import process_experiment\n"
   ]
  },
  {
   "cell_type": "code",
   "execution_count": 140,
   "metadata": {},
   "outputs": [
    {
     "data": {
      "text/plain": [
       "Index(['epoch_type', 'frame_stamp', 'greedy_epsilon', 'episode_rewards_min',\n",
       "       'episode_rewards_max', 'episode_rewards_mean', 'episode_rewards_median',\n",
       "       'episode_rewards_std', 'episode_discounted_rewards_min',\n",
       "       'episode_discounted_rewards_max', 'episode_discounted_rewards_mean',\n",
       "       'episode_discounted_rewards_median', 'episode_discounted_rewards_std',\n",
       "       'episode_frames_min', 'episode_frames_max', 'episode_frames_mean',\n",
       "       'episode_frames_median', 'episode_frames_std', 'episode_losses_min',\n",
       "       'episode_losses_max', 'episode_losses_mean', 'episode_losses_median',\n",
       "       'episode_losses_std', 'episode_max_qs_min', 'episode_max_qs_max',\n",
       "       'episode_max_qs_mean', 'episode_max_qs_median', 'episode_max_qs_std',\n",
       "       'policy_trained_times', 'target_trained_times', 'epoch_time',\n",
       "       'sub_exp_cfg_experiment_run_name', 'sub_experiment_path', 'seed',\n",
       "       'experiment_name'],\n",
       "      dtype='object')"
      ]
     },
     "execution_count": 140,
     "metadata": {},
     "output_type": "execute_result"
    }
   ],
   "source": [
    "# experiment_sub_dir = \"2025May02-101004_configs\" # excellent run\n",
    "experiment_sub_dir = \"2025May09-234645_configs\"\n",
    "\n",
    "exp_path = os.path.join(r\"D:\\Work\\repos\\RL\\phd-rl-algos\\dqn\\opinion_dynamics\\experiments\\results\", experiment_sub_dir)\n",
    "df = process_experiment(\n",
    "    exp_path\n",
    ")\n",
    "df.columns\n"
   ]
  },
  {
   "cell_type": "code",
   "execution_count": 141,
   "metadata": {},
   "outputs": [
    {
     "data": {
      "text/html": [
       "<div>\n",
       "<style scoped>\n",
       "    .dataframe tbody tr th:only-of-type {\n",
       "        vertical-align: middle;\n",
       "    }\n",
       "\n",
       "    .dataframe tbody tr th {\n",
       "        vertical-align: top;\n",
       "    }\n",
       "\n",
       "    .dataframe thead th {\n",
       "        text-align: right;\n",
       "    }\n",
       "</style>\n",
       "<table border=\"1\" class=\"dataframe\">\n",
       "  <thead>\n",
       "    <tr style=\"text-align: right;\">\n",
       "      <th></th>\n",
       "      <th>epoch_type</th>\n",
       "      <th>frame_stamp</th>\n",
       "      <th>greedy_epsilon</th>\n",
       "      <th>episode_rewards_min</th>\n",
       "      <th>episode_rewards_max</th>\n",
       "      <th>episode_rewards_mean</th>\n",
       "      <th>episode_rewards_median</th>\n",
       "      <th>episode_rewards_std</th>\n",
       "      <th>episode_discounted_rewards_min</th>\n",
       "      <th>episode_discounted_rewards_max</th>\n",
       "      <th>...</th>\n",
       "      <th>episode_max_qs_mean</th>\n",
       "      <th>episode_max_qs_median</th>\n",
       "      <th>episode_max_qs_std</th>\n",
       "      <th>policy_trained_times</th>\n",
       "      <th>target_trained_times</th>\n",
       "      <th>epoch_time</th>\n",
       "      <th>sub_exp_cfg_experiment_run_name</th>\n",
       "      <th>sub_experiment_path</th>\n",
       "      <th>seed</th>\n",
       "      <th>experiment_name</th>\n",
       "    </tr>\n",
       "  </thead>\n",
       "  <tbody>\n",
       "    <tr>\n",
       "      <th>0</th>\n",
       "      <td>training</td>\n",
       "      <td>200000</td>\n",
       "      <td>0.92278</td>\n",
       "      <td>-69.155647</td>\n",
       "      <td>-6.405181</td>\n",
       "      <td>-7.910285</td>\n",
       "      <td>-7.866967</td>\n",
       "      <td>0.934820</td>\n",
       "      <td>-66.653146</td>\n",
       "      <td>-4.048968</td>\n",
       "      <td>...</td>\n",
       "      <td>-1.459375e+01</td>\n",
       "      <td>-10.940558</td>\n",
       "      <td>1.486433e+01</td>\n",
       "      <td>48749.0</td>\n",
       "      <td>48.0</td>\n",
       "      <td>0 days 00:03:48.503892</td>\n",
       "      <td>best_params</td>\n",
       "      <td>D:\\Work\\repos\\RL\\phd-rl-algos\\dqn\\opinion_dyna...</td>\n",
       "      <td>0</td>\n",
       "      <td>0000_experiment_run_name_best_params</td>\n",
       "    </tr>\n",
       "    <tr>\n",
       "      <th>1</th>\n",
       "      <td>training</td>\n",
       "      <td>400000</td>\n",
       "      <td>0.84358</td>\n",
       "      <td>-56.095377</td>\n",
       "      <td>-6.762290</td>\n",
       "      <td>-8.137810</td>\n",
       "      <td>-8.134354</td>\n",
       "      <td>0.765443</td>\n",
       "      <td>-52.475346</td>\n",
       "      <td>-4.181703</td>\n",
       "      <td>...</td>\n",
       "      <td>-1.608830e+07</td>\n",
       "      <td>-19.806572</td>\n",
       "      <td>5.696571e+09</td>\n",
       "      <td>50000.0</td>\n",
       "      <td>48.0</td>\n",
       "      <td>0 days 00:03:59.819167</td>\n",
       "      <td>best_params</td>\n",
       "      <td>D:\\Work\\repos\\RL\\phd-rl-algos\\dqn\\opinion_dyna...</td>\n",
       "      <td>0</td>\n",
       "      <td>0000_experiment_run_name_best_params</td>\n",
       "    </tr>\n",
       "    <tr>\n",
       "      <th>2</th>\n",
       "      <td>training</td>\n",
       "      <td>600000</td>\n",
       "      <td>0.76438</td>\n",
       "      <td>-23.224386</td>\n",
       "      <td>-7.458478</td>\n",
       "      <td>-8.413020</td>\n",
       "      <td>-8.402650</td>\n",
       "      <td>0.378322</td>\n",
       "      <td>-19.673404</td>\n",
       "      <td>-4.213162</td>\n",
       "      <td>...</td>\n",
       "      <td>-6.515415e+02</td>\n",
       "      <td>-149.057602</td>\n",
       "      <td>4.606381e+04</td>\n",
       "      <td>50000.0</td>\n",
       "      <td>52.0</td>\n",
       "      <td>0 days 00:04:28.018839</td>\n",
       "      <td>best_params</td>\n",
       "      <td>D:\\Work\\repos\\RL\\phd-rl-algos\\dqn\\opinion_dyna...</td>\n",
       "      <td>0</td>\n",
       "      <td>0000_experiment_run_name_best_params</td>\n",
       "    </tr>\n",
       "    <tr>\n",
       "      <th>3</th>\n",
       "      <td>training</td>\n",
       "      <td>800000</td>\n",
       "      <td>0.68518</td>\n",
       "      <td>-44.854563</td>\n",
       "      <td>-7.119667</td>\n",
       "      <td>-8.222205</td>\n",
       "      <td>-8.213478</td>\n",
       "      <td>0.601166</td>\n",
       "      <td>-41.416642</td>\n",
       "      <td>-4.131783</td>\n",
       "      <td>...</td>\n",
       "      <td>-2.869978e+02</td>\n",
       "      <td>-86.049454</td>\n",
       "      <td>4.829404e+03</td>\n",
       "      <td>50000.0</td>\n",
       "      <td>48.0</td>\n",
       "      <td>0 days 00:11:39.872559</td>\n",
       "      <td>best_params</td>\n",
       "      <td>D:\\Work\\repos\\RL\\phd-rl-algos\\dqn\\opinion_dyna...</td>\n",
       "      <td>0</td>\n",
       "      <td>0000_experiment_run_name_best_params</td>\n",
       "    </tr>\n",
       "    <tr>\n",
       "      <th>4</th>\n",
       "      <td>training</td>\n",
       "      <td>1000000</td>\n",
       "      <td>0.60598</td>\n",
       "      <td>-30.634921</td>\n",
       "      <td>-6.954837</td>\n",
       "      <td>-7.999221</td>\n",
       "      <td>-8.009725</td>\n",
       "      <td>0.428104</td>\n",
       "      <td>-25.203050</td>\n",
       "      <td>-4.155456</td>\n",
       "      <td>...</td>\n",
       "      <td>-3.684950e+01</td>\n",
       "      <td>-37.587185</td>\n",
       "      <td>1.599166e+01</td>\n",
       "      <td>50000.0</td>\n",
       "      <td>52.0</td>\n",
       "      <td>0 days 00:11:41.836141</td>\n",
       "      <td>best_params</td>\n",
       "      <td>D:\\Work\\repos\\RL\\phd-rl-algos\\dqn\\opinion_dyna...</td>\n",
       "      <td>0</td>\n",
       "      <td>0000_experiment_run_name_best_params</td>\n",
       "    </tr>\n",
       "    <tr>\n",
       "      <th>...</th>\n",
       "      <td>...</td>\n",
       "      <td>...</td>\n",
       "      <td>...</td>\n",
       "      <td>...</td>\n",
       "      <td>...</td>\n",
       "      <td>...</td>\n",
       "      <td>...</td>\n",
       "      <td>...</td>\n",
       "      <td>...</td>\n",
       "      <td>...</td>\n",
       "      <td>...</td>\n",
       "      <td>...</td>\n",
       "      <td>...</td>\n",
       "      <td>...</td>\n",
       "      <td>...</td>\n",
       "      <td>...</td>\n",
       "      <td>...</td>\n",
       "      <td>...</td>\n",
       "      <td>...</td>\n",
       "      <td>...</td>\n",
       "      <td>...</td>\n",
       "    </tr>\n",
       "    <tr>\n",
       "      <th>315</th>\n",
       "      <td>validation</td>\n",
       "      <td>3200000</td>\n",
       "      <td>NaN</td>\n",
       "      <td>-10.856403</td>\n",
       "      <td>-10.846963</td>\n",
       "      <td>-10.851860</td>\n",
       "      <td>-10.852340</td>\n",
       "      <td>0.002338</td>\n",
       "      <td>-5.150033</td>\n",
       "      <td>-5.146951</td>\n",
       "      <td>...</td>\n",
       "      <td>-1.019871e+01</td>\n",
       "      <td>-10.147796</td>\n",
       "      <td>3.235077e-01</td>\n",
       "      <td>NaN</td>\n",
       "      <td>NaN</td>\n",
       "      <td>0 days 00:00:01.078231</td>\n",
       "      <td>best_params</td>\n",
       "      <td>D:\\Work\\repos\\RL\\phd-rl-algos\\dqn\\opinion_dyna...</td>\n",
       "      <td>7</td>\n",
       "      <td>0000_experiment_run_name_best_params</td>\n",
       "    </tr>\n",
       "    <tr>\n",
       "      <th>316</th>\n",
       "      <td>validation</td>\n",
       "      <td>3400000</td>\n",
       "      <td>NaN</td>\n",
       "      <td>-11.113366</td>\n",
       "      <td>-11.104708</td>\n",
       "      <td>-11.108387</td>\n",
       "      <td>-11.108642</td>\n",
       "      <td>0.002433</td>\n",
       "      <td>-5.200200</td>\n",
       "      <td>-5.196955</td>\n",
       "      <td>...</td>\n",
       "      <td>-1.193428e+01</td>\n",
       "      <td>-12.092118</td>\n",
       "      <td>1.003083e+00</td>\n",
       "      <td>NaN</td>\n",
       "      <td>NaN</td>\n",
       "      <td>0 days 00:00:01.068066</td>\n",
       "      <td>best_params</td>\n",
       "      <td>D:\\Work\\repos\\RL\\phd-rl-algos\\dqn\\opinion_dyna...</td>\n",
       "      <td>7</td>\n",
       "      <td>0000_experiment_run_name_best_params</td>\n",
       "    </tr>\n",
       "    <tr>\n",
       "      <th>317</th>\n",
       "      <td>validation</td>\n",
       "      <td>3600000</td>\n",
       "      <td>NaN</td>\n",
       "      <td>-11.161108</td>\n",
       "      <td>-11.149475</td>\n",
       "      <td>-11.157701</td>\n",
       "      <td>-11.157870</td>\n",
       "      <td>0.002310</td>\n",
       "      <td>-5.212083</td>\n",
       "      <td>-5.208570</td>\n",
       "      <td>...</td>\n",
       "      <td>-1.258894e+01</td>\n",
       "      <td>-12.817554</td>\n",
       "      <td>1.220895e+00</td>\n",
       "      <td>NaN</td>\n",
       "      <td>NaN</td>\n",
       "      <td>0 days 00:00:01.100741</td>\n",
       "      <td>best_params</td>\n",
       "      <td>D:\\Work\\repos\\RL\\phd-rl-algos\\dqn\\opinion_dyna...</td>\n",
       "      <td>7</td>\n",
       "      <td>0000_experiment_run_name_best_params</td>\n",
       "    </tr>\n",
       "    <tr>\n",
       "      <th>318</th>\n",
       "      <td>validation</td>\n",
       "      <td>3800000</td>\n",
       "      <td>NaN</td>\n",
       "      <td>-11.148073</td>\n",
       "      <td>-11.139379</td>\n",
       "      <td>-11.144004</td>\n",
       "      <td>-11.144178</td>\n",
       "      <td>0.002170</td>\n",
       "      <td>-5.203420</td>\n",
       "      <td>-5.201038</td>\n",
       "      <td>...</td>\n",
       "      <td>-1.331017e+01</td>\n",
       "      <td>-13.616071</td>\n",
       "      <td>1.173040e+00</td>\n",
       "      <td>NaN</td>\n",
       "      <td>NaN</td>\n",
       "      <td>0 days 00:00:01.048920</td>\n",
       "      <td>best_params</td>\n",
       "      <td>D:\\Work\\repos\\RL\\phd-rl-algos\\dqn\\opinion_dyna...</td>\n",
       "      <td>7</td>\n",
       "      <td>0000_experiment_run_name_best_params</td>\n",
       "    </tr>\n",
       "    <tr>\n",
       "      <th>319</th>\n",
       "      <td>validation</td>\n",
       "      <td>4000000</td>\n",
       "      <td>NaN</td>\n",
       "      <td>-11.117089</td>\n",
       "      <td>-11.106366</td>\n",
       "      <td>-11.112679</td>\n",
       "      <td>-11.112565</td>\n",
       "      <td>0.002308</td>\n",
       "      <td>-5.204581</td>\n",
       "      <td>-5.201377</td>\n",
       "      <td>...</td>\n",
       "      <td>-1.219099e+01</td>\n",
       "      <td>-12.331338</td>\n",
       "      <td>1.091824e+00</td>\n",
       "      <td>NaN</td>\n",
       "      <td>NaN</td>\n",
       "      <td>0 days 00:00:00.488535</td>\n",
       "      <td>best_params</td>\n",
       "      <td>D:\\Work\\repos\\RL\\phd-rl-algos\\dqn\\opinion_dyna...</td>\n",
       "      <td>7</td>\n",
       "      <td>0000_experiment_run_name_best_params</td>\n",
       "    </tr>\n",
       "  </tbody>\n",
       "</table>\n",
       "<p>320 rows × 35 columns</p>\n",
       "</div>"
      ],
      "text/plain": [
       "     epoch_type  frame_stamp  greedy_epsilon  episode_rewards_min  \\\n",
       "0      training       200000         0.92278           -69.155647   \n",
       "1      training       400000         0.84358           -56.095377   \n",
       "2      training       600000         0.76438           -23.224386   \n",
       "3      training       800000         0.68518           -44.854563   \n",
       "4      training      1000000         0.60598           -30.634921   \n",
       "..          ...          ...             ...                  ...   \n",
       "315  validation      3200000             NaN           -10.856403   \n",
       "316  validation      3400000             NaN           -11.113366   \n",
       "317  validation      3600000             NaN           -11.161108   \n",
       "318  validation      3800000             NaN           -11.148073   \n",
       "319  validation      4000000             NaN           -11.117089   \n",
       "\n",
       "     episode_rewards_max  episode_rewards_mean  episode_rewards_median  \\\n",
       "0              -6.405181             -7.910285               -7.866967   \n",
       "1              -6.762290             -8.137810               -8.134354   \n",
       "2              -7.458478             -8.413020               -8.402650   \n",
       "3              -7.119667             -8.222205               -8.213478   \n",
       "4              -6.954837             -7.999221               -8.009725   \n",
       "..                   ...                   ...                     ...   \n",
       "315           -10.846963            -10.851860              -10.852340   \n",
       "316           -11.104708            -11.108387              -11.108642   \n",
       "317           -11.149475            -11.157701              -11.157870   \n",
       "318           -11.139379            -11.144004              -11.144178   \n",
       "319           -11.106366            -11.112679              -11.112565   \n",
       "\n",
       "     episode_rewards_std  episode_discounted_rewards_min  \\\n",
       "0               0.934820                      -66.653146   \n",
       "1               0.765443                      -52.475346   \n",
       "2               0.378322                      -19.673404   \n",
       "3               0.601166                      -41.416642   \n",
       "4               0.428104                      -25.203050   \n",
       "..                   ...                             ...   \n",
       "315             0.002338                       -5.150033   \n",
       "316             0.002433                       -5.200200   \n",
       "317             0.002310                       -5.212083   \n",
       "318             0.002170                       -5.203420   \n",
       "319             0.002308                       -5.204581   \n",
       "\n",
       "     episode_discounted_rewards_max  ...  episode_max_qs_mean  \\\n",
       "0                         -4.048968  ...        -1.459375e+01   \n",
       "1                         -4.181703  ...        -1.608830e+07   \n",
       "2                         -4.213162  ...        -6.515415e+02   \n",
       "3                         -4.131783  ...        -2.869978e+02   \n",
       "4                         -4.155456  ...        -3.684950e+01   \n",
       "..                              ...  ...                  ...   \n",
       "315                       -5.146951  ...        -1.019871e+01   \n",
       "316                       -5.196955  ...        -1.193428e+01   \n",
       "317                       -5.208570  ...        -1.258894e+01   \n",
       "318                       -5.201038  ...        -1.331017e+01   \n",
       "319                       -5.201377  ...        -1.219099e+01   \n",
       "\n",
       "     episode_max_qs_median  episode_max_qs_std  policy_trained_times  \\\n",
       "0               -10.940558        1.486433e+01               48749.0   \n",
       "1               -19.806572        5.696571e+09               50000.0   \n",
       "2              -149.057602        4.606381e+04               50000.0   \n",
       "3               -86.049454        4.829404e+03               50000.0   \n",
       "4               -37.587185        1.599166e+01               50000.0   \n",
       "..                     ...                 ...                   ...   \n",
       "315             -10.147796        3.235077e-01                   NaN   \n",
       "316             -12.092118        1.003083e+00                   NaN   \n",
       "317             -12.817554        1.220895e+00                   NaN   \n",
       "318             -13.616071        1.173040e+00                   NaN   \n",
       "319             -12.331338        1.091824e+00                   NaN   \n",
       "\n",
       "     target_trained_times             epoch_time  \\\n",
       "0                    48.0 0 days 00:03:48.503892   \n",
       "1                    48.0 0 days 00:03:59.819167   \n",
       "2                    52.0 0 days 00:04:28.018839   \n",
       "3                    48.0 0 days 00:11:39.872559   \n",
       "4                    52.0 0 days 00:11:41.836141   \n",
       "..                    ...                    ...   \n",
       "315                   NaN 0 days 00:00:01.078231   \n",
       "316                   NaN 0 days 00:00:01.068066   \n",
       "317                   NaN 0 days 00:00:01.100741   \n",
       "318                   NaN 0 days 00:00:01.048920   \n",
       "319                   NaN 0 days 00:00:00.488535   \n",
       "\n",
       "     sub_exp_cfg_experiment_run_name  \\\n",
       "0                        best_params   \n",
       "1                        best_params   \n",
       "2                        best_params   \n",
       "3                        best_params   \n",
       "4                        best_params   \n",
       "..                               ...   \n",
       "315                      best_params   \n",
       "316                      best_params   \n",
       "317                      best_params   \n",
       "318                      best_params   \n",
       "319                      best_params   \n",
       "\n",
       "                                   sub_experiment_path  seed  \\\n",
       "0    D:\\Work\\repos\\RL\\phd-rl-algos\\dqn\\opinion_dyna...     0   \n",
       "1    D:\\Work\\repos\\RL\\phd-rl-algos\\dqn\\opinion_dyna...     0   \n",
       "2    D:\\Work\\repos\\RL\\phd-rl-algos\\dqn\\opinion_dyna...     0   \n",
       "3    D:\\Work\\repos\\RL\\phd-rl-algos\\dqn\\opinion_dyna...     0   \n",
       "4    D:\\Work\\repos\\RL\\phd-rl-algos\\dqn\\opinion_dyna...     0   \n",
       "..                                                 ...   ...   \n",
       "315  D:\\Work\\repos\\RL\\phd-rl-algos\\dqn\\opinion_dyna...     7   \n",
       "316  D:\\Work\\repos\\RL\\phd-rl-algos\\dqn\\opinion_dyna...     7   \n",
       "317  D:\\Work\\repos\\RL\\phd-rl-algos\\dqn\\opinion_dyna...     7   \n",
       "318  D:\\Work\\repos\\RL\\phd-rl-algos\\dqn\\opinion_dyna...     7   \n",
       "319  D:\\Work\\repos\\RL\\phd-rl-algos\\dqn\\opinion_dyna...     7   \n",
       "\n",
       "                          experiment_name  \n",
       "0    0000_experiment_run_name_best_params  \n",
       "1    0000_experiment_run_name_best_params  \n",
       "2    0000_experiment_run_name_best_params  \n",
       "3    0000_experiment_run_name_best_params  \n",
       "4    0000_experiment_run_name_best_params  \n",
       "..                                    ...  \n",
       "315  0000_experiment_run_name_best_params  \n",
       "316  0000_experiment_run_name_best_params  \n",
       "317  0000_experiment_run_name_best_params  \n",
       "318  0000_experiment_run_name_best_params  \n",
       "319  0000_experiment_run_name_best_params  \n",
       "\n",
       "[320 rows x 35 columns]"
      ]
     },
     "execution_count": 141,
     "metadata": {},
     "output_type": "execute_result"
    }
   ],
   "source": [
    "df"
   ]
  },
  {
   "cell_type": "code",
   "execution_count": 142,
   "metadata": {},
   "outputs": [
    {
     "data": {
      "text/html": [
       "<div>\n",
       "<style scoped>\n",
       "    .dataframe tbody tr th:only-of-type {\n",
       "        vertical-align: middle;\n",
       "    }\n",
       "\n",
       "    .dataframe tbody tr th {\n",
       "        vertical-align: top;\n",
       "    }\n",
       "\n",
       "    .dataframe thead th {\n",
       "        text-align: right;\n",
       "    }\n",
       "</style>\n",
       "<table border=\"1\" class=\"dataframe\">\n",
       "  <thead>\n",
       "    <tr style=\"text-align: right;\">\n",
       "      <th></th>\n",
       "      <th>epoch_type</th>\n",
       "      <th>frame_stamp</th>\n",
       "      <th>greedy_epsilon</th>\n",
       "      <th>episode_rewards_min</th>\n",
       "      <th>episode_rewards_max</th>\n",
       "      <th>episode_rewards_mean</th>\n",
       "      <th>episode_rewards_median</th>\n",
       "      <th>episode_rewards_std</th>\n",
       "      <th>episode_discounted_rewards_min</th>\n",
       "      <th>episode_discounted_rewards_max</th>\n",
       "      <th>...</th>\n",
       "      <th>episode_max_qs_mean</th>\n",
       "      <th>episode_max_qs_median</th>\n",
       "      <th>episode_max_qs_std</th>\n",
       "      <th>policy_trained_times</th>\n",
       "      <th>target_trained_times</th>\n",
       "      <th>epoch_time</th>\n",
       "      <th>sub_exp_cfg_experiment_run_name</th>\n",
       "      <th>sub_experiment_path</th>\n",
       "      <th>seed</th>\n",
       "      <th>experiment_name</th>\n",
       "    </tr>\n",
       "  </thead>\n",
       "  <tbody>\n",
       "    <tr>\n",
       "      <th>20</th>\n",
       "      <td>validation</td>\n",
       "      <td>200000</td>\n",
       "      <td>NaN</td>\n",
       "      <td>-9.991885</td>\n",
       "      <td>-9.990871</td>\n",
       "      <td>-9.991427</td>\n",
       "      <td>-9.991472</td>\n",
       "      <td>0.000234</td>\n",
       "      <td>-5.018764</td>\n",
       "      <td>-5.018420</td>\n",
       "      <td>...</td>\n",
       "      <td>-12.970284</td>\n",
       "      <td>-12.103168</td>\n",
       "      <td>2.916348</td>\n",
       "      <td>NaN</td>\n",
       "      <td>NaN</td>\n",
       "      <td>0 days 00:00:00.511950</td>\n",
       "      <td>best_params</td>\n",
       "      <td>D:\\Work\\repos\\RL\\phd-rl-algos\\dqn\\opinion_dyna...</td>\n",
       "      <td>0</td>\n",
       "      <td>0000_experiment_run_name_best_params</td>\n",
       "    </tr>\n",
       "    <tr>\n",
       "      <th>21</th>\n",
       "      <td>validation</td>\n",
       "      <td>400000</td>\n",
       "      <td>NaN</td>\n",
       "      <td>-9.800807</td>\n",
       "      <td>-9.799837</td>\n",
       "      <td>-9.800369</td>\n",
       "      <td>-9.800469</td>\n",
       "      <td>0.000292</td>\n",
       "      <td>-5.002665</td>\n",
       "      <td>-5.002266</td>\n",
       "      <td>...</td>\n",
       "      <td>-5370.728241</td>\n",
       "      <td>-224.786774</td>\n",
       "      <td>20186.305114</td>\n",
       "      <td>NaN</td>\n",
       "      <td>NaN</td>\n",
       "      <td>0 days 00:00:00.454619</td>\n",
       "      <td>best_params</td>\n",
       "      <td>D:\\Work\\repos\\RL\\phd-rl-algos\\dqn\\opinion_dyna...</td>\n",
       "      <td>0</td>\n",
       "      <td>0000_experiment_run_name_best_params</td>\n",
       "    </tr>\n",
       "    <tr>\n",
       "      <th>22</th>\n",
       "      <td>validation</td>\n",
       "      <td>600000</td>\n",
       "      <td>NaN</td>\n",
       "      <td>-9.943557</td>\n",
       "      <td>-9.942294</td>\n",
       "      <td>-9.942919</td>\n",
       "      <td>-9.942943</td>\n",
       "      <td>0.000308</td>\n",
       "      <td>-5.010138</td>\n",
       "      <td>-5.009710</td>\n",
       "      <td>...</td>\n",
       "      <td>-353.265308</td>\n",
       "      <td>-158.413483</td>\n",
       "      <td>388.683666</td>\n",
       "      <td>NaN</td>\n",
       "      <td>NaN</td>\n",
       "      <td>0 days 00:00:01.100409</td>\n",
       "      <td>best_params</td>\n",
       "      <td>D:\\Work\\repos\\RL\\phd-rl-algos\\dqn\\opinion_dyna...</td>\n",
       "      <td>0</td>\n",
       "      <td>0000_experiment_run_name_best_params</td>\n",
       "    </tr>\n",
       "    <tr>\n",
       "      <th>23</th>\n",
       "      <td>validation</td>\n",
       "      <td>800000</td>\n",
       "      <td>NaN</td>\n",
       "      <td>-9.701798</td>\n",
       "      <td>-9.700504</td>\n",
       "      <td>-9.701129</td>\n",
       "      <td>-9.701143</td>\n",
       "      <td>0.000286</td>\n",
       "      <td>-4.974024</td>\n",
       "      <td>-4.973585</td>\n",
       "      <td>...</td>\n",
       "      <td>-70.162162</td>\n",
       "      <td>-70.747845</td>\n",
       "      <td>42.990017</td>\n",
       "      <td>NaN</td>\n",
       "      <td>NaN</td>\n",
       "      <td>0 days 00:00:00.945992</td>\n",
       "      <td>best_params</td>\n",
       "      <td>D:\\Work\\repos\\RL\\phd-rl-algos\\dqn\\opinion_dyna...</td>\n",
       "      <td>0</td>\n",
       "      <td>0000_experiment_run_name_best_params</td>\n",
       "    </tr>\n",
       "    <tr>\n",
       "      <th>24</th>\n",
       "      <td>validation</td>\n",
       "      <td>1000000</td>\n",
       "      <td>NaN</td>\n",
       "      <td>-9.449075</td>\n",
       "      <td>-9.447992</td>\n",
       "      <td>-9.448500</td>\n",
       "      <td>-9.448542</td>\n",
       "      <td>0.000295</td>\n",
       "      <td>-4.932402</td>\n",
       "      <td>-4.931957</td>\n",
       "      <td>...</td>\n",
       "      <td>-35.725624</td>\n",
       "      <td>-38.113586</td>\n",
       "      <td>11.254109</td>\n",
       "      <td>NaN</td>\n",
       "      <td>NaN</td>\n",
       "      <td>0 days 00:00:00.943478</td>\n",
       "      <td>best_params</td>\n",
       "      <td>D:\\Work\\repos\\RL\\phd-rl-algos\\dqn\\opinion_dyna...</td>\n",
       "      <td>0</td>\n",
       "      <td>0000_experiment_run_name_best_params</td>\n",
       "    </tr>\n",
       "    <tr>\n",
       "      <th>...</th>\n",
       "      <td>...</td>\n",
       "      <td>...</td>\n",
       "      <td>...</td>\n",
       "      <td>...</td>\n",
       "      <td>...</td>\n",
       "      <td>...</td>\n",
       "      <td>...</td>\n",
       "      <td>...</td>\n",
       "      <td>...</td>\n",
       "      <td>...</td>\n",
       "      <td>...</td>\n",
       "      <td>...</td>\n",
       "      <td>...</td>\n",
       "      <td>...</td>\n",
       "      <td>...</td>\n",
       "      <td>...</td>\n",
       "      <td>...</td>\n",
       "      <td>...</td>\n",
       "      <td>...</td>\n",
       "      <td>...</td>\n",
       "      <td>...</td>\n",
       "    </tr>\n",
       "    <tr>\n",
       "      <th>315</th>\n",
       "      <td>validation</td>\n",
       "      <td>3200000</td>\n",
       "      <td>NaN</td>\n",
       "      <td>-10.856403</td>\n",
       "      <td>-10.846963</td>\n",
       "      <td>-10.851860</td>\n",
       "      <td>-10.852340</td>\n",
       "      <td>0.002338</td>\n",
       "      <td>-5.150033</td>\n",
       "      <td>-5.146951</td>\n",
       "      <td>...</td>\n",
       "      <td>-10.198713</td>\n",
       "      <td>-10.147796</td>\n",
       "      <td>0.323508</td>\n",
       "      <td>NaN</td>\n",
       "      <td>NaN</td>\n",
       "      <td>0 days 00:00:01.078231</td>\n",
       "      <td>best_params</td>\n",
       "      <td>D:\\Work\\repos\\RL\\phd-rl-algos\\dqn\\opinion_dyna...</td>\n",
       "      <td>7</td>\n",
       "      <td>0000_experiment_run_name_best_params</td>\n",
       "    </tr>\n",
       "    <tr>\n",
       "      <th>316</th>\n",
       "      <td>validation</td>\n",
       "      <td>3400000</td>\n",
       "      <td>NaN</td>\n",
       "      <td>-11.113366</td>\n",
       "      <td>-11.104708</td>\n",
       "      <td>-11.108387</td>\n",
       "      <td>-11.108642</td>\n",
       "      <td>0.002433</td>\n",
       "      <td>-5.200200</td>\n",
       "      <td>-5.196955</td>\n",
       "      <td>...</td>\n",
       "      <td>-11.934284</td>\n",
       "      <td>-12.092118</td>\n",
       "      <td>1.003083</td>\n",
       "      <td>NaN</td>\n",
       "      <td>NaN</td>\n",
       "      <td>0 days 00:00:01.068066</td>\n",
       "      <td>best_params</td>\n",
       "      <td>D:\\Work\\repos\\RL\\phd-rl-algos\\dqn\\opinion_dyna...</td>\n",
       "      <td>7</td>\n",
       "      <td>0000_experiment_run_name_best_params</td>\n",
       "    </tr>\n",
       "    <tr>\n",
       "      <th>317</th>\n",
       "      <td>validation</td>\n",
       "      <td>3600000</td>\n",
       "      <td>NaN</td>\n",
       "      <td>-11.161108</td>\n",
       "      <td>-11.149475</td>\n",
       "      <td>-11.157701</td>\n",
       "      <td>-11.157870</td>\n",
       "      <td>0.002310</td>\n",
       "      <td>-5.212083</td>\n",
       "      <td>-5.208570</td>\n",
       "      <td>...</td>\n",
       "      <td>-12.588937</td>\n",
       "      <td>-12.817554</td>\n",
       "      <td>1.220895</td>\n",
       "      <td>NaN</td>\n",
       "      <td>NaN</td>\n",
       "      <td>0 days 00:00:01.100741</td>\n",
       "      <td>best_params</td>\n",
       "      <td>D:\\Work\\repos\\RL\\phd-rl-algos\\dqn\\opinion_dyna...</td>\n",
       "      <td>7</td>\n",
       "      <td>0000_experiment_run_name_best_params</td>\n",
       "    </tr>\n",
       "    <tr>\n",
       "      <th>318</th>\n",
       "      <td>validation</td>\n",
       "      <td>3800000</td>\n",
       "      <td>NaN</td>\n",
       "      <td>-11.148073</td>\n",
       "      <td>-11.139379</td>\n",
       "      <td>-11.144004</td>\n",
       "      <td>-11.144178</td>\n",
       "      <td>0.002170</td>\n",
       "      <td>-5.203420</td>\n",
       "      <td>-5.201038</td>\n",
       "      <td>...</td>\n",
       "      <td>-13.310175</td>\n",
       "      <td>-13.616071</td>\n",
       "      <td>1.173040</td>\n",
       "      <td>NaN</td>\n",
       "      <td>NaN</td>\n",
       "      <td>0 days 00:00:01.048920</td>\n",
       "      <td>best_params</td>\n",
       "      <td>D:\\Work\\repos\\RL\\phd-rl-algos\\dqn\\opinion_dyna...</td>\n",
       "      <td>7</td>\n",
       "      <td>0000_experiment_run_name_best_params</td>\n",
       "    </tr>\n",
       "    <tr>\n",
       "      <th>319</th>\n",
       "      <td>validation</td>\n",
       "      <td>4000000</td>\n",
       "      <td>NaN</td>\n",
       "      <td>-11.117089</td>\n",
       "      <td>-11.106366</td>\n",
       "      <td>-11.112679</td>\n",
       "      <td>-11.112565</td>\n",
       "      <td>0.002308</td>\n",
       "      <td>-5.204581</td>\n",
       "      <td>-5.201377</td>\n",
       "      <td>...</td>\n",
       "      <td>-12.190992</td>\n",
       "      <td>-12.331338</td>\n",
       "      <td>1.091824</td>\n",
       "      <td>NaN</td>\n",
       "      <td>NaN</td>\n",
       "      <td>0 days 00:00:00.488535</td>\n",
       "      <td>best_params</td>\n",
       "      <td>D:\\Work\\repos\\RL\\phd-rl-algos\\dqn\\opinion_dyna...</td>\n",
       "      <td>7</td>\n",
       "      <td>0000_experiment_run_name_best_params</td>\n",
       "    </tr>\n",
       "  </tbody>\n",
       "</table>\n",
       "<p>160 rows × 35 columns</p>\n",
       "</div>"
      ],
      "text/plain": [
       "     epoch_type  frame_stamp  greedy_epsilon  episode_rewards_min  \\\n",
       "20   validation       200000             NaN            -9.991885   \n",
       "21   validation       400000             NaN            -9.800807   \n",
       "22   validation       600000             NaN            -9.943557   \n",
       "23   validation       800000             NaN            -9.701798   \n",
       "24   validation      1000000             NaN            -9.449075   \n",
       "..          ...          ...             ...                  ...   \n",
       "315  validation      3200000             NaN           -10.856403   \n",
       "316  validation      3400000             NaN           -11.113366   \n",
       "317  validation      3600000             NaN           -11.161108   \n",
       "318  validation      3800000             NaN           -11.148073   \n",
       "319  validation      4000000             NaN           -11.117089   \n",
       "\n",
       "     episode_rewards_max  episode_rewards_mean  episode_rewards_median  \\\n",
       "20             -9.990871             -9.991427               -9.991472   \n",
       "21             -9.799837             -9.800369               -9.800469   \n",
       "22             -9.942294             -9.942919               -9.942943   \n",
       "23             -9.700504             -9.701129               -9.701143   \n",
       "24             -9.447992             -9.448500               -9.448542   \n",
       "..                   ...                   ...                     ...   \n",
       "315           -10.846963            -10.851860              -10.852340   \n",
       "316           -11.104708            -11.108387              -11.108642   \n",
       "317           -11.149475            -11.157701              -11.157870   \n",
       "318           -11.139379            -11.144004              -11.144178   \n",
       "319           -11.106366            -11.112679              -11.112565   \n",
       "\n",
       "     episode_rewards_std  episode_discounted_rewards_min  \\\n",
       "20              0.000234                       -5.018764   \n",
       "21              0.000292                       -5.002665   \n",
       "22              0.000308                       -5.010138   \n",
       "23              0.000286                       -4.974024   \n",
       "24              0.000295                       -4.932402   \n",
       "..                   ...                             ...   \n",
       "315             0.002338                       -5.150033   \n",
       "316             0.002433                       -5.200200   \n",
       "317             0.002310                       -5.212083   \n",
       "318             0.002170                       -5.203420   \n",
       "319             0.002308                       -5.204581   \n",
       "\n",
       "     episode_discounted_rewards_max  ...  episode_max_qs_mean  \\\n",
       "20                        -5.018420  ...           -12.970284   \n",
       "21                        -5.002266  ...         -5370.728241   \n",
       "22                        -5.009710  ...          -353.265308   \n",
       "23                        -4.973585  ...           -70.162162   \n",
       "24                        -4.931957  ...           -35.725624   \n",
       "..                              ...  ...                  ...   \n",
       "315                       -5.146951  ...           -10.198713   \n",
       "316                       -5.196955  ...           -11.934284   \n",
       "317                       -5.208570  ...           -12.588937   \n",
       "318                       -5.201038  ...           -13.310175   \n",
       "319                       -5.201377  ...           -12.190992   \n",
       "\n",
       "     episode_max_qs_median  episode_max_qs_std  policy_trained_times  \\\n",
       "20              -12.103168            2.916348                   NaN   \n",
       "21             -224.786774        20186.305114                   NaN   \n",
       "22             -158.413483          388.683666                   NaN   \n",
       "23              -70.747845           42.990017                   NaN   \n",
       "24              -38.113586           11.254109                   NaN   \n",
       "..                     ...                 ...                   ...   \n",
       "315             -10.147796            0.323508                   NaN   \n",
       "316             -12.092118            1.003083                   NaN   \n",
       "317             -12.817554            1.220895                   NaN   \n",
       "318             -13.616071            1.173040                   NaN   \n",
       "319             -12.331338            1.091824                   NaN   \n",
       "\n",
       "     target_trained_times             epoch_time  \\\n",
       "20                    NaN 0 days 00:00:00.511950   \n",
       "21                    NaN 0 days 00:00:00.454619   \n",
       "22                    NaN 0 days 00:00:01.100409   \n",
       "23                    NaN 0 days 00:00:00.945992   \n",
       "24                    NaN 0 days 00:00:00.943478   \n",
       "..                    ...                    ...   \n",
       "315                   NaN 0 days 00:00:01.078231   \n",
       "316                   NaN 0 days 00:00:01.068066   \n",
       "317                   NaN 0 days 00:00:01.100741   \n",
       "318                   NaN 0 days 00:00:01.048920   \n",
       "319                   NaN 0 days 00:00:00.488535   \n",
       "\n",
       "     sub_exp_cfg_experiment_run_name  \\\n",
       "20                       best_params   \n",
       "21                       best_params   \n",
       "22                       best_params   \n",
       "23                       best_params   \n",
       "24                       best_params   \n",
       "..                               ...   \n",
       "315                      best_params   \n",
       "316                      best_params   \n",
       "317                      best_params   \n",
       "318                      best_params   \n",
       "319                      best_params   \n",
       "\n",
       "                                   sub_experiment_path  seed  \\\n",
       "20   D:\\Work\\repos\\RL\\phd-rl-algos\\dqn\\opinion_dyna...     0   \n",
       "21   D:\\Work\\repos\\RL\\phd-rl-algos\\dqn\\opinion_dyna...     0   \n",
       "22   D:\\Work\\repos\\RL\\phd-rl-algos\\dqn\\opinion_dyna...     0   \n",
       "23   D:\\Work\\repos\\RL\\phd-rl-algos\\dqn\\opinion_dyna...     0   \n",
       "24   D:\\Work\\repos\\RL\\phd-rl-algos\\dqn\\opinion_dyna...     0   \n",
       "..                                                 ...   ...   \n",
       "315  D:\\Work\\repos\\RL\\phd-rl-algos\\dqn\\opinion_dyna...     7   \n",
       "316  D:\\Work\\repos\\RL\\phd-rl-algos\\dqn\\opinion_dyna...     7   \n",
       "317  D:\\Work\\repos\\RL\\phd-rl-algos\\dqn\\opinion_dyna...     7   \n",
       "318  D:\\Work\\repos\\RL\\phd-rl-algos\\dqn\\opinion_dyna...     7   \n",
       "319  D:\\Work\\repos\\RL\\phd-rl-algos\\dqn\\opinion_dyna...     7   \n",
       "\n",
       "                          experiment_name  \n",
       "20   0000_experiment_run_name_best_params  \n",
       "21   0000_experiment_run_name_best_params  \n",
       "22   0000_experiment_run_name_best_params  \n",
       "23   0000_experiment_run_name_best_params  \n",
       "24   0000_experiment_run_name_best_params  \n",
       "..                                    ...  \n",
       "315  0000_experiment_run_name_best_params  \n",
       "316  0000_experiment_run_name_best_params  \n",
       "317  0000_experiment_run_name_best_params  \n",
       "318  0000_experiment_run_name_best_params  \n",
       "319  0000_experiment_run_name_best_params  \n",
       "\n",
       "[160 rows x 35 columns]"
      ]
     },
     "execution_count": 142,
     "metadata": {},
     "output_type": "execute_result"
    }
   ],
   "source": [
    "df[df['epoch_type'] == 'validation']"
   ]
  },
  {
   "cell_type": "code",
   "execution_count": 143,
   "metadata": {},
   "outputs": [
    {
     "name": "stdout",
     "output_type": "stream",
     "text": [
      "Best hyperparameters:\n",
      "sub_exp_cfg_experiment_run_name    best_params\n",
      "Name: 0, dtype: object\n",
      "Best mean reward: -16.610164962500537\n"
     ]
    }
   ],
   "source": [
    "# Define hyperparameter columns\n",
    "hyperparam_columns = [col for col in df.columns if \"sub_exp_cfg\" in col]\n",
    "\n",
    "# Group by hyperparameter values and compute mean episode_rewards_mean\n",
    "averaged_results = df.groupby(hyperparam_columns, as_index=False).agg({\n",
    "    'episode_rewards_mean': 'mean',  # Averaging the performance metric\n",
    "    'sub_experiment_path': 'first'   # Keep a reference to an experiment path\n",
    "})\n",
    "\n",
    "# Find the best hyperparameter set based on the highest mean reward\n",
    "best_row = averaged_results.loc[averaged_results['episode_rewards_mean'].idxmax()]\n",
    "\n",
    "# Print the best experiment path and hyperparameters\n",
    "print(f\"Best hyperparameters:\\n{best_row[hyperparam_columns]}\")\n",
    "print(f\"Best mean reward: {best_row['episode_rewards_mean']}\")"
   ]
  },
  {
   "cell_type": "code",
   "execution_count": 144,
   "metadata": {},
   "outputs": [
    {
     "data": {
      "text/html": [
       "<div>\n",
       "<style scoped>\n",
       "    .dataframe tbody tr th:only-of-type {\n",
       "        vertical-align: middle;\n",
       "    }\n",
       "\n",
       "    .dataframe tbody tr th {\n",
       "        vertical-align: top;\n",
       "    }\n",
       "\n",
       "    .dataframe thead th {\n",
       "        text-align: right;\n",
       "    }\n",
       "</style>\n",
       "<table border=\"1\" class=\"dataframe\">\n",
       "  <thead>\n",
       "    <tr style=\"text-align: right;\">\n",
       "      <th></th>\n",
       "      <th>sub_exp_cfg_experiment_run_name</th>\n",
       "      <th>episode_rewards_mean</th>\n",
       "      <th>sub_experiment_path</th>\n",
       "    </tr>\n",
       "  </thead>\n",
       "  <tbody>\n",
       "    <tr>\n",
       "      <th>0</th>\n",
       "      <td>best_params</td>\n",
       "      <td>-16.610165</td>\n",
       "      <td>D:\\Work\\repos\\RL\\phd-rl-algos\\dqn\\opinion_dyna...</td>\n",
       "    </tr>\n",
       "  </tbody>\n",
       "</table>\n",
       "</div>"
      ],
      "text/plain": [
       "  sub_exp_cfg_experiment_run_name  episode_rewards_mean  \\\n",
       "0                     best_params            -16.610165   \n",
       "\n",
       "                                 sub_experiment_path  \n",
       "0  D:\\Work\\repos\\RL\\phd-rl-algos\\dqn\\opinion_dyna...  "
      ]
     },
     "execution_count": 144,
     "metadata": {},
     "output_type": "execute_result"
    }
   ],
   "source": [
    "averaged_results"
   ]
  },
  {
   "cell_type": "code",
   "execution_count": 145,
   "metadata": {},
   "outputs": [],
   "source": [
    "# selected_metric = 'episode_rewards_mean'\n",
    "# hue_col = \"sub_exp_cfg_agent_params.args_.action_w_noise_amplitude\"\n",
    "\n",
    "# # Filter for validation episodes\n",
    "# validation_df = df[df['epoch_type'] == 'validation']\n",
    "\n",
    "# # Get the unique sorted frame_stamp values\n",
    "# unique_frames = np.sort(validation_df['frame_stamp'].unique())\n",
    "# N = 1\n",
    "# # Get all frame_stamp values after the first N unique ones\n",
    "# filtered_frames = unique_frames[N:]\n",
    "\n",
    "# # Filter the DataFrame to only include rows with these frame_stamp values\n",
    "# filtered_df = validation_df[validation_df['frame_stamp'].isin(filtered_frames)]\n",
    "\n",
    "# plt.figure(figsize=(10, 6))\n",
    "# sns.lineplot(data=filtered_df, x='frame_stamp', y=selected_metric, hue=hue_col)\n",
    "# plt.ylabel(selected_metric)\n",
    "# plt.xlabel('Frame Stamp')\n",
    "# plt.show()"
   ]
  },
  {
   "cell_type": "code",
   "execution_count": 146,
   "metadata": {},
   "outputs": [
    {
     "data": {
      "image/png": "[encoded data removed]",
      "text/plain": [
       "<Figure size 1000x600 with 1 Axes>"
      ]
     },
     "metadata": {},
     "output_type": "display_data"
    }
   ],
   "source": [
    "\n",
    "selected_metric = 'episode_discounted_rewards_mean'\n",
    "# hue_col = \"sub_exp_cfg_agent_params.args_.action_w_noise_amplitude\"\n",
    "hue_col = \"experiment_name\"\n",
    "\n",
    "validation_df = df[df['epoch_type'] == 'validation']\n",
    "\n",
    "\n",
    "# Create a new figure for each environment\n",
    "plt.figure(figsize=(10, 6))\n",
    "# sns.lineplot(data=df, x='frame_stamp', y=selected_metric, hue='model')\n",
    "sns.lineplot(data=validation_df, x='frame_stamp', y=selected_metric, hue=hue_col)\n",
    "\n",
    "plt.ylabel(selected_metric)\n",
    "plt.xlabel('Frame Stamp')\n",
    "\n",
    "# Place the legend outside the plot\n",
    "plt.legend(loc='center left', bbox_to_anchor=(1.0, 0.5), title='Parameters')\n",
    "plt.show()"
   ]
  },
  {
   "cell_type": "code",
   "execution_count": 147,
   "metadata": {},
   "outputs": [
    {
     "data": {
      "text/plain": [
       "Index(['epoch_type', 'frame_stamp', 'greedy_epsilon', 'episode_rewards_min',\n",
       "       'episode_rewards_max', 'episode_rewards_mean', 'episode_rewards_median',\n",
       "       'episode_rewards_std', 'episode_discounted_rewards_min',\n",
       "       'episode_discounted_rewards_max', 'episode_discounted_rewards_mean',\n",
       "       'episode_discounted_rewards_median', 'episode_discounted_rewards_std',\n",
       "       'episode_frames_min', 'episode_frames_max', 'episode_frames_mean',\n",
       "       'episode_frames_median', 'episode_frames_std', 'episode_losses_min',\n",
       "       'episode_losses_max', 'episode_losses_mean', 'episode_losses_median',\n",
       "       'episode_losses_std', 'episode_max_qs_min', 'episode_max_qs_max',\n",
       "       'episode_max_qs_mean', 'episode_max_qs_median', 'episode_max_qs_std',\n",
       "       'policy_trained_times', 'target_trained_times', 'epoch_time',\n",
       "       'sub_exp_cfg_experiment_run_name', 'sub_experiment_path', 'seed',\n",
       "       'experiment_name'],\n",
       "      dtype='object')"
      ]
     },
     "execution_count": 147,
     "metadata": {},
     "output_type": "execute_result"
    }
   ],
   "source": [
    "df.columns"
   ]
  },
  {
   "cell_type": "code",
   "execution_count": 148,
   "metadata": {},
   "outputs": [
    {
     "data": {
      "image/png": "[encoded data removed]",
      "text/plain": [
       "<Figure size 1000x600 with 1 Axes>"
      ]
     },
     "metadata": {},
     "output_type": "display_data"
    }
   ],
   "source": [
    "import matplotlib.pyplot as plt\n",
    "import seaborn as sns\n",
    "\n",
    "selected_metric = 'episode_frames_mean'\n",
    "hue_col = \"experiment_name\"  # or another distinguishing column like \"sub_experiment_path\"\n",
    "\n",
    "validation_df = df[df['epoch_type'] == 'validation']\n",
    "\n",
    "# Plot individual lines for each run\n",
    "plt.figure(figsize=(10, 6))\n",
    "sns.lineplot(\n",
    "    data=validation_df,\n",
    "    x='frame_stamp',\n",
    "    y=selected_metric,\n",
    "    hue=hue_col,\n",
    "    estimator=None,  # ← disables aggregation\n",
    "    units='sub_experiment_path',  # ← groups lines by unique run\n",
    "    lw=1,  # line width\n",
    "    alpha=0.7  # transparency\n",
    ")\n",
    "\n",
    "plt.ylabel(selected_metric)\n",
    "plt.xlabel('Frame Stamp')\n",
    "plt.title('Validation Reward Trajectories (Per Run)')\n",
    "\n",
    "# Move legend outside the plot\n",
    "plt.legend(loc='center left', bbox_to_anchor=(1.0, 0.5), title='Experiment')\n",
    "plt.tight_layout()\n",
    "plt.show()\n"
   ]
  },
  {
   "cell_type": "code",
   "execution_count": 149,
   "metadata": {},
   "outputs": [
    {
     "data": {
      "text/html": [
       "<div>\n",
       "<style scoped>\n",
       "    .dataframe tbody tr th:only-of-type {\n",
       "        vertical-align: middle;\n",
       "    }\n",
       "\n",
       "    .dataframe tbody tr th {\n",
       "        vertical-align: top;\n",
       "    }\n",
       "\n",
       "    .dataframe thead th {\n",
       "        text-align: right;\n",
       "    }\n",
       "</style>\n",
       "<table border=\"1\" class=\"dataframe\">\n",
       "  <thead>\n",
       "    <tr style=\"text-align: right;\">\n",
       "      <th></th>\n",
       "      <th>epoch_type</th>\n",
       "      <th>frame_stamp</th>\n",
       "      <th>episode_rewards_mean</th>\n",
       "      <th>episode_frames_mean</th>\n",
       "      <th>episode_discounted_rewards_mean</th>\n",
       "      <th>policy_trained_times</th>\n",
       "      <th>target_trained_times</th>\n",
       "      <th>epoch_time</th>\n",
       "      <th>seed</th>\n",
       "      <th>experiment_name</th>\n",
       "      <th>sub_experiment_path</th>\n",
       "      <th>sub_exp_cfg_experiment_run_name</th>\n",
       "    </tr>\n",
       "  </thead>\n",
       "  <tbody>\n",
       "    <tr>\n",
       "      <th>39</th>\n",
       "      <td>validation</td>\n",
       "      <td>4000000</td>\n",
       "      <td>-10.192105</td>\n",
       "      <td>34.000000</td>\n",
       "      <td>-5.034562</td>\n",
       "      <td>NaN</td>\n",
       "      <td>NaN</td>\n",
       "      <td>0 days 00:00:01.097647</td>\n",
       "      <td>0</td>\n",
       "      <td>0000_experiment_run_name_best_params</td>\n",
       "      <td>D:\\Work\\repos\\RL\\phd-rl-algos\\dqn\\opinion_dyna...</td>\n",
       "      <td>best_params</td>\n",
       "    </tr>\n",
       "    <tr>\n",
       "      <th>79</th>\n",
       "      <td>validation</td>\n",
       "      <td>4000000</td>\n",
       "      <td>-10.735380</td>\n",
       "      <td>36.000000</td>\n",
       "      <td>-5.125709</td>\n",
       "      <td>NaN</td>\n",
       "      <td>NaN</td>\n",
       "      <td>0 days 00:00:01.067336</td>\n",
       "      <td>1</td>\n",
       "      <td>0000_experiment_run_name_best_params</td>\n",
       "      <td>D:\\Work\\repos\\RL\\phd-rl-algos\\dqn\\opinion_dyna...</td>\n",
       "      <td>best_params</td>\n",
       "    </tr>\n",
       "    <tr>\n",
       "      <th>119</th>\n",
       "      <td>validation</td>\n",
       "      <td>4000000</td>\n",
       "      <td>-10.251858</td>\n",
       "      <td>33.000000</td>\n",
       "      <td>-5.151374</td>\n",
       "      <td>NaN</td>\n",
       "      <td>NaN</td>\n",
       "      <td>0 days 00:00:01.133645</td>\n",
       "      <td>2</td>\n",
       "      <td>0000_experiment_run_name_best_params</td>\n",
       "      <td>D:\\Work\\repos\\RL\\phd-rl-algos\\dqn\\opinion_dyna...</td>\n",
       "      <td>best_params</td>\n",
       "    </tr>\n",
       "    <tr>\n",
       "      <th>159</th>\n",
       "      <td>validation</td>\n",
       "      <td>4000000</td>\n",
       "      <td>-9.698152</td>\n",
       "      <td>32.000000</td>\n",
       "      <td>-4.969459</td>\n",
       "      <td>NaN</td>\n",
       "      <td>NaN</td>\n",
       "      <td>0 days 00:00:01.081646</td>\n",
       "      <td>3</td>\n",
       "      <td>0000_experiment_run_name_best_params</td>\n",
       "      <td>D:\\Work\\repos\\RL\\phd-rl-algos\\dqn\\opinion_dyna...</td>\n",
       "      <td>best_params</td>\n",
       "    </tr>\n",
       "    <tr>\n",
       "      <th>199</th>\n",
       "      <td>validation</td>\n",
       "      <td>4000000</td>\n",
       "      <td>-8.779425</td>\n",
       "      <td>28.000000</td>\n",
       "      <td>-4.818712</td>\n",
       "      <td>NaN</td>\n",
       "      <td>NaN</td>\n",
       "      <td>0 days 00:00:00.543693</td>\n",
       "      <td>4</td>\n",
       "      <td>0000_experiment_run_name_best_params</td>\n",
       "      <td>D:\\Work\\repos\\RL\\phd-rl-algos\\dqn\\opinion_dyna...</td>\n",
       "      <td>best_params</td>\n",
       "    </tr>\n",
       "    <tr>\n",
       "      <th>239</th>\n",
       "      <td>validation</td>\n",
       "      <td>4000000</td>\n",
       "      <td>-10.567882</td>\n",
       "      <td>35.000000</td>\n",
       "      <td>-5.116850</td>\n",
       "      <td>NaN</td>\n",
       "      <td>NaN</td>\n",
       "      <td>0 days 00:00:00.492740</td>\n",
       "      <td>5</td>\n",
       "      <td>0000_experiment_run_name_best_params</td>\n",
       "      <td>D:\\Work\\repos\\RL\\phd-rl-algos\\dqn\\opinion_dyna...</td>\n",
       "      <td>best_params</td>\n",
       "    </tr>\n",
       "    <tr>\n",
       "      <th>279</th>\n",
       "      <td>validation</td>\n",
       "      <td>4000000</td>\n",
       "      <td>-9.351224</td>\n",
       "      <td>29.057143</td>\n",
       "      <td>-4.989873</td>\n",
       "      <td>NaN</td>\n",
       "      <td>NaN</td>\n",
       "      <td>0 days 00:00:00.512429</td>\n",
       "      <td>6</td>\n",
       "      <td>0000_experiment_run_name_best_params</td>\n",
       "      <td>D:\\Work\\repos\\RL\\phd-rl-algos\\dqn\\opinion_dyna...</td>\n",
       "      <td>best_params</td>\n",
       "    </tr>\n",
       "    <tr>\n",
       "      <th>319</th>\n",
       "      <td>validation</td>\n",
       "      <td>4000000</td>\n",
       "      <td>-11.112679</td>\n",
       "      <td>37.000000</td>\n",
       "      <td>-5.203189</td>\n",
       "      <td>NaN</td>\n",
       "      <td>NaN</td>\n",
       "      <td>0 days 00:00:00.488535</td>\n",
       "      <td>7</td>\n",
       "      <td>0000_experiment_run_name_best_params</td>\n",
       "      <td>D:\\Work\\repos\\RL\\phd-rl-algos\\dqn\\opinion_dyna...</td>\n",
       "      <td>best_params</td>\n",
       "    </tr>\n",
       "  </tbody>\n",
       "</table>\n",
       "</div>"
      ],
      "text/plain": [
       "     epoch_type  frame_stamp  episode_rewards_mean  episode_frames_mean  \\\n",
       "39   validation      4000000            -10.192105            34.000000   \n",
       "79   validation      4000000            -10.735380            36.000000   \n",
       "119  validation      4000000            -10.251858            33.000000   \n",
       "159  validation      4000000             -9.698152            32.000000   \n",
       "199  validation      4000000             -8.779425            28.000000   \n",
       "239  validation      4000000            -10.567882            35.000000   \n",
       "279  validation      4000000             -9.351224            29.057143   \n",
       "319  validation      4000000            -11.112679            37.000000   \n",
       "\n",
       "     episode_discounted_rewards_mean  policy_trained_times  \\\n",
       "39                         -5.034562                   NaN   \n",
       "79                         -5.125709                   NaN   \n",
       "119                        -5.151374                   NaN   \n",
       "159                        -4.969459                   NaN   \n",
       "199                        -4.818712                   NaN   \n",
       "239                        -5.116850                   NaN   \n",
       "279                        -4.989873                   NaN   \n",
       "319                        -5.203189                   NaN   \n",
       "\n",
       "     target_trained_times             epoch_time seed  \\\n",
       "39                    NaN 0 days 00:00:01.097647    0   \n",
       "79                    NaN 0 days 00:00:01.067336    1   \n",
       "119                   NaN 0 days 00:00:01.133645    2   \n",
       "159                   NaN 0 days 00:00:01.081646    3   \n",
       "199                   NaN 0 days 00:00:00.543693    4   \n",
       "239                   NaN 0 days 00:00:00.492740    5   \n",
       "279                   NaN 0 days 00:00:00.512429    6   \n",
       "319                   NaN 0 days 00:00:00.488535    7   \n",
       "\n",
       "                          experiment_name  \\\n",
       "39   0000_experiment_run_name_best_params   \n",
       "79   0000_experiment_run_name_best_params   \n",
       "119  0000_experiment_run_name_best_params   \n",
       "159  0000_experiment_run_name_best_params   \n",
       "199  0000_experiment_run_name_best_params   \n",
       "239  0000_experiment_run_name_best_params   \n",
       "279  0000_experiment_run_name_best_params   \n",
       "319  0000_experiment_run_name_best_params   \n",
       "\n",
       "                                   sub_experiment_path  \\\n",
       "39   D:\\Work\\repos\\RL\\phd-rl-algos\\dqn\\opinion_dyna...   \n",
       "79   D:\\Work\\repos\\RL\\phd-rl-algos\\dqn\\opinion_dyna...   \n",
       "119  D:\\Work\\repos\\RL\\phd-rl-algos\\dqn\\opinion_dyna...   \n",
       "159  D:\\Work\\repos\\RL\\phd-rl-algos\\dqn\\opinion_dyna...   \n",
       "199  D:\\Work\\repos\\RL\\phd-rl-algos\\dqn\\opinion_dyna...   \n",
       "239  D:\\Work\\repos\\RL\\phd-rl-algos\\dqn\\opinion_dyna...   \n",
       "279  D:\\Work\\repos\\RL\\phd-rl-algos\\dqn\\opinion_dyna...   \n",
       "319  D:\\Work\\repos\\RL\\phd-rl-algos\\dqn\\opinion_dyna...   \n",
       "\n",
       "    sub_exp_cfg_experiment_run_name  \n",
       "39                      best_params  \n",
       "79                      best_params  \n",
       "119                     best_params  \n",
       "159                     best_params  \n",
       "199                     best_params  \n",
       "239                     best_params  \n",
       "279                     best_params  \n",
       "319                     best_params  "
      ]
     },
     "execution_count": 149,
     "metadata": {},
     "output_type": "execute_result"
    }
   ],
   "source": [
    "### Select data\n",
    "\n",
    "experiment_columns = [\n",
    "    'epoch_type', 'frame_stamp',\n",
    "    'episode_rewards_mean', 'episode_frames_mean', \n",
    "    'episode_discounted_rewards_mean',\n",
    "    'policy_trained_times', 'target_trained_times', 'epoch_time', \n",
    "       'seed', 'experiment_name', \"sub_experiment_path\"\n",
    "]\n",
    "hyperparam_columns = [\n",
    "   col for col in df.columns if \"sub_exp_cfg\" in col\n",
    "]\n",
    "\n",
    "cols_of_interest = experiment_columns + hyperparam_columns\n",
    "\n",
    "sub_df = df[cols_of_interest]\n",
    "sub_df = sub_df[sub_df['epoch_type'] == 'validation']\n",
    "sub_df = sub_df[sub_df['frame_stamp'] == sub_df['frame_stamp'].max()]\n",
    "\n",
    "sub_df \n"
   ]
  },
  {
   "cell_type": "code",
   "execution_count": 150,
   "metadata": {},
   "outputs": [],
   "source": [
    "# agg_cols = [col for col in sub_df.columns if \"sub_exp_cfg_agent_params\" in col]\n",
    "# aggregated_df = (\n",
    "#     sub_df.groupby(agg_cols)\n",
    "#     .agg(episode_discounted_rewards_mean=(\"episode_discounted_rewards_mean\", \"mean\"))\n",
    "#     .reset_index()\n",
    "# )\n",
    "# aggregated_df"
   ]
  },
  {
   "cell_type": "code",
   "execution_count": 151,
   "metadata": {},
   "outputs": [
    {
     "data": {
      "text/plain": [
       "Index(['epoch_type', 'frame_stamp', 'episode_rewards_mean',\n",
       "       'episode_frames_mean', 'episode_discounted_rewards_mean',\n",
       "       'policy_trained_times', 'target_trained_times', 'epoch_time', 'seed',\n",
       "       'experiment_name', 'sub_experiment_path',\n",
       "       'sub_exp_cfg_experiment_run_name'],\n",
       "      dtype='object')"
      ]
     },
     "execution_count": 151,
     "metadata": {},
     "output_type": "execute_result"
    }
   ],
   "source": [
    "sub_df.columns"
   ]
  },
  {
   "cell_type": "code",
   "execution_count": null,
   "metadata": {},
   "outputs": [
    {
     "ename": "KeyError",
     "evalue": "\"['sub_exp_cfg_agent_params.args_.action_w_noise_amplitude'] not in index\"",
     "output_type": "error",
     "traceback": [
      "\u001b[1;31m---------------------------------------------------------------------------\u001b[0m",
      "\u001b[1;31mKeyError\u001b[0m                                  Traceback (most recent call last)",
      "Cell \u001b[1;32mIn[152], line 1\u001b[0m\n\u001b[1;32m----> 1\u001b[0m \u001b[43msub_df\u001b[49m\u001b[43m[\u001b[49m\u001b[43m[\u001b[49m\n\u001b[0;32m      2\u001b[0m \u001b[43m    \u001b[49m\u001b[38;5;124;43m\"\u001b[39;49m\u001b[38;5;124;43mepisode_discounted_rewards_mean\u001b[39;49m\u001b[38;5;124;43m\"\u001b[39;49m\u001b[43m,\u001b[49m\u001b[43m \u001b[49m\u001b[38;5;124;43m\"\u001b[39;49m\u001b[38;5;124;43mepisode_frames_mean\u001b[39;49m\u001b[38;5;124;43m\"\u001b[39;49m\u001b[43m,\u001b[49m\n\u001b[0;32m      3\u001b[0m \u001b[43m    \u001b[49m\u001b[38;5;124;43m\"\u001b[39;49m\u001b[38;5;124;43mseed\u001b[39;49m\u001b[38;5;124;43m\"\u001b[39;49m\u001b[43m,\u001b[49m\u001b[43m \u001b[49m\u001b[38;5;124;43m\"\u001b[39;49m\u001b[38;5;124;43msub_exp_cfg_agent_params.args_.action_w_noise_amplitude\u001b[39;49m\u001b[38;5;124;43m\"\u001b[39;49m\u001b[43m]\u001b[49m\n\u001b[0;32m      4\u001b[0m \u001b[43m]\u001b[49m\n",
      "File \u001b[1;32mc:\\Users\\Chainsword\\anaconda3\\envs\\phd_rl_algos\\Lib\\site-packages\\pandas\\core\\frame.py:4096\u001b[0m, in \u001b[0;36mDataFrame.__getitem__\u001b[1;34m(self, key)\u001b[0m\n\u001b[0;32m   4094\u001b[0m     \u001b[38;5;28;01mif\u001b[39;00m is_iterator(key):\n\u001b[0;32m   4095\u001b[0m         key \u001b[38;5;241m=\u001b[39m \u001b[38;5;28mlist\u001b[39m(key)\n\u001b[1;32m-> 4096\u001b[0m     indexer \u001b[38;5;241m=\u001b[39m \u001b[38;5;28;43mself\u001b[39;49m\u001b[38;5;241;43m.\u001b[39;49m\u001b[43mcolumns\u001b[49m\u001b[38;5;241;43m.\u001b[39;49m\u001b[43m_get_indexer_strict\u001b[49m\u001b[43m(\u001b[49m\u001b[43mkey\u001b[49m\u001b[43m,\u001b[49m\u001b[43m \u001b[49m\u001b[38;5;124;43m\"\u001b[39;49m\u001b[38;5;124;43mcolumns\u001b[39;49m\u001b[38;5;124;43m\"\u001b[39;49m\u001b[43m)\u001b[49m[\u001b[38;5;241m1\u001b[39m]\n\u001b[0;32m   4098\u001b[0m \u001b[38;5;66;03m# take() does not accept boolean indexers\u001b[39;00m\n\u001b[0;32m   4099\u001b[0m \u001b[38;5;28;01mif\u001b[39;00m \u001b[38;5;28mgetattr\u001b[39m(indexer, \u001b[38;5;124m\"\u001b[39m\u001b[38;5;124mdtype\u001b[39m\u001b[38;5;124m\"\u001b[39m, \u001b[38;5;28;01mNone\u001b[39;00m) \u001b[38;5;241m==\u001b[39m \u001b[38;5;28mbool\u001b[39m:\n",
      "File \u001b[1;32mc:\\Users\\Chainsword\\anaconda3\\envs\\phd_rl_algos\\Lib\\site-packages\\pandas\\core\\indexes\\base.py:6199\u001b[0m, in \u001b[0;36mIndex._get_indexer_strict\u001b[1;34m(self, key, axis_name)\u001b[0m\n\u001b[0;32m   6196\u001b[0m \u001b[38;5;28;01melse\u001b[39;00m:\n\u001b[0;32m   6197\u001b[0m     keyarr, indexer, new_indexer \u001b[38;5;241m=\u001b[39m \u001b[38;5;28mself\u001b[39m\u001b[38;5;241m.\u001b[39m_reindex_non_unique(keyarr)\n\u001b[1;32m-> 6199\u001b[0m \u001b[38;5;28;43mself\u001b[39;49m\u001b[38;5;241;43m.\u001b[39;49m\u001b[43m_raise_if_missing\u001b[49m\u001b[43m(\u001b[49m\u001b[43mkeyarr\u001b[49m\u001b[43m,\u001b[49m\u001b[43m \u001b[49m\u001b[43mindexer\u001b[49m\u001b[43m,\u001b[49m\u001b[43m \u001b[49m\u001b[43maxis_name\u001b[49m\u001b[43m)\u001b[49m\n\u001b[0;32m   6201\u001b[0m keyarr \u001b[38;5;241m=\u001b[39m \u001b[38;5;28mself\u001b[39m\u001b[38;5;241m.\u001b[39mtake(indexer)\n\u001b[0;32m   6202\u001b[0m \u001b[38;5;28;01mif\u001b[39;00m \u001b[38;5;28misinstance\u001b[39m(key, Index):\n\u001b[0;32m   6203\u001b[0m     \u001b[38;5;66;03m# GH 42790 - Preserve name from an Index\u001b[39;00m\n",
      "File \u001b[1;32mc:\\Users\\Chainsword\\anaconda3\\envs\\phd_rl_algos\\Lib\\site-packages\\pandas\\core\\indexes\\base.py:6251\u001b[0m, in \u001b[0;36mIndex._raise_if_missing\u001b[1;34m(self, key, indexer, axis_name)\u001b[0m\n\u001b[0;32m   6248\u001b[0m     \u001b[38;5;28;01mraise\u001b[39;00m \u001b[38;5;167;01mKeyError\u001b[39;00m(\u001b[38;5;124mf\u001b[39m\u001b[38;5;124m\"\u001b[39m\u001b[38;5;124mNone of [\u001b[39m\u001b[38;5;132;01m{\u001b[39;00mkey\u001b[38;5;132;01m}\u001b[39;00m\u001b[38;5;124m] are in the [\u001b[39m\u001b[38;5;132;01m{\u001b[39;00maxis_name\u001b[38;5;132;01m}\u001b[39;00m\u001b[38;5;124m]\u001b[39m\u001b[38;5;124m\"\u001b[39m)\n\u001b[0;32m   6250\u001b[0m not_found \u001b[38;5;241m=\u001b[39m \u001b[38;5;28mlist\u001b[39m(ensure_index(key)[missing_mask\u001b[38;5;241m.\u001b[39mnonzero()[\u001b[38;5;241m0\u001b[39m]]\u001b[38;5;241m.\u001b[39munique())\n\u001b[1;32m-> 6251\u001b[0m \u001b[38;5;28;01mraise\u001b[39;00m \u001b[38;5;167;01mKeyError\u001b[39;00m(\u001b[38;5;124mf\u001b[39m\u001b[38;5;124m\"\u001b[39m\u001b[38;5;132;01m{\u001b[39;00mnot_found\u001b[38;5;132;01m}\u001b[39;00m\u001b[38;5;124m not in index\u001b[39m\u001b[38;5;124m\"\u001b[39m)\n",
      "\u001b[1;31mKeyError\u001b[0m: \"['sub_exp_cfg_agent_params.args_.action_w_noise_amplitude'] not in index\""
     ]
    }
   ],
   "source": [
    "# sub_df[[\n",
    "#     \"episode_discounted_rewards_mean\", \"episode_frames_mean\",\n",
    "#     \"seed\", \"sub_exp_cfg_agent_params.args_.action_w_noise_amplitude\"]\n",
    "# ]"
   ]
  },
  {
   "cell_type": "code",
   "execution_count": null,
   "metadata": {},
   "outputs": [],
   "source": [
    "# sub_df[\n",
    "#     (sub_df[\"sub_exp_cfg_agent_params.args_.action_w_noise_amplitude\"] == \"0.3\") \n",
    "# ]"
   ]
  },
  {
   "cell_type": "code",
   "execution_count": 153,
   "metadata": {},
   "outputs": [
    {
     "name": "stdout",
     "output_type": "stream",
     "text": [
      "D:\\Work\\repos\\RL\\phd-rl-algos\\dqn\\opinion_dynamics\\experiments\\results\\2025May09-234645_configs\\0000_experiment_run_name_best_params\\4\n"
     ]
    }
   ],
   "source": [
    "# Print the experiment_name of the row with the highest episode_rewards_mean \n",
    "print(sub_df[sub_df['episode_rewards_mean'] == sub_df['episode_rewards_mean'].max()]['sub_experiment_path'].values[0])\n",
    "# print(sub_df[sub_df['episode_rewards_mean'] == sub_df['episode_rewards_mean'].max()]['experiment_name'].values[0])\n",
    "# print(sub_df[sub_df['episode_rewards_mean'] == sub_df['episode_rewards_mean'].max()]['episode_rewards_mean'].values[0])\n"
   ]
  },
  {
   "cell_type": "code",
   "execution_count": null,
   "metadata": {},
   "outputs": [
    {
     "data": {
      "image/png": "[encoded data removed]",
      "text/plain": [
       "<Figure size 800x270 with 2 Axes>"
      ]
     },
     "metadata": {},
     "output_type": "display_data"
    }
   ],
   "source": [
    "import shap\n",
    "import xgboost\n",
    "import pandas as pd\n",
    "\n",
    "\n",
    "# Define the target metric and hyperparameter columns\n",
    "target_metric = \"episode_rewards_mean\"  # Replace with actual metric column name\n",
    "# Replace with actual hyperparameter column names\n",
    "\n",
    "# Prepare data\n",
    "X = sub_df[hyperparam_columns].apply(pd.to_numeric, errors='coerce')\n",
    "y = sub_df[target_metric].fillna(3 * sub_df[target_metric].min())\n",
    "\n",
    "# Train an XGBoost model to analyze feature importance\n",
    "model = xgboost.XGBRegressor(objective=\"reg:squarederror\", n_estimators=100, random_state=42)\n",
    "model.fit(X, y)\n",
    "\n",
    "# SHAP analysis\n",
    "explainer = shap.Explainer(model)\n",
    "shap_values = explainer(X)\n",
    "\n",
    "# Summary plot (feature importance)\n",
    "shap.summary_plot(shap_values, X)"
   ]
  },
  {
   "cell_type": "code",
   "execution_count": null,
   "metadata": {},
   "outputs": [
    {
     "data": {
      "text/plain": [
       "['sub_exp_cfg_optim.args_.lr',\n",
       " 'sub_exp_cfg_agent_params.args_.training_freq',\n",
       " 'sub_exp_cfg_agent_params.args_.action_w_noise_amplitude']"
      ]
     },
     "execution_count": 84,
     "metadata": {},
     "output_type": "execute_result"
    }
   ],
   "source": [
    "hyperparam_columns"
   ]
  },
  {
   "cell_type": "code",
   "execution_count": null,
   "metadata": {},
   "outputs": [
    {
     "data": {
      "application/vnd.plotly.v1+json": {
       "config": {
        "plotlyServerURL": "https://plot.ly"
       },
       "data": [
        {
         "hovertemplate": "experiment_name=0000_optim.args_.lr_1e-07__agent_params.args_.training_freq_2__agent_params.args_.action_w_noise_amplitude_0.8<br>size=2<br>noise=%{x}<br>episode_rewards_mean=%{y}<extra></extra>",
         "legendgroup": "0000_optim.args_.lr_1e-07__agent_params.args_.training_freq_2__agent_params.args_.action_w_noise_amplitude_0.8",
         "marker": {
          "color": "#636efa",
          "symbol": "circle"
         },
         "mode": "markers",
         "name": "0000_optim.args_.lr_1e-07__agent_params.args_.training_freq_2__agent_params.args_.action_w_noise_amplitude_0.8",
         "orientation": "v",
         "showlegend": true,
         "type": "scatter",
         "x": [
          "1e-07",
          "1e-07",
          "1e-07",
          "1e-07",
          "1e-07"
         ],
         "xaxis": "x",
         "y": [
          -5.900430041784268,
          -12.42115857594673,
          -10.185476906932385,
          -8.114202622578423,
          -11.693783764723321
         ],
         "yaxis": "y"
        },
        {
         "hovertemplate": "experiment_name=0001_optim.args_.lr_1e-07__agent_params.args_.training_freq_2__agent_params.args_.action_w_noise_amplitude_1<br>size=2<br>noise=%{x}<br>episode_rewards_mean=%{y}<extra></extra>",
         "legendgroup": "0001_optim.args_.lr_1e-07__agent_params.args_.training_freq_2__agent_params.args_.action_w_noise_amplitude_1",
         "marker": {
          "color": "#EF553B",
          "symbol": "circle"
         },
         "mode": "markers",
         "name": "0001_optim.args_.lr_1e-07__agent_params.args_.training_freq_2__agent_params.args_.action_w_noise_amplitude_1",
         "orientation": "v",
         "showlegend": true,
         "type": "scatter",
         "x": [
          "1e-07",
          "1e-07",
          "1e-07",
          "1e-07",
          "1e-07"
         ],
         "xaxis": "x",
         "y": [
          -5.893445955123026,
          -11.742473431257944,
          -9.513879684434734,
          -8.122849947929152,
          -12.088541333397501
         ],
         "yaxis": "y"
        },
        {
         "hovertemplate": "experiment_name=0002_optim.args_.lr_1e-07__agent_params.args_.training_freq_4__agent_params.args_.action_w_noise_amplitude_0.8<br>size=4<br>noise=%{x}<br>episode_rewards_mean=%{y}<extra></extra>",
         "legendgroup": "0002_optim.args_.lr_1e-07__agent_params.args_.training_freq_4__agent_params.args_.action_w_noise_amplitude_0.8",
         "marker": {
          "color": "#00cc96",
          "symbol": "circle"
         },
         "mode": "markers",
         "name": "0002_optim.args_.lr_1e-07__agent_params.args_.training_freq_4__agent_params.args_.action_w_noise_amplitude_0.8",
         "orientation": "v",
         "showlegend": true,
         "type": "scatter",
         "x": [
          "1e-07",
          "1e-07",
          "1e-07",
          "1e-07",
          "1e-07"
         ],
         "xaxis": "x2",
         "y": [
          -5.900893938524608,
          -11.378100971187983,
          -10.078228652700519,
          -7.953060541069727,
          -13.496617204509938
         ],
         "yaxis": "y2"
        },
        {
         "hovertemplate": "experiment_name=0003_optim.args_.lr_1e-07__agent_params.args_.training_freq_4__agent_params.args_.action_w_noise_amplitude_1<br>size=4<br>noise=%{x}<br>episode_rewards_mean=%{y}<extra></extra>",
         "legendgroup": "0003_optim.args_.lr_1e-07__agent_params.args_.training_freq_4__agent_params.args_.action_w_noise_amplitude_1",
         "marker": {
          "color": "#ab63fa",
          "symbol": "circle"
         },
         "mode": "markers",
         "name": "0003_optim.args_.lr_1e-07__agent_params.args_.training_freq_4__agent_params.args_.action_w_noise_amplitude_1",
         "orientation": "v",
         "showlegend": true,
         "type": "scatter",
         "x": [
          "1e-07",
          "1e-07",
          "1e-07",
          "1e-07",
          "1e-07"
         ],
         "xaxis": "x2",
         "y": [
          -5.875099397166127,
          -11.363907596127014,
          -10.619359771805367,
          -7.830496360652558,
          -15.001683319241295
         ],
         "yaxis": "y2"
        },
        {
         "hovertemplate": "experiment_name=0004_optim.args_.lr_1e-06__agent_params.args_.training_freq_2__agent_params.args_.action_w_noise_amplitude_0.8<br>size=2<br>noise=%{x}<br>episode_rewards_mean=%{y}<extra></extra>",
         "legendgroup": "0004_optim.args_.lr_1e-06__agent_params.args_.training_freq_2__agent_params.args_.action_w_noise_amplitude_0.8",
         "marker": {
          "color": "#FFA15A",
          "symbol": "circle"
         },
         "mode": "markers",
         "name": "0004_optim.args_.lr_1e-06__agent_params.args_.training_freq_2__agent_params.args_.action_w_noise_amplitude_0.8",
         "orientation": "v",
         "showlegend": true,
         "type": "scatter",
         "x": [
          "1e-06",
          "1e-06",
          "1e-06",
          "1e-06",
          "1e-06"
         ],
         "xaxis": "x",
         "y": [
          -5.6460837943779,
          -10.205949819775695,
          -7.347573504348282,
          -5.990760190171824,
          -6.106213429812146
         ],
         "yaxis": "y"
        },
        {
         "hovertemplate": "experiment_name=0005_optim.args_.lr_1e-06__agent_params.args_.training_freq_2__agent_params.args_.action_w_noise_amplitude_1<br>size=2<br>noise=%{x}<br>episode_rewards_mean=%{y}<extra></extra>",
         "legendgroup": "0005_optim.args_.lr_1e-06__agent_params.args_.training_freq_2__agent_params.args_.action_w_noise_amplitude_1",
         "marker": {
          "color": "#19d3f3",
          "symbol": "circle"
         },
         "mode": "markers",
         "name": "0005_optim.args_.lr_1e-06__agent_params.args_.training_freq_2__agent_params.args_.action_w_noise_amplitude_1",
         "orientation": "v",
         "showlegend": true,
         "type": "scatter",
         "x": [
          "1e-06",
          "1e-06",
          "1e-06",
          "1e-06",
          "1e-06"
         ],
         "xaxis": "x",
         "y": [
          -5.901974226974224,
          -6.21278587938926,
          -8.826013734523045,
          -6.899241773970254,
          -6.461183187413422
         ],
         "yaxis": "y"
        },
        {
         "hovertemplate": "experiment_name=0006_optim.args_.lr_1e-06__agent_params.args_.training_freq_4__agent_params.args_.action_w_noise_amplitude_0.8<br>size=4<br>noise=%{x}<br>episode_rewards_mean=%{y}<extra></extra>",
         "legendgroup": "0006_optim.args_.lr_1e-06__agent_params.args_.training_freq_4__agent_params.args_.action_w_noise_amplitude_0.8",
         "marker": {
          "color": "#FF6692",
          "symbol": "circle"
         },
         "mode": "markers",
         "name": "0006_optim.args_.lr_1e-06__agent_params.args_.training_freq_4__agent_params.args_.action_w_noise_amplitude_0.8",
         "orientation": "v",
         "showlegend": true,
         "type": "scatter",
         "x": [
          "1e-06",
          "1e-06",
          "1e-06",
          "1e-06",
          "1e-06"
         ],
         "xaxis": "x2",
         "y": [
          -5.895070776991221,
          -6.061581160231469,
          -9.455036054380539,
          -7.498898261732804,
          -8.914862957118013
         ],
         "yaxis": "y2"
        },
        {
         "hovertemplate": "experiment_name=0007_optim.args_.lr_1e-06__agent_params.args_.training_freq_4__agent_params.args_.action_w_noise_amplitude_1<br>size=4<br>noise=%{x}<br>episode_rewards_mean=%{y}<extra></extra>",
         "legendgroup": "0007_optim.args_.lr_1e-06__agent_params.args_.training_freq_4__agent_params.args_.action_w_noise_amplitude_1",
         "marker": {
          "color": "#B6E880",
          "symbol": "circle"
         },
         "mode": "markers",
         "name": "0007_optim.args_.lr_1e-06__agent_params.args_.training_freq_4__agent_params.args_.action_w_noise_amplitude_1",
         "orientation": "v",
         "showlegend": true,
         "type": "scatter",
         "x": [
          "1e-06",
          "1e-06",
          "1e-06",
          "1e-06",
          "1e-06"
         ],
         "xaxis": "x2",
         "y": [
          -5.945969953915471,
          -16.685835309736042,
          -10.955063151135457,
          -7.226148729966539,
          -7.431336240619541
         ],
         "yaxis": "y2"
        }
       ],
       "layout": {
        "annotations": [
         {
          "font": {},
          "showarrow": false,
          "text": "size=2",
          "x": 0.245,
          "xanchor": "center",
          "xref": "paper",
          "y": 1,
          "yanchor": "bottom",
          "yref": "paper"
         },
         {
          "font": {},
          "showarrow": false,
          "text": "size=4",
          "x": 0.755,
          "xanchor": "center",
          "xref": "paper",
          "y": 1,
          "yanchor": "bottom",
          "yref": "paper"
         }
        ],
        "height": 600,
        "legend": {
         "title": {
          "text": "experiment_name"
         },
         "tracegroupgap": 0
        },
        "showlegend": false,
        "template": {
         "data": {
          "bar": [
           {
            "error_x": {
             "color": "#2a3f5f"
            },
            "error_y": {
             "color": "#2a3f5f"
            },
            "marker": {
             "line": {
              "color": "#E5ECF6",
              "width": 0.5
             },
             "pattern": {
              "fillmode": "overlay",
              "size": 10,
              "solidity": 0.2
             }
            },
            "type": "bar"
           }
          ],
          "barpolar": [
           {
            "marker": {
             "line": {
              "color": "#E5ECF6",
              "width": 0.5
             },
             "pattern": {
              "fillmode": "overlay",
              "size": 10,
              "solidity": 0.2
             }
            },
            "type": "barpolar"
           }
          ],
          "carpet": [
           {
            "aaxis": {
             "endlinecolor": "#2a3f5f",
             "gridcolor": "white",
             "linecolor": "white",
             "minorgridcolor": "white",
             "startlinecolor": "#2a3f5f"
            },
            "baxis": {
             "endlinecolor": "#2a3f5f",
             "gridcolor": "white",
             "linecolor": "white",
             "minorgridcolor": "white",
             "startlinecolor": "#2a3f5f"
            },
            "type": "carpet"
           }
          ],
          "choropleth": [
           {
            "colorbar": {
             "outlinewidth": 0,
             "ticks": ""
            },
            "type": "choropleth"
           }
          ],
          "contour": [
           {
            "colorbar": {
             "outlinewidth": 0,
             "ticks": ""
            },
            "colorscale": [
             [
              0,
              "#0d0887"
             ],
             [
              0.1111111111111111,
              "#46039f"
             ],
             [
              0.2222222222222222,
              "#7201a8"
             ],
             [
              0.3333333333333333,
              "#9c179e"
             ],
             [
              0.4444444444444444,
              "#bd3786"
             ],
             [
              0.5555555555555556,
              "#d8576b"
             ],
             [
              0.6666666666666666,
              "#ed7953"
             ],
             [
              0.7777777777777778,
              "#fb9f3a"
             ],
             [
              0.8888888888888888,
              "#fdca26"
             ],
             [
              1,
              "#f0f921"
             ]
            ],
            "type": "contour"
           }
          ],
          "contourcarpet": [
           {
            "colorbar": {
             "outlinewidth": 0,
             "ticks": ""
            },
            "type": "contourcarpet"
           }
          ],
          "heatmap": [
           {
            "colorbar": {
             "outlinewidth": 0,
             "ticks": ""
            },
            "colorscale": [
             [
              0,
              "#0d0887"
             ],
             [
              0.1111111111111111,
              "#46039f"
             ],
             [
              0.2222222222222222,
              "#7201a8"
             ],
             [
              0.3333333333333333,
              "#9c179e"
             ],
             [
              0.4444444444444444,
              "#bd3786"
             ],
             [
              0.5555555555555556,
              "#d8576b"
             ],
             [
              0.6666666666666666,
              "#ed7953"
             ],
             [
              0.7777777777777778,
              "#fb9f3a"
             ],
             [
              0.8888888888888888,
              "#fdca26"
             ],
             [
              1,
              "#f0f921"
             ]
            ],
            "type": "heatmap"
           }
          ],
          "heatmapgl": [
           {
            "colorbar": {
             "outlinewidth": 0,
             "ticks": ""
            },
            "colorscale": [
             [
              0,
              "#0d0887"
             ],
             [
              0.1111111111111111,
              "#46039f"
             ],
             [
              0.2222222222222222,
              "#7201a8"
             ],
             [
              0.3333333333333333,
              "#9c179e"
             ],
             [
              0.4444444444444444,
              "#bd3786"
             ],
             [
              0.5555555555555556,
              "#d8576b"
             ],
             [
              0.6666666666666666,
              "#ed7953"
             ],
             [
              0.7777777777777778,
              "#fb9f3a"
             ],
             [
              0.8888888888888888,
              "#fdca26"
             ],
             [
              1,
              "#f0f921"
             ]
            ],
            "type": "heatmapgl"
           }
          ],
          "histogram": [
           {
            "marker": {
             "pattern": {
              "fillmode": "overlay",
              "size": 10,
              "solidity": 0.2
             }
            },
            "type": "histogram"
           }
          ],
          "histogram2d": [
           {
            "colorbar": {
             "outlinewidth": 0,
             "ticks": ""
            },
            "colorscale": [
             [
              0,
              "#0d0887"
             ],
             [
              0.1111111111111111,
              "#46039f"
             ],
             [
              0.2222222222222222,
              "#7201a8"
             ],
             [
              0.3333333333333333,
              "#9c179e"
             ],
             [
              0.4444444444444444,
              "#bd3786"
             ],
             [
              0.5555555555555556,
              "#d8576b"
             ],
             [
              0.6666666666666666,
              "#ed7953"
             ],
             [
              0.7777777777777778,
              "#fb9f3a"
             ],
             [
              0.8888888888888888,
              "#fdca26"
             ],
             [
              1,
              "#f0f921"
             ]
            ],
            "type": "histogram2d"
           }
          ],
          "histogram2dcontour": [
           {
            "colorbar": {
             "outlinewidth": 0,
             "ticks": ""
            },
            "colorscale": [
             [
              0,
              "#0d0887"
             ],
             [
              0.1111111111111111,
              "#46039f"
             ],
             [
              0.2222222222222222,
              "#7201a8"
             ],
             [
              0.3333333333333333,
              "#9c179e"
             ],
             [
              0.4444444444444444,
              "#bd3786"
             ],
             [
              0.5555555555555556,
              "#d8576b"
             ],
             [
              0.6666666666666666,
              "#ed7953"
             ],
             [
              0.7777777777777778,
              "#fb9f3a"
             ],
             [
              0.8888888888888888,
              "#fdca26"
             ],
             [
              1,
              "#f0f921"
             ]
            ],
            "type": "histogram2dcontour"
           }
          ],
          "mesh3d": [
           {
            "colorbar": {
             "outlinewidth": 0,
             "ticks": ""
            },
            "type": "mesh3d"
           }
          ],
          "parcoords": [
           {
            "line": {
             "colorbar": {
              "outlinewidth": 0,
              "ticks": ""
             }
            },
            "type": "parcoords"
           }
          ],
          "pie": [
           {
            "automargin": true,
            "type": "pie"
           }
          ],
          "scatter": [
           {
            "fillpattern": {
             "fillmode": "overlay",
             "size": 10,
             "solidity": 0.2
            },
            "type": "scatter"
           }
          ],
          "scatter3d": [
           {
            "line": {
             "colorbar": {
              "outlinewidth": 0,
              "ticks": ""
             }
            },
            "marker": {
             "colorbar": {
              "outlinewidth": 0,
              "ticks": ""
             }
            },
            "type": "scatter3d"
           }
          ],
          "scattercarpet": [
           {
            "marker": {
             "colorbar": {
              "outlinewidth": 0,
              "ticks": ""
             }
            },
            "type": "scattercarpet"
           }
          ],
          "scattergeo": [
           {
            "marker": {
             "colorbar": {
              "outlinewidth": 0,
              "ticks": ""
             }
            },
            "type": "scattergeo"
           }
          ],
          "scattergl": [
           {
            "marker": {
             "colorbar": {
              "outlinewidth": 0,
              "ticks": ""
             }
            },
            "type": "scattergl"
           }
          ],
          "scattermapbox": [
           {
            "marker": {
             "colorbar": {
              "outlinewidth": 0,
              "ticks": ""
             }
            },
            "type": "scattermapbox"
           }
          ],
          "scatterpolar": [
           {
            "marker": {
             "colorbar": {
              "outlinewidth": 0,
              "ticks": ""
             }
            },
            "type": "scatterpolar"
           }
          ],
          "scatterpolargl": [
           {
            "marker": {
             "colorbar": {
              "outlinewidth": 0,
              "ticks": ""
             }
            },
            "type": "scatterpolargl"
           }
          ],
          "scatterternary": [
           {
            "marker": {
             "colorbar": {
              "outlinewidth": 0,
              "ticks": ""
             }
            },
            "type": "scatterternary"
           }
          ],
          "surface": [
           {
            "colorbar": {
             "outlinewidth": 0,
             "ticks": ""
            },
            "colorscale": [
             [
              0,
              "#0d0887"
             ],
             [
              0.1111111111111111,
              "#46039f"
             ],
             [
              0.2222222222222222,
              "#7201a8"
             ],
             [
              0.3333333333333333,
              "#9c179e"
             ],
             [
              0.4444444444444444,
              "#bd3786"
             ],
             [
              0.5555555555555556,
              "#d8576b"
             ],
             [
              0.6666666666666666,
              "#ed7953"
             ],
             [
              0.7777777777777778,
              "#fb9f3a"
             ],
             [
              0.8888888888888888,
              "#fdca26"
             ],
             [
              1,
              "#f0f921"
             ]
            ],
            "type": "surface"
           }
          ],
          "table": [
           {
            "cells": {
             "fill": {
              "color": "#EBF0F8"
             },
             "line": {
              "color": "white"
             }
            },
            "header": {
             "fill": {
              "color": "#C8D4E3"
             },
             "line": {
              "color": "white"
             }
            },
            "type": "table"
           }
          ]
         },
         "layout": {
          "annotationdefaults": {
           "arrowcolor": "#2a3f5f",
           "arrowhead": 0,
           "arrowwidth": 1
          },
          "autotypenumbers": "strict",
          "coloraxis": {
           "colorbar": {
            "outlinewidth": 0,
            "ticks": ""
           }
          },
          "colorscale": {
           "diverging": [
            [
             0,
             "#8e0152"
            ],
            [
             0.1,
             "#c51b7d"
            ],
            [
             0.2,
             "#de77ae"
            ],
            [
             0.3,
             "#f1b6da"
            ],
            [
             0.4,
             "#fde0ef"
            ],
            [
             0.5,
             "#f7f7f7"
            ],
            [
             0.6,
             "#e6f5d0"
            ],
            [
             0.7,
             "#b8e186"
            ],
            [
             0.8,
             "#7fbc41"
            ],
            [
             0.9,
             "#4d9221"
            ],
            [
             1,
             "#276419"
            ]
           ],
           "sequential": [
            [
             0,
             "#0d0887"
            ],
            [
             0.1111111111111111,
             "#46039f"
            ],
            [
             0.2222222222222222,
             "#7201a8"
            ],
            [
             0.3333333333333333,
             "#9c179e"
            ],
            [
             0.4444444444444444,
             "#bd3786"
            ],
            [
             0.5555555555555556,
             "#d8576b"
            ],
            [
             0.6666666666666666,
             "#ed7953"
            ],
            [
             0.7777777777777778,
             "#fb9f3a"
            ],
            [
             0.8888888888888888,
             "#fdca26"
            ],
            [
             1,
             "#f0f921"
            ]
           ],
           "sequentialminus": [
            [
             0,
             "#0d0887"
            ],
            [
             0.1111111111111111,
             "#46039f"
            ],
            [
             0.2222222222222222,
             "#7201a8"
            ],
            [
             0.3333333333333333,
             "#9c179e"
            ],
            [
             0.4444444444444444,
             "#bd3786"
            ],
            [
             0.5555555555555556,
             "#d8576b"
            ],
            [
             0.6666666666666666,
             "#ed7953"
            ],
            [
             0.7777777777777778,
             "#fb9f3a"
            ],
            [
             0.8888888888888888,
             "#fdca26"
            ],
            [
             1,
             "#f0f921"
            ]
           ]
          },
          "colorway": [
           "#636efa",
           "#EF553B",
           "#00cc96",
           "#ab63fa",
           "#FFA15A",
           "#19d3f3",
           "#FF6692",
           "#B6E880",
           "#FF97FF",
           "#FECB52"
          ],
          "font": {
           "color": "#2a3f5f"
          },
          "geo": {
           "bgcolor": "white",
           "lakecolor": "white",
           "landcolor": "#E5ECF6",
           "showlakes": true,
           "showland": true,
           "subunitcolor": "white"
          },
          "hoverlabel": {
           "align": "left"
          },
          "hovermode": "closest",
          "mapbox": {
           "style": "light"
          },
          "paper_bgcolor": "white",
          "plot_bgcolor": "#E5ECF6",
          "polar": {
           "angularaxis": {
            "gridcolor": "white",
            "linecolor": "white",
            "ticks": ""
           },
           "bgcolor": "#E5ECF6",
           "radialaxis": {
            "gridcolor": "white",
            "linecolor": "white",
            "ticks": ""
           }
          },
          "scene": {
           "xaxis": {
            "backgroundcolor": "#E5ECF6",
            "gridcolor": "white",
            "gridwidth": 2,
            "linecolor": "white",
            "showbackground": true,
            "ticks": "",
            "zerolinecolor": "white"
           },
           "yaxis": {
            "backgroundcolor": "#E5ECF6",
            "gridcolor": "white",
            "gridwidth": 2,
            "linecolor": "white",
            "showbackground": true,
            "ticks": "",
            "zerolinecolor": "white"
           },
           "zaxis": {
            "backgroundcolor": "#E5ECF6",
            "gridcolor": "white",
            "gridwidth": 2,
            "linecolor": "white",
            "showbackground": true,
            "ticks": "",
            "zerolinecolor": "white"
           }
          },
          "shapedefaults": {
           "line": {
            "color": "#2a3f5f"
           }
          },
          "ternary": {
           "aaxis": {
            "gridcolor": "white",
            "linecolor": "white",
            "ticks": ""
           },
           "baxis": {
            "gridcolor": "white",
            "linecolor": "white",
            "ticks": ""
           },
           "bgcolor": "#E5ECF6",
           "caxis": {
            "gridcolor": "white",
            "linecolor": "white",
            "ticks": ""
           }
          },
          "title": {
           "x": 0.05
          },
          "xaxis": {
           "automargin": true,
           "gridcolor": "white",
           "linecolor": "white",
           "ticks": "",
           "title": {
            "standoff": 15
           },
           "zerolinecolor": "white",
           "zerolinewidth": 2
          },
          "yaxis": {
           "automargin": true,
           "gridcolor": "white",
           "linecolor": "white",
           "ticks": "",
           "title": {
            "standoff": 15
           },
           "zerolinecolor": "white",
           "zerolinewidth": 2
          }
         }
        },
        "title": {
         "text": "Episode Rewards vs. Noise Faceted by Size"
        },
        "xaxis": {
         "anchor": "y",
         "domain": [
          0,
          0.49
         ],
         "title": {
          "text": "noise"
         }
        },
        "xaxis2": {
         "anchor": "y2",
         "domain": [
          0.51,
          1
         ],
         "matches": "x",
         "title": {
          "text": "noise"
         }
        },
        "yaxis": {
         "anchor": "x",
         "domain": [
          0,
          1
         ],
         "title": {
          "text": "episode_rewards_mean"
         }
        },
        "yaxis2": {
         "anchor": "x2",
         "domain": [
          0,
          1
         ],
         "matches": "y",
         "showticklabels": false
        }
       }
      }
     },
     "metadata": {},
     "output_type": "display_data"
    }
   ],
   "source": [
    "import plotly.express as px\n",
    "\n",
    "# Define readable names for selected hyperparams\n",
    "readable_names = {\n",
    "    hyperparam_columns[0]: \"noise\",\n",
    "    hyperparam_columns[1]: \"size\"\n",
    "}\n",
    "\n",
    "# Rename columns in a copy of the dataframe\n",
    "plot_df = sub_df.rename(columns=readable_names)\n",
    "\n",
    "# Assign new column names\n",
    "x_col = \"noise\"\n",
    "y_col = \"episode_rewards_mean\"\n",
    "facet_col = \"size\"\n",
    "\n",
    "# Plot\n",
    "fig = px.scatter(\n",
    "    plot_df,\n",
    "    x=x_col,\n",
    "    y=y_col,\n",
    "    color=\"experiment_name\",  # Optional: color by experiment\n",
    "    facet_col=facet_col,\n",
    "    title=\"Episode Rewards vs. Noise Faceted by Size\",\n",
    "    height=600\n",
    ")\n",
    "\n",
    "fig.update_layout(showlegend=False)\n",
    "fig.show()\n"
   ]
  },
  {
   "cell_type": "code",
   "execution_count": null,
   "metadata": {},
   "outputs": [],
   "source": []
  }
 ],
 "metadata": {
  "kernelspec": {
   "display_name": "phd_rl_algos",
   "language": "python",
   "name": "python3"
  },
  "language_info": {
   "codemirror_mode": {
    "name": "ipython",
    "version": 3
   },
   "file_extension": ".py",
   "mimetype": "text/x-python",
   "name": "python",
   "nbconvert_exporter": "python",
   "pygments_lexer": "ipython3",
   "version": "3.11.5"
  }
 },
 "nbformat": 4,
 "nbformat_minor": 2
}
