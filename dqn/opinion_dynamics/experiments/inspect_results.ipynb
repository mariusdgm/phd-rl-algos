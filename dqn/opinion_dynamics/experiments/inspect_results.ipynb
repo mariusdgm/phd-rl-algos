{
 "cells": [
  {
   "cell_type": "code",
   "execution_count": 20,
   "metadata": {},
   "outputs": [
    {
     "name": "stdout",
     "output_type": "stream",
     "text": [
      "The autoreload extension is already loaded. To reload it, use:\n",
      "  %reload_ext autoreload\n"
     ]
    }
   ],
   "source": [
    "%load_ext autoreload\n",
    "%autoreload 2"
   ]
  },
  {
   "cell_type": "code",
   "execution_count": 21,
   "metadata": {},
   "outputs": [],
   "source": [
    "import os, sys\n",
    "\n",
    "def get_dir_n_levels_up(path, n):\n",
    "    # Go up n levels from the given path\n",
    "    for _ in range(n):\n",
    "        path = os.path.dirname(path)\n",
    "    return path\n",
    "\n",
    "proj_root = get_dir_n_levels_up(os.path.abspath(\"__file__\"), 4)\n",
    "sys.path.append(proj_root)\n",
    "\n",
    "import warnings\n",
    "import numpy as np\n",
    "\n",
    "import seaborn as sns\n",
    "import matplotlib.pyplot as plt\n",
    "sns.set_theme()\n",
    "\n",
    "warnings.filterwarnings(\"ignore\")\n",
    "\n",
    "from dqn.opinion_dynamics.utils.experiment import process_experiment\n"
   ]
  },
  {
   "cell_type": "code",
   "execution_count": 22,
   "metadata": {},
   "outputs": [
    {
     "data": {
      "text/plain": [
       "Index(['epoch_type', 'frame_stamp', 'greedy_epsilon', 'episode_rewards_min',\n",
       "       'episode_rewards_max', 'episode_rewards_mean', 'episode_rewards_median',\n",
       "       'episode_rewards_std', 'episode_discounted_rewards_min',\n",
       "       'episode_discounted_rewards_max', 'episode_discounted_rewards_mean',\n",
       "       'episode_discounted_rewards_median', 'episode_discounted_rewards_std',\n",
       "       'episode_frames_min', 'episode_frames_max', 'episode_frames_mean',\n",
       "       'episode_frames_median', 'episode_frames_std', 'episode_losses_min',\n",
       "       'episode_losses_max', 'episode_losses_mean', 'episode_losses_median',\n",
       "       'episode_losses_std', 'episode_max_qs_min', 'episode_max_qs_max',\n",
       "       'episode_max_qs_mean', 'episode_max_qs_median', 'episode_max_qs_std',\n",
       "       'policy_trained_times', 'target_trained_times', 'epoch_time',\n",
       "       'sub_exp_cfg_optim.args_.eps', 'sub_exp_cfg_optim.args_.lr',\n",
       "       'sub_exp_cfg_agent_params.args_.betas',\n",
       "       'sub_exp_cfg_agent_params.model', 'sub_exp_cfg_experiment',\n",
       "       'sub_experiment_path', 'seed', 'experiment_name'],\n",
       "      dtype='object')"
      ]
     },
     "execution_count": 22,
     "metadata": {},
     "output_type": "execute_result"
    }
   ],
   "source": [
    "# experiment_sub_dir = \"2025May02-101004_configs\" # excellent run\n",
    "# experiment_sub_dir = \"2025Jul09-171538_configs\" # good latest run\n",
    "\n",
    "experiment_sub_dir = \"2025Aug30-132637_configs\" \n",
    "\n",
    "exp_path = os.path.join(os.path.abspath(\".\"), \"results\", experiment_sub_dir)\n",
    "df = process_experiment(\n",
    "    exp_path\n",
    ")\n",
    "df.columns\n"
   ]
  },
  {
   "cell_type": "code",
   "execution_count": 23,
   "metadata": {},
   "outputs": [
    {
     "data": {
      "text/html": [
       "<div>\n",
       "<style scoped>\n",
       "    .dataframe tbody tr th:only-of-type {\n",
       "        vertical-align: middle;\n",
       "    }\n",
       "\n",
       "    .dataframe tbody tr th {\n",
       "        vertical-align: top;\n",
       "    }\n",
       "\n",
       "    .dataframe thead th {\n",
       "        text-align: right;\n",
       "    }\n",
       "</style>\n",
       "<table border=\"1\" class=\"dataframe\">\n",
       "  <thead>\n",
       "    <tr style=\"text-align: right;\">\n",
       "      <th></th>\n",
       "      <th>epoch_type</th>\n",
       "      <th>frame_stamp</th>\n",
       "      <th>greedy_epsilon</th>\n",
       "      <th>episode_rewards_min</th>\n",
       "      <th>episode_rewards_max</th>\n",
       "      <th>episode_rewards_mean</th>\n",
       "      <th>episode_rewards_median</th>\n",
       "      <th>episode_rewards_std</th>\n",
       "      <th>episode_discounted_rewards_min</th>\n",
       "      <th>episode_discounted_rewards_max</th>\n",
       "      <th>...</th>\n",
       "      <th>target_trained_times</th>\n",
       "      <th>epoch_time</th>\n",
       "      <th>sub_exp_cfg_optim.args_.eps</th>\n",
       "      <th>sub_exp_cfg_optim.args_.lr</th>\n",
       "      <th>sub_exp_cfg_agent_params.args_.betas</th>\n",
       "      <th>sub_exp_cfg_agent_params.model</th>\n",
       "      <th>sub_exp_cfg_experiment</th>\n",
       "      <th>sub_experiment_path</th>\n",
       "      <th>seed</th>\n",
       "      <th>experiment_name</th>\n",
       "    </tr>\n",
       "  </thead>\n",
       "  <tbody>\n",
       "    <tr>\n",
       "      <th>0</th>\n",
       "      <td>training</td>\n",
       "      <td>200000</td>\n",
       "      <td>0.907375</td>\n",
       "      <td>-21.311181</td>\n",
       "      <td>-7.313749</td>\n",
       "      <td>-13.088833</td>\n",
       "      <td>-12.965404</td>\n",
       "      <td>2.161265</td>\n",
       "      <td>-17.138206</td>\n",
       "      <td>-5.722502</td>\n",
       "      <td>...</td>\n",
       "      <td>192.0</td>\n",
       "      <td>0 days 00:07:06.463382</td>\n",
       "      <td>1e-09</td>\n",
       "      <td>1e-06</td>\n",
       "      <td>[0, 1, 2]</td>\n",
       "      <td>OpinionNetFixedW</td>\n",
       "      <td>opinion_agent_dqn_fixed_dist_fixed_steps</td>\n",
       "      <td>d:\\Work\\repos\\RL\\phd-rl-algos\\dqn\\opinion_dyna...</td>\n",
       "      <td>0</td>\n",
       "      <td>0000_optim.args_.eps_1e-09__optim.args_.lr_1e-...</td>\n",
       "    </tr>\n",
       "    <tr>\n",
       "      <th>1</th>\n",
       "      <td>training</td>\n",
       "      <td>400000</td>\n",
       "      <td>0.812375</td>\n",
       "      <td>-22.869381</td>\n",
       "      <td>-7.067742</td>\n",
       "      <td>-13.555417</td>\n",
       "      <td>-13.355640</td>\n",
       "      <td>2.411626</td>\n",
       "      <td>-18.381781</td>\n",
       "      <td>-5.653397</td>\n",
       "      <td>...</td>\n",
       "      <td>200.0</td>\n",
       "      <td>0 days 00:07:44.591472</td>\n",
       "      <td>1e-09</td>\n",
       "      <td>1e-06</td>\n",
       "      <td>[0, 1, 2]</td>\n",
       "      <td>OpinionNetFixedW</td>\n",
       "      <td>opinion_agent_dqn_fixed_dist_fixed_steps</td>\n",
       "      <td>d:\\Work\\repos\\RL\\phd-rl-algos\\dqn\\opinion_dyna...</td>\n",
       "      <td>0</td>\n",
       "      <td>0000_optim.args_.eps_1e-09__optim.args_.lr_1e-...</td>\n",
       "    </tr>\n",
       "    <tr>\n",
       "      <th>2</th>\n",
       "      <td>training</td>\n",
       "      <td>600000</td>\n",
       "      <td>0.717375</td>\n",
       "      <td>-29.045010</td>\n",
       "      <td>-7.262645</td>\n",
       "      <td>-14.412945</td>\n",
       "      <td>-14.205236</td>\n",
       "      <td>2.758383</td>\n",
       "      <td>-22.501321</td>\n",
       "      <td>-5.787408</td>\n",
       "      <td>...</td>\n",
       "      <td>200.0</td>\n",
       "      <td>0 days 00:07:57.004538</td>\n",
       "      <td>1e-09</td>\n",
       "      <td>1e-06</td>\n",
       "      <td>[0, 1, 2]</td>\n",
       "      <td>OpinionNetFixedW</td>\n",
       "      <td>opinion_agent_dqn_fixed_dist_fixed_steps</td>\n",
       "      <td>d:\\Work\\repos\\RL\\phd-rl-algos\\dqn\\opinion_dyna...</td>\n",
       "      <td>0</td>\n",
       "      <td>0000_optim.args_.eps_1e-09__optim.args_.lr_1e-...</td>\n",
       "    </tr>\n",
       "    <tr>\n",
       "      <th>3</th>\n",
       "      <td>training</td>\n",
       "      <td>800000</td>\n",
       "      <td>0.622375</td>\n",
       "      <td>-26.864162</td>\n",
       "      <td>-7.434794</td>\n",
       "      <td>-15.450084</td>\n",
       "      <td>-15.162936</td>\n",
       "      <td>3.214437</td>\n",
       "      <td>-21.034683</td>\n",
       "      <td>-5.931133</td>\n",
       "      <td>...</td>\n",
       "      <td>200.0</td>\n",
       "      <td>0 days 00:07:59.847435</td>\n",
       "      <td>1e-09</td>\n",
       "      <td>1e-06</td>\n",
       "      <td>[0, 1, 2]</td>\n",
       "      <td>OpinionNetFixedW</td>\n",
       "      <td>opinion_agent_dqn_fixed_dist_fixed_steps</td>\n",
       "      <td>d:\\Work\\repos\\RL\\phd-rl-algos\\dqn\\opinion_dyna...</td>\n",
       "      <td>0</td>\n",
       "      <td>0000_optim.args_.eps_1e-09__optim.args_.lr_1e-...</td>\n",
       "    </tr>\n",
       "    <tr>\n",
       "      <th>4</th>\n",
       "      <td>training</td>\n",
       "      <td>1000000</td>\n",
       "      <td>0.527375</td>\n",
       "      <td>-38.618659</td>\n",
       "      <td>-7.130184</td>\n",
       "      <td>-16.771524</td>\n",
       "      <td>-16.400404</td>\n",
       "      <td>3.826748</td>\n",
       "      <td>-28.562329</td>\n",
       "      <td>-5.632597</td>\n",
       "      <td>...</td>\n",
       "      <td>200.0</td>\n",
       "      <td>0 days 00:07:47.518452</td>\n",
       "      <td>1e-09</td>\n",
       "      <td>1e-06</td>\n",
       "      <td>[0, 1, 2]</td>\n",
       "      <td>OpinionNetFixedW</td>\n",
       "      <td>opinion_agent_dqn_fixed_dist_fixed_steps</td>\n",
       "      <td>d:\\Work\\repos\\RL\\phd-rl-algos\\dqn\\opinion_dyna...</td>\n",
       "      <td>0</td>\n",
       "      <td>0000_optim.args_.eps_1e-09__optim.args_.lr_1e-...</td>\n",
       "    </tr>\n",
       "    <tr>\n",
       "      <th>...</th>\n",
       "      <td>...</td>\n",
       "      <td>...</td>\n",
       "      <td>...</td>\n",
       "      <td>...</td>\n",
       "      <td>...</td>\n",
       "      <td>...</td>\n",
       "      <td>...</td>\n",
       "      <td>...</td>\n",
       "      <td>...</td>\n",
       "      <td>...</td>\n",
       "      <td>...</td>\n",
       "      <td>...</td>\n",
       "      <td>...</td>\n",
       "      <td>...</td>\n",
       "      <td>...</td>\n",
       "      <td>...</td>\n",
       "      <td>...</td>\n",
       "      <td>...</td>\n",
       "      <td>...</td>\n",
       "      <td>...</td>\n",
       "      <td>...</td>\n",
       "    </tr>\n",
       "    <tr>\n",
       "      <th>75</th>\n",
       "      <td>validation</td>\n",
       "      <td>1200000</td>\n",
       "      <td>NaN</td>\n",
       "      <td>-12.470375</td>\n",
       "      <td>-9.261328</td>\n",
       "      <td>-10.826950</td>\n",
       "      <td>-10.417305</td>\n",
       "      <td>1.311489</td>\n",
       "      <td>-10.749731</td>\n",
       "      <td>-7.815449</td>\n",
       "      <td>...</td>\n",
       "      <td>NaN</td>\n",
       "      <td>0 days 00:00:01.594909</td>\n",
       "      <td>1e-08</td>\n",
       "      <td>5e-06</td>\n",
       "      <td>[0, 1, 2]</td>\n",
       "      <td>OpinionNetFixedW</td>\n",
       "      <td>opinion_agent_dqn_fixed_dist_fixed_steps</td>\n",
       "      <td>d:\\Work\\repos\\RL\\phd-rl-algos\\dqn\\opinion_dyna...</td>\n",
       "      <td>0</td>\n",
       "      <td>0003_optim.args_.eps_1e-08__optim.args_.lr_5e-...</td>\n",
       "    </tr>\n",
       "    <tr>\n",
       "      <th>76</th>\n",
       "      <td>validation</td>\n",
       "      <td>1400000</td>\n",
       "      <td>NaN</td>\n",
       "      <td>-12.402688</td>\n",
       "      <td>-9.182570</td>\n",
       "      <td>-10.514202</td>\n",
       "      <td>-10.335044</td>\n",
       "      <td>1.289857</td>\n",
       "      <td>-10.716678</td>\n",
       "      <td>-7.775552</td>\n",
       "      <td>...</td>\n",
       "      <td>NaN</td>\n",
       "      <td>0 days 00:00:01.591857</td>\n",
       "      <td>1e-08</td>\n",
       "      <td>5e-06</td>\n",
       "      <td>[0, 1, 2]</td>\n",
       "      <td>OpinionNetFixedW</td>\n",
       "      <td>opinion_agent_dqn_fixed_dist_fixed_steps</td>\n",
       "      <td>d:\\Work\\repos\\RL\\phd-rl-algos\\dqn\\opinion_dyna...</td>\n",
       "      <td>0</td>\n",
       "      <td>0003_optim.args_.eps_1e-08__optim.args_.lr_5e-...</td>\n",
       "    </tr>\n",
       "    <tr>\n",
       "      <th>77</th>\n",
       "      <td>validation</td>\n",
       "      <td>1600000</td>\n",
       "      <td>NaN</td>\n",
       "      <td>-12.409676</td>\n",
       "      <td>-9.118922</td>\n",
       "      <td>-10.606215</td>\n",
       "      <td>-10.277047</td>\n",
       "      <td>1.384109</td>\n",
       "      <td>-10.733991</td>\n",
       "      <td>-7.745023</td>\n",
       "      <td>...</td>\n",
       "      <td>NaN</td>\n",
       "      <td>0 days 00:00:04.150931</td>\n",
       "      <td>1e-08</td>\n",
       "      <td>5e-06</td>\n",
       "      <td>[0, 1, 2]</td>\n",
       "      <td>OpinionNetFixedW</td>\n",
       "      <td>opinion_agent_dqn_fixed_dist_fixed_steps</td>\n",
       "      <td>d:\\Work\\repos\\RL\\phd-rl-algos\\dqn\\opinion_dyna...</td>\n",
       "      <td>0</td>\n",
       "      <td>0003_optim.args_.eps_1e-08__optim.args_.lr_5e-...</td>\n",
       "    </tr>\n",
       "    <tr>\n",
       "      <th>78</th>\n",
       "      <td>validation</td>\n",
       "      <td>1800000</td>\n",
       "      <td>NaN</td>\n",
       "      <td>-12.297575</td>\n",
       "      <td>-9.055278</td>\n",
       "      <td>-10.631555</td>\n",
       "      <td>-10.226556</td>\n",
       "      <td>1.326565</td>\n",
       "      <td>-10.668842</td>\n",
       "      <td>-7.714497</td>\n",
       "      <td>...</td>\n",
       "      <td>NaN</td>\n",
       "      <td>0 days 00:00:04.179902</td>\n",
       "      <td>1e-08</td>\n",
       "      <td>5e-06</td>\n",
       "      <td>[0, 1, 2]</td>\n",
       "      <td>OpinionNetFixedW</td>\n",
       "      <td>opinion_agent_dqn_fixed_dist_fixed_steps</td>\n",
       "      <td>d:\\Work\\repos\\RL\\phd-rl-algos\\dqn\\opinion_dyna...</td>\n",
       "      <td>0</td>\n",
       "      <td>0003_optim.args_.eps_1e-08__optim.args_.lr_5e-...</td>\n",
       "    </tr>\n",
       "    <tr>\n",
       "      <th>79</th>\n",
       "      <td>validation</td>\n",
       "      <td>2000000</td>\n",
       "      <td>NaN</td>\n",
       "      <td>-12.297575</td>\n",
       "      <td>-9.005008</td>\n",
       "      <td>-10.387444</td>\n",
       "      <td>-10.241299</td>\n",
       "      <td>1.316117</td>\n",
       "      <td>-10.668842</td>\n",
       "      <td>-7.692172</td>\n",
       "      <td>...</td>\n",
       "      <td>NaN</td>\n",
       "      <td>0 days 00:00:02.696688</td>\n",
       "      <td>1e-08</td>\n",
       "      <td>5e-06</td>\n",
       "      <td>[0, 1, 2]</td>\n",
       "      <td>OpinionNetFixedW</td>\n",
       "      <td>opinion_agent_dqn_fixed_dist_fixed_steps</td>\n",
       "      <td>d:\\Work\\repos\\RL\\phd-rl-algos\\dqn\\opinion_dyna...</td>\n",
       "      <td>0</td>\n",
       "      <td>0003_optim.args_.eps_1e-08__optim.args_.lr_5e-...</td>\n",
       "    </tr>\n",
       "  </tbody>\n",
       "</table>\n",
       "<p>80 rows × 39 columns</p>\n",
       "</div>"
      ],
      "text/plain": [
       "    epoch_type  frame_stamp  greedy_epsilon  episode_rewards_min  \\\n",
       "0     training       200000        0.907375           -21.311181   \n",
       "1     training       400000        0.812375           -22.869381   \n",
       "2     training       600000        0.717375           -29.045010   \n",
       "3     training       800000        0.622375           -26.864162   \n",
       "4     training      1000000        0.527375           -38.618659   \n",
       "..         ...          ...             ...                  ...   \n",
       "75  validation      1200000             NaN           -12.470375   \n",
       "76  validation      1400000             NaN           -12.402688   \n",
       "77  validation      1600000             NaN           -12.409676   \n",
       "78  validation      1800000             NaN           -12.297575   \n",
       "79  validation      2000000             NaN           -12.297575   \n",
       "\n",
       "    episode_rewards_max  episode_rewards_mean  episode_rewards_median  \\\n",
       "0             -7.313749            -13.088833              -12.965404   \n",
       "1             -7.067742            -13.555417              -13.355640   \n",
       "2             -7.262645            -14.412945              -14.205236   \n",
       "3             -7.434794            -15.450084              -15.162936   \n",
       "4             -7.130184            -16.771524              -16.400404   \n",
       "..                  ...                   ...                     ...   \n",
       "75            -9.261328            -10.826950              -10.417305   \n",
       "76            -9.182570            -10.514202              -10.335044   \n",
       "77            -9.118922            -10.606215              -10.277047   \n",
       "78            -9.055278            -10.631555              -10.226556   \n",
       "79            -9.005008            -10.387444              -10.241299   \n",
       "\n",
       "    episode_rewards_std  episode_discounted_rewards_min  \\\n",
       "0              2.161265                      -17.138206   \n",
       "1              2.411626                      -18.381781   \n",
       "2              2.758383                      -22.501321   \n",
       "3              3.214437                      -21.034683   \n",
       "4              3.826748                      -28.562329   \n",
       "..                  ...                             ...   \n",
       "75             1.311489                      -10.749731   \n",
       "76             1.289857                      -10.716678   \n",
       "77             1.384109                      -10.733991   \n",
       "78             1.326565                      -10.668842   \n",
       "79             1.316117                      -10.668842   \n",
       "\n",
       "    episode_discounted_rewards_max  ...  target_trained_times  \\\n",
       "0                        -5.722502  ...                 192.0   \n",
       "1                        -5.653397  ...                 200.0   \n",
       "2                        -5.787408  ...                 200.0   \n",
       "3                        -5.931133  ...                 200.0   \n",
       "4                        -5.632597  ...                 200.0   \n",
       "..                             ...  ...                   ...   \n",
       "75                       -7.815449  ...                   NaN   \n",
       "76                       -7.775552  ...                   NaN   \n",
       "77                       -7.745023  ...                   NaN   \n",
       "78                       -7.714497  ...                   NaN   \n",
       "79                       -7.692172  ...                   NaN   \n",
       "\n",
       "               epoch_time  sub_exp_cfg_optim.args_.eps  \\\n",
       "0  0 days 00:07:06.463382                        1e-09   \n",
       "1  0 days 00:07:44.591472                        1e-09   \n",
       "2  0 days 00:07:57.004538                        1e-09   \n",
       "3  0 days 00:07:59.847435                        1e-09   \n",
       "4  0 days 00:07:47.518452                        1e-09   \n",
       "..                    ...                          ...   \n",
       "75 0 days 00:00:01.594909                        1e-08   \n",
       "76 0 days 00:00:01.591857                        1e-08   \n",
       "77 0 days 00:00:04.150931                        1e-08   \n",
       "78 0 days 00:00:04.179902                        1e-08   \n",
       "79 0 days 00:00:02.696688                        1e-08   \n",
       "\n",
       "    sub_exp_cfg_optim.args_.lr  sub_exp_cfg_agent_params.args_.betas  \\\n",
       "0                        1e-06                             [0, 1, 2]   \n",
       "1                        1e-06                             [0, 1, 2]   \n",
       "2                        1e-06                             [0, 1, 2]   \n",
       "3                        1e-06                             [0, 1, 2]   \n",
       "4                        1e-06                             [0, 1, 2]   \n",
       "..                         ...                                   ...   \n",
       "75                       5e-06                             [0, 1, 2]   \n",
       "76                       5e-06                             [0, 1, 2]   \n",
       "77                       5e-06                             [0, 1, 2]   \n",
       "78                       5e-06                             [0, 1, 2]   \n",
       "79                       5e-06                             [0, 1, 2]   \n",
       "\n",
       "    sub_exp_cfg_agent_params.model                    sub_exp_cfg_experiment  \\\n",
       "0                 OpinionNetFixedW  opinion_agent_dqn_fixed_dist_fixed_steps   \n",
       "1                 OpinionNetFixedW  opinion_agent_dqn_fixed_dist_fixed_steps   \n",
       "2                 OpinionNetFixedW  opinion_agent_dqn_fixed_dist_fixed_steps   \n",
       "3                 OpinionNetFixedW  opinion_agent_dqn_fixed_dist_fixed_steps   \n",
       "4                 OpinionNetFixedW  opinion_agent_dqn_fixed_dist_fixed_steps   \n",
       "..                             ...                                       ...   \n",
       "75                OpinionNetFixedW  opinion_agent_dqn_fixed_dist_fixed_steps   \n",
       "76                OpinionNetFixedW  opinion_agent_dqn_fixed_dist_fixed_steps   \n",
       "77                OpinionNetFixedW  opinion_agent_dqn_fixed_dist_fixed_steps   \n",
       "78                OpinionNetFixedW  opinion_agent_dqn_fixed_dist_fixed_steps   \n",
       "79                OpinionNetFixedW  opinion_agent_dqn_fixed_dist_fixed_steps   \n",
       "\n",
       "                                  sub_experiment_path  seed  \\\n",
       "0   d:\\Work\\repos\\RL\\phd-rl-algos\\dqn\\opinion_dyna...     0   \n",
       "1   d:\\Work\\repos\\RL\\phd-rl-algos\\dqn\\opinion_dyna...     0   \n",
       "2   d:\\Work\\repos\\RL\\phd-rl-algos\\dqn\\opinion_dyna...     0   \n",
       "3   d:\\Work\\repos\\RL\\phd-rl-algos\\dqn\\opinion_dyna...     0   \n",
       "4   d:\\Work\\repos\\RL\\phd-rl-algos\\dqn\\opinion_dyna...     0   \n",
       "..                                                ...   ...   \n",
       "75  d:\\Work\\repos\\RL\\phd-rl-algos\\dqn\\opinion_dyna...     0   \n",
       "76  d:\\Work\\repos\\RL\\phd-rl-algos\\dqn\\opinion_dyna...     0   \n",
       "77  d:\\Work\\repos\\RL\\phd-rl-algos\\dqn\\opinion_dyna...     0   \n",
       "78  d:\\Work\\repos\\RL\\phd-rl-algos\\dqn\\opinion_dyna...     0   \n",
       "79  d:\\Work\\repos\\RL\\phd-rl-algos\\dqn\\opinion_dyna...     0   \n",
       "\n",
       "                                      experiment_name  \n",
       "0   0000_optim.args_.eps_1e-09__optim.args_.lr_1e-...  \n",
       "1   0000_optim.args_.eps_1e-09__optim.args_.lr_1e-...  \n",
       "2   0000_optim.args_.eps_1e-09__optim.args_.lr_1e-...  \n",
       "3   0000_optim.args_.eps_1e-09__optim.args_.lr_1e-...  \n",
       "4   0000_optim.args_.eps_1e-09__optim.args_.lr_1e-...  \n",
       "..                                                ...  \n",
       "75  0003_optim.args_.eps_1e-08__optim.args_.lr_5e-...  \n",
       "76  0003_optim.args_.eps_1e-08__optim.args_.lr_5e-...  \n",
       "77  0003_optim.args_.eps_1e-08__optim.args_.lr_5e-...  \n",
       "78  0003_optim.args_.eps_1e-08__optim.args_.lr_5e-...  \n",
       "79  0003_optim.args_.eps_1e-08__optim.args_.lr_5e-...  \n",
       "\n",
       "[80 rows x 39 columns]"
      ]
     },
     "execution_count": 23,
     "metadata": {},
     "output_type": "execute_result"
    }
   ],
   "source": [
    "df"
   ]
  },
  {
   "cell_type": "code",
   "execution_count": 24,
   "metadata": {},
   "outputs": [
    {
     "data": {
      "text/html": [
       "<div>\n",
       "<style scoped>\n",
       "    .dataframe tbody tr th:only-of-type {\n",
       "        vertical-align: middle;\n",
       "    }\n",
       "\n",
       "    .dataframe tbody tr th {\n",
       "        vertical-align: top;\n",
       "    }\n",
       "\n",
       "    .dataframe thead th {\n",
       "        text-align: right;\n",
       "    }\n",
       "</style>\n",
       "<table border=\"1\" class=\"dataframe\">\n",
       "  <thead>\n",
       "    <tr style=\"text-align: right;\">\n",
       "      <th></th>\n",
       "      <th>epoch_type</th>\n",
       "      <th>frame_stamp</th>\n",
       "      <th>greedy_epsilon</th>\n",
       "      <th>episode_rewards_min</th>\n",
       "      <th>episode_rewards_max</th>\n",
       "      <th>episode_rewards_mean</th>\n",
       "      <th>episode_rewards_median</th>\n",
       "      <th>episode_rewards_std</th>\n",
       "      <th>episode_discounted_rewards_min</th>\n",
       "      <th>episode_discounted_rewards_max</th>\n",
       "      <th>...</th>\n",
       "      <th>target_trained_times</th>\n",
       "      <th>epoch_time</th>\n",
       "      <th>sub_exp_cfg_optim.args_.eps</th>\n",
       "      <th>sub_exp_cfg_optim.args_.lr</th>\n",
       "      <th>sub_exp_cfg_agent_params.args_.betas</th>\n",
       "      <th>sub_exp_cfg_agent_params.model</th>\n",
       "      <th>sub_exp_cfg_experiment</th>\n",
       "      <th>sub_experiment_path</th>\n",
       "      <th>seed</th>\n",
       "      <th>experiment_name</th>\n",
       "    </tr>\n",
       "  </thead>\n",
       "  <tbody>\n",
       "    <tr>\n",
       "      <th>10</th>\n",
       "      <td>validation</td>\n",
       "      <td>200000</td>\n",
       "      <td>NaN</td>\n",
       "      <td>-35.184081</td>\n",
       "      <td>-29.811768</td>\n",
       "      <td>-31.780858</td>\n",
       "      <td>-31.027369</td>\n",
       "      <td>2.212836</td>\n",
       "      <td>-25.550456</td>\n",
       "      <td>-21.195178</td>\n",
       "      <td>...</td>\n",
       "      <td>NaN</td>\n",
       "      <td>0 days 00:00:01.385041</td>\n",
       "      <td>1e-09</td>\n",
       "      <td>1e-06</td>\n",
       "      <td>[0, 1, 2]</td>\n",
       "      <td>OpinionNetFixedW</td>\n",
       "      <td>opinion_agent_dqn_fixed_dist_fixed_steps</td>\n",
       "      <td>d:\\Work\\repos\\RL\\phd-rl-algos\\dqn\\opinion_dyna...</td>\n",
       "      <td>0</td>\n",
       "      <td>0000_optim.args_.eps_1e-09__optim.args_.lr_1e-...</td>\n",
       "    </tr>\n",
       "    <tr>\n",
       "      <th>11</th>\n",
       "      <td>validation</td>\n",
       "      <td>400000</td>\n",
       "      <td>NaN</td>\n",
       "      <td>-39.636197</td>\n",
       "      <td>-33.777789</td>\n",
       "      <td>-36.050330</td>\n",
       "      <td>-34.282496</td>\n",
       "      <td>2.680301</td>\n",
       "      <td>-28.470148</td>\n",
       "      <td>-24.082863</td>\n",
       "      <td>...</td>\n",
       "      <td>NaN</td>\n",
       "      <td>0 days 00:00:01.472678</td>\n",
       "      <td>1e-09</td>\n",
       "      <td>1e-06</td>\n",
       "      <td>[0, 1, 2]</td>\n",
       "      <td>OpinionNetFixedW</td>\n",
       "      <td>opinion_agent_dqn_fixed_dist_fixed_steps</td>\n",
       "      <td>d:\\Work\\repos\\RL\\phd-rl-algos\\dqn\\opinion_dyna...</td>\n",
       "      <td>0</td>\n",
       "      <td>0000_optim.args_.eps_1e-09__optim.args_.lr_1e-...</td>\n",
       "    </tr>\n",
       "    <tr>\n",
       "      <th>12</th>\n",
       "      <td>validation</td>\n",
       "      <td>600000</td>\n",
       "      <td>NaN</td>\n",
       "      <td>-43.158643</td>\n",
       "      <td>-35.032837</td>\n",
       "      <td>-38.286921</td>\n",
       "      <td>-35.994039</td>\n",
       "      <td>3.643838</td>\n",
       "      <td>-30.815721</td>\n",
       "      <td>-24.972930</td>\n",
       "      <td>...</td>\n",
       "      <td>NaN</td>\n",
       "      <td>0 days 00:00:01.457501</td>\n",
       "      <td>1e-09</td>\n",
       "      <td>1e-06</td>\n",
       "      <td>[0, 1, 2]</td>\n",
       "      <td>OpinionNetFixedW</td>\n",
       "      <td>opinion_agent_dqn_fixed_dist_fixed_steps</td>\n",
       "      <td>d:\\Work\\repos\\RL\\phd-rl-algos\\dqn\\opinion_dyna...</td>\n",
       "      <td>0</td>\n",
       "      <td>0000_optim.args_.eps_1e-09__optim.args_.lr_1e-...</td>\n",
       "    </tr>\n",
       "    <tr>\n",
       "      <th>13</th>\n",
       "      <td>validation</td>\n",
       "      <td>800000</td>\n",
       "      <td>NaN</td>\n",
       "      <td>-47.702068</td>\n",
       "      <td>-36.699691</td>\n",
       "      <td>-40.706713</td>\n",
       "      <td>-38.273323</td>\n",
       "      <td>4.457221</td>\n",
       "      <td>-33.985351</td>\n",
       "      <td>-26.241533</td>\n",
       "      <td>...</td>\n",
       "      <td>NaN</td>\n",
       "      <td>0 days 00:00:01.940597</td>\n",
       "      <td>1e-09</td>\n",
       "      <td>1e-06</td>\n",
       "      <td>[0, 1, 2]</td>\n",
       "      <td>OpinionNetFixedW</td>\n",
       "      <td>opinion_agent_dqn_fixed_dist_fixed_steps</td>\n",
       "      <td>d:\\Work\\repos\\RL\\phd-rl-algos\\dqn\\opinion_dyna...</td>\n",
       "      <td>0</td>\n",
       "      <td>0000_optim.args_.eps_1e-09__optim.args_.lr_1e-...</td>\n",
       "    </tr>\n",
       "    <tr>\n",
       "      <th>14</th>\n",
       "      <td>validation</td>\n",
       "      <td>1000000</td>\n",
       "      <td>NaN</td>\n",
       "      <td>-52.401072</td>\n",
       "      <td>-37.842864</td>\n",
       "      <td>-43.817171</td>\n",
       "      <td>-40.611414</td>\n",
       "      <td>6.459627</td>\n",
       "      <td>-37.203748</td>\n",
       "      <td>-26.699528</td>\n",
       "      <td>...</td>\n",
       "      <td>NaN</td>\n",
       "      <td>0 days 00:00:01.528087</td>\n",
       "      <td>1e-09</td>\n",
       "      <td>1e-06</td>\n",
       "      <td>[0, 1, 2]</td>\n",
       "      <td>OpinionNetFixedW</td>\n",
       "      <td>opinion_agent_dqn_fixed_dist_fixed_steps</td>\n",
       "      <td>d:\\Work\\repos\\RL\\phd-rl-algos\\dqn\\opinion_dyna...</td>\n",
       "      <td>0</td>\n",
       "      <td>0000_optim.args_.eps_1e-09__optim.args_.lr_1e-...</td>\n",
       "    </tr>\n",
       "    <tr>\n",
       "      <th>15</th>\n",
       "      <td>validation</td>\n",
       "      <td>1200000</td>\n",
       "      <td>NaN</td>\n",
       "      <td>-47.298898</td>\n",
       "      <td>-37.087070</td>\n",
       "      <td>-41.412010</td>\n",
       "      <td>-38.703782</td>\n",
       "      <td>4.410017</td>\n",
       "      <td>-33.631567</td>\n",
       "      <td>-26.335356</td>\n",
       "      <td>...</td>\n",
       "      <td>NaN</td>\n",
       "      <td>0 days 00:00:01.619321</td>\n",
       "      <td>1e-09</td>\n",
       "      <td>1e-06</td>\n",
       "      <td>[0, 1, 2]</td>\n",
       "      <td>OpinionNetFixedW</td>\n",
       "      <td>opinion_agent_dqn_fixed_dist_fixed_steps</td>\n",
       "      <td>d:\\Work\\repos\\RL\\phd-rl-algos\\dqn\\opinion_dyna...</td>\n",
       "      <td>0</td>\n",
       "      <td>0000_optim.args_.eps_1e-09__optim.args_.lr_1e-...</td>\n",
       "    </tr>\n",
       "    <tr>\n",
       "      <th>16</th>\n",
       "      <td>validation</td>\n",
       "      <td>1400000</td>\n",
       "      <td>NaN</td>\n",
       "      <td>-38.401531</td>\n",
       "      <td>-34.282496</td>\n",
       "      <td>-35.824068</td>\n",
       "      <td>-35.303671</td>\n",
       "      <td>1.686280</td>\n",
       "      <td>-27.716099</td>\n",
       "      <td>-24.238397</td>\n",
       "      <td>...</td>\n",
       "      <td>NaN</td>\n",
       "      <td>0 days 00:00:01.570198</td>\n",
       "      <td>1e-09</td>\n",
       "      <td>1e-06</td>\n",
       "      <td>[0, 1, 2]</td>\n",
       "      <td>OpinionNetFixedW</td>\n",
       "      <td>opinion_agent_dqn_fixed_dist_fixed_steps</td>\n",
       "      <td>d:\\Work\\repos\\RL\\phd-rl-algos\\dqn\\opinion_dyna...</td>\n",
       "      <td>0</td>\n",
       "      <td>0000_optim.args_.eps_1e-09__optim.args_.lr_1e-...</td>\n",
       "    </tr>\n",
       "    <tr>\n",
       "      <th>17</th>\n",
       "      <td>validation</td>\n",
       "      <td>1600000</td>\n",
       "      <td>NaN</td>\n",
       "      <td>-33.894994</td>\n",
       "      <td>-29.811768</td>\n",
       "      <td>-31.617377</td>\n",
       "      <td>-31.027369</td>\n",
       "      <td>1.765366</td>\n",
       "      <td>-24.715806</td>\n",
       "      <td>-21.195178</td>\n",
       "      <td>...</td>\n",
       "      <td>NaN</td>\n",
       "      <td>0 days 00:00:04.042284</td>\n",
       "      <td>1e-09</td>\n",
       "      <td>1e-06</td>\n",
       "      <td>[0, 1, 2]</td>\n",
       "      <td>OpinionNetFixedW</td>\n",
       "      <td>opinion_agent_dqn_fixed_dist_fixed_steps</td>\n",
       "      <td>d:\\Work\\repos\\RL\\phd-rl-algos\\dqn\\opinion_dyna...</td>\n",
       "      <td>0</td>\n",
       "      <td>0000_optim.args_.eps_1e-09__optim.args_.lr_1e-...</td>\n",
       "    </tr>\n",
       "    <tr>\n",
       "      <th>18</th>\n",
       "      <td>validation</td>\n",
       "      <td>1800000</td>\n",
       "      <td>NaN</td>\n",
       "      <td>-26.980814</td>\n",
       "      <td>-25.118983</td>\n",
       "      <td>-25.963064</td>\n",
       "      <td>-25.620579</td>\n",
       "      <td>0.784468</td>\n",
       "      <td>-19.932177</td>\n",
       "      <td>-18.070595</td>\n",
       "      <td>...</td>\n",
       "      <td>NaN</td>\n",
       "      <td>0 days 00:00:04.129058</td>\n",
       "      <td>1e-09</td>\n",
       "      <td>1e-06</td>\n",
       "      <td>[0, 1, 2]</td>\n",
       "      <td>OpinionNetFixedW</td>\n",
       "      <td>opinion_agent_dqn_fixed_dist_fixed_steps</td>\n",
       "      <td>d:\\Work\\repos\\RL\\phd-rl-algos\\dqn\\opinion_dyna...</td>\n",
       "      <td>0</td>\n",
       "      <td>0000_optim.args_.eps_1e-09__optim.args_.lr_1e-...</td>\n",
       "    </tr>\n",
       "    <tr>\n",
       "      <th>19</th>\n",
       "      <td>validation</td>\n",
       "      <td>2000000</td>\n",
       "      <td>NaN</td>\n",
       "      <td>-21.139265</td>\n",
       "      <td>-17.939946</td>\n",
       "      <td>-19.255243</td>\n",
       "      <td>-18.886442</td>\n",
       "      <td>1.236277</td>\n",
       "      <td>-16.010981</td>\n",
       "      <td>-13.215450</td>\n",
       "      <td>...</td>\n",
       "      <td>NaN</td>\n",
       "      <td>0 days 00:00:04.320348</td>\n",
       "      <td>1e-09</td>\n",
       "      <td>1e-06</td>\n",
       "      <td>[0, 1, 2]</td>\n",
       "      <td>OpinionNetFixedW</td>\n",
       "      <td>opinion_agent_dqn_fixed_dist_fixed_steps</td>\n",
       "      <td>d:\\Work\\repos\\RL\\phd-rl-algos\\dqn\\opinion_dyna...</td>\n",
       "      <td>0</td>\n",
       "      <td>0000_optim.args_.eps_1e-09__optim.args_.lr_1e-...</td>\n",
       "    </tr>\n",
       "    <tr>\n",
       "      <th>30</th>\n",
       "      <td>validation</td>\n",
       "      <td>200000</td>\n",
       "      <td>NaN</td>\n",
       "      <td>-35.612686</td>\n",
       "      <td>-29.789149</td>\n",
       "      <td>-31.461095</td>\n",
       "      <td>-29.811768</td>\n",
       "      <td>2.625714</td>\n",
       "      <td>-25.934584</td>\n",
       "      <td>-21.195178</td>\n",
       "      <td>...</td>\n",
       "      <td>NaN</td>\n",
       "      <td>0 days 00:00:01.381430</td>\n",
       "      <td>1e-09</td>\n",
       "      <td>5e-06</td>\n",
       "      <td>[0, 1, 2]</td>\n",
       "      <td>OpinionNetFixedW</td>\n",
       "      <td>opinion_agent_dqn_fixed_dist_fixed_steps</td>\n",
       "      <td>d:\\Work\\repos\\RL\\phd-rl-algos\\dqn\\opinion_dyna...</td>\n",
       "      <td>0</td>\n",
       "      <td>0001_optim.args_.eps_1e-09__optim.args_.lr_5e-...</td>\n",
       "    </tr>\n",
       "    <tr>\n",
       "      <th>31</th>\n",
       "      <td>validation</td>\n",
       "      <td>400000</td>\n",
       "      <td>NaN</td>\n",
       "      <td>-14.878949</td>\n",
       "      <td>-11.984593</td>\n",
       "      <td>-13.236607</td>\n",
       "      <td>-12.748699</td>\n",
       "      <td>1.261415</td>\n",
       "      <td>-12.107616</td>\n",
       "      <td>-9.392942</td>\n",
       "      <td>...</td>\n",
       "      <td>NaN</td>\n",
       "      <td>0 days 00:00:01.379875</td>\n",
       "      <td>1e-09</td>\n",
       "      <td>5e-06</td>\n",
       "      <td>[0, 1, 2]</td>\n",
       "      <td>OpinionNetFixedW</td>\n",
       "      <td>opinion_agent_dqn_fixed_dist_fixed_steps</td>\n",
       "      <td>d:\\Work\\repos\\RL\\phd-rl-algos\\dqn\\opinion_dyna...</td>\n",
       "      <td>0</td>\n",
       "      <td>0001_optim.args_.eps_1e-09__optim.args_.lr_5e-...</td>\n",
       "    </tr>\n",
       "    <tr>\n",
       "      <th>32</th>\n",
       "      <td>validation</td>\n",
       "      <td>600000</td>\n",
       "      <td>NaN</td>\n",
       "      <td>-13.268815</td>\n",
       "      <td>-10.358604</td>\n",
       "      <td>-11.784437</td>\n",
       "      <td>-11.432694</td>\n",
       "      <td>1.187460</td>\n",
       "      <td>-11.172145</td>\n",
       "      <td>-8.420516</td>\n",
       "      <td>...</td>\n",
       "      <td>NaN</td>\n",
       "      <td>0 days 00:00:01.431768</td>\n",
       "      <td>1e-09</td>\n",
       "      <td>5e-06</td>\n",
       "      <td>[0, 1, 2]</td>\n",
       "      <td>OpinionNetFixedW</td>\n",
       "      <td>opinion_agent_dqn_fixed_dist_fixed_steps</td>\n",
       "      <td>d:\\Work\\repos\\RL\\phd-rl-algos\\dqn\\opinion_dyna...</td>\n",
       "      <td>0</td>\n",
       "      <td>0001_optim.args_.eps_1e-09__optim.args_.lr_5e-...</td>\n",
       "    </tr>\n",
       "    <tr>\n",
       "      <th>33</th>\n",
       "      <td>validation</td>\n",
       "      <td>800000</td>\n",
       "      <td>NaN</td>\n",
       "      <td>-12.789921</td>\n",
       "      <td>-9.531757</td>\n",
       "      <td>-10.930495</td>\n",
       "      <td>-10.869719</td>\n",
       "      <td>1.300244</td>\n",
       "      <td>-10.911685</td>\n",
       "      <td>-7.956537</td>\n",
       "      <td>...</td>\n",
       "      <td>NaN</td>\n",
       "      <td>0 days 00:00:01.915638</td>\n",
       "      <td>1e-09</td>\n",
       "      <td>5e-06</td>\n",
       "      <td>[0, 1, 2]</td>\n",
       "      <td>OpinionNetFixedW</td>\n",
       "      <td>opinion_agent_dqn_fixed_dist_fixed_steps</td>\n",
       "      <td>d:\\Work\\repos\\RL\\phd-rl-algos\\dqn\\opinion_dyna...</td>\n",
       "      <td>0</td>\n",
       "      <td>0001_optim.args_.eps_1e-09__optim.args_.lr_5e-...</td>\n",
       "    </tr>\n",
       "    <tr>\n",
       "      <th>34</th>\n",
       "      <td>validation</td>\n",
       "      <td>1000000</td>\n",
       "      <td>NaN</td>\n",
       "      <td>-12.638599</td>\n",
       "      <td>-9.531757</td>\n",
       "      <td>-10.954643</td>\n",
       "      <td>-10.657683</td>\n",
       "      <td>1.316434</td>\n",
       "      <td>-10.833515</td>\n",
       "      <td>-7.956537</td>\n",
       "      <td>...</td>\n",
       "      <td>NaN</td>\n",
       "      <td>0 days 00:00:01.566466</td>\n",
       "      <td>1e-09</td>\n",
       "      <td>5e-06</td>\n",
       "      <td>[0, 1, 2]</td>\n",
       "      <td>OpinionNetFixedW</td>\n",
       "      <td>opinion_agent_dqn_fixed_dist_fixed_steps</td>\n",
       "      <td>d:\\Work\\repos\\RL\\phd-rl-algos\\dqn\\opinion_dyna...</td>\n",
       "      <td>0</td>\n",
       "      <td>0001_optim.args_.eps_1e-09__optim.args_.lr_5e-...</td>\n",
       "    </tr>\n",
       "    <tr>\n",
       "      <th>35</th>\n",
       "      <td>validation</td>\n",
       "      <td>1200000</td>\n",
       "      <td>NaN</td>\n",
       "      <td>-12.461739</td>\n",
       "      <td>-9.261328</td>\n",
       "      <td>-10.820429</td>\n",
       "      <td>-10.407508</td>\n",
       "      <td>1.308655</td>\n",
       "      <td>-10.744488</td>\n",
       "      <td>-7.815449</td>\n",
       "      <td>...</td>\n",
       "      <td>NaN</td>\n",
       "      <td>0 days 00:00:02.135890</td>\n",
       "      <td>1e-09</td>\n",
       "      <td>5e-06</td>\n",
       "      <td>[0, 1, 2]</td>\n",
       "      <td>OpinionNetFixedW</td>\n",
       "      <td>opinion_agent_dqn_fixed_dist_fixed_steps</td>\n",
       "      <td>d:\\Work\\repos\\RL\\phd-rl-algos\\dqn\\opinion_dyna...</td>\n",
       "      <td>0</td>\n",
       "      <td>0001_optim.args_.eps_1e-09__optim.args_.lr_5e-...</td>\n",
       "    </tr>\n",
       "    <tr>\n",
       "      <th>36</th>\n",
       "      <td>validation</td>\n",
       "      <td>1400000</td>\n",
       "      <td>NaN</td>\n",
       "      <td>-12.402688</td>\n",
       "      <td>-9.182570</td>\n",
       "      <td>-10.514202</td>\n",
       "      <td>-10.335044</td>\n",
       "      <td>1.289857</td>\n",
       "      <td>-10.716678</td>\n",
       "      <td>-7.775552</td>\n",
       "      <td>...</td>\n",
       "      <td>NaN</td>\n",
       "      <td>0 days 00:00:01.574699</td>\n",
       "      <td>1e-09</td>\n",
       "      <td>5e-06</td>\n",
       "      <td>[0, 1, 2]</td>\n",
       "      <td>OpinionNetFixedW</td>\n",
       "      <td>opinion_agent_dqn_fixed_dist_fixed_steps</td>\n",
       "      <td>d:\\Work\\repos\\RL\\phd-rl-algos\\dqn\\opinion_dyna...</td>\n",
       "      <td>0</td>\n",
       "      <td>0001_optim.args_.eps_1e-09__optim.args_.lr_5e-...</td>\n",
       "    </tr>\n",
       "    <tr>\n",
       "      <th>37</th>\n",
       "      <td>validation</td>\n",
       "      <td>1600000</td>\n",
       "      <td>NaN</td>\n",
       "      <td>-12.365705</td>\n",
       "      <td>-9.042692</td>\n",
       "      <td>-10.548264</td>\n",
       "      <td>-10.226556</td>\n",
       "      <td>1.396198</td>\n",
       "      <td>-10.715151</td>\n",
       "      <td>-7.713166</td>\n",
       "      <td>...</td>\n",
       "      <td>NaN</td>\n",
       "      <td>0 days 00:00:03.969538</td>\n",
       "      <td>1e-09</td>\n",
       "      <td>5e-06</td>\n",
       "      <td>[0, 1, 2]</td>\n",
       "      <td>OpinionNetFixedW</td>\n",
       "      <td>opinion_agent_dqn_fixed_dist_fixed_steps</td>\n",
       "      <td>d:\\Work\\repos\\RL\\phd-rl-algos\\dqn\\opinion_dyna...</td>\n",
       "      <td>0</td>\n",
       "      <td>0001_optim.args_.eps_1e-09__optim.args_.lr_5e-...</td>\n",
       "    </tr>\n",
       "    <tr>\n",
       "      <th>38</th>\n",
       "      <td>validation</td>\n",
       "      <td>1800000</td>\n",
       "      <td>NaN</td>\n",
       "      <td>-12.258300</td>\n",
       "      <td>-9.005008</td>\n",
       "      <td>-10.584351</td>\n",
       "      <td>-10.173876</td>\n",
       "      <td>1.331762</td>\n",
       "      <td>-10.652811</td>\n",
       "      <td>-7.692172</td>\n",
       "      <td>...</td>\n",
       "      <td>NaN</td>\n",
       "      <td>0 days 00:00:04.023957</td>\n",
       "      <td>1e-09</td>\n",
       "      <td>5e-06</td>\n",
       "      <td>[0, 1, 2]</td>\n",
       "      <td>OpinionNetFixedW</td>\n",
       "      <td>opinion_agent_dqn_fixed_dist_fixed_steps</td>\n",
       "      <td>d:\\Work\\repos\\RL\\phd-rl-algos\\dqn\\opinion_dyna...</td>\n",
       "      <td>0</td>\n",
       "      <td>0001_optim.args_.eps_1e-09__optim.args_.lr_5e-...</td>\n",
       "    </tr>\n",
       "    <tr>\n",
       "      <th>39</th>\n",
       "      <td>validation</td>\n",
       "      <td>2000000</td>\n",
       "      <td>NaN</td>\n",
       "      <td>-12.216936</td>\n",
       "      <td>-8.954742</td>\n",
       "      <td>-10.306417</td>\n",
       "      <td>-10.128700</td>\n",
       "      <td>1.306035</td>\n",
       "      <td>-10.635595</td>\n",
       "      <td>-7.669849</td>\n",
       "      <td>...</td>\n",
       "      <td>NaN</td>\n",
       "      <td>0 days 00:00:03.981581</td>\n",
       "      <td>1e-09</td>\n",
       "      <td>5e-06</td>\n",
       "      <td>[0, 1, 2]</td>\n",
       "      <td>OpinionNetFixedW</td>\n",
       "      <td>opinion_agent_dqn_fixed_dist_fixed_steps</td>\n",
       "      <td>d:\\Work\\repos\\RL\\phd-rl-algos\\dqn\\opinion_dyna...</td>\n",
       "      <td>0</td>\n",
       "      <td>0001_optim.args_.eps_1e-09__optim.args_.lr_5e-...</td>\n",
       "    </tr>\n",
       "    <tr>\n",
       "      <th>50</th>\n",
       "      <td>validation</td>\n",
       "      <td>200000</td>\n",
       "      <td>NaN</td>\n",
       "      <td>-35.184081</td>\n",
       "      <td>-29.811768</td>\n",
       "      <td>-31.780858</td>\n",
       "      <td>-31.027369</td>\n",
       "      <td>2.212836</td>\n",
       "      <td>-25.550456</td>\n",
       "      <td>-21.195178</td>\n",
       "      <td>...</td>\n",
       "      <td>NaN</td>\n",
       "      <td>0 days 00:00:01.380603</td>\n",
       "      <td>1e-08</td>\n",
       "      <td>1e-06</td>\n",
       "      <td>[0, 1, 2]</td>\n",
       "      <td>OpinionNetFixedW</td>\n",
       "      <td>opinion_agent_dqn_fixed_dist_fixed_steps</td>\n",
       "      <td>d:\\Work\\repos\\RL\\phd-rl-algos\\dqn\\opinion_dyna...</td>\n",
       "      <td>0</td>\n",
       "      <td>0002_optim.args_.eps_1e-08__optim.args_.lr_1e-...</td>\n",
       "    </tr>\n",
       "    <tr>\n",
       "      <th>51</th>\n",
       "      <td>validation</td>\n",
       "      <td>400000</td>\n",
       "      <td>NaN</td>\n",
       "      <td>-39.636197</td>\n",
       "      <td>-33.777789</td>\n",
       "      <td>-36.050330</td>\n",
       "      <td>-34.282496</td>\n",
       "      <td>2.680301</td>\n",
       "      <td>-28.470148</td>\n",
       "      <td>-24.082863</td>\n",
       "      <td>...</td>\n",
       "      <td>NaN</td>\n",
       "      <td>0 days 00:00:01.490757</td>\n",
       "      <td>1e-08</td>\n",
       "      <td>1e-06</td>\n",
       "      <td>[0, 1, 2]</td>\n",
       "      <td>OpinionNetFixedW</td>\n",
       "      <td>opinion_agent_dqn_fixed_dist_fixed_steps</td>\n",
       "      <td>d:\\Work\\repos\\RL\\phd-rl-algos\\dqn\\opinion_dyna...</td>\n",
       "      <td>0</td>\n",
       "      <td>0002_optim.args_.eps_1e-08__optim.args_.lr_1e-...</td>\n",
       "    </tr>\n",
       "    <tr>\n",
       "      <th>52</th>\n",
       "      <td>validation</td>\n",
       "      <td>600000</td>\n",
       "      <td>NaN</td>\n",
       "      <td>-43.158643</td>\n",
       "      <td>-35.032837</td>\n",
       "      <td>-38.286921</td>\n",
       "      <td>-35.994039</td>\n",
       "      <td>3.643838</td>\n",
       "      <td>-30.815721</td>\n",
       "      <td>-24.972930</td>\n",
       "      <td>...</td>\n",
       "      <td>NaN</td>\n",
       "      <td>0 days 00:00:01.481582</td>\n",
       "      <td>1e-08</td>\n",
       "      <td>1e-06</td>\n",
       "      <td>[0, 1, 2]</td>\n",
       "      <td>OpinionNetFixedW</td>\n",
       "      <td>opinion_agent_dqn_fixed_dist_fixed_steps</td>\n",
       "      <td>d:\\Work\\repos\\RL\\phd-rl-algos\\dqn\\opinion_dyna...</td>\n",
       "      <td>0</td>\n",
       "      <td>0002_optim.args_.eps_1e-08__optim.args_.lr_1e-...</td>\n",
       "    </tr>\n",
       "    <tr>\n",
       "      <th>53</th>\n",
       "      <td>validation</td>\n",
       "      <td>800000</td>\n",
       "      <td>NaN</td>\n",
       "      <td>-47.669413</td>\n",
       "      <td>-36.699691</td>\n",
       "      <td>-40.697384</td>\n",
       "      <td>-38.273323</td>\n",
       "      <td>4.442578</td>\n",
       "      <td>-33.958260</td>\n",
       "      <td>-26.241533</td>\n",
       "      <td>...</td>\n",
       "      <td>NaN</td>\n",
       "      <td>0 days 00:00:01.938490</td>\n",
       "      <td>1e-08</td>\n",
       "      <td>1e-06</td>\n",
       "      <td>[0, 1, 2]</td>\n",
       "      <td>OpinionNetFixedW</td>\n",
       "      <td>opinion_agent_dqn_fixed_dist_fixed_steps</td>\n",
       "      <td>d:\\Work\\repos\\RL\\phd-rl-algos\\dqn\\opinion_dyna...</td>\n",
       "      <td>0</td>\n",
       "      <td>0002_optim.args_.eps_1e-08__optim.args_.lr_1e-...</td>\n",
       "    </tr>\n",
       "    <tr>\n",
       "      <th>54</th>\n",
       "      <td>validation</td>\n",
       "      <td>1000000</td>\n",
       "      <td>NaN</td>\n",
       "      <td>-52.401072</td>\n",
       "      <td>-37.842864</td>\n",
       "      <td>-43.817171</td>\n",
       "      <td>-40.611414</td>\n",
       "      <td>6.459627</td>\n",
       "      <td>-37.203748</td>\n",
       "      <td>-26.699528</td>\n",
       "      <td>...</td>\n",
       "      <td>NaN</td>\n",
       "      <td>0 days 00:00:01.542347</td>\n",
       "      <td>1e-08</td>\n",
       "      <td>1e-06</td>\n",
       "      <td>[0, 1, 2]</td>\n",
       "      <td>OpinionNetFixedW</td>\n",
       "      <td>opinion_agent_dqn_fixed_dist_fixed_steps</td>\n",
       "      <td>d:\\Work\\repos\\RL\\phd-rl-algos\\dqn\\opinion_dyna...</td>\n",
       "      <td>0</td>\n",
       "      <td>0002_optim.args_.eps_1e-08__optim.args_.lr_1e-...</td>\n",
       "    </tr>\n",
       "    <tr>\n",
       "      <th>55</th>\n",
       "      <td>validation</td>\n",
       "      <td>1200000</td>\n",
       "      <td>NaN</td>\n",
       "      <td>-47.298898</td>\n",
       "      <td>-37.087070</td>\n",
       "      <td>-41.412010</td>\n",
       "      <td>-38.703782</td>\n",
       "      <td>4.410017</td>\n",
       "      <td>-33.631567</td>\n",
       "      <td>-26.335356</td>\n",
       "      <td>...</td>\n",
       "      <td>NaN</td>\n",
       "      <td>0 days 00:00:01.626133</td>\n",
       "      <td>1e-08</td>\n",
       "      <td>1e-06</td>\n",
       "      <td>[0, 1, 2]</td>\n",
       "      <td>OpinionNetFixedW</td>\n",
       "      <td>opinion_agent_dqn_fixed_dist_fixed_steps</td>\n",
       "      <td>d:\\Work\\repos\\RL\\phd-rl-algos\\dqn\\opinion_dyna...</td>\n",
       "      <td>0</td>\n",
       "      <td>0002_optim.args_.eps_1e-08__optim.args_.lr_1e-...</td>\n",
       "    </tr>\n",
       "    <tr>\n",
       "      <th>56</th>\n",
       "      <td>validation</td>\n",
       "      <td>1400000</td>\n",
       "      <td>NaN</td>\n",
       "      <td>-38.426735</td>\n",
       "      <td>-34.282496</td>\n",
       "      <td>-35.831270</td>\n",
       "      <td>-35.303671</td>\n",
       "      <td>1.697289</td>\n",
       "      <td>-27.735504</td>\n",
       "      <td>-24.238397</td>\n",
       "      <td>...</td>\n",
       "      <td>NaN</td>\n",
       "      <td>0 days 00:00:01.577013</td>\n",
       "      <td>1e-08</td>\n",
       "      <td>1e-06</td>\n",
       "      <td>[0, 1, 2]</td>\n",
       "      <td>OpinionNetFixedW</td>\n",
       "      <td>opinion_agent_dqn_fixed_dist_fixed_steps</td>\n",
       "      <td>d:\\Work\\repos\\RL\\phd-rl-algos\\dqn\\opinion_dyna...</td>\n",
       "      <td>0</td>\n",
       "      <td>0002_optim.args_.eps_1e-08__optim.args_.lr_1e-...</td>\n",
       "    </tr>\n",
       "    <tr>\n",
       "      <th>57</th>\n",
       "      <td>validation</td>\n",
       "      <td>1600000</td>\n",
       "      <td>NaN</td>\n",
       "      <td>-33.894994</td>\n",
       "      <td>-29.811768</td>\n",
       "      <td>-31.617377</td>\n",
       "      <td>-31.027369</td>\n",
       "      <td>1.765366</td>\n",
       "      <td>-24.715806</td>\n",
       "      <td>-21.195178</td>\n",
       "      <td>...</td>\n",
       "      <td>NaN</td>\n",
       "      <td>0 days 00:00:03.978226</td>\n",
       "      <td>1e-08</td>\n",
       "      <td>1e-06</td>\n",
       "      <td>[0, 1, 2]</td>\n",
       "      <td>OpinionNetFixedW</td>\n",
       "      <td>opinion_agent_dqn_fixed_dist_fixed_steps</td>\n",
       "      <td>d:\\Work\\repos\\RL\\phd-rl-algos\\dqn\\opinion_dyna...</td>\n",
       "      <td>0</td>\n",
       "      <td>0002_optim.args_.eps_1e-08__optim.args_.lr_1e-...</td>\n",
       "    </tr>\n",
       "    <tr>\n",
       "      <th>58</th>\n",
       "      <td>validation</td>\n",
       "      <td>1800000</td>\n",
       "      <td>NaN</td>\n",
       "      <td>-26.980814</td>\n",
       "      <td>-25.118983</td>\n",
       "      <td>-25.963064</td>\n",
       "      <td>-25.620579</td>\n",
       "      <td>0.784468</td>\n",
       "      <td>-19.932177</td>\n",
       "      <td>-18.070595</td>\n",
       "      <td>...</td>\n",
       "      <td>NaN</td>\n",
       "      <td>0 days 00:00:03.948501</td>\n",
       "      <td>1e-08</td>\n",
       "      <td>1e-06</td>\n",
       "      <td>[0, 1, 2]</td>\n",
       "      <td>OpinionNetFixedW</td>\n",
       "      <td>opinion_agent_dqn_fixed_dist_fixed_steps</td>\n",
       "      <td>d:\\Work\\repos\\RL\\phd-rl-algos\\dqn\\opinion_dyna...</td>\n",
       "      <td>0</td>\n",
       "      <td>0002_optim.args_.eps_1e-08__optim.args_.lr_1e-...</td>\n",
       "    </tr>\n",
       "    <tr>\n",
       "      <th>59</th>\n",
       "      <td>validation</td>\n",
       "      <td>2000000</td>\n",
       "      <td>NaN</td>\n",
       "      <td>-21.139265</td>\n",
       "      <td>-17.939946</td>\n",
       "      <td>-19.255243</td>\n",
       "      <td>-18.886442</td>\n",
       "      <td>1.236277</td>\n",
       "      <td>-16.010981</td>\n",
       "      <td>-13.215450</td>\n",
       "      <td>...</td>\n",
       "      <td>NaN</td>\n",
       "      <td>0 days 00:00:03.792745</td>\n",
       "      <td>1e-08</td>\n",
       "      <td>1e-06</td>\n",
       "      <td>[0, 1, 2]</td>\n",
       "      <td>OpinionNetFixedW</td>\n",
       "      <td>opinion_agent_dqn_fixed_dist_fixed_steps</td>\n",
       "      <td>d:\\Work\\repos\\RL\\phd-rl-algos\\dqn\\opinion_dyna...</td>\n",
       "      <td>0</td>\n",
       "      <td>0002_optim.args_.eps_1e-08__optim.args_.lr_1e-...</td>\n",
       "    </tr>\n",
       "    <tr>\n",
       "      <th>70</th>\n",
       "      <td>validation</td>\n",
       "      <td>200000</td>\n",
       "      <td>NaN</td>\n",
       "      <td>-35.612686</td>\n",
       "      <td>-29.789149</td>\n",
       "      <td>-31.461095</td>\n",
       "      <td>-29.811768</td>\n",
       "      <td>2.625714</td>\n",
       "      <td>-25.934584</td>\n",
       "      <td>-21.195178</td>\n",
       "      <td>...</td>\n",
       "      <td>NaN</td>\n",
       "      <td>0 days 00:00:01.414564</td>\n",
       "      <td>1e-08</td>\n",
       "      <td>5e-06</td>\n",
       "      <td>[0, 1, 2]</td>\n",
       "      <td>OpinionNetFixedW</td>\n",
       "      <td>opinion_agent_dqn_fixed_dist_fixed_steps</td>\n",
       "      <td>d:\\Work\\repos\\RL\\phd-rl-algos\\dqn\\opinion_dyna...</td>\n",
       "      <td>0</td>\n",
       "      <td>0003_optim.args_.eps_1e-08__optim.args_.lr_5e-...</td>\n",
       "    </tr>\n",
       "    <tr>\n",
       "      <th>71</th>\n",
       "      <td>validation</td>\n",
       "      <td>400000</td>\n",
       "      <td>NaN</td>\n",
       "      <td>-14.878949</td>\n",
       "      <td>-11.746876</td>\n",
       "      <td>-13.151708</td>\n",
       "      <td>-12.748699</td>\n",
       "      <td>1.347862</td>\n",
       "      <td>-12.107616</td>\n",
       "      <td>-9.252796</td>\n",
       "      <td>...</td>\n",
       "      <td>NaN</td>\n",
       "      <td>0 days 00:00:01.418383</td>\n",
       "      <td>1e-08</td>\n",
       "      <td>5e-06</td>\n",
       "      <td>[0, 1, 2]</td>\n",
       "      <td>OpinionNetFixedW</td>\n",
       "      <td>opinion_agent_dqn_fixed_dist_fixed_steps</td>\n",
       "      <td>d:\\Work\\repos\\RL\\phd-rl-algos\\dqn\\opinion_dyna...</td>\n",
       "      <td>0</td>\n",
       "      <td>0003_optim.args_.eps_1e-08__optim.args_.lr_5e-...</td>\n",
       "    </tr>\n",
       "    <tr>\n",
       "      <th>72</th>\n",
       "      <td>validation</td>\n",
       "      <td>600000</td>\n",
       "      <td>NaN</td>\n",
       "      <td>-13.577381</td>\n",
       "      <td>-10.358604</td>\n",
       "      <td>-11.894639</td>\n",
       "      <td>-11.432694</td>\n",
       "      <td>1.326305</td>\n",
       "      <td>-11.345799</td>\n",
       "      <td>-8.420516</td>\n",
       "      <td>...</td>\n",
       "      <td>NaN</td>\n",
       "      <td>0 days 00:00:01.482598</td>\n",
       "      <td>1e-08</td>\n",
       "      <td>5e-06</td>\n",
       "      <td>[0, 1, 2]</td>\n",
       "      <td>OpinionNetFixedW</td>\n",
       "      <td>opinion_agent_dqn_fixed_dist_fixed_steps</td>\n",
       "      <td>d:\\Work\\repos\\RL\\phd-rl-algos\\dqn\\opinion_dyna...</td>\n",
       "      <td>0</td>\n",
       "      <td>0003_optim.args_.eps_1e-08__optim.args_.lr_5e-...</td>\n",
       "    </tr>\n",
       "    <tr>\n",
       "      <th>73</th>\n",
       "      <td>validation</td>\n",
       "      <td>800000</td>\n",
       "      <td>NaN</td>\n",
       "      <td>-12.899042</td>\n",
       "      <td>-9.761979</td>\n",
       "      <td>-11.052189</td>\n",
       "      <td>-10.872389</td>\n",
       "      <td>1.258570</td>\n",
       "      <td>-10.970180</td>\n",
       "      <td>-8.082116</td>\n",
       "      <td>...</td>\n",
       "      <td>NaN</td>\n",
       "      <td>0 days 00:00:02.012973</td>\n",
       "      <td>1e-08</td>\n",
       "      <td>5e-06</td>\n",
       "      <td>[0, 1, 2]</td>\n",
       "      <td>OpinionNetFixedW</td>\n",
       "      <td>opinion_agent_dqn_fixed_dist_fixed_steps</td>\n",
       "      <td>d:\\Work\\repos\\RL\\phd-rl-algos\\dqn\\opinion_dyna...</td>\n",
       "      <td>0</td>\n",
       "      <td>0003_optim.args_.eps_1e-08__optim.args_.lr_5e-...</td>\n",
       "    </tr>\n",
       "    <tr>\n",
       "      <th>74</th>\n",
       "      <td>validation</td>\n",
       "      <td>1000000</td>\n",
       "      <td>NaN</td>\n",
       "      <td>-12.817007</td>\n",
       "      <td>-9.531757</td>\n",
       "      <td>-11.019015</td>\n",
       "      <td>-10.657683</td>\n",
       "      <td>1.397935</td>\n",
       "      <td>-10.926157</td>\n",
       "      <td>-7.956537</td>\n",
       "      <td>...</td>\n",
       "      <td>NaN</td>\n",
       "      <td>0 days 00:00:01.538474</td>\n",
       "      <td>1e-08</td>\n",
       "      <td>5e-06</td>\n",
       "      <td>[0, 1, 2]</td>\n",
       "      <td>OpinionNetFixedW</td>\n",
       "      <td>opinion_agent_dqn_fixed_dist_fixed_steps</td>\n",
       "      <td>d:\\Work\\repos\\RL\\phd-rl-algos\\dqn\\opinion_dyna...</td>\n",
       "      <td>0</td>\n",
       "      <td>0003_optim.args_.eps_1e-08__optim.args_.lr_5e-...</td>\n",
       "    </tr>\n",
       "    <tr>\n",
       "      <th>75</th>\n",
       "      <td>validation</td>\n",
       "      <td>1200000</td>\n",
       "      <td>NaN</td>\n",
       "      <td>-12.470375</td>\n",
       "      <td>-9.261328</td>\n",
       "      <td>-10.826950</td>\n",
       "      <td>-10.417305</td>\n",
       "      <td>1.311489</td>\n",
       "      <td>-10.749731</td>\n",
       "      <td>-7.815449</td>\n",
       "      <td>...</td>\n",
       "      <td>NaN</td>\n",
       "      <td>0 days 00:00:01.594909</td>\n",
       "      <td>1e-08</td>\n",
       "      <td>5e-06</td>\n",
       "      <td>[0, 1, 2]</td>\n",
       "      <td>OpinionNetFixedW</td>\n",
       "      <td>opinion_agent_dqn_fixed_dist_fixed_steps</td>\n",
       "      <td>d:\\Work\\repos\\RL\\phd-rl-algos\\dqn\\opinion_dyna...</td>\n",
       "      <td>0</td>\n",
       "      <td>0003_optim.args_.eps_1e-08__optim.args_.lr_5e-...</td>\n",
       "    </tr>\n",
       "    <tr>\n",
       "      <th>76</th>\n",
       "      <td>validation</td>\n",
       "      <td>1400000</td>\n",
       "      <td>NaN</td>\n",
       "      <td>-12.402688</td>\n",
       "      <td>-9.182570</td>\n",
       "      <td>-10.514202</td>\n",
       "      <td>-10.335044</td>\n",
       "      <td>1.289857</td>\n",
       "      <td>-10.716678</td>\n",
       "      <td>-7.775552</td>\n",
       "      <td>...</td>\n",
       "      <td>NaN</td>\n",
       "      <td>0 days 00:00:01.591857</td>\n",
       "      <td>1e-08</td>\n",
       "      <td>5e-06</td>\n",
       "      <td>[0, 1, 2]</td>\n",
       "      <td>OpinionNetFixedW</td>\n",
       "      <td>opinion_agent_dqn_fixed_dist_fixed_steps</td>\n",
       "      <td>d:\\Work\\repos\\RL\\phd-rl-algos\\dqn\\opinion_dyna...</td>\n",
       "      <td>0</td>\n",
       "      <td>0003_optim.args_.eps_1e-08__optim.args_.lr_5e-...</td>\n",
       "    </tr>\n",
       "    <tr>\n",
       "      <th>77</th>\n",
       "      <td>validation</td>\n",
       "      <td>1600000</td>\n",
       "      <td>NaN</td>\n",
       "      <td>-12.409676</td>\n",
       "      <td>-9.118922</td>\n",
       "      <td>-10.606215</td>\n",
       "      <td>-10.277047</td>\n",
       "      <td>1.384109</td>\n",
       "      <td>-10.733991</td>\n",
       "      <td>-7.745023</td>\n",
       "      <td>...</td>\n",
       "      <td>NaN</td>\n",
       "      <td>0 days 00:00:04.150931</td>\n",
       "      <td>1e-08</td>\n",
       "      <td>5e-06</td>\n",
       "      <td>[0, 1, 2]</td>\n",
       "      <td>OpinionNetFixedW</td>\n",
       "      <td>opinion_agent_dqn_fixed_dist_fixed_steps</td>\n",
       "      <td>d:\\Work\\repos\\RL\\phd-rl-algos\\dqn\\opinion_dyna...</td>\n",
       "      <td>0</td>\n",
       "      <td>0003_optim.args_.eps_1e-08__optim.args_.lr_5e-...</td>\n",
       "    </tr>\n",
       "    <tr>\n",
       "      <th>78</th>\n",
       "      <td>validation</td>\n",
       "      <td>1800000</td>\n",
       "      <td>NaN</td>\n",
       "      <td>-12.297575</td>\n",
       "      <td>-9.055278</td>\n",
       "      <td>-10.631555</td>\n",
       "      <td>-10.226556</td>\n",
       "      <td>1.326565</td>\n",
       "      <td>-10.668842</td>\n",
       "      <td>-7.714497</td>\n",
       "      <td>...</td>\n",
       "      <td>NaN</td>\n",
       "      <td>0 days 00:00:04.179902</td>\n",
       "      <td>1e-08</td>\n",
       "      <td>5e-06</td>\n",
       "      <td>[0, 1, 2]</td>\n",
       "      <td>OpinionNetFixedW</td>\n",
       "      <td>opinion_agent_dqn_fixed_dist_fixed_steps</td>\n",
       "      <td>d:\\Work\\repos\\RL\\phd-rl-algos\\dqn\\opinion_dyna...</td>\n",
       "      <td>0</td>\n",
       "      <td>0003_optim.args_.eps_1e-08__optim.args_.lr_5e-...</td>\n",
       "    </tr>\n",
       "    <tr>\n",
       "      <th>79</th>\n",
       "      <td>validation</td>\n",
       "      <td>2000000</td>\n",
       "      <td>NaN</td>\n",
       "      <td>-12.297575</td>\n",
       "      <td>-9.005008</td>\n",
       "      <td>-10.387444</td>\n",
       "      <td>-10.241299</td>\n",
       "      <td>1.316117</td>\n",
       "      <td>-10.668842</td>\n",
       "      <td>-7.692172</td>\n",
       "      <td>...</td>\n",
       "      <td>NaN</td>\n",
       "      <td>0 days 00:00:02.696688</td>\n",
       "      <td>1e-08</td>\n",
       "      <td>5e-06</td>\n",
       "      <td>[0, 1, 2]</td>\n",
       "      <td>OpinionNetFixedW</td>\n",
       "      <td>opinion_agent_dqn_fixed_dist_fixed_steps</td>\n",
       "      <td>d:\\Work\\repos\\RL\\phd-rl-algos\\dqn\\opinion_dyna...</td>\n",
       "      <td>0</td>\n",
       "      <td>0003_optim.args_.eps_1e-08__optim.args_.lr_5e-...</td>\n",
       "    </tr>\n",
       "  </tbody>\n",
       "</table>\n",
       "<p>40 rows × 39 columns</p>\n",
       "</div>"
      ],
      "text/plain": [
       "    epoch_type  frame_stamp  greedy_epsilon  episode_rewards_min  \\\n",
       "10  validation       200000             NaN           -35.184081   \n",
       "11  validation       400000             NaN           -39.636197   \n",
       "12  validation       600000             NaN           -43.158643   \n",
       "13  validation       800000             NaN           -47.702068   \n",
       "14  validation      1000000             NaN           -52.401072   \n",
       "15  validation      1200000             NaN           -47.298898   \n",
       "16  validation      1400000             NaN           -38.401531   \n",
       "17  validation      1600000             NaN           -33.894994   \n",
       "18  validation      1800000             NaN           -26.980814   \n",
       "19  validation      2000000             NaN           -21.139265   \n",
       "30  validation       200000             NaN           -35.612686   \n",
       "31  validation       400000             NaN           -14.878949   \n",
       "32  validation       600000             NaN           -13.268815   \n",
       "33  validation       800000             NaN           -12.789921   \n",
       "34  validation      1000000             NaN           -12.638599   \n",
       "35  validation      1200000             NaN           -12.461739   \n",
       "36  validation      1400000             NaN           -12.402688   \n",
       "37  validation      1600000             NaN           -12.365705   \n",
       "38  validation      1800000             NaN           -12.258300   \n",
       "39  validation      2000000             NaN           -12.216936   \n",
       "50  validation       200000             NaN           -35.184081   \n",
       "51  validation       400000             NaN           -39.636197   \n",
       "52  validation       600000             NaN           -43.158643   \n",
       "53  validation       800000             NaN           -47.669413   \n",
       "54  validation      1000000             NaN           -52.401072   \n",
       "55  validation      1200000             NaN           -47.298898   \n",
       "56  validation      1400000             NaN           -38.426735   \n",
       "57  validation      1600000             NaN           -33.894994   \n",
       "58  validation      1800000             NaN           -26.980814   \n",
       "59  validation      2000000             NaN           -21.139265   \n",
       "70  validation       200000             NaN           -35.612686   \n",
       "71  validation       400000             NaN           -14.878949   \n",
       "72  validation       600000             NaN           -13.577381   \n",
       "73  validation       800000             NaN           -12.899042   \n",
       "74  validation      1000000             NaN           -12.817007   \n",
       "75  validation      1200000             NaN           -12.470375   \n",
       "76  validation      1400000             NaN           -12.402688   \n",
       "77  validation      1600000             NaN           -12.409676   \n",
       "78  validation      1800000             NaN           -12.297575   \n",
       "79  validation      2000000             NaN           -12.297575   \n",
       "\n",
       "    episode_rewards_max  episode_rewards_mean  episode_rewards_median  \\\n",
       "10           -29.811768            -31.780858              -31.027369   \n",
       "11           -33.777789            -36.050330              -34.282496   \n",
       "12           -35.032837            -38.286921              -35.994039   \n",
       "13           -36.699691            -40.706713              -38.273323   \n",
       "14           -37.842864            -43.817171              -40.611414   \n",
       "15           -37.087070            -41.412010              -38.703782   \n",
       "16           -34.282496            -35.824068              -35.303671   \n",
       "17           -29.811768            -31.617377              -31.027369   \n",
       "18           -25.118983            -25.963064              -25.620579   \n",
       "19           -17.939946            -19.255243              -18.886442   \n",
       "30           -29.789149            -31.461095              -29.811768   \n",
       "31           -11.984593            -13.236607              -12.748699   \n",
       "32           -10.358604            -11.784437              -11.432694   \n",
       "33            -9.531757            -10.930495              -10.869719   \n",
       "34            -9.531757            -10.954643              -10.657683   \n",
       "35            -9.261328            -10.820429              -10.407508   \n",
       "36            -9.182570            -10.514202              -10.335044   \n",
       "37            -9.042692            -10.548264              -10.226556   \n",
       "38            -9.005008            -10.584351              -10.173876   \n",
       "39            -8.954742            -10.306417              -10.128700   \n",
       "50           -29.811768            -31.780858              -31.027369   \n",
       "51           -33.777789            -36.050330              -34.282496   \n",
       "52           -35.032837            -38.286921              -35.994039   \n",
       "53           -36.699691            -40.697384              -38.273323   \n",
       "54           -37.842864            -43.817171              -40.611414   \n",
       "55           -37.087070            -41.412010              -38.703782   \n",
       "56           -34.282496            -35.831270              -35.303671   \n",
       "57           -29.811768            -31.617377              -31.027369   \n",
       "58           -25.118983            -25.963064              -25.620579   \n",
       "59           -17.939946            -19.255243              -18.886442   \n",
       "70           -29.789149            -31.461095              -29.811768   \n",
       "71           -11.746876            -13.151708              -12.748699   \n",
       "72           -10.358604            -11.894639              -11.432694   \n",
       "73            -9.761979            -11.052189              -10.872389   \n",
       "74            -9.531757            -11.019015              -10.657683   \n",
       "75            -9.261328            -10.826950              -10.417305   \n",
       "76            -9.182570            -10.514202              -10.335044   \n",
       "77            -9.118922            -10.606215              -10.277047   \n",
       "78            -9.055278            -10.631555              -10.226556   \n",
       "79            -9.005008            -10.387444              -10.241299   \n",
       "\n",
       "    episode_rewards_std  episode_discounted_rewards_min  \\\n",
       "10             2.212836                      -25.550456   \n",
       "11             2.680301                      -28.470148   \n",
       "12             3.643838                      -30.815721   \n",
       "13             4.457221                      -33.985351   \n",
       "14             6.459627                      -37.203748   \n",
       "15             4.410017                      -33.631567   \n",
       "16             1.686280                      -27.716099   \n",
       "17             1.765366                      -24.715806   \n",
       "18             0.784468                      -19.932177   \n",
       "19             1.236277                      -16.010981   \n",
       "30             2.625714                      -25.934584   \n",
       "31             1.261415                      -12.107616   \n",
       "32             1.187460                      -11.172145   \n",
       "33             1.300244                      -10.911685   \n",
       "34             1.316434                      -10.833515   \n",
       "35             1.308655                      -10.744488   \n",
       "36             1.289857                      -10.716678   \n",
       "37             1.396198                      -10.715151   \n",
       "38             1.331762                      -10.652811   \n",
       "39             1.306035                      -10.635595   \n",
       "50             2.212836                      -25.550456   \n",
       "51             2.680301                      -28.470148   \n",
       "52             3.643838                      -30.815721   \n",
       "53             4.442578                      -33.958260   \n",
       "54             6.459627                      -37.203748   \n",
       "55             4.410017                      -33.631567   \n",
       "56             1.697289                      -27.735504   \n",
       "57             1.765366                      -24.715806   \n",
       "58             0.784468                      -19.932177   \n",
       "59             1.236277                      -16.010981   \n",
       "70             2.625714                      -25.934584   \n",
       "71             1.347862                      -12.107616   \n",
       "72             1.326305                      -11.345799   \n",
       "73             1.258570                      -10.970180   \n",
       "74             1.397935                      -10.926157   \n",
       "75             1.311489                      -10.749731   \n",
       "76             1.289857                      -10.716678   \n",
       "77             1.384109                      -10.733991   \n",
       "78             1.326565                      -10.668842   \n",
       "79             1.316117                      -10.668842   \n",
       "\n",
       "    episode_discounted_rewards_max  ...  target_trained_times  \\\n",
       "10                      -21.195178  ...                   NaN   \n",
       "11                      -24.082863  ...                   NaN   \n",
       "12                      -24.972930  ...                   NaN   \n",
       "13                      -26.241533  ...                   NaN   \n",
       "14                      -26.699528  ...                   NaN   \n",
       "15                      -26.335356  ...                   NaN   \n",
       "16                      -24.238397  ...                   NaN   \n",
       "17                      -21.195178  ...                   NaN   \n",
       "18                      -18.070595  ...                   NaN   \n",
       "19                      -13.215450  ...                   NaN   \n",
       "30                      -21.195178  ...                   NaN   \n",
       "31                       -9.392942  ...                   NaN   \n",
       "32                       -8.420516  ...                   NaN   \n",
       "33                       -7.956537  ...                   NaN   \n",
       "34                       -7.956537  ...                   NaN   \n",
       "35                       -7.815449  ...                   NaN   \n",
       "36                       -7.775552  ...                   NaN   \n",
       "37                       -7.713166  ...                   NaN   \n",
       "38                       -7.692172  ...                   NaN   \n",
       "39                       -7.669849  ...                   NaN   \n",
       "50                      -21.195178  ...                   NaN   \n",
       "51                      -24.082863  ...                   NaN   \n",
       "52                      -24.972930  ...                   NaN   \n",
       "53                      -26.241533  ...                   NaN   \n",
       "54                      -26.699528  ...                   NaN   \n",
       "55                      -26.335356  ...                   NaN   \n",
       "56                      -24.238397  ...                   NaN   \n",
       "57                      -21.195178  ...                   NaN   \n",
       "58                      -18.070595  ...                   NaN   \n",
       "59                      -13.215450  ...                   NaN   \n",
       "70                      -21.195178  ...                   NaN   \n",
       "71                       -9.252796  ...                   NaN   \n",
       "72                       -8.420516  ...                   NaN   \n",
       "73                       -8.082116  ...                   NaN   \n",
       "74                       -7.956537  ...                   NaN   \n",
       "75                       -7.815449  ...                   NaN   \n",
       "76                       -7.775552  ...                   NaN   \n",
       "77                       -7.745023  ...                   NaN   \n",
       "78                       -7.714497  ...                   NaN   \n",
       "79                       -7.692172  ...                   NaN   \n",
       "\n",
       "               epoch_time  sub_exp_cfg_optim.args_.eps  \\\n",
       "10 0 days 00:00:01.385041                        1e-09   \n",
       "11 0 days 00:00:01.472678                        1e-09   \n",
       "12 0 days 00:00:01.457501                        1e-09   \n",
       "13 0 days 00:00:01.940597                        1e-09   \n",
       "14 0 days 00:00:01.528087                        1e-09   \n",
       "15 0 days 00:00:01.619321                        1e-09   \n",
       "16 0 days 00:00:01.570198                        1e-09   \n",
       "17 0 days 00:00:04.042284                        1e-09   \n",
       "18 0 days 00:00:04.129058                        1e-09   \n",
       "19 0 days 00:00:04.320348                        1e-09   \n",
       "30 0 days 00:00:01.381430                        1e-09   \n",
       "31 0 days 00:00:01.379875                        1e-09   \n",
       "32 0 days 00:00:01.431768                        1e-09   \n",
       "33 0 days 00:00:01.915638                        1e-09   \n",
       "34 0 days 00:00:01.566466                        1e-09   \n",
       "35 0 days 00:00:02.135890                        1e-09   \n",
       "36 0 days 00:00:01.574699                        1e-09   \n",
       "37 0 days 00:00:03.969538                        1e-09   \n",
       "38 0 days 00:00:04.023957                        1e-09   \n",
       "39 0 days 00:00:03.981581                        1e-09   \n",
       "50 0 days 00:00:01.380603                        1e-08   \n",
       "51 0 days 00:00:01.490757                        1e-08   \n",
       "52 0 days 00:00:01.481582                        1e-08   \n",
       "53 0 days 00:00:01.938490                        1e-08   \n",
       "54 0 days 00:00:01.542347                        1e-08   \n",
       "55 0 days 00:00:01.626133                        1e-08   \n",
       "56 0 days 00:00:01.577013                        1e-08   \n",
       "57 0 days 00:00:03.978226                        1e-08   \n",
       "58 0 days 00:00:03.948501                        1e-08   \n",
       "59 0 days 00:00:03.792745                        1e-08   \n",
       "70 0 days 00:00:01.414564                        1e-08   \n",
       "71 0 days 00:00:01.418383                        1e-08   \n",
       "72 0 days 00:00:01.482598                        1e-08   \n",
       "73 0 days 00:00:02.012973                        1e-08   \n",
       "74 0 days 00:00:01.538474                        1e-08   \n",
       "75 0 days 00:00:01.594909                        1e-08   \n",
       "76 0 days 00:00:01.591857                        1e-08   \n",
       "77 0 days 00:00:04.150931                        1e-08   \n",
       "78 0 days 00:00:04.179902                        1e-08   \n",
       "79 0 days 00:00:02.696688                        1e-08   \n",
       "\n",
       "    sub_exp_cfg_optim.args_.lr  sub_exp_cfg_agent_params.args_.betas  \\\n",
       "10                       1e-06                             [0, 1, 2]   \n",
       "11                       1e-06                             [0, 1, 2]   \n",
       "12                       1e-06                             [0, 1, 2]   \n",
       "13                       1e-06                             [0, 1, 2]   \n",
       "14                       1e-06                             [0, 1, 2]   \n",
       "15                       1e-06                             [0, 1, 2]   \n",
       "16                       1e-06                             [0, 1, 2]   \n",
       "17                       1e-06                             [0, 1, 2]   \n",
       "18                       1e-06                             [0, 1, 2]   \n",
       "19                       1e-06                             [0, 1, 2]   \n",
       "30                       5e-06                             [0, 1, 2]   \n",
       "31                       5e-06                             [0, 1, 2]   \n",
       "32                       5e-06                             [0, 1, 2]   \n",
       "33                       5e-06                             [0, 1, 2]   \n",
       "34                       5e-06                             [0, 1, 2]   \n",
       "35                       5e-06                             [0, 1, 2]   \n",
       "36                       5e-06                             [0, 1, 2]   \n",
       "37                       5e-06                             [0, 1, 2]   \n",
       "38                       5e-06                             [0, 1, 2]   \n",
       "39                       5e-06                             [0, 1, 2]   \n",
       "50                       1e-06                             [0, 1, 2]   \n",
       "51                       1e-06                             [0, 1, 2]   \n",
       "52                       1e-06                             [0, 1, 2]   \n",
       "53                       1e-06                             [0, 1, 2]   \n",
       "54                       1e-06                             [0, 1, 2]   \n",
       "55                       1e-06                             [0, 1, 2]   \n",
       "56                       1e-06                             [0, 1, 2]   \n",
       "57                       1e-06                             [0, 1, 2]   \n",
       "58                       1e-06                             [0, 1, 2]   \n",
       "59                       1e-06                             [0, 1, 2]   \n",
       "70                       5e-06                             [0, 1, 2]   \n",
       "71                       5e-06                             [0, 1, 2]   \n",
       "72                       5e-06                             [0, 1, 2]   \n",
       "73                       5e-06                             [0, 1, 2]   \n",
       "74                       5e-06                             [0, 1, 2]   \n",
       "75                       5e-06                             [0, 1, 2]   \n",
       "76                       5e-06                             [0, 1, 2]   \n",
       "77                       5e-06                             [0, 1, 2]   \n",
       "78                       5e-06                             [0, 1, 2]   \n",
       "79                       5e-06                             [0, 1, 2]   \n",
       "\n",
       "    sub_exp_cfg_agent_params.model                    sub_exp_cfg_experiment  \\\n",
       "10                OpinionNetFixedW  opinion_agent_dqn_fixed_dist_fixed_steps   \n",
       "11                OpinionNetFixedW  opinion_agent_dqn_fixed_dist_fixed_steps   \n",
       "12                OpinionNetFixedW  opinion_agent_dqn_fixed_dist_fixed_steps   \n",
       "13                OpinionNetFixedW  opinion_agent_dqn_fixed_dist_fixed_steps   \n",
       "14                OpinionNetFixedW  opinion_agent_dqn_fixed_dist_fixed_steps   \n",
       "15                OpinionNetFixedW  opinion_agent_dqn_fixed_dist_fixed_steps   \n",
       "16                OpinionNetFixedW  opinion_agent_dqn_fixed_dist_fixed_steps   \n",
       "17                OpinionNetFixedW  opinion_agent_dqn_fixed_dist_fixed_steps   \n",
       "18                OpinionNetFixedW  opinion_agent_dqn_fixed_dist_fixed_steps   \n",
       "19                OpinionNetFixedW  opinion_agent_dqn_fixed_dist_fixed_steps   \n",
       "30                OpinionNetFixedW  opinion_agent_dqn_fixed_dist_fixed_steps   \n",
       "31                OpinionNetFixedW  opinion_agent_dqn_fixed_dist_fixed_steps   \n",
       "32                OpinionNetFixedW  opinion_agent_dqn_fixed_dist_fixed_steps   \n",
       "33                OpinionNetFixedW  opinion_agent_dqn_fixed_dist_fixed_steps   \n",
       "34                OpinionNetFixedW  opinion_agent_dqn_fixed_dist_fixed_steps   \n",
       "35                OpinionNetFixedW  opinion_agent_dqn_fixed_dist_fixed_steps   \n",
       "36                OpinionNetFixedW  opinion_agent_dqn_fixed_dist_fixed_steps   \n",
       "37                OpinionNetFixedW  opinion_agent_dqn_fixed_dist_fixed_steps   \n",
       "38                OpinionNetFixedW  opinion_agent_dqn_fixed_dist_fixed_steps   \n",
       "39                OpinionNetFixedW  opinion_agent_dqn_fixed_dist_fixed_steps   \n",
       "50                OpinionNetFixedW  opinion_agent_dqn_fixed_dist_fixed_steps   \n",
       "51                OpinionNetFixedW  opinion_agent_dqn_fixed_dist_fixed_steps   \n",
       "52                OpinionNetFixedW  opinion_agent_dqn_fixed_dist_fixed_steps   \n",
       "53                OpinionNetFixedW  opinion_agent_dqn_fixed_dist_fixed_steps   \n",
       "54                OpinionNetFixedW  opinion_agent_dqn_fixed_dist_fixed_steps   \n",
       "55                OpinionNetFixedW  opinion_agent_dqn_fixed_dist_fixed_steps   \n",
       "56                OpinionNetFixedW  opinion_agent_dqn_fixed_dist_fixed_steps   \n",
       "57                OpinionNetFixedW  opinion_agent_dqn_fixed_dist_fixed_steps   \n",
       "58                OpinionNetFixedW  opinion_agent_dqn_fixed_dist_fixed_steps   \n",
       "59                OpinionNetFixedW  opinion_agent_dqn_fixed_dist_fixed_steps   \n",
       "70                OpinionNetFixedW  opinion_agent_dqn_fixed_dist_fixed_steps   \n",
       "71                OpinionNetFixedW  opinion_agent_dqn_fixed_dist_fixed_steps   \n",
       "72                OpinionNetFixedW  opinion_agent_dqn_fixed_dist_fixed_steps   \n",
       "73                OpinionNetFixedW  opinion_agent_dqn_fixed_dist_fixed_steps   \n",
       "74                OpinionNetFixedW  opinion_agent_dqn_fixed_dist_fixed_steps   \n",
       "75                OpinionNetFixedW  opinion_agent_dqn_fixed_dist_fixed_steps   \n",
       "76                OpinionNetFixedW  opinion_agent_dqn_fixed_dist_fixed_steps   \n",
       "77                OpinionNetFixedW  opinion_agent_dqn_fixed_dist_fixed_steps   \n",
       "78                OpinionNetFixedW  opinion_agent_dqn_fixed_dist_fixed_steps   \n",
       "79                OpinionNetFixedW  opinion_agent_dqn_fixed_dist_fixed_steps   \n",
       "\n",
       "                                  sub_experiment_path  seed  \\\n",
       "10  d:\\Work\\repos\\RL\\phd-rl-algos\\dqn\\opinion_dyna...     0   \n",
       "11  d:\\Work\\repos\\RL\\phd-rl-algos\\dqn\\opinion_dyna...     0   \n",
       "12  d:\\Work\\repos\\RL\\phd-rl-algos\\dqn\\opinion_dyna...     0   \n",
       "13  d:\\Work\\repos\\RL\\phd-rl-algos\\dqn\\opinion_dyna...     0   \n",
       "14  d:\\Work\\repos\\RL\\phd-rl-algos\\dqn\\opinion_dyna...     0   \n",
       "15  d:\\Work\\repos\\RL\\phd-rl-algos\\dqn\\opinion_dyna...     0   \n",
       "16  d:\\Work\\repos\\RL\\phd-rl-algos\\dqn\\opinion_dyna...     0   \n",
       "17  d:\\Work\\repos\\RL\\phd-rl-algos\\dqn\\opinion_dyna...     0   \n",
       "18  d:\\Work\\repos\\RL\\phd-rl-algos\\dqn\\opinion_dyna...     0   \n",
       "19  d:\\Work\\repos\\RL\\phd-rl-algos\\dqn\\opinion_dyna...     0   \n",
       "30  d:\\Work\\repos\\RL\\phd-rl-algos\\dqn\\opinion_dyna...     0   \n",
       "31  d:\\Work\\repos\\RL\\phd-rl-algos\\dqn\\opinion_dyna...     0   \n",
       "32  d:\\Work\\repos\\RL\\phd-rl-algos\\dqn\\opinion_dyna...     0   \n",
       "33  d:\\Work\\repos\\RL\\phd-rl-algos\\dqn\\opinion_dyna...     0   \n",
       "34  d:\\Work\\repos\\RL\\phd-rl-algos\\dqn\\opinion_dyna...     0   \n",
       "35  d:\\Work\\repos\\RL\\phd-rl-algos\\dqn\\opinion_dyna...     0   \n",
       "36  d:\\Work\\repos\\RL\\phd-rl-algos\\dqn\\opinion_dyna...     0   \n",
       "37  d:\\Work\\repos\\RL\\phd-rl-algos\\dqn\\opinion_dyna...     0   \n",
       "38  d:\\Work\\repos\\RL\\phd-rl-algos\\dqn\\opinion_dyna...     0   \n",
       "39  d:\\Work\\repos\\RL\\phd-rl-algos\\dqn\\opinion_dyna...     0   \n",
       "50  d:\\Work\\repos\\RL\\phd-rl-algos\\dqn\\opinion_dyna...     0   \n",
       "51  d:\\Work\\repos\\RL\\phd-rl-algos\\dqn\\opinion_dyna...     0   \n",
       "52  d:\\Work\\repos\\RL\\phd-rl-algos\\dqn\\opinion_dyna...     0   \n",
       "53  d:\\Work\\repos\\RL\\phd-rl-algos\\dqn\\opinion_dyna...     0   \n",
       "54  d:\\Work\\repos\\RL\\phd-rl-algos\\dqn\\opinion_dyna...     0   \n",
       "55  d:\\Work\\repos\\RL\\phd-rl-algos\\dqn\\opinion_dyna...     0   \n",
       "56  d:\\Work\\repos\\RL\\phd-rl-algos\\dqn\\opinion_dyna...     0   \n",
       "57  d:\\Work\\repos\\RL\\phd-rl-algos\\dqn\\opinion_dyna...     0   \n",
       "58  d:\\Work\\repos\\RL\\phd-rl-algos\\dqn\\opinion_dyna...     0   \n",
       "59  d:\\Work\\repos\\RL\\phd-rl-algos\\dqn\\opinion_dyna...     0   \n",
       "70  d:\\Work\\repos\\RL\\phd-rl-algos\\dqn\\opinion_dyna...     0   \n",
       "71  d:\\Work\\repos\\RL\\phd-rl-algos\\dqn\\opinion_dyna...     0   \n",
       "72  d:\\Work\\repos\\RL\\phd-rl-algos\\dqn\\opinion_dyna...     0   \n",
       "73  d:\\Work\\repos\\RL\\phd-rl-algos\\dqn\\opinion_dyna...     0   \n",
       "74  d:\\Work\\repos\\RL\\phd-rl-algos\\dqn\\opinion_dyna...     0   \n",
       "75  d:\\Work\\repos\\RL\\phd-rl-algos\\dqn\\opinion_dyna...     0   \n",
       "76  d:\\Work\\repos\\RL\\phd-rl-algos\\dqn\\opinion_dyna...     0   \n",
       "77  d:\\Work\\repos\\RL\\phd-rl-algos\\dqn\\opinion_dyna...     0   \n",
       "78  d:\\Work\\repos\\RL\\phd-rl-algos\\dqn\\opinion_dyna...     0   \n",
       "79  d:\\Work\\repos\\RL\\phd-rl-algos\\dqn\\opinion_dyna...     0   \n",
       "\n",
       "                                      experiment_name  \n",
       "10  0000_optim.args_.eps_1e-09__optim.args_.lr_1e-...  \n",
       "11  0000_optim.args_.eps_1e-09__optim.args_.lr_1e-...  \n",
       "12  0000_optim.args_.eps_1e-09__optim.args_.lr_1e-...  \n",
       "13  0000_optim.args_.eps_1e-09__optim.args_.lr_1e-...  \n",
       "14  0000_optim.args_.eps_1e-09__optim.args_.lr_1e-...  \n",
       "15  0000_optim.args_.eps_1e-09__optim.args_.lr_1e-...  \n",
       "16  0000_optim.args_.eps_1e-09__optim.args_.lr_1e-...  \n",
       "17  0000_optim.args_.eps_1e-09__optim.args_.lr_1e-...  \n",
       "18  0000_optim.args_.eps_1e-09__optim.args_.lr_1e-...  \n",
       "19  0000_optim.args_.eps_1e-09__optim.args_.lr_1e-...  \n",
       "30  0001_optim.args_.eps_1e-09__optim.args_.lr_5e-...  \n",
       "31  0001_optim.args_.eps_1e-09__optim.args_.lr_5e-...  \n",
       "32  0001_optim.args_.eps_1e-09__optim.args_.lr_5e-...  \n",
       "33  0001_optim.args_.eps_1e-09__optim.args_.lr_5e-...  \n",
       "34  0001_optim.args_.eps_1e-09__optim.args_.lr_5e-...  \n",
       "35  0001_optim.args_.eps_1e-09__optim.args_.lr_5e-...  \n",
       "36  0001_optim.args_.eps_1e-09__optim.args_.lr_5e-...  \n",
       "37  0001_optim.args_.eps_1e-09__optim.args_.lr_5e-...  \n",
       "38  0001_optim.args_.eps_1e-09__optim.args_.lr_5e-...  \n",
       "39  0001_optim.args_.eps_1e-09__optim.args_.lr_5e-...  \n",
       "50  0002_optim.args_.eps_1e-08__optim.args_.lr_1e-...  \n",
       "51  0002_optim.args_.eps_1e-08__optim.args_.lr_1e-...  \n",
       "52  0002_optim.args_.eps_1e-08__optim.args_.lr_1e-...  \n",
       "53  0002_optim.args_.eps_1e-08__optim.args_.lr_1e-...  \n",
       "54  0002_optim.args_.eps_1e-08__optim.args_.lr_1e-...  \n",
       "55  0002_optim.args_.eps_1e-08__optim.args_.lr_1e-...  \n",
       "56  0002_optim.args_.eps_1e-08__optim.args_.lr_1e-...  \n",
       "57  0002_optim.args_.eps_1e-08__optim.args_.lr_1e-...  \n",
       "58  0002_optim.args_.eps_1e-08__optim.args_.lr_1e-...  \n",
       "59  0002_optim.args_.eps_1e-08__optim.args_.lr_1e-...  \n",
       "70  0003_optim.args_.eps_1e-08__optim.args_.lr_5e-...  \n",
       "71  0003_optim.args_.eps_1e-08__optim.args_.lr_5e-...  \n",
       "72  0003_optim.args_.eps_1e-08__optim.args_.lr_5e-...  \n",
       "73  0003_optim.args_.eps_1e-08__optim.args_.lr_5e-...  \n",
       "74  0003_optim.args_.eps_1e-08__optim.args_.lr_5e-...  \n",
       "75  0003_optim.args_.eps_1e-08__optim.args_.lr_5e-...  \n",
       "76  0003_optim.args_.eps_1e-08__optim.args_.lr_5e-...  \n",
       "77  0003_optim.args_.eps_1e-08__optim.args_.lr_5e-...  \n",
       "78  0003_optim.args_.eps_1e-08__optim.args_.lr_5e-...  \n",
       "79  0003_optim.args_.eps_1e-08__optim.args_.lr_5e-...  \n",
       "\n",
       "[40 rows x 39 columns]"
      ]
     },
     "execution_count": 24,
     "metadata": {},
     "output_type": "execute_result"
    }
   ],
   "source": [
    "df[df['epoch_type'] == 'validation']\n",
    "# df[df['epoch_type'] == 'training']\n"
   ]
  },
  {
   "cell_type": "code",
   "execution_count": 25,
   "metadata": {},
   "outputs": [
    {
     "name": "stdout",
     "output_type": "stream",
     "text": [
      "Best hyperparameters:\n",
      "sub_exp_cfg_optim.args_.eps                                                1e-09\n",
      "sub_exp_cfg_optim.args_.lr                                                 5e-06\n",
      "sub_exp_cfg_agent_params.args_.betas                                   [0, 1, 2]\n",
      "sub_exp_cfg_agent_params.model                                  OpinionNetFixedW\n",
      "sub_exp_cfg_experiment                  opinion_agent_dqn_fixed_dist_fixed_steps\n",
      "Name: 3, dtype: object\n",
      "Best mean reward: -11.844823668461117\n"
     ]
    }
   ],
   "source": [
    "# Define hyperparameter columns\n",
    "hyperparam_columns = [col for col in df.columns if \"sub_exp_cfg\" in col]\n",
    "\n",
    "# Group by hyperparameter values and compute mean episode_rewards_mean\n",
    "averaged_results = df.groupby(hyperparam_columns, as_index=False).agg({\n",
    "    'episode_rewards_mean': 'mean',  # Averaging the performance metric\n",
    "    'sub_experiment_path': 'first'   # Keep a reference to an experiment path\n",
    "})\n",
    "\n",
    "# Find the best hyperparameter set based on the highest mean reward\n",
    "best_row = averaged_results.loc[averaged_results['episode_rewards_mean'].idxmax()]\n",
    "\n",
    "# Print the best experiment path and hyperparameters\n",
    "print(f\"Best hyperparameters:\\n{best_row[hyperparam_columns]}\")\n",
    "print(f\"Best mean reward: {best_row['episode_rewards_mean']}\")"
   ]
  },
  {
   "cell_type": "code",
   "execution_count": 26,
   "metadata": {},
   "outputs": [
    {
     "data": {
      "text/html": [
       "<div>\n",
       "<style scoped>\n",
       "    .dataframe tbody tr th:only-of-type {\n",
       "        vertical-align: middle;\n",
       "    }\n",
       "\n",
       "    .dataframe tbody tr th {\n",
       "        vertical-align: top;\n",
       "    }\n",
       "\n",
       "    .dataframe thead th {\n",
       "        text-align: right;\n",
       "    }\n",
       "</style>\n",
       "<table border=\"1\" class=\"dataframe\">\n",
       "  <thead>\n",
       "    <tr style=\"text-align: right;\">\n",
       "      <th></th>\n",
       "      <th>sub_exp_cfg_optim.args_.eps</th>\n",
       "      <th>sub_exp_cfg_optim.args_.lr</th>\n",
       "      <th>sub_exp_cfg_agent_params.args_.betas</th>\n",
       "      <th>sub_exp_cfg_agent_params.model</th>\n",
       "      <th>sub_exp_cfg_experiment</th>\n",
       "      <th>episode_rewards_mean</th>\n",
       "      <th>sub_experiment_path</th>\n",
       "    </tr>\n",
       "  </thead>\n",
       "  <tbody>\n",
       "    <tr>\n",
       "      <th>0</th>\n",
       "      <td>1e-08</td>\n",
       "      <td>1e-06</td>\n",
       "      <td>[0, 1, 2]</td>\n",
       "      <td>OpinionNetFixedW</td>\n",
       "      <td>opinion_agent_dqn_fixed_dist_fixed_steps</td>\n",
       "      <td>-25.648785</td>\n",
       "      <td>d:\\Work\\repos\\RL\\phd-rl-algos\\dqn\\opinion_dyna...</td>\n",
       "    </tr>\n",
       "    <tr>\n",
       "      <th>1</th>\n",
       "      <td>1e-08</td>\n",
       "      <td>5e-06</td>\n",
       "      <td>[0, 1, 2]</td>\n",
       "      <td>OpinionNetFixedW</td>\n",
       "      <td>opinion_agent_dqn_fixed_dist_fixed_steps</td>\n",
       "      <td>-11.871090</td>\n",
       "      <td>d:\\Work\\repos\\RL\\phd-rl-algos\\dqn\\opinion_dyna...</td>\n",
       "    </tr>\n",
       "    <tr>\n",
       "      <th>2</th>\n",
       "      <td>1e-09</td>\n",
       "      <td>1e-06</td>\n",
       "      <td>[0, 1, 2]</td>\n",
       "      <td>OpinionNetFixedW</td>\n",
       "      <td>opinion_agent_dqn_fixed_dist_fixed_steps</td>\n",
       "      <td>-25.648014</td>\n",
       "      <td>d:\\Work\\repos\\RL\\phd-rl-algos\\dqn\\opinion_dyna...</td>\n",
       "    </tr>\n",
       "    <tr>\n",
       "      <th>3</th>\n",
       "      <td>1e-09</td>\n",
       "      <td>5e-06</td>\n",
       "      <td>[0, 1, 2]</td>\n",
       "      <td>OpinionNetFixedW</td>\n",
       "      <td>opinion_agent_dqn_fixed_dist_fixed_steps</td>\n",
       "      <td>-11.844824</td>\n",
       "      <td>d:\\Work\\repos\\RL\\phd-rl-algos\\dqn\\opinion_dyna...</td>\n",
       "    </tr>\n",
       "  </tbody>\n",
       "</table>\n",
       "</div>"
      ],
      "text/plain": [
       "  sub_exp_cfg_optim.args_.eps sub_exp_cfg_optim.args_.lr  \\\n",
       "0                       1e-08                      1e-06   \n",
       "1                       1e-08                      5e-06   \n",
       "2                       1e-09                      1e-06   \n",
       "3                       1e-09                      5e-06   \n",
       "\n",
       "  sub_exp_cfg_agent_params.args_.betas sub_exp_cfg_agent_params.model  \\\n",
       "0                            [0, 1, 2]               OpinionNetFixedW   \n",
       "1                            [0, 1, 2]               OpinionNetFixedW   \n",
       "2                            [0, 1, 2]               OpinionNetFixedW   \n",
       "3                            [0, 1, 2]               OpinionNetFixedW   \n",
       "\n",
       "                     sub_exp_cfg_experiment  episode_rewards_mean  \\\n",
       "0  opinion_agent_dqn_fixed_dist_fixed_steps            -25.648785   \n",
       "1  opinion_agent_dqn_fixed_dist_fixed_steps            -11.871090   \n",
       "2  opinion_agent_dqn_fixed_dist_fixed_steps            -25.648014   \n",
       "3  opinion_agent_dqn_fixed_dist_fixed_steps            -11.844824   \n",
       "\n",
       "                                 sub_experiment_path  \n",
       "0  d:\\Work\\repos\\RL\\phd-rl-algos\\dqn\\opinion_dyna...  \n",
       "1  d:\\Work\\repos\\RL\\phd-rl-algos\\dqn\\opinion_dyna...  \n",
       "2  d:\\Work\\repos\\RL\\phd-rl-algos\\dqn\\opinion_dyna...  \n",
       "3  d:\\Work\\repos\\RL\\phd-rl-algos\\dqn\\opinion_dyna...  "
      ]
     },
     "execution_count": 26,
     "metadata": {},
     "output_type": "execute_result"
    }
   ],
   "source": [
    "averaged_results"
   ]
  },
  {
   "cell_type": "code",
   "execution_count": 27,
   "metadata": {},
   "outputs": [],
   "source": [
    "# selected_metric = 'episode_rewards_mean'\n",
    "# hue_col = \"sub_exp_cfg_agent_params.args_.action_w_noise_amplitude\"\n",
    "\n",
    "# # Filter for validation episodes\n",
    "# validation_df = df[df['epoch_type'] == 'validation']\n",
    "\n",
    "# # Get the unique sorted frame_stamp values\n",
    "# unique_frames = np.sort(validation_df['frame_stamp'].unique())\n",
    "# N = 1\n",
    "# # Get all frame_stamp values after the first N unique ones\n",
    "# filtered_frames = unique_frames[N:]\n",
    "\n",
    "# # Filter the DataFrame to only include rows with these frame_stamp values\n",
    "# filtered_df = validation_df[validation_df['frame_stamp'].isin(filtered_frames)]\n",
    "\n",
    "# plt.figure(figsize=(10, 6))\n",
    "# sns.lineplot(data=filtered_df, x='frame_stamp', y=selected_metric, hue=hue_col)\n",
    "# plt.ylabel(selected_metric)\n",
    "# plt.xlabel('Frame Stamp')\n",
    "# plt.show()"
   ]
  },
  {
   "cell_type": "code",
   "execution_count": 28,
   "metadata": {},
   "outputs": [
    {
     "data": {
      "image/png": "[encoded data removed]",
      "text/plain": [
       "<Figure size 1000x600 with 1 Axes>"
      ]
     },
     "metadata": {},
     "output_type": "display_data"
    }
   ],
   "source": [
    "\n",
    "selected_metric = 'episode_discounted_rewards_mean'\n",
    "# hue_col = \"sub_exp_cfg_agent_params.args_.action_w_noise_amplitude\"\n",
    "hue_col = \"experiment_name\"\n",
    "\n",
    "validation_df = df[df['epoch_type'] == 'validation']\n",
    "# validation_df = df[df['epoch_type'] == 'training']\n",
    "\n",
    "\n",
    "# Create a new figure for each environment\n",
    "plt.figure(figsize=(10, 6))\n",
    "# sns.lineplot(data=df, x='frame_stamp', y=selected_metric, hue='model')\n",
    "sns.lineplot(data=validation_df, \n",
    "             x='frame_stamp', \n",
    "             y=selected_metric, \n",
    "             hue=hue_col,\n",
    "            #  units='seed', # Comment this to see mean + cf\n",
    "            #  estimator=None, # Comment this to see mean + cf\n",
    "             )\n",
    "\n",
    "plt.ylabel(selected_metric)\n",
    "plt.xlabel('Frame Stamp')\n",
    "\n",
    "# Place the legend outside the plot\n",
    "plt.legend(loc='center left', bbox_to_anchor=(1.0, 0.5), title='Parameters')\n",
    "plt.show()"
   ]
  },
  {
   "cell_type": "code",
   "execution_count": 29,
   "metadata": {},
   "outputs": [
    {
     "data": {
      "text/plain": [
       "Index(['epoch_type', 'frame_stamp', 'greedy_epsilon', 'episode_rewards_min',\n",
       "       'episode_rewards_max', 'episode_rewards_mean', 'episode_rewards_median',\n",
       "       'episode_rewards_std', 'episode_discounted_rewards_min',\n",
       "       'episode_discounted_rewards_max', 'episode_discounted_rewards_mean',\n",
       "       'episode_discounted_rewards_median', 'episode_discounted_rewards_std',\n",
       "       'episode_frames_min', 'episode_frames_max', 'episode_frames_mean',\n",
       "       'episode_frames_median', 'episode_frames_std', 'episode_losses_min',\n",
       "       'episode_losses_max', 'episode_losses_mean', 'episode_losses_median',\n",
       "       'episode_losses_std', 'episode_max_qs_min', 'episode_max_qs_max',\n",
       "       'episode_max_qs_mean', 'episode_max_qs_median', 'episode_max_qs_std',\n",
       "       'policy_trained_times', 'target_trained_times', 'epoch_time',\n",
       "       'sub_exp_cfg_optim.args_.eps', 'sub_exp_cfg_optim.args_.lr',\n",
       "       'sub_exp_cfg_agent_params.args_.betas',\n",
       "       'sub_exp_cfg_agent_params.model', 'sub_exp_cfg_experiment',\n",
       "       'sub_experiment_path', 'seed', 'experiment_name'],\n",
       "      dtype='object')"
      ]
     },
     "execution_count": 29,
     "metadata": {},
     "output_type": "execute_result"
    }
   ],
   "source": [
    "df.columns"
   ]
  },
  {
   "cell_type": "markdown",
   "metadata": {},
   "source": []
  },
  {
   "cell_type": "code",
   "execution_count": 30,
   "metadata": {},
   "outputs": [
    {
     "data": {
      "image/png": "[encoded data removed]",
      "text/plain": [
       "<Figure size 1000x600 with 1 Axes>"
      ]
     },
     "metadata": {},
     "output_type": "display_data"
    }
   ],
   "source": [
    "import matplotlib.pyplot as plt\n",
    "import seaborn as sns\n",
    "\n",
    "selected_metric = 'episode_frames_mean'\n",
    "hue_col = \"experiment_name\"  # or another distinguishing column like \"sub_experiment_path\"\n",
    "\n",
    "validation_df = df[df['epoch_type'] == 'validation']\n",
    "\n",
    "# Plot individual lines for each run\n",
    "plt.figure(figsize=(10, 6))\n",
    "sns.lineplot(\n",
    "    data=validation_df,\n",
    "    x='frame_stamp',\n",
    "    y=selected_metric,\n",
    "    hue=hue_col,\n",
    "    estimator=None,  # ← disables aggregation\n",
    "    units='sub_experiment_path',  # ← groups lines by unique run\n",
    "    lw=1,  # line width\n",
    "    alpha=0.7  # transparency\n",
    ")\n",
    "\n",
    "plt.ylabel(selected_metric)\n",
    "plt.xlabel('Frame Stamp')\n",
    "plt.title('Validation Reward Trajectories (Per Run)')\n",
    "\n",
    "# Move legend outside the plot\n",
    "plt.legend(loc='center left', bbox_to_anchor=(1.0, 0.5), title='Experiment')\n",
    "plt.tight_layout()\n",
    "plt.show()\n"
   ]
  },
  {
   "cell_type": "code",
   "execution_count": 31,
   "metadata": {},
   "outputs": [
    {
     "data": {
      "text/html": [
       "<div>\n",
       "<style scoped>\n",
       "    .dataframe tbody tr th:only-of-type {\n",
       "        vertical-align: middle;\n",
       "    }\n",
       "\n",
       "    .dataframe tbody tr th {\n",
       "        vertical-align: top;\n",
       "    }\n",
       "\n",
       "    .dataframe thead th {\n",
       "        text-align: right;\n",
       "    }\n",
       "</style>\n",
       "<table border=\"1\" class=\"dataframe\">\n",
       "  <thead>\n",
       "    <tr style=\"text-align: right;\">\n",
       "      <th></th>\n",
       "      <th>epoch_type</th>\n",
       "      <th>frame_stamp</th>\n",
       "      <th>episode_rewards_mean</th>\n",
       "      <th>episode_frames_mean</th>\n",
       "      <th>episode_discounted_rewards_mean</th>\n",
       "      <th>policy_trained_times</th>\n",
       "      <th>target_trained_times</th>\n",
       "      <th>epoch_time</th>\n",
       "      <th>seed</th>\n",
       "      <th>experiment_name</th>\n",
       "      <th>sub_experiment_path</th>\n",
       "      <th>sub_exp_cfg_optim.args_.eps</th>\n",
       "      <th>sub_exp_cfg_optim.args_.lr</th>\n",
       "      <th>sub_exp_cfg_agent_params.args_.betas</th>\n",
       "      <th>sub_exp_cfg_agent_params.model</th>\n",
       "      <th>sub_exp_cfg_experiment</th>\n",
       "    </tr>\n",
       "  </thead>\n",
       "  <tbody>\n",
       "    <tr>\n",
       "      <th>19</th>\n",
       "      <td>validation</td>\n",
       "      <td>2000000</td>\n",
       "      <td>-19.255243</td>\n",
       "      <td>75.0</td>\n",
       "      <td>-14.347664</td>\n",
       "      <td>NaN</td>\n",
       "      <td>NaN</td>\n",
       "      <td>0 days 00:00:04.320348</td>\n",
       "      <td>0</td>\n",
       "      <td>0000_optim.args_.eps_1e-09__optim.args_.lr_1e-...</td>\n",
       "      <td>d:\\Work\\repos\\RL\\phd-rl-algos\\dqn\\opinion_dyna...</td>\n",
       "      <td>1e-09</td>\n",
       "      <td>1e-06</td>\n",
       "      <td>[0, 1, 2]</td>\n",
       "      <td>OpinionNetFixedW</td>\n",
       "      <td>opinion_agent_dqn_fixed_dist_fixed_steps</td>\n",
       "    </tr>\n",
       "    <tr>\n",
       "      <th>39</th>\n",
       "      <td>validation</td>\n",
       "      <td>2000000</td>\n",
       "      <td>-10.306417</td>\n",
       "      <td>75.0</td>\n",
       "      <td>-8.898826</td>\n",
       "      <td>NaN</td>\n",
       "      <td>NaN</td>\n",
       "      <td>0 days 00:00:03.981581</td>\n",
       "      <td>0</td>\n",
       "      <td>0001_optim.args_.eps_1e-09__optim.args_.lr_5e-...</td>\n",
       "      <td>d:\\Work\\repos\\RL\\phd-rl-algos\\dqn\\opinion_dyna...</td>\n",
       "      <td>1e-09</td>\n",
       "      <td>5e-06</td>\n",
       "      <td>[0, 1, 2]</td>\n",
       "      <td>OpinionNetFixedW</td>\n",
       "      <td>opinion_agent_dqn_fixed_dist_fixed_steps</td>\n",
       "    </tr>\n",
       "    <tr>\n",
       "      <th>59</th>\n",
       "      <td>validation</td>\n",
       "      <td>2000000</td>\n",
       "      <td>-19.255243</td>\n",
       "      <td>75.0</td>\n",
       "      <td>-14.347664</td>\n",
       "      <td>NaN</td>\n",
       "      <td>NaN</td>\n",
       "      <td>0 days 00:00:03.792745</td>\n",
       "      <td>0</td>\n",
       "      <td>0002_optim.args_.eps_1e-08__optim.args_.lr_1e-...</td>\n",
       "      <td>d:\\Work\\repos\\RL\\phd-rl-algos\\dqn\\opinion_dyna...</td>\n",
       "      <td>1e-08</td>\n",
       "      <td>1e-06</td>\n",
       "      <td>[0, 1, 2]</td>\n",
       "      <td>OpinionNetFixedW</td>\n",
       "      <td>opinion_agent_dqn_fixed_dist_fixed_steps</td>\n",
       "    </tr>\n",
       "    <tr>\n",
       "      <th>79</th>\n",
       "      <td>validation</td>\n",
       "      <td>2000000</td>\n",
       "      <td>-10.387444</td>\n",
       "      <td>75.0</td>\n",
       "      <td>-8.934751</td>\n",
       "      <td>NaN</td>\n",
       "      <td>NaN</td>\n",
       "      <td>0 days 00:00:02.696688</td>\n",
       "      <td>0</td>\n",
       "      <td>0003_optim.args_.eps_1e-08__optim.args_.lr_5e-...</td>\n",
       "      <td>d:\\Work\\repos\\RL\\phd-rl-algos\\dqn\\opinion_dyna...</td>\n",
       "      <td>1e-08</td>\n",
       "      <td>5e-06</td>\n",
       "      <td>[0, 1, 2]</td>\n",
       "      <td>OpinionNetFixedW</td>\n",
       "      <td>opinion_agent_dqn_fixed_dist_fixed_steps</td>\n",
       "    </tr>\n",
       "  </tbody>\n",
       "</table>\n",
       "</div>"
      ],
      "text/plain": [
       "    epoch_type  frame_stamp  episode_rewards_mean  episode_frames_mean  \\\n",
       "19  validation      2000000            -19.255243                 75.0   \n",
       "39  validation      2000000            -10.306417                 75.0   \n",
       "59  validation      2000000            -19.255243                 75.0   \n",
       "79  validation      2000000            -10.387444                 75.0   \n",
       "\n",
       "    episode_discounted_rewards_mean  policy_trained_times  \\\n",
       "19                       -14.347664                   NaN   \n",
       "39                        -8.898826                   NaN   \n",
       "59                       -14.347664                   NaN   \n",
       "79                        -8.934751                   NaN   \n",
       "\n",
       "    target_trained_times             epoch_time seed  \\\n",
       "19                   NaN 0 days 00:00:04.320348    0   \n",
       "39                   NaN 0 days 00:00:03.981581    0   \n",
       "59                   NaN 0 days 00:00:03.792745    0   \n",
       "79                   NaN 0 days 00:00:02.696688    0   \n",
       "\n",
       "                                      experiment_name  \\\n",
       "19  0000_optim.args_.eps_1e-09__optim.args_.lr_1e-...   \n",
       "39  0001_optim.args_.eps_1e-09__optim.args_.lr_5e-...   \n",
       "59  0002_optim.args_.eps_1e-08__optim.args_.lr_1e-...   \n",
       "79  0003_optim.args_.eps_1e-08__optim.args_.lr_5e-...   \n",
       "\n",
       "                                  sub_experiment_path  \\\n",
       "19  d:\\Work\\repos\\RL\\phd-rl-algos\\dqn\\opinion_dyna...   \n",
       "39  d:\\Work\\repos\\RL\\phd-rl-algos\\dqn\\opinion_dyna...   \n",
       "59  d:\\Work\\repos\\RL\\phd-rl-algos\\dqn\\opinion_dyna...   \n",
       "79  d:\\Work\\repos\\RL\\phd-rl-algos\\dqn\\opinion_dyna...   \n",
       "\n",
       "   sub_exp_cfg_optim.args_.eps sub_exp_cfg_optim.args_.lr  \\\n",
       "19                       1e-09                      1e-06   \n",
       "39                       1e-09                      5e-06   \n",
       "59                       1e-08                      1e-06   \n",
       "79                       1e-08                      5e-06   \n",
       "\n",
       "   sub_exp_cfg_agent_params.args_.betas sub_exp_cfg_agent_params.model  \\\n",
       "19                            [0, 1, 2]               OpinionNetFixedW   \n",
       "39                            [0, 1, 2]               OpinionNetFixedW   \n",
       "59                            [0, 1, 2]               OpinionNetFixedW   \n",
       "79                            [0, 1, 2]               OpinionNetFixedW   \n",
       "\n",
       "                      sub_exp_cfg_experiment  \n",
       "19  opinion_agent_dqn_fixed_dist_fixed_steps  \n",
       "39  opinion_agent_dqn_fixed_dist_fixed_steps  \n",
       "59  opinion_agent_dqn_fixed_dist_fixed_steps  \n",
       "79  opinion_agent_dqn_fixed_dist_fixed_steps  "
      ]
     },
     "execution_count": 31,
     "metadata": {},
     "output_type": "execute_result"
    }
   ],
   "source": [
    "### Select data\n",
    "\n",
    "experiment_columns = [\n",
    "    'epoch_type', 'frame_stamp',\n",
    "    'episode_rewards_mean', 'episode_frames_mean', \n",
    "    'episode_discounted_rewards_mean',\n",
    "    'policy_trained_times', 'target_trained_times', 'epoch_time', \n",
    "       'seed', 'experiment_name', \"sub_experiment_path\"\n",
    "]\n",
    "hyperparam_columns = [\n",
    "   col for col in df.columns if \"sub_exp_cfg\" in col\n",
    "]\n",
    "\n",
    "cols_of_interest = experiment_columns + hyperparam_columns\n",
    "\n",
    "sub_df = df[cols_of_interest]\n",
    "sub_df = sub_df[sub_df['epoch_type'] == 'validation']\n",
    "sub_df = sub_df[sub_df['frame_stamp'] == sub_df['frame_stamp'].max()]\n",
    "\n",
    "sub_df \n"
   ]
  },
  {
   "cell_type": "code",
   "execution_count": 32,
   "metadata": {},
   "outputs": [
    {
     "data": {
      "text/html": [
       "<div>\n",
       "<style scoped>\n",
       "    .dataframe tbody tr th:only-of-type {\n",
       "        vertical-align: middle;\n",
       "    }\n",
       "\n",
       "    .dataframe tbody tr th {\n",
       "        vertical-align: top;\n",
       "    }\n",
       "\n",
       "    .dataframe thead th {\n",
       "        text-align: right;\n",
       "    }\n",
       "</style>\n",
       "<table border=\"1\" class=\"dataframe\">\n",
       "  <thead>\n",
       "    <tr style=\"text-align: right;\">\n",
       "      <th></th>\n",
       "      <th>sub_exp_cfg_optim.args_.eps</th>\n",
       "      <th>sub_exp_cfg_optim.args_.lr</th>\n",
       "      <th>sub_exp_cfg_agent_params.args_.betas</th>\n",
       "      <th>sub_exp_cfg_agent_params.model</th>\n",
       "      <th>sub_exp_cfg_experiment</th>\n",
       "      <th>episode_discounted_rewards_mean</th>\n",
       "    </tr>\n",
       "  </thead>\n",
       "  <tbody>\n",
       "    <tr>\n",
       "      <th>0</th>\n",
       "      <td>1e-08</td>\n",
       "      <td>1e-06</td>\n",
       "      <td>[0, 1, 2]</td>\n",
       "      <td>OpinionNetFixedW</td>\n",
       "      <td>opinion_agent_dqn_fixed_dist_fixed_steps</td>\n",
       "      <td>-14.347664</td>\n",
       "    </tr>\n",
       "    <tr>\n",
       "      <th>1</th>\n",
       "      <td>1e-08</td>\n",
       "      <td>5e-06</td>\n",
       "      <td>[0, 1, 2]</td>\n",
       "      <td>OpinionNetFixedW</td>\n",
       "      <td>opinion_agent_dqn_fixed_dist_fixed_steps</td>\n",
       "      <td>-8.934751</td>\n",
       "    </tr>\n",
       "    <tr>\n",
       "      <th>2</th>\n",
       "      <td>1e-09</td>\n",
       "      <td>1e-06</td>\n",
       "      <td>[0, 1, 2]</td>\n",
       "      <td>OpinionNetFixedW</td>\n",
       "      <td>opinion_agent_dqn_fixed_dist_fixed_steps</td>\n",
       "      <td>-14.347664</td>\n",
       "    </tr>\n",
       "    <tr>\n",
       "      <th>3</th>\n",
       "      <td>1e-09</td>\n",
       "      <td>5e-06</td>\n",
       "      <td>[0, 1, 2]</td>\n",
       "      <td>OpinionNetFixedW</td>\n",
       "      <td>opinion_agent_dqn_fixed_dist_fixed_steps</td>\n",
       "      <td>-8.898826</td>\n",
       "    </tr>\n",
       "  </tbody>\n",
       "</table>\n",
       "</div>"
      ],
      "text/plain": [
       "  sub_exp_cfg_optim.args_.eps sub_exp_cfg_optim.args_.lr  \\\n",
       "0                       1e-08                      1e-06   \n",
       "1                       1e-08                      5e-06   \n",
       "2                       1e-09                      1e-06   \n",
       "3                       1e-09                      5e-06   \n",
       "\n",
       "  sub_exp_cfg_agent_params.args_.betas sub_exp_cfg_agent_params.model  \\\n",
       "0                            [0, 1, 2]               OpinionNetFixedW   \n",
       "1                            [0, 1, 2]               OpinionNetFixedW   \n",
       "2                            [0, 1, 2]               OpinionNetFixedW   \n",
       "3                            [0, 1, 2]               OpinionNetFixedW   \n",
       "\n",
       "                     sub_exp_cfg_experiment  episode_discounted_rewards_mean  \n",
       "0  opinion_agent_dqn_fixed_dist_fixed_steps                       -14.347664  \n",
       "1  opinion_agent_dqn_fixed_dist_fixed_steps                        -8.934751  \n",
       "2  opinion_agent_dqn_fixed_dist_fixed_steps                       -14.347664  \n",
       "3  opinion_agent_dqn_fixed_dist_fixed_steps                        -8.898826  "
      ]
     },
     "execution_count": 32,
     "metadata": {},
     "output_type": "execute_result"
    }
   ],
   "source": [
    "agg_cols = [col for col in sub_df.columns if \"sub_exp_cfg\" in col]\n",
    "aggregated_df = (\n",
    "    sub_df.groupby(agg_cols)\n",
    "    .agg(episode_discounted_rewards_mean=(\"episode_discounted_rewards_mean\", \"mean\"))\n",
    "    .reset_index()\n",
    ")\n",
    "aggregated_df"
   ]
  },
  {
   "cell_type": "code",
   "execution_count": 33,
   "metadata": {},
   "outputs": [
    {
     "data": {
      "text/plain": [
       "Index(['epoch_type', 'frame_stamp', 'episode_rewards_mean',\n",
       "       'episode_frames_mean', 'episode_discounted_rewards_mean',\n",
       "       'policy_trained_times', 'target_trained_times', 'epoch_time', 'seed',\n",
       "       'experiment_name', 'sub_experiment_path', 'sub_exp_cfg_optim.args_.eps',\n",
       "       'sub_exp_cfg_optim.args_.lr', 'sub_exp_cfg_agent_params.args_.betas',\n",
       "       'sub_exp_cfg_agent_params.model', 'sub_exp_cfg_experiment'],\n",
       "      dtype='object')"
      ]
     },
     "execution_count": 33,
     "metadata": {},
     "output_type": "execute_result"
    }
   ],
   "source": [
    "sub_df.columns"
   ]
  },
  {
   "cell_type": "code",
   "execution_count": 34,
   "metadata": {},
   "outputs": [
    {
     "name": "stdout",
     "output_type": "stream",
     "text": [
      "d:\\Work\\repos\\RL\\phd-rl-algos\\dqn\\opinion_dynamics\\experiments\\results\\2025Aug30-132637_configs\\0001_optim.args_.eps_1e-09__optim.args_.lr_5e-06__agent_params.args_.betas__0__1__2___agent_params.model_OpinionNetFixedW__experiment_opinion_agent_dqn_fixed_dist_fixed_steps\\0\n"
     ]
    }
   ],
   "source": [
    "print(sub_df[sub_df['episode_rewards_mean'] == sub_df['episode_rewards_mean'].max()]['sub_experiment_path'].values[0])\n",
    "\n"
   ]
  },
  {
   "cell_type": "code",
   "execution_count": 35,
   "metadata": {},
   "outputs": [
    {
     "data": {
      "image/png": "[encoded data removed]",
      "text/plain": [
       "<Figure size 1000x600 with 1 Axes>"
      ]
     },
     "metadata": {},
     "output_type": "display_data"
    }
   ],
   "source": [
    "selected_metric = 'episode_rewards_mean'\n",
    "hue_col = \"experiment_name\"\n",
    "\n",
    "# Filter for training data only\n",
    "# training_df = df[df['epoch_type'] == 'training']\n",
    "training_df = df[df['epoch_type'] == 'validation']\n",
    "\n",
    "# Step 1: Find best experiment\n",
    "experiment_means = training_df.groupby(hue_col)[selected_metric].mean()\n",
    "best_experiment = experiment_means.idxmax()\n",
    "\n",
    "# Step 2: Filter to that experiment\n",
    "best_exp_df = training_df[training_df[hue_col] == best_experiment]\n",
    "\n",
    "# Step 3: Find best seed within best experiment\n",
    "best_seed = (\n",
    "    best_exp_df.groupby('seed')[selected_metric]\n",
    "    .mean()\n",
    "    .idxmax()\n",
    ")\n",
    "\n",
    "# Step 4: Filter to best seed\n",
    "best_seed_df = best_exp_df[best_exp_df['seed'] == best_seed]\n",
    "\n",
    "# Step 5: Plot\n",
    "plt.figure(figsize=(10, 6))\n",
    "sns.lineplot(\n",
    "    data=best_seed_df,\n",
    "    x='frame_stamp',\n",
    "    y=selected_metric,\n",
    "    lw=2,\n",
    "    label=f\"Seed {best_seed}\"\n",
    ")\n",
    "\n",
    "plt.title(f\"Best seed ({best_seed}) from best experiment: {best_experiment}\")\n",
    "plt.ylabel(selected_metric)\n",
    "plt.xlabel('Frame Stamp')\n",
    "plt.legend()\n",
    "plt.tight_layout()\n",
    "plt.show()"
   ]
  },
  {
   "cell_type": "code",
   "execution_count": 36,
   "metadata": {},
   "outputs": [
    {
     "data": {
      "image/png": "[encoded data removed]",
      "text/plain": [
       "<Figure size 800x350 with 2 Axes>"
      ]
     },
     "metadata": {},
     "output_type": "display_data"
    }
   ],
   "source": [
    "import shap\n",
    "import xgboost\n",
    "import pandas as pd\n",
    "\n",
    "\n",
    "# Define the target metric and hyperparameter columns\n",
    "target_metric = \"episode_rewards_mean\"  # Replace with actual metric column name\n",
    "# Replace with actual hyperparameter column names\n",
    "\n",
    "# Prepare data\n",
    "X = sub_df[hyperparam_columns].apply(pd.to_numeric, errors='coerce')\n",
    "y = sub_df[target_metric].fillna(3 * sub_df[target_metric].min())\n",
    "\n",
    "# Train an XGBoost model to analyze feature importance\n",
    "model = xgboost.XGBRegressor(objective=\"reg:squarederror\", n_estimators=100, random_state=42)\n",
    "model.fit(X, y)\n",
    "\n",
    "# SHAP analysis\n",
    "explainer = shap.Explainer(model)\n",
    "shap_values = explainer(X)\n",
    "\n",
    "# Summary plot (feature importance)\n",
    "shap.summary_plot(shap_values, X)"
   ]
  },
  {
   "cell_type": "code",
   "execution_count": 37,
   "metadata": {},
   "outputs": [
    {
     "data": {
      "text/plain": [
       "['sub_exp_cfg_optim.args_.eps',\n",
       " 'sub_exp_cfg_optim.args_.lr',\n",
       " 'sub_exp_cfg_agent_params.args_.betas',\n",
       " 'sub_exp_cfg_agent_params.model',\n",
       " 'sub_exp_cfg_experiment']"
      ]
     },
     "execution_count": 37,
     "metadata": {},
     "output_type": "execute_result"
    }
   ],
   "source": [
    "hyperparam_columns"
   ]
  },
  {
   "cell_type": "code",
   "execution_count": 38,
   "metadata": {},
   "outputs": [
    {
     "data": {
      "application/vnd.plotly.v1+json": {
       "config": {
        "plotlyServerURL": "https://plot.ly"
       },
       "data": [
        {
         "hovertemplate": "experiment_name=0000_optim.args_.eps_1e-09__optim.args_.lr_1e-06__agent_params.args_.betas__0__1__2___agent_params.model_OpinionNetFixedW__experiment_opinion_agent_dqn_fixed_dist_fixed_steps<br>size=1e-06<br>noise=%{x}<br>episode_rewards_mean=%{y}<extra></extra>",
         "legendgroup": "0000_optim.args_.eps_1e-09__optim.args_.lr_1e-06__agent_params.args_.betas__0__1__2___agent_params.model_OpinionNetFixedW__experiment_opinion_agent_dqn_fixed_dist_fixed_steps",
         "marker": {
          "color": "#636efa",
          "symbol": "circle"
         },
         "mode": "markers",
         "name": "0000_optim.args_.eps_1e-09__optim.args_.lr_1e-06__agent_params.args_.betas__0__1__2___agent_params.model_OpinionNetFixedW__experiment_opinion_agent_dqn_fixed_dist_fixed_steps",
         "orientation": "v",
         "showlegend": true,
         "type": "scatter",
         "x": [
          "1e-09"
         ],
         "xaxis": "x",
         "y": [
          -19.255242537888012
         ],
         "yaxis": "y"
        },
        {
         "hovertemplate": "experiment_name=0001_optim.args_.eps_1e-09__optim.args_.lr_5e-06__agent_params.args_.betas__0__1__2___agent_params.model_OpinionNetFixedW__experiment_opinion_agent_dqn_fixed_dist_fixed_steps<br>size=5e-06<br>noise=%{x}<br>episode_rewards_mean=%{y}<extra></extra>",
         "legendgroup": "0001_optim.args_.eps_1e-09__optim.args_.lr_5e-06__agent_params.args_.betas__0__1__2___agent_params.model_OpinionNetFixedW__experiment_opinion_agent_dqn_fixed_dist_fixed_steps",
         "marker": {
          "color": "#EF553B",
          "symbol": "circle"
         },
         "mode": "markers",
         "name": "0001_optim.args_.eps_1e-09__optim.args_.lr_5e-06__agent_params.args_.betas__0__1__2___agent_params.model_OpinionNetFixedW__experiment_opinion_agent_dqn_fixed_dist_fixed_steps",
         "orientation": "v",
         "showlegend": true,
         "type": "scatter",
         "x": [
          "1e-09"
         ],
         "xaxis": "x2",
         "y": [
          -10.306416616470315
         ],
         "yaxis": "y2"
        },
        {
         "hovertemplate": "experiment_name=0002_optim.args_.eps_1e-08__optim.args_.lr_1e-06__agent_params.args_.betas__0__1__2___agent_params.model_OpinionNetFixedW__experiment_opinion_agent_dqn_fixed_dist_fixed_steps<br>size=1e-06<br>noise=%{x}<br>episode_rewards_mean=%{y}<extra></extra>",
         "legendgroup": "0002_optim.args_.eps_1e-08__optim.args_.lr_1e-06__agent_params.args_.betas__0__1__2___agent_params.model_OpinionNetFixedW__experiment_opinion_agent_dqn_fixed_dist_fixed_steps",
         "marker": {
          "color": "#00cc96",
          "symbol": "circle"
         },
         "mode": "markers",
         "name": "0002_optim.args_.eps_1e-08__optim.args_.lr_1e-06__agent_params.args_.betas__0__1__2___agent_params.model_OpinionNetFixedW__experiment_opinion_agent_dqn_fixed_dist_fixed_steps",
         "orientation": "v",
         "showlegend": true,
         "type": "scatter",
         "x": [
          "1e-08"
         ],
         "xaxis": "x",
         "y": [
          -19.255242537888012
         ],
         "yaxis": "y"
        },
        {
         "hovertemplate": "experiment_name=0003_optim.args_.eps_1e-08__optim.args_.lr_5e-06__agent_params.args_.betas__0__1__2___agent_params.model_OpinionNetFixedW__experiment_opinion_agent_dqn_fixed_dist_fixed_steps<br>size=5e-06<br>noise=%{x}<br>episode_rewards_mean=%{y}<extra></extra>",
         "legendgroup": "0003_optim.args_.eps_1e-08__optim.args_.lr_5e-06__agent_params.args_.betas__0__1__2___agent_params.model_OpinionNetFixedW__experiment_opinion_agent_dqn_fixed_dist_fixed_steps",
         "marker": {
          "color": "#ab63fa",
          "symbol": "circle"
         },
         "mode": "markers",
         "name": "0003_optim.args_.eps_1e-08__optim.args_.lr_5e-06__agent_params.args_.betas__0__1__2___agent_params.model_OpinionNetFixedW__experiment_opinion_agent_dqn_fixed_dist_fixed_steps",
         "orientation": "v",
         "showlegend": true,
         "type": "scatter",
         "x": [
          "1e-08"
         ],
         "xaxis": "x2",
         "y": [
          -10.38744362104462
         ],
         "yaxis": "y2"
        }
       ],
       "layout": {
        "annotations": [
         {
          "font": {},
          "showarrow": false,
          "text": "size=1e-06",
          "x": 0.245,
          "xanchor": "center",
          "xref": "paper",
          "y": 1,
          "yanchor": "bottom",
          "yref": "paper"
         },
         {
          "font": {},
          "showarrow": false,
          "text": "size=5e-06",
          "x": 0.755,
          "xanchor": "center",
          "xref": "paper",
          "y": 1,
          "yanchor": "bottom",
          "yref": "paper"
         }
        ],
        "height": 600,
        "legend": {
         "title": {
          "text": "experiment_name"
         },
         "tracegroupgap": 0
        },
        "showlegend": false,
        "template": {
         "data": {
          "bar": [
           {
            "error_x": {
             "color": "#2a3f5f"
            },
            "error_y": {
             "color": "#2a3f5f"
            },
            "marker": {
             "line": {
              "color": "#E5ECF6",
              "width": 0.5
             },
             "pattern": {
              "fillmode": "overlay",
              "size": 10,
              "solidity": 0.2
             }
            },
            "type": "bar"
           }
          ],
          "barpolar": [
           {
            "marker": {
             "line": {
              "color": "#E5ECF6",
              "width": 0.5
             },
             "pattern": {
              "fillmode": "overlay",
              "size": 10,
              "solidity": 0.2
             }
            },
            "type": "barpolar"
           }
          ],
          "carpet": [
           {
            "aaxis": {
             "endlinecolor": "#2a3f5f",
             "gridcolor": "white",
             "linecolor": "white",
             "minorgridcolor": "white",
             "startlinecolor": "#2a3f5f"
            },
            "baxis": {
             "endlinecolor": "#2a3f5f",
             "gridcolor": "white",
             "linecolor": "white",
             "minorgridcolor": "white",
             "startlinecolor": "#2a3f5f"
            },
            "type": "carpet"
           }
          ],
          "choropleth": [
           {
            "colorbar": {
             "outlinewidth": 0,
             "ticks": ""
            },
            "type": "choropleth"
           }
          ],
          "contour": [
           {
            "colorbar": {
             "outlinewidth": 0,
             "ticks": ""
            },
            "colorscale": [
             [
              0,
              "#0d0887"
             ],
             [
              0.1111111111111111,
              "#46039f"
             ],
             [
              0.2222222222222222,
              "#7201a8"
             ],
             [
              0.3333333333333333,
              "#9c179e"
             ],
             [
              0.4444444444444444,
              "#bd3786"
             ],
             [
              0.5555555555555556,
              "#d8576b"
             ],
             [
              0.6666666666666666,
              "#ed7953"
             ],
             [
              0.7777777777777778,
              "#fb9f3a"
             ],
             [
              0.8888888888888888,
              "#fdca26"
             ],
             [
              1,
              "#f0f921"
             ]
            ],
            "type": "contour"
           }
          ],
          "contourcarpet": [
           {
            "colorbar": {
             "outlinewidth": 0,
             "ticks": ""
            },
            "type": "contourcarpet"
           }
          ],
          "heatmap": [
           {
            "colorbar": {
             "outlinewidth": 0,
             "ticks": ""
            },
            "colorscale": [
             [
              0,
              "#0d0887"
             ],
             [
              0.1111111111111111,
              "#46039f"
             ],
             [
              0.2222222222222222,
              "#7201a8"
             ],
             [
              0.3333333333333333,
              "#9c179e"
             ],
             [
              0.4444444444444444,
              "#bd3786"
             ],
             [
              0.5555555555555556,
              "#d8576b"
             ],
             [
              0.6666666666666666,
              "#ed7953"
             ],
             [
              0.7777777777777778,
              "#fb9f3a"
             ],
             [
              0.8888888888888888,
              "#fdca26"
             ],
             [
              1,
              "#f0f921"
             ]
            ],
            "type": "heatmap"
           }
          ],
          "heatmapgl": [
           {
            "colorbar": {
             "outlinewidth": 0,
             "ticks": ""
            },
            "colorscale": [
             [
              0,
              "#0d0887"
             ],
             [
              0.1111111111111111,
              "#46039f"
             ],
             [
              0.2222222222222222,
              "#7201a8"
             ],
             [
              0.3333333333333333,
              "#9c179e"
             ],
             [
              0.4444444444444444,
              "#bd3786"
             ],
             [
              0.5555555555555556,
              "#d8576b"
             ],
             [
              0.6666666666666666,
              "#ed7953"
             ],
             [
              0.7777777777777778,
              "#fb9f3a"
             ],
             [
              0.8888888888888888,
              "#fdca26"
             ],
             [
              1,
              "#f0f921"
             ]
            ],
            "type": "heatmapgl"
           }
          ],
          "histogram": [
           {
            "marker": {
             "pattern": {
              "fillmode": "overlay",
              "size": 10,
              "solidity": 0.2
             }
            },
            "type": "histogram"
           }
          ],
          "histogram2d": [
           {
            "colorbar": {
             "outlinewidth": 0,
             "ticks": ""
            },
            "colorscale": [
             [
              0,
              "#0d0887"
             ],
             [
              0.1111111111111111,
              "#46039f"
             ],
             [
              0.2222222222222222,
              "#7201a8"
             ],
             [
              0.3333333333333333,
              "#9c179e"
             ],
             [
              0.4444444444444444,
              "#bd3786"
             ],
             [
              0.5555555555555556,
              "#d8576b"
             ],
             [
              0.6666666666666666,
              "#ed7953"
             ],
             [
              0.7777777777777778,
              "#fb9f3a"
             ],
             [
              0.8888888888888888,
              "#fdca26"
             ],
             [
              1,
              "#f0f921"
             ]
            ],
            "type": "histogram2d"
           }
          ],
          "histogram2dcontour": [
           {
            "colorbar": {
             "outlinewidth": 0,
             "ticks": ""
            },
            "colorscale": [
             [
              0,
              "#0d0887"
             ],
             [
              0.1111111111111111,
              "#46039f"
             ],
             [
              0.2222222222222222,
              "#7201a8"
             ],
             [
              0.3333333333333333,
              "#9c179e"
             ],
             [
              0.4444444444444444,
              "#bd3786"
             ],
             [
              0.5555555555555556,
              "#d8576b"
             ],
             [
              0.6666666666666666,
              "#ed7953"
             ],
             [
              0.7777777777777778,
              "#fb9f3a"
             ],
             [
              0.8888888888888888,
              "#fdca26"
             ],
             [
              1,
              "#f0f921"
             ]
            ],
            "type": "histogram2dcontour"
           }
          ],
          "mesh3d": [
           {
            "colorbar": {
             "outlinewidth": 0,
             "ticks": ""
            },
            "type": "mesh3d"
           }
          ],
          "parcoords": [
           {
            "line": {
             "colorbar": {
              "outlinewidth": 0,
              "ticks": ""
             }
            },
            "type": "parcoords"
           }
          ],
          "pie": [
           {
            "automargin": true,
            "type": "pie"
           }
          ],
          "scatter": [
           {
            "fillpattern": {
             "fillmode": "overlay",
             "size": 10,
             "solidity": 0.2
            },
            "type": "scatter"
           }
          ],
          "scatter3d": [
           {
            "line": {
             "colorbar": {
              "outlinewidth": 0,
              "ticks": ""
             }
            },
            "marker": {
             "colorbar": {
              "outlinewidth": 0,
              "ticks": ""
             }
            },
            "type": "scatter3d"
           }
          ],
          "scattercarpet": [
           {
            "marker": {
             "colorbar": {
              "outlinewidth": 0,
              "ticks": ""
             }
            },
            "type": "scattercarpet"
           }
          ],
          "scattergeo": [
           {
            "marker": {
             "colorbar": {
              "outlinewidth": 0,
              "ticks": ""
             }
            },
            "type": "scattergeo"
           }
          ],
          "scattergl": [
           {
            "marker": {
             "colorbar": {
              "outlinewidth": 0,
              "ticks": ""
             }
            },
            "type": "scattergl"
           }
          ],
          "scattermapbox": [
           {
            "marker": {
             "colorbar": {
              "outlinewidth": 0,
              "ticks": ""
             }
            },
            "type": "scattermapbox"
           }
          ],
          "scatterpolar": [
           {
            "marker": {
             "colorbar": {
              "outlinewidth": 0,
              "ticks": ""
             }
            },
            "type": "scatterpolar"
           }
          ],
          "scatterpolargl": [
           {
            "marker": {
             "colorbar": {
              "outlinewidth": 0,
              "ticks": ""
             }
            },
            "type": "scatterpolargl"
           }
          ],
          "scatterternary": [
           {
            "marker": {
             "colorbar": {
              "outlinewidth": 0,
              "ticks": ""
             }
            },
            "type": "scatterternary"
           }
          ],
          "surface": [
           {
            "colorbar": {
             "outlinewidth": 0,
             "ticks": ""
            },
            "colorscale": [
             [
              0,
              "#0d0887"
             ],
             [
              0.1111111111111111,
              "#46039f"
             ],
             [
              0.2222222222222222,
              "#7201a8"
             ],
             [
              0.3333333333333333,
              "#9c179e"
             ],
             [
              0.4444444444444444,
              "#bd3786"
             ],
             [
              0.5555555555555556,
              "#d8576b"
             ],
             [
              0.6666666666666666,
              "#ed7953"
             ],
             [
              0.7777777777777778,
              "#fb9f3a"
             ],
             [
              0.8888888888888888,
              "#fdca26"
             ],
             [
              1,
              "#f0f921"
             ]
            ],
            "type": "surface"
           }
          ],
          "table": [
           {
            "cells": {
             "fill": {
              "color": "#EBF0F8"
             },
             "line": {
              "color": "white"
             }
            },
            "header": {
             "fill": {
              "color": "#C8D4E3"
             },
             "line": {
              "color": "white"
             }
            },
            "type": "table"
           }
          ]
         },
         "layout": {
          "annotationdefaults": {
           "arrowcolor": "#2a3f5f",
           "arrowhead": 0,
           "arrowwidth": 1
          },
          "autotypenumbers": "strict",
          "coloraxis": {
           "colorbar": {
            "outlinewidth": 0,
            "ticks": ""
           }
          },
          "colorscale": {
           "diverging": [
            [
             0,
             "#8e0152"
            ],
            [
             0.1,
             "#c51b7d"
            ],
            [
             0.2,
             "#de77ae"
            ],
            [
             0.3,
             "#f1b6da"
            ],
            [
             0.4,
             "#fde0ef"
            ],
            [
             0.5,
             "#f7f7f7"
            ],
            [
             0.6,
             "#e6f5d0"
            ],
            [
             0.7,
             "#b8e186"
            ],
            [
             0.8,
             "#7fbc41"
            ],
            [
             0.9,
             "#4d9221"
            ],
            [
             1,
             "#276419"
            ]
           ],
           "sequential": [
            [
             0,
             "#0d0887"
            ],
            [
             0.1111111111111111,
             "#46039f"
            ],
            [
             0.2222222222222222,
             "#7201a8"
            ],
            [
             0.3333333333333333,
             "#9c179e"
            ],
            [
             0.4444444444444444,
             "#bd3786"
            ],
            [
             0.5555555555555556,
             "#d8576b"
            ],
            [
             0.6666666666666666,
             "#ed7953"
            ],
            [
             0.7777777777777778,
             "#fb9f3a"
            ],
            [
             0.8888888888888888,
             "#fdca26"
            ],
            [
             1,
             "#f0f921"
            ]
           ],
           "sequentialminus": [
            [
             0,
             "#0d0887"
            ],
            [
             0.1111111111111111,
             "#46039f"
            ],
            [
             0.2222222222222222,
             "#7201a8"
            ],
            [
             0.3333333333333333,
             "#9c179e"
            ],
            [
             0.4444444444444444,
             "#bd3786"
            ],
            [
             0.5555555555555556,
             "#d8576b"
            ],
            [
             0.6666666666666666,
             "#ed7953"
            ],
            [
             0.7777777777777778,
             "#fb9f3a"
            ],
            [
             0.8888888888888888,
             "#fdca26"
            ],
            [
             1,
             "#f0f921"
            ]
           ]
          },
          "colorway": [
           "#636efa",
           "#EF553B",
           "#00cc96",
           "#ab63fa",
           "#FFA15A",
           "#19d3f3",
           "#FF6692",
           "#B6E880",
           "#FF97FF",
           "#FECB52"
          ],
          "font": {
           "color": "#2a3f5f"
          },
          "geo": {
           "bgcolor": "white",
           "lakecolor": "white",
           "landcolor": "#E5ECF6",
           "showlakes": true,
           "showland": true,
           "subunitcolor": "white"
          },
          "hoverlabel": {
           "align": "left"
          },
          "hovermode": "closest",
          "mapbox": {
           "style": "light"
          },
          "paper_bgcolor": "white",
          "plot_bgcolor": "#E5ECF6",
          "polar": {
           "angularaxis": {
            "gridcolor": "white",
            "linecolor": "white",
            "ticks": ""
           },
           "bgcolor": "#E5ECF6",
           "radialaxis": {
            "gridcolor": "white",
            "linecolor": "white",
            "ticks": ""
           }
          },
          "scene": {
           "xaxis": {
            "backgroundcolor": "#E5ECF6",
            "gridcolor": "white",
            "gridwidth": 2,
            "linecolor": "white",
            "showbackground": true,
            "ticks": "",
            "zerolinecolor": "white"
           },
           "yaxis": {
            "backgroundcolor": "#E5ECF6",
            "gridcolor": "white",
            "gridwidth": 2,
            "linecolor": "white",
            "showbackground": true,
            "ticks": "",
            "zerolinecolor": "white"
           },
           "zaxis": {
            "backgroundcolor": "#E5ECF6",
            "gridcolor": "white",
            "gridwidth": 2,
            "linecolor": "white",
            "showbackground": true,
            "ticks": "",
            "zerolinecolor": "white"
           }
          },
          "shapedefaults": {
           "line": {
            "color": "#2a3f5f"
           }
          },
          "ternary": {
           "aaxis": {
            "gridcolor": "white",
            "linecolor": "white",
            "ticks": ""
           },
           "baxis": {
            "gridcolor": "white",
            "linecolor": "white",
            "ticks": ""
           },
           "bgcolor": "#E5ECF6",
           "caxis": {
            "gridcolor": "white",
            "linecolor": "white",
            "ticks": ""
           }
          },
          "title": {
           "x": 0.05
          },
          "xaxis": {
           "automargin": true,
           "gridcolor": "white",
           "linecolor": "white",
           "ticks": "",
           "title": {
            "standoff": 15
           },
           "zerolinecolor": "white",
           "zerolinewidth": 2
          },
          "yaxis": {
           "automargin": true,
           "gridcolor": "white",
           "linecolor": "white",
           "ticks": "",
           "title": {
            "standoff": 15
           },
           "zerolinecolor": "white",
           "zerolinewidth": 2
          }
         }
        },
        "title": {
         "text": "Episode Rewards vs. Noise Faceted by Size"
        },
        "xaxis": {
         "anchor": "y",
         "domain": [
          0,
          0.49
         ],
         "title": {
          "text": "noise"
         }
        },
        "xaxis2": {
         "anchor": "y2",
         "domain": [
          0.51,
          1
         ],
         "matches": "x",
         "title": {
          "text": "noise"
         }
        },
        "yaxis": {
         "anchor": "x",
         "domain": [
          0,
          1
         ],
         "title": {
          "text": "episode_rewards_mean"
         }
        },
        "yaxis2": {
         "anchor": "x2",
         "domain": [
          0,
          1
         ],
         "matches": "y",
         "showticklabels": false
        }
       }
      }
     },
     "metadata": {},
     "output_type": "display_data"
    }
   ],
   "source": [
    "import plotly.express as px\n",
    "\n",
    "# Define readable names for selected hyperparams\n",
    "readable_names = {\n",
    "    hyperparam_columns[0]: \"noise\",\n",
    "    hyperparam_columns[1]: \"size\"\n",
    "}\n",
    "\n",
    "# Rename columns in a copy of the dataframe\n",
    "plot_df = sub_df.rename(columns=readable_names)\n",
    "\n",
    "# Assign new column names\n",
    "x_col = \"noise\"\n",
    "y_col = \"episode_rewards_mean\"\n",
    "facet_col = \"size\"\n",
    "\n",
    "# Plot\n",
    "fig = px.scatter(\n",
    "    plot_df,\n",
    "    x=x_col,\n",
    "    y=y_col,\n",
    "    color=\"experiment_name\",  # Optional: color by experiment\n",
    "    facet_col=facet_col,\n",
    "    title=\"Episode Rewards vs. Noise Faceted by Size\",\n",
    "    height=600\n",
    ")\n",
    "\n",
    "fig.update_layout(showlegend=False)\n",
    "fig.show()\n"
   ]
  },
  {
   "cell_type": "code",
   "execution_count": null,
   "metadata": {},
   "outputs": [],
   "source": []
  }
 ],
 "metadata": {
  "kernelspec": {
   "display_name": "phd_rl_algos",
   "language": "python",
   "name": "python3"
  },
  "language_info": {
   "codemirror_mode": {
    "name": "ipython",
    "version": 3
   },
   "file_extension": ".py",
   "mimetype": "text/x-python",
   "name": "python",
   "nbconvert_exporter": "python",
   "pygments_lexer": "ipython3",
   "version": "3.11.5"
  }
 },
 "nbformat": 4,
 "nbformat_minor": 2
}
