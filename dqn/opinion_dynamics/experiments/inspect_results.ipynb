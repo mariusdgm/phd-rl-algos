{
 "cells": [
  {
   "cell_type": "code",
   "execution_count": 22,
   "metadata": {},
   "outputs": [],
   "source": [
    "import os, sys\n",
    "\n",
    "def get_dir_n_levels_up(path, n):\n",
    "    # Go up n levels from the given path\n",
    "    for _ in range(n):\n",
    "        path = os.path.dirname(path)\n",
    "    return path\n",
    "\n",
    "proj_root = get_dir_n_levels_up(os.path.abspath(\"__file__\"), 4)\n",
    "sys.path.append(proj_root)\n",
    "\n",
    "import pandas as pd\n",
    "import yaml\n",
    "import torch\n",
    "import collections\n",
    "\n",
    "import warnings\n",
    "import numpy as np\n",
    "\n",
    "import seaborn as sns\n",
    "import matplotlib.pyplot as plt\n",
    "sns.set_theme()\n",
    "\n",
    "warnings.filterwarnings(\"ignore\")\n",
    "\n",
    "from dqn.opinion_dynamics.utils.experiment import process_experiment\n"
   ]
  },
  {
   "cell_type": "code",
   "execution_count": 23,
   "metadata": {},
   "outputs": [
    {
     "data": {
      "text/plain": [
       "Index(['epoch_type', 'frame_stamp', 'episode_rewards_min',\n",
       "       'episode_rewards_max', 'episode_rewards_mean', 'episode_rewards_median',\n",
       "       'episode_rewards_std', 'episode_discounted_rewards_min',\n",
       "       'episode_discounted_rewards_max', 'episode_discounted_rewards_mean',\n",
       "       'episode_discounted_rewards_median', 'episode_discounted_rewards_std',\n",
       "       'episode_frames_min', 'episode_frames_max', 'episode_frames_mean',\n",
       "       'episode_frames_median', 'episode_frames_std', 'episode_losses_min',\n",
       "       'episode_losses_max', 'episode_losses_mean', 'episode_losses_median',\n",
       "       'episode_losses_std', 'episode_max_qs_min', 'episode_max_qs_max',\n",
       "       'episode_max_qs_mean', 'episode_max_qs_median', 'episode_max_qs_std',\n",
       "       'policy_trained_times', 'target_trained_times', 'epoch_time',\n",
       "       'sub_exp_cfg_optim.args_.eps', 'sub_exp_cfg_optim.args_.lr',\n",
       "       'sub_exp_cfg_agent_params.args_.action_w_noise_amplitude',\n",
       "       'sub_experiment_path', 'seed', 'experiment_name'],\n",
       "      dtype='object')"
      ]
     },
     "execution_count": 23,
     "metadata": {},
     "output_type": "execute_result"
    }
   ],
   "source": [
    "experiment_sub_dir = \"2025Apr29-212301_configs\"\n",
    "exp_path = os.path.join(r\"D:\\Work\\repos\\RL\\phd-rl-algos\\dqn\\opinion_dynamics\\experiments\\results\", experiment_sub_dir)\n",
    "df = process_experiment(\n",
    "    exp_path\n",
    ")\n",
    "df.columns\n"
   ]
  },
  {
   "cell_type": "code",
   "execution_count": 24,
   "metadata": {},
   "outputs": [
    {
     "data": {
      "text/html": [
       "<div>\n",
       "<style scoped>\n",
       "    .dataframe tbody tr th:only-of-type {\n",
       "        vertical-align: middle;\n",
       "    }\n",
       "\n",
       "    .dataframe tbody tr th {\n",
       "        vertical-align: top;\n",
       "    }\n",
       "\n",
       "    .dataframe thead th {\n",
       "        text-align: right;\n",
       "    }\n",
       "</style>\n",
       "<table border=\"1\" class=\"dataframe\">\n",
       "  <thead>\n",
       "    <tr style=\"text-align: right;\">\n",
       "      <th></th>\n",
       "      <th>epoch_type</th>\n",
       "      <th>frame_stamp</th>\n",
       "      <th>episode_rewards_min</th>\n",
       "      <th>episode_rewards_max</th>\n",
       "      <th>episode_rewards_mean</th>\n",
       "      <th>episode_rewards_median</th>\n",
       "      <th>episode_rewards_std</th>\n",
       "      <th>episode_discounted_rewards_min</th>\n",
       "      <th>episode_discounted_rewards_max</th>\n",
       "      <th>episode_discounted_rewards_mean</th>\n",
       "      <th>...</th>\n",
       "      <th>episode_max_qs_std</th>\n",
       "      <th>policy_trained_times</th>\n",
       "      <th>target_trained_times</th>\n",
       "      <th>epoch_time</th>\n",
       "      <th>sub_exp_cfg_optim.args_.eps</th>\n",
       "      <th>sub_exp_cfg_optim.args_.lr</th>\n",
       "      <th>sub_exp_cfg_agent_params.args_.action_w_noise_amplitude</th>\n",
       "      <th>sub_experiment_path</th>\n",
       "      <th>seed</th>\n",
       "      <th>experiment_name</th>\n",
       "    </tr>\n",
       "  </thead>\n",
       "  <tbody>\n",
       "    <tr>\n",
       "      <th>0</th>\n",
       "      <td>training</td>\n",
       "      <td>200000</td>\n",
       "      <td>-5.992285</td>\n",
       "      <td>-5.883884</td>\n",
       "      <td>-5.910625</td>\n",
       "      <td>-5.903892</td>\n",
       "      <td>0.023136</td>\n",
       "      <td>-4.022730</td>\n",
       "      <td>-3.975372</td>\n",
       "      <td>-3.987411</td>\n",
       "      <td>...</td>\n",
       "      <td>0.594258</td>\n",
       "      <td>24374.0</td>\n",
       "      <td>48.0</td>\n",
       "      <td>0 days 00:03:30.748398</td>\n",
       "      <td>1e-06</td>\n",
       "      <td>1e-05</td>\n",
       "      <td>0</td>\n",
       "      <td>D:\\Work\\repos\\RL\\phd-rl-algos\\dqn\\opinion_dyna...</td>\n",
       "      <td>0</td>\n",
       "      <td>0000_optim.args_.eps_1e-06__optim.args_.lr_1e-...</td>\n",
       "    </tr>\n",
       "    <tr>\n",
       "      <th>1</th>\n",
       "      <td>training</td>\n",
       "      <td>400000</td>\n",
       "      <td>-6.278980</td>\n",
       "      <td>-5.927457</td>\n",
       "      <td>-6.087937</td>\n",
       "      <td>-6.090028</td>\n",
       "      <td>0.108271</td>\n",
       "      <td>-4.071730</td>\n",
       "      <td>-3.989280</td>\n",
       "      <td>-4.028204</td>\n",
       "      <td>...</td>\n",
       "      <td>0.945423</td>\n",
       "      <td>25000.0</td>\n",
       "      <td>48.0</td>\n",
       "      <td>0 days 00:03:37.822773</td>\n",
       "      <td>1e-06</td>\n",
       "      <td>1e-05</td>\n",
       "      <td>0</td>\n",
       "      <td>D:\\Work\\repos\\RL\\phd-rl-algos\\dqn\\opinion_dyna...</td>\n",
       "      <td>0</td>\n",
       "      <td>0000_optim.args_.eps_1e-06__optim.args_.lr_1e-...</td>\n",
       "    </tr>\n",
       "    <tr>\n",
       "      <th>2</th>\n",
       "      <td>training</td>\n",
       "      <td>600000</td>\n",
       "      <td>-8.405907</td>\n",
       "      <td>-6.278766</td>\n",
       "      <td>-6.916481</td>\n",
       "      <td>-6.719694</td>\n",
       "      <td>0.562821</td>\n",
       "      <td>-4.324384</td>\n",
       "      <td>-4.071702</td>\n",
       "      <td>-4.166133</td>\n",
       "      <td>...</td>\n",
       "      <td>1.020326</td>\n",
       "      <td>25000.0</td>\n",
       "      <td>48.0</td>\n",
       "      <td>0 days 00:03:45.760029</td>\n",
       "      <td>1e-06</td>\n",
       "      <td>1e-05</td>\n",
       "      <td>0</td>\n",
       "      <td>D:\\Work\\repos\\RL\\phd-rl-algos\\dqn\\opinion_dyna...</td>\n",
       "      <td>0</td>\n",
       "      <td>0000_optim.args_.eps_1e-06__optim.args_.lr_1e-...</td>\n",
       "    </tr>\n",
       "    <tr>\n",
       "      <th>3</th>\n",
       "      <td>training</td>\n",
       "      <td>800000</td>\n",
       "      <td>-11.615955</td>\n",
       "      <td>-8.291315</td>\n",
       "      <td>-10.121521</td>\n",
       "      <td>-10.153654</td>\n",
       "      <td>1.020236</td>\n",
       "      <td>-4.690287</td>\n",
       "      <td>-4.318887</td>\n",
       "      <td>-4.510845</td>\n",
       "      <td>...</td>\n",
       "      <td>0.798383</td>\n",
       "      <td>25000.0</td>\n",
       "      <td>48.0</td>\n",
       "      <td>0 days 00:03:48.662777</td>\n",
       "      <td>1e-06</td>\n",
       "      <td>1e-05</td>\n",
       "      <td>0</td>\n",
       "      <td>D:\\Work\\repos\\RL\\phd-rl-algos\\dqn\\opinion_dyna...</td>\n",
       "      <td>0</td>\n",
       "      <td>0000_optim.args_.eps_1e-06__optim.args_.lr_1e-...</td>\n",
       "    </tr>\n",
       "    <tr>\n",
       "      <th>4</th>\n",
       "      <td>training</td>\n",
       "      <td>1000000</td>\n",
       "      <td>-11.674427</td>\n",
       "      <td>-8.280123</td>\n",
       "      <td>-10.551581</td>\n",
       "      <td>-10.878217</td>\n",
       "      <td>1.037057</td>\n",
       "      <td>-4.702144</td>\n",
       "      <td>-4.366754</td>\n",
       "      <td>-4.576900</td>\n",
       "      <td>...</td>\n",
       "      <td>0.439915</td>\n",
       "      <td>25000.0</td>\n",
       "      <td>56.0</td>\n",
       "      <td>0 days 00:03:48.816447</td>\n",
       "      <td>1e-06</td>\n",
       "      <td>1e-05</td>\n",
       "      <td>0</td>\n",
       "      <td>D:\\Work\\repos\\RL\\phd-rl-algos\\dqn\\opinion_dyna...</td>\n",
       "      <td>0</td>\n",
       "      <td>0000_optim.args_.eps_1e-06__optim.args_.lr_1e-...</td>\n",
       "    </tr>\n",
       "    <tr>\n",
       "      <th>...</th>\n",
       "      <td>...</td>\n",
       "      <td>...</td>\n",
       "      <td>...</td>\n",
       "      <td>...</td>\n",
       "      <td>...</td>\n",
       "      <td>...</td>\n",
       "      <td>...</td>\n",
       "      <td>...</td>\n",
       "      <td>...</td>\n",
       "      <td>...</td>\n",
       "      <td>...</td>\n",
       "      <td>...</td>\n",
       "      <td>...</td>\n",
       "      <td>...</td>\n",
       "      <td>...</td>\n",
       "      <td>...</td>\n",
       "      <td>...</td>\n",
       "      <td>...</td>\n",
       "      <td>...</td>\n",
       "      <td>...</td>\n",
       "      <td>...</td>\n",
       "    </tr>\n",
       "    <tr>\n",
       "      <th>475</th>\n",
       "      <td>validation</td>\n",
       "      <td>1200000</td>\n",
       "      <td>-7.115927</td>\n",
       "      <td>-7.113015</td>\n",
       "      <td>-7.114379</td>\n",
       "      <td>-7.114405</td>\n",
       "      <td>0.000678</td>\n",
       "      <td>-4.308827</td>\n",
       "      <td>-4.307825</td>\n",
       "      <td>-4.308319</td>\n",
       "      <td>...</td>\n",
       "      <td>0.982434</td>\n",
       "      <td>NaN</td>\n",
       "      <td>NaN</td>\n",
       "      <td>0 days 00:00:00.618510</td>\n",
       "      <td>1e-05</td>\n",
       "      <td>0.0001</td>\n",
       "      <td>0.3</td>\n",
       "      <td>D:\\Work\\repos\\RL\\phd-rl-algos\\dqn\\opinion_dyna...</td>\n",
       "      <td>1</td>\n",
       "      <td>0011_optim.args_.eps_1e-05__optim.args_.lr_0.0...</td>\n",
       "    </tr>\n",
       "    <tr>\n",
       "      <th>476</th>\n",
       "      <td>validation</td>\n",
       "      <td>1400000</td>\n",
       "      <td>-7.060246</td>\n",
       "      <td>-7.057299</td>\n",
       "      <td>-7.058725</td>\n",
       "      <td>-7.058764</td>\n",
       "      <td>0.000723</td>\n",
       "      <td>-4.286278</td>\n",
       "      <td>-4.285314</td>\n",
       "      <td>-4.285770</td>\n",
       "      <td>...</td>\n",
       "      <td>0.597170</td>\n",
       "      <td>NaN</td>\n",
       "      <td>NaN</td>\n",
       "      <td>0 days 00:00:00.622092</td>\n",
       "      <td>1e-05</td>\n",
       "      <td>0.0001</td>\n",
       "      <td>0.3</td>\n",
       "      <td>D:\\Work\\repos\\RL\\phd-rl-algos\\dqn\\opinion_dyna...</td>\n",
       "      <td>1</td>\n",
       "      <td>0011_optim.args_.eps_1e-05__optim.args_.lr_0.0...</td>\n",
       "    </tr>\n",
       "    <tr>\n",
       "      <th>477</th>\n",
       "      <td>validation</td>\n",
       "      <td>1600000</td>\n",
       "      <td>-5.984716</td>\n",
       "      <td>-5.983834</td>\n",
       "      <td>-5.984304</td>\n",
       "      <td>-5.984296</td>\n",
       "      <td>0.000188</td>\n",
       "      <td>-3.987304</td>\n",
       "      <td>-3.986984</td>\n",
       "      <td>-3.987169</td>\n",
       "      <td>...</td>\n",
       "      <td>0.577389</td>\n",
       "      <td>NaN</td>\n",
       "      <td>NaN</td>\n",
       "      <td>0 days 00:00:00.605818</td>\n",
       "      <td>1e-05</td>\n",
       "      <td>0.0001</td>\n",
       "      <td>0.3</td>\n",
       "      <td>D:\\Work\\repos\\RL\\phd-rl-algos\\dqn\\opinion_dyna...</td>\n",
       "      <td>1</td>\n",
       "      <td>0011_optim.args_.eps_1e-05__optim.args_.lr_0.0...</td>\n",
       "    </tr>\n",
       "    <tr>\n",
       "      <th>478</th>\n",
       "      <td>validation</td>\n",
       "      <td>1800000</td>\n",
       "      <td>-5.651755</td>\n",
       "      <td>-5.650994</td>\n",
       "      <td>-5.651426</td>\n",
       "      <td>-5.651445</td>\n",
       "      <td>0.000181</td>\n",
       "      <td>-3.906088</td>\n",
       "      <td>-3.905672</td>\n",
       "      <td>-3.905913</td>\n",
       "      <td>...</td>\n",
       "      <td>0.937368</td>\n",
       "      <td>NaN</td>\n",
       "      <td>NaN</td>\n",
       "      <td>0 days 00:00:00.599777</td>\n",
       "      <td>1e-05</td>\n",
       "      <td>0.0001</td>\n",
       "      <td>0.3</td>\n",
       "      <td>D:\\Work\\repos\\RL\\phd-rl-algos\\dqn\\opinion_dyna...</td>\n",
       "      <td>1</td>\n",
       "      <td>0011_optim.args_.eps_1e-05__optim.args_.lr_0.0...</td>\n",
       "    </tr>\n",
       "    <tr>\n",
       "      <th>479</th>\n",
       "      <td>validation</td>\n",
       "      <td>2000000</td>\n",
       "      <td>-5.831368</td>\n",
       "      <td>-5.830679</td>\n",
       "      <td>-5.831029</td>\n",
       "      <td>-5.831029</td>\n",
       "      <td>0.000153</td>\n",
       "      <td>-3.947967</td>\n",
       "      <td>-3.947705</td>\n",
       "      <td>-3.947848</td>\n",
       "      <td>...</td>\n",
       "      <td>1.047230</td>\n",
       "      <td>NaN</td>\n",
       "      <td>NaN</td>\n",
       "      <td>0 days 00:00:00.373647</td>\n",
       "      <td>1e-05</td>\n",
       "      <td>0.0001</td>\n",
       "      <td>0.3</td>\n",
       "      <td>D:\\Work\\repos\\RL\\phd-rl-algos\\dqn\\opinion_dyna...</td>\n",
       "      <td>1</td>\n",
       "      <td>0011_optim.args_.eps_1e-05__optim.args_.lr_0.0...</td>\n",
       "    </tr>\n",
       "  </tbody>\n",
       "</table>\n",
       "<p>480 rows × 36 columns</p>\n",
       "</div>"
      ],
      "text/plain": [
       "     epoch_type  frame_stamp  episode_rewards_min  episode_rewards_max  \\\n",
       "0      training       200000            -5.992285            -5.883884   \n",
       "1      training       400000            -6.278980            -5.927457   \n",
       "2      training       600000            -8.405907            -6.278766   \n",
       "3      training       800000           -11.615955            -8.291315   \n",
       "4      training      1000000           -11.674427            -8.280123   \n",
       "..          ...          ...                  ...                  ...   \n",
       "475  validation      1200000            -7.115927            -7.113015   \n",
       "476  validation      1400000            -7.060246            -7.057299   \n",
       "477  validation      1600000            -5.984716            -5.983834   \n",
       "478  validation      1800000            -5.651755            -5.650994   \n",
       "479  validation      2000000            -5.831368            -5.830679   \n",
       "\n",
       "     episode_rewards_mean  episode_rewards_median  episode_rewards_std  \\\n",
       "0               -5.910625               -5.903892             0.023136   \n",
       "1               -6.087937               -6.090028             0.108271   \n",
       "2               -6.916481               -6.719694             0.562821   \n",
       "3              -10.121521              -10.153654             1.020236   \n",
       "4              -10.551581              -10.878217             1.037057   \n",
       "..                    ...                     ...                  ...   \n",
       "475             -7.114379               -7.114405             0.000678   \n",
       "476             -7.058725               -7.058764             0.000723   \n",
       "477             -5.984304               -5.984296             0.000188   \n",
       "478             -5.651426               -5.651445             0.000181   \n",
       "479             -5.831029               -5.831029             0.000153   \n",
       "\n",
       "     episode_discounted_rewards_min  episode_discounted_rewards_max  \\\n",
       "0                         -4.022730                       -3.975372   \n",
       "1                         -4.071730                       -3.989280   \n",
       "2                         -4.324384                       -4.071702   \n",
       "3                         -4.690287                       -4.318887   \n",
       "4                         -4.702144                       -4.366754   \n",
       "..                              ...                             ...   \n",
       "475                       -4.308827                       -4.307825   \n",
       "476                       -4.286278                       -4.285314   \n",
       "477                       -3.987304                       -3.986984   \n",
       "478                       -3.906088                       -3.905672   \n",
       "479                       -3.947967                       -3.947705   \n",
       "\n",
       "     episode_discounted_rewards_mean  ...  episode_max_qs_std  \\\n",
       "0                          -3.987411  ...            0.594258   \n",
       "1                          -4.028204  ...            0.945423   \n",
       "2                          -4.166133  ...            1.020326   \n",
       "3                          -4.510845  ...            0.798383   \n",
       "4                          -4.576900  ...            0.439915   \n",
       "..                               ...  ...                 ...   \n",
       "475                        -4.308319  ...            0.982434   \n",
       "476                        -4.285770  ...            0.597170   \n",
       "477                        -3.987169  ...            0.577389   \n",
       "478                        -3.905913  ...            0.937368   \n",
       "479                        -3.947848  ...            1.047230   \n",
       "\n",
       "     policy_trained_times  target_trained_times             epoch_time  \\\n",
       "0                 24374.0                  48.0 0 days 00:03:30.748398   \n",
       "1                 25000.0                  48.0 0 days 00:03:37.822773   \n",
       "2                 25000.0                  48.0 0 days 00:03:45.760029   \n",
       "3                 25000.0                  48.0 0 days 00:03:48.662777   \n",
       "4                 25000.0                  56.0 0 days 00:03:48.816447   \n",
       "..                    ...                   ...                    ...   \n",
       "475                   NaN                   NaN 0 days 00:00:00.618510   \n",
       "476                   NaN                   NaN 0 days 00:00:00.622092   \n",
       "477                   NaN                   NaN 0 days 00:00:00.605818   \n",
       "478                   NaN                   NaN 0 days 00:00:00.599777   \n",
       "479                   NaN                   NaN 0 days 00:00:00.373647   \n",
       "\n",
       "     sub_exp_cfg_optim.args_.eps  sub_exp_cfg_optim.args_.lr  \\\n",
       "0                          1e-06                       1e-05   \n",
       "1                          1e-06                       1e-05   \n",
       "2                          1e-06                       1e-05   \n",
       "3                          1e-06                       1e-05   \n",
       "4                          1e-06                       1e-05   \n",
       "..                           ...                         ...   \n",
       "475                        1e-05                      0.0001   \n",
       "476                        1e-05                      0.0001   \n",
       "477                        1e-05                      0.0001   \n",
       "478                        1e-05                      0.0001   \n",
       "479                        1e-05                      0.0001   \n",
       "\n",
       "     sub_exp_cfg_agent_params.args_.action_w_noise_amplitude  \\\n",
       "0                                                    0         \n",
       "1                                                    0         \n",
       "2                                                    0         \n",
       "3                                                    0         \n",
       "4                                                    0         \n",
       "..                                                 ...         \n",
       "475                                                0.3         \n",
       "476                                                0.3         \n",
       "477                                                0.3         \n",
       "478                                                0.3         \n",
       "479                                                0.3         \n",
       "\n",
       "                                   sub_experiment_path  seed  \\\n",
       "0    D:\\Work\\repos\\RL\\phd-rl-algos\\dqn\\opinion_dyna...     0   \n",
       "1    D:\\Work\\repos\\RL\\phd-rl-algos\\dqn\\opinion_dyna...     0   \n",
       "2    D:\\Work\\repos\\RL\\phd-rl-algos\\dqn\\opinion_dyna...     0   \n",
       "3    D:\\Work\\repos\\RL\\phd-rl-algos\\dqn\\opinion_dyna...     0   \n",
       "4    D:\\Work\\repos\\RL\\phd-rl-algos\\dqn\\opinion_dyna...     0   \n",
       "..                                                 ...   ...   \n",
       "475  D:\\Work\\repos\\RL\\phd-rl-algos\\dqn\\opinion_dyna...     1   \n",
       "476  D:\\Work\\repos\\RL\\phd-rl-algos\\dqn\\opinion_dyna...     1   \n",
       "477  D:\\Work\\repos\\RL\\phd-rl-algos\\dqn\\opinion_dyna...     1   \n",
       "478  D:\\Work\\repos\\RL\\phd-rl-algos\\dqn\\opinion_dyna...     1   \n",
       "479  D:\\Work\\repos\\RL\\phd-rl-algos\\dqn\\opinion_dyna...     1   \n",
       "\n",
       "                                       experiment_name  \n",
       "0    0000_optim.args_.eps_1e-06__optim.args_.lr_1e-...  \n",
       "1    0000_optim.args_.eps_1e-06__optim.args_.lr_1e-...  \n",
       "2    0000_optim.args_.eps_1e-06__optim.args_.lr_1e-...  \n",
       "3    0000_optim.args_.eps_1e-06__optim.args_.lr_1e-...  \n",
       "4    0000_optim.args_.eps_1e-06__optim.args_.lr_1e-...  \n",
       "..                                                 ...  \n",
       "475  0011_optim.args_.eps_1e-05__optim.args_.lr_0.0...  \n",
       "476  0011_optim.args_.eps_1e-05__optim.args_.lr_0.0...  \n",
       "477  0011_optim.args_.eps_1e-05__optim.args_.lr_0.0...  \n",
       "478  0011_optim.args_.eps_1e-05__optim.args_.lr_0.0...  \n",
       "479  0011_optim.args_.eps_1e-05__optim.args_.lr_0.0...  \n",
       "\n",
       "[480 rows x 36 columns]"
      ]
     },
     "execution_count": 24,
     "metadata": {},
     "output_type": "execute_result"
    }
   ],
   "source": [
    "df"
   ]
  },
  {
   "cell_type": "code",
   "execution_count": 25,
   "metadata": {},
   "outputs": [
    {
     "data": {
      "text/html": [
       "<div>\n",
       "<style scoped>\n",
       "    .dataframe tbody tr th:only-of-type {\n",
       "        vertical-align: middle;\n",
       "    }\n",
       "\n",
       "    .dataframe tbody tr th {\n",
       "        vertical-align: top;\n",
       "    }\n",
       "\n",
       "    .dataframe thead th {\n",
       "        text-align: right;\n",
       "    }\n",
       "</style>\n",
       "<table border=\"1\" class=\"dataframe\">\n",
       "  <thead>\n",
       "    <tr style=\"text-align: right;\">\n",
       "      <th></th>\n",
       "      <th>epoch_type</th>\n",
       "      <th>frame_stamp</th>\n",
       "      <th>episode_rewards_min</th>\n",
       "      <th>episode_rewards_max</th>\n",
       "      <th>episode_rewards_mean</th>\n",
       "      <th>episode_rewards_median</th>\n",
       "      <th>episode_rewards_std</th>\n",
       "      <th>episode_discounted_rewards_min</th>\n",
       "      <th>episode_discounted_rewards_max</th>\n",
       "      <th>episode_discounted_rewards_mean</th>\n",
       "      <th>...</th>\n",
       "      <th>episode_max_qs_std</th>\n",
       "      <th>policy_trained_times</th>\n",
       "      <th>target_trained_times</th>\n",
       "      <th>epoch_time</th>\n",
       "      <th>sub_exp_cfg_optim.args_.eps</th>\n",
       "      <th>sub_exp_cfg_optim.args_.lr</th>\n",
       "      <th>sub_exp_cfg_agent_params.args_.action_w_noise_amplitude</th>\n",
       "      <th>sub_experiment_path</th>\n",
       "      <th>seed</th>\n",
       "      <th>experiment_name</th>\n",
       "    </tr>\n",
       "  </thead>\n",
       "  <tbody>\n",
       "    <tr>\n",
       "      <th>10</th>\n",
       "      <td>validation</td>\n",
       "      <td>200000</td>\n",
       "      <td>-5.927570</td>\n",
       "      <td>-5.927570</td>\n",
       "      <td>-5.927570</td>\n",
       "      <td>-5.927570</td>\n",
       "      <td>8.881784e-16</td>\n",
       "      <td>-3.989311</td>\n",
       "      <td>-3.989311</td>\n",
       "      <td>-3.989311</td>\n",
       "      <td>...</td>\n",
       "      <td>0.747188</td>\n",
       "      <td>NaN</td>\n",
       "      <td>NaN</td>\n",
       "      <td>0 days 00:00:00.709546</td>\n",
       "      <td>1e-06</td>\n",
       "      <td>1e-05</td>\n",
       "      <td>0</td>\n",
       "      <td>D:\\Work\\repos\\RL\\phd-rl-algos\\dqn\\opinion_dyna...</td>\n",
       "      <td>0</td>\n",
       "      <td>0000_optim.args_.eps_1e-06__optim.args_.lr_1e-...</td>\n",
       "    </tr>\n",
       "    <tr>\n",
       "      <th>11</th>\n",
       "      <td>validation</td>\n",
       "      <td>400000</td>\n",
       "      <td>-6.278834</td>\n",
       "      <td>-6.278834</td>\n",
       "      <td>-6.278834</td>\n",
       "      <td>-6.278834</td>\n",
       "      <td>0.000000e+00</td>\n",
       "      <td>-4.071713</td>\n",
       "      <td>-4.071713</td>\n",
       "      <td>-4.071713</td>\n",
       "      <td>...</td>\n",
       "      <td>1.059857</td>\n",
       "      <td>NaN</td>\n",
       "      <td>NaN</td>\n",
       "      <td>0 days 00:00:00.687276</td>\n",
       "      <td>1e-06</td>\n",
       "      <td>1e-05</td>\n",
       "      <td>0</td>\n",
       "      <td>D:\\Work\\repos\\RL\\phd-rl-algos\\dqn\\opinion_dyna...</td>\n",
       "      <td>0</td>\n",
       "      <td>0000_optim.args_.eps_1e-06__optim.args_.lr_1e-...</td>\n",
       "    </tr>\n",
       "    <tr>\n",
       "      <th>12</th>\n",
       "      <td>validation</td>\n",
       "      <td>600000</td>\n",
       "      <td>-8.293093</td>\n",
       "      <td>-8.293093</td>\n",
       "      <td>-8.293093</td>\n",
       "      <td>-8.293093</td>\n",
       "      <td>0.000000e+00</td>\n",
       "      <td>-4.319094</td>\n",
       "      <td>-4.319094</td>\n",
       "      <td>-4.319094</td>\n",
       "      <td>...</td>\n",
       "      <td>0.870675</td>\n",
       "      <td>NaN</td>\n",
       "      <td>NaN</td>\n",
       "      <td>0 days 00:00:00.686289</td>\n",
       "      <td>1e-06</td>\n",
       "      <td>1e-05</td>\n",
       "      <td>0</td>\n",
       "      <td>D:\\Work\\repos\\RL\\phd-rl-algos\\dqn\\opinion_dyna...</td>\n",
       "      <td>0</td>\n",
       "      <td>0000_optim.args_.eps_1e-06__optim.args_.lr_1e-...</td>\n",
       "    </tr>\n",
       "    <tr>\n",
       "      <th>13</th>\n",
       "      <td>validation</td>\n",
       "      <td>800000</td>\n",
       "      <td>-11.616515</td>\n",
       "      <td>-11.616515</td>\n",
       "      <td>-11.616515</td>\n",
       "      <td>-11.616515</td>\n",
       "      <td>0.000000e+00</td>\n",
       "      <td>-4.690400</td>\n",
       "      <td>-4.690400</td>\n",
       "      <td>-4.690400</td>\n",
       "      <td>...</td>\n",
       "      <td>0.308419</td>\n",
       "      <td>NaN</td>\n",
       "      <td>NaN</td>\n",
       "      <td>0 days 00:00:00.695366</td>\n",
       "      <td>1e-06</td>\n",
       "      <td>1e-05</td>\n",
       "      <td>0</td>\n",
       "      <td>D:\\Work\\repos\\RL\\phd-rl-algos\\dqn\\opinion_dyna...</td>\n",
       "      <td>0</td>\n",
       "      <td>0000_optim.args_.eps_1e-06__optim.args_.lr_1e-...</td>\n",
       "    </tr>\n",
       "    <tr>\n",
       "      <th>14</th>\n",
       "      <td>validation</td>\n",
       "      <td>1000000</td>\n",
       "      <td>-8.415282</td>\n",
       "      <td>-8.415282</td>\n",
       "      <td>-8.415282</td>\n",
       "      <td>-8.415282</td>\n",
       "      <td>0.000000e+00</td>\n",
       "      <td>-4.371583</td>\n",
       "      <td>-4.371583</td>\n",
       "      <td>-4.371583</td>\n",
       "      <td>...</td>\n",
       "      <td>0.692391</td>\n",
       "      <td>NaN</td>\n",
       "      <td>NaN</td>\n",
       "      <td>0 days 00:00:00.677172</td>\n",
       "      <td>1e-06</td>\n",
       "      <td>1e-05</td>\n",
       "      <td>0</td>\n",
       "      <td>D:\\Work\\repos\\RL\\phd-rl-algos\\dqn\\opinion_dyna...</td>\n",
       "      <td>0</td>\n",
       "      <td>0000_optim.args_.eps_1e-06__optim.args_.lr_1e-...</td>\n",
       "    </tr>\n",
       "    <tr>\n",
       "      <th>...</th>\n",
       "      <td>...</td>\n",
       "      <td>...</td>\n",
       "      <td>...</td>\n",
       "      <td>...</td>\n",
       "      <td>...</td>\n",
       "      <td>...</td>\n",
       "      <td>...</td>\n",
       "      <td>...</td>\n",
       "      <td>...</td>\n",
       "      <td>...</td>\n",
       "      <td>...</td>\n",
       "      <td>...</td>\n",
       "      <td>...</td>\n",
       "      <td>...</td>\n",
       "      <td>...</td>\n",
       "      <td>...</td>\n",
       "      <td>...</td>\n",
       "      <td>...</td>\n",
       "      <td>...</td>\n",
       "      <td>...</td>\n",
       "      <td>...</td>\n",
       "    </tr>\n",
       "    <tr>\n",
       "      <th>475</th>\n",
       "      <td>validation</td>\n",
       "      <td>1200000</td>\n",
       "      <td>-7.115927</td>\n",
       "      <td>-7.113015</td>\n",
       "      <td>-7.114379</td>\n",
       "      <td>-7.114405</td>\n",
       "      <td>6.782640e-04</td>\n",
       "      <td>-4.308827</td>\n",
       "      <td>-4.307825</td>\n",
       "      <td>-4.308319</td>\n",
       "      <td>...</td>\n",
       "      <td>0.982434</td>\n",
       "      <td>NaN</td>\n",
       "      <td>NaN</td>\n",
       "      <td>0 days 00:00:00.618510</td>\n",
       "      <td>1e-05</td>\n",
       "      <td>0.0001</td>\n",
       "      <td>0.3</td>\n",
       "      <td>D:\\Work\\repos\\RL\\phd-rl-algos\\dqn\\opinion_dyna...</td>\n",
       "      <td>1</td>\n",
       "      <td>0011_optim.args_.eps_1e-05__optim.args_.lr_0.0...</td>\n",
       "    </tr>\n",
       "    <tr>\n",
       "      <th>476</th>\n",
       "      <td>validation</td>\n",
       "      <td>1400000</td>\n",
       "      <td>-7.060246</td>\n",
       "      <td>-7.057299</td>\n",
       "      <td>-7.058725</td>\n",
       "      <td>-7.058764</td>\n",
       "      <td>7.230905e-04</td>\n",
       "      <td>-4.286278</td>\n",
       "      <td>-4.285314</td>\n",
       "      <td>-4.285770</td>\n",
       "      <td>...</td>\n",
       "      <td>0.597170</td>\n",
       "      <td>NaN</td>\n",
       "      <td>NaN</td>\n",
       "      <td>0 days 00:00:00.622092</td>\n",
       "      <td>1e-05</td>\n",
       "      <td>0.0001</td>\n",
       "      <td>0.3</td>\n",
       "      <td>D:\\Work\\repos\\RL\\phd-rl-algos\\dqn\\opinion_dyna...</td>\n",
       "      <td>1</td>\n",
       "      <td>0011_optim.args_.eps_1e-05__optim.args_.lr_0.0...</td>\n",
       "    </tr>\n",
       "    <tr>\n",
       "      <th>477</th>\n",
       "      <td>validation</td>\n",
       "      <td>1600000</td>\n",
       "      <td>-5.984716</td>\n",
       "      <td>-5.983834</td>\n",
       "      <td>-5.984304</td>\n",
       "      <td>-5.984296</td>\n",
       "      <td>1.876194e-04</td>\n",
       "      <td>-3.987304</td>\n",
       "      <td>-3.986984</td>\n",
       "      <td>-3.987169</td>\n",
       "      <td>...</td>\n",
       "      <td>0.577389</td>\n",
       "      <td>NaN</td>\n",
       "      <td>NaN</td>\n",
       "      <td>0 days 00:00:00.605818</td>\n",
       "      <td>1e-05</td>\n",
       "      <td>0.0001</td>\n",
       "      <td>0.3</td>\n",
       "      <td>D:\\Work\\repos\\RL\\phd-rl-algos\\dqn\\opinion_dyna...</td>\n",
       "      <td>1</td>\n",
       "      <td>0011_optim.args_.eps_1e-05__optim.args_.lr_0.0...</td>\n",
       "    </tr>\n",
       "    <tr>\n",
       "      <th>478</th>\n",
       "      <td>validation</td>\n",
       "      <td>1800000</td>\n",
       "      <td>-5.651755</td>\n",
       "      <td>-5.650994</td>\n",
       "      <td>-5.651426</td>\n",
       "      <td>-5.651445</td>\n",
       "      <td>1.812008e-04</td>\n",
       "      <td>-3.906088</td>\n",
       "      <td>-3.905672</td>\n",
       "      <td>-3.905913</td>\n",
       "      <td>...</td>\n",
       "      <td>0.937368</td>\n",
       "      <td>NaN</td>\n",
       "      <td>NaN</td>\n",
       "      <td>0 days 00:00:00.599777</td>\n",
       "      <td>1e-05</td>\n",
       "      <td>0.0001</td>\n",
       "      <td>0.3</td>\n",
       "      <td>D:\\Work\\repos\\RL\\phd-rl-algos\\dqn\\opinion_dyna...</td>\n",
       "      <td>1</td>\n",
       "      <td>0011_optim.args_.eps_1e-05__optim.args_.lr_0.0...</td>\n",
       "    </tr>\n",
       "    <tr>\n",
       "      <th>479</th>\n",
       "      <td>validation</td>\n",
       "      <td>2000000</td>\n",
       "      <td>-5.831368</td>\n",
       "      <td>-5.830679</td>\n",
       "      <td>-5.831029</td>\n",
       "      <td>-5.831029</td>\n",
       "      <td>1.534582e-04</td>\n",
       "      <td>-3.947967</td>\n",
       "      <td>-3.947705</td>\n",
       "      <td>-3.947848</td>\n",
       "      <td>...</td>\n",
       "      <td>1.047230</td>\n",
       "      <td>NaN</td>\n",
       "      <td>NaN</td>\n",
       "      <td>0 days 00:00:00.373647</td>\n",
       "      <td>1e-05</td>\n",
       "      <td>0.0001</td>\n",
       "      <td>0.3</td>\n",
       "      <td>D:\\Work\\repos\\RL\\phd-rl-algos\\dqn\\opinion_dyna...</td>\n",
       "      <td>1</td>\n",
       "      <td>0011_optim.args_.eps_1e-05__optim.args_.lr_0.0...</td>\n",
       "    </tr>\n",
       "  </tbody>\n",
       "</table>\n",
       "<p>240 rows × 36 columns</p>\n",
       "</div>"
      ],
      "text/plain": [
       "     epoch_type  frame_stamp  episode_rewards_min  episode_rewards_max  \\\n",
       "10   validation       200000            -5.927570            -5.927570   \n",
       "11   validation       400000            -6.278834            -6.278834   \n",
       "12   validation       600000            -8.293093            -8.293093   \n",
       "13   validation       800000           -11.616515           -11.616515   \n",
       "14   validation      1000000            -8.415282            -8.415282   \n",
       "..          ...          ...                  ...                  ...   \n",
       "475  validation      1200000            -7.115927            -7.113015   \n",
       "476  validation      1400000            -7.060246            -7.057299   \n",
       "477  validation      1600000            -5.984716            -5.983834   \n",
       "478  validation      1800000            -5.651755            -5.650994   \n",
       "479  validation      2000000            -5.831368            -5.830679   \n",
       "\n",
       "     episode_rewards_mean  episode_rewards_median  episode_rewards_std  \\\n",
       "10              -5.927570               -5.927570         8.881784e-16   \n",
       "11              -6.278834               -6.278834         0.000000e+00   \n",
       "12              -8.293093               -8.293093         0.000000e+00   \n",
       "13             -11.616515              -11.616515         0.000000e+00   \n",
       "14              -8.415282               -8.415282         0.000000e+00   \n",
       "..                    ...                     ...                  ...   \n",
       "475             -7.114379               -7.114405         6.782640e-04   \n",
       "476             -7.058725               -7.058764         7.230905e-04   \n",
       "477             -5.984304               -5.984296         1.876194e-04   \n",
       "478             -5.651426               -5.651445         1.812008e-04   \n",
       "479             -5.831029               -5.831029         1.534582e-04   \n",
       "\n",
       "     episode_discounted_rewards_min  episode_discounted_rewards_max  \\\n",
       "10                        -3.989311                       -3.989311   \n",
       "11                        -4.071713                       -4.071713   \n",
       "12                        -4.319094                       -4.319094   \n",
       "13                        -4.690400                       -4.690400   \n",
       "14                        -4.371583                       -4.371583   \n",
       "..                              ...                             ...   \n",
       "475                       -4.308827                       -4.307825   \n",
       "476                       -4.286278                       -4.285314   \n",
       "477                       -3.987304                       -3.986984   \n",
       "478                       -3.906088                       -3.905672   \n",
       "479                       -3.947967                       -3.947705   \n",
       "\n",
       "     episode_discounted_rewards_mean  ...  episode_max_qs_std  \\\n",
       "10                         -3.989311  ...            0.747188   \n",
       "11                         -4.071713  ...            1.059857   \n",
       "12                         -4.319094  ...            0.870675   \n",
       "13                         -4.690400  ...            0.308419   \n",
       "14                         -4.371583  ...            0.692391   \n",
       "..                               ...  ...                 ...   \n",
       "475                        -4.308319  ...            0.982434   \n",
       "476                        -4.285770  ...            0.597170   \n",
       "477                        -3.987169  ...            0.577389   \n",
       "478                        -3.905913  ...            0.937368   \n",
       "479                        -3.947848  ...            1.047230   \n",
       "\n",
       "     policy_trained_times  target_trained_times             epoch_time  \\\n",
       "10                    NaN                   NaN 0 days 00:00:00.709546   \n",
       "11                    NaN                   NaN 0 days 00:00:00.687276   \n",
       "12                    NaN                   NaN 0 days 00:00:00.686289   \n",
       "13                    NaN                   NaN 0 days 00:00:00.695366   \n",
       "14                    NaN                   NaN 0 days 00:00:00.677172   \n",
       "..                    ...                   ...                    ...   \n",
       "475                   NaN                   NaN 0 days 00:00:00.618510   \n",
       "476                   NaN                   NaN 0 days 00:00:00.622092   \n",
       "477                   NaN                   NaN 0 days 00:00:00.605818   \n",
       "478                   NaN                   NaN 0 days 00:00:00.599777   \n",
       "479                   NaN                   NaN 0 days 00:00:00.373647   \n",
       "\n",
       "     sub_exp_cfg_optim.args_.eps  sub_exp_cfg_optim.args_.lr  \\\n",
       "10                         1e-06                       1e-05   \n",
       "11                         1e-06                       1e-05   \n",
       "12                         1e-06                       1e-05   \n",
       "13                         1e-06                       1e-05   \n",
       "14                         1e-06                       1e-05   \n",
       "..                           ...                         ...   \n",
       "475                        1e-05                      0.0001   \n",
       "476                        1e-05                      0.0001   \n",
       "477                        1e-05                      0.0001   \n",
       "478                        1e-05                      0.0001   \n",
       "479                        1e-05                      0.0001   \n",
       "\n",
       "     sub_exp_cfg_agent_params.args_.action_w_noise_amplitude  \\\n",
       "10                                                   0         \n",
       "11                                                   0         \n",
       "12                                                   0         \n",
       "13                                                   0         \n",
       "14                                                   0         \n",
       "..                                                 ...         \n",
       "475                                                0.3         \n",
       "476                                                0.3         \n",
       "477                                                0.3         \n",
       "478                                                0.3         \n",
       "479                                                0.3         \n",
       "\n",
       "                                   sub_experiment_path  seed  \\\n",
       "10   D:\\Work\\repos\\RL\\phd-rl-algos\\dqn\\opinion_dyna...     0   \n",
       "11   D:\\Work\\repos\\RL\\phd-rl-algos\\dqn\\opinion_dyna...     0   \n",
       "12   D:\\Work\\repos\\RL\\phd-rl-algos\\dqn\\opinion_dyna...     0   \n",
       "13   D:\\Work\\repos\\RL\\phd-rl-algos\\dqn\\opinion_dyna...     0   \n",
       "14   D:\\Work\\repos\\RL\\phd-rl-algos\\dqn\\opinion_dyna...     0   \n",
       "..                                                 ...   ...   \n",
       "475  D:\\Work\\repos\\RL\\phd-rl-algos\\dqn\\opinion_dyna...     1   \n",
       "476  D:\\Work\\repos\\RL\\phd-rl-algos\\dqn\\opinion_dyna...     1   \n",
       "477  D:\\Work\\repos\\RL\\phd-rl-algos\\dqn\\opinion_dyna...     1   \n",
       "478  D:\\Work\\repos\\RL\\phd-rl-algos\\dqn\\opinion_dyna...     1   \n",
       "479  D:\\Work\\repos\\RL\\phd-rl-algos\\dqn\\opinion_dyna...     1   \n",
       "\n",
       "                                       experiment_name  \n",
       "10   0000_optim.args_.eps_1e-06__optim.args_.lr_1e-...  \n",
       "11   0000_optim.args_.eps_1e-06__optim.args_.lr_1e-...  \n",
       "12   0000_optim.args_.eps_1e-06__optim.args_.lr_1e-...  \n",
       "13   0000_optim.args_.eps_1e-06__optim.args_.lr_1e-...  \n",
       "14   0000_optim.args_.eps_1e-06__optim.args_.lr_1e-...  \n",
       "..                                                 ...  \n",
       "475  0011_optim.args_.eps_1e-05__optim.args_.lr_0.0...  \n",
       "476  0011_optim.args_.eps_1e-05__optim.args_.lr_0.0...  \n",
       "477  0011_optim.args_.eps_1e-05__optim.args_.lr_0.0...  \n",
       "478  0011_optim.args_.eps_1e-05__optim.args_.lr_0.0...  \n",
       "479  0011_optim.args_.eps_1e-05__optim.args_.lr_0.0...  \n",
       "\n",
       "[240 rows x 36 columns]"
      ]
     },
     "execution_count": 25,
     "metadata": {},
     "output_type": "execute_result"
    }
   ],
   "source": [
    "df[df['epoch_type'] == 'validation']"
   ]
  },
  {
   "cell_type": "code",
   "execution_count": 26,
   "metadata": {},
   "outputs": [
    {
     "name": "stdout",
     "output_type": "stream",
     "text": [
      "Best hyperparameters:\n",
      "sub_exp_cfg_optim.args_.eps                                 1e-05\n",
      "sub_exp_cfg_optim.args_.lr                                 0.0001\n",
      "sub_exp_cfg_agent_params.args_.action_w_noise_amplitude       0.1\n",
      "Name: 1, dtype: object\n",
      "Best mean reward: -6.1538563314326815\n"
     ]
    }
   ],
   "source": [
    "# Define hyperparameter columns\n",
    "hyperparam_columns = [col for col in df.columns if \"sub_exp_cfg\" in col]\n",
    "\n",
    "# Group by hyperparameter values and compute mean episode_rewards_mean\n",
    "averaged_results = df.groupby(hyperparam_columns, as_index=False).agg({\n",
    "    'episode_rewards_mean': 'mean',  # Averaging the performance metric\n",
    "    'sub_experiment_path': 'first'   # Keep a reference to an experiment path\n",
    "})\n",
    "\n",
    "# Find the best hyperparameter set based on the highest mean reward\n",
    "best_row = averaged_results.loc[averaged_results['episode_rewards_mean'].idxmax()]\n",
    "\n",
    "# Print the best experiment path and hyperparameters\n",
    "print(f\"Best hyperparameters:\\n{best_row[hyperparam_columns]}\")\n",
    "print(f\"Best mean reward: {best_row['episode_rewards_mean']}\")"
   ]
  },
  {
   "cell_type": "code",
   "execution_count": 27,
   "metadata": {},
   "outputs": [
    {
     "data": {
      "text/html": [
       "<div>\n",
       "<style scoped>\n",
       "    .dataframe tbody tr th:only-of-type {\n",
       "        vertical-align: middle;\n",
       "    }\n",
       "\n",
       "    .dataframe tbody tr th {\n",
       "        vertical-align: top;\n",
       "    }\n",
       "\n",
       "    .dataframe thead th {\n",
       "        text-align: right;\n",
       "    }\n",
       "</style>\n",
       "<table border=\"1\" class=\"dataframe\">\n",
       "  <thead>\n",
       "    <tr style=\"text-align: right;\">\n",
       "      <th></th>\n",
       "      <th>sub_exp_cfg_optim.args_.eps</th>\n",
       "      <th>sub_exp_cfg_optim.args_.lr</th>\n",
       "      <th>sub_exp_cfg_agent_params.args_.action_w_noise_amplitude</th>\n",
       "      <th>episode_rewards_mean</th>\n",
       "      <th>sub_experiment_path</th>\n",
       "    </tr>\n",
       "  </thead>\n",
       "  <tbody>\n",
       "    <tr>\n",
       "      <th>0</th>\n",
       "      <td>1e-05</td>\n",
       "      <td>0.0001</td>\n",
       "      <td>0</td>\n",
       "      <td>-7.405618</td>\n",
       "      <td>D:\\Work\\repos\\RL\\phd-rl-algos\\dqn\\opinion_dyna...</td>\n",
       "    </tr>\n",
       "    <tr>\n",
       "      <th>1</th>\n",
       "      <td>1e-05</td>\n",
       "      <td>0.0001</td>\n",
       "      <td>0.1</td>\n",
       "      <td>-6.153856</td>\n",
       "      <td>D:\\Work\\repos\\RL\\phd-rl-algos\\dqn\\opinion_dyna...</td>\n",
       "    </tr>\n",
       "    <tr>\n",
       "      <th>2</th>\n",
       "      <td>1e-05</td>\n",
       "      <td>0.0001</td>\n",
       "      <td>0.3</td>\n",
       "      <td>-6.584434</td>\n",
       "      <td>D:\\Work\\repos\\RL\\phd-rl-algos\\dqn\\opinion_dyna...</td>\n",
       "    </tr>\n",
       "    <tr>\n",
       "      <th>3</th>\n",
       "      <td>1e-05</td>\n",
       "      <td>1e-05</td>\n",
       "      <td>0</td>\n",
       "      <td>-7.432921</td>\n",
       "      <td>D:\\Work\\repos\\RL\\phd-rl-algos\\dqn\\opinion_dyna...</td>\n",
       "    </tr>\n",
       "    <tr>\n",
       "      <th>4</th>\n",
       "      <td>1e-05</td>\n",
       "      <td>1e-05</td>\n",
       "      <td>0.1</td>\n",
       "      <td>-7.151418</td>\n",
       "      <td>D:\\Work\\repos\\RL\\phd-rl-algos\\dqn\\opinion_dyna...</td>\n",
       "    </tr>\n",
       "    <tr>\n",
       "      <th>5</th>\n",
       "      <td>1e-05</td>\n",
       "      <td>1e-05</td>\n",
       "      <td>0.3</td>\n",
       "      <td>-7.488453</td>\n",
       "      <td>D:\\Work\\repos\\RL\\phd-rl-algos\\dqn\\opinion_dyna...</td>\n",
       "    </tr>\n",
       "    <tr>\n",
       "      <th>6</th>\n",
       "      <td>1e-06</td>\n",
       "      <td>0.0001</td>\n",
       "      <td>0</td>\n",
       "      <td>-9.364588</td>\n",
       "      <td>D:\\Work\\repos\\RL\\phd-rl-algos\\dqn\\opinion_dyna...</td>\n",
       "    </tr>\n",
       "    <tr>\n",
       "      <th>7</th>\n",
       "      <td>1e-06</td>\n",
       "      <td>0.0001</td>\n",
       "      <td>0.1</td>\n",
       "      <td>-6.435435</td>\n",
       "      <td>D:\\Work\\repos\\RL\\phd-rl-algos\\dqn\\opinion_dyna...</td>\n",
       "    </tr>\n",
       "    <tr>\n",
       "      <th>8</th>\n",
       "      <td>1e-06</td>\n",
       "      <td>0.0001</td>\n",
       "      <td>0.3</td>\n",
       "      <td>-6.964148</td>\n",
       "      <td>D:\\Work\\repos\\RL\\phd-rl-algos\\dqn\\opinion_dyna...</td>\n",
       "    </tr>\n",
       "    <tr>\n",
       "      <th>9</th>\n",
       "      <td>1e-06</td>\n",
       "      <td>1e-05</td>\n",
       "      <td>0</td>\n",
       "      <td>-7.402122</td>\n",
       "      <td>D:\\Work\\repos\\RL\\phd-rl-algos\\dqn\\opinion_dyna...</td>\n",
       "    </tr>\n",
       "    <tr>\n",
       "      <th>10</th>\n",
       "      <td>1e-06</td>\n",
       "      <td>1e-05</td>\n",
       "      <td>0.1</td>\n",
       "      <td>-7.034505</td>\n",
       "      <td>D:\\Work\\repos\\RL\\phd-rl-algos\\dqn\\opinion_dyna...</td>\n",
       "    </tr>\n",
       "    <tr>\n",
       "      <th>11</th>\n",
       "      <td>1e-06</td>\n",
       "      <td>1e-05</td>\n",
       "      <td>0.3</td>\n",
       "      <td>-7.310851</td>\n",
       "      <td>D:\\Work\\repos\\RL\\phd-rl-algos\\dqn\\opinion_dyna...</td>\n",
       "    </tr>\n",
       "  </tbody>\n",
       "</table>\n",
       "</div>"
      ],
      "text/plain": [
       "   sub_exp_cfg_optim.args_.eps sub_exp_cfg_optim.args_.lr  \\\n",
       "0                        1e-05                     0.0001   \n",
       "1                        1e-05                     0.0001   \n",
       "2                        1e-05                     0.0001   \n",
       "3                        1e-05                      1e-05   \n",
       "4                        1e-05                      1e-05   \n",
       "5                        1e-05                      1e-05   \n",
       "6                        1e-06                     0.0001   \n",
       "7                        1e-06                     0.0001   \n",
       "8                        1e-06                     0.0001   \n",
       "9                        1e-06                      1e-05   \n",
       "10                       1e-06                      1e-05   \n",
       "11                       1e-06                      1e-05   \n",
       "\n",
       "   sub_exp_cfg_agent_params.args_.action_w_noise_amplitude  \\\n",
       "0                                                   0        \n",
       "1                                                 0.1        \n",
       "2                                                 0.3        \n",
       "3                                                   0        \n",
       "4                                                 0.1        \n",
       "5                                                 0.3        \n",
       "6                                                   0        \n",
       "7                                                 0.1        \n",
       "8                                                 0.3        \n",
       "9                                                   0        \n",
       "10                                                0.1        \n",
       "11                                                0.3        \n",
       "\n",
       "    episode_rewards_mean                                sub_experiment_path  \n",
       "0              -7.405618  D:\\Work\\repos\\RL\\phd-rl-algos\\dqn\\opinion_dyna...  \n",
       "1              -6.153856  D:\\Work\\repos\\RL\\phd-rl-algos\\dqn\\opinion_dyna...  \n",
       "2              -6.584434  D:\\Work\\repos\\RL\\phd-rl-algos\\dqn\\opinion_dyna...  \n",
       "3              -7.432921  D:\\Work\\repos\\RL\\phd-rl-algos\\dqn\\opinion_dyna...  \n",
       "4              -7.151418  D:\\Work\\repos\\RL\\phd-rl-algos\\dqn\\opinion_dyna...  \n",
       "5              -7.488453  D:\\Work\\repos\\RL\\phd-rl-algos\\dqn\\opinion_dyna...  \n",
       "6              -9.364588  D:\\Work\\repos\\RL\\phd-rl-algos\\dqn\\opinion_dyna...  \n",
       "7              -6.435435  D:\\Work\\repos\\RL\\phd-rl-algos\\dqn\\opinion_dyna...  \n",
       "8              -6.964148  D:\\Work\\repos\\RL\\phd-rl-algos\\dqn\\opinion_dyna...  \n",
       "9              -7.402122  D:\\Work\\repos\\RL\\phd-rl-algos\\dqn\\opinion_dyna...  \n",
       "10             -7.034505  D:\\Work\\repos\\RL\\phd-rl-algos\\dqn\\opinion_dyna...  \n",
       "11             -7.310851  D:\\Work\\repos\\RL\\phd-rl-algos\\dqn\\opinion_dyna...  "
      ]
     },
     "execution_count": 27,
     "metadata": {},
     "output_type": "execute_result"
    }
   ],
   "source": [
    "averaged_results"
   ]
  },
  {
   "cell_type": "code",
   "execution_count": 28,
   "metadata": {},
   "outputs": [
    {
     "data": {
      "image/png": "[encoded data removed]",
      "text/plain": [
       "<Figure size 1000x600 with 1 Axes>"
      ]
     },
     "metadata": {},
     "output_type": "display_data"
    }
   ],
   "source": [
    "selected_metric = 'episode_rewards_mean'\n",
    "hue_col = \"sub_exp_cfg_agent_params.args_.action_w_noise_amplitude\"\n",
    "\n",
    "# Filter for validation episodes\n",
    "validation_df = df[df['epoch_type'] == 'validation']\n",
    "\n",
    "# Get the unique sorted frame_stamp values\n",
    "unique_frames = np.sort(validation_df['frame_stamp'].unique())\n",
    "N = 1\n",
    "# Get all frame_stamp values after the first N unique ones\n",
    "filtered_frames = unique_frames[N:]\n",
    "\n",
    "# Filter the DataFrame to only include rows with these frame_stamp values\n",
    "filtered_df = validation_df[validation_df['frame_stamp'].isin(filtered_frames)]\n",
    "\n",
    "plt.figure(figsize=(10, 6))\n",
    "sns.lineplot(data=filtered_df, x='frame_stamp', y=selected_metric, hue=hue_col)\n",
    "plt.ylabel(selected_metric)\n",
    "plt.xlabel('Frame Stamp')\n",
    "plt.show()"
   ]
  },
  {
   "cell_type": "code",
   "execution_count": 29,
   "metadata": {},
   "outputs": [
    {
     "data": {
      "image/png": "[encoded data removed]",
      "text/plain": [
       "<Figure size 1000x600 with 1 Axes>"
      ]
     },
     "metadata": {},
     "output_type": "display_data"
    }
   ],
   "source": [
    "\n",
    "selected_metric = 'episode_discounted_rewards_mean'\n",
    "# hue_col = \"sub_exp_cfg_agent_params.args_.action_w_noise_amplitude\"\n",
    "hue_col = \"experiment_name\"\n",
    "\n",
    "validation_df = df[df['epoch_type'] == 'validation']\n",
    "\n",
    "\n",
    "# Create a new figure for each environment\n",
    "plt.figure(figsize=(10, 6))\n",
    "# sns.lineplot(data=df, x='frame_stamp', y=selected_metric, hue='model')\n",
    "sns.lineplot(data=validation_df, x='frame_stamp', y=selected_metric, hue=hue_col)\n",
    "\n",
    "plt.ylabel(selected_metric)\n",
    "plt.xlabel('Frame Stamp')\n",
    "\n",
    "# Place the legend outside the plot\n",
    "plt.legend(loc='center left', bbox_to_anchor=(1.0, 0.5), title='Parameters')\n",
    "plt.show()"
   ]
  },
  {
   "cell_type": "code",
   "execution_count": 30,
   "metadata": {},
   "outputs": [
    {
     "data": {
      "text/html": [
       "<div>\n",
       "<style scoped>\n",
       "    .dataframe tbody tr th:only-of-type {\n",
       "        vertical-align: middle;\n",
       "    }\n",
       "\n",
       "    .dataframe tbody tr th {\n",
       "        vertical-align: top;\n",
       "    }\n",
       "\n",
       "    .dataframe thead th {\n",
       "        text-align: right;\n",
       "    }\n",
       "</style>\n",
       "<table border=\"1\" class=\"dataframe\">\n",
       "  <thead>\n",
       "    <tr style=\"text-align: right;\">\n",
       "      <th></th>\n",
       "      <th>epoch_type</th>\n",
       "      <th>frame_stamp</th>\n",
       "      <th>episode_rewards_mean</th>\n",
       "      <th>episode_frames_mean</th>\n",
       "      <th>episode_discounted_rewards_mean</th>\n",
       "      <th>policy_trained_times</th>\n",
       "      <th>target_trained_times</th>\n",
       "      <th>epoch_time</th>\n",
       "      <th>seed</th>\n",
       "      <th>experiment_name</th>\n",
       "      <th>sub_experiment_path</th>\n",
       "      <th>sub_exp_cfg_optim.args_.eps</th>\n",
       "      <th>sub_exp_cfg_optim.args_.lr</th>\n",
       "      <th>sub_exp_cfg_agent_params.args_.action_w_noise_amplitude</th>\n",
       "    </tr>\n",
       "  </thead>\n",
       "  <tbody>\n",
       "    <tr>\n",
       "      <th>19</th>\n",
       "      <td>validation</td>\n",
       "      <td>2000000</td>\n",
       "      <td>-6.310367</td>\n",
       "      <td>20.0</td>\n",
       "      <td>-4.082868</td>\n",
       "      <td>NaN</td>\n",
       "      <td>NaN</td>\n",
       "      <td>0 days 00:00:00.670279</td>\n",
       "      <td>0</td>\n",
       "      <td>0000_optim.args_.eps_1e-06__optim.args_.lr_1e-...</td>\n",
       "      <td>D:\\Work\\repos\\RL\\phd-rl-algos\\dqn\\opinion_dyna...</td>\n",
       "      <td>1e-06</td>\n",
       "      <td>1e-05</td>\n",
       "      <td>0</td>\n",
       "    </tr>\n",
       "    <tr>\n",
       "      <th>39</th>\n",
       "      <td>validation</td>\n",
       "      <td>2000000</td>\n",
       "      <td>-7.082287</td>\n",
       "      <td>22.0</td>\n",
       "      <td>-4.328680</td>\n",
       "      <td>NaN</td>\n",
       "      <td>NaN</td>\n",
       "      <td>0 days 00:00:00.696509</td>\n",
       "      <td>1</td>\n",
       "      <td>0000_optim.args_.eps_1e-06__optim.args_.lr_1e-...</td>\n",
       "      <td>D:\\Work\\repos\\RL\\phd-rl-algos\\dqn\\opinion_dyna...</td>\n",
       "      <td>1e-06</td>\n",
       "      <td>1e-05</td>\n",
       "      <td>0</td>\n",
       "    </tr>\n",
       "    <tr>\n",
       "      <th>59</th>\n",
       "      <td>validation</td>\n",
       "      <td>2000000</td>\n",
       "      <td>-5.983140</td>\n",
       "      <td>18.0</td>\n",
       "      <td>-4.015553</td>\n",
       "      <td>NaN</td>\n",
       "      <td>NaN</td>\n",
       "      <td>0 days 00:00:00.687000</td>\n",
       "      <td>0</td>\n",
       "      <td>0001_optim.args_.eps_1e-06__optim.args_.lr_1e-...</td>\n",
       "      <td>D:\\Work\\repos\\RL\\phd-rl-algos\\dqn\\opinion_dyna...</td>\n",
       "      <td>1e-06</td>\n",
       "      <td>1e-05</td>\n",
       "      <td>0.1</td>\n",
       "    </tr>\n",
       "    <tr>\n",
       "      <th>79</th>\n",
       "      <td>validation</td>\n",
       "      <td>2000000</td>\n",
       "      <td>-8.317317</td>\n",
       "      <td>31.0</td>\n",
       "      <td>-4.376575</td>\n",
       "      <td>NaN</td>\n",
       "      <td>NaN</td>\n",
       "      <td>0 days 00:00:00.670361</td>\n",
       "      <td>1</td>\n",
       "      <td>0001_optim.args_.eps_1e-06__optim.args_.lr_1e-...</td>\n",
       "      <td>D:\\Work\\repos\\RL\\phd-rl-algos\\dqn\\opinion_dyna...</td>\n",
       "      <td>1e-06</td>\n",
       "      <td>1e-05</td>\n",
       "      <td>0.1</td>\n",
       "    </tr>\n",
       "    <tr>\n",
       "      <th>99</th>\n",
       "      <td>validation</td>\n",
       "      <td>2000000</td>\n",
       "      <td>-8.957201</td>\n",
       "      <td>34.0</td>\n",
       "      <td>-4.450680</td>\n",
       "      <td>NaN</td>\n",
       "      <td>NaN</td>\n",
       "      <td>0 days 00:00:00.654776</td>\n",
       "      <td>0</td>\n",
       "      <td>0002_optim.args_.eps_1e-06__optim.args_.lr_1e-...</td>\n",
       "      <td>D:\\Work\\repos\\RL\\phd-rl-algos\\dqn\\opinion_dyna...</td>\n",
       "      <td>1e-06</td>\n",
       "      <td>1e-05</td>\n",
       "      <td>0.3</td>\n",
       "    </tr>\n",
       "    <tr>\n",
       "      <th>119</th>\n",
       "      <td>validation</td>\n",
       "      <td>2000000</td>\n",
       "      <td>-6.018168</td>\n",
       "      <td>19.0</td>\n",
       "      <td>-3.994540</td>\n",
       "      <td>NaN</td>\n",
       "      <td>NaN</td>\n",
       "      <td>0 days 00:00:00.623337</td>\n",
       "      <td>1</td>\n",
       "      <td>0002_optim.args_.eps_1e-06__optim.args_.lr_1e-...</td>\n",
       "      <td>D:\\Work\\repos\\RL\\phd-rl-algos\\dqn\\opinion_dyna...</td>\n",
       "      <td>1e-06</td>\n",
       "      <td>1e-05</td>\n",
       "      <td>0.3</td>\n",
       "    </tr>\n",
       "    <tr>\n",
       "      <th>139</th>\n",
       "      <td>validation</td>\n",
       "      <td>2000000</td>\n",
       "      <td>-26.992223</td>\n",
       "      <td>50.0</td>\n",
       "      <td>-6.747869</td>\n",
       "      <td>NaN</td>\n",
       "      <td>NaN</td>\n",
       "      <td>0 days 00:00:00.693948</td>\n",
       "      <td>0</td>\n",
       "      <td>0003_optim.args_.eps_1e-06__optim.args_.lr_0.0...</td>\n",
       "      <td>D:\\Work\\repos\\RL\\phd-rl-algos\\dqn\\opinion_dyna...</td>\n",
       "      <td>1e-06</td>\n",
       "      <td>0.0001</td>\n",
       "      <td>0</td>\n",
       "    </tr>\n",
       "    <tr>\n",
       "      <th>159</th>\n",
       "      <td>validation</td>\n",
       "      <td>2000000</td>\n",
       "      <td>-5.653665</td>\n",
       "      <td>17.0</td>\n",
       "      <td>-3.900672</td>\n",
       "      <td>NaN</td>\n",
       "      <td>NaN</td>\n",
       "      <td>0 days 00:00:00.624023</td>\n",
       "      <td>1</td>\n",
       "      <td>0003_optim.args_.eps_1e-06__optim.args_.lr_0.0...</td>\n",
       "      <td>D:\\Work\\repos\\RL\\phd-rl-algos\\dqn\\opinion_dyna...</td>\n",
       "      <td>1e-06</td>\n",
       "      <td>0.0001</td>\n",
       "      <td>0</td>\n",
       "    </tr>\n",
       "    <tr>\n",
       "      <th>179</th>\n",
       "      <td>validation</td>\n",
       "      <td>2000000</td>\n",
       "      <td>-6.115143</td>\n",
       "      <td>19.0</td>\n",
       "      <td>-4.049034</td>\n",
       "      <td>NaN</td>\n",
       "      <td>NaN</td>\n",
       "      <td>0 days 00:00:00.649913</td>\n",
       "      <td>0</td>\n",
       "      <td>0004_optim.args_.eps_1e-06__optim.args_.lr_0.0...</td>\n",
       "      <td>D:\\Work\\repos\\RL\\phd-rl-algos\\dqn\\opinion_dyna...</td>\n",
       "      <td>1e-06</td>\n",
       "      <td>0.0001</td>\n",
       "      <td>0.1</td>\n",
       "    </tr>\n",
       "    <tr>\n",
       "      <th>199</th>\n",
       "      <td>validation</td>\n",
       "      <td>2000000</td>\n",
       "      <td>-6.223969</td>\n",
       "      <td>20.0</td>\n",
       "      <td>-4.057608</td>\n",
       "      <td>NaN</td>\n",
       "      <td>NaN</td>\n",
       "      <td>0 days 00:00:00.631920</td>\n",
       "      <td>1</td>\n",
       "      <td>0004_optim.args_.eps_1e-06__optim.args_.lr_0.0...</td>\n",
       "      <td>D:\\Work\\repos\\RL\\phd-rl-algos\\dqn\\opinion_dyna...</td>\n",
       "      <td>1e-06</td>\n",
       "      <td>0.0001</td>\n",
       "      <td>0.1</td>\n",
       "    </tr>\n",
       "    <tr>\n",
       "      <th>219</th>\n",
       "      <td>validation</td>\n",
       "      <td>2000000</td>\n",
       "      <td>-5.599445</td>\n",
       "      <td>17.0</td>\n",
       "      <td>-3.878265</td>\n",
       "      <td>NaN</td>\n",
       "      <td>NaN</td>\n",
       "      <td>0 days 00:00:00.699416</td>\n",
       "      <td>0</td>\n",
       "      <td>0005_optim.args_.eps_1e-06__optim.args_.lr_0.0...</td>\n",
       "      <td>D:\\Work\\repos\\RL\\phd-rl-algos\\dqn\\opinion_dyna...</td>\n",
       "      <td>1e-06</td>\n",
       "      <td>0.0001</td>\n",
       "      <td>0.3</td>\n",
       "    </tr>\n",
       "    <tr>\n",
       "      <th>239</th>\n",
       "      <td>validation</td>\n",
       "      <td>2000000</td>\n",
       "      <td>-12.589797</td>\n",
       "      <td>45.0</td>\n",
       "      <td>-5.155645</td>\n",
       "      <td>NaN</td>\n",
       "      <td>NaN</td>\n",
       "      <td>0 days 00:00:00.698679</td>\n",
       "      <td>1</td>\n",
       "      <td>0005_optim.args_.eps_1e-06__optim.args_.lr_0.0...</td>\n",
       "      <td>D:\\Work\\repos\\RL\\phd-rl-algos\\dqn\\opinion_dyna...</td>\n",
       "      <td>1e-06</td>\n",
       "      <td>0.0001</td>\n",
       "      <td>0.3</td>\n",
       "    </tr>\n",
       "    <tr>\n",
       "      <th>259</th>\n",
       "      <td>validation</td>\n",
       "      <td>2000000</td>\n",
       "      <td>-6.292859</td>\n",
       "      <td>20.0</td>\n",
       "      <td>-4.078198</td>\n",
       "      <td>NaN</td>\n",
       "      <td>NaN</td>\n",
       "      <td>0 days 00:00:00.602969</td>\n",
       "      <td>0</td>\n",
       "      <td>0006_optim.args_.eps_1e-05__optim.args_.lr_1e-...</td>\n",
       "      <td>D:\\Work\\repos\\RL\\phd-rl-algos\\dqn\\opinion_dyna...</td>\n",
       "      <td>1e-05</td>\n",
       "      <td>1e-05</td>\n",
       "      <td>0</td>\n",
       "    </tr>\n",
       "    <tr>\n",
       "      <th>279</th>\n",
       "      <td>validation</td>\n",
       "      <td>2000000</td>\n",
       "      <td>-6.358026</td>\n",
       "      <td>21.0</td>\n",
       "      <td>-4.068529</td>\n",
       "      <td>NaN</td>\n",
       "      <td>NaN</td>\n",
       "      <td>0 days 00:00:00.587184</td>\n",
       "      <td>1</td>\n",
       "      <td>0006_optim.args_.eps_1e-05__optim.args_.lr_1e-...</td>\n",
       "      <td>D:\\Work\\repos\\RL\\phd-rl-algos\\dqn\\opinion_dyna...</td>\n",
       "      <td>1e-05</td>\n",
       "      <td>1e-05</td>\n",
       "      <td>0</td>\n",
       "    </tr>\n",
       "    <tr>\n",
       "      <th>299</th>\n",
       "      <td>validation</td>\n",
       "      <td>2000000</td>\n",
       "      <td>-5.959683</td>\n",
       "      <td>18.0</td>\n",
       "      <td>-4.008003</td>\n",
       "      <td>NaN</td>\n",
       "      <td>NaN</td>\n",
       "      <td>0 days 00:00:00.601482</td>\n",
       "      <td>0</td>\n",
       "      <td>0007_optim.args_.eps_1e-05__optim.args_.lr_1e-...</td>\n",
       "      <td>D:\\Work\\repos\\RL\\phd-rl-algos\\dqn\\opinion_dyna...</td>\n",
       "      <td>1e-05</td>\n",
       "      <td>1e-05</td>\n",
       "      <td>0.1</td>\n",
       "    </tr>\n",
       "    <tr>\n",
       "      <th>319</th>\n",
       "      <td>validation</td>\n",
       "      <td>2000000</td>\n",
       "      <td>-14.903679</td>\n",
       "      <td>49.0</td>\n",
       "      <td>-5.450915</td>\n",
       "      <td>NaN</td>\n",
       "      <td>NaN</td>\n",
       "      <td>0 days 00:00:00.604078</td>\n",
       "      <td>1</td>\n",
       "      <td>0007_optim.args_.eps_1e-05__optim.args_.lr_1e-...</td>\n",
       "      <td>D:\\Work\\repos\\RL\\phd-rl-algos\\dqn\\opinion_dyna...</td>\n",
       "      <td>1e-05</td>\n",
       "      <td>1e-05</td>\n",
       "      <td>0.1</td>\n",
       "    </tr>\n",
       "    <tr>\n",
       "      <th>339</th>\n",
       "      <td>validation</td>\n",
       "      <td>2000000</td>\n",
       "      <td>-10.314253</td>\n",
       "      <td>42.0</td>\n",
       "      <td>-4.505276</td>\n",
       "      <td>NaN</td>\n",
       "      <td>NaN</td>\n",
       "      <td>0 days 00:00:00.541490</td>\n",
       "      <td>0</td>\n",
       "      <td>0008_optim.args_.eps_1e-05__optim.args_.lr_1e-...</td>\n",
       "      <td>D:\\Work\\repos\\RL\\phd-rl-algos\\dqn\\opinion_dyna...</td>\n",
       "      <td>1e-05</td>\n",
       "      <td>1e-05</td>\n",
       "      <td>0.3</td>\n",
       "    </tr>\n",
       "    <tr>\n",
       "      <th>359</th>\n",
       "      <td>validation</td>\n",
       "      <td>2000000</td>\n",
       "      <td>-6.424802</td>\n",
       "      <td>21.0</td>\n",
       "      <td>-4.097482</td>\n",
       "      <td>NaN</td>\n",
       "      <td>NaN</td>\n",
       "      <td>0 days 00:00:00.520465</td>\n",
       "      <td>1</td>\n",
       "      <td>0008_optim.args_.eps_1e-05__optim.args_.lr_1e-...</td>\n",
       "      <td>D:\\Work\\repos\\RL\\phd-rl-algos\\dqn\\opinion_dyna...</td>\n",
       "      <td>1e-05</td>\n",
       "      <td>1e-05</td>\n",
       "      <td>0.3</td>\n",
       "    </tr>\n",
       "    <tr>\n",
       "      <th>379</th>\n",
       "      <td>validation</td>\n",
       "      <td>2000000</td>\n",
       "      <td>-5.774942</td>\n",
       "      <td>18.0</td>\n",
       "      <td>-3.927272</td>\n",
       "      <td>NaN</td>\n",
       "      <td>NaN</td>\n",
       "      <td>0 days 00:00:00.524913</td>\n",
       "      <td>0</td>\n",
       "      <td>0009_optim.args_.eps_1e-05__optim.args_.lr_0.0...</td>\n",
       "      <td>D:\\Work\\repos\\RL\\phd-rl-algos\\dqn\\opinion_dyna...</td>\n",
       "      <td>1e-05</td>\n",
       "      <td>0.0001</td>\n",
       "      <td>0</td>\n",
       "    </tr>\n",
       "    <tr>\n",
       "      <th>399</th>\n",
       "      <td>validation</td>\n",
       "      <td>2000000</td>\n",
       "      <td>-11.109461</td>\n",
       "      <td>32.0</td>\n",
       "      <td>-5.471818</td>\n",
       "      <td>NaN</td>\n",
       "      <td>NaN</td>\n",
       "      <td>0 days 00:00:00.490125</td>\n",
       "      <td>1</td>\n",
       "      <td>0009_optim.args_.eps_1e-05__optim.args_.lr_0.0...</td>\n",
       "      <td>D:\\Work\\repos\\RL\\phd-rl-algos\\dqn\\opinion_dyna...</td>\n",
       "      <td>1e-05</td>\n",
       "      <td>0.0001</td>\n",
       "      <td>0</td>\n",
       "    </tr>\n",
       "    <tr>\n",
       "      <th>419</th>\n",
       "      <td>validation</td>\n",
       "      <td>2000000</td>\n",
       "      <td>-5.619835</td>\n",
       "      <td>17.0</td>\n",
       "      <td>-3.888763</td>\n",
       "      <td>NaN</td>\n",
       "      <td>NaN</td>\n",
       "      <td>0 days 00:00:00.482228</td>\n",
       "      <td>0</td>\n",
       "      <td>0010_optim.args_.eps_1e-05__optim.args_.lr_0.0...</td>\n",
       "      <td>D:\\Work\\repos\\RL\\phd-rl-algos\\dqn\\opinion_dyna...</td>\n",
       "      <td>1e-05</td>\n",
       "      <td>0.0001</td>\n",
       "      <td>0.1</td>\n",
       "    </tr>\n",
       "    <tr>\n",
       "      <th>439</th>\n",
       "      <td>validation</td>\n",
       "      <td>2000000</td>\n",
       "      <td>-5.790420</td>\n",
       "      <td>18.0</td>\n",
       "      <td>-3.937238</td>\n",
       "      <td>NaN</td>\n",
       "      <td>NaN</td>\n",
       "      <td>0 days 00:00:00.368422</td>\n",
       "      <td>1</td>\n",
       "      <td>0010_optim.args_.eps_1e-05__optim.args_.lr_0.0...</td>\n",
       "      <td>D:\\Work\\repos\\RL\\phd-rl-algos\\dqn\\opinion_dyna...</td>\n",
       "      <td>1e-05</td>\n",
       "      <td>0.0001</td>\n",
       "      <td>0.1</td>\n",
       "    </tr>\n",
       "    <tr>\n",
       "      <th>459</th>\n",
       "      <td>validation</td>\n",
       "      <td>2000000</td>\n",
       "      <td>-5.779121</td>\n",
       "      <td>18.0</td>\n",
       "      <td>-3.930201</td>\n",
       "      <td>NaN</td>\n",
       "      <td>NaN</td>\n",
       "      <td>0 days 00:00:00.531142</td>\n",
       "      <td>0</td>\n",
       "      <td>0011_optim.args_.eps_1e-05__optim.args_.lr_0.0...</td>\n",
       "      <td>D:\\Work\\repos\\RL\\phd-rl-algos\\dqn\\opinion_dyna...</td>\n",
       "      <td>1e-05</td>\n",
       "      <td>0.0001</td>\n",
       "      <td>0.3</td>\n",
       "    </tr>\n",
       "    <tr>\n",
       "      <th>479</th>\n",
       "      <td>validation</td>\n",
       "      <td>2000000</td>\n",
       "      <td>-5.831029</td>\n",
       "      <td>18.0</td>\n",
       "      <td>-3.947848</td>\n",
       "      <td>NaN</td>\n",
       "      <td>NaN</td>\n",
       "      <td>0 days 00:00:00.373647</td>\n",
       "      <td>1</td>\n",
       "      <td>0011_optim.args_.eps_1e-05__optim.args_.lr_0.0...</td>\n",
       "      <td>D:\\Work\\repos\\RL\\phd-rl-algos\\dqn\\opinion_dyna...</td>\n",
       "      <td>1e-05</td>\n",
       "      <td>0.0001</td>\n",
       "      <td>0.3</td>\n",
       "    </tr>\n",
       "  </tbody>\n",
       "</table>\n",
       "</div>"
      ],
      "text/plain": [
       "     epoch_type  frame_stamp  episode_rewards_mean  episode_frames_mean  \\\n",
       "19   validation      2000000             -6.310367                 20.0   \n",
       "39   validation      2000000             -7.082287                 22.0   \n",
       "59   validation      2000000             -5.983140                 18.0   \n",
       "79   validation      2000000             -8.317317                 31.0   \n",
       "99   validation      2000000             -8.957201                 34.0   \n",
       "119  validation      2000000             -6.018168                 19.0   \n",
       "139  validation      2000000            -26.992223                 50.0   \n",
       "159  validation      2000000             -5.653665                 17.0   \n",
       "179  validation      2000000             -6.115143                 19.0   \n",
       "199  validation      2000000             -6.223969                 20.0   \n",
       "219  validation      2000000             -5.599445                 17.0   \n",
       "239  validation      2000000            -12.589797                 45.0   \n",
       "259  validation      2000000             -6.292859                 20.0   \n",
       "279  validation      2000000             -6.358026                 21.0   \n",
       "299  validation      2000000             -5.959683                 18.0   \n",
       "319  validation      2000000            -14.903679                 49.0   \n",
       "339  validation      2000000            -10.314253                 42.0   \n",
       "359  validation      2000000             -6.424802                 21.0   \n",
       "379  validation      2000000             -5.774942                 18.0   \n",
       "399  validation      2000000            -11.109461                 32.0   \n",
       "419  validation      2000000             -5.619835                 17.0   \n",
       "439  validation      2000000             -5.790420                 18.0   \n",
       "459  validation      2000000             -5.779121                 18.0   \n",
       "479  validation      2000000             -5.831029                 18.0   \n",
       "\n",
       "     episode_discounted_rewards_mean  policy_trained_times  \\\n",
       "19                         -4.082868                   NaN   \n",
       "39                         -4.328680                   NaN   \n",
       "59                         -4.015553                   NaN   \n",
       "79                         -4.376575                   NaN   \n",
       "99                         -4.450680                   NaN   \n",
       "119                        -3.994540                   NaN   \n",
       "139                        -6.747869                   NaN   \n",
       "159                        -3.900672                   NaN   \n",
       "179                        -4.049034                   NaN   \n",
       "199                        -4.057608                   NaN   \n",
       "219                        -3.878265                   NaN   \n",
       "239                        -5.155645                   NaN   \n",
       "259                        -4.078198                   NaN   \n",
       "279                        -4.068529                   NaN   \n",
       "299                        -4.008003                   NaN   \n",
       "319                        -5.450915                   NaN   \n",
       "339                        -4.505276                   NaN   \n",
       "359                        -4.097482                   NaN   \n",
       "379                        -3.927272                   NaN   \n",
       "399                        -5.471818                   NaN   \n",
       "419                        -3.888763                   NaN   \n",
       "439                        -3.937238                   NaN   \n",
       "459                        -3.930201                   NaN   \n",
       "479                        -3.947848                   NaN   \n",
       "\n",
       "     target_trained_times             epoch_time seed  \\\n",
       "19                    NaN 0 days 00:00:00.670279    0   \n",
       "39                    NaN 0 days 00:00:00.696509    1   \n",
       "59                    NaN 0 days 00:00:00.687000    0   \n",
       "79                    NaN 0 days 00:00:00.670361    1   \n",
       "99                    NaN 0 days 00:00:00.654776    0   \n",
       "119                   NaN 0 days 00:00:00.623337    1   \n",
       "139                   NaN 0 days 00:00:00.693948    0   \n",
       "159                   NaN 0 days 00:00:00.624023    1   \n",
       "179                   NaN 0 days 00:00:00.649913    0   \n",
       "199                   NaN 0 days 00:00:00.631920    1   \n",
       "219                   NaN 0 days 00:00:00.699416    0   \n",
       "239                   NaN 0 days 00:00:00.698679    1   \n",
       "259                   NaN 0 days 00:00:00.602969    0   \n",
       "279                   NaN 0 days 00:00:00.587184    1   \n",
       "299                   NaN 0 days 00:00:00.601482    0   \n",
       "319                   NaN 0 days 00:00:00.604078    1   \n",
       "339                   NaN 0 days 00:00:00.541490    0   \n",
       "359                   NaN 0 days 00:00:00.520465    1   \n",
       "379                   NaN 0 days 00:00:00.524913    0   \n",
       "399                   NaN 0 days 00:00:00.490125    1   \n",
       "419                   NaN 0 days 00:00:00.482228    0   \n",
       "439                   NaN 0 days 00:00:00.368422    1   \n",
       "459                   NaN 0 days 00:00:00.531142    0   \n",
       "479                   NaN 0 days 00:00:00.373647    1   \n",
       "\n",
       "                                       experiment_name  \\\n",
       "19   0000_optim.args_.eps_1e-06__optim.args_.lr_1e-...   \n",
       "39   0000_optim.args_.eps_1e-06__optim.args_.lr_1e-...   \n",
       "59   0001_optim.args_.eps_1e-06__optim.args_.lr_1e-...   \n",
       "79   0001_optim.args_.eps_1e-06__optim.args_.lr_1e-...   \n",
       "99   0002_optim.args_.eps_1e-06__optim.args_.lr_1e-...   \n",
       "119  0002_optim.args_.eps_1e-06__optim.args_.lr_1e-...   \n",
       "139  0003_optim.args_.eps_1e-06__optim.args_.lr_0.0...   \n",
       "159  0003_optim.args_.eps_1e-06__optim.args_.lr_0.0...   \n",
       "179  0004_optim.args_.eps_1e-06__optim.args_.lr_0.0...   \n",
       "199  0004_optim.args_.eps_1e-06__optim.args_.lr_0.0...   \n",
       "219  0005_optim.args_.eps_1e-06__optim.args_.lr_0.0...   \n",
       "239  0005_optim.args_.eps_1e-06__optim.args_.lr_0.0...   \n",
       "259  0006_optim.args_.eps_1e-05__optim.args_.lr_1e-...   \n",
       "279  0006_optim.args_.eps_1e-05__optim.args_.lr_1e-...   \n",
       "299  0007_optim.args_.eps_1e-05__optim.args_.lr_1e-...   \n",
       "319  0007_optim.args_.eps_1e-05__optim.args_.lr_1e-...   \n",
       "339  0008_optim.args_.eps_1e-05__optim.args_.lr_1e-...   \n",
       "359  0008_optim.args_.eps_1e-05__optim.args_.lr_1e-...   \n",
       "379  0009_optim.args_.eps_1e-05__optim.args_.lr_0.0...   \n",
       "399  0009_optim.args_.eps_1e-05__optim.args_.lr_0.0...   \n",
       "419  0010_optim.args_.eps_1e-05__optim.args_.lr_0.0...   \n",
       "439  0010_optim.args_.eps_1e-05__optim.args_.lr_0.0...   \n",
       "459  0011_optim.args_.eps_1e-05__optim.args_.lr_0.0...   \n",
       "479  0011_optim.args_.eps_1e-05__optim.args_.lr_0.0...   \n",
       "\n",
       "                                   sub_experiment_path  \\\n",
       "19   D:\\Work\\repos\\RL\\phd-rl-algos\\dqn\\opinion_dyna...   \n",
       "39   D:\\Work\\repos\\RL\\phd-rl-algos\\dqn\\opinion_dyna...   \n",
       "59   D:\\Work\\repos\\RL\\phd-rl-algos\\dqn\\opinion_dyna...   \n",
       "79   D:\\Work\\repos\\RL\\phd-rl-algos\\dqn\\opinion_dyna...   \n",
       "99   D:\\Work\\repos\\RL\\phd-rl-algos\\dqn\\opinion_dyna...   \n",
       "119  D:\\Work\\repos\\RL\\phd-rl-algos\\dqn\\opinion_dyna...   \n",
       "139  D:\\Work\\repos\\RL\\phd-rl-algos\\dqn\\opinion_dyna...   \n",
       "159  D:\\Work\\repos\\RL\\phd-rl-algos\\dqn\\opinion_dyna...   \n",
       "179  D:\\Work\\repos\\RL\\phd-rl-algos\\dqn\\opinion_dyna...   \n",
       "199  D:\\Work\\repos\\RL\\phd-rl-algos\\dqn\\opinion_dyna...   \n",
       "219  D:\\Work\\repos\\RL\\phd-rl-algos\\dqn\\opinion_dyna...   \n",
       "239  D:\\Work\\repos\\RL\\phd-rl-algos\\dqn\\opinion_dyna...   \n",
       "259  D:\\Work\\repos\\RL\\phd-rl-algos\\dqn\\opinion_dyna...   \n",
       "279  D:\\Work\\repos\\RL\\phd-rl-algos\\dqn\\opinion_dyna...   \n",
       "299  D:\\Work\\repos\\RL\\phd-rl-algos\\dqn\\opinion_dyna...   \n",
       "319  D:\\Work\\repos\\RL\\phd-rl-algos\\dqn\\opinion_dyna...   \n",
       "339  D:\\Work\\repos\\RL\\phd-rl-algos\\dqn\\opinion_dyna...   \n",
       "359  D:\\Work\\repos\\RL\\phd-rl-algos\\dqn\\opinion_dyna...   \n",
       "379  D:\\Work\\repos\\RL\\phd-rl-algos\\dqn\\opinion_dyna...   \n",
       "399  D:\\Work\\repos\\RL\\phd-rl-algos\\dqn\\opinion_dyna...   \n",
       "419  D:\\Work\\repos\\RL\\phd-rl-algos\\dqn\\opinion_dyna...   \n",
       "439  D:\\Work\\repos\\RL\\phd-rl-algos\\dqn\\opinion_dyna...   \n",
       "459  D:\\Work\\repos\\RL\\phd-rl-algos\\dqn\\opinion_dyna...   \n",
       "479  D:\\Work\\repos\\RL\\phd-rl-algos\\dqn\\opinion_dyna...   \n",
       "\n",
       "    sub_exp_cfg_optim.args_.eps sub_exp_cfg_optim.args_.lr  \\\n",
       "19                        1e-06                      1e-05   \n",
       "39                        1e-06                      1e-05   \n",
       "59                        1e-06                      1e-05   \n",
       "79                        1e-06                      1e-05   \n",
       "99                        1e-06                      1e-05   \n",
       "119                       1e-06                      1e-05   \n",
       "139                       1e-06                     0.0001   \n",
       "159                       1e-06                     0.0001   \n",
       "179                       1e-06                     0.0001   \n",
       "199                       1e-06                     0.0001   \n",
       "219                       1e-06                     0.0001   \n",
       "239                       1e-06                     0.0001   \n",
       "259                       1e-05                      1e-05   \n",
       "279                       1e-05                      1e-05   \n",
       "299                       1e-05                      1e-05   \n",
       "319                       1e-05                      1e-05   \n",
       "339                       1e-05                      1e-05   \n",
       "359                       1e-05                      1e-05   \n",
       "379                       1e-05                     0.0001   \n",
       "399                       1e-05                     0.0001   \n",
       "419                       1e-05                     0.0001   \n",
       "439                       1e-05                     0.0001   \n",
       "459                       1e-05                     0.0001   \n",
       "479                       1e-05                     0.0001   \n",
       "\n",
       "    sub_exp_cfg_agent_params.args_.action_w_noise_amplitude  \n",
       "19                                                   0       \n",
       "39                                                   0       \n",
       "59                                                 0.1       \n",
       "79                                                 0.1       \n",
       "99                                                 0.3       \n",
       "119                                                0.3       \n",
       "139                                                  0       \n",
       "159                                                  0       \n",
       "179                                                0.1       \n",
       "199                                                0.1       \n",
       "219                                                0.3       \n",
       "239                                                0.3       \n",
       "259                                                  0       \n",
       "279                                                  0       \n",
       "299                                                0.1       \n",
       "319                                                0.1       \n",
       "339                                                0.3       \n",
       "359                                                0.3       \n",
       "379                                                  0       \n",
       "399                                                  0       \n",
       "419                                                0.1       \n",
       "439                                                0.1       \n",
       "459                                                0.3       \n",
       "479                                                0.3       "
      ]
     },
     "execution_count": 30,
     "metadata": {},
     "output_type": "execute_result"
    }
   ],
   "source": [
    "### Select data\n",
    "\n",
    "experiment_columns = [\n",
    "    'epoch_type', 'frame_stamp',\n",
    "    'episode_rewards_mean', 'episode_frames_mean', \n",
    "    'episode_discounted_rewards_mean',\n",
    "    'policy_trained_times', 'target_trained_times', 'epoch_time', \n",
    "       'seed', 'experiment_name', \"sub_experiment_path\"\n",
    "]\n",
    "hyperparam_columns = [\n",
    "   col for col in df.columns if \"sub_exp_cfg\" in col\n",
    "]\n",
    "\n",
    "cols_of_interest = experiment_columns + hyperparam_columns\n",
    "\n",
    "sub_df = df[cols_of_interest]\n",
    "sub_df = sub_df[sub_df['epoch_type'] == 'validation']\n",
    "sub_df = sub_df[sub_df['frame_stamp'] == sub_df['frame_stamp'].max()]\n",
    "\n",
    "sub_df \n"
   ]
  },
  {
   "cell_type": "code",
   "execution_count": 31,
   "metadata": {},
   "outputs": [
    {
     "data": {
      "text/html": [
       "<div>\n",
       "<style scoped>\n",
       "    .dataframe tbody tr th:only-of-type {\n",
       "        vertical-align: middle;\n",
       "    }\n",
       "\n",
       "    .dataframe tbody tr th {\n",
       "        vertical-align: top;\n",
       "    }\n",
       "\n",
       "    .dataframe thead th {\n",
       "        text-align: right;\n",
       "    }\n",
       "</style>\n",
       "<table border=\"1\" class=\"dataframe\">\n",
       "  <thead>\n",
       "    <tr style=\"text-align: right;\">\n",
       "      <th></th>\n",
       "      <th>sub_exp_cfg_agent_params.args_.action_w_noise_amplitude</th>\n",
       "      <th>episode_discounted_rewards_mean</th>\n",
       "    </tr>\n",
       "  </thead>\n",
       "  <tbody>\n",
       "    <tr>\n",
       "      <th>0</th>\n",
       "      <td>0</td>\n",
       "      <td>-4.575738</td>\n",
       "    </tr>\n",
       "    <tr>\n",
       "      <th>1</th>\n",
       "      <td>0.1</td>\n",
       "      <td>-4.222961</td>\n",
       "    </tr>\n",
       "    <tr>\n",
       "      <th>2</th>\n",
       "      <td>0.3</td>\n",
       "      <td>-4.244992</td>\n",
       "    </tr>\n",
       "  </tbody>\n",
       "</table>\n",
       "</div>"
      ],
      "text/plain": [
       "  sub_exp_cfg_agent_params.args_.action_w_noise_amplitude  \\\n",
       "0                                                  0        \n",
       "1                                                0.1        \n",
       "2                                                0.3        \n",
       "\n",
       "   episode_discounted_rewards_mean  \n",
       "0                        -4.575738  \n",
       "1                        -4.222961  \n",
       "2                        -4.244992  "
      ]
     },
     "execution_count": 31,
     "metadata": {},
     "output_type": "execute_result"
    }
   ],
   "source": [
    "agg_cols = [col for col in sub_df.columns if \"sub_exp_cfg_agent_params\" in col]\n",
    "aggregated_df = (\n",
    "    sub_df.groupby(agg_cols)\n",
    "    .agg(episode_discounted_rewards_mean=(\"episode_discounted_rewards_mean\", \"mean\"))\n",
    "    .reset_index()\n",
    ")\n",
    "aggregated_df"
   ]
  },
  {
   "cell_type": "code",
   "execution_count": 32,
   "metadata": {},
   "outputs": [
    {
     "data": {
      "text/plain": [
       "Index(['epoch_type', 'frame_stamp', 'episode_rewards_mean',\n",
       "       'episode_frames_mean', 'episode_discounted_rewards_mean',\n",
       "       'policy_trained_times', 'target_trained_times', 'epoch_time', 'seed',\n",
       "       'experiment_name', 'sub_experiment_path', 'sub_exp_cfg_optim.args_.eps',\n",
       "       'sub_exp_cfg_optim.args_.lr',\n",
       "       'sub_exp_cfg_agent_params.args_.action_w_noise_amplitude'],\n",
       "      dtype='object')"
      ]
     },
     "execution_count": 32,
     "metadata": {},
     "output_type": "execute_result"
    }
   ],
   "source": [
    "sub_df.columns"
   ]
  },
  {
   "cell_type": "code",
   "execution_count": 33,
   "metadata": {},
   "outputs": [
    {
     "data": {
      "text/html": [
       "<div>\n",
       "<style scoped>\n",
       "    .dataframe tbody tr th:only-of-type {\n",
       "        vertical-align: middle;\n",
       "    }\n",
       "\n",
       "    .dataframe tbody tr th {\n",
       "        vertical-align: top;\n",
       "    }\n",
       "\n",
       "    .dataframe thead th {\n",
       "        text-align: right;\n",
       "    }\n",
       "</style>\n",
       "<table border=\"1\" class=\"dataframe\">\n",
       "  <thead>\n",
       "    <tr style=\"text-align: right;\">\n",
       "      <th></th>\n",
       "      <th>episode_discounted_rewards_mean</th>\n",
       "      <th>episode_frames_mean</th>\n",
       "      <th>seed</th>\n",
       "      <th>sub_exp_cfg_agent_params.args_.action_w_noise_amplitude</th>\n",
       "    </tr>\n",
       "  </thead>\n",
       "  <tbody>\n",
       "    <tr>\n",
       "      <th>19</th>\n",
       "      <td>-4.082868</td>\n",
       "      <td>20.0</td>\n",
       "      <td>0</td>\n",
       "      <td>0</td>\n",
       "    </tr>\n",
       "    <tr>\n",
       "      <th>39</th>\n",
       "      <td>-4.328680</td>\n",
       "      <td>22.0</td>\n",
       "      <td>1</td>\n",
       "      <td>0</td>\n",
       "    </tr>\n",
       "    <tr>\n",
       "      <th>59</th>\n",
       "      <td>-4.015553</td>\n",
       "      <td>18.0</td>\n",
       "      <td>0</td>\n",
       "      <td>0.1</td>\n",
       "    </tr>\n",
       "    <tr>\n",
       "      <th>79</th>\n",
       "      <td>-4.376575</td>\n",
       "      <td>31.0</td>\n",
       "      <td>1</td>\n",
       "      <td>0.1</td>\n",
       "    </tr>\n",
       "    <tr>\n",
       "      <th>99</th>\n",
       "      <td>-4.450680</td>\n",
       "      <td>34.0</td>\n",
       "      <td>0</td>\n",
       "      <td>0.3</td>\n",
       "    </tr>\n",
       "    <tr>\n",
       "      <th>119</th>\n",
       "      <td>-3.994540</td>\n",
       "      <td>19.0</td>\n",
       "      <td>1</td>\n",
       "      <td>0.3</td>\n",
       "    </tr>\n",
       "    <tr>\n",
       "      <th>139</th>\n",
       "      <td>-6.747869</td>\n",
       "      <td>50.0</td>\n",
       "      <td>0</td>\n",
       "      <td>0</td>\n",
       "    </tr>\n",
       "    <tr>\n",
       "      <th>159</th>\n",
       "      <td>-3.900672</td>\n",
       "      <td>17.0</td>\n",
       "      <td>1</td>\n",
       "      <td>0</td>\n",
       "    </tr>\n",
       "    <tr>\n",
       "      <th>179</th>\n",
       "      <td>-4.049034</td>\n",
       "      <td>19.0</td>\n",
       "      <td>0</td>\n",
       "      <td>0.1</td>\n",
       "    </tr>\n",
       "    <tr>\n",
       "      <th>199</th>\n",
       "      <td>-4.057608</td>\n",
       "      <td>20.0</td>\n",
       "      <td>1</td>\n",
       "      <td>0.1</td>\n",
       "    </tr>\n",
       "    <tr>\n",
       "      <th>219</th>\n",
       "      <td>-3.878265</td>\n",
       "      <td>17.0</td>\n",
       "      <td>0</td>\n",
       "      <td>0.3</td>\n",
       "    </tr>\n",
       "    <tr>\n",
       "      <th>239</th>\n",
       "      <td>-5.155645</td>\n",
       "      <td>45.0</td>\n",
       "      <td>1</td>\n",
       "      <td>0.3</td>\n",
       "    </tr>\n",
       "    <tr>\n",
       "      <th>259</th>\n",
       "      <td>-4.078198</td>\n",
       "      <td>20.0</td>\n",
       "      <td>0</td>\n",
       "      <td>0</td>\n",
       "    </tr>\n",
       "    <tr>\n",
       "      <th>279</th>\n",
       "      <td>-4.068529</td>\n",
       "      <td>21.0</td>\n",
       "      <td>1</td>\n",
       "      <td>0</td>\n",
       "    </tr>\n",
       "    <tr>\n",
       "      <th>299</th>\n",
       "      <td>-4.008003</td>\n",
       "      <td>18.0</td>\n",
       "      <td>0</td>\n",
       "      <td>0.1</td>\n",
       "    </tr>\n",
       "    <tr>\n",
       "      <th>319</th>\n",
       "      <td>-5.450915</td>\n",
       "      <td>49.0</td>\n",
       "      <td>1</td>\n",
       "      <td>0.1</td>\n",
       "    </tr>\n",
       "    <tr>\n",
       "      <th>339</th>\n",
       "      <td>-4.505276</td>\n",
       "      <td>42.0</td>\n",
       "      <td>0</td>\n",
       "      <td>0.3</td>\n",
       "    </tr>\n",
       "    <tr>\n",
       "      <th>359</th>\n",
       "      <td>-4.097482</td>\n",
       "      <td>21.0</td>\n",
       "      <td>1</td>\n",
       "      <td>0.3</td>\n",
       "    </tr>\n",
       "    <tr>\n",
       "      <th>379</th>\n",
       "      <td>-3.927272</td>\n",
       "      <td>18.0</td>\n",
       "      <td>0</td>\n",
       "      <td>0</td>\n",
       "    </tr>\n",
       "    <tr>\n",
       "      <th>399</th>\n",
       "      <td>-5.471818</td>\n",
       "      <td>32.0</td>\n",
       "      <td>1</td>\n",
       "      <td>0</td>\n",
       "    </tr>\n",
       "    <tr>\n",
       "      <th>419</th>\n",
       "      <td>-3.888763</td>\n",
       "      <td>17.0</td>\n",
       "      <td>0</td>\n",
       "      <td>0.1</td>\n",
       "    </tr>\n",
       "    <tr>\n",
       "      <th>439</th>\n",
       "      <td>-3.937238</td>\n",
       "      <td>18.0</td>\n",
       "      <td>1</td>\n",
       "      <td>0.1</td>\n",
       "    </tr>\n",
       "    <tr>\n",
       "      <th>459</th>\n",
       "      <td>-3.930201</td>\n",
       "      <td>18.0</td>\n",
       "      <td>0</td>\n",
       "      <td>0.3</td>\n",
       "    </tr>\n",
       "    <tr>\n",
       "      <th>479</th>\n",
       "      <td>-3.947848</td>\n",
       "      <td>18.0</td>\n",
       "      <td>1</td>\n",
       "      <td>0.3</td>\n",
       "    </tr>\n",
       "  </tbody>\n",
       "</table>\n",
       "</div>"
      ],
      "text/plain": [
       "     episode_discounted_rewards_mean  episode_frames_mean seed  \\\n",
       "19                         -4.082868                 20.0    0   \n",
       "39                         -4.328680                 22.0    1   \n",
       "59                         -4.015553                 18.0    0   \n",
       "79                         -4.376575                 31.0    1   \n",
       "99                         -4.450680                 34.0    0   \n",
       "119                        -3.994540                 19.0    1   \n",
       "139                        -6.747869                 50.0    0   \n",
       "159                        -3.900672                 17.0    1   \n",
       "179                        -4.049034                 19.0    0   \n",
       "199                        -4.057608                 20.0    1   \n",
       "219                        -3.878265                 17.0    0   \n",
       "239                        -5.155645                 45.0    1   \n",
       "259                        -4.078198                 20.0    0   \n",
       "279                        -4.068529                 21.0    1   \n",
       "299                        -4.008003                 18.0    0   \n",
       "319                        -5.450915                 49.0    1   \n",
       "339                        -4.505276                 42.0    0   \n",
       "359                        -4.097482                 21.0    1   \n",
       "379                        -3.927272                 18.0    0   \n",
       "399                        -5.471818                 32.0    1   \n",
       "419                        -3.888763                 17.0    0   \n",
       "439                        -3.937238                 18.0    1   \n",
       "459                        -3.930201                 18.0    0   \n",
       "479                        -3.947848                 18.0    1   \n",
       "\n",
       "    sub_exp_cfg_agent_params.args_.action_w_noise_amplitude  \n",
       "19                                                   0       \n",
       "39                                                   0       \n",
       "59                                                 0.1       \n",
       "79                                                 0.1       \n",
       "99                                                 0.3       \n",
       "119                                                0.3       \n",
       "139                                                  0       \n",
       "159                                                  0       \n",
       "179                                                0.1       \n",
       "199                                                0.1       \n",
       "219                                                0.3       \n",
       "239                                                0.3       \n",
       "259                                                  0       \n",
       "279                                                  0       \n",
       "299                                                0.1       \n",
       "319                                                0.1       \n",
       "339                                                0.3       \n",
       "359                                                0.3       \n",
       "379                                                  0       \n",
       "399                                                  0       \n",
       "419                                                0.1       \n",
       "439                                                0.1       \n",
       "459                                                0.3       \n",
       "479                                                0.3       "
      ]
     },
     "execution_count": 33,
     "metadata": {},
     "output_type": "execute_result"
    }
   ],
   "source": [
    "sub_df[[\n",
    "    \"episode_discounted_rewards_mean\", \"episode_frames_mean\",\n",
    "    \"seed\", \"sub_exp_cfg_agent_params.args_.action_w_noise_amplitude\"]\n",
    "]"
   ]
  },
  {
   "cell_type": "code",
   "execution_count": 34,
   "metadata": {},
   "outputs": [
    {
     "data": {
      "text/html": [
       "<div>\n",
       "<style scoped>\n",
       "    .dataframe tbody tr th:only-of-type {\n",
       "        vertical-align: middle;\n",
       "    }\n",
       "\n",
       "    .dataframe tbody tr th {\n",
       "        vertical-align: top;\n",
       "    }\n",
       "\n",
       "    .dataframe thead th {\n",
       "        text-align: right;\n",
       "    }\n",
       "</style>\n",
       "<table border=\"1\" class=\"dataframe\">\n",
       "  <thead>\n",
       "    <tr style=\"text-align: right;\">\n",
       "      <th></th>\n",
       "      <th>epoch_type</th>\n",
       "      <th>frame_stamp</th>\n",
       "      <th>episode_rewards_mean</th>\n",
       "      <th>episode_frames_mean</th>\n",
       "      <th>episode_discounted_rewards_mean</th>\n",
       "      <th>policy_trained_times</th>\n",
       "      <th>target_trained_times</th>\n",
       "      <th>epoch_time</th>\n",
       "      <th>seed</th>\n",
       "      <th>experiment_name</th>\n",
       "      <th>sub_experiment_path</th>\n",
       "      <th>sub_exp_cfg_optim.args_.eps</th>\n",
       "      <th>sub_exp_cfg_optim.args_.lr</th>\n",
       "      <th>sub_exp_cfg_agent_params.args_.action_w_noise_amplitude</th>\n",
       "    </tr>\n",
       "  </thead>\n",
       "  <tbody>\n",
       "    <tr>\n",
       "      <th>99</th>\n",
       "      <td>validation</td>\n",
       "      <td>2000000</td>\n",
       "      <td>-8.957201</td>\n",
       "      <td>34.0</td>\n",
       "      <td>-4.450680</td>\n",
       "      <td>NaN</td>\n",
       "      <td>NaN</td>\n",
       "      <td>0 days 00:00:00.654776</td>\n",
       "      <td>0</td>\n",
       "      <td>0002_optim.args_.eps_1e-06__optim.args_.lr_1e-...</td>\n",
       "      <td>D:\\Work\\repos\\RL\\phd-rl-algos\\dqn\\opinion_dyna...</td>\n",
       "      <td>1e-06</td>\n",
       "      <td>1e-05</td>\n",
       "      <td>0.3</td>\n",
       "    </tr>\n",
       "    <tr>\n",
       "      <th>119</th>\n",
       "      <td>validation</td>\n",
       "      <td>2000000</td>\n",
       "      <td>-6.018168</td>\n",
       "      <td>19.0</td>\n",
       "      <td>-3.994540</td>\n",
       "      <td>NaN</td>\n",
       "      <td>NaN</td>\n",
       "      <td>0 days 00:00:00.623337</td>\n",
       "      <td>1</td>\n",
       "      <td>0002_optim.args_.eps_1e-06__optim.args_.lr_1e-...</td>\n",
       "      <td>D:\\Work\\repos\\RL\\phd-rl-algos\\dqn\\opinion_dyna...</td>\n",
       "      <td>1e-06</td>\n",
       "      <td>1e-05</td>\n",
       "      <td>0.3</td>\n",
       "    </tr>\n",
       "    <tr>\n",
       "      <th>219</th>\n",
       "      <td>validation</td>\n",
       "      <td>2000000</td>\n",
       "      <td>-5.599445</td>\n",
       "      <td>17.0</td>\n",
       "      <td>-3.878265</td>\n",
       "      <td>NaN</td>\n",
       "      <td>NaN</td>\n",
       "      <td>0 days 00:00:00.699416</td>\n",
       "      <td>0</td>\n",
       "      <td>0005_optim.args_.eps_1e-06__optim.args_.lr_0.0...</td>\n",
       "      <td>D:\\Work\\repos\\RL\\phd-rl-algos\\dqn\\opinion_dyna...</td>\n",
       "      <td>1e-06</td>\n",
       "      <td>0.0001</td>\n",
       "      <td>0.3</td>\n",
       "    </tr>\n",
       "    <tr>\n",
       "      <th>239</th>\n",
       "      <td>validation</td>\n",
       "      <td>2000000</td>\n",
       "      <td>-12.589797</td>\n",
       "      <td>45.0</td>\n",
       "      <td>-5.155645</td>\n",
       "      <td>NaN</td>\n",
       "      <td>NaN</td>\n",
       "      <td>0 days 00:00:00.698679</td>\n",
       "      <td>1</td>\n",
       "      <td>0005_optim.args_.eps_1e-06__optim.args_.lr_0.0...</td>\n",
       "      <td>D:\\Work\\repos\\RL\\phd-rl-algos\\dqn\\opinion_dyna...</td>\n",
       "      <td>1e-06</td>\n",
       "      <td>0.0001</td>\n",
       "      <td>0.3</td>\n",
       "    </tr>\n",
       "    <tr>\n",
       "      <th>339</th>\n",
       "      <td>validation</td>\n",
       "      <td>2000000</td>\n",
       "      <td>-10.314253</td>\n",
       "      <td>42.0</td>\n",
       "      <td>-4.505276</td>\n",
       "      <td>NaN</td>\n",
       "      <td>NaN</td>\n",
       "      <td>0 days 00:00:00.541490</td>\n",
       "      <td>0</td>\n",
       "      <td>0008_optim.args_.eps_1e-05__optim.args_.lr_1e-...</td>\n",
       "      <td>D:\\Work\\repos\\RL\\phd-rl-algos\\dqn\\opinion_dyna...</td>\n",
       "      <td>1e-05</td>\n",
       "      <td>1e-05</td>\n",
       "      <td>0.3</td>\n",
       "    </tr>\n",
       "    <tr>\n",
       "      <th>359</th>\n",
       "      <td>validation</td>\n",
       "      <td>2000000</td>\n",
       "      <td>-6.424802</td>\n",
       "      <td>21.0</td>\n",
       "      <td>-4.097482</td>\n",
       "      <td>NaN</td>\n",
       "      <td>NaN</td>\n",
       "      <td>0 days 00:00:00.520465</td>\n",
       "      <td>1</td>\n",
       "      <td>0008_optim.args_.eps_1e-05__optim.args_.lr_1e-...</td>\n",
       "      <td>D:\\Work\\repos\\RL\\phd-rl-algos\\dqn\\opinion_dyna...</td>\n",
       "      <td>1e-05</td>\n",
       "      <td>1e-05</td>\n",
       "      <td>0.3</td>\n",
       "    </tr>\n",
       "    <tr>\n",
       "      <th>459</th>\n",
       "      <td>validation</td>\n",
       "      <td>2000000</td>\n",
       "      <td>-5.779121</td>\n",
       "      <td>18.0</td>\n",
       "      <td>-3.930201</td>\n",
       "      <td>NaN</td>\n",
       "      <td>NaN</td>\n",
       "      <td>0 days 00:00:00.531142</td>\n",
       "      <td>0</td>\n",
       "      <td>0011_optim.args_.eps_1e-05__optim.args_.lr_0.0...</td>\n",
       "      <td>D:\\Work\\repos\\RL\\phd-rl-algos\\dqn\\opinion_dyna...</td>\n",
       "      <td>1e-05</td>\n",
       "      <td>0.0001</td>\n",
       "      <td>0.3</td>\n",
       "    </tr>\n",
       "    <tr>\n",
       "      <th>479</th>\n",
       "      <td>validation</td>\n",
       "      <td>2000000</td>\n",
       "      <td>-5.831029</td>\n",
       "      <td>18.0</td>\n",
       "      <td>-3.947848</td>\n",
       "      <td>NaN</td>\n",
       "      <td>NaN</td>\n",
       "      <td>0 days 00:00:00.373647</td>\n",
       "      <td>1</td>\n",
       "      <td>0011_optim.args_.eps_1e-05__optim.args_.lr_0.0...</td>\n",
       "      <td>D:\\Work\\repos\\RL\\phd-rl-algos\\dqn\\opinion_dyna...</td>\n",
       "      <td>1e-05</td>\n",
       "      <td>0.0001</td>\n",
       "      <td>0.3</td>\n",
       "    </tr>\n",
       "  </tbody>\n",
       "</table>\n",
       "</div>"
      ],
      "text/plain": [
       "     epoch_type  frame_stamp  episode_rewards_mean  episode_frames_mean  \\\n",
       "99   validation      2000000             -8.957201                 34.0   \n",
       "119  validation      2000000             -6.018168                 19.0   \n",
       "219  validation      2000000             -5.599445                 17.0   \n",
       "239  validation      2000000            -12.589797                 45.0   \n",
       "339  validation      2000000            -10.314253                 42.0   \n",
       "359  validation      2000000             -6.424802                 21.0   \n",
       "459  validation      2000000             -5.779121                 18.0   \n",
       "479  validation      2000000             -5.831029                 18.0   \n",
       "\n",
       "     episode_discounted_rewards_mean  policy_trained_times  \\\n",
       "99                         -4.450680                   NaN   \n",
       "119                        -3.994540                   NaN   \n",
       "219                        -3.878265                   NaN   \n",
       "239                        -5.155645                   NaN   \n",
       "339                        -4.505276                   NaN   \n",
       "359                        -4.097482                   NaN   \n",
       "459                        -3.930201                   NaN   \n",
       "479                        -3.947848                   NaN   \n",
       "\n",
       "     target_trained_times             epoch_time seed  \\\n",
       "99                    NaN 0 days 00:00:00.654776    0   \n",
       "119                   NaN 0 days 00:00:00.623337    1   \n",
       "219                   NaN 0 days 00:00:00.699416    0   \n",
       "239                   NaN 0 days 00:00:00.698679    1   \n",
       "339                   NaN 0 days 00:00:00.541490    0   \n",
       "359                   NaN 0 days 00:00:00.520465    1   \n",
       "459                   NaN 0 days 00:00:00.531142    0   \n",
       "479                   NaN 0 days 00:00:00.373647    1   \n",
       "\n",
       "                                       experiment_name  \\\n",
       "99   0002_optim.args_.eps_1e-06__optim.args_.lr_1e-...   \n",
       "119  0002_optim.args_.eps_1e-06__optim.args_.lr_1e-...   \n",
       "219  0005_optim.args_.eps_1e-06__optim.args_.lr_0.0...   \n",
       "239  0005_optim.args_.eps_1e-06__optim.args_.lr_0.0...   \n",
       "339  0008_optim.args_.eps_1e-05__optim.args_.lr_1e-...   \n",
       "359  0008_optim.args_.eps_1e-05__optim.args_.lr_1e-...   \n",
       "459  0011_optim.args_.eps_1e-05__optim.args_.lr_0.0...   \n",
       "479  0011_optim.args_.eps_1e-05__optim.args_.lr_0.0...   \n",
       "\n",
       "                                   sub_experiment_path  \\\n",
       "99   D:\\Work\\repos\\RL\\phd-rl-algos\\dqn\\opinion_dyna...   \n",
       "119  D:\\Work\\repos\\RL\\phd-rl-algos\\dqn\\opinion_dyna...   \n",
       "219  D:\\Work\\repos\\RL\\phd-rl-algos\\dqn\\opinion_dyna...   \n",
       "239  D:\\Work\\repos\\RL\\phd-rl-algos\\dqn\\opinion_dyna...   \n",
       "339  D:\\Work\\repos\\RL\\phd-rl-algos\\dqn\\opinion_dyna...   \n",
       "359  D:\\Work\\repos\\RL\\phd-rl-algos\\dqn\\opinion_dyna...   \n",
       "459  D:\\Work\\repos\\RL\\phd-rl-algos\\dqn\\opinion_dyna...   \n",
       "479  D:\\Work\\repos\\RL\\phd-rl-algos\\dqn\\opinion_dyna...   \n",
       "\n",
       "    sub_exp_cfg_optim.args_.eps sub_exp_cfg_optim.args_.lr  \\\n",
       "99                        1e-06                      1e-05   \n",
       "119                       1e-06                      1e-05   \n",
       "219                       1e-06                     0.0001   \n",
       "239                       1e-06                     0.0001   \n",
       "339                       1e-05                      1e-05   \n",
       "359                       1e-05                      1e-05   \n",
       "459                       1e-05                     0.0001   \n",
       "479                       1e-05                     0.0001   \n",
       "\n",
       "    sub_exp_cfg_agent_params.args_.action_w_noise_amplitude  \n",
       "99                                                 0.3       \n",
       "119                                                0.3       \n",
       "219                                                0.3       \n",
       "239                                                0.3       \n",
       "339                                                0.3       \n",
       "359                                                0.3       \n",
       "459                                                0.3       \n",
       "479                                                0.3       "
      ]
     },
     "execution_count": 34,
     "metadata": {},
     "output_type": "execute_result"
    }
   ],
   "source": [
    "sub_df[\n",
    "    (sub_df[\"sub_exp_cfg_agent_params.args_.action_w_noise_amplitude\"] == \"0.3\") \n",
    "]"
   ]
  },
  {
   "cell_type": "code",
   "execution_count": 35,
   "metadata": {},
   "outputs": [
    {
     "name": "stdout",
     "output_type": "stream",
     "text": [
      "D:\\Work\\repos\\RL\\phd-rl-algos\\dqn\\opinion_dynamics\\experiments\\results\\2025Apr29-212301_configs\\0005_optim.args_.eps_1e-06__optim.args_.lr_0.0001__agent_params.args_.action_w_noise_amplitude_0.3\\0\n"
     ]
    }
   ],
   "source": [
    "# Print the experiment_name of the row with the highest episode_rewards_mean \n",
    "print(sub_df[sub_df['episode_rewards_mean'] == sub_df['episode_rewards_mean'].max()]['sub_experiment_path'].values[0])\n",
    "# print(sub_df[sub_df['episode_rewards_mean'] == sub_df['episode_rewards_mean'].max()]['experiment_name'].values[0])\n",
    "# print(sub_df[sub_df['episode_rewards_mean'] == sub_df['episode_rewards_mean'].max()]['episode_rewards_mean'].values[0])\n"
   ]
  },
  {
   "cell_type": "code",
   "execution_count": 36,
   "metadata": {},
   "outputs": [
    {
     "data": {
      "image/png": "[encoded data removed]",
      "text/plain": [
       "<Figure size 800x270 with 2 Axes>"
      ]
     },
     "metadata": {},
     "output_type": "display_data"
    }
   ],
   "source": [
    "import shap\n",
    "import xgboost\n",
    "import pandas as pd\n",
    "\n",
    "\n",
    "# Define the target metric and hyperparameter columns\n",
    "target_metric = \"episode_rewards_mean\"  # Replace with actual metric column name\n",
    "# Replace with actual hyperparameter column names\n",
    "\n",
    "# Prepare data\n",
    "X = sub_df[hyperparam_columns].apply(pd.to_numeric, errors='coerce')\n",
    "y = sub_df[target_metric].fillna(3 * sub_df[target_metric].min())\n",
    "\n",
    "# Train an XGBoost model to analyze feature importance\n",
    "model = xgboost.XGBRegressor(objective=\"reg:squarederror\", n_estimators=100, random_state=42)\n",
    "model.fit(X, y)\n",
    "\n",
    "# SHAP analysis\n",
    "explainer = shap.Explainer(model)\n",
    "shap_values = explainer(X)\n",
    "\n",
    "# Summary plot (feature importance)\n",
    "shap.summary_plot(shap_values, X)"
   ]
  },
  {
   "cell_type": "code",
   "execution_count": 37,
   "metadata": {},
   "outputs": [
    {
     "data": {
      "text/plain": [
       "['sub_exp_cfg_optim.args_.eps',\n",
       " 'sub_exp_cfg_optim.args_.lr',\n",
       " 'sub_exp_cfg_agent_params.args_.action_w_noise_amplitude']"
      ]
     },
     "execution_count": 37,
     "metadata": {},
     "output_type": "execute_result"
    }
   ],
   "source": [
    "hyperparam_columns"
   ]
  },
  {
   "cell_type": "code",
   "execution_count": 38,
   "metadata": {},
   "outputs": [
    {
     "data": {
      "application/vnd.plotly.v1+json": {
       "config": {
        "plotlyServerURL": "https://plot.ly"
       },
       "data": [
        {
         "hovertemplate": "experiment_name=0000_optim.args_.eps_1e-06__optim.args_.lr_1e-05__agent_params.args_.action_w_noise_amplitude_0<br>size=1e-05<br>noise=%{x}<br>episode_rewards_mean=%{y}<extra></extra>",
         "legendgroup": "0000_optim.args_.eps_1e-06__optim.args_.lr_1e-05__agent_params.args_.action_w_noise_amplitude_0",
         "marker": {
          "color": "#636efa",
          "symbol": "circle"
         },
         "mode": "markers",
         "name": "0000_optim.args_.eps_1e-06__optim.args_.lr_1e-05__agent_params.args_.action_w_noise_amplitude_0",
         "orientation": "v",
         "showlegend": true,
         "type": "scatter",
         "x": [
          "1e-06",
          "1e-06"
         ],
         "xaxis": "x",
         "y": [
          -6.3103665333463335,
          -7.082287194905824
         ],
         "yaxis": "y"
        },
        {
         "hovertemplate": "experiment_name=0001_optim.args_.eps_1e-06__optim.args_.lr_1e-05__agent_params.args_.action_w_noise_amplitude_0.1<br>size=1e-05<br>noise=%{x}<br>episode_rewards_mean=%{y}<extra></extra>",
         "legendgroup": "0001_optim.args_.eps_1e-06__optim.args_.lr_1e-05__agent_params.args_.action_w_noise_amplitude_0.1",
         "marker": {
          "color": "#EF553B",
          "symbol": "circle"
         },
         "mode": "markers",
         "name": "0001_optim.args_.eps_1e-06__optim.args_.lr_1e-05__agent_params.args_.action_w_noise_amplitude_0.1",
         "orientation": "v",
         "showlegend": true,
         "type": "scatter",
         "x": [
          "1e-06",
          "1e-06"
         ],
         "xaxis": "x",
         "y": [
          -5.983139542456915,
          -8.317316619384393
         ],
         "yaxis": "y"
        },
        {
         "hovertemplate": "experiment_name=0002_optim.args_.eps_1e-06__optim.args_.lr_1e-05__agent_params.args_.action_w_noise_amplitude_0.3<br>size=1e-05<br>noise=%{x}<br>episode_rewards_mean=%{y}<extra></extra>",
         "legendgroup": "0002_optim.args_.eps_1e-06__optim.args_.lr_1e-05__agent_params.args_.action_w_noise_amplitude_0.3",
         "marker": {
          "color": "#00cc96",
          "symbol": "circle"
         },
         "mode": "markers",
         "name": "0002_optim.args_.eps_1e-06__optim.args_.lr_1e-05__agent_params.args_.action_w_noise_amplitude_0.3",
         "orientation": "v",
         "showlegend": true,
         "type": "scatter",
         "x": [
          "1e-06",
          "1e-06"
         ],
         "xaxis": "x",
         "y": [
          -8.957200651133594,
          -6.018168048746324
         ],
         "yaxis": "y"
        },
        {
         "hovertemplate": "experiment_name=0003_optim.args_.eps_1e-06__optim.args_.lr_0.0001__agent_params.args_.action_w_noise_amplitude_0<br>size=0.0001<br>noise=%{x}<br>episode_rewards_mean=%{y}<extra></extra>",
         "legendgroup": "0003_optim.args_.eps_1e-06__optim.args_.lr_0.0001__agent_params.args_.action_w_noise_amplitude_0",
         "marker": {
          "color": "#ab63fa",
          "symbol": "circle"
         },
         "mode": "markers",
         "name": "0003_optim.args_.eps_1e-06__optim.args_.lr_0.0001__agent_params.args_.action_w_noise_amplitude_0",
         "orientation": "v",
         "showlegend": true,
         "type": "scatter",
         "x": [
          "1e-06",
          "1e-06"
         ],
         "xaxis": "x2",
         "y": [
          -26.99222254814959,
          -5.6536650791385865
         ],
         "yaxis": "y2"
        },
        {
         "hovertemplate": "experiment_name=0004_optim.args_.eps_1e-06__optim.args_.lr_0.0001__agent_params.args_.action_w_noise_amplitude_0.1<br>size=0.0001<br>noise=%{x}<br>episode_rewards_mean=%{y}<extra></extra>",
         "legendgroup": "0004_optim.args_.eps_1e-06__optim.args_.lr_0.0001__agent_params.args_.action_w_noise_amplitude_0.1",
         "marker": {
          "color": "#FFA15A",
          "symbol": "circle"
         },
         "mode": "markers",
         "name": "0004_optim.args_.eps_1e-06__optim.args_.lr_0.0001__agent_params.args_.action_w_noise_amplitude_0.1",
         "orientation": "v",
         "showlegend": true,
         "type": "scatter",
         "x": [
          "1e-06",
          "1e-06"
         ],
         "xaxis": "x2",
         "y": [
          -6.115142856047955,
          -6.2239686675382675
         ],
         "yaxis": "y2"
        },
        {
         "hovertemplate": "experiment_name=0005_optim.args_.eps_1e-06__optim.args_.lr_0.0001__agent_params.args_.action_w_noise_amplitude_0.3<br>size=0.0001<br>noise=%{x}<br>episode_rewards_mean=%{y}<extra></extra>",
         "legendgroup": "0005_optim.args_.eps_1e-06__optim.args_.lr_0.0001__agent_params.args_.action_w_noise_amplitude_0.3",
         "marker": {
          "color": "#19d3f3",
          "symbol": "circle"
         },
         "mode": "markers",
         "name": "0005_optim.args_.eps_1e-06__optim.args_.lr_0.0001__agent_params.args_.action_w_noise_amplitude_0.3",
         "orientation": "v",
         "showlegend": true,
         "type": "scatter",
         "x": [
          "1e-06",
          "1e-06"
         ],
         "xaxis": "x2",
         "y": [
          -5.599444853925279,
          -12.589796768002966
         ],
         "yaxis": "y2"
        },
        {
         "hovertemplate": "experiment_name=0006_optim.args_.eps_1e-05__optim.args_.lr_1e-05__agent_params.args_.action_w_noise_amplitude_0<br>size=1e-05<br>noise=%{x}<br>episode_rewards_mean=%{y}<extra></extra>",
         "legendgroup": "0006_optim.args_.eps_1e-05__optim.args_.lr_1e-05__agent_params.args_.action_w_noise_amplitude_0",
         "marker": {
          "color": "#FF6692",
          "symbol": "circle"
         },
         "mode": "markers",
         "name": "0006_optim.args_.eps_1e-05__optim.args_.lr_1e-05__agent_params.args_.action_w_noise_amplitude_0",
         "orientation": "v",
         "showlegend": true,
         "type": "scatter",
         "x": [
          "1e-05",
          "1e-05"
         ],
         "xaxis": "x",
         "y": [
          -6.292858712345472,
          -6.3580257785839605
         ],
         "yaxis": "y"
        },
        {
         "hovertemplate": "experiment_name=0007_optim.args_.eps_1e-05__optim.args_.lr_1e-05__agent_params.args_.action_w_noise_amplitude_0.1<br>size=1e-05<br>noise=%{x}<br>episode_rewards_mean=%{y}<extra></extra>",
         "legendgroup": "0007_optim.args_.eps_1e-05__optim.args_.lr_1e-05__agent_params.args_.action_w_noise_amplitude_0.1",
         "marker": {
          "color": "#B6E880",
          "symbol": "circle"
         },
         "mode": "markers",
         "name": "0007_optim.args_.eps_1e-05__optim.args_.lr_1e-05__agent_params.args_.action_w_noise_amplitude_0.1",
         "orientation": "v",
         "showlegend": true,
         "type": "scatter",
         "x": [
          "1e-05",
          "1e-05"
         ],
         "xaxis": "x",
         "y": [
          -5.959683328317112,
          -14.903678623343708
         ],
         "yaxis": "y"
        },
        {
         "hovertemplate": "experiment_name=0008_optim.args_.eps_1e-05__optim.args_.lr_1e-05__agent_params.args_.action_w_noise_amplitude_0.3<br>size=1e-05<br>noise=%{x}<br>episode_rewards_mean=%{y}<extra></extra>",
         "legendgroup": "0008_optim.args_.eps_1e-05__optim.args_.lr_1e-05__agent_params.args_.action_w_noise_amplitude_0.3",
         "marker": {
          "color": "#FF97FF",
          "symbol": "circle"
         },
         "mode": "markers",
         "name": "0008_optim.args_.eps_1e-05__optim.args_.lr_1e-05__agent_params.args_.action_w_noise_amplitude_0.3",
         "orientation": "v",
         "showlegend": true,
         "type": "scatter",
         "x": [
          "1e-05",
          "1e-05"
         ],
         "xaxis": "x",
         "y": [
          -10.314253106581985,
          -6.424801765772081
         ],
         "yaxis": "y"
        },
        {
         "hovertemplate": "experiment_name=0009_optim.args_.eps_1e-05__optim.args_.lr_0.0001__agent_params.args_.action_w_noise_amplitude_0<br>size=0.0001<br>noise=%{x}<br>episode_rewards_mean=%{y}<extra></extra>",
         "legendgroup": "0009_optim.args_.eps_1e-05__optim.args_.lr_0.0001__agent_params.args_.action_w_noise_amplitude_0",
         "marker": {
          "color": "#FECB52",
          "symbol": "circle"
         },
         "mode": "markers",
         "name": "0009_optim.args_.eps_1e-05__optim.args_.lr_0.0001__agent_params.args_.action_w_noise_amplitude_0",
         "orientation": "v",
         "showlegend": true,
         "type": "scatter",
         "x": [
          "1e-05",
          "1e-05"
         ],
         "xaxis": "x2",
         "y": [
          -5.774942325258466,
          -11.10946119663871
         ],
         "yaxis": "y2"
        },
        {
         "hovertemplate": "experiment_name=0010_optim.args_.eps_1e-05__optim.args_.lr_0.0001__agent_params.args_.action_w_noise_amplitude_0.1<br>size=0.0001<br>noise=%{x}<br>episode_rewards_mean=%{y}<extra></extra>",
         "legendgroup": "0010_optim.args_.eps_1e-05__optim.args_.lr_0.0001__agent_params.args_.action_w_noise_amplitude_0.1",
         "marker": {
          "color": "#636efa",
          "symbol": "circle"
         },
         "mode": "markers",
         "name": "0010_optim.args_.eps_1e-05__optim.args_.lr_0.0001__agent_params.args_.action_w_noise_amplitude_0.1",
         "orientation": "v",
         "showlegend": true,
         "type": "scatter",
         "x": [
          "1e-05",
          "1e-05"
         ],
         "xaxis": "x2",
         "y": [
          -5.619834887563329,
          -5.790419816667182
         ],
         "yaxis": "y2"
        },
        {
         "hovertemplate": "experiment_name=0011_optim.args_.eps_1e-05__optim.args_.lr_0.0001__agent_params.args_.action_w_noise_amplitude_0.3<br>size=0.0001<br>noise=%{x}<br>episode_rewards_mean=%{y}<extra></extra>",
         "legendgroup": "0011_optim.args_.eps_1e-05__optim.args_.lr_0.0001__agent_params.args_.action_w_noise_amplitude_0.3",
         "marker": {
          "color": "#EF553B",
          "symbol": "circle"
         },
         "mode": "markers",
         "name": "0011_optim.args_.eps_1e-05__optim.args_.lr_0.0001__agent_params.args_.action_w_noise_amplitude_0.3",
         "orientation": "v",
         "showlegend": true,
         "type": "scatter",
         "x": [
          "1e-05",
          "1e-05"
         ],
         "xaxis": "x2",
         "y": [
          -5.779120556769314,
          -5.831028537760392
         ],
         "yaxis": "y2"
        }
       ],
       "layout": {
        "annotations": [
         {
          "font": {},
          "showarrow": false,
          "text": "size=1e-05",
          "x": 0.245,
          "xanchor": "center",
          "xref": "paper",
          "y": 1,
          "yanchor": "bottom",
          "yref": "paper"
         },
         {
          "font": {},
          "showarrow": false,
          "text": "size=0.0001",
          "x": 0.755,
          "xanchor": "center",
          "xref": "paper",
          "y": 1,
          "yanchor": "bottom",
          "yref": "paper"
         }
        ],
        "height": 600,
        "legend": {
         "title": {
          "text": "experiment_name"
         },
         "tracegroupgap": 0
        },
        "showlegend": false,
        "template": {
         "data": {
          "bar": [
           {
            "error_x": {
             "color": "#2a3f5f"
            },
            "error_y": {
             "color": "#2a3f5f"
            },
            "marker": {
             "line": {
              "color": "#E5ECF6",
              "width": 0.5
             },
             "pattern": {
              "fillmode": "overlay",
              "size": 10,
              "solidity": 0.2
             }
            },
            "type": "bar"
           }
          ],
          "barpolar": [
           {
            "marker": {
             "line": {
              "color": "#E5ECF6",
              "width": 0.5
             },
             "pattern": {
              "fillmode": "overlay",
              "size": 10,
              "solidity": 0.2
             }
            },
            "type": "barpolar"
           }
          ],
          "carpet": [
           {
            "aaxis": {
             "endlinecolor": "#2a3f5f",
             "gridcolor": "white",
             "linecolor": "white",
             "minorgridcolor": "white",
             "startlinecolor": "#2a3f5f"
            },
            "baxis": {
             "endlinecolor": "#2a3f5f",
             "gridcolor": "white",
             "linecolor": "white",
             "minorgridcolor": "white",
             "startlinecolor": "#2a3f5f"
            },
            "type": "carpet"
           }
          ],
          "choropleth": [
           {
            "colorbar": {
             "outlinewidth": 0,
             "ticks": ""
            },
            "type": "choropleth"
           }
          ],
          "contour": [
           {
            "colorbar": {
             "outlinewidth": 0,
             "ticks": ""
            },
            "colorscale": [
             [
              0,
              "#0d0887"
             ],
             [
              0.1111111111111111,
              "#46039f"
             ],
             [
              0.2222222222222222,
              "#7201a8"
             ],
             [
              0.3333333333333333,
              "#9c179e"
             ],
             [
              0.4444444444444444,
              "#bd3786"
             ],
             [
              0.5555555555555556,
              "#d8576b"
             ],
             [
              0.6666666666666666,
              "#ed7953"
             ],
             [
              0.7777777777777778,
              "#fb9f3a"
             ],
             [
              0.8888888888888888,
              "#fdca26"
             ],
             [
              1,
              "#f0f921"
             ]
            ],
            "type": "contour"
           }
          ],
          "contourcarpet": [
           {
            "colorbar": {
             "outlinewidth": 0,
             "ticks": ""
            },
            "type": "contourcarpet"
           }
          ],
          "heatmap": [
           {
            "colorbar": {
             "outlinewidth": 0,
             "ticks": ""
            },
            "colorscale": [
             [
              0,
              "#0d0887"
             ],
             [
              0.1111111111111111,
              "#46039f"
             ],
             [
              0.2222222222222222,
              "#7201a8"
             ],
             [
              0.3333333333333333,
              "#9c179e"
             ],
             [
              0.4444444444444444,
              "#bd3786"
             ],
             [
              0.5555555555555556,
              "#d8576b"
             ],
             [
              0.6666666666666666,
              "#ed7953"
             ],
             [
              0.7777777777777778,
              "#fb9f3a"
             ],
             [
              0.8888888888888888,
              "#fdca26"
             ],
             [
              1,
              "#f0f921"
             ]
            ],
            "type": "heatmap"
           }
          ],
          "heatmapgl": [
           {
            "colorbar": {
             "outlinewidth": 0,
             "ticks": ""
            },
            "colorscale": [
             [
              0,
              "#0d0887"
             ],
             [
              0.1111111111111111,
              "#46039f"
             ],
             [
              0.2222222222222222,
              "#7201a8"
             ],
             [
              0.3333333333333333,
              "#9c179e"
             ],
             [
              0.4444444444444444,
              "#bd3786"
             ],
             [
              0.5555555555555556,
              "#d8576b"
             ],
             [
              0.6666666666666666,
              "#ed7953"
             ],
             [
              0.7777777777777778,
              "#fb9f3a"
             ],
             [
              0.8888888888888888,
              "#fdca26"
             ],
             [
              1,
              "#f0f921"
             ]
            ],
            "type": "heatmapgl"
           }
          ],
          "histogram": [
           {
            "marker": {
             "pattern": {
              "fillmode": "overlay",
              "size": 10,
              "solidity": 0.2
             }
            },
            "type": "histogram"
           }
          ],
          "histogram2d": [
           {
            "colorbar": {
             "outlinewidth": 0,
             "ticks": ""
            },
            "colorscale": [
             [
              0,
              "#0d0887"
             ],
             [
              0.1111111111111111,
              "#46039f"
             ],
             [
              0.2222222222222222,
              "#7201a8"
             ],
             [
              0.3333333333333333,
              "#9c179e"
             ],
             [
              0.4444444444444444,
              "#bd3786"
             ],
             [
              0.5555555555555556,
              "#d8576b"
             ],
             [
              0.6666666666666666,
              "#ed7953"
             ],
             [
              0.7777777777777778,
              "#fb9f3a"
             ],
             [
              0.8888888888888888,
              "#fdca26"
             ],
             [
              1,
              "#f0f921"
             ]
            ],
            "type": "histogram2d"
           }
          ],
          "histogram2dcontour": [
           {
            "colorbar": {
             "outlinewidth": 0,
             "ticks": ""
            },
            "colorscale": [
             [
              0,
              "#0d0887"
             ],
             [
              0.1111111111111111,
              "#46039f"
             ],
             [
              0.2222222222222222,
              "#7201a8"
             ],
             [
              0.3333333333333333,
              "#9c179e"
             ],
             [
              0.4444444444444444,
              "#bd3786"
             ],
             [
              0.5555555555555556,
              "#d8576b"
             ],
             [
              0.6666666666666666,
              "#ed7953"
             ],
             [
              0.7777777777777778,
              "#fb9f3a"
             ],
             [
              0.8888888888888888,
              "#fdca26"
             ],
             [
              1,
              "#f0f921"
             ]
            ],
            "type": "histogram2dcontour"
           }
          ],
          "mesh3d": [
           {
            "colorbar": {
             "outlinewidth": 0,
             "ticks": ""
            },
            "type": "mesh3d"
           }
          ],
          "parcoords": [
           {
            "line": {
             "colorbar": {
              "outlinewidth": 0,
              "ticks": ""
             }
            },
            "type": "parcoords"
           }
          ],
          "pie": [
           {
            "automargin": true,
            "type": "pie"
           }
          ],
          "scatter": [
           {
            "fillpattern": {
             "fillmode": "overlay",
             "size": 10,
             "solidity": 0.2
            },
            "type": "scatter"
           }
          ],
          "scatter3d": [
           {
            "line": {
             "colorbar": {
              "outlinewidth": 0,
              "ticks": ""
             }
            },
            "marker": {
             "colorbar": {
              "outlinewidth": 0,
              "ticks": ""
             }
            },
            "type": "scatter3d"
           }
          ],
          "scattercarpet": [
           {
            "marker": {
             "colorbar": {
              "outlinewidth": 0,
              "ticks": ""
             }
            },
            "type": "scattercarpet"
           }
          ],
          "scattergeo": [
           {
            "marker": {
             "colorbar": {
              "outlinewidth": 0,
              "ticks": ""
             }
            },
            "type": "scattergeo"
           }
          ],
          "scattergl": [
           {
            "marker": {
             "colorbar": {
              "outlinewidth": 0,
              "ticks": ""
             }
            },
            "type": "scattergl"
           }
          ],
          "scattermapbox": [
           {
            "marker": {
             "colorbar": {
              "outlinewidth": 0,
              "ticks": ""
             }
            },
            "type": "scattermapbox"
           }
          ],
          "scatterpolar": [
           {
            "marker": {
             "colorbar": {
              "outlinewidth": 0,
              "ticks": ""
             }
            },
            "type": "scatterpolar"
           }
          ],
          "scatterpolargl": [
           {
            "marker": {
             "colorbar": {
              "outlinewidth": 0,
              "ticks": ""
             }
            },
            "type": "scatterpolargl"
           }
          ],
          "scatterternary": [
           {
            "marker": {
             "colorbar": {
              "outlinewidth": 0,
              "ticks": ""
             }
            },
            "type": "scatterternary"
           }
          ],
          "surface": [
           {
            "colorbar": {
             "outlinewidth": 0,
             "ticks": ""
            },
            "colorscale": [
             [
              0,
              "#0d0887"
             ],
             [
              0.1111111111111111,
              "#46039f"
             ],
             [
              0.2222222222222222,
              "#7201a8"
             ],
             [
              0.3333333333333333,
              "#9c179e"
             ],
             [
              0.4444444444444444,
              "#bd3786"
             ],
             [
              0.5555555555555556,
              "#d8576b"
             ],
             [
              0.6666666666666666,
              "#ed7953"
             ],
             [
              0.7777777777777778,
              "#fb9f3a"
             ],
             [
              0.8888888888888888,
              "#fdca26"
             ],
             [
              1,
              "#f0f921"
             ]
            ],
            "type": "surface"
           }
          ],
          "table": [
           {
            "cells": {
             "fill": {
              "color": "#EBF0F8"
             },
             "line": {
              "color": "white"
             }
            },
            "header": {
             "fill": {
              "color": "#C8D4E3"
             },
             "line": {
              "color": "white"
             }
            },
            "type": "table"
           }
          ]
         },
         "layout": {
          "annotationdefaults": {
           "arrowcolor": "#2a3f5f",
           "arrowhead": 0,
           "arrowwidth": 1
          },
          "autotypenumbers": "strict",
          "coloraxis": {
           "colorbar": {
            "outlinewidth": 0,
            "ticks": ""
           }
          },
          "colorscale": {
           "diverging": [
            [
             0,
             "#8e0152"
            ],
            [
             0.1,
             "#c51b7d"
            ],
            [
             0.2,
             "#de77ae"
            ],
            [
             0.3,
             "#f1b6da"
            ],
            [
             0.4,
             "#fde0ef"
            ],
            [
             0.5,
             "#f7f7f7"
            ],
            [
             0.6,
             "#e6f5d0"
            ],
            [
             0.7,
             "#b8e186"
            ],
            [
             0.8,
             "#7fbc41"
            ],
            [
             0.9,
             "#4d9221"
            ],
            [
             1,
             "#276419"
            ]
           ],
           "sequential": [
            [
             0,
             "#0d0887"
            ],
            [
             0.1111111111111111,
             "#46039f"
            ],
            [
             0.2222222222222222,
             "#7201a8"
            ],
            [
             0.3333333333333333,
             "#9c179e"
            ],
            [
             0.4444444444444444,
             "#bd3786"
            ],
            [
             0.5555555555555556,
             "#d8576b"
            ],
            [
             0.6666666666666666,
             "#ed7953"
            ],
            [
             0.7777777777777778,
             "#fb9f3a"
            ],
            [
             0.8888888888888888,
             "#fdca26"
            ],
            [
             1,
             "#f0f921"
            ]
           ],
           "sequentialminus": [
            [
             0,
             "#0d0887"
            ],
            [
             0.1111111111111111,
             "#46039f"
            ],
            [
             0.2222222222222222,
             "#7201a8"
            ],
            [
             0.3333333333333333,
             "#9c179e"
            ],
            [
             0.4444444444444444,
             "#bd3786"
            ],
            [
             0.5555555555555556,
             "#d8576b"
            ],
            [
             0.6666666666666666,
             "#ed7953"
            ],
            [
             0.7777777777777778,
             "#fb9f3a"
            ],
            [
             0.8888888888888888,
             "#fdca26"
            ],
            [
             1,
             "#f0f921"
            ]
           ]
          },
          "colorway": [
           "#636efa",
           "#EF553B",
           "#00cc96",
           "#ab63fa",
           "#FFA15A",
           "#19d3f3",
           "#FF6692",
           "#B6E880",
           "#FF97FF",
           "#FECB52"
          ],
          "font": {
           "color": "#2a3f5f"
          },
          "geo": {
           "bgcolor": "white",
           "lakecolor": "white",
           "landcolor": "#E5ECF6",
           "showlakes": true,
           "showland": true,
           "subunitcolor": "white"
          },
          "hoverlabel": {
           "align": "left"
          },
          "hovermode": "closest",
          "mapbox": {
           "style": "light"
          },
          "paper_bgcolor": "white",
          "plot_bgcolor": "#E5ECF6",
          "polar": {
           "angularaxis": {
            "gridcolor": "white",
            "linecolor": "white",
            "ticks": ""
           },
           "bgcolor": "#E5ECF6",
           "radialaxis": {
            "gridcolor": "white",
            "linecolor": "white",
            "ticks": ""
           }
          },
          "scene": {
           "xaxis": {
            "backgroundcolor": "#E5ECF6",
            "gridcolor": "white",
            "gridwidth": 2,
            "linecolor": "white",
            "showbackground": true,
            "ticks": "",
            "zerolinecolor": "white"
           },
           "yaxis": {
            "backgroundcolor": "#E5ECF6",
            "gridcolor": "white",
            "gridwidth": 2,
            "linecolor": "white",
            "showbackground": true,
            "ticks": "",
            "zerolinecolor": "white"
           },
           "zaxis": {
            "backgroundcolor": "#E5ECF6",
            "gridcolor": "white",
            "gridwidth": 2,
            "linecolor": "white",
            "showbackground": true,
            "ticks": "",
            "zerolinecolor": "white"
           }
          },
          "shapedefaults": {
           "line": {
            "color": "#2a3f5f"
           }
          },
          "ternary": {
           "aaxis": {
            "gridcolor": "white",
            "linecolor": "white",
            "ticks": ""
           },
           "baxis": {
            "gridcolor": "white",
            "linecolor": "white",
            "ticks": ""
           },
           "bgcolor": "#E5ECF6",
           "caxis": {
            "gridcolor": "white",
            "linecolor": "white",
            "ticks": ""
           }
          },
          "title": {
           "x": 0.05
          },
          "xaxis": {
           "automargin": true,
           "gridcolor": "white",
           "linecolor": "white",
           "ticks": "",
           "title": {
            "standoff": 15
           },
           "zerolinecolor": "white",
           "zerolinewidth": 2
          },
          "yaxis": {
           "automargin": true,
           "gridcolor": "white",
           "linecolor": "white",
           "ticks": "",
           "title": {
            "standoff": 15
           },
           "zerolinecolor": "white",
           "zerolinewidth": 2
          }
         }
        },
        "title": {
         "text": "Episode Rewards vs. Noise Faceted by Size"
        },
        "xaxis": {
         "anchor": "y",
         "domain": [
          0,
          0.49
         ],
         "title": {
          "text": "noise"
         }
        },
        "xaxis2": {
         "anchor": "y2",
         "domain": [
          0.51,
          1
         ],
         "matches": "x",
         "title": {
          "text": "noise"
         }
        },
        "yaxis": {
         "anchor": "x",
         "domain": [
          0,
          1
         ],
         "title": {
          "text": "episode_rewards_mean"
         }
        },
        "yaxis2": {
         "anchor": "x2",
         "domain": [
          0,
          1
         ],
         "matches": "y",
         "showticklabels": false
        }
       }
      }
     },
     "metadata": {},
     "output_type": "display_data"
    }
   ],
   "source": [
    "import plotly.express as px\n",
    "\n",
    "# Define readable names for selected hyperparams\n",
    "readable_names = {\n",
    "    hyperparam_columns[0]: \"noise\",\n",
    "    hyperparam_columns[1]: \"size\"\n",
    "}\n",
    "\n",
    "# Rename columns in a copy of the dataframe\n",
    "plot_df = sub_df.rename(columns=readable_names)\n",
    "\n",
    "# Assign new column names\n",
    "x_col = \"noise\"\n",
    "y_col = \"episode_rewards_mean\"\n",
    "facet_col = \"size\"\n",
    "\n",
    "# Plot\n",
    "fig = px.scatter(\n",
    "    plot_df,\n",
    "    x=x_col,\n",
    "    y=y_col,\n",
    "    color=\"experiment_name\",  # Optional: color by experiment\n",
    "    facet_col=facet_col,\n",
    "    title=\"Episode Rewards vs. Noise Faceted by Size\",\n",
    "    height=600\n",
    ")\n",
    "\n",
    "fig.update_layout(showlegend=False)\n",
    "fig.show()\n"
   ]
  },
  {
   "cell_type": "code",
   "execution_count": null,
   "metadata": {},
   "outputs": [],
   "source": []
  }
 ],
 "metadata": {
  "kernelspec": {
   "display_name": "phd_rl_algos",
   "language": "python",
   "name": "python3"
  },
  "language_info": {
   "codemirror_mode": {
    "name": "ipython",
    "version": 3
   },
   "file_extension": ".py",
   "mimetype": "text/x-python",
   "name": "python",
   "nbconvert_exporter": "python",
   "pygments_lexer": "ipython3",
   "version": "3.11.5"
  }
 },
 "nbformat": 4,
 "nbformat_minor": 2
}
