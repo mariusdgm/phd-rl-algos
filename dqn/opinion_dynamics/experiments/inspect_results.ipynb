{
 "cells": [
  {
   "cell_type": "code",
   "execution_count": 153,
   "metadata": {},
   "outputs": [
    {
     "name": "stdout",
     "output_type": "stream",
     "text": [
      "The autoreload extension is already loaded. To reload it, use:\n",
      "  %reload_ext autoreload\n"
     ]
    }
   ],
   "source": [
    "%load_ext autoreload\n",
    "%autoreload 2"
   ]
  },
  {
   "cell_type": "code",
   "execution_count": 154,
   "metadata": {},
   "outputs": [],
   "source": [
    "import os, sys\n",
    "\n",
    "def get_dir_n_levels_up(path, n):\n",
    "    # Go up n levels from the given path\n",
    "    for _ in range(n):\n",
    "        path = os.path.dirname(path)\n",
    "    return path\n",
    "\n",
    "proj_root = get_dir_n_levels_up(os.path.abspath(\"__file__\"), 4)\n",
    "sys.path.append(proj_root)\n",
    "\n",
    "import pandas as pd\n",
    "import yaml\n",
    "import torch\n",
    "import collections\n",
    "\n",
    "import warnings\n",
    "import numpy as np\n",
    "\n",
    "import seaborn as sns\n",
    "import matplotlib.pyplot as plt\n",
    "sns.set_theme()\n",
    "\n",
    "warnings.filterwarnings(\"ignore\")\n",
    "\n",
    "from dqn.opinion_dynamics.utils.experiment import process_experiment\n"
   ]
  },
  {
   "cell_type": "code",
   "execution_count": 155,
   "metadata": {},
   "outputs": [
    {
     "data": {
      "text/plain": [
       "Index(['epoch_type', 'frame_stamp', 'greedy_epsilon', 'episode_rewards_min',\n",
       "       'episode_rewards_max', 'episode_rewards_mean', 'episode_rewards_median',\n",
       "       'episode_rewards_std', 'episode_discounted_rewards_min',\n",
       "       'episode_discounted_rewards_max', 'episode_discounted_rewards_mean',\n",
       "       'episode_discounted_rewards_median', 'episode_discounted_rewards_std',\n",
       "       'episode_frames_min', 'episode_frames_max', 'episode_frames_mean',\n",
       "       'episode_frames_median', 'episode_frames_std', 'episode_losses_min',\n",
       "       'episode_losses_max', 'episode_losses_mean', 'episode_losses_median',\n",
       "       'episode_losses_std', 'episode_max_qs_min', 'episode_max_qs_max',\n",
       "       'episode_max_qs_mean', 'episode_max_qs_median', 'episode_max_qs_std',\n",
       "       'policy_trained_times', 'target_trained_times', 'epoch_time',\n",
       "       'sub_exp_cfg_optim.args_.betas',\n",
       "       'sub_exp_cfg_estimator.args_.lin_hidden_size', 'sub_experiment_path',\n",
       "       'seed', 'experiment_name'],\n",
       "      dtype='object')"
      ]
     },
     "execution_count": 155,
     "metadata": {},
     "output_type": "execute_result"
    }
   ],
   "source": [
    "# experiment_sub_dir = \"2025May02-101004_configs\" # excellent run\n",
    "experiment_sub_dir = \"2025Jun04-025014_configs\"\n",
    "\n",
    "exp_path = os.path.join(os.path.abspath(\".\"), \"results\", experiment_sub_dir)\n",
    "df = process_experiment(\n",
    "    exp_path\n",
    ")\n",
    "df.columns\n"
   ]
  },
  {
   "cell_type": "code",
   "execution_count": 156,
   "metadata": {},
   "outputs": [
    {
     "data": {
      "text/html": [
       "<div>\n",
       "<style scoped>\n",
       "    .dataframe tbody tr th:only-of-type {\n",
       "        vertical-align: middle;\n",
       "    }\n",
       "\n",
       "    .dataframe tbody tr th {\n",
       "        vertical-align: top;\n",
       "    }\n",
       "\n",
       "    .dataframe thead th {\n",
       "        text-align: right;\n",
       "    }\n",
       "</style>\n",
       "<table border=\"1\" class=\"dataframe\">\n",
       "  <thead>\n",
       "    <tr style=\"text-align: right;\">\n",
       "      <th></th>\n",
       "      <th>epoch_type</th>\n",
       "      <th>frame_stamp</th>\n",
       "      <th>greedy_epsilon</th>\n",
       "      <th>episode_rewards_min</th>\n",
       "      <th>episode_rewards_max</th>\n",
       "      <th>episode_rewards_mean</th>\n",
       "      <th>episode_rewards_median</th>\n",
       "      <th>episode_rewards_std</th>\n",
       "      <th>episode_discounted_rewards_min</th>\n",
       "      <th>episode_discounted_rewards_max</th>\n",
       "      <th>...</th>\n",
       "      <th>episode_max_qs_median</th>\n",
       "      <th>episode_max_qs_std</th>\n",
       "      <th>policy_trained_times</th>\n",
       "      <th>target_trained_times</th>\n",
       "      <th>epoch_time</th>\n",
       "      <th>sub_exp_cfg_optim.args_.betas</th>\n",
       "      <th>sub_exp_cfg_estimator.args_.lin_hidden_size</th>\n",
       "      <th>sub_experiment_path</th>\n",
       "      <th>seed</th>\n",
       "      <th>experiment_name</th>\n",
       "    </tr>\n",
       "  </thead>\n",
       "  <tbody>\n",
       "    <tr>\n",
       "      <th>0</th>\n",
       "      <td>training</td>\n",
       "      <td>200000</td>\n",
       "      <td>0.971500</td>\n",
       "      <td>-7.298370</td>\n",
       "      <td>-1.978874</td>\n",
       "      <td>-4.965920</td>\n",
       "      <td>-5.003247</td>\n",
       "      <td>7.254973e-01</td>\n",
       "      <td>-6.819196</td>\n",
       "      <td>-1.912281</td>\n",
       "      <td>...</td>\n",
       "      <td>1.514570e+00</td>\n",
       "      <td>8.196434e-01</td>\n",
       "      <td>48749.0</td>\n",
       "      <td>192.0</td>\n",
       "      <td>0 days 00:07:03.797767</td>\n",
       "      <td>[0.95, 0.99]</td>\n",
       "      <td>64</td>\n",
       "      <td>d:\\Work\\repos\\RL\\phd-rl-algos\\dqn\\opinion_dyna...</td>\n",
       "      <td>0</td>\n",
       "      <td>0000_optim.args_.betas__0.95__0.99___estimator...</td>\n",
       "    </tr>\n",
       "    <tr>\n",
       "      <th>1</th>\n",
       "      <td>training</td>\n",
       "      <td>400000</td>\n",
       "      <td>0.942269</td>\n",
       "      <td>-7.681206</td>\n",
       "      <td>-2.414205</td>\n",
       "      <td>-4.956569</td>\n",
       "      <td>-4.980624</td>\n",
       "      <td>7.222659e-01</td>\n",
       "      <td>-7.167920</td>\n",
       "      <td>-2.316321</td>\n",
       "      <td>...</td>\n",
       "      <td>-2.003204e-01</td>\n",
       "      <td>9.456692e-01</td>\n",
       "      <td>50000.0</td>\n",
       "      <td>200.0</td>\n",
       "      <td>0 days 00:07:12.401632</td>\n",
       "      <td>[0.95, 0.99]</td>\n",
       "      <td>64</td>\n",
       "      <td>d:\\Work\\repos\\RL\\phd-rl-algos\\dqn\\opinion_dyna...</td>\n",
       "      <td>0</td>\n",
       "      <td>0000_optim.args_.betas__0.95__0.99___estimator...</td>\n",
       "    </tr>\n",
       "    <tr>\n",
       "      <th>2</th>\n",
       "      <td>training</td>\n",
       "      <td>600000</td>\n",
       "      <td>0.913038</td>\n",
       "      <td>-7.426469</td>\n",
       "      <td>-2.448838</td>\n",
       "      <td>-4.883217</td>\n",
       "      <td>-4.881786</td>\n",
       "      <td>7.018207e-01</td>\n",
       "      <td>-6.948117</td>\n",
       "      <td>-2.349875</td>\n",
       "      <td>...</td>\n",
       "      <td>-7.577849e-01</td>\n",
       "      <td>1.287294e+00</td>\n",
       "      <td>50000.0</td>\n",
       "      <td>200.0</td>\n",
       "      <td>0 days 00:07:36.019463</td>\n",
       "      <td>[0.95, 0.99]</td>\n",
       "      <td>64</td>\n",
       "      <td>d:\\Work\\repos\\RL\\phd-rl-algos\\dqn\\opinion_dyna...</td>\n",
       "      <td>0</td>\n",
       "      <td>0000_optim.args_.betas__0.95__0.99___estimator...</td>\n",
       "    </tr>\n",
       "    <tr>\n",
       "      <th>3</th>\n",
       "      <td>training</td>\n",
       "      <td>800000</td>\n",
       "      <td>0.883808</td>\n",
       "      <td>-7.154097</td>\n",
       "      <td>-2.249404</td>\n",
       "      <td>-4.759823</td>\n",
       "      <td>-4.782008</td>\n",
       "      <td>6.961945e-01</td>\n",
       "      <td>-6.711021</td>\n",
       "      <td>-2.167050</td>\n",
       "      <td>...</td>\n",
       "      <td>-8.209515e-01</td>\n",
       "      <td>1.347682e+00</td>\n",
       "      <td>50000.0</td>\n",
       "      <td>200.0</td>\n",
       "      <td>0 days 00:07:32.389997</td>\n",
       "      <td>[0.95, 0.99]</td>\n",
       "      <td>64</td>\n",
       "      <td>d:\\Work\\repos\\RL\\phd-rl-algos\\dqn\\opinion_dyna...</td>\n",
       "      <td>0</td>\n",
       "      <td>0000_optim.args_.betas__0.95__0.99___estimator...</td>\n",
       "    </tr>\n",
       "    <tr>\n",
       "      <th>4</th>\n",
       "      <td>training</td>\n",
       "      <td>1000000</td>\n",
       "      <td>0.854577</td>\n",
       "      <td>-7.146131</td>\n",
       "      <td>-2.275363</td>\n",
       "      <td>-4.642110</td>\n",
       "      <td>-4.651628</td>\n",
       "      <td>6.791156e-01</td>\n",
       "      <td>-6.706306</td>\n",
       "      <td>-2.190654</td>\n",
       "      <td>...</td>\n",
       "      <td>-8.158913e-01</td>\n",
       "      <td>1.345484e+00</td>\n",
       "      <td>50000.0</td>\n",
       "      <td>200.0</td>\n",
       "      <td>0 days 00:07:30.316446</td>\n",
       "      <td>[0.95, 0.99]</td>\n",
       "      <td>64</td>\n",
       "      <td>d:\\Work\\repos\\RL\\phd-rl-algos\\dqn\\opinion_dyna...</td>\n",
       "      <td>0</td>\n",
       "      <td>0000_optim.args_.betas__0.95__0.99___estimator...</td>\n",
       "    </tr>\n",
       "    <tr>\n",
       "      <th>...</th>\n",
       "      <td>...</td>\n",
       "      <td>...</td>\n",
       "      <td>...</td>\n",
       "      <td>...</td>\n",
       "      <td>...</td>\n",
       "      <td>...</td>\n",
       "      <td>...</td>\n",
       "      <td>...</td>\n",
       "      <td>...</td>\n",
       "      <td>...</td>\n",
       "      <td>...</td>\n",
       "      <td>...</td>\n",
       "      <td>...</td>\n",
       "      <td>...</td>\n",
       "      <td>...</td>\n",
       "      <td>...</td>\n",
       "      <td>...</td>\n",
       "      <td>...</td>\n",
       "      <td>...</td>\n",
       "      <td>...</td>\n",
       "      <td>...</td>\n",
       "    </tr>\n",
       "    <tr>\n",
       "      <th>1435</th>\n",
       "      <td>validation</td>\n",
       "      <td>7200000</td>\n",
       "      <td>NaN</td>\n",
       "      <td>-52.236798</td>\n",
       "      <td>-52.236798</td>\n",
       "      <td>-52.236798</td>\n",
       "      <td>-52.236798</td>\n",
       "      <td>0.000000e+00</td>\n",
       "      <td>-34.260898</td>\n",
       "      <td>-34.260898</td>\n",
       "      <td>...</td>\n",
       "      <td>2.422686e+11</td>\n",
       "      <td>6.883987e+10</td>\n",
       "      <td>NaN</td>\n",
       "      <td>NaN</td>\n",
       "      <td>0 days 00:00:00.584226</td>\n",
       "      <td>[0.5, 0.999]</td>\n",
       "      <td>256</td>\n",
       "      <td>d:\\Work\\repos\\RL\\phd-rl-algos\\dqn\\opinion_dyna...</td>\n",
       "      <td>2</td>\n",
       "      <td>0005_optim.args_.betas__0.5__0.999___estimator...</td>\n",
       "    </tr>\n",
       "    <tr>\n",
       "      <th>1436</th>\n",
       "      <td>validation</td>\n",
       "      <td>7400000</td>\n",
       "      <td>NaN</td>\n",
       "      <td>-51.924490</td>\n",
       "      <td>-51.924490</td>\n",
       "      <td>-51.924490</td>\n",
       "      <td>-51.924490</td>\n",
       "      <td>7.105427e-15</td>\n",
       "      <td>-34.074244</td>\n",
       "      <td>-34.074244</td>\n",
       "      <td>...</td>\n",
       "      <td>2.335869e+11</td>\n",
       "      <td>6.632298e+10</td>\n",
       "      <td>NaN</td>\n",
       "      <td>NaN</td>\n",
       "      <td>0 days 00:00:00.580887</td>\n",
       "      <td>[0.5, 0.999]</td>\n",
       "      <td>256</td>\n",
       "      <td>d:\\Work\\repos\\RL\\phd-rl-algos\\dqn\\opinion_dyna...</td>\n",
       "      <td>2</td>\n",
       "      <td>0005_optim.args_.betas__0.5__0.999___estimator...</td>\n",
       "    </tr>\n",
       "    <tr>\n",
       "      <th>1437</th>\n",
       "      <td>validation</td>\n",
       "      <td>7600000</td>\n",
       "      <td>NaN</td>\n",
       "      <td>-51.804415</td>\n",
       "      <td>-51.804415</td>\n",
       "      <td>-51.804415</td>\n",
       "      <td>-51.804415</td>\n",
       "      <td>0.000000e+00</td>\n",
       "      <td>-33.996175</td>\n",
       "      <td>-33.996175</td>\n",
       "      <td>...</td>\n",
       "      <td>2.264699e+11</td>\n",
       "      <td>6.215288e+10</td>\n",
       "      <td>NaN</td>\n",
       "      <td>NaN</td>\n",
       "      <td>0 days 00:00:00.574223</td>\n",
       "      <td>[0.5, 0.999]</td>\n",
       "      <td>256</td>\n",
       "      <td>d:\\Work\\repos\\RL\\phd-rl-algos\\dqn\\opinion_dyna...</td>\n",
       "      <td>2</td>\n",
       "      <td>0005_optim.args_.betas__0.5__0.999___estimator...</td>\n",
       "    </tr>\n",
       "    <tr>\n",
       "      <th>1438</th>\n",
       "      <td>validation</td>\n",
       "      <td>7800000</td>\n",
       "      <td>NaN</td>\n",
       "      <td>-52.005059</td>\n",
       "      <td>-52.005059</td>\n",
       "      <td>-52.005059</td>\n",
       "      <td>-52.005059</td>\n",
       "      <td>0.000000e+00</td>\n",
       "      <td>-34.112429</td>\n",
       "      <td>-34.112429</td>\n",
       "      <td>...</td>\n",
       "      <td>2.170247e+11</td>\n",
       "      <td>6.003671e+10</td>\n",
       "      <td>NaN</td>\n",
       "      <td>NaN</td>\n",
       "      <td>0 days 00:00:00.583077</td>\n",
       "      <td>[0.5, 0.999]</td>\n",
       "      <td>256</td>\n",
       "      <td>d:\\Work\\repos\\RL\\phd-rl-algos\\dqn\\opinion_dyna...</td>\n",
       "      <td>2</td>\n",
       "      <td>0005_optim.args_.betas__0.5__0.999___estimator...</td>\n",
       "    </tr>\n",
       "    <tr>\n",
       "      <th>1439</th>\n",
       "      <td>validation</td>\n",
       "      <td>8000000</td>\n",
       "      <td>NaN</td>\n",
       "      <td>-52.005059</td>\n",
       "      <td>-52.005059</td>\n",
       "      <td>-52.005059</td>\n",
       "      <td>-52.005059</td>\n",
       "      <td>0.000000e+00</td>\n",
       "      <td>-34.112429</td>\n",
       "      <td>-34.112429</td>\n",
       "      <td>...</td>\n",
       "      <td>2.098896e+11</td>\n",
       "      <td>5.670147e+10</td>\n",
       "      <td>NaN</td>\n",
       "      <td>NaN</td>\n",
       "      <td>0 days 00:00:00.531327</td>\n",
       "      <td>[0.5, 0.999]</td>\n",
       "      <td>256</td>\n",
       "      <td>d:\\Work\\repos\\RL\\phd-rl-algos\\dqn\\opinion_dyna...</td>\n",
       "      <td>2</td>\n",
       "      <td>0005_optim.args_.betas__0.5__0.999___estimator...</td>\n",
       "    </tr>\n",
       "  </tbody>\n",
       "</table>\n",
       "<p>1440 rows × 36 columns</p>\n",
       "</div>"
      ],
      "text/plain": [
       "      epoch_type  frame_stamp  greedy_epsilon  episode_rewards_min  \\\n",
       "0       training       200000        0.971500            -7.298370   \n",
       "1       training       400000        0.942269            -7.681206   \n",
       "2       training       600000        0.913038            -7.426469   \n",
       "3       training       800000        0.883808            -7.154097   \n",
       "4       training      1000000        0.854577            -7.146131   \n",
       "...          ...          ...             ...                  ...   \n",
       "1435  validation      7200000             NaN           -52.236798   \n",
       "1436  validation      7400000             NaN           -51.924490   \n",
       "1437  validation      7600000             NaN           -51.804415   \n",
       "1438  validation      7800000             NaN           -52.005059   \n",
       "1439  validation      8000000             NaN           -52.005059   \n",
       "\n",
       "      episode_rewards_max  episode_rewards_mean  episode_rewards_median  \\\n",
       "0               -1.978874             -4.965920               -5.003247   \n",
       "1               -2.414205             -4.956569               -4.980624   \n",
       "2               -2.448838             -4.883217               -4.881786   \n",
       "3               -2.249404             -4.759823               -4.782008   \n",
       "4               -2.275363             -4.642110               -4.651628   \n",
       "...                   ...                   ...                     ...   \n",
       "1435           -52.236798            -52.236798              -52.236798   \n",
       "1436           -51.924490            -51.924490              -51.924490   \n",
       "1437           -51.804415            -51.804415              -51.804415   \n",
       "1438           -52.005059            -52.005059              -52.005059   \n",
       "1439           -52.005059            -52.005059              -52.005059   \n",
       "\n",
       "      episode_rewards_std  episode_discounted_rewards_min  \\\n",
       "0            7.254973e-01                       -6.819196   \n",
       "1            7.222659e-01                       -7.167920   \n",
       "2            7.018207e-01                       -6.948117   \n",
       "3            6.961945e-01                       -6.711021   \n",
       "4            6.791156e-01                       -6.706306   \n",
       "...                   ...                             ...   \n",
       "1435         0.000000e+00                      -34.260898   \n",
       "1436         7.105427e-15                      -34.074244   \n",
       "1437         0.000000e+00                      -33.996175   \n",
       "1438         0.000000e+00                      -34.112429   \n",
       "1439         0.000000e+00                      -34.112429   \n",
       "\n",
       "      episode_discounted_rewards_max  ...  episode_max_qs_median  \\\n",
       "0                          -1.912281  ...           1.514570e+00   \n",
       "1                          -2.316321  ...          -2.003204e-01   \n",
       "2                          -2.349875  ...          -7.577849e-01   \n",
       "3                          -2.167050  ...          -8.209515e-01   \n",
       "4                          -2.190654  ...          -8.158913e-01   \n",
       "...                              ...  ...                    ...   \n",
       "1435                      -34.260898  ...           2.422686e+11   \n",
       "1436                      -34.074244  ...           2.335869e+11   \n",
       "1437                      -33.996175  ...           2.264699e+11   \n",
       "1438                      -34.112429  ...           2.170247e+11   \n",
       "1439                      -34.112429  ...           2.098896e+11   \n",
       "\n",
       "      episode_max_qs_std  policy_trained_times  target_trained_times  \\\n",
       "0           8.196434e-01               48749.0                 192.0   \n",
       "1           9.456692e-01               50000.0                 200.0   \n",
       "2           1.287294e+00               50000.0                 200.0   \n",
       "3           1.347682e+00               50000.0                 200.0   \n",
       "4           1.345484e+00               50000.0                 200.0   \n",
       "...                  ...                   ...                   ...   \n",
       "1435        6.883987e+10                   NaN                   NaN   \n",
       "1436        6.632298e+10                   NaN                   NaN   \n",
       "1437        6.215288e+10                   NaN                   NaN   \n",
       "1438        6.003671e+10                   NaN                   NaN   \n",
       "1439        5.670147e+10                   NaN                   NaN   \n",
       "\n",
       "                 epoch_time  sub_exp_cfg_optim.args_.betas  \\\n",
       "0    0 days 00:07:03.797767                   [0.95, 0.99]   \n",
       "1    0 days 00:07:12.401632                   [0.95, 0.99]   \n",
       "2    0 days 00:07:36.019463                   [0.95, 0.99]   \n",
       "3    0 days 00:07:32.389997                   [0.95, 0.99]   \n",
       "4    0 days 00:07:30.316446                   [0.95, 0.99]   \n",
       "...                     ...                            ...   \n",
       "1435 0 days 00:00:00.584226                   [0.5, 0.999]   \n",
       "1436 0 days 00:00:00.580887                   [0.5, 0.999]   \n",
       "1437 0 days 00:00:00.574223                   [0.5, 0.999]   \n",
       "1438 0 days 00:00:00.583077                   [0.5, 0.999]   \n",
       "1439 0 days 00:00:00.531327                   [0.5, 0.999]   \n",
       "\n",
       "      sub_exp_cfg_estimator.args_.lin_hidden_size  \\\n",
       "0                                              64   \n",
       "1                                              64   \n",
       "2                                              64   \n",
       "3                                              64   \n",
       "4                                              64   \n",
       "...                                           ...   \n",
       "1435                                          256   \n",
       "1436                                          256   \n",
       "1437                                          256   \n",
       "1438                                          256   \n",
       "1439                                          256   \n",
       "\n",
       "                                    sub_experiment_path  seed  \\\n",
       "0     d:\\Work\\repos\\RL\\phd-rl-algos\\dqn\\opinion_dyna...     0   \n",
       "1     d:\\Work\\repos\\RL\\phd-rl-algos\\dqn\\opinion_dyna...     0   \n",
       "2     d:\\Work\\repos\\RL\\phd-rl-algos\\dqn\\opinion_dyna...     0   \n",
       "3     d:\\Work\\repos\\RL\\phd-rl-algos\\dqn\\opinion_dyna...     0   \n",
       "4     d:\\Work\\repos\\RL\\phd-rl-algos\\dqn\\opinion_dyna...     0   \n",
       "...                                                 ...   ...   \n",
       "1435  d:\\Work\\repos\\RL\\phd-rl-algos\\dqn\\opinion_dyna...     2   \n",
       "1436  d:\\Work\\repos\\RL\\phd-rl-algos\\dqn\\opinion_dyna...     2   \n",
       "1437  d:\\Work\\repos\\RL\\phd-rl-algos\\dqn\\opinion_dyna...     2   \n",
       "1438  d:\\Work\\repos\\RL\\phd-rl-algos\\dqn\\opinion_dyna...     2   \n",
       "1439  d:\\Work\\repos\\RL\\phd-rl-algos\\dqn\\opinion_dyna...     2   \n",
       "\n",
       "                                        experiment_name  \n",
       "0     0000_optim.args_.betas__0.95__0.99___estimator...  \n",
       "1     0000_optim.args_.betas__0.95__0.99___estimator...  \n",
       "2     0000_optim.args_.betas__0.95__0.99___estimator...  \n",
       "3     0000_optim.args_.betas__0.95__0.99___estimator...  \n",
       "4     0000_optim.args_.betas__0.95__0.99___estimator...  \n",
       "...                                                 ...  \n",
       "1435  0005_optim.args_.betas__0.5__0.999___estimator...  \n",
       "1436  0005_optim.args_.betas__0.5__0.999___estimator...  \n",
       "1437  0005_optim.args_.betas__0.5__0.999___estimator...  \n",
       "1438  0005_optim.args_.betas__0.5__0.999___estimator...  \n",
       "1439  0005_optim.args_.betas__0.5__0.999___estimator...  \n",
       "\n",
       "[1440 rows x 36 columns]"
      ]
     },
     "execution_count": 156,
     "metadata": {},
     "output_type": "execute_result"
    }
   ],
   "source": [
    "df"
   ]
  },
  {
   "cell_type": "code",
   "execution_count": 157,
   "metadata": {},
   "outputs": [
    {
     "data": {
      "text/html": [
       "<div>\n",
       "<style scoped>\n",
       "    .dataframe tbody tr th:only-of-type {\n",
       "        vertical-align: middle;\n",
       "    }\n",
       "\n",
       "    .dataframe tbody tr th {\n",
       "        vertical-align: top;\n",
       "    }\n",
       "\n",
       "    .dataframe thead th {\n",
       "        text-align: right;\n",
       "    }\n",
       "</style>\n",
       "<table border=\"1\" class=\"dataframe\">\n",
       "  <thead>\n",
       "    <tr style=\"text-align: right;\">\n",
       "      <th></th>\n",
       "      <th>epoch_type</th>\n",
       "      <th>frame_stamp</th>\n",
       "      <th>greedy_epsilon</th>\n",
       "      <th>episode_rewards_min</th>\n",
       "      <th>episode_rewards_max</th>\n",
       "      <th>episode_rewards_mean</th>\n",
       "      <th>episode_rewards_median</th>\n",
       "      <th>episode_rewards_std</th>\n",
       "      <th>episode_discounted_rewards_min</th>\n",
       "      <th>episode_discounted_rewards_max</th>\n",
       "      <th>...</th>\n",
       "      <th>episode_max_qs_median</th>\n",
       "      <th>episode_max_qs_std</th>\n",
       "      <th>policy_trained_times</th>\n",
       "      <th>target_trained_times</th>\n",
       "      <th>epoch_time</th>\n",
       "      <th>sub_exp_cfg_optim.args_.betas</th>\n",
       "      <th>sub_exp_cfg_estimator.args_.lin_hidden_size</th>\n",
       "      <th>sub_experiment_path</th>\n",
       "      <th>seed</th>\n",
       "      <th>experiment_name</th>\n",
       "    </tr>\n",
       "  </thead>\n",
       "  <tbody>\n",
       "    <tr>\n",
       "      <th>0</th>\n",
       "      <td>training</td>\n",
       "      <td>200000</td>\n",
       "      <td>0.971500</td>\n",
       "      <td>-7.298370</td>\n",
       "      <td>-1.978874</td>\n",
       "      <td>-4.965920</td>\n",
       "      <td>-5.003247</td>\n",
       "      <td>0.725497</td>\n",
       "      <td>-6.819196</td>\n",
       "      <td>-1.912281</td>\n",
       "      <td>...</td>\n",
       "      <td>1.514570e+00</td>\n",
       "      <td>8.196434e-01</td>\n",
       "      <td>48749.0</td>\n",
       "      <td>192.0</td>\n",
       "      <td>0 days 00:07:03.797767</td>\n",
       "      <td>[0.95, 0.99]</td>\n",
       "      <td>64</td>\n",
       "      <td>d:\\Work\\repos\\RL\\phd-rl-algos\\dqn\\opinion_dyna...</td>\n",
       "      <td>0</td>\n",
       "      <td>0000_optim.args_.betas__0.95__0.99___estimator...</td>\n",
       "    </tr>\n",
       "    <tr>\n",
       "      <th>1</th>\n",
       "      <td>training</td>\n",
       "      <td>400000</td>\n",
       "      <td>0.942269</td>\n",
       "      <td>-7.681206</td>\n",
       "      <td>-2.414205</td>\n",
       "      <td>-4.956569</td>\n",
       "      <td>-4.980624</td>\n",
       "      <td>0.722266</td>\n",
       "      <td>-7.167920</td>\n",
       "      <td>-2.316321</td>\n",
       "      <td>...</td>\n",
       "      <td>-2.003204e-01</td>\n",
       "      <td>9.456692e-01</td>\n",
       "      <td>50000.0</td>\n",
       "      <td>200.0</td>\n",
       "      <td>0 days 00:07:12.401632</td>\n",
       "      <td>[0.95, 0.99]</td>\n",
       "      <td>64</td>\n",
       "      <td>d:\\Work\\repos\\RL\\phd-rl-algos\\dqn\\opinion_dyna...</td>\n",
       "      <td>0</td>\n",
       "      <td>0000_optim.args_.betas__0.95__0.99___estimator...</td>\n",
       "    </tr>\n",
       "    <tr>\n",
       "      <th>2</th>\n",
       "      <td>training</td>\n",
       "      <td>600000</td>\n",
       "      <td>0.913038</td>\n",
       "      <td>-7.426469</td>\n",
       "      <td>-2.448838</td>\n",
       "      <td>-4.883217</td>\n",
       "      <td>-4.881786</td>\n",
       "      <td>0.701821</td>\n",
       "      <td>-6.948117</td>\n",
       "      <td>-2.349875</td>\n",
       "      <td>...</td>\n",
       "      <td>-7.577849e-01</td>\n",
       "      <td>1.287294e+00</td>\n",
       "      <td>50000.0</td>\n",
       "      <td>200.0</td>\n",
       "      <td>0 days 00:07:36.019463</td>\n",
       "      <td>[0.95, 0.99]</td>\n",
       "      <td>64</td>\n",
       "      <td>d:\\Work\\repos\\RL\\phd-rl-algos\\dqn\\opinion_dyna...</td>\n",
       "      <td>0</td>\n",
       "      <td>0000_optim.args_.betas__0.95__0.99___estimator...</td>\n",
       "    </tr>\n",
       "    <tr>\n",
       "      <th>3</th>\n",
       "      <td>training</td>\n",
       "      <td>800000</td>\n",
       "      <td>0.883808</td>\n",
       "      <td>-7.154097</td>\n",
       "      <td>-2.249404</td>\n",
       "      <td>-4.759823</td>\n",
       "      <td>-4.782008</td>\n",
       "      <td>0.696195</td>\n",
       "      <td>-6.711021</td>\n",
       "      <td>-2.167050</td>\n",
       "      <td>...</td>\n",
       "      <td>-8.209515e-01</td>\n",
       "      <td>1.347682e+00</td>\n",
       "      <td>50000.0</td>\n",
       "      <td>200.0</td>\n",
       "      <td>0 days 00:07:32.389997</td>\n",
       "      <td>[0.95, 0.99]</td>\n",
       "      <td>64</td>\n",
       "      <td>d:\\Work\\repos\\RL\\phd-rl-algos\\dqn\\opinion_dyna...</td>\n",
       "      <td>0</td>\n",
       "      <td>0000_optim.args_.betas__0.95__0.99___estimator...</td>\n",
       "    </tr>\n",
       "    <tr>\n",
       "      <th>4</th>\n",
       "      <td>training</td>\n",
       "      <td>1000000</td>\n",
       "      <td>0.854577</td>\n",
       "      <td>-7.146131</td>\n",
       "      <td>-2.275363</td>\n",
       "      <td>-4.642110</td>\n",
       "      <td>-4.651628</td>\n",
       "      <td>0.679116</td>\n",
       "      <td>-6.706306</td>\n",
       "      <td>-2.190654</td>\n",
       "      <td>...</td>\n",
       "      <td>-8.158913e-01</td>\n",
       "      <td>1.345484e+00</td>\n",
       "      <td>50000.0</td>\n",
       "      <td>200.0</td>\n",
       "      <td>0 days 00:07:30.316446</td>\n",
       "      <td>[0.95, 0.99]</td>\n",
       "      <td>64</td>\n",
       "      <td>d:\\Work\\repos\\RL\\phd-rl-algos\\dqn\\opinion_dyna...</td>\n",
       "      <td>0</td>\n",
       "      <td>0000_optim.args_.betas__0.95__0.99___estimator...</td>\n",
       "    </tr>\n",
       "    <tr>\n",
       "      <th>...</th>\n",
       "      <td>...</td>\n",
       "      <td>...</td>\n",
       "      <td>...</td>\n",
       "      <td>...</td>\n",
       "      <td>...</td>\n",
       "      <td>...</td>\n",
       "      <td>...</td>\n",
       "      <td>...</td>\n",
       "      <td>...</td>\n",
       "      <td>...</td>\n",
       "      <td>...</td>\n",
       "      <td>...</td>\n",
       "      <td>...</td>\n",
       "      <td>...</td>\n",
       "      <td>...</td>\n",
       "      <td>...</td>\n",
       "      <td>...</td>\n",
       "      <td>...</td>\n",
       "      <td>...</td>\n",
       "      <td>...</td>\n",
       "      <td>...</td>\n",
       "    </tr>\n",
       "    <tr>\n",
       "      <th>1395</th>\n",
       "      <td>training</td>\n",
       "      <td>7200000</td>\n",
       "      <td>0.050000</td>\n",
       "      <td>-43.761138</td>\n",
       "      <td>-16.990903</td>\n",
       "      <td>-31.085683</td>\n",
       "      <td>-31.093673</td>\n",
       "      <td>4.320414</td>\n",
       "      <td>-28.554170</td>\n",
       "      <td>-12.066506</td>\n",
       "      <td>...</td>\n",
       "      <td>2.811090e+11</td>\n",
       "      <td>5.685719e+10</td>\n",
       "      <td>50000.0</td>\n",
       "      <td>200.0</td>\n",
       "      <td>0 days 00:06:36.733370</td>\n",
       "      <td>[0.5, 0.999]</td>\n",
       "      <td>256</td>\n",
       "      <td>d:\\Work\\repos\\RL\\phd-rl-algos\\dqn\\opinion_dyna...</td>\n",
       "      <td>2</td>\n",
       "      <td>0005_optim.args_.betas__0.5__0.999___estimator...</td>\n",
       "    </tr>\n",
       "    <tr>\n",
       "      <th>1396</th>\n",
       "      <td>training</td>\n",
       "      <td>7400000</td>\n",
       "      <td>0.050000</td>\n",
       "      <td>-43.755072</td>\n",
       "      <td>-18.298340</td>\n",
       "      <td>-31.508813</td>\n",
       "      <td>-31.597735</td>\n",
       "      <td>4.318292</td>\n",
       "      <td>-28.545260</td>\n",
       "      <td>-12.885010</td>\n",
       "      <td>...</td>\n",
       "      <td>2.700946e+11</td>\n",
       "      <td>5.485178e+10</td>\n",
       "      <td>50000.0</td>\n",
       "      <td>200.0</td>\n",
       "      <td>0 days 00:06:38.757461</td>\n",
       "      <td>[0.5, 0.999]</td>\n",
       "      <td>256</td>\n",
       "      <td>d:\\Work\\repos\\RL\\phd-rl-algos\\dqn\\opinion_dyna...</td>\n",
       "      <td>2</td>\n",
       "      <td>0005_optim.args_.betas__0.5__0.999___estimator...</td>\n",
       "    </tr>\n",
       "    <tr>\n",
       "      <th>1397</th>\n",
       "      <td>training</td>\n",
       "      <td>7600000</td>\n",
       "      <td>0.050000</td>\n",
       "      <td>-46.830772</td>\n",
       "      <td>-15.794946</td>\n",
       "      <td>-31.291686</td>\n",
       "      <td>-31.182793</td>\n",
       "      <td>4.390062</td>\n",
       "      <td>-30.616616</td>\n",
       "      <td>-11.325451</td>\n",
       "      <td>...</td>\n",
       "      <td>2.604111e+11</td>\n",
       "      <td>5.189017e+10</td>\n",
       "      <td>50000.0</td>\n",
       "      <td>200.0</td>\n",
       "      <td>0 days 00:06:37.171355</td>\n",
       "      <td>[0.5, 0.999]</td>\n",
       "      <td>256</td>\n",
       "      <td>d:\\Work\\repos\\RL\\phd-rl-algos\\dqn\\opinion_dyna...</td>\n",
       "      <td>2</td>\n",
       "      <td>0005_optim.args_.betas__0.5__0.999___estimator...</td>\n",
       "    </tr>\n",
       "    <tr>\n",
       "      <th>1398</th>\n",
       "      <td>training</td>\n",
       "      <td>7800000</td>\n",
       "      <td>0.050000</td>\n",
       "      <td>-45.834214</td>\n",
       "      <td>-14.534415</td>\n",
       "      <td>-31.381830</td>\n",
       "      <td>-31.518698</td>\n",
       "      <td>4.232663</td>\n",
       "      <td>-29.930686</td>\n",
       "      <td>-10.508628</td>\n",
       "      <td>...</td>\n",
       "      <td>2.498522e+11</td>\n",
       "      <td>4.970518e+10</td>\n",
       "      <td>50000.0</td>\n",
       "      <td>200.0</td>\n",
       "      <td>0 days 00:06:36.001751</td>\n",
       "      <td>[0.5, 0.999]</td>\n",
       "      <td>256</td>\n",
       "      <td>d:\\Work\\repos\\RL\\phd-rl-algos\\dqn\\opinion_dyna...</td>\n",
       "      <td>2</td>\n",
       "      <td>0005_optim.args_.betas__0.5__0.999___estimator...</td>\n",
       "    </tr>\n",
       "    <tr>\n",
       "      <th>1399</th>\n",
       "      <td>training</td>\n",
       "      <td>8000000</td>\n",
       "      <td>0.050000</td>\n",
       "      <td>-42.962224</td>\n",
       "      <td>-20.002301</td>\n",
       "      <td>-31.296545</td>\n",
       "      <td>-31.356790</td>\n",
       "      <td>4.242473</td>\n",
       "      <td>-27.953854</td>\n",
       "      <td>-13.918071</td>\n",
       "      <td>...</td>\n",
       "      <td>2.407028e+11</td>\n",
       "      <td>4.691047e+10</td>\n",
       "      <td>50000.0</td>\n",
       "      <td>200.0</td>\n",
       "      <td>0 days 00:06:23.806116</td>\n",
       "      <td>[0.5, 0.999]</td>\n",
       "      <td>256</td>\n",
       "      <td>d:\\Work\\repos\\RL\\phd-rl-algos\\dqn\\opinion_dyna...</td>\n",
       "      <td>2</td>\n",
       "      <td>0005_optim.args_.betas__0.5__0.999___estimator...</td>\n",
       "    </tr>\n",
       "  </tbody>\n",
       "</table>\n",
       "<p>720 rows × 36 columns</p>\n",
       "</div>"
      ],
      "text/plain": [
       "     epoch_type  frame_stamp  greedy_epsilon  episode_rewards_min  \\\n",
       "0      training       200000        0.971500            -7.298370   \n",
       "1      training       400000        0.942269            -7.681206   \n",
       "2      training       600000        0.913038            -7.426469   \n",
       "3      training       800000        0.883808            -7.154097   \n",
       "4      training      1000000        0.854577            -7.146131   \n",
       "...         ...          ...             ...                  ...   \n",
       "1395   training      7200000        0.050000           -43.761138   \n",
       "1396   training      7400000        0.050000           -43.755072   \n",
       "1397   training      7600000        0.050000           -46.830772   \n",
       "1398   training      7800000        0.050000           -45.834214   \n",
       "1399   training      8000000        0.050000           -42.962224   \n",
       "\n",
       "      episode_rewards_max  episode_rewards_mean  episode_rewards_median  \\\n",
       "0               -1.978874             -4.965920               -5.003247   \n",
       "1               -2.414205             -4.956569               -4.980624   \n",
       "2               -2.448838             -4.883217               -4.881786   \n",
       "3               -2.249404             -4.759823               -4.782008   \n",
       "4               -2.275363             -4.642110               -4.651628   \n",
       "...                   ...                   ...                     ...   \n",
       "1395           -16.990903            -31.085683              -31.093673   \n",
       "1396           -18.298340            -31.508813              -31.597735   \n",
       "1397           -15.794946            -31.291686              -31.182793   \n",
       "1398           -14.534415            -31.381830              -31.518698   \n",
       "1399           -20.002301            -31.296545              -31.356790   \n",
       "\n",
       "      episode_rewards_std  episode_discounted_rewards_min  \\\n",
       "0                0.725497                       -6.819196   \n",
       "1                0.722266                       -7.167920   \n",
       "2                0.701821                       -6.948117   \n",
       "3                0.696195                       -6.711021   \n",
       "4                0.679116                       -6.706306   \n",
       "...                   ...                             ...   \n",
       "1395             4.320414                      -28.554170   \n",
       "1396             4.318292                      -28.545260   \n",
       "1397             4.390062                      -30.616616   \n",
       "1398             4.232663                      -29.930686   \n",
       "1399             4.242473                      -27.953854   \n",
       "\n",
       "      episode_discounted_rewards_max  ...  episode_max_qs_median  \\\n",
       "0                          -1.912281  ...           1.514570e+00   \n",
       "1                          -2.316321  ...          -2.003204e-01   \n",
       "2                          -2.349875  ...          -7.577849e-01   \n",
       "3                          -2.167050  ...          -8.209515e-01   \n",
       "4                          -2.190654  ...          -8.158913e-01   \n",
       "...                              ...  ...                    ...   \n",
       "1395                      -12.066506  ...           2.811090e+11   \n",
       "1396                      -12.885010  ...           2.700946e+11   \n",
       "1397                      -11.325451  ...           2.604111e+11   \n",
       "1398                      -10.508628  ...           2.498522e+11   \n",
       "1399                      -13.918071  ...           2.407028e+11   \n",
       "\n",
       "      episode_max_qs_std  policy_trained_times  target_trained_times  \\\n",
       "0           8.196434e-01               48749.0                 192.0   \n",
       "1           9.456692e-01               50000.0                 200.0   \n",
       "2           1.287294e+00               50000.0                 200.0   \n",
       "3           1.347682e+00               50000.0                 200.0   \n",
       "4           1.345484e+00               50000.0                 200.0   \n",
       "...                  ...                   ...                   ...   \n",
       "1395        5.685719e+10               50000.0                 200.0   \n",
       "1396        5.485178e+10               50000.0                 200.0   \n",
       "1397        5.189017e+10               50000.0                 200.0   \n",
       "1398        4.970518e+10               50000.0                 200.0   \n",
       "1399        4.691047e+10               50000.0                 200.0   \n",
       "\n",
       "                 epoch_time  sub_exp_cfg_optim.args_.betas  \\\n",
       "0    0 days 00:07:03.797767                   [0.95, 0.99]   \n",
       "1    0 days 00:07:12.401632                   [0.95, 0.99]   \n",
       "2    0 days 00:07:36.019463                   [0.95, 0.99]   \n",
       "3    0 days 00:07:32.389997                   [0.95, 0.99]   \n",
       "4    0 days 00:07:30.316446                   [0.95, 0.99]   \n",
       "...                     ...                            ...   \n",
       "1395 0 days 00:06:36.733370                   [0.5, 0.999]   \n",
       "1396 0 days 00:06:38.757461                   [0.5, 0.999]   \n",
       "1397 0 days 00:06:37.171355                   [0.5, 0.999]   \n",
       "1398 0 days 00:06:36.001751                   [0.5, 0.999]   \n",
       "1399 0 days 00:06:23.806116                   [0.5, 0.999]   \n",
       "\n",
       "      sub_exp_cfg_estimator.args_.lin_hidden_size  \\\n",
       "0                                              64   \n",
       "1                                              64   \n",
       "2                                              64   \n",
       "3                                              64   \n",
       "4                                              64   \n",
       "...                                           ...   \n",
       "1395                                          256   \n",
       "1396                                          256   \n",
       "1397                                          256   \n",
       "1398                                          256   \n",
       "1399                                          256   \n",
       "\n",
       "                                    sub_experiment_path  seed  \\\n",
       "0     d:\\Work\\repos\\RL\\phd-rl-algos\\dqn\\opinion_dyna...     0   \n",
       "1     d:\\Work\\repos\\RL\\phd-rl-algos\\dqn\\opinion_dyna...     0   \n",
       "2     d:\\Work\\repos\\RL\\phd-rl-algos\\dqn\\opinion_dyna...     0   \n",
       "3     d:\\Work\\repos\\RL\\phd-rl-algos\\dqn\\opinion_dyna...     0   \n",
       "4     d:\\Work\\repos\\RL\\phd-rl-algos\\dqn\\opinion_dyna...     0   \n",
       "...                                                 ...   ...   \n",
       "1395  d:\\Work\\repos\\RL\\phd-rl-algos\\dqn\\opinion_dyna...     2   \n",
       "1396  d:\\Work\\repos\\RL\\phd-rl-algos\\dqn\\opinion_dyna...     2   \n",
       "1397  d:\\Work\\repos\\RL\\phd-rl-algos\\dqn\\opinion_dyna...     2   \n",
       "1398  d:\\Work\\repos\\RL\\phd-rl-algos\\dqn\\opinion_dyna...     2   \n",
       "1399  d:\\Work\\repos\\RL\\phd-rl-algos\\dqn\\opinion_dyna...     2   \n",
       "\n",
       "                                        experiment_name  \n",
       "0     0000_optim.args_.betas__0.95__0.99___estimator...  \n",
       "1     0000_optim.args_.betas__0.95__0.99___estimator...  \n",
       "2     0000_optim.args_.betas__0.95__0.99___estimator...  \n",
       "3     0000_optim.args_.betas__0.95__0.99___estimator...  \n",
       "4     0000_optim.args_.betas__0.95__0.99___estimator...  \n",
       "...                                                 ...  \n",
       "1395  0005_optim.args_.betas__0.5__0.999___estimator...  \n",
       "1396  0005_optim.args_.betas__0.5__0.999___estimator...  \n",
       "1397  0005_optim.args_.betas__0.5__0.999___estimator...  \n",
       "1398  0005_optim.args_.betas__0.5__0.999___estimator...  \n",
       "1399  0005_optim.args_.betas__0.5__0.999___estimator...  \n",
       "\n",
       "[720 rows x 36 columns]"
      ]
     },
     "execution_count": 157,
     "metadata": {},
     "output_type": "execute_result"
    }
   ],
   "source": [
    "# df[df['epoch_type'] == 'validation']\n",
    "df[df['epoch_type'] == 'training']\n"
   ]
  },
  {
   "cell_type": "code",
   "execution_count": 158,
   "metadata": {},
   "outputs": [
    {
     "name": "stdout",
     "output_type": "stream",
     "text": [
      "Best hyperparameters:\n",
      "sub_exp_cfg_optim.args_.betas                  [0.95, 0.99]\n",
      "sub_exp_cfg_estimator.args_.lin_hidden_size              64\n",
      "Name: 5, dtype: object\n",
      "Best mean reward: -6.183011074768355\n"
     ]
    }
   ],
   "source": [
    "# Define hyperparameter columns\n",
    "hyperparam_columns = [col for col in df.columns if \"sub_exp_cfg\" in col]\n",
    "\n",
    "# Group by hyperparameter values and compute mean episode_rewards_mean\n",
    "averaged_results = df.groupby(hyperparam_columns, as_index=False).agg({\n",
    "    'episode_rewards_mean': 'mean',  # Averaging the performance metric\n",
    "    'sub_experiment_path': 'first'   # Keep a reference to an experiment path\n",
    "})\n",
    "\n",
    "# Find the best hyperparameter set based on the highest mean reward\n",
    "best_row = averaged_results.loc[averaged_results['episode_rewards_mean'].idxmax()]\n",
    "\n",
    "# Print the best experiment path and hyperparameters\n",
    "print(f\"Best hyperparameters:\\n{best_row[hyperparam_columns]}\")\n",
    "print(f\"Best mean reward: {best_row['episode_rewards_mean']}\")"
   ]
  },
  {
   "cell_type": "code",
   "execution_count": 159,
   "metadata": {},
   "outputs": [
    {
     "data": {
      "text/html": [
       "<div>\n",
       "<style scoped>\n",
       "    .dataframe tbody tr th:only-of-type {\n",
       "        vertical-align: middle;\n",
       "    }\n",
       "\n",
       "    .dataframe tbody tr th {\n",
       "        vertical-align: top;\n",
       "    }\n",
       "\n",
       "    .dataframe thead th {\n",
       "        text-align: right;\n",
       "    }\n",
       "</style>\n",
       "<table border=\"1\" class=\"dataframe\">\n",
       "  <thead>\n",
       "    <tr style=\"text-align: right;\">\n",
       "      <th></th>\n",
       "      <th>sub_exp_cfg_optim.args_.betas</th>\n",
       "      <th>sub_exp_cfg_estimator.args_.lin_hidden_size</th>\n",
       "      <th>episode_rewards_mean</th>\n",
       "      <th>sub_experiment_path</th>\n",
       "    </tr>\n",
       "  </thead>\n",
       "  <tbody>\n",
       "    <tr>\n",
       "      <th>0</th>\n",
       "      <td>[0.5, 0.999]</td>\n",
       "      <td>128</td>\n",
       "      <td>-37.732769</td>\n",
       "      <td>d:\\Work\\repos\\RL\\phd-rl-algos\\dqn\\opinion_dyna...</td>\n",
       "    </tr>\n",
       "    <tr>\n",
       "      <th>1</th>\n",
       "      <td>[0.5, 0.999]</td>\n",
       "      <td>256</td>\n",
       "      <td>-48.279381</td>\n",
       "      <td>d:\\Work\\repos\\RL\\phd-rl-algos\\dqn\\opinion_dyna...</td>\n",
       "    </tr>\n",
       "    <tr>\n",
       "      <th>2</th>\n",
       "      <td>[0.5, 0.999]</td>\n",
       "      <td>64</td>\n",
       "      <td>-8.876617</td>\n",
       "      <td>d:\\Work\\repos\\RL\\phd-rl-algos\\dqn\\opinion_dyna...</td>\n",
       "    </tr>\n",
       "    <tr>\n",
       "      <th>3</th>\n",
       "      <td>[0.95, 0.99]</td>\n",
       "      <td>128</td>\n",
       "      <td>-15.729071</td>\n",
       "      <td>d:\\Work\\repos\\RL\\phd-rl-algos\\dqn\\opinion_dyna...</td>\n",
       "    </tr>\n",
       "    <tr>\n",
       "      <th>4</th>\n",
       "      <td>[0.95, 0.99]</td>\n",
       "      <td>256</td>\n",
       "      <td>-40.798531</td>\n",
       "      <td>d:\\Work\\repos\\RL\\phd-rl-algos\\dqn\\opinion_dyna...</td>\n",
       "    </tr>\n",
       "    <tr>\n",
       "      <th>5</th>\n",
       "      <td>[0.95, 0.99]</td>\n",
       "      <td>64</td>\n",
       "      <td>-6.183011</td>\n",
       "      <td>d:\\Work\\repos\\RL\\phd-rl-algos\\dqn\\opinion_dyna...</td>\n",
       "    </tr>\n",
       "  </tbody>\n",
       "</table>\n",
       "</div>"
      ],
      "text/plain": [
       "  sub_exp_cfg_optim.args_.betas sub_exp_cfg_estimator.args_.lin_hidden_size  \\\n",
       "0                  [0.5, 0.999]                                         128   \n",
       "1                  [0.5, 0.999]                                         256   \n",
       "2                  [0.5, 0.999]                                          64   \n",
       "3                  [0.95, 0.99]                                         128   \n",
       "4                  [0.95, 0.99]                                         256   \n",
       "5                  [0.95, 0.99]                                          64   \n",
       "\n",
       "   episode_rewards_mean                                sub_experiment_path  \n",
       "0            -37.732769  d:\\Work\\repos\\RL\\phd-rl-algos\\dqn\\opinion_dyna...  \n",
       "1            -48.279381  d:\\Work\\repos\\RL\\phd-rl-algos\\dqn\\opinion_dyna...  \n",
       "2             -8.876617  d:\\Work\\repos\\RL\\phd-rl-algos\\dqn\\opinion_dyna...  \n",
       "3            -15.729071  d:\\Work\\repos\\RL\\phd-rl-algos\\dqn\\opinion_dyna...  \n",
       "4            -40.798531  d:\\Work\\repos\\RL\\phd-rl-algos\\dqn\\opinion_dyna...  \n",
       "5             -6.183011  d:\\Work\\repos\\RL\\phd-rl-algos\\dqn\\opinion_dyna...  "
      ]
     },
     "execution_count": 159,
     "metadata": {},
     "output_type": "execute_result"
    }
   ],
   "source": [
    "averaged_results"
   ]
  },
  {
   "cell_type": "code",
   "execution_count": 160,
   "metadata": {},
   "outputs": [],
   "source": [
    "# selected_metric = 'episode_rewards_mean'\n",
    "# hue_col = \"sub_exp_cfg_agent_params.args_.action_w_noise_amplitude\"\n",
    "\n",
    "# # Filter for validation episodes\n",
    "# validation_df = df[df['epoch_type'] == 'validation']\n",
    "\n",
    "# # Get the unique sorted frame_stamp values\n",
    "# unique_frames = np.sort(validation_df['frame_stamp'].unique())\n",
    "# N = 1\n",
    "# # Get all frame_stamp values after the first N unique ones\n",
    "# filtered_frames = unique_frames[N:]\n",
    "\n",
    "# # Filter the DataFrame to only include rows with these frame_stamp values\n",
    "# filtered_df = validation_df[validation_df['frame_stamp'].isin(filtered_frames)]\n",
    "\n",
    "# plt.figure(figsize=(10, 6))\n",
    "# sns.lineplot(data=filtered_df, x='frame_stamp', y=selected_metric, hue=hue_col)\n",
    "# plt.ylabel(selected_metric)\n",
    "# plt.xlabel('Frame Stamp')\n",
    "# plt.show()"
   ]
  },
  {
   "cell_type": "code",
   "execution_count": 161,
   "metadata": {},
   "outputs": [
    {
     "data": {
      "image/png": "[encoded data removed]",
      "text/plain": [
       "<Figure size 1000x600 with 1 Axes>"
      ]
     },
     "metadata": {},
     "output_type": "display_data"
    }
   ],
   "source": [
    "\n",
    "selected_metric = 'episode_discounted_rewards_mean'\n",
    "# hue_col = \"sub_exp_cfg_agent_params.args_.action_w_noise_amplitude\"\n",
    "hue_col = \"experiment_name\"\n",
    "\n",
    "# validation_df = df[df['epoch_type'] == 'validation']\n",
    "validation_df = df[df['epoch_type'] == 'training']\n",
    "\n",
    "\n",
    "# Create a new figure for each environment\n",
    "plt.figure(figsize=(10, 6))\n",
    "# sns.lineplot(data=df, x='frame_stamp', y=selected_metric, hue='model')\n",
    "sns.lineplot(data=validation_df, \n",
    "             x='frame_stamp', \n",
    "             y=selected_metric, \n",
    "             hue=hue_col,\n",
    "            #  units='seed', # Comment this to see mean + cf\n",
    "            #  estimator=None, # Comment this to see mean + cf\n",
    "             )\n",
    "\n",
    "plt.ylabel(selected_metric)\n",
    "plt.xlabel('Frame Stamp')\n",
    "\n",
    "# Place the legend outside the plot\n",
    "plt.legend(loc='center left', bbox_to_anchor=(1.0, 0.5), title='Parameters')\n",
    "plt.show()"
   ]
  },
  {
   "cell_type": "code",
   "execution_count": 162,
   "metadata": {},
   "outputs": [
    {
     "data": {
      "text/plain": [
       "Index(['epoch_type', 'frame_stamp', 'greedy_epsilon', 'episode_rewards_min',\n",
       "       'episode_rewards_max', 'episode_rewards_mean', 'episode_rewards_median',\n",
       "       'episode_rewards_std', 'episode_discounted_rewards_min',\n",
       "       'episode_discounted_rewards_max', 'episode_discounted_rewards_mean',\n",
       "       'episode_discounted_rewards_median', 'episode_discounted_rewards_std',\n",
       "       'episode_frames_min', 'episode_frames_max', 'episode_frames_mean',\n",
       "       'episode_frames_median', 'episode_frames_std', 'episode_losses_min',\n",
       "       'episode_losses_max', 'episode_losses_mean', 'episode_losses_median',\n",
       "       'episode_losses_std', 'episode_max_qs_min', 'episode_max_qs_max',\n",
       "       'episode_max_qs_mean', 'episode_max_qs_median', 'episode_max_qs_std',\n",
       "       'policy_trained_times', 'target_trained_times', 'epoch_time',\n",
       "       'sub_exp_cfg_optim.args_.betas',\n",
       "       'sub_exp_cfg_estimator.args_.lin_hidden_size', 'sub_experiment_path',\n",
       "       'seed', 'experiment_name'],\n",
       "      dtype='object')"
      ]
     },
     "execution_count": 162,
     "metadata": {},
     "output_type": "execute_result"
    }
   ],
   "source": [
    "df.columns"
   ]
  },
  {
   "cell_type": "code",
   "execution_count": 163,
   "metadata": {},
   "outputs": [
    {
     "data": {
      "image/png": "[encoded data removed]",
      "text/plain": [
       "<Figure size 1000x600 with 1 Axes>"
      ]
     },
     "metadata": {},
     "output_type": "display_data"
    }
   ],
   "source": [
    "import matplotlib.pyplot as plt\n",
    "import seaborn as sns\n",
    "\n",
    "selected_metric = 'episode_frames_mean'\n",
    "hue_col = \"experiment_name\"  # or another distinguishing column like \"sub_experiment_path\"\n",
    "\n",
    "validation_df = df[df['epoch_type'] == 'validation']\n",
    "\n",
    "# Plot individual lines for each run\n",
    "plt.figure(figsize=(10, 6))\n",
    "sns.lineplot(\n",
    "    data=validation_df,\n",
    "    x='frame_stamp',\n",
    "    y=selected_metric,\n",
    "    hue=hue_col,\n",
    "    estimator=None,  # ← disables aggregation\n",
    "    units='sub_experiment_path',  # ← groups lines by unique run\n",
    "    lw=1,  # line width\n",
    "    alpha=0.7  # transparency\n",
    ")\n",
    "\n",
    "plt.ylabel(selected_metric)\n",
    "plt.xlabel('Frame Stamp')\n",
    "plt.title('Validation Reward Trajectories (Per Run)')\n",
    "\n",
    "# Move legend outside the plot\n",
    "plt.legend(loc='center left', bbox_to_anchor=(1.0, 0.5), title='Experiment')\n",
    "plt.tight_layout()\n",
    "plt.show()\n"
   ]
  },
  {
   "cell_type": "code",
   "execution_count": 164,
   "metadata": {},
   "outputs": [
    {
     "data": {
      "text/html": [
       "<div>\n",
       "<style scoped>\n",
       "    .dataframe tbody tr th:only-of-type {\n",
       "        vertical-align: middle;\n",
       "    }\n",
       "\n",
       "    .dataframe tbody tr th {\n",
       "        vertical-align: top;\n",
       "    }\n",
       "\n",
       "    .dataframe thead th {\n",
       "        text-align: right;\n",
       "    }\n",
       "</style>\n",
       "<table border=\"1\" class=\"dataframe\">\n",
       "  <thead>\n",
       "    <tr style=\"text-align: right;\">\n",
       "      <th></th>\n",
       "      <th>epoch_type</th>\n",
       "      <th>frame_stamp</th>\n",
       "      <th>episode_rewards_mean</th>\n",
       "      <th>episode_frames_mean</th>\n",
       "      <th>episode_discounted_rewards_mean</th>\n",
       "      <th>policy_trained_times</th>\n",
       "      <th>target_trained_times</th>\n",
       "      <th>epoch_time</th>\n",
       "      <th>seed</th>\n",
       "      <th>experiment_name</th>\n",
       "      <th>sub_experiment_path</th>\n",
       "      <th>sub_exp_cfg_optim.args_.betas</th>\n",
       "      <th>sub_exp_cfg_estimator.args_.lin_hidden_size</th>\n",
       "    </tr>\n",
       "  </thead>\n",
       "  <tbody>\n",
       "    <tr>\n",
       "      <th>79</th>\n",
       "      <td>validation</td>\n",
       "      <td>8000000</td>\n",
       "      <td>-8.189205</td>\n",
       "      <td>25.0</td>\n",
       "      <td>-7.698782</td>\n",
       "      <td>NaN</td>\n",
       "      <td>NaN</td>\n",
       "      <td>0 days 00:00:00.703838</td>\n",
       "      <td>0</td>\n",
       "      <td>0000_optim.args_.betas__0.95__0.99___estimator...</td>\n",
       "      <td>d:\\Work\\repos\\RL\\phd-rl-algos\\dqn\\opinion_dyna...</td>\n",
       "      <td>[0.95, 0.99]</td>\n",
       "      <td>64</td>\n",
       "    </tr>\n",
       "    <tr>\n",
       "      <th>159</th>\n",
       "      <td>validation</td>\n",
       "      <td>8000000</td>\n",
       "      <td>-7.743422</td>\n",
       "      <td>25.0</td>\n",
       "      <td>-7.285861</td>\n",
       "      <td>NaN</td>\n",
       "      <td>NaN</td>\n",
       "      <td>0 days 00:00:00.720284</td>\n",
       "      <td>1</td>\n",
       "      <td>0000_optim.args_.betas__0.95__0.99___estimator...</td>\n",
       "      <td>d:\\Work\\repos\\RL\\phd-rl-algos\\dqn\\opinion_dyna...</td>\n",
       "      <td>[0.95, 0.99]</td>\n",
       "      <td>64</td>\n",
       "    </tr>\n",
       "    <tr>\n",
       "      <th>239</th>\n",
       "      <td>validation</td>\n",
       "      <td>8000000</td>\n",
       "      <td>-7.704359</td>\n",
       "      <td>25.0</td>\n",
       "      <td>-7.249328</td>\n",
       "      <td>NaN</td>\n",
       "      <td>NaN</td>\n",
       "      <td>0 days 00:00:00.737265</td>\n",
       "      <td>2</td>\n",
       "      <td>0000_optim.args_.betas__0.95__0.99___estimator...</td>\n",
       "      <td>d:\\Work\\repos\\RL\\phd-rl-algos\\dqn\\opinion_dyna...</td>\n",
       "      <td>[0.95, 0.99]</td>\n",
       "      <td>64</td>\n",
       "    </tr>\n",
       "    <tr>\n",
       "      <th>319</th>\n",
       "      <td>validation</td>\n",
       "      <td>8000000</td>\n",
       "      <td>-74.774726</td>\n",
       "      <td>150.0</td>\n",
       "      <td>-44.752620</td>\n",
       "      <td>NaN</td>\n",
       "      <td>NaN</td>\n",
       "      <td>0 days 00:00:00.786198</td>\n",
       "      <td>0</td>\n",
       "      <td>0001_optim.args_.betas__0.95__0.99___estimator...</td>\n",
       "      <td>d:\\Work\\repos\\RL\\phd-rl-algos\\dqn\\opinion_dyna...</td>\n",
       "      <td>[0.95, 0.99]</td>\n",
       "      <td>128</td>\n",
       "    </tr>\n",
       "    <tr>\n",
       "      <th>399</th>\n",
       "      <td>validation</td>\n",
       "      <td>8000000</td>\n",
       "      <td>-52.263770</td>\n",
       "      <td>150.0</td>\n",
       "      <td>-34.591907</td>\n",
       "      <td>NaN</td>\n",
       "      <td>NaN</td>\n",
       "      <td>0 days 00:00:00.790335</td>\n",
       "      <td>1</td>\n",
       "      <td>0001_optim.args_.betas__0.95__0.99___estimator...</td>\n",
       "      <td>d:\\Work\\repos\\RL\\phd-rl-algos\\dqn\\opinion_dyna...</td>\n",
       "      <td>[0.95, 0.99]</td>\n",
       "      <td>128</td>\n",
       "    </tr>\n",
       "    <tr>\n",
       "      <th>479</th>\n",
       "      <td>validation</td>\n",
       "      <td>8000000</td>\n",
       "      <td>-51.937994</td>\n",
       "      <td>150.0</td>\n",
       "      <td>-34.022223</td>\n",
       "      <td>NaN</td>\n",
       "      <td>NaN</td>\n",
       "      <td>0 days 00:00:00.800215</td>\n",
       "      <td>2</td>\n",
       "      <td>0001_optim.args_.betas__0.95__0.99___estimator...</td>\n",
       "      <td>d:\\Work\\repos\\RL\\phd-rl-algos\\dqn\\opinion_dyna...</td>\n",
       "      <td>[0.95, 0.99]</td>\n",
       "      <td>128</td>\n",
       "    </tr>\n",
       "    <tr>\n",
       "      <th>559</th>\n",
       "      <td>validation</td>\n",
       "      <td>8000000</td>\n",
       "      <td>-61.699871</td>\n",
       "      <td>150.0</td>\n",
       "      <td>-38.765557</td>\n",
       "      <td>NaN</td>\n",
       "      <td>NaN</td>\n",
       "      <td>0 days 00:00:00.824323</td>\n",
       "      <td>0</td>\n",
       "      <td>0002_optim.args_.betas__0.95__0.99___estimator...</td>\n",
       "      <td>d:\\Work\\repos\\RL\\phd-rl-algos\\dqn\\opinion_dyna...</td>\n",
       "      <td>[0.95, 0.99]</td>\n",
       "      <td>256</td>\n",
       "    </tr>\n",
       "    <tr>\n",
       "      <th>639</th>\n",
       "      <td>validation</td>\n",
       "      <td>8000000</td>\n",
       "      <td>-51.937994</td>\n",
       "      <td>150.0</td>\n",
       "      <td>-34.022223</td>\n",
       "      <td>NaN</td>\n",
       "      <td>NaN</td>\n",
       "      <td>0 days 00:00:00.876771</td>\n",
       "      <td>1</td>\n",
       "      <td>0002_optim.args_.betas__0.95__0.99___estimator...</td>\n",
       "      <td>d:\\Work\\repos\\RL\\phd-rl-algos\\dqn\\opinion_dyna...</td>\n",
       "      <td>[0.95, 0.99]</td>\n",
       "      <td>256</td>\n",
       "    </tr>\n",
       "    <tr>\n",
       "      <th>719</th>\n",
       "      <td>validation</td>\n",
       "      <td>8000000</td>\n",
       "      <td>-44.983639</td>\n",
       "      <td>142.0</td>\n",
       "      <td>-30.774614</td>\n",
       "      <td>NaN</td>\n",
       "      <td>NaN</td>\n",
       "      <td>0 days 00:00:00.890038</td>\n",
       "      <td>2</td>\n",
       "      <td>0002_optim.args_.betas__0.95__0.99___estimator...</td>\n",
       "      <td>d:\\Work\\repos\\RL\\phd-rl-algos\\dqn\\opinion_dyna...</td>\n",
       "      <td>[0.95, 0.99]</td>\n",
       "      <td>256</td>\n",
       "    </tr>\n",
       "    <tr>\n",
       "      <th>799</th>\n",
       "      <td>validation</td>\n",
       "      <td>8000000</td>\n",
       "      <td>-55.103918</td>\n",
       "      <td>150.0</td>\n",
       "      <td>-35.163232</td>\n",
       "      <td>NaN</td>\n",
       "      <td>NaN</td>\n",
       "      <td>0 days 00:00:00.740535</td>\n",
       "      <td>0</td>\n",
       "      <td>0003_optim.args_.betas__0.5__0.999___estimator...</td>\n",
       "      <td>d:\\Work\\repos\\RL\\phd-rl-algos\\dqn\\opinion_dyna...</td>\n",
       "      <td>[0.5, 0.999]</td>\n",
       "      <td>64</td>\n",
       "    </tr>\n",
       "    <tr>\n",
       "      <th>879</th>\n",
       "      <td>validation</td>\n",
       "      <td>8000000</td>\n",
       "      <td>-8.252879</td>\n",
       "      <td>27.0</td>\n",
       "      <td>-7.731329</td>\n",
       "      <td>NaN</td>\n",
       "      <td>NaN</td>\n",
       "      <td>0 days 00:00:00.697881</td>\n",
       "      <td>1</td>\n",
       "      <td>0003_optim.args_.betas__0.5__0.999___estimator...</td>\n",
       "      <td>d:\\Work\\repos\\RL\\phd-rl-algos\\dqn\\opinion_dyna...</td>\n",
       "      <td>[0.5, 0.999]</td>\n",
       "      <td>64</td>\n",
       "    </tr>\n",
       "    <tr>\n",
       "      <th>959</th>\n",
       "      <td>validation</td>\n",
       "      <td>8000000</td>\n",
       "      <td>-7.832527</td>\n",
       "      <td>25.0</td>\n",
       "      <td>-7.368363</td>\n",
       "      <td>NaN</td>\n",
       "      <td>NaN</td>\n",
       "      <td>0 days 00:00:00.652368</td>\n",
       "      <td>2</td>\n",
       "      <td>0003_optim.args_.betas__0.5__0.999___estimator...</td>\n",
       "      <td>d:\\Work\\repos\\RL\\phd-rl-algos\\dqn\\opinion_dyna...</td>\n",
       "      <td>[0.5, 0.999]</td>\n",
       "      <td>64</td>\n",
       "    </tr>\n",
       "    <tr>\n",
       "      <th>1039</th>\n",
       "      <td>validation</td>\n",
       "      <td>8000000</td>\n",
       "      <td>-56.655158</td>\n",
       "      <td>150.0</td>\n",
       "      <td>-36.348167</td>\n",
       "      <td>NaN</td>\n",
       "      <td>NaN</td>\n",
       "      <td>0 days 00:00:00.645846</td>\n",
       "      <td>0</td>\n",
       "      <td>0004_optim.args_.betas__0.5__0.999___estimator...</td>\n",
       "      <td>d:\\Work\\repos\\RL\\phd-rl-algos\\dqn\\opinion_dyna...</td>\n",
       "      <td>[0.5, 0.999]</td>\n",
       "      <td>128</td>\n",
       "    </tr>\n",
       "    <tr>\n",
       "      <th>1119</th>\n",
       "      <td>validation</td>\n",
       "      <td>8000000</td>\n",
       "      <td>-49.919645</td>\n",
       "      <td>150.0</td>\n",
       "      <td>-33.109910</td>\n",
       "      <td>NaN</td>\n",
       "      <td>NaN</td>\n",
       "      <td>0 days 00:00:00.719160</td>\n",
       "      <td>1</td>\n",
       "      <td>0004_optim.args_.betas__0.5__0.999___estimator...</td>\n",
       "      <td>d:\\Work\\repos\\RL\\phd-rl-algos\\dqn\\opinion_dyna...</td>\n",
       "      <td>[0.5, 0.999]</td>\n",
       "      <td>128</td>\n",
       "    </tr>\n",
       "    <tr>\n",
       "      <th>1199</th>\n",
       "      <td>validation</td>\n",
       "      <td>8000000</td>\n",
       "      <td>-57.974955</td>\n",
       "      <td>150.0</td>\n",
       "      <td>-36.946843</td>\n",
       "      <td>NaN</td>\n",
       "      <td>NaN</td>\n",
       "      <td>0 days 00:00:00.596597</td>\n",
       "      <td>2</td>\n",
       "      <td>0004_optim.args_.betas__0.5__0.999___estimator...</td>\n",
       "      <td>d:\\Work\\repos\\RL\\phd-rl-algos\\dqn\\opinion_dyna...</td>\n",
       "      <td>[0.5, 0.999]</td>\n",
       "      <td>128</td>\n",
       "    </tr>\n",
       "    <tr>\n",
       "      <th>1279</th>\n",
       "      <td>validation</td>\n",
       "      <td>8000000</td>\n",
       "      <td>-62.519719</td>\n",
       "      <td>150.0</td>\n",
       "      <td>-39.169915</td>\n",
       "      <td>NaN</td>\n",
       "      <td>NaN</td>\n",
       "      <td>0 days 00:00:00.576038</td>\n",
       "      <td>0</td>\n",
       "      <td>0005_optim.args_.betas__0.5__0.999___estimator...</td>\n",
       "      <td>d:\\Work\\repos\\RL\\phd-rl-algos\\dqn\\opinion_dyna...</td>\n",
       "      <td>[0.5, 0.999]</td>\n",
       "      <td>256</td>\n",
       "    </tr>\n",
       "    <tr>\n",
       "      <th>1359</th>\n",
       "      <td>validation</td>\n",
       "      <td>8000000</td>\n",
       "      <td>-72.325587</td>\n",
       "      <td>150.0</td>\n",
       "      <td>-43.465418</td>\n",
       "      <td>NaN</td>\n",
       "      <td>NaN</td>\n",
       "      <td>0 days 00:00:00.566133</td>\n",
       "      <td>1</td>\n",
       "      <td>0005_optim.args_.betas__0.5__0.999___estimator...</td>\n",
       "      <td>d:\\Work\\repos\\RL\\phd-rl-algos\\dqn\\opinion_dyna...</td>\n",
       "      <td>[0.5, 0.999]</td>\n",
       "      <td>256</td>\n",
       "    </tr>\n",
       "    <tr>\n",
       "      <th>1439</th>\n",
       "      <td>validation</td>\n",
       "      <td>8000000</td>\n",
       "      <td>-52.005059</td>\n",
       "      <td>150.0</td>\n",
       "      <td>-34.112429</td>\n",
       "      <td>NaN</td>\n",
       "      <td>NaN</td>\n",
       "      <td>0 days 00:00:00.531327</td>\n",
       "      <td>2</td>\n",
       "      <td>0005_optim.args_.betas__0.5__0.999___estimator...</td>\n",
       "      <td>d:\\Work\\repos\\RL\\phd-rl-algos\\dqn\\opinion_dyna...</td>\n",
       "      <td>[0.5, 0.999]</td>\n",
       "      <td>256</td>\n",
       "    </tr>\n",
       "  </tbody>\n",
       "</table>\n",
       "</div>"
      ],
      "text/plain": [
       "      epoch_type  frame_stamp  episode_rewards_mean  episode_frames_mean  \\\n",
       "79    validation      8000000             -8.189205                 25.0   \n",
       "159   validation      8000000             -7.743422                 25.0   \n",
       "239   validation      8000000             -7.704359                 25.0   \n",
       "319   validation      8000000            -74.774726                150.0   \n",
       "399   validation      8000000            -52.263770                150.0   \n",
       "479   validation      8000000            -51.937994                150.0   \n",
       "559   validation      8000000            -61.699871                150.0   \n",
       "639   validation      8000000            -51.937994                150.0   \n",
       "719   validation      8000000            -44.983639                142.0   \n",
       "799   validation      8000000            -55.103918                150.0   \n",
       "879   validation      8000000             -8.252879                 27.0   \n",
       "959   validation      8000000             -7.832527                 25.0   \n",
       "1039  validation      8000000            -56.655158                150.0   \n",
       "1119  validation      8000000            -49.919645                150.0   \n",
       "1199  validation      8000000            -57.974955                150.0   \n",
       "1279  validation      8000000            -62.519719                150.0   \n",
       "1359  validation      8000000            -72.325587                150.0   \n",
       "1439  validation      8000000            -52.005059                150.0   \n",
       "\n",
       "      episode_discounted_rewards_mean  policy_trained_times  \\\n",
       "79                          -7.698782                   NaN   \n",
       "159                         -7.285861                   NaN   \n",
       "239                         -7.249328                   NaN   \n",
       "319                        -44.752620                   NaN   \n",
       "399                        -34.591907                   NaN   \n",
       "479                        -34.022223                   NaN   \n",
       "559                        -38.765557                   NaN   \n",
       "639                        -34.022223                   NaN   \n",
       "719                        -30.774614                   NaN   \n",
       "799                        -35.163232                   NaN   \n",
       "879                         -7.731329                   NaN   \n",
       "959                         -7.368363                   NaN   \n",
       "1039                       -36.348167                   NaN   \n",
       "1119                       -33.109910                   NaN   \n",
       "1199                       -36.946843                   NaN   \n",
       "1279                       -39.169915                   NaN   \n",
       "1359                       -43.465418                   NaN   \n",
       "1439                       -34.112429                   NaN   \n",
       "\n",
       "      target_trained_times             epoch_time seed  \\\n",
       "79                     NaN 0 days 00:00:00.703838    0   \n",
       "159                    NaN 0 days 00:00:00.720284    1   \n",
       "239                    NaN 0 days 00:00:00.737265    2   \n",
       "319                    NaN 0 days 00:00:00.786198    0   \n",
       "399                    NaN 0 days 00:00:00.790335    1   \n",
       "479                    NaN 0 days 00:00:00.800215    2   \n",
       "559                    NaN 0 days 00:00:00.824323    0   \n",
       "639                    NaN 0 days 00:00:00.876771    1   \n",
       "719                    NaN 0 days 00:00:00.890038    2   \n",
       "799                    NaN 0 days 00:00:00.740535    0   \n",
       "879                    NaN 0 days 00:00:00.697881    1   \n",
       "959                    NaN 0 days 00:00:00.652368    2   \n",
       "1039                   NaN 0 days 00:00:00.645846    0   \n",
       "1119                   NaN 0 days 00:00:00.719160    1   \n",
       "1199                   NaN 0 days 00:00:00.596597    2   \n",
       "1279                   NaN 0 days 00:00:00.576038    0   \n",
       "1359                   NaN 0 days 00:00:00.566133    1   \n",
       "1439                   NaN 0 days 00:00:00.531327    2   \n",
       "\n",
       "                                        experiment_name  \\\n",
       "79    0000_optim.args_.betas__0.95__0.99___estimator...   \n",
       "159   0000_optim.args_.betas__0.95__0.99___estimator...   \n",
       "239   0000_optim.args_.betas__0.95__0.99___estimator...   \n",
       "319   0001_optim.args_.betas__0.95__0.99___estimator...   \n",
       "399   0001_optim.args_.betas__0.95__0.99___estimator...   \n",
       "479   0001_optim.args_.betas__0.95__0.99___estimator...   \n",
       "559   0002_optim.args_.betas__0.95__0.99___estimator...   \n",
       "639   0002_optim.args_.betas__0.95__0.99___estimator...   \n",
       "719   0002_optim.args_.betas__0.95__0.99___estimator...   \n",
       "799   0003_optim.args_.betas__0.5__0.999___estimator...   \n",
       "879   0003_optim.args_.betas__0.5__0.999___estimator...   \n",
       "959   0003_optim.args_.betas__0.5__0.999___estimator...   \n",
       "1039  0004_optim.args_.betas__0.5__0.999___estimator...   \n",
       "1119  0004_optim.args_.betas__0.5__0.999___estimator...   \n",
       "1199  0004_optim.args_.betas__0.5__0.999___estimator...   \n",
       "1279  0005_optim.args_.betas__0.5__0.999___estimator...   \n",
       "1359  0005_optim.args_.betas__0.5__0.999___estimator...   \n",
       "1439  0005_optim.args_.betas__0.5__0.999___estimator...   \n",
       "\n",
       "                                    sub_experiment_path  \\\n",
       "79    d:\\Work\\repos\\RL\\phd-rl-algos\\dqn\\opinion_dyna...   \n",
       "159   d:\\Work\\repos\\RL\\phd-rl-algos\\dqn\\opinion_dyna...   \n",
       "239   d:\\Work\\repos\\RL\\phd-rl-algos\\dqn\\opinion_dyna...   \n",
       "319   d:\\Work\\repos\\RL\\phd-rl-algos\\dqn\\opinion_dyna...   \n",
       "399   d:\\Work\\repos\\RL\\phd-rl-algos\\dqn\\opinion_dyna...   \n",
       "479   d:\\Work\\repos\\RL\\phd-rl-algos\\dqn\\opinion_dyna...   \n",
       "559   d:\\Work\\repos\\RL\\phd-rl-algos\\dqn\\opinion_dyna...   \n",
       "639   d:\\Work\\repos\\RL\\phd-rl-algos\\dqn\\opinion_dyna...   \n",
       "719   d:\\Work\\repos\\RL\\phd-rl-algos\\dqn\\opinion_dyna...   \n",
       "799   d:\\Work\\repos\\RL\\phd-rl-algos\\dqn\\opinion_dyna...   \n",
       "879   d:\\Work\\repos\\RL\\phd-rl-algos\\dqn\\opinion_dyna...   \n",
       "959   d:\\Work\\repos\\RL\\phd-rl-algos\\dqn\\opinion_dyna...   \n",
       "1039  d:\\Work\\repos\\RL\\phd-rl-algos\\dqn\\opinion_dyna...   \n",
       "1119  d:\\Work\\repos\\RL\\phd-rl-algos\\dqn\\opinion_dyna...   \n",
       "1199  d:\\Work\\repos\\RL\\phd-rl-algos\\dqn\\opinion_dyna...   \n",
       "1279  d:\\Work\\repos\\RL\\phd-rl-algos\\dqn\\opinion_dyna...   \n",
       "1359  d:\\Work\\repos\\RL\\phd-rl-algos\\dqn\\opinion_dyna...   \n",
       "1439  d:\\Work\\repos\\RL\\phd-rl-algos\\dqn\\opinion_dyna...   \n",
       "\n",
       "     sub_exp_cfg_optim.args_.betas sub_exp_cfg_estimator.args_.lin_hidden_size  \n",
       "79                    [0.95, 0.99]                                          64  \n",
       "159                   [0.95, 0.99]                                          64  \n",
       "239                   [0.95, 0.99]                                          64  \n",
       "319                   [0.95, 0.99]                                         128  \n",
       "399                   [0.95, 0.99]                                         128  \n",
       "479                   [0.95, 0.99]                                         128  \n",
       "559                   [0.95, 0.99]                                         256  \n",
       "639                   [0.95, 0.99]                                         256  \n",
       "719                   [0.95, 0.99]                                         256  \n",
       "799                   [0.5, 0.999]                                          64  \n",
       "879                   [0.5, 0.999]                                          64  \n",
       "959                   [0.5, 0.999]                                          64  \n",
       "1039                  [0.5, 0.999]                                         128  \n",
       "1119                  [0.5, 0.999]                                         128  \n",
       "1199                  [0.5, 0.999]                                         128  \n",
       "1279                  [0.5, 0.999]                                         256  \n",
       "1359                  [0.5, 0.999]                                         256  \n",
       "1439                  [0.5, 0.999]                                         256  "
      ]
     },
     "execution_count": 164,
     "metadata": {},
     "output_type": "execute_result"
    }
   ],
   "source": [
    "### Select data\n",
    "\n",
    "experiment_columns = [\n",
    "    'epoch_type', 'frame_stamp',\n",
    "    'episode_rewards_mean', 'episode_frames_mean', \n",
    "    'episode_discounted_rewards_mean',\n",
    "    'policy_trained_times', 'target_trained_times', 'epoch_time', \n",
    "       'seed', 'experiment_name', \"sub_experiment_path\"\n",
    "]\n",
    "hyperparam_columns = [\n",
    "   col for col in df.columns if \"sub_exp_cfg\" in col\n",
    "]\n",
    "\n",
    "cols_of_interest = experiment_columns + hyperparam_columns\n",
    "\n",
    "sub_df = df[cols_of_interest]\n",
    "sub_df = sub_df[sub_df['epoch_type'] == 'validation']\n",
    "sub_df = sub_df[sub_df['frame_stamp'] == sub_df['frame_stamp'].max()]\n",
    "\n",
    "sub_df \n"
   ]
  },
  {
   "cell_type": "code",
   "execution_count": 165,
   "metadata": {},
   "outputs": [],
   "source": [
    "# agg_cols = [col for col in sub_df.columns if \"sub_exp_cfg_agent_params\" in col]\n",
    "# aggregated_df = (\n",
    "#     sub_df.groupby(agg_cols)\n",
    "#     .agg(episode_discounted_rewards_mean=(\"episode_discounted_rewards_mean\", \"mean\"))\n",
    "#     .reset_index()\n",
    "# )\n",
    "# aggregated_df"
   ]
  },
  {
   "cell_type": "code",
   "execution_count": 166,
   "metadata": {},
   "outputs": [
    {
     "data": {
      "text/plain": [
       "Index(['epoch_type', 'frame_stamp', 'episode_rewards_mean',\n",
       "       'episode_frames_mean', 'episode_discounted_rewards_mean',\n",
       "       'policy_trained_times', 'target_trained_times', 'epoch_time', 'seed',\n",
       "       'experiment_name', 'sub_experiment_path',\n",
       "       'sub_exp_cfg_optim.args_.betas',\n",
       "       'sub_exp_cfg_estimator.args_.lin_hidden_size'],\n",
       "      dtype='object')"
      ]
     },
     "execution_count": 166,
     "metadata": {},
     "output_type": "execute_result"
    }
   ],
   "source": [
    "sub_df.columns"
   ]
  },
  {
   "cell_type": "code",
   "execution_count": 167,
   "metadata": {},
   "outputs": [
    {
     "name": "stdout",
     "output_type": "stream",
     "text": [
      "d:\\Work\\repos\\RL\\phd-rl-algos\\dqn\\opinion_dynamics\\experiments\\results\\2025Jun04-025014_configs\\0000_optim.args_.betas__0.95__0.99___estimator.args_.lin_hidden_size_64\\2\n"
     ]
    }
   ],
   "source": [
    "print(sub_df[sub_df['episode_rewards_mean'] == sub_df['episode_rewards_mean'].max()]['sub_experiment_path'].values[0])\n",
    "\n"
   ]
  },
  {
   "cell_type": "code",
   "execution_count": 168,
   "metadata": {},
   "outputs": [
    {
     "data": {
      "image/png": "[encoded data removed]",
      "text/plain": [
       "<Figure size 1000x600 with 1 Axes>"
      ]
     },
     "metadata": {},
     "output_type": "display_data"
    }
   ],
   "source": [
    "selected_metric = 'episode_discounted_rewards_mean'\n",
    "hue_col = \"experiment_name\"\n",
    "\n",
    "# Filter for training data only\n",
    "training_df = df[df['epoch_type'] == 'training']\n",
    "# training_df = df[df['epoch_type'] == 'validation']\n",
    "\n",
    "# Step 1: Find best experiment\n",
    "experiment_means = training_df.groupby(hue_col)[selected_metric].mean()\n",
    "best_experiment = experiment_means.idxmax()\n",
    "\n",
    "# Step 2: Filter to that experiment\n",
    "best_exp_df = training_df[training_df[hue_col] == best_experiment]\n",
    "\n",
    "# Step 3: Find best seed within best experiment\n",
    "best_seed = (\n",
    "    best_exp_df.groupby('seed')[selected_metric]\n",
    "    .mean()\n",
    "    .idxmax()\n",
    ")\n",
    "\n",
    "# Step 4: Filter to best seed\n",
    "best_seed_df = best_exp_df[best_exp_df['seed'] == best_seed]\n",
    "\n",
    "# Step 5: Plot\n",
    "plt.figure(figsize=(10, 6))\n",
    "sns.lineplot(\n",
    "    data=best_seed_df,\n",
    "    x='frame_stamp',\n",
    "    y=selected_metric,\n",
    "    lw=2,\n",
    "    label=f\"Seed {best_seed}\"\n",
    ")\n",
    "\n",
    "plt.title(f\"Best seed ({best_seed}) from best experiment: {best_experiment}\")\n",
    "plt.ylabel(selected_metric)\n",
    "plt.xlabel('Frame Stamp')\n",
    "plt.legend()\n",
    "plt.tight_layout()\n",
    "plt.show()"
   ]
  },
  {
   "cell_type": "code",
   "execution_count": 169,
   "metadata": {},
   "outputs": [
    {
     "data": {
      "image/png": "[encoded data removed]",
      "text/plain": [
       "<Figure size 800x230 with 2 Axes>"
      ]
     },
     "metadata": {},
     "output_type": "display_data"
    }
   ],
   "source": [
    "import shap\n",
    "import xgboost\n",
    "import pandas as pd\n",
    "\n",
    "\n",
    "# Define the target metric and hyperparameter columns\n",
    "target_metric = \"episode_rewards_mean\"  # Replace with actual metric column name\n",
    "# Replace with actual hyperparameter column names\n",
    "\n",
    "# Prepare data\n",
    "X = sub_df[hyperparam_columns].apply(pd.to_numeric, errors='coerce')\n",
    "y = sub_df[target_metric].fillna(3 * sub_df[target_metric].min())\n",
    "\n",
    "# Train an XGBoost model to analyze feature importance\n",
    "model = xgboost.XGBRegressor(objective=\"reg:squarederror\", n_estimators=100, random_state=42)\n",
    "model.fit(X, y)\n",
    "\n",
    "# SHAP analysis\n",
    "explainer = shap.Explainer(model)\n",
    "shap_values = explainer(X)\n",
    "\n",
    "# Summary plot (feature importance)\n",
    "shap.summary_plot(shap_values, X)"
   ]
  },
  {
   "cell_type": "code",
   "execution_count": 170,
   "metadata": {},
   "outputs": [
    {
     "data": {
      "text/plain": [
       "['sub_exp_cfg_optim.args_.betas',\n",
       " 'sub_exp_cfg_estimator.args_.lin_hidden_size']"
      ]
     },
     "execution_count": 170,
     "metadata": {},
     "output_type": "execute_result"
    }
   ],
   "source": [
    "hyperparam_columns"
   ]
  },
  {
   "cell_type": "code",
   "execution_count": 171,
   "metadata": {},
   "outputs": [
    {
     "data": {
      "application/vnd.plotly.v1+json": {
       "config": {
        "plotlyServerURL": "https://plot.ly"
       },
       "data": [
        {
         "hovertemplate": "experiment_name=0000_optim.args_.betas__0.95__0.99___estimator.args_.lin_hidden_size_64<br>size=64<br>noise=%{x}<br>episode_rewards_mean=%{y}<extra></extra>",
         "legendgroup": "0000_optim.args_.betas__0.95__0.99___estimator.args_.lin_hidden_size_64",
         "marker": {
          "color": "#636efa",
          "symbol": "circle"
         },
         "mode": "markers",
         "name": "0000_optim.args_.betas__0.95__0.99___estimator.args_.lin_hidden_size_64",
         "orientation": "v",
         "showlegend": true,
         "type": "scatter",
         "x": [
          "[0.95, 0.99]",
          "[0.95, 0.99]",
          "[0.95, 0.99]"
         ],
         "xaxis": "x",
         "y": [
          -8.18920490617632,
          -7.7434224323844685,
          -7.70435894562363
         ],
         "yaxis": "y"
        },
        {
         "hovertemplate": "experiment_name=0001_optim.args_.betas__0.95__0.99___estimator.args_.lin_hidden_size_128<br>size=128<br>noise=%{x}<br>episode_rewards_mean=%{y}<extra></extra>",
         "legendgroup": "0001_optim.args_.betas__0.95__0.99___estimator.args_.lin_hidden_size_128",
         "marker": {
          "color": "#EF553B",
          "symbol": "circle"
         },
         "mode": "markers",
         "name": "0001_optim.args_.betas__0.95__0.99___estimator.args_.lin_hidden_size_128",
         "orientation": "v",
         "showlegend": true,
         "type": "scatter",
         "x": [
          "[0.95, 0.99]",
          "[0.95, 0.99]",
          "[0.95, 0.99]"
         ],
         "xaxis": "x2",
         "y": [
          -74.7747263765123,
          -52.26376981637787,
          -51.93799361277025
         ],
         "yaxis": "y2"
        },
        {
         "hovertemplate": "experiment_name=0002_optim.args_.betas__0.95__0.99___estimator.args_.lin_hidden_size_256<br>size=256<br>noise=%{x}<br>episode_rewards_mean=%{y}<extra></extra>",
         "legendgroup": "0002_optim.args_.betas__0.95__0.99___estimator.args_.lin_hidden_size_256",
         "marker": {
          "color": "#00cc96",
          "symbol": "circle"
         },
         "mode": "markers",
         "name": "0002_optim.args_.betas__0.95__0.99___estimator.args_.lin_hidden_size_256",
         "orientation": "v",
         "showlegend": true,
         "type": "scatter",
         "x": [
          "[0.95, 0.99]",
          "[0.95, 0.99]",
          "[0.95, 0.99]"
         ],
         "xaxis": "x3",
         "y": [
          -61.699871280063356,
          -51.93799361277025,
          -44.98363940896189
         ],
         "yaxis": "y3"
        },
        {
         "hovertemplate": "experiment_name=0003_optim.args_.betas__0.5__0.999___estimator.args_.lin_hidden_size_64<br>size=64<br>noise=%{x}<br>episode_rewards_mean=%{y}<extra></extra>",
         "legendgroup": "0003_optim.args_.betas__0.5__0.999___estimator.args_.lin_hidden_size_64",
         "marker": {
          "color": "#ab63fa",
          "symbol": "circle"
         },
         "mode": "markers",
         "name": "0003_optim.args_.betas__0.5__0.999___estimator.args_.lin_hidden_size_64",
         "orientation": "v",
         "showlegend": true,
         "type": "scatter",
         "x": [
          "[0.5, 0.999]",
          "[0.5, 0.999]",
          "[0.5, 0.999]"
         ],
         "xaxis": "x",
         "y": [
          -55.10391804982923,
          -8.252879213657145,
          -7.832527488227997
         ],
         "yaxis": "y"
        },
        {
         "hovertemplate": "experiment_name=0004_optim.args_.betas__0.5__0.999___estimator.args_.lin_hidden_size_128<br>size=128<br>noise=%{x}<br>episode_rewards_mean=%{y}<extra></extra>",
         "legendgroup": "0004_optim.args_.betas__0.5__0.999___estimator.args_.lin_hidden_size_128",
         "marker": {
          "color": "#FFA15A",
          "symbol": "circle"
         },
         "mode": "markers",
         "name": "0004_optim.args_.betas__0.5__0.999___estimator.args_.lin_hidden_size_128",
         "orientation": "v",
         "showlegend": true,
         "type": "scatter",
         "x": [
          "[0.5, 0.999]",
          "[0.5, 0.999]",
          "[0.5, 0.999]"
         ],
         "xaxis": "x2",
         "y": [
          -56.65515782992019,
          -49.91964498979372,
          -57.974955492858285
         ],
         "yaxis": "y2"
        },
        {
         "hovertemplate": "experiment_name=0005_optim.args_.betas__0.5__0.999___estimator.args_.lin_hidden_size_256<br>size=256<br>noise=%{x}<br>episode_rewards_mean=%{y}<extra></extra>",
         "legendgroup": "0005_optim.args_.betas__0.5__0.999___estimator.args_.lin_hidden_size_256",
         "marker": {
          "color": "#19d3f3",
          "symbol": "circle"
         },
         "mode": "markers",
         "name": "0005_optim.args_.betas__0.5__0.999___estimator.args_.lin_hidden_size_256",
         "orientation": "v",
         "showlegend": true,
         "type": "scatter",
         "x": [
          "[0.5, 0.999]",
          "[0.5, 0.999]",
          "[0.5, 0.999]"
         ],
         "xaxis": "x3",
         "y": [
          -62.519719071653256,
          -72.32558737579394,
          -52.00505948513592
         ],
         "yaxis": "y3"
        }
       ],
       "layout": {
        "annotations": [
         {
          "font": {},
          "showarrow": false,
          "text": "size=64",
          "x": 0.15999999999999998,
          "xanchor": "center",
          "xref": "paper",
          "y": 1,
          "yanchor": "bottom",
          "yref": "paper"
         },
         {
          "font": {},
          "showarrow": false,
          "text": "size=128",
          "x": 0.49999999999999994,
          "xanchor": "center",
          "xref": "paper",
          "y": 1,
          "yanchor": "bottom",
          "yref": "paper"
         },
         {
          "font": {},
          "showarrow": false,
          "text": "size=256",
          "x": 0.8399999999999999,
          "xanchor": "center",
          "xref": "paper",
          "y": 1,
          "yanchor": "bottom",
          "yref": "paper"
         }
        ],
        "height": 600,
        "legend": {
         "title": {
          "text": "experiment_name"
         },
         "tracegroupgap": 0
        },
        "showlegend": false,
        "template": {
         "data": {
          "bar": [
           {
            "error_x": {
             "color": "#2a3f5f"
            },
            "error_y": {
             "color": "#2a3f5f"
            },
            "marker": {
             "line": {
              "color": "#E5ECF6",
              "width": 0.5
             },
             "pattern": {
              "fillmode": "overlay",
              "size": 10,
              "solidity": 0.2
             }
            },
            "type": "bar"
           }
          ],
          "barpolar": [
           {
            "marker": {
             "line": {
              "color": "#E5ECF6",
              "width": 0.5
             },
             "pattern": {
              "fillmode": "overlay",
              "size": 10,
              "solidity": 0.2
             }
            },
            "type": "barpolar"
           }
          ],
          "carpet": [
           {
            "aaxis": {
             "endlinecolor": "#2a3f5f",
             "gridcolor": "white",
             "linecolor": "white",
             "minorgridcolor": "white",
             "startlinecolor": "#2a3f5f"
            },
            "baxis": {
             "endlinecolor": "#2a3f5f",
             "gridcolor": "white",
             "linecolor": "white",
             "minorgridcolor": "white",
             "startlinecolor": "#2a3f5f"
            },
            "type": "carpet"
           }
          ],
          "choropleth": [
           {
            "colorbar": {
             "outlinewidth": 0,
             "ticks": ""
            },
            "type": "choropleth"
           }
          ],
          "contour": [
           {
            "colorbar": {
             "outlinewidth": 0,
             "ticks": ""
            },
            "colorscale": [
             [
              0,
              "#0d0887"
             ],
             [
              0.1111111111111111,
              "#46039f"
             ],
             [
              0.2222222222222222,
              "#7201a8"
             ],
             [
              0.3333333333333333,
              "#9c179e"
             ],
             [
              0.4444444444444444,
              "#bd3786"
             ],
             [
              0.5555555555555556,
              "#d8576b"
             ],
             [
              0.6666666666666666,
              "#ed7953"
             ],
             [
              0.7777777777777778,
              "#fb9f3a"
             ],
             [
              0.8888888888888888,
              "#fdca26"
             ],
             [
              1,
              "#f0f921"
             ]
            ],
            "type": "contour"
           }
          ],
          "contourcarpet": [
           {
            "colorbar": {
             "outlinewidth": 0,
             "ticks": ""
            },
            "type": "contourcarpet"
           }
          ],
          "heatmap": [
           {
            "colorbar": {
             "outlinewidth": 0,
             "ticks": ""
            },
            "colorscale": [
             [
              0,
              "#0d0887"
             ],
             [
              0.1111111111111111,
              "#46039f"
             ],
             [
              0.2222222222222222,
              "#7201a8"
             ],
             [
              0.3333333333333333,
              "#9c179e"
             ],
             [
              0.4444444444444444,
              "#bd3786"
             ],
             [
              0.5555555555555556,
              "#d8576b"
             ],
             [
              0.6666666666666666,
              "#ed7953"
             ],
             [
              0.7777777777777778,
              "#fb9f3a"
             ],
             [
              0.8888888888888888,
              "#fdca26"
             ],
             [
              1,
              "#f0f921"
             ]
            ],
            "type": "heatmap"
           }
          ],
          "heatmapgl": [
           {
            "colorbar": {
             "outlinewidth": 0,
             "ticks": ""
            },
            "colorscale": [
             [
              0,
              "#0d0887"
             ],
             [
              0.1111111111111111,
              "#46039f"
             ],
             [
              0.2222222222222222,
              "#7201a8"
             ],
             [
              0.3333333333333333,
              "#9c179e"
             ],
             [
              0.4444444444444444,
              "#bd3786"
             ],
             [
              0.5555555555555556,
              "#d8576b"
             ],
             [
              0.6666666666666666,
              "#ed7953"
             ],
             [
              0.7777777777777778,
              "#fb9f3a"
             ],
             [
              0.8888888888888888,
              "#fdca26"
             ],
             [
              1,
              "#f0f921"
             ]
            ],
            "type": "heatmapgl"
           }
          ],
          "histogram": [
           {
            "marker": {
             "pattern": {
              "fillmode": "overlay",
              "size": 10,
              "solidity": 0.2
             }
            },
            "type": "histogram"
           }
          ],
          "histogram2d": [
           {
            "colorbar": {
             "outlinewidth": 0,
             "ticks": ""
            },
            "colorscale": [
             [
              0,
              "#0d0887"
             ],
             [
              0.1111111111111111,
              "#46039f"
             ],
             [
              0.2222222222222222,
              "#7201a8"
             ],
             [
              0.3333333333333333,
              "#9c179e"
             ],
             [
              0.4444444444444444,
              "#bd3786"
             ],
             [
              0.5555555555555556,
              "#d8576b"
             ],
             [
              0.6666666666666666,
              "#ed7953"
             ],
             [
              0.7777777777777778,
              "#fb9f3a"
             ],
             [
              0.8888888888888888,
              "#fdca26"
             ],
             [
              1,
              "#f0f921"
             ]
            ],
            "type": "histogram2d"
           }
          ],
          "histogram2dcontour": [
           {
            "colorbar": {
             "outlinewidth": 0,
             "ticks": ""
            },
            "colorscale": [
             [
              0,
              "#0d0887"
             ],
             [
              0.1111111111111111,
              "#46039f"
             ],
             [
              0.2222222222222222,
              "#7201a8"
             ],
             [
              0.3333333333333333,
              "#9c179e"
             ],
             [
              0.4444444444444444,
              "#bd3786"
             ],
             [
              0.5555555555555556,
              "#d8576b"
             ],
             [
              0.6666666666666666,
              "#ed7953"
             ],
             [
              0.7777777777777778,
              "#fb9f3a"
             ],
             [
              0.8888888888888888,
              "#fdca26"
             ],
             [
              1,
              "#f0f921"
             ]
            ],
            "type": "histogram2dcontour"
           }
          ],
          "mesh3d": [
           {
            "colorbar": {
             "outlinewidth": 0,
             "ticks": ""
            },
            "type": "mesh3d"
           }
          ],
          "parcoords": [
           {
            "line": {
             "colorbar": {
              "outlinewidth": 0,
              "ticks": ""
             }
            },
            "type": "parcoords"
           }
          ],
          "pie": [
           {
            "automargin": true,
            "type": "pie"
           }
          ],
          "scatter": [
           {
            "fillpattern": {
             "fillmode": "overlay",
             "size": 10,
             "solidity": 0.2
            },
            "type": "scatter"
           }
          ],
          "scatter3d": [
           {
            "line": {
             "colorbar": {
              "outlinewidth": 0,
              "ticks": ""
             }
            },
            "marker": {
             "colorbar": {
              "outlinewidth": 0,
              "ticks": ""
             }
            },
            "type": "scatter3d"
           }
          ],
          "scattercarpet": [
           {
            "marker": {
             "colorbar": {
              "outlinewidth": 0,
              "ticks": ""
             }
            },
            "type": "scattercarpet"
           }
          ],
          "scattergeo": [
           {
            "marker": {
             "colorbar": {
              "outlinewidth": 0,
              "ticks": ""
             }
            },
            "type": "scattergeo"
           }
          ],
          "scattergl": [
           {
            "marker": {
             "colorbar": {
              "outlinewidth": 0,
              "ticks": ""
             }
            },
            "type": "scattergl"
           }
          ],
          "scattermapbox": [
           {
            "marker": {
             "colorbar": {
              "outlinewidth": 0,
              "ticks": ""
             }
            },
            "type": "scattermapbox"
           }
          ],
          "scatterpolar": [
           {
            "marker": {
             "colorbar": {
              "outlinewidth": 0,
              "ticks": ""
             }
            },
            "type": "scatterpolar"
           }
          ],
          "scatterpolargl": [
           {
            "marker": {
             "colorbar": {
              "outlinewidth": 0,
              "ticks": ""
             }
            },
            "type": "scatterpolargl"
           }
          ],
          "scatterternary": [
           {
            "marker": {
             "colorbar": {
              "outlinewidth": 0,
              "ticks": ""
             }
            },
            "type": "scatterternary"
           }
          ],
          "surface": [
           {
            "colorbar": {
             "outlinewidth": 0,
             "ticks": ""
            },
            "colorscale": [
             [
              0,
              "#0d0887"
             ],
             [
              0.1111111111111111,
              "#46039f"
             ],
             [
              0.2222222222222222,
              "#7201a8"
             ],
             [
              0.3333333333333333,
              "#9c179e"
             ],
             [
              0.4444444444444444,
              "#bd3786"
             ],
             [
              0.5555555555555556,
              "#d8576b"
             ],
             [
              0.6666666666666666,
              "#ed7953"
             ],
             [
              0.7777777777777778,
              "#fb9f3a"
             ],
             [
              0.8888888888888888,
              "#fdca26"
             ],
             [
              1,
              "#f0f921"
             ]
            ],
            "type": "surface"
           }
          ],
          "table": [
           {
            "cells": {
             "fill": {
              "color": "#EBF0F8"
             },
             "line": {
              "color": "white"
             }
            },
            "header": {
             "fill": {
              "color": "#C8D4E3"
             },
             "line": {
              "color": "white"
             }
            },
            "type": "table"
           }
          ]
         },
         "layout": {
          "annotationdefaults": {
           "arrowcolor": "#2a3f5f",
           "arrowhead": 0,
           "arrowwidth": 1
          },
          "autotypenumbers": "strict",
          "coloraxis": {
           "colorbar": {
            "outlinewidth": 0,
            "ticks": ""
           }
          },
          "colorscale": {
           "diverging": [
            [
             0,
             "#8e0152"
            ],
            [
             0.1,
             "#c51b7d"
            ],
            [
             0.2,
             "#de77ae"
            ],
            [
             0.3,
             "#f1b6da"
            ],
            [
             0.4,
             "#fde0ef"
            ],
            [
             0.5,
             "#f7f7f7"
            ],
            [
             0.6,
             "#e6f5d0"
            ],
            [
             0.7,
             "#b8e186"
            ],
            [
             0.8,
             "#7fbc41"
            ],
            [
             0.9,
             "#4d9221"
            ],
            [
             1,
             "#276419"
            ]
           ],
           "sequential": [
            [
             0,
             "#0d0887"
            ],
            [
             0.1111111111111111,
             "#46039f"
            ],
            [
             0.2222222222222222,
             "#7201a8"
            ],
            [
             0.3333333333333333,
             "#9c179e"
            ],
            [
             0.4444444444444444,
             "#bd3786"
            ],
            [
             0.5555555555555556,
             "#d8576b"
            ],
            [
             0.6666666666666666,
             "#ed7953"
            ],
            [
             0.7777777777777778,
             "#fb9f3a"
            ],
            [
             0.8888888888888888,
             "#fdca26"
            ],
            [
             1,
             "#f0f921"
            ]
           ],
           "sequentialminus": [
            [
             0,
             "#0d0887"
            ],
            [
             0.1111111111111111,
             "#46039f"
            ],
            [
             0.2222222222222222,
             "#7201a8"
            ],
            [
             0.3333333333333333,
             "#9c179e"
            ],
            [
             0.4444444444444444,
             "#bd3786"
            ],
            [
             0.5555555555555556,
             "#d8576b"
            ],
            [
             0.6666666666666666,
             "#ed7953"
            ],
            [
             0.7777777777777778,
             "#fb9f3a"
            ],
            [
             0.8888888888888888,
             "#fdca26"
            ],
            [
             1,
             "#f0f921"
            ]
           ]
          },
          "colorway": [
           "#636efa",
           "#EF553B",
           "#00cc96",
           "#ab63fa",
           "#FFA15A",
           "#19d3f3",
           "#FF6692",
           "#B6E880",
           "#FF97FF",
           "#FECB52"
          ],
          "font": {
           "color": "#2a3f5f"
          },
          "geo": {
           "bgcolor": "white",
           "lakecolor": "white",
           "landcolor": "#E5ECF6",
           "showlakes": true,
           "showland": true,
           "subunitcolor": "white"
          },
          "hoverlabel": {
           "align": "left"
          },
          "hovermode": "closest",
          "mapbox": {
           "style": "light"
          },
          "paper_bgcolor": "white",
          "plot_bgcolor": "#E5ECF6",
          "polar": {
           "angularaxis": {
            "gridcolor": "white",
            "linecolor": "white",
            "ticks": ""
           },
           "bgcolor": "#E5ECF6",
           "radialaxis": {
            "gridcolor": "white",
            "linecolor": "white",
            "ticks": ""
           }
          },
          "scene": {
           "xaxis": {
            "backgroundcolor": "#E5ECF6",
            "gridcolor": "white",
            "gridwidth": 2,
            "linecolor": "white",
            "showbackground": true,
            "ticks": "",
            "zerolinecolor": "white"
           },
           "yaxis": {
            "backgroundcolor": "#E5ECF6",
            "gridcolor": "white",
            "gridwidth": 2,
            "linecolor": "white",
            "showbackground": true,
            "ticks": "",
            "zerolinecolor": "white"
           },
           "zaxis": {
            "backgroundcolor": "#E5ECF6",
            "gridcolor": "white",
            "gridwidth": 2,
            "linecolor": "white",
            "showbackground": true,
            "ticks": "",
            "zerolinecolor": "white"
           }
          },
          "shapedefaults": {
           "line": {
            "color": "#2a3f5f"
           }
          },
          "ternary": {
           "aaxis": {
            "gridcolor": "white",
            "linecolor": "white",
            "ticks": ""
           },
           "baxis": {
            "gridcolor": "white",
            "linecolor": "white",
            "ticks": ""
           },
           "bgcolor": "#E5ECF6",
           "caxis": {
            "gridcolor": "white",
            "linecolor": "white",
            "ticks": ""
           }
          },
          "title": {
           "x": 0.05
          },
          "xaxis": {
           "automargin": true,
           "gridcolor": "white",
           "linecolor": "white",
           "ticks": "",
           "title": {
            "standoff": 15
           },
           "zerolinecolor": "white",
           "zerolinewidth": 2
          },
          "yaxis": {
           "automargin": true,
           "gridcolor": "white",
           "linecolor": "white",
           "ticks": "",
           "title": {
            "standoff": 15
           },
           "zerolinecolor": "white",
           "zerolinewidth": 2
          }
         }
        },
        "title": {
         "text": "Episode Rewards vs. Noise Faceted by Size"
        },
        "xaxis": {
         "anchor": "y",
         "domain": [
          0,
          0.31999999999999995
         ],
         "title": {
          "text": "noise"
         }
        },
        "xaxis2": {
         "anchor": "y2",
         "domain": [
          0.33999999999999997,
          0.6599999999999999
         ],
         "matches": "x",
         "title": {
          "text": "noise"
         }
        },
        "xaxis3": {
         "anchor": "y3",
         "domain": [
          0.6799999999999999,
          0.9999999999999999
         ],
         "matches": "x",
         "title": {
          "text": "noise"
         }
        },
        "yaxis": {
         "anchor": "x",
         "domain": [
          0,
          1
         ],
         "title": {
          "text": "episode_rewards_mean"
         }
        },
        "yaxis2": {
         "anchor": "x2",
         "domain": [
          0,
          1
         ],
         "matches": "y",
         "showticklabels": false
        },
        "yaxis3": {
         "anchor": "x3",
         "domain": [
          0,
          1
         ],
         "matches": "y",
         "showticklabels": false
        }
       }
      }
     },
     "metadata": {},
     "output_type": "display_data"
    }
   ],
   "source": [
    "import plotly.express as px\n",
    "\n",
    "# Define readable names for selected hyperparams\n",
    "readable_names = {\n",
    "    hyperparam_columns[0]: \"noise\",\n",
    "    hyperparam_columns[1]: \"size\"\n",
    "}\n",
    "\n",
    "# Rename columns in a copy of the dataframe\n",
    "plot_df = sub_df.rename(columns=readable_names)\n",
    "\n",
    "# Assign new column names\n",
    "x_col = \"noise\"\n",
    "y_col = \"episode_rewards_mean\"\n",
    "facet_col = \"size\"\n",
    "\n",
    "# Plot\n",
    "fig = px.scatter(\n",
    "    plot_df,\n",
    "    x=x_col,\n",
    "    y=y_col,\n",
    "    color=\"experiment_name\",  # Optional: color by experiment\n",
    "    facet_col=facet_col,\n",
    "    title=\"Episode Rewards vs. Noise Faceted by Size\",\n",
    "    height=600\n",
    ")\n",
    "\n",
    "fig.update_layout(showlegend=False)\n",
    "fig.show()\n"
   ]
  },
  {
   "cell_type": "code",
   "execution_count": null,
   "metadata": {},
   "outputs": [],
   "source": []
  }
 ],
 "metadata": {
  "kernelspec": {
   "display_name": "phd_rl_algos",
   "language": "python",
   "name": "python3"
  },
  "language_info": {
   "codemirror_mode": {
    "name": "ipython",
    "version": 3
   },
   "file_extension": ".py",
   "mimetype": "text/x-python",
   "name": "python",
   "nbconvert_exporter": "python",
   "pygments_lexer": "ipython3",
   "version": "3.11.5"
  }
 },
 "nbformat": 4,
 "nbformat_minor": 2
}
