{
 "cells": [
  {
   "cell_type": "code",
   "execution_count": 61,
   "metadata": {},
   "outputs": [
    {
     "name": "stdout",
     "output_type": "stream",
     "text": [
      "The autoreload extension is already loaded. To reload it, use:\n",
      "  %reload_ext autoreload\n"
     ]
    }
   ],
   "source": [
    "%load_ext autoreload\n",
    "%autoreload 2"
   ]
  },
  {
   "cell_type": "code",
   "execution_count": 62,
   "metadata": {},
   "outputs": [],
   "source": [
    "import sys\n",
    "import os\n",
    "\n",
    "\n",
    "def get_dir_n_levels_up(path, n):\n",
    "    # Go up n levels from the given path\n",
    "    for _ in range(n):\n",
    "        path = os.path.dirname(path)\n",
    "    return path\n",
    "\n",
    "\n",
    "proj_root = get_dir_n_levels_up(os.path.abspath(\"__file__\"), 4)\n",
    "sys.path.append(proj_root)\n",
    "\n",
    "import yaml\n",
    "import torch\n",
    "import numpy as np\n",
    "import pandas as pd\n",
    "import seaborn as sns\n",
    "\n",
    "from dqn.opinion_dynamics.opinion_dqn import AgentDQN\n",
    "from dqn.opinion_dynamics.utils.my_logging import setup_logger\n",
    "from dqn.opinion_dynamics.utils.env_setup import EnvironmentFactory\n",
    "from dqn.opinion_dynamics.utils.experiment import instantiate_agent\n",
    "from dynamic_programming.opinion_dynamics.common.viz import (\n",
    "    interpolate_opinion_trajectory,\n",
    "    plot_action_heatmap,\n",
    "    plot_opinions_over_time,\n",
    ")\n",
    "from dqn.opinion_dynamics.experiments.baseline import flatten_intermediate_states_np, run_policy_agent\n"
   ]
  },
  {
   "cell_type": "code",
   "execution_count": 63,
   "metadata": {},
   "outputs": [
    {
     "name": "stdout",
     "output_type": "stream",
     "text": [
      "2025-10-14 22:15:11,493 - dqn - INFO - opinion_dqn.py:139 - asserts_enabled=True, optimize=0, PYTHONOPTIMIZE=None\n",
      "2025-10-14 22:15:11,505 - dqn - INFO - opinion_dqn.py:306 - Loaded configuration settings.\n",
      "2025-10-14 22:15:11,520 - dqn - INFO - opinion_dqn.py:489 - Initialized networks and optimizer.\n"
     ]
    },
    {
     "ename": "RuntimeError",
     "evalue": "Error(s) in loading state_dict for OpinionNet:\n\tMissing key(s) in state_dict: \"predict_A_b_c.weight\", \"predict_A_b_c.bias\". \n\tUnexpected key(s) in state_dict: \"predict_shared_A_b.weight\", \"predict_shared_A_b.bias\", \"predict_c.weight\", \"predict_c.bias\". ",
     "output_type": "error",
     "traceback": [
      "\u001b[31m---------------------------------------------------------------------------\u001b[39m",
      "\u001b[31mRuntimeError\u001b[39m                              Traceback (most recent call last)",
      "\u001b[36mCell\u001b[39m\u001b[36m \u001b[39m\u001b[32mIn[63]\u001b[39m\u001b[32m, line 22\u001b[39m\n\u001b[32m     17\u001b[39m exp_subdir = \u001b[33mr\u001b[39m\u001b[33m\"\u001b[39m\u001b[33md:\u001b[39m\u001b[33m\\\u001b[39m\u001b[33mWork\u001b[39m\u001b[33m\\\u001b[39m\u001b[33mrepos\u001b[39m\u001b[33m\\\u001b[39m\u001b[33mRL\u001b[39m\u001b[33m\\\u001b[39m\u001b[33mphd-rl-algos\u001b[39m\u001b[33m\\\u001b[39m\u001b[33mdqn\u001b[39m\u001b[33m\\\u001b[39m\u001b[33mopinion_dynamics\u001b[39m\u001b[33m\\\u001b[39m\u001b[33mexperiments\u001b[39m\u001b[33m\\\u001b[39m\u001b[33mresults\u001b[39m\u001b[33m\\\u001b[39m\u001b[33m2025Sep08-142952_configs\u001b[39m\u001b[33m\\\u001b[39m\u001b[33m0000_optim.args_.lr_1e-05__agent_params.args_.betas__0__1__2___agent_params.model_OpinionNetCommonAB__experiment_opinion_agent_dqn_fixed_steps\u001b[39m\u001b[33m\\\u001b[39m\u001b[33m1\u001b[39m\u001b[33m\"\u001b[39m\n\u001b[32m     19\u001b[39m exp_subdir = \u001b[33mr\u001b[39m\u001b[33m\"\u001b[39m\u001b[33md:\u001b[39m\u001b[33m\\\u001b[39m\u001b[33mWork\u001b[39m\u001b[33m\\\u001b[39m\u001b[33mrepos\u001b[39m\u001b[33m\\\u001b[39m\u001b[33mRL\u001b[39m\u001b[33m\\\u001b[39m\u001b[33mphd-rl-algos\u001b[39m\u001b[33m\\\u001b[39m\u001b[33mdqn\u001b[39m\u001b[33m\\\u001b[39m\u001b[33mopinion_dynamics\u001b[39m\u001b[33m\\\u001b[39m\u001b[33mexperiments\u001b[39m\u001b[33m\\\u001b[39m\u001b[33mresults\u001b[39m\u001b[33m\\\u001b[39m\u001b[33m2025Oct14-141955_configs\u001b[39m\u001b[33m\\\u001b[39m\u001b[33m0003_estimator.model_OpinionNetCommonAB__agent_params.args_.replay_start_size_2000__agent_params.args_.target_soft_tau_1e-05__experiment_fixed\u001b[39m\u001b[33m\\\u001b[39m\u001b[33m0\u001b[39m\u001b[33m\"\u001b[39m\n\u001b[32m---> \u001b[39m\u001b[32m22\u001b[39m agent = \u001b[43minstantiate_agent\u001b[49m\u001b[43m(\u001b[49m\u001b[43mexp_subdir\u001b[49m\u001b[43m)\u001b[49m\n\u001b[32m     24\u001b[39m results = []\n\u001b[32m     25\u001b[39m df_actions_list = []\n",
      "\u001b[36mFile \u001b[39m\u001b[32md:\\Work\\repos\\RL\\phd-rl-algos\\dqn\\opinion_dynamics\\utils\\experiment.py:210\u001b[39m, in \u001b[36minstantiate_agent\u001b[39m\u001b[34m(exp_subdir_path)\u001b[39m\n\u001b[32m    206\u001b[39m     config = yaml.safe_load(f)\n\u001b[32m    208\u001b[39m \u001b[38;5;66;03m# Instantiate the agent.\u001b[39;00m\n\u001b[32m    209\u001b[39m \u001b[38;5;66;03m# The resume_training_path is set to the experiment folder so that the agent loads saved weights/stats.\u001b[39;00m\n\u001b[32m--> \u001b[39m\u001b[32m210\u001b[39m agent = \u001b[43mAgentDQN\u001b[49m\u001b[43m(\u001b[49m\n\u001b[32m    211\u001b[39m \u001b[43m    \u001b[49m\u001b[43mresume_training_path\u001b[49m\u001b[43m=\u001b[49m\u001b[43mexp_subdir_path\u001b[49m\u001b[43m,\u001b[49m\n\u001b[32m    212\u001b[39m \u001b[43m    \u001b[49m\u001b[43mexperiment_name\u001b[49m\u001b[43m=\u001b[49m\u001b[43mconfig\u001b[49m\u001b[43m[\u001b[49m\u001b[33;43m\"\u001b[39;49m\u001b[33;43mexperiment\u001b[39;49m\u001b[33;43m\"\u001b[39;49m\u001b[43m]\u001b[49m\u001b[43m,\u001b[49m\n\u001b[32m    213\u001b[39m \u001b[43m    \u001b[49m\u001b[43mconfig\u001b[49m\u001b[43m=\u001b[49m\u001b[43mconfig\u001b[49m\u001b[43m,\u001b[49m\n\u001b[32m    214\u001b[39m \u001b[43m    \u001b[49m\u001b[43msave_checkpoints\u001b[49m\u001b[43m=\u001b[49m\u001b[38;5;28;43;01mFalse\u001b[39;49;00m\u001b[43m,\u001b[49m\u001b[43m  \u001b[49m\u001b[38;5;66;43;03m# you can set this as needed\u001b[39;49;00m\n\u001b[32m    215\u001b[39m \u001b[43m    \u001b[49m\u001b[43mlogger\u001b[49m\u001b[43m=\u001b[49m\u001b[43msetup_logger\u001b[49m\u001b[43m(\u001b[49m\u001b[33;43m\"\u001b[39;49m\u001b[33;43mdqn\u001b[39;49m\u001b[33;43m\"\u001b[39;49m\u001b[43m)\u001b[49m\u001b[43m,\u001b[49m\n\u001b[32m    216\u001b[39m \u001b[43m\u001b[49m\u001b[43m)\u001b[49m\n\u001b[32m    218\u001b[39m \u001b[38;5;28;01mreturn\u001b[39;00m agent\n",
      "\u001b[36mFile \u001b[39m\u001b[32md:\\Work\\repos\\RL\\phd-rl-algos\\dqn\\opinion_dynamics\\opinion_dqn.py:189\u001b[39m, in \u001b[36mAgentDQN.__init__\u001b[39m\u001b[34m(self, experiment_output_folder, experiment_name, resume_training_path, save_checkpoints, logger, config)\u001b[39m\n\u001b[32m    187\u001b[39m \u001b[38;5;66;03m# check that all paths were provided and that the files can be found\u001b[39;00m\n\u001b[32m    188\u001b[39m \u001b[38;5;28;01mif\u001b[39;00m resume_training_path:\n\u001b[32m--> \u001b[39m\u001b[32m189\u001b[39m     \u001b[38;5;28;43mself\u001b[39;49m\u001b[43m.\u001b[49m\u001b[43mload_training_state\u001b[49m\u001b[43m(\u001b[49m\u001b[43mresume_training_path\u001b[49m\u001b[43m)\u001b[49m\n\u001b[32m    191\u001b[39m \u001b[38;5;28mself\u001b[39m._init_early_stopping_vars()\n",
      "\u001b[36mFile \u001b[39m\u001b[32md:\\Work\\repos\\RL\\phd-rl-algos\\dqn\\opinion_dynamics\\opinion_dqn.py:248\u001b[39m, in \u001b[36mAgentDQN.load_training_state\u001b[39m\u001b[34m(self, resume_training_path)\u001b[39m\n\u001b[32m    243\u001b[39m \u001b[38;5;28;01mif\u001b[39;00m \u001b[38;5;129;01mnot\u001b[39;00m os.path.exists(resume_files[\u001b[33m\"\u001b[39m\u001b[33mcheckpoint_model_file\u001b[39m\u001b[33m\"\u001b[39m]):\n\u001b[32m    244\u001b[39m     \u001b[38;5;28;01mraise\u001b[39;00m \u001b[38;5;167;01mFileNotFoundError\u001b[39;00m(\n\u001b[32m    245\u001b[39m         \u001b[33mf\u001b[39m\u001b[33m\"\u001b[39m\u001b[33mCould not find the file \u001b[39m\u001b[38;5;132;01m{\u001b[39;00mresume_files[\u001b[33m'\u001b[39m\u001b[33mcheckpoint_model_file\u001b[39m\u001b[33m'\u001b[39m]\u001b[38;5;132;01m}\u001b[39;00m\u001b[33m for \u001b[39m\u001b[33m'\u001b[39m\u001b[33mcheckpoint_model_file\u001b[39m\u001b[33m'\u001b[39m\u001b[33m.\u001b[39m\u001b[33m\"\u001b[39m\n\u001b[32m    246\u001b[39m     )\n\u001b[32m--> \u001b[39m\u001b[32m248\u001b[39m \u001b[38;5;28;43mself\u001b[39;49m\u001b[43m.\u001b[49m\u001b[43mload_models\u001b[49m\u001b[43m(\u001b[49m\u001b[43mresume_files\u001b[49m\u001b[43m[\u001b[49m\u001b[33;43m\"\u001b[39;49m\u001b[33;43mcheckpoint_model_file\u001b[39;49m\u001b[33;43m\"\u001b[39;49m\u001b[43m]\u001b[49m\u001b[43m)\u001b[49m\n\u001b[32m    250\u001b[39m \u001b[38;5;28mself\u001b[39m.logger.info(\n\u001b[32m    251\u001b[39m     \u001b[33mf\u001b[39m\u001b[33m\"\u001b[39m\u001b[33mLoaded previous training status from the following files: \u001b[39m\u001b[38;5;132;01m{\u001b[39;00m\u001b[38;5;28mstr\u001b[39m(resume_files)\u001b[38;5;132;01m}\u001b[39;00m\u001b[33m\"\u001b[39m\n\u001b[32m    252\u001b[39m )\n",
      "\u001b[36mFile \u001b[39m\u001b[32md:\\Work\\repos\\RL\\phd-rl-algos\\dqn\\opinion_dynamics\\opinion_dqn.py:560\u001b[39m, in \u001b[36mload_models\u001b[39m\u001b[34m(self, models_load_file)\u001b[39m\n\u001b[32m    557\u001b[39m \u001b[38;5;28mself\u001b[39m.train_env = \u001b[38;5;28mself\u001b[39m._make_train_env()\n\u001b[32m    558\u001b[39m \u001b[38;5;28mself\u001b[39m.validation_env = \u001b[38;5;28mself\u001b[39m._make_validation_env()\n\u001b[32m--> \u001b[39m\u001b[32m560\u001b[39m \u001b[38;5;28mself\u001b[39m.train_env_s, _ = \u001b[38;5;28mself\u001b[39m.train_env.reset(randomize_opinions=\u001b[38;5;28;01mTrue\u001b[39;00m)\n\u001b[32m    561\u001b[39m \u001b[38;5;28mself\u001b[39m.val_env_s, _ = \u001b[38;5;28mself\u001b[39m.validation_env.reset()\n\u001b[32m    563\u001b[39m \u001b[38;5;28mself\u001b[39m.in_features = \u001b[38;5;28mself\u001b[39m.train_env.observation_space.shape[\u001b[32m0\u001b[39m]\n",
      "\u001b[36mFile \u001b[39m\u001b[32mc:\\Users\\Chainsword\\anaconda3\\envs\\phd_rl_algos\\Lib\\site-packages\\torch\\nn\\modules\\module.py:2593\u001b[39m, in \u001b[36mModule.load_state_dict\u001b[39m\u001b[34m(self, state_dict, strict, assign)\u001b[39m\n\u001b[32m   2585\u001b[39m         error_msgs.insert(\n\u001b[32m   2586\u001b[39m             \u001b[32m0\u001b[39m,\n\u001b[32m   2587\u001b[39m             \u001b[33m\"\u001b[39m\u001b[33mMissing key(s) in state_dict: \u001b[39m\u001b[38;5;132;01m{}\u001b[39;00m\u001b[33m. \u001b[39m\u001b[33m\"\u001b[39m.format(\n\u001b[32m   2588\u001b[39m                 \u001b[33m\"\u001b[39m\u001b[33m, \u001b[39m\u001b[33m\"\u001b[39m.join(\u001b[33mf\u001b[39m\u001b[33m'\u001b[39m\u001b[33m\"\u001b[39m\u001b[38;5;132;01m{\u001b[39;00mk\u001b[38;5;132;01m}\u001b[39;00m\u001b[33m\"\u001b[39m\u001b[33m'\u001b[39m \u001b[38;5;28;01mfor\u001b[39;00m k \u001b[38;5;129;01min\u001b[39;00m missing_keys)\n\u001b[32m   2589\u001b[39m             ),\n\u001b[32m   2590\u001b[39m         )\n\u001b[32m   2592\u001b[39m \u001b[38;5;28;01mif\u001b[39;00m \u001b[38;5;28mlen\u001b[39m(error_msgs) > \u001b[32m0\u001b[39m:\n\u001b[32m-> \u001b[39m\u001b[32m2593\u001b[39m     \u001b[38;5;28;01mraise\u001b[39;00m \u001b[38;5;167;01mRuntimeError\u001b[39;00m(\n\u001b[32m   2594\u001b[39m         \u001b[33m\"\u001b[39m\u001b[33mError(s) in loading state_dict for \u001b[39m\u001b[38;5;132;01m{}\u001b[39;00m\u001b[33m:\u001b[39m\u001b[38;5;130;01m\\n\u001b[39;00m\u001b[38;5;130;01m\\t\u001b[39;00m\u001b[38;5;132;01m{}\u001b[39;00m\u001b[33m\"\u001b[39m.format(\n\u001b[32m   2595\u001b[39m             \u001b[38;5;28mself\u001b[39m.\u001b[34m__class__\u001b[39m.\u001b[34m__name__\u001b[39m, \u001b[33m\"\u001b[39m\u001b[38;5;130;01m\\n\u001b[39;00m\u001b[38;5;130;01m\\t\u001b[39;00m\u001b[33m\"\u001b[39m.join(error_msgs)\n\u001b[32m   2596\u001b[39m         )\n\u001b[32m   2597\u001b[39m     )\n\u001b[32m   2598\u001b[39m \u001b[38;5;28;01mreturn\u001b[39;00m _IncompatibleKeys(missing_keys, unexpected_keys)\n",
      "\u001b[31mRuntimeError\u001b[39m: Error(s) in loading state_dict for OpinionNet:\n\tMissing key(s) in state_dict: \"predict_A_b_c.weight\", \"predict_A_b_c.bias\". \n\tUnexpected key(s) in state_dict: \"predict_shared_A_b.weight\", \"predict_shared_A_b.bias\", \"predict_c.weight\", \"predict_c.bias\". "
     ]
    }
   ],
   "source": [
    "# best performing\n",
    "# exp_subdir = r\"D:\\Work\\repos\\RL\\phd-rl-algos\\dqn\\opinion_dynamics\\experiments\\results\\2025Apr22-104437_configs\\0003_agent_params.args_.action_w_noise_amplitude_0.6\\0\"\n",
    "\n",
    "# last run\n",
    "# exp_subdir = r\"D:\\Work\\repos\\RL\\phd-rl-algos\\dqn\\opinion_dynamics\\experiments\\results\\2025May02-101004_configs\\0025_optim.args_.eps_1e-07__optim.args_.lr_1e-05__agent_params.args_.target_model_update_freq_500__agent_params.args_.training_freq_4__agent_params.args_.batch_size_32__agent_params.args_.action_w_noise_amplitude_0.3\\1\" # excellent run\n",
    "\n",
    "# was a decent run\n",
    "# exp_subdir = r\"D:\\Work\\repos\\RL\\phd-rl-algos\\dqn\\opinion_dynamics\\experiments\\results\\2025May29-012929_configs\\0000_optim.args_.lr_1e-05__agent_params.args_.action_w_noise_amplitude_0.5__agent_params.args_.target_model_update_freq_1000\\1\"\n",
    "\n",
    "exp_subdir = r\"d:\\Work\\repos\\RL\\phd-rl-algos\\dqn\\opinion_dynamics\\experiments\\results\\2025Jul09-171538_configs\\0000_agent_params.args_.target_model_update_freq_5000__agent_params.args_.training_freq_4\\2\"\n",
    "\n",
    "# exp_subdir = r\"d:\\Work\\repos\\RL\\phd-rl-algos\\dqn\\opinion_dynamics\\experiments\\results\\2025Jul15-014518_configs\\0000_agent_params.args_.target_model_update_freq_2500\\2\"\n",
    "\n",
    "# exp_subdir = r\"D:\\Work\\repos\\RL\\phd-rl-algos\\dqn\\opinion_dynamics\\experiments\\results\\2025Jul25-031713_configs\\0001_agent_params.args_.betas__0__1__2_\\1\"\n",
    "\n",
    "# Great behavior with multiple budget levels!\n",
    "exp_subdir = r\"d:\\Work\\repos\\RL\\phd-rl-algos\\dqn\\opinion_dynamics\\experiments\\results\\2025Sep08-142952_configs\\0000_optim.args_.lr_1e-05__agent_params.args_.betas__0__1__2___agent_params.model_OpinionNetCommonAB__experiment_opinion_agent_dqn_fixed_steps\\1\"\n",
    "\n",
    "exp_subdir = r\"d:\\Work\\repos\\RL\\phd-rl-algos\\dqn\\opinion_dynamics\\experiments\\results\\2025Oct14-141955_configs\\0003_estimator.model_OpinionNetCommonAB__agent_params.args_.replay_start_size_2000__agent_params.args_.target_soft_tau_1e-05__experiment_fixed\\0\"\n",
    "\n",
    "\n",
    "agent = instantiate_agent(exp_subdir)\n",
    "\n",
    "results = []\n",
    "df_actions_list = []\n",
    "\n",
    "env_versions = agent.env_factory.validation_versions\n",
    "# env_versions = [0]\n",
    "\n",
    "for version in range(len(env_versions)):\n",
    "    print(f\"\\n--- Running agent on validation environment version {version} ---\")\n",
    "\n",
    "    # Force environment to version\n",
    "    agent.validation_env = agent.env_factory.get_validation_env(version=version)\n",
    "\n",
    "    # Run policy with agent\n",
    "    states, times, rewards, actions, all_intermediate_states = run_policy_agent(agent)\n",
    "\n",
    "    actions_np = np.asarray(actions)                 # shape (T, N)\n",
    "    T, N = actions_np.shape[0], actions_np.shape[1]\n",
    "\n",
    "    df_actions_v = pd.DataFrame(\n",
    "        actions_np,\n",
    "        columns=[f\"a_{j}\" for j in range(N)]\n",
    "    )\n",
    "    df_actions_v.insert(0, \"t_idx\", np.arange(T))\n",
    "    df_actions_v.insert(0, \"version\", version)\n",
    "\n",
    "    df_actions_list.append(df_actions_v)\n",
    "\n",
    "    flat_states, flat_times = flatten_intermediate_states_np(\n",
    "        all_intermediate_states,\n",
    "        agent.validation_env.t_campaign,\n",
    "        agent.validation_env.t_s\n",
    "    )\n",
    "    plot_opinions_over_time(flat_states, flat_times, title=f\"Agent Policy - Validation Env v{version}\")\n",
    "\n",
    "    total_value = sum((agent.gamma ** i) * r for i, r in enumerate(rewards))\n",
    "    print(f\"Total discounted reward: {total_value:.4f}\")\n",
    "    results.append({\"version\": version, \"discounted_reward\": total_value})\n",
    "\n",
    "# Per-version results (unchanged)\n",
    "df_results = pd.DataFrame(results)\n",
    "print(df_results)\n",
    "\n"
   ]
  },
  {
   "cell_type": "code",
   "execution_count": null,
   "metadata": {},
   "outputs": [
    {
     "data": {
      "image/png": "[encoded data removed]",
      "text/plain": [
       "<Figure size 1200x600 with 2 Axes>"
      ]
     },
     "metadata": {},
     "output_type": "display_data"
    }
   ],
   "source": [
    "plot_action_heatmap(actions)"
   ]
  },
  {
   "cell_type": "markdown",
   "metadata": {},
   "source": []
  },
  {
   "cell_type": "code",
   "execution_count": null,
   "metadata": {},
   "outputs": [
    {
     "data": {
      "text/html": [
       "<div>\n",
       "<style scoped>\n",
       "    .dataframe tbody tr th:only-of-type {\n",
       "        vertical-align: middle;\n",
       "    }\n",
       "\n",
       "    .dataframe tbody tr th {\n",
       "        vertical-align: top;\n",
       "    }\n",
       "\n",
       "    .dataframe thead th {\n",
       "        text-align: right;\n",
       "    }\n",
       "</style>\n",
       "<table border=\"1\" class=\"dataframe\">\n",
       "  <thead>\n",
       "    <tr style=\"text-align: right;\">\n",
       "      <th>version</th>\n",
       "      <th>0</th>\n",
       "      <th>1</th>\n",
       "      <th>2</th>\n",
       "    </tr>\n",
       "    <tr>\n",
       "      <th>t_idx</th>\n",
       "      <th></th>\n",
       "      <th></th>\n",
       "      <th></th>\n",
       "    </tr>\n",
       "  </thead>\n",
       "  <tbody>\n",
       "    <tr>\n",
       "      <th>0</th>\n",
       "      <td>2.0</td>\n",
       "      <td>1.0</td>\n",
       "      <td>2.0</td>\n",
       "    </tr>\n",
       "    <tr>\n",
       "      <th>1</th>\n",
       "      <td>2.0</td>\n",
       "      <td>2.0</td>\n",
       "      <td>1.0</td>\n",
       "    </tr>\n",
       "    <tr>\n",
       "      <th>2</th>\n",
       "      <td>2.0</td>\n",
       "      <td>2.0</td>\n",
       "      <td>2.0</td>\n",
       "    </tr>\n",
       "    <tr>\n",
       "      <th>3</th>\n",
       "      <td>2.0</td>\n",
       "      <td>2.0</td>\n",
       "      <td>2.0</td>\n",
       "    </tr>\n",
       "    <tr>\n",
       "      <th>4</th>\n",
       "      <td>2.0</td>\n",
       "      <td>2.0</td>\n",
       "      <td>2.0</td>\n",
       "    </tr>\n",
       "  </tbody>\n",
       "</table>\n",
       "</div>"
      ],
      "text/plain": [
       "version    0    1    2\n",
       "t_idx                 \n",
       "0        2.0  1.0  2.0\n",
       "1        2.0  2.0  1.0\n",
       "2        2.0  2.0  2.0\n",
       "3        2.0  2.0  2.0\n",
       "4        2.0  2.0  2.0"
      ]
     },
     "execution_count": 53,
     "metadata": {},
     "output_type": "execute_result"
    }
   ],
   "source": [
    "def summarize_action_mass_by_step(df_actions: pd.DataFrame) -> pd.DataFrame:\n",
    "    \"\"\"\n",
    "    Returns a tidy DataFrame with, for each version and step, the sum of the action vector.\n",
    "    Columns: version, t_idx, action_sum\n",
    "    \"\"\"\n",
    "    action_cols = [c for c in df_actions.columns if c.startswith(\"a_\")]\n",
    "    out = df_actions.copy()\n",
    "    out[\"action_sum\"] = out[action_cols].sum(axis=1)\n",
    "    out = out[[\"version\", \"t_idx\", \"action_sum\"]].sort_values([\"version\", \"t_idx\"]).reset_index(drop=True)\n",
    "    return out\n",
    "\n",
    "def action_mass_wide(df_actions: pd.DataFrame) -> pd.DataFrame:\n",
    "    df = summarize_action_mass_by_step(df_actions)\n",
    "    return df.pivot(index=\"t_idx\", columns=\"version\", values=\"action_sum\").sort_index()\n",
    "\n",
    "df_actions = pd.concat(df_actions_list, ignore_index=True)\n",
    "df_mass = summarize_action_mass_by_step(df_actions)\n",
    "df_actions\n",
    "\n",
    "df_mass_w = action_mass_wide(df_actions)  # nice for plotting\n",
    "df_mass_w.head()"
   ]
  },
  {
   "cell_type": "code",
   "execution_count": null,
   "metadata": {},
   "outputs": [
    {
     "data": {
      "text/plain": [
       "[2.0,\n",
       " 2.000000238418579,\n",
       " 1.9999998807907104,\n",
       " 2.0,\n",
       " 2.000000238418579,\n",
       " 1.9999998807907104,\n",
       " 2.0,\n",
       " 1.9999998807907104,\n",
       " 2.000000238418579,\n",
       " 2.0,\n",
       " 1.999999761581421,\n",
       " 0.9999998807907104,\n",
       " 1.9999998807907104,\n",
       " 0.9999999403953552,\n",
       " 1.9999998807907104,\n",
       " 0.9999999403953552,\n",
       " 2.0,\n",
       " 1.0,\n",
       " 1.0,\n",
       " 0.9999998211860657,\n",
       " 1.0,\n",
       " 0.9999999403953552,\n",
       " 1.0,\n",
       " 1.0,\n",
       " 0.9999999403953552,\n",
       " 1.0000001192092896,\n",
       " 1.0,\n",
       " 1.0,\n",
       " 1.0,\n",
       " 0.0,\n",
       " 0.0,\n",
       " 0.0,\n",
       " 0.0,\n",
       " 0.0,\n",
       " 0.0,\n",
       " 0.0,\n",
       " 0.0,\n",
       " 0.0,\n",
       " 0.0,\n",
       " 0.0,\n",
       " 0.0,\n",
       " 0.0,\n",
       " 0.0,\n",
       " 0.0,\n",
       " 0.0,\n",
       " 0.0,\n",
       " 0.0,\n",
       " 0.0,\n",
       " 0.0,\n",
       " 0.0,\n",
       " 0.0,\n",
       " 0.0,\n",
       " 0.0,\n",
       " 0.0,\n",
       " 0.0,\n",
       " 0.0,\n",
       " 0.0,\n",
       " 0.0,\n",
       " 0.0,\n",
       " 0.0,\n",
       " 0.0,\n",
       " 0.0,\n",
       " 0.0,\n",
       " 0.0,\n",
       " 0.0,\n",
       " 0.0,\n",
       " 0.0,\n",
       " 0.0,\n",
       " 0.0,\n",
       " 0.0,\n",
       " 0.0,\n",
       " 0.0,\n",
       " 0.0,\n",
       " 0.0,\n",
       " 0.0,\n",
       " 0.0,\n",
       " 0.0,\n",
       " 0.0,\n",
       " 0.0,\n",
       " 0.0,\n",
       " 0.0,\n",
       " 0.0,\n",
       " 0.0,\n",
       " 0.0,\n",
       " 0.0,\n",
       " 0.0,\n",
       " 0.0,\n",
       " 0.0,\n",
       " 0.0,\n",
       " 0.0,\n",
       " 0.0,\n",
       " 0.0,\n",
       " 0.0,\n",
       " 0.0,\n",
       " 0.0,\n",
       " 0.0,\n",
       " 0.0,\n",
       " 0.0,\n",
       " 0.0,\n",
       " 0.0]"
      ]
     },
     "execution_count": 54,
     "metadata": {},
     "output_type": "execute_result"
    }
   ],
   "source": [
    "version = 0\n",
    "vals = df_mass_w[version].tolist()\n",
    "vals"
   ]
  },
  {
   "cell_type": "code",
   "execution_count": null,
   "metadata": {},
   "outputs": [
    {
     "data": {
      "text/plain": [
       "-9.033218509352338"
      ]
     },
     "execution_count": 55,
     "metadata": {},
     "output_type": "execute_result"
    }
   ],
   "source": [
    "gamma = 0.99\n",
    "total_value = 0\n",
    "for i, r in enumerate(rewards):\n",
    "    total_value = total_value + (gamma**i) * r\n",
    "\n",
    "total_value"
   ]
  },
  {
   "cell_type": "code",
   "execution_count": null,
   "metadata": {},
   "outputs": [
    {
     "name": "stdout",
     "output_type": "stream",
     "text": [
      "-11.68510594837008\n"
     ]
    },
    {
     "data": {
      "image/png": "[encoded data removed]",
      "text/plain": [
       "<Figure size 640x480 with 1 Axes>"
      ]
     },
     "metadata": {},
     "output_type": "display_data"
    }
   ],
   "source": [
    "# plot rewards with seaborn\n",
    "\n",
    "sns.lineplot(x=np.arange(len(rewards)), y=rewards)\n",
    "print(sum(rewards))"
   ]
  },
  {
   "cell_type": "code",
   "execution_count": null,
   "metadata": {},
   "outputs": [],
   "source": [
    "# Add multiple budget levels\n",
    "# Retrieve the budget levels used and plug into NAHS control"
   ]
  },
  {
   "cell_type": "code",
   "execution_count": null,
   "metadata": {},
   "outputs": [
    {
     "data": {
      "text/plain": [
       "array([2.0000002 , 0.9999999 , 2.        , 2.0000002 , 1.9999999 ,\n",
       "       2.        , 2.        , 2.0000002 , 1.9999999 , 0.99999994,\n",
       "       1.9999999 , 1.        , 1.9999999 , 0.99999994, 0.99999994,\n",
       "       0.99999994, 0.99999994, 1.0000001 , 1.        , 1.0000001 ,\n",
       "       0.99999994, 0.99999994, 1.        , 1.0000001 , 0.9999998 ,\n",
       "       1.        , 0.        , 0.        , 0.        , 0.        ,\n",
       "       0.        , 0.        , 0.        , 0.        , 0.        ,\n",
       "       0.        , 0.        , 0.        , 0.        , 0.        ,\n",
       "       0.        , 0.        , 0.        , 0.        , 0.        ,\n",
       "       0.        , 0.        , 0.        , 0.        , 0.        ,\n",
       "       0.        , 0.        , 0.        , 0.        , 0.        ,\n",
       "       0.        , 0.        , 0.        , 0.        , 0.        ,\n",
       "       0.        , 0.        , 0.        , 0.        , 0.        ,\n",
       "       0.        , 0.        , 0.        , 0.        , 0.        ,\n",
       "       0.        , 0.        , 0.        , 0.        , 0.        ,\n",
       "       0.        , 0.        , 0.        , 0.        , 0.        ,\n",
       "       0.        , 0.        , 0.        , 0.        , 0.        ,\n",
       "       0.        , 0.        , 0.        , 0.        , 0.        ,\n",
       "       0.        , 0.        , 0.        , 0.        , 0.        ,\n",
       "       0.        , 0.        , 0.        , 0.        , 0.        ],\n",
       "      dtype=float32)"
      ]
     },
     "execution_count": 58,
     "metadata": {},
     "output_type": "execute_result"
    }
   ],
   "source": [
    "np.sum(actions, axis=1)"
   ]
  },
  {
   "cell_type": "code",
   "execution_count": null,
   "metadata": {},
   "outputs": [
    {
     "data": {
      "text/plain": [
       "-11.68510594837008"
      ]
     },
     "execution_count": 59,
     "metadata": {},
     "output_type": "execute_result"
    }
   ],
   "source": [
    "sum(rewards)"
   ]
  },
  {
   "cell_type": "code",
   "execution_count": null,
   "metadata": {},
   "outputs": [
    {
     "name": "stdout",
     "output_type": "stream",
     "text": [
      "[2]\n",
      "2.0\n"
     ]
    }
   ],
   "source": [
    "# array of 20 rand elements between 0 and 1\n",
    "state = np.random.rand(20)\n",
    "state_tensor = torch.tensor(state, dtype=torch.float32)\n",
    "(u, beta_idx, w_full, max_q) = agent.select_action(state_tensor, epsilon=1, random_action=True)\n",
    "\n",
    "print(beta_idx)\n",
    "print(u.sum())"
   ]
  },
  {
   "cell_type": "code",
   "execution_count": null,
   "metadata": {},
   "outputs": [],
   "source": []
  }
 ],
 "metadata": {
  "kernelspec": {
   "display_name": "phd_rl_algos",
   "language": "python",
   "name": "python3"
  },
  "language_info": {
   "codemirror_mode": {
    "name": "ipython",
    "version": 3
   },
   "file_extension": ".py",
   "mimetype": "text/x-python",
   "name": "python",
   "nbconvert_exporter": "python",
   "pygments_lexer": "ipython3",
   "version": "3.11.5"
  }
 },
 "nbformat": 4,
 "nbformat_minor": 2
}
