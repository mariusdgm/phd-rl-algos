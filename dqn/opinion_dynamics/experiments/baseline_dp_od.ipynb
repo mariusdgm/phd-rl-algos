{
 "cells": [
  {
   "cell_type": "code",
   "execution_count": 1,
   "metadata": {},
   "outputs": [
    {
     "name": "stdout",
     "output_type": "stream",
     "text": [
      "d:\\Work\\repos\\RL\\phd-rl-algos\n"
     ]
    }
   ],
   "source": [
    "import os, sys\n",
    "\n",
    "def get_dir_n_levels_up(path, n):\n",
    "    # Go up n levels from the given path\n",
    "    for _ in range(n):\n",
    "        path = os.path.dirname(path)\n",
    "    return path\n",
    "\n",
    "\n",
    "proj_root = get_dir_n_levels_up(os.path.abspath(\"__file__\"), 4)\n",
    "sys.path.append(proj_root)\n",
    "\n",
    "print(proj_root)"
   ]
  },
  {
   "cell_type": "code",
   "execution_count": 2,
   "metadata": {},
   "outputs": [],
   "source": [
    "import numpy as np\n",
    "from rl_envs_forge.envs.network_graph.network_graph import NetworkGraph\n",
    "\n",
    "from dqn.opinion_dynamics.utils.experiment import build_environment\n",
    "\n",
    "from dynamic_programming.opinion_dynamics.algos import compute_average_error, compute_final_average_error, generate_full_control_policy\n",
    "from dynamic_programming.opinion_dynamics.algo_infinite_horizon import value_iteration, extract_policy, create_state_grid\n",
    "from dynamic_programming.opinion_dynamics.common.viz import plot_opinions_over_time, visualize_policy_from_env\n"
   ]
  },
  {
   "cell_type": "code",
   "execution_count": 3,
   "metadata": {},
   "outputs": [],
   "source": [
    "\n",
    "def run_policy(env, policy, nx, step_duration, max_steps=1000):\n",
    "    \"\"\"\n",
    "    Run the simulation using a given policy with a maximum number of steps.\n",
    "\n",
    "    Args:\n",
    "        env: The environment with network properties.\n",
    "        policy: The control policy to be used.\n",
    "        nx: Number of grid points per dimension (used for mapping states to grid indices).\n",
    "        step_duration: Duration of each policy application.\n",
    "        tolerance: Tolerance for the mean opinion to stop the simulation.\n",
    "        max_steps: Maximum number of steps to run.\n",
    "\n",
    "    Returns:\n",
    "        opinions_over_time: Array of opinions over the entire simulation.\n",
    "        time_points: Corresponding time points for each opinion snapshot.\n",
    "        rewards_over_time: Collected rewards at each step.\n",
    "    \"\"\"\n",
    "    N = env.num_agents\n",
    "    opinions_over_time = []\n",
    "    time_points = []\n",
    "    rewards_over_time = []\n",
    "    current_time = 0.0\n",
    "    state, _ = env.reset()\n",
    "    grids = create_state_grid(N, nx)\n",
    "\n",
    "    for step in range(max_steps):\n",
    "        idx = tuple(np.abs(grids[i] - state[i]).argmin() for i in range(N))\n",
    "        action = policy.get(idx, np.zeros(N))\n",
    "        \n",
    "        print(action)\n",
    "        next_state, reward, done, truncated, _ = env.step(action, env.tau)\n",
    "        \n",
    "        opinions_over_time.append(next_state.copy())\n",
    "        rewards_over_time.append(reward)\n",
    "        time_points.append(current_time)\n",
    "        # print(f\"Step: {step}, Time: {current_time}, Reward: {reward}\")\n",
    "        \n",
    "        current_time += step_duration\n",
    "        state = next_state\n",
    "\n",
    "        if done or truncated:\n",
    "            print(f\"Ran for {step} steps: done={done}, truncated={truncated}\")\n",
    "            break\n",
    "        \n",
    "    return np.array(opinions_over_time), np.array(time_points), np.array(rewards_over_time)\n"
   ]
  },
  {
   "cell_type": "code",
   "execution_count": 4,
   "metadata": {},
   "outputs": [],
   "source": [
    "# env = build_environment()\n",
    "# num_steps = 50\n",
    "# nx = 2\n",
    "\n",
    "# policy_broadcast = generate_full_control_policy(env, nx)\n",
    "\n",
    "# opinions_over_time, time_points, rewards = run_policy(env, policy_broadcast, nx=nx, step_duration=env.tau, max_steps=num_steps)\n",
    "# plot_opinions_over_time(opinions_over_time)"
   ]
  },
  {
   "cell_type": "code",
   "execution_count": null,
   "metadata": {},
   "outputs": [],
   "source": [
    "env = build_environment()\n",
    "\n",
    "# Adjusted parameters\n",
    "beta = 0.4\n",
    "gamma = 0.9\n",
    "step_duration = env.tau\n",
    "nx = 5 \n",
    "\n",
    "V = value_iteration(env, nx=nx, gamma=gamma, beta=beta, step_duration=step_duration)\n",
    "policy = extract_policy(\n",
    "    env, V, nx=nx, gamma=gamma, beta=beta, step_duration=step_duration\n",
    ")\n",
    "    "
   ]
  },
  {
   "cell_type": "code",
   "execution_count": null,
   "metadata": {},
   "outputs": [],
   "source": [
    "for node_index in range(env.num_agents):\n",
    "    visualize_policy_from_env(policy, env, nx=nx, node_index=node_index)"
   ]
  },
  {
   "cell_type": "code",
   "execution_count": null,
   "metadata": {},
   "outputs": [],
   "source": []
  }
 ],
 "metadata": {
  "kernelspec": {
   "display_name": "phd_rl_algos",
   "language": "python",
   "name": "python3"
  },
  "language_info": {
   "codemirror_mode": {
    "name": "ipython",
    "version": 3
   },
   "file_extension": ".py",
   "mimetype": "text/x-python",
   "name": "python",
   "nbconvert_exporter": "python",
   "pygments_lexer": "ipython3",
   "version": "3.11.5"
  }
 },
 "nbformat": 4,
 "nbformat_minor": 2
}
